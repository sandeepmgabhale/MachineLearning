{
 "cells": [
  {
   "cell_type": "markdown",
   "id": "edbc1857",
   "metadata": {},
   "source": [
    "# World Happiness Report"
   ]
  },
  {
   "cell_type": "markdown",
   "id": "e865182b",
   "metadata": {},
   "source": [
    "# Porblem Statement"
   ]
  },
  {
   "cell_type": "markdown",
   "id": "6fde2b12",
   "metadata": {},
   "source": [
    "Context\n",
    "\n",
    "The World Happiness Report is a landmark survey of the state of global happiness. The first report was published in 2012, the second in 2013, the third in 2015, and the fourth in the 2016 Update. The World Happiness 2017, which ranks 155 countries by their happiness levels, was released at the United Nations at an event celebrating International Day of Happiness on March 20th. The report continues to gain global recognition as governments, organizations and civil society increasingly use happiness indicators to inform their policy-making decisions. Leading experts across fields – economics, psychology, survey analysis, national statistics, health, public policy and more – describe how measurements of well-being can be used effectively to assess the progress of nations. The reports review the state of happiness in the world today and show how the new science of happiness explains personal and national variations in happiness.\n",
    "\n",
    "What is Dystopia?\n",
    "\n",
    "Dystopia is an imaginary country that has the world’s least-happy people. The purpose in establishing Dystopia is to have a benchmark against which all countries can be favorably compared (no country performs more poorly than Dystopia) in terms of each of the six key variables, thus allowing each sub-bar to be of positive width. The lowest scores observed for the six key variables, therefore, characterize Dystopia. Since life would be very unpleasant in a country with the world’s lowest incomes, lowest life expectancy, lowest generosity, most corruption, least freedom and least social support, it is referred to as “Dystopia,” in contrast to Utopia.\n",
    "\n",
    "What are the residuals?\n",
    "\n",
    "The residuals, or unexplained components, differ for each country, reflecting the extent to which the six variables either over- or under-explain average life evaluations. These residuals have an average value of approximately zero over the whole set of countries. \n",
    "\n",
    "What do the columns succeeding the Happiness Score(like Family, Generosity, etc.) describe?\n",
    "\n",
    "The following columns: GDP per Capita, Family, Life Expectancy, Freedom, Generosity, Trust Government Corruption describe the extent to which these factors contribute in evaluating the happiness in each country.\n",
    "The Dystopia Residual metric actually is the Dystopia Happiness Score(1.85) + the Residual value or the unexplained value for each country.\n",
    "\n",
    "The Dystopia Residual is already provided in the dataset. \n",
    "\n",
    "If you add all these factors up, you get the happiness score so it might be un-reliable to model them to predict Happiness Scores.\n",
    "\n",
    "You need to predict the happiness score considering all the other factors mentioned in the dataset. "
   ]
  },
  {
   "cell_type": "code",
   "execution_count": 1,
   "id": "44841d7e",
   "metadata": {},
   "outputs": [],
   "source": [
    "import numpy as np\n",
    "import pandas as pd\n",
    "\n",
    "import matplotlib.pyplot as plt\n",
    "import seaborn as sns\n",
    "from sklearn.model_selection import train_test_split\n",
    "\n",
    "from sklearn import datasets, metrics\n",
    "from sklearn.metrics import mean_squared_error\n",
    "from sklearn.linear_model import LinearRegression\n",
    "from sklearn.model_selection import cross_val_score\n",
    "import warnings\n",
    "warnings.filterwarnings('ignore')"
   ]
  },
  {
   "cell_type": "code",
   "execution_count": 2,
   "id": "934dcde9",
   "metadata": {},
   "outputs": [
    {
     "data": {
      "text/html": [
       "<div>\n",
       "<style scoped>\n",
       "    .dataframe tbody tr th:only-of-type {\n",
       "        vertical-align: middle;\n",
       "    }\n",
       "\n",
       "    .dataframe tbody tr th {\n",
       "        vertical-align: top;\n",
       "    }\n",
       "\n",
       "    .dataframe thead th {\n",
       "        text-align: right;\n",
       "    }\n",
       "</style>\n",
       "<table border=\"1\" class=\"dataframe\">\n",
       "  <thead>\n",
       "    <tr style=\"text-align: right;\">\n",
       "      <th></th>\n",
       "      <th>Country</th>\n",
       "      <th>Region</th>\n",
       "      <th>Happiness Rank</th>\n",
       "      <th>Happiness Score</th>\n",
       "      <th>Standard Error</th>\n",
       "      <th>Economy (GDP per Capita)</th>\n",
       "      <th>Family</th>\n",
       "      <th>Health (Life Expectancy)</th>\n",
       "      <th>Freedom</th>\n",
       "      <th>Trust (Government Corruption)</th>\n",
       "      <th>Generosity</th>\n",
       "      <th>Dystopia Residual</th>\n",
       "    </tr>\n",
       "  </thead>\n",
       "  <tbody>\n",
       "    <tr>\n",
       "      <th>0</th>\n",
       "      <td>Switzerland</td>\n",
       "      <td>Western Europe</td>\n",
       "      <td>1</td>\n",
       "      <td>7.587</td>\n",
       "      <td>0.03411</td>\n",
       "      <td>1.39651</td>\n",
       "      <td>1.34951</td>\n",
       "      <td>0.94143</td>\n",
       "      <td>0.66557</td>\n",
       "      <td>0.41978</td>\n",
       "      <td>0.29678</td>\n",
       "      <td>2.51738</td>\n",
       "    </tr>\n",
       "    <tr>\n",
       "      <th>1</th>\n",
       "      <td>Iceland</td>\n",
       "      <td>Western Europe</td>\n",
       "      <td>2</td>\n",
       "      <td>7.561</td>\n",
       "      <td>0.04884</td>\n",
       "      <td>1.30232</td>\n",
       "      <td>1.40223</td>\n",
       "      <td>0.94784</td>\n",
       "      <td>0.62877</td>\n",
       "      <td>0.14145</td>\n",
       "      <td>0.43630</td>\n",
       "      <td>2.70201</td>\n",
       "    </tr>\n",
       "    <tr>\n",
       "      <th>2</th>\n",
       "      <td>Denmark</td>\n",
       "      <td>Western Europe</td>\n",
       "      <td>3</td>\n",
       "      <td>7.527</td>\n",
       "      <td>0.03328</td>\n",
       "      <td>1.32548</td>\n",
       "      <td>1.36058</td>\n",
       "      <td>0.87464</td>\n",
       "      <td>0.64938</td>\n",
       "      <td>0.48357</td>\n",
       "      <td>0.34139</td>\n",
       "      <td>2.49204</td>\n",
       "    </tr>\n",
       "    <tr>\n",
       "      <th>3</th>\n",
       "      <td>Norway</td>\n",
       "      <td>Western Europe</td>\n",
       "      <td>4</td>\n",
       "      <td>7.522</td>\n",
       "      <td>0.03880</td>\n",
       "      <td>1.45900</td>\n",
       "      <td>1.33095</td>\n",
       "      <td>0.88521</td>\n",
       "      <td>0.66973</td>\n",
       "      <td>0.36503</td>\n",
       "      <td>0.34699</td>\n",
       "      <td>2.46531</td>\n",
       "    </tr>\n",
       "    <tr>\n",
       "      <th>4</th>\n",
       "      <td>Canada</td>\n",
       "      <td>North America</td>\n",
       "      <td>5</td>\n",
       "      <td>7.427</td>\n",
       "      <td>0.03553</td>\n",
       "      <td>1.32629</td>\n",
       "      <td>1.32261</td>\n",
       "      <td>0.90563</td>\n",
       "      <td>0.63297</td>\n",
       "      <td>0.32957</td>\n",
       "      <td>0.45811</td>\n",
       "      <td>2.45176</td>\n",
       "    </tr>\n",
       "  </tbody>\n",
       "</table>\n",
       "</div>"
      ],
      "text/plain": [
       "       Country          Region  Happiness Rank  Happiness Score  \\\n",
       "0  Switzerland  Western Europe               1            7.587   \n",
       "1      Iceland  Western Europe               2            7.561   \n",
       "2      Denmark  Western Europe               3            7.527   \n",
       "3       Norway  Western Europe               4            7.522   \n",
       "4       Canada   North America               5            7.427   \n",
       "\n",
       "   Standard Error  Economy (GDP per Capita)   Family  \\\n",
       "0         0.03411                   1.39651  1.34951   \n",
       "1         0.04884                   1.30232  1.40223   \n",
       "2         0.03328                   1.32548  1.36058   \n",
       "3         0.03880                   1.45900  1.33095   \n",
       "4         0.03553                   1.32629  1.32261   \n",
       "\n",
       "   Health (Life Expectancy)  Freedom  Trust (Government Corruption)  \\\n",
       "0                   0.94143  0.66557                        0.41978   \n",
       "1                   0.94784  0.62877                        0.14145   \n",
       "2                   0.87464  0.64938                        0.48357   \n",
       "3                   0.88521  0.66973                        0.36503   \n",
       "4                   0.90563  0.63297                        0.32957   \n",
       "\n",
       "   Generosity  Dystopia Residual  \n",
       "0     0.29678            2.51738  \n",
       "1     0.43630            2.70201  \n",
       "2     0.34139            2.49204  \n",
       "3     0.34699            2.46531  \n",
       "4     0.45811            2.45176  "
      ]
     },
     "execution_count": 2,
     "metadata": {},
     "output_type": "execute_result"
    }
   ],
   "source": [
    "df=pd.read_csv(\"https://raw.githubusercontent.com/dsrscientist/DSData/master/happiness_score_dataset.csv\")\n",
    "df.head(5)"
   ]
  },
  {
   "cell_type": "code",
   "execution_count": 4,
   "id": "1e634edb",
   "metadata": {},
   "outputs": [
    {
     "name": "stdout",
     "output_type": "stream",
     "text": [
      "<class 'pandas.core.frame.DataFrame'>\n",
      "RangeIndex: 158 entries, 0 to 157\n",
      "Data columns (total 12 columns):\n",
      " #   Column                         Non-Null Count  Dtype  \n",
      "---  ------                         --------------  -----  \n",
      " 0   Country                        158 non-null    object \n",
      " 1   Region                         158 non-null    object \n",
      " 2   Happiness Rank                 158 non-null    int64  \n",
      " 3   Happiness Score                158 non-null    float64\n",
      " 4   Standard Error                 158 non-null    float64\n",
      " 5   Economy (GDP per Capita)       158 non-null    float64\n",
      " 6   Family                         158 non-null    float64\n",
      " 7   Health (Life Expectancy)       158 non-null    float64\n",
      " 8   Freedom                        158 non-null    float64\n",
      " 9   Trust (Government Corruption)  158 non-null    float64\n",
      " 10  Generosity                     158 non-null    float64\n",
      " 11  Dystopia Residual              158 non-null    float64\n",
      "dtypes: float64(9), int64(1), object(2)\n",
      "memory usage: 14.9+ KB\n"
     ]
    }
   ],
   "source": [
    "df.info()"
   ]
  },
  {
   "cell_type": "code",
   "execution_count": 5,
   "id": "96f1b586",
   "metadata": {},
   "outputs": [
    {
     "data": {
      "text/html": [
       "<div>\n",
       "<style scoped>\n",
       "    .dataframe tbody tr th:only-of-type {\n",
       "        vertical-align: middle;\n",
       "    }\n",
       "\n",
       "    .dataframe tbody tr th {\n",
       "        vertical-align: top;\n",
       "    }\n",
       "\n",
       "    .dataframe thead th {\n",
       "        text-align: right;\n",
       "    }\n",
       "</style>\n",
       "<table border=\"1\" class=\"dataframe\">\n",
       "  <thead>\n",
       "    <tr style=\"text-align: right;\">\n",
       "      <th></th>\n",
       "      <th>Happiness Rank</th>\n",
       "      <th>Happiness Score</th>\n",
       "      <th>Standard Error</th>\n",
       "      <th>Economy (GDP per Capita)</th>\n",
       "      <th>Family</th>\n",
       "      <th>Health (Life Expectancy)</th>\n",
       "      <th>Freedom</th>\n",
       "      <th>Trust (Government Corruption)</th>\n",
       "      <th>Generosity</th>\n",
       "      <th>Dystopia Residual</th>\n",
       "    </tr>\n",
       "  </thead>\n",
       "  <tbody>\n",
       "    <tr>\n",
       "      <th>count</th>\n",
       "      <td>158.000000</td>\n",
       "      <td>158.000000</td>\n",
       "      <td>158.000000</td>\n",
       "      <td>158.000000</td>\n",
       "      <td>158.000000</td>\n",
       "      <td>158.000000</td>\n",
       "      <td>158.000000</td>\n",
       "      <td>158.000000</td>\n",
       "      <td>158.000000</td>\n",
       "      <td>158.000000</td>\n",
       "    </tr>\n",
       "    <tr>\n",
       "      <th>mean</th>\n",
       "      <td>79.493671</td>\n",
       "      <td>5.375734</td>\n",
       "      <td>0.047885</td>\n",
       "      <td>0.846137</td>\n",
       "      <td>0.991046</td>\n",
       "      <td>0.630259</td>\n",
       "      <td>0.428615</td>\n",
       "      <td>0.143422</td>\n",
       "      <td>0.237296</td>\n",
       "      <td>2.098977</td>\n",
       "    </tr>\n",
       "    <tr>\n",
       "      <th>std</th>\n",
       "      <td>45.754363</td>\n",
       "      <td>1.145010</td>\n",
       "      <td>0.017146</td>\n",
       "      <td>0.403121</td>\n",
       "      <td>0.272369</td>\n",
       "      <td>0.247078</td>\n",
       "      <td>0.150693</td>\n",
       "      <td>0.120034</td>\n",
       "      <td>0.126685</td>\n",
       "      <td>0.553550</td>\n",
       "    </tr>\n",
       "    <tr>\n",
       "      <th>min</th>\n",
       "      <td>1.000000</td>\n",
       "      <td>2.839000</td>\n",
       "      <td>0.018480</td>\n",
       "      <td>0.000000</td>\n",
       "      <td>0.000000</td>\n",
       "      <td>0.000000</td>\n",
       "      <td>0.000000</td>\n",
       "      <td>0.000000</td>\n",
       "      <td>0.000000</td>\n",
       "      <td>0.328580</td>\n",
       "    </tr>\n",
       "    <tr>\n",
       "      <th>25%</th>\n",
       "      <td>40.250000</td>\n",
       "      <td>4.526000</td>\n",
       "      <td>0.037268</td>\n",
       "      <td>0.545808</td>\n",
       "      <td>0.856823</td>\n",
       "      <td>0.439185</td>\n",
       "      <td>0.328330</td>\n",
       "      <td>0.061675</td>\n",
       "      <td>0.150553</td>\n",
       "      <td>1.759410</td>\n",
       "    </tr>\n",
       "    <tr>\n",
       "      <th>50%</th>\n",
       "      <td>79.500000</td>\n",
       "      <td>5.232500</td>\n",
       "      <td>0.043940</td>\n",
       "      <td>0.910245</td>\n",
       "      <td>1.029510</td>\n",
       "      <td>0.696705</td>\n",
       "      <td>0.435515</td>\n",
       "      <td>0.107220</td>\n",
       "      <td>0.216130</td>\n",
       "      <td>2.095415</td>\n",
       "    </tr>\n",
       "    <tr>\n",
       "      <th>75%</th>\n",
       "      <td>118.750000</td>\n",
       "      <td>6.243750</td>\n",
       "      <td>0.052300</td>\n",
       "      <td>1.158448</td>\n",
       "      <td>1.214405</td>\n",
       "      <td>0.811013</td>\n",
       "      <td>0.549092</td>\n",
       "      <td>0.180255</td>\n",
       "      <td>0.309883</td>\n",
       "      <td>2.462415</td>\n",
       "    </tr>\n",
       "    <tr>\n",
       "      <th>max</th>\n",
       "      <td>158.000000</td>\n",
       "      <td>7.587000</td>\n",
       "      <td>0.136930</td>\n",
       "      <td>1.690420</td>\n",
       "      <td>1.402230</td>\n",
       "      <td>1.025250</td>\n",
       "      <td>0.669730</td>\n",
       "      <td>0.551910</td>\n",
       "      <td>0.795880</td>\n",
       "      <td>3.602140</td>\n",
       "    </tr>\n",
       "  </tbody>\n",
       "</table>\n",
       "</div>"
      ],
      "text/plain": [
       "       Happiness Rank  Happiness Score  Standard Error  \\\n",
       "count      158.000000       158.000000      158.000000   \n",
       "mean        79.493671         5.375734        0.047885   \n",
       "std         45.754363         1.145010        0.017146   \n",
       "min          1.000000         2.839000        0.018480   \n",
       "25%         40.250000         4.526000        0.037268   \n",
       "50%         79.500000         5.232500        0.043940   \n",
       "75%        118.750000         6.243750        0.052300   \n",
       "max        158.000000         7.587000        0.136930   \n",
       "\n",
       "       Economy (GDP per Capita)      Family  Health (Life Expectancy)  \\\n",
       "count                158.000000  158.000000                158.000000   \n",
       "mean                   0.846137    0.991046                  0.630259   \n",
       "std                    0.403121    0.272369                  0.247078   \n",
       "min                    0.000000    0.000000                  0.000000   \n",
       "25%                    0.545808    0.856823                  0.439185   \n",
       "50%                    0.910245    1.029510                  0.696705   \n",
       "75%                    1.158448    1.214405                  0.811013   \n",
       "max                    1.690420    1.402230                  1.025250   \n",
       "\n",
       "          Freedom  Trust (Government Corruption)  Generosity  \\\n",
       "count  158.000000                     158.000000  158.000000   \n",
       "mean     0.428615                       0.143422    0.237296   \n",
       "std      0.150693                       0.120034    0.126685   \n",
       "min      0.000000                       0.000000    0.000000   \n",
       "25%      0.328330                       0.061675    0.150553   \n",
       "50%      0.435515                       0.107220    0.216130   \n",
       "75%      0.549092                       0.180255    0.309883   \n",
       "max      0.669730                       0.551910    0.795880   \n",
       "\n",
       "       Dystopia Residual  \n",
       "count         158.000000  \n",
       "mean            2.098977  \n",
       "std             0.553550  \n",
       "min             0.328580  \n",
       "25%             1.759410  \n",
       "50%             2.095415  \n",
       "75%             2.462415  \n",
       "max             3.602140  "
      ]
     },
     "execution_count": 5,
     "metadata": {},
     "output_type": "execute_result"
    }
   ],
   "source": [
    "df.describe()"
   ]
  },
  {
   "cell_type": "markdown",
   "id": "6b014a05",
   "metadata": {},
   "source": [
    "From the data above, we analyse that Happiness Score varies from 2.839 to 7.587 and Standard Error doesnot contribute much as it varies between 0.01848 to 0.136930"
   ]
  },
  {
   "cell_type": "markdown",
   "id": "56816de4",
   "metadata": {},
   "source": [
    "Columns which describes the extent to which these factors contribute in evaluating the happiness in each country is below:\n",
    "\n",
    "    GDP per Capita, Family, Life Expectancy, Freedom, Generosity, Trust Government Corruption\n",
    "\n",
    "Also Dystopia Residual is the unexplained value for each country.\n",
    "\n",
    "So we can succesfully remove Region,Standard Error and Dystopia Residual."
   ]
  },
  {
   "cell_type": "code",
   "execution_count": 6,
   "id": "98395579",
   "metadata": {},
   "outputs": [
    {
     "data": {
      "text/plain": [
       "0      2.51738\n",
       "1      2.70201\n",
       "2      2.49204\n",
       "3      2.46531\n",
       "4      2.45176\n",
       "        ...   \n",
       "153    0.67042\n",
       "154    1.63328\n",
       "155    0.32858\n",
       "156    1.83302\n",
       "157    1.56726\n",
       "Name: Dystopia Residual, Length: 158, dtype: float64"
      ]
     },
     "execution_count": 6,
     "metadata": {},
     "output_type": "execute_result"
    }
   ],
   "source": [
    "dystopia=df['Dystopia Residual']\n",
    "dystopia"
   ]
  },
  {
   "cell_type": "code",
   "execution_count": 7,
   "id": "429cd36f",
   "metadata": {},
   "outputs": [
    {
     "data": {
      "text/plain": [
       "0      0.03411\n",
       "1      0.04884\n",
       "2      0.03328\n",
       "3      0.03880\n",
       "4      0.03553\n",
       "        ...   \n",
       "153    0.03464\n",
       "154    0.03656\n",
       "155    0.05015\n",
       "156    0.08658\n",
       "157    0.06727\n",
       "Name: Standard Error, Length: 158, dtype: float64"
      ]
     },
     "execution_count": 7,
     "metadata": {},
     "output_type": "execute_result"
    }
   ],
   "source": [
    "standardError=df['Standard Error']\n",
    "standardError"
   ]
  },
  {
   "cell_type": "code",
   "execution_count": 8,
   "id": "12ef7aad",
   "metadata": {},
   "outputs": [],
   "source": [
    "df.drop(['Region','Standard Error', 'Dystopia Residual'],axis=1,inplace=True)"
   ]
  },
  {
   "cell_type": "code",
   "execution_count": 9,
   "id": "bbda9f93",
   "metadata": {},
   "outputs": [
    {
     "data": {
      "text/html": [
       "<div>\n",
       "<style scoped>\n",
       "    .dataframe tbody tr th:only-of-type {\n",
       "        vertical-align: middle;\n",
       "    }\n",
       "\n",
       "    .dataframe tbody tr th {\n",
       "        vertical-align: top;\n",
       "    }\n",
       "\n",
       "    .dataframe thead th {\n",
       "        text-align: right;\n",
       "    }\n",
       "</style>\n",
       "<table border=\"1\" class=\"dataframe\">\n",
       "  <thead>\n",
       "    <tr style=\"text-align: right;\">\n",
       "      <th></th>\n",
       "      <th>Country</th>\n",
       "      <th>Happiness Rank</th>\n",
       "      <th>Happiness Score</th>\n",
       "      <th>Economy (GDP per Capita)</th>\n",
       "      <th>Family</th>\n",
       "      <th>Health (Life Expectancy)</th>\n",
       "      <th>Freedom</th>\n",
       "      <th>Trust (Government Corruption)</th>\n",
       "      <th>Generosity</th>\n",
       "    </tr>\n",
       "  </thead>\n",
       "  <tbody>\n",
       "    <tr>\n",
       "      <th>0</th>\n",
       "      <td>Switzerland</td>\n",
       "      <td>1</td>\n",
       "      <td>7.587</td>\n",
       "      <td>1.39651</td>\n",
       "      <td>1.34951</td>\n",
       "      <td>0.94143</td>\n",
       "      <td>0.66557</td>\n",
       "      <td>0.41978</td>\n",
       "      <td>0.29678</td>\n",
       "    </tr>\n",
       "    <tr>\n",
       "      <th>1</th>\n",
       "      <td>Iceland</td>\n",
       "      <td>2</td>\n",
       "      <td>7.561</td>\n",
       "      <td>1.30232</td>\n",
       "      <td>1.40223</td>\n",
       "      <td>0.94784</td>\n",
       "      <td>0.62877</td>\n",
       "      <td>0.14145</td>\n",
       "      <td>0.43630</td>\n",
       "    </tr>\n",
       "    <tr>\n",
       "      <th>2</th>\n",
       "      <td>Denmark</td>\n",
       "      <td>3</td>\n",
       "      <td>7.527</td>\n",
       "      <td>1.32548</td>\n",
       "      <td>1.36058</td>\n",
       "      <td>0.87464</td>\n",
       "      <td>0.64938</td>\n",
       "      <td>0.48357</td>\n",
       "      <td>0.34139</td>\n",
       "    </tr>\n",
       "    <tr>\n",
       "      <th>3</th>\n",
       "      <td>Norway</td>\n",
       "      <td>4</td>\n",
       "      <td>7.522</td>\n",
       "      <td>1.45900</td>\n",
       "      <td>1.33095</td>\n",
       "      <td>0.88521</td>\n",
       "      <td>0.66973</td>\n",
       "      <td>0.36503</td>\n",
       "      <td>0.34699</td>\n",
       "    </tr>\n",
       "    <tr>\n",
       "      <th>4</th>\n",
       "      <td>Canada</td>\n",
       "      <td>5</td>\n",
       "      <td>7.427</td>\n",
       "      <td>1.32629</td>\n",
       "      <td>1.32261</td>\n",
       "      <td>0.90563</td>\n",
       "      <td>0.63297</td>\n",
       "      <td>0.32957</td>\n",
       "      <td>0.45811</td>\n",
       "    </tr>\n",
       "  </tbody>\n",
       "</table>\n",
       "</div>"
      ],
      "text/plain": [
       "       Country  Happiness Rank  Happiness Score  Economy (GDP per Capita)  \\\n",
       "0  Switzerland               1            7.587                   1.39651   \n",
       "1      Iceland               2            7.561                   1.30232   \n",
       "2      Denmark               3            7.527                   1.32548   \n",
       "3       Norway               4            7.522                   1.45900   \n",
       "4       Canada               5            7.427                   1.32629   \n",
       "\n",
       "    Family  Health (Life Expectancy)  Freedom  Trust (Government Corruption)  \\\n",
       "0  1.34951                   0.94143  0.66557                        0.41978   \n",
       "1  1.40223                   0.94784  0.62877                        0.14145   \n",
       "2  1.36058                   0.87464  0.64938                        0.48357   \n",
       "3  1.33095                   0.88521  0.66973                        0.36503   \n",
       "4  1.32261                   0.90563  0.63297                        0.32957   \n",
       "\n",
       "   Generosity  \n",
       "0     0.29678  \n",
       "1     0.43630  \n",
       "2     0.34139  \n",
       "3     0.34699  \n",
       "4     0.45811  "
      ]
     },
     "execution_count": 9,
     "metadata": {},
     "output_type": "execute_result"
    }
   ],
   "source": [
    "df.head(5)"
   ]
  },
  {
   "cell_type": "markdown",
   "id": "968712ba",
   "metadata": {},
   "source": [
    "So we have successfully removed the columns as shown above"
   ]
  },
  {
   "cell_type": "code",
   "execution_count": 10,
   "id": "9b7582cd",
   "metadata": {},
   "outputs": [
    {
     "data": {
      "text/plain": [
       "Country                          0\n",
       "Happiness Rank                   0\n",
       "Happiness Score                  0\n",
       "Economy (GDP per Capita)         0\n",
       "Family                           0\n",
       "Health (Life Expectancy)         0\n",
       "Freedom                          0\n",
       "Trust (Government Corruption)    0\n",
       "Generosity                       0\n",
       "dtype: int64"
      ]
     },
     "execution_count": 10,
     "metadata": {},
     "output_type": "execute_result"
    }
   ],
   "source": [
    "#Lets check if we have empty values or not\n",
    "df.isnull().sum()"
   ]
  },
  {
   "cell_type": "markdown",
   "id": "be69941c",
   "metadata": {},
   "source": [
    "We have no empty values in our dataset"
   ]
  },
  {
   "cell_type": "markdown",
   "id": "b6a0b530",
   "metadata": {},
   "source": [
    "# Visualize all the features"
   ]
  },
  {
   "cell_type": "markdown",
   "id": "21f0de3f",
   "metadata": {},
   "source": [
    "# HeatMap"
   ]
  },
  {
   "cell_type": "code",
   "execution_count": 11,
   "id": "ba0996f1",
   "metadata": {},
   "outputs": [
    {
     "data": {
      "text/plain": [
       "<AxesSubplot:>"
      ]
     },
     "execution_count": 11,
     "metadata": {},
     "output_type": "execute_result"
    },
    {
     "data": {
      "image/png": "[encoded data removed]",
      "text/plain": [
       "<Figure size 360x360 with 2 Axes>"
      ]
     },
     "metadata": {
      "needs_background": "light"
     },
     "output_type": "display_data"
    }
   ],
   "source": [
    "plt.figure(figsize = (5,5))\n",
    "sns.heatmap(df.corr(), annot = True)"
   ]
  },
  {
   "cell_type": "markdown",
   "id": "13df276e",
   "metadata": {},
   "source": [
    "It looks like Economy (GDP per Capita), Health, and Family are strongly correlated with the Happiness score. Freedom correlates quite well with the Happiness score; however, Freedom connects quite well with almost all the data. \n",
    "\n",
    "Corruption still has a mediocre correlation with the Happiness score."
   ]
  },
  {
   "cell_type": "code",
   "execution_count": 12,
   "id": "fa8d673f",
   "metadata": {},
   "outputs": [
    {
     "data": {
      "text/html": [
       "<div>\n",
       "<style scoped>\n",
       "    .dataframe tbody tr th:only-of-type {\n",
       "        vertical-align: middle;\n",
       "    }\n",
       "\n",
       "    .dataframe tbody tr th {\n",
       "        vertical-align: top;\n",
       "    }\n",
       "\n",
       "    .dataframe thead th {\n",
       "        text-align: right;\n",
       "    }\n",
       "</style>\n",
       "<table border=\"1\" class=\"dataframe\">\n",
       "  <thead>\n",
       "    <tr style=\"text-align: right;\">\n",
       "      <th></th>\n",
       "      <th>Happiness Score</th>\n",
       "      <th>Economy (GDP per Capita)</th>\n",
       "      <th>Family</th>\n",
       "      <th>Health (Life Expectancy)</th>\n",
       "      <th>Freedom</th>\n",
       "      <th>Trust (Government Corruption)</th>\n",
       "      <th>Generosity</th>\n",
       "    </tr>\n",
       "  </thead>\n",
       "  <tbody>\n",
       "    <tr>\n",
       "      <th>0</th>\n",
       "      <td>7.587</td>\n",
       "      <td>1.39651</td>\n",
       "      <td>1.34951</td>\n",
       "      <td>0.94143</td>\n",
       "      <td>0.66557</td>\n",
       "      <td>0.41978</td>\n",
       "      <td>0.29678</td>\n",
       "    </tr>\n",
       "    <tr>\n",
       "      <th>1</th>\n",
       "      <td>7.561</td>\n",
       "      <td>1.30232</td>\n",
       "      <td>1.40223</td>\n",
       "      <td>0.94784</td>\n",
       "      <td>0.62877</td>\n",
       "      <td>0.14145</td>\n",
       "      <td>0.43630</td>\n",
       "    </tr>\n",
       "  </tbody>\n",
       "</table>\n",
       "</div>"
      ],
      "text/plain": [
       "   Happiness Score  Economy (GDP per Capita)   Family  \\\n",
       "0            7.587                   1.39651  1.34951   \n",
       "1            7.561                   1.30232  1.40223   \n",
       "\n",
       "   Health (Life Expectancy)  Freedom  Trust (Government Corruption)  \\\n",
       "0                   0.94143  0.66557                        0.41978   \n",
       "1                   0.94784  0.62877                        0.14145   \n",
       "\n",
       "   Generosity  \n",
       "0     0.29678  \n",
       "1     0.43630  "
      ]
     },
     "execution_count": 12,
     "metadata": {},
     "output_type": "execute_result"
    }
   ],
   "source": [
    "columns_toPlot = ['Happiness Score','Economy (GDP per Capita)','Family','Health (Life Expectancy)','Freedom','Trust (Government Corruption)','Generosity']\n",
    "dataToPlot=df[columns_toPlot]\n",
    "dataToPlot.head(2)"
   ]
  },
  {
   "cell_type": "code",
   "execution_count": 13,
   "id": "e376dae8",
   "metadata": {
    "scrolled": true
   },
   "outputs": [
    {
     "data": {
      "image/png": "[encoded data removed]",
      "text/plain": [
       "<Figure size 936x576 with 7 Axes>"
      ]
     },
     "metadata": {},
     "output_type": "display_data"
    }
   ],
   "source": [
    "#Lets see data distribution\n",
    "plt.figure(figsize=(13,8),facecolor='orange')\n",
    "plotnumber=1\n",
    "\n",
    "for column in dataToPlot:\n",
    "    #print(column)\n",
    "    if plotnumber<=8:\n",
    "        ax=plt.subplot(2,4,plotnumber)\n",
    "        sns.distplot(dataToPlot[column])\n",
    "        plt.xlabel(column,fontsize=10)\n",
    "        \n",
    "    plotnumber+=1   \n",
    "    \n",
    "plt.tight_layout()"
   ]
  },
  {
   "cell_type": "markdown",
   "id": "0afdff6e",
   "metadata": {},
   "source": [
    "Now, since Happiness Rank and Country has nothing to do with the Happiness Score calculation as the other six parameters are used to calculated the Happiness score, we will drop them for plotting strip plot.\n",
    "\n",
    "Our Target Column i.e y is our Happiness Score. \n",
    "\n",
    "So lets drop and start visualizinf better further."
   ]
  },
  {
   "cell_type": "code",
   "execution_count": 14,
   "id": "edb0d5a0",
   "metadata": {},
   "outputs": [],
   "source": [
    "X=df.drop(columns=['Happiness Score','Country','Happiness Rank'])\n",
    "y=df['Happiness Score']\n"
   ]
  },
  {
   "cell_type": "code",
   "execution_count": 16,
   "id": "db813539",
   "metadata": {},
   "outputs": [
    {
     "data": {
      "text/html": [
       "<div>\n",
       "<style scoped>\n",
       "    .dataframe tbody tr th:only-of-type {\n",
       "        vertical-align: middle;\n",
       "    }\n",
       "\n",
       "    .dataframe tbody tr th {\n",
       "        vertical-align: top;\n",
       "    }\n",
       "\n",
       "    .dataframe thead th {\n",
       "        text-align: right;\n",
       "    }\n",
       "</style>\n",
       "<table border=\"1\" class=\"dataframe\">\n",
       "  <thead>\n",
       "    <tr style=\"text-align: right;\">\n",
       "      <th></th>\n",
       "      <th>Economy (GDP per Capita)</th>\n",
       "      <th>Family</th>\n",
       "      <th>Health (Life Expectancy)</th>\n",
       "      <th>Freedom</th>\n",
       "      <th>Trust (Government Corruption)</th>\n",
       "      <th>Generosity</th>\n",
       "    </tr>\n",
       "  </thead>\n",
       "  <tbody>\n",
       "    <tr>\n",
       "      <th>0</th>\n",
       "      <td>1.39651</td>\n",
       "      <td>1.34951</td>\n",
       "      <td>0.94143</td>\n",
       "      <td>0.66557</td>\n",
       "      <td>0.41978</td>\n",
       "      <td>0.29678</td>\n",
       "    </tr>\n",
       "  </tbody>\n",
       "</table>\n",
       "</div>"
      ],
      "text/plain": [
       "   Economy (GDP per Capita)   Family  Health (Life Expectancy)  Freedom  \\\n",
       "0                   1.39651  1.34951                   0.94143  0.66557   \n",
       "\n",
       "   Trust (Government Corruption)  Generosity  \n",
       "0                        0.41978     0.29678  "
      ]
     },
     "execution_count": 16,
     "metadata": {},
     "output_type": "execute_result"
    }
   ],
   "source": [
    "X.head(1)"
   ]
  },
  {
   "cell_type": "code",
   "execution_count": 18,
   "id": "08a77e1c",
   "metadata": {},
   "outputs": [
    {
     "data": {
      "text/plain": [
       "7.587"
      ]
     },
     "execution_count": 18,
     "metadata": {},
     "output_type": "execute_result"
    }
   ],
   "source": [
    "y[0]"
   ]
  },
  {
   "cell_type": "code",
   "execution_count": 19,
   "id": "f0cdf84c",
   "metadata": {},
   "outputs": [
    {
     "data": {
      "image/png": "[encoded data removed]",
      "text/plain": [
       "<Figure size 936x576 with 6 Axes>"
      ]
     },
     "metadata": {},
     "output_type": "display_data"
    }
   ],
   "source": [
    "plt.figure(figsize=(13,8),facecolor='orange')\n",
    "plotnumber=1\n",
    "\n",
    "for column in X:\n",
    "    if plotnumber<=6:\n",
    "        ax=plt.subplot(2,3,plotnumber)        \n",
    "        sns.scatterplot(y,X[column])\n",
    "        plt.ylabel(column,fontsize=10)\n",
    "        plt.xlabel('Happiness Score',fontsize=10)\n",
    "        \n",
    "    plotnumber+=1   \n",
    "    \n",
    "plt.tight_layout()"
   ]
  },
  {
   "cell_type": "markdown",
   "id": "882bebd6",
   "metadata": {},
   "source": [
    "# Outliers"
   ]
  },
  {
   "cell_type": "code",
   "execution_count": 20,
   "id": "89c7c153",
   "metadata": {},
   "outputs": [
    {
     "data": {
      "image/png": "[encoded data removed]",
      "text/plain": [
       "<Figure size 936x576 with 7 Axes>"
      ]
     },
     "metadata": {},
     "output_type": "display_data"
    }
   ],
   "source": [
    "#Lets see data distribution again\n",
    "plt.figure(figsize=(13,8),facecolor='orange')\n",
    "graph=1\n",
    "\n",
    "for column in dataToPlot:\n",
    "    \n",
    "    if graph<=8:\n",
    "        ax=plt.subplot(2,4,graph)        \n",
    "        sns.boxplot(dataToPlot[column])\n",
    "        plt.xlabel(column,fontsize=11)\n",
    "        \n",
    "    graph+=1   \n",
    "    \n",
    "plt.tight_layout()"
   ]
  },
  {
   "cell_type": "markdown",
   "id": "aa04ce10",
   "metadata": {},
   "source": [
    "# Analysis of our Visualization"
   ]
  },
  {
   "cell_type": "markdown",
   "id": "ca486372",
   "metadata": {},
   "source": [
    "It looks like Economy (GDP per Capita), Health, and Family are strongly correlated with the Happiness score. \n",
    "\n",
    "GDP Per Capita vaires from 0 to 1.690420, in the plots above it is clear that Happiness Score increases when GDP Per capita of the country Increases.\n",
    "\n",
    "Family : Family or the support from society, friends enhances the quality of life and provides a buffer against adverse life events.Here it varies between 0 to 1.402230, in the plots above it is clear that if it increases the Happiness Score increases\n",
    "\n",
    "Health (Life Expectancy) :Healthy Life Expectancy is the average number of years that a newborn can expect to live in \"full health\" which in laymen term we can say that it should not be hampered by disabling illnesses or injuries. Here it varies between 0 to 1.025250.In the plots above it is clear that if it increases the Happiness Score increases\n",
    "\n",
    "Freedom : Freedom varies from 0 to 0.669730.In the plots above it is clear that if it increases the Happiness Score increases. We see that Freedom connects quite well with almost all the data.\n",
    "\n",
    "Trust(Government Corruption) : Thsi value ranges from 0 to 0.551910.Corruption in the government or trust of the people in their Government is still a mediocre correlation with the Happiness score. It has good impact on Happiness Score but if it increases the values can rarely increase.\n",
    "\n",
    "Generosity : Generosity is the national average of response to the questions.It varies between 0 to 0.795880.It also contributes good in calculating the Happiness score."
   ]
  },
  {
   "cell_type": "markdown",
   "id": "5f1bfc71",
   "metadata": {},
   "source": [
    "# Linear Regression"
   ]
  },
  {
   "cell_type": "markdown",
   "id": "7ddd99c3",
   "metadata": {},
   "source": [
    "Linear regression analysis is used to predict the value of a variable based on the value of another variable. The variable we want to predict is called the dependent variable. The variable we are using to predict the other variable's value is called the independent variable.\n",
    "\n",
    "In short, Linear regression will refer to one independent variable to make a prediction. Multiple Linear regression will refer to multiple independent variables to make a prediction.\n",
    "\n",
    "Simple Linear Regression has one predictor(independent) variable x and target dependent variable (y). y=b0+b1X b0 is the intercept b1 is the slope When we fit and train the model these parameters are catched.\n",
    "\n",
    "Let us implement it below"
   ]
  },
  {
   "cell_type": "code",
   "execution_count": 21,
   "id": "c3ffaf89",
   "metadata": {},
   "outputs": [],
   "source": [
    "train_data, test_data = train_test_split(df, train_size = 0.8, random_state = 7)\n",
    "lr = LinearRegression()"
   ]
  },
  {
   "cell_type": "markdown",
   "id": "19a15632",
   "metadata": {},
   "source": [
    "Lets use GDP Per capita Income first to predict Happiness Score"
   ]
  },
  {
   "cell_type": "code",
   "execution_count": 22,
   "id": "60ae63d5",
   "metadata": {},
   "outputs": [
    {
     "data": {
      "text/plain": [
       "LinearRegression()"
      ]
     },
     "execution_count": 22,
     "metadata": {},
     "output_type": "execute_result"
    }
   ],
   "source": [
    "X_train = np.array(train_data['Economy (GDP per Capita)'],\n",
    "                   dtype = pd.Series).reshape(-1,1)\n",
    "y_train = np.array(train_data['Happiness Score'], dtype = pd.Series)\n",
    "lr.fit(X_train, y_train)"
   ]
  },
  {
   "cell_type": "code",
   "execution_count": 23,
   "id": "c04ecd57",
   "metadata": {},
   "outputs": [],
   "source": [
    "X_test = np.array(test_data['Economy (GDP per Capita)'], \n",
    "                    dtype = pd.Series).reshape(-1,1)\n",
    "y_test = np.array(test_data['Happiness Score'], dtype = pd.Series)\n",
    "\n",
    "pred = lr.predict(X_test)"
   ]
  },
  {
   "cell_type": "code",
   "execution_count": 24,
   "id": "f69ec379",
   "metadata": {},
   "outputs": [
    {
     "data": {
      "text/plain": [
       "0.7152"
      ]
     },
     "execution_count": 24,
     "metadata": {},
     "output_type": "execute_result"
    }
   ],
   "source": [
    "#Root Mean Squared Error\n",
    "#It shows how far predictions fall from measured true values using Euclidean distance\n",
    "rootMeanSqError = float(format(np.sqrt(metrics.mean_squared_error(y_test,pred)),'.4f'))\n",
    "rootMeanSqError"
   ]
  },
  {
   "cell_type": "code",
   "execution_count": 25,
   "id": "23c4131b",
   "metadata": {},
   "outputs": [
    {
     "data": {
      "text/plain": [
       "0.6227"
      ]
     },
     "execution_count": 25,
     "metadata": {},
     "output_type": "execute_result"
    }
   ],
   "source": [
    "#R-Squared (Training)\n",
    "#R-squared is a statistical measure that represents the goodness of fit of a regression model. \n",
    "#The ideal value for r-square is 1. \n",
    "#The closer the value of r-square to 1, the better is the model fitted\n",
    "rSquareTrain = float(format(lr.score(X_train, y_train),'.4f'))\n",
    "rSquareTrain"
   ]
  },
  {
   "cell_type": "code",
   "execution_count": 26,
   "id": "5eadf66a",
   "metadata": {},
   "outputs": [
    {
     "data": {
      "text/plain": [
       "0.531"
      ]
     },
     "execution_count": 26,
     "metadata": {},
     "output_type": "execute_result"
    }
   ],
   "source": [
    "#R-Squared (Test)\n",
    "rSquareTest = float(format(lr.score(X_test, y_test),'.4f'))\n",
    "rSquareTest"
   ]
  },
  {
   "cell_type": "code",
   "execution_count": 27,
   "id": "c801702c",
   "metadata": {},
   "outputs": [
    {
     "name": "stdout",
     "output_type": "stream",
     "text": [
      "Average Score for Test Data: 5.1891\n",
      "Intercept: 3.465359696813355\n",
      "Coefficient: [2.25417888]\n",
      "Happiness score =  3.4654 + [2.2542] * Economy (GDP per Capita)\n"
     ]
    }
   ],
   "source": [
    "print (\"Average Score for Test Data: {:.4f}\".format(y_test.mean()))\n",
    "print('Intercept: {}'.format(lr.intercept_))\n",
    "print('Coefficient: {}'.format(lr.coef_))\n",
    "print('Happiness score = ',np.round(lr.intercept_,4),\n",
    "      '+',np.round(lr.coef_,4),'* Economy (GDP per Capita)')"
   ]
  },
  {
   "cell_type": "markdown",
   "id": "1ba346e2",
   "metadata": {},
   "source": [
    "Now that Since we have just two dimensions at the simple regression, it is easy to draw it. The below chart determines the result of the simple regression."
   ]
  },
  {
   "cell_type": "code",
   "execution_count": 28,
   "id": "3dd7e020",
   "metadata": {},
   "outputs": [
    {
     "data": {
      "image/png": "[encoded data removed]",
      "text/plain": [
       "<Figure size 864x432 with 1 Axes>"
      ]
     },
     "metadata": {},
     "output_type": "display_data"
    }
   ],
   "source": [
    "sns.set_style(style='whitegrid')\n",
    "plt.figure(figsize=(12,6))\n",
    "plt.scatter(X_test,y_test,color='blue',label=\"Data\", s = 12)\n",
    "plt.plot(X_test,lr.predict(X_test),color=\"red\",label=\"Predicted Regression Line\")\n",
    "plt.xlabel(\"GDP per Captita\", fontsize=15)\n",
    "plt.ylabel(\"Happiness Score\", fontsize=15)\n",
    "plt.xticks(fontsize=13)\n",
    "plt.yticks(fontsize=13)\n",
    "plt.legend()\n",
    "plt.gca().spines['right'].set_visible(False)\n",
    "plt.gca().spines['top'].set_visible(False)"
   ]
  },
  {
   "cell_type": "markdown",
   "id": "6c8b245f",
   "metadata": {},
   "source": [
    "The relationship between GDP per capita(Economy of the country) has a strong positive correlation with Happiness Score, that is, if the GDP per capita of a country is higher than the Happiness Score of that country, it is also more likely to be high."
   ]
  },
  {
   "cell_type": "markdown",
   "id": "3a31c23a",
   "metadata": {},
   "source": [
    "# Lets Implement Linear Regression with Health (Life Expectancy) also"
   ]
  },
  {
   "cell_type": "code",
   "execution_count": 29,
   "id": "7eb93d07",
   "metadata": {},
   "outputs": [
    {
     "data": {
      "text/plain": [
       "LinearRegression()"
      ]
     },
     "execution_count": 29,
     "metadata": {},
     "output_type": "execute_result"
    }
   ],
   "source": [
    "X_train = np.array(train_data['Health (Life Expectancy)'],\n",
    "                   dtype = pd.Series).reshape(-1,1)\n",
    "y_train = np.array(train_data['Happiness Score'], dtype = pd.Series)\n",
    "lr.fit(X_train, y_train)"
   ]
  },
  {
   "cell_type": "code",
   "execution_count": 30,
   "id": "82cf8c19",
   "metadata": {},
   "outputs": [],
   "source": [
    "X_test = np.array(test_data['Health (Life Expectancy)'], \n",
    "                    dtype = pd.Series).reshape(-1,1)\n",
    "y_test = np.array(test_data['Happiness Score'], dtype = pd.Series)\n",
    "\n",
    "pred = lr.predict(X_test)"
   ]
  },
  {
   "cell_type": "code",
   "execution_count": 31,
   "id": "362a74d9",
   "metadata": {},
   "outputs": [
    {
     "data": {
      "text/plain": [
       "0.7259"
      ]
     },
     "execution_count": 31,
     "metadata": {},
     "output_type": "execute_result"
    }
   ],
   "source": [
    "#Root Mean Squared Error\n",
    "#It shows how far predictions fall from measured true values using Euclidean distance\n",
    "rootMeanSqError = float(format(np.sqrt(metrics.mean_squared_error(y_test,pred)),'.4f'))\n",
    "rootMeanSqError"
   ]
  },
  {
   "cell_type": "code",
   "execution_count": 32,
   "id": "b2b67fa9",
   "metadata": {},
   "outputs": [
    {
     "data": {
      "text/plain": [
       "0.5199"
      ]
     },
     "execution_count": 32,
     "metadata": {},
     "output_type": "execute_result"
    }
   ],
   "source": [
    "#R-Squared (Training)\n",
    "rSquareTrain = float(format(lr.score(X_train, y_train),'.4f'))\n",
    "rSquareTrain"
   ]
  },
  {
   "cell_type": "code",
   "execution_count": 33,
   "id": "5b344d3c",
   "metadata": {},
   "outputs": [
    {
     "data": {
      "text/plain": [
       "0.5169"
      ]
     },
     "execution_count": 33,
     "metadata": {},
     "output_type": "execute_result"
    }
   ],
   "source": [
    "#R-Squared (Test)\n",
    "rSquareTest = float(format(lr.score(X_test, y_test),'.4f'))\n",
    "rSquareTest"
   ]
  },
  {
   "cell_type": "code",
   "execution_count": 34,
   "id": "799e4472",
   "metadata": {},
   "outputs": [
    {
     "name": "stdout",
     "output_type": "stream",
     "text": [
      "Average Score for Test Data: 5.1891\n",
      "Intercept: 3.354007197070931\n",
      "Coefficient: [3.27901732]\n",
      "Happiness score =  3.354 + [3.279] * Health (Life Expectancy)\n"
     ]
    }
   ],
   "source": [
    "print (\"Average Score for Test Data: {:.4f}\".format(y_test.mean()))\n",
    "print('Intercept: {}'.format(lr.intercept_))\n",
    "print('Coefficient: {}'.format(lr.coef_))\n",
    "print('Happiness score = ',np.round(lr.intercept_,4),\n",
    "      '+',np.round(lr.coef_,4),'* Health (Life Expectancy)')\n"
   ]
  },
  {
   "cell_type": "code",
   "execution_count": 35,
   "id": "3c4aabbe",
   "metadata": {},
   "outputs": [
    {
     "data": {
      "image/png": "[encoded data removed]",
      "text/plain": [
       "<Figure size 864x432 with 1 Axes>"
      ]
     },
     "metadata": {},
     "output_type": "display_data"
    }
   ],
   "source": [
    "sns.set_style(style='whitegrid')\n",
    "plt.figure(figsize=(12,6))\n",
    "plt.scatter(X_test,y_test,color='blue',label=\"Data\", s = 12)\n",
    "plt.plot(X_test,lr.predict(X_test),color=\"red\",label=\"Predicted Regression Line\")\n",
    "plt.xlabel(\"Health (Life Expectancy)\", fontsize=15)\n",
    "plt.ylabel(\"Happiness Score\", fontsize=15)\n",
    "plt.xticks(fontsize=13)\n",
    "plt.yticks(fontsize=13)\n",
    "plt.legend()\n",
    "plt.gca().spines['right'].set_visible(False)\n",
    "plt.gca().spines['top'].set_visible(False)"
   ]
  },
  {
   "cell_type": "markdown",
   "id": "1f49cc4a",
   "metadata": {},
   "source": [
    "The relationship between Health (Life Expectancy) has a strong positive correlation with Happiness Score, that is, if the Healthy of the perople of the country is better or by birth they dont have any disorder than the Happiness Score of that country, it is also more likely to be high."
   ]
  },
  {
   "cell_type": "markdown",
   "id": "7b85aff6",
   "metadata": {},
   "source": [
    "# Multiple Regression"
   ]
  },
  {
   "cell_type": "code",
   "execution_count": 36,
   "id": "dc587146",
   "metadata": {},
   "outputs": [
    {
     "data": {
      "text/html": [
       "<div>\n",
       "<style scoped>\n",
       "    .dataframe tbody tr th:only-of-type {\n",
       "        vertical-align: middle;\n",
       "    }\n",
       "\n",
       "    .dataframe tbody tr th {\n",
       "        vertical-align: top;\n",
       "    }\n",
       "\n",
       "    .dataframe thead th {\n",
       "        text-align: right;\n",
       "    }\n",
       "</style>\n",
       "<table border=\"1\" class=\"dataframe\">\n",
       "  <thead>\n",
       "    <tr style=\"text-align: right;\">\n",
       "      <th></th>\n",
       "      <th>Country</th>\n",
       "      <th>Happiness Rank</th>\n",
       "      <th>Happiness Score</th>\n",
       "      <th>Economy (GDP per Capita)</th>\n",
       "      <th>Family</th>\n",
       "      <th>Health (Life Expectancy)</th>\n",
       "      <th>Freedom</th>\n",
       "      <th>Trust (Government Corruption)</th>\n",
       "      <th>Generosity</th>\n",
       "    </tr>\n",
       "  </thead>\n",
       "  <tbody>\n",
       "    <tr>\n",
       "      <th>0</th>\n",
       "      <td>Switzerland</td>\n",
       "      <td>1</td>\n",
       "      <td>7.587</td>\n",
       "      <td>1.39651</td>\n",
       "      <td>1.34951</td>\n",
       "      <td>0.94143</td>\n",
       "      <td>0.66557</td>\n",
       "      <td>0.41978</td>\n",
       "      <td>0.29678</td>\n",
       "    </tr>\n",
       "    <tr>\n",
       "      <th>1</th>\n",
       "      <td>Iceland</td>\n",
       "      <td>2</td>\n",
       "      <td>7.561</td>\n",
       "      <td>1.30232</td>\n",
       "      <td>1.40223</td>\n",
       "      <td>0.94784</td>\n",
       "      <td>0.62877</td>\n",
       "      <td>0.14145</td>\n",
       "      <td>0.43630</td>\n",
       "    </tr>\n",
       "  </tbody>\n",
       "</table>\n",
       "</div>"
      ],
      "text/plain": [
       "       Country  Happiness Rank  Happiness Score  Economy (GDP per Capita)  \\\n",
       "0  Switzerland               1            7.587                   1.39651   \n",
       "1      Iceland               2            7.561                   1.30232   \n",
       "\n",
       "    Family  Health (Life Expectancy)  Freedom  Trust (Government Corruption)  \\\n",
       "0  1.34951                   0.94143  0.66557                        0.41978   \n",
       "1  1.40223                   0.94784  0.62877                        0.14145   \n",
       "\n",
       "   Generosity  \n",
       "0     0.29678  \n",
       "1     0.43630  "
      ]
     },
     "execution_count": 36,
     "metadata": {},
     "output_type": "execute_result"
    }
   ],
   "source": [
    "df.head(2)"
   ]
  },
  {
   "cell_type": "code",
   "execution_count": 38,
   "id": "531eb28e",
   "metadata": {},
   "outputs": [
    {
     "name": "stdout",
     "output_type": "stream",
     "text": [
      "Intercept: 1.8280680048770868\n",
      "Coefficients: [0.94963075 1.4529232  0.79787549 1.35410705 0.65080418 0.3888729 ]\n",
      "Happiness score =  1.8281 + 0.9496 ∗ Economy (GDP per Capita) + 0.3889 * Family+ 1.4529 * Health (Life Expectancy) + \n",
      " + 0.7979 * Freedom + 1.3541 * Trust (Government Corruption) + 0.6508 * Generosity\n"
     ]
    }
   ],
   "source": [
    "train_data_mr,test_data_mr = train_test_split(df,train_size = 0.8,random_state=3)\n",
    "\n",
    "independent_variable = ['Economy (GDP per Capita)','Family','Health (Life Expectancy)','Freedom','Trust (Government Corruption)','Generosity']\n",
    "multiple_regression_model = LinearRegression()\n",
    "\n",
    "multiple_regression_model.fit(train_data_mr[independent_variable],train_data_mr['Happiness Score'])\n",
    "\n",
    "print('Intercept: {}'.format(multiple_regression_model.intercept_))\n",
    "print('Coefficients: {}'.format(multiple_regression_model.coef_))\n",
    "\n",
    "print('Happiness score = ',np.round(multiple_regression_model.intercept_,4),\n",
    "      '+',np.round(multiple_regression_model.coef_[0],4),'∗ Economy (GDP per Capita)',\n",
    "      '+',np.round(multiple_regression_model.coef_[5],4),'* Family'\n",
    "      '+',np.round(multiple_regression_model.coef_[1],4),'* Health (Life Expectancy)', \n",
    "      '+',\"\\n\",\n",
    "      '+',np.round(multiple_regression_model.coef_[2],4),'* Freedom',\n",
    "      '+',np.round(multiple_regression_model.coef_[3],4),'* Trust (Government Corruption)',\n",
    "       '+',np.round(multiple_regression_model.coef_[4],4),'* Generosity')\n",
    "      \n",
    "prediction = multiple_regression_model.predict(test_data_mr[independent_variable])\n",
    "\n",
    "rootMeanSqError = float(format(np.sqrt(metrics.mean_squared_error(\n",
    "                       test_data_mr['Happiness Score'],prediction)),'.4f'))\n",
    "\n",
    "rSquareTrain = float(format(multiple_regression_model.score(\n",
    "                        train_data_mr[independent_variable],\n",
    "                        train_data_mr['Happiness Score']),'.4f'))\n",
    "\n",
    "rSquareTest = float(format(multiple_regression_model.score(\n",
    "                        test_data_mr[independent_variable],\n",
    "                        test_data_mr['Happiness Score']),'.4f'))\n"
   ]
  },
  {
   "cell_type": "markdown",
   "id": "09a2926c",
   "metadata": {},
   "source": [
    "Now lets implement the above formula in one of the Country (Switzerland) and Test. Please note that we need to add the Dystopia Residual value as well use the Standard Error to calculate the proper Happiness Score"
   ]
  },
  {
   "cell_type": "code",
   "execution_count": 39,
   "id": "96bab28b",
   "metadata": {},
   "outputs": [
    {
     "data": {
      "text/html": [
       "<div>\n",
       "<style scoped>\n",
       "    .dataframe tbody tr th:only-of-type {\n",
       "        vertical-align: middle;\n",
       "    }\n",
       "\n",
       "    .dataframe tbody tr th {\n",
       "        vertical-align: top;\n",
       "    }\n",
       "\n",
       "    .dataframe thead th {\n",
       "        text-align: right;\n",
       "    }\n",
       "</style>\n",
       "<table border=\"1\" class=\"dataframe\">\n",
       "  <thead>\n",
       "    <tr style=\"text-align: right;\">\n",
       "      <th></th>\n",
       "      <th>Country</th>\n",
       "      <th>Happiness Rank</th>\n",
       "      <th>Happiness Score</th>\n",
       "      <th>Economy (GDP per Capita)</th>\n",
       "      <th>Family</th>\n",
       "      <th>Health (Life Expectancy)</th>\n",
       "      <th>Freedom</th>\n",
       "      <th>Trust (Government Corruption)</th>\n",
       "      <th>Generosity</th>\n",
       "    </tr>\n",
       "  </thead>\n",
       "  <tbody>\n",
       "    <tr>\n",
       "      <th>0</th>\n",
       "      <td>Switzerland</td>\n",
       "      <td>1</td>\n",
       "      <td>7.587</td>\n",
       "      <td>1.39651</td>\n",
       "      <td>1.34951</td>\n",
       "      <td>0.94143</td>\n",
       "      <td>0.66557</td>\n",
       "      <td>0.41978</td>\n",
       "      <td>0.29678</td>\n",
       "    </tr>\n",
       "    <tr>\n",
       "      <th>1</th>\n",
       "      <td>Iceland</td>\n",
       "      <td>2</td>\n",
       "      <td>7.561</td>\n",
       "      <td>1.30232</td>\n",
       "      <td>1.40223</td>\n",
       "      <td>0.94784</td>\n",
       "      <td>0.62877</td>\n",
       "      <td>0.14145</td>\n",
       "      <td>0.43630</td>\n",
       "    </tr>\n",
       "  </tbody>\n",
       "</table>\n",
       "</div>"
      ],
      "text/plain": [
       "       Country  Happiness Rank  Happiness Score  Economy (GDP per Capita)  \\\n",
       "0  Switzerland               1            7.587                   1.39651   \n",
       "1      Iceland               2            7.561                   1.30232   \n",
       "\n",
       "    Family  Health (Life Expectancy)  Freedom  Trust (Government Corruption)  \\\n",
       "0  1.34951                   0.94143  0.66557                        0.41978   \n",
       "1  1.40223                   0.94784  0.62877                        0.14145   \n",
       "\n",
       "   Generosity  \n",
       "0     0.29678  \n",
       "1     0.43630  "
      ]
     },
     "execution_count": 39,
     "metadata": {},
     "output_type": "execute_result"
    }
   ],
   "source": [
    "df.head(2)"
   ]
  },
  {
   "cell_type": "markdown",
   "id": "15682206",
   "metadata": {},
   "source": [
    "With our Multiple Regression model and the new formula used, we see there is slight change in the Ranking of World Happiness Index of the country"
   ]
  },
  {
   "cell_type": "code",
   "execution_count": 40,
   "id": "6d9ca9ea",
   "metadata": {},
   "outputs": [],
   "source": [
    "import pickle\n",
    "filename=\"WorldHappinessScore.pkl\"\n",
    "pickle.dump(multiple_regression_model,open(filename,'wb'))"
   ]
  },
  {
   "cell_type": "code",
   "execution_count": null,
   "id": "58e6ac1a",
   "metadata": {},
   "outputs": [],
   "source": []
  }
 ],
 "metadata": {
  "kernelspec": {
   "display_name": "Python 3",
   "language": "python",
   "name": "python3"
  },
  "language_info": {
   "codemirror_mode": {
    "name": "ipython",
    "version": 3
   },
   "file_extension": ".py",
   "mimetype": "text/x-python",
   "name": "python",
   "nbconvert_exporter": "python",
   "pygments_lexer": "ipython3",
   "version": "3.8.8"
  }
 },
 "nbformat": 4,
 "nbformat_minor": 5
}
