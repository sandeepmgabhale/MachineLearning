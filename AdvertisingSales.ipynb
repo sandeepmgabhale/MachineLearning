{
 "cells": [
  {
   "cell_type": "markdown",
   "id": "767954bd",
   "metadata": {},
   "source": [
    "# Advertising Sales Channel Prediction"
   ]
  },
  {
   "cell_type": "markdown",
   "id": "22163f87",
   "metadata": {},
   "source": [
    "Problem Statement:\n",
    "\n",
    "Sales Channel Prediction Case Study  \n",
    "\n",
    "When a company enters a market, the distribution strategy and channel it uses are keys to its success in the market, as well as market know-how and customer knowledge and understanding. Because an effective distribution strategy under efficient supply-chain management opens doors for attaining competitive advantage and strong brand equity in the market, it is a component of the marketing mix that cannot be ignored.\n",
    "\n",
    "The distribution strategy and the channel design have to be right the first time. The case study of Sales channel includes the detailed study of TV, radio and newspaper channel. The predict the total sales generated from all the sales channel. "
   ]
  },
  {
   "cell_type": "code",
   "execution_count": 18,
   "id": "fc7eba3b",
   "metadata": {},
   "outputs": [],
   "source": [
    "import pandas as pd\n",
    "import numpy as np\n",
    "import re\n",
    "import matplotlib.pyplot as plt\n",
    "import seaborn as sns\n",
    "import sklearn\n",
    "from sklearn.linear_model import LogisticRegression\n",
    "from sklearn.metrics import mean_squared_error\n",
    "from sklearn.model_selection import train_test_split\n",
    "from sklearn.naive_bayes import GaussianNB\n",
    "from sklearn.svm import SVC\n",
    "from sklearn.tree import DecisionTreeClassifier\n",
    "from sklearn.neighbors import KNeighborsClassifier\n",
    "from sklearn.metrics import accuracy_score,confusion_matrix,classification_report\n",
    "import warnings\n",
    "warnings.filterwarnings('ignore')"
   ]
  },
  {
   "cell_type": "code",
   "execution_count": 19,
   "id": "8eec10b6",
   "metadata": {},
   "outputs": [
    {
     "data": {
      "text/html": [
       "<div>\n",
       "<style scoped>\n",
       "    .dataframe tbody tr th:only-of-type {\n",
       "        vertical-align: middle;\n",
       "    }\n",
       "\n",
       "    .dataframe tbody tr th {\n",
       "        vertical-align: top;\n",
       "    }\n",
       "\n",
       "    .dataframe thead th {\n",
       "        text-align: right;\n",
       "    }\n",
       "</style>\n",
       "<table border=\"1\" class=\"dataframe\">\n",
       "  <thead>\n",
       "    <tr style=\"text-align: right;\">\n",
       "      <th></th>\n",
       "      <th>Unnamed: 0</th>\n",
       "      <th>TV</th>\n",
       "      <th>radio</th>\n",
       "      <th>newspaper</th>\n",
       "      <th>sales</th>\n",
       "    </tr>\n",
       "  </thead>\n",
       "  <tbody>\n",
       "    <tr>\n",
       "      <th>0</th>\n",
       "      <td>1</td>\n",
       "      <td>230.1</td>\n",
       "      <td>37.8</td>\n",
       "      <td>69.2</td>\n",
       "      <td>22.1</td>\n",
       "    </tr>\n",
       "    <tr>\n",
       "      <th>1</th>\n",
       "      <td>2</td>\n",
       "      <td>44.5</td>\n",
       "      <td>39.3</td>\n",
       "      <td>45.1</td>\n",
       "      <td>10.4</td>\n",
       "    </tr>\n",
       "    <tr>\n",
       "      <th>2</th>\n",
       "      <td>3</td>\n",
       "      <td>17.2</td>\n",
       "      <td>45.9</td>\n",
       "      <td>69.3</td>\n",
       "      <td>9.3</td>\n",
       "    </tr>\n",
       "    <tr>\n",
       "      <th>3</th>\n",
       "      <td>4</td>\n",
       "      <td>151.5</td>\n",
       "      <td>41.3</td>\n",
       "      <td>58.5</td>\n",
       "      <td>18.5</td>\n",
       "    </tr>\n",
       "    <tr>\n",
       "      <th>4</th>\n",
       "      <td>5</td>\n",
       "      <td>180.8</td>\n",
       "      <td>10.8</td>\n",
       "      <td>58.4</td>\n",
       "      <td>12.9</td>\n",
       "    </tr>\n",
       "  </tbody>\n",
       "</table>\n",
       "</div>"
      ],
      "text/plain": [
       "   Unnamed: 0     TV  radio  newspaper  sales\n",
       "0           1  230.1   37.8       69.2   22.1\n",
       "1           2   44.5   39.3       45.1   10.4\n",
       "2           3   17.2   45.9       69.3    9.3\n",
       "3           4  151.5   41.3       58.5   18.5\n",
       "4           5  180.8   10.8       58.4   12.9"
      ]
     },
     "execution_count": 19,
     "metadata": {},
     "output_type": "execute_result"
    }
   ],
   "source": [
    "df = pd.read_csv('https://raw.githubusercontent.com/dsrscientist/DSData/master/Advertising.csv')\n",
    "df.head(5)"
   ]
  },
  {
   "cell_type": "code",
   "execution_count": 20,
   "id": "92bdb5f9",
   "metadata": {},
   "outputs": [
    {
     "data": {
      "text/plain": [
       "(200, 5)"
      ]
     },
     "execution_count": 20,
     "metadata": {},
     "output_type": "execute_result"
    }
   ],
   "source": [
    "df.shape"
   ]
  },
  {
   "cell_type": "code",
   "execution_count": 21,
   "id": "e346dec3",
   "metadata": {},
   "outputs": [
    {
     "name": "stdout",
     "output_type": "stream",
     "text": [
      "<class 'pandas.core.frame.DataFrame'>\n",
      "RangeIndex: 200 entries, 0 to 199\n",
      "Data columns (total 5 columns):\n",
      " #   Column      Non-Null Count  Dtype  \n",
      "---  ------      --------------  -----  \n",
      " 0   Unnamed: 0  200 non-null    int64  \n",
      " 1   TV          200 non-null    float64\n",
      " 2   radio       200 non-null    float64\n",
      " 3   newspaper   200 non-null    float64\n",
      " 4   sales       200 non-null    float64\n",
      "dtypes: float64(4), int64(1)\n",
      "memory usage: 7.9 KB\n"
     ]
    }
   ],
   "source": [
    "df.info()"
   ]
  },
  {
   "cell_type": "code",
   "execution_count": 22,
   "id": "93379847",
   "metadata": {},
   "outputs": [
    {
     "data": {
      "text/plain": [
       "Unnamed: 0    0\n",
       "TV            0\n",
       "radio         0\n",
       "newspaper     0\n",
       "sales         0\n",
       "dtype: int64"
      ]
     },
     "execution_count": 22,
     "metadata": {},
     "output_type": "execute_result"
    }
   ],
   "source": [
    "#Check for null\n",
    "df.isnull().sum()"
   ]
  },
  {
   "cell_type": "code",
   "execution_count": 23,
   "id": "73dfd0a8",
   "metadata": {},
   "outputs": [
    {
     "data": {
      "text/html": [
       "<div>\n",
       "<style scoped>\n",
       "    .dataframe tbody tr th:only-of-type {\n",
       "        vertical-align: middle;\n",
       "    }\n",
       "\n",
       "    .dataframe tbody tr th {\n",
       "        vertical-align: top;\n",
       "    }\n",
       "\n",
       "    .dataframe thead th {\n",
       "        text-align: right;\n",
       "    }\n",
       "</style>\n",
       "<table border=\"1\" class=\"dataframe\">\n",
       "  <thead>\n",
       "    <tr style=\"text-align: right;\">\n",
       "      <th></th>\n",
       "      <th>Total Count</th>\n",
       "      <th>% of Missing Data</th>\n",
       "    </tr>\n",
       "  </thead>\n",
       "  <tbody>\n",
       "    <tr>\n",
       "      <th>Unnamed: 0</th>\n",
       "      <td>0</td>\n",
       "      <td>0.0</td>\n",
       "    </tr>\n",
       "    <tr>\n",
       "      <th>TV</th>\n",
       "      <td>0</td>\n",
       "      <td>0.0</td>\n",
       "    </tr>\n",
       "    <tr>\n",
       "      <th>radio</th>\n",
       "      <td>0</td>\n",
       "      <td>0.0</td>\n",
       "    </tr>\n",
       "    <tr>\n",
       "      <th>newspaper</th>\n",
       "      <td>0</td>\n",
       "      <td>0.0</td>\n",
       "    </tr>\n",
       "    <tr>\n",
       "      <th>sales</th>\n",
       "      <td>0</td>\n",
       "      <td>0.0</td>\n",
       "    </tr>\n",
       "  </tbody>\n",
       "</table>\n",
       "</div>"
      ],
      "text/plain": [
       "            Total Count  % of Missing Data\n",
       "Unnamed: 0            0                0.0\n",
       "TV                    0                0.0\n",
       "radio                 0                0.0\n",
       "newspaper             0                0.0\n",
       "sales                 0                0.0"
      ]
     },
     "execution_count": 23,
     "metadata": {},
     "output_type": "execute_result"
    }
   ],
   "source": [
    "total = df.isnull().sum().sort_values(ascending=False)\n",
    "percent_1 = df.isnull().sum()/df.isnull().count()*100\n",
    "percent_2 = (round(percent_1, 1)).sort_values(ascending=False)\n",
    "missing_data = pd.concat([total, percent_2], axis=1, keys=['Total Count', '% of Missing Data'])\n",
    "missing_data.head(5)"
   ]
  },
  {
   "cell_type": "markdown",
   "id": "c15fabd1",
   "metadata": {},
   "source": [
    "So, nothing is missing"
   ]
  },
  {
   "cell_type": "markdown",
   "id": "58077ff0",
   "metadata": {},
   "source": [
    "# Check for Duplicates"
   ]
  },
  {
   "cell_type": "code",
   "execution_count": 24,
   "id": "c785ac94",
   "metadata": {},
   "outputs": [
    {
     "name": "stdout",
     "output_type": "stream",
     "text": [
      "Duplicate Rows :\n"
     ]
    },
    {
     "data": {
      "text/html": [
       "<div>\n",
       "<style scoped>\n",
       "    .dataframe tbody tr th:only-of-type {\n",
       "        vertical-align: middle;\n",
       "    }\n",
       "\n",
       "    .dataframe tbody tr th {\n",
       "        vertical-align: top;\n",
       "    }\n",
       "\n",
       "    .dataframe thead th {\n",
       "        text-align: right;\n",
       "    }\n",
       "</style>\n",
       "<table border=\"1\" class=\"dataframe\">\n",
       "  <thead>\n",
       "    <tr style=\"text-align: right;\">\n",
       "      <th></th>\n",
       "      <th>Unnamed: 0</th>\n",
       "      <th>TV</th>\n",
       "      <th>radio</th>\n",
       "      <th>newspaper</th>\n",
       "      <th>sales</th>\n",
       "    </tr>\n",
       "  </thead>\n",
       "  <tbody>\n",
       "  </tbody>\n",
       "</table>\n",
       "</div>"
      ],
      "text/plain": [
       "Empty DataFrame\n",
       "Columns: [Unnamed: 0, TV, radio, newspaper, sales]\n",
       "Index: []"
      ]
     },
     "execution_count": 24,
     "metadata": {},
     "output_type": "execute_result"
    }
   ],
   "source": [
    "duplicate = df[df.duplicated(keep = 'last')]\n",
    "print(\"Duplicate Rows :\")\n",
    "  \n",
    "# Print the resultant Dataframe\n",
    "duplicate"
   ]
  },
  {
   "cell_type": "markdown",
   "id": "82def6c2",
   "metadata": {},
   "source": [
    "No Dpulicate record is found"
   ]
  },
  {
   "cell_type": "markdown",
   "id": "a5a67270",
   "metadata": {},
   "source": [
    "TV : If an organisation does its advertisement via TV, how much sales can he achive and whether it will be benficial for him to do the advertisment via TV, we have to analyse that\n",
    "\n",
    "Radio :If an organisation does its advertisement via Radio, how much sales can he achive and whether it will be benficial for him to do the advertisment via Radio, we have to analyse that\n",
    "\n",
    "Newspaper : If an organisation does its advertisement via Newspaper, how much sales can he achive and whether it will be benficial for him to do the advertisment via newspaper, we have to analyse that\n",
    "\n",
    "Sales : It is the total number of Sales"
   ]
  },
  {
   "cell_type": "code",
   "execution_count": 25,
   "id": "eca92c05",
   "metadata": {},
   "outputs": [
    {
     "data": {
      "text/html": [
       "<div>\n",
       "<style scoped>\n",
       "    .dataframe tbody tr th:only-of-type {\n",
       "        vertical-align: middle;\n",
       "    }\n",
       "\n",
       "    .dataframe tbody tr th {\n",
       "        vertical-align: top;\n",
       "    }\n",
       "\n",
       "    .dataframe thead th {\n",
       "        text-align: right;\n",
       "    }\n",
       "</style>\n",
       "<table border=\"1\" class=\"dataframe\">\n",
       "  <thead>\n",
       "    <tr style=\"text-align: right;\">\n",
       "      <th></th>\n",
       "      <th>Unnamed: 0</th>\n",
       "      <th>TV</th>\n",
       "      <th>radio</th>\n",
       "      <th>newspaper</th>\n",
       "      <th>sales</th>\n",
       "    </tr>\n",
       "  </thead>\n",
       "  <tbody>\n",
       "    <tr>\n",
       "      <th>count</th>\n",
       "      <td>200.000000</td>\n",
       "      <td>200.000000</td>\n",
       "      <td>200.000000</td>\n",
       "      <td>200.000000</td>\n",
       "      <td>200.000000</td>\n",
       "    </tr>\n",
       "    <tr>\n",
       "      <th>mean</th>\n",
       "      <td>100.500000</td>\n",
       "      <td>147.042500</td>\n",
       "      <td>23.264000</td>\n",
       "      <td>30.554000</td>\n",
       "      <td>14.022500</td>\n",
       "    </tr>\n",
       "    <tr>\n",
       "      <th>std</th>\n",
       "      <td>57.879185</td>\n",
       "      <td>85.854236</td>\n",
       "      <td>14.846809</td>\n",
       "      <td>21.778621</td>\n",
       "      <td>5.217457</td>\n",
       "    </tr>\n",
       "    <tr>\n",
       "      <th>min</th>\n",
       "      <td>1.000000</td>\n",
       "      <td>0.700000</td>\n",
       "      <td>0.000000</td>\n",
       "      <td>0.300000</td>\n",
       "      <td>1.600000</td>\n",
       "    </tr>\n",
       "    <tr>\n",
       "      <th>25%</th>\n",
       "      <td>50.750000</td>\n",
       "      <td>74.375000</td>\n",
       "      <td>9.975000</td>\n",
       "      <td>12.750000</td>\n",
       "      <td>10.375000</td>\n",
       "    </tr>\n",
       "    <tr>\n",
       "      <th>50%</th>\n",
       "      <td>100.500000</td>\n",
       "      <td>149.750000</td>\n",
       "      <td>22.900000</td>\n",
       "      <td>25.750000</td>\n",
       "      <td>12.900000</td>\n",
       "    </tr>\n",
       "    <tr>\n",
       "      <th>75%</th>\n",
       "      <td>150.250000</td>\n",
       "      <td>218.825000</td>\n",
       "      <td>36.525000</td>\n",
       "      <td>45.100000</td>\n",
       "      <td>17.400000</td>\n",
       "    </tr>\n",
       "    <tr>\n",
       "      <th>max</th>\n",
       "      <td>200.000000</td>\n",
       "      <td>296.400000</td>\n",
       "      <td>49.600000</td>\n",
       "      <td>114.000000</td>\n",
       "      <td>27.000000</td>\n",
       "    </tr>\n",
       "  </tbody>\n",
       "</table>\n",
       "</div>"
      ],
      "text/plain": [
       "       Unnamed: 0          TV       radio   newspaper       sales\n",
       "count  200.000000  200.000000  200.000000  200.000000  200.000000\n",
       "mean   100.500000  147.042500   23.264000   30.554000   14.022500\n",
       "std     57.879185   85.854236   14.846809   21.778621    5.217457\n",
       "min      1.000000    0.700000    0.000000    0.300000    1.600000\n",
       "25%     50.750000   74.375000    9.975000   12.750000   10.375000\n",
       "50%    100.500000  149.750000   22.900000   25.750000   12.900000\n",
       "75%    150.250000  218.825000   36.525000   45.100000   17.400000\n",
       "max    200.000000  296.400000   49.600000  114.000000   27.000000"
      ]
     },
     "execution_count": 25,
     "metadata": {},
     "output_type": "execute_result"
    }
   ],
   "source": [
    "df.describe()"
   ]
  },
  {
   "cell_type": "markdown",
   "id": "e66510be",
   "metadata": {},
   "source": [
    "# Data Description\n",
    "\n",
    "TV : If an organisation does its advertisement via TV, how much sales can he achive and whether it will be benficial for him to do the advertisment via TV, we have to analyse that. It has few areas where an organisation is spending more amount on advertisment, We will consider this as an Outlier for sometime till further analysis.\n",
    "\n",
    "Radio :If an organisation does its advertisement via Radio, how much sales can he achive and whether it will be benficial for him to do the advertisment via Radio, we have to analyse that.It has few areas where an organisation is spending more amount on advertisment, We will consider this as an Outlier for sometime till further analysis.\n",
    "\n",
    "Newspaper : If an organisation does its advertisement via Newspaper, how much sales can he achive and whether it will be benficial for him to do the advertisment via newspaper, we have to analyse that.It has few areas where an organisation is spending more amount on advertisment, We will consider this as an Outlier for sometime till further analysis.\n",
    "\n",
    "Sales : It is the total number of Sales"
   ]
  },
  {
   "cell_type": "code",
   "execution_count": 26,
   "id": "62f04769",
   "metadata": {},
   "outputs": [
    {
     "data": {
      "text/html": [
       "<div>\n",
       "<style scoped>\n",
       "    .dataframe tbody tr th:only-of-type {\n",
       "        vertical-align: middle;\n",
       "    }\n",
       "\n",
       "    .dataframe tbody tr th {\n",
       "        vertical-align: top;\n",
       "    }\n",
       "\n",
       "    .dataframe thead th {\n",
       "        text-align: right;\n",
       "    }\n",
       "</style>\n",
       "<table border=\"1\" class=\"dataframe\">\n",
       "  <thead>\n",
       "    <tr style=\"text-align: right;\">\n",
       "      <th></th>\n",
       "      <th>Unnamed: 0</th>\n",
       "      <th>TV</th>\n",
       "      <th>radio</th>\n",
       "      <th>newspaper</th>\n",
       "      <th>sales</th>\n",
       "    </tr>\n",
       "  </thead>\n",
       "  <tbody>\n",
       "    <tr>\n",
       "      <th>Unnamed: 0</th>\n",
       "      <td>1.000000</td>\n",
       "      <td>0.017715</td>\n",
       "      <td>-0.110680</td>\n",
       "      <td>-0.154944</td>\n",
       "      <td>-0.051616</td>\n",
       "    </tr>\n",
       "    <tr>\n",
       "      <th>TV</th>\n",
       "      <td>0.017715</td>\n",
       "      <td>1.000000</td>\n",
       "      <td>0.054809</td>\n",
       "      <td>0.056648</td>\n",
       "      <td>0.782224</td>\n",
       "    </tr>\n",
       "    <tr>\n",
       "      <th>radio</th>\n",
       "      <td>-0.110680</td>\n",
       "      <td>0.054809</td>\n",
       "      <td>1.000000</td>\n",
       "      <td>0.354104</td>\n",
       "      <td>0.576223</td>\n",
       "    </tr>\n",
       "    <tr>\n",
       "      <th>newspaper</th>\n",
       "      <td>-0.154944</td>\n",
       "      <td>0.056648</td>\n",
       "      <td>0.354104</td>\n",
       "      <td>1.000000</td>\n",
       "      <td>0.228299</td>\n",
       "    </tr>\n",
       "    <tr>\n",
       "      <th>sales</th>\n",
       "      <td>-0.051616</td>\n",
       "      <td>0.782224</td>\n",
       "      <td>0.576223</td>\n",
       "      <td>0.228299</td>\n",
       "      <td>1.000000</td>\n",
       "    </tr>\n",
       "  </tbody>\n",
       "</table>\n",
       "</div>"
      ],
      "text/plain": [
       "            Unnamed: 0        TV     radio  newspaper     sales\n",
       "Unnamed: 0    1.000000  0.017715 -0.110680  -0.154944 -0.051616\n",
       "TV            0.017715  1.000000  0.054809   0.056648  0.782224\n",
       "radio        -0.110680  0.054809  1.000000   0.354104  0.576223\n",
       "newspaper    -0.154944  0.056648  0.354104   1.000000  0.228299\n",
       "sales        -0.051616  0.782224  0.576223   0.228299  1.000000"
      ]
     },
     "execution_count": 26,
     "metadata": {},
     "output_type": "execute_result"
    }
   ],
   "source": [
    "df.corr()"
   ]
  },
  {
   "cell_type": "code",
   "execution_count": 27,
   "id": "117967d8",
   "metadata": {},
   "outputs": [
    {
     "data": {
      "text/plain": [
       "<AxesSubplot:>"
      ]
     },
     "execution_count": 27,
     "metadata": {},
     "output_type": "execute_result"
    },
    {
     "data": {
      "image/png": "[encoded data removed]",
      "text/plain": [
       "<Figure size 432x432 with 2 Axes>"
      ]
     },
     "metadata": {
      "needs_background": "light"
     },
     "output_type": "display_data"
    }
   ],
   "source": [
    "plt.figure(figsize = (6,6))\n",
    "sns.heatmap(df.corr(), annot = True)"
   ]
  },
  {
   "cell_type": "markdown",
   "id": "3422f64f",
   "metadata": {},
   "source": [
    "TV and sales are correlated\n",
    "\n",
    "Similarly, Radio and sales are a bit correlated\n",
    "\n",
    "Newspaper and Sales are not correlated"
   ]
  },
  {
   "cell_type": "code",
   "execution_count": 28,
   "id": "08cc3883",
   "metadata": {},
   "outputs": [
    {
     "data": {
      "text/html": [
       "<div>\n",
       "<style scoped>\n",
       "    .dataframe tbody tr th:only-of-type {\n",
       "        vertical-align: middle;\n",
       "    }\n",
       "\n",
       "    .dataframe tbody tr th {\n",
       "        vertical-align: top;\n",
       "    }\n",
       "\n",
       "    .dataframe thead th {\n",
       "        text-align: right;\n",
       "    }\n",
       "</style>\n",
       "<table border=\"1\" class=\"dataframe\">\n",
       "  <thead>\n",
       "    <tr style=\"text-align: right;\">\n",
       "      <th></th>\n",
       "      <th>Unnamed: 0</th>\n",
       "      <th>TV</th>\n",
       "      <th>radio</th>\n",
       "      <th>newspaper</th>\n",
       "      <th>sales</th>\n",
       "    </tr>\n",
       "  </thead>\n",
       "  <tbody>\n",
       "    <tr>\n",
       "      <th>Unnamed: 0</th>\n",
       "      <td>1.000000</td>\n",
       "      <td>0.017715</td>\n",
       "      <td>-0.110680</td>\n",
       "      <td>-0.154944</td>\n",
       "      <td>-0.051616</td>\n",
       "    </tr>\n",
       "    <tr>\n",
       "      <th>TV</th>\n",
       "      <td>0.017715</td>\n",
       "      <td>1.000000</td>\n",
       "      <td>0.054809</td>\n",
       "      <td>0.056648</td>\n",
       "      <td>0.782224</td>\n",
       "    </tr>\n",
       "    <tr>\n",
       "      <th>radio</th>\n",
       "      <td>-0.110680</td>\n",
       "      <td>0.054809</td>\n",
       "      <td>1.000000</td>\n",
       "      <td>0.354104</td>\n",
       "      <td>0.576223</td>\n",
       "    </tr>\n",
       "    <tr>\n",
       "      <th>newspaper</th>\n",
       "      <td>-0.154944</td>\n",
       "      <td>0.056648</td>\n",
       "      <td>0.354104</td>\n",
       "      <td>1.000000</td>\n",
       "      <td>0.228299</td>\n",
       "    </tr>\n",
       "    <tr>\n",
       "      <th>sales</th>\n",
       "      <td>-0.051616</td>\n",
       "      <td>0.782224</td>\n",
       "      <td>0.576223</td>\n",
       "      <td>0.228299</td>\n",
       "      <td>1.000000</td>\n",
       "    </tr>\n",
       "  </tbody>\n",
       "</table>\n",
       "</div>"
      ],
      "text/plain": [
       "            Unnamed: 0        TV     radio  newspaper     sales\n",
       "Unnamed: 0    1.000000  0.017715 -0.110680  -0.154944 -0.051616\n",
       "TV            0.017715  1.000000  0.054809   0.056648  0.782224\n",
       "radio        -0.110680  0.054809  1.000000   0.354104  0.576223\n",
       "newspaper    -0.154944  0.056648  0.354104   1.000000  0.228299\n",
       "sales        -0.051616  0.782224  0.576223   0.228299  1.000000"
      ]
     },
     "execution_count": 28,
     "metadata": {},
     "output_type": "execute_result"
    }
   ],
   "source": [
    "df.corr()"
   ]
  },
  {
   "cell_type": "markdown",
   "id": "19d6212a",
   "metadata": {},
   "source": [
    "If we see, the column Unnamed: 0 is of no use, so there is no point in keeping this column, lets delete it"
   ]
  },
  {
   "cell_type": "code",
   "execution_count": 29,
   "id": "6fa1932a",
   "metadata": {},
   "outputs": [],
   "source": [
    "df.drop(columns=['Unnamed: 0'],axis=1,inplace=True)"
   ]
  },
  {
   "cell_type": "code",
   "execution_count": 30,
   "id": "ffb7a427",
   "metadata": {},
   "outputs": [
    {
     "data": {
      "text/html": [
       "<div>\n",
       "<style scoped>\n",
       "    .dataframe tbody tr th:only-of-type {\n",
       "        vertical-align: middle;\n",
       "    }\n",
       "\n",
       "    .dataframe tbody tr th {\n",
       "        vertical-align: top;\n",
       "    }\n",
       "\n",
       "    .dataframe thead th {\n",
       "        text-align: right;\n",
       "    }\n",
       "</style>\n",
       "<table border=\"1\" class=\"dataframe\">\n",
       "  <thead>\n",
       "    <tr style=\"text-align: right;\">\n",
       "      <th></th>\n",
       "      <th>TV</th>\n",
       "      <th>radio</th>\n",
       "      <th>newspaper</th>\n",
       "      <th>sales</th>\n",
       "    </tr>\n",
       "  </thead>\n",
       "  <tbody>\n",
       "    <tr>\n",
       "      <th>0</th>\n",
       "      <td>230.1</td>\n",
       "      <td>37.8</td>\n",
       "      <td>69.2</td>\n",
       "      <td>22.1</td>\n",
       "    </tr>\n",
       "    <tr>\n",
       "      <th>1</th>\n",
       "      <td>44.5</td>\n",
       "      <td>39.3</td>\n",
       "      <td>45.1</td>\n",
       "      <td>10.4</td>\n",
       "    </tr>\n",
       "  </tbody>\n",
       "</table>\n",
       "</div>"
      ],
      "text/plain": [
       "      TV  radio  newspaper  sales\n",
       "0  230.1   37.8       69.2   22.1\n",
       "1   44.5   39.3       45.1   10.4"
      ]
     },
     "execution_count": 30,
     "metadata": {},
     "output_type": "execute_result"
    }
   ],
   "source": [
    "df.head(2)"
   ]
  },
  {
   "cell_type": "markdown",
   "id": "19689b57",
   "metadata": {},
   "source": [
    "# Outlier Checking"
   ]
  },
  {
   "cell_type": "code",
   "execution_count": 31,
   "id": "a03a0032",
   "metadata": {},
   "outputs": [
    {
     "data": {
      "text/html": [
       "<div>\n",
       "<style scoped>\n",
       "    .dataframe tbody tr th:only-of-type {\n",
       "        vertical-align: middle;\n",
       "    }\n",
       "\n",
       "    .dataframe tbody tr th {\n",
       "        vertical-align: top;\n",
       "    }\n",
       "\n",
       "    .dataframe thead th {\n",
       "        text-align: right;\n",
       "    }\n",
       "</style>\n",
       "<table border=\"1\" class=\"dataframe\">\n",
       "  <thead>\n",
       "    <tr style=\"text-align: right;\">\n",
       "      <th></th>\n",
       "      <th>TV</th>\n",
       "      <th>radio</th>\n",
       "      <th>newspaper</th>\n",
       "      <th>sales</th>\n",
       "    </tr>\n",
       "  </thead>\n",
       "  <tbody>\n",
       "    <tr>\n",
       "      <th>0</th>\n",
       "      <td>230.1</td>\n",
       "      <td>37.8</td>\n",
       "      <td>69.2</td>\n",
       "      <td>22.1</td>\n",
       "    </tr>\n",
       "    <tr>\n",
       "      <th>1</th>\n",
       "      <td>44.5</td>\n",
       "      <td>39.3</td>\n",
       "      <td>45.1</td>\n",
       "      <td>10.4</td>\n",
       "    </tr>\n",
       "  </tbody>\n",
       "</table>\n",
       "</div>"
      ],
      "text/plain": [
       "      TV  radio  newspaper  sales\n",
       "0  230.1   37.8       69.2   22.1\n",
       "1   44.5   39.3       45.1   10.4"
      ]
     },
     "execution_count": 31,
     "metadata": {},
     "output_type": "execute_result"
    }
   ],
   "source": [
    "dataToPlot=df.loc[:, df.columns != 'Sales']\n",
    "dataToPlot.head(2)"
   ]
  },
  {
   "cell_type": "code",
   "execution_count": 32,
   "id": "2d5a5de7",
   "metadata": {},
   "outputs": [
    {
     "data": {
      "text/html": [
       "<div>\n",
       "<style scoped>\n",
       "    .dataframe tbody tr th:only-of-type {\n",
       "        vertical-align: middle;\n",
       "    }\n",
       "\n",
       "    .dataframe tbody tr th {\n",
       "        vertical-align: top;\n",
       "    }\n",
       "\n",
       "    .dataframe thead th {\n",
       "        text-align: right;\n",
       "    }\n",
       "</style>\n",
       "<table border=\"1\" class=\"dataframe\">\n",
       "  <thead>\n",
       "    <tr style=\"text-align: right;\">\n",
       "      <th></th>\n",
       "      <th>TV</th>\n",
       "      <th>radio</th>\n",
       "      <th>newspaper</th>\n",
       "      <th>sales</th>\n",
       "    </tr>\n",
       "  </thead>\n",
       "  <tbody>\n",
       "    <tr>\n",
       "      <th>0</th>\n",
       "      <td>230.1</td>\n",
       "      <td>37.8</td>\n",
       "      <td>69.2</td>\n",
       "      <td>22.1</td>\n",
       "    </tr>\n",
       "    <tr>\n",
       "      <th>1</th>\n",
       "      <td>44.5</td>\n",
       "      <td>39.3</td>\n",
       "      <td>45.1</td>\n",
       "      <td>10.4</td>\n",
       "    </tr>\n",
       "  </tbody>\n",
       "</table>\n",
       "</div>"
      ],
      "text/plain": [
       "      TV  radio  newspaper  sales\n",
       "0  230.1   37.8       69.2   22.1\n",
       "1   44.5   39.3       45.1   10.4"
      ]
     },
     "execution_count": 32,
     "metadata": {},
     "output_type": "execute_result"
    }
   ],
   "source": [
    "df.head(2)"
   ]
  },
  {
   "cell_type": "code",
   "execution_count": 33,
   "id": "c5ceff0a",
   "metadata": {},
   "outputs": [],
   "source": [
    "targetToPlot=df.loc[:, df.columns == 'Sales']"
   ]
  },
  {
   "cell_type": "code",
   "execution_count": 34,
   "id": "f834543d",
   "metadata": {},
   "outputs": [
    {
     "data": {
      "image/png": "[encoded data removed]",
      "text/plain": [
       "<Figure size 864x576 with 4 Axes>"
      ]
     },
     "metadata": {},
     "output_type": "display_data"
    }
   ],
   "source": [
    "#Lets see data distribution\n",
    "plt.figure(figsize=(12,8),facecolor='orange')\n",
    "graph=1\n",
    "\n",
    "for column in dataToPlot:\n",
    "    \n",
    "    if graph<=12:\n",
    "        ax=plt.subplot(3,4,graph)        \n",
    "        sns.boxplot(dataToPlot[column])\n",
    "        plt.xlabel(column,fontsize=11)\n",
    "        \n",
    "    graph+=1   \n",
    "    \n",
    "plt.tight_layout()"
   ]
  },
  {
   "cell_type": "markdown",
   "id": "2ef81ec2",
   "metadata": {},
   "source": [
    "We see that only Newspaper have few outliers and rest data is fine"
   ]
  },
  {
   "cell_type": "code",
   "execution_count": 35,
   "id": "9f018075",
   "metadata": {},
   "outputs": [
    {
     "data": {
      "text/plain": [
       "TV          -0.069853\n",
       "radio        0.094175\n",
       "newspaper    0.894720\n",
       "sales        0.407571\n",
       "dtype: float64"
      ]
     },
     "execution_count": 35,
     "metadata": {},
     "output_type": "execute_result"
    }
   ],
   "source": [
    "df.skew()"
   ]
  },
  {
   "cell_type": "code",
   "execution_count": 36,
   "id": "8be60f64",
   "metadata": {},
   "outputs": [
    {
     "data": {
      "text/plain": [
       "<AxesSubplot:xlabel='TV', ylabel='sales'>"
      ]
     },
     "execution_count": 36,
     "metadata": {},
     "output_type": "execute_result"
    },
    {
     "data": {
      "image/png": "[encoded data removed]",
      "text/plain": [
       "<Figure size 360x360 with 1 Axes>"
      ]
     },
     "metadata": {},
     "output_type": "display_data"
    }
   ],
   "source": [
    "#Lets see data distribution using TV(Independent Variable) and Sales(Dependent Variable)\n",
    "plt.figure(figsize=(5,5),facecolor='orange')\n",
    "sns.scatterplot(x=\"TV\",y=\"sales\",data=df)"
   ]
  },
  {
   "cell_type": "markdown",
   "id": "fab3bb9e",
   "metadata": {},
   "source": [
    "The graph shows that if more money is spent on advertisement through TV, the sales increases"
   ]
  },
  {
   "cell_type": "code",
   "execution_count": 37,
   "id": "e286f8be",
   "metadata": {},
   "outputs": [
    {
     "data": {
      "text/plain": [
       "<AxesSubplot:xlabel='radio', ylabel='sales'>"
      ]
     },
     "execution_count": 37,
     "metadata": {},
     "output_type": "execute_result"
    },
    {
     "data": {
      "image/png": "[encoded data removed]",
      "text/plain": [
       "<Figure size 360x360 with 1 Axes>"
      ]
     },
     "metadata": {},
     "output_type": "display_data"
    }
   ],
   "source": [
    "#Lets see data distribution using radio(Independent Variable) and Sales(Dependent Variable)\n",
    "plt.figure(figsize=(5,5),facecolor='orange')\n",
    "sns.scatterplot(x=\"radio\",y=\"sales\",data=df)"
   ]
  },
  {
   "cell_type": "markdown",
   "id": "d6ead7fe",
   "metadata": {},
   "source": [
    "The graph shows that if more money is spent on advertisement through Radio, the sales increases but not that much when compared to TV, we will try to combine TV and radio to see if sales increases when advertisement is done via both TV and radio to increase the sales"
   ]
  },
  {
   "cell_type": "code",
   "execution_count": 38,
   "id": "344e99cc",
   "metadata": {},
   "outputs": [
    {
     "data": {
      "text/plain": [
       "<AxesSubplot:xlabel='newspaper', ylabel='sales'>"
      ]
     },
     "execution_count": 38,
     "metadata": {},
     "output_type": "execute_result"
    },
    {
     "data": {
      "image/png": "[encoded data removed]",
      "text/plain": [
       "<Figure size 360x360 with 1 Axes>"
      ]
     },
     "metadata": {},
     "output_type": "display_data"
    }
   ],
   "source": [
    "#Lets see data distribution using newspaper(Independent Variable) and Sales(Dependent Variable)\n",
    "plt.figure(figsize=(5,5),facecolor='orange')\n",
    "sns.scatterplot(x=\"newspaper\",y=\"sales\",data=df)"
   ]
  },
  {
   "cell_type": "markdown",
   "id": "79187f2f",
   "metadata": {},
   "source": [
    "The graph shows that if more money is spent on advertisement through newspaper, there is no impact in Sales, so if an organisation spends more money to increase the sales via advertisement through newspaper, it will be in Loss"
   ]
  },
  {
   "cell_type": "code",
   "execution_count": 125,
   "id": "971821f7",
   "metadata": {},
   "outputs": [
    {
     "data": {
      "image/png": "[encoded data removed]",
      "text/plain": [
       "<Figure size 432x432 with 3 Axes>"
      ]
     },
     "metadata": {},
     "output_type": "display_data"
    }
   ],
   "source": [
    "#Lets see data distribution again\n",
    "plt.figure(figsize=(6,6),facecolor='orange')\n",
    "plotnumber=1\n",
    "\n",
    "for column in dataToPlot:\n",
    "    #print(column)\n",
    "    if plotnumber<=3:\n",
    "        ax=plt.subplot(1,3,plotnumber)        \n",
    "        sns.distplot(dataToPlot[column])\n",
    "        plt.xlabel(column,fontsize=12)\n",
    "        \n",
    "    plotnumber+=1   \n",
    "    \n",
    "plt.tight_layout()"
   ]
  },
  {
   "cell_type": "markdown",
   "id": "235e0ab9",
   "metadata": {},
   "source": [
    "The graph shows that if more money is spent on advertisement through newspaper, there is no impact in Sales, so if an organisation spends more money to increase the sales via advertisement through newspaper, it will be in Loss as the graph gets skewed to the right"
   ]
  },
  {
   "cell_type": "markdown",
   "id": "3924292d",
   "metadata": {},
   "source": [
    "# ZScore"
   ]
  },
  {
   "cell_type": "code",
   "execution_count": 39,
   "id": "66a05998",
   "metadata": {},
   "outputs": [
    {
     "data": {
      "text/plain": [
       "(200, 4)"
      ]
     },
     "execution_count": 39,
     "metadata": {},
     "output_type": "execute_result"
    }
   ],
   "source": [
    "from scipy.stats import zscore\n",
    "z=np.abs(zscore(df))\n",
    "z.shape"
   ]
  },
  {
   "cell_type": "code",
   "execution_count": 40,
   "id": "281882e9",
   "metadata": {},
   "outputs": [
    {
     "name": "stdout",
     "output_type": "stream",
     "text": [
      "(array([ 16, 101], dtype=int64), array([2, 2], dtype=int64))\n"
     ]
    }
   ],
   "source": [
    "threshold=3\n",
    "print(np.where(z>3))"
   ]
  },
  {
   "cell_type": "code",
   "execution_count": 41,
   "id": "664ae289",
   "metadata": {},
   "outputs": [
    {
     "name": "stdout",
     "output_type": "stream",
     "text": [
      "(200, 4)\n",
      "(198, 4)\n"
     ]
    }
   ],
   "source": [
    "df_new=df[(z<3).all(axis=1)]\n",
    "print(df.shape)\n",
    "print(df_new.shape)"
   ]
  },
  {
   "cell_type": "code",
   "execution_count": 42,
   "id": "357a119c",
   "metadata": {},
   "outputs": [
    {
     "data": {
      "text/plain": [
       "1.0"
      ]
     },
     "execution_count": 42,
     "metadata": {},
     "output_type": "execute_result"
    }
   ],
   "source": [
    "loss_percentage= ((200-198)/200)*100\n",
    "loss_percentage"
   ]
  },
  {
   "cell_type": "markdown",
   "id": "4b85095d",
   "metadata": {},
   "source": [
    "Lets not delete the data as we have only 1% loss and it is not going to impact much"
   ]
  },
  {
   "cell_type": "code",
   "execution_count": 43,
   "id": "824ce834",
   "metadata": {},
   "outputs": [
    {
     "data": {
      "text/html": [
       "<div>\n",
       "<style scoped>\n",
       "    .dataframe tbody tr th:only-of-type {\n",
       "        vertical-align: middle;\n",
       "    }\n",
       "\n",
       "    .dataframe tbody tr th {\n",
       "        vertical-align: top;\n",
       "    }\n",
       "\n",
       "    .dataframe thead th {\n",
       "        text-align: right;\n",
       "    }\n",
       "</style>\n",
       "<table border=\"1\" class=\"dataframe\">\n",
       "  <thead>\n",
       "    <tr style=\"text-align: right;\">\n",
       "      <th></th>\n",
       "      <th>TV</th>\n",
       "      <th>radio</th>\n",
       "      <th>newspaper</th>\n",
       "      <th>sales</th>\n",
       "    </tr>\n",
       "  </thead>\n",
       "  <tbody>\n",
       "    <tr>\n",
       "      <th>0</th>\n",
       "      <td>230.1</td>\n",
       "      <td>37.8</td>\n",
       "      <td>69.2</td>\n",
       "      <td>22.1</td>\n",
       "    </tr>\n",
       "    <tr>\n",
       "      <th>1</th>\n",
       "      <td>44.5</td>\n",
       "      <td>39.3</td>\n",
       "      <td>45.1</td>\n",
       "      <td>10.4</td>\n",
       "    </tr>\n",
       "  </tbody>\n",
       "</table>\n",
       "</div>"
      ],
      "text/plain": [
       "      TV  radio  newspaper  sales\n",
       "0  230.1   37.8       69.2   22.1\n",
       "1   44.5   39.3       45.1   10.4"
      ]
     },
     "execution_count": 43,
     "metadata": {},
     "output_type": "execute_result"
    }
   ],
   "source": [
    "df.head(2)"
   ]
  },
  {
   "cell_type": "code",
   "execution_count": 44,
   "id": "a7e9616c",
   "metadata": {},
   "outputs": [
    {
     "name": "stdout",
     "output_type": "stream",
     "text": [
      "(200, 3)\n"
     ]
    }
   ],
   "source": [
    "x = df.drop(['sales'], axis = 1)\n",
    "\n",
    "# checking the shape of the dataset\n",
    "print(x.shape)"
   ]
  },
  {
   "cell_type": "markdown",
   "id": "431d95d4",
   "metadata": {},
   "source": [
    "# Power Transform"
   ]
  },
  {
   "cell_type": "code",
   "execution_count": 45,
   "id": "5a495900",
   "metadata": {},
   "outputs": [],
   "source": [
    "#dataToPlot\n",
    "from sklearn.preprocessing import power_transform\n",
    "x=power_transform(x,method='yeo-johnson')"
   ]
  },
  {
   "cell_type": "code",
   "execution_count": 46,
   "id": "d411db2a",
   "metadata": {},
   "outputs": [
    {
     "data": {
      "text/plain": [
       "TV          -0.069853\n",
       "radio        0.094175\n",
       "newspaper    0.894720\n",
       "sales        0.407571\n",
       "dtype: float64"
      ]
     },
     "execution_count": 46,
     "metadata": {},
     "output_type": "execute_result"
    }
   ],
   "source": [
    "df.skew()"
   ]
  },
  {
   "cell_type": "code",
   "execution_count": 47,
   "id": "b2973a1b",
   "metadata": {},
   "outputs": [
    {
     "data": {
      "text/html": [
       "<div>\n",
       "<style scoped>\n",
       "    .dataframe tbody tr th:only-of-type {\n",
       "        vertical-align: middle;\n",
       "    }\n",
       "\n",
       "    .dataframe tbody tr th {\n",
       "        vertical-align: top;\n",
       "    }\n",
       "\n",
       "    .dataframe thead th {\n",
       "        text-align: right;\n",
       "    }\n",
       "</style>\n",
       "<table border=\"1\" class=\"dataframe\">\n",
       "  <thead>\n",
       "    <tr style=\"text-align: right;\">\n",
       "      <th></th>\n",
       "      <th>TV</th>\n",
       "      <th>radio</th>\n",
       "      <th>newspaper</th>\n",
       "    </tr>\n",
       "  </thead>\n",
       "  <tbody>\n",
       "    <tr>\n",
       "      <th>0</th>\n",
       "      <td>230.1</td>\n",
       "      <td>37.8</td>\n",
       "      <td>69.2</td>\n",
       "    </tr>\n",
       "    <tr>\n",
       "      <th>1</th>\n",
       "      <td>44.5</td>\n",
       "      <td>39.3</td>\n",
       "      <td>45.1</td>\n",
       "    </tr>\n",
       "    <tr>\n",
       "      <th>2</th>\n",
       "      <td>17.2</td>\n",
       "      <td>45.9</td>\n",
       "      <td>69.3</td>\n",
       "    </tr>\n",
       "    <tr>\n",
       "      <th>3</th>\n",
       "      <td>151.5</td>\n",
       "      <td>41.3</td>\n",
       "      <td>58.5</td>\n",
       "    </tr>\n",
       "    <tr>\n",
       "      <th>4</th>\n",
       "      <td>180.8</td>\n",
       "      <td>10.8</td>\n",
       "      <td>58.4</td>\n",
       "    </tr>\n",
       "    <tr>\n",
       "      <th>...</th>\n",
       "      <td>...</td>\n",
       "      <td>...</td>\n",
       "      <td>...</td>\n",
       "    </tr>\n",
       "    <tr>\n",
       "      <th>195</th>\n",
       "      <td>38.2</td>\n",
       "      <td>3.7</td>\n",
       "      <td>13.8</td>\n",
       "    </tr>\n",
       "    <tr>\n",
       "      <th>196</th>\n",
       "      <td>94.2</td>\n",
       "      <td>4.9</td>\n",
       "      <td>8.1</td>\n",
       "    </tr>\n",
       "    <tr>\n",
       "      <th>197</th>\n",
       "      <td>177.0</td>\n",
       "      <td>9.3</td>\n",
       "      <td>6.4</td>\n",
       "    </tr>\n",
       "    <tr>\n",
       "      <th>198</th>\n",
       "      <td>283.6</td>\n",
       "      <td>42.0</td>\n",
       "      <td>66.2</td>\n",
       "    </tr>\n",
       "    <tr>\n",
       "      <th>199</th>\n",
       "      <td>232.1</td>\n",
       "      <td>8.6</td>\n",
       "      <td>8.7</td>\n",
       "    </tr>\n",
       "  </tbody>\n",
       "</table>\n",
       "<p>200 rows × 3 columns</p>\n",
       "</div>"
      ],
      "text/plain": [
       "        TV  radio  newspaper\n",
       "0    230.1   37.8       69.2\n",
       "1     44.5   39.3       45.1\n",
       "2     17.2   45.9       69.3\n",
       "3    151.5   41.3       58.5\n",
       "4    180.8   10.8       58.4\n",
       "..     ...    ...        ...\n",
       "195   38.2    3.7       13.8\n",
       "196   94.2    4.9        8.1\n",
       "197  177.0    9.3        6.4\n",
       "198  283.6   42.0       66.2\n",
       "199  232.1    8.6        8.7\n",
       "\n",
       "[200 rows x 3 columns]"
      ]
     },
     "execution_count": 47,
     "metadata": {},
     "output_type": "execute_result"
    }
   ],
   "source": [
    "X_vif=df.drop(columns=['sales'])\n",
    "X_vif"
   ]
  },
  {
   "cell_type": "markdown",
   "id": "604d8b09",
   "metadata": {},
   "source": [
    "# Standard Scalar"
   ]
  },
  {
   "cell_type": "code",
   "execution_count": 48,
   "id": "45150fd6",
   "metadata": {},
   "outputs": [],
   "source": [
    "from sklearn.preprocessing import StandardScaler\n",
    "sc=StandardScaler()\n",
    "\n",
    "x=sc.fit_transform(x)"
   ]
  },
  {
   "cell_type": "code",
   "execution_count": 49,
   "id": "0557de93",
   "metadata": {},
   "outputs": [],
   "source": [
    "# Finding variance Inflation factor in each scaled column i.e x.shape[1] (1/(1-R2)\n",
    "# Age and Expereince, you can predict Salary, so Multi colinearity problem is there\n",
    "# Thats why we first use Standard Scaler to standardise the data and then use vif"
   ]
  },
  {
   "cell_type": "code",
   "execution_count": 50,
   "id": "b8bfdd0f",
   "metadata": {},
   "outputs": [
    {
     "data": {
      "text/html": [
       "<div>\n",
       "<style scoped>\n",
       "    .dataframe tbody tr th:only-of-type {\n",
       "        vertical-align: middle;\n",
       "    }\n",
       "\n",
       "    .dataframe tbody tr th {\n",
       "        vertical-align: top;\n",
       "    }\n",
       "\n",
       "    .dataframe thead th {\n",
       "        text-align: right;\n",
       "    }\n",
       "</style>\n",
       "<table border=\"1\" class=\"dataframe\">\n",
       "  <thead>\n",
       "    <tr style=\"text-align: right;\">\n",
       "      <th></th>\n",
       "      <th>vif</th>\n",
       "      <th>features</th>\n",
       "    </tr>\n",
       "  </thead>\n",
       "  <tbody>\n",
       "    <tr>\n",
       "      <th>0</th>\n",
       "      <td>1.003112</td>\n",
       "      <td>TV</td>\n",
       "    </tr>\n",
       "    <tr>\n",
       "      <th>1</th>\n",
       "      <td>1.094332</td>\n",
       "      <td>radio</td>\n",
       "    </tr>\n",
       "    <tr>\n",
       "      <th>2</th>\n",
       "      <td>1.093766</td>\n",
       "      <td>newspaper</td>\n",
       "    </tr>\n",
       "  </tbody>\n",
       "</table>\n",
       "</div>"
      ],
      "text/plain": [
       "        vif   features\n",
       "0  1.003112         TV\n",
       "1  1.094332      radio\n",
       "2  1.093766  newspaper"
      ]
     },
     "execution_count": 50,
     "metadata": {},
     "output_type": "execute_result"
    }
   ],
   "source": [
    "from statsmodels.stats.outliers_influence import variance_inflation_factor\n",
    "vif=pd.DataFrame()\n",
    "vif['vif']=[variance_inflation_factor(x,i) for i in range(x.shape[1])]\n",
    "vif['features']=X_vif.columns\n",
    "\n",
    "# Let's check the values now\n",
    "vif"
   ]
  },
  {
   "cell_type": "markdown",
   "id": "d70cc030",
   "metadata": {},
   "source": [
    "We dont see any multi collinearity problem here"
   ]
  },
  {
   "cell_type": "code",
   "execution_count": 51,
   "id": "20f862d3",
   "metadata": {},
   "outputs": [
    {
     "data": {
      "text/html": [
       "<div>\n",
       "<style scoped>\n",
       "    .dataframe tbody tr th:only-of-type {\n",
       "        vertical-align: middle;\n",
       "    }\n",
       "\n",
       "    .dataframe tbody tr th {\n",
       "        vertical-align: top;\n",
       "    }\n",
       "\n",
       "    .dataframe thead th {\n",
       "        text-align: right;\n",
       "    }\n",
       "</style>\n",
       "<table border=\"1\" class=\"dataframe\">\n",
       "  <thead>\n",
       "    <tr style=\"text-align: right;\">\n",
       "      <th></th>\n",
       "      <th>TV</th>\n",
       "      <th>radio</th>\n",
       "      <th>newspaper</th>\n",
       "      <th>sales</th>\n",
       "    </tr>\n",
       "  </thead>\n",
       "  <tbody>\n",
       "    <tr>\n",
       "      <th>0</th>\n",
       "      <td>230.1</td>\n",
       "      <td>37.8</td>\n",
       "      <td>69.2</td>\n",
       "      <td>22.1</td>\n",
       "    </tr>\n",
       "    <tr>\n",
       "      <th>1</th>\n",
       "      <td>44.5</td>\n",
       "      <td>39.3</td>\n",
       "      <td>45.1</td>\n",
       "      <td>10.4</td>\n",
       "    </tr>\n",
       "  </tbody>\n",
       "</table>\n",
       "</div>"
      ],
      "text/plain": [
       "      TV  radio  newspaper  sales\n",
       "0  230.1   37.8       69.2   22.1\n",
       "1   44.5   39.3       45.1   10.4"
      ]
     },
     "execution_count": 51,
     "metadata": {},
     "output_type": "execute_result"
    }
   ],
   "source": [
    "df.head(2)"
   ]
  },
  {
   "cell_type": "code",
   "execution_count": 52,
   "id": "d13ca0e1",
   "metadata": {},
   "outputs": [
    {
     "name": "stdout",
     "output_type": "stream",
     "text": [
      "(200, 3)\n",
      "(200,)\n"
     ]
    }
   ],
   "source": [
    "features = df.drop(\"sales\", axis=1)\n",
    "target = df[\"sales\"]\n",
    "\n",
    "# determining the shape of x and y.\n",
    "print(features.shape)\n",
    "print(target.shape)"
   ]
  },
  {
   "cell_type": "code",
   "execution_count": 53,
   "id": "fcc1cbe8",
   "metadata": {},
   "outputs": [
    {
     "data": {
      "text/html": [
       "<div>\n",
       "<style scoped>\n",
       "    .dataframe tbody tr th:only-of-type {\n",
       "        vertical-align: middle;\n",
       "    }\n",
       "\n",
       "    .dataframe tbody tr th {\n",
       "        vertical-align: top;\n",
       "    }\n",
       "\n",
       "    .dataframe thead th {\n",
       "        text-align: right;\n",
       "    }\n",
       "</style>\n",
       "<table border=\"1\" class=\"dataframe\">\n",
       "  <thead>\n",
       "    <tr style=\"text-align: right;\">\n",
       "      <th></th>\n",
       "      <th>TV</th>\n",
       "      <th>radio</th>\n",
       "      <th>newspaper</th>\n",
       "      <th>sales</th>\n",
       "    </tr>\n",
       "  </thead>\n",
       "  <tbody>\n",
       "    <tr>\n",
       "      <th>0</th>\n",
       "      <td>230.1</td>\n",
       "      <td>37.8</td>\n",
       "      <td>69.2</td>\n",
       "      <td>22.1</td>\n",
       "    </tr>\n",
       "    <tr>\n",
       "      <th>1</th>\n",
       "      <td>44.5</td>\n",
       "      <td>39.3</td>\n",
       "      <td>45.1</td>\n",
       "      <td>10.4</td>\n",
       "    </tr>\n",
       "    <tr>\n",
       "      <th>2</th>\n",
       "      <td>17.2</td>\n",
       "      <td>45.9</td>\n",
       "      <td>69.3</td>\n",
       "      <td>9.3</td>\n",
       "    </tr>\n",
       "    <tr>\n",
       "      <th>3</th>\n",
       "      <td>151.5</td>\n",
       "      <td>41.3</td>\n",
       "      <td>58.5</td>\n",
       "      <td>18.5</td>\n",
       "    </tr>\n",
       "    <tr>\n",
       "      <th>4</th>\n",
       "      <td>180.8</td>\n",
       "      <td>10.8</td>\n",
       "      <td>58.4</td>\n",
       "      <td>12.9</td>\n",
       "    </tr>\n",
       "  </tbody>\n",
       "</table>\n",
       "</div>"
      ],
      "text/plain": [
       "      TV  radio  newspaper  sales\n",
       "0  230.1   37.8       69.2   22.1\n",
       "1   44.5   39.3       45.1   10.4\n",
       "2   17.2   45.9       69.3    9.3\n",
       "3  151.5   41.3       58.5   18.5\n",
       "4  180.8   10.8       58.4   12.9"
      ]
     },
     "execution_count": 53,
     "metadata": {},
     "output_type": "execute_result"
    }
   ],
   "source": [
    "df.head()"
   ]
  },
  {
   "cell_type": "markdown",
   "id": "6395e91e",
   "metadata": {},
   "source": [
    "# Linear Regression"
   ]
  },
  {
   "cell_type": "code",
   "execution_count": 54,
   "id": "24ce9562",
   "metadata": {},
   "outputs": [
    {
     "name": "stdout",
     "output_type": "stream",
     "text": [
      "2.9388893694594067\n",
      "[ 0.04576465  0.18853002 -0.00103749]\n"
     ]
    }
   ],
   "source": [
    "from sklearn.linear_model import LinearRegression\n",
    "lm=LinearRegression()\n",
    "lm.fit(features,target)\n",
    "\n",
    "#Print Intercept and CoEfficients\n",
    "print(lm.intercept_)\n",
    "print(lm.coef_)"
   ]
  },
  {
   "cell_type": "code",
   "execution_count": 55,
   "id": "bfc2752f",
   "metadata": {},
   "outputs": [
    {
     "name": "stdout",
     "output_type": "stream",
     "text": [
      "lm.rsquared     :  0.611875050850071\n",
      "lm.rsquared_adj : 0.6099148238341623\n"
     ]
    }
   ],
   "source": [
    "import statsmodels.formula.api as smf\n",
    "lm=smf.ols(formula='sales ~ TV',data=df).fit()\n",
    "print(\"lm.rsquared     : \",lm.rsquared)\n",
    "print(\"lm.rsquared_adj :\", lm.rsquared_adj)"
   ]
  },
  {
   "cell_type": "markdown",
   "id": "d33d0e04",
   "metadata": {},
   "source": [
    "If an Organisation spends just on advertisement via TV, the sales increases. The RSquare value and Adjusted RSquare values confirms the same"
   ]
  },
  {
   "cell_type": "code",
   "execution_count": 56,
   "id": "23a83fa3",
   "metadata": {},
   "outputs": [
    {
     "name": "stdout",
     "output_type": "stream",
     "text": [
      "lm.rsquared     :  0.33203245544529536\n",
      "lm.rsquared_adj : 0.32865888198794846\n"
     ]
    }
   ],
   "source": [
    "lm=smf.ols(formula='sales ~ radio',data=df).fit()\n",
    "print(\"lm.rsquared     : \",lm.rsquared)\n",
    "print(\"lm.rsquared_adj :\", lm.rsquared_adj)"
   ]
  },
  {
   "cell_type": "markdown",
   "id": "9c316198",
   "metadata": {},
   "source": [
    "If an Organisation spends just on advertisement via radio, the sales doesnot increase that much but it increases a bit. The RSquare value and Adjusted RSquare values confirms the same"
   ]
  },
  {
   "cell_type": "code",
   "execution_count": 57,
   "id": "dfe3bfb8",
   "metadata": {},
   "outputs": [
    {
     "name": "stdout",
     "output_type": "stream",
     "text": [
      "lm.rsquared     :  0.05212044544430516\n",
      "lm.rsquared_adj : 0.04733317496675127\n"
     ]
    }
   ],
   "source": [
    "lm=smf.ols(formula='sales ~ newspaper',data=df).fit()\n",
    "print(\"lm.rsquared     : \",lm.rsquared)\n",
    "print(\"lm.rsquared_adj :\", lm.rsquared_adj)"
   ]
  },
  {
   "cell_type": "markdown",
   "id": "44770c73",
   "metadata": {},
   "source": [
    "If an Organisation spends just on advertisement via newspaper, there is almost no impact on Sales. The RSquare value and Adjusted RSquare values confirms the same"
   ]
  },
  {
   "cell_type": "code",
   "execution_count": 58,
   "id": "84d859ae",
   "metadata": {},
   "outputs": [
    {
     "name": "stdout",
     "output_type": "stream",
     "text": [
      "lm.rsquared     :  0.8971942610828956\n",
      "lm.rsquared_adj : 0.8961505479974428\n"
     ]
    }
   ],
   "source": [
    "lm=smf.ols(formula='sales ~ TV+radio',data=df).fit()\n",
    "print(\"lm.rsquared     : \",lm.rsquared)\n",
    "print(\"lm.rsquared_adj :\", lm.rsquared_adj)"
   ]
  },
  {
   "cell_type": "markdown",
   "id": "03fd33e9",
   "metadata": {},
   "source": [
    "If an Organisation spends just on advertisement via TV and Radio both, the sales increases drastically when compared to the amount spend just on TV and Radio individually. The RSquare value and Adjusted RSquare values confirms the same"
   ]
  },
  {
   "cell_type": "code",
   "execution_count": 59,
   "id": "8cdc1eed",
   "metadata": {},
   "outputs": [
    {
     "name": "stdout",
     "output_type": "stream",
     "text": [
      "lm.rsquared     :  0.6458354938293271\n",
      "lm.rsquared_adj : 0.6422399150864777\n"
     ]
    }
   ],
   "source": [
    "lm=smf.ols(formula='sales ~ TV+newspaper',data=df).fit()\n",
    "print(\"lm.rsquared     : \",lm.rsquared)\n",
    "print(\"lm.rsquared_adj :\", lm.rsquared_adj)"
   ]
  },
  {
   "cell_type": "markdown",
   "id": "dcc51d03",
   "metadata": {},
   "source": [
    "If an Organisation spends just on advertisement via TV and newspaper, the sales increases due to amount spend on TV and not on newspaper. The RSquare value and Adjusted RSquare values confirms the same as it is almost equal when compared to amount spent on just TV to increase the sales"
   ]
  },
  {
   "cell_type": "code",
   "execution_count": 60,
   "id": "468521cd",
   "metadata": {},
   "outputs": [
    {
     "name": "stdout",
     "output_type": "stream",
     "text": [
      "lm.rsquared     :  0.33270518395032256\n",
      "lm.rsquared_adj : 0.3259306172899197\n"
     ]
    }
   ],
   "source": [
    "lm=smf.ols(formula='sales ~ radio+newspaper',data=df).fit()\n",
    "print(\"lm.rsquared     : \",lm.rsquared)\n",
    "print(\"lm.rsquared_adj :\", lm.rsquared_adj)"
   ]
  },
  {
   "cell_type": "markdown",
   "id": "f11f2022",
   "metadata": {},
   "source": [
    "If an Organisation spends just on advertisement via radio and newspaper, the sales increases due to amount spend on TV and not on newspaper. The RSquare value and Adjusted RSquare values confirms the same as it is almost equal when compared to amount spent on just radio to increase the sales"
   ]
  },
  {
   "cell_type": "code",
   "execution_count": 61,
   "id": "fb1f6874",
   "metadata": {},
   "outputs": [
    {
     "name": "stdout",
     "output_type": "stream",
     "text": [
      "lm.rsquared     :  0.8972106381789522\n",
      "lm.rsquared_adj : 0.8956373316204668\n"
     ]
    }
   ],
   "source": [
    "lm=smf.ols(formula='sales ~ TV+newspaper+radio',data=df).fit()\n",
    "print(\"lm.rsquared     : \",lm.rsquared)\n",
    "print(\"lm.rsquared_adj :\", lm.rsquared_adj)"
   ]
  },
  {
   "cell_type": "markdown",
   "id": "ff9a2f63",
   "metadata": {},
   "source": [
    "If an Organisation spends just on advertisement via TV, radio and newspaper, the sales increases due to amount spend on TV & radio and not on newspaper. The RSquare value and Adjusted RSquare values confirms the same as it is almost equal when compared to amount spent on just TV and radio to increase the sales"
   ]
  },
  {
   "cell_type": "markdown",
   "id": "a2b58809",
   "metadata": {},
   "source": [
    "Hence it is advisable to spend money on TV and radio combinely. Lets see the RSquare, Adjusted RSquare, P-value etc in such case"
   ]
  },
  {
   "cell_type": "code",
   "execution_count": 62,
   "id": "52a9f686",
   "metadata": {},
   "outputs": [
    {
     "data": {
      "text/html": [
       "<table class=\"simpletable\">\n",
       "<caption>OLS Regression Results</caption>\n",
       "<tr>\n",
       "  <th>Dep. Variable:</th>          <td>sales</td>      <th>  R-squared:         </th> <td>   0.897</td>\n",
       "</tr>\n",
       "<tr>\n",
       "  <th>Model:</th>                   <td>OLS</td>       <th>  Adj. R-squared:    </th> <td>   0.896</td>\n",
       "</tr>\n",
       "<tr>\n",
       "  <th>Method:</th>             <td>Least Squares</td>  <th>  F-statistic:       </th> <td>   859.6</td>\n",
       "</tr>\n",
       "<tr>\n",
       "  <th>Date:</th>             <td>Sun, 27 Feb 2022</td> <th>  Prob (F-statistic):</th> <td>4.83e-98</td>\n",
       "</tr>\n",
       "<tr>\n",
       "  <th>Time:</th>                 <td>01:38:19</td>     <th>  Log-Likelihood:    </th> <td> -386.20</td>\n",
       "</tr>\n",
       "<tr>\n",
       "  <th>No. Observations:</th>      <td>   200</td>      <th>  AIC:               </th> <td>   778.4</td>\n",
       "</tr>\n",
       "<tr>\n",
       "  <th>Df Residuals:</th>          <td>   197</td>      <th>  BIC:               </th> <td>   788.3</td>\n",
       "</tr>\n",
       "<tr>\n",
       "  <th>Df Model:</th>              <td>     2</td>      <th>                     </th>     <td> </td>   \n",
       "</tr>\n",
       "<tr>\n",
       "  <th>Covariance Type:</th>      <td>nonrobust</td>    <th>                     </th>     <td> </td>   \n",
       "</tr>\n",
       "</table>\n",
       "<table class=\"simpletable\">\n",
       "<tr>\n",
       "      <td></td>         <th>coef</th>     <th>std err</th>      <th>t</th>      <th>P>|t|</th>  <th>[0.025</th>    <th>0.975]</th>  \n",
       "</tr>\n",
       "<tr>\n",
       "  <th>Intercept</th> <td>    2.9211</td> <td>    0.294</td> <td>    9.919</td> <td> 0.000</td> <td>    2.340</td> <td>    3.502</td>\n",
       "</tr>\n",
       "<tr>\n",
       "  <th>TV</th>        <td>    0.0458</td> <td>    0.001</td> <td>   32.909</td> <td> 0.000</td> <td>    0.043</td> <td>    0.048</td>\n",
       "</tr>\n",
       "<tr>\n",
       "  <th>radio</th>     <td>    0.1880</td> <td>    0.008</td> <td>   23.382</td> <td> 0.000</td> <td>    0.172</td> <td>    0.204</td>\n",
       "</tr>\n",
       "</table>\n",
       "<table class=\"simpletable\">\n",
       "<tr>\n",
       "  <th>Omnibus:</th>       <td>60.022</td> <th>  Durbin-Watson:     </th> <td>   2.081</td>\n",
       "</tr>\n",
       "<tr>\n",
       "  <th>Prob(Omnibus):</th> <td> 0.000</td> <th>  Jarque-Bera (JB):  </th> <td> 148.679</td>\n",
       "</tr>\n",
       "<tr>\n",
       "  <th>Skew:</th>          <td>-1.323</td> <th>  Prob(JB):          </th> <td>5.19e-33</td>\n",
       "</tr>\n",
       "<tr>\n",
       "  <th>Kurtosis:</th>      <td> 6.292</td> <th>  Cond. No.          </th> <td>    425.</td>\n",
       "</tr>\n",
       "</table><br/><br/>Notes:<br/>[1] Standard Errors assume that the covariance matrix of the errors is correctly specified."
      ],
      "text/plain": [
       "<class 'statsmodels.iolib.summary.Summary'>\n",
       "\"\"\"\n",
       "                            OLS Regression Results                            \n",
       "==============================================================================\n",
       "Dep. Variable:                  sales   R-squared:                       0.897\n",
       "Model:                            OLS   Adj. R-squared:                  0.896\n",
       "Method:                 Least Squares   F-statistic:                     859.6\n",
       "Date:                Sun, 27 Feb 2022   Prob (F-statistic):           4.83e-98\n",
       "Time:                        01:38:19   Log-Likelihood:                -386.20\n",
       "No. Observations:                 200   AIC:                             778.4\n",
       "Df Residuals:                     197   BIC:                             788.3\n",
       "Df Model:                           2                                         \n",
       "Covariance Type:            nonrobust                                         \n",
       "==============================================================================\n",
       "                 coef    std err          t      P>|t|      [0.025      0.975]\n",
       "------------------------------------------------------------------------------\n",
       "Intercept      2.9211      0.294      9.919      0.000       2.340       3.502\n",
       "TV             0.0458      0.001     32.909      0.000       0.043       0.048\n",
       "radio          0.1880      0.008     23.382      0.000       0.172       0.204\n",
       "==============================================================================\n",
       "Omnibus:                       60.022   Durbin-Watson:                   2.081\n",
       "Prob(Omnibus):                  0.000   Jarque-Bera (JB):              148.679\n",
       "Skew:                          -1.323   Prob(JB):                     5.19e-33\n",
       "Kurtosis:                       6.292   Cond. No.                         425.\n",
       "==============================================================================\n",
       "\n",
       "Notes:\n",
       "[1] Standard Errors assume that the covariance matrix of the errors is correctly specified.\n",
       "\"\"\""
      ]
     },
     "execution_count": 62,
     "metadata": {},
     "output_type": "execute_result"
    }
   ],
   "source": [
    "lm=smf.ols(formula='sales ~ TV +radio',data=df).fit()\n",
    "lm.summary()"
   ]
  },
  {
   "cell_type": "markdown",
   "id": "5e51a551",
   "metadata": {},
   "source": [
    "# Dividing the dataset into Features and Target"
   ]
  },
  {
   "cell_type": "code",
   "execution_count": 63,
   "id": "b1e419af",
   "metadata": {},
   "outputs": [
    {
     "data": {
      "text/html": [
       "<div>\n",
       "<style scoped>\n",
       "    .dataframe tbody tr th:only-of-type {\n",
       "        vertical-align: middle;\n",
       "    }\n",
       "\n",
       "    .dataframe tbody tr th {\n",
       "        vertical-align: top;\n",
       "    }\n",
       "\n",
       "    .dataframe thead th {\n",
       "        text-align: right;\n",
       "    }\n",
       "</style>\n",
       "<table border=\"1\" class=\"dataframe\">\n",
       "  <thead>\n",
       "    <tr style=\"text-align: right;\">\n",
       "      <th></th>\n",
       "      <th>TV</th>\n",
       "      <th>radio</th>\n",
       "      <th>newspaper</th>\n",
       "      <th>sales</th>\n",
       "    </tr>\n",
       "  </thead>\n",
       "  <tbody>\n",
       "    <tr>\n",
       "      <th>0</th>\n",
       "      <td>230.1</td>\n",
       "      <td>37.8</td>\n",
       "      <td>69.2</td>\n",
       "      <td>22.1</td>\n",
       "    </tr>\n",
       "  </tbody>\n",
       "</table>\n",
       "</div>"
      ],
      "text/plain": [
       "      TV  radio  newspaper  sales\n",
       "0  230.1   37.8       69.2   22.1"
      ]
     },
     "execution_count": 63,
     "metadata": {},
     "output_type": "execute_result"
    }
   ],
   "source": [
    "df.head(1)"
   ]
  },
  {
   "cell_type": "code",
   "execution_count": 64,
   "id": "75b585d2",
   "metadata": {},
   "outputs": [],
   "source": [
    "from sklearn.model_selection import train_test_split\n",
    "from sklearn.linear_model import LogisticRegression\n",
    "lr=LinearRegression()\n",
    "from sklearn.metrics import accuracy_score"
   ]
  },
  {
   "cell_type": "markdown",
   "id": "c3199cf0",
   "metadata": {},
   "source": [
    "# Train-Test Split"
   ]
  },
  {
   "cell_type": "code",
   "execution_count": 65,
   "id": "fedc856e",
   "metadata": {},
   "outputs": [],
   "source": [
    "x_train, x_test, y_train, y_test=train_test_split(features,target,test_size=0.2,random_state=5)\n",
    "lr.fit(x_train,y_train)\n",
    "pred_train=lr.predict(x_train)\n",
    "pred_test=lr.predict(x_test)"
   ]
  },
  {
   "cell_type": "code",
   "execution_count": 66,
   "id": "fd16a901",
   "metadata": {},
   "outputs": [
    {
     "name": "stdout",
     "output_type": "stream",
     "text": [
      "Intercept 2.931280343575775\n",
      "TV 0.04688034130700544\n",
      "Radio 0.18243279575750576\n",
      "NewsPapaer -0.0016467403865370904\n"
     ]
    }
   ],
   "source": [
    "print('Intercept',lr.intercept_)\n",
    "print('TV',lr.coef_[0])\n",
    "print('Radio',lr.coef_[1])\n",
    "print('NewsPapaer',lr.coef_[2])"
   ]
  },
  {
   "cell_type": "code",
   "execution_count": 67,
   "id": "3a52188c",
   "metadata": {},
   "outputs": [],
   "source": [
    "from sklearn import metrics"
   ]
  },
  {
   "cell_type": "code",
   "execution_count": 68,
   "id": "21f053bf",
   "metadata": {},
   "outputs": [
    {
     "name": "stdout",
     "output_type": "stream",
     "text": [
      "mean_absolute_error : 1.2627588445974747\n",
      "mean_squared_error :  2.8639563073255165\n",
      "root_mean_squared_error :  1.6923227550693505\n"
     ]
    }
   ],
   "source": [
    "# calculate MAE, MSE, RMSE on Train Data\n",
    "print (\"mean_absolute_error :\",metrics.mean_absolute_error(y_train, pred_train))\n",
    "print (\"mean_squared_error : \",metrics.mean_squared_error(y_train, pred_train))\n",
    "print (\"root_mean_squared_error : \",np.sqrt(metrics.mean_squared_error(y_train, pred_train)))"
   ]
  },
  {
   "cell_type": "code",
   "execution_count": 69,
   "id": "7b96047a",
   "metadata": {},
   "outputs": [
    {
     "name": "stdout",
     "output_type": "stream",
     "text": [
      "mean_absolute_error : 1.2673937159929243\n",
      "mean_squared_error :  2.5509646159531068\n",
      "root_mean_squared_error :  1.5971739466799184\n"
     ]
    }
   ],
   "source": [
    "# calculate MAE, MSE, RMSE on Test Data\n",
    "print (\"mean_absolute_error :\",metrics.mean_absolute_error(y_test, pred_test))\n",
    "print (\"mean_squared_error : \",metrics.mean_squared_error(y_test, pred_test))\n",
    "print (\"root_mean_squared_error : \",np.sqrt(metrics.mean_squared_error(y_test, pred_test)))"
   ]
  },
  {
   "cell_type": "markdown",
   "id": "dd8b682e",
   "metadata": {},
   "source": [
    "MSE is more popular than MAE because MSE “eliminates” larger errors. But, RMSE is even more better than MSE because RMSE is interpretable in the “y” units."
   ]
  },
  {
   "cell_type": "markdown",
   "id": "8ece2782",
   "metadata": {},
   "source": [
    "We are going to invest in TV and Radio and not on newspaper.\n",
    "\n",
    "There is no relationship between Newspaper and sales, hence here we fail to reject Null Hypothesis\n",
    "\n",
    "For TV and Radio, We reject Null Hypothesis"
   ]
  },
  {
   "cell_type": "markdown",
   "id": "cf962b16",
   "metadata": {},
   "source": [
    "# Cross-Validation of the model"
   ]
  },
  {
   "cell_type": "code",
   "execution_count": 72,
   "id": "134e745f",
   "metadata": {},
   "outputs": [
    {
     "name": "stdout",
     "output_type": "stream",
     "text": [
      "At cross fold 2 the cv score is 0.8908473589845056 and accuracy score for training is 0.8956962280033929 and accuracy for the testing is 0.8984204533332627 \n",
      "\n",
      "\n",
      "At cross fold 3 the cv score is 0.8916464591145559 and accuracy score for training is 0.8956962280033929 and accuracy for the testing is 0.8984204533332627 \n",
      "\n",
      "\n",
      "At cross fold 4 the cv score is 0.8900070660549507 and accuracy score for training is 0.8956962280033929 and accuracy for the testing is 0.8984204533332627 \n",
      "\n",
      "\n",
      "At cross fold 5 the cv score is 0.8871063495438436 and accuracy score for training is 0.8956962280033929 and accuracy for the testing is 0.8984204533332627 \n",
      "\n",
      "\n",
      "At cross fold 6 the cv score is 0.8899208882186672 and accuracy score for training is 0.8956962280033929 and accuracy for the testing is 0.8984204533332627 \n",
      "\n",
      "\n",
      "At cross fold 7 the cv score is 0.8859930219823539 and accuracy score for training is 0.8956962280033929 and accuracy for the testing is 0.8984204533332627 \n",
      "\n",
      "\n",
      "At cross fold 8 the cv score is 0.8826686689919152 and accuracy score for training is 0.8956962280033929 and accuracy for the testing is 0.8984204533332627 \n",
      "\n",
      "\n",
      "At cross fold 9 the cv score is 0.8822728227103587 and accuracy score for training is 0.8956962280033929 and accuracy for the testing is 0.8984204533332627 \n",
      "\n",
      "\n"
     ]
    }
   ],
   "source": [
    "from sklearn.metrics import r2_score\n",
    "\n",
    "train_accuracy=r2_score(y_train,pred_train)\n",
    "test_accuracy=r2_score(y_test,pred_test)\n",
    "\n",
    "from sklearn.model_selection import cross_val_score\n",
    "for j in range(2,10):\n",
    "    cv_score=cross_val_score(lr,features,target,cv=j)\n",
    "    cv_mean=cv_score.mean()\n",
    "    print(f\"At cross fold {j} the cv score is {cv_mean} and accuracy score for training is {train_accuracy} and accuracy for the testing is {test_accuracy} \")\n",
    "    print(\"\\n\")"
   ]
  },
  {
   "cell_type": "markdown",
   "id": "077e344e",
   "metadata": {},
   "source": [
    "We will select CV=5"
   ]
  },
  {
   "cell_type": "code",
   "execution_count": 73,
   "id": "bad0d310",
   "metadata": {},
   "outputs": [
    {
     "data": {
      "text/html": [
       "<div>\n",
       "<style scoped>\n",
       "    .dataframe tbody tr th:only-of-type {\n",
       "        vertical-align: middle;\n",
       "    }\n",
       "\n",
       "    .dataframe tbody tr th {\n",
       "        vertical-align: top;\n",
       "    }\n",
       "\n",
       "    .dataframe thead th {\n",
       "        text-align: right;\n",
       "    }\n",
       "</style>\n",
       "<table border=\"1\" class=\"dataframe\">\n",
       "  <thead>\n",
       "    <tr style=\"text-align: right;\">\n",
       "      <th></th>\n",
       "      <th>Model</th>\n",
       "      <th>MAE</th>\n",
       "      <th>MSE</th>\n",
       "      <th>RMSE</th>\n",
       "      <th>R2 Score</th>\n",
       "      <th>CV Score</th>\n",
       "      <th>RMSE(train-test)</th>\n",
       "    </tr>\n",
       "  </thead>\n",
       "  <tbody>\n",
       "    <tr>\n",
       "      <th>0</th>\n",
       "      <td>Linear Regression</td>\n",
       "      <td>1.267394</td>\n",
       "      <td>2.550965</td>\n",
       "      <td>1.597174</td>\n",
       "      <td>0.89842</td>\n",
       "      <td>0.887106</td>\n",
       "      <td>0.095149</td>\n",
       "    </tr>\n",
       "  </tbody>\n",
       "</table>\n",
       "</div>"
      ],
      "text/plain": [
       "               Model       MAE       MSE      RMSE  R2 Score  CV Score  \\\n",
       "0  Linear Regression  1.267394  2.550965  1.597174   0.89842  0.887106   \n",
       "\n",
       "   RMSE(train-test)  \n",
       "0          0.095149  "
      ]
     },
     "execution_count": 73,
     "metadata": {},
     "output_type": "execute_result"
    }
   ],
   "source": [
    "lr_data = {'Model': ['Linear Regression'], \n",
    "           'MAE': metrics.mean_absolute_error(y_test, pred_test),'MSE':metrics.mean_squared_error(y_test, pred_test),\n",
    "           'RMSE':np.sqrt(metrics.mean_squared_error(y_test, pred_test)),\n",
    "           'R2 Score': r2_score(y_test,pred_test),\n",
    "           'CV Score': (cross_val_score(lr,features,target,cv=5).mean()),\n",
    "           'RMSE(train-test)': (np.sqrt(metrics.mean_squared_error(y_train, pred_train)))-(np.sqrt(metrics.mean_squared_error(y_test, pred_test)))          \n",
    "          }  \n",
    "\n",
    "df_LR = pd.DataFrame(lr_data)  \n",
    "df_LR"
   ]
  },
  {
   "cell_type": "markdown",
   "id": "f362f259",
   "metadata": {},
   "source": [
    "# Regularization Techniques"
   ]
  },
  {
   "cell_type": "markdown",
   "id": "05e064d2",
   "metadata": {},
   "source": [
    "Once we use linear regression on a data-set divided in to training and test set, calculating the scores on training and test set can give us a rough idea about whether the model is suffering from over-fitting or under-fitting.\n",
    "\n",
    "If we have very few features on a data-set and the score is poor for both training and test set then it’s a problem of under-fitting. On the other hand if we have large number of features and test score is relatively poor than the training score then it’s the problem of over-fitting.\n",
    "\n",
    "Regularization is a simple technique to reduce model complexity and prevent over-fitting which may result from simple linear regression."
   ]
  },
  {
   "cell_type": "markdown",
   "id": "bc57c546",
   "metadata": {},
   "source": [
    "# Ridge"
   ]
  },
  {
   "cell_type": "code",
   "execution_count": 78,
   "id": "18b0cef9",
   "metadata": {},
   "outputs": [
    {
     "name": "stdout",
     "output_type": "stream",
     "text": [
      "r2_score 0.7232684203268891\n",
      "mean_absolute_error : 2.179171973590628\n",
      "mean_squared_error :  6.949553242041344\n",
      "root_mean_squared_error :  2.6362005314545676\n"
     ]
    }
   ],
   "source": [
    "from sklearn.linear_model import Ridge\n",
    "\n",
    "ridgeReg = Ridge(alpha=0.9,max_iter=50, normalize=True)\n",
    "\n",
    "ridgeReg.fit(x_train,y_train)\n",
    "ridge_pred = ridgeReg.predict(x_test)\n",
    "ridge_pred_train = ridgeReg.predict(x_train)\n",
    "\n",
    "# RMSE\n",
    "print(\"r2_score\",r2_score(y_test,ridge_pred))\n",
    "print (\"mean_absolute_error :\",metrics.mean_absolute_error(y_test, ridge_pred))\n",
    "print (\"mean_squared_error : \",metrics.mean_squared_error(y_test, ridge_pred))\n",
    "print (\"root_mean_squared_error : \",np.sqrt(metrics.mean_squared_error(y_test, ridge_pred)))"
   ]
  },
  {
   "cell_type": "code",
   "execution_count": 79,
   "id": "03597d80",
   "metadata": {},
   "outputs": [
    {
     "name": "stdout",
     "output_type": "stream",
     "text": [
      "7.659884504161116\n",
      "[0.02502313 0.09632279 0.0119806 ]\n"
     ]
    }
   ],
   "source": [
    "print(ridgeReg.intercept_)\n",
    "print(ridgeReg.coef_)"
   ]
  },
  {
   "cell_type": "code",
   "execution_count": 87,
   "id": "3bcaf418",
   "metadata": {},
   "outputs": [
    {
     "name": "stdout",
     "output_type": "stream",
     "text": [
      "r2_score 0.896138822290615\n",
      "mean_absolute_error : 1.3107857586773835\n",
      "mean_squared_error :  2.6082631592863406\n",
      "root_mean_squared_error :  1.6150118139773284\n",
      "Cross Validation Score :  0.8810861338185928\n"
     ]
    }
   ],
   "source": [
    "from sklearn.linear_model import Ridge\n",
    "\n",
    "ridgeReg = Ridge(alpha=0.1, max_iter=50,normalize=True)\n",
    "\n",
    "ridgeReg.fit(x_train,y_train)\n",
    "ridge_pred = ridgeReg.predict(x_test)\n",
    "ridge_pred_train = ridgeReg.predict(x_train)\n",
    "\n",
    "# RMSE\n",
    "print(\"r2_score\",r2_score(y_test,ridge_pred))\n",
    "print (\"mean_absolute_error :\",metrics.mean_absolute_error(y_test, ridge_pred))\n",
    "print (\"mean_squared_error : \",metrics.mean_squared_error(y_test, ridge_pred))\n",
    "print (\"root_mean_squared_error : \",np.sqrt(metrics.mean_squared_error(y_test, ridge_pred)))\n",
    "print(\"Cross Validation Score : \",cross_val_score(ridgeReg,features,target,cv=5).mean())"
   ]
  },
  {
   "cell_type": "code",
   "execution_count": 81,
   "id": "b9c644f6",
   "metadata": {},
   "outputs": [
    {
     "name": "stdout",
     "output_type": "stream",
     "text": [
      "3.7938716179146024\n",
      "[0.04271737 0.16505583 0.00293251]\n"
     ]
    }
   ],
   "source": [
    "print(ridgeReg.intercept_)\n",
    "print(ridgeReg.coef_)"
   ]
  },
  {
   "cell_type": "markdown",
   "id": "2564a93a",
   "metadata": {},
   "source": [
    "Cross Validation of Ridge"
   ]
  },
  {
   "cell_type": "code",
   "execution_count": 88,
   "id": "e647b347",
   "metadata": {},
   "outputs": [
    {
     "name": "stdout",
     "output_type": "stream",
     "text": [
      "r2_score 0.8886769078120739\n",
      "mean_absolute_error : 1.2904796234300717\n",
      "mean_squared_error :  3.0566916796926753\n",
      "root_mean_squared_error :  1.7483396923060104\n",
      "Cross Validation Score :  0.8810861338185928\n"
     ]
    }
   ],
   "source": [
    "# RMSE\n",
    "print(\"r2_score\",r2_score(y_train,ridge_pred_train))\n",
    "print (\"mean_absolute_error :\",metrics.mean_absolute_error(y_train, ridge_pred_train))\n",
    "print (\"mean_squared_error : \",metrics.mean_squared_error(y_train, ridge_pred_train))\n",
    "print (\"root_mean_squared_error : \",np.sqrt(metrics.mean_squared_error(y_train, ridge_pred_train)))\n",
    "print (\"Cross Validation Score : \", (cross_val_score(ridgeReg,features,target,cv=5).mean()))"
   ]
  },
  {
   "cell_type": "code",
   "execution_count": 89,
   "id": "de9b263a",
   "metadata": {},
   "outputs": [
    {
     "data": {
      "text/html": [
       "<div>\n",
       "<style scoped>\n",
       "    .dataframe tbody tr th:only-of-type {\n",
       "        vertical-align: middle;\n",
       "    }\n",
       "\n",
       "    .dataframe tbody tr th {\n",
       "        vertical-align: top;\n",
       "    }\n",
       "\n",
       "    .dataframe thead th {\n",
       "        text-align: right;\n",
       "    }\n",
       "</style>\n",
       "<table border=\"1\" class=\"dataframe\">\n",
       "  <thead>\n",
       "    <tr style=\"text-align: right;\">\n",
       "      <th></th>\n",
       "      <th>Model</th>\n",
       "      <th>MAE</th>\n",
       "      <th>MSE</th>\n",
       "      <th>RMSE</th>\n",
       "      <th>R2 Score</th>\n",
       "      <th>CV Score</th>\n",
       "      <th>RMSE(train-test)</th>\n",
       "    </tr>\n",
       "  </thead>\n",
       "  <tbody>\n",
       "    <tr>\n",
       "      <th>0</th>\n",
       "      <td>Ridge</td>\n",
       "      <td>1.310786</td>\n",
       "      <td>2.608263</td>\n",
       "      <td>1.615012</td>\n",
       "      <td>0.896139</td>\n",
       "      <td>0.881086</td>\n",
       "      <td>0.133328</td>\n",
       "    </tr>\n",
       "  </tbody>\n",
       "</table>\n",
       "</div>"
      ],
      "text/plain": [
       "   Model       MAE       MSE      RMSE  R2 Score  CV Score  RMSE(train-test)\n",
       "0  Ridge  1.310786  2.608263  1.615012  0.896139  0.881086          0.133328"
      ]
     },
     "execution_count": 89,
     "metadata": {},
     "output_type": "execute_result"
    }
   ],
   "source": [
    "ridge_data = {'Model': ['Ridge'], \n",
    "           'MAE': metrics.mean_absolute_error(y_test, ridge_pred),'MSE':metrics.mean_squared_error(y_test, ridge_pred),\n",
    "           'RMSE':np.sqrt(metrics.mean_squared_error(y_test, ridge_pred)),\n",
    "           'R2 Score': r2_score(y_test,ridge_pred),\n",
    "           'CV Score': (cross_val_score(ridgeReg,features,target,cv=5).mean()),\n",
    "           'RMSE(train-test)': (np.sqrt(metrics.mean_squared_error(y_train, ridge_pred_train)))-(np.sqrt(metrics.mean_squared_error(y_test, ridge_pred)))          \n",
    "          }  \n",
    "\n",
    "df_Ridge = pd.DataFrame(ridge_data)  \n",
    "df_Ridge"
   ]
  },
  {
   "cell_type": "markdown",
   "id": "3cc86bd8",
   "metadata": {},
   "source": [
    "As we can see, as we increase the value of alpha, the magnitude of the coefficients decreases, where the values reaches to zero but not absolute zero.\n",
    "\n",
    "We have to choose the value of alpha wisely by iterating it through a range of values and using the one which gives us the lowest error."
   ]
  },
  {
   "cell_type": "markdown",
   "id": "e54c6e03",
   "metadata": {},
   "source": [
    "# Lasso"
   ]
  },
  {
   "cell_type": "code",
   "execution_count": 90,
   "id": "41cba85b",
   "metadata": {},
   "outputs": [
    {
     "name": "stdout",
     "output_type": "stream",
     "text": [
      "r2_score -0.024110186691342017\n",
      "mean_absolute_error : 4.32834375\n",
      "mean_squared_error :  25.718453515625004\n",
      "root_mean_squared_error :  5.071336462474661\n",
      "Cross Validation Score is : -0.019858529714162288\n"
     ]
    }
   ],
   "source": [
    "from sklearn.linear_model import Lasso\n",
    "\n",
    "lassoReg = Lasso(alpha=0.9,max_iter=50, normalize=True)\n",
    "\n",
    "lassoReg.fit(x_train,y_train)\n",
    "lassoReg_pred = lassoReg.predict(x_test)\n",
    "lasso_train=lassoReg.predict(x_train)\n",
    "# RMSE\n",
    "print(\"r2_score\",r2_score(y_test,lassoReg_pred))\n",
    "print (\"mean_absolute_error :\",metrics.mean_absolute_error(y_test, lassoReg_pred))\n",
    "print (\"mean_squared_error : \",metrics.mean_squared_error(y_test, lassoReg_pred))\n",
    "print (\"root_mean_squared_error : \",np.sqrt(metrics.mean_squared_error(y_test, lassoReg_pred)))\n",
    "print(\"Cross Validation Score is :\",(cross_val_score(lassoReg,features,target,cv=5).mean()))"
   ]
  },
  {
   "cell_type": "code",
   "execution_count": 91,
   "id": "946d2e36",
   "metadata": {},
   "outputs": [
    {
     "name": "stdout",
     "output_type": "stream",
     "text": [
      "13.866874999999999\n",
      "[0. 0. 0.]\n"
     ]
    }
   ],
   "source": [
    "print(lassoReg.intercept_)\n",
    "print(lassoReg.coef_)"
   ]
  },
  {
   "cell_type": "code",
   "execution_count": 92,
   "id": "619124fd",
   "metadata": {},
   "outputs": [
    {
     "name": "stdout",
     "output_type": "stream",
     "text": [
      "r2_score 0.777905586790177\n",
      "mean_absolute_error : 1.9163063439671568\n",
      "mean_squared_error :  5.577451446577958\n",
      "root_mean_squared_error :  2.3616628562472584\n",
      "Cross Validation Score is : 0.7748022612146763\n"
     ]
    }
   ],
   "source": [
    "from sklearn.linear_model import Lasso\n",
    "\n",
    "lassoReg = Lasso(alpha=0.1,max_iter=50, normalize=True)\n",
    "\n",
    "lassoReg.fit(x_train,y_train)\n",
    "lassoReg_pred = lassoReg.predict(x_test)\n",
    "lasso_train=lassoReg.predict(x_train)\n",
    "\n",
    "# RMSE\n",
    "print(\"r2_score\",r2_score(y_test,lassoReg_pred))\n",
    "print (\"mean_absolute_error :\",metrics.mean_absolute_error(y_test, lassoReg_pred))\n",
    "print (\"mean_squared_error : \",metrics.mean_squared_error(y_test, lassoReg_pred))\n",
    "print (\"root_mean_squared_error : \",np.sqrt(metrics.mean_squared_error(y_test, lassoReg_pred)))\n",
    "print(\"Cross Validation Score is :\",(cross_val_score(lassoReg,features,target,cv=5).mean()))"
   ]
  },
  {
   "cell_type": "code",
   "execution_count": 93,
   "id": "f5e8400f",
   "metadata": {},
   "outputs": [
    {
     "name": "stdout",
     "output_type": "stream",
     "text": [
      "6.796919625430863\n",
      "[0.03293273 0.10047825 0.        ]\n"
     ]
    }
   ],
   "source": [
    "print(lassoReg.intercept_)\n",
    "print(lassoReg.coef_)"
   ]
  },
  {
   "cell_type": "markdown",
   "id": "ba4401fe",
   "metadata": {},
   "source": [
    "In a large dataset (10,000 features) some of the independent features correlates with other independent features.\n",
    "\n",
    "If we apply ridge regression to it, it will retain all of the features but will shrink the coefficients. But the model will still remain complex (10,000 features), thus may lead to poor performance.\n",
    "\n",
    "If we apply lasso regression to it, it retains only one correlated variable and sets other correlated variables to zero. That will possibly lead to some loss of information resulting in lower accuracy in the model.\n",
    "\n"
   ]
  },
  {
   "cell_type": "code",
   "execution_count": 94,
   "id": "8b49dcba",
   "metadata": {},
   "outputs": [
    {
     "name": "stdout",
     "output_type": "stream",
     "text": [
      "r2_score 0.785455022220767\n",
      "mean_absolute_error : 1.8054807242693909\n",
      "mean_squared_error :  5.890941722949714\n",
      "root_mean_squared_error :  2.4271262272386482\n",
      "Cross Validation Score :  0.7748022612146763\n"
     ]
    }
   ],
   "source": [
    "# RMSE\n",
    "print(\"r2_score\",r2_score(y_train,lasso_train))\n",
    "print (\"mean_absolute_error :\",metrics.mean_absolute_error(y_train, lasso_train))\n",
    "print (\"mean_squared_error : \",metrics.mean_squared_error(y_train, lasso_train))\n",
    "print (\"root_mean_squared_error : \",np.sqrt(metrics.mean_squared_error(y_train, lasso_train)))\n",
    "print (\"Cross Validation Score : \", (cross_val_score(lassoReg,features,target,cv=5).mean()))"
   ]
  },
  {
   "cell_type": "code",
   "execution_count": 95,
   "id": "51109adb",
   "metadata": {},
   "outputs": [
    {
     "data": {
      "text/html": [
       "<div>\n",
       "<style scoped>\n",
       "    .dataframe tbody tr th:only-of-type {\n",
       "        vertical-align: middle;\n",
       "    }\n",
       "\n",
       "    .dataframe tbody tr th {\n",
       "        vertical-align: top;\n",
       "    }\n",
       "\n",
       "    .dataframe thead th {\n",
       "        text-align: right;\n",
       "    }\n",
       "</style>\n",
       "<table border=\"1\" class=\"dataframe\">\n",
       "  <thead>\n",
       "    <tr style=\"text-align: right;\">\n",
       "      <th></th>\n",
       "      <th>Model</th>\n",
       "      <th>MAE</th>\n",
       "      <th>MSE</th>\n",
       "      <th>RMSE</th>\n",
       "      <th>R2 Score</th>\n",
       "      <th>CV Score</th>\n",
       "      <th>RMSE(train-test)</th>\n",
       "    </tr>\n",
       "  </thead>\n",
       "  <tbody>\n",
       "    <tr>\n",
       "      <th>0</th>\n",
       "      <td>Lasso</td>\n",
       "      <td>1.916306</td>\n",
       "      <td>5.577451</td>\n",
       "      <td>2.361663</td>\n",
       "      <td>0.777906</td>\n",
       "      <td>0.774802</td>\n",
       "      <td>0.065463</td>\n",
       "    </tr>\n",
       "  </tbody>\n",
       "</table>\n",
       "</div>"
      ],
      "text/plain": [
       "   Model       MAE       MSE      RMSE  R2 Score  CV Score  RMSE(train-test)\n",
       "0  Lasso  1.916306  5.577451  2.361663  0.777906  0.774802          0.065463"
      ]
     },
     "execution_count": 95,
     "metadata": {},
     "output_type": "execute_result"
    }
   ],
   "source": [
    "lasso_data = {'Model': ['Lasso'], \n",
    "           'MAE': metrics.mean_absolute_error(y_test, lassoReg_pred),'MSE':metrics.mean_squared_error(y_test, lassoReg_pred),\n",
    "           'RMSE':np.sqrt(metrics.mean_squared_error(y_test, lassoReg_pred)),\n",
    "           'R2 Score': r2_score(y_test,lassoReg_pred),\n",
    "           'CV Score': (cross_val_score(lassoReg,features,target,cv=5).mean()),\n",
    "           'RMSE(train-test)': (np.sqrt(metrics.mean_squared_error(y_train, lasso_train)))-(np.sqrt(metrics.mean_squared_error(y_test, lassoReg_pred)))\n",
    "          }  \n",
    "\n",
    "df_Lasso = pd.DataFrame(lasso_data)  \n",
    "df_Lasso"
   ]
  },
  {
   "cell_type": "markdown",
   "id": "cb69e584",
   "metadata": {},
   "source": [
    "# Decison Tree Regression"
   ]
  },
  {
   "cell_type": "code",
   "execution_count": 96,
   "id": "e41e0b20",
   "metadata": {},
   "outputs": [],
   "source": [
    "from sklearn.tree import DecisionTreeRegressor\n",
    "\n",
    "# creating model\n",
    "decTree = DecisionTreeRegressor()"
   ]
  },
  {
   "cell_type": "code",
   "execution_count": 97,
   "id": "03446ff9",
   "metadata": {},
   "outputs": [],
   "source": [
    "dt=DecisionTreeRegressor(criterion=\"mse\",max_features=\"auto\",min_samples_split= 7, splitter= \"best\")\n",
    "\n",
    "dt.fit(x_train,y_train)\n",
    "dt.score(x_train,y_train)\n",
    "pred_dt=dt.predict(x_test)\n",
    "pred_dt_train=dt.predict(x_train)"
   ]
  },
  {
   "cell_type": "code",
   "execution_count": 98,
   "id": "aacddf52",
   "metadata": {},
   "outputs": [
    {
     "name": "stdout",
     "output_type": "stream",
     "text": [
      "r2_score 0.9509342226920988\n",
      "mean_absolute_error : 0.8108333333333336\n",
      "mean_squared_error :  1.2321876388888897\n",
      "root_mean_squared_error :  1.110039476275006\n",
      "Cross Validation Score :  0.9522273757915614\n"
     ]
    }
   ],
   "source": [
    "print(\"r2_score\",r2_score(y_test,pred_dt))\n",
    "print (\"mean_absolute_error :\",metrics.mean_absolute_error(y_test, pred_dt))\n",
    "print (\"mean_squared_error : \",metrics.mean_squared_error(y_test, pred_dt))\n",
    "print (\"root_mean_squared_error : \",np.sqrt(metrics.mean_squared_error(y_test, pred_dt)))\n",
    "print (\"Cross Validation Score : \", (cross_val_score(dt,features,target,cv=5).mean()))"
   ]
  },
  {
   "cell_type": "code",
   "execution_count": 99,
   "id": "6bb41c3c",
   "metadata": {},
   "outputs": [
    {
     "name": "stdout",
     "output_type": "stream",
     "text": [
      "r2_score 0.9899673843251349\n",
      "mean_absolute_error : 0.38654166666666656\n",
      "mean_squared_error :  0.2754739583333333\n",
      "root_mean_squared_error :  0.5248561310810167\n",
      "Cross Validation Score :  0.9513079929881183\n"
     ]
    }
   ],
   "source": [
    "print(\"r2_score\",r2_score(y_train,pred_dt_train))\n",
    "print (\"mean_absolute_error :\",metrics.mean_absolute_error(y_train, pred_dt_train))\n",
    "print (\"mean_squared_error : \",metrics.mean_squared_error(y_train, pred_dt_train))\n",
    "print (\"root_mean_squared_error : \",np.sqrt(metrics.mean_squared_error(y_train, pred_dt_train)))\n",
    "print (\"Cross Validation Score : \", (cross_val_score(dt,features,target,cv=5).mean()))"
   ]
  },
  {
   "cell_type": "code",
   "execution_count": 100,
   "id": "e6876260",
   "metadata": {},
   "outputs": [
    {
     "data": {
      "text/html": [
       "<div>\n",
       "<style scoped>\n",
       "    .dataframe tbody tr th:only-of-type {\n",
       "        vertical-align: middle;\n",
       "    }\n",
       "\n",
       "    .dataframe tbody tr th {\n",
       "        vertical-align: top;\n",
       "    }\n",
       "\n",
       "    .dataframe thead th {\n",
       "        text-align: right;\n",
       "    }\n",
       "</style>\n",
       "<table border=\"1\" class=\"dataframe\">\n",
       "  <thead>\n",
       "    <tr style=\"text-align: right;\">\n",
       "      <th></th>\n",
       "      <th>Model</th>\n",
       "      <th>MAE</th>\n",
       "      <th>MSE</th>\n",
       "      <th>RMSE</th>\n",
       "      <th>R2 Score</th>\n",
       "      <th>CV Score</th>\n",
       "      <th>RMSE(train-test)</th>\n",
       "    </tr>\n",
       "  </thead>\n",
       "  <tbody>\n",
       "    <tr>\n",
       "      <th>0</th>\n",
       "      <td>Decision Tree</td>\n",
       "      <td>0.810833</td>\n",
       "      <td>1.232188</td>\n",
       "      <td>1.110039</td>\n",
       "      <td>0.950934</td>\n",
       "      <td>0.951014</td>\n",
       "      <td>-0.585183</td>\n",
       "    </tr>\n",
       "  </tbody>\n",
       "</table>\n",
       "</div>"
      ],
      "text/plain": [
       "           Model       MAE       MSE      RMSE  R2 Score  CV Score  \\\n",
       "0  Decision Tree  0.810833  1.232188  1.110039  0.950934  0.951014   \n",
       "\n",
       "   RMSE(train-test)  \n",
       "0         -0.585183  "
      ]
     },
     "execution_count": 100,
     "metadata": {},
     "output_type": "execute_result"
    }
   ],
   "source": [
    "decTree_data = {'Model': ['Decision Tree'], \n",
    "           'MAE': metrics.mean_absolute_error(y_test, pred_dt),'MSE':metrics.mean_squared_error(y_test, pred_dt),\n",
    "           'RMSE':np.sqrt(metrics.mean_squared_error(y_test, pred_dt)),\n",
    "           'R2 Score': r2_score(y_test,pred_dt),\n",
    "           'CV Score': (cross_val_score(dt,features,target,cv=5).mean()),\n",
    "           'RMSE(train-test)': (np.sqrt(metrics.mean_squared_error(y_train, pred_dt_train)))-(np.sqrt(metrics.mean_squared_error(y_test, pred_dt)))\n",
    "          }  \n",
    "\n",
    "df_DT = pd.DataFrame(decTree_data)  \n",
    "df_DT"
   ]
  },
  {
   "cell_type": "markdown",
   "id": "ea11e8c1",
   "metadata": {},
   "source": [
    "# Random Forest Regressor"
   ]
  },
  {
   "cell_type": "code",
   "execution_count": 101,
   "id": "03d89c44",
   "metadata": {},
   "outputs": [],
   "source": [
    "from sklearn.model_selection import GridSearchCV\n",
    "from sklearn.ensemble import RandomForestRegressor"
   ]
  },
  {
   "cell_type": "code",
   "execution_count": 102,
   "id": "d9fa3894",
   "metadata": {},
   "outputs": [],
   "source": [
    "rf=RandomForestRegressor(criterion=\"mae\",max_features=\"auto\",n_estimators=100,bootstrap=True)\n",
    "\n",
    "rf.fit(x_train,y_train)\n",
    "rf.score(x_train,y_train)\n",
    "pred_RF=rf.predict(x_test)\n",
    "pred_RF_train=rf.predict(x_train)"
   ]
  },
  {
   "cell_type": "code",
   "execution_count": 103,
   "id": "70660d76",
   "metadata": {},
   "outputs": [
    {
     "name": "stdout",
     "output_type": "stream",
     "text": [
      "r2_score 0.987351515501449\n",
      "mean_absolute_error : 0.45247499999999874\n",
      "mean_squared_error :  0.31764107499999883\n",
      "root_mean_squared_error :  0.5635965533961318\n",
      "Cross Validation Score :  0.9780442061088352\n"
     ]
    }
   ],
   "source": [
    "print(\"r2_score\",r2_score(y_test,pred_RF))\n",
    "print (\"mean_absolute_error :\",metrics.mean_absolute_error(y_test, pred_RF))\n",
    "print (\"mean_squared_error : \",metrics.mean_squared_error(y_test, pred_RF))\n",
    "print (\"root_mean_squared_error : \",np.sqrt(metrics.mean_squared_error(y_test, pred_RF)))\n",
    "print (\"Cross Validation Score : \", (cross_val_score(rf,features,target,cv=5).mean()))"
   ]
  },
  {
   "cell_type": "code",
   "execution_count": 104,
   "id": "e2648965",
   "metadata": {},
   "outputs": [
    {
     "name": "stdout",
     "output_type": "stream",
     "text": [
      "r2_score 0.9971855035541634\n",
      "mean_absolute_error : 0.21918124999999913\n",
      "mean_squared_error :  0.07727999374999964\n",
      "root_mean_squared_error :  0.2779927944210059\n",
      "Cross Validation Score :  0.9755146491082494\n"
     ]
    }
   ],
   "source": [
    "print(\"r2_score\",r2_score(y_train,pred_RF_train))\n",
    "print (\"mean_absolute_error :\",metrics.mean_absolute_error(y_train, pred_RF_train))\n",
    "print (\"mean_squared_error : \",metrics.mean_squared_error(y_train, pred_RF_train))\n",
    "print (\"root_mean_squared_error : \",np.sqrt(metrics.mean_squared_error(y_train, pred_RF_train)))\n",
    "print (\"Cross Validation Score : \", (cross_val_score(rf,features,target,cv=5).mean()))"
   ]
  },
  {
   "cell_type": "code",
   "execution_count": 105,
   "id": "7d4ed84c",
   "metadata": {},
   "outputs": [
    {
     "data": {
      "text/html": [
       "<div>\n",
       "<style scoped>\n",
       "    .dataframe tbody tr th:only-of-type {\n",
       "        vertical-align: middle;\n",
       "    }\n",
       "\n",
       "    .dataframe tbody tr th {\n",
       "        vertical-align: top;\n",
       "    }\n",
       "\n",
       "    .dataframe thead th {\n",
       "        text-align: right;\n",
       "    }\n",
       "</style>\n",
       "<table border=\"1\" class=\"dataframe\">\n",
       "  <thead>\n",
       "    <tr style=\"text-align: right;\">\n",
       "      <th></th>\n",
       "      <th>Model</th>\n",
       "      <th>MAE</th>\n",
       "      <th>MSE</th>\n",
       "      <th>RMSE</th>\n",
       "      <th>R2 Score</th>\n",
       "      <th>CV Score</th>\n",
       "      <th>RMSE(train-test)</th>\n",
       "    </tr>\n",
       "  </thead>\n",
       "  <tbody>\n",
       "    <tr>\n",
       "      <th>0</th>\n",
       "      <td>Random Forest</td>\n",
       "      <td>0.452475</td>\n",
       "      <td>0.317641</td>\n",
       "      <td>0.563597</td>\n",
       "      <td>0.987352</td>\n",
       "      <td>0.97576</td>\n",
       "      <td>-0.285604</td>\n",
       "    </tr>\n",
       "  </tbody>\n",
       "</table>\n",
       "</div>"
      ],
      "text/plain": [
       "           Model       MAE       MSE      RMSE  R2 Score  CV Score  \\\n",
       "0  Random Forest  0.452475  0.317641  0.563597  0.987352   0.97576   \n",
       "\n",
       "   RMSE(train-test)  \n",
       "0         -0.285604  "
      ]
     },
     "execution_count": 105,
     "metadata": {},
     "output_type": "execute_result"
    }
   ],
   "source": [
    "randomForest_data = {'Model': ['Random Forest'], \n",
    "           'MAE': metrics.mean_absolute_error(y_test, pred_RF),'MSE':metrics.mean_squared_error(y_test, pred_RF),\n",
    "           'RMSE':np.sqrt(metrics.mean_squared_error(y_test, pred_RF)),\n",
    "           'R2 Score': r2_score(y_test,pred_RF),\n",
    "           'CV Score': (cross_val_score(rf,features,target,cv=5).mean()),\n",
    "           'RMSE(train-test)': (np.sqrt(metrics.mean_squared_error(y_train, pred_RF_train)))-(np.sqrt(metrics.mean_squared_error(y_test, pred_RF)))\n",
    "          }  \n",
    "\n",
    "df_RF = pd.DataFrame(randomForest_data)  \n",
    "df_RF"
   ]
  },
  {
   "cell_type": "code",
   "execution_count": 106,
   "id": "a02af50f",
   "metadata": {},
   "outputs": [
    {
     "data": {
      "text/html": [
       "<div>\n",
       "<style scoped>\n",
       "    .dataframe tbody tr th:only-of-type {\n",
       "        vertical-align: middle;\n",
       "    }\n",
       "\n",
       "    .dataframe tbody tr th {\n",
       "        vertical-align: top;\n",
       "    }\n",
       "\n",
       "    .dataframe thead th {\n",
       "        text-align: right;\n",
       "    }\n",
       "</style>\n",
       "<table border=\"1\" class=\"dataframe\">\n",
       "  <thead>\n",
       "    <tr style=\"text-align: right;\">\n",
       "      <th></th>\n",
       "      <th>Model</th>\n",
       "      <th>MAE</th>\n",
       "      <th>MSE</th>\n",
       "      <th>RMSE</th>\n",
       "      <th>R2 Score</th>\n",
       "      <th>CV Score</th>\n",
       "      <th>RMSE(train-test)</th>\n",
       "    </tr>\n",
       "  </thead>\n",
       "  <tbody>\n",
       "    <tr>\n",
       "      <th>0</th>\n",
       "      <td>Linear Regression</td>\n",
       "      <td>1.267394</td>\n",
       "      <td>2.550965</td>\n",
       "      <td>1.597174</td>\n",
       "      <td>0.898420</td>\n",
       "      <td>0.887106</td>\n",
       "      <td>0.095149</td>\n",
       "    </tr>\n",
       "    <tr>\n",
       "      <th>1</th>\n",
       "      <td>Ridge</td>\n",
       "      <td>1.310786</td>\n",
       "      <td>2.608263</td>\n",
       "      <td>1.615012</td>\n",
       "      <td>0.896139</td>\n",
       "      <td>0.881086</td>\n",
       "      <td>0.133328</td>\n",
       "    </tr>\n",
       "    <tr>\n",
       "      <th>2</th>\n",
       "      <td>Lasso</td>\n",
       "      <td>1.916306</td>\n",
       "      <td>5.577451</td>\n",
       "      <td>2.361663</td>\n",
       "      <td>0.777906</td>\n",
       "      <td>0.774802</td>\n",
       "      <td>0.065463</td>\n",
       "    </tr>\n",
       "    <tr>\n",
       "      <th>3</th>\n",
       "      <td>Decision Tree</td>\n",
       "      <td>0.810833</td>\n",
       "      <td>1.232188</td>\n",
       "      <td>1.110039</td>\n",
       "      <td>0.950934</td>\n",
       "      <td>0.951014</td>\n",
       "      <td>-0.585183</td>\n",
       "    </tr>\n",
       "    <tr>\n",
       "      <th>4</th>\n",
       "      <td>Random Forest</td>\n",
       "      <td>0.452475</td>\n",
       "      <td>0.317641</td>\n",
       "      <td>0.563597</td>\n",
       "      <td>0.987352</td>\n",
       "      <td>0.975760</td>\n",
       "      <td>-0.285604</td>\n",
       "    </tr>\n",
       "  </tbody>\n",
       "</table>\n",
       "</div>"
      ],
      "text/plain": [
       "               Model       MAE       MSE      RMSE  R2 Score  CV Score  \\\n",
       "0  Linear Regression  1.267394  2.550965  1.597174  0.898420  0.887106   \n",
       "1              Ridge  1.310786  2.608263  1.615012  0.896139  0.881086   \n",
       "2              Lasso  1.916306  5.577451  2.361663  0.777906  0.774802   \n",
       "3      Decision Tree  0.810833  1.232188  1.110039  0.950934  0.951014   \n",
       "4      Random Forest  0.452475  0.317641  0.563597  0.987352  0.975760   \n",
       "\n",
       "   RMSE(train-test)  \n",
       "0          0.095149  \n",
       "1          0.133328  \n",
       "2          0.065463  \n",
       "3         -0.585183  \n",
       "4         -0.285604  "
      ]
     },
     "execution_count": 106,
     "metadata": {},
     "output_type": "execute_result"
    }
   ],
   "source": [
    "modelDF=pd.concat([df_LR,df_Ridge,df_Lasso,df_DT,df_RF]).reset_index()\n",
    "modelDF.drop(columns=['index'],axis=1,inplace=True)\n",
    "modelDF"
   ]
  },
  {
   "cell_type": "markdown",
   "id": "996f6b90",
   "metadata": {},
   "source": [
    "Random Forest Regressor performs the best, so lets use the Random Forest for our prediction. Lower the RMSe, best is the model."
   ]
  },
  {
   "cell_type": "markdown",
   "id": "7caf3dc4",
   "metadata": {},
   "source": [
    "# Saving the model"
   ]
  },
  {
   "cell_type": "code",
   "execution_count": 115,
   "id": "75a8c40b",
   "metadata": {},
   "outputs": [],
   "source": [
    "from joblib import dump , load\n",
    "#filename=\"SalesAdvertisement.pkl\"\n",
    "dump(rf,'SalesAdvertisement.joblib')\n",
    "load_rf=load('SalesAdvertisement.joblib')"
   ]
  },
  {
   "cell_type": "code",
   "execution_count": 117,
   "id": "b2e391d4",
   "metadata": {},
   "outputs": [],
   "source": [
    "from tempfile import mkdtemp\n",
    "savedir = mkdtemp()\n",
    "import os\n",
    "filename = os.path.join(savedir, 'SalesAdvertisement.joblib')"
   ]
  },
  {
   "cell_type": "code",
   "execution_count": 118,
   "id": "d5456978",
   "metadata": {},
   "outputs": [
    {
     "data": {
      "text/plain": [
       "['C:\\\\Users\\\\mum1user\\\\AppData\\\\Local\\\\Temp\\\\tmp86dutiv6\\\\SalesAdvertisement.joblib']"
      ]
     },
     "execution_count": 118,
     "metadata": {},
     "output_type": "execute_result"
    }
   ],
   "source": [
    "import joblib\n",
    "joblib.dump(load_rf, filename) \n",
    "#['...SalesAdvertisement.joblib']"
   ]
  },
  {
   "cell_type": "code",
   "execution_count": 119,
   "id": "fd5a89fd",
   "metadata": {},
   "outputs": [
    {
     "data": {
      "text/plain": [
       "RandomForestRegressor(criterion='mae')"
      ]
     },
     "execution_count": 119,
     "metadata": {},
     "output_type": "execute_result"
    }
   ],
   "source": [
    "joblib.load(filename)"
   ]
  }
 ],
 "metadata": {
  "kernelspec": {
   "display_name": "Python 3",
   "language": "python",
   "name": "python3"
  },
  "language_info": {
   "codemirror_mode": {
    "name": "ipython",
    "version": 3
   },
   "file_extension": ".py",
   "mimetype": "text/x-python",
   "name": "python",
   "nbconvert_exporter": "python",
   "pygments_lexer": "ipython3",
   "version": "3.8.8"
  }
 },
 "nbformat": 4,
 "nbformat_minor": 5
}
