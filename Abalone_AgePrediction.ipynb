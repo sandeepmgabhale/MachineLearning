{
 "cells": [
  {
   "cell_type": "markdown",
   "id": "2afb707e",
   "metadata": {},
   "source": [
    "# Abalone Case Study"
   ]
  },
  {
   "cell_type": "markdown",
   "id": "4f6c042f",
   "metadata": {},
   "source": [
    "Problem Statement:\n",
    "\n",
    "The age of abalone is determined by cutting the shell through the cone, staining it, and counting the number of rings through a microscope -- a boring and time-consuming task. Other measurements, which are easier to obtain, are used to predict the age. Further information, such as weather patterns and location (hence food availability) may be required to solve the problem."
   ]
  },
  {
   "cell_type": "markdown",
   "id": "efed0870",
   "metadata": {},
   "source": [
    "# Attribute Information: \n",
    "\n",
    "Given is the attribute name, attribute type, the measurement unit and a brief description. The number of rings is the value to predict. \n",
    "\n",
    "Name / Data Type / Measurement Unit / Description\n",
    "-----------------------------\n",
    "Sex / nominal / -- / M, F, and I (infant)\n",
    "\n",
    "Length / continuous / mm / Longest shell measurement\n",
    "\n",
    "Diameter / continuous / mm / perpendicular to length\n",
    "\n",
    "Height / continuous / mm / with meat in shell\n",
    "Whole weight / continuous / grams / whole abalone\n",
    "\n",
    "Shucked weight / continuous / grams / weight of meat\n",
    "\n",
    "Viscera weight / continuous / grams / gut weight (after bleeding)\n",
    "\n",
    "Shell weight / continuous / grams / after being dried\n",
    "\n",
    "Rings / integer / -- / +1.5 gives the age in years. \n",
    "\n",
    "You have to predict the rings of each abalone which will lead us to the age of that abalone. "
   ]
  },
  {
   "cell_type": "code",
   "execution_count": 1,
   "id": "568b9743",
   "metadata": {},
   "outputs": [],
   "source": [
    "import pandas as pd\n",
    "import numpy as np\n",
    "import matplotlib.pyplot as plt\n",
    "import seaborn as sns\n",
    "import sklearn\n",
    "from sklearn.linear_model import LogisticRegression\n",
    "from sklearn.metrics import mean_squared_error\n",
    "from sklearn.model_selection import train_test_split\n",
    "from sklearn.naive_bayes import GaussianNB\n",
    "from sklearn.svm import SVC\n",
    "from sklearn.tree import DecisionTreeClassifier\n",
    "from sklearn.neighbors import KNeighborsClassifier\n",
    "from sklearn.metrics import accuracy_score,confusion_matrix,classification_report\n",
    "import warnings\n",
    "warnings.filterwarnings('ignore')"
   ]
  },
  {
   "cell_type": "code",
   "execution_count": 2,
   "id": "98cc2af2",
   "metadata": {},
   "outputs": [
    {
     "data": {
      "text/html": [
       "<div>\n",
       "<style scoped>\n",
       "    .dataframe tbody tr th:only-of-type {\n",
       "        vertical-align: middle;\n",
       "    }\n",
       "\n",
       "    .dataframe tbody tr th {\n",
       "        vertical-align: top;\n",
       "    }\n",
       "\n",
       "    .dataframe thead th {\n",
       "        text-align: right;\n",
       "    }\n",
       "</style>\n",
       "<table border=\"1\" class=\"dataframe\">\n",
       "  <thead>\n",
       "    <tr style=\"text-align: right;\">\n",
       "      <th></th>\n",
       "      <th>Sex</th>\n",
       "      <th>Length</th>\n",
       "      <th>Diameter</th>\n",
       "      <th>Height</th>\n",
       "      <th>Whole weight</th>\n",
       "      <th>Shucked weight</th>\n",
       "      <th>Viscera weight</th>\n",
       "      <th>Shell weight</th>\n",
       "      <th>Rings</th>\n",
       "    </tr>\n",
       "  </thead>\n",
       "  <tbody>\n",
       "    <tr>\n",
       "      <th>0</th>\n",
       "      <td>M</td>\n",
       "      <td>0.455</td>\n",
       "      <td>0.365</td>\n",
       "      <td>0.095</td>\n",
       "      <td>0.5140</td>\n",
       "      <td>0.2245</td>\n",
       "      <td>0.1010</td>\n",
       "      <td>0.1500</td>\n",
       "      <td>15</td>\n",
       "    </tr>\n",
       "    <tr>\n",
       "      <th>1</th>\n",
       "      <td>M</td>\n",
       "      <td>0.350</td>\n",
       "      <td>0.265</td>\n",
       "      <td>0.090</td>\n",
       "      <td>0.2255</td>\n",
       "      <td>0.0995</td>\n",
       "      <td>0.0485</td>\n",
       "      <td>0.0700</td>\n",
       "      <td>7</td>\n",
       "    </tr>\n",
       "    <tr>\n",
       "      <th>2</th>\n",
       "      <td>F</td>\n",
       "      <td>0.530</td>\n",
       "      <td>0.420</td>\n",
       "      <td>0.135</td>\n",
       "      <td>0.6770</td>\n",
       "      <td>0.2565</td>\n",
       "      <td>0.1415</td>\n",
       "      <td>0.2100</td>\n",
       "      <td>9</td>\n",
       "    </tr>\n",
       "    <tr>\n",
       "      <th>3</th>\n",
       "      <td>M</td>\n",
       "      <td>0.440</td>\n",
       "      <td>0.365</td>\n",
       "      <td>0.125</td>\n",
       "      <td>0.5160</td>\n",
       "      <td>0.2155</td>\n",
       "      <td>0.1140</td>\n",
       "      <td>0.1550</td>\n",
       "      <td>10</td>\n",
       "    </tr>\n",
       "    <tr>\n",
       "      <th>4</th>\n",
       "      <td>I</td>\n",
       "      <td>0.330</td>\n",
       "      <td>0.255</td>\n",
       "      <td>0.080</td>\n",
       "      <td>0.2050</td>\n",
       "      <td>0.0895</td>\n",
       "      <td>0.0395</td>\n",
       "      <td>0.0550</td>\n",
       "      <td>7</td>\n",
       "    </tr>\n",
       "    <tr>\n",
       "      <th>...</th>\n",
       "      <td>...</td>\n",
       "      <td>...</td>\n",
       "      <td>...</td>\n",
       "      <td>...</td>\n",
       "      <td>...</td>\n",
       "      <td>...</td>\n",
       "      <td>...</td>\n",
       "      <td>...</td>\n",
       "      <td>...</td>\n",
       "    </tr>\n",
       "    <tr>\n",
       "      <th>4172</th>\n",
       "      <td>F</td>\n",
       "      <td>0.565</td>\n",
       "      <td>0.450</td>\n",
       "      <td>0.165</td>\n",
       "      <td>0.8870</td>\n",
       "      <td>0.3700</td>\n",
       "      <td>0.2390</td>\n",
       "      <td>0.2490</td>\n",
       "      <td>11</td>\n",
       "    </tr>\n",
       "    <tr>\n",
       "      <th>4173</th>\n",
       "      <td>M</td>\n",
       "      <td>0.590</td>\n",
       "      <td>0.440</td>\n",
       "      <td>0.135</td>\n",
       "      <td>0.9660</td>\n",
       "      <td>0.4390</td>\n",
       "      <td>0.2145</td>\n",
       "      <td>0.2605</td>\n",
       "      <td>10</td>\n",
       "    </tr>\n",
       "    <tr>\n",
       "      <th>4174</th>\n",
       "      <td>M</td>\n",
       "      <td>0.600</td>\n",
       "      <td>0.475</td>\n",
       "      <td>0.205</td>\n",
       "      <td>1.1760</td>\n",
       "      <td>0.5255</td>\n",
       "      <td>0.2875</td>\n",
       "      <td>0.3080</td>\n",
       "      <td>9</td>\n",
       "    </tr>\n",
       "    <tr>\n",
       "      <th>4175</th>\n",
       "      <td>F</td>\n",
       "      <td>0.625</td>\n",
       "      <td>0.485</td>\n",
       "      <td>0.150</td>\n",
       "      <td>1.0945</td>\n",
       "      <td>0.5310</td>\n",
       "      <td>0.2610</td>\n",
       "      <td>0.2960</td>\n",
       "      <td>10</td>\n",
       "    </tr>\n",
       "    <tr>\n",
       "      <th>4176</th>\n",
       "      <td>M</td>\n",
       "      <td>0.710</td>\n",
       "      <td>0.555</td>\n",
       "      <td>0.195</td>\n",
       "      <td>1.9485</td>\n",
       "      <td>0.9455</td>\n",
       "      <td>0.3765</td>\n",
       "      <td>0.4950</td>\n",
       "      <td>12</td>\n",
       "    </tr>\n",
       "  </tbody>\n",
       "</table>\n",
       "<p>4177 rows × 9 columns</p>\n",
       "</div>"
      ],
      "text/plain": [
       "     Sex  Length  Diameter  Height  Whole weight  Shucked weight  \\\n",
       "0      M   0.455     0.365   0.095        0.5140          0.2245   \n",
       "1      M   0.350     0.265   0.090        0.2255          0.0995   \n",
       "2      F   0.530     0.420   0.135        0.6770          0.2565   \n",
       "3      M   0.440     0.365   0.125        0.5160          0.2155   \n",
       "4      I   0.330     0.255   0.080        0.2050          0.0895   \n",
       "...   ..     ...       ...     ...           ...             ...   \n",
       "4172   F   0.565     0.450   0.165        0.8870          0.3700   \n",
       "4173   M   0.590     0.440   0.135        0.9660          0.4390   \n",
       "4174   M   0.600     0.475   0.205        1.1760          0.5255   \n",
       "4175   F   0.625     0.485   0.150        1.0945          0.5310   \n",
       "4176   M   0.710     0.555   0.195        1.9485          0.9455   \n",
       "\n",
       "      Viscera weight  Shell weight  Rings  \n",
       "0             0.1010        0.1500     15  \n",
       "1             0.0485        0.0700      7  \n",
       "2             0.1415        0.2100      9  \n",
       "3             0.1140        0.1550     10  \n",
       "4             0.0395        0.0550      7  \n",
       "...              ...           ...    ...  \n",
       "4172          0.2390        0.2490     11  \n",
       "4173          0.2145        0.2605     10  \n",
       "4174          0.2875        0.3080      9  \n",
       "4175          0.2610        0.2960     10  \n",
       "4176          0.3765        0.4950     12  \n",
       "\n",
       "[4177 rows x 9 columns]"
      ]
     },
     "execution_count": 2,
     "metadata": {},
     "output_type": "execute_result"
    }
   ],
   "source": [
    "df = pd.read_csv('https://raw.githubusercontent.com/dsrscientist/dataset1/master/abalone.csv')\n",
    "df"
   ]
  },
  {
   "cell_type": "markdown",
   "id": "a6ebb712",
   "metadata": {},
   "source": [
    "# Data Description\n",
    "\n",
    "Sex: Sex (M: Male, F: Female, I: Infant)\n",
    "\n",
    "Length: Longest Shell measurement (millimetres - mm)\n",
    "\n",
    "Diameter: Diameter - perpendicular to length (mm)\n",
    "\n",
    "Height: Height - with meat in shell (mm)\n",
    "\n",
    "Whole weight: Weight of whole abalone (grams)\n",
    "\n",
    "Shucked weight: Weight of meat (grams)\n",
    "\n",
    "Viscera weight: Gut weight after bleeding (grams)\n",
    "\n",
    "Shell weight: Shell weight - after being dried (grams)\n",
    "\n",
    "Rings: Rings - value + 1.5 gives age in years (eg. 5 = 6.5 years)"
   ]
  },
  {
   "cell_type": "code",
   "execution_count": 3,
   "id": "c8337290",
   "metadata": {},
   "outputs": [
    {
     "name": "stdout",
     "output_type": "stream",
     "text": [
      "<class 'pandas.core.frame.DataFrame'>\n",
      "RangeIndex: 4177 entries, 0 to 4176\n",
      "Data columns (total 9 columns):\n",
      " #   Column          Non-Null Count  Dtype  \n",
      "---  ------          --------------  -----  \n",
      " 0   Sex             4177 non-null   object \n",
      " 1   Length          4177 non-null   float64\n",
      " 2   Diameter        4177 non-null   float64\n",
      " 3   Height          4177 non-null   float64\n",
      " 4   Whole weight    4177 non-null   float64\n",
      " 5   Shucked weight  4177 non-null   float64\n",
      " 6   Viscera weight  4177 non-null   float64\n",
      " 7   Shell weight    4177 non-null   float64\n",
      " 8   Rings           4177 non-null   int64  \n",
      "dtypes: float64(7), int64(1), object(1)\n",
      "memory usage: 293.8+ KB\n"
     ]
    }
   ],
   "source": [
    "df.info()"
   ]
  },
  {
   "cell_type": "markdown",
   "id": "092ed164",
   "metadata": {},
   "source": [
    "Sex is an object data type, we wil have to convert it later use any Encoder techniques"
   ]
  },
  {
   "cell_type": "code",
   "execution_count": 4,
   "id": "225496eb",
   "metadata": {},
   "outputs": [
    {
     "data": {
      "text/plain": [
       "Sex               0\n",
       "Length            0\n",
       "Diameter          0\n",
       "Height            0\n",
       "Whole weight      0\n",
       "Shucked weight    0\n",
       "Viscera weight    0\n",
       "Shell weight      0\n",
       "Rings             0\n",
       "dtype: int64"
      ]
     },
     "execution_count": 4,
     "metadata": {},
     "output_type": "execute_result"
    }
   ],
   "source": [
    "#Check for null\n",
    "df.isnull().sum()"
   ]
  },
  {
   "cell_type": "markdown",
   "id": "b4b3d3b6",
   "metadata": {},
   "source": [
    "No null records are found, so we are good here "
   ]
  },
  {
   "cell_type": "code",
   "execution_count": 5,
   "id": "a3975902",
   "metadata": {},
   "outputs": [
    {
     "data": {
      "text/plain": [
       "(4177, 9)"
      ]
     },
     "execution_count": 5,
     "metadata": {},
     "output_type": "execute_result"
    }
   ],
   "source": [
    "df.shape"
   ]
  },
  {
   "cell_type": "markdown",
   "id": "89d40782",
   "metadata": {},
   "source": [
    "# Check Duplicates"
   ]
  },
  {
   "cell_type": "code",
   "execution_count": 6,
   "id": "cea67418",
   "metadata": {},
   "outputs": [
    {
     "name": "stdout",
     "output_type": "stream",
     "text": [
      "Duplicate Rows :\n"
     ]
    },
    {
     "data": {
      "text/html": [
       "<div>\n",
       "<style scoped>\n",
       "    .dataframe tbody tr th:only-of-type {\n",
       "        vertical-align: middle;\n",
       "    }\n",
       "\n",
       "    .dataframe tbody tr th {\n",
       "        vertical-align: top;\n",
       "    }\n",
       "\n",
       "    .dataframe thead th {\n",
       "        text-align: right;\n",
       "    }\n",
       "</style>\n",
       "<table border=\"1\" class=\"dataframe\">\n",
       "  <thead>\n",
       "    <tr style=\"text-align: right;\">\n",
       "      <th></th>\n",
       "      <th>Sex</th>\n",
       "      <th>Length</th>\n",
       "      <th>Diameter</th>\n",
       "      <th>Height</th>\n",
       "      <th>Whole weight</th>\n",
       "      <th>Shucked weight</th>\n",
       "      <th>Viscera weight</th>\n",
       "      <th>Shell weight</th>\n",
       "      <th>Rings</th>\n",
       "    </tr>\n",
       "  </thead>\n",
       "  <tbody>\n",
       "  </tbody>\n",
       "</table>\n",
       "</div>"
      ],
      "text/plain": [
       "Empty DataFrame\n",
       "Columns: [Sex, Length, Diameter, Height, Whole weight, Shucked weight, Viscera weight, Shell weight, Rings]\n",
       "Index: []"
      ]
     },
     "execution_count": 6,
     "metadata": {},
     "output_type": "execute_result"
    }
   ],
   "source": [
    "duplicate = df[df.duplicated(keep = 'last')]\n",
    "print(\"Duplicate Rows :\")\n",
    "  \n",
    "# Print the resultant Dataframe\n",
    "duplicate"
   ]
  },
  {
   "cell_type": "markdown",
   "id": "42ca8aff",
   "metadata": {},
   "source": [
    "No Duplicates found"
   ]
  },
  {
   "cell_type": "markdown",
   "id": "c006f254",
   "metadata": {},
   "source": [
    "# Check value counts of Male, Female and Infant"
   ]
  },
  {
   "cell_type": "code",
   "execution_count": 7,
   "id": "8b4b6014",
   "metadata": {},
   "outputs": [
    {
     "data": {
      "text/plain": [
       "M    1528\n",
       "I    1342\n",
       "F    1307\n",
       "Name: Sex, dtype: int64"
      ]
     },
     "execution_count": 7,
     "metadata": {},
     "output_type": "execute_result"
    }
   ],
   "source": [
    "df['Sex'].value_counts()"
   ]
  },
  {
   "cell_type": "markdown",
   "id": "da0a5dfa",
   "metadata": {},
   "source": [
    "Data looks to be balanced"
   ]
  },
  {
   "cell_type": "code",
   "execution_count": 8,
   "id": "8e809c8c",
   "metadata": {},
   "outputs": [
    {
     "data": {
      "text/plain": [
       "<AxesSubplot:xlabel='count', ylabel='Sex'>"
      ]
     },
     "execution_count": 8,
     "metadata": {},
     "output_type": "execute_result"
    },
    {
     "data": {
      "image/png": "[encoded data removed]",
      "text/plain": [
       "<Figure size 432x288 with 1 Axes>"
      ]
     },
     "metadata": {
      "needs_background": "light"
     },
     "output_type": "display_data"
    }
   ],
   "source": [
    "sns.countplot(y=df['Sex'])"
   ]
  },
  {
   "cell_type": "markdown",
   "id": "1efc96fa",
   "metadata": {},
   "source": [
    "The above graph shows that number of Males are more than Female and number of Female is less than Infant"
   ]
  },
  {
   "cell_type": "code",
   "execution_count": 10,
   "id": "f294e4df",
   "metadata": {},
   "outputs": [
    {
     "data": {
      "text/html": [
       "<div>\n",
       "<style scoped>\n",
       "    .dataframe tbody tr th:only-of-type {\n",
       "        vertical-align: middle;\n",
       "    }\n",
       "\n",
       "    .dataframe tbody tr th {\n",
       "        vertical-align: top;\n",
       "    }\n",
       "\n",
       "    .dataframe thead th {\n",
       "        text-align: right;\n",
       "    }\n",
       "</style>\n",
       "<table border=\"1\" class=\"dataframe\">\n",
       "  <thead>\n",
       "    <tr style=\"text-align: right;\">\n",
       "      <th></th>\n",
       "      <th>Length</th>\n",
       "      <th>Diameter</th>\n",
       "      <th>Height</th>\n",
       "      <th>Whole weight</th>\n",
       "      <th>Shucked weight</th>\n",
       "      <th>Viscera weight</th>\n",
       "      <th>Shell weight</th>\n",
       "      <th>Rings</th>\n",
       "    </tr>\n",
       "  </thead>\n",
       "  <tbody>\n",
       "    <tr>\n",
       "      <th>count</th>\n",
       "      <td>4177.000000</td>\n",
       "      <td>4177.000000</td>\n",
       "      <td>4177.000000</td>\n",
       "      <td>4177.000000</td>\n",
       "      <td>4177.000000</td>\n",
       "      <td>4177.000000</td>\n",
       "      <td>4177.000000</td>\n",
       "      <td>4177.000000</td>\n",
       "    </tr>\n",
       "    <tr>\n",
       "      <th>mean</th>\n",
       "      <td>0.523992</td>\n",
       "      <td>0.407881</td>\n",
       "      <td>0.139516</td>\n",
       "      <td>0.828742</td>\n",
       "      <td>0.359367</td>\n",
       "      <td>0.180594</td>\n",
       "      <td>0.238831</td>\n",
       "      <td>9.933684</td>\n",
       "    </tr>\n",
       "    <tr>\n",
       "      <th>std</th>\n",
       "      <td>0.120093</td>\n",
       "      <td>0.099240</td>\n",
       "      <td>0.041827</td>\n",
       "      <td>0.490389</td>\n",
       "      <td>0.221963</td>\n",
       "      <td>0.109614</td>\n",
       "      <td>0.139203</td>\n",
       "      <td>3.224169</td>\n",
       "    </tr>\n",
       "    <tr>\n",
       "      <th>min</th>\n",
       "      <td>0.075000</td>\n",
       "      <td>0.055000</td>\n",
       "      <td>0.000000</td>\n",
       "      <td>0.002000</td>\n",
       "      <td>0.001000</td>\n",
       "      <td>0.000500</td>\n",
       "      <td>0.001500</td>\n",
       "      <td>1.000000</td>\n",
       "    </tr>\n",
       "    <tr>\n",
       "      <th>25%</th>\n",
       "      <td>0.450000</td>\n",
       "      <td>0.350000</td>\n",
       "      <td>0.115000</td>\n",
       "      <td>0.441500</td>\n",
       "      <td>0.186000</td>\n",
       "      <td>0.093500</td>\n",
       "      <td>0.130000</td>\n",
       "      <td>8.000000</td>\n",
       "    </tr>\n",
       "    <tr>\n",
       "      <th>50%</th>\n",
       "      <td>0.545000</td>\n",
       "      <td>0.425000</td>\n",
       "      <td>0.140000</td>\n",
       "      <td>0.799500</td>\n",
       "      <td>0.336000</td>\n",
       "      <td>0.171000</td>\n",
       "      <td>0.234000</td>\n",
       "      <td>9.000000</td>\n",
       "    </tr>\n",
       "    <tr>\n",
       "      <th>75%</th>\n",
       "      <td>0.615000</td>\n",
       "      <td>0.480000</td>\n",
       "      <td>0.165000</td>\n",
       "      <td>1.153000</td>\n",
       "      <td>0.502000</td>\n",
       "      <td>0.253000</td>\n",
       "      <td>0.329000</td>\n",
       "      <td>11.000000</td>\n",
       "    </tr>\n",
       "    <tr>\n",
       "      <th>max</th>\n",
       "      <td>0.815000</td>\n",
       "      <td>0.650000</td>\n",
       "      <td>1.130000</td>\n",
       "      <td>2.825500</td>\n",
       "      <td>1.488000</td>\n",
       "      <td>0.760000</td>\n",
       "      <td>1.005000</td>\n",
       "      <td>29.000000</td>\n",
       "    </tr>\n",
       "  </tbody>\n",
       "</table>\n",
       "</div>"
      ],
      "text/plain": [
       "            Length     Diameter       Height  Whole weight  Shucked weight  \\\n",
       "count  4177.000000  4177.000000  4177.000000   4177.000000     4177.000000   \n",
       "mean      0.523992     0.407881     0.139516      0.828742        0.359367   \n",
       "std       0.120093     0.099240     0.041827      0.490389        0.221963   \n",
       "min       0.075000     0.055000     0.000000      0.002000        0.001000   \n",
       "25%       0.450000     0.350000     0.115000      0.441500        0.186000   \n",
       "50%       0.545000     0.425000     0.140000      0.799500        0.336000   \n",
       "75%       0.615000     0.480000     0.165000      1.153000        0.502000   \n",
       "max       0.815000     0.650000     1.130000      2.825500        1.488000   \n",
       "\n",
       "       Viscera weight  Shell weight        Rings  \n",
       "count     4177.000000   4177.000000  4177.000000  \n",
       "mean         0.180594      0.238831     9.933684  \n",
       "std          0.109614      0.139203     3.224169  \n",
       "min          0.000500      0.001500     1.000000  \n",
       "25%          0.093500      0.130000     8.000000  \n",
       "50%          0.171000      0.234000     9.000000  \n",
       "75%          0.253000      0.329000    11.000000  \n",
       "max          0.760000      1.005000    29.000000  "
      ]
     },
     "execution_count": 10,
     "metadata": {},
     "output_type": "execute_result"
    }
   ],
   "source": [
    "df.describe()"
   ]
  },
  {
   "cell_type": "markdown",
   "id": "3546580e",
   "metadata": {},
   "source": [
    "Length : Length is the Longest Shell measurement and it lies between 0.075mm to 0.615mm. We dont see much outliers.\n",
    "\n",
    "Diameter : Diameter is perpendiculat to length and it lies between 0.055mm to 0.48mm and measurements are closer to length. Here also we dont see much outliers.\n",
    "\n",
    "Height : Height with the meat in the shell lies between 0.115mm to 0.165mm. It has few outliers.\n",
    "\n",
    "Whole weight : Whole weight of the whole Abalone lies between 0.002gram to 1.153 grams. It has few outliers.\n",
    "\n",
    "Shucked weight : Shucked weight i.e weight of the meat lies between 0.001 gram to 0.502 gram and has outliers.\n",
    "\n",
    "Viscera weight :Viscera weight is the gut weight after bleeding and lies between 0.0005 gram to 0.253 grams. It also has some outliers.\n",
    "\n",
    "Shell weight :Shell weight is the weight after being dried and it lies between 0.001500gram to 0.329000 grams. It has few outliers.\n",
    "\n",
    "Rings : It has minimum value as 1 and maximum as 29 which is an outlier for sure"
   ]
  },
  {
   "cell_type": "markdown",
   "id": "c7a2dea0",
   "metadata": {},
   "source": [
    "# Correlation"
   ]
  },
  {
   "cell_type": "code",
   "execution_count": 11,
   "id": "95f6ba71",
   "metadata": {},
   "outputs": [
    {
     "data": {
      "text/html": [
       "<div>\n",
       "<style scoped>\n",
       "    .dataframe tbody tr th:only-of-type {\n",
       "        vertical-align: middle;\n",
       "    }\n",
       "\n",
       "    .dataframe tbody tr th {\n",
       "        vertical-align: top;\n",
       "    }\n",
       "\n",
       "    .dataframe thead th {\n",
       "        text-align: right;\n",
       "    }\n",
       "</style>\n",
       "<table border=\"1\" class=\"dataframe\">\n",
       "  <thead>\n",
       "    <tr style=\"text-align: right;\">\n",
       "      <th></th>\n",
       "      <th>Length</th>\n",
       "      <th>Diameter</th>\n",
       "      <th>Height</th>\n",
       "      <th>Whole weight</th>\n",
       "      <th>Shucked weight</th>\n",
       "      <th>Viscera weight</th>\n",
       "      <th>Shell weight</th>\n",
       "      <th>Rings</th>\n",
       "    </tr>\n",
       "  </thead>\n",
       "  <tbody>\n",
       "    <tr>\n",
       "      <th>Length</th>\n",
       "      <td>1.000000</td>\n",
       "      <td>0.986812</td>\n",
       "      <td>0.827554</td>\n",
       "      <td>0.925261</td>\n",
       "      <td>0.897914</td>\n",
       "      <td>0.903018</td>\n",
       "      <td>0.897706</td>\n",
       "      <td>0.556720</td>\n",
       "    </tr>\n",
       "    <tr>\n",
       "      <th>Diameter</th>\n",
       "      <td>0.986812</td>\n",
       "      <td>1.000000</td>\n",
       "      <td>0.833684</td>\n",
       "      <td>0.925452</td>\n",
       "      <td>0.893162</td>\n",
       "      <td>0.899724</td>\n",
       "      <td>0.905330</td>\n",
       "      <td>0.574660</td>\n",
       "    </tr>\n",
       "    <tr>\n",
       "      <th>Height</th>\n",
       "      <td>0.827554</td>\n",
       "      <td>0.833684</td>\n",
       "      <td>1.000000</td>\n",
       "      <td>0.819221</td>\n",
       "      <td>0.774972</td>\n",
       "      <td>0.798319</td>\n",
       "      <td>0.817338</td>\n",
       "      <td>0.557467</td>\n",
       "    </tr>\n",
       "    <tr>\n",
       "      <th>Whole weight</th>\n",
       "      <td>0.925261</td>\n",
       "      <td>0.925452</td>\n",
       "      <td>0.819221</td>\n",
       "      <td>1.000000</td>\n",
       "      <td>0.969405</td>\n",
       "      <td>0.966375</td>\n",
       "      <td>0.955355</td>\n",
       "      <td>0.540390</td>\n",
       "    </tr>\n",
       "    <tr>\n",
       "      <th>Shucked weight</th>\n",
       "      <td>0.897914</td>\n",
       "      <td>0.893162</td>\n",
       "      <td>0.774972</td>\n",
       "      <td>0.969405</td>\n",
       "      <td>1.000000</td>\n",
       "      <td>0.931961</td>\n",
       "      <td>0.882617</td>\n",
       "      <td>0.420884</td>\n",
       "    </tr>\n",
       "    <tr>\n",
       "      <th>Viscera weight</th>\n",
       "      <td>0.903018</td>\n",
       "      <td>0.899724</td>\n",
       "      <td>0.798319</td>\n",
       "      <td>0.966375</td>\n",
       "      <td>0.931961</td>\n",
       "      <td>1.000000</td>\n",
       "      <td>0.907656</td>\n",
       "      <td>0.503819</td>\n",
       "    </tr>\n",
       "    <tr>\n",
       "      <th>Shell weight</th>\n",
       "      <td>0.897706</td>\n",
       "      <td>0.905330</td>\n",
       "      <td>0.817338</td>\n",
       "      <td>0.955355</td>\n",
       "      <td>0.882617</td>\n",
       "      <td>0.907656</td>\n",
       "      <td>1.000000</td>\n",
       "      <td>0.627574</td>\n",
       "    </tr>\n",
       "    <tr>\n",
       "      <th>Rings</th>\n",
       "      <td>0.556720</td>\n",
       "      <td>0.574660</td>\n",
       "      <td>0.557467</td>\n",
       "      <td>0.540390</td>\n",
       "      <td>0.420884</td>\n",
       "      <td>0.503819</td>\n",
       "      <td>0.627574</td>\n",
       "      <td>1.000000</td>\n",
       "    </tr>\n",
       "  </tbody>\n",
       "</table>\n",
       "</div>"
      ],
      "text/plain": [
       "                  Length  Diameter    Height  Whole weight  Shucked weight  \\\n",
       "Length          1.000000  0.986812  0.827554      0.925261        0.897914   \n",
       "Diameter        0.986812  1.000000  0.833684      0.925452        0.893162   \n",
       "Height          0.827554  0.833684  1.000000      0.819221        0.774972   \n",
       "Whole weight    0.925261  0.925452  0.819221      1.000000        0.969405   \n",
       "Shucked weight  0.897914  0.893162  0.774972      0.969405        1.000000   \n",
       "Viscera weight  0.903018  0.899724  0.798319      0.966375        0.931961   \n",
       "Shell weight    0.897706  0.905330  0.817338      0.955355        0.882617   \n",
       "Rings           0.556720  0.574660  0.557467      0.540390        0.420884   \n",
       "\n",
       "                Viscera weight  Shell weight     Rings  \n",
       "Length                0.903018      0.897706  0.556720  \n",
       "Diameter              0.899724      0.905330  0.574660  \n",
       "Height                0.798319      0.817338  0.557467  \n",
       "Whole weight          0.966375      0.955355  0.540390  \n",
       "Shucked weight        0.931961      0.882617  0.420884  \n",
       "Viscera weight        1.000000      0.907656  0.503819  \n",
       "Shell weight          0.907656      1.000000  0.627574  \n",
       "Rings                 0.503819      0.627574  1.000000  "
      ]
     },
     "execution_count": 11,
     "metadata": {},
     "output_type": "execute_result"
    }
   ],
   "source": [
    "df.corr()"
   ]
  },
  {
   "cell_type": "code",
   "execution_count": 12,
   "id": "12cd0e32",
   "metadata": {},
   "outputs": [
    {
     "data": {
      "text/plain": [
       "<AxesSubplot:>"
      ]
     },
     "execution_count": 12,
     "metadata": {},
     "output_type": "execute_result"
    },
    {
     "data": {
      "image/png": "[encoded data removed]",
      "text/plain": [
       "<Figure size 576x576 with 2 Axes>"
      ]
     },
     "metadata": {
      "needs_background": "light"
     },
     "output_type": "display_data"
    }
   ],
   "source": [
    "plt.figure(figsize = (8,8))\n",
    "sns.heatmap(df.corr(), annot = True)"
   ]
  },
  {
   "cell_type": "markdown",
   "id": "1a175522",
   "metadata": {},
   "source": [
    "# Correlation Analysis"
   ]
  },
  {
   "cell_type": "markdown",
   "id": "584e1b4e",
   "metadata": {},
   "source": [
    "We see that some of the input features are highly correlated. For example, the correlation between whole weight and length of abalone is 0.97, indicating that these two features are highly positively correlated. This will potentially raise the multicollinearity concern. As a result, it can become difficult for the model to estimate the relationship between each independent variable and the dependent variable independently. \n",
    "\n",
    "Additionally, the high correlation between many of the features may insinuate that many of the features are redundant and the inclusion of all of them may be unnecessary. For example, including both diameter and length conveys very similar messages about the biology of the abalone, and may indicate that it is unnecessary to include both of these biological features. "
   ]
  },
  {
   "cell_type": "code",
   "execution_count": 13,
   "id": "c12a4761",
   "metadata": {},
   "outputs": [
    {
     "data": {
      "text/plain": [
       "Rings             1.000000\n",
       "Shell weight      0.627574\n",
       "Diameter          0.574660\n",
       "Height            0.557467\n",
       "Length            0.556720\n",
       "Whole weight      0.540390\n",
       "Viscera weight    0.503819\n",
       "Shucked weight    0.420884\n",
       "Name: Rings, dtype: float64"
      ]
     },
     "execution_count": 13,
     "metadata": {},
     "output_type": "execute_result"
    }
   ],
   "source": [
    "corr_matrix=df.corr()\n",
    "corr_matrix['Rings'].sort_values(ascending=False)"
   ]
  },
  {
   "cell_type": "code",
   "execution_count": 14,
   "id": "4f6287e4",
   "metadata": {},
   "outputs": [
    {
     "data": {
      "text/html": [
       "<div>\n",
       "<style scoped>\n",
       "    .dataframe tbody tr th:only-of-type {\n",
       "        vertical-align: middle;\n",
       "    }\n",
       "\n",
       "    .dataframe tbody tr th {\n",
       "        vertical-align: top;\n",
       "    }\n",
       "\n",
       "    .dataframe thead th {\n",
       "        text-align: right;\n",
       "    }\n",
       "</style>\n",
       "<table border=\"1\" class=\"dataframe\">\n",
       "  <thead>\n",
       "    <tr style=\"text-align: right;\">\n",
       "      <th></th>\n",
       "      <th>Sex</th>\n",
       "      <th>Length</th>\n",
       "      <th>Diameter</th>\n",
       "      <th>Height</th>\n",
       "      <th>Whole weight</th>\n",
       "      <th>Shucked weight</th>\n",
       "      <th>Viscera weight</th>\n",
       "      <th>Shell weight</th>\n",
       "      <th>Rings</th>\n",
       "    </tr>\n",
       "  </thead>\n",
       "  <tbody>\n",
       "    <tr>\n",
       "      <th>0</th>\n",
       "      <td>M</td>\n",
       "      <td>0.455</td>\n",
       "      <td>0.365</td>\n",
       "      <td>0.095</td>\n",
       "      <td>0.514</td>\n",
       "      <td>0.2245</td>\n",
       "      <td>0.101</td>\n",
       "      <td>0.15</td>\n",
       "      <td>15</td>\n",
       "    </tr>\n",
       "  </tbody>\n",
       "</table>\n",
       "</div>"
      ],
      "text/plain": [
       "  Sex  Length  Diameter  Height  Whole weight  Shucked weight  Viscera weight  \\\n",
       "0   M   0.455     0.365   0.095         0.514          0.2245           0.101   \n",
       "\n",
       "   Shell weight  Rings  \n",
       "0          0.15     15  "
      ]
     },
     "execution_count": 14,
     "metadata": {},
     "output_type": "execute_result"
    }
   ],
   "source": [
    "df.head(1)"
   ]
  },
  {
   "cell_type": "code",
   "execution_count": 15,
   "id": "ada6e8fb",
   "metadata": {},
   "outputs": [
    {
     "data": {
      "text/html": [
       "<div>\n",
       "<style scoped>\n",
       "    .dataframe tbody tr th:only-of-type {\n",
       "        vertical-align: middle;\n",
       "    }\n",
       "\n",
       "    .dataframe tbody tr th {\n",
       "        vertical-align: top;\n",
       "    }\n",
       "\n",
       "    .dataframe thead th {\n",
       "        text-align: right;\n",
       "    }\n",
       "</style>\n",
       "<table border=\"1\" class=\"dataframe\">\n",
       "  <thead>\n",
       "    <tr style=\"text-align: right;\">\n",
       "      <th></th>\n",
       "      <th>Length</th>\n",
       "      <th>Diameter</th>\n",
       "      <th>Height</th>\n",
       "      <th>Whole weight</th>\n",
       "      <th>Shucked weight</th>\n",
       "      <th>Viscera weight</th>\n",
       "      <th>Shell weight</th>\n",
       "      <th>Rings</th>\n",
       "    </tr>\n",
       "  </thead>\n",
       "  <tbody>\n",
       "    <tr>\n",
       "      <th>0</th>\n",
       "      <td>0.455</td>\n",
       "      <td>0.365</td>\n",
       "      <td>0.095</td>\n",
       "      <td>0.5140</td>\n",
       "      <td>0.2245</td>\n",
       "      <td>0.1010</td>\n",
       "      <td>0.15</td>\n",
       "      <td>15</td>\n",
       "    </tr>\n",
       "    <tr>\n",
       "      <th>1</th>\n",
       "      <td>0.350</td>\n",
       "      <td>0.265</td>\n",
       "      <td>0.090</td>\n",
       "      <td>0.2255</td>\n",
       "      <td>0.0995</td>\n",
       "      <td>0.0485</td>\n",
       "      <td>0.07</td>\n",
       "      <td>7</td>\n",
       "    </tr>\n",
       "  </tbody>\n",
       "</table>\n",
       "</div>"
      ],
      "text/plain": [
       "   Length  Diameter  Height  Whole weight  Shucked weight  Viscera weight  \\\n",
       "0   0.455     0.365   0.095        0.5140          0.2245          0.1010   \n",
       "1   0.350     0.265   0.090        0.2255          0.0995          0.0485   \n",
       "\n",
       "   Shell weight  Rings  \n",
       "0          0.15     15  \n",
       "1          0.07      7  "
      ]
     },
     "execution_count": 15,
     "metadata": {},
     "output_type": "execute_result"
    }
   ],
   "source": [
    "dataToPlot=df.loc[:, df.columns != 'Sex']\n",
    "dataToPlot.head(2)"
   ]
  },
  {
   "cell_type": "code",
   "execution_count": 16,
   "id": "824498fb",
   "metadata": {},
   "outputs": [
    {
     "data": {
      "text/html": [
       "<div>\n",
       "<style scoped>\n",
       "    .dataframe tbody tr th:only-of-type {\n",
       "        vertical-align: middle;\n",
       "    }\n",
       "\n",
       "    .dataframe tbody tr th {\n",
       "        vertical-align: top;\n",
       "    }\n",
       "\n",
       "    .dataframe thead th {\n",
       "        text-align: right;\n",
       "    }\n",
       "</style>\n",
       "<table border=\"1\" class=\"dataframe\">\n",
       "  <thead>\n",
       "    <tr style=\"text-align: right;\">\n",
       "      <th></th>\n",
       "      <th>Sex</th>\n",
       "    </tr>\n",
       "  </thead>\n",
       "  <tbody>\n",
       "    <tr>\n",
       "      <th>0</th>\n",
       "      <td>M</td>\n",
       "    </tr>\n",
       "    <tr>\n",
       "      <th>1</th>\n",
       "      <td>M</td>\n",
       "    </tr>\n",
       "  </tbody>\n",
       "</table>\n",
       "</div>"
      ],
      "text/plain": [
       "  Sex\n",
       "0   M\n",
       "1   M"
      ]
     },
     "execution_count": 16,
     "metadata": {},
     "output_type": "execute_result"
    }
   ],
   "source": [
    "targetToPlot=df.loc[:, df.columns == 'Sex']\n",
    "targetToPlot.head(2)"
   ]
  },
  {
   "cell_type": "markdown",
   "id": "9c3a5aeb",
   "metadata": {},
   "source": [
    "# Box Plot"
   ]
  },
  {
   "cell_type": "code",
   "execution_count": 17,
   "id": "783e5e4a",
   "metadata": {},
   "outputs": [
    {
     "data": {
      "image/png": "[encoded data removed]",
      "text/plain": [
       "<Figure size 864x576 with 8 Axes>"
      ]
     },
     "metadata": {},
     "output_type": "display_data"
    }
   ],
   "source": [
    "#Lets see data distribution using Box Plot\n",
    "plt.figure(figsize=(12,8),facecolor='orange')\n",
    "graph=1\n",
    "\n",
    "for column in dataToPlot:\n",
    "    \n",
    "    if graph<=12:\n",
    "        ax=plt.subplot(3,4,graph)        \n",
    "        sns.boxplot(dataToPlot[column])\n",
    "        plt.xlabel(column,fontsize=11)\n",
    "        plt.ylabel('Sex',fontsize=11)\n",
    "        \n",
    "    graph+=1   \n",
    "    \n",
    "plt.tight_layout()"
   ]
  },
  {
   "cell_type": "markdown",
   "id": "1159053a",
   "metadata": {},
   "source": [
    "The columns has maximum outliers are Shucked weight, Whole weight, Shell weight ,Viscera weight and Rings\n",
    "\n",
    "Length and Diameter looks same and has minimum outliers, Same with Height it has very less outliers."
   ]
  },
  {
   "cell_type": "code",
   "execution_count": 124,
   "id": "75772a20",
   "metadata": {},
   "outputs": [
    {
     "data": {
      "text/plain": [
       "Index(['Sex', 'Length', 'Diameter', 'Height', 'Whole weight', 'Shucked weight',\n",
       "       'Viscera weight', 'Shell weight', 'Rings'],\n",
       "      dtype='object')"
      ]
     },
     "execution_count": 124,
     "metadata": {},
     "output_type": "execute_result"
    }
   ],
   "source": [
    "df.columns"
   ]
  },
  {
   "cell_type": "code",
   "execution_count": 19,
   "id": "f35e4add",
   "metadata": {},
   "outputs": [
    {
     "data": {
      "text/plain": [
       "<AxesSubplot:xlabel='Length', ylabel='Rings'>"
      ]
     },
     "execution_count": 19,
     "metadata": {},
     "output_type": "execute_result"
    },
    {
     "data": {
      "image/png": "[encoded data removed]",
      "text/plain": [
       "<Figure size 360x360 with 1 Axes>"
      ]
     },
     "metadata": {},
     "output_type": "display_data"
    }
   ],
   "source": [
    "#Lets see data distribution using Length(Independent Variable) and Rings(Dependent Variable)\n",
    "plt.figure(figsize=(5,5),facecolor='orange')\n",
    "sns.scatterplot(x=\"Length\",y=\"Rings\",data=df)"
   ]
  },
  {
   "cell_type": "markdown",
   "id": "a5d19ced",
   "metadata": {},
   "source": [
    "Maximum number of rings are present at length 0.1 to 0.7 as per the graph"
   ]
  },
  {
   "cell_type": "code",
   "execution_count": 20,
   "id": "b2c72bec",
   "metadata": {},
   "outputs": [
    {
     "data": {
      "text/plain": [
       "<AxesSubplot:xlabel='Diameter', ylabel='Rings'>"
      ]
     },
     "execution_count": 20,
     "metadata": {},
     "output_type": "execute_result"
    },
    {
     "data": {
      "image/png": "[encoded data removed]",
      "text/plain": [
       "<Figure size 360x360 with 1 Axes>"
      ]
     },
     "metadata": {},
     "output_type": "display_data"
    }
   ],
   "source": [
    "#Lets see data distribution using Diameter(Independent Variable) and Rings(Dependent Variable)\n",
    "plt.figure(figsize=(5,5),facecolor='orange')\n",
    "sns.scatterplot(x=\"Diameter\",y=\"Rings\",data=df)"
   ]
  },
  {
   "cell_type": "markdown",
   "id": "4318cc6e",
   "metadata": {},
   "source": [
    "Maximum number of rings are present at length 0.1 to 0.6 as per the graph. The number of rings ranges between 3 to 20 for the length 0.1 to 0.6"
   ]
  },
  {
   "cell_type": "code",
   "execution_count": 21,
   "id": "8706e971",
   "metadata": {},
   "outputs": [
    {
     "data": {
      "text/plain": [
       "<AxesSubplot:xlabel='Height', ylabel='Rings'>"
      ]
     },
     "execution_count": 21,
     "metadata": {},
     "output_type": "execute_result"
    },
    {
     "data": {
      "image/png": "[encoded data removed]",
      "text/plain": [
       "<Figure size 360x360 with 1 Axes>"
      ]
     },
     "metadata": {},
     "output_type": "display_data"
    }
   ],
   "source": [
    "#Lets see data distribution using Height(Independent Variable) and Rings(Dependent Variable)\n",
    "plt.figure(figsize=(5,5),facecolor='orange')\n",
    "sns.scatterplot(x=\"Height\",y=\"Rings\",data=df)"
   ]
  },
  {
   "cell_type": "markdown",
   "id": "698740b6",
   "metadata": {},
   "source": [
    "Height of the meat and Rings have very less relation as per the graph. Even if the Height increases, the number of Rings make no difference"
   ]
  },
  {
   "cell_type": "code",
   "execution_count": 22,
   "id": "fa2dc5a9",
   "metadata": {},
   "outputs": [
    {
     "data": {
      "text/plain": [
       "<AxesSubplot:xlabel='Whole weight', ylabel='Rings'>"
      ]
     },
     "execution_count": 22,
     "metadata": {},
     "output_type": "execute_result"
    },
    {
     "data": {
      "image/png": "[encoded data removed]",
      "text/plain": [
       "<Figure size 360x360 with 1 Axes>"
      ]
     },
     "metadata": {},
     "output_type": "display_data"
    }
   ],
   "source": [
    "#Lets see data distribution using Whole weight(Independent Variable) and Rings(Dependent Variable)\n",
    "plt.figure(figsize=(5,5),facecolor='orange')\n",
    "sns.scatterplot(x=\"Whole weight\",y=\"Rings\",data=df)"
   ]
  },
  {
   "cell_type": "markdown",
   "id": "5406d22d",
   "metadata": {},
   "source": [
    "Maximum number of rings are present where the whole weight of the abalone is between 0.1 to 2 gram as per the graph. If the Whole weight increases further, it will have no impact on the number of rings."
   ]
  },
  {
   "cell_type": "code",
   "execution_count": 23,
   "id": "016a3b07",
   "metadata": {},
   "outputs": [
    {
     "data": {
      "text/plain": [
       "<AxesSubplot:xlabel='Shucked weight', ylabel='Rings'>"
      ]
     },
     "execution_count": 23,
     "metadata": {},
     "output_type": "execute_result"
    },
    {
     "data": {
      "image/png": "[encoded data removed]",
      "text/plain": [
       "<Figure size 360x360 with 1 Axes>"
      ]
     },
     "metadata": {},
     "output_type": "display_data"
    }
   ],
   "source": [
    "#Lets see data distribution using Shucked weight(Independent Variable) and Rings(Dependent Variable)\n",
    "plt.figure(figsize=(5,5),facecolor='orange')\n",
    "sns.scatterplot(x=\"Shucked weight\",y=\"Rings\",data=df)"
   ]
  },
  {
   "cell_type": "markdown",
   "id": "ded98f05",
   "metadata": {},
   "source": [
    "Maximum number of rings are present where the weight of the meat is 0.1 to 1.1 gram as per the graph.If the Shucked weight increases further, it will have no impact on the number of rings."
   ]
  },
  {
   "cell_type": "code",
   "execution_count": 127,
   "id": "3c8cc1d3",
   "metadata": {},
   "outputs": [
    {
     "data": {
      "text/plain": [
       "<AxesSubplot:xlabel='Viscera weight', ylabel='Rings'>"
      ]
     },
     "execution_count": 127,
     "metadata": {},
     "output_type": "execute_result"
    },
    {
     "data": {
      "image/png": "[encoded data removed]",
      "text/plain": [
       "<Figure size 360x360 with 1 Axes>"
      ]
     },
     "metadata": {},
     "output_type": "display_data"
    }
   ],
   "source": [
    "#Lets see data distribution using Viscera weight(Independent Variable) and Rings(Dependent Variable)\n",
    "plt.figure(figsize=(5,5),facecolor='orange')\n",
    "sns.scatterplot(x=\"Viscera weight\",y=\"Rings\",data=df,color='g')"
   ]
  },
  {
   "cell_type": "markdown",
   "id": "9a214080",
   "metadata": {},
   "source": [
    "Maximum number of rings are present where the weight of the meat is 0.1 to 1.5 gram as per the graph. If the Viscera weight increases further, it will have no impact on the number of rings."
   ]
  },
  {
   "cell_type": "code",
   "execution_count": 128,
   "id": "8c4e5557",
   "metadata": {},
   "outputs": [
    {
     "data": {
      "text/plain": [
       "<AxesSubplot:xlabel='Shell weight', ylabel='Rings'>"
      ]
     },
     "execution_count": 128,
     "metadata": {},
     "output_type": "execute_result"
    },
    {
     "data": {
      "image/png": "[encoded data removed]",
      "text/plain": [
       "<Figure size 360x360 with 1 Axes>"
      ]
     },
     "metadata": {},
     "output_type": "display_data"
    }
   ],
   "source": [
    "#Lets see data distribution using Shell weight(Independent Variable) and Rings(Dependent Variable)\n",
    "plt.figure(figsize=(5,5),facecolor='orange')\n",
    "sns.scatterplot(x=\"Shell weight\",y=\"Rings\",data=df,color='g')"
   ]
  },
  {
   "cell_type": "markdown",
   "id": "9f35bda0",
   "metadata": {},
   "source": [
    "Maximum number of Rings are present where Shell weight between 0.2 to 0.6 grams. If the Shell weight increases further, it will have no impact on the number of rings."
   ]
  },
  {
   "cell_type": "code",
   "execution_count": 130,
   "id": "6eab14ed",
   "metadata": {},
   "outputs": [],
   "source": [
    "X = df.drop('Rings' , axis=1) #Input\n",
    "y = df['Rings'] #Output"
   ]
  },
  {
   "cell_type": "code",
   "execution_count": 131,
   "id": "04547203",
   "metadata": {},
   "outputs": [
    {
     "data": {
      "text/html": [
       "<div>\n",
       "<style scoped>\n",
       "    .dataframe tbody tr th:only-of-type {\n",
       "        vertical-align: middle;\n",
       "    }\n",
       "\n",
       "    .dataframe tbody tr th {\n",
       "        vertical-align: top;\n",
       "    }\n",
       "\n",
       "    .dataframe thead th {\n",
       "        text-align: right;\n",
       "    }\n",
       "</style>\n",
       "<table border=\"1\" class=\"dataframe\">\n",
       "  <thead>\n",
       "    <tr style=\"text-align: right;\">\n",
       "      <th></th>\n",
       "      <th>Sex</th>\n",
       "      <th>Length</th>\n",
       "      <th>Diameter</th>\n",
       "      <th>Height</th>\n",
       "      <th>Whole weight</th>\n",
       "      <th>Shucked weight</th>\n",
       "      <th>Viscera weight</th>\n",
       "      <th>Shell weight</th>\n",
       "    </tr>\n",
       "  </thead>\n",
       "  <tbody>\n",
       "    <tr>\n",
       "      <th>0</th>\n",
       "      <td>2</td>\n",
       "      <td>0.455</td>\n",
       "      <td>0.365</td>\n",
       "      <td>0.095</td>\n",
       "      <td>0.5140</td>\n",
       "      <td>0.2245</td>\n",
       "      <td>0.1010</td>\n",
       "      <td>0.150</td>\n",
       "    </tr>\n",
       "    <tr>\n",
       "      <th>1</th>\n",
       "      <td>2</td>\n",
       "      <td>0.350</td>\n",
       "      <td>0.265</td>\n",
       "      <td>0.090</td>\n",
       "      <td>0.2255</td>\n",
       "      <td>0.0995</td>\n",
       "      <td>0.0485</td>\n",
       "      <td>0.070</td>\n",
       "    </tr>\n",
       "    <tr>\n",
       "      <th>2</th>\n",
       "      <td>0</td>\n",
       "      <td>0.530</td>\n",
       "      <td>0.420</td>\n",
       "      <td>0.135</td>\n",
       "      <td>0.6770</td>\n",
       "      <td>0.2565</td>\n",
       "      <td>0.1415</td>\n",
       "      <td>0.210</td>\n",
       "    </tr>\n",
       "    <tr>\n",
       "      <th>3</th>\n",
       "      <td>2</td>\n",
       "      <td>0.440</td>\n",
       "      <td>0.365</td>\n",
       "      <td>0.125</td>\n",
       "      <td>0.5160</td>\n",
       "      <td>0.2155</td>\n",
       "      <td>0.1140</td>\n",
       "      <td>0.155</td>\n",
       "    </tr>\n",
       "    <tr>\n",
       "      <th>4</th>\n",
       "      <td>1</td>\n",
       "      <td>0.330</td>\n",
       "      <td>0.255</td>\n",
       "      <td>0.080</td>\n",
       "      <td>0.2050</td>\n",
       "      <td>0.0895</td>\n",
       "      <td>0.0395</td>\n",
       "      <td>0.055</td>\n",
       "    </tr>\n",
       "  </tbody>\n",
       "</table>\n",
       "</div>"
      ],
      "text/plain": [
       "   Sex  Length  Diameter  Height  Whole weight  Shucked weight  \\\n",
       "0    2   0.455     0.365   0.095        0.5140          0.2245   \n",
       "1    2   0.350     0.265   0.090        0.2255          0.0995   \n",
       "2    0   0.530     0.420   0.135        0.6770          0.2565   \n",
       "3    2   0.440     0.365   0.125        0.5160          0.2155   \n",
       "4    1   0.330     0.255   0.080        0.2050          0.0895   \n",
       "\n",
       "   Viscera weight  Shell weight  \n",
       "0          0.1010         0.150  \n",
       "1          0.0485         0.070  \n",
       "2          0.1415         0.210  \n",
       "3          0.1140         0.155  \n",
       "4          0.0395         0.055  "
      ]
     },
     "execution_count": 131,
     "metadata": {},
     "output_type": "execute_result"
    }
   ],
   "source": [
    "X.head()"
   ]
  },
  {
   "cell_type": "code",
   "execution_count": 132,
   "id": "e856172c",
   "metadata": {},
   "outputs": [
    {
     "data": {
      "text/plain": [
       "{0, 1, 2}"
      ]
     },
     "execution_count": 132,
     "metadata": {},
     "output_type": "execute_result"
    }
   ],
   "source": [
    "set(X['Sex']) "
   ]
  },
  {
   "cell_type": "code",
   "execution_count": 133,
   "id": "c7358669",
   "metadata": {},
   "outputs": [],
   "source": [
    "from sklearn.preprocessing import LabelEncoder\n",
    "enc=LabelEncoder()\n",
    "X['Sex']=enc.fit_transform(X['Sex'])"
   ]
  },
  {
   "cell_type": "code",
   "execution_count": 134,
   "id": "28965ba8",
   "metadata": {},
   "outputs": [
    {
     "data": {
      "text/plain": [
       "{0, 1, 2}"
      ]
     },
     "execution_count": 134,
     "metadata": {},
     "output_type": "execute_result"
    }
   ],
   "source": [
    "set(X['Sex'])"
   ]
  },
  {
   "cell_type": "code",
   "execution_count": 135,
   "id": "9455ccc9",
   "metadata": {},
   "outputs": [
    {
     "data": {
      "text/html": [
       "<div>\n",
       "<style scoped>\n",
       "    .dataframe tbody tr th:only-of-type {\n",
       "        vertical-align: middle;\n",
       "    }\n",
       "\n",
       "    .dataframe tbody tr th {\n",
       "        vertical-align: top;\n",
       "    }\n",
       "\n",
       "    .dataframe thead th {\n",
       "        text-align: right;\n",
       "    }\n",
       "</style>\n",
       "<table border=\"1\" class=\"dataframe\">\n",
       "  <thead>\n",
       "    <tr style=\"text-align: right;\">\n",
       "      <th></th>\n",
       "      <th>Sex</th>\n",
       "      <th>Length</th>\n",
       "      <th>Diameter</th>\n",
       "      <th>Height</th>\n",
       "      <th>Whole weight</th>\n",
       "      <th>Shucked weight</th>\n",
       "      <th>Viscera weight</th>\n",
       "      <th>Shell weight</th>\n",
       "      <th>Rings</th>\n",
       "    </tr>\n",
       "  </thead>\n",
       "  <tbody>\n",
       "    <tr>\n",
       "      <th>0</th>\n",
       "      <td>2</td>\n",
       "      <td>0.455</td>\n",
       "      <td>0.365</td>\n",
       "      <td>0.095</td>\n",
       "      <td>0.5140</td>\n",
       "      <td>0.2245</td>\n",
       "      <td>0.1010</td>\n",
       "      <td>0.150</td>\n",
       "      <td>15</td>\n",
       "    </tr>\n",
       "    <tr>\n",
       "      <th>1</th>\n",
       "      <td>2</td>\n",
       "      <td>0.350</td>\n",
       "      <td>0.265</td>\n",
       "      <td>0.090</td>\n",
       "      <td>0.2255</td>\n",
       "      <td>0.0995</td>\n",
       "      <td>0.0485</td>\n",
       "      <td>0.070</td>\n",
       "      <td>7</td>\n",
       "    </tr>\n",
       "    <tr>\n",
       "      <th>2</th>\n",
       "      <td>0</td>\n",
       "      <td>0.530</td>\n",
       "      <td>0.420</td>\n",
       "      <td>0.135</td>\n",
       "      <td>0.6770</td>\n",
       "      <td>0.2565</td>\n",
       "      <td>0.1415</td>\n",
       "      <td>0.210</td>\n",
       "      <td>9</td>\n",
       "    </tr>\n",
       "    <tr>\n",
       "      <th>3</th>\n",
       "      <td>2</td>\n",
       "      <td>0.440</td>\n",
       "      <td>0.365</td>\n",
       "      <td>0.125</td>\n",
       "      <td>0.5160</td>\n",
       "      <td>0.2155</td>\n",
       "      <td>0.1140</td>\n",
       "      <td>0.155</td>\n",
       "      <td>10</td>\n",
       "    </tr>\n",
       "    <tr>\n",
       "      <th>4</th>\n",
       "      <td>1</td>\n",
       "      <td>0.330</td>\n",
       "      <td>0.255</td>\n",
       "      <td>0.080</td>\n",
       "      <td>0.2050</td>\n",
       "      <td>0.0895</td>\n",
       "      <td>0.0395</td>\n",
       "      <td>0.055</td>\n",
       "      <td>7</td>\n",
       "    </tr>\n",
       "  </tbody>\n",
       "</table>\n",
       "</div>"
      ],
      "text/plain": [
       "   Sex  Length  Diameter  Height  Whole weight  Shucked weight  \\\n",
       "0    2   0.455     0.365   0.095        0.5140          0.2245   \n",
       "1    2   0.350     0.265   0.090        0.2255          0.0995   \n",
       "2    0   0.530     0.420   0.135        0.6770          0.2565   \n",
       "3    2   0.440     0.365   0.125        0.5160          0.2155   \n",
       "4    1   0.330     0.255   0.080        0.2050          0.0895   \n",
       "\n",
       "   Viscera weight  Shell weight  Rings  \n",
       "0          0.1010         0.150     15  \n",
       "1          0.0485         0.070      7  \n",
       "2          0.1415         0.210      9  \n",
       "3          0.1140         0.155     10  \n",
       "4          0.0395         0.055      7  "
      ]
     },
     "execution_count": 135,
     "metadata": {},
     "output_type": "execute_result"
    }
   ],
   "source": [
    "df.head()"
   ]
  },
  {
   "cell_type": "markdown",
   "id": "5aae43f8",
   "metadata": {},
   "source": [
    "# DistPlot"
   ]
  },
  {
   "cell_type": "code",
   "execution_count": 136,
   "id": "11631183",
   "metadata": {},
   "outputs": [
    {
     "data": {
      "image/png": "[encoded data removed]",
      "text/plain": [
       "<Figure size 720x720 with 8 Axes>"
      ]
     },
     "metadata": {},
     "output_type": "display_data"
    }
   ],
   "source": [
    "#Lets see data distribution again\n",
    "plt.figure(figsize=(10,10),facecolor='orange')\n",
    "plotnumber=1\n",
    "\n",
    "for column in X:\n",
    "    #print(column)\n",
    "    if plotnumber<=8:\n",
    "        ax=plt.subplot(2,4,plotnumber)        \n",
    "        sns.distplot(X[column])\n",
    "        plt.xlabel(column,fontsize=10)\n",
    "        \n",
    "    plotnumber+=1   \n",
    "    \n",
    "plt.tight_layout()"
   ]
  },
  {
   "cell_type": "markdown",
   "id": "dd9936fc",
   "metadata": {},
   "source": [
    "Whole weight, Shucked weight, Viscera weight and Shell weight are right skewed but Height is the one which looks most skewed.\n",
    "\n",
    "There is some left skewness in Length and Diameter"
   ]
  },
  {
   "cell_type": "markdown",
   "id": "48a8f180",
   "metadata": {},
   "source": [
    "# Correlation and Relationship"
   ]
  },
  {
   "cell_type": "code",
   "execution_count": 34,
   "id": "d8431596",
   "metadata": {},
   "outputs": [
    {
     "data": {
      "text/html": [
       "<div>\n",
       "<style scoped>\n",
       "    .dataframe tbody tr th:only-of-type {\n",
       "        vertical-align: middle;\n",
       "    }\n",
       "\n",
       "    .dataframe tbody tr th {\n",
       "        vertical-align: top;\n",
       "    }\n",
       "\n",
       "    .dataframe thead th {\n",
       "        text-align: right;\n",
       "    }\n",
       "</style>\n",
       "<table border=\"1\" class=\"dataframe\">\n",
       "  <thead>\n",
       "    <tr style=\"text-align: right;\">\n",
       "      <th></th>\n",
       "      <th>Length</th>\n",
       "      <th>Diameter</th>\n",
       "      <th>Height</th>\n",
       "      <th>Whole weight</th>\n",
       "      <th>Shucked weight</th>\n",
       "      <th>Viscera weight</th>\n",
       "      <th>Shell weight</th>\n",
       "      <th>Rings</th>\n",
       "    </tr>\n",
       "    <tr>\n",
       "      <th>Sex</th>\n",
       "      <th></th>\n",
       "      <th></th>\n",
       "      <th></th>\n",
       "      <th></th>\n",
       "      <th></th>\n",
       "      <th></th>\n",
       "      <th></th>\n",
       "      <th></th>\n",
       "    </tr>\n",
       "  </thead>\n",
       "  <tbody>\n",
       "    <tr>\n",
       "      <th>F</th>\n",
       "      <td>0.579093</td>\n",
       "      <td>0.454732</td>\n",
       "      <td>0.158011</td>\n",
       "      <td>1.046532</td>\n",
       "      <td>0.446188</td>\n",
       "      <td>0.230689</td>\n",
       "      <td>0.302010</td>\n",
       "      <td>11.129304</td>\n",
       "    </tr>\n",
       "    <tr>\n",
       "      <th>M</th>\n",
       "      <td>0.561391</td>\n",
       "      <td>0.439287</td>\n",
       "      <td>0.151381</td>\n",
       "      <td>0.991459</td>\n",
       "      <td>0.432946</td>\n",
       "      <td>0.215545</td>\n",
       "      <td>0.281969</td>\n",
       "      <td>10.705497</td>\n",
       "    </tr>\n",
       "    <tr>\n",
       "      <th>I</th>\n",
       "      <td>0.427746</td>\n",
       "      <td>0.326494</td>\n",
       "      <td>0.107996</td>\n",
       "      <td>0.431363</td>\n",
       "      <td>0.191035</td>\n",
       "      <td>0.092010</td>\n",
       "      <td>0.128182</td>\n",
       "      <td>7.890462</td>\n",
       "    </tr>\n",
       "  </tbody>\n",
       "</table>\n",
       "</div>"
      ],
      "text/plain": [
       "       Length  Diameter    Height  Whole weight  Shucked weight  \\\n",
       "Sex                                                               \n",
       "F    0.579093  0.454732  0.158011      1.046532        0.446188   \n",
       "M    0.561391  0.439287  0.151381      0.991459        0.432946   \n",
       "I    0.427746  0.326494  0.107996      0.431363        0.191035   \n",
       "\n",
       "     Viscera weight  Shell weight      Rings  \n",
       "Sex                                           \n",
       "F          0.230689      0.302010  11.129304  \n",
       "M          0.215545      0.281969  10.705497  \n",
       "I          0.092010      0.128182   7.890462  "
      ]
     },
     "execution_count": 34,
     "metadata": {},
     "output_type": "execute_result"
    }
   ],
   "source": [
    "df.groupby('Sex')[['Length', 'Diameter', 'Height', 'Whole weight', \n",
    "                   'Shucked weight','Viscera weight', 'Shell weight', 'Rings']].mean().sort_values(by = 'Rings',ascending = False)"
   ]
  },
  {
   "cell_type": "markdown",
   "id": "b1efb687",
   "metadata": {},
   "source": [
    "The analysis above gives somewhat closer picture of how the data is.\n",
    "\n",
    "For Female and Male, Length and Diameter are almost same, Height also has very less difference, followed by Whole weight, shucked weight, Viscera weight Shell weight and Rings\n",
    "All parameters are very close \n",
    "\n",
    "Infant has good difference and it is easy to identify from the data which we have."
   ]
  },
  {
   "cell_type": "code",
   "execution_count": 35,
   "id": "fbea8817",
   "metadata": {},
   "outputs": [
    {
     "data": {
      "text/html": [
       "<div>\n",
       "<style scoped>\n",
       "    .dataframe tbody tr th:only-of-type {\n",
       "        vertical-align: middle;\n",
       "    }\n",
       "\n",
       "    .dataframe tbody tr th {\n",
       "        vertical-align: top;\n",
       "    }\n",
       "\n",
       "    .dataframe thead th {\n",
       "        text-align: right;\n",
       "    }\n",
       "</style>\n",
       "<table border=\"1\" class=\"dataframe\">\n",
       "  <thead>\n",
       "    <tr style=\"text-align: right;\">\n",
       "      <th></th>\n",
       "      <th>Length</th>\n",
       "      <th>Diameter</th>\n",
       "      <th>Height</th>\n",
       "      <th>Whole weight</th>\n",
       "      <th>Shucked weight</th>\n",
       "      <th>Viscera weight</th>\n",
       "      <th>Shell weight</th>\n",
       "    </tr>\n",
       "  </thead>\n",
       "  <tbody>\n",
       "    <tr>\n",
       "      <th>Length</th>\n",
       "      <td>0.000000</td>\n",
       "      <td>0.986812</td>\n",
       "      <td>0.827554</td>\n",
       "      <td>0.925261</td>\n",
       "      <td>0.897914</td>\n",
       "      <td>0.903018</td>\n",
       "      <td>0.897706</td>\n",
       "    </tr>\n",
       "    <tr>\n",
       "      <th>Diameter</th>\n",
       "      <td>0.986812</td>\n",
       "      <td>0.000000</td>\n",
       "      <td>0.833684</td>\n",
       "      <td>0.925452</td>\n",
       "      <td>0.893162</td>\n",
       "      <td>0.899724</td>\n",
       "      <td>0.905330</td>\n",
       "    </tr>\n",
       "    <tr>\n",
       "      <th>Height</th>\n",
       "      <td>0.827554</td>\n",
       "      <td>0.833684</td>\n",
       "      <td>0.000000</td>\n",
       "      <td>0.819221</td>\n",
       "      <td>0.774972</td>\n",
       "      <td>0.798319</td>\n",
       "      <td>0.817338</td>\n",
       "    </tr>\n",
       "    <tr>\n",
       "      <th>Whole weight</th>\n",
       "      <td>0.925261</td>\n",
       "      <td>0.925452</td>\n",
       "      <td>0.819221</td>\n",
       "      <td>0.000000</td>\n",
       "      <td>0.969405</td>\n",
       "      <td>0.966375</td>\n",
       "      <td>0.955355</td>\n",
       "    </tr>\n",
       "    <tr>\n",
       "      <th>Shucked weight</th>\n",
       "      <td>0.897914</td>\n",
       "      <td>0.893162</td>\n",
       "      <td>0.774972</td>\n",
       "      <td>0.969405</td>\n",
       "      <td>0.000000</td>\n",
       "      <td>0.931961</td>\n",
       "      <td>0.882617</td>\n",
       "    </tr>\n",
       "    <tr>\n",
       "      <th>Viscera weight</th>\n",
       "      <td>0.903018</td>\n",
       "      <td>0.899724</td>\n",
       "      <td>0.798319</td>\n",
       "      <td>0.966375</td>\n",
       "      <td>0.931961</td>\n",
       "      <td>0.000000</td>\n",
       "      <td>0.907656</td>\n",
       "    </tr>\n",
       "    <tr>\n",
       "      <th>Shell weight</th>\n",
       "      <td>0.897706</td>\n",
       "      <td>0.905330</td>\n",
       "      <td>0.817338</td>\n",
       "      <td>0.955355</td>\n",
       "      <td>0.882617</td>\n",
       "      <td>0.907656</td>\n",
       "      <td>0.000000</td>\n",
       "    </tr>\n",
       "  </tbody>\n",
       "</table>\n",
       "</div>"
      ],
      "text/plain": [
       "                  Length  Diameter    Height  Whole weight  Shucked weight  \\\n",
       "Length          0.000000  0.986812  0.827554      0.925261        0.897914   \n",
       "Diameter        0.986812  0.000000  0.833684      0.925452        0.893162   \n",
       "Height          0.827554  0.833684  0.000000      0.819221        0.774972   \n",
       "Whole weight    0.925261  0.925452  0.819221      0.000000        0.969405   \n",
       "Shucked weight  0.897914  0.893162  0.774972      0.969405        0.000000   \n",
       "Viscera weight  0.903018  0.899724  0.798319      0.966375        0.931961   \n",
       "Shell weight    0.897706  0.905330  0.817338      0.955355        0.882617   \n",
       "\n",
       "                Viscera weight  Shell weight  \n",
       "Length                0.903018      0.897706  \n",
       "Diameter              0.899724      0.905330  \n",
       "Height                0.798319      0.817338  \n",
       "Whole weight          0.966375      0.955355  \n",
       "Shucked weight        0.931961      0.882617  \n",
       "Viscera weight        0.000000      0.907656  \n",
       "Shell weight          0.907656      0.000000  "
      ]
     },
     "execution_count": 35,
     "metadata": {},
     "output_type": "execute_result"
    }
   ],
   "source": [
    "float_columns = [x for x in df.columns if x not in ['Sex', 'Rings']]\n",
    "\n",
    "# correlation matrix : \n",
    "corr_mat = df[float_columns].corr()\n",
    "# Strip out the diagnoal values for next step:\n",
    "for x in range(len(float_columns)):\n",
    "    corr_mat.iloc[x,x] = 0.0\n",
    "    \n",
    "corr_mat "
   ]
  },
  {
   "cell_type": "code",
   "execution_count": 36,
   "id": "a1f34736",
   "metadata": {},
   "outputs": [
    {
     "data": {
      "text/plain": [
       "Length                  Diameter\n",
       "Diameter                  Length\n",
       "Height                  Diameter\n",
       "Whole weight      Shucked weight\n",
       "Shucked weight      Whole weight\n",
       "Viscera weight      Whole weight\n",
       "Shell weight        Whole weight\n",
       "dtype: object"
      ]
     },
     "execution_count": 36,
     "metadata": {},
     "output_type": "execute_result"
    }
   ],
   "source": [
    "# pairwise maximal correlations: \n",
    "corr_mat.abs().idxmax()"
   ]
  },
  {
   "cell_type": "markdown",
   "id": "ef7296a1",
   "metadata": {},
   "source": [
    "The above comparsion shows the Pairwise maximal correlations.\n",
    "We see that Length, Diameter and Height are correlated pairwise\n",
    "\n",
    "Interesting is that Whole weight is correlated with Shucked Weight, Viscera weight and shell weight. \n",
    "\n",
    "SO going further it will be safe to remove Whole weight or Diameter/Length but before that we will check that which combination gives us more Adjusted RSquare value."
   ]
  },
  {
   "cell_type": "markdown",
   "id": "14c9ffa7",
   "metadata": {},
   "source": [
    "# Skew Examination"
   ]
  },
  {
   "cell_type": "code",
   "execution_count": 37,
   "id": "c1502575",
   "metadata": {},
   "outputs": [
    {
     "data": {
      "text/plain": [
       "Length           -0.639873\n",
       "Diameter         -0.609198\n",
       "Height            3.128817\n",
       "Whole weight      0.530959\n",
       "Shucked weight    0.719098\n",
       "Viscera weight    0.591852\n",
       "Shell weight      0.620927\n",
       "Rings             1.114102\n",
       "dtype: float64"
      ]
     },
     "execution_count": 37,
     "metadata": {},
     "output_type": "execute_result"
    }
   ],
   "source": [
    "df.skew()"
   ]
  },
  {
   "cell_type": "code",
   "execution_count": 38,
   "id": "2eefd8e0",
   "metadata": {},
   "outputs": [
    {
     "data": {
      "text/plain": [
       "Height    3.128817\n",
       "dtype: float64"
      ]
     },
     "execution_count": 38,
     "metadata": {},
     "output_type": "execute_result"
    }
   ],
   "source": [
    "skew_columns = (df[float_columns].skew().sort_values(ascending=False))\n",
    "skew_columns = skew_columns.loc[skew_columns > 0.75]\n",
    "skew_columns"
   ]
  },
  {
   "cell_type": "markdown",
   "id": "9a5c24aa",
   "metadata": {},
   "source": [
    "Here we see that Height is the one column which is skewed the most"
   ]
  },
  {
   "cell_type": "markdown",
   "id": "68ae0019",
   "metadata": {},
   "source": [
    "# LabelEncoder to convert Sex into int type"
   ]
  },
  {
   "cell_type": "code",
   "execution_count": 39,
   "id": "fb9ee787",
   "metadata": {},
   "outputs": [
    {
     "data": {
      "text/plain": [
       "<bound method IndexOpsMixin.value_counts of 0       2\n",
       "1       2\n",
       "2       0\n",
       "3       2\n",
       "4       1\n",
       "       ..\n",
       "4172    0\n",
       "4173    2\n",
       "4174    2\n",
       "4175    0\n",
       "4176    2\n",
       "Name: Sex, Length: 4177, dtype: int32>"
      ]
     },
     "execution_count": 39,
     "metadata": {},
     "output_type": "execute_result"
    }
   ],
   "source": [
    "from sklearn.preprocessing import LabelEncoder\n",
    "\n",
    "le = LabelEncoder()\n",
    "df['Sex'] = le.fit_transform(df['Sex'])\n",
    "\n",
    "df['Sex'].value_counts"
   ]
  },
  {
   "cell_type": "markdown",
   "id": "68e99c6c",
   "metadata": {},
   "source": [
    "Female has been encoded to 0\n",
    "\n",
    "Infant has been encoded to 1\n",
    "\n",
    "Male has been encode to 2"
   ]
  },
  {
   "cell_type": "markdown",
   "id": "5a106c79",
   "metadata": {},
   "source": [
    "# Z-Score to remove Outliers"
   ]
  },
  {
   "cell_type": "code",
   "execution_count": 40,
   "id": "c1d74acf",
   "metadata": {},
   "outputs": [
    {
     "data": {
      "text/plain": [
       "(4177, 9)"
      ]
     },
     "execution_count": 40,
     "metadata": {},
     "output_type": "execute_result"
    }
   ],
   "source": [
    "from scipy.stats import zscore\n",
    "z=np.abs(zscore(df))\n",
    "z.shape"
   ]
  },
  {
   "cell_type": "code",
   "execution_count": 41,
   "id": "b0600f6c",
   "metadata": {},
   "outputs": [
    {
     "name": "stdout",
     "output_type": "stream",
     "text": [
      "(array([   6,   72,   81,   83,  129,  163,  164,  165,  165,  165,  166,\n",
      "        166,  167,  168,  170,  181,  232,  236,  236,  236,  237,  237,\n",
      "        238,  238,  239,  270,  275,  277,  278,  294,  310,  313,  314,\n",
      "        334,  351,  355,  358,  358,  362,  375,  416,  417,  428,  431,\n",
      "        433,  469,  478,  480,  501,  526,  526,  530,  572,  628,  673,\n",
      "        674,  675,  678,  694,  696,  696,  719,  719,  720,  720,  744,\n",
      "        754,  756,  811,  891,  891,  891, 1048, 1051, 1051, 1052, 1193,\n",
      "       1197, 1199, 1202, 1204, 1206, 1206, 1207, 1207, 1207, 1207, 1209,\n",
      "       1209, 1257, 1417, 1417, 1418, 1422, 1426, 1427, 1427, 1427, 1428,\n",
      "       1429, 1429, 1528, 1754, 1756, 1757, 1759, 1761, 1762, 1762, 1762,\n",
      "       1763, 1763, 1763, 1821, 1982, 1986, 1987, 1987, 2051, 2090, 2108,\n",
      "       2108, 2114, 2114, 2157, 2161, 2176, 2180, 2199, 2201, 2208, 2209,\n",
      "       2274, 2275, 2305, 2334, 2334, 2334, 2335, 2344, 2358, 2368, 2381,\n",
      "       2436, 2459, 2471, 2544, 2623, 2624, 2624, 2624, 2625, 2709, 2710,\n",
      "       2710, 2810, 2810, 2811, 2811, 2811, 2862, 2863, 2863, 2863, 3007,\n",
      "       3008, 3140, 3148, 3149, 3149, 3151, 3151, 3188, 3193, 3280, 3359,\n",
      "       3427, 3427, 3427, 3599, 3599, 3628, 3713, 3715, 3715, 3715, 3715,\n",
      "       3800, 3837, 3899, 3899, 3902, 3924, 3930, 3944, 3961, 3962, 3996,\n",
      "       4145, 4148], dtype=int64), array([8, 8, 7, 8, 7, 7, 7, 4, 5, 7, 7, 8, 8, 7, 6, 8, 8, 1, 2, 3, 1, 2,\n",
      "       1, 2, 1, 8, 8, 7, 8, 8, 8, 8, 8, 7, 8, 8, 4, 7, 8, 8, 8, 8, 8, 8,\n",
      "       8, 8, 8, 8, 8, 1, 2, 8, 8, 8, 8, 8, 8, 8, 2, 1, 2, 1, 2, 1, 2, 8,\n",
      "       8, 8, 8, 4, 5, 7, 6, 4, 5, 4, 5, 5, 5, 5, 6, 5, 6, 4, 5, 6, 7, 4,\n",
      "       5, 3, 3, 5, 5, 6, 5, 4, 5, 6, 7, 1, 2, 5, 5, 5, 6, 6, 5, 4, 5, 6,\n",
      "       4, 5, 6, 5, 5, 1, 1, 2, 3, 7, 7, 8, 1, 2, 7, 7, 8, 8, 8, 8, 7, 8,\n",
      "       7, 8, 8, 4, 6, 8, 8, 8, 8, 7, 1, 8, 8, 8, 5, 4, 4, 5, 6, 5, 6, 5,\n",
      "       6, 5, 6, 4, 5, 6, 5, 4, 5, 6, 5, 7, 8, 7, 7, 8, 7, 8, 7, 8, 8, 8,\n",
      "       4, 5, 6, 4, 5, 6, 5, 4, 5, 6, 7, 4, 2, 1, 2, 1, 8, 8, 8, 5, 5, 3,\n",
      "       7, 6], dtype=int64))\n"
     ]
    }
   ],
   "source": [
    "threshold=3\n",
    "print(np.where(z>3))"
   ]
  },
  {
   "cell_type": "code",
   "execution_count": 42,
   "id": "eafeab95",
   "metadata": {},
   "outputs": [
    {
     "name": "stdout",
     "output_type": "stream",
     "text": [
      "(4177, 9)\n",
      "(4027, 9)\n"
     ]
    }
   ],
   "source": [
    "df_new=df[(z<3).all(axis=1)]\n",
    "print(df.shape)\n",
    "print(df_new.shape)"
   ]
  },
  {
   "cell_type": "markdown",
   "id": "15482886",
   "metadata": {},
   "source": [
    "# Percentage Data Loss"
   ]
  },
  {
   "cell_type": "code",
   "execution_count": 43,
   "id": "fc836ab0",
   "metadata": {},
   "outputs": [
    {
     "data": {
      "text/plain": [
       "3.5910940866650707"
      ]
     },
     "execution_count": 43,
     "metadata": {},
     "output_type": "execute_result"
    }
   ],
   "source": [
    "loss_percentage= ((4177-4027)/4177)*100\n",
    "loss_percentage"
   ]
  },
  {
   "cell_type": "markdown",
   "id": "ba3e2c93",
   "metadata": {},
   "source": [
    "Loss Percentage is Acceptable and within limits"
   ]
  },
  {
   "cell_type": "code",
   "execution_count": 44,
   "id": "287cc43f",
   "metadata": {},
   "outputs": [
    {
     "data": {
      "text/html": [
       "<div>\n",
       "<style scoped>\n",
       "    .dataframe tbody tr th:only-of-type {\n",
       "        vertical-align: middle;\n",
       "    }\n",
       "\n",
       "    .dataframe tbody tr th {\n",
       "        vertical-align: top;\n",
       "    }\n",
       "\n",
       "    .dataframe thead th {\n",
       "        text-align: right;\n",
       "    }\n",
       "</style>\n",
       "<table border=\"1\" class=\"dataframe\">\n",
       "  <thead>\n",
       "    <tr style=\"text-align: right;\">\n",
       "      <th></th>\n",
       "      <th>Sex</th>\n",
       "      <th>Length</th>\n",
       "      <th>Diameter</th>\n",
       "      <th>Height</th>\n",
       "      <th>Whole weight</th>\n",
       "      <th>Shucked weight</th>\n",
       "      <th>Viscera weight</th>\n",
       "      <th>Shell weight</th>\n",
       "    </tr>\n",
       "  </thead>\n",
       "  <tbody>\n",
       "    <tr>\n",
       "      <th>0</th>\n",
       "      <td>2</td>\n",
       "      <td>0.455</td>\n",
       "      <td>0.365</td>\n",
       "      <td>0.095</td>\n",
       "      <td>0.5140</td>\n",
       "      <td>0.2245</td>\n",
       "      <td>0.1010</td>\n",
       "      <td>0.150</td>\n",
       "    </tr>\n",
       "    <tr>\n",
       "      <th>1</th>\n",
       "      <td>2</td>\n",
       "      <td>0.350</td>\n",
       "      <td>0.265</td>\n",
       "      <td>0.090</td>\n",
       "      <td>0.2255</td>\n",
       "      <td>0.0995</td>\n",
       "      <td>0.0485</td>\n",
       "      <td>0.070</td>\n",
       "    </tr>\n",
       "    <tr>\n",
       "      <th>2</th>\n",
       "      <td>0</td>\n",
       "      <td>0.530</td>\n",
       "      <td>0.420</td>\n",
       "      <td>0.135</td>\n",
       "      <td>0.6770</td>\n",
       "      <td>0.2565</td>\n",
       "      <td>0.1415</td>\n",
       "      <td>0.210</td>\n",
       "    </tr>\n",
       "    <tr>\n",
       "      <th>3</th>\n",
       "      <td>2</td>\n",
       "      <td>0.440</td>\n",
       "      <td>0.365</td>\n",
       "      <td>0.125</td>\n",
       "      <td>0.5160</td>\n",
       "      <td>0.2155</td>\n",
       "      <td>0.1140</td>\n",
       "      <td>0.155</td>\n",
       "    </tr>\n",
       "    <tr>\n",
       "      <th>4</th>\n",
       "      <td>1</td>\n",
       "      <td>0.330</td>\n",
       "      <td>0.255</td>\n",
       "      <td>0.080</td>\n",
       "      <td>0.2050</td>\n",
       "      <td>0.0895</td>\n",
       "      <td>0.0395</td>\n",
       "      <td>0.055</td>\n",
       "    </tr>\n",
       "  </tbody>\n",
       "</table>\n",
       "</div>"
      ],
      "text/plain": [
       "   Sex  Length  Diameter  Height  Whole weight  Shucked weight  \\\n",
       "0    2   0.455     0.365   0.095        0.5140          0.2245   \n",
       "1    2   0.350     0.265   0.090        0.2255          0.0995   \n",
       "2    0   0.530     0.420   0.135        0.6770          0.2565   \n",
       "3    2   0.440     0.365   0.125        0.5160          0.2155   \n",
       "4    1   0.330     0.255   0.080        0.2050          0.0895   \n",
       "\n",
       "   Viscera weight  Shell weight  \n",
       "0          0.1010         0.150  \n",
       "1          0.0485         0.070  \n",
       "2          0.1415         0.210  \n",
       "3          0.1140         0.155  \n",
       "4          0.0395         0.055  "
      ]
     },
     "execution_count": 44,
     "metadata": {},
     "output_type": "execute_result"
    }
   ],
   "source": [
    "dataToPlot=df_new.loc[:, df.columns != 'Rings']\n",
    "dataToPlot.head(5)"
   ]
  },
  {
   "cell_type": "code",
   "execution_count": 45,
   "id": "296409e0",
   "metadata": {},
   "outputs": [
    {
     "data": {
      "image/png": "[encoded data removed]",
      "text/plain": [
       "<Figure size 864x576 with 8 Axes>"
      ]
     },
     "metadata": {},
     "output_type": "display_data"
    }
   ],
   "source": [
    "#Lets see data distribution again\n",
    "plt.figure(figsize=(12,8),facecolor='orange')\n",
    "graph=1\n",
    "\n",
    "for column in dataToPlot:\n",
    "    \n",
    "    if graph<=8:\n",
    "        ax=plt.subplot(2,4,graph)        \n",
    "        sns.boxplot(dataToPlot[column])\n",
    "        plt.xlabel(column,fontsize=10)\n",
    "        \n",
    "    graph+=1   \n",
    "    \n",
    "plt.tight_layout()"
   ]
  },
  {
   "cell_type": "markdown",
   "id": "f00ce11d",
   "metadata": {},
   "source": [
    "So, we have removed most of the outliers and data loss is also not that much"
   ]
  },
  {
   "cell_type": "markdown",
   "id": "f9217628",
   "metadata": {},
   "source": [
    "# Transforming Data to remove Skewness"
   ]
  },
  {
   "cell_type": "code",
   "execution_count": 46,
   "id": "62adfc19",
   "metadata": {},
   "outputs": [],
   "source": [
    "#Lets divide the data into features and vectors \n",
    "#Features into x\n",
    "X=df_new.iloc[:,:-1]\n",
    "\n",
    "#Vector in y\n",
    "y=df_new.iloc[:,-1]"
   ]
  },
  {
   "cell_type": "code",
   "execution_count": 47,
   "id": "19458fc0",
   "metadata": {},
   "outputs": [
    {
     "data": {
      "text/html": [
       "<div>\n",
       "<style scoped>\n",
       "    .dataframe tbody tr th:only-of-type {\n",
       "        vertical-align: middle;\n",
       "    }\n",
       "\n",
       "    .dataframe tbody tr th {\n",
       "        vertical-align: top;\n",
       "    }\n",
       "\n",
       "    .dataframe thead th {\n",
       "        text-align: right;\n",
       "    }\n",
       "</style>\n",
       "<table border=\"1\" class=\"dataframe\">\n",
       "  <thead>\n",
       "    <tr style=\"text-align: right;\">\n",
       "      <th></th>\n",
       "      <th>Sex</th>\n",
       "      <th>Length</th>\n",
       "      <th>Diameter</th>\n",
       "      <th>Height</th>\n",
       "      <th>Whole weight</th>\n",
       "      <th>Shucked weight</th>\n",
       "      <th>Viscera weight</th>\n",
       "      <th>Shell weight</th>\n",
       "    </tr>\n",
       "  </thead>\n",
       "  <tbody>\n",
       "    <tr>\n",
       "      <th>0</th>\n",
       "      <td>2</td>\n",
       "      <td>0.455</td>\n",
       "      <td>0.365</td>\n",
       "      <td>0.095</td>\n",
       "      <td>0.5140</td>\n",
       "      <td>0.2245</td>\n",
       "      <td>0.1010</td>\n",
       "      <td>0.150</td>\n",
       "    </tr>\n",
       "    <tr>\n",
       "      <th>1</th>\n",
       "      <td>2</td>\n",
       "      <td>0.350</td>\n",
       "      <td>0.265</td>\n",
       "      <td>0.090</td>\n",
       "      <td>0.2255</td>\n",
       "      <td>0.0995</td>\n",
       "      <td>0.0485</td>\n",
       "      <td>0.070</td>\n",
       "    </tr>\n",
       "    <tr>\n",
       "      <th>2</th>\n",
       "      <td>0</td>\n",
       "      <td>0.530</td>\n",
       "      <td>0.420</td>\n",
       "      <td>0.135</td>\n",
       "      <td>0.6770</td>\n",
       "      <td>0.2565</td>\n",
       "      <td>0.1415</td>\n",
       "      <td>0.210</td>\n",
       "    </tr>\n",
       "    <tr>\n",
       "      <th>3</th>\n",
       "      <td>2</td>\n",
       "      <td>0.440</td>\n",
       "      <td>0.365</td>\n",
       "      <td>0.125</td>\n",
       "      <td>0.5160</td>\n",
       "      <td>0.2155</td>\n",
       "      <td>0.1140</td>\n",
       "      <td>0.155</td>\n",
       "    </tr>\n",
       "    <tr>\n",
       "      <th>4</th>\n",
       "      <td>1</td>\n",
       "      <td>0.330</td>\n",
       "      <td>0.255</td>\n",
       "      <td>0.080</td>\n",
       "      <td>0.2050</td>\n",
       "      <td>0.0895</td>\n",
       "      <td>0.0395</td>\n",
       "      <td>0.055</td>\n",
       "    </tr>\n",
       "  </tbody>\n",
       "</table>\n",
       "</div>"
      ],
      "text/plain": [
       "   Sex  Length  Diameter  Height  Whole weight  Shucked weight  \\\n",
       "0    2   0.455     0.365   0.095        0.5140          0.2245   \n",
       "1    2   0.350     0.265   0.090        0.2255          0.0995   \n",
       "2    0   0.530     0.420   0.135        0.6770          0.2565   \n",
       "3    2   0.440     0.365   0.125        0.5160          0.2155   \n",
       "4    1   0.330     0.255   0.080        0.2050          0.0895   \n",
       "\n",
       "   Viscera weight  Shell weight  \n",
       "0          0.1010         0.150  \n",
       "1          0.0485         0.070  \n",
       "2          0.1415         0.210  \n",
       "3          0.1140         0.155  \n",
       "4          0.0395         0.055  "
      ]
     },
     "execution_count": 47,
     "metadata": {},
     "output_type": "execute_result"
    }
   ],
   "source": [
    "X.head(5)"
   ]
  },
  {
   "cell_type": "code",
   "execution_count": 48,
   "id": "2f5bf1b9",
   "metadata": {},
   "outputs": [
    {
     "data": {
      "text/plain": [
       "15"
      ]
     },
     "execution_count": 48,
     "metadata": {},
     "output_type": "execute_result"
    }
   ],
   "source": [
    "y[0]"
   ]
  },
  {
   "cell_type": "code",
   "execution_count": 49,
   "id": "c15da196",
   "metadata": {},
   "outputs": [],
   "source": [
    "from sklearn.preprocessing import power_transform\n",
    "x=power_transform(X,method='yeo-johnson')"
   ]
  },
  {
   "cell_type": "code",
   "execution_count": 50,
   "id": "287af650",
   "metadata": {},
   "outputs": [
    {
     "data": {
      "text/plain": [
       "Sex              -0.094886\n",
       "Length           -0.623076\n",
       "Diameter         -0.598650\n",
       "Height           -0.244251\n",
       "Whole weight      0.334204\n",
       "Shucked weight    0.458295\n",
       "Viscera weight    0.437116\n",
       "Shell weight      0.349471\n",
       "Rings             0.725464\n",
       "dtype: float64"
      ]
     },
     "execution_count": 50,
     "metadata": {},
     "output_type": "execute_result"
    }
   ],
   "source": [
    "df_new.skew()"
   ]
  },
  {
   "cell_type": "code",
   "execution_count": 51,
   "id": "d13ff106",
   "metadata": {},
   "outputs": [],
   "source": [
    "X = df_new.iloc[:,:-1]"
   ]
  },
  {
   "cell_type": "code",
   "execution_count": 52,
   "id": "a38337eb",
   "metadata": {},
   "outputs": [
    {
     "data": {
      "text/html": [
       "<div>\n",
       "<style scoped>\n",
       "    .dataframe tbody tr th:only-of-type {\n",
       "        vertical-align: middle;\n",
       "    }\n",
       "\n",
       "    .dataframe tbody tr th {\n",
       "        vertical-align: top;\n",
       "    }\n",
       "\n",
       "    .dataframe thead th {\n",
       "        text-align: right;\n",
       "    }\n",
       "</style>\n",
       "<table border=\"1\" class=\"dataframe\">\n",
       "  <thead>\n",
       "    <tr style=\"text-align: right;\">\n",
       "      <th></th>\n",
       "      <th>Sex</th>\n",
       "      <th>Length</th>\n",
       "      <th>Diameter</th>\n",
       "      <th>Height</th>\n",
       "      <th>Whole weight</th>\n",
       "      <th>Shucked weight</th>\n",
       "      <th>Viscera weight</th>\n",
       "      <th>Shell weight</th>\n",
       "    </tr>\n",
       "  </thead>\n",
       "  <tbody>\n",
       "    <tr>\n",
       "      <th>0</th>\n",
       "      <td>2</td>\n",
       "      <td>0.455</td>\n",
       "      <td>0.365</td>\n",
       "      <td>0.095</td>\n",
       "      <td>0.5140</td>\n",
       "      <td>0.2245</td>\n",
       "      <td>0.1010</td>\n",
       "      <td>0.150</td>\n",
       "    </tr>\n",
       "    <tr>\n",
       "      <th>1</th>\n",
       "      <td>2</td>\n",
       "      <td>0.350</td>\n",
       "      <td>0.265</td>\n",
       "      <td>0.090</td>\n",
       "      <td>0.2255</td>\n",
       "      <td>0.0995</td>\n",
       "      <td>0.0485</td>\n",
       "      <td>0.070</td>\n",
       "    </tr>\n",
       "    <tr>\n",
       "      <th>2</th>\n",
       "      <td>0</td>\n",
       "      <td>0.530</td>\n",
       "      <td>0.420</td>\n",
       "      <td>0.135</td>\n",
       "      <td>0.6770</td>\n",
       "      <td>0.2565</td>\n",
       "      <td>0.1415</td>\n",
       "      <td>0.210</td>\n",
       "    </tr>\n",
       "    <tr>\n",
       "      <th>3</th>\n",
       "      <td>2</td>\n",
       "      <td>0.440</td>\n",
       "      <td>0.365</td>\n",
       "      <td>0.125</td>\n",
       "      <td>0.5160</td>\n",
       "      <td>0.2155</td>\n",
       "      <td>0.1140</td>\n",
       "      <td>0.155</td>\n",
       "    </tr>\n",
       "    <tr>\n",
       "      <th>4</th>\n",
       "      <td>1</td>\n",
       "      <td>0.330</td>\n",
       "      <td>0.255</td>\n",
       "      <td>0.080</td>\n",
       "      <td>0.2050</td>\n",
       "      <td>0.0895</td>\n",
       "      <td>0.0395</td>\n",
       "      <td>0.055</td>\n",
       "    </tr>\n",
       "  </tbody>\n",
       "</table>\n",
       "</div>"
      ],
      "text/plain": [
       "   Sex  Length  Diameter  Height  Whole weight  Shucked weight  \\\n",
       "0    2   0.455     0.365   0.095        0.5140          0.2245   \n",
       "1    2   0.350     0.265   0.090        0.2255          0.0995   \n",
       "2    0   0.530     0.420   0.135        0.6770          0.2565   \n",
       "3    2   0.440     0.365   0.125        0.5160          0.2155   \n",
       "4    1   0.330     0.255   0.080        0.2050          0.0895   \n",
       "\n",
       "   Viscera weight  Shell weight  \n",
       "0          0.1010         0.150  \n",
       "1          0.0485         0.070  \n",
       "2          0.1415         0.210  \n",
       "3          0.1140         0.155  \n",
       "4          0.0395         0.055  "
      ]
     },
     "execution_count": 52,
     "metadata": {},
     "output_type": "execute_result"
    }
   ],
   "source": [
    "X.head()"
   ]
  },
  {
   "cell_type": "code",
   "execution_count": 53,
   "id": "54d0439a",
   "metadata": {},
   "outputs": [],
   "source": [
    "# Finding variance Inflation factor in each scaled column i.e x.shape[1] (1/(1-R2)\n",
    "# Age and Expereince, you can predict Salary, so Multi colinearity problem is there\n",
    "# Thats why we first use Standard Scaler to standardise the data and then use vif"
   ]
  },
  {
   "cell_type": "code",
   "execution_count": 54,
   "id": "7b321e1e",
   "metadata": {},
   "outputs": [
    {
     "data": {
      "text/html": [
       "<div>\n",
       "<style scoped>\n",
       "    .dataframe tbody tr th:only-of-type {\n",
       "        vertical-align: middle;\n",
       "    }\n",
       "\n",
       "    .dataframe tbody tr th {\n",
       "        vertical-align: top;\n",
       "    }\n",
       "\n",
       "    .dataframe thead th {\n",
       "        text-align: right;\n",
       "    }\n",
       "</style>\n",
       "<table border=\"1\" class=\"dataframe\">\n",
       "  <thead>\n",
       "    <tr style=\"text-align: right;\">\n",
       "      <th></th>\n",
       "      <th>Sex</th>\n",
       "      <th>Length</th>\n",
       "      <th>Diameter</th>\n",
       "      <th>Height</th>\n",
       "      <th>Whole weight</th>\n",
       "      <th>Shucked weight</th>\n",
       "      <th>Viscera weight</th>\n",
       "      <th>Shell weight</th>\n",
       "    </tr>\n",
       "  </thead>\n",
       "  <tbody>\n",
       "    <tr>\n",
       "      <th>0</th>\n",
       "      <td>2</td>\n",
       "      <td>0.455</td>\n",
       "      <td>0.365</td>\n",
       "      <td>0.095</td>\n",
       "      <td>0.5140</td>\n",
       "      <td>0.2245</td>\n",
       "      <td>0.1010</td>\n",
       "      <td>0.150</td>\n",
       "    </tr>\n",
       "    <tr>\n",
       "      <th>1</th>\n",
       "      <td>2</td>\n",
       "      <td>0.350</td>\n",
       "      <td>0.265</td>\n",
       "      <td>0.090</td>\n",
       "      <td>0.2255</td>\n",
       "      <td>0.0995</td>\n",
       "      <td>0.0485</td>\n",
       "      <td>0.070</td>\n",
       "    </tr>\n",
       "    <tr>\n",
       "      <th>2</th>\n",
       "      <td>0</td>\n",
       "      <td>0.530</td>\n",
       "      <td>0.420</td>\n",
       "      <td>0.135</td>\n",
       "      <td>0.6770</td>\n",
       "      <td>0.2565</td>\n",
       "      <td>0.1415</td>\n",
       "      <td>0.210</td>\n",
       "    </tr>\n",
       "    <tr>\n",
       "      <th>3</th>\n",
       "      <td>2</td>\n",
       "      <td>0.440</td>\n",
       "      <td>0.365</td>\n",
       "      <td>0.125</td>\n",
       "      <td>0.5160</td>\n",
       "      <td>0.2155</td>\n",
       "      <td>0.1140</td>\n",
       "      <td>0.155</td>\n",
       "    </tr>\n",
       "    <tr>\n",
       "      <th>4</th>\n",
       "      <td>1</td>\n",
       "      <td>0.330</td>\n",
       "      <td>0.255</td>\n",
       "      <td>0.080</td>\n",
       "      <td>0.2050</td>\n",
       "      <td>0.0895</td>\n",
       "      <td>0.0395</td>\n",
       "      <td>0.055</td>\n",
       "    </tr>\n",
       "  </tbody>\n",
       "</table>\n",
       "</div>"
      ],
      "text/plain": [
       "   Sex  Length  Diameter  Height  Whole weight  Shucked weight  \\\n",
       "0    2   0.455     0.365   0.095        0.5140          0.2245   \n",
       "1    2   0.350     0.265   0.090        0.2255          0.0995   \n",
       "2    0   0.530     0.420   0.135        0.6770          0.2565   \n",
       "3    2   0.440     0.365   0.125        0.5160          0.2155   \n",
       "4    1   0.330     0.255   0.080        0.2050          0.0895   \n",
       "\n",
       "   Viscera weight  Shell weight  \n",
       "0          0.1010         0.150  \n",
       "1          0.0485         0.070  \n",
       "2          0.1415         0.210  \n",
       "3          0.1140         0.155  \n",
       "4          0.0395         0.055  "
      ]
     },
     "execution_count": 54,
     "metadata": {},
     "output_type": "execute_result"
    }
   ],
   "source": [
    "X_vif=df.drop(columns=['Rings'])\n",
    "X_vif.head()"
   ]
  },
  {
   "cell_type": "code",
   "execution_count": 55,
   "id": "b0a2e45b",
   "metadata": {},
   "outputs": [
    {
     "data": {
      "text/html": [
       "<div>\n",
       "<style scoped>\n",
       "    .dataframe tbody tr th:only-of-type {\n",
       "        vertical-align: middle;\n",
       "    }\n",
       "\n",
       "    .dataframe tbody tr th {\n",
       "        vertical-align: top;\n",
       "    }\n",
       "\n",
       "    .dataframe thead th {\n",
       "        text-align: right;\n",
       "    }\n",
       "</style>\n",
       "<table border=\"1\" class=\"dataframe\">\n",
       "  <thead>\n",
       "    <tr style=\"text-align: right;\">\n",
       "      <th></th>\n",
       "      <th>vif</th>\n",
       "      <th>features</th>\n",
       "    </tr>\n",
       "  </thead>\n",
       "  <tbody>\n",
       "    <tr>\n",
       "      <th>0</th>\n",
       "      <td>1.013199</td>\n",
       "      <td>Sex</td>\n",
       "    </tr>\n",
       "    <tr>\n",
       "      <th>1</th>\n",
       "      <td>34.538446</td>\n",
       "      <td>Length</td>\n",
       "    </tr>\n",
       "    <tr>\n",
       "      <th>2</th>\n",
       "      <td>33.515527</td>\n",
       "      <td>Diameter</td>\n",
       "    </tr>\n",
       "    <tr>\n",
       "      <th>3</th>\n",
       "      <td>6.524799</td>\n",
       "      <td>Height</td>\n",
       "    </tr>\n",
       "    <tr>\n",
       "      <th>4</th>\n",
       "      <td>136.046977</td>\n",
       "      <td>Whole weight</td>\n",
       "    </tr>\n",
       "    <tr>\n",
       "      <th>5</th>\n",
       "      <td>36.257857</td>\n",
       "      <td>Shucked weight</td>\n",
       "    </tr>\n",
       "    <tr>\n",
       "      <th>6</th>\n",
       "      <td>21.937509</td>\n",
       "      <td>Viscera weight</td>\n",
       "    </tr>\n",
       "    <tr>\n",
       "      <th>7</th>\n",
       "      <td>30.127367</td>\n",
       "      <td>Shell weight</td>\n",
       "    </tr>\n",
       "  </tbody>\n",
       "</table>\n",
       "</div>"
      ],
      "text/plain": [
       "          vif        features\n",
       "0    1.013199             Sex\n",
       "1   34.538446          Length\n",
       "2   33.515527        Diameter\n",
       "3    6.524799          Height\n",
       "4  136.046977    Whole weight\n",
       "5   36.257857  Shucked weight\n",
       "6   21.937509  Viscera weight\n",
       "7   30.127367    Shell weight"
      ]
     },
     "execution_count": 55,
     "metadata": {},
     "output_type": "execute_result"
    }
   ],
   "source": [
    "from statsmodels.stats.outliers_influence import variance_inflation_factor\n",
    "vif=pd.DataFrame()\n",
    "#Pass the value where Power Transform is stored, In this case it is x\n",
    "\n",
    "vif['vif']=[variance_inflation_factor(x,i) for i in range(x.shape[1])]\n",
    "vif['features']=X_vif.columns\n",
    "\n",
    "# Let's check the values now\n",
    "vif"
   ]
  },
  {
   "cell_type": "markdown",
   "id": "d377eb23",
   "metadata": {},
   "source": [
    "# Fixing Multicollinearity"
   ]
  },
  {
   "cell_type": "markdown",
   "id": "b8448ee3",
   "metadata": {},
   "source": [
    "Although correlation matrix and scatter plots can also be used to find multicollinearity, their findings only show the bivariate relationship between the independent variables. VIF is preferred as it can show the correlation of a variable with a group of other variables."
   ]
  },
  {
   "cell_type": "markdown",
   "id": "b311b8b9",
   "metadata": {},
   "source": [
    "Dropping one of the correlated features will help in bringing down the multicollinearity between correlated features but here our problem is regression, so vif will help us further to identify correct columns to use to get the maximum Adjust RSquare value"
   ]
  },
  {
   "cell_type": "code",
   "execution_count": 56,
   "id": "c7348f69",
   "metadata": {},
   "outputs": [
    {
     "data": {
      "text/plain": [
       "Length                  Diameter\n",
       "Diameter                  Length\n",
       "Height                  Diameter\n",
       "Whole weight      Shucked weight\n",
       "Shucked weight      Whole weight\n",
       "Viscera weight      Whole weight\n",
       "Shell weight        Whole weight\n",
       "dtype: object"
      ]
     },
     "execution_count": 56,
     "metadata": {},
     "output_type": "execute_result"
    }
   ],
   "source": [
    "# pairwise maximal correlations: \n",
    "corr_mat.abs().idxmax()"
   ]
  },
  {
   "cell_type": "code",
   "execution_count": 57,
   "id": "9e51a273",
   "metadata": {},
   "outputs": [
    {
     "data": {
      "text/plain": [
       "Index(['Sex', 'Diameter', 'Height', 'Shell weight', 'Rings'], dtype='object')"
      ]
     },
     "execution_count": 57,
     "metadata": {},
     "output_type": "execute_result"
    }
   ],
   "source": [
    "X = df.drop(['Whole weight','Shucked weight','Length','Viscera weight'],axis=1)\n",
    "\n",
    "X.columns"
   ]
  },
  {
   "cell_type": "code",
   "execution_count": 58,
   "id": "737d1d72",
   "metadata": {},
   "outputs": [],
   "source": [
    "x=power_transform(X,method='yeo-johnson')"
   ]
  },
  {
   "cell_type": "code",
   "execution_count": 59,
   "id": "7f93dfd3",
   "metadata": {},
   "outputs": [
    {
     "data": {
      "text/html": [
       "<div>\n",
       "<style scoped>\n",
       "    .dataframe tbody tr th:only-of-type {\n",
       "        vertical-align: middle;\n",
       "    }\n",
       "\n",
       "    .dataframe tbody tr th {\n",
       "        vertical-align: top;\n",
       "    }\n",
       "\n",
       "    .dataframe thead th {\n",
       "        text-align: right;\n",
       "    }\n",
       "</style>\n",
       "<table border=\"1\" class=\"dataframe\">\n",
       "  <thead>\n",
       "    <tr style=\"text-align: right;\">\n",
       "      <th></th>\n",
       "      <th>vif</th>\n",
       "      <th>features</th>\n",
       "    </tr>\n",
       "  </thead>\n",
       "  <tbody>\n",
       "    <tr>\n",
       "      <th>0</th>\n",
       "      <td>1.004286</td>\n",
       "      <td>Sex</td>\n",
       "    </tr>\n",
       "    <tr>\n",
       "      <th>1</th>\n",
       "      <td>11.885856</td>\n",
       "      <td>Diameter</td>\n",
       "    </tr>\n",
       "    <tr>\n",
       "      <th>2</th>\n",
       "      <td>5.413197</td>\n",
       "      <td>Height</td>\n",
       "    </tr>\n",
       "    <tr>\n",
       "      <th>3</th>\n",
       "      <td>14.345140</td>\n",
       "      <td>Shell weight</td>\n",
       "    </tr>\n",
       "    <tr>\n",
       "      <th>4</th>\n",
       "      <td>2.047049</td>\n",
       "      <td>Rings</td>\n",
       "    </tr>\n",
       "  </tbody>\n",
       "</table>\n",
       "</div>"
      ],
      "text/plain": [
       "         vif      features\n",
       "0   1.004286           Sex\n",
       "1  11.885856      Diameter\n",
       "2   5.413197        Height\n",
       "3  14.345140  Shell weight\n",
       "4   2.047049         Rings"
      ]
     },
     "execution_count": 59,
     "metadata": {},
     "output_type": "execute_result"
    }
   ],
   "source": [
    "from statsmodels.stats.outliers_influence import variance_inflation_factor\n",
    "vif=pd.DataFrame()\n",
    "#Pass the value where Power Transform is stored, In this case it is x\n",
    "\n",
    "vif['vif']=[variance_inflation_factor(x,i) for i in range(x.shape[1])]\n",
    "vif['features']=X.columns\n",
    "\n",
    "# Let's check the values now\n",
    "vif"
   ]
  },
  {
   "cell_type": "markdown",
   "id": "8b7ee765",
   "metadata": {},
   "source": [
    "So we see that we have reduced the multicollinearity problem in our data to good extent, Lets check this data and use Linear Regression model to reduce it further.\n",
    "\n",
    "But one thin we notuce that remove lot of columns will surely lead to more data loss which will not be acceptable to anyone. So, lets analyse first with Linear Regression and take steps further. This is obvious that above vif score will definetely help us to identify the columns further"
   ]
  },
  {
   "cell_type": "code",
   "execution_count": 60,
   "id": "cc581669",
   "metadata": {},
   "outputs": [
    {
     "data": {
      "text/html": [
       "<div>\n",
       "<style scoped>\n",
       "    .dataframe tbody tr th:only-of-type {\n",
       "        vertical-align: middle;\n",
       "    }\n",
       "\n",
       "    .dataframe tbody tr th {\n",
       "        vertical-align: top;\n",
       "    }\n",
       "\n",
       "    .dataframe thead th {\n",
       "        text-align: right;\n",
       "    }\n",
       "</style>\n",
       "<table border=\"1\" class=\"dataframe\">\n",
       "  <thead>\n",
       "    <tr style=\"text-align: right;\">\n",
       "      <th></th>\n",
       "      <th>Sex</th>\n",
       "      <th>Diameter</th>\n",
       "      <th>Height</th>\n",
       "      <th>Shell weight</th>\n",
       "      <th>Rings</th>\n",
       "    </tr>\n",
       "  </thead>\n",
       "  <tbody>\n",
       "    <tr>\n",
       "      <th>0</th>\n",
       "      <td>2</td>\n",
       "      <td>0.365</td>\n",
       "      <td>0.095</td>\n",
       "      <td>0.150</td>\n",
       "      <td>15</td>\n",
       "    </tr>\n",
       "    <tr>\n",
       "      <th>1</th>\n",
       "      <td>2</td>\n",
       "      <td>0.265</td>\n",
       "      <td>0.090</td>\n",
       "      <td>0.070</td>\n",
       "      <td>7</td>\n",
       "    </tr>\n",
       "    <tr>\n",
       "      <th>2</th>\n",
       "      <td>0</td>\n",
       "      <td>0.420</td>\n",
       "      <td>0.135</td>\n",
       "      <td>0.210</td>\n",
       "      <td>9</td>\n",
       "    </tr>\n",
       "    <tr>\n",
       "      <th>3</th>\n",
       "      <td>2</td>\n",
       "      <td>0.365</td>\n",
       "      <td>0.125</td>\n",
       "      <td>0.155</td>\n",
       "      <td>10</td>\n",
       "    </tr>\n",
       "    <tr>\n",
       "      <th>4</th>\n",
       "      <td>1</td>\n",
       "      <td>0.255</td>\n",
       "      <td>0.080</td>\n",
       "      <td>0.055</td>\n",
       "      <td>7</td>\n",
       "    </tr>\n",
       "  </tbody>\n",
       "</table>\n",
       "</div>"
      ],
      "text/plain": [
       "   Sex  Diameter  Height  Shell weight  Rings\n",
       "0    2     0.365   0.095         0.150     15\n",
       "1    2     0.265   0.090         0.070      7\n",
       "2    0     0.420   0.135         0.210      9\n",
       "3    2     0.365   0.125         0.155     10\n",
       "4    1     0.255   0.080         0.055      7"
      ]
     },
     "execution_count": 60,
     "metadata": {},
     "output_type": "execute_result"
    }
   ],
   "source": [
    "X.head()"
   ]
  },
  {
   "cell_type": "markdown",
   "id": "c341c242",
   "metadata": {},
   "source": [
    "# Standard Scalar"
   ]
  },
  {
   "cell_type": "code",
   "execution_count": 61,
   "id": "7314b386",
   "metadata": {},
   "outputs": [],
   "source": [
    "from sklearn.preprocessing import StandardScaler\n",
    "sc=StandardScaler()\n",
    "\n",
    "x=sc.fit_transform(X)"
   ]
  },
  {
   "cell_type": "markdown",
   "id": "a2e42ec9",
   "metadata": {},
   "source": [
    "We fit a logistic regression and tuned it by using grid search. Other classification models like decision tree or KNN can be used in this project. We chose logistic regression for its good interpretability and its performance. However, with better feature engineering or better model selection, the performance can be improved."
   ]
  },
  {
   "cell_type": "markdown",
   "id": "e49d1830",
   "metadata": {},
   "source": [
    "# Desciption : Linear and Multiple Regression"
   ]
  },
  {
   "cell_type": "markdown",
   "id": "f01dfe21",
   "metadata": {},
   "source": [
    "The rings of abalone can’t be realted with only one predict, so I will set the full model of the data firstly, then change prediction models with different predictors. I will test the significance of the regression of those models with F test, single test to narrow and adjust the model for several time to get the best fit model."
   ]
  },
  {
   "cell_type": "markdown",
   "id": "9d2e5728",
   "metadata": {},
   "source": [
    "Divide the data into Features and Target"
   ]
  },
  {
   "cell_type": "code",
   "execution_count": 62,
   "id": "b4f48eb7",
   "metadata": {},
   "outputs": [
    {
     "name": "stdout",
     "output_type": "stream",
     "text": [
      "Shape of x: (4177, 4)\n",
      "Shape of y: (4177,)\n"
     ]
    }
   ],
   "source": [
    "y = X['Rings']\n",
    "x = X.drop(['Rings'], axis = 1)\n",
    "\n",
    "# getting the shapes\n",
    "print(\"Shape of x:\", x.shape)\n",
    "print(\"Shape of y:\", y.shape)"
   ]
  },
  {
   "cell_type": "code",
   "execution_count": 63,
   "id": "1920919f",
   "metadata": {},
   "outputs": [],
   "source": [
    "sc=StandardScaler()\n",
    "\n",
    "x=sc.fit_transform(x)"
   ]
  },
  {
   "cell_type": "code",
   "execution_count": 64,
   "id": "6b0f231e",
   "metadata": {},
   "outputs": [
    {
     "data": {
      "text/html": [
       "<div>\n",
       "<style scoped>\n",
       "    .dataframe tbody tr th:only-of-type {\n",
       "        vertical-align: middle;\n",
       "    }\n",
       "\n",
       "    .dataframe tbody tr th {\n",
       "        vertical-align: top;\n",
       "    }\n",
       "\n",
       "    .dataframe thead th {\n",
       "        text-align: right;\n",
       "    }\n",
       "</style>\n",
       "<table border=\"1\" class=\"dataframe\">\n",
       "  <thead>\n",
       "    <tr style=\"text-align: right;\">\n",
       "      <th></th>\n",
       "      <th>Sex</th>\n",
       "      <th>Diameter</th>\n",
       "      <th>Height</th>\n",
       "      <th>Shell weight</th>\n",
       "      <th>Rings</th>\n",
       "    </tr>\n",
       "  </thead>\n",
       "  <tbody>\n",
       "    <tr>\n",
       "      <th>0</th>\n",
       "      <td>2</td>\n",
       "      <td>0.365</td>\n",
       "      <td>0.095</td>\n",
       "      <td>0.15</td>\n",
       "      <td>15</td>\n",
       "    </tr>\n",
       "  </tbody>\n",
       "</table>\n",
       "</div>"
      ],
      "text/plain": [
       "   Sex  Diameter  Height  Shell weight  Rings\n",
       "0    2     0.365   0.095          0.15     15"
      ]
     },
     "execution_count": 64,
     "metadata": {},
     "output_type": "execute_result"
    }
   ],
   "source": [
    "X.head(1)"
   ]
  },
  {
   "cell_type": "code",
   "execution_count": 65,
   "id": "6b0a3870",
   "metadata": {},
   "outputs": [
    {
     "data": {
      "text/html": [
       "<div>\n",
       "<style scoped>\n",
       "    .dataframe tbody tr th:only-of-type {\n",
       "        vertical-align: middle;\n",
       "    }\n",
       "\n",
       "    .dataframe tbody tr th {\n",
       "        vertical-align: top;\n",
       "    }\n",
       "\n",
       "    .dataframe thead th {\n",
       "        text-align: right;\n",
       "    }\n",
       "</style>\n",
       "<table border=\"1\" class=\"dataframe\">\n",
       "  <thead>\n",
       "    <tr style=\"text-align: right;\">\n",
       "      <th></th>\n",
       "      <th>Sex</th>\n",
       "      <th>Length</th>\n",
       "      <th>Diameter</th>\n",
       "      <th>Height</th>\n",
       "      <th>Whole weight</th>\n",
       "      <th>Shucked weight</th>\n",
       "      <th>Viscera weight</th>\n",
       "      <th>Shell weight</th>\n",
       "      <th>Rings</th>\n",
       "    </tr>\n",
       "  </thead>\n",
       "  <tbody>\n",
       "    <tr>\n",
       "      <th>0</th>\n",
       "      <td>2</td>\n",
       "      <td>0.455</td>\n",
       "      <td>0.365</td>\n",
       "      <td>0.095</td>\n",
       "      <td>0.5140</td>\n",
       "      <td>0.2245</td>\n",
       "      <td>0.1010</td>\n",
       "      <td>0.150</td>\n",
       "      <td>15</td>\n",
       "    </tr>\n",
       "    <tr>\n",
       "      <th>1</th>\n",
       "      <td>2</td>\n",
       "      <td>0.350</td>\n",
       "      <td>0.265</td>\n",
       "      <td>0.090</td>\n",
       "      <td>0.2255</td>\n",
       "      <td>0.0995</td>\n",
       "      <td>0.0485</td>\n",
       "      <td>0.070</td>\n",
       "      <td>7</td>\n",
       "    </tr>\n",
       "    <tr>\n",
       "      <th>2</th>\n",
       "      <td>0</td>\n",
       "      <td>0.530</td>\n",
       "      <td>0.420</td>\n",
       "      <td>0.135</td>\n",
       "      <td>0.6770</td>\n",
       "      <td>0.2565</td>\n",
       "      <td>0.1415</td>\n",
       "      <td>0.210</td>\n",
       "      <td>9</td>\n",
       "    </tr>\n",
       "    <tr>\n",
       "      <th>3</th>\n",
       "      <td>2</td>\n",
       "      <td>0.440</td>\n",
       "      <td>0.365</td>\n",
       "      <td>0.125</td>\n",
       "      <td>0.5160</td>\n",
       "      <td>0.2155</td>\n",
       "      <td>0.1140</td>\n",
       "      <td>0.155</td>\n",
       "      <td>10</td>\n",
       "    </tr>\n",
       "    <tr>\n",
       "      <th>4</th>\n",
       "      <td>1</td>\n",
       "      <td>0.330</td>\n",
       "      <td>0.255</td>\n",
       "      <td>0.080</td>\n",
       "      <td>0.2050</td>\n",
       "      <td>0.0895</td>\n",
       "      <td>0.0395</td>\n",
       "      <td>0.055</td>\n",
       "      <td>7</td>\n",
       "    </tr>\n",
       "  </tbody>\n",
       "</table>\n",
       "</div>"
      ],
      "text/plain": [
       "   Sex  Length  Diameter  Height  Whole weight  Shucked weight  \\\n",
       "0    2   0.455     0.365   0.095        0.5140          0.2245   \n",
       "1    2   0.350     0.265   0.090        0.2255          0.0995   \n",
       "2    0   0.530     0.420   0.135        0.6770          0.2565   \n",
       "3    2   0.440     0.365   0.125        0.5160          0.2155   \n",
       "4    1   0.330     0.255   0.080        0.2050          0.0895   \n",
       "\n",
       "   Viscera weight  Shell weight  Rings  \n",
       "0          0.1010         0.150     15  \n",
       "1          0.0485         0.070      7  \n",
       "2          0.1415         0.210      9  \n",
       "3          0.1140         0.155     10  \n",
       "4          0.0395         0.055      7  "
      ]
     },
     "execution_count": 65,
     "metadata": {},
     "output_type": "execute_result"
    }
   ],
   "source": [
    "df_new.head()"
   ]
  },
  {
   "cell_type": "code",
   "execution_count": 66,
   "id": "42f8ab5d",
   "metadata": {},
   "outputs": [],
   "source": [
    "df_new.rename(columns={\"Viscera weight\": \"Viscera_weight\",\"Whole weight\":\"Whole_weight\",\"Shucked weight\":\"Shucked_weight\",\"Shell weight\":\"Shell_weight\"}, errors=\"raise\",inplace=True)"
   ]
  },
  {
   "cell_type": "code",
   "execution_count": 67,
   "id": "b837e5e4",
   "metadata": {},
   "outputs": [],
   "source": [
    "#Sex +Diameter+ Height+Shell_weight+Diameter+Shucked_weight\n",
    "x_models = df_new.drop(['Whole_weight','Length','Viscera_weight'],axis=1)"
   ]
  },
  {
   "cell_type": "code",
   "execution_count": 68,
   "id": "5bd11b51",
   "metadata": {},
   "outputs": [
    {
     "data": {
      "text/html": [
       "<div>\n",
       "<style scoped>\n",
       "    .dataframe tbody tr th:only-of-type {\n",
       "        vertical-align: middle;\n",
       "    }\n",
       "\n",
       "    .dataframe tbody tr th {\n",
       "        vertical-align: top;\n",
       "    }\n",
       "\n",
       "    .dataframe thead th {\n",
       "        text-align: right;\n",
       "    }\n",
       "</style>\n",
       "<table border=\"1\" class=\"dataframe\">\n",
       "  <thead>\n",
       "    <tr style=\"text-align: right;\">\n",
       "      <th></th>\n",
       "      <th>Sex</th>\n",
       "      <th>Diameter</th>\n",
       "      <th>Height</th>\n",
       "      <th>Shucked_weight</th>\n",
       "      <th>Shell_weight</th>\n",
       "      <th>Rings</th>\n",
       "    </tr>\n",
       "  </thead>\n",
       "  <tbody>\n",
       "    <tr>\n",
       "      <th>0</th>\n",
       "      <td>2</td>\n",
       "      <td>0.365</td>\n",
       "      <td>0.095</td>\n",
       "      <td>0.2245</td>\n",
       "      <td>0.150</td>\n",
       "      <td>15</td>\n",
       "    </tr>\n",
       "    <tr>\n",
       "      <th>1</th>\n",
       "      <td>2</td>\n",
       "      <td>0.265</td>\n",
       "      <td>0.090</td>\n",
       "      <td>0.0995</td>\n",
       "      <td>0.070</td>\n",
       "      <td>7</td>\n",
       "    </tr>\n",
       "    <tr>\n",
       "      <th>2</th>\n",
       "      <td>0</td>\n",
       "      <td>0.420</td>\n",
       "      <td>0.135</td>\n",
       "      <td>0.2565</td>\n",
       "      <td>0.210</td>\n",
       "      <td>9</td>\n",
       "    </tr>\n",
       "    <tr>\n",
       "      <th>3</th>\n",
       "      <td>2</td>\n",
       "      <td>0.365</td>\n",
       "      <td>0.125</td>\n",
       "      <td>0.2155</td>\n",
       "      <td>0.155</td>\n",
       "      <td>10</td>\n",
       "    </tr>\n",
       "    <tr>\n",
       "      <th>4</th>\n",
       "      <td>1</td>\n",
       "      <td>0.255</td>\n",
       "      <td>0.080</td>\n",
       "      <td>0.0895</td>\n",
       "      <td>0.055</td>\n",
       "      <td>7</td>\n",
       "    </tr>\n",
       "  </tbody>\n",
       "</table>\n",
       "</div>"
      ],
      "text/plain": [
       "   Sex  Diameter  Height  Shucked_weight  Shell_weight  Rings\n",
       "0    2     0.365   0.095          0.2245         0.150     15\n",
       "1    2     0.265   0.090          0.0995         0.070      7\n",
       "2    0     0.420   0.135          0.2565         0.210      9\n",
       "3    2     0.365   0.125          0.2155         0.155     10\n",
       "4    1     0.255   0.080          0.0895         0.055      7"
      ]
     },
     "execution_count": 68,
     "metadata": {},
     "output_type": "execute_result"
    }
   ],
   "source": [
    "x_models.head()"
   ]
  },
  {
   "cell_type": "code",
   "execution_count": 69,
   "id": "832de6c8",
   "metadata": {},
   "outputs": [
    {
     "data": {
      "text/plain": [
       "10"
      ]
     },
     "execution_count": 69,
     "metadata": {},
     "output_type": "execute_result"
    }
   ],
   "source": [
    "y_model = x_models['Rings']\n",
    "y_model[3]"
   ]
  },
  {
   "cell_type": "markdown",
   "id": "ee397f9d",
   "metadata": {},
   "source": [
    "# LinearRegression"
   ]
  },
  {
   "cell_type": "code",
   "execution_count": 70,
   "id": "ed139927",
   "metadata": {},
   "outputs": [
    {
     "name": "stdout",
     "output_type": "stream",
     "text": [
      "7.105427357601002e-15\n",
      "[ 5.98014649e-17 -1.81060710e-14 -1.47144564e-14  9.87118145e-15\n",
      " -1.17231349e-14  1.00000000e+00]\n"
     ]
    }
   ],
   "source": [
    "from sklearn.linear_model import LinearRegression\n",
    "lm=LinearRegression()\n",
    "lm.fit(x_models,y_model)\n",
    "#Print Intercept and CoEfficients\n",
    "print(lm.intercept_)\n",
    "print(lm.coef_)\n",
    "\n"
   ]
  },
  {
   "cell_type": "code",
   "execution_count": 71,
   "id": "ccbaa5a1",
   "metadata": {},
   "outputs": [
    {
     "data": {
      "text/plain": [
       "Index(['Sex', 'Length', 'Diameter', 'Height', 'Whole_weight', 'Shucked_weight',\n",
       "       'Viscera_weight', 'Shell_weight', 'Rings'],\n",
       "      dtype='object')"
      ]
     },
     "execution_count": 71,
     "metadata": {},
     "output_type": "execute_result"
    }
   ],
   "source": [
    "df_new.columns"
   ]
  },
  {
   "cell_type": "code",
   "execution_count": 72,
   "id": "bd6fef52",
   "metadata": {},
   "outputs": [
    {
     "name": "stdout",
     "output_type": "stream",
     "text": [
      "lm.rsquared : 0.0011070424482765295\n"
     ]
    }
   ],
   "source": [
    "import statsmodels.formula.api as smf\n",
    "lm=smf.ols(formula='Rings ~ Sex',data=df_new).fit()\n",
    "print(\"lm.rsquared :\",lm.rsquared)"
   ]
  },
  {
   "cell_type": "code",
   "execution_count": 73,
   "id": "2bf25651",
   "metadata": {},
   "outputs": [
    {
     "data": {
      "text/html": [
       "<div>\n",
       "<style scoped>\n",
       "    .dataframe tbody tr th:only-of-type {\n",
       "        vertical-align: middle;\n",
       "    }\n",
       "\n",
       "    .dataframe tbody tr th {\n",
       "        vertical-align: top;\n",
       "    }\n",
       "\n",
       "    .dataframe thead th {\n",
       "        text-align: right;\n",
       "    }\n",
       "</style>\n",
       "<table border=\"1\" class=\"dataframe\">\n",
       "  <thead>\n",
       "    <tr style=\"text-align: right;\">\n",
       "      <th></th>\n",
       "      <th>Sex</th>\n",
       "      <th>Length</th>\n",
       "      <th>Diameter</th>\n",
       "      <th>Height</th>\n",
       "      <th>Whole_weight</th>\n",
       "      <th>Shucked_weight</th>\n",
       "      <th>Viscera_weight</th>\n",
       "      <th>Shell_weight</th>\n",
       "      <th>Rings</th>\n",
       "    </tr>\n",
       "  </thead>\n",
       "  <tbody>\n",
       "    <tr>\n",
       "      <th>0</th>\n",
       "      <td>2</td>\n",
       "      <td>0.455</td>\n",
       "      <td>0.365</td>\n",
       "      <td>0.095</td>\n",
       "      <td>0.5140</td>\n",
       "      <td>0.2245</td>\n",
       "      <td>0.1010</td>\n",
       "      <td>0.15</td>\n",
       "      <td>15</td>\n",
       "    </tr>\n",
       "    <tr>\n",
       "      <th>1</th>\n",
       "      <td>2</td>\n",
       "      <td>0.350</td>\n",
       "      <td>0.265</td>\n",
       "      <td>0.090</td>\n",
       "      <td>0.2255</td>\n",
       "      <td>0.0995</td>\n",
       "      <td>0.0485</td>\n",
       "      <td>0.07</td>\n",
       "      <td>7</td>\n",
       "    </tr>\n",
       "  </tbody>\n",
       "</table>\n",
       "</div>"
      ],
      "text/plain": [
       "   Sex  Length  Diameter  Height  Whole_weight  Shucked_weight  \\\n",
       "0    2   0.455     0.365   0.095        0.5140          0.2245   \n",
       "1    2   0.350     0.265   0.090        0.2255          0.0995   \n",
       "\n",
       "   Viscera_weight  Shell_weight  Rings  \n",
       "0          0.1010          0.15     15  \n",
       "1          0.0485          0.07      7  "
      ]
     },
     "execution_count": 73,
     "metadata": {},
     "output_type": "execute_result"
    }
   ],
   "source": [
    "df_new.head(2)"
   ]
  },
  {
   "cell_type": "code",
   "execution_count": 74,
   "id": "d19adb08",
   "metadata": {},
   "outputs": [
    {
     "data": {
      "text/plain": [
       "0.3846111687617676"
      ]
     },
     "execution_count": 74,
     "metadata": {},
     "output_type": "execute_result"
    }
   ],
   "source": [
    "lm=smf.ols(formula='Rings ~ Sex+Diameter+Height+Whole_weight',data=df_new).fit()\n",
    "lm.rsquared"
   ]
  },
  {
   "cell_type": "markdown",
   "id": "b54fe8d4",
   "metadata": {},
   "source": [
    "Lets add Shell weight and check the rsquare value"
   ]
  },
  {
   "cell_type": "code",
   "execution_count": 75,
   "id": "95a5a8ae",
   "metadata": {},
   "outputs": [
    {
     "name": "stdout",
     "output_type": "stream",
     "text": [
      "lm.rsquared     :  0.45286256846961337\n",
      "lm.rsquared_adj : 0.4521822185174492\n"
     ]
    }
   ],
   "source": [
    "lm=smf.ols(formula='Rings ~ Sex+Diameter+Height+Whole_weight+Shell_weight',data=df_new).fit()\n",
    "print(\"lm.rsquared     : \",lm.rsquared)\n",
    "print(\"lm.rsquared_adj :\", lm.rsquared_adj)"
   ]
  },
  {
   "cell_type": "markdown",
   "id": "e60ce270",
   "metadata": {},
   "source": [
    "Adding Shell weight increase the rsquare value to a good extent. Lets add Viscera weight anc check the rsquare value"
   ]
  },
  {
   "cell_type": "code",
   "execution_count": 76,
   "id": "696bcb8b",
   "metadata": {},
   "outputs": [
    {
     "name": "stdout",
     "output_type": "stream",
     "text": [
      "lm.rsquared     :  0.4528632343369037\n",
      "lm.rsquared_adj : 0.45204661229860055\n"
     ]
    }
   ],
   "source": [
    "lm=smf.ols(formula='Rings ~ Sex+Diameter+Height+Whole_weight+Shell_weight+Viscera_weight',data=df_new).fit()\n",
    "print(\"lm.rsquared     : \",lm.rsquared)\n",
    "print(\"lm.rsquared_adj :\", lm.rsquared_adj)"
   ]
  },
  {
   "cell_type": "markdown",
   "id": "8e834fd2",
   "metadata": {},
   "source": [
    "There is no effect in our model when we add Viscera weight, So we will not use Viscera weight.\n",
    "\n",
    "Now, lets use Shucked weight and check the rsquare value."
   ]
  },
  {
   "cell_type": "code",
   "execution_count": 77,
   "id": "0a34a612",
   "metadata": {},
   "outputs": [
    {
     "name": "stdout",
     "output_type": "stream",
     "text": [
      "lm.rsquared     :  0.5096664881930777\n",
      "lm.rsquared_adj : 0.5089346471306793\n"
     ]
    }
   ],
   "source": [
    "lm=smf.ols(formula='Rings ~ Sex+Diameter+Height+Whole_weight+Shell_weight+Shucked_weight',data=df_new).fit()\n",
    "print(\"lm.rsquared     : \",lm.rsquared)\n",
    "print(\"lm.rsquared_adj :\",lm.rsquared_adj)"
   ]
  },
  {
   "cell_type": "markdown",
   "id": "f1779d91",
   "metadata": {},
   "source": [
    "Adding Shucked weight did helped us to increase the rsquare value which tells the importance of this column. So we will keep this. \n",
    "\n",
    "Now, lets remove the Whole weight and check the rsquare value and adjusted rsquare value"
   ]
  },
  {
   "cell_type": "code",
   "execution_count": 78,
   "id": "b38338fa",
   "metadata": {},
   "outputs": [
    {
     "name": "stdout",
     "output_type": "stream",
     "text": [
      "lm.rsquared     :  0.5002668849632748\n",
      "lm.rsquared_adj : 0.4996454809405979\n"
     ]
    }
   ],
   "source": [
    "lm=smf.ols(formula='Rings ~ Sex+Diameter+Height+Shell_weight+Shucked_weight',data=df_new).fit()\n",
    "print(\"lm.rsquared     : \",lm.rsquared)\n",
    "print(\"lm.rsquared_adj :\",lm.rsquared_adj)"
   ]
  },
  {
   "cell_type": "markdown",
   "id": "b8c13695",
   "metadata": {},
   "source": [
    "There is almost no impact in rsquare and adjusted rsquare value when we remove the Whole weight"
   ]
  },
  {
   "cell_type": "code",
   "execution_count": 79,
   "id": "ae3c7303",
   "metadata": {},
   "outputs": [
    {
     "data": {
      "text/html": [
       "<table class=\"simpletable\">\n",
       "<caption>OLS Regression Results</caption>\n",
       "<tr>\n",
       "  <th>Dep. Variable:</th>          <td>Rings</td>      <th>  R-squared:         </th> <td>   0.500</td> \n",
       "</tr>\n",
       "<tr>\n",
       "  <th>Model:</th>                   <td>OLS</td>       <th>  Adj. R-squared:    </th> <td>   0.500</td> \n",
       "</tr>\n",
       "<tr>\n",
       "  <th>Method:</th>             <td>Least Squares</td>  <th>  F-statistic:       </th> <td>   805.1</td> \n",
       "</tr>\n",
       "<tr>\n",
       "  <th>Date:</th>             <td>Wed, 16 Feb 2022</td> <th>  Prob (F-statistic):</th>  <td>  0.00</td>  \n",
       "</tr>\n",
       "<tr>\n",
       "  <th>Time:</th>                 <td>23:22:34</td>     <th>  Log-Likelihood:    </th> <td> -8555.1</td> \n",
       "</tr>\n",
       "<tr>\n",
       "  <th>No. Observations:</th>      <td>  4027</td>      <th>  AIC:               </th> <td>1.712e+04</td>\n",
       "</tr>\n",
       "<tr>\n",
       "  <th>Df Residuals:</th>          <td>  4021</td>      <th>  BIC:               </th> <td>1.716e+04</td>\n",
       "</tr>\n",
       "<tr>\n",
       "  <th>Df Model:</th>              <td>     5</td>      <th>                     </th>     <td> </td>    \n",
       "</tr>\n",
       "<tr>\n",
       "  <th>Covariance Type:</th>      <td>nonrobust</td>    <th>                     </th>     <td> </td>    \n",
       "</tr>\n",
       "</table>\n",
       "<table class=\"simpletable\">\n",
       "<tr>\n",
       "         <td></td>           <th>coef</th>     <th>std err</th>      <th>t</th>      <th>P>|t|</th>  <th>[0.025</th>    <th>0.975]</th>  \n",
       "</tr>\n",
       "<tr>\n",
       "  <th>Intercept</th>      <td>    2.3203</td> <td>    0.259</td> <td>    8.945</td> <td> 0.000</td> <td>    1.812</td> <td>    2.829</td>\n",
       "</tr>\n",
       "<tr>\n",
       "  <th>Sex</th>            <td>    0.0569</td> <td>    0.039</td> <td>    1.452</td> <td> 0.147</td> <td>   -0.020</td> <td>    0.134</td>\n",
       "</tr>\n",
       "<tr>\n",
       "  <th>Diameter</th>       <td>   10.1937</td> <td>    1.048</td> <td>    9.722</td> <td> 0.000</td> <td>    8.138</td> <td>   12.249</td>\n",
       "</tr>\n",
       "<tr>\n",
       "  <th>Height</th>         <td>   23.0508</td> <td>    2.196</td> <td>   10.498</td> <td> 0.000</td> <td>   18.746</td> <td>   27.355</td>\n",
       "</tr>\n",
       "<tr>\n",
       "  <th>Shell_weight</th>   <td>   16.8222</td> <td>    0.754</td> <td>   22.318</td> <td> 0.000</td> <td>   15.344</td> <td>   18.300</td>\n",
       "</tr>\n",
       "<tr>\n",
       "  <th>Shucked_weight</th> <td>  -10.9836</td> <td>    0.392</td> <td>  -27.988</td> <td> 0.000</td> <td>  -11.753</td> <td>  -10.214</td>\n",
       "</tr>\n",
       "</table>\n",
       "<table class=\"simpletable\">\n",
       "<tr>\n",
       "  <th>Omnibus:</th>       <td>702.386</td> <th>  Durbin-Watson:     </th> <td>   1.366</td> \n",
       "</tr>\n",
       "<tr>\n",
       "  <th>Prob(Omnibus):</th> <td> 0.000</td>  <th>  Jarque-Bera (JB):  </th> <td>1335.723</td> \n",
       "</tr>\n",
       "<tr>\n",
       "  <th>Skew:</th>          <td> 1.072</td>  <th>  Prob(JB):          </th> <td>8.94e-291</td>\n",
       "</tr>\n",
       "<tr>\n",
       "  <th>Kurtosis:</th>      <td> 4.835</td>  <th>  Cond. No.          </th> <td>    119.</td> \n",
       "</tr>\n",
       "</table><br/><br/>Notes:<br/>[1] Standard Errors assume that the covariance matrix of the errors is correctly specified."
      ],
      "text/plain": [
       "<class 'statsmodels.iolib.summary.Summary'>\n",
       "\"\"\"\n",
       "                            OLS Regression Results                            \n",
       "==============================================================================\n",
       "Dep. Variable:                  Rings   R-squared:                       0.500\n",
       "Model:                            OLS   Adj. R-squared:                  0.500\n",
       "Method:                 Least Squares   F-statistic:                     805.1\n",
       "Date:                Wed, 16 Feb 2022   Prob (F-statistic):               0.00\n",
       "Time:                        23:22:34   Log-Likelihood:                -8555.1\n",
       "No. Observations:                4027   AIC:                         1.712e+04\n",
       "Df Residuals:                    4021   BIC:                         1.716e+04\n",
       "Df Model:                           5                                         \n",
       "Covariance Type:            nonrobust                                         \n",
       "==================================================================================\n",
       "                     coef    std err          t      P>|t|      [0.025      0.975]\n",
       "----------------------------------------------------------------------------------\n",
       "Intercept          2.3203      0.259      8.945      0.000       1.812       2.829\n",
       "Sex                0.0569      0.039      1.452      0.147      -0.020       0.134\n",
       "Diameter          10.1937      1.048      9.722      0.000       8.138      12.249\n",
       "Height            23.0508      2.196     10.498      0.000      18.746      27.355\n",
       "Shell_weight      16.8222      0.754     22.318      0.000      15.344      18.300\n",
       "Shucked_weight   -10.9836      0.392    -27.988      0.000     -11.753     -10.214\n",
       "==============================================================================\n",
       "Omnibus:                      702.386   Durbin-Watson:                   1.366\n",
       "Prob(Omnibus):                  0.000   Jarque-Bera (JB):             1335.723\n",
       "Skew:                           1.072   Prob(JB):                    8.94e-291\n",
       "Kurtosis:                       4.835   Cond. No.                         119.\n",
       "==============================================================================\n",
       "\n",
       "Notes:\n",
       "[1] Standard Errors assume that the covariance matrix of the errors is correctly specified.\n",
       "\"\"\""
      ]
     },
     "execution_count": 79,
     "metadata": {},
     "output_type": "execute_result"
    }
   ],
   "source": [
    "\n",
    "lm=smf.ols(formula='Rings ~ Sex +Diameter+ Height+Shell_weight+Shucked_weight',data=df_new).fit()\n",
    "lm.summary()\n"
   ]
  },
  {
   "cell_type": "code",
   "execution_count": 80,
   "id": "cb79b19a",
   "metadata": {},
   "outputs": [
    {
     "data": {
      "text/plain": [
       "0.5002668849632748"
      ]
     },
     "execution_count": 80,
     "metadata": {},
     "output_type": "execute_result"
    }
   ],
   "source": [
    "lm=smf.ols(formula='Rings ~ Sex +Diameter+ Height+Shell_weight+Diameter+Shucked_weight',data=df_new).fit()\n",
    "lm.rsquared"
   ]
  },
  {
   "cell_type": "markdown",
   "id": "6f1da235",
   "metadata": {},
   "source": [
    "      (Intercept)    diameter      height     shucked       shell\n",
    "\n",
    "       2.3203      10.1937       23.0508    -10.9836      16.8222"
   ]
  },
  {
   "cell_type": "markdown",
   "id": "c40656a2",
   "metadata": {},
   "source": [
    "# So formula is :\n",
    "    \n",
    "    2.3203 + 10.1937 *x_diameter+ 23.0508*x_height -10.9836 *x_shucked + 16.8222*x_shell"
   ]
  },
  {
   "cell_type": "markdown",
   "id": "d1d86da1",
   "metadata": {},
   "source": [
    "# Scaling the data using MinMax Scalar:"
   ]
  },
  {
   "cell_type": "code",
   "execution_count": 81,
   "id": "5ddcf26b",
   "metadata": {},
   "outputs": [
    {
     "data": {
      "text/plain": [
       "Index(['Sex', 'Length', 'Diameter', 'Height', 'Whole_weight', 'Shucked_weight',\n",
       "       'Viscera_weight', 'Shell_weight', 'Rings'],\n",
       "      dtype='object')"
      ]
     },
     "execution_count": 81,
     "metadata": {},
     "output_type": "execute_result"
    }
   ],
   "source": [
    "df_new.columns"
   ]
  },
  {
   "cell_type": "code",
   "execution_count": 83,
   "id": "739c987e",
   "metadata": {},
   "outputs": [],
   "source": [
    "features=df_new.drop(\"Rings\",axis=1)\n",
    "target=df_new[\"Rings\"]"
   ]
  },
  {
   "cell_type": "code",
   "execution_count": 88,
   "id": "1bab1de6",
   "metadata": {},
   "outputs": [],
   "source": [
    "from sklearn.preprocessing import MinMaxScaler\n",
    "mms=MinMaxScaler()\n",
    "from sklearn.linear_model import LinearRegression\n",
    "linear=LinearRegression()\n",
    "from sklearn.metrics import r2_score\n",
    "from sklearn.model_selection import train_test_split"
   ]
  },
  {
   "cell_type": "markdown",
   "id": "dcfc86ce",
   "metadata": {},
   "source": [
    "# Train-Test Split"
   ]
  },
  {
   "cell_type": "code",
   "execution_count": 90,
   "id": "9cc8f0fe",
   "metadata": {},
   "outputs": [
    {
     "name": "stdout",
     "output_type": "stream",
     "text": [
      "At random state 0, the training accuracy is : 0.5206408573653769\n",
      "At random state 0, the testing accuracy is : 0.48490897537919964\n",
      "\n",
      "\n",
      "At random state 1, the training accuracy is : 0.5178458978075203\n",
      "At random state 1, the testing accuracy is : 0.4941036312407545\n",
      "\n",
      "\n",
      "At random state 2, the training accuracy is : 0.518041964626347\n",
      "At random state 2, the testing accuracy is : 0.4974748011478476\n",
      "\n",
      "\n",
      "At random state 3, the training accuracy is : 0.5145548976919275\n",
      "At random state 3, the testing accuracy is : 0.5095783117293222\n",
      "\n",
      "\n",
      "At random state 4, the training accuracy is : 0.5118792991948198\n",
      "At random state 4, the testing accuracy is : 0.5208948319239937\n",
      "\n",
      "\n",
      "At random state 5, the training accuracy is : 0.5199563967536597\n",
      "At random state 5, the testing accuracy is : 0.48853505000848985\n",
      "\n",
      "\n",
      "At random state 6, the training accuracy is : 0.5108171318060508\n",
      "At random state 6, the testing accuracy is : 0.5242230264579848\n",
      "\n",
      "\n",
      "At random state 7, the training accuracy is : 0.5215575149941301\n",
      "At random state 7, the testing accuracy is : 0.48086376911415474\n",
      "\n",
      "\n",
      "At random state 8, the training accuracy is : 0.5111921018943448\n",
      "At random state 8, the testing accuracy is : 0.5237009396358447\n",
      "\n",
      "\n",
      "At random state 9, the training accuracy is : 0.5100992562488225\n",
      "At random state 9, the testing accuracy is : 0.5278383059802854\n",
      "\n",
      "\n",
      "At random state 10, the training accuracy is : 0.5082110742561323\n",
      "At random state 10, the testing accuracy is : 0.5335295197658709\n",
      "\n",
      "\n",
      "At random state 11, the training accuracy is : 0.5061088501569664\n",
      "At random state 11, the testing accuracy is : 0.5457352413416736\n",
      "\n",
      "\n",
      "At random state 12, the training accuracy is : 0.5079013785087594\n",
      "At random state 12, the testing accuracy is : 0.5362873658607646\n",
      "\n",
      "\n",
      "At random state 13, the training accuracy is : 0.5137941274018212\n",
      "At random state 13, the testing accuracy is : 0.5135598321379558\n",
      "\n",
      "\n",
      "At random state 14, the training accuracy is : 0.5148315274578854\n",
      "At random state 14, the testing accuracy is : 0.5072984573564296\n",
      "\n",
      "\n",
      "At random state 15, the training accuracy is : 0.5118304825439279\n",
      "At random state 15, the testing accuracy is : 0.5218514774687186\n",
      "\n",
      "\n",
      "At random state 16, the training accuracy is : 0.5088659727661929\n",
      "At random state 16, the testing accuracy is : 0.5316460598644559\n",
      "\n",
      "\n",
      "At random state 17, the training accuracy is : 0.5203825989036279\n",
      "At random state 17, the testing accuracy is : 0.48804667278202163\n",
      "\n",
      "\n",
      "At random state 18, the training accuracy is : 0.5084080192503326\n",
      "At random state 18, the testing accuracy is : 0.5360164400335892\n",
      "\n",
      "\n",
      "At random state 19, the training accuracy is : 0.5267392835442987\n",
      "At random state 19, the testing accuracy is : 0.4658559607667392\n",
      "\n",
      "\n",
      "At random state 20, the training accuracy is : 0.5092007712335177\n",
      "At random state 20, the testing accuracy is : 0.5302728183877766\n",
      "\n",
      "\n",
      "At random state 21, the training accuracy is : 0.5140322613095792\n",
      "At random state 21, the testing accuracy is : 0.5121743461757822\n",
      "\n",
      "\n",
      "At random state 22, the training accuracy is : 0.5093954982653262\n",
      "At random state 22, the testing accuracy is : 0.5266108106853318\n",
      "\n",
      "\n",
      "At random state 23, the training accuracy is : 0.5121181649544393\n",
      "At random state 23, the testing accuracy is : 0.5193123500962791\n",
      "\n",
      "\n",
      "At random state 24, the training accuracy is : 0.5139605151112423\n",
      "At random state 24, the testing accuracy is : 0.5122569685604841\n",
      "\n",
      "\n",
      "At random state 25, the training accuracy is : 0.5188534027789962\n",
      "At random state 25, the testing accuracy is : 0.4959087015486543\n",
      "\n",
      "\n",
      "At random state 26, the training accuracy is : 0.5172199411303435\n",
      "At random state 26, the testing accuracy is : 0.4996638890551408\n",
      "\n",
      "\n",
      "At random state 27, the training accuracy is : 0.5174153355710234\n",
      "At random state 27, the testing accuracy is : 0.4957061773048145\n",
      "\n",
      "\n",
      "At random state 28, the training accuracy is : 0.5105251516384132\n",
      "At random state 28, the testing accuracy is : 0.5260380378909749\n",
      "\n",
      "\n",
      "At random state 29, the training accuracy is : 0.5085440188899967\n",
      "At random state 29, the testing accuracy is : 0.5344707464128085\n",
      "\n",
      "\n",
      "At random state 30, the training accuracy is : 0.5133303194451955\n",
      "At random state 30, the testing accuracy is : 0.5140778490319484\n",
      "\n",
      "\n",
      "At random state 31, the training accuracy is : 0.5151570400839647\n",
      "At random state 31, the testing accuracy is : 0.5061128855632795\n",
      "\n",
      "\n",
      "At random state 32, the training accuracy is : 0.5137385917990398\n",
      "At random state 32, the testing accuracy is : 0.5121076903228114\n",
      "\n",
      "\n",
      "At random state 33, the training accuracy is : 0.5187157172447019\n",
      "At random state 33, the testing accuracy is : 0.4943999442392767\n",
      "\n",
      "\n",
      "At random state 34, the training accuracy is : 0.5146369203665817\n",
      "At random state 34, the testing accuracy is : 0.5103738992830247\n",
      "\n",
      "\n",
      "At random state 35, the training accuracy is : 0.5123308106563507\n",
      "At random state 35, the testing accuracy is : 0.5159683142094242\n",
      "\n",
      "\n",
      "At random state 36, the training accuracy is : 0.5176637665368314\n",
      "At random state 36, the testing accuracy is : 0.4983235554608695\n",
      "\n",
      "\n",
      "At random state 37, the training accuracy is : 0.5130656889549307\n",
      "At random state 37, the testing accuracy is : 0.516635074156943\n",
      "\n",
      "\n",
      "At random state 38, the training accuracy is : 0.5107983719949855\n",
      "At random state 38, the testing accuracy is : 0.5251201024631753\n",
      "\n",
      "\n",
      "At random state 39, the training accuracy is : 0.5144603227162483\n",
      "At random state 39, the testing accuracy is : 0.5099765331907882\n",
      "\n",
      "\n",
      "At random state 40, the training accuracy is : 0.5069458206632078\n",
      "At random state 40, the testing accuracy is : 0.5410156905144167\n",
      "\n",
      "\n",
      "At random state 41, the training accuracy is : 0.509902819918572\n",
      "At random state 41, the testing accuracy is : 0.5272403035086646\n",
      "\n",
      "\n",
      "At random state 42, the training accuracy is : 0.5137333369048526\n",
      "At random state 42, the testing accuracy is : 0.5105823631769731\n",
      "\n",
      "\n",
      "At random state 43, the training accuracy is : 0.5161119708825629\n",
      "At random state 43, the testing accuracy is : 0.5031065644156243\n",
      "\n",
      "\n",
      "At random state 44, the training accuracy is : 0.5140618977899374\n",
      "At random state 44, the testing accuracy is : 0.510012796875938\n",
      "\n",
      "\n",
      "At random state 45, the training accuracy is : 0.5014195175795805\n",
      "At random state 45, the testing accuracy is : 0.5593880728934146\n",
      "\n",
      "\n",
      "At random state 46, the training accuracy is : 0.5148380393004705\n",
      "At random state 46, the testing accuracy is : 0.506924434645518\n",
      "\n",
      "\n",
      "At random state 47, the training accuracy is : 0.5131988168979811\n",
      "At random state 47, the testing accuracy is : 0.5150838328795482\n",
      "\n",
      "\n",
      "At random state 48, the training accuracy is : 0.5187186293004875\n",
      "At random state 48, the testing accuracy is : 0.49246631885870595\n",
      "\n",
      "\n",
      "At random state 49, the training accuracy is : 0.5091964115232508\n",
      "At random state 49, the testing accuracy is : 0.532525914349823\n",
      "\n",
      "\n",
      "At random state 50, the training accuracy is : 0.5112547247513468\n",
      "At random state 50, the testing accuracy is : 0.5237614097367854\n",
      "\n",
      "\n",
      "At random state 51, the training accuracy is : 0.5055609633176146\n",
      "At random state 51, the testing accuracy is : 0.5390052043331262\n",
      "\n",
      "\n",
      "At random state 52, the training accuracy is : 0.5153937321832553\n",
      "At random state 52, the testing accuracy is : 0.5034111505853802\n",
      "\n",
      "\n",
      "At random state 53, the training accuracy is : 0.5310646852178886\n",
      "At random state 53, the testing accuracy is : 0.42220724440131563\n",
      "\n",
      "\n",
      "At random state 54, the training accuracy is : 0.5217071460669426\n",
      "At random state 54, the testing accuracy is : 0.48248801915334405\n",
      "\n",
      "\n",
      "At random state 55, the training accuracy is : 0.510098350977227\n",
      "At random state 55, the testing accuracy is : 0.5282825022696997\n",
      "\n",
      "\n",
      "At random state 56, the training accuracy is : 0.5201724741056543\n",
      "At random state 56, the testing accuracy is : 0.4860026075928886\n",
      "\n",
      "\n",
      "At random state 57, the training accuracy is : 0.5091171872397234\n",
      "At random state 57, the testing accuracy is : 0.5314688207585909\n",
      "\n",
      "\n",
      "At random state 58, the training accuracy is : 0.5067223541088153\n",
      "At random state 58, the testing accuracy is : 0.539524976387163\n",
      "\n",
      "\n",
      "At random state 59, the training accuracy is : 0.5097683925294079\n",
      "At random state 59, the testing accuracy is : 0.5265606749258707\n",
      "\n",
      "\n",
      "At random state 60, the training accuracy is : 0.5071545171713393\n",
      "At random state 60, the testing accuracy is : 0.539649882499998\n",
      "\n",
      "\n",
      "At random state 61, the training accuracy is : 0.5218529945267437\n"
     ]
    },
    {
     "name": "stdout",
     "output_type": "stream",
     "text": [
      "At random state 61, the testing accuracy is : 0.48302497063075756\n",
      "\n",
      "\n",
      "At random state 62, the training accuracy is : 0.5005435337803479\n",
      "At random state 62, the testing accuracy is : 0.5680869460014621\n",
      "\n",
      "\n",
      "At random state 63, the training accuracy is : 0.5214218997082991\n",
      "At random state 63, the testing accuracy is : 0.4803523546664902\n",
      "\n",
      "\n",
      "At random state 64, the training accuracy is : 0.5146854555914667\n",
      "At random state 64, the testing accuracy is : 0.5099380829713636\n",
      "\n",
      "\n",
      "At random state 65, the training accuracy is : 0.5104992658321276\n",
      "At random state 65, the testing accuracy is : 0.5246611570329405\n",
      "\n",
      "\n",
      "At random state 66, the training accuracy is : 0.5095299195323111\n",
      "At random state 66, the testing accuracy is : 0.5305922820146345\n",
      "\n",
      "\n",
      "At random state 67, the training accuracy is : 0.5161013985146696\n",
      "At random state 67, the testing accuracy is : 0.5049370897444858\n",
      "\n",
      "\n",
      "At random state 68, the training accuracy is : 0.5163503248393927\n",
      "At random state 68, the testing accuracy is : 0.5013166890865566\n",
      "\n",
      "\n",
      "At random state 69, the training accuracy is : 0.5114206460648875\n",
      "At random state 69, the testing accuracy is : 0.5210192276671313\n",
      "\n",
      "\n",
      "At random state 70, the training accuracy is : 0.5137731920280835\n",
      "At random state 70, the testing accuracy is : 0.5126695689119127\n",
      "\n",
      "\n",
      "At random state 71, the training accuracy is : 0.5090095259111769\n",
      "At random state 71, the testing accuracy is : 0.5330613285804882\n",
      "\n",
      "\n",
      "At random state 72, the training accuracy is : 0.5048921603365042\n",
      "At random state 72, the testing accuracy is : 0.5436206574684858\n",
      "\n",
      "\n",
      "At random state 73, the training accuracy is : 0.5093707730923309\n",
      "At random state 73, the testing accuracy is : 0.5270414820852729\n",
      "\n",
      "\n",
      "At random state 74, the training accuracy is : 0.5103173235761582\n",
      "At random state 74, the testing accuracy is : 0.525451348501252\n",
      "\n",
      "\n",
      "At random state 75, the training accuracy is : 0.5173620926345435\n",
      "At random state 75, the testing accuracy is : 0.4996716552202177\n",
      "\n",
      "\n",
      "At random state 76, the training accuracy is : 0.5141710410763467\n",
      "At random state 76, the testing accuracy is : 0.5116468688720364\n",
      "\n",
      "\n",
      "At random state 77, the training accuracy is : 0.5143380123215718\n",
      "At random state 77, the testing accuracy is : 0.5112324446993672\n",
      "\n",
      "\n",
      "At random state 78, the training accuracy is : 0.5121842534219556\n",
      "At random state 78, the testing accuracy is : 0.5197274932806706\n",
      "\n",
      "\n",
      "At random state 79, the training accuracy is : 0.5094894722392147\n",
      "At random state 79, the testing accuracy is : 0.5300656876018295\n",
      "\n",
      "\n",
      "At random state 80, the training accuracy is : 0.5102509649868721\n",
      "At random state 80, the testing accuracy is : 0.5273719410154036\n",
      "\n",
      "\n",
      "At random state 81, the training accuracy is : 0.5080886989437323\n",
      "At random state 81, the testing accuracy is : 0.5350819044947547\n",
      "\n",
      "\n",
      "At random state 82, the training accuracy is : 0.4997334581914906\n",
      "At random state 82, the testing accuracy is : 0.5628288847187299\n",
      "\n",
      "\n",
      "At random state 83, the training accuracy is : 0.5185220998789699\n",
      "At random state 83, the testing accuracy is : 0.4955460379812532\n",
      "\n",
      "\n",
      "At random state 84, the training accuracy is : 0.5201028672679151\n",
      "At random state 84, the testing accuracy is : 0.48776873491845363\n",
      "\n",
      "\n",
      "At random state 85, the training accuracy is : 0.5198386475767446\n",
      "At random state 85, the testing accuracy is : 0.4882727091009713\n",
      "\n",
      "\n",
      "At random state 86, the training accuracy is : 0.5104969624686261\n",
      "At random state 86, the testing accuracy is : 0.5283244810455474\n",
      "\n",
      "\n",
      "At random state 87, the training accuracy is : 0.5171774141801433\n",
      "At random state 87, the testing accuracy is : 0.49931683451906317\n",
      "\n",
      "\n",
      "At random state 88, the training accuracy is : 0.5138433424254079\n",
      "At random state 88, the testing accuracy is : 0.5128870656132948\n",
      "\n",
      "\n",
      "At random state 89, the training accuracy is : 0.5123344018685334\n",
      "At random state 89, the testing accuracy is : 0.5192412756477627\n",
      "\n",
      "\n",
      "At random state 90, the training accuracy is : 0.5061731501544231\n",
      "At random state 90, the testing accuracy is : 0.5439955737630628\n",
      "\n",
      "\n",
      "At random state 91, the training accuracy is : 0.517031198907504\n",
      "At random state 91, the testing accuracy is : 0.4970836896145009\n",
      "\n",
      "\n",
      "At random state 92, the training accuracy is : 0.5056370430053516\n",
      "At random state 92, the testing accuracy is : 0.5389913287220824\n",
      "\n",
      "\n",
      "At random state 93, the training accuracy is : 0.5220449849117406\n",
      "At random state 93, the testing accuracy is : 0.4804371362761848\n",
      "\n",
      "\n",
      "At random state 94, the training accuracy is : 0.5161431115379905\n",
      "At random state 94, the testing accuracy is : 0.5027800537549527\n",
      "\n",
      "\n",
      "At random state 95, the training accuracy is : 0.5083868350698468\n",
      "At random state 95, the testing accuracy is : 0.5323464985481487\n",
      "\n",
      "\n",
      "At random state 96, the training accuracy is : 0.5177480867669406\n",
      "At random state 96, the testing accuracy is : 0.4979417958445953\n",
      "\n",
      "\n",
      "At random state 97, the training accuracy is : 0.5078962030087815\n",
      "At random state 97, the testing accuracy is : 0.5365772175764811\n",
      "\n",
      "\n",
      "At random state 98, the training accuracy is : 0.508335905772426\n",
      "At random state 98, the testing accuracy is : 0.5308162319682427\n",
      "\n",
      "\n",
      "At random state 99, the training accuracy is : 0.5107522061674027\n",
      "At random state 99, the testing accuracy is : 0.5248279585595753\n",
      "\n",
      "\n"
     ]
    }
   ],
   "source": [
    "for i in range(0,100):\n",
    "    features_train,features_test,target_train,target_test=train_test_split(features,target,test_size=0.2,random_state=i)\n",
    "    linear.fit(features_train,target_train)\n",
    "    pred_train=linear.predict(features_train)\n",
    "    pred_test=linear.predict(features_test)\n",
    "    print(f\"At random state {i}, the training accuracy is : {r2_score(target_train,pred_train)}\")\n",
    "    print(f\"At random state {i}, the testing accuracy is : {r2_score(target_test,pred_test)}\")\n",
    "    print(\"\\n\")\n",
    "    "
   ]
  },
  {
   "cell_type": "markdown",
   "id": "53ea6562",
   "metadata": {},
   "source": [
    "So at random state 6 the model performs well"
   ]
  },
  {
   "cell_type": "code",
   "execution_count": 91,
   "id": "3b582786",
   "metadata": {},
   "outputs": [],
   "source": [
    "features_train,features_test,target_train,target_test=train_test_split(features,target,test_size=0.2,random_state=6)"
   ]
  },
  {
   "cell_type": "code",
   "execution_count": 92,
   "id": "b86f0fe2",
   "metadata": {},
   "outputs": [
    {
     "data": {
      "text/plain": [
       "LinearRegression()"
      ]
     },
     "execution_count": 92,
     "metadata": {},
     "output_type": "execute_result"
    }
   ],
   "source": [
    "linear.fit(features_train,target_train)"
   ]
  },
  {
   "cell_type": "code",
   "execution_count": 94,
   "id": "389dd5f5",
   "metadata": {},
   "outputs": [],
   "source": [
    "pred_test=linear.predict(features_test)"
   ]
  },
  {
   "cell_type": "code",
   "execution_count": 95,
   "id": "f854c238",
   "metadata": {},
   "outputs": [
    {
     "name": "stdout",
     "output_type": "stream",
     "text": [
      "r2_score 0.5242230264579848\n"
     ]
    }
   ],
   "source": [
    "print(\"r2_score\",r2_score(target_test,pred_test))"
   ]
  },
  {
   "cell_type": "markdown",
   "id": "f19a618b",
   "metadata": {},
   "source": [
    "# Cross-Validation of the model"
   ]
  },
  {
   "cell_type": "code",
   "execution_count": 97,
   "id": "8faf6b2a",
   "metadata": {},
   "outputs": [
    {
     "name": "stdout",
     "output_type": "stream",
     "text": [
      "At cross fold 2 the cv score is 0.509151969030969 and accuracy score for training is -0.5014450075017223 and accuracy for the testing is 0.5242230264579848 \n",
      "\n",
      "\n",
      "At cross fold 3 the cv score is 0.4957733082809948 and accuracy score for training is -0.5014450075017223 and accuracy for the testing is 0.5242230264579848 \n",
      "\n",
      "\n",
      "At cross fold 4 the cv score is 0.42089930240702 and accuracy score for training is -0.5014450075017223 and accuracy for the testing is 0.5242230264579848 \n",
      "\n",
      "\n",
      "At cross fold 5 the cv score is 0.4148020401486131 and accuracy score for training is -0.5014450075017223 and accuracy for the testing is 0.5242230264579848 \n",
      "\n",
      "\n",
      "At cross fold 6 the cv score is 0.42660202422750676 and accuracy score for training is -0.5014450075017223 and accuracy for the testing is 0.5242230264579848 \n",
      "\n",
      "\n",
      "At cross fold 7 the cv score is 0.4368800445969129 and accuracy score for training is -0.5014450075017223 and accuracy for the testing is 0.5242230264579848 \n",
      "\n",
      "\n",
      "At cross fold 8 the cv score is 0.3982019996299324 and accuracy score for training is -0.5014450075017223 and accuracy for the testing is 0.5242230264579848 \n",
      "\n",
      "\n",
      "At cross fold 9 the cv score is 0.4278869319401446 and accuracy score for training is -0.5014450075017223 and accuracy for the testing is 0.5242230264579848 \n",
      "\n",
      "\n"
     ]
    }
   ],
   "source": [
    "train_accuracy=r2_score(target_train,pred_train)\n",
    "test_accuracy=r2_score(target_test,pred_test)\n",
    "\n",
    "from sklearn.model_selection import cross_val_score\n",
    "for j in range(2,10):\n",
    "    cv_score=cross_val_score(linear,features,target,cv=j)\n",
    "    cv_mean=cv_score.mean()\n",
    "    print(f\"At cross fold {j} the cv score is {cv_mean} and accuracy score for training is {train_accuracy} and accuracy for the testing is {test_accuracy} \")\n",
    "    print(\"\\n\")"
   ]
  },
  {
   "cell_type": "markdown",
   "id": "64d047e5",
   "metadata": {},
   "source": [
    "Since the number of folds dont have such impact on the accuracy and cv score. So cv=5 is selected.\n",
    "\n",
    "Here we have handled the problem of overfitting and underfitting by checking the training and testing score"
   ]
  },
  {
   "cell_type": "code",
   "execution_count": 100,
   "id": "9cb231dd",
   "metadata": {},
   "outputs": [
    {
     "data": {
      "image/png": "[encoded data removed]",
      "text/plain": [
       "<Figure size 576x432 with 1 Axes>"
      ]
     },
     "metadata": {
      "needs_background": "light"
     },
     "output_type": "display_data"
    }
   ],
   "source": [
    "plt.figure(figsize=(8,6))\n",
    "plt.scatter(x=target_test,y=pred_test,color='r')\n",
    "plt.plot(target_test,target_test,color='b')\n",
    "plt.xlabel('Actual Data',fontsize=14)\n",
    "plt.ylabel('Predicted Data',fontsize=14)\n",
    "plt.title('Abalone Using Linear Regression',fontsize=18)\n",
    "plt.show()"
   ]
  },
  {
   "cell_type": "markdown",
   "id": "84d3ebdc",
   "metadata": {},
   "source": [
    "Linear Regression model is predicting good when number of rings are less than 12 but not more than that"
   ]
  },
  {
   "cell_type": "markdown",
   "id": "1759a944",
   "metadata": {},
   "source": [
    "# Regularization"
   ]
  },
  {
   "cell_type": "code",
   "execution_count": 101,
   "id": "2d9ebb6a",
   "metadata": {},
   "outputs": [],
   "source": [
    "from sklearn.model_selection import GridSearchCV\n",
    "from sklearn.model_selection import cross_val_score"
   ]
  },
  {
   "cell_type": "code",
   "execution_count": 102,
   "id": "c2acd914",
   "metadata": {},
   "outputs": [
    {
     "name": "stdout",
     "output_type": "stream",
     "text": [
      "Best Params: {'alpha': 0.0001, 'random_state': 0}\n"
     ]
    }
   ],
   "source": [
    "from sklearn.linear_model import Lasso\n",
    "\n",
    "parameters={'alpha':[0.0001,0.001,0.01,0.1,1,10], 'random_state':list(range(0,10)) }\n",
    "ls= Lasso()\n",
    "clf=GridSearchCV(ls,parameters)\n",
    "clf.fit(features_train,target_train)\n",
    "\n",
    "print(\"Best Params:\",clf.best_params_)\n"
   ]
  },
  {
   "cell_type": "code",
   "execution_count": 103,
   "id": "deb0dc2d",
   "metadata": {},
   "outputs": [
    {
     "data": {
      "text/plain": [
       "0.5241099732941699"
      ]
     },
     "execution_count": 103,
     "metadata": {},
     "output_type": "execute_result"
    }
   ],
   "source": [
    "ls=Lasso(alpha=0.0001,random_state=0)\n",
    "ls.fit(features_train,target_train)\n",
    "ls.score(features_train,target_train)\n",
    "pred_ls=ls.predict(features_test)\n",
    "lss=r2_score(target_test,pred_ls)\n",
    "lss"
   ]
  },
  {
   "cell_type": "code",
   "execution_count": 110,
   "id": "b6dc09a1",
   "metadata": {},
   "outputs": [],
   "source": [
    "cv_score=cross_val_score(ls,features,target,cv=5)"
   ]
  },
  {
   "cell_type": "code",
   "execution_count": 111,
   "id": "9fa95d00",
   "metadata": {},
   "outputs": [
    {
     "data": {
      "text/plain": [
       "0.41473359893583356"
      ]
     },
     "execution_count": 111,
     "metadata": {},
     "output_type": "execute_result"
    }
   ],
   "source": [
    "cv_mean=cv_score.mean()\n",
    "cv_mean"
   ]
  },
  {
   "cell_type": "markdown",
   "id": "46039dea",
   "metadata": {},
   "source": [
    "# Ensemble Technique"
   ]
  },
  {
   "cell_type": "code",
   "execution_count": 112,
   "id": "bcc035b0",
   "metadata": {},
   "outputs": [],
   "source": [
    "from sklearn.model_selection import GridSearchCV\n",
    "from sklearn.ensemble import RandomForestRegressor"
   ]
  },
  {
   "cell_type": "code",
   "execution_count": 113,
   "id": "574bde53",
   "metadata": {},
   "outputs": [
    {
     "name": "stdout",
     "output_type": "stream",
     "text": [
      "{'criterion': 'mae', 'max_features': 'log2'}\n"
     ]
    }
   ],
   "source": [
    "parameters={'criterion':['mse','mae'],'max_features':[\"auto\",\"sqrt\",\"log2\"]}\n",
    "rf=RandomForestRegressor()\n",
    "clf=GridSearchCV(rf,parameters)\n",
    "clf.fit(features_train,target_train)\n",
    "\n",
    "print(clf.best_params_)"
   ]
  },
  {
   "cell_type": "code",
   "execution_count": 115,
   "id": "4fe300ac",
   "metadata": {},
   "outputs": [
    {
     "name": "stdout",
     "output_type": "stream",
     "text": [
      "R2 Score :  56.24077599283983\n",
      "Cross Validation Score :  45.84255732234445\n"
     ]
    }
   ],
   "source": [
    "rf=RandomForestRegressor(criterion=\"mae\",max_features=\"log2\")\n",
    "\n",
    "rf.fit(features_train,target_train)\n",
    "rf.score(features_train,target_train)\n",
    "pred_decision=rf.predict(features_test)\n",
    "\n",
    "rfs=r2_score(target_test,pred_decision)\n",
    "\n",
    "print(\"R2 Score : \",rfs*100)\n",
    "\n",
    "rfscore=cross_val_score(rf,features,target,cv=5)\n",
    "rfc=rfscore.mean()\n",
    "print(\"Cross Validation Score : \",rfc*100)"
   ]
  },
  {
   "cell_type": "markdown",
   "id": "7d21dbf9",
   "metadata": {},
   "source": [
    "We see that Radom Forest Regression has much better R2 Score than others"
   ]
  },
  {
   "cell_type": "code",
   "execution_count": 121,
   "id": "b62e37c6",
   "metadata": {},
   "outputs": [],
   "source": [
    "import pickle\n",
    "filename=\"Abalone.pkl\"\n",
    "pickle.dump(rf,open(filename,'wb'))"
   ]
  },
  {
   "cell_type": "markdown",
   "id": "ee0772b7",
   "metadata": {},
   "source": [
    "The method of determining age of abalone through it's physical features is as relaible as the method determining it using number of rings as there is some relation but all factors are not completely dependent.\n",
    "From the given data we can also say that a Female Abalone is more likely to live longer than other two sexes of the abalone.\n",
    "Our EDA supports most of the already known facts about Abalone and its physical features."
   ]
  },
  {
   "cell_type": "code",
   "execution_count": null,
   "id": "240f1287",
   "metadata": {},
   "outputs": [],
   "source": []
  }
 ],
 "metadata": {
  "kernelspec": {
   "display_name": "Python 3",
   "language": "python",
   "name": "python3"
  },
  "language_info": {
   "codemirror_mode": {
    "name": "ipython",
    "version": 3
   },
   "file_extension": ".py",
   "mimetype": "text/x-python",
   "name": "python",
   "nbconvert_exporter": "python",
   "pygments_lexer": "ipython3",
   "version": "3.8.8"
  }
 },
 "nbformat": 4,
 "nbformat_minor": 5
}
