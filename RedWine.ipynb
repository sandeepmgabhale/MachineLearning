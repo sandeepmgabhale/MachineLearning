{
 "cells": [
  {
   "cell_type": "markdown",
   "id": "31ec7875",
   "metadata": {},
   "source": [
    "# Red Wine Quality Prediction"
   ]
  },
  {
   "cell_type": "markdown",
   "id": "aef1bf5d",
   "metadata": {},
   "source": [
    "Problem Statement:\n",
    "\n",
    "The dataset is related to red and white variants of the Portuguese \"Vinho Verde\" wine. Due to privacy and logistic issues, only physicochemical (inputs) and sensory (the output) variables are available (e.g. there is no data about grape types, wine brand, wine selling price, etc.).\n",
    "\n",
    "This dataset can be viewed as classification task. The classes are ordered and not balanced (e.g. there are many more normal wines than excellent or poor ones). Also, we are not sure if all input variables are relevant. So it could be interesting to test feature selection methods."
   ]
  },
  {
   "cell_type": "markdown",
   "id": "7e509261",
   "metadata": {},
   "source": [
    "Attribute Information\n",
    "\n",
    "Input variables (based on physicochemical tests):\n",
    "\n",
    "1 - fixed acidity\n",
    "2 - volatile acidity\n",
    "3 - citric acid\n",
    "4 - residual sugar\n",
    "5 - chlorides\n",
    "6 - free sulfur dioxide\n",
    "7 - total sulfur dioxide\n",
    "8 - density\n",
    "9 - pH\n",
    "10 - sulphates\n",
    "11 - alcohol\n",
    "\n",
    "Output variable (based on sensory data):\n",
    "12 - quality (score between 0 and 10)\n",
    "\n",
    "What might be an interesting thing to do, is to set an arbitrary cutoff for your dependent variable (wine quality) at e.g. 7 or higher getting classified as 'good/1' and the remainder as 'not good/0'.\n",
    "This allows you to practice with hyper parameter tuning on e.g. decision tree algorithms looking at the ROC curve and the AUC value.\n",
    "\n",
    "You need to build a classification model. \n",
    "\n",
    "Inspiration\n",
    "\n",
    "Use machine learning to determine which physiochemical properties make a wine 'good'!"
   ]
  },
  {
   "cell_type": "code",
   "execution_count": 263,
   "id": "9d64ceb1",
   "metadata": {},
   "outputs": [],
   "source": [
    "import pandas as pd\n",
    "import numpy as np\n",
    "import matplotlib.pyplot as plt\n",
    "import seaborn as sns\n",
    "import sklearn\n",
    "from sklearn.linear_model import LogisticRegression\n",
    "from sklearn.metrics import mean_squared_error\n",
    "from sklearn.model_selection import train_test_split\n",
    "from sklearn.naive_bayes import GaussianNB\n",
    "from sklearn.svm import SVC\n",
    "from sklearn.tree import DecisionTreeClassifier\n",
    "from sklearn.neighbors import KNeighborsClassifier\n",
    "from sklearn.metrics import accuracy_score,confusion_matrix,classification_report\n",
    "import warnings\n",
    "warnings.filterwarnings('ignore')"
   ]
  },
  {
   "cell_type": "code",
   "execution_count": 264,
   "id": "931442a3",
   "metadata": {},
   "outputs": [
    {
     "data": {
      "text/html": [
       "<div>\n",
       "<style scoped>\n",
       "    .dataframe tbody tr th:only-of-type {\n",
       "        vertical-align: middle;\n",
       "    }\n",
       "\n",
       "    .dataframe tbody tr th {\n",
       "        vertical-align: top;\n",
       "    }\n",
       "\n",
       "    .dataframe thead th {\n",
       "        text-align: right;\n",
       "    }\n",
       "</style>\n",
       "<table border=\"1\" class=\"dataframe\">\n",
       "  <thead>\n",
       "    <tr style=\"text-align: right;\">\n",
       "      <th></th>\n",
       "      <th>fixed acidity</th>\n",
       "      <th>volatile acidity</th>\n",
       "      <th>citric acid</th>\n",
       "      <th>residual sugar</th>\n",
       "      <th>chlorides</th>\n",
       "      <th>free sulfur dioxide</th>\n",
       "      <th>total sulfur dioxide</th>\n",
       "      <th>density</th>\n",
       "      <th>pH</th>\n",
       "      <th>sulphates</th>\n",
       "      <th>alcohol</th>\n",
       "      <th>quality</th>\n",
       "    </tr>\n",
       "  </thead>\n",
       "  <tbody>\n",
       "    <tr>\n",
       "      <th>0</th>\n",
       "      <td>7.4</td>\n",
       "      <td>0.70</td>\n",
       "      <td>0.00</td>\n",
       "      <td>1.9</td>\n",
       "      <td>0.076</td>\n",
       "      <td>11.0</td>\n",
       "      <td>34.0</td>\n",
       "      <td>0.9978</td>\n",
       "      <td>3.51</td>\n",
       "      <td>0.56</td>\n",
       "      <td>9.4</td>\n",
       "      <td>5</td>\n",
       "    </tr>\n",
       "    <tr>\n",
       "      <th>1</th>\n",
       "      <td>7.8</td>\n",
       "      <td>0.88</td>\n",
       "      <td>0.00</td>\n",
       "      <td>2.6</td>\n",
       "      <td>0.098</td>\n",
       "      <td>25.0</td>\n",
       "      <td>67.0</td>\n",
       "      <td>0.9968</td>\n",
       "      <td>3.20</td>\n",
       "      <td>0.68</td>\n",
       "      <td>9.8</td>\n",
       "      <td>5</td>\n",
       "    </tr>\n",
       "    <tr>\n",
       "      <th>2</th>\n",
       "      <td>7.8</td>\n",
       "      <td>0.76</td>\n",
       "      <td>0.04</td>\n",
       "      <td>2.3</td>\n",
       "      <td>0.092</td>\n",
       "      <td>15.0</td>\n",
       "      <td>54.0</td>\n",
       "      <td>0.9970</td>\n",
       "      <td>3.26</td>\n",
       "      <td>0.65</td>\n",
       "      <td>9.8</td>\n",
       "      <td>5</td>\n",
       "    </tr>\n",
       "    <tr>\n",
       "      <th>3</th>\n",
       "      <td>11.2</td>\n",
       "      <td>0.28</td>\n",
       "      <td>0.56</td>\n",
       "      <td>1.9</td>\n",
       "      <td>0.075</td>\n",
       "      <td>17.0</td>\n",
       "      <td>60.0</td>\n",
       "      <td>0.9980</td>\n",
       "      <td>3.16</td>\n",
       "      <td>0.58</td>\n",
       "      <td>9.8</td>\n",
       "      <td>6</td>\n",
       "    </tr>\n",
       "    <tr>\n",
       "      <th>4</th>\n",
       "      <td>7.4</td>\n",
       "      <td>0.70</td>\n",
       "      <td>0.00</td>\n",
       "      <td>1.9</td>\n",
       "      <td>0.076</td>\n",
       "      <td>11.0</td>\n",
       "      <td>34.0</td>\n",
       "      <td>0.9978</td>\n",
       "      <td>3.51</td>\n",
       "      <td>0.56</td>\n",
       "      <td>9.4</td>\n",
       "      <td>5</td>\n",
       "    </tr>\n",
       "    <tr>\n",
       "      <th>5</th>\n",
       "      <td>7.4</td>\n",
       "      <td>0.66</td>\n",
       "      <td>0.00</td>\n",
       "      <td>1.8</td>\n",
       "      <td>0.075</td>\n",
       "      <td>13.0</td>\n",
       "      <td>40.0</td>\n",
       "      <td>0.9978</td>\n",
       "      <td>3.51</td>\n",
       "      <td>0.56</td>\n",
       "      <td>9.4</td>\n",
       "      <td>5</td>\n",
       "    </tr>\n",
       "    <tr>\n",
       "      <th>6</th>\n",
       "      <td>7.9</td>\n",
       "      <td>0.60</td>\n",
       "      <td>0.06</td>\n",
       "      <td>1.6</td>\n",
       "      <td>0.069</td>\n",
       "      <td>15.0</td>\n",
       "      <td>59.0</td>\n",
       "      <td>0.9964</td>\n",
       "      <td>3.30</td>\n",
       "      <td>0.46</td>\n",
       "      <td>9.4</td>\n",
       "      <td>5</td>\n",
       "    </tr>\n",
       "    <tr>\n",
       "      <th>7</th>\n",
       "      <td>7.3</td>\n",
       "      <td>0.65</td>\n",
       "      <td>0.00</td>\n",
       "      <td>1.2</td>\n",
       "      <td>0.065</td>\n",
       "      <td>15.0</td>\n",
       "      <td>21.0</td>\n",
       "      <td>0.9946</td>\n",
       "      <td>3.39</td>\n",
       "      <td>0.47</td>\n",
       "      <td>10.0</td>\n",
       "      <td>7</td>\n",
       "    </tr>\n",
       "    <tr>\n",
       "      <th>8</th>\n",
       "      <td>7.8</td>\n",
       "      <td>0.58</td>\n",
       "      <td>0.02</td>\n",
       "      <td>2.0</td>\n",
       "      <td>0.073</td>\n",
       "      <td>9.0</td>\n",
       "      <td>18.0</td>\n",
       "      <td>0.9968</td>\n",
       "      <td>3.36</td>\n",
       "      <td>0.57</td>\n",
       "      <td>9.5</td>\n",
       "      <td>7</td>\n",
       "    </tr>\n",
       "    <tr>\n",
       "      <th>9</th>\n",
       "      <td>7.5</td>\n",
       "      <td>0.50</td>\n",
       "      <td>0.36</td>\n",
       "      <td>6.1</td>\n",
       "      <td>0.071</td>\n",
       "      <td>17.0</td>\n",
       "      <td>102.0</td>\n",
       "      <td>0.9978</td>\n",
       "      <td>3.35</td>\n",
       "      <td>0.80</td>\n",
       "      <td>10.5</td>\n",
       "      <td>5</td>\n",
       "    </tr>\n",
       "  </tbody>\n",
       "</table>\n",
       "</div>"
      ],
      "text/plain": [
       "   fixed acidity  volatile acidity  citric acid  residual sugar  chlorides  \\\n",
       "0            7.4              0.70         0.00             1.9      0.076   \n",
       "1            7.8              0.88         0.00             2.6      0.098   \n",
       "2            7.8              0.76         0.04             2.3      0.092   \n",
       "3           11.2              0.28         0.56             1.9      0.075   \n",
       "4            7.4              0.70         0.00             1.9      0.076   \n",
       "5            7.4              0.66         0.00             1.8      0.075   \n",
       "6            7.9              0.60         0.06             1.6      0.069   \n",
       "7            7.3              0.65         0.00             1.2      0.065   \n",
       "8            7.8              0.58         0.02             2.0      0.073   \n",
       "9            7.5              0.50         0.36             6.1      0.071   \n",
       "\n",
       "   free sulfur dioxide  total sulfur dioxide  density    pH  sulphates  \\\n",
       "0                 11.0                  34.0   0.9978  3.51       0.56   \n",
       "1                 25.0                  67.0   0.9968  3.20       0.68   \n",
       "2                 15.0                  54.0   0.9970  3.26       0.65   \n",
       "3                 17.0                  60.0   0.9980  3.16       0.58   \n",
       "4                 11.0                  34.0   0.9978  3.51       0.56   \n",
       "5                 13.0                  40.0   0.9978  3.51       0.56   \n",
       "6                 15.0                  59.0   0.9964  3.30       0.46   \n",
       "7                 15.0                  21.0   0.9946  3.39       0.47   \n",
       "8                  9.0                  18.0   0.9968  3.36       0.57   \n",
       "9                 17.0                 102.0   0.9978  3.35       0.80   \n",
       "\n",
       "   alcohol  quality  \n",
       "0      9.4        5  \n",
       "1      9.8        5  \n",
       "2      9.8        5  \n",
       "3      9.8        6  \n",
       "4      9.4        5  \n",
       "5      9.4        5  \n",
       "6      9.4        5  \n",
       "7     10.0        7  \n",
       "8      9.5        7  \n",
       "9     10.5        5  "
      ]
     },
     "execution_count": 264,
     "metadata": {},
     "output_type": "execute_result"
    }
   ],
   "source": [
    "df = pd.read_csv('https://raw.githubusercontent.com/dsrscientist/DSData/master/winequality-red.csv')\n",
    "df.head(10)"
   ]
  },
  {
   "cell_type": "code",
   "execution_count": 265,
   "id": "a26cdd7a",
   "metadata": {},
   "outputs": [
    {
     "name": "stdout",
     "output_type": "stream",
     "text": [
      "<class 'pandas.core.frame.DataFrame'>\n",
      "RangeIndex: 1599 entries, 0 to 1598\n",
      "Data columns (total 12 columns):\n",
      " #   Column                Non-Null Count  Dtype  \n",
      "---  ------                --------------  -----  \n",
      " 0   fixed acidity         1599 non-null   float64\n",
      " 1   volatile acidity      1599 non-null   float64\n",
      " 2   citric acid           1599 non-null   float64\n",
      " 3   residual sugar        1599 non-null   float64\n",
      " 4   chlorides             1599 non-null   float64\n",
      " 5   free sulfur dioxide   1599 non-null   float64\n",
      " 6   total sulfur dioxide  1599 non-null   float64\n",
      " 7   density               1599 non-null   float64\n",
      " 8   pH                    1599 non-null   float64\n",
      " 9   sulphates             1599 non-null   float64\n",
      " 10  alcohol               1599 non-null   float64\n",
      " 11  quality               1599 non-null   int64  \n",
      "dtypes: float64(11), int64(1)\n",
      "memory usage: 150.0 KB\n"
     ]
    }
   ],
   "source": [
    "df.info()"
   ]
  },
  {
   "cell_type": "code",
   "execution_count": 266,
   "id": "57abbbeb",
   "metadata": {},
   "outputs": [
    {
     "data": {
      "text/plain": [
       "fixed acidity           0\n",
       "volatile acidity        0\n",
       "citric acid             0\n",
       "residual sugar          0\n",
       "chlorides               0\n",
       "free sulfur dioxide     0\n",
       "total sulfur dioxide    0\n",
       "density                 0\n",
       "pH                      0\n",
       "sulphates               0\n",
       "alcohol                 0\n",
       "quality                 0\n",
       "dtype: int64"
      ]
     },
     "execution_count": 266,
     "metadata": {},
     "output_type": "execute_result"
    }
   ],
   "source": [
    "#Check for null\n",
    "df.isnull().sum()"
   ]
  },
  {
   "cell_type": "markdown",
   "id": "3100a908",
   "metadata": {},
   "source": [
    "So we have no blank values, Lets Proceed to check for duplicates now"
   ]
  },
  {
   "cell_type": "code",
   "execution_count": 267,
   "id": "54efe4f2",
   "metadata": {},
   "outputs": [
    {
     "data": {
      "text/plain": [
       "(1599, 12)"
      ]
     },
     "execution_count": 267,
     "metadata": {},
     "output_type": "execute_result"
    }
   ],
   "source": [
    "df.shape"
   ]
  },
  {
   "cell_type": "markdown",
   "id": "3a8e8826",
   "metadata": {},
   "source": [
    "It has 1599 rows and 12 columns"
   ]
  },
  {
   "cell_type": "code",
   "execution_count": 268,
   "id": "ba71c4f9",
   "metadata": {},
   "outputs": [
    {
     "name": "stdout",
     "output_type": "stream",
     "text": [
      "Duplicate Rows :\n"
     ]
    },
    {
     "data": {
      "text/html": [
       "<div>\n",
       "<style scoped>\n",
       "    .dataframe tbody tr th:only-of-type {\n",
       "        vertical-align: middle;\n",
       "    }\n",
       "\n",
       "    .dataframe tbody tr th {\n",
       "        vertical-align: top;\n",
       "    }\n",
       "\n",
       "    .dataframe thead th {\n",
       "        text-align: right;\n",
       "    }\n",
       "</style>\n",
       "<table border=\"1\" class=\"dataframe\">\n",
       "  <thead>\n",
       "    <tr style=\"text-align: right;\">\n",
       "      <th></th>\n",
       "      <th>fixed acidity</th>\n",
       "      <th>volatile acidity</th>\n",
       "      <th>citric acid</th>\n",
       "      <th>residual sugar</th>\n",
       "      <th>chlorides</th>\n",
       "      <th>free sulfur dioxide</th>\n",
       "      <th>total sulfur dioxide</th>\n",
       "      <th>density</th>\n",
       "      <th>pH</th>\n",
       "      <th>sulphates</th>\n",
       "      <th>alcohol</th>\n",
       "      <th>quality</th>\n",
       "    </tr>\n",
       "  </thead>\n",
       "  <tbody>\n",
       "    <tr>\n",
       "      <th>0</th>\n",
       "      <td>7.4</td>\n",
       "      <td>0.700</td>\n",
       "      <td>0.00</td>\n",
       "      <td>1.90</td>\n",
       "      <td>0.076</td>\n",
       "      <td>11.0</td>\n",
       "      <td>34.0</td>\n",
       "      <td>0.99780</td>\n",
       "      <td>3.51</td>\n",
       "      <td>0.56</td>\n",
       "      <td>9.4</td>\n",
       "      <td>5</td>\n",
       "    </tr>\n",
       "    <tr>\n",
       "      <th>9</th>\n",
       "      <td>7.5</td>\n",
       "      <td>0.500</td>\n",
       "      <td>0.36</td>\n",
       "      <td>6.10</td>\n",
       "      <td>0.071</td>\n",
       "      <td>17.0</td>\n",
       "      <td>102.0</td>\n",
       "      <td>0.99780</td>\n",
       "      <td>3.35</td>\n",
       "      <td>0.80</td>\n",
       "      <td>10.5</td>\n",
       "      <td>5</td>\n",
       "    </tr>\n",
       "    <tr>\n",
       "      <th>22</th>\n",
       "      <td>7.9</td>\n",
       "      <td>0.430</td>\n",
       "      <td>0.21</td>\n",
       "      <td>1.60</td>\n",
       "      <td>0.106</td>\n",
       "      <td>10.0</td>\n",
       "      <td>37.0</td>\n",
       "      <td>0.99660</td>\n",
       "      <td>3.17</td>\n",
       "      <td>0.91</td>\n",
       "      <td>9.5</td>\n",
       "      <td>5</td>\n",
       "    </tr>\n",
       "    <tr>\n",
       "      <th>39</th>\n",
       "      <td>7.3</td>\n",
       "      <td>0.450</td>\n",
       "      <td>0.36</td>\n",
       "      <td>5.90</td>\n",
       "      <td>0.074</td>\n",
       "      <td>12.0</td>\n",
       "      <td>87.0</td>\n",
       "      <td>0.99780</td>\n",
       "      <td>3.33</td>\n",
       "      <td>0.83</td>\n",
       "      <td>10.5</td>\n",
       "      <td>5</td>\n",
       "    </tr>\n",
       "    <tr>\n",
       "      <th>64</th>\n",
       "      <td>7.2</td>\n",
       "      <td>0.725</td>\n",
       "      <td>0.05</td>\n",
       "      <td>4.65</td>\n",
       "      <td>0.086</td>\n",
       "      <td>4.0</td>\n",
       "      <td>11.0</td>\n",
       "      <td>0.99620</td>\n",
       "      <td>3.41</td>\n",
       "      <td>0.39</td>\n",
       "      <td>10.9</td>\n",
       "      <td>5</td>\n",
       "    </tr>\n",
       "    <tr>\n",
       "      <th>...</th>\n",
       "      <td>...</td>\n",
       "      <td>...</td>\n",
       "      <td>...</td>\n",
       "      <td>...</td>\n",
       "      <td>...</td>\n",
       "      <td>...</td>\n",
       "      <td>...</td>\n",
       "      <td>...</td>\n",
       "      <td>...</td>\n",
       "      <td>...</td>\n",
       "      <td>...</td>\n",
       "      <td>...</td>\n",
       "    </tr>\n",
       "    <tr>\n",
       "      <th>1562</th>\n",
       "      <td>7.2</td>\n",
       "      <td>0.695</td>\n",
       "      <td>0.13</td>\n",
       "      <td>2.00</td>\n",
       "      <td>0.076</td>\n",
       "      <td>12.0</td>\n",
       "      <td>20.0</td>\n",
       "      <td>0.99546</td>\n",
       "      <td>3.29</td>\n",
       "      <td>0.54</td>\n",
       "      <td>10.1</td>\n",
       "      <td>5</td>\n",
       "    </tr>\n",
       "    <tr>\n",
       "      <th>1563</th>\n",
       "      <td>7.2</td>\n",
       "      <td>0.695</td>\n",
       "      <td>0.13</td>\n",
       "      <td>2.00</td>\n",
       "      <td>0.076</td>\n",
       "      <td>12.0</td>\n",
       "      <td>20.0</td>\n",
       "      <td>0.99546</td>\n",
       "      <td>3.29</td>\n",
       "      <td>0.54</td>\n",
       "      <td>10.1</td>\n",
       "      <td>5</td>\n",
       "    </tr>\n",
       "    <tr>\n",
       "      <th>1564</th>\n",
       "      <td>7.2</td>\n",
       "      <td>0.695</td>\n",
       "      <td>0.13</td>\n",
       "      <td>2.00</td>\n",
       "      <td>0.076</td>\n",
       "      <td>12.0</td>\n",
       "      <td>20.0</td>\n",
       "      <td>0.99546</td>\n",
       "      <td>3.29</td>\n",
       "      <td>0.54</td>\n",
       "      <td>10.1</td>\n",
       "      <td>5</td>\n",
       "    </tr>\n",
       "    <tr>\n",
       "      <th>1579</th>\n",
       "      <td>6.2</td>\n",
       "      <td>0.560</td>\n",
       "      <td>0.09</td>\n",
       "      <td>1.70</td>\n",
       "      <td>0.053</td>\n",
       "      <td>24.0</td>\n",
       "      <td>32.0</td>\n",
       "      <td>0.99402</td>\n",
       "      <td>3.54</td>\n",
       "      <td>0.60</td>\n",
       "      <td>11.3</td>\n",
       "      <td>5</td>\n",
       "    </tr>\n",
       "    <tr>\n",
       "      <th>1592</th>\n",
       "      <td>6.3</td>\n",
       "      <td>0.510</td>\n",
       "      <td>0.13</td>\n",
       "      <td>2.30</td>\n",
       "      <td>0.076</td>\n",
       "      <td>29.0</td>\n",
       "      <td>40.0</td>\n",
       "      <td>0.99574</td>\n",
       "      <td>3.42</td>\n",
       "      <td>0.75</td>\n",
       "      <td>11.0</td>\n",
       "      <td>6</td>\n",
       "    </tr>\n",
       "  </tbody>\n",
       "</table>\n",
       "<p>240 rows × 12 columns</p>\n",
       "</div>"
      ],
      "text/plain": [
       "      fixed acidity  volatile acidity  citric acid  residual sugar  chlorides  \\\n",
       "0               7.4             0.700         0.00            1.90      0.076   \n",
       "9               7.5             0.500         0.36            6.10      0.071   \n",
       "22              7.9             0.430         0.21            1.60      0.106   \n",
       "39              7.3             0.450         0.36            5.90      0.074   \n",
       "64              7.2             0.725         0.05            4.65      0.086   \n",
       "...             ...               ...          ...             ...        ...   \n",
       "1562            7.2             0.695         0.13            2.00      0.076   \n",
       "1563            7.2             0.695         0.13            2.00      0.076   \n",
       "1564            7.2             0.695         0.13            2.00      0.076   \n",
       "1579            6.2             0.560         0.09            1.70      0.053   \n",
       "1592            6.3             0.510         0.13            2.30      0.076   \n",
       "\n",
       "      free sulfur dioxide  total sulfur dioxide  density    pH  sulphates  \\\n",
       "0                    11.0                  34.0  0.99780  3.51       0.56   \n",
       "9                    17.0                 102.0  0.99780  3.35       0.80   \n",
       "22                   10.0                  37.0  0.99660  3.17       0.91   \n",
       "39                   12.0                  87.0  0.99780  3.33       0.83   \n",
       "64                    4.0                  11.0  0.99620  3.41       0.39   \n",
       "...                   ...                   ...      ...   ...        ...   \n",
       "1562                 12.0                  20.0  0.99546  3.29       0.54   \n",
       "1563                 12.0                  20.0  0.99546  3.29       0.54   \n",
       "1564                 12.0                  20.0  0.99546  3.29       0.54   \n",
       "1579                 24.0                  32.0  0.99402  3.54       0.60   \n",
       "1592                 29.0                  40.0  0.99574  3.42       0.75   \n",
       "\n",
       "      alcohol  quality  \n",
       "0         9.4        5  \n",
       "9        10.5        5  \n",
       "22        9.5        5  \n",
       "39       10.5        5  \n",
       "64       10.9        5  \n",
       "...       ...      ...  \n",
       "1562     10.1        5  \n",
       "1563     10.1        5  \n",
       "1564     10.1        5  \n",
       "1579     11.3        5  \n",
       "1592     11.0        6  \n",
       "\n",
       "[240 rows x 12 columns]"
      ]
     },
     "execution_count": 268,
     "metadata": {},
     "output_type": "execute_result"
    }
   ],
   "source": [
    "duplicate = df[df.duplicated(keep = 'last')]\n",
    "print(\"Duplicate Rows :\")\n",
    "  \n",
    "# Print the resultant Dataframe\n",
    "duplicate"
   ]
  },
  {
   "cell_type": "markdown",
   "id": "8e48e264",
   "metadata": {},
   "source": [
    "We can see that we have 240 rows of Duplicate values, So we need to delete them as it will not be helpful anyways"
   ]
  },
  {
   "cell_type": "markdown",
   "id": "546c20a7",
   "metadata": {},
   "source": [
    "# Drop Duplicates"
   ]
  },
  {
   "cell_type": "code",
   "execution_count": 269,
   "id": "fc9d33c3",
   "metadata": {},
   "outputs": [],
   "source": [
    "df.drop_duplicates(keep='last',inplace=True)"
   ]
  },
  {
   "cell_type": "code",
   "execution_count": 270,
   "id": "ddab70c6",
   "metadata": {},
   "outputs": [
    {
     "data": {
      "text/plain": [
       "(1359, 12)"
      ]
     },
     "execution_count": 270,
     "metadata": {},
     "output_type": "execute_result"
    }
   ],
   "source": [
    "df.shape"
   ]
  },
  {
   "cell_type": "markdown",
   "id": "91c9478f",
   "metadata": {},
   "source": [
    "So if we see our duplicate rows have been removed successfully and now we have 1359 rows and 12 columns"
   ]
  },
  {
   "cell_type": "markdown",
   "id": "4e2aba7a",
   "metadata": {},
   "source": [
    "In our Problem Statement,7 or higher has been classified as 'good/1' and the remainder as 'not good/0'. Lets check the good and bad(Not good) quality wines"
   ]
  },
  {
   "cell_type": "code",
   "execution_count": 271,
   "id": "254b1313",
   "metadata": {},
   "outputs": [
    {
     "data": {
      "text/html": [
       "<div>\n",
       "<style scoped>\n",
       "    .dataframe tbody tr th:only-of-type {\n",
       "        vertical-align: middle;\n",
       "    }\n",
       "\n",
       "    .dataframe tbody tr th {\n",
       "        vertical-align: top;\n",
       "    }\n",
       "\n",
       "    .dataframe thead th {\n",
       "        text-align: right;\n",
       "    }\n",
       "</style>\n",
       "<table border=\"1\" class=\"dataframe\">\n",
       "  <thead>\n",
       "    <tr style=\"text-align: right;\">\n",
       "      <th></th>\n",
       "      <th>index</th>\n",
       "      <th>fixed acidity</th>\n",
       "      <th>volatile acidity</th>\n",
       "      <th>citric acid</th>\n",
       "      <th>residual sugar</th>\n",
       "      <th>chlorides</th>\n",
       "      <th>free sulfur dioxide</th>\n",
       "      <th>total sulfur dioxide</th>\n",
       "      <th>density</th>\n",
       "      <th>pH</th>\n",
       "      <th>sulphates</th>\n",
       "      <th>alcohol</th>\n",
       "      <th>quality</th>\n",
       "    </tr>\n",
       "  </thead>\n",
       "  <tbody>\n",
       "    <tr>\n",
       "      <th>0</th>\n",
       "      <td>1</td>\n",
       "      <td>7.8</td>\n",
       "      <td>0.880</td>\n",
       "      <td>0.00</td>\n",
       "      <td>2.6</td>\n",
       "      <td>0.098</td>\n",
       "      <td>25.0</td>\n",
       "      <td>67.0</td>\n",
       "      <td>0.99680</td>\n",
       "      <td>3.20</td>\n",
       "      <td>0.68</td>\n",
       "      <td>9.8</td>\n",
       "      <td>5</td>\n",
       "    </tr>\n",
       "    <tr>\n",
       "      <th>1</th>\n",
       "      <td>2</td>\n",
       "      <td>7.8</td>\n",
       "      <td>0.760</td>\n",
       "      <td>0.04</td>\n",
       "      <td>2.3</td>\n",
       "      <td>0.092</td>\n",
       "      <td>15.0</td>\n",
       "      <td>54.0</td>\n",
       "      <td>0.99700</td>\n",
       "      <td>3.26</td>\n",
       "      <td>0.65</td>\n",
       "      <td>9.8</td>\n",
       "      <td>5</td>\n",
       "    </tr>\n",
       "    <tr>\n",
       "      <th>2</th>\n",
       "      <td>3</td>\n",
       "      <td>11.2</td>\n",
       "      <td>0.280</td>\n",
       "      <td>0.56</td>\n",
       "      <td>1.9</td>\n",
       "      <td>0.075</td>\n",
       "      <td>17.0</td>\n",
       "      <td>60.0</td>\n",
       "      <td>0.99800</td>\n",
       "      <td>3.16</td>\n",
       "      <td>0.58</td>\n",
       "      <td>9.8</td>\n",
       "      <td>6</td>\n",
       "    </tr>\n",
       "    <tr>\n",
       "      <th>3</th>\n",
       "      <td>4</td>\n",
       "      <td>7.4</td>\n",
       "      <td>0.700</td>\n",
       "      <td>0.00</td>\n",
       "      <td>1.9</td>\n",
       "      <td>0.076</td>\n",
       "      <td>11.0</td>\n",
       "      <td>34.0</td>\n",
       "      <td>0.99780</td>\n",
       "      <td>3.51</td>\n",
       "      <td>0.56</td>\n",
       "      <td>9.4</td>\n",
       "      <td>5</td>\n",
       "    </tr>\n",
       "    <tr>\n",
       "      <th>4</th>\n",
       "      <td>5</td>\n",
       "      <td>7.4</td>\n",
       "      <td>0.660</td>\n",
       "      <td>0.00</td>\n",
       "      <td>1.8</td>\n",
       "      <td>0.075</td>\n",
       "      <td>13.0</td>\n",
       "      <td>40.0</td>\n",
       "      <td>0.99780</td>\n",
       "      <td>3.51</td>\n",
       "      <td>0.56</td>\n",
       "      <td>9.4</td>\n",
       "      <td>5</td>\n",
       "    </tr>\n",
       "    <tr>\n",
       "      <th>...</th>\n",
       "      <td>...</td>\n",
       "      <td>...</td>\n",
       "      <td>...</td>\n",
       "      <td>...</td>\n",
       "      <td>...</td>\n",
       "      <td>...</td>\n",
       "      <td>...</td>\n",
       "      <td>...</td>\n",
       "      <td>...</td>\n",
       "      <td>...</td>\n",
       "      <td>...</td>\n",
       "      <td>...</td>\n",
       "      <td>...</td>\n",
       "    </tr>\n",
       "    <tr>\n",
       "      <th>1354</th>\n",
       "      <td>1594</td>\n",
       "      <td>6.2</td>\n",
       "      <td>0.600</td>\n",
       "      <td>0.08</td>\n",
       "      <td>2.0</td>\n",
       "      <td>0.090</td>\n",
       "      <td>32.0</td>\n",
       "      <td>44.0</td>\n",
       "      <td>0.99490</td>\n",
       "      <td>3.45</td>\n",
       "      <td>0.58</td>\n",
       "      <td>10.5</td>\n",
       "      <td>5</td>\n",
       "    </tr>\n",
       "    <tr>\n",
       "      <th>1355</th>\n",
       "      <td>1595</td>\n",
       "      <td>5.9</td>\n",
       "      <td>0.550</td>\n",
       "      <td>0.10</td>\n",
       "      <td>2.2</td>\n",
       "      <td>0.062</td>\n",
       "      <td>39.0</td>\n",
       "      <td>51.0</td>\n",
       "      <td>0.99512</td>\n",
       "      <td>3.52</td>\n",
       "      <td>0.76</td>\n",
       "      <td>11.2</td>\n",
       "      <td>6</td>\n",
       "    </tr>\n",
       "    <tr>\n",
       "      <th>1356</th>\n",
       "      <td>1596</td>\n",
       "      <td>6.3</td>\n",
       "      <td>0.510</td>\n",
       "      <td>0.13</td>\n",
       "      <td>2.3</td>\n",
       "      <td>0.076</td>\n",
       "      <td>29.0</td>\n",
       "      <td>40.0</td>\n",
       "      <td>0.99574</td>\n",
       "      <td>3.42</td>\n",
       "      <td>0.75</td>\n",
       "      <td>11.0</td>\n",
       "      <td>6</td>\n",
       "    </tr>\n",
       "    <tr>\n",
       "      <th>1357</th>\n",
       "      <td>1597</td>\n",
       "      <td>5.9</td>\n",
       "      <td>0.645</td>\n",
       "      <td>0.12</td>\n",
       "      <td>2.0</td>\n",
       "      <td>0.075</td>\n",
       "      <td>32.0</td>\n",
       "      <td>44.0</td>\n",
       "      <td>0.99547</td>\n",
       "      <td>3.57</td>\n",
       "      <td>0.71</td>\n",
       "      <td>10.2</td>\n",
       "      <td>5</td>\n",
       "    </tr>\n",
       "    <tr>\n",
       "      <th>1358</th>\n",
       "      <td>1598</td>\n",
       "      <td>6.0</td>\n",
       "      <td>0.310</td>\n",
       "      <td>0.47</td>\n",
       "      <td>3.6</td>\n",
       "      <td>0.067</td>\n",
       "      <td>18.0</td>\n",
       "      <td>42.0</td>\n",
       "      <td>0.99549</td>\n",
       "      <td>3.39</td>\n",
       "      <td>0.66</td>\n",
       "      <td>11.0</td>\n",
       "      <td>6</td>\n",
       "    </tr>\n",
       "  </tbody>\n",
       "</table>\n",
       "<p>1359 rows × 13 columns</p>\n",
       "</div>"
      ],
      "text/plain": [
       "      index  fixed acidity  volatile acidity  citric acid  residual sugar  \\\n",
       "0         1            7.8             0.880         0.00             2.6   \n",
       "1         2            7.8             0.760         0.04             2.3   \n",
       "2         3           11.2             0.280         0.56             1.9   \n",
       "3         4            7.4             0.700         0.00             1.9   \n",
       "4         5            7.4             0.660         0.00             1.8   \n",
       "...     ...            ...               ...          ...             ...   \n",
       "1354   1594            6.2             0.600         0.08             2.0   \n",
       "1355   1595            5.9             0.550         0.10             2.2   \n",
       "1356   1596            6.3             0.510         0.13             2.3   \n",
       "1357   1597            5.9             0.645         0.12             2.0   \n",
       "1358   1598            6.0             0.310         0.47             3.6   \n",
       "\n",
       "      chlorides  free sulfur dioxide  total sulfur dioxide  density    pH  \\\n",
       "0         0.098                 25.0                  67.0  0.99680  3.20   \n",
       "1         0.092                 15.0                  54.0  0.99700  3.26   \n",
       "2         0.075                 17.0                  60.0  0.99800  3.16   \n",
       "3         0.076                 11.0                  34.0  0.99780  3.51   \n",
       "4         0.075                 13.0                  40.0  0.99780  3.51   \n",
       "...         ...                  ...                   ...      ...   ...   \n",
       "1354      0.090                 32.0                  44.0  0.99490  3.45   \n",
       "1355      0.062                 39.0                  51.0  0.99512  3.52   \n",
       "1356      0.076                 29.0                  40.0  0.99574  3.42   \n",
       "1357      0.075                 32.0                  44.0  0.99547  3.57   \n",
       "1358      0.067                 18.0                  42.0  0.99549  3.39   \n",
       "\n",
       "      sulphates  alcohol  quality  \n",
       "0          0.68      9.8        5  \n",
       "1          0.65      9.8        5  \n",
       "2          0.58      9.8        6  \n",
       "3          0.56      9.4        5  \n",
       "4          0.56      9.4        5  \n",
       "...         ...      ...      ...  \n",
       "1354       0.58     10.5        5  \n",
       "1355       0.76     11.2        6  \n",
       "1356       0.75     11.0        6  \n",
       "1357       0.71     10.2        5  \n",
       "1358       0.66     11.0        6  \n",
       "\n",
       "[1359 rows x 13 columns]"
      ]
     },
     "execution_count": 271,
     "metadata": {},
     "output_type": "execute_result"
    }
   ],
   "source": [
    "df.reset_index()"
   ]
  },
  {
   "cell_type": "markdown",
   "id": "c28476d1",
   "metadata": {},
   "source": [
    "Then we will reset the Index because we deleted the records and the new records reshaped must have old index"
   ]
  },
  {
   "cell_type": "code",
   "execution_count": 272,
   "id": "b170d1e2",
   "metadata": {},
   "outputs": [
    {
     "data": {
      "text/plain": [
       "5    577\n",
       "6    535\n",
       "7    167\n",
       "4     53\n",
       "8     17\n",
       "3     10\n",
       "Name: quality, dtype: int64"
      ]
     },
     "execution_count": 272,
     "metadata": {},
     "output_type": "execute_result"
    }
   ],
   "source": [
    "df['quality'].value_counts()"
   ]
  },
  {
   "cell_type": "code",
   "execution_count": 273,
   "id": "07dbcf73",
   "metadata": {},
   "outputs": [
    {
     "data": {
      "text/html": [
       "<div>\n",
       "<style scoped>\n",
       "    .dataframe tbody tr th:only-of-type {\n",
       "        vertical-align: middle;\n",
       "    }\n",
       "\n",
       "    .dataframe tbody tr th {\n",
       "        vertical-align: top;\n",
       "    }\n",
       "\n",
       "    .dataframe thead th {\n",
       "        text-align: right;\n",
       "    }\n",
       "</style>\n",
       "<table border=\"1\" class=\"dataframe\">\n",
       "  <thead>\n",
       "    <tr style=\"text-align: right;\">\n",
       "      <th></th>\n",
       "      <th>fixed acidity</th>\n",
       "      <th>volatile acidity</th>\n",
       "      <th>citric acid</th>\n",
       "      <th>residual sugar</th>\n",
       "      <th>chlorides</th>\n",
       "      <th>free sulfur dioxide</th>\n",
       "      <th>total sulfur dioxide</th>\n",
       "      <th>density</th>\n",
       "      <th>pH</th>\n",
       "      <th>sulphates</th>\n",
       "      <th>alcohol</th>\n",
       "      <th>quality</th>\n",
       "    </tr>\n",
       "  </thead>\n",
       "  <tbody>\n",
       "    <tr>\n",
       "      <th>1</th>\n",
       "      <td>7.8</td>\n",
       "      <td>0.88</td>\n",
       "      <td>0.00</td>\n",
       "      <td>2.6</td>\n",
       "      <td>0.098</td>\n",
       "      <td>25.0</td>\n",
       "      <td>67.0</td>\n",
       "      <td>0.9968</td>\n",
       "      <td>3.20</td>\n",
       "      <td>0.68</td>\n",
       "      <td>9.8</td>\n",
       "      <td>5</td>\n",
       "    </tr>\n",
       "    <tr>\n",
       "      <th>2</th>\n",
       "      <td>7.8</td>\n",
       "      <td>0.76</td>\n",
       "      <td>0.04</td>\n",
       "      <td>2.3</td>\n",
       "      <td>0.092</td>\n",
       "      <td>15.0</td>\n",
       "      <td>54.0</td>\n",
       "      <td>0.9970</td>\n",
       "      <td>3.26</td>\n",
       "      <td>0.65</td>\n",
       "      <td>9.8</td>\n",
       "      <td>5</td>\n",
       "    </tr>\n",
       "    <tr>\n",
       "      <th>3</th>\n",
       "      <td>11.2</td>\n",
       "      <td>0.28</td>\n",
       "      <td>0.56</td>\n",
       "      <td>1.9</td>\n",
       "      <td>0.075</td>\n",
       "      <td>17.0</td>\n",
       "      <td>60.0</td>\n",
       "      <td>0.9980</td>\n",
       "      <td>3.16</td>\n",
       "      <td>0.58</td>\n",
       "      <td>9.8</td>\n",
       "      <td>6</td>\n",
       "    </tr>\n",
       "    <tr>\n",
       "      <th>4</th>\n",
       "      <td>7.4</td>\n",
       "      <td>0.70</td>\n",
       "      <td>0.00</td>\n",
       "      <td>1.9</td>\n",
       "      <td>0.076</td>\n",
       "      <td>11.0</td>\n",
       "      <td>34.0</td>\n",
       "      <td>0.9978</td>\n",
       "      <td>3.51</td>\n",
       "      <td>0.56</td>\n",
       "      <td>9.4</td>\n",
       "      <td>5</td>\n",
       "    </tr>\n",
       "    <tr>\n",
       "      <th>5</th>\n",
       "      <td>7.4</td>\n",
       "      <td>0.66</td>\n",
       "      <td>0.00</td>\n",
       "      <td>1.8</td>\n",
       "      <td>0.075</td>\n",
       "      <td>13.0</td>\n",
       "      <td>40.0</td>\n",
       "      <td>0.9978</td>\n",
       "      <td>3.51</td>\n",
       "      <td>0.56</td>\n",
       "      <td>9.4</td>\n",
       "      <td>5</td>\n",
       "    </tr>\n",
       "    <tr>\n",
       "      <th>6</th>\n",
       "      <td>7.9</td>\n",
       "      <td>0.60</td>\n",
       "      <td>0.06</td>\n",
       "      <td>1.6</td>\n",
       "      <td>0.069</td>\n",
       "      <td>15.0</td>\n",
       "      <td>59.0</td>\n",
       "      <td>0.9964</td>\n",
       "      <td>3.30</td>\n",
       "      <td>0.46</td>\n",
       "      <td>9.4</td>\n",
       "      <td>5</td>\n",
       "    </tr>\n",
       "    <tr>\n",
       "      <th>7</th>\n",
       "      <td>7.3</td>\n",
       "      <td>0.65</td>\n",
       "      <td>0.00</td>\n",
       "      <td>1.2</td>\n",
       "      <td>0.065</td>\n",
       "      <td>15.0</td>\n",
       "      <td>21.0</td>\n",
       "      <td>0.9946</td>\n",
       "      <td>3.39</td>\n",
       "      <td>0.47</td>\n",
       "      <td>10.0</td>\n",
       "      <td>7</td>\n",
       "    </tr>\n",
       "    <tr>\n",
       "      <th>8</th>\n",
       "      <td>7.8</td>\n",
       "      <td>0.58</td>\n",
       "      <td>0.02</td>\n",
       "      <td>2.0</td>\n",
       "      <td>0.073</td>\n",
       "      <td>9.0</td>\n",
       "      <td>18.0</td>\n",
       "      <td>0.9968</td>\n",
       "      <td>3.36</td>\n",
       "      <td>0.57</td>\n",
       "      <td>9.5</td>\n",
       "      <td>7</td>\n",
       "    </tr>\n",
       "    <tr>\n",
       "      <th>10</th>\n",
       "      <td>6.7</td>\n",
       "      <td>0.58</td>\n",
       "      <td>0.08</td>\n",
       "      <td>1.8</td>\n",
       "      <td>0.097</td>\n",
       "      <td>15.0</td>\n",
       "      <td>65.0</td>\n",
       "      <td>0.9959</td>\n",
       "      <td>3.28</td>\n",
       "      <td>0.54</td>\n",
       "      <td>9.2</td>\n",
       "      <td>5</td>\n",
       "    </tr>\n",
       "    <tr>\n",
       "      <th>11</th>\n",
       "      <td>7.5</td>\n",
       "      <td>0.50</td>\n",
       "      <td>0.36</td>\n",
       "      <td>6.1</td>\n",
       "      <td>0.071</td>\n",
       "      <td>17.0</td>\n",
       "      <td>102.0</td>\n",
       "      <td>0.9978</td>\n",
       "      <td>3.35</td>\n",
       "      <td>0.80</td>\n",
       "      <td>10.5</td>\n",
       "      <td>5</td>\n",
       "    </tr>\n",
       "  </tbody>\n",
       "</table>\n",
       "</div>"
      ],
      "text/plain": [
       "    fixed acidity  volatile acidity  citric acid  residual sugar  chlorides  \\\n",
       "1             7.8              0.88         0.00             2.6      0.098   \n",
       "2             7.8              0.76         0.04             2.3      0.092   \n",
       "3            11.2              0.28         0.56             1.9      0.075   \n",
       "4             7.4              0.70         0.00             1.9      0.076   \n",
       "5             7.4              0.66         0.00             1.8      0.075   \n",
       "6             7.9              0.60         0.06             1.6      0.069   \n",
       "7             7.3              0.65         0.00             1.2      0.065   \n",
       "8             7.8              0.58         0.02             2.0      0.073   \n",
       "10            6.7              0.58         0.08             1.8      0.097   \n",
       "11            7.5              0.50         0.36             6.1      0.071   \n",
       "\n",
       "    free sulfur dioxide  total sulfur dioxide  density    pH  sulphates  \\\n",
       "1                  25.0                  67.0   0.9968  3.20       0.68   \n",
       "2                  15.0                  54.0   0.9970  3.26       0.65   \n",
       "3                  17.0                  60.0   0.9980  3.16       0.58   \n",
       "4                  11.0                  34.0   0.9978  3.51       0.56   \n",
       "5                  13.0                  40.0   0.9978  3.51       0.56   \n",
       "6                  15.0                  59.0   0.9964  3.30       0.46   \n",
       "7                  15.0                  21.0   0.9946  3.39       0.47   \n",
       "8                   9.0                  18.0   0.9968  3.36       0.57   \n",
       "10                 15.0                  65.0   0.9959  3.28       0.54   \n",
       "11                 17.0                 102.0   0.9978  3.35       0.80   \n",
       "\n",
       "    alcohol  quality  \n",
       "1       9.8        5  \n",
       "2       9.8        5  \n",
       "3       9.8        6  \n",
       "4       9.4        5  \n",
       "5       9.4        5  \n",
       "6       9.4        5  \n",
       "7      10.0        7  \n",
       "8       9.5        7  \n",
       "10      9.2        5  \n",
       "11     10.5        5  "
      ]
     },
     "execution_count": 273,
     "metadata": {},
     "output_type": "execute_result"
    }
   ],
   "source": [
    "df.head(10)"
   ]
  },
  {
   "cell_type": "code",
   "execution_count": 274,
   "id": "2d082adf",
   "metadata": {},
   "outputs": [
    {
     "data": {
      "text/plain": [
       "<AxesSubplot:xlabel='quality', ylabel='count'>"
      ]
     },
     "execution_count": 274,
     "metadata": {},
     "output_type": "execute_result"
    },
    {
     "data": {
      "image/png": "[encoded data removed]",
      "text/plain": [
       "<Figure size 432x288 with 1 Axes>"
      ]
     },
     "metadata": {
      "needs_background": "light"
     },
     "output_type": "display_data"
    }
   ],
   "source": [
    "sns.countplot(df['quality'])"
   ]
  },
  {
   "cell_type": "markdown",
   "id": "0de05b28",
   "metadata": {},
   "source": [
    "With above analysis, we can see that 184(167+17) are of good quality and remaining (1175 [1359-184])are not good"
   ]
  },
  {
   "cell_type": "code",
   "execution_count": 275,
   "id": "cd5f421f",
   "metadata": {},
   "outputs": [
    {
     "data": {
      "text/html": [
       "<div>\n",
       "<style scoped>\n",
       "    .dataframe tbody tr th:only-of-type {\n",
       "        vertical-align: middle;\n",
       "    }\n",
       "\n",
       "    .dataframe tbody tr th {\n",
       "        vertical-align: top;\n",
       "    }\n",
       "\n",
       "    .dataframe thead th {\n",
       "        text-align: right;\n",
       "    }\n",
       "</style>\n",
       "<table border=\"1\" class=\"dataframe\">\n",
       "  <thead>\n",
       "    <tr style=\"text-align: right;\">\n",
       "      <th></th>\n",
       "      <th>fixed acidity</th>\n",
       "      <th>volatile acidity</th>\n",
       "      <th>citric acid</th>\n",
       "      <th>residual sugar</th>\n",
       "      <th>chlorides</th>\n",
       "      <th>free sulfur dioxide</th>\n",
       "      <th>total sulfur dioxide</th>\n",
       "      <th>density</th>\n",
       "      <th>pH</th>\n",
       "      <th>sulphates</th>\n",
       "      <th>alcohol</th>\n",
       "      <th>quality</th>\n",
       "    </tr>\n",
       "  </thead>\n",
       "  <tbody>\n",
       "    <tr>\n",
       "      <th>count</th>\n",
       "      <td>1359.000000</td>\n",
       "      <td>1359.000000</td>\n",
       "      <td>1359.000000</td>\n",
       "      <td>1359.000000</td>\n",
       "      <td>1359.000000</td>\n",
       "      <td>1359.000000</td>\n",
       "      <td>1359.000000</td>\n",
       "      <td>1359.000000</td>\n",
       "      <td>1359.000000</td>\n",
       "      <td>1359.000000</td>\n",
       "      <td>1359.000000</td>\n",
       "      <td>1359.000000</td>\n",
       "    </tr>\n",
       "    <tr>\n",
       "      <th>mean</th>\n",
       "      <td>8.310596</td>\n",
       "      <td>0.529478</td>\n",
       "      <td>0.272333</td>\n",
       "      <td>2.523400</td>\n",
       "      <td>0.088124</td>\n",
       "      <td>15.893304</td>\n",
       "      <td>46.825975</td>\n",
       "      <td>0.996709</td>\n",
       "      <td>3.309787</td>\n",
       "      <td>0.658705</td>\n",
       "      <td>10.432315</td>\n",
       "      <td>5.623252</td>\n",
       "    </tr>\n",
       "    <tr>\n",
       "      <th>std</th>\n",
       "      <td>1.736990</td>\n",
       "      <td>0.183031</td>\n",
       "      <td>0.195537</td>\n",
       "      <td>1.352314</td>\n",
       "      <td>0.049377</td>\n",
       "      <td>10.447270</td>\n",
       "      <td>33.408946</td>\n",
       "      <td>0.001869</td>\n",
       "      <td>0.155036</td>\n",
       "      <td>0.170667</td>\n",
       "      <td>1.082065</td>\n",
       "      <td>0.823578</td>\n",
       "    </tr>\n",
       "    <tr>\n",
       "      <th>min</th>\n",
       "      <td>4.600000</td>\n",
       "      <td>0.120000</td>\n",
       "      <td>0.000000</td>\n",
       "      <td>0.900000</td>\n",
       "      <td>0.012000</td>\n",
       "      <td>1.000000</td>\n",
       "      <td>6.000000</td>\n",
       "      <td>0.990070</td>\n",
       "      <td>2.740000</td>\n",
       "      <td>0.330000</td>\n",
       "      <td>8.400000</td>\n",
       "      <td>3.000000</td>\n",
       "    </tr>\n",
       "    <tr>\n",
       "      <th>25%</th>\n",
       "      <td>7.100000</td>\n",
       "      <td>0.390000</td>\n",
       "      <td>0.090000</td>\n",
       "      <td>1.900000</td>\n",
       "      <td>0.070000</td>\n",
       "      <td>7.000000</td>\n",
       "      <td>22.000000</td>\n",
       "      <td>0.995600</td>\n",
       "      <td>3.210000</td>\n",
       "      <td>0.550000</td>\n",
       "      <td>9.500000</td>\n",
       "      <td>5.000000</td>\n",
       "    </tr>\n",
       "    <tr>\n",
       "      <th>50%</th>\n",
       "      <td>7.900000</td>\n",
       "      <td>0.520000</td>\n",
       "      <td>0.260000</td>\n",
       "      <td>2.200000</td>\n",
       "      <td>0.079000</td>\n",
       "      <td>14.000000</td>\n",
       "      <td>38.000000</td>\n",
       "      <td>0.996700</td>\n",
       "      <td>3.310000</td>\n",
       "      <td>0.620000</td>\n",
       "      <td>10.200000</td>\n",
       "      <td>6.000000</td>\n",
       "    </tr>\n",
       "    <tr>\n",
       "      <th>75%</th>\n",
       "      <td>9.200000</td>\n",
       "      <td>0.640000</td>\n",
       "      <td>0.430000</td>\n",
       "      <td>2.600000</td>\n",
       "      <td>0.091000</td>\n",
       "      <td>21.000000</td>\n",
       "      <td>63.000000</td>\n",
       "      <td>0.997820</td>\n",
       "      <td>3.400000</td>\n",
       "      <td>0.730000</td>\n",
       "      <td>11.100000</td>\n",
       "      <td>6.000000</td>\n",
       "    </tr>\n",
       "    <tr>\n",
       "      <th>max</th>\n",
       "      <td>15.900000</td>\n",
       "      <td>1.580000</td>\n",
       "      <td>1.000000</td>\n",
       "      <td>15.500000</td>\n",
       "      <td>0.611000</td>\n",
       "      <td>72.000000</td>\n",
       "      <td>289.000000</td>\n",
       "      <td>1.003690</td>\n",
       "      <td>4.010000</td>\n",
       "      <td>2.000000</td>\n",
       "      <td>14.900000</td>\n",
       "      <td>8.000000</td>\n",
       "    </tr>\n",
       "  </tbody>\n",
       "</table>\n",
       "</div>"
      ],
      "text/plain": [
       "       fixed acidity  volatile acidity  citric acid  residual sugar  \\\n",
       "count    1359.000000       1359.000000  1359.000000     1359.000000   \n",
       "mean        8.310596          0.529478     0.272333        2.523400   \n",
       "std         1.736990          0.183031     0.195537        1.352314   \n",
       "min         4.600000          0.120000     0.000000        0.900000   \n",
       "25%         7.100000          0.390000     0.090000        1.900000   \n",
       "50%         7.900000          0.520000     0.260000        2.200000   \n",
       "75%         9.200000          0.640000     0.430000        2.600000   \n",
       "max        15.900000          1.580000     1.000000       15.500000   \n",
       "\n",
       "         chlorides  free sulfur dioxide  total sulfur dioxide      density  \\\n",
       "count  1359.000000          1359.000000           1359.000000  1359.000000   \n",
       "mean      0.088124            15.893304             46.825975     0.996709   \n",
       "std       0.049377            10.447270             33.408946     0.001869   \n",
       "min       0.012000             1.000000              6.000000     0.990070   \n",
       "25%       0.070000             7.000000             22.000000     0.995600   \n",
       "50%       0.079000            14.000000             38.000000     0.996700   \n",
       "75%       0.091000            21.000000             63.000000     0.997820   \n",
       "max       0.611000            72.000000            289.000000     1.003690   \n",
       "\n",
       "                pH    sulphates      alcohol      quality  \n",
       "count  1359.000000  1359.000000  1359.000000  1359.000000  \n",
       "mean      3.309787     0.658705    10.432315     5.623252  \n",
       "std       0.155036     0.170667     1.082065     0.823578  \n",
       "min       2.740000     0.330000     8.400000     3.000000  \n",
       "25%       3.210000     0.550000     9.500000     5.000000  \n",
       "50%       3.310000     0.620000    10.200000     6.000000  \n",
       "75%       3.400000     0.730000    11.100000     6.000000  \n",
       "max       4.010000     2.000000    14.900000     8.000000  "
      ]
     },
     "execution_count": 275,
     "metadata": {},
     "output_type": "execute_result"
    }
   ],
   "source": [
    "df.describe()"
   ]
  },
  {
   "cell_type": "markdown",
   "id": "26a22e18",
   "metadata": {},
   "source": [
    "# Analysis of the data"
   ]
  },
  {
   "cell_type": "markdown",
   "id": "6f100132",
   "metadata": {},
   "source": [
    "1) Fixed Acidity : We see that IQR values are mostly between 7.1 and 9.2, though we have few values below Quartile1 and above Quartile3\n",
    "\n",
    "2) Volatile Acidity : We see that IQR values are mostly between 0.12 and 0.64, though we have some values below Quartile1 and above Quartile3\n",
    "\n",
    "3) Citric Acid : We see that IQR values are mostly between 0.09 and 0.43, though we have few values below Quartile1 and above Quartile3\n",
    "\n",
    "4) Residual Sugar :We see that IQR values are mostly between 1.9 and 2.6, though we have few values below Quartile1 and above Quartile3. We notice that max value(15.50) is almost 6 times of the IQR range and hence a high max Outlier.\n",
    "\n",
    "5) Chlorides :We see that IQR values are mostly between 0.07 and 0.09, though we have few values below Quartile1 and above Quartile3. We notice that max value(0.611) is more than 6 times of the IQR range and hence a high max Outlier.\n",
    "\n",
    "7) Free Sulphar Dioxide :We see that IQR values are mostly between 7 and 21, though we have few values below Quartile1 and above Quartile3. \n",
    "\n",
    "8) Total Sulphar Dioxide :We see that IQR values are mostly between 22 and 63, though we have few values below Quartile1 and above Quartile3. \n",
    "\n",
    "9) Density : Density has very small difference in data with IQR between 0.995600 and 0.997820. The minimum and maximum values are also very close to each other.\n",
    "\n",
    "10) pH : pH also has very small difference in data with IQR between 3.21 and 3.4. The minimum and maximum values are also very close to each other.\n",
    "\n",
    "\n",
    "11) Alcohol :also has very small difference in data with IQR between 9.4 and 11. The minimum and maximum values are not too far.\n",
    "\n",
    "12) Quality : It is the taget column\n"
   ]
  },
  {
   "cell_type": "markdown",
   "id": "7730d9c7",
   "metadata": {},
   "source": [
    "# Correlation"
   ]
  },
  {
   "cell_type": "code",
   "execution_count": 276,
   "id": "725d8ac6",
   "metadata": {},
   "outputs": [
    {
     "data": {
      "text/html": [
       "<div>\n",
       "<style scoped>\n",
       "    .dataframe tbody tr th:only-of-type {\n",
       "        vertical-align: middle;\n",
       "    }\n",
       "\n",
       "    .dataframe tbody tr th {\n",
       "        vertical-align: top;\n",
       "    }\n",
       "\n",
       "    .dataframe thead th {\n",
       "        text-align: right;\n",
       "    }\n",
       "</style>\n",
       "<table border=\"1\" class=\"dataframe\">\n",
       "  <thead>\n",
       "    <tr style=\"text-align: right;\">\n",
       "      <th></th>\n",
       "      <th>fixed acidity</th>\n",
       "      <th>volatile acidity</th>\n",
       "      <th>citric acid</th>\n",
       "      <th>residual sugar</th>\n",
       "      <th>chlorides</th>\n",
       "      <th>free sulfur dioxide</th>\n",
       "      <th>total sulfur dioxide</th>\n",
       "      <th>density</th>\n",
       "      <th>pH</th>\n",
       "      <th>sulphates</th>\n",
       "      <th>alcohol</th>\n",
       "      <th>quality</th>\n",
       "    </tr>\n",
       "  </thead>\n",
       "  <tbody>\n",
       "    <tr>\n",
       "      <th>fixed acidity</th>\n",
       "      <td>1.000000</td>\n",
       "      <td>-0.255124</td>\n",
       "      <td>0.667437</td>\n",
       "      <td>0.111025</td>\n",
       "      <td>0.085886</td>\n",
       "      <td>-0.140580</td>\n",
       "      <td>-0.103777</td>\n",
       "      <td>0.670195</td>\n",
       "      <td>-0.686685</td>\n",
       "      <td>0.190269</td>\n",
       "      <td>-0.061596</td>\n",
       "      <td>0.119024</td>\n",
       "    </tr>\n",
       "    <tr>\n",
       "      <th>volatile acidity</th>\n",
       "      <td>-0.255124</td>\n",
       "      <td>1.000000</td>\n",
       "      <td>-0.551248</td>\n",
       "      <td>-0.002449</td>\n",
       "      <td>0.055154</td>\n",
       "      <td>-0.020945</td>\n",
       "      <td>0.071701</td>\n",
       "      <td>0.023943</td>\n",
       "      <td>0.247111</td>\n",
       "      <td>-0.256948</td>\n",
       "      <td>-0.197812</td>\n",
       "      <td>-0.395214</td>\n",
       "    </tr>\n",
       "    <tr>\n",
       "      <th>citric acid</th>\n",
       "      <td>0.667437</td>\n",
       "      <td>-0.551248</td>\n",
       "      <td>1.000000</td>\n",
       "      <td>0.143892</td>\n",
       "      <td>0.210195</td>\n",
       "      <td>-0.048004</td>\n",
       "      <td>0.047358</td>\n",
       "      <td>0.357962</td>\n",
       "      <td>-0.550310</td>\n",
       "      <td>0.326062</td>\n",
       "      <td>0.105108</td>\n",
       "      <td>0.228057</td>\n",
       "    </tr>\n",
       "    <tr>\n",
       "      <th>residual sugar</th>\n",
       "      <td>0.111025</td>\n",
       "      <td>-0.002449</td>\n",
       "      <td>0.143892</td>\n",
       "      <td>1.000000</td>\n",
       "      <td>0.026656</td>\n",
       "      <td>0.160527</td>\n",
       "      <td>0.201038</td>\n",
       "      <td>0.324522</td>\n",
       "      <td>-0.083143</td>\n",
       "      <td>-0.011837</td>\n",
       "      <td>0.063281</td>\n",
       "      <td>0.013640</td>\n",
       "    </tr>\n",
       "    <tr>\n",
       "      <th>chlorides</th>\n",
       "      <td>0.085886</td>\n",
       "      <td>0.055154</td>\n",
       "      <td>0.210195</td>\n",
       "      <td>0.026656</td>\n",
       "      <td>1.000000</td>\n",
       "      <td>0.000749</td>\n",
       "      <td>0.045773</td>\n",
       "      <td>0.193592</td>\n",
       "      <td>-0.270893</td>\n",
       "      <td>0.394557</td>\n",
       "      <td>-0.223824</td>\n",
       "      <td>-0.130988</td>\n",
       "    </tr>\n",
       "    <tr>\n",
       "      <th>free sulfur dioxide</th>\n",
       "      <td>-0.140580</td>\n",
       "      <td>-0.020945</td>\n",
       "      <td>-0.048004</td>\n",
       "      <td>0.160527</td>\n",
       "      <td>0.000749</td>\n",
       "      <td>1.000000</td>\n",
       "      <td>0.667246</td>\n",
       "      <td>-0.018071</td>\n",
       "      <td>0.056631</td>\n",
       "      <td>0.054126</td>\n",
       "      <td>-0.080125</td>\n",
       "      <td>-0.050463</td>\n",
       "    </tr>\n",
       "    <tr>\n",
       "      <th>total sulfur dioxide</th>\n",
       "      <td>-0.103777</td>\n",
       "      <td>0.071701</td>\n",
       "      <td>0.047358</td>\n",
       "      <td>0.201038</td>\n",
       "      <td>0.045773</td>\n",
       "      <td>0.667246</td>\n",
       "      <td>1.000000</td>\n",
       "      <td>0.078141</td>\n",
       "      <td>-0.079257</td>\n",
       "      <td>0.035291</td>\n",
       "      <td>-0.217829</td>\n",
       "      <td>-0.177855</td>\n",
       "    </tr>\n",
       "    <tr>\n",
       "      <th>density</th>\n",
       "      <td>0.670195</td>\n",
       "      <td>0.023943</td>\n",
       "      <td>0.357962</td>\n",
       "      <td>0.324522</td>\n",
       "      <td>0.193592</td>\n",
       "      <td>-0.018071</td>\n",
       "      <td>0.078141</td>\n",
       "      <td>1.000000</td>\n",
       "      <td>-0.355617</td>\n",
       "      <td>0.146036</td>\n",
       "      <td>-0.504995</td>\n",
       "      <td>-0.184252</td>\n",
       "    </tr>\n",
       "    <tr>\n",
       "      <th>pH</th>\n",
       "      <td>-0.686685</td>\n",
       "      <td>0.247111</td>\n",
       "      <td>-0.550310</td>\n",
       "      <td>-0.083143</td>\n",
       "      <td>-0.270893</td>\n",
       "      <td>0.056631</td>\n",
       "      <td>-0.079257</td>\n",
       "      <td>-0.355617</td>\n",
       "      <td>1.000000</td>\n",
       "      <td>-0.214134</td>\n",
       "      <td>0.213418</td>\n",
       "      <td>-0.055245</td>\n",
       "    </tr>\n",
       "    <tr>\n",
       "      <th>sulphates</th>\n",
       "      <td>0.190269</td>\n",
       "      <td>-0.256948</td>\n",
       "      <td>0.326062</td>\n",
       "      <td>-0.011837</td>\n",
       "      <td>0.394557</td>\n",
       "      <td>0.054126</td>\n",
       "      <td>0.035291</td>\n",
       "      <td>0.146036</td>\n",
       "      <td>-0.214134</td>\n",
       "      <td>1.000000</td>\n",
       "      <td>0.091621</td>\n",
       "      <td>0.248835</td>\n",
       "    </tr>\n",
       "    <tr>\n",
       "      <th>alcohol</th>\n",
       "      <td>-0.061596</td>\n",
       "      <td>-0.197812</td>\n",
       "      <td>0.105108</td>\n",
       "      <td>0.063281</td>\n",
       "      <td>-0.223824</td>\n",
       "      <td>-0.080125</td>\n",
       "      <td>-0.217829</td>\n",
       "      <td>-0.504995</td>\n",
       "      <td>0.213418</td>\n",
       "      <td>0.091621</td>\n",
       "      <td>1.000000</td>\n",
       "      <td>0.480343</td>\n",
       "    </tr>\n",
       "    <tr>\n",
       "      <th>quality</th>\n",
       "      <td>0.119024</td>\n",
       "      <td>-0.395214</td>\n",
       "      <td>0.228057</td>\n",
       "      <td>0.013640</td>\n",
       "      <td>-0.130988</td>\n",
       "      <td>-0.050463</td>\n",
       "      <td>-0.177855</td>\n",
       "      <td>-0.184252</td>\n",
       "      <td>-0.055245</td>\n",
       "      <td>0.248835</td>\n",
       "      <td>0.480343</td>\n",
       "      <td>1.000000</td>\n",
       "    </tr>\n",
       "  </tbody>\n",
       "</table>\n",
       "</div>"
      ],
      "text/plain": [
       "                      fixed acidity  volatile acidity  citric acid  \\\n",
       "fixed acidity              1.000000         -0.255124     0.667437   \n",
       "volatile acidity          -0.255124          1.000000    -0.551248   \n",
       "citric acid                0.667437         -0.551248     1.000000   \n",
       "residual sugar             0.111025         -0.002449     0.143892   \n",
       "chlorides                  0.085886          0.055154     0.210195   \n",
       "free sulfur dioxide       -0.140580         -0.020945    -0.048004   \n",
       "total sulfur dioxide      -0.103777          0.071701     0.047358   \n",
       "density                    0.670195          0.023943     0.357962   \n",
       "pH                        -0.686685          0.247111    -0.550310   \n",
       "sulphates                  0.190269         -0.256948     0.326062   \n",
       "alcohol                   -0.061596         -0.197812     0.105108   \n",
       "quality                    0.119024         -0.395214     0.228057   \n",
       "\n",
       "                      residual sugar  chlorides  free sulfur dioxide  \\\n",
       "fixed acidity               0.111025   0.085886            -0.140580   \n",
       "volatile acidity           -0.002449   0.055154            -0.020945   \n",
       "citric acid                 0.143892   0.210195            -0.048004   \n",
       "residual sugar              1.000000   0.026656             0.160527   \n",
       "chlorides                   0.026656   1.000000             0.000749   \n",
       "free sulfur dioxide         0.160527   0.000749             1.000000   \n",
       "total sulfur dioxide        0.201038   0.045773             0.667246   \n",
       "density                     0.324522   0.193592            -0.018071   \n",
       "pH                         -0.083143  -0.270893             0.056631   \n",
       "sulphates                  -0.011837   0.394557             0.054126   \n",
       "alcohol                     0.063281  -0.223824            -0.080125   \n",
       "quality                     0.013640  -0.130988            -0.050463   \n",
       "\n",
       "                      total sulfur dioxide   density        pH  sulphates  \\\n",
       "fixed acidity                    -0.103777  0.670195 -0.686685   0.190269   \n",
       "volatile acidity                  0.071701  0.023943  0.247111  -0.256948   \n",
       "citric acid                       0.047358  0.357962 -0.550310   0.326062   \n",
       "residual sugar                    0.201038  0.324522 -0.083143  -0.011837   \n",
       "chlorides                         0.045773  0.193592 -0.270893   0.394557   \n",
       "free sulfur dioxide               0.667246 -0.018071  0.056631   0.054126   \n",
       "total sulfur dioxide              1.000000  0.078141 -0.079257   0.035291   \n",
       "density                           0.078141  1.000000 -0.355617   0.146036   \n",
       "pH                               -0.079257 -0.355617  1.000000  -0.214134   \n",
       "sulphates                         0.035291  0.146036 -0.214134   1.000000   \n",
       "alcohol                          -0.217829 -0.504995  0.213418   0.091621   \n",
       "quality                          -0.177855 -0.184252 -0.055245   0.248835   \n",
       "\n",
       "                       alcohol   quality  \n",
       "fixed acidity        -0.061596  0.119024  \n",
       "volatile acidity     -0.197812 -0.395214  \n",
       "citric acid           0.105108  0.228057  \n",
       "residual sugar        0.063281  0.013640  \n",
       "chlorides            -0.223824 -0.130988  \n",
       "free sulfur dioxide  -0.080125 -0.050463  \n",
       "total sulfur dioxide -0.217829 -0.177855  \n",
       "density              -0.504995 -0.184252  \n",
       "pH                    0.213418 -0.055245  \n",
       "sulphates             0.091621  0.248835  \n",
       "alcohol               1.000000  0.480343  \n",
       "quality               0.480343  1.000000  "
      ]
     },
     "execution_count": 276,
     "metadata": {},
     "output_type": "execute_result"
    }
   ],
   "source": [
    "df.corr()"
   ]
  },
  {
   "cell_type": "code",
   "execution_count": 277,
   "id": "c4567fab",
   "metadata": {},
   "outputs": [
    {
     "data": {
      "text/plain": [
       "<AxesSubplot:>"
      ]
     },
     "execution_count": 277,
     "metadata": {},
     "output_type": "execute_result"
    },
    {
     "data": {
      "image/png": "[encoded data removed]",
      "text/plain": [
       "<Figure size 576x576 with 2 Axes>"
      ]
     },
     "metadata": {
      "needs_background": "light"
     },
     "output_type": "display_data"
    }
   ],
   "source": [
    "plt.figure(figsize = (8,8))\n",
    "sns.heatmap(df.corr(), annot = True)"
   ]
  },
  {
   "cell_type": "markdown",
   "id": "f537ff71",
   "metadata": {},
   "source": [
    "# Outcome of Correlation"
   ]
  },
  {
   "cell_type": "markdown",
   "id": "8fb490f3",
   "metadata": {},
   "source": [
    "From the above correlation plot for the given dataset for wine quality prediction, we can easily see which items are related strongly with each other and which items are related weekly with each other. For Example,\n",
    "\n",
    "The strongly correlated items are :\n",
    "1.fixed acidity and citric acid. 2.free sulphur dioxide and total sulphor dioxide. 3.fixed acidity and density.\n",
    "\n",
    "\n",
    "1.alcohol and quality.\n",
    "so, from above points there is a clear inference that alcohol is the most important characteristic to determine the quality of wine.\n",
    "\n",
    "\n",
    "The weekly correlated items are :\n",
    "1.citric acid and volatile acidity. 2.fixed acidity and ph. 3.density and alcohol.\n",
    "\n",
    "These are some relations which do not depend on each other at all."
   ]
  },
  {
   "cell_type": "code",
   "execution_count": 278,
   "id": "3ab6f340",
   "metadata": {},
   "outputs": [
    {
     "data": {
      "text/plain": [
       "quality                 1.000000\n",
       "alcohol                 0.480343\n",
       "sulphates               0.248835\n",
       "citric acid             0.228057\n",
       "fixed acidity           0.119024\n",
       "residual sugar          0.013640\n",
       "free sulfur dioxide    -0.050463\n",
       "pH                     -0.055245\n",
       "chlorides              -0.130988\n",
       "total sulfur dioxide   -0.177855\n",
       "density                -0.184252\n",
       "volatile acidity       -0.395214\n",
       "Name: quality, dtype: float64"
      ]
     },
     "execution_count": 278,
     "metadata": {},
     "output_type": "execute_result"
    }
   ],
   "source": [
    "corr_matrix=df.corr()\n",
    "corr_matrix['quality'].sort_values(ascending=False)"
   ]
  },
  {
   "cell_type": "markdown",
   "id": "bf49f97e",
   "metadata": {},
   "source": [
    "We see that volatile acidity, total sulphor dioxide, chlorides, density are very less related to the dependent variable \n",
    "quality so even if we remove these columns the accuracy won't be affected that much and alcoholo is most correlated with quality\n"
   ]
  },
  {
   "cell_type": "markdown",
   "id": "48d58dab",
   "metadata": {},
   "source": [
    "# Outlier Checking"
   ]
  },
  {
   "cell_type": "markdown",
   "id": "30434251",
   "metadata": {},
   "source": [
    "Plot all the columns apart from quality column as quality is the target"
   ]
  },
  {
   "cell_type": "code",
   "execution_count": 279,
   "id": "a4c02796",
   "metadata": {},
   "outputs": [
    {
     "data": {
      "text/html": [
       "<div>\n",
       "<style scoped>\n",
       "    .dataframe tbody tr th:only-of-type {\n",
       "        vertical-align: middle;\n",
       "    }\n",
       "\n",
       "    .dataframe tbody tr th {\n",
       "        vertical-align: top;\n",
       "    }\n",
       "\n",
       "    .dataframe thead th {\n",
       "        text-align: right;\n",
       "    }\n",
       "</style>\n",
       "<table border=\"1\" class=\"dataframe\">\n",
       "  <thead>\n",
       "    <tr style=\"text-align: right;\">\n",
       "      <th></th>\n",
       "      <th>fixed acidity</th>\n",
       "      <th>volatile acidity</th>\n",
       "      <th>citric acid</th>\n",
       "      <th>residual sugar</th>\n",
       "      <th>chlorides</th>\n",
       "      <th>free sulfur dioxide</th>\n",
       "      <th>total sulfur dioxide</th>\n",
       "      <th>density</th>\n",
       "      <th>pH</th>\n",
       "      <th>sulphates</th>\n",
       "      <th>alcohol</th>\n",
       "    </tr>\n",
       "  </thead>\n",
       "  <tbody>\n",
       "    <tr>\n",
       "      <th>1</th>\n",
       "      <td>7.8</td>\n",
       "      <td>0.88</td>\n",
       "      <td>0.00</td>\n",
       "      <td>2.6</td>\n",
       "      <td>0.098</td>\n",
       "      <td>25.0</td>\n",
       "      <td>67.0</td>\n",
       "      <td>0.9968</td>\n",
       "      <td>3.20</td>\n",
       "      <td>0.68</td>\n",
       "      <td>9.8</td>\n",
       "    </tr>\n",
       "    <tr>\n",
       "      <th>2</th>\n",
       "      <td>7.8</td>\n",
       "      <td>0.76</td>\n",
       "      <td>0.04</td>\n",
       "      <td>2.3</td>\n",
       "      <td>0.092</td>\n",
       "      <td>15.0</td>\n",
       "      <td>54.0</td>\n",
       "      <td>0.9970</td>\n",
       "      <td>3.26</td>\n",
       "      <td>0.65</td>\n",
       "      <td>9.8</td>\n",
       "    </tr>\n",
       "  </tbody>\n",
       "</table>\n",
       "</div>"
      ],
      "text/plain": [
       "   fixed acidity  volatile acidity  citric acid  residual sugar  chlorides  \\\n",
       "1            7.8              0.88         0.00             2.6      0.098   \n",
       "2            7.8              0.76         0.04             2.3      0.092   \n",
       "\n",
       "   free sulfur dioxide  total sulfur dioxide  density    pH  sulphates  \\\n",
       "1                 25.0                  67.0   0.9968  3.20       0.68   \n",
       "2                 15.0                  54.0   0.9970  3.26       0.65   \n",
       "\n",
       "   alcohol  \n",
       "1      9.8  \n",
       "2      9.8  "
      ]
     },
     "execution_count": 279,
     "metadata": {},
     "output_type": "execute_result"
    }
   ],
   "source": [
    "dataToPlot=df.loc[:, df.columns != 'quality']\n",
    "dataToPlot.head(2)"
   ]
  },
  {
   "cell_type": "markdown",
   "id": "7fd4c5f8",
   "metadata": {},
   "source": [
    "Save the Target to plot in one varaible"
   ]
  },
  {
   "cell_type": "code",
   "execution_count": 280,
   "id": "95259699",
   "metadata": {},
   "outputs": [
    {
     "data": {
      "text/html": [
       "<div>\n",
       "<style scoped>\n",
       "    .dataframe tbody tr th:only-of-type {\n",
       "        vertical-align: middle;\n",
       "    }\n",
       "\n",
       "    .dataframe tbody tr th {\n",
       "        vertical-align: top;\n",
       "    }\n",
       "\n",
       "    .dataframe thead th {\n",
       "        text-align: right;\n",
       "    }\n",
       "</style>\n",
       "<table border=\"1\" class=\"dataframe\">\n",
       "  <thead>\n",
       "    <tr style=\"text-align: right;\">\n",
       "      <th></th>\n",
       "      <th>quality</th>\n",
       "    </tr>\n",
       "  </thead>\n",
       "  <tbody>\n",
       "    <tr>\n",
       "      <th>1</th>\n",
       "      <td>5</td>\n",
       "    </tr>\n",
       "    <tr>\n",
       "      <th>2</th>\n",
       "      <td>5</td>\n",
       "    </tr>\n",
       "  </tbody>\n",
       "</table>\n",
       "</div>"
      ],
      "text/plain": [
       "   quality\n",
       "1        5\n",
       "2        5"
      ]
     },
     "execution_count": 280,
     "metadata": {},
     "output_type": "execute_result"
    }
   ],
   "source": [
    "targetToPlot=df.loc[:, df.columns == 'quality']\n",
    "targetToPlot.head(2)"
   ]
  },
  {
   "cell_type": "code",
   "execution_count": 281,
   "id": "f65c0f26",
   "metadata": {},
   "outputs": [
    {
     "data": {
      "image/png": "[encoded data removed]",
      "text/plain": [
       "<Figure size 864x576 with 11 Axes>"
      ]
     },
     "metadata": {},
     "output_type": "display_data"
    }
   ],
   "source": [
    "#Lets see data distribution again\n",
    "plt.figure(figsize=(12,8),facecolor='orange')\n",
    "graph=1\n",
    "\n",
    "for column in dataToPlot:\n",
    "    \n",
    "    if graph<=12:\n",
    "        ax=plt.subplot(3,4,graph)        \n",
    "        sns.boxplot(dataToPlot[column])\n",
    "        plt.xlabel(column,fontsize=11)\n",
    "        \n",
    "    graph+=1   \n",
    "    \n",
    "plt.tight_layout()"
   ]
  },
  {
   "cell_type": "markdown",
   "id": "994e4159",
   "metadata": {},
   "source": [
    "From the above box plot we see that \n",
    "\n",
    "a) Columns Residual Sugar,chlorides Fixed Acidity, Free Sulphar dioxide, Total Sulphar dioxide,Sulphates has more outliers\n",
    "\n",
    "b) pH ,density,citric acid and alcohol has less outliers\n",
    "\n",
    "c) We have outliers in density and pH where the values are lesser than Quartile 1"
   ]
  },
  {
   "cell_type": "markdown",
   "id": "3c4bfe42",
   "metadata": {},
   "source": [
    "# ScatterPlot"
   ]
  },
  {
   "cell_type": "code",
   "execution_count": 282,
   "id": "0514eefc",
   "metadata": {},
   "outputs": [
    {
     "data": {
      "text/plain": [
       "<AxesSubplot:xlabel='fixed acidity', ylabel='quality'>"
      ]
     },
     "execution_count": 282,
     "metadata": {},
     "output_type": "execute_result"
    },
    {
     "data": {
      "image/png": "[encoded data removed]",
      "text/plain": [
       "<Figure size 360x360 with 1 Axes>"
      ]
     },
     "metadata": {},
     "output_type": "display_data"
    }
   ],
   "source": [
    "#Lets see data distribution using Fixed Acidity(Independent Variable) and quality(Dependent Variable)\n",
    "plt.figure(figsize=(5,5),facecolor='orange')\n",
    "sns.scatterplot(x=\"fixed acidity\",y=\"quality\",data=df)"
   ]
  },
  {
   "cell_type": "markdown",
   "id": "b5595aac",
   "metadata": {},
   "source": [
    "We see that Fixed Acidity is equally distributed between the range 5 to 13 and when the Fixed Acidity increses the quality increases, however fixed acidity with very good quality and bad quality is an exception to this. These can be the outliers to the data which we will try to remove and check that we with less data removal we get more accuracy.Lets see the data further and check this with other columns.\n",
    "\n",
    "Also most of the data are present for quality 6,7,5 and 4 respectively. Quality with score 8 and 3 have significantly lesser data than 3"
   ]
  },
  {
   "cell_type": "code",
   "execution_count": 283,
   "id": "5c792148",
   "metadata": {},
   "outputs": [
    {
     "data": {
      "text/plain": [
       "<AxesSubplot:xlabel='volatile acidity', ylabel='quality'>"
      ]
     },
     "execution_count": 283,
     "metadata": {},
     "output_type": "execute_result"
    },
    {
     "data": {
      "image/png": "[encoded data removed]",
      "text/plain": [
       "<Figure size 360x360 with 1 Axes>"
      ]
     },
     "metadata": {},
     "output_type": "display_data"
    }
   ],
   "source": [
    "#Lets see data distribution using volatile Acidity(Independent Variable) and quality(Dependent Variable)\n",
    "plt.figure(figsize=(5,5),facecolor='orange')\n",
    "sns.scatterplot(x=\"volatile acidity\",y=\"quality\",data=df)"
   ]
  },
  {
   "cell_type": "markdown",
   "id": "78a04141",
   "metadata": {},
   "source": [
    "We see that Fixed Acidity is equally distributed between the range 0.2 to 1.1. Here we notice very few outliers and most of the data lies where the quality is 5,6 and 7. Quality 4 also contributes good amount of data followed by 8 and 3 respectively"
   ]
  },
  {
   "cell_type": "code",
   "execution_count": 284,
   "id": "4abb6892",
   "metadata": {},
   "outputs": [
    {
     "data": {
      "text/plain": [
       "<AxesSubplot:xlabel='citric acid', ylabel='quality'>"
      ]
     },
     "execution_count": 284,
     "metadata": {},
     "output_type": "execute_result"
    },
    {
     "data": {
      "image/png": "[encoded data removed]",
      "text/plain": [
       "<Figure size 360x360 with 1 Axes>"
      ]
     },
     "metadata": {},
     "output_type": "display_data"
    }
   ],
   "source": [
    "#Lets see data distribution using citric acid(Independent Variable) and quality(Dependent Variable)\n",
    "plt.figure(figsize=(5,5),facecolor='orange')\n",
    "sns.scatterplot(x=\"citric acid\",y=\"quality\",data=df)"
   ]
  },
  {
   "cell_type": "markdown",
   "id": "ad26b78c",
   "metadata": {},
   "source": [
    "We see that quality is between 5 to 7 when citric acid is in the range of 0.0 to 0.8. Most importantly we have good amount of data where the quality is 5,6,7 and 4,8,3 respectively"
   ]
  },
  {
   "cell_type": "code",
   "execution_count": 285,
   "id": "13e1902d",
   "metadata": {},
   "outputs": [
    {
     "data": {
      "text/plain": [
       "<AxesSubplot:xlabel='residual sugar', ylabel='quality'>"
      ]
     },
     "execution_count": 285,
     "metadata": {},
     "output_type": "execute_result"
    },
    {
     "data": {
      "image/png": "[encoded data removed]",
      "text/plain": [
       "<Figure size 360x360 with 1 Axes>"
      ]
     },
     "metadata": {},
     "output_type": "display_data"
    }
   ],
   "source": [
    "#Lets see data distribution using residual sugar(Independent Variable) and quality(Dependent Variable)\n",
    "plt.figure(figsize=(5,5),facecolor='orange')\n",
    "sns.scatterplot(x=\"residual sugar\",y=\"quality\",data=df)"
   ]
  },
  {
   "cell_type": "markdown",
   "id": "ab6f8d7c",
   "metadata": {},
   "source": [
    "We see that in residual sugar, most of the data lies between 1 to 5 and has lot of outliers. Data lies everywhere between the quality 5,7 and 6. 4,8 and 1 also has data in the order of quality"
   ]
  },
  {
   "cell_type": "code",
   "execution_count": 286,
   "id": "016f28a1",
   "metadata": {},
   "outputs": [
    {
     "data": {
      "text/plain": [
       "<AxesSubplot:xlabel='chlorides', ylabel='quality'>"
      ]
     },
     "execution_count": 286,
     "metadata": {},
     "output_type": "execute_result"
    },
    {
     "data": {
      "image/png": "[encoded data removed]",
      "text/plain": [
       "<Figure size 360x360 with 1 Axes>"
      ]
     },
     "metadata": {},
     "output_type": "display_data"
    }
   ],
   "source": [
    "#Lets see data distribution using chlorides(Independent Variable) and quality(Dependent Variable)\n",
    "plt.figure(figsize=(5,5),facecolor='orange')\n",
    "sns.scatterplot(x=\"chlorides\",y=\"quality\",data=df)"
   ]
  },
  {
   "cell_type": "markdown",
   "id": "4d268340",
   "metadata": {},
   "source": [
    "We see that most of the data lies between the range 0.012000 to 0.2 and most of the data is present where the quality is 4,5,6 and 7. Quality 8 and 3 contribute less amount of data"
   ]
  },
  {
   "cell_type": "code",
   "execution_count": 287,
   "id": "3a40d7e9",
   "metadata": {},
   "outputs": [
    {
     "data": {
      "text/plain": [
       "<AxesSubplot:xlabel='free sulfur dioxide', ylabel='quality'>"
      ]
     },
     "execution_count": 287,
     "metadata": {},
     "output_type": "execute_result"
    },
    {
     "data": {
      "image/png": "[encoded data removed]",
      "text/plain": [
       "<Figure size 360x360 with 1 Axes>"
      ]
     },
     "metadata": {},
     "output_type": "display_data"
    }
   ],
   "source": [
    "#Lets see data distribution using free sulfur dioxide(Independent Variable) and quality(Dependent Variable)\n",
    "plt.figure(figsize=(5,5),facecolor='orange')\n",
    "sns.scatterplot(x=\"free sulfur dioxide\",y=\"quality\",data=df)"
   ]
  },
  {
   "cell_type": "markdown",
   "id": "6a63f211",
   "metadata": {},
   "source": [
    "For Free Sulfar dioxide, We see that most of the values are in the range of 0 to 45 and most of the data are present where the quality is 5,6 and 7"
   ]
  },
  {
   "cell_type": "code",
   "execution_count": 288,
   "id": "4afb5b6d",
   "metadata": {},
   "outputs": [
    {
     "data": {
      "text/plain": [
       "<AxesSubplot:xlabel='total sulfur dioxide', ylabel='quality'>"
      ]
     },
     "execution_count": 288,
     "metadata": {},
     "output_type": "execute_result"
    },
    {
     "data": {
      "image/png": "[encoded data removed]",
      "text/plain": [
       "<Figure size 360x360 with 1 Axes>"
      ]
     },
     "metadata": {},
     "output_type": "display_data"
    }
   ],
   "source": [
    "#Lets see data distribution using total sulfur dioxide(Independent Variable) and quality(Dependent Variable)\n",
    "plt.figure(figsize=(5,5),facecolor='orange')\n",
    "sns.scatterplot(x=\"total sulfur dioxide\",y=\"quality\",data=df)"
   ]
  },
  {
   "cell_type": "markdown",
   "id": "d088ac2a",
   "metadata": {},
   "source": [
    "For Total Sulfar dioxide, We see that most of the values are in the range of 5 to 100 and most of the data are present where the quality is 5,6,7,4 respectively. 8 and 3 contributes less amount of data."
   ]
  },
  {
   "cell_type": "code",
   "execution_count": 289,
   "id": "07670a48",
   "metadata": {},
   "outputs": [
    {
     "data": {
      "text/plain": [
       "<AxesSubplot:xlabel='density', ylabel='quality'>"
      ]
     },
     "execution_count": 289,
     "metadata": {},
     "output_type": "execute_result"
    },
    {
     "data": {
      "image/png": "[encoded data removed]",
      "text/plain": [
       "<Figure size 360x360 with 1 Axes>"
      ]
     },
     "metadata": {},
     "output_type": "display_data"
    }
   ],
   "source": [
    "#Lets see data distribution using density(Independent Variable) and quality(Dependent Variable)\n",
    "plt.figure(figsize=(5,5),facecolor='orange')\n",
    "sns.scatterplot(x=\"density\",y=\"quality\",data=df)"
   ]
  },
  {
   "cell_type": "markdown",
   "id": "bf367054",
   "metadata": {},
   "source": [
    "For density, We see that most of the values are equally distributed in where Quality is 4,5,6 and 7 with few outliers"
   ]
  },
  {
   "cell_type": "code",
   "execution_count": 290,
   "id": "9b883361",
   "metadata": {},
   "outputs": [
    {
     "data": {
      "text/plain": [
       "<AxesSubplot:xlabel='pH', ylabel='quality'>"
      ]
     },
     "execution_count": 290,
     "metadata": {},
     "output_type": "execute_result"
    },
    {
     "data": {
      "image/png": "[encoded data removed]",
      "text/plain": [
       "<Figure size 360x360 with 1 Axes>"
      ]
     },
     "metadata": {},
     "output_type": "display_data"
    }
   ],
   "source": [
    "#Lets see data distribution using pH(Independent Variable) and quality(Dependent Variable)\n",
    "plt.figure(figsize=(5,5),facecolor='orange')\n",
    "sns.scatterplot(x=\"pH\",y=\"quality\",data=df)"
   ]
  },
  {
   "cell_type": "markdown",
   "id": "d55a089e",
   "metadata": {},
   "source": [
    "For density, We see that most of the values are equally distributed in range between 2.9 to 3.7 with few outliers"
   ]
  },
  {
   "cell_type": "code",
   "execution_count": 291,
   "id": "fb623063",
   "metadata": {},
   "outputs": [
    {
     "data": {
      "text/plain": [
       "<AxesSubplot:xlabel='sulphates', ylabel='quality'>"
      ]
     },
     "execution_count": 291,
     "metadata": {},
     "output_type": "execute_result"
    },
    {
     "data": {
      "image/png": "[encoded data removed]",
      "text/plain": [
       "<Figure size 360x360 with 1 Axes>"
      ]
     },
     "metadata": {},
     "output_type": "display_data"
    }
   ],
   "source": [
    "#Lets see data distribution using sulphates(Independent Variable) and quality(Dependent Variable)\n",
    "plt.figure(figsize=(5,5),facecolor='orange')\n",
    "sns.scatterplot(x=\"sulphates\",y=\"quality\",data=df)"
   ]
  },
  {
   "cell_type": "markdown",
   "id": "6a67666a",
   "metadata": {},
   "source": [
    "For sulphates, We see that most of the values are equally distributed where the quality is 5,6 and 7 in the range of 0.25 to 1.25"
   ]
  },
  {
   "cell_type": "code",
   "execution_count": 292,
   "id": "e4e62004",
   "metadata": {},
   "outputs": [
    {
     "data": {
      "text/plain": [
       "<AxesSubplot:xlabel='alcohol', ylabel='quality'>"
      ]
     },
     "execution_count": 292,
     "metadata": {},
     "output_type": "execute_result"
    },
    {
     "data": {
      "image/png": "[encoded data removed]",
      "text/plain": [
       "<Figure size 360x360 with 1 Axes>"
      ]
     },
     "metadata": {},
     "output_type": "display_data"
    }
   ],
   "source": [
    "#Lets see data distribution using alcohol(Independent Variable) and quality(Dependent Variable)\n",
    "plt.figure(figsize=(5,5),facecolor='orange')\n",
    "sns.scatterplot(x=\"alcohol\",y=\"quality\",data=df)"
   ]
  },
  {
   "cell_type": "markdown",
   "id": "fe3a8d90",
   "metadata": {},
   "source": [
    "Here also, we notice that most of the alcohol are equally dsitributed between the rane 7 to 13 and Quality 4,5 6 and 7 contributes most amount of data."
   ]
  },
  {
   "cell_type": "markdown",
   "id": "041b164c",
   "metadata": {},
   "source": [
    "# Distplot"
   ]
  },
  {
   "cell_type": "code",
   "execution_count": 293,
   "id": "e51eeb22",
   "metadata": {},
   "outputs": [],
   "source": [
    "#Features into x\n",
    "X=df.iloc[:,:-1]\n",
    "\n",
    "#Vector in y\n",
    "y=df.iloc[:,-1]"
   ]
  },
  {
   "cell_type": "code",
   "execution_count": 294,
   "id": "db8d0f38",
   "metadata": {},
   "outputs": [
    {
     "data": {
      "text/html": [
       "<div>\n",
       "<style scoped>\n",
       "    .dataframe tbody tr th:only-of-type {\n",
       "        vertical-align: middle;\n",
       "    }\n",
       "\n",
       "    .dataframe tbody tr th {\n",
       "        vertical-align: top;\n",
       "    }\n",
       "\n",
       "    .dataframe thead th {\n",
       "        text-align: right;\n",
       "    }\n",
       "</style>\n",
       "<table border=\"1\" class=\"dataframe\">\n",
       "  <thead>\n",
       "    <tr style=\"text-align: right;\">\n",
       "      <th></th>\n",
       "      <th>fixed acidity</th>\n",
       "      <th>volatile acidity</th>\n",
       "      <th>citric acid</th>\n",
       "      <th>residual sugar</th>\n",
       "      <th>chlorides</th>\n",
       "      <th>free sulfur dioxide</th>\n",
       "      <th>total sulfur dioxide</th>\n",
       "      <th>density</th>\n",
       "      <th>pH</th>\n",
       "      <th>sulphates</th>\n",
       "      <th>alcohol</th>\n",
       "    </tr>\n",
       "  </thead>\n",
       "  <tbody>\n",
       "    <tr>\n",
       "      <th>1</th>\n",
       "      <td>7.8</td>\n",
       "      <td>0.88</td>\n",
       "      <td>0.0</td>\n",
       "      <td>2.6</td>\n",
       "      <td>0.098</td>\n",
       "      <td>25.0</td>\n",
       "      <td>67.0</td>\n",
       "      <td>0.9968</td>\n",
       "      <td>3.2</td>\n",
       "      <td>0.68</td>\n",
       "      <td>9.8</td>\n",
       "    </tr>\n",
       "  </tbody>\n",
       "</table>\n",
       "</div>"
      ],
      "text/plain": [
       "   fixed acidity  volatile acidity  citric acid  residual sugar  chlorides  \\\n",
       "1            7.8              0.88          0.0             2.6      0.098   \n",
       "\n",
       "   free sulfur dioxide  total sulfur dioxide  density   pH  sulphates  alcohol  \n",
       "1                 25.0                  67.0   0.9968  3.2       0.68      9.8  "
      ]
     },
     "execution_count": 294,
     "metadata": {},
     "output_type": "execute_result"
    }
   ],
   "source": [
    "X.head(1)"
   ]
  },
  {
   "cell_type": "code",
   "execution_count": 295,
   "id": "f623f598",
   "metadata": {},
   "outputs": [
    {
     "data": {
      "text/plain": [
       "5"
      ]
     },
     "execution_count": 295,
     "metadata": {},
     "output_type": "execute_result"
    }
   ],
   "source": [
    "y[6]"
   ]
  },
  {
   "cell_type": "code",
   "execution_count": 296,
   "id": "08c06907",
   "metadata": {},
   "outputs": [
    {
     "data": {
      "image/png": "[encoded data removed]",
      "text/plain": [
       "<Figure size 792x936 with 11 Axes>"
      ]
     },
     "metadata": {},
     "output_type": "display_data"
    }
   ],
   "source": [
    "#Lets see data distribution again\n",
    "plt.figure(figsize=(11,13),facecolor='orange')\n",
    "plotnumber=1\n",
    "\n",
    "for column in X:\n",
    "    #print(column)\n",
    "    if plotnumber<=12:\n",
    "        ax=plt.subplot(3,4,plotnumber)        \n",
    "        sns.distplot(X[column])\n",
    "        plt.xlabel(column,fontsize=20)\n",
    "        \n",
    "    plotnumber+=1   \n",
    "    \n",
    "plt.tight_layout()"
   ]
  },
  {
   "cell_type": "markdown",
   "id": "b3a3ed69",
   "metadata": {},
   "source": [
    "Here we notice the skewness, and most of the data is right skewed. pH looks fine and density,alcohol is liitle bit right skewed. Lets understand this further using dk.skew method"
   ]
  },
  {
   "cell_type": "markdown",
   "id": "040a9669",
   "metadata": {},
   "source": [
    "# Skewness"
   ]
  },
  {
   "cell_type": "code",
   "execution_count": 297,
   "id": "6427bd91",
   "metadata": {},
   "outputs": [
    {
     "data": {
      "text/plain": [
       "fixed acidity           0.941041\n",
       "volatile acidity        0.729279\n",
       "citric acid             0.312726\n",
       "residual sugar          4.548153\n",
       "chlorides               5.502487\n",
       "free sulfur dioxide     1.226579\n",
       "total sulfur dioxide    1.540368\n",
       "density                 0.044778\n",
       "pH                      0.232032\n",
       "sulphates               2.406505\n",
       "alcohol                 0.859841\n",
       "quality                 0.192407\n",
       "dtype: float64"
      ]
     },
     "execution_count": 297,
     "metadata": {},
     "output_type": "execute_result"
    }
   ],
   "source": [
    "df.skew()"
   ]
  },
  {
   "cell_type": "markdown",
   "id": "192552df",
   "metadata": {},
   "source": [
    "The skewness value lies between -0.5 to 0.5, if our data lies between -0.5 to 0.5, then data is not skewed.\n",
    "\n",
    "But here, we notice that data is highly skewed. However, pH and quality is not skewed.\n",
    "\n",
    "So we will have to remove the skewness of the data."
   ]
  },
  {
   "cell_type": "markdown",
   "id": "f04ee299",
   "metadata": {},
   "source": [
    "# Data Cleaning"
   ]
  },
  {
   "cell_type": "code",
   "execution_count": 298,
   "id": "0f01e27c",
   "metadata": {},
   "outputs": [
    {
     "data": {
      "text/html": [
       "<div>\n",
       "<style scoped>\n",
       "    .dataframe tbody tr th:only-of-type {\n",
       "        vertical-align: middle;\n",
       "    }\n",
       "\n",
       "    .dataframe tbody tr th {\n",
       "        vertical-align: top;\n",
       "    }\n",
       "\n",
       "    .dataframe thead th {\n",
       "        text-align: right;\n",
       "    }\n",
       "</style>\n",
       "<table border=\"1\" class=\"dataframe\">\n",
       "  <thead>\n",
       "    <tr style=\"text-align: right;\">\n",
       "      <th></th>\n",
       "      <th>fixed acidity</th>\n",
       "      <th>volatile acidity</th>\n",
       "      <th>citric acid</th>\n",
       "      <th>residual sugar</th>\n",
       "      <th>chlorides</th>\n",
       "      <th>free sulfur dioxide</th>\n",
       "      <th>total sulfur dioxide</th>\n",
       "      <th>density</th>\n",
       "      <th>pH</th>\n",
       "      <th>sulphates</th>\n",
       "      <th>alcohol</th>\n",
       "      <th>quality</th>\n",
       "    </tr>\n",
       "  </thead>\n",
       "  <tbody>\n",
       "    <tr>\n",
       "      <th>1</th>\n",
       "      <td>7.8</td>\n",
       "      <td>0.88</td>\n",
       "      <td>0.00</td>\n",
       "      <td>2.6</td>\n",
       "      <td>0.098</td>\n",
       "      <td>25.0</td>\n",
       "      <td>67.0</td>\n",
       "      <td>0.9968</td>\n",
       "      <td>3.20</td>\n",
       "      <td>0.68</td>\n",
       "      <td>9.8</td>\n",
       "      <td>5</td>\n",
       "    </tr>\n",
       "    <tr>\n",
       "      <th>2</th>\n",
       "      <td>7.8</td>\n",
       "      <td>0.76</td>\n",
       "      <td>0.04</td>\n",
       "      <td>2.3</td>\n",
       "      <td>0.092</td>\n",
       "      <td>15.0</td>\n",
       "      <td>54.0</td>\n",
       "      <td>0.9970</td>\n",
       "      <td>3.26</td>\n",
       "      <td>0.65</td>\n",
       "      <td>9.8</td>\n",
       "      <td>5</td>\n",
       "    </tr>\n",
       "  </tbody>\n",
       "</table>\n",
       "</div>"
      ],
      "text/plain": [
       "   fixed acidity  volatile acidity  citric acid  residual sugar  chlorides  \\\n",
       "1            7.8              0.88         0.00             2.6      0.098   \n",
       "2            7.8              0.76         0.04             2.3      0.092   \n",
       "\n",
       "   free sulfur dioxide  total sulfur dioxide  density    pH  sulphates  \\\n",
       "1                 25.0                  67.0   0.9968  3.20       0.68   \n",
       "2                 15.0                  54.0   0.9970  3.26       0.65   \n",
       "\n",
       "   alcohol  quality  \n",
       "1      9.8        5  \n",
       "2      9.8        5  "
      ]
     },
     "execution_count": 298,
     "metadata": {},
     "output_type": "execute_result"
    }
   ],
   "source": [
    "df.head(2)"
   ]
  },
  {
   "cell_type": "markdown",
   "id": "86522372",
   "metadata": {},
   "source": [
    "Dropping the columns"
   ]
  },
  {
   "cell_type": "markdown",
   "id": "6aa8cc2f",
   "metadata": {},
   "source": [
    "1) Chlorides : It has too many Outliers, It is highly negatively correlate with quality with value -0.130988 and Skewness 5.502487\n",
    "\n",
    "2) Density : Desnity has outliers on both sides and it is highly neagtively correlated with value -0.184252 and even Skewness is 0.044778, So it is also safe to remove this column\n",
    "\n",
    "3) Volatile Acidity is also not contributing much and is not correlated with any columns. It has correlation values of -0.395214, Hence it is also safe to remove.\n",
    "\n",
    "4) Residual Sugar : The scatter plot clearly shows that residual sugar is almost everywhere in each quality with closer values, so this will be of no use to us.It is highly skewed with value 4.548153 and has lot of outliers. It has no proper correlation with any column, so its also safe to remove"
   ]
  },
  {
   "cell_type": "code",
   "execution_count": 299,
   "id": "d7d228c5",
   "metadata": {},
   "outputs": [
    {
     "name": "stdout",
     "output_type": "stream",
     "text": [
      "(1359, 8)\n"
     ]
    }
   ],
   "source": [
    "# Removing Unnecassary columns from the dataset\n",
    "\n",
    "df = df.drop(['volatile acidity', 'chlorides', 'density','residual sugar'], axis = 1)\n",
    "\n",
    "# checking the shape of the dataset\n",
    "print(df.shape)"
   ]
  },
  {
   "cell_type": "code",
   "execution_count": 300,
   "id": "af0a7e54",
   "metadata": {},
   "outputs": [
    {
     "data": {
      "text/html": [
       "<div>\n",
       "<style scoped>\n",
       "    .dataframe tbody tr th:only-of-type {\n",
       "        vertical-align: middle;\n",
       "    }\n",
       "\n",
       "    .dataframe tbody tr th {\n",
       "        vertical-align: top;\n",
       "    }\n",
       "\n",
       "    .dataframe thead th {\n",
       "        text-align: right;\n",
       "    }\n",
       "</style>\n",
       "<table border=\"1\" class=\"dataframe\">\n",
       "  <thead>\n",
       "    <tr style=\"text-align: right;\">\n",
       "      <th></th>\n",
       "      <th>fixed acidity</th>\n",
       "      <th>citric acid</th>\n",
       "      <th>free sulfur dioxide</th>\n",
       "      <th>total sulfur dioxide</th>\n",
       "      <th>pH</th>\n",
       "      <th>sulphates</th>\n",
       "      <th>alcohol</th>\n",
       "      <th>quality</th>\n",
       "    </tr>\n",
       "  </thead>\n",
       "  <tbody>\n",
       "    <tr>\n",
       "      <th>1</th>\n",
       "      <td>7.8</td>\n",
       "      <td>0.00</td>\n",
       "      <td>25.0</td>\n",
       "      <td>67.0</td>\n",
       "      <td>3.20</td>\n",
       "      <td>0.68</td>\n",
       "      <td>9.8</td>\n",
       "      <td>5</td>\n",
       "    </tr>\n",
       "    <tr>\n",
       "      <th>2</th>\n",
       "      <td>7.8</td>\n",
       "      <td>0.04</td>\n",
       "      <td>15.0</td>\n",
       "      <td>54.0</td>\n",
       "      <td>3.26</td>\n",
       "      <td>0.65</td>\n",
       "      <td>9.8</td>\n",
       "      <td>5</td>\n",
       "    </tr>\n",
       "  </tbody>\n",
       "</table>\n",
       "</div>"
      ],
      "text/plain": [
       "   fixed acidity  citric acid  free sulfur dioxide  total sulfur dioxide  \\\n",
       "1            7.8         0.00                 25.0                  67.0   \n",
       "2            7.8         0.04                 15.0                  54.0   \n",
       "\n",
       "     pH  sulphates  alcohol  quality  \n",
       "1  3.20       0.68      9.8        5  \n",
       "2  3.26       0.65      9.8        5  "
      ]
     },
     "execution_count": 300,
     "metadata": {},
     "output_type": "execute_result"
    }
   ],
   "source": [
    "df.head(2)"
   ]
  },
  {
   "cell_type": "markdown",
   "id": "d1846bbc",
   "metadata": {},
   "source": [
    "# Z-Score to remove Outliers"
   ]
  },
  {
   "cell_type": "code",
   "execution_count": 301,
   "id": "3abb4830",
   "metadata": {},
   "outputs": [
    {
     "data": {
      "text/plain": [
       "(1359, 8)"
      ]
     },
     "execution_count": 301,
     "metadata": {},
     "output_type": "execute_result"
    }
   ],
   "source": [
    "from scipy.stats import zscore\n",
    "z=np.abs(zscore(df))\n",
    "z.shape"
   ]
  },
  {
   "cell_type": "code",
   "execution_count": 302,
   "id": "851b4c98",
   "metadata": {},
   "outputs": [
    {
     "name": "stdout",
     "output_type": "stream",
     "text": [
      "(array([  11,   12,   13,   13,   15,   39,   41,   53,   75,   80,   83,\n",
      "         84,   87,   96,   99,  128,  135,  135,  135,  150,  201,  214,\n",
      "        226,  295,  296,  302,  309,  327,  341,  348,  385,  400,  408,\n",
      "        448,  450,  473,  483,  484,  506,  510,  512,  534,  555,  562,\n",
      "        563,  564,  564,  581,  591,  597,  602,  626,  687,  710,  718,\n",
      "        771,  790,  791,  836,  895,  918,  920,  945,  963,  984, 1003,\n",
      "       1048, 1060, 1060, 1081, 1082, 1103, 1106, 1107, 1120, 1123, 1125,\n",
      "       1151, 1159, 1165, 1216, 1245, 1251, 1253, 1275, 1325], dtype=int64), array([5, 2, 2, 3, 5, 5, 4, 2, 5, 5, 5, 5, 4, 5, 3, 6, 1, 4, 5, 5, 5, 0,\n",
      "       5, 5, 5, 0, 3, 0, 0, 2, 0, 7, 6, 3, 7, 0, 0, 0, 2, 6, 3, 5, 5, 3,\n",
      "       3, 0, 6, 3, 3, 7, 4, 5, 5, 6, 7, 7, 2, 2, 2, 5, 3, 3, 4, 2, 2, 2,\n",
      "       2, 2, 3, 6, 6, 2, 7, 4, 4, 5, 4, 2, 5, 7, 2, 7, 2, 7, 7, 2],\n",
      "      dtype=int64))\n"
     ]
    }
   ],
   "source": [
    "threshold=3\n",
    "print(np.where(z>3))"
   ]
  },
  {
   "cell_type": "code",
   "execution_count": 303,
   "id": "5009a33b",
   "metadata": {},
   "outputs": [
    {
     "name": "stdout",
     "output_type": "stream",
     "text": [
      "(1359, 8)\n",
      "(1278, 8)\n"
     ]
    }
   ],
   "source": [
    "df_new=df[(z<3).all(axis=1)]\n",
    "print(df.shape)\n",
    "print(df_new.shape)"
   ]
  },
  {
   "cell_type": "markdown",
   "id": "d13c29b2",
   "metadata": {},
   "source": [
    "# Percnetage Data Loss"
   ]
  },
  {
   "cell_type": "code",
   "execution_count": 304,
   "id": "3af40822",
   "metadata": {},
   "outputs": [
    {
     "data": {
      "text/plain": [
       "5.960264900662252"
      ]
     },
     "execution_count": 304,
     "metadata": {},
     "output_type": "execute_result"
    }
   ],
   "source": [
    "loss_percentage= ((1359-1278)/1359)*100\n",
    "loss_percentage"
   ]
  },
  {
   "cell_type": "markdown",
   "id": "b10a6dfb",
   "metadata": {},
   "source": [
    "So, it's 5.96% Percentage loss, which is not bad"
   ]
  },
  {
   "cell_type": "markdown",
   "id": "6f764b9b",
   "metadata": {},
   "source": [
    "Now, Model without Outliers is df and model with desired outliers is df_new"
   ]
  },
  {
   "cell_type": "markdown",
   "id": "1a8bb908",
   "metadata": {},
   "source": [
    "Now let's plot Boxplot and check outliers"
   ]
  },
  {
   "cell_type": "code",
   "execution_count": 305,
   "id": "4eae85e1",
   "metadata": {},
   "outputs": [
    {
     "data": {
      "text/html": [
       "<div>\n",
       "<style scoped>\n",
       "    .dataframe tbody tr th:only-of-type {\n",
       "        vertical-align: middle;\n",
       "    }\n",
       "\n",
       "    .dataframe tbody tr th {\n",
       "        vertical-align: top;\n",
       "    }\n",
       "\n",
       "    .dataframe thead th {\n",
       "        text-align: right;\n",
       "    }\n",
       "</style>\n",
       "<table border=\"1\" class=\"dataframe\">\n",
       "  <thead>\n",
       "    <tr style=\"text-align: right;\">\n",
       "      <th></th>\n",
       "      <th>fixed acidity</th>\n",
       "      <th>citric acid</th>\n",
       "      <th>free sulfur dioxide</th>\n",
       "      <th>total sulfur dioxide</th>\n",
       "      <th>pH</th>\n",
       "      <th>sulphates</th>\n",
       "      <th>alcohol</th>\n",
       "    </tr>\n",
       "  </thead>\n",
       "  <tbody>\n",
       "    <tr>\n",
       "      <th>1</th>\n",
       "      <td>7.8</td>\n",
       "      <td>0.00</td>\n",
       "      <td>25.0</td>\n",
       "      <td>67.0</td>\n",
       "      <td>3.20</td>\n",
       "      <td>0.68</td>\n",
       "      <td>9.8</td>\n",
       "    </tr>\n",
       "    <tr>\n",
       "      <th>2</th>\n",
       "      <td>7.8</td>\n",
       "      <td>0.04</td>\n",
       "      <td>15.0</td>\n",
       "      <td>54.0</td>\n",
       "      <td>3.26</td>\n",
       "      <td>0.65</td>\n",
       "      <td>9.8</td>\n",
       "    </tr>\n",
       "  </tbody>\n",
       "</table>\n",
       "</div>"
      ],
      "text/plain": [
       "   fixed acidity  citric acid  free sulfur dioxide  total sulfur dioxide  \\\n",
       "1            7.8         0.00                 25.0                  67.0   \n",
       "2            7.8         0.04                 15.0                  54.0   \n",
       "\n",
       "     pH  sulphates  alcohol  \n",
       "1  3.20       0.68      9.8  \n",
       "2  3.26       0.65      9.8  "
      ]
     },
     "execution_count": 305,
     "metadata": {},
     "output_type": "execute_result"
    }
   ],
   "source": [
    "dataToPlot=df_new.loc[:, df.columns != 'quality']\n",
    "dataToPlot.head(2)"
   ]
  },
  {
   "cell_type": "code",
   "execution_count": 306,
   "id": "1ab91d16",
   "metadata": {},
   "outputs": [
    {
     "data": {
      "image/png": "[encoded data removed]",
      "text/plain": [
       "<Figure size 864x576 with 7 Axes>"
      ]
     },
     "metadata": {},
     "output_type": "display_data"
    }
   ],
   "source": [
    "#Lets see data distribution again\n",
    "plt.figure(figsize=(12,8),facecolor='orange')\n",
    "graph=1\n",
    "\n",
    "for column in dataToPlot:\n",
    "    \n",
    "    if graph<=12:\n",
    "        ax=plt.subplot(3,4,graph)        \n",
    "        sns.boxplot(dataToPlot[column])\n",
    "        plt.xlabel(column,fontsize=11)\n",
    "        \n",
    "    graph+=1   \n",
    "    \n",
    "plt.tight_layout()"
   ]
  },
  {
   "cell_type": "markdown",
   "id": "8ec738e2",
   "metadata": {},
   "source": [
    "We see that almost all the columns have reduced the outliers but total sulfar dioxide still has outliers, let apply IRQ on these but we should make sure that we should not have much data loss."
   ]
  },
  {
   "cell_type": "code",
   "execution_count": 307,
   "id": "b888c712",
   "metadata": {},
   "outputs": [],
   "source": [
    "df_new.rename(columns={\"total sulfur dioxide\": \"total_sulfur_dioxide\"}, errors=\"raise\",inplace=True)"
   ]
  },
  {
   "cell_type": "code",
   "execution_count": 308,
   "id": "7201f103",
   "metadata": {},
   "outputs": [
    {
     "data": {
      "text/html": [
       "<div>\n",
       "<style scoped>\n",
       "    .dataframe tbody tr th:only-of-type {\n",
       "        vertical-align: middle;\n",
       "    }\n",
       "\n",
       "    .dataframe tbody tr th {\n",
       "        vertical-align: top;\n",
       "    }\n",
       "\n",
       "    .dataframe thead th {\n",
       "        text-align: right;\n",
       "    }\n",
       "</style>\n",
       "<table border=\"1\" class=\"dataframe\">\n",
       "  <thead>\n",
       "    <tr style=\"text-align: right;\">\n",
       "      <th></th>\n",
       "      <th>fixed acidity</th>\n",
       "      <th>citric acid</th>\n",
       "      <th>free sulfur dioxide</th>\n",
       "      <th>total_sulfur_dioxide</th>\n",
       "      <th>pH</th>\n",
       "      <th>sulphates</th>\n",
       "      <th>alcohol</th>\n",
       "      <th>quality</th>\n",
       "    </tr>\n",
       "  </thead>\n",
       "  <tbody>\n",
       "    <tr>\n",
       "      <th>1</th>\n",
       "      <td>7.8</td>\n",
       "      <td>0.00</td>\n",
       "      <td>25.0</td>\n",
       "      <td>67.0</td>\n",
       "      <td>3.20</td>\n",
       "      <td>0.68</td>\n",
       "      <td>9.8</td>\n",
       "      <td>5</td>\n",
       "    </tr>\n",
       "    <tr>\n",
       "      <th>2</th>\n",
       "      <td>7.8</td>\n",
       "      <td>0.04</td>\n",
       "      <td>15.0</td>\n",
       "      <td>54.0</td>\n",
       "      <td>3.26</td>\n",
       "      <td>0.65</td>\n",
       "      <td>9.8</td>\n",
       "      <td>5</td>\n",
       "    </tr>\n",
       "  </tbody>\n",
       "</table>\n",
       "</div>"
      ],
      "text/plain": [
       "   fixed acidity  citric acid  free sulfur dioxide  total_sulfur_dioxide  \\\n",
       "1            7.8         0.00                 25.0                  67.0   \n",
       "2            7.8         0.04                 15.0                  54.0   \n",
       "\n",
       "     pH  sulphates  alcohol  quality  \n",
       "1  3.20       0.68      9.8        5  \n",
       "2  3.26       0.65      9.8        5  "
      ]
     },
     "execution_count": 308,
     "metadata": {},
     "output_type": "execute_result"
    }
   ],
   "source": [
    "df_new.head(2)"
   ]
  },
  {
   "cell_type": "code",
   "execution_count": 309,
   "id": "c7a9ceb2",
   "metadata": {},
   "outputs": [],
   "source": [
    "# Find IQR to identify Outliers\n",
    "# 1st Quantile\n",
    "q1=df_new.quantile(0.25)\n",
    "\n",
    "# 2nd Quantile\n",
    "q3=df_new.quantile(0.75)\n",
    "\n",
    "\n",
    "iqr=q3-q1\n"
   ]
  },
  {
   "cell_type": "code",
   "execution_count": 310,
   "id": "dc37526b",
   "metadata": {},
   "outputs": [
    {
     "data": {
      "text/plain": [
       "fixed acidity            2.10\n",
       "citric acid              0.33\n",
       "free sulfur dioxide     14.00\n",
       "total_sulfur_dioxide    39.00\n",
       "pH                       0.19\n",
       "sulphates                0.17\n",
       "alcohol                  1.60\n",
       "quality                  1.00\n",
       "dtype: float64"
      ]
     },
     "execution_count": 310,
     "metadata": {},
     "output_type": "execute_result"
    }
   ],
   "source": [
    "iqr"
   ]
  },
  {
   "cell_type": "markdown",
   "id": "9b257cc3",
   "metadata": {},
   "source": [
    "Now lets check for total_sulfur_dioxide"
   ]
  },
  {
   "cell_type": "code",
   "execution_count": 311,
   "id": "9b004de8",
   "metadata": {},
   "outputs": [
    {
     "data": {
      "text/plain": [
       "118.5"
      ]
     },
     "execution_count": 311,
     "metadata": {},
     "output_type": "execute_result"
    }
   ],
   "source": [
    "total_sulfur_dioxide_high=(q3.total_sulfur_dioxide)+(1.5*iqr.total_sulfur_dioxide)\n",
    "total_sulfur_dioxide_high"
   ]
  },
  {
   "cell_type": "code",
   "execution_count": 312,
   "id": "11093b71",
   "metadata": {},
   "outputs": [
    {
     "data": {
      "text/plain": [
       "(array([  43,   66,   73,  104,  114,  121,  122,  128,  129,  149,  150,\n",
       "         151,  153,  155,  161,  166,  174,  178,  204,  253,  335,  336,\n",
       "         338,  375,  422,  423,  451,  513,  514,  554,  555,  594,  618,\n",
       "         619,  633,  635,  683,  779,  951, 1113, 1127, 1189, 1245],\n",
       "       dtype=int64),)"
      ]
     },
     "execution_count": 312,
     "metadata": {},
     "output_type": "execute_result"
    }
   ],
   "source": [
    "# Check the Index which has High Values\n",
    "index= np.where(df_new['total_sulfur_dioxide']>total_sulfur_dioxide_high)\n",
    "index"
   ]
  },
  {
   "cell_type": "code",
   "execution_count": 313,
   "id": "1aad008e",
   "metadata": {},
   "outputs": [
    {
     "data": {
      "text/plain": [
       "0.9749999999999999"
      ]
     },
     "execution_count": 313,
     "metadata": {},
     "output_type": "execute_result"
    }
   ],
   "source": [
    "sulphates_high=(q3.sulphates)+(1.5*iqr.sulphates)\n",
    "sulphates_high"
   ]
  },
  {
   "cell_type": "code",
   "execution_count": 314,
   "id": "7713f428",
   "metadata": {},
   "outputs": [
    {
     "data": {
      "text/plain": [
       "(array([  13,   66,   69,  126,  142,  161,  193,  224,  274,  282,  301,\n",
       "         304,  305,  306,  336,  365,  387,  392,  393,  408,  409,  411,\n",
       "         422,  472,  551,  553,  604,  683,  754,  927,  933,  934, 1009,\n",
       "        1032, 1088, 1089, 1115, 1118], dtype=int64),)"
      ]
     },
     "execution_count": 314,
     "metadata": {},
     "output_type": "execute_result"
    }
   ],
   "source": [
    "# Check the Index which has High Values\n",
    "index= np.where(df_new['sulphates']>sulphates_high)\n",
    "index"
   ]
  },
  {
   "cell_type": "markdown",
   "id": "d515fc64",
   "metadata": {},
   "source": [
    "So,we have less number of data are outliers and if we drop them, then surely we will have an increase in data loss which we cant afford. So lets keep these column and train it"
   ]
  },
  {
   "cell_type": "code",
   "execution_count": 315,
   "id": "63946181",
   "metadata": {},
   "outputs": [
    {
     "data": {
      "text/html": [
       "<div>\n",
       "<style scoped>\n",
       "    .dataframe tbody tr th:only-of-type {\n",
       "        vertical-align: middle;\n",
       "    }\n",
       "\n",
       "    .dataframe tbody tr th {\n",
       "        vertical-align: top;\n",
       "    }\n",
       "\n",
       "    .dataframe thead th {\n",
       "        text-align: right;\n",
       "    }\n",
       "</style>\n",
       "<table border=\"1\" class=\"dataframe\">\n",
       "  <thead>\n",
       "    <tr style=\"text-align: right;\">\n",
       "      <th></th>\n",
       "      <th>fixed acidity</th>\n",
       "      <th>citric acid</th>\n",
       "      <th>free sulfur dioxide</th>\n",
       "      <th>total_sulfur_dioxide</th>\n",
       "      <th>pH</th>\n",
       "      <th>sulphates</th>\n",
       "      <th>alcohol</th>\n",
       "      <th>quality</th>\n",
       "    </tr>\n",
       "  </thead>\n",
       "  <tbody>\n",
       "    <tr>\n",
       "      <th>1</th>\n",
       "      <td>7.8</td>\n",
       "      <td>0.0</td>\n",
       "      <td>25.0</td>\n",
       "      <td>67.0</td>\n",
       "      <td>3.2</td>\n",
       "      <td>0.68</td>\n",
       "      <td>9.8</td>\n",
       "      <td>5</td>\n",
       "    </tr>\n",
       "  </tbody>\n",
       "</table>\n",
       "</div>"
      ],
      "text/plain": [
       "   fixed acidity  citric acid  free sulfur dioxide  total_sulfur_dioxide   pH  \\\n",
       "1            7.8          0.0                 25.0                  67.0  3.2   \n",
       "\n",
       "   sulphates  alcohol  quality  \n",
       "1       0.68      9.8        5  "
      ]
     },
     "execution_count": 315,
     "metadata": {},
     "output_type": "execute_result"
    }
   ],
   "source": [
    "df_new.head(1)"
   ]
  },
  {
   "cell_type": "markdown",
   "id": "63aacd28",
   "metadata": {},
   "source": [
    "# Transforming data to remove skewness"
   ]
  },
  {
   "cell_type": "code",
   "execution_count": 316,
   "id": "c4084c52",
   "metadata": {},
   "outputs": [],
   "source": [
    "#Lets divide the data into features and vectors \n",
    "#Features into x\n",
    "x=df_new.iloc[:,:-1]\n",
    "\n",
    "#Vector in y\n",
    "y=df_new.iloc[:,-1]"
   ]
  },
  {
   "cell_type": "code",
   "execution_count": 317,
   "id": "dea034e6",
   "metadata": {},
   "outputs": [],
   "source": [
    "from sklearn.preprocessing import power_transform\n",
    "x=power_transform(x,method='yeo-johnson')"
   ]
  },
  {
   "cell_type": "markdown",
   "id": "1e7832a8",
   "metadata": {},
   "source": [
    "x"
   ]
  },
  {
   "cell_type": "code",
   "execution_count": 318,
   "id": "405e711a",
   "metadata": {},
   "outputs": [
    {
     "data": {
      "text/plain": [
       "fixed acidity           0.797385\n",
       "citric acid             0.275283\n",
       "free sulfur dioxide     0.853409\n",
       "total_sulfur_dioxide    1.128598\n",
       "pH                      0.083699\n",
       "sulphates               1.068763\n",
       "alcohol                 0.774377\n",
       "quality                 0.396026\n",
       "dtype: float64"
      ]
     },
     "execution_count": 318,
     "metadata": {},
     "output_type": "execute_result"
    }
   ],
   "source": [
    "df_new.skew()"
   ]
  },
  {
   "cell_type": "code",
   "execution_count": 325,
   "id": "b1a22e77",
   "metadata": {},
   "outputs": [
    {
     "data": {
      "text/html": [
       "<div>\n",
       "<style scoped>\n",
       "    .dataframe tbody tr th:only-of-type {\n",
       "        vertical-align: middle;\n",
       "    }\n",
       "\n",
       "    .dataframe tbody tr th {\n",
       "        vertical-align: top;\n",
       "    }\n",
       "\n",
       "    .dataframe thead th {\n",
       "        text-align: right;\n",
       "    }\n",
       "</style>\n",
       "<table border=\"1\" class=\"dataframe\">\n",
       "  <thead>\n",
       "    <tr style=\"text-align: right;\">\n",
       "      <th></th>\n",
       "      <th>fixed acidity</th>\n",
       "      <th>citric acid</th>\n",
       "      <th>free sulfur dioxide</th>\n",
       "      <th>total sulfur dioxide</th>\n",
       "      <th>pH</th>\n",
       "      <th>sulphates</th>\n",
       "      <th>alcohol</th>\n",
       "    </tr>\n",
       "  </thead>\n",
       "  <tbody>\n",
       "    <tr>\n",
       "      <th>1</th>\n",
       "      <td>7.8</td>\n",
       "      <td>0.00</td>\n",
       "      <td>25.0</td>\n",
       "      <td>67.0</td>\n",
       "      <td>3.20</td>\n",
       "      <td>0.68</td>\n",
       "      <td>9.8</td>\n",
       "    </tr>\n",
       "    <tr>\n",
       "      <th>2</th>\n",
       "      <td>7.8</td>\n",
       "      <td>0.04</td>\n",
       "      <td>15.0</td>\n",
       "      <td>54.0</td>\n",
       "      <td>3.26</td>\n",
       "      <td>0.65</td>\n",
       "      <td>9.8</td>\n",
       "    </tr>\n",
       "    <tr>\n",
       "      <th>3</th>\n",
       "      <td>11.2</td>\n",
       "      <td>0.56</td>\n",
       "      <td>17.0</td>\n",
       "      <td>60.0</td>\n",
       "      <td>3.16</td>\n",
       "      <td>0.58</td>\n",
       "      <td>9.8</td>\n",
       "    </tr>\n",
       "    <tr>\n",
       "      <th>4</th>\n",
       "      <td>7.4</td>\n",
       "      <td>0.00</td>\n",
       "      <td>11.0</td>\n",
       "      <td>34.0</td>\n",
       "      <td>3.51</td>\n",
       "      <td>0.56</td>\n",
       "      <td>9.4</td>\n",
       "    </tr>\n",
       "    <tr>\n",
       "      <th>5</th>\n",
       "      <td>7.4</td>\n",
       "      <td>0.00</td>\n",
       "      <td>13.0</td>\n",
       "      <td>40.0</td>\n",
       "      <td>3.51</td>\n",
       "      <td>0.56</td>\n",
       "      <td>9.4</td>\n",
       "    </tr>\n",
       "    <tr>\n",
       "      <th>...</th>\n",
       "      <td>...</td>\n",
       "      <td>...</td>\n",
       "      <td>...</td>\n",
       "      <td>...</td>\n",
       "      <td>...</td>\n",
       "      <td>...</td>\n",
       "      <td>...</td>\n",
       "    </tr>\n",
       "    <tr>\n",
       "      <th>1594</th>\n",
       "      <td>6.2</td>\n",
       "      <td>0.08</td>\n",
       "      <td>32.0</td>\n",
       "      <td>44.0</td>\n",
       "      <td>3.45</td>\n",
       "      <td>0.58</td>\n",
       "      <td>10.5</td>\n",
       "    </tr>\n",
       "    <tr>\n",
       "      <th>1595</th>\n",
       "      <td>5.9</td>\n",
       "      <td>0.10</td>\n",
       "      <td>39.0</td>\n",
       "      <td>51.0</td>\n",
       "      <td>3.52</td>\n",
       "      <td>0.76</td>\n",
       "      <td>11.2</td>\n",
       "    </tr>\n",
       "    <tr>\n",
       "      <th>1596</th>\n",
       "      <td>6.3</td>\n",
       "      <td>0.13</td>\n",
       "      <td>29.0</td>\n",
       "      <td>40.0</td>\n",
       "      <td>3.42</td>\n",
       "      <td>0.75</td>\n",
       "      <td>11.0</td>\n",
       "    </tr>\n",
       "    <tr>\n",
       "      <th>1597</th>\n",
       "      <td>5.9</td>\n",
       "      <td>0.12</td>\n",
       "      <td>32.0</td>\n",
       "      <td>44.0</td>\n",
       "      <td>3.57</td>\n",
       "      <td>0.71</td>\n",
       "      <td>10.2</td>\n",
       "    </tr>\n",
       "    <tr>\n",
       "      <th>1598</th>\n",
       "      <td>6.0</td>\n",
       "      <td>0.47</td>\n",
       "      <td>18.0</td>\n",
       "      <td>42.0</td>\n",
       "      <td>3.39</td>\n",
       "      <td>0.66</td>\n",
       "      <td>11.0</td>\n",
       "    </tr>\n",
       "  </tbody>\n",
       "</table>\n",
       "<p>1359 rows × 7 columns</p>\n",
       "</div>"
      ],
      "text/plain": [
       "      fixed acidity  citric acid  free sulfur dioxide  total sulfur dioxide  \\\n",
       "1               7.8         0.00                 25.0                  67.0   \n",
       "2               7.8         0.04                 15.0                  54.0   \n",
       "3              11.2         0.56                 17.0                  60.0   \n",
       "4               7.4         0.00                 11.0                  34.0   \n",
       "5               7.4         0.00                 13.0                  40.0   \n",
       "...             ...          ...                  ...                   ...   \n",
       "1594            6.2         0.08                 32.0                  44.0   \n",
       "1595            5.9         0.10                 39.0                  51.0   \n",
       "1596            6.3         0.13                 29.0                  40.0   \n",
       "1597            5.9         0.12                 32.0                  44.0   \n",
       "1598            6.0         0.47                 18.0                  42.0   \n",
       "\n",
       "        pH  sulphates  alcohol  \n",
       "1     3.20       0.68      9.8  \n",
       "2     3.26       0.65      9.8  \n",
       "3     3.16       0.58      9.8  \n",
       "4     3.51       0.56      9.4  \n",
       "5     3.51       0.56      9.4  \n",
       "...    ...        ...      ...  \n",
       "1594  3.45       0.58     10.5  \n",
       "1595  3.52       0.76     11.2  \n",
       "1596  3.42       0.75     11.0  \n",
       "1597  3.57       0.71     10.2  \n",
       "1598  3.39       0.66     11.0  \n",
       "\n",
       "[1359 rows x 7 columns]"
      ]
     },
     "execution_count": 325,
     "metadata": {},
     "output_type": "execute_result"
    }
   ],
   "source": [
    "X_vif=df.drop(columns=['quality'])\n",
    "X_vif"
   ]
  },
  {
   "cell_type": "markdown",
   "id": "7c0f4286",
   "metadata": {},
   "source": [
    "So we can see that from earlier skewness values, this time the values are better than previous ones"
   ]
  },
  {
   "cell_type": "markdown",
   "id": "4d12176c",
   "metadata": {},
   "source": [
    "# Standard Scalar"
   ]
  },
  {
   "cell_type": "code",
   "execution_count": 319,
   "id": "43e88396",
   "metadata": {},
   "outputs": [],
   "source": [
    "from sklearn.preprocessing import StandardScaler\n",
    "sc=StandardScaler()\n",
    "\n",
    "x=sc.fit_transform(x)"
   ]
  },
  {
   "cell_type": "code",
   "execution_count": 320,
   "id": "222387b6",
   "metadata": {},
   "outputs": [],
   "source": [
    "# Finding variance Inflation factor in each scaled column i.e x.shape[1] (1/(1-R2)\n",
    "# Age and Expereince, you can predict Salary, so Multi colinearity problem is there\n",
    "# Thats why we first use Standard Scaler to standardise the data and then use vif"
   ]
  },
  {
   "cell_type": "code",
   "execution_count": 326,
   "id": "35057e4e",
   "metadata": {},
   "outputs": [
    {
     "data": {
      "text/html": [
       "<div>\n",
       "<style scoped>\n",
       "    .dataframe tbody tr th:only-of-type {\n",
       "        vertical-align: middle;\n",
       "    }\n",
       "\n",
       "    .dataframe tbody tr th {\n",
       "        vertical-align: top;\n",
       "    }\n",
       "\n",
       "    .dataframe thead th {\n",
       "        text-align: right;\n",
       "    }\n",
       "</style>\n",
       "<table border=\"1\" class=\"dataframe\">\n",
       "  <thead>\n",
       "    <tr style=\"text-align: right;\">\n",
       "      <th></th>\n",
       "      <th>vif</th>\n",
       "      <th>features</th>\n",
       "    </tr>\n",
       "  </thead>\n",
       "  <tbody>\n",
       "    <tr>\n",
       "      <th>0</th>\n",
       "      <td>2.668251</td>\n",
       "      <td>fixed acidity</td>\n",
       "    </tr>\n",
       "    <tr>\n",
       "      <th>1</th>\n",
       "      <td>2.047928</td>\n",
       "      <td>citric acid</td>\n",
       "    </tr>\n",
       "    <tr>\n",
       "      <th>2</th>\n",
       "      <td>2.704584</td>\n",
       "      <td>free sulfur dioxide</td>\n",
       "    </tr>\n",
       "    <tr>\n",
       "      <th>3</th>\n",
       "      <td>2.968676</td>\n",
       "      <td>total sulfur dioxide</td>\n",
       "    </tr>\n",
       "    <tr>\n",
       "      <th>4</th>\n",
       "      <td>2.220384</td>\n",
       "      <td>pH</td>\n",
       "    </tr>\n",
       "    <tr>\n",
       "      <th>5</th>\n",
       "      <td>1.184638</td>\n",
       "      <td>sulphates</td>\n",
       "    </tr>\n",
       "    <tr>\n",
       "      <th>6</th>\n",
       "      <td>1.316835</td>\n",
       "      <td>alcohol</td>\n",
       "    </tr>\n",
       "  </tbody>\n",
       "</table>\n",
       "</div>"
      ],
      "text/plain": [
       "        vif              features\n",
       "0  2.668251         fixed acidity\n",
       "1  2.047928           citric acid\n",
       "2  2.704584   free sulfur dioxide\n",
       "3  2.968676  total sulfur dioxide\n",
       "4  2.220384                    pH\n",
       "5  1.184638             sulphates\n",
       "6  1.316835               alcohol"
      ]
     },
     "execution_count": 326,
     "metadata": {},
     "output_type": "execute_result"
    }
   ],
   "source": [
    "from statsmodels.stats.outliers_influence import variance_inflation_factor\n",
    "vif=pd.DataFrame()\n",
    "vif['vif']=[variance_inflation_factor(x,i) for i in range(x.shape[1])]\n",
    "vif['features']=X_vif.columns\n",
    "\n",
    "# Let's check the values now\n",
    "vif"
   ]
  },
  {
   "cell_type": "markdown",
   "id": "2543179e",
   "metadata": {},
   "source": [
    "All the vif features are less than 5, it means no multicolinearity.Now we can move ahead filing our data to the model.Before that, lets split the data in test and training data"
   ]
  },
  {
   "cell_type": "markdown",
   "id": "f70403d1",
   "metadata": {},
   "source": [
    "Now that we have cdone with Standard Scalar, lets rename the values in Quality column to Good and Not Good as stated in our problem statement and analyse further"
   ]
  },
  {
   "cell_type": "code",
   "execution_count": 327,
   "id": "bdf2e1f0",
   "metadata": {},
   "outputs": [],
   "source": [
    "#Now lets change the names of Quality according to the Problem Statement\n",
    "\n",
    "df_new['quality'] = df_new['quality'].map({3 : 'Not Good', 4 :'Not Good', 5: 'Not Good',\n",
    "                                      6: 'Good', 7: 'Good', 8: 'Good'})"
   ]
  },
  {
   "cell_type": "code",
   "execution_count": 328,
   "id": "22253124",
   "metadata": {
    "scrolled": true
   },
   "outputs": [
    {
     "data": {
      "text/html": [
       "<div>\n",
       "<style scoped>\n",
       "    .dataframe tbody tr th:only-of-type {\n",
       "        vertical-align: middle;\n",
       "    }\n",
       "\n",
       "    .dataframe tbody tr th {\n",
       "        vertical-align: top;\n",
       "    }\n",
       "\n",
       "    .dataframe thead th {\n",
       "        text-align: right;\n",
       "    }\n",
       "</style>\n",
       "<table border=\"1\" class=\"dataframe\">\n",
       "  <thead>\n",
       "    <tr style=\"text-align: right;\">\n",
       "      <th></th>\n",
       "      <th>fixed acidity</th>\n",
       "      <th>citric acid</th>\n",
       "      <th>free sulfur dioxide</th>\n",
       "      <th>total_sulfur_dioxide</th>\n",
       "      <th>pH</th>\n",
       "      <th>sulphates</th>\n",
       "      <th>alcohol</th>\n",
       "      <th>quality</th>\n",
       "    </tr>\n",
       "  </thead>\n",
       "  <tbody>\n",
       "    <tr>\n",
       "      <th>1</th>\n",
       "      <td>7.8</td>\n",
       "      <td>0.00</td>\n",
       "      <td>25.0</td>\n",
       "      <td>67.0</td>\n",
       "      <td>3.20</td>\n",
       "      <td>0.68</td>\n",
       "      <td>9.8</td>\n",
       "      <td>Not Good</td>\n",
       "    </tr>\n",
       "    <tr>\n",
       "      <th>2</th>\n",
       "      <td>7.8</td>\n",
       "      <td>0.04</td>\n",
       "      <td>15.0</td>\n",
       "      <td>54.0</td>\n",
       "      <td>3.26</td>\n",
       "      <td>0.65</td>\n",
       "      <td>9.8</td>\n",
       "      <td>Not Good</td>\n",
       "    </tr>\n",
       "    <tr>\n",
       "      <th>3</th>\n",
       "      <td>11.2</td>\n",
       "      <td>0.56</td>\n",
       "      <td>17.0</td>\n",
       "      <td>60.0</td>\n",
       "      <td>3.16</td>\n",
       "      <td>0.58</td>\n",
       "      <td>9.8</td>\n",
       "      <td>Good</td>\n",
       "    </tr>\n",
       "    <tr>\n",
       "      <th>4</th>\n",
       "      <td>7.4</td>\n",
       "      <td>0.00</td>\n",
       "      <td>11.0</td>\n",
       "      <td>34.0</td>\n",
       "      <td>3.51</td>\n",
       "      <td>0.56</td>\n",
       "      <td>9.4</td>\n",
       "      <td>Not Good</td>\n",
       "    </tr>\n",
       "    <tr>\n",
       "      <th>5</th>\n",
       "      <td>7.4</td>\n",
       "      <td>0.00</td>\n",
       "      <td>13.0</td>\n",
       "      <td>40.0</td>\n",
       "      <td>3.51</td>\n",
       "      <td>0.56</td>\n",
       "      <td>9.4</td>\n",
       "      <td>Not Good</td>\n",
       "    </tr>\n",
       "    <tr>\n",
       "      <th>...</th>\n",
       "      <td>...</td>\n",
       "      <td>...</td>\n",
       "      <td>...</td>\n",
       "      <td>...</td>\n",
       "      <td>...</td>\n",
       "      <td>...</td>\n",
       "      <td>...</td>\n",
       "      <td>...</td>\n",
       "    </tr>\n",
       "    <tr>\n",
       "      <th>1594</th>\n",
       "      <td>6.2</td>\n",
       "      <td>0.08</td>\n",
       "      <td>32.0</td>\n",
       "      <td>44.0</td>\n",
       "      <td>3.45</td>\n",
       "      <td>0.58</td>\n",
       "      <td>10.5</td>\n",
       "      <td>Not Good</td>\n",
       "    </tr>\n",
       "    <tr>\n",
       "      <th>1595</th>\n",
       "      <td>5.9</td>\n",
       "      <td>0.10</td>\n",
       "      <td>39.0</td>\n",
       "      <td>51.0</td>\n",
       "      <td>3.52</td>\n",
       "      <td>0.76</td>\n",
       "      <td>11.2</td>\n",
       "      <td>Good</td>\n",
       "    </tr>\n",
       "    <tr>\n",
       "      <th>1596</th>\n",
       "      <td>6.3</td>\n",
       "      <td>0.13</td>\n",
       "      <td>29.0</td>\n",
       "      <td>40.0</td>\n",
       "      <td>3.42</td>\n",
       "      <td>0.75</td>\n",
       "      <td>11.0</td>\n",
       "      <td>Good</td>\n",
       "    </tr>\n",
       "    <tr>\n",
       "      <th>1597</th>\n",
       "      <td>5.9</td>\n",
       "      <td>0.12</td>\n",
       "      <td>32.0</td>\n",
       "      <td>44.0</td>\n",
       "      <td>3.57</td>\n",
       "      <td>0.71</td>\n",
       "      <td>10.2</td>\n",
       "      <td>Not Good</td>\n",
       "    </tr>\n",
       "    <tr>\n",
       "      <th>1598</th>\n",
       "      <td>6.0</td>\n",
       "      <td>0.47</td>\n",
       "      <td>18.0</td>\n",
       "      <td>42.0</td>\n",
       "      <td>3.39</td>\n",
       "      <td>0.66</td>\n",
       "      <td>11.0</td>\n",
       "      <td>Good</td>\n",
       "    </tr>\n",
       "  </tbody>\n",
       "</table>\n",
       "<p>1278 rows × 8 columns</p>\n",
       "</div>"
      ],
      "text/plain": [
       "      fixed acidity  citric acid  free sulfur dioxide  total_sulfur_dioxide  \\\n",
       "1               7.8         0.00                 25.0                  67.0   \n",
       "2               7.8         0.04                 15.0                  54.0   \n",
       "3              11.2         0.56                 17.0                  60.0   \n",
       "4               7.4         0.00                 11.0                  34.0   \n",
       "5               7.4         0.00                 13.0                  40.0   \n",
       "...             ...          ...                  ...                   ...   \n",
       "1594            6.2         0.08                 32.0                  44.0   \n",
       "1595            5.9         0.10                 39.0                  51.0   \n",
       "1596            6.3         0.13                 29.0                  40.0   \n",
       "1597            5.9         0.12                 32.0                  44.0   \n",
       "1598            6.0         0.47                 18.0                  42.0   \n",
       "\n",
       "        pH  sulphates  alcohol   quality  \n",
       "1     3.20       0.68      9.8  Not Good  \n",
       "2     3.26       0.65      9.8  Not Good  \n",
       "3     3.16       0.58      9.8      Good  \n",
       "4     3.51       0.56      9.4  Not Good  \n",
       "5     3.51       0.56      9.4  Not Good  \n",
       "...    ...        ...      ...       ...  \n",
       "1594  3.45       0.58     10.5  Not Good  \n",
       "1595  3.52       0.76     11.2      Good  \n",
       "1596  3.42       0.75     11.0      Good  \n",
       "1597  3.57       0.71     10.2  Not Good  \n",
       "1598  3.39       0.66     11.0      Good  \n",
       "\n",
       "[1278 rows x 8 columns]"
      ]
     },
     "execution_count": 328,
     "metadata": {},
     "output_type": "execute_result"
    }
   ],
   "source": [
    "df_new"
   ]
  },
  {
   "cell_type": "code",
   "execution_count": 329,
   "id": "8230f3f4",
   "metadata": {},
   "outputs": [
    {
     "data": {
      "text/plain": [
       "Good        680\n",
       "Not Good    598\n",
       "Name: quality, dtype: int64"
      ]
     },
     "execution_count": 329,
     "metadata": {},
     "output_type": "execute_result"
    }
   ],
   "source": [
    "# analyzing the different values present in the dependent variable(quality column)\n",
    "df_new['quality'].value_counts()"
   ]
  },
  {
   "cell_type": "markdown",
   "id": "e8a0ea9a",
   "metadata": {},
   "source": [
    "The dataset is quite Balanced and there are no complains of Imbalanced Dataset"
   ]
  },
  {
   "cell_type": "code",
   "execution_count": 330,
   "id": "138b0bbf",
   "metadata": {},
   "outputs": [
    {
     "data": {
      "text/plain": [
       "<AxesSubplot:xlabel='quality', ylabel='count'>"
      ]
     },
     "execution_count": 330,
     "metadata": {},
     "output_type": "execute_result"
    },
    {
     "data": {
      "image/png": "[encoded data removed]",
      "text/plain": [
       "<Figure size 432x288 with 1 Axes>"
      ]
     },
     "metadata": {
      "needs_background": "light"
     },
     "output_type": "display_data"
    }
   ],
   "source": [
    "#Lets plot the Not Good and Good quality wines\n",
    "sns.countplot(df_new['quality'])"
   ]
  },
  {
   "cell_type": "code",
   "execution_count": 331,
   "id": "2897bab5",
   "metadata": {},
   "outputs": [
    {
     "name": "stdout",
     "output_type": "stream",
     "text": [
      "<class 'pandas.core.frame.DataFrame'>\n",
      "Int64Index: 1278 entries, 1 to 1598\n",
      "Data columns (total 8 columns):\n",
      " #   Column                Non-Null Count  Dtype  \n",
      "---  ------                --------------  -----  \n",
      " 0   fixed acidity         1278 non-null   float64\n",
      " 1   citric acid           1278 non-null   float64\n",
      " 2   free sulfur dioxide   1278 non-null   float64\n",
      " 3   total_sulfur_dioxide  1278 non-null   float64\n",
      " 4   pH                    1278 non-null   float64\n",
      " 5   sulphates             1278 non-null   float64\n",
      " 6   alcohol               1278 non-null   float64\n",
      " 7   quality               1278 non-null   object \n",
      "dtypes: float64(7), object(1)\n",
      "memory usage: 122.1+ KB\n"
     ]
    }
   ],
   "source": [
    "df_new.info()"
   ]
  },
  {
   "cell_type": "markdown",
   "id": "881b9b7a",
   "metadata": {},
   "source": [
    "Now since quality is object datatype, we need to convert it to float datatype so that our model understands the data. So lets use LabelEncoder for the same."
   ]
  },
  {
   "cell_type": "markdown",
   "id": "d593b5f7",
   "metadata": {},
   "source": [
    "# LabelEncoder"
   ]
  },
  {
   "cell_type": "code",
   "execution_count": 332,
   "id": "7fa4da48",
   "metadata": {},
   "outputs": [
    {
     "data": {
      "text/plain": [
       "<bound method IndexOpsMixin.value_counts of 1       1\n",
       "2       1\n",
       "3       0\n",
       "4       1\n",
       "5       1\n",
       "       ..\n",
       "1594    1\n",
       "1595    0\n",
       "1596    0\n",
       "1597    1\n",
       "1598    0\n",
       "Name: quality, Length: 1278, dtype: int32>"
      ]
     },
     "execution_count": 332,
     "metadata": {},
     "output_type": "execute_result"
    }
   ],
   "source": [
    "from sklearn.preprocessing import LabelEncoder\n",
    "\n",
    "le = LabelEncoder()\n",
    "df_new['quality'] = le.fit_transform(df_new['quality'])\n",
    "\n",
    "df_new['quality'].value_counts"
   ]
  },
  {
   "cell_type": "code",
   "execution_count": 333,
   "id": "6bc92b69",
   "metadata": {},
   "outputs": [
    {
     "data": {
      "text/html": [
       "<div>\n",
       "<style scoped>\n",
       "    .dataframe tbody tr th:only-of-type {\n",
       "        vertical-align: middle;\n",
       "    }\n",
       "\n",
       "    .dataframe tbody tr th {\n",
       "        vertical-align: top;\n",
       "    }\n",
       "\n",
       "    .dataframe thead th {\n",
       "        text-align: right;\n",
       "    }\n",
       "</style>\n",
       "<table border=\"1\" class=\"dataframe\">\n",
       "  <thead>\n",
       "    <tr style=\"text-align: right;\">\n",
       "      <th></th>\n",
       "      <th>fixed acidity</th>\n",
       "      <th>citric acid</th>\n",
       "      <th>free sulfur dioxide</th>\n",
       "      <th>total_sulfur_dioxide</th>\n",
       "      <th>pH</th>\n",
       "      <th>sulphates</th>\n",
       "      <th>alcohol</th>\n",
       "      <th>quality</th>\n",
       "    </tr>\n",
       "  </thead>\n",
       "  <tbody>\n",
       "    <tr>\n",
       "      <th>1</th>\n",
       "      <td>7.8</td>\n",
       "      <td>0.00</td>\n",
       "      <td>25.0</td>\n",
       "      <td>67.0</td>\n",
       "      <td>3.20</td>\n",
       "      <td>0.68</td>\n",
       "      <td>9.8</td>\n",
       "      <td>1</td>\n",
       "    </tr>\n",
       "    <tr>\n",
       "      <th>2</th>\n",
       "      <td>7.8</td>\n",
       "      <td>0.04</td>\n",
       "      <td>15.0</td>\n",
       "      <td>54.0</td>\n",
       "      <td>3.26</td>\n",
       "      <td>0.65</td>\n",
       "      <td>9.8</td>\n",
       "      <td>1</td>\n",
       "    </tr>\n",
       "  </tbody>\n",
       "</table>\n",
       "</div>"
      ],
      "text/plain": [
       "   fixed acidity  citric acid  free sulfur dioxide  total_sulfur_dioxide  \\\n",
       "1            7.8         0.00                 25.0                  67.0   \n",
       "2            7.8         0.04                 15.0                  54.0   \n",
       "\n",
       "     pH  sulphates  alcohol  quality  \n",
       "1  3.20       0.68      9.8        1  \n",
       "2  3.26       0.65      9.8        1  "
      ]
     },
     "execution_count": 333,
     "metadata": {},
     "output_type": "execute_result"
    }
   ],
   "source": [
    "df_new.head(2)"
   ]
  },
  {
   "cell_type": "code",
   "execution_count": 334,
   "id": "b58d8b0e",
   "metadata": {},
   "outputs": [
    {
     "data": {
      "text/plain": [
       "Index(['fixed acidity', 'citric acid', 'free sulfur dioxide',\n",
       "       'total_sulfur_dioxide', 'pH', 'sulphates', 'alcohol', 'quality'],\n",
       "      dtype='object')"
      ]
     },
     "execution_count": 334,
     "metadata": {},
     "output_type": "execute_result"
    }
   ],
   "source": [
    "df_new.columns"
   ]
  },
  {
   "cell_type": "code",
   "execution_count": 335,
   "id": "427a5e6f",
   "metadata": {},
   "outputs": [
    {
     "data": {
      "text/plain": [
       "<AxesSubplot:xlabel='quality', ylabel='count'>"
      ]
     },
     "execution_count": 335,
     "metadata": {},
     "output_type": "execute_result"
    },
    {
     "data": {
      "image/png": "[encoded data removed]",
      "text/plain": [
       "<Figure size 432x288 with 1 Axes>"
      ]
     },
     "metadata": {
      "needs_background": "light"
     },
     "output_type": "display_data"
    }
   ],
   "source": [
    "#Dividing the wine quality by good and not good by limits\n",
    "sns.countplot(df_new['quality'])"
   ]
  },
  {
   "cell_type": "markdown",
   "id": "0a143097",
   "metadata": {},
   "source": [
    "# Dividing the dataset into Features and Target"
   ]
  },
  {
   "cell_type": "code",
   "execution_count": 336,
   "id": "68f74bb3",
   "metadata": {},
   "outputs": [
    {
     "name": "stdout",
     "output_type": "stream",
     "text": [
      "(1278, 7)\n",
      "(1278,)\n"
     ]
    }
   ],
   "source": [
    "features = df_new.iloc[:,:7]\n",
    "target = df_new.iloc[:,7]\n",
    "\n",
    "# determining the shape of x and y.\n",
    "print(features.shape)\n",
    "print(target.shape)"
   ]
  },
  {
   "cell_type": "markdown",
   "id": "f5f341f2",
   "metadata": {},
   "source": [
    "# Train-Test Split"
   ]
  },
  {
   "cell_type": "code",
   "execution_count": 337,
   "id": "7ff4db49",
   "metadata": {},
   "outputs": [],
   "source": [
    "from sklearn.model_selection import train_test_split\n",
    "from sklearn.linear_model import LogisticRegression\n",
    "\n",
    "lr=LogisticRegression()\n",
    "from sklearn.metrics import accuracy_score"
   ]
  },
  {
   "cell_type": "markdown",
   "id": "dbcb5552",
   "metadata": {},
   "source": [
    "Lets choose the random state first"
   ]
  },
  {
   "cell_type": "code",
   "execution_count": 338,
   "id": "8277ee05",
   "metadata": {},
   "outputs": [
    {
     "name": "stdout",
     "output_type": "stream",
     "text": [
      "At random state :  0 The model performs well !\n",
      "At random state 0\n",
      "Training Accuracy is  73.09197651663405\n",
      "Test Accuracy is  71.875\n",
      "At random state :  1 The model performs well !\n",
      "At random state 1\n",
      "Training Accuracy is  72.89628180039139\n",
      "Test Accuracy is  73.4375\n",
      "At random state :  2 The model performs well !\n",
      "At random state 2\n",
      "Training Accuracy is  72.6027397260274\n",
      "Test Accuracy is  74.609375\n",
      "At random state :  3 The model performs well !\n",
      "At random state 3\n",
      "Training Accuracy is  72.79843444227005\n",
      "Test Accuracy is  73.4375\n",
      "At random state :  4 The model performs well !\n",
      "At random state 4\n",
      "Training Accuracy is  71.81996086105676\n",
      "Test Accuracy is  75.78125\n",
      "At random state :  5 The model performs well !\n",
      "At random state 5\n",
      "Training Accuracy is  73.5812133072407\n",
      "Test Accuracy is  72.65625\n",
      "At random state :  6 The model performs well !\n",
      "At random state 6\n",
      "Training Accuracy is  72.30919765166341\n",
      "Test Accuracy is  73.828125\n",
      "At random state :  7 The model performs well !\n",
      "At random state 7\n",
      "Training Accuracy is  73.5812133072407\n",
      "Test Accuracy is  71.484375\n",
      "At random state :  8 The model performs well !\n",
      "At random state 8\n",
      "Training Accuracy is  73.5812133072407\n",
      "Test Accuracy is  70.703125\n",
      "At random state :  9 The model performs well !\n",
      "At random state 9\n",
      "Training Accuracy is  71.91780821917808\n",
      "Test Accuracy is  82.421875\n",
      "At random state :  10 The model performs well !\n",
      "At random state 10\n",
      "Training Accuracy is  73.8747553816047\n",
      "Test Accuracy is  72.65625\n",
      "At random state :  11 The model performs well !\n",
      "At random state 11\n",
      "Training Accuracy is  72.89628180039139\n",
      "Test Accuracy is  72.65625\n",
      "At random state :  12 The model performs well !\n",
      "At random state 12\n",
      "Training Accuracy is  72.11350293542075\n",
      "Test Accuracy is  74.609375\n",
      "At random state :  13 The model performs well !\n",
      "At random state 13\n",
      "Training Accuracy is  72.79843444227005\n",
      "Test Accuracy is  75.0\n",
      "At random state :  14 The model performs well !\n",
      "At random state 14\n",
      "Training Accuracy is  72.70058708414872\n",
      "Test Accuracy is  73.4375\n",
      "At random state :  15 The model performs well !\n",
      "At random state 15\n",
      "Training Accuracy is  73.5812133072407\n",
      "Test Accuracy is  70.703125\n",
      "At random state :  16 The model performs well !\n",
      "At random state 16\n",
      "Training Accuracy is  71.62426614481409\n",
      "Test Accuracy is  77.34375\n",
      "At random state :  17 The model performs well !\n",
      "At random state 17\n",
      "Training Accuracy is  72.79843444227005\n",
      "Test Accuracy is  74.21875\n",
      "At random state :  18 The model performs well !\n",
      "At random state 18\n",
      "Training Accuracy is  72.6027397260274\n",
      "Test Accuracy is  75.78125\n",
      "At random state :  19 The model performs well !\n",
      "At random state 19\n",
      "Training Accuracy is  73.09197651663405\n",
      "Test Accuracy is  73.828125\n",
      "At random state :  20 The model performs well !\n",
      "At random state 20\n",
      "Training Accuracy is  75.63600782778866\n",
      "Test Accuracy is  66.796875\n",
      "At random state :  21 The model performs well !\n",
      "At random state 21\n",
      "Training Accuracy is  73.18982387475538\n",
      "Test Accuracy is  74.21875\n",
      "At random state :  22 The model performs well !\n",
      "At random state 22\n",
      "Training Accuracy is  72.99412915851272\n",
      "Test Accuracy is  74.609375\n",
      "At random state :  23 The model performs well !\n",
      "At random state 23\n",
      "Training Accuracy is  73.09197651663405\n",
      "Test Accuracy is  73.4375\n",
      "At random state :  24 The model performs well !\n",
      "At random state 24\n",
      "Training Accuracy is  73.5812133072407\n",
      "Test Accuracy is  71.484375\n",
      "At random state :  25 The model performs well !\n",
      "At random state 25\n",
      "Training Accuracy is  73.18982387475538\n",
      "Test Accuracy is  72.265625\n",
      "At random state :  26 The model performs well !\n",
      "At random state 26\n",
      "Training Accuracy is  73.8747553816047\n",
      "Test Accuracy is  69.53125\n",
      "At random state :  27 The model performs well !\n",
      "At random state 27\n",
      "Training Accuracy is  73.09197651663405\n",
      "Test Accuracy is  73.4375\n",
      "At random state :  28 The model performs well !\n",
      "At random state 28\n",
      "Training Accuracy is  73.5812133072407\n",
      "Test Accuracy is  71.09375\n",
      "At random state :  29 The model performs well !\n",
      "At random state 29\n",
      "Training Accuracy is  72.40704500978474\n",
      "Test Accuracy is  74.609375\n",
      "At random state :  30 The model performs well !\n",
      "At random state 30\n",
      "Training Accuracy is  72.11350293542075\n",
      "Test Accuracy is  76.5625\n",
      "At random state :  31 The model performs well !\n",
      "At random state 31\n",
      "Training Accuracy is  72.89628180039139\n",
      "Test Accuracy is  73.046875\n",
      "At random state :  32 The model performs well !\n",
      "At random state 32\n",
      "Training Accuracy is  72.70058708414872\n",
      "Test Accuracy is  76.953125\n",
      "At random state :  33 The model performs well !\n",
      "At random state 33\n",
      "Training Accuracy is  73.8747553816047\n",
      "Test Accuracy is  68.359375\n",
      "At random state :  34 The model performs well !\n",
      "At random state 34\n",
      "Training Accuracy is  73.5812133072407\n",
      "Test Accuracy is  71.484375\n",
      "At random state :  35 The model performs well !\n",
      "At random state 35\n",
      "Training Accuracy is  72.01565557729941\n",
      "Test Accuracy is  75.390625\n",
      "At random state :  36 The model performs well !\n",
      "At random state 36\n",
      "Training Accuracy is  73.38551859099805\n",
      "Test Accuracy is  71.484375\n",
      "At random state :  37 The model performs well !\n",
      "At random state 37\n",
      "Training Accuracy is  73.09197651663405\n",
      "Test Accuracy is  76.5625\n",
      "At random state :  38 The model performs well !\n",
      "At random state 38\n",
      "Training Accuracy is  72.70058708414872\n",
      "Test Accuracy is  72.265625\n",
      "At random state :  39 The model performs well !\n",
      "At random state 39\n",
      "Training Accuracy is  72.79843444227005\n",
      "Test Accuracy is  74.609375\n",
      "At random state :  40 The model performs well !\n",
      "At random state 40\n",
      "Training Accuracy is  73.28767123287672\n",
      "Test Accuracy is  68.359375\n",
      "At random state :  41 The model performs well !\n",
      "At random state 41\n",
      "Training Accuracy is  71.72211350293543\n",
      "Test Accuracy is  78.90625\n",
      "At random state :  42 The model performs well !\n",
      "At random state 42\n",
      "Training Accuracy is  72.30919765166341\n",
      "Test Accuracy is  75.0\n",
      "At random state :  43 The model performs well !\n",
      "At random state 43\n",
      "Training Accuracy is  73.18982387475538\n",
      "Test Accuracy is  74.609375\n",
      "At random state :  44 The model performs well !\n",
      "At random state 44\n",
      "Training Accuracy is  74.36399217221134\n",
      "Test Accuracy is  69.140625\n",
      "At random state :  45 The model performs well !\n",
      "At random state 45\n",
      "Training Accuracy is  72.6027397260274\n",
      "Test Accuracy is  73.4375\n",
      "At random state :  46 The model performs well !\n",
      "At random state 46\n",
      "Training Accuracy is  74.07045009784736\n",
      "Test Accuracy is  70.703125\n",
      "At random state :  47 The model performs well !\n",
      "At random state 47\n",
      "Training Accuracy is  72.70058708414872\n",
      "Test Accuracy is  75.0\n",
      "At random state :  48 The model performs well !\n",
      "At random state 48\n",
      "Training Accuracy is  72.99412915851272\n",
      "Test Accuracy is  72.265625\n",
      "At random state :  49 The model performs well !\n",
      "At random state 49\n",
      "Training Accuracy is  73.09197651663405\n",
      "Test Accuracy is  72.65625\n",
      "At random state :  50 The model performs well !\n",
      "At random state 50\n",
      "Training Accuracy is  73.5812133072407\n",
      "Test Accuracy is  70.3125\n",
      "At random state :  51 The model performs well !\n",
      "At random state 51\n",
      "Training Accuracy is  72.21135029354208\n",
      "Test Accuracy is  76.5625\n",
      "At random state :  52 The model performs well !\n",
      "At random state 52\n",
      "Training Accuracy is  74.46183953033268\n",
      "Test Accuracy is  66.796875\n",
      "At random state :  53 The model performs well !\n",
      "At random state 53\n",
      "Training Accuracy is  73.18982387475538\n",
      "Test Accuracy is  74.21875\n",
      "At random state :  54 The model performs well !\n",
      "At random state 54\n",
      "Training Accuracy is  73.48336594911937\n",
      "Test Accuracy is  74.21875\n",
      "At random state :  55 The model performs well !\n",
      "At random state 55\n",
      "Training Accuracy is  73.38551859099805\n",
      "Test Accuracy is  72.265625\n",
      "At random state :  56 The model performs well !\n",
      "At random state 56\n",
      "Training Accuracy is  72.11350293542075\n",
      "Test Accuracy is  75.78125\n",
      "At random state :  57 The model performs well !\n",
      "At random state 57\n",
      "Training Accuracy is  72.11350293542075\n",
      "Test Accuracy is  78.515625\n",
      "At random state :  58 The model performs well !\n",
      "At random state 58\n",
      "Training Accuracy is  74.46183953033268\n",
      "Test Accuracy is  69.53125\n",
      "At random state :  59 The model performs well !\n",
      "At random state 59\n",
      "Training Accuracy is  74.75538160469667\n",
      "Test Accuracy is  66.796875\n",
      "At random state :  60 The model performs well !\n",
      "At random state 60\n",
      "Training Accuracy is  74.07045009784736\n",
      "Test Accuracy is  67.578125\n",
      "At random state :  61 The model performs well !\n",
      "At random state 61\n"
     ]
    },
    {
     "name": "stdout",
     "output_type": "stream",
     "text": [
      "Training Accuracy is  74.65753424657534\n",
      "Test Accuracy is  69.53125\n",
      "At random state :  62 The model performs well !\n",
      "At random state 62\n",
      "Training Accuracy is  72.79843444227005\n",
      "Test Accuracy is  72.265625\n",
      "At random state :  63 The model performs well !\n",
      "At random state 63\n",
      "Training Accuracy is  75.14677103718199\n",
      "Test Accuracy is  66.015625\n",
      "At random state :  64 The model performs well !\n",
      "At random state 64\n",
      "Training Accuracy is  73.28767123287672\n",
      "Test Accuracy is  71.875\n",
      "At random state :  65 The model performs well !\n",
      "At random state 65\n",
      "Training Accuracy is  71.81996086105676\n",
      "Test Accuracy is  79.296875\n",
      "At random state :  66 The model performs well !\n",
      "At random state 66\n",
      "Training Accuracy is  74.55968688845401\n",
      "Test Accuracy is  69.140625\n",
      "At random state :  67 The model performs well !\n",
      "At random state 67\n",
      "Training Accuracy is  73.67906066536204\n",
      "Test Accuracy is  70.703125\n",
      "At random state :  68 The model performs well !\n",
      "At random state 68\n",
      "Training Accuracy is  73.67906066536204\n",
      "Test Accuracy is  74.21875\n",
      "At random state :  69 The model performs well !\n",
      "At random state 69\n",
      "Training Accuracy is  72.89628180039139\n",
      "Test Accuracy is  73.4375\n",
      "At random state :  70 The model performs well !\n",
      "At random state 70\n",
      "Training Accuracy is  72.01565557729941\n",
      "Test Accuracy is  76.171875\n",
      "At random state :  71 The model performs well !\n",
      "At random state 71\n",
      "Training Accuracy is  72.79843444227005\n",
      "Test Accuracy is  73.4375\n",
      "At random state :  72 The model performs well !\n",
      "At random state 72\n",
      "Training Accuracy is  73.28767123287672\n",
      "Test Accuracy is  71.09375\n",
      "At random state :  73 The model performs well !\n",
      "At random state 73\n",
      "Training Accuracy is  73.8747553816047\n",
      "Test Accuracy is  71.875\n",
      "At random state :  74 The model performs well !\n",
      "At random state 74\n",
      "Training Accuracy is  71.23287671232876\n",
      "Test Accuracy is  78.125\n",
      "At random state :  75 The model performs well !\n",
      "At random state 75\n",
      "Training Accuracy is  72.6027397260274\n",
      "Test Accuracy is  73.4375\n",
      "At random state :  76 The model performs well !\n",
      "At random state 76\n",
      "Training Accuracy is  73.09197651663405\n",
      "Test Accuracy is  72.265625\n",
      "At random state :  77 The model performs well !\n",
      "At random state 77\n",
      "Training Accuracy is  71.91780821917808\n",
      "Test Accuracy is  74.609375\n",
      "At random state :  78 The model performs well !\n",
      "At random state 78\n",
      "Training Accuracy is  73.28767123287672\n",
      "Test Accuracy is  70.3125\n",
      "At random state :  79 The model performs well !\n",
      "At random state 79\n",
      "Training Accuracy is  72.21135029354208\n",
      "Test Accuracy is  75.78125\n",
      "At random state :  80 The model performs well !\n",
      "At random state 80\n",
      "Training Accuracy is  72.50489236790607\n",
      "Test Accuracy is  73.4375\n",
      "At random state :  81 The model performs well !\n",
      "At random state 81\n",
      "Training Accuracy is  74.07045009784736\n",
      "Test Accuracy is  69.53125\n",
      "At random state :  82 The model performs well !\n",
      "At random state 82\n",
      "Training Accuracy is  72.21135029354208\n",
      "Test Accuracy is  73.046875\n",
      "At random state :  83 The model performs well !\n",
      "At random state 83\n",
      "Training Accuracy is  73.38551859099805\n",
      "Test Accuracy is  72.265625\n",
      "At random state :  84 The model performs well !\n",
      "At random state 84\n",
      "Training Accuracy is  74.26614481409001\n",
      "Test Accuracy is  69.140625\n",
      "At random state :  85 The model performs well !\n",
      "At random state 85\n",
      "Training Accuracy is  73.8747553816047\n",
      "Test Accuracy is  71.875\n",
      "At random state :  86 The model performs well !\n",
      "At random state 86\n",
      "Training Accuracy is  72.40704500978474\n",
      "Test Accuracy is  72.65625\n",
      "At random state :  87 The model performs well !\n",
      "At random state 87\n",
      "Training Accuracy is  72.30919765166341\n",
      "Test Accuracy is  78.125\n",
      "At random state :  88 The model performs well !\n",
      "At random state 88\n",
      "Training Accuracy is  74.07045009784736\n",
      "Test Accuracy is  68.359375\n",
      "At random state :  89 The model performs well !\n",
      "At random state 89\n",
      "Training Accuracy is  72.99412915851272\n",
      "Test Accuracy is  73.046875\n",
      "At random state :  90 The model performs well !\n",
      "At random state 90\n",
      "Training Accuracy is  73.09197651663405\n",
      "Test Accuracy is  71.484375\n",
      "At random state :  91 The model performs well !\n",
      "At random state 91\n",
      "Training Accuracy is  73.48336594911937\n",
      "Test Accuracy is  72.65625\n",
      "At random state :  92 The model performs well !\n",
      "At random state 92\n",
      "Training Accuracy is  73.28767123287672\n",
      "Test Accuracy is  71.484375\n",
      "At random state :  93 The model performs well !\n",
      "At random state 93\n",
      "Training Accuracy is  72.79843444227005\n",
      "Test Accuracy is  73.046875\n",
      "At random state :  94 The model performs well !\n",
      "At random state 94\n",
      "Training Accuracy is  72.79843444227005\n",
      "Test Accuracy is  71.875\n",
      "At random state :  95 The model performs well !\n",
      "At random state 95\n",
      "Training Accuracy is  72.30919765166341\n",
      "Test Accuracy is  77.34375\n",
      "At random state :  96 The model performs well !\n",
      "At random state 96\n",
      "Training Accuracy is  73.48336594911937\n",
      "Test Accuracy is  71.484375\n",
      "At random state :  97 The model performs well !\n",
      "At random state 97\n",
      "Training Accuracy is  72.89628180039139\n",
      "Test Accuracy is  75.0\n",
      "At random state :  98 The model performs well !\n",
      "At random state 98\n",
      "Training Accuracy is  73.28767123287672\n",
      "Test Accuracy is  70.703125\n",
      "At random state :  99 The model performs well !\n",
      "At random state 99\n",
      "Training Accuracy is  73.97260273972603\n",
      "Test Accuracy is  73.046875\n"
     ]
    }
   ],
   "source": [
    "for i in range(0,100):\n",
    "    x_train, x_test, y_train, y_test=train_test_split(features,target,test_size=0.2,random_state=i)\n",
    "    lr.fit(x_train,y_train)\n",
    "    pred_train=lr.predict(x_train)\n",
    "    pred_test=lr.predict(x_test)\n",
    "    print(\"At random state : \",i,\"The model performs well !\")\n",
    "    print(\"At random state\",i)\n",
    "    print(\"Training Accuracy is \",accuracy_score(y_train,pred_train)*100)\n",
    "    print(\"Test Accuracy is \",accuracy_score(y_test,pred_test)*100)"
   ]
  },
  {
   "cell_type": "code",
   "execution_count": 339,
   "id": "4abc1e7b",
   "metadata": {},
   "outputs": [
    {
     "name": "stdout",
     "output_type": "stream",
     "text": [
      "At random state :  99 The model performs well !\n",
      "At random state 99\n",
      "Training Accuracy is  73.97260273972603\n",
      "Test Accuracy is  73.046875\n"
     ]
    }
   ],
   "source": [
    "if (round(accuracy_score(y_train,pred_train)*100,2)-round(accuracy_score(y_test,pred_test)*100,2) <=1) or (round(accuracy_score(y_test,pred_test)*100,2)-round(accuracy_score(y_train,pred_train)*100,2) <=1):\n",
    "    print(\"At random state : \",i,\"The model performs well !\")\n",
    "    print(\"At random state\",i)\n",
    "    print(\"Training Accuracy is \",accuracy_score(y_train,pred_train)*100)\n",
    "    print(\"Test Accuracy is \",accuracy_score(y_test,pred_test)*100)"
   ]
  },
  {
   "cell_type": "markdown",
   "id": "47c8b6eb",
   "metadata": {},
   "source": [
    "So, my random state is 99, as we got by subtracting the accuracy of train score with test score"
   ]
  },
  {
   "cell_type": "code",
   "execution_count": 340,
   "id": "be1e8e93",
   "metadata": {},
   "outputs": [
    {
     "name": "stdout",
     "output_type": "stream",
     "text": [
      "(1022, 7)\n",
      "(1022,)\n",
      "(256, 7)\n",
      "(256,)\n"
     ]
    }
   ],
   "source": [
    "x_train, x_test, y_train, y_test = train_test_split(features,target, test_size = 0.20, random_state = 99)\n",
    "\n",
    "# determining the shapes of training and testing sets\n",
    "print(x_train.shape)\n",
    "print(y_train.shape)\n",
    "print(x_test.shape)\n",
    "print(y_test.shape)"
   ]
  },
  {
   "cell_type": "code",
   "execution_count": 341,
   "id": "82cf6bad",
   "metadata": {},
   "outputs": [
    {
     "name": "stdout",
     "output_type": "stream",
     "text": [
      "              precision    recall  f1-score   support\n",
      "\n",
      "           0       0.74      0.76      0.75       137\n",
      "           1       0.72      0.70      0.71       119\n",
      "\n",
      "    accuracy                           0.73       256\n",
      "   macro avg       0.73      0.73      0.73       256\n",
      "weighted avg       0.73      0.73      0.73       256\n",
      "\n",
      "[[104  33]\n",
      " [ 36  83]]\n"
     ]
    }
   ],
   "source": [
    "from sklearn.metrics import classification_report, confusion_matrix\n",
    "from sklearn.model_selection import GridSearchCV, cross_val_score\n",
    "\n",
    "# classification report\n",
    "print(classification_report(y_test, pred_test))\n",
    "\n",
    "# confusion matrix\n",
    "print(confusion_matrix(y_test, pred_test))"
   ]
  },
  {
   "cell_type": "markdown",
   "id": "aee788d2",
   "metadata": {},
   "source": [
    "So the accuracy is 73%"
   ]
  },
  {
   "cell_type": "markdown",
   "id": "3a2ce97f",
   "metadata": {},
   "source": [
    "# Cross Validation score for Logistic Regression"
   ]
  },
  {
   "cell_type": "code",
   "execution_count": 342,
   "id": "e203c0bf",
   "metadata": {},
   "outputs": [
    {
     "name": "stdout",
     "output_type": "stream",
     "text": [
      "At cv 2\n",
      "Cross Validation score is : 69.95305164319248\n",
      "accuracy score is :  73.046875\n",
      "\n",
      "\n",
      "At cv 3\n",
      "Cross Validation score is : 71.51799687010954\n",
      "accuracy score is :  73.046875\n",
      "\n",
      "\n",
      "At cv 4\n",
      "Cross Validation score is : 72.14831504702194\n",
      "accuracy score is :  73.046875\n",
      "\n",
      "\n",
      "At cv 5\n",
      "Cross Validation score is : 72.14430147058823\n",
      "accuracy score is :  73.046875\n",
      "\n",
      "\n",
      "At cv 6\n",
      "Cross Validation score is : 72.06572769953051\n",
      "accuracy score is :  73.046875\n",
      "\n",
      "\n",
      "At cv 7\n",
      "Cross Validation score is : 72.84916488663562\n",
      "accuracy score is :  73.046875\n",
      "\n",
      "\n",
      "At cv 8\n",
      "Cross Validation score is : 73.00117924528303\n",
      "accuracy score is :  73.046875\n",
      "\n",
      "\n",
      "At cv 9\n",
      "Cross Validation score is : 71.51799687010956\n",
      "accuracy score is :  73.046875\n",
      "\n",
      "\n"
     ]
    }
   ],
   "source": [
    "pred_lr=lr.predict(x_test)\n",
    "lss=accuracy_score(y_test,pred_lr)\n",
    "for j in range(2,10):\n",
    "    lsScore=cross_val_score(lr,features,target,cv=j)\n",
    "    lsc=lsScore.mean()\n",
    "    print(\"At cv\",j)\n",
    "    print(\"Cross Validation score is :\",lsc*100)\n",
    "    print(\"accuracy score is : \",lss*100)\n",
    "    print('\\n')\n",
    "    "
   ]
  },
  {
   "cell_type": "markdown",
   "id": "d4b33950",
   "metadata": {},
   "source": [
    "Since cross validation accuracy are almost same, we are heading with right approach"
   ]
  },
  {
   "cell_type": "code",
   "execution_count": 343,
   "id": "6d5fbabf",
   "metadata": {},
   "outputs": [
    {
     "name": "stdout",
     "output_type": "stream",
     "text": [
      "The CV score is : 0.7214831504702194 \n",
      " The accuracy score is:  0.73046875\n"
     ]
    }
   ],
   "source": [
    "#So with above data,best CV is 4\n",
    "lsScore_selected=cross_val_score(lr,features,target,cv=4).mean()\n",
    "print(\"The CV score is :\",lsScore_selected,\"\\n The accuracy score is: \",lss)"
   ]
  },
  {
   "cell_type": "markdown",
   "id": "a01dfa01",
   "metadata": {},
   "source": [
    "# AUC ROC Curve"
   ]
  },
  {
   "cell_type": "markdown",
   "id": "e3669e53",
   "metadata": {},
   "source": [
    "ROC is an evaluation metrics for Binary Classification problems and it is going to make a curve that plots the True Positive Rate against the False Positive rate at various threshold values and essentially it separates the signal from the noise. So if,the ROC Score is closer to 1, then it means the model is performing well or in laymen term the performance of the model is good.AUC is the measure of the ability of the classifier that distinguish between the classes and it is used as the summary of the ROC curve.The highher the AUC, the better the performance of the model and it can distinguish between the positive and negative classes.\n",
    "\n",
    "If we get the AUC closer to 0, it means the classifier would be predicting all negative as positive and all positive as negative.It means the model is not performing well.\n",
    "\n",
    "If the ROC AUC range is between 0.5 to 1 then it means there is high chance that the classifier will be able to differentiate between the postive class value from the negative class values."
   ]
  },
  {
   "cell_type": "code",
   "execution_count": 344,
   "id": "f210edd1",
   "metadata": {},
   "outputs": [
    {
     "data": {
      "image/png": "[encoded data removed]",
      "text/plain": [
       "<Figure size 432x288 with 1 Axes>"
      ]
     },
     "metadata": {
      "needs_background": "light"
     },
     "output_type": "display_data"
    }
   ],
   "source": [
    "from sklearn.metrics import roc_curve,auc\n",
    "fpr,tpr,thresholds = roc_curve(pred_test,y_test)\n",
    "roc_auc=auc(fpr,tpr)\n",
    "\n",
    "plt.figure()\n",
    "plt.plot(fpr,tpr,color='darkorange',lw=10,label='ROC curve(area =%0.2f)' % roc_auc)\n",
    "plt.plot([0,1],[0,1],color='navy',lw=10,linestyle='--')\n",
    "plt.xlim([0.0,1.0])\n",
    "plt.ylim([0.0,1.05])\n",
    "plt.xlabel('False Positive Rate')\n",
    "plt.ylabel('True Positve Rate')\n",
    "plt.title('Wine Prediction')\n",
    "plt.legend(loc=\"lower right\")\n",
    "plt.show()\n"
   ]
  },
  {
   "cell_type": "markdown",
   "id": "a35cd08b",
   "metadata": {},
   "source": [
    "The model with extremely less outliers or without outliers performs well, We will select this Logistic regression model for now and will continue to check the accuracy score of other models"
   ]
  },
  {
   "cell_type": "markdown",
   "id": "a422acfc",
   "metadata": {},
   "source": [
    "# KNN Classification"
   ]
  },
  {
   "cell_type": "code",
   "execution_count": 345,
   "id": "b7335f9f",
   "metadata": {},
   "outputs": [
    {
     "name": "stdout",
     "output_type": "stream",
     "text": [
      "Confusion Matrix with k-nearest neighbour value 1 \n",
      " ----------------------------------- \n",
      " [[81 56]\n",
      " [48 71]]\n",
      "Confusion Matrix with k-nearest neighbour value 2 \n",
      " ----------------------------------- \n",
      " [[112  25]\n",
      " [ 75  44]]\n",
      "Confusion Matrix with k-nearest neighbour value 3 \n",
      " ----------------------------------- \n",
      " [[88 49]\n",
      " [46 73]]\n",
      "Confusion Matrix with k-nearest neighbour value 4 \n",
      " ----------------------------------- \n",
      " [[104  33]\n",
      " [ 65  54]]\n",
      "Confusion Matrix with k-nearest neighbour value 5 \n",
      " ----------------------------------- \n",
      " [[87 50]\n",
      " [48 71]]\n",
      "Confusion Matrix with k-nearest neighbour value 6 \n",
      " ----------------------------------- \n",
      " [[102  35]\n",
      " [ 63  56]]\n",
      "Confusion Matrix with k-nearest neighbour value 7 \n",
      " ----------------------------------- \n",
      " [[95 42]\n",
      " [48 71]]\n",
      "Confusion Matrix with k-nearest neighbour value 8 \n",
      " ----------------------------------- \n",
      " [[108  29]\n",
      " [ 61  58]]\n",
      "Confusion Matrix with k-nearest neighbour value 9 \n",
      " ----------------------------------- \n",
      " [[95 42]\n",
      " [46 73]]\n"
     ]
    }
   ],
   "source": [
    "from sklearn.neighbors import KNeighborsClassifier\n",
    "best_Kvalue = 0\n",
    "best_score = 0\n",
    "for i in range(1,10):\n",
    "    knn = KNeighborsClassifier(n_neighbors=i)\n",
    "    knn.fit(x_train,y_train)\n",
    "    if knn.score(x_test,y_test) > best_score:\n",
    "        best_score = knn.score(x_train,y_train)\n",
    "        best_Kvalue = i\n",
    "    prediction=knn.predict(x_test)\n",
    "    print(\"Confusion Matrix with k-nearest neighbour value\",i,\"\\n\",'-'*35,\"\\n\",confusion_matrix(y_test,prediction))\n"
   ]
  },
  {
   "cell_type": "code",
   "execution_count": 346,
   "id": "137ea807",
   "metadata": {},
   "outputs": [
    {
     "data": {
      "text/plain": [
       "0.65625"
      ]
     },
     "execution_count": 346,
     "metadata": {},
     "output_type": "execute_result"
    }
   ],
   "source": [
    "knn=KNeighborsClassifier(n_neighbors=9)\n",
    "knn.fit(x_train,y_train)\n",
    "knn.score(x_test,y_test)"
   ]
  },
  {
   "cell_type": "markdown",
   "id": "e7ba95e0",
   "metadata": {},
   "source": [
    "Now, Let's use Bagging over our KNN Classifier and see if our score improves"
   ]
  },
  {
   "cell_type": "code",
   "execution_count": 347,
   "id": "5d14470c",
   "metadata": {},
   "outputs": [],
   "source": [
    "from sklearn.ensemble import BaggingClassifier\n",
    "bag_knn=BaggingClassifier(KNeighborsClassifier(n_neighbors=9),\n",
    "                         n_estimators=9,max_samples=0.7,\n",
    "                         bootstrap=True,random_state=99,oob_score=True)\n",
    "                         "
   ]
  },
  {
   "cell_type": "code",
   "execution_count": 348,
   "id": "376e86a6",
   "metadata": {},
   "outputs": [
    {
     "data": {
      "text/plain": [
       "0.625"
      ]
     },
     "execution_count": 348,
     "metadata": {},
     "output_type": "execute_result"
    }
   ],
   "source": [
    "#With Replacement\n",
    "bag_knn.fit(x_train,y_train)\n",
    "bag_knn.score(x_test,y_test)"
   ]
  },
  {
   "cell_type": "code",
   "execution_count": 349,
   "id": "34a9ec6e",
   "metadata": {},
   "outputs": [],
   "source": [
    "#Without Replacement\n",
    "pasting_knn=BaggingClassifier(KNeighborsClassifier(n_neighbors=5),\n",
    "                         n_estimators=9,max_samples=0.7,\n",
    "                         bootstrap=False,random_state=99)\n",
    "                         "
   ]
  },
  {
   "cell_type": "code",
   "execution_count": 350,
   "id": "ca949800",
   "metadata": {},
   "outputs": [
    {
     "data": {
      "text/plain": [
       "0.625"
      ]
     },
     "execution_count": 350,
     "metadata": {},
     "output_type": "execute_result"
    }
   ],
   "source": [
    "pasting_knn.fit(x_train,y_train)\n",
    "pasting_knn.score(x_test,y_test)"
   ]
  },
  {
   "cell_type": "markdown",
   "id": "5dd0ef23",
   "metadata": {},
   "source": [
    "# Cross Validation in KNN"
   ]
  },
  {
   "cell_type": "code",
   "execution_count": 351,
   "id": "c4b6306c",
   "metadata": {},
   "outputs": [
    {
     "name": "stdout",
     "output_type": "stream",
     "text": [
      "Cross Validation score of KNN model is : 0.6189358372456965\n"
     ]
    }
   ],
   "source": [
    "scr=cross_val_score(knn,features,target,cv=9)\n",
    "print('Cross Validation score of KNN model is :',scr.mean())"
   ]
  },
  {
   "cell_type": "markdown",
   "id": "b6812a95",
   "metadata": {},
   "source": [
    "Our score significantly doesnot improve with use of bagging, Also KNN Score is 65% which is less than Logistic Regression score of 73%. Hence we will not use KNN"
   ]
  },
  {
   "cell_type": "markdown",
   "id": "b5e52c1a",
   "metadata": {},
   "source": [
    "# SVM Classification"
   ]
  },
  {
   "cell_type": "code",
   "execution_count": 352,
   "id": "b3850aef",
   "metadata": {},
   "outputs": [
    {
     "name": "stdout",
     "output_type": "stream",
     "text": [
      "Accuracy score of SVM is : 0.64453125\n",
      "Confusion Matrix\n",
      " ----------------------------------- \n",
      " [[93 44]\n",
      " [47 72]]\n",
      "              precision    recall  f1-score   support\n",
      "\n",
      "           0       0.66      0.68      0.67       137\n",
      "           1       0.62      0.61      0.61       119\n",
      "\n",
      "    accuracy                           0.64       256\n",
      "   macro avg       0.64      0.64      0.64       256\n",
      "weighted avg       0.64      0.64      0.64       256\n",
      "\n"
     ]
    }
   ],
   "source": [
    "from sklearn.svm import SVC\n",
    "#svm=SVC()\n",
    "svm = SVC(random_state=43, gamma=\"auto\")\n",
    "svm.fit(x_train,y_train)\n",
    "svm.score(x_train,y_train)\n",
    "prediction=svm.predict(x_test)\n",
    "print('Accuracy score of SVM is :',accuracy_score(y_test,prediction))\n",
    "print(\"Confusion Matrix\\n\",'-'*35,\"\\n\",confusion_matrix(y_test,prediction))\n",
    "print(classification_report(y_test,prediction))"
   ]
  },
  {
   "cell_type": "code",
   "execution_count": 353,
   "id": "ae765601",
   "metadata": {},
   "outputs": [
    {
     "name": "stdout",
     "output_type": "stream",
     "text": [
      "Cross Validation score of SVM model is : 0.6220036764705883\n"
     ]
    }
   ],
   "source": [
    "scr=cross_val_score(svm,features,target,cv=5)\n",
    "print('Cross Validation score of SVM model is :',scr.mean())"
   ]
  },
  {
   "cell_type": "markdown",
   "id": "6b5ae416",
   "metadata": {},
   "source": [
    "# Decision Tree Classifier"
   ]
  },
  {
   "cell_type": "code",
   "execution_count": 354,
   "id": "8f48ee0c",
   "metadata": {},
   "outputs": [
    {
     "data": {
      "text/plain": [
       "{'criterion': ['entropy', 'ginni'],\n",
       " 'max_depth': [10, 15],\n",
       " 'min_samples_split': [10, 11],\n",
       " 'min_samples_leaf': [5, 6]}"
      ]
     },
     "execution_count": 354,
     "metadata": {},
     "output_type": "execute_result"
    }
   ],
   "source": [
    "from sklearn.tree import DecisionTreeClassifier\n",
    "\n",
    "# creating model\n",
    "decTree = DecisionTreeClassifier()\n",
    "params={'criterion':['entropy','ginni'],\n",
    "        'max_depth':[10,15],\n",
    "        'min_samples_split':[10,11],\n",
    "        'min_samples_leaf':[5,6]\n",
    "        }\n",
    "params"
   ]
  },
  {
   "cell_type": "code",
   "execution_count": 355,
   "id": "a6412b46",
   "metadata": {},
   "outputs": [
    {
     "name": "stdout",
     "output_type": "stream",
     "text": [
      "Best_Params_ {'criterion': 'entropy', 'max_depth': 10, 'min_samples_leaf': 5, 'min_samples_split': 10}\n"
     ]
    }
   ],
   "source": [
    "grid_Search=GridSearchCV(estimator=clf,param_grid=params,cv=5,n_jobs=-1)\n",
    "\n",
    "grid_Search.fit(x_train,y_train)\n",
    "print(\"Best_Params_\",grid_Search.best_params_)\n"
   ]
  },
  {
   "cell_type": "code",
   "execution_count": 356,
   "id": "c0e8a9e3",
   "metadata": {},
   "outputs": [
    {
     "data": {
      "text/plain": [
       "DecisionTreeClassifier(criterion='entropy', max_depth=10, min_samples_leaf=5,\n",
       "                       min_samples_split=11)"
      ]
     },
     "execution_count": 356,
     "metadata": {},
     "output_type": "execute_result"
    }
   ],
   "source": [
    "decTrees=DecisionTreeClassifier(criterion='entropy',min_samples_leaf=5,max_depth=10,min_samples_split=11)\n",
    "decTrees.fit(x_train,y_train)"
   ]
  },
  {
   "cell_type": "code",
   "execution_count": 357,
   "id": "94b2687f",
   "metadata": {},
   "outputs": [
    {
     "data": {
      "text/plain": [
       "0.6875"
      ]
     },
     "execution_count": 357,
     "metadata": {},
     "output_type": "execute_result"
    }
   ],
   "source": [
    "y_pred=clf.predict(x_test)\n",
    "accuracy_score(y_test,y_pred)"
   ]
  },
  {
   "cell_type": "markdown",
   "id": "6b0624b4",
   "metadata": {},
   "source": [
    "# Rnadom Forest Classifier"
   ]
  },
  {
   "cell_type": "code",
   "execution_count": 366,
   "id": "73a7315b",
   "metadata": {},
   "outputs": [
    {
     "data": {
      "text/plain": [
       "{'n_estimators': [180, 200],\n",
       " 'criterion': ['entropy', 'ginni'],\n",
       " 'max_depth': [10, 15],\n",
       " 'min_samples_split': [10, 11],\n",
       " 'min_samples_leaf': [5, 6]}"
      ]
     },
     "execution_count": 366,
     "metadata": {},
     "output_type": "execute_result"
    }
   ],
   "source": [
    "from sklearn.ensemble import RandomForestClassifier\n",
    "\n",
    "# creating the model\n",
    "clf_rf = RandomForestClassifier()\n",
    "params={'n_estimators':[180,200],\n",
    "        'criterion':['entropy','ginni'],\n",
    "        'max_depth':[10,15],\n",
    "        'min_samples_split':[10,11],\n",
    "        'min_samples_leaf':[5,6]\n",
    "        }\n",
    "params"
   ]
  },
  {
   "cell_type": "code",
   "execution_count": 367,
   "id": "6adfe466",
   "metadata": {},
   "outputs": [
    {
     "name": "stdout",
     "output_type": "stream",
     "text": [
      "Best_Params_ {'criterion': 'entropy', 'max_depth': 15, 'min_samples_leaf': 5, 'min_samples_split': 10, 'n_estimators': 200}\n"
     ]
    }
   ],
   "source": [
    "grd=GridSearchCV(clf_rf,param_grid=params)\n",
    "grd.fit(x_train,y_train)\n",
    "print(\"Best_Params_\",grd.best_params_)\n"
   ]
  },
  {
   "cell_type": "code",
   "execution_count": 368,
   "id": "1fc0ee48",
   "metadata": {},
   "outputs": [],
   "source": [
    "#Lets reinsantiate with best params now\n",
    "clf_rf=grd.best_estimator_"
   ]
  },
  {
   "cell_type": "code",
   "execution_count": 370,
   "id": "8175df3b",
   "metadata": {},
   "outputs": [
    {
     "name": "stdout",
     "output_type": "stream",
     "text": [
      "\n",
      " Confusion Matrix => \n",
      " [[102  35]\n",
      " [ 33  86]]\n"
     ]
    }
   ],
   "source": [
    "clf_rf.fit(x_train,y_train)\n",
    "y_pred=clf_rf.predict(x_test)\n",
    "rf_conf_matrix=confusion_matrix(y_test,y_pred)\n",
    "print('\\n Confusion Matrix => \\n',rf_conf_matrix)"
   ]
  },
  {
   "cell_type": "code",
   "execution_count": 371,
   "id": "f5e6d2e0",
   "metadata": {},
   "outputs": [
    {
     "name": "stdout",
     "output_type": "stream",
     "text": [
      "\n",
      " Accuracy of Random Forest is : 0.734375\n"
     ]
    }
   ],
   "source": [
    "print('\\n Accuracy of Random Forest is :',accuracy_score(y_test,y_pred))"
   ]
  },
  {
   "cell_type": "code",
   "execution_count": 372,
   "id": "685a78e2",
   "metadata": {},
   "outputs": [
    {
     "name": "stdout",
     "output_type": "stream",
     "text": [
      "              precision    recall  f1-score   support\n",
      "\n",
      "           0       0.76      0.74      0.75       137\n",
      "           1       0.71      0.72      0.72       119\n",
      "\n",
      "    accuracy                           0.73       256\n",
      "   macro avg       0.73      0.73      0.73       256\n",
      "weighted avg       0.73      0.73      0.73       256\n",
      "\n"
     ]
    }
   ],
   "source": [
    "report=classification_report(y_test,y_pred)\n",
    "print(report)"
   ]
  },
  {
   "cell_type": "code",
   "execution_count": 373,
   "id": "998dc965",
   "metadata": {},
   "outputs": [
    {
     "name": "stdout",
     "output_type": "stream",
     "text": [
      "Cross Validation score of Random Forest is : 0.7284742647058824\n"
     ]
    }
   ],
   "source": [
    "\n",
    "scr=cross_val_score(clf,features,target,cv=5)\n",
    "print('Cross Validation score of Random Forest is :',scr.mean())"
   ]
  },
  {
   "cell_type": "markdown",
   "id": "b9d68193",
   "metadata": {},
   "source": [
    "# HyperParameter Tuning"
   ]
  },
  {
   "cell_type": "code",
   "execution_count": 229,
   "id": "abcb712e",
   "metadata": {},
   "outputs": [],
   "source": [
    "from sklearn.model_selection import RandomizedSearchCV\n",
    "from sklearn.model_selection import GridSearchCV\n",
    "import xgboost"
   ]
  },
  {
   "cell_type": "code",
   "execution_count": 230,
   "id": "694ceabd",
   "metadata": {},
   "outputs": [],
   "source": [
    "#Parameters\n",
    "\n",
    "params={\"Learning_rate\":[0.05,0.1,0.2,0.25,0.3,0.35],\n",
    "       \"max_depth\":[3,4,5,6,8,9,10,12],\n",
    "       \"min_child_weight\":[1,3,5,7,10],\n",
    "       \"colsample_bytree\":[0.3,0.5,0.7,0.9]}"
   ]
  },
  {
   "cell_type": "markdown",
   "id": "fd08b40d",
   "metadata": {},
   "source": [
    "# XGBOOST"
   ]
  },
  {
   "cell_type": "code",
   "execution_count": 231,
   "id": "d07dd1f1",
   "metadata": {},
   "outputs": [],
   "source": [
    "#intialize the classifier with xgboost\n",
    "classifier=xgboost.XGBClassifier()"
   ]
  },
  {
   "cell_type": "code",
   "execution_count": 232,
   "id": "f956f4c4",
   "metadata": {},
   "outputs": [],
   "source": [
    "rf_model=RandomizedSearchCV(classifier,param_distributions=params,n_iter=10,cv=10,scoring='roc_auc',n_jobs=-1,verbose=3)"
   ]
  },
  {
   "cell_type": "code",
   "execution_count": 234,
   "id": "ee8217e3",
   "metadata": {},
   "outputs": [
    {
     "name": "stdout",
     "output_type": "stream",
     "text": [
      "Fitting 10 folds for each of 10 candidates, totalling 100 fits\n",
      "[03:32:24] WARNING: C:/Users/Administrator/workspace/xgboost-win64_release_1.5.1/src/learner.cc:576: \n",
      "Parameters: { \"Learning_rate\" } might not be used.\n",
      "\n",
      "  This could be a false alarm, with some parameters getting used by language bindings but\n",
      "  then being mistakenly passed down to XGBoost core, or some parameter actually being used\n",
      "  but getting flagged wrongly here. Please open an issue if you find any such cases.\n",
      "\n",
      "\n",
      "[03:32:24] WARNING: C:/Users/Administrator/workspace/xgboost-win64_release_1.5.1/src/learner.cc:1115: Starting in XGBoost 1.3.0, the default evaluation metric used with the objective 'binary:logistic' was changed from 'error' to 'logloss'. Explicitly set eval_metric if you'd like to restore the old behavior.\n"
     ]
    },
    {
     "data": {
      "text/plain": [
       "RandomizedSearchCV(cv=10,\n",
       "                   estimator=XGBClassifier(base_score=None, booster=None,\n",
       "                                           colsample_bylevel=None,\n",
       "                                           colsample_bynode=None,\n",
       "                                           colsample_bytree=None,\n",
       "                                           enable_categorical=False, gamma=None,\n",
       "                                           gpu_id=None, importance_type=None,\n",
       "                                           interaction_constraints=None,\n",
       "                                           learning_rate=None,\n",
       "                                           max_delta_step=None, max_depth=None,\n",
       "                                           min_child_weight=None, missing=nan,\n",
       "                                           monotone_constraint...\n",
       "                                           predictor=None, random_state=None,\n",
       "                                           reg_alpha=None, reg_lambda=None,\n",
       "                                           scale_pos_weight=None,\n",
       "                                           subsample=None, tree_method=None,\n",
       "                                           validate_parameters=None,\n",
       "                                           verbosity=None),\n",
       "                   n_jobs=-1,\n",
       "                   param_distributions={'Learning_rate': [0.05, 0.1, 0.2, 0.25,\n",
       "                                                          0.3, 0.35],\n",
       "                                        'colsample_bytree': [0.3, 0.5, 0.7,\n",
       "                                                             0.9],\n",
       "                                        'max_depth': [3, 4, 5, 6, 8, 9, 10, 12],\n",
       "                                        'min_child_weight': [1, 3, 5, 7, 10]},\n",
       "                   scoring='roc_auc', verbose=3)"
      ]
     },
     "execution_count": 234,
     "metadata": {},
     "output_type": "execute_result"
    }
   ],
   "source": [
    "rf_model.fit(x_train,y_train)"
   ]
  },
  {
   "cell_type": "code",
   "execution_count": 235,
   "id": "3181d32e",
   "metadata": {},
   "outputs": [
    {
     "data": {
      "text/plain": [
       "XGBClassifier(Learning_rate=0.35, base_score=0.5, booster='gbtree',\n",
       "              colsample_bylevel=1, colsample_bynode=1, colsample_bytree=0.5,\n",
       "              enable_categorical=False, gamma=0, gpu_id=-1,\n",
       "              importance_type=None, interaction_constraints='',\n",
       "              learning_rate=0.300000012, max_delta_step=0, max_depth=3,\n",
       "              min_child_weight=1, missing=nan, monotone_constraints='()',\n",
       "              n_estimators=100, n_jobs=8, num_parallel_tree=1, predictor='auto',\n",
       "              random_state=0, reg_alpha=0, reg_lambda=1, scale_pos_weight=1,\n",
       "              subsample=1, tree_method='exact', validate_parameters=1,\n",
       "              verbosity=None)"
      ]
     },
     "execution_count": 235,
     "metadata": {},
     "output_type": "execute_result"
    }
   ],
   "source": [
    "rf_model.best_estimator_"
   ]
  },
  {
   "cell_type": "code",
   "execution_count": 236,
   "id": "318094ea",
   "metadata": {},
   "outputs": [
    {
     "data": {
      "text/plain": [
       "{'min_child_weight': 1,\n",
       " 'max_depth': 3,\n",
       " 'colsample_bytree': 0.5,\n",
       " 'Learning_rate': 0.35}"
      ]
     },
     "execution_count": 236,
     "metadata": {},
     "output_type": "execute_result"
    }
   ],
   "source": [
    "rf_model.best_params_"
   ]
  },
  {
   "cell_type": "code",
   "execution_count": 237,
   "id": "281bcd9e",
   "metadata": {},
   "outputs": [
    {
     "data": {
      "text/plain": [
       "XGBClassifier(Learning_rate=0.35, base_score=0.5, booster='gbtree',\n",
       "              colsample_bylevel=1, colsample_bynode=1, colsample_bytree=0.5,\n",
       "              enable_categorical=False, gamma=0, gpu_id=-1,\n",
       "              importance_type=None, interaction_constraints='',\n",
       "              learning_rate=0.300000012, max_delta_step=0, max_depth=3,\n",
       "              min_child_weight=1, missing=nan, monotone_constraints='()',\n",
       "              n_estimators=100, n_jobs=8, num_parallel_tree=1, predictor='auto',\n",
       "              random_state=0, reg_alpha=0, reg_lambda=1, scale_pos_weight=1,\n",
       "              subsample=1, tree_method='exact', validate_parameters=1,\n",
       "              verbosity=None)"
      ]
     },
     "execution_count": 237,
     "metadata": {},
     "output_type": "execute_result"
    }
   ],
   "source": [
    "best_random=rf_model.best_estimator_\n",
    "best_random"
   ]
  },
  {
   "cell_type": "code",
   "execution_count": 240,
   "id": "dd410765",
   "metadata": {},
   "outputs": [
    {
     "name": "stdout",
     "output_type": "stream",
     "text": [
      "accuracy_score 0.7265625\n",
      "\n",
      "classification_report\n",
      "               precision    recall  f1-score   support\n",
      "\n",
      "           0       0.75      0.74      0.74       137\n",
      "           1       0.70      0.71      0.71       119\n",
      "\n",
      "    accuracy                           0.73       256\n",
      "   macro avg       0.73      0.73      0.73       256\n",
      "weighted avg       0.73      0.73      0.73       256\n",
      "\n",
      "confusion_matrix\n",
      " [[101  36]\n",
      " [ 34  85]]\n"
     ]
    }
   ],
   "source": [
    "from sklearn.metrics import accuracy_score\n",
    "from sklearn.metrics import classification_report\n",
    "from sklearn.metrics import confusion_matrix\n",
    "\n",
    "random_pred=best_random.predict(x_test)\n",
    "print(\"accuracy_score\",accuracy_score(y_test,random_pred))\n",
    "print(\"\\nclassification_report\\n\",classification_report(y_test,random_pred))\n",
    "print(\"confusion_matrix\\n\",confusion_matrix(y_test,random_pred))"
   ]
  },
  {
   "cell_type": "markdown",
   "id": "39bf7d6d",
   "metadata": {},
   "source": [
    "# HyperParameter with RandomforestClassifier"
   ]
  },
  {
   "cell_type": "code",
   "execution_count": 249,
   "id": "5daa08f2",
   "metadata": {},
   "outputs": [
    {
     "data": {
      "text/plain": [
       "{'n_estimators': [200, 400, 600, 800, 1000, 1200, 1400, 1600, 1800, 2000],\n",
       " 'max_features': ['auto', 'sqrt', 'log2'],\n",
       " 'max_depth': [10, 120, 230, 340, 450, 560, 670, 780, 890, 1000],\n",
       " 'min_samples_split': [2, 5, 10, 14],\n",
       " 'min_samples_leaf': [2, 3, 6, 8, 10],\n",
       " 'criterion': ['entrophy', 'gini']}"
      ]
     },
     "execution_count": 249,
     "metadata": {},
     "output_type": "execute_result"
    }
   ],
   "source": [
    "#Number of trees in the random forest\n",
    "n_estimators=[int(x) for x in np.linspace(start=200,stop=2000,num=10)]\n",
    "\n",
    "#Number of features to be considerd at every split\n",
    "max_features=['auto','sqrt','log2']\n",
    "#Maximum number of levels in tree\n",
    "max_depth=[int(x) for x in np.linspace(10,1000,10)]\n",
    "\n",
    "#Number of samples required for split a node\n",
    "min_samples_split=[2,5,10,14]\n",
    "#Number of samples required at each leaf node\n",
    "min_samples_leaf=[2,3,6,8,10]\n",
    "\n",
    "random_grid={\n",
    "    \"n_estimators\":n_estimators,\n",
    "            \"max_features\":max_features,\n",
    "            \"max_depth\":max_depth,\n",
    "            \"min_samples_split\":min_samples_split,\n",
    "            \"min_samples_leaf\":min_samples_leaf,\n",
    "            \"criterion\":['entrophy','gini']\n",
    "            }\n",
    "\n",
    "random_grid"
   ]
  },
  {
   "cell_type": "code",
   "execution_count": 250,
   "id": "d2c61190",
   "metadata": {},
   "outputs": [],
   "source": [
    "rf=RandomForestClassifier()\n",
    "random_model=RandomizedSearchCV(rf,param_distributions=random_grid,cv=10,n_iter=100,verbose=3,n_jobs=-1,random_state=42)"
   ]
  },
  {
   "cell_type": "code",
   "execution_count": 251,
   "id": "9983d614",
   "metadata": {},
   "outputs": [
    {
     "name": "stdout",
     "output_type": "stream",
     "text": [
      "Fitting 10 folds for each of 100 candidates, totalling 1000 fits\n"
     ]
    },
    {
     "data": {
      "text/plain": [
       "RandomizedSearchCV(cv=10, estimator=RandomForestClassifier(), n_iter=100,\n",
       "                   n_jobs=-1,\n",
       "                   param_distributions={'criterion': ['entrophy', 'gini'],\n",
       "                                        'max_depth': [10, 120, 230, 340, 450,\n",
       "                                                      560, 670, 780, 890,\n",
       "                                                      1000],\n",
       "                                        'max_features': ['auto', 'sqrt',\n",
       "                                                         'log2'],\n",
       "                                        'min_samples_leaf': [2, 3, 6, 8, 10],\n",
       "                                        'min_samples_split': [2, 5, 10, 14],\n",
       "                                        'n_estimators': [200, 400, 600, 800,\n",
       "                                                         1000, 1200, 1400, 1600,\n",
       "                                                         1800, 2000]},\n",
       "                   random_state=42, verbose=3)"
      ]
     },
     "execution_count": 251,
     "metadata": {},
     "output_type": "execute_result"
    }
   ],
   "source": [
    "random_model.fit(x_train,y_train)"
   ]
  },
  {
   "cell_type": "code",
   "execution_count": 252,
   "id": "8f38233e",
   "metadata": {},
   "outputs": [
    {
     "data": {
      "text/plain": [
       "RandomForestClassifier(max_depth=890, max_features='sqrt', min_samples_leaf=2,\n",
       "                       min_samples_split=5, n_estimators=1400)"
      ]
     },
     "execution_count": 252,
     "metadata": {},
     "output_type": "execute_result"
    }
   ],
   "source": [
    "random_model.best_estimator_"
   ]
  },
  {
   "cell_type": "code",
   "execution_count": 253,
   "id": "d951cefc",
   "metadata": {},
   "outputs": [
    {
     "data": {
      "text/plain": [
       "{'n_estimators': 1400,\n",
       " 'min_samples_split': 5,\n",
       " 'min_samples_leaf': 2,\n",
       " 'max_features': 'sqrt',\n",
       " 'max_depth': 890,\n",
       " 'criterion': 'gini'}"
      ]
     },
     "execution_count": 253,
     "metadata": {},
     "output_type": "execute_result"
    }
   ],
   "source": [
    "random_model.best_params_"
   ]
  },
  {
   "cell_type": "code",
   "execution_count": 254,
   "id": "482cc397",
   "metadata": {},
   "outputs": [
    {
     "data": {
      "text/plain": [
       "RandomForestClassifier(max_depth=890, max_features='sqrt', min_samples_leaf=2,\n",
       "                       min_samples_split=5, n_estimators=1400)"
      ]
     },
     "execution_count": 254,
     "metadata": {},
     "output_type": "execute_result"
    }
   ],
   "source": [
    "random_pred1=random_model.best_estimator_\n",
    "random_pred1"
   ]
  },
  {
   "cell_type": "code",
   "execution_count": 255,
   "id": "b29d938d",
   "metadata": {},
   "outputs": [],
   "source": [
    "rand_pred=random_pred1.predict(x_test)"
   ]
  },
  {
   "cell_type": "code",
   "execution_count": 256,
   "id": "dffed4f4",
   "metadata": {},
   "outputs": [
    {
     "name": "stdout",
     "output_type": "stream",
     "text": [
      "0.7421875\n",
      "              precision    recall  f1-score   support\n",
      "\n",
      "           0       0.77      0.74      0.76       137\n",
      "           1       0.72      0.74      0.73       119\n",
      "\n",
      "    accuracy                           0.74       256\n",
      "   macro avg       0.74      0.74      0.74       256\n",
      "weighted avg       0.74      0.74      0.74       256\n",
      "\n",
      "[[102  35]\n",
      " [ 31  88]]\n"
     ]
    }
   ],
   "source": [
    "print(accuracy_score(y_test,rand_pred))\n",
    "print(classification_report(y_test,rand_pred))\n",
    "print(confusion_matrix(y_test,rand_pred))"
   ]
  },
  {
   "cell_type": "markdown",
   "id": "1fc7f3a6",
   "metadata": {},
   "source": [
    "Accuracy of Random Forest is 73.43% and Accuracy of Random Forest Classifier using Hyperparameter tuning is 74.22%.\n",
    "\n",
    "So we will go with Random Forest Classifier Algorithm"
   ]
  },
  {
   "cell_type": "markdown",
   "id": "ecc5152b",
   "metadata": {},
   "source": [
    "# Saving the model in Pickel Format"
   ]
  },
  {
   "cell_type": "code",
   "execution_count": 257,
   "id": "682a4525",
   "metadata": {},
   "outputs": [],
   "source": [
    "from joblib import dump , load\n",
    "#filename=\"RedWine.pkl\"\n",
    "dump(rf,'RedWine.joblib')\n",
    "dt=load('RedWine.joblib')"
   ]
  },
  {
   "cell_type": "code",
   "execution_count": 258,
   "id": "c4f6d91d",
   "metadata": {},
   "outputs": [],
   "source": [
    "from tempfile import mkdtemp\n",
    "savedir = mkdtemp()\n",
    "import os\n",
    "filename = os.path.join(savedir, 'RedWine.joblib')"
   ]
  },
  {
   "cell_type": "code",
   "execution_count": 259,
   "id": "ebfd03e6",
   "metadata": {},
   "outputs": [
    {
     "data": {
      "text/plain": [
       "['C:\\\\Users\\\\mum1user\\\\AppData\\\\Local\\\\Temp\\\\tmpcdn7_4e3\\\\RedWine.joblib']"
      ]
     },
     "execution_count": 259,
     "metadata": {},
     "output_type": "execute_result"
    }
   ],
   "source": [
    "import joblib\n",
    "joblib.dump(dt, filename) \n",
    "#['...RedWine.joblib']"
   ]
  },
  {
   "cell_type": "code",
   "execution_count": 260,
   "id": "8cb17af8",
   "metadata": {},
   "outputs": [
    {
     "data": {
      "text/plain": [
       "RandomForestClassifier()"
      ]
     },
     "execution_count": 260,
     "metadata": {},
     "output_type": "execute_result"
    }
   ],
   "source": [
    "joblib.load(filename)"
   ]
  },
  {
   "cell_type": "code",
   "execution_count": null,
   "id": "cce64326",
   "metadata": {},
   "outputs": [],
   "source": []
  }
 ],
 "metadata": {
  "kernelspec": {
   "display_name": "Python 3",
   "language": "python",
   "name": "python3"
  },
  "language_info": {
   "codemirror_mode": {
    "name": "ipython",
    "version": 3
   },
   "file_extension": ".py",
   "mimetype": "text/x-python",
   "name": "python",
   "nbconvert_exporter": "python",
   "pygments_lexer": "ipython3",
   "version": "3.8.8"
  }
 },
 "nbformat": 4,
 "nbformat_minor": 5
}
