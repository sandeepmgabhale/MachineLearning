{
 "cells": [
  {
   "cell_type": "markdown",
   "id": "767954bd",
   "metadata": {},
   "source": [
    "# Big Data Mart Sales Problem"
   ]
  },
  {
   "cell_type": "markdown",
   "id": "22163f87",
   "metadata": {},
   "source": [
    "Problem Statement:\n",
    "The data scientists at BigMart have collected 2013 sales data for 1559 products across 10 stores in different cities. Also, certain attributes of each product and store have been defined. The aim is to build a predictive model and find out the sales of each product at a particular store.\n",
    "\n",
    "Using this model, BigMart will try to understand the properties of products and stores which play a key role in increasing the sales of their products.\n",
    "\n",
    "The dataset includes two files:\n",
    "\n",
    "- bigdatamart_Train.csv: Use this file for the model building purpose. \n",
    "\n",
    "- bigdatamart_Test.csv: Use this file for getting predictions from the trained model. "
   ]
  },
  {
   "cell_type": "code",
   "execution_count": 1,
   "id": "fc7eba3b",
   "metadata": {},
   "outputs": [],
   "source": [
    "import pandas as pd\n",
    "import numpy as np\n",
    "import re\n",
    "import matplotlib.pyplot as plt\n",
    "import seaborn as sns\n",
    "import sklearn\n",
    "from sklearn.linear_model import LogisticRegression\n",
    "from sklearn.metrics import mean_squared_error\n",
    "from sklearn.model_selection import train_test_split\n",
    "from sklearn.naive_bayes import GaussianNB\n",
    "from sklearn.svm import SVC\n",
    "from sklearn.tree import DecisionTreeClassifier\n",
    "from sklearn.model_selection import GridSearchCV\n",
    "from sklearn.neighbors import KNeighborsClassifier\n",
    "from sklearn.metrics import accuracy_score,confusion_matrix,classification_report\n",
    "import warnings\n",
    "warnings.filterwarnings('ignore')"
   ]
  },
  {
   "cell_type": "code",
   "execution_count": 2,
   "id": "8eec10b6",
   "metadata": {},
   "outputs": [
    {
     "data": {
      "text/html": [
       "<div>\n",
       "<style scoped>\n",
       "    .dataframe tbody tr th:only-of-type {\n",
       "        vertical-align: middle;\n",
       "    }\n",
       "\n",
       "    .dataframe tbody tr th {\n",
       "        vertical-align: top;\n",
       "    }\n",
       "\n",
       "    .dataframe thead th {\n",
       "        text-align: right;\n",
       "    }\n",
       "</style>\n",
       "<table border=\"1\" class=\"dataframe\">\n",
       "  <thead>\n",
       "    <tr style=\"text-align: right;\">\n",
       "      <th></th>\n",
       "      <th>Item_Identifier</th>\n",
       "      <th>Item_Weight</th>\n",
       "      <th>Item_Fat_Content</th>\n",
       "      <th>Item_Visibility</th>\n",
       "      <th>Item_Type</th>\n",
       "      <th>Item_MRP</th>\n",
       "      <th>Outlet_Identifier</th>\n",
       "      <th>Outlet_Establishment_Year</th>\n",
       "      <th>Outlet_Size</th>\n",
       "      <th>Outlet_Location_Type</th>\n",
       "      <th>Outlet_Type</th>\n",
       "      <th>Item_Outlet_Sales</th>\n",
       "    </tr>\n",
       "  </thead>\n",
       "  <tbody>\n",
       "    <tr>\n",
       "      <th>0</th>\n",
       "      <td>FDA15</td>\n",
       "      <td>9.30</td>\n",
       "      <td>Low Fat</td>\n",
       "      <td>0.016047</td>\n",
       "      <td>Dairy</td>\n",
       "      <td>249.8092</td>\n",
       "      <td>OUT049</td>\n",
       "      <td>1999</td>\n",
       "      <td>Medium</td>\n",
       "      <td>Tier 1</td>\n",
       "      <td>Supermarket Type1</td>\n",
       "      <td>3735.1380</td>\n",
       "    </tr>\n",
       "    <tr>\n",
       "      <th>1</th>\n",
       "      <td>DRC01</td>\n",
       "      <td>5.92</td>\n",
       "      <td>Regular</td>\n",
       "      <td>0.019278</td>\n",
       "      <td>Soft Drinks</td>\n",
       "      <td>48.2692</td>\n",
       "      <td>OUT018</td>\n",
       "      <td>2009</td>\n",
       "      <td>Medium</td>\n",
       "      <td>Tier 3</td>\n",
       "      <td>Supermarket Type2</td>\n",
       "      <td>443.4228</td>\n",
       "    </tr>\n",
       "    <tr>\n",
       "      <th>2</th>\n",
       "      <td>FDN15</td>\n",
       "      <td>17.50</td>\n",
       "      <td>Low Fat</td>\n",
       "      <td>0.016760</td>\n",
       "      <td>Meat</td>\n",
       "      <td>141.6180</td>\n",
       "      <td>OUT049</td>\n",
       "      <td>1999</td>\n",
       "      <td>Medium</td>\n",
       "      <td>Tier 1</td>\n",
       "      <td>Supermarket Type1</td>\n",
       "      <td>2097.2700</td>\n",
       "    </tr>\n",
       "    <tr>\n",
       "      <th>3</th>\n",
       "      <td>FDX07</td>\n",
       "      <td>19.20</td>\n",
       "      <td>Regular</td>\n",
       "      <td>0.000000</td>\n",
       "      <td>Fruits and Vegetables</td>\n",
       "      <td>182.0950</td>\n",
       "      <td>OUT010</td>\n",
       "      <td>1998</td>\n",
       "      <td>NaN</td>\n",
       "      <td>Tier 3</td>\n",
       "      <td>Grocery Store</td>\n",
       "      <td>732.3800</td>\n",
       "    </tr>\n",
       "    <tr>\n",
       "      <th>4</th>\n",
       "      <td>NCD19</td>\n",
       "      <td>8.93</td>\n",
       "      <td>Low Fat</td>\n",
       "      <td>0.000000</td>\n",
       "      <td>Household</td>\n",
       "      <td>53.8614</td>\n",
       "      <td>OUT013</td>\n",
       "      <td>1987</td>\n",
       "      <td>High</td>\n",
       "      <td>Tier 3</td>\n",
       "      <td>Supermarket Type1</td>\n",
       "      <td>994.7052</td>\n",
       "    </tr>\n",
       "  </tbody>\n",
       "</table>\n",
       "</div>"
      ],
      "text/plain": [
       "  Item_Identifier  Item_Weight Item_Fat_Content  Item_Visibility  \\\n",
       "0           FDA15         9.30          Low Fat         0.016047   \n",
       "1           DRC01         5.92          Regular         0.019278   \n",
       "2           FDN15        17.50          Low Fat         0.016760   \n",
       "3           FDX07        19.20          Regular         0.000000   \n",
       "4           NCD19         8.93          Low Fat         0.000000   \n",
       "\n",
       "               Item_Type  Item_MRP Outlet_Identifier  \\\n",
       "0                  Dairy  249.8092            OUT049   \n",
       "1            Soft Drinks   48.2692            OUT018   \n",
       "2                   Meat  141.6180            OUT049   \n",
       "3  Fruits and Vegetables  182.0950            OUT010   \n",
       "4              Household   53.8614            OUT013   \n",
       "\n",
       "   Outlet_Establishment_Year Outlet_Size Outlet_Location_Type  \\\n",
       "0                       1999      Medium               Tier 1   \n",
       "1                       2009      Medium               Tier 3   \n",
       "2                       1999      Medium               Tier 1   \n",
       "3                       1998         NaN               Tier 3   \n",
       "4                       1987        High               Tier 3   \n",
       "\n",
       "         Outlet_Type  Item_Outlet_Sales  \n",
       "0  Supermarket Type1          3735.1380  \n",
       "1  Supermarket Type2           443.4228  \n",
       "2  Supermarket Type1          2097.2700  \n",
       "3      Grocery Store           732.3800  \n",
       "4  Supermarket Type1           994.7052  "
      ]
     },
     "execution_count": 2,
     "metadata": {},
     "output_type": "execute_result"
    }
   ],
   "source": [
    "train_data = pd.read_csv('https://raw.githubusercontent.com/dsrscientist/bigdatamart_rep/master/bigdatamart_Train.csv')\n",
    "train_data.head(5)"
   ]
  },
  {
   "cell_type": "code",
   "execution_count": 3,
   "id": "9420c426",
   "metadata": {},
   "outputs": [
    {
     "data": {
      "text/html": [
       "<div>\n",
       "<style scoped>\n",
       "    .dataframe tbody tr th:only-of-type {\n",
       "        vertical-align: middle;\n",
       "    }\n",
       "\n",
       "    .dataframe tbody tr th {\n",
       "        vertical-align: top;\n",
       "    }\n",
       "\n",
       "    .dataframe thead th {\n",
       "        text-align: right;\n",
       "    }\n",
       "</style>\n",
       "<table border=\"1\" class=\"dataframe\">\n",
       "  <thead>\n",
       "    <tr style=\"text-align: right;\">\n",
       "      <th></th>\n",
       "      <th>Item_Identifier</th>\n",
       "      <th>Item_Weight</th>\n",
       "      <th>Item_Fat_Content</th>\n",
       "      <th>Item_Visibility</th>\n",
       "      <th>Item_Type</th>\n",
       "      <th>Item_MRP</th>\n",
       "      <th>Outlet_Identifier</th>\n",
       "      <th>Outlet_Establishment_Year</th>\n",
       "      <th>Outlet_Size</th>\n",
       "      <th>Outlet_Location_Type</th>\n",
       "      <th>Outlet_Type</th>\n",
       "    </tr>\n",
       "  </thead>\n",
       "  <tbody>\n",
       "    <tr>\n",
       "      <th>0</th>\n",
       "      <td>FDW58</td>\n",
       "      <td>20.750</td>\n",
       "      <td>Low Fat</td>\n",
       "      <td>0.007565</td>\n",
       "      <td>Snack Foods</td>\n",
       "      <td>107.8622</td>\n",
       "      <td>OUT049</td>\n",
       "      <td>1999</td>\n",
       "      <td>Medium</td>\n",
       "      <td>Tier 1</td>\n",
       "      <td>Supermarket Type1</td>\n",
       "    </tr>\n",
       "    <tr>\n",
       "      <th>1</th>\n",
       "      <td>FDW14</td>\n",
       "      <td>8.300</td>\n",
       "      <td>reg</td>\n",
       "      <td>0.038428</td>\n",
       "      <td>Dairy</td>\n",
       "      <td>87.3198</td>\n",
       "      <td>OUT017</td>\n",
       "      <td>2007</td>\n",
       "      <td>NaN</td>\n",
       "      <td>Tier 2</td>\n",
       "      <td>Supermarket Type1</td>\n",
       "    </tr>\n",
       "    <tr>\n",
       "      <th>2</th>\n",
       "      <td>NCN55</td>\n",
       "      <td>14.600</td>\n",
       "      <td>Low Fat</td>\n",
       "      <td>0.099575</td>\n",
       "      <td>Others</td>\n",
       "      <td>241.7538</td>\n",
       "      <td>OUT010</td>\n",
       "      <td>1998</td>\n",
       "      <td>NaN</td>\n",
       "      <td>Tier 3</td>\n",
       "      <td>Grocery Store</td>\n",
       "    </tr>\n",
       "    <tr>\n",
       "      <th>3</th>\n",
       "      <td>FDQ58</td>\n",
       "      <td>7.315</td>\n",
       "      <td>Low Fat</td>\n",
       "      <td>0.015388</td>\n",
       "      <td>Snack Foods</td>\n",
       "      <td>155.0340</td>\n",
       "      <td>OUT017</td>\n",
       "      <td>2007</td>\n",
       "      <td>NaN</td>\n",
       "      <td>Tier 2</td>\n",
       "      <td>Supermarket Type1</td>\n",
       "    </tr>\n",
       "    <tr>\n",
       "      <th>4</th>\n",
       "      <td>FDY38</td>\n",
       "      <td>NaN</td>\n",
       "      <td>Regular</td>\n",
       "      <td>0.118599</td>\n",
       "      <td>Dairy</td>\n",
       "      <td>234.2300</td>\n",
       "      <td>OUT027</td>\n",
       "      <td>1985</td>\n",
       "      <td>Medium</td>\n",
       "      <td>Tier 3</td>\n",
       "      <td>Supermarket Type3</td>\n",
       "    </tr>\n",
       "  </tbody>\n",
       "</table>\n",
       "</div>"
      ],
      "text/plain": [
       "  Item_Identifier  Item_Weight Item_Fat_Content  Item_Visibility    Item_Type  \\\n",
       "0           FDW58       20.750          Low Fat         0.007565  Snack Foods   \n",
       "1           FDW14        8.300              reg         0.038428        Dairy   \n",
       "2           NCN55       14.600          Low Fat         0.099575       Others   \n",
       "3           FDQ58        7.315          Low Fat         0.015388  Snack Foods   \n",
       "4           FDY38          NaN          Regular         0.118599        Dairy   \n",
       "\n",
       "   Item_MRP Outlet_Identifier  Outlet_Establishment_Year Outlet_Size  \\\n",
       "0  107.8622            OUT049                       1999      Medium   \n",
       "1   87.3198            OUT017                       2007         NaN   \n",
       "2  241.7538            OUT010                       1998         NaN   \n",
       "3  155.0340            OUT017                       2007         NaN   \n",
       "4  234.2300            OUT027                       1985      Medium   \n",
       "\n",
       "  Outlet_Location_Type        Outlet_Type  \n",
       "0               Tier 1  Supermarket Type1  \n",
       "1               Tier 2  Supermarket Type1  \n",
       "2               Tier 3      Grocery Store  \n",
       "3               Tier 2  Supermarket Type1  \n",
       "4               Tier 3  Supermarket Type3  "
      ]
     },
     "execution_count": 3,
     "metadata": {},
     "output_type": "execute_result"
    }
   ],
   "source": [
    "test = pd.read_csv('https://raw.githubusercontent.com/dsrscientist/bigdatamart_rep/master/bigdatamart_Test.csv')\n",
    "test.head()"
   ]
  },
  {
   "cell_type": "code",
   "execution_count": 4,
   "id": "92bdb5f9",
   "metadata": {},
   "outputs": [
    {
     "data": {
      "text/plain": [
       "((8523, 12), (5681, 11))"
      ]
     },
     "execution_count": 4,
     "metadata": {},
     "output_type": "execute_result"
    }
   ],
   "source": [
    "train_data.shape , test.shape"
   ]
  },
  {
   "cell_type": "code",
   "execution_count": 5,
   "id": "e346dec3",
   "metadata": {},
   "outputs": [
    {
     "name": "stdout",
     "output_type": "stream",
     "text": [
      "<class 'pandas.core.frame.DataFrame'>\n",
      "RangeIndex: 8523 entries, 0 to 8522\n",
      "Data columns (total 12 columns):\n",
      " #   Column                     Non-Null Count  Dtype  \n",
      "---  ------                     --------------  -----  \n",
      " 0   Item_Identifier            8523 non-null   object \n",
      " 1   Item_Weight                7060 non-null   float64\n",
      " 2   Item_Fat_Content           8523 non-null   object \n",
      " 3   Item_Visibility            8523 non-null   float64\n",
      " 4   Item_Type                  8523 non-null   object \n",
      " 5   Item_MRP                   8523 non-null   float64\n",
      " 6   Outlet_Identifier          8523 non-null   object \n",
      " 7   Outlet_Establishment_Year  8523 non-null   int64  \n",
      " 8   Outlet_Size                6113 non-null   object \n",
      " 9   Outlet_Location_Type       8523 non-null   object \n",
      " 10  Outlet_Type                8523 non-null   object \n",
      " 11  Item_Outlet_Sales          8523 non-null   float64\n",
      "dtypes: float64(4), int64(1), object(7)\n",
      "memory usage: 799.2+ KB\n"
     ]
    }
   ],
   "source": [
    "train_data.info()"
   ]
  },
  {
   "cell_type": "code",
   "execution_count": 6,
   "id": "93379847",
   "metadata": {},
   "outputs": [
    {
     "data": {
      "text/plain": [
       "Item_Identifier                 0\n",
       "Item_Weight                  1463\n",
       "Item_Fat_Content                0\n",
       "Item_Visibility                 0\n",
       "Item_Type                       0\n",
       "Item_MRP                        0\n",
       "Outlet_Identifier               0\n",
       "Outlet_Establishment_Year       0\n",
       "Outlet_Size                  2410\n",
       "Outlet_Location_Type            0\n",
       "Outlet_Type                     0\n",
       "Item_Outlet_Sales               0\n",
       "dtype: int64"
      ]
     },
     "execution_count": 6,
     "metadata": {},
     "output_type": "execute_result"
    }
   ],
   "source": [
    "#Check for null\n",
    "train_data.isnull().sum()"
   ]
  },
  {
   "cell_type": "markdown",
   "id": "097e8cdf",
   "metadata": {},
   "source": [
    "We see that there are null values in Item_Weight and Outlet_Size columns"
   ]
  },
  {
   "cell_type": "code",
   "execution_count": 7,
   "id": "73dfd0a8",
   "metadata": {},
   "outputs": [
    {
     "data": {
      "text/html": [
       "<div>\n",
       "<style scoped>\n",
       "    .dataframe tbody tr th:only-of-type {\n",
       "        vertical-align: middle;\n",
       "    }\n",
       "\n",
       "    .dataframe tbody tr th {\n",
       "        vertical-align: top;\n",
       "    }\n",
       "\n",
       "    .dataframe thead th {\n",
       "        text-align: right;\n",
       "    }\n",
       "</style>\n",
       "<table border=\"1\" class=\"dataframe\">\n",
       "  <thead>\n",
       "    <tr style=\"text-align: right;\">\n",
       "      <th></th>\n",
       "      <th>Total Count</th>\n",
       "      <th>% of Missing Data</th>\n",
       "    </tr>\n",
       "  </thead>\n",
       "  <tbody>\n",
       "    <tr>\n",
       "      <th>Outlet_Size</th>\n",
       "      <td>2410</td>\n",
       "      <td>28.3</td>\n",
       "    </tr>\n",
       "    <tr>\n",
       "      <th>Item_Weight</th>\n",
       "      <td>1463</td>\n",
       "      <td>17.2</td>\n",
       "    </tr>\n",
       "    <tr>\n",
       "      <th>Item_Identifier</th>\n",
       "      <td>0</td>\n",
       "      <td>0.0</td>\n",
       "    </tr>\n",
       "    <tr>\n",
       "      <th>Item_Fat_Content</th>\n",
       "      <td>0</td>\n",
       "      <td>0.0</td>\n",
       "    </tr>\n",
       "    <tr>\n",
       "      <th>Item_Visibility</th>\n",
       "      <td>0</td>\n",
       "      <td>0.0</td>\n",
       "    </tr>\n",
       "  </tbody>\n",
       "</table>\n",
       "</div>"
      ],
      "text/plain": [
       "                  Total Count  % of Missing Data\n",
       "Outlet_Size              2410               28.3\n",
       "Item_Weight              1463               17.2\n",
       "Item_Identifier             0                0.0\n",
       "Item_Fat_Content            0                0.0\n",
       "Item_Visibility             0                0.0"
      ]
     },
     "execution_count": 7,
     "metadata": {},
     "output_type": "execute_result"
    }
   ],
   "source": [
    "total = train_data.isnull().sum().sort_values(ascending=False)\n",
    "percent_1 = train_data.isnull().sum()/train_data.isnull().count()*100\n",
    "percent_2 = (round(percent_1, 1)).sort_values(ascending=False)\n",
    "missing_data = pd.concat([total, percent_2], axis=1, keys=['Total Count', '% of Missing Data'])\n",
    "missing_data.head(5)"
   ]
  },
  {
   "cell_type": "markdown",
   "id": "c15fabd1",
   "metadata": {},
   "source": [
    "So, we have lots of missing data in Outlet_Size and Item_weight"
   ]
  },
  {
   "cell_type": "markdown",
   "id": "58077ff0",
   "metadata": {},
   "source": [
    "# Check for Duplicates"
   ]
  },
  {
   "cell_type": "code",
   "execution_count": 8,
   "id": "c785ac94",
   "metadata": {},
   "outputs": [
    {
     "name": "stdout",
     "output_type": "stream",
     "text": [
      "Duplicate Rows :\n"
     ]
    },
    {
     "data": {
      "text/html": [
       "<div>\n",
       "<style scoped>\n",
       "    .dataframe tbody tr th:only-of-type {\n",
       "        vertical-align: middle;\n",
       "    }\n",
       "\n",
       "    .dataframe tbody tr th {\n",
       "        vertical-align: top;\n",
       "    }\n",
       "\n",
       "    .dataframe thead th {\n",
       "        text-align: right;\n",
       "    }\n",
       "</style>\n",
       "<table border=\"1\" class=\"dataframe\">\n",
       "  <thead>\n",
       "    <tr style=\"text-align: right;\">\n",
       "      <th></th>\n",
       "      <th>Item_Identifier</th>\n",
       "      <th>Item_Weight</th>\n",
       "      <th>Item_Fat_Content</th>\n",
       "      <th>Item_Visibility</th>\n",
       "      <th>Item_Type</th>\n",
       "      <th>Item_MRP</th>\n",
       "      <th>Outlet_Identifier</th>\n",
       "      <th>Outlet_Establishment_Year</th>\n",
       "      <th>Outlet_Size</th>\n",
       "      <th>Outlet_Location_Type</th>\n",
       "      <th>Outlet_Type</th>\n",
       "      <th>Item_Outlet_Sales</th>\n",
       "    </tr>\n",
       "  </thead>\n",
       "  <tbody>\n",
       "  </tbody>\n",
       "</table>\n",
       "</div>"
      ],
      "text/plain": [
       "Empty DataFrame\n",
       "Columns: [Item_Identifier, Item_Weight, Item_Fat_Content, Item_Visibility, Item_Type, Item_MRP, Outlet_Identifier, Outlet_Establishment_Year, Outlet_Size, Outlet_Location_Type, Outlet_Type, Item_Outlet_Sales]\n",
       "Index: []"
      ]
     },
     "execution_count": 8,
     "metadata": {},
     "output_type": "execute_result"
    }
   ],
   "source": [
    "duplicate = train_data[train_data.duplicated(keep = 'last')]\n",
    "print(\"Duplicate Rows :\")\n",
    "  \n",
    "# Print the resultant Dataframe\n",
    "duplicate"
   ]
  },
  {
   "cell_type": "markdown",
   "id": "82def6c2",
   "metadata": {},
   "source": [
    "No Dpulicate record is found"
   ]
  },
  {
   "cell_type": "code",
   "execution_count": 9,
   "id": "eca92c05",
   "metadata": {
    "scrolled": true
   },
   "outputs": [
    {
     "data": {
      "text/html": [
       "<div>\n",
       "<style scoped>\n",
       "    .dataframe tbody tr th:only-of-type {\n",
       "        vertical-align: middle;\n",
       "    }\n",
       "\n",
       "    .dataframe tbody tr th {\n",
       "        vertical-align: top;\n",
       "    }\n",
       "\n",
       "    .dataframe thead th {\n",
       "        text-align: right;\n",
       "    }\n",
       "</style>\n",
       "<table border=\"1\" class=\"dataframe\">\n",
       "  <thead>\n",
       "    <tr style=\"text-align: right;\">\n",
       "      <th></th>\n",
       "      <th>Item_Identifier</th>\n",
       "      <th>Item_Weight</th>\n",
       "      <th>Item_Fat_Content</th>\n",
       "      <th>Item_Visibility</th>\n",
       "      <th>Item_Type</th>\n",
       "      <th>Item_MRP</th>\n",
       "      <th>Outlet_Identifier</th>\n",
       "      <th>Outlet_Establishment_Year</th>\n",
       "      <th>Outlet_Size</th>\n",
       "      <th>Outlet_Location_Type</th>\n",
       "      <th>Outlet_Type</th>\n",
       "      <th>Item_Outlet_Sales</th>\n",
       "    </tr>\n",
       "  </thead>\n",
       "  <tbody>\n",
       "    <tr>\n",
       "      <th>count</th>\n",
       "      <td>8523</td>\n",
       "      <td>7060.000000</td>\n",
       "      <td>8523</td>\n",
       "      <td>8523.000000</td>\n",
       "      <td>8523</td>\n",
       "      <td>8523.000000</td>\n",
       "      <td>8523</td>\n",
       "      <td>8523.000000</td>\n",
       "      <td>6113</td>\n",
       "      <td>8523</td>\n",
       "      <td>8523</td>\n",
       "      <td>8523.000000</td>\n",
       "    </tr>\n",
       "    <tr>\n",
       "      <th>unique</th>\n",
       "      <td>1559</td>\n",
       "      <td>NaN</td>\n",
       "      <td>5</td>\n",
       "      <td>NaN</td>\n",
       "      <td>16</td>\n",
       "      <td>NaN</td>\n",
       "      <td>10</td>\n",
       "      <td>NaN</td>\n",
       "      <td>3</td>\n",
       "      <td>3</td>\n",
       "      <td>4</td>\n",
       "      <td>NaN</td>\n",
       "    </tr>\n",
       "    <tr>\n",
       "      <th>top</th>\n",
       "      <td>FDG33</td>\n",
       "      <td>NaN</td>\n",
       "      <td>Low Fat</td>\n",
       "      <td>NaN</td>\n",
       "      <td>Fruits and Vegetables</td>\n",
       "      <td>NaN</td>\n",
       "      <td>OUT027</td>\n",
       "      <td>NaN</td>\n",
       "      <td>Medium</td>\n",
       "      <td>Tier 3</td>\n",
       "      <td>Supermarket Type1</td>\n",
       "      <td>NaN</td>\n",
       "    </tr>\n",
       "    <tr>\n",
       "      <th>freq</th>\n",
       "      <td>10</td>\n",
       "      <td>NaN</td>\n",
       "      <td>5089</td>\n",
       "      <td>NaN</td>\n",
       "      <td>1232</td>\n",
       "      <td>NaN</td>\n",
       "      <td>935</td>\n",
       "      <td>NaN</td>\n",
       "      <td>2793</td>\n",
       "      <td>3350</td>\n",
       "      <td>5577</td>\n",
       "      <td>NaN</td>\n",
       "    </tr>\n",
       "    <tr>\n",
       "      <th>mean</th>\n",
       "      <td>NaN</td>\n",
       "      <td>12.857645</td>\n",
       "      <td>NaN</td>\n",
       "      <td>0.066132</td>\n",
       "      <td>NaN</td>\n",
       "      <td>140.992782</td>\n",
       "      <td>NaN</td>\n",
       "      <td>1997.831867</td>\n",
       "      <td>NaN</td>\n",
       "      <td>NaN</td>\n",
       "      <td>NaN</td>\n",
       "      <td>2181.288914</td>\n",
       "    </tr>\n",
       "    <tr>\n",
       "      <th>std</th>\n",
       "      <td>NaN</td>\n",
       "      <td>4.643456</td>\n",
       "      <td>NaN</td>\n",
       "      <td>0.051598</td>\n",
       "      <td>NaN</td>\n",
       "      <td>62.275067</td>\n",
       "      <td>NaN</td>\n",
       "      <td>8.371760</td>\n",
       "      <td>NaN</td>\n",
       "      <td>NaN</td>\n",
       "      <td>NaN</td>\n",
       "      <td>1706.499616</td>\n",
       "    </tr>\n",
       "    <tr>\n",
       "      <th>min</th>\n",
       "      <td>NaN</td>\n",
       "      <td>4.555000</td>\n",
       "      <td>NaN</td>\n",
       "      <td>0.000000</td>\n",
       "      <td>NaN</td>\n",
       "      <td>31.290000</td>\n",
       "      <td>NaN</td>\n",
       "      <td>1985.000000</td>\n",
       "      <td>NaN</td>\n",
       "      <td>NaN</td>\n",
       "      <td>NaN</td>\n",
       "      <td>33.290000</td>\n",
       "    </tr>\n",
       "    <tr>\n",
       "      <th>25%</th>\n",
       "      <td>NaN</td>\n",
       "      <td>8.773750</td>\n",
       "      <td>NaN</td>\n",
       "      <td>0.026989</td>\n",
       "      <td>NaN</td>\n",
       "      <td>93.826500</td>\n",
       "      <td>NaN</td>\n",
       "      <td>1987.000000</td>\n",
       "      <td>NaN</td>\n",
       "      <td>NaN</td>\n",
       "      <td>NaN</td>\n",
       "      <td>834.247400</td>\n",
       "    </tr>\n",
       "    <tr>\n",
       "      <th>50%</th>\n",
       "      <td>NaN</td>\n",
       "      <td>12.600000</td>\n",
       "      <td>NaN</td>\n",
       "      <td>0.053931</td>\n",
       "      <td>NaN</td>\n",
       "      <td>143.012800</td>\n",
       "      <td>NaN</td>\n",
       "      <td>1999.000000</td>\n",
       "      <td>NaN</td>\n",
       "      <td>NaN</td>\n",
       "      <td>NaN</td>\n",
       "      <td>1794.331000</td>\n",
       "    </tr>\n",
       "    <tr>\n",
       "      <th>75%</th>\n",
       "      <td>NaN</td>\n",
       "      <td>16.850000</td>\n",
       "      <td>NaN</td>\n",
       "      <td>0.094585</td>\n",
       "      <td>NaN</td>\n",
       "      <td>185.643700</td>\n",
       "      <td>NaN</td>\n",
       "      <td>2004.000000</td>\n",
       "      <td>NaN</td>\n",
       "      <td>NaN</td>\n",
       "      <td>NaN</td>\n",
       "      <td>3101.296400</td>\n",
       "    </tr>\n",
       "    <tr>\n",
       "      <th>max</th>\n",
       "      <td>NaN</td>\n",
       "      <td>21.350000</td>\n",
       "      <td>NaN</td>\n",
       "      <td>0.328391</td>\n",
       "      <td>NaN</td>\n",
       "      <td>266.888400</td>\n",
       "      <td>NaN</td>\n",
       "      <td>2009.000000</td>\n",
       "      <td>NaN</td>\n",
       "      <td>NaN</td>\n",
       "      <td>NaN</td>\n",
       "      <td>13086.964800</td>\n",
       "    </tr>\n",
       "  </tbody>\n",
       "</table>\n",
       "</div>"
      ],
      "text/plain": [
       "       Item_Identifier  Item_Weight Item_Fat_Content  Item_Visibility  \\\n",
       "count             8523  7060.000000             8523      8523.000000   \n",
       "unique            1559          NaN                5              NaN   \n",
       "top              FDG33          NaN          Low Fat              NaN   \n",
       "freq                10          NaN             5089              NaN   \n",
       "mean               NaN    12.857645              NaN         0.066132   \n",
       "std                NaN     4.643456              NaN         0.051598   \n",
       "min                NaN     4.555000              NaN         0.000000   \n",
       "25%                NaN     8.773750              NaN         0.026989   \n",
       "50%                NaN    12.600000              NaN         0.053931   \n",
       "75%                NaN    16.850000              NaN         0.094585   \n",
       "max                NaN    21.350000              NaN         0.328391   \n",
       "\n",
       "                    Item_Type     Item_MRP Outlet_Identifier  \\\n",
       "count                    8523  8523.000000              8523   \n",
       "unique                     16          NaN                10   \n",
       "top     Fruits and Vegetables          NaN            OUT027   \n",
       "freq                     1232          NaN               935   \n",
       "mean                      NaN   140.992782               NaN   \n",
       "std                       NaN    62.275067               NaN   \n",
       "min                       NaN    31.290000               NaN   \n",
       "25%                       NaN    93.826500               NaN   \n",
       "50%                       NaN   143.012800               NaN   \n",
       "75%                       NaN   185.643700               NaN   \n",
       "max                       NaN   266.888400               NaN   \n",
       "\n",
       "        Outlet_Establishment_Year Outlet_Size Outlet_Location_Type  \\\n",
       "count                 8523.000000        6113                 8523   \n",
       "unique                        NaN           3                    3   \n",
       "top                           NaN      Medium               Tier 3   \n",
       "freq                          NaN        2793                 3350   \n",
       "mean                  1997.831867         NaN                  NaN   \n",
       "std                      8.371760         NaN                  NaN   \n",
       "min                   1985.000000         NaN                  NaN   \n",
       "25%                   1987.000000         NaN                  NaN   \n",
       "50%                   1999.000000         NaN                  NaN   \n",
       "75%                   2004.000000         NaN                  NaN   \n",
       "max                   2009.000000         NaN                  NaN   \n",
       "\n",
       "              Outlet_Type  Item_Outlet_Sales  \n",
       "count                8523        8523.000000  \n",
       "unique                  4                NaN  \n",
       "top     Supermarket Type1                NaN  \n",
       "freq                 5577                NaN  \n",
       "mean                  NaN        2181.288914  \n",
       "std                   NaN        1706.499616  \n",
       "min                   NaN          33.290000  \n",
       "25%                   NaN         834.247400  \n",
       "50%                   NaN        1794.331000  \n",
       "75%                   NaN        3101.296400  \n",
       "max                   NaN       13086.964800  "
      ]
     },
     "execution_count": 9,
     "metadata": {},
     "output_type": "execute_result"
    }
   ],
   "source": [
    "train_data.describe(include='all')"
   ]
  },
  {
   "cell_type": "markdown",
   "id": "3ccc9469",
   "metadata": {},
   "source": [
    "# Data Description\n",
    "\n",
    "We have train (8523) and test (5681) data set, train data set has both input and output variable(s). We need to predict the sales for test data set.\n",
    "\n",
    "Item_Identifier- It is the Unique product ID\n",
    "\n",
    "Item_Weight- It is the Weight of product\n",
    "\n",
    "Item_Fat_Content - It describes if the product is low fat or not\n",
    "\n",
    "Item_Visibility - The peercentage of total display area of all products in a store allocated to the particular product\n",
    "\n",
    "Item_Type - The category to which the product belongs\n",
    "\n",
    "Item_MRP - Maximum Retail Price (list price) of the product\n",
    "\n",
    "Outlet_Identifier - Unique store ID\n",
    "\n",
    "Outlet_Establishment_Year- The year in which store was established\n",
    "\n",
    "Outlet_Size - The size of the store in terms of ground area covered\n",
    "\n",
    "Outlet_Location_Type- The type of city in which the store is located\n",
    "\n",
    "Outlet_Type- Whether the outlet is just a grocery store or some sort of supermarket\n",
    "\n",
    "Item_Outlet_Sales - Sales of the product in the particulat store. This is the outcome variable to be predicted.\n",
    "\n",
    "Also we notice that below columns are categorical columns which we need to convert.\n",
    "\n",
    "            'Item_Identifier','Item_Type','Outlet_Identifier','Outlet_Size','Outlet_Location_Type','Outlet_Type' \n",
    "            and 'Item_Fat_Content' \n",
    " "
   ]
  },
  {
   "cell_type": "code",
   "execution_count": 10,
   "id": "62f04769",
   "metadata": {},
   "outputs": [
    {
     "data": {
      "text/plain": [
       "Item_Identifier              1559\n",
       "Item_Weight                   415\n",
       "Item_Fat_Content                5\n",
       "Item_Visibility              7880\n",
       "Item_Type                      16\n",
       "Item_MRP                     5938\n",
       "Outlet_Identifier              10\n",
       "Outlet_Establishment_Year       9\n",
       "Outlet_Size                     3\n",
       "Outlet_Location_Type            3\n",
       "Outlet_Type                     4\n",
       "Item_Outlet_Sales            3493\n",
       "dtype: int64"
      ]
     },
     "execution_count": 10,
     "metadata": {},
     "output_type": "execute_result"
    }
   ],
   "source": [
    "# Lets see number of distinct observations over requested axis\n",
    "train_data.nunique()"
   ]
  },
  {
   "cell_type": "markdown",
   "id": "7e0a16c2",
   "metadata": {},
   "source": [
    "We see that  Item_Fat_Content has 5 unique values, Item_Type has 16 unique values, Outlet_Identifier has 10 unique values.\n",
    "\n",
    "There are 9 Outlet_Establishment_Year, three Outlet_Size (small,medium and high), three Outlet_Location_Type and 4 Outlet Type.\n",
    "\n",
    "Other columns are not that unique"
   ]
  },
  {
   "cell_type": "markdown",
   "id": "a80c9045",
   "metadata": {},
   "source": [
    "# Evaluating the Categorical Features"
   ]
  },
  {
   "cell_type": "code",
   "execution_count": 11,
   "id": "117967d8",
   "metadata": {},
   "outputs": [
    {
     "name": "stdout",
     "output_type": "stream",
     "text": [
      "Frequency of Categories for Item Identifier\n"
     ]
    },
    {
     "data": {
      "text/plain": [
       "FDG33    10\n",
       "FDW13    10\n",
       "FDV60     9\n",
       "FDD38     9\n",
       "NCQ06     9\n",
       "Name: Item_Identifier, dtype: int64"
      ]
     },
     "execution_count": 11,
     "metadata": {},
     "output_type": "execute_result"
    }
   ],
   "source": [
    "print('Frequency of Categories for Item Identifier')\n",
    "id_counts = train_data['Item_Identifier'].value_counts()\n",
    "id_counts.head()"
   ]
  },
  {
   "cell_type": "code",
   "execution_count": 12,
   "id": "08cc3883",
   "metadata": {},
   "outputs": [
    {
     "name": "stdout",
     "output_type": "stream",
     "text": [
      "Frequency of Categories for Item_Fat_Content\n"
     ]
    },
    {
     "data": {
      "text/plain": [
       "Low Fat    5089\n",
       "Regular    2889\n",
       "LF          316\n",
       "reg         117\n",
       "low fat     112\n",
       "Name: Item_Fat_Content, dtype: int64"
      ]
     },
     "execution_count": 12,
     "metadata": {},
     "output_type": "execute_result"
    }
   ],
   "source": [
    "print('Frequency of Categories for Item_Fat_Content')\n",
    "id_counts = train_data['Item_Fat_Content'].value_counts()\n",
    "id_counts"
   ]
  },
  {
   "cell_type": "code",
   "execution_count": 13,
   "id": "d06e2ce8",
   "metadata": {},
   "outputs": [
    {
     "data": {
      "text/plain": [
       "<AxesSubplot:xlabel='Item_Fat_Content', ylabel='count'>"
      ]
     },
     "execution_count": 13,
     "metadata": {},
     "output_type": "execute_result"
    },
    {
     "data": {
      "image/png": "[encoded data removed]",
      "text/plain": [
       "<Figure size 432x288 with 1 Axes>"
      ]
     },
     "metadata": {
      "needs_background": "light"
     },
     "output_type": "display_data"
    }
   ],
   "source": [
    "sns.countplot(train_data.Item_Fat_Content)"
   ]
  },
  {
   "cell_type": "markdown",
   "id": "b20a711d",
   "metadata": {},
   "source": [
    "We see that Low Fat , low fat and LF are same names so lets rename it to Low Fat.\n",
    "\n",
    "Also, Regular and re are same , so lets rename them to Regular"
   ]
  },
  {
   "cell_type": "code",
   "execution_count": 14,
   "id": "35de4c64",
   "metadata": {},
   "outputs": [],
   "source": [
    "import re\n",
    "updated_fatContent = {\"Low Fat\": \"Low Fat\", \"Regular\": \"Regular\", \"low fat\": \"Low Fat\", \"LF\": \"Low Fat\", \"reg\": \"Regular\"}\n",
    "data = [train_data]\n",
    "\n",
    "for dataset in data:\n",
    "    dataset['Item_Fat_Content1'] = dataset['Item_Fat_Content'].map(updated_fatContent)"
   ]
  },
  {
   "cell_type": "code",
   "execution_count": 15,
   "id": "94edc970",
   "metadata": {},
   "outputs": [
    {
     "data": {
      "text/plain": [
       "Low Fat    5517\n",
       "Regular    3006\n",
       "Name: Item_Fat_Content1, dtype: int64"
      ]
     },
     "execution_count": 15,
     "metadata": {},
     "output_type": "execute_result"
    }
   ],
   "source": [
    "id_counts = train_data['Item_Fat_Content1'].value_counts()\n",
    "id_counts"
   ]
  },
  {
   "cell_type": "code",
   "execution_count": 16,
   "id": "be788697",
   "metadata": {},
   "outputs": [],
   "source": [
    "train_data=train_data.drop(['Item_Fat_Content'], axis=1)"
   ]
  },
  {
   "cell_type": "code",
   "execution_count": 17,
   "id": "9b0cb35e",
   "metadata": {
    "scrolled": true
   },
   "outputs": [],
   "source": [
    "train_data.rename(columns={\"Item_Fat_Content1\": \"Item_Fat_Content\"}, errors=\"raise\",inplace=True)"
   ]
  },
  {
   "cell_type": "code",
   "execution_count": 18,
   "id": "0f43d7b4",
   "metadata": {},
   "outputs": [
    {
     "data": {
      "text/html": [
       "<div>\n",
       "<style scoped>\n",
       "    .dataframe tbody tr th:only-of-type {\n",
       "        vertical-align: middle;\n",
       "    }\n",
       "\n",
       "    .dataframe tbody tr th {\n",
       "        vertical-align: top;\n",
       "    }\n",
       "\n",
       "    .dataframe thead th {\n",
       "        text-align: right;\n",
       "    }\n",
       "</style>\n",
       "<table border=\"1\" class=\"dataframe\">\n",
       "  <thead>\n",
       "    <tr style=\"text-align: right;\">\n",
       "      <th></th>\n",
       "      <th>Item_Identifier</th>\n",
       "      <th>Item_Weight</th>\n",
       "      <th>Item_Visibility</th>\n",
       "      <th>Item_Type</th>\n",
       "      <th>Item_MRP</th>\n",
       "      <th>Outlet_Identifier</th>\n",
       "      <th>Outlet_Establishment_Year</th>\n",
       "      <th>Outlet_Size</th>\n",
       "      <th>Outlet_Location_Type</th>\n",
       "      <th>Outlet_Type</th>\n",
       "      <th>Item_Outlet_Sales</th>\n",
       "      <th>Item_Fat_Content</th>\n",
       "    </tr>\n",
       "  </thead>\n",
       "  <tbody>\n",
       "    <tr>\n",
       "      <th>0</th>\n",
       "      <td>FDA15</td>\n",
       "      <td>9.30</td>\n",
       "      <td>0.016047</td>\n",
       "      <td>Dairy</td>\n",
       "      <td>249.8092</td>\n",
       "      <td>OUT049</td>\n",
       "      <td>1999</td>\n",
       "      <td>Medium</td>\n",
       "      <td>Tier 1</td>\n",
       "      <td>Supermarket Type1</td>\n",
       "      <td>3735.1380</td>\n",
       "      <td>Low Fat</td>\n",
       "    </tr>\n",
       "    <tr>\n",
       "      <th>1</th>\n",
       "      <td>DRC01</td>\n",
       "      <td>5.92</td>\n",
       "      <td>0.019278</td>\n",
       "      <td>Soft Drinks</td>\n",
       "      <td>48.2692</td>\n",
       "      <td>OUT018</td>\n",
       "      <td>2009</td>\n",
       "      <td>Medium</td>\n",
       "      <td>Tier 3</td>\n",
       "      <td>Supermarket Type2</td>\n",
       "      <td>443.4228</td>\n",
       "      <td>Regular</td>\n",
       "    </tr>\n",
       "  </tbody>\n",
       "</table>\n",
       "</div>"
      ],
      "text/plain": [
       "  Item_Identifier  Item_Weight  Item_Visibility    Item_Type  Item_MRP  \\\n",
       "0           FDA15         9.30         0.016047        Dairy  249.8092   \n",
       "1           DRC01         5.92         0.019278  Soft Drinks   48.2692   \n",
       "\n",
       "  Outlet_Identifier  Outlet_Establishment_Year Outlet_Size  \\\n",
       "0            OUT049                       1999      Medium   \n",
       "1            OUT018                       2009      Medium   \n",
       "\n",
       "  Outlet_Location_Type        Outlet_Type  Item_Outlet_Sales Item_Fat_Content  \n",
       "0               Tier 1  Supermarket Type1          3735.1380          Low Fat  \n",
       "1               Tier 3  Supermarket Type2           443.4228          Regular  "
      ]
     },
     "execution_count": 18,
     "metadata": {},
     "output_type": "execute_result"
    }
   ],
   "source": [
    "train_data.head(2)"
   ]
  },
  {
   "cell_type": "code",
   "execution_count": 19,
   "id": "15c2a48d",
   "metadata": {},
   "outputs": [
    {
     "data": {
      "text/plain": [
       "<AxesSubplot:xlabel='Item_Fat_Content', ylabel='count'>"
      ]
     },
     "execution_count": 19,
     "metadata": {},
     "output_type": "execute_result"
    },
    {
     "data": {
      "image/png": "[encoded data removed]",
      "text/plain": [
       "<Figure size 432x288 with 1 Axes>"
      ]
     },
     "metadata": {
      "needs_background": "light"
     },
     "output_type": "display_data"
    }
   ],
   "source": [
    "sns.countplot(train_data.Item_Fat_Content)"
   ]
  },
  {
   "cell_type": "code",
   "execution_count": 20,
   "id": "d05bc0cd",
   "metadata": {},
   "outputs": [
    {
     "name": "stdout",
     "output_type": "stream",
     "text": [
      "Frequency of Categories for Item Type\n"
     ]
    },
    {
     "data": {
      "text/plain": [
       "Fruits and Vegetables    1232\n",
       "Snack Foods              1200\n",
       "Household                 910\n",
       "Frozen Foods              856\n",
       "Dairy                     682\n",
       "Canned                    649\n",
       "Baking Goods              648\n",
       "Health and Hygiene        520\n",
       "Soft Drinks               445\n",
       "Meat                      425\n",
       "Breads                    251\n",
       "Hard Drinks               214\n",
       "Others                    169\n",
       "Starchy Foods             148\n",
       "Breakfast                 110\n",
       "Seafood                    64\n",
       "Name: Item_Type, dtype: int64"
      ]
     },
     "execution_count": 20,
     "metadata": {},
     "output_type": "execute_result"
    }
   ],
   "source": [
    "print('Frequency of Categories for Item Type')\n",
    "id_counts = train_data['Item_Type'].value_counts()\n",
    "id_counts"
   ]
  },
  {
   "cell_type": "code",
   "execution_count": 21,
   "id": "799887b9",
   "metadata": {},
   "outputs": [
    {
     "data": {
      "text/plain": [
       "(array([ 0,  1,  2,  3,  4,  5,  6,  7,  8,  9, 10, 11, 12, 13, 14, 15]),\n",
       " [Text(0, 0, 'Dairy'),\n",
       "  Text(1, 0, 'Soft Drinks'),\n",
       "  Text(2, 0, 'Meat'),\n",
       "  Text(3, 0, 'Fruits and Vegetables'),\n",
       "  Text(4, 0, 'Household'),\n",
       "  Text(5, 0, 'Baking Goods'),\n",
       "  Text(6, 0, 'Snack Foods'),\n",
       "  Text(7, 0, 'Frozen Foods'),\n",
       "  Text(8, 0, 'Breakfast'),\n",
       "  Text(9, 0, 'Health and Hygiene'),\n",
       "  Text(10, 0, 'Hard Drinks'),\n",
       "  Text(11, 0, 'Canned'),\n",
       "  Text(12, 0, 'Breads'),\n",
       "  Text(13, 0, 'Starchy Foods'),\n",
       "  Text(14, 0, 'Others'),\n",
       "  Text(15, 0, 'Seafood')])"
      ]
     },
     "execution_count": 21,
     "metadata": {},
     "output_type": "execute_result"
    },
    {
     "data": {
      "image/png": "[encoded data removed]",
      "text/plain": [
       "<Figure size 432x288 with 1 Axes>"
      ]
     },
     "metadata": {
      "needs_background": "light"
     },
     "output_type": "display_data"
    }
   ],
   "source": [
    "sns.countplot(train_data.Item_Type)\n",
    "plt.xticks(rotation=90)"
   ]
  },
  {
   "cell_type": "code",
   "execution_count": 22,
   "id": "8877cdb8",
   "metadata": {},
   "outputs": [
    {
     "data": {
      "text/plain": [
       "Item_Fat_Content  Item_Type            \n",
       "Low Fat           Baking Goods             329\n",
       "                  Breads                   140\n",
       "                  Breakfast                 41\n",
       "                  Canned                   341\n",
       "                  Dairy                    418\n",
       "                  Frozen Foods             450\n",
       "                  Fruits and Vegetables    630\n",
       "                  Hard Drinks              214\n",
       "                  Health and Hygiene       520\n",
       "                  Household                910\n",
       "                  Meat                     170\n",
       "                  Others                   169\n",
       "                  Seafood                   37\n",
       "                  Snack Foods              692\n",
       "                  Soft Drinks              374\n",
       "                  Starchy Foods             82\n",
       "Regular           Baking Goods             319\n",
       "                  Breads                   111\n",
       "                  Breakfast                 69\n",
       "                  Canned                   308\n",
       "                  Dairy                    264\n",
       "                  Frozen Foods             406\n",
       "                  Fruits and Vegetables    602\n",
       "                  Meat                     255\n",
       "                  Seafood                   27\n",
       "                  Snack Foods              508\n",
       "                  Soft Drinks               71\n",
       "                  Starchy Foods             66\n",
       "dtype: int64"
      ]
     },
     "execution_count": 22,
     "metadata": {},
     "output_type": "execute_result"
    }
   ],
   "source": [
    "# Check which Item_Type has how many Item_Fat_Content\n",
    "Item_Type_and_fat_counts = train_data.groupby([\"Item_Fat_Content\",\"Item_Type\"]).size()\n",
    "(Item_Type_and_fat_counts)"
   ]
  },
  {
   "cell_type": "code",
   "execution_count": 23,
   "id": "7ca22841",
   "metadata": {},
   "outputs": [
    {
     "name": "stdout",
     "output_type": "stream",
     "text": [
      "Frequency of Categories for Outlet Identifier\n"
     ]
    },
    {
     "data": {
      "text/plain": [
       "OUT027    935\n",
       "OUT013    932\n",
       "OUT049    930\n",
       "OUT046    930\n",
       "OUT035    930\n",
       "OUT045    929\n",
       "OUT018    928\n",
       "OUT017    926\n",
       "OUT010    555\n",
       "OUT019    528\n",
       "Name: Outlet_Identifier, dtype: int64"
      ]
     },
     "execution_count": 23,
     "metadata": {},
     "output_type": "execute_result"
    }
   ],
   "source": [
    "print('Frequency of Categories for Outlet Identifier')\n",
    "id_counts = train_data['Outlet_Identifier'].value_counts()\n",
    "id_counts"
   ]
  },
  {
   "cell_type": "code",
   "execution_count": 24,
   "id": "5ce7bed3",
   "metadata": {},
   "outputs": [
    {
     "name": "stdout",
     "output_type": "stream",
     "text": [
      "Frequency of Categories for Outlet Size\n"
     ]
    },
    {
     "data": {
      "text/plain": [
       "Medium    2793\n",
       "Small     2388\n",
       "High       932\n",
       "Name: Outlet_Size, dtype: int64"
      ]
     },
     "execution_count": 24,
     "metadata": {},
     "output_type": "execute_result"
    }
   ],
   "source": [
    "print('Frequency of Categories for Outlet Size')\n",
    "id_counts = train_data['Outlet_Size'].value_counts()\n",
    "id_counts"
   ]
  },
  {
   "cell_type": "code",
   "execution_count": 25,
   "id": "76a22ad1",
   "metadata": {},
   "outputs": [
    {
     "name": "stdout",
     "output_type": "stream",
     "text": [
      "Frequency of Categories for Outlet Location Type\n"
     ]
    },
    {
     "data": {
      "text/plain": [
       "Tier 3    3350\n",
       "Tier 2    2785\n",
       "Tier 1    2388\n",
       "Name: Outlet_Location_Type, dtype: int64"
      ]
     },
     "execution_count": 25,
     "metadata": {},
     "output_type": "execute_result"
    }
   ],
   "source": [
    "print('Frequency of Categories for Outlet Location Type')\n",
    "id_counts = train_data['Outlet_Location_Type'].value_counts()\n",
    "id_counts"
   ]
  },
  {
   "cell_type": "code",
   "execution_count": 26,
   "id": "f79f31de",
   "metadata": {},
   "outputs": [
    {
     "name": "stdout",
     "output_type": "stream",
     "text": [
      "Frequency of Categories for Outlet Type\n"
     ]
    },
    {
     "data": {
      "text/plain": [
       "Supermarket Type1    5577\n",
       "Grocery Store        1083\n",
       "Supermarket Type3     935\n",
       "Supermarket Type2     928\n",
       "Name: Outlet_Type, dtype: int64"
      ]
     },
     "execution_count": 26,
     "metadata": {},
     "output_type": "execute_result"
    }
   ],
   "source": [
    "print('Frequency of Categories for Outlet Type')\n",
    "id_counts = train_data['Outlet_Type'].value_counts()\n",
    "id_counts"
   ]
  },
  {
   "cell_type": "code",
   "execution_count": 27,
   "id": "4fa59705",
   "metadata": {},
   "outputs": [
    {
     "data": {
      "text/plain": [
       "(array([0, 1, 2, 3]),\n",
       " [Text(0, 0, 'Supermarket Type1'),\n",
       "  Text(1, 0, 'Supermarket Type2'),\n",
       "  Text(2, 0, 'Grocery Store'),\n",
       "  Text(3, 0, 'Supermarket Type3')])"
      ]
     },
     "execution_count": 27,
     "metadata": {},
     "output_type": "execute_result"
    },
    {
     "data": {
      "image/png": "[encoded data removed]",
      "text/plain": [
       "<Figure size 432x288 with 1 Axes>"
      ]
     },
     "metadata": {
      "needs_background": "light"
     },
     "output_type": "display_data"
    }
   ],
   "source": [
    "sns.countplot(train_data.Outlet_Type)\n",
    "plt.xticks(rotation=90)"
   ]
  },
  {
   "cell_type": "code",
   "execution_count": 28,
   "id": "e12247e8",
   "metadata": {},
   "outputs": [
    {
     "name": "stdout",
     "output_type": "stream",
     "text": [
      "Outlet_Location_Type  Outlet_Identifier  Outlet_Type      \n",
      "Tier 1                OUT019             Grocery Store        528\n",
      "                      OUT046             Supermarket Type1    930\n",
      "                      OUT049             Supermarket Type1    930\n",
      "Tier 2                OUT017             Supermarket Type1    926\n",
      "                      OUT035             Supermarket Type1    930\n",
      "                      OUT045             Supermarket Type1    929\n",
      "Tier 3                OUT010             Grocery Store        555\n",
      "                      OUT013             Supermarket Type1    932\n",
      "                      OUT018             Supermarket Type2    928\n",
      "                      OUT027             Supermarket Type3    935\n",
      "dtype: int64\n"
     ]
    }
   ],
   "source": [
    "Outlet_Location_Type_counts = train_data.groupby([\"Outlet_Location_Type\",\"Outlet_Identifier\",\"Outlet_Type\"]).size()\n",
    "print(Outlet_Location_Type_counts)"
   ]
  },
  {
   "cell_type": "code",
   "execution_count": 29,
   "id": "7ff173fa",
   "metadata": {},
   "outputs": [
    {
     "name": "stdout",
     "output_type": "stream",
     "text": [
      "Outlet_Type        Outlet_Size\n",
      "Grocery Store      Small           528\n",
      "Supermarket Type1  High            932\n",
      "                   Medium          930\n",
      "                   Small          1860\n",
      "Supermarket Type2  Medium          928\n",
      "Supermarket Type3  Medium          935\n",
      "dtype: int64\n"
     ]
    }
   ],
   "source": [
    "Outlet_Location_Type_counts = train_data.groupby([\"Outlet_Type\",\"Outlet_Size\"]).size()\n",
    "print(Outlet_Location_Type_counts)"
   ]
  },
  {
   "cell_type": "markdown",
   "id": "763524fd",
   "metadata": {},
   "source": [
    "# Dealing with Null values"
   ]
  },
  {
   "cell_type": "code",
   "execution_count": 30,
   "id": "f00c7bce",
   "metadata": {},
   "outputs": [
    {
     "data": {
      "text/html": [
       "<div>\n",
       "<style scoped>\n",
       "    .dataframe tbody tr th:only-of-type {\n",
       "        vertical-align: middle;\n",
       "    }\n",
       "\n",
       "    .dataframe tbody tr th {\n",
       "        vertical-align: top;\n",
       "    }\n",
       "\n",
       "    .dataframe thead th {\n",
       "        text-align: right;\n",
       "    }\n",
       "</style>\n",
       "<table border=\"1\" class=\"dataframe\">\n",
       "  <thead>\n",
       "    <tr style=\"text-align: right;\">\n",
       "      <th></th>\n",
       "      <th>Item_Identifier</th>\n",
       "      <th>Item_Weight</th>\n",
       "      <th>Item_Visibility</th>\n",
       "      <th>Item_Type</th>\n",
       "      <th>Item_MRP</th>\n",
       "      <th>Outlet_Identifier</th>\n",
       "      <th>Outlet_Establishment_Year</th>\n",
       "      <th>Outlet_Size</th>\n",
       "      <th>Outlet_Location_Type</th>\n",
       "      <th>Outlet_Type</th>\n",
       "      <th>Item_Outlet_Sales</th>\n",
       "      <th>Item_Fat_Content</th>\n",
       "    </tr>\n",
       "  </thead>\n",
       "  <tbody>\n",
       "    <tr>\n",
       "      <th>0</th>\n",
       "      <td>FDA15</td>\n",
       "      <td>9.30</td>\n",
       "      <td>0.016047</td>\n",
       "      <td>Dairy</td>\n",
       "      <td>249.8092</td>\n",
       "      <td>OUT049</td>\n",
       "      <td>1999</td>\n",
       "      <td>Medium</td>\n",
       "      <td>Tier 1</td>\n",
       "      <td>Supermarket Type1</td>\n",
       "      <td>3735.1380</td>\n",
       "      <td>Low Fat</td>\n",
       "    </tr>\n",
       "    <tr>\n",
       "      <th>1</th>\n",
       "      <td>DRC01</td>\n",
       "      <td>5.92</td>\n",
       "      <td>0.019278</td>\n",
       "      <td>Soft Drinks</td>\n",
       "      <td>48.2692</td>\n",
       "      <td>OUT018</td>\n",
       "      <td>2009</td>\n",
       "      <td>Medium</td>\n",
       "      <td>Tier 3</td>\n",
       "      <td>Supermarket Type2</td>\n",
       "      <td>443.4228</td>\n",
       "      <td>Regular</td>\n",
       "    </tr>\n",
       "  </tbody>\n",
       "</table>\n",
       "</div>"
      ],
      "text/plain": [
       "  Item_Identifier  Item_Weight  Item_Visibility    Item_Type  Item_MRP  \\\n",
       "0           FDA15         9.30         0.016047        Dairy  249.8092   \n",
       "1           DRC01         5.92         0.019278  Soft Drinks   48.2692   \n",
       "\n",
       "  Outlet_Identifier  Outlet_Establishment_Year Outlet_Size  \\\n",
       "0            OUT049                       1999      Medium   \n",
       "1            OUT018                       2009      Medium   \n",
       "\n",
       "  Outlet_Location_Type        Outlet_Type  Item_Outlet_Sales Item_Fat_Content  \n",
       "0               Tier 1  Supermarket Type1          3735.1380          Low Fat  \n",
       "1               Tier 3  Supermarket Type2           443.4228          Regular  "
      ]
     },
     "execution_count": 30,
     "metadata": {},
     "output_type": "execute_result"
    }
   ],
   "source": [
    "train_data.head(2)"
   ]
  },
  {
   "cell_type": "markdown",
   "id": "184d4939",
   "metadata": {},
   "source": [
    "# Filling Item Weight"
   ]
  },
  {
   "cell_type": "code",
   "execution_count": 31,
   "id": "53a32bb7",
   "metadata": {},
   "outputs": [
    {
     "data": {
      "text/plain": [
       "Outlet_Type        Outlet_Identifier  Outlet_Size\n",
       "Grocery Store      OUT019             Small          528\n",
       "Supermarket Type3  OUT027             Medium         935\n",
       "dtype: int64"
      ]
     },
     "execution_count": 31,
     "metadata": {},
     "output_type": "execute_result"
    }
   ],
   "source": [
    "missingItemWeight = train_data[train_data['Item_Weight'].isnull()]\n",
    "a=missingItemWeight.groupby([\"Outlet_Type\",\"Outlet_Identifier\",\"Outlet_Size\"]).size()\n",
    "a"
   ]
  },
  {
   "cell_type": "code",
   "execution_count": 32,
   "id": "83319a0f",
   "metadata": {},
   "outputs": [
    {
     "data": {
      "text/html": [
       "<div>\n",
       "<style scoped>\n",
       "    .dataframe tbody tr th:only-of-type {\n",
       "        vertical-align: middle;\n",
       "    }\n",
       "\n",
       "    .dataframe tbody tr th {\n",
       "        vertical-align: top;\n",
       "    }\n",
       "\n",
       "    .dataframe thead th {\n",
       "        text-align: right;\n",
       "    }\n",
       "</style>\n",
       "<table border=\"1\" class=\"dataframe\">\n",
       "  <thead>\n",
       "    <tr style=\"text-align: right;\">\n",
       "      <th></th>\n",
       "      <th>Outlet_Size</th>\n",
       "      <th>Item_Weight</th>\n",
       "    </tr>\n",
       "  </thead>\n",
       "  <tbody>\n",
       "    <tr>\n",
       "      <th>0</th>\n",
       "      <td>High</td>\n",
       "      <td>13.006148</td>\n",
       "    </tr>\n",
       "    <tr>\n",
       "      <th>1</th>\n",
       "      <td>Medium</td>\n",
       "      <td>12.895420</td>\n",
       "    </tr>\n",
       "    <tr>\n",
       "      <th>2</th>\n",
       "      <td>Small</td>\n",
       "      <td>12.848075</td>\n",
       "    </tr>\n",
       "  </tbody>\n",
       "</table>\n",
       "</div>"
      ],
      "text/plain": [
       "  Outlet_Size  Item_Weight\n",
       "0        High    13.006148\n",
       "1      Medium    12.895420\n",
       "2       Small    12.848075"
      ]
     },
     "execution_count": 32,
     "metadata": {},
     "output_type": "execute_result"
    }
   ],
   "source": [
    "train_data.groupby('Outlet_Size', as_index=False)['Item_Weight'].mean()"
   ]
  },
  {
   "cell_type": "markdown",
   "id": "4bd2acee",
   "metadata": {},
   "source": [
    "If the weight would have been different for Small and Medium Outlet_Size, then we would have filled it with the mean of Small Outlet_Size and medium Outlet_Size. BUt here the mean of Small and medium Outlet Size is almost same, so lets take mean of the Item_Weight"
   ]
  },
  {
   "cell_type": "code",
   "execution_count": 33,
   "id": "9ee91667",
   "metadata": {},
   "outputs": [],
   "source": [
    "train_data.Item_Weight = train_data.Item_Weight.fillna(train_data.Item_Weight.mean())"
   ]
  },
  {
   "cell_type": "code",
   "execution_count": 34,
   "id": "22cde445",
   "metadata": {},
   "outputs": [
    {
     "data": {
      "text/plain": [
       "Item_Identifier                 0\n",
       "Item_Weight                     0\n",
       "Item_Visibility                 0\n",
       "Item_Type                       0\n",
       "Item_MRP                        0\n",
       "Outlet_Identifier               0\n",
       "Outlet_Establishment_Year       0\n",
       "Outlet_Size                  2410\n",
       "Outlet_Location_Type            0\n",
       "Outlet_Type                     0\n",
       "Item_Outlet_Sales               0\n",
       "Item_Fat_Content                0\n",
       "dtype: int64"
      ]
     },
     "execution_count": 34,
     "metadata": {},
     "output_type": "execute_result"
    }
   ],
   "source": [
    "train_data.isnull().sum()"
   ]
  },
  {
   "cell_type": "markdown",
   "id": "4b8f589b",
   "metadata": {},
   "source": [
    "Now we dont have any null records in Item_Weight"
   ]
  },
  {
   "cell_type": "markdown",
   "id": "d6e5e792",
   "metadata": {},
   "source": [
    "# Filling Outlet_Size"
   ]
  },
  {
   "cell_type": "code",
   "execution_count": 35,
   "id": "696c4882",
   "metadata": {},
   "outputs": [
    {
     "data": {
      "text/html": [
       "<div>\n",
       "<style scoped>\n",
       "    .dataframe tbody tr th:only-of-type {\n",
       "        vertical-align: middle;\n",
       "    }\n",
       "\n",
       "    .dataframe tbody tr th {\n",
       "        vertical-align: top;\n",
       "    }\n",
       "\n",
       "    .dataframe thead th {\n",
       "        text-align: right;\n",
       "    }\n",
       "</style>\n",
       "<table border=\"1\" class=\"dataframe\">\n",
       "  <thead>\n",
       "    <tr style=\"text-align: right;\">\n",
       "      <th></th>\n",
       "      <th>Item_Identifier</th>\n",
       "      <th>Item_Weight</th>\n",
       "      <th>Item_Visibility</th>\n",
       "      <th>Item_Type</th>\n",
       "      <th>Item_MRP</th>\n",
       "      <th>Outlet_Identifier</th>\n",
       "      <th>Outlet_Establishment_Year</th>\n",
       "      <th>Outlet_Size</th>\n",
       "      <th>Outlet_Location_Type</th>\n",
       "      <th>Outlet_Type</th>\n",
       "      <th>Item_Outlet_Sales</th>\n",
       "      <th>Item_Fat_Content</th>\n",
       "    </tr>\n",
       "  </thead>\n",
       "  <tbody>\n",
       "    <tr>\n",
       "      <th>3</th>\n",
       "      <td>FDX07</td>\n",
       "      <td>19.200</td>\n",
       "      <td>0.000000</td>\n",
       "      <td>Fruits and Vegetables</td>\n",
       "      <td>182.0950</td>\n",
       "      <td>OUT010</td>\n",
       "      <td>1998</td>\n",
       "      <td>NaN</td>\n",
       "      <td>Tier 3</td>\n",
       "      <td>Grocery Store</td>\n",
       "      <td>732.3800</td>\n",
       "      <td>Regular</td>\n",
       "    </tr>\n",
       "    <tr>\n",
       "      <th>8</th>\n",
       "      <td>FDH17</td>\n",
       "      <td>16.200</td>\n",
       "      <td>0.016687</td>\n",
       "      <td>Frozen Foods</td>\n",
       "      <td>96.9726</td>\n",
       "      <td>OUT045</td>\n",
       "      <td>2002</td>\n",
       "      <td>NaN</td>\n",
       "      <td>Tier 2</td>\n",
       "      <td>Supermarket Type1</td>\n",
       "      <td>1076.5986</td>\n",
       "      <td>Regular</td>\n",
       "    </tr>\n",
       "    <tr>\n",
       "      <th>9</th>\n",
       "      <td>FDU28</td>\n",
       "      <td>19.200</td>\n",
       "      <td>0.094450</td>\n",
       "      <td>Frozen Foods</td>\n",
       "      <td>187.8214</td>\n",
       "      <td>OUT017</td>\n",
       "      <td>2007</td>\n",
       "      <td>NaN</td>\n",
       "      <td>Tier 2</td>\n",
       "      <td>Supermarket Type1</td>\n",
       "      <td>4710.5350</td>\n",
       "      <td>Regular</td>\n",
       "    </tr>\n",
       "    <tr>\n",
       "      <th>25</th>\n",
       "      <td>NCD06</td>\n",
       "      <td>13.000</td>\n",
       "      <td>0.099887</td>\n",
       "      <td>Household</td>\n",
       "      <td>45.9060</td>\n",
       "      <td>OUT017</td>\n",
       "      <td>2007</td>\n",
       "      <td>NaN</td>\n",
       "      <td>Tier 2</td>\n",
       "      <td>Supermarket Type1</td>\n",
       "      <td>838.9080</td>\n",
       "      <td>Low Fat</td>\n",
       "    </tr>\n",
       "    <tr>\n",
       "      <th>28</th>\n",
       "      <td>FDE51</td>\n",
       "      <td>5.925</td>\n",
       "      <td>0.161467</td>\n",
       "      <td>Dairy</td>\n",
       "      <td>45.5086</td>\n",
       "      <td>OUT010</td>\n",
       "      <td>1998</td>\n",
       "      <td>NaN</td>\n",
       "      <td>Tier 3</td>\n",
       "      <td>Grocery Store</td>\n",
       "      <td>178.4344</td>\n",
       "      <td>Regular</td>\n",
       "    </tr>\n",
       "    <tr>\n",
       "      <th>...</th>\n",
       "      <td>...</td>\n",
       "      <td>...</td>\n",
       "      <td>...</td>\n",
       "      <td>...</td>\n",
       "      <td>...</td>\n",
       "      <td>...</td>\n",
       "      <td>...</td>\n",
       "      <td>...</td>\n",
       "      <td>...</td>\n",
       "      <td>...</td>\n",
       "      <td>...</td>\n",
       "      <td>...</td>\n",
       "    </tr>\n",
       "    <tr>\n",
       "      <th>8502</th>\n",
       "      <td>NCH43</td>\n",
       "      <td>8.420</td>\n",
       "      <td>0.070712</td>\n",
       "      <td>Household</td>\n",
       "      <td>216.4192</td>\n",
       "      <td>OUT045</td>\n",
       "      <td>2002</td>\n",
       "      <td>NaN</td>\n",
       "      <td>Tier 2</td>\n",
       "      <td>Supermarket Type1</td>\n",
       "      <td>3020.0688</td>\n",
       "      <td>Low Fat</td>\n",
       "    </tr>\n",
       "    <tr>\n",
       "      <th>8508</th>\n",
       "      <td>FDW31</td>\n",
       "      <td>11.350</td>\n",
       "      <td>0.043246</td>\n",
       "      <td>Fruits and Vegetables</td>\n",
       "      <td>199.4742</td>\n",
       "      <td>OUT045</td>\n",
       "      <td>2002</td>\n",
       "      <td>NaN</td>\n",
       "      <td>Tier 2</td>\n",
       "      <td>Supermarket Type1</td>\n",
       "      <td>2587.9646</td>\n",
       "      <td>Regular</td>\n",
       "    </tr>\n",
       "    <tr>\n",
       "      <th>8509</th>\n",
       "      <td>FDG45</td>\n",
       "      <td>8.100</td>\n",
       "      <td>0.214306</td>\n",
       "      <td>Fruits and Vegetables</td>\n",
       "      <td>213.9902</td>\n",
       "      <td>OUT010</td>\n",
       "      <td>1998</td>\n",
       "      <td>NaN</td>\n",
       "      <td>Tier 3</td>\n",
       "      <td>Grocery Store</td>\n",
       "      <td>424.7804</td>\n",
       "      <td>Low Fat</td>\n",
       "    </tr>\n",
       "    <tr>\n",
       "      <th>8514</th>\n",
       "      <td>FDA01</td>\n",
       "      <td>15.000</td>\n",
       "      <td>0.054489</td>\n",
       "      <td>Canned</td>\n",
       "      <td>57.5904</td>\n",
       "      <td>OUT045</td>\n",
       "      <td>2002</td>\n",
       "      <td>NaN</td>\n",
       "      <td>Tier 2</td>\n",
       "      <td>Supermarket Type1</td>\n",
       "      <td>468.7232</td>\n",
       "      <td>Regular</td>\n",
       "    </tr>\n",
       "    <tr>\n",
       "      <th>8519</th>\n",
       "      <td>FDS36</td>\n",
       "      <td>8.380</td>\n",
       "      <td>0.046982</td>\n",
       "      <td>Baking Goods</td>\n",
       "      <td>108.1570</td>\n",
       "      <td>OUT045</td>\n",
       "      <td>2002</td>\n",
       "      <td>NaN</td>\n",
       "      <td>Tier 2</td>\n",
       "      <td>Supermarket Type1</td>\n",
       "      <td>549.2850</td>\n",
       "      <td>Regular</td>\n",
       "    </tr>\n",
       "  </tbody>\n",
       "</table>\n",
       "<p>2410 rows × 12 columns</p>\n",
       "</div>"
      ],
      "text/plain": [
       "     Item_Identifier  Item_Weight  Item_Visibility              Item_Type  \\\n",
       "3              FDX07       19.200         0.000000  Fruits and Vegetables   \n",
       "8              FDH17       16.200         0.016687           Frozen Foods   \n",
       "9              FDU28       19.200         0.094450           Frozen Foods   \n",
       "25             NCD06       13.000         0.099887              Household   \n",
       "28             FDE51        5.925         0.161467                  Dairy   \n",
       "...              ...          ...              ...                    ...   \n",
       "8502           NCH43        8.420         0.070712              Household   \n",
       "8508           FDW31       11.350         0.043246  Fruits and Vegetables   \n",
       "8509           FDG45        8.100         0.214306  Fruits and Vegetables   \n",
       "8514           FDA01       15.000         0.054489                 Canned   \n",
       "8519           FDS36        8.380         0.046982           Baking Goods   \n",
       "\n",
       "      Item_MRP Outlet_Identifier  Outlet_Establishment_Year Outlet_Size  \\\n",
       "3     182.0950            OUT010                       1998         NaN   \n",
       "8      96.9726            OUT045                       2002         NaN   \n",
       "9     187.8214            OUT017                       2007         NaN   \n",
       "25     45.9060            OUT017                       2007         NaN   \n",
       "28     45.5086            OUT010                       1998         NaN   \n",
       "...        ...               ...                        ...         ...   \n",
       "8502  216.4192            OUT045                       2002         NaN   \n",
       "8508  199.4742            OUT045                       2002         NaN   \n",
       "8509  213.9902            OUT010                       1998         NaN   \n",
       "8514   57.5904            OUT045                       2002         NaN   \n",
       "8519  108.1570            OUT045                       2002         NaN   \n",
       "\n",
       "     Outlet_Location_Type        Outlet_Type  Item_Outlet_Sales  \\\n",
       "3                  Tier 3      Grocery Store           732.3800   \n",
       "8                  Tier 2  Supermarket Type1          1076.5986   \n",
       "9                  Tier 2  Supermarket Type1          4710.5350   \n",
       "25                 Tier 2  Supermarket Type1           838.9080   \n",
       "28                 Tier 3      Grocery Store           178.4344   \n",
       "...                   ...                ...                ...   \n",
       "8502               Tier 2  Supermarket Type1          3020.0688   \n",
       "8508               Tier 2  Supermarket Type1          2587.9646   \n",
       "8509               Tier 3      Grocery Store           424.7804   \n",
       "8514               Tier 2  Supermarket Type1           468.7232   \n",
       "8519               Tier 2  Supermarket Type1           549.2850   \n",
       "\n",
       "     Item_Fat_Content  \n",
       "3             Regular  \n",
       "8             Regular  \n",
       "9             Regular  \n",
       "25            Low Fat  \n",
       "28            Regular  \n",
       "...               ...  \n",
       "8502          Low Fat  \n",
       "8508          Regular  \n",
       "8509          Low Fat  \n",
       "8514          Regular  \n",
       "8519          Regular  \n",
       "\n",
       "[2410 rows x 12 columns]"
      ]
     },
     "execution_count": 35,
     "metadata": {},
     "output_type": "execute_result"
    }
   ],
   "source": [
    "missingOutletSize = train_data[train_data['Outlet_Size'].isnull()]\n",
    "missingOutletSize"
   ]
  },
  {
   "cell_type": "code",
   "execution_count": 36,
   "id": "f79f5e73",
   "metadata": {},
   "outputs": [
    {
     "data": {
      "text/plain": [
       "Medium    2793\n",
       "Small     2388\n",
       "High       932\n",
       "Name: Outlet_Size, dtype: int64"
      ]
     },
     "execution_count": 36,
     "metadata": {},
     "output_type": "execute_result"
    }
   ],
   "source": [
    "train_data['Outlet_Size'].value_counts()"
   ]
  },
  {
   "cell_type": "markdown",
   "id": "760b7618",
   "metadata": {},
   "source": [
    "There seems to be no direct relation for filling Outlet Size, so we can fix it with the value which occurs the most, in this case it is Medium"
   ]
  },
  {
   "cell_type": "code",
   "execution_count": 37,
   "id": "7ce70230",
   "metadata": {},
   "outputs": [],
   "source": [
    "train_data.Outlet_Size = train_data.Outlet_Size.fillna('Medium')"
   ]
  },
  {
   "cell_type": "code",
   "execution_count": 38,
   "id": "6a074273",
   "metadata": {},
   "outputs": [
    {
     "data": {
      "text/html": [
       "<div>\n",
       "<style scoped>\n",
       "    .dataframe tbody tr th:only-of-type {\n",
       "        vertical-align: middle;\n",
       "    }\n",
       "\n",
       "    .dataframe tbody tr th {\n",
       "        vertical-align: top;\n",
       "    }\n",
       "\n",
       "    .dataframe thead th {\n",
       "        text-align: right;\n",
       "    }\n",
       "</style>\n",
       "<table border=\"1\" class=\"dataframe\">\n",
       "  <thead>\n",
       "    <tr style=\"text-align: right;\">\n",
       "      <th></th>\n",
       "      <th>Total Count</th>\n",
       "      <th>% of Missing Data</th>\n",
       "    </tr>\n",
       "  </thead>\n",
       "  <tbody>\n",
       "    <tr>\n",
       "      <th>Item_Identifier</th>\n",
       "      <td>0</td>\n",
       "      <td>0.0</td>\n",
       "    </tr>\n",
       "    <tr>\n",
       "      <th>Item_Weight</th>\n",
       "      <td>0</td>\n",
       "      <td>0.0</td>\n",
       "    </tr>\n",
       "    <tr>\n",
       "      <th>Item_Visibility</th>\n",
       "      <td>0</td>\n",
       "      <td>0.0</td>\n",
       "    </tr>\n",
       "    <tr>\n",
       "      <th>Item_Type</th>\n",
       "      <td>0</td>\n",
       "      <td>0.0</td>\n",
       "    </tr>\n",
       "    <tr>\n",
       "      <th>Item_MRP</th>\n",
       "      <td>0</td>\n",
       "      <td>0.0</td>\n",
       "    </tr>\n",
       "  </tbody>\n",
       "</table>\n",
       "</div>"
      ],
      "text/plain": [
       "                 Total Count  % of Missing Data\n",
       "Item_Identifier            0                0.0\n",
       "Item_Weight                0                0.0\n",
       "Item_Visibility            0                0.0\n",
       "Item_Type                  0                0.0\n",
       "Item_MRP                   0                0.0"
      ]
     },
     "execution_count": 38,
     "metadata": {},
     "output_type": "execute_result"
    }
   ],
   "source": [
    "total = train_data.isnull().sum().sort_values(ascending=False)\n",
    "percent_1 = train_data.isnull().sum()/train_data.isnull().count()*100\n",
    "percent_2 = (round(percent_1, 1)).sort_values(ascending=False)\n",
    "missing_data = pd.concat([total, percent_2], axis=1, keys=['Total Count', '% of Missing Data'])\n",
    "missing_data.head(5)"
   ]
  },
  {
   "cell_type": "markdown",
   "id": "e847e545",
   "metadata": {},
   "source": [
    "Now we dont have anything missing. All null values have been handled successfully"
   ]
  },
  {
   "cell_type": "code",
   "execution_count": 39,
   "id": "46ad2661",
   "metadata": {},
   "outputs": [
    {
     "data": {
      "text/plain": [
       "Medium    5203\n",
       "Small     2388\n",
       "High       932\n",
       "Name: Outlet_Size, dtype: int64"
      ]
     },
     "execution_count": 39,
     "metadata": {},
     "output_type": "execute_result"
    }
   ],
   "source": [
    "train_data['Outlet_Size'].value_counts()"
   ]
  },
  {
   "cell_type": "code",
   "execution_count": 40,
   "id": "c334f326",
   "metadata": {},
   "outputs": [
    {
     "data": {
      "text/plain": [
       "<AxesSubplot:>"
      ]
     },
     "execution_count": 40,
     "metadata": {},
     "output_type": "execute_result"
    },
    {
     "data": {
      "image/png": "[encoded data removed]",
      "text/plain": [
       "<Figure size 720x504 with 2 Axes>"
      ]
     },
     "metadata": {
      "needs_background": "light"
     },
     "output_type": "display_data"
    }
   ],
   "source": [
    "plt.figure(figsize=(10,7))\n",
    "sns.heatmap(train_data.corr(),annot=True)"
   ]
  },
  {
   "cell_type": "markdown",
   "id": "e3334767",
   "metadata": {},
   "source": [
    "There seems to be only a small correlation between Item_MRP and Item_Outlet_Sales and apart from this we dont see any correlation between the columns. We will analyse it further once we convert the categorical columns"
   ]
  },
  {
   "cell_type": "markdown",
   "id": "642ce2b0",
   "metadata": {},
   "source": [
    "# Categorical Columns"
   ]
  },
  {
   "cell_type": "markdown",
   "id": "ee07d684",
   "metadata": {},
   "source": [
    "Lets first find out the Categorical columns"
   ]
  },
  {
   "cell_type": "code",
   "execution_count": 41,
   "id": "4440a1e5",
   "metadata": {},
   "outputs": [
    {
     "data": {
      "text/plain": [
       "['Item_Identifier',\n",
       " 'Item_Type',\n",
       " 'Outlet_Identifier',\n",
       " 'Outlet_Size',\n",
       " 'Outlet_Location_Type',\n",
       " 'Outlet_Type',\n",
       " 'Item_Fat_Content']"
      ]
     },
     "execution_count": 41,
     "metadata": {},
     "output_type": "execute_result"
    }
   ],
   "source": [
    "categorical_columns=[x for x in train_data.dtypes.index if train_data.dtypes[x]=='object']\n",
    "categorical_columns"
   ]
  },
  {
   "cell_type": "code",
   "execution_count": 42,
   "id": "5777ba24",
   "metadata": {},
   "outputs": [
    {
     "ename": "SyntaxError",
     "evalue": "invalid syntax (<ipython-input-42-8c5a21cb0606>, line 1)",
     "output_type": "error",
     "traceback": [
      "\u001b[1;36m  File \u001b[1;32m\"<ipython-input-42-8c5a21cb0606>\"\u001b[1;36m, line \u001b[1;32m1\u001b[0m\n\u001b[1;33m    SO we have 7 above columns which are categorical and needs to be handled\u001b[0m\n\u001b[1;37m       ^\u001b[0m\n\u001b[1;31mSyntaxError\u001b[0m\u001b[1;31m:\u001b[0m invalid syntax\n"
     ]
    }
   ],
   "source": [
    "SO we have 7 above columns which are categorical and needs to be handled"
   ]
  },
  {
   "cell_type": "code",
   "execution_count": 43,
   "id": "7c690b1d",
   "metadata": {},
   "outputs": [
    {
     "name": "stdout",
     "output_type": "stream",
     "text": [
      "Frequency of categories for variable\n",
      "FDG33    10\n",
      "FDW13    10\n",
      "FDV60     9\n",
      "FDD38     9\n",
      "NCQ06     9\n",
      "         ..\n",
      "FDY43     1\n",
      "FDT35     1\n",
      "FDE52     1\n",
      "FDC23     1\n",
      "FDO33     1\n",
      "Name: Item_Identifier, Length: 1559, dtype: int64\n",
      "\n",
      "\n",
      "Frequency of categories for variable\n",
      "Fruits and Vegetables    1232\n",
      "Snack Foods              1200\n",
      "Household                 910\n",
      "Frozen Foods              856\n",
      "Dairy                     682\n",
      "Canned                    649\n",
      "Baking Goods              648\n",
      "Health and Hygiene        520\n",
      "Soft Drinks               445\n",
      "Meat                      425\n",
      "Breads                    251\n",
      "Hard Drinks               214\n",
      "Others                    169\n",
      "Starchy Foods             148\n",
      "Breakfast                 110\n",
      "Seafood                    64\n",
      "Name: Item_Type, dtype: int64\n",
      "\n",
      "\n",
      "Frequency of categories for variable\n",
      "OUT027    935\n",
      "OUT013    932\n",
      "OUT049    930\n",
      "OUT046    930\n",
      "OUT035    930\n",
      "OUT045    929\n",
      "OUT018    928\n",
      "OUT017    926\n",
      "OUT010    555\n",
      "OUT019    528\n",
      "Name: Outlet_Identifier, dtype: int64\n",
      "\n",
      "\n",
      "Frequency of categories for variable\n",
      "Medium    5203\n",
      "Small     2388\n",
      "High       932\n",
      "Name: Outlet_Size, dtype: int64\n",
      "\n",
      "\n",
      "Frequency of categories for variable\n",
      "Tier 3    3350\n",
      "Tier 2    2785\n",
      "Tier 1    2388\n",
      "Name: Outlet_Location_Type, dtype: int64\n",
      "\n",
      "\n",
      "Frequency of categories for variable\n",
      "Supermarket Type1    5577\n",
      "Grocery Store        1083\n",
      "Supermarket Type3     935\n",
      "Supermarket Type2     928\n",
      "Name: Outlet_Type, dtype: int64\n",
      "\n",
      "\n",
      "Frequency of categories for variable\n",
      "Low Fat    5517\n",
      "Regular    3006\n",
      "Name: Item_Fat_Content, dtype: int64\n",
      "\n",
      "\n"
     ]
    }
   ],
   "source": [
    "#print frequencies of these categories\n",
    "for col in categorical_columns:\n",
    "    print('Frequency of categories for variable')\n",
    "    print(train_data[col].value_counts())\n",
    "    print(\"\\n\")"
   ]
  },
  {
   "cell_type": "markdown",
   "id": "ce442784",
   "metadata": {},
   "source": [
    "# Label Encoder"
   ]
  },
  {
   "cell_type": "markdown",
   "id": "2f21ad11",
   "metadata": {},
   "source": [
    "Item_Fat_Content : We can see that it has two types of Fat content\n",
    "\n",
    "a) Low fat\n",
    "\n",
    "b) Regular\n",
    "\n",
    "So lets use Label Encoder to convert them"
   ]
  },
  {
   "cell_type": "code",
   "execution_count": 44,
   "id": "94728ef5",
   "metadata": {},
   "outputs": [],
   "source": [
    "from sklearn.preprocessing import LabelEncoder\n",
    "\n",
    "le = LabelEncoder()\n",
    "train_data['Item_Fat_Content'] = le.fit_transform(train_data['Item_Fat_Content'])"
   ]
  },
  {
   "cell_type": "code",
   "execution_count": 45,
   "id": "7ca28917",
   "metadata": {},
   "outputs": [
    {
     "data": {
      "text/plain": [
       "0    5517\n",
       "1    3006\n",
       "Name: Item_Fat_Content, dtype: int64"
      ]
     },
     "execution_count": 45,
     "metadata": {},
     "output_type": "execute_result"
    }
   ],
   "source": [
    "train_data['Item_Fat_Content'].value_counts()"
   ]
  },
  {
   "cell_type": "code",
   "execution_count": 46,
   "id": "58f4dea5",
   "metadata": {},
   "outputs": [
    {
     "data": {
      "text/plain": [
       "<AxesSubplot:xlabel='Item_Fat_Content', ylabel='count'>"
      ]
     },
     "execution_count": 46,
     "metadata": {},
     "output_type": "execute_result"
    },
    {
     "data": {
      "image/png": "[encoded data removed]",
      "text/plain": [
       "<Figure size 432x288 with 1 Axes>"
      ]
     },
     "metadata": {
      "needs_background": "light"
     },
     "output_type": "display_data"
    }
   ],
   "source": [
    "sns.countplot(train_data['Item_Fat_Content'])"
   ]
  },
  {
   "cell_type": "markdown",
   "id": "1e09cd3a",
   "metadata": {},
   "source": [
    "Outlet_Location_Type : We see that Location is Tier 1, Tier 2 and Tier 3, We will use Label encoder to convert them as well"
   ]
  },
  {
   "cell_type": "code",
   "execution_count": 47,
   "id": "93a152f7",
   "metadata": {},
   "outputs": [],
   "source": [
    "train_data['Outlet_Location_Type'] = le.fit_transform(train_data['Outlet_Location_Type'])"
   ]
  },
  {
   "cell_type": "code",
   "execution_count": 48,
   "id": "c1f72d2e",
   "metadata": {},
   "outputs": [
    {
     "data": {
      "text/plain": [
       "2    3350\n",
       "1    2785\n",
       "0    2388\n",
       "Name: Outlet_Location_Type, dtype: int64"
      ]
     },
     "execution_count": 48,
     "metadata": {},
     "output_type": "execute_result"
    }
   ],
   "source": [
    "train_data['Outlet_Location_Type'].value_counts()"
   ]
  },
  {
   "cell_type": "markdown",
   "id": "d12150da",
   "metadata": {},
   "source": [
    "Outlet_Size : We see that Outlet_Size is either Small Medium or High. We will use Label Encoder to convert them as well"
   ]
  },
  {
   "cell_type": "code",
   "execution_count": 49,
   "id": "2e574a6d",
   "metadata": {},
   "outputs": [],
   "source": [
    "train_data['Outlet_Size'] = le.fit_transform(train_data['Outlet_Size'])"
   ]
  },
  {
   "cell_type": "code",
   "execution_count": 50,
   "id": "a860c175",
   "metadata": {
    "scrolled": true
   },
   "outputs": [
    {
     "data": {
      "text/plain": [
       "1    5203\n",
       "2    2388\n",
       "0     932\n",
       "Name: Outlet_Size, dtype: int64"
      ]
     },
     "execution_count": 50,
     "metadata": {},
     "output_type": "execute_result"
    }
   ],
   "source": [
    "train_data['Outlet_Size'].value_counts()"
   ]
  },
  {
   "cell_type": "code",
   "execution_count": 51,
   "id": "ed4d6b84",
   "metadata": {},
   "outputs": [
    {
     "data": {
      "text/plain": [
       "{'OUT010',\n",
       " 'OUT013',\n",
       " 'OUT017',\n",
       " 'OUT018',\n",
       " 'OUT019',\n",
       " 'OUT027',\n",
       " 'OUT035',\n",
       " 'OUT045',\n",
       " 'OUT046',\n",
       " 'OUT049'}"
      ]
     },
     "execution_count": 51,
     "metadata": {},
     "output_type": "execute_result"
    }
   ],
   "source": [
    "set(train_data['Outlet_Identifier'])"
   ]
  },
  {
   "cell_type": "code",
   "execution_count": 52,
   "id": "dea60bfd",
   "metadata": {},
   "outputs": [],
   "source": [
    "updated_Outlet_Identifier = {\"OUT010\": 10, \"OUT013\": 13, \"OUT017\": 17, \"OUT018\": 18, \"OUT019\": 19, \n",
    "                 \"OUT027\": 27, \"OUT035\": 35, \"OUT045\": 45, \"OUT046\": 46, \"OUT049\": 49}\n",
    "data = [train_data]\n",
    "\n",
    "for dataset in data:    \n",
    "    dataset['Outlet_Identifier'] = dataset['Outlet_Identifier'].map(updated_Outlet_Identifier)\n",
    "    dataset['Outlet_Identifier'] = dataset['Outlet_Identifier'].astype(int)"
   ]
  },
  {
   "cell_type": "code",
   "execution_count": 53,
   "id": "ffb7a427",
   "metadata": {},
   "outputs": [
    {
     "data": {
      "text/plain": [
       "{10, 13, 17, 18, 19, 27, 35, 45, 46, 49}"
      ]
     },
     "execution_count": 53,
     "metadata": {},
     "output_type": "execute_result"
    }
   ],
   "source": [
    "set(train_data['Outlet_Identifier'])"
   ]
  },
  {
   "cell_type": "code",
   "execution_count": 54,
   "id": "92b56476",
   "metadata": {},
   "outputs": [
    {
     "data": {
      "text/plain": [
       "{'Grocery Store',\n",
       " 'Supermarket Type1',\n",
       " 'Supermarket Type2',\n",
       " 'Supermarket Type3'}"
      ]
     },
     "execution_count": 54,
     "metadata": {},
     "output_type": "execute_result"
    }
   ],
   "source": [
    "set(train_data['Outlet_Type'])"
   ]
  },
  {
   "cell_type": "code",
   "execution_count": 55,
   "id": "c5cbb209",
   "metadata": {},
   "outputs": [],
   "source": [
    "train_data['Outlet_Type'] = le.fit_transform(train_data['Outlet_Type'])"
   ]
  },
  {
   "cell_type": "code",
   "execution_count": 56,
   "id": "7dd69030",
   "metadata": {},
   "outputs": [
    {
     "data": {
      "text/plain": [
       "1    5577\n",
       "0    1083\n",
       "3     935\n",
       "2     928\n",
       "Name: Outlet_Type, dtype: int64"
      ]
     },
     "execution_count": 56,
     "metadata": {},
     "output_type": "execute_result"
    }
   ],
   "source": [
    "train_data['Outlet_Type'].value_counts()"
   ]
  },
  {
   "cell_type": "code",
   "execution_count": 57,
   "id": "45bded55",
   "metadata": {},
   "outputs": [
    {
     "data": {
      "text/html": [
       "<div>\n",
       "<style scoped>\n",
       "    .dataframe tbody tr th:only-of-type {\n",
       "        vertical-align: middle;\n",
       "    }\n",
       "\n",
       "    .dataframe tbody tr th {\n",
       "        vertical-align: top;\n",
       "    }\n",
       "\n",
       "    .dataframe thead th {\n",
       "        text-align: right;\n",
       "    }\n",
       "</style>\n",
       "<table border=\"1\" class=\"dataframe\">\n",
       "  <thead>\n",
       "    <tr style=\"text-align: right;\">\n",
       "      <th></th>\n",
       "      <th>Item_Identifier</th>\n",
       "      <th>Item_Weight</th>\n",
       "      <th>Item_Visibility</th>\n",
       "      <th>Item_Type</th>\n",
       "      <th>Item_MRP</th>\n",
       "      <th>Outlet_Identifier</th>\n",
       "      <th>Outlet_Establishment_Year</th>\n",
       "      <th>Outlet_Size</th>\n",
       "      <th>Outlet_Location_Type</th>\n",
       "      <th>Outlet_Type</th>\n",
       "      <th>Item_Outlet_Sales</th>\n",
       "      <th>Item_Fat_Content</th>\n",
       "    </tr>\n",
       "  </thead>\n",
       "  <tbody>\n",
       "    <tr>\n",
       "      <th>0</th>\n",
       "      <td>FDA15</td>\n",
       "      <td>9.30</td>\n",
       "      <td>0.016047</td>\n",
       "      <td>Dairy</td>\n",
       "      <td>249.8092</td>\n",
       "      <td>49</td>\n",
       "      <td>1999</td>\n",
       "      <td>1</td>\n",
       "      <td>0</td>\n",
       "      <td>1</td>\n",
       "      <td>3735.1380</td>\n",
       "      <td>0</td>\n",
       "    </tr>\n",
       "    <tr>\n",
       "      <th>1</th>\n",
       "      <td>DRC01</td>\n",
       "      <td>5.92</td>\n",
       "      <td>0.019278</td>\n",
       "      <td>Soft Drinks</td>\n",
       "      <td>48.2692</td>\n",
       "      <td>18</td>\n",
       "      <td>2009</td>\n",
       "      <td>1</td>\n",
       "      <td>2</td>\n",
       "      <td>2</td>\n",
       "      <td>443.4228</td>\n",
       "      <td>1</td>\n",
       "    </tr>\n",
       "  </tbody>\n",
       "</table>\n",
       "</div>"
      ],
      "text/plain": [
       "  Item_Identifier  Item_Weight  Item_Visibility    Item_Type  Item_MRP  \\\n",
       "0           FDA15         9.30         0.016047        Dairy  249.8092   \n",
       "1           DRC01         5.92         0.019278  Soft Drinks   48.2692   \n",
       "\n",
       "   Outlet_Identifier  Outlet_Establishment_Year  Outlet_Size  \\\n",
       "0                 49                       1999            1   \n",
       "1                 18                       2009            1   \n",
       "\n",
       "   Outlet_Location_Type  Outlet_Type  Item_Outlet_Sales  Item_Fat_Content  \n",
       "0                     0            1          3735.1380                 0  \n",
       "1                     2            2           443.4228                 1  "
      ]
     },
     "execution_count": 57,
     "metadata": {},
     "output_type": "execute_result"
    }
   ],
   "source": [
    "train_data.head(2)"
   ]
  },
  {
   "cell_type": "code",
   "execution_count": 58,
   "id": "6fe0c467",
   "metadata": {},
   "outputs": [
    {
     "data": {
      "text/plain": [
       "<AxesSubplot:xlabel='Item_Weight', ylabel='Density'>"
      ]
     },
     "execution_count": 58,
     "metadata": {},
     "output_type": "execute_result"
    },
    {
     "data": {
      "image/png": "[encoded data removed]",
      "text/plain": [
       "<Figure size 432x288 with 1 Axes>"
      ]
     },
     "metadata": {
      "needs_background": "light"
     },
     "output_type": "display_data"
    }
   ],
   "source": [
    "y = train_data['Item_Weight']\n",
    "plt.figure(1); \n",
    "sns.distplot(y, kde=True,color = 'blue')"
   ]
  },
  {
   "cell_type": "markdown",
   "id": "c0b133fc",
   "metadata": {},
   "source": [
    "Item weight lies between 0 to 21 and 75% of the data lies between 0 to 16 and 50% of the data lies between 0 to 12 gm"
   ]
  },
  {
   "cell_type": "code",
   "execution_count": 59,
   "id": "ec2eb54e",
   "metadata": {},
   "outputs": [
    {
     "data": {
      "text/plain": [
       "<AxesSubplot:xlabel='Item_Visibility', ylabel='Density'>"
      ]
     },
     "execution_count": 59,
     "metadata": {},
     "output_type": "execute_result"
    },
    {
     "data": {
      "image/png": "[encoded data removed]",
      "text/plain": [
       "<Figure size 432x288 with 1 Axes>"
      ]
     },
     "metadata": {
      "needs_background": "light"
     },
     "output_type": "display_data"
    }
   ],
   "source": [
    "y = train_data['Item_Visibility']\n",
    "plt.figure(1); \n",
    "sns.distplot(y, kde=True,color = 'blue')"
   ]
  },
  {
   "cell_type": "markdown",
   "id": "13aac01e",
   "metadata": {},
   "source": [
    "Item Visibility is rightly skewed when the values crosses 0.10"
   ]
  },
  {
   "cell_type": "code",
   "execution_count": 60,
   "id": "1d8706bd",
   "metadata": {},
   "outputs": [
    {
     "data": {
      "text/plain": [
       "<AxesSubplot:xlabel='Item_MRP', ylabel='Density'>"
      ]
     },
     "execution_count": 60,
     "metadata": {},
     "output_type": "execute_result"
    },
    {
     "data": {
      "image/png": "[encoded data removed]",
      "text/plain": [
       "<Figure size 432x288 with 1 Axes>"
      ]
     },
     "metadata": {
      "needs_background": "light"
     },
     "output_type": "display_data"
    }
   ],
   "source": [
    "y = train_data['Item_MRP']\n",
    "plt.figure(1);\n",
    "sns.distplot(y, kde=True,color = 'blue')"
   ]
  },
  {
   "cell_type": "markdown",
   "id": "1ff80990",
   "metadata": {},
   "source": [
    "Item_MRP starts from 31 and has maximum Item_MRP as 266 "
   ]
  },
  {
   "cell_type": "code",
   "execution_count": 61,
   "id": "e4b0e5ee",
   "metadata": {},
   "outputs": [
    {
     "data": {
      "text/plain": [
       "<AxesSubplot:xlabel='Outlet_Establishment_Year', ylabel='Density'>"
      ]
     },
     "execution_count": 61,
     "metadata": {},
     "output_type": "execute_result"
    },
    {
     "data": {
      "image/png": "[encoded data removed]",
      "text/plain": [
       "<Figure size 432x288 with 1 Axes>"
      ]
     },
     "metadata": {
      "needs_background": "light"
     },
     "output_type": "display_data"
    }
   ],
   "source": [
    "y = train_data['Outlet_Establishment_Year']\n",
    "plt.figure(1); \n",
    "sns.distplot(y, kde=True,color = 'blue')"
   ]
  },
  {
   "cell_type": "code",
   "execution_count": 62,
   "id": "b2fe2ef3",
   "metadata": {},
   "outputs": [
    {
     "data": {
      "text/plain": [
       "<AxesSubplot:xlabel='Item_Outlet_Sales', ylabel='Density'>"
      ]
     },
     "execution_count": 62,
     "metadata": {},
     "output_type": "execute_result"
    },
    {
     "data": {
      "image/png": "[encoded data removed]",
      "text/plain": [
       "<Figure size 432x288 with 1 Axes>"
      ]
     },
     "metadata": {
      "needs_background": "light"
     },
     "output_type": "display_data"
    }
   ],
   "source": [
    "y = train_data['Item_Outlet_Sales']\n",
    "plt.figure(1);\n",
    "sns.distplot(y, kde=True,color = 'blue')"
   ]
  },
  {
   "cell_type": "markdown",
   "id": "30c0c8e9",
   "metadata": {},
   "source": [
    "Item Outlet Sales starts from 33 and gets right skewed after 3101"
   ]
  },
  {
   "cell_type": "code",
   "execution_count": 63,
   "id": "95450f1a",
   "metadata": {},
   "outputs": [],
   "source": [
    "#train_data[\"Qty_Sold\"] = (train_data[\"Item_Outlet_Sales\"]/train_data[\"Item_MRP\"])\n",
    "#train_data.head()"
   ]
  },
  {
   "cell_type": "code",
   "execution_count": 64,
   "id": "2d8f3f83",
   "metadata": {},
   "outputs": [
    {
     "data": {
      "text/plain": [
       "<AxesSubplot:>"
      ]
     },
     "execution_count": 64,
     "metadata": {},
     "output_type": "execute_result"
    },
    {
     "data": {
      "image/png": "[encoded data removed]",
      "text/plain": [
       "<Figure size 720x504 with 2 Axes>"
      ]
     },
     "metadata": {
      "needs_background": "light"
     },
     "output_type": "display_data"
    }
   ],
   "source": [
    "import matplotlib.pyplot as plt\n",
    "plt.figure(figsize=(10,7))\n",
    "sns.heatmap(train_data.corr(),annot=True)"
   ]
  },
  {
   "cell_type": "markdown",
   "id": "0c004b58",
   "metadata": {},
   "source": [
    "After converting the data to Label Encoder, we see that the only a bit of relation is there between Item_Outlet_Sales and Item_MRP.\n",
    "No more columns have highest correlation between them"
   ]
  },
  {
   "cell_type": "markdown",
   "id": "58d9347d",
   "metadata": {},
   "source": [
    "# BoxPlot"
   ]
  },
  {
   "cell_type": "code",
   "execution_count": 65,
   "id": "22726791",
   "metadata": {},
   "outputs": [
    {
     "data": {
      "text/plain": [
       "Index(['Item_Identifier', 'Item_Weight', 'Item_Visibility', 'Item_Type',\n",
       "       'Item_MRP', 'Outlet_Identifier', 'Outlet_Establishment_Year',\n",
       "       'Outlet_Size', 'Outlet_Location_Type', 'Outlet_Type',\n",
       "       'Item_Outlet_Sales', 'Item_Fat_Content'],\n",
       "      dtype='object')"
      ]
     },
     "execution_count": 65,
     "metadata": {},
     "output_type": "execute_result"
    }
   ],
   "source": [
    "train_data.columns"
   ]
  },
  {
   "cell_type": "markdown",
   "id": "efd37d8e",
   "metadata": {},
   "source": [
    "We see that Item_Identifier is just an Index, so we can remove this column without hesitation"
   ]
  },
  {
   "cell_type": "code",
   "execution_count": 66,
   "id": "8c26c3d6",
   "metadata": {},
   "outputs": [],
   "source": [
    "train_data.drop(['Item_Identifier'], axis = 1,inplace=True)"
   ]
  },
  {
   "cell_type": "code",
   "execution_count": 67,
   "id": "f8d50a1e",
   "metadata": {},
   "outputs": [
    {
     "data": {
      "text/html": [
       "<div>\n",
       "<style scoped>\n",
       "    .dataframe tbody tr th:only-of-type {\n",
       "        vertical-align: middle;\n",
       "    }\n",
       "\n",
       "    .dataframe tbody tr th {\n",
       "        vertical-align: top;\n",
       "    }\n",
       "\n",
       "    .dataframe thead th {\n",
       "        text-align: right;\n",
       "    }\n",
       "</style>\n",
       "<table border=\"1\" class=\"dataframe\">\n",
       "  <thead>\n",
       "    <tr style=\"text-align: right;\">\n",
       "      <th></th>\n",
       "      <th>Item_Weight</th>\n",
       "      <th>Item_Visibility</th>\n",
       "      <th>Item_Type</th>\n",
       "      <th>Item_MRP</th>\n",
       "      <th>Outlet_Identifier</th>\n",
       "      <th>Outlet_Establishment_Year</th>\n",
       "      <th>Outlet_Size</th>\n",
       "      <th>Outlet_Location_Type</th>\n",
       "      <th>Outlet_Type</th>\n",
       "      <th>Item_Outlet_Sales</th>\n",
       "      <th>Item_Fat_Content</th>\n",
       "    </tr>\n",
       "  </thead>\n",
       "  <tbody>\n",
       "    <tr>\n",
       "      <th>0</th>\n",
       "      <td>9.300</td>\n",
       "      <td>0.016047</td>\n",
       "      <td>Dairy</td>\n",
       "      <td>249.8092</td>\n",
       "      <td>49</td>\n",
       "      <td>1999</td>\n",
       "      <td>1</td>\n",
       "      <td>0</td>\n",
       "      <td>1</td>\n",
       "      <td>3735.1380</td>\n",
       "      <td>0</td>\n",
       "    </tr>\n",
       "    <tr>\n",
       "      <th>1</th>\n",
       "      <td>5.920</td>\n",
       "      <td>0.019278</td>\n",
       "      <td>Soft Drinks</td>\n",
       "      <td>48.2692</td>\n",
       "      <td>18</td>\n",
       "      <td>2009</td>\n",
       "      <td>1</td>\n",
       "      <td>2</td>\n",
       "      <td>2</td>\n",
       "      <td>443.4228</td>\n",
       "      <td>1</td>\n",
       "    </tr>\n",
       "    <tr>\n",
       "      <th>2</th>\n",
       "      <td>17.500</td>\n",
       "      <td>0.016760</td>\n",
       "      <td>Meat</td>\n",
       "      <td>141.6180</td>\n",
       "      <td>49</td>\n",
       "      <td>1999</td>\n",
       "      <td>1</td>\n",
       "      <td>0</td>\n",
       "      <td>1</td>\n",
       "      <td>2097.2700</td>\n",
       "      <td>0</td>\n",
       "    </tr>\n",
       "    <tr>\n",
       "      <th>3</th>\n",
       "      <td>19.200</td>\n",
       "      <td>0.000000</td>\n",
       "      <td>Fruits and Vegetables</td>\n",
       "      <td>182.0950</td>\n",
       "      <td>10</td>\n",
       "      <td>1998</td>\n",
       "      <td>1</td>\n",
       "      <td>2</td>\n",
       "      <td>0</td>\n",
       "      <td>732.3800</td>\n",
       "      <td>1</td>\n",
       "    </tr>\n",
       "    <tr>\n",
       "      <th>4</th>\n",
       "      <td>8.930</td>\n",
       "      <td>0.000000</td>\n",
       "      <td>Household</td>\n",
       "      <td>53.8614</td>\n",
       "      <td>13</td>\n",
       "      <td>1987</td>\n",
       "      <td>0</td>\n",
       "      <td>2</td>\n",
       "      <td>1</td>\n",
       "      <td>994.7052</td>\n",
       "      <td>0</td>\n",
       "    </tr>\n",
       "    <tr>\n",
       "      <th>...</th>\n",
       "      <td>...</td>\n",
       "      <td>...</td>\n",
       "      <td>...</td>\n",
       "      <td>...</td>\n",
       "      <td>...</td>\n",
       "      <td>...</td>\n",
       "      <td>...</td>\n",
       "      <td>...</td>\n",
       "      <td>...</td>\n",
       "      <td>...</td>\n",
       "      <td>...</td>\n",
       "    </tr>\n",
       "    <tr>\n",
       "      <th>8518</th>\n",
       "      <td>6.865</td>\n",
       "      <td>0.056783</td>\n",
       "      <td>Snack Foods</td>\n",
       "      <td>214.5218</td>\n",
       "      <td>13</td>\n",
       "      <td>1987</td>\n",
       "      <td>0</td>\n",
       "      <td>2</td>\n",
       "      <td>1</td>\n",
       "      <td>2778.3834</td>\n",
       "      <td>0</td>\n",
       "    </tr>\n",
       "    <tr>\n",
       "      <th>8519</th>\n",
       "      <td>8.380</td>\n",
       "      <td>0.046982</td>\n",
       "      <td>Baking Goods</td>\n",
       "      <td>108.1570</td>\n",
       "      <td>45</td>\n",
       "      <td>2002</td>\n",
       "      <td>1</td>\n",
       "      <td>1</td>\n",
       "      <td>1</td>\n",
       "      <td>549.2850</td>\n",
       "      <td>1</td>\n",
       "    </tr>\n",
       "    <tr>\n",
       "      <th>8520</th>\n",
       "      <td>10.600</td>\n",
       "      <td>0.035186</td>\n",
       "      <td>Health and Hygiene</td>\n",
       "      <td>85.1224</td>\n",
       "      <td>35</td>\n",
       "      <td>2004</td>\n",
       "      <td>2</td>\n",
       "      <td>1</td>\n",
       "      <td>1</td>\n",
       "      <td>1193.1136</td>\n",
       "      <td>0</td>\n",
       "    </tr>\n",
       "    <tr>\n",
       "      <th>8521</th>\n",
       "      <td>7.210</td>\n",
       "      <td>0.145221</td>\n",
       "      <td>Snack Foods</td>\n",
       "      <td>103.1332</td>\n",
       "      <td>18</td>\n",
       "      <td>2009</td>\n",
       "      <td>1</td>\n",
       "      <td>2</td>\n",
       "      <td>2</td>\n",
       "      <td>1845.5976</td>\n",
       "      <td>1</td>\n",
       "    </tr>\n",
       "    <tr>\n",
       "      <th>8522</th>\n",
       "      <td>14.800</td>\n",
       "      <td>0.044878</td>\n",
       "      <td>Soft Drinks</td>\n",
       "      <td>75.4670</td>\n",
       "      <td>46</td>\n",
       "      <td>1997</td>\n",
       "      <td>2</td>\n",
       "      <td>0</td>\n",
       "      <td>1</td>\n",
       "      <td>765.6700</td>\n",
       "      <td>0</td>\n",
       "    </tr>\n",
       "  </tbody>\n",
       "</table>\n",
       "<p>8523 rows × 11 columns</p>\n",
       "</div>"
      ],
      "text/plain": [
       "      Item_Weight  Item_Visibility              Item_Type  Item_MRP  \\\n",
       "0           9.300         0.016047                  Dairy  249.8092   \n",
       "1           5.920         0.019278            Soft Drinks   48.2692   \n",
       "2          17.500         0.016760                   Meat  141.6180   \n",
       "3          19.200         0.000000  Fruits and Vegetables  182.0950   \n",
       "4           8.930         0.000000              Household   53.8614   \n",
       "...           ...              ...                    ...       ...   \n",
       "8518        6.865         0.056783            Snack Foods  214.5218   \n",
       "8519        8.380         0.046982           Baking Goods  108.1570   \n",
       "8520       10.600         0.035186     Health and Hygiene   85.1224   \n",
       "8521        7.210         0.145221            Snack Foods  103.1332   \n",
       "8522       14.800         0.044878            Soft Drinks   75.4670   \n",
       "\n",
       "      Outlet_Identifier  Outlet_Establishment_Year  Outlet_Size  \\\n",
       "0                    49                       1999            1   \n",
       "1                    18                       2009            1   \n",
       "2                    49                       1999            1   \n",
       "3                    10                       1998            1   \n",
       "4                    13                       1987            0   \n",
       "...                 ...                        ...          ...   \n",
       "8518                 13                       1987            0   \n",
       "8519                 45                       2002            1   \n",
       "8520                 35                       2004            2   \n",
       "8521                 18                       2009            1   \n",
       "8522                 46                       1997            2   \n",
       "\n",
       "      Outlet_Location_Type  Outlet_Type  Item_Outlet_Sales  Item_Fat_Content  \n",
       "0                        0            1          3735.1380                 0  \n",
       "1                        2            2           443.4228                 1  \n",
       "2                        0            1          2097.2700                 0  \n",
       "3                        2            0           732.3800                 1  \n",
       "4                        2            1           994.7052                 0  \n",
       "...                    ...          ...                ...               ...  \n",
       "8518                     2            1          2778.3834                 0  \n",
       "8519                     1            1           549.2850                 1  \n",
       "8520                     1            1          1193.1136                 0  \n",
       "8521                     2            2          1845.5976                 1  \n",
       "8522                     0            1           765.6700                 0  \n",
       "\n",
       "[8523 rows x 11 columns]"
      ]
     },
     "execution_count": 67,
     "metadata": {},
     "output_type": "execute_result"
    }
   ],
   "source": [
    "train_data"
   ]
  },
  {
   "cell_type": "code",
   "execution_count": 68,
   "id": "44dd2a54",
   "metadata": {},
   "outputs": [
    {
     "name": "stdout",
     "output_type": "stream",
     "text": [
      "(8523, 11)\n"
     ]
    }
   ],
   "source": [
    "dataToPlot= train_data.drop(['Item_Type'], axis = 1)\n",
    "\n",
    "# checking the shape of the dataset\n",
    "print(train_data.shape)"
   ]
  },
  {
   "cell_type": "code",
   "execution_count": 69,
   "id": "019123e9",
   "metadata": {},
   "outputs": [
    {
     "data": {
      "text/html": [
       "<div>\n",
       "<style scoped>\n",
       "    .dataframe tbody tr th:only-of-type {\n",
       "        vertical-align: middle;\n",
       "    }\n",
       "\n",
       "    .dataframe tbody tr th {\n",
       "        vertical-align: top;\n",
       "    }\n",
       "\n",
       "    .dataframe thead th {\n",
       "        text-align: right;\n",
       "    }\n",
       "</style>\n",
       "<table border=\"1\" class=\"dataframe\">\n",
       "  <thead>\n",
       "    <tr style=\"text-align: right;\">\n",
       "      <th></th>\n",
       "      <th>Item_Weight</th>\n",
       "      <th>Item_Visibility</th>\n",
       "      <th>Item_MRP</th>\n",
       "      <th>Outlet_Identifier</th>\n",
       "      <th>Outlet_Establishment_Year</th>\n",
       "      <th>Outlet_Size</th>\n",
       "      <th>Outlet_Location_Type</th>\n",
       "      <th>Outlet_Type</th>\n",
       "      <th>Item_Outlet_Sales</th>\n",
       "      <th>Item_Fat_Content</th>\n",
       "    </tr>\n",
       "  </thead>\n",
       "  <tbody>\n",
       "    <tr>\n",
       "      <th>0</th>\n",
       "      <td>9.30</td>\n",
       "      <td>0.016047</td>\n",
       "      <td>249.8092</td>\n",
       "      <td>49</td>\n",
       "      <td>1999</td>\n",
       "      <td>1</td>\n",
       "      <td>0</td>\n",
       "      <td>1</td>\n",
       "      <td>3735.1380</td>\n",
       "      <td>0</td>\n",
       "    </tr>\n",
       "    <tr>\n",
       "      <th>1</th>\n",
       "      <td>5.92</td>\n",
       "      <td>0.019278</td>\n",
       "      <td>48.2692</td>\n",
       "      <td>18</td>\n",
       "      <td>2009</td>\n",
       "      <td>1</td>\n",
       "      <td>2</td>\n",
       "      <td>2</td>\n",
       "      <td>443.4228</td>\n",
       "      <td>1</td>\n",
       "    </tr>\n",
       "    <tr>\n",
       "      <th>2</th>\n",
       "      <td>17.50</td>\n",
       "      <td>0.016760</td>\n",
       "      <td>141.6180</td>\n",
       "      <td>49</td>\n",
       "      <td>1999</td>\n",
       "      <td>1</td>\n",
       "      <td>0</td>\n",
       "      <td>1</td>\n",
       "      <td>2097.2700</td>\n",
       "      <td>0</td>\n",
       "    </tr>\n",
       "    <tr>\n",
       "      <th>3</th>\n",
       "      <td>19.20</td>\n",
       "      <td>0.000000</td>\n",
       "      <td>182.0950</td>\n",
       "      <td>10</td>\n",
       "      <td>1998</td>\n",
       "      <td>1</td>\n",
       "      <td>2</td>\n",
       "      <td>0</td>\n",
       "      <td>732.3800</td>\n",
       "      <td>1</td>\n",
       "    </tr>\n",
       "    <tr>\n",
       "      <th>4</th>\n",
       "      <td>8.93</td>\n",
       "      <td>0.000000</td>\n",
       "      <td>53.8614</td>\n",
       "      <td>13</td>\n",
       "      <td>1987</td>\n",
       "      <td>0</td>\n",
       "      <td>2</td>\n",
       "      <td>1</td>\n",
       "      <td>994.7052</td>\n",
       "      <td>0</td>\n",
       "    </tr>\n",
       "  </tbody>\n",
       "</table>\n",
       "</div>"
      ],
      "text/plain": [
       "   Item_Weight  Item_Visibility  Item_MRP  Outlet_Identifier  \\\n",
       "0         9.30         0.016047  249.8092                 49   \n",
       "1         5.92         0.019278   48.2692                 18   \n",
       "2        17.50         0.016760  141.6180                 49   \n",
       "3        19.20         0.000000  182.0950                 10   \n",
       "4         8.93         0.000000   53.8614                 13   \n",
       "\n",
       "   Outlet_Establishment_Year  Outlet_Size  Outlet_Location_Type  Outlet_Type  \\\n",
       "0                       1999            1                     0            1   \n",
       "1                       2009            1                     2            2   \n",
       "2                       1999            1                     0            1   \n",
       "3                       1998            1                     2            0   \n",
       "4                       1987            0                     2            1   \n",
       "\n",
       "   Item_Outlet_Sales  Item_Fat_Content  \n",
       "0          3735.1380                 0  \n",
       "1           443.4228                 1  \n",
       "2          2097.2700                 0  \n",
       "3           732.3800                 1  \n",
       "4           994.7052                 0  "
      ]
     },
     "execution_count": 69,
     "metadata": {},
     "output_type": "execute_result"
    }
   ],
   "source": [
    "dataToPlot.head()"
   ]
  },
  {
   "cell_type": "code",
   "execution_count": 70,
   "id": "65e7d6d8",
   "metadata": {},
   "outputs": [
    {
     "data": {
      "image/png": "[encoded data removed]",
      "text/plain": [
       "<Figure size 864x576 with 10 Axes>"
      ]
     },
     "metadata": {},
     "output_type": "display_data"
    }
   ],
   "source": [
    "#Lets see data distribution\n",
    "plt.figure(figsize=(12,8),facecolor='orange')\n",
    "graph=1\n",
    "\n",
    "for column in dataToPlot:\n",
    "    \n",
    "    if graph<=12:\n",
    "        ax=plt.subplot(3,4,graph)        \n",
    "        sns.boxplot(dataToPlot[column])\n",
    "        plt.xlabel(column,fontsize=11)\n",
    "        \n",
    "    graph+=1   \n",
    "    \n",
    "plt.tight_layout()"
   ]
  },
  {
   "cell_type": "code",
   "execution_count": 71,
   "id": "5e9e12a2",
   "metadata": {},
   "outputs": [
    {
     "data": {
      "text/plain": [
       "Item_Weight                  0.090561\n",
       "Item_Visibility              1.167091\n",
       "Item_MRP                     0.127202\n",
       "Outlet_Identifier            0.194661\n",
       "Outlet_Establishment_Year   -0.396641\n",
       "Outlet_Size                 -0.087072\n",
       "Outlet_Location_Type        -0.209093\n",
       "Outlet_Type                  0.927438\n",
       "Item_Outlet_Sales            1.177531\n",
       "Item_Fat_Content             0.616705\n",
       "dtype: float64"
      ]
     },
     "execution_count": 71,
     "metadata": {},
     "output_type": "execute_result"
    }
   ],
   "source": [
    "train_data.skew()"
   ]
  },
  {
   "cell_type": "code",
   "execution_count": 72,
   "id": "07bc9f81",
   "metadata": {},
   "outputs": [
    {
     "data": {
      "text/plain": [
       "(8523, 10)"
      ]
     },
     "execution_count": 72,
     "metadata": {},
     "output_type": "execute_result"
    }
   ],
   "source": [
    "from scipy.stats import zscore\n",
    "z=np.abs(zscore(dataToPlot))\n",
    "z.shape"
   ]
  },
  {
   "cell_type": "code",
   "execution_count": 73,
   "id": "0b0d2f3d",
   "metadata": {},
   "outputs": [
    {
     "name": "stdout",
     "output_type": "stream",
     "text": [
      "(array([  49,   83,  108,  130,  145,  174,  276,  304,  333,  373,  434,\n",
      "        456,  472,  502,  521,  532,  661,  694,  753,  809,  854,  935,\n",
      "        991,  997, 1009, 1138, 1159, 1254, 1272, 1291, 1311, 1324, 1434,\n",
      "       1450, 1496, 1501, 1506, 1560, 1575, 1644, 1651, 1805, 1827, 1841,\n",
      "       1859, 1998, 2088, 2109, 2122, 2216, 2238, 2251, 2293, 2324, 2439,\n",
      "       2445, 2516, 2535, 2586, 2613, 2728, 2776, 2855, 2895, 3017, 3083,\n",
      "       3087, 3098, 3154, 3206, 3234, 3286, 3399, 3407, 3458, 3474, 3488,\n",
      "       3497, 3540, 3667, 3709, 3720, 3750, 3757, 3767, 3884, 3993, 4006,\n",
      "       4219, 4289, 4346, 4349, 4382, 4408, 4530, 4656, 4674, 4676, 4681,\n",
      "       4772, 4789, 4888, 4941, 4961, 4991, 5031, 5065, 5150, 5177, 5185,\n",
      "       5223, 5287, 5315, 5374, 5500, 5550, 5619, 5732, 5734, 5752, 5795,\n",
      "       5799, 5812, 5837, 5880, 5891, 5946, 5977, 6000, 6008, 6012, 6134,\n",
      "       6179, 6334, 6409, 6536, 6537, 6541, 6576, 6606, 6622, 6674, 6786,\n",
      "       6886, 6903, 6993, 7005, 7016, 7076, 7088, 7107, 7121, 7188, 7191,\n",
      "       7215, 7236, 7250, 7256, 7278, 7302, 7343, 7388, 7499, 7558, 7560,\n",
      "       7562, 7603, 7609, 7690, 7744, 7752, 7816, 7826, 7866, 7930, 7949,\n",
      "       8039, 8194, 8201, 8215, 8245, 8273, 8345, 8432, 8447], dtype=int64), array([1, 1, 1, 8, 8, 1, 8, 8, 8, 8, 1, 8, 8, 1, 1, 1, 8, 8, 8, 8, 1, 8,\n",
      "       8, 8, 8, 8, 1, 8, 1, 1, 1, 1, 1, 8, 1, 1, 8, 1, 1, 1, 1, 1, 1, 1,\n",
      "       8, 8, 1, 8, 1, 8, 8, 1, 8, 1, 1, 1, 8, 8, 1, 1, 1, 8, 1, 1, 1, 8,\n",
      "       8, 8, 8, 1, 8, 8, 1, 8, 1, 1, 1, 1, 1, 8, 8, 8, 1, 8, 1, 1, 1, 1,\n",
      "       1, 8, 8, 8, 1, 1, 1, 1, 1, 8, 8, 8, 1, 8, 1, 8, 8, 1, 8, 1, 8, 8,\n",
      "       8, 1, 8, 1, 8, 8, 8, 1, 1, 8, 1, 8, 8, 1, 1, 1, 1, 8, 8, 1, 1, 8,\n",
      "       1, 8, 8, 1, 8, 8, 1, 8, 1, 1, 1, 8, 1, 8, 1, 8, 8, 1, 1, 1, 8, 8,\n",
      "       1, 8, 1, 8, 1, 8, 8, 1, 1, 1, 8, 8, 1, 8, 8, 1, 8, 8, 8, 1, 8, 1,\n",
      "       8, 1, 8, 1, 8, 1, 1, 1, 8], dtype=int64))\n"
     ]
    }
   ],
   "source": [
    "threshold=3\n",
    "print(np.where(z>3))"
   ]
  },
  {
   "cell_type": "code",
   "execution_count": 74,
   "id": "eb75cb39",
   "metadata": {},
   "outputs": [
    {
     "name": "stdout",
     "output_type": "stream",
     "text": [
      "(8523, 10)\n",
      "(8338, 10)\n"
     ]
    }
   ],
   "source": [
    "dataToPlot_new=dataToPlot[(z<3).all(axis=1)]\n",
    "print(dataToPlot.shape)\n",
    "print(dataToPlot_new.shape)"
   ]
  },
  {
   "cell_type": "code",
   "execution_count": 75,
   "id": "070acce7",
   "metadata": {},
   "outputs": [
    {
     "data": {
      "text/plain": [
       "2.170597207556025"
      ]
     },
     "execution_count": 75,
     "metadata": {},
     "output_type": "execute_result"
    }
   ],
   "source": [
    "loss_percentage= ((8523-8338)/8523)*100\n",
    "loss_percentage"
   ]
  },
  {
   "cell_type": "markdown",
   "id": "05e961c1",
   "metadata": {},
   "source": [
    "We are not going to delete any data as our model can become biased because most of the outliers are in Item_Visibility and Item_Outlet sales"
   ]
  },
  {
   "cell_type": "markdown",
   "id": "a0224d8b",
   "metadata": {},
   "source": [
    "# Power Transform"
   ]
  },
  {
   "cell_type": "code",
   "execution_count": 76,
   "id": "fb0111ad",
   "metadata": {},
   "outputs": [],
   "source": [
    "from sklearn.preprocessing import power_transform\n",
    "x=power_transform(dataToPlot,method='yeo-johnson')"
   ]
  },
  {
   "cell_type": "code",
   "execution_count": 77,
   "id": "1ec9b500",
   "metadata": {},
   "outputs": [
    {
     "data": {
      "text/plain": [
       "Item_Weight                  0.090561\n",
       "Item_Visibility              1.167091\n",
       "Item_MRP                     0.127202\n",
       "Outlet_Identifier            0.194661\n",
       "Outlet_Establishment_Year   -0.396641\n",
       "Outlet_Size                 -0.087072\n",
       "Outlet_Location_Type        -0.209093\n",
       "Outlet_Type                  0.927438\n",
       "Item_Outlet_Sales            1.177531\n",
       "Item_Fat_Content             0.616705\n",
       "dtype: float64"
      ]
     },
     "execution_count": 77,
     "metadata": {},
     "output_type": "execute_result"
    }
   ],
   "source": [
    "train_data.skew()"
   ]
  },
  {
   "cell_type": "markdown",
   "id": "51e5d8f3",
   "metadata": {},
   "source": [
    "We dont see much skewness now after Power transformation"
   ]
  },
  {
   "cell_type": "markdown",
   "id": "604d8b09",
   "metadata": {},
   "source": [
    "# Standard Scalar"
   ]
  },
  {
   "cell_type": "code",
   "execution_count": 78,
   "id": "29246ef4",
   "metadata": {},
   "outputs": [
    {
     "name": "stdout",
     "output_type": "stream",
     "text": [
      "(8523, 9)\n"
     ]
    }
   ],
   "source": [
    "x = train_data.drop(columns=['Item_Type','Item_Outlet_Sales'],axis=1)\n",
    "\n",
    "# checking the shape of the dataset\n",
    "print(x.shape)"
   ]
  },
  {
   "cell_type": "code",
   "execution_count": 79,
   "id": "46c3d917",
   "metadata": {},
   "outputs": [],
   "source": [
    "from sklearn.preprocessing import StandardScaler\n",
    "sc=StandardScaler()\n",
    "\n",
    "x=sc.fit_transform(x)"
   ]
  },
  {
   "cell_type": "code",
   "execution_count": 80,
   "id": "0557de93",
   "metadata": {},
   "outputs": [],
   "source": [
    "# Finding variance Inflation factor in each scaled column i.e x.shape[1] (1/(1-R2)\n",
    "# Age and Expereince, you can predict Salary, so Multi colinearity problem is there\n",
    "# Thats why we first use Standard Scaler to standardise the data and then use vif"
   ]
  },
  {
   "cell_type": "code",
   "execution_count": 81,
   "id": "218af17c",
   "metadata": {},
   "outputs": [
    {
     "data": {
      "text/plain": [
       "Index(['Item_Weight', 'Item_Visibility', 'Item_Type', 'Item_MRP',\n",
       "       'Outlet_Identifier', 'Outlet_Establishment_Year', 'Outlet_Size',\n",
       "       'Outlet_Location_Type', 'Outlet_Type', 'Item_Outlet_Sales',\n",
       "       'Item_Fat_Content'],\n",
       "      dtype='object')"
      ]
     },
     "execution_count": 81,
     "metadata": {},
     "output_type": "execute_result"
    }
   ],
   "source": [
    "train_data.columns"
   ]
  },
  {
   "cell_type": "code",
   "execution_count": 82,
   "id": "da6e602d",
   "metadata": {},
   "outputs": [
    {
     "data": {
      "text/html": [
       "<div>\n",
       "<style scoped>\n",
       "    .dataframe tbody tr th:only-of-type {\n",
       "        vertical-align: middle;\n",
       "    }\n",
       "\n",
       "    .dataframe tbody tr th {\n",
       "        vertical-align: top;\n",
       "    }\n",
       "\n",
       "    .dataframe thead th {\n",
       "        text-align: right;\n",
       "    }\n",
       "</style>\n",
       "<table border=\"1\" class=\"dataframe\">\n",
       "  <thead>\n",
       "    <tr style=\"text-align: right;\">\n",
       "      <th></th>\n",
       "      <th>Item_Weight</th>\n",
       "      <th>Item_Visibility</th>\n",
       "      <th>Item_MRP</th>\n",
       "      <th>Outlet_Identifier</th>\n",
       "      <th>Outlet_Establishment_Year</th>\n",
       "      <th>Outlet_Size</th>\n",
       "      <th>Outlet_Location_Type</th>\n",
       "      <th>Outlet_Type</th>\n",
       "      <th>Item_Fat_Content</th>\n",
       "    </tr>\n",
       "  </thead>\n",
       "  <tbody>\n",
       "    <tr>\n",
       "      <th>0</th>\n",
       "      <td>9.300</td>\n",
       "      <td>0.016047</td>\n",
       "      <td>249.8092</td>\n",
       "      <td>49</td>\n",
       "      <td>1999</td>\n",
       "      <td>1</td>\n",
       "      <td>0</td>\n",
       "      <td>1</td>\n",
       "      <td>0</td>\n",
       "    </tr>\n",
       "    <tr>\n",
       "      <th>1</th>\n",
       "      <td>5.920</td>\n",
       "      <td>0.019278</td>\n",
       "      <td>48.2692</td>\n",
       "      <td>18</td>\n",
       "      <td>2009</td>\n",
       "      <td>1</td>\n",
       "      <td>2</td>\n",
       "      <td>2</td>\n",
       "      <td>1</td>\n",
       "    </tr>\n",
       "    <tr>\n",
       "      <th>2</th>\n",
       "      <td>17.500</td>\n",
       "      <td>0.016760</td>\n",
       "      <td>141.6180</td>\n",
       "      <td>49</td>\n",
       "      <td>1999</td>\n",
       "      <td>1</td>\n",
       "      <td>0</td>\n",
       "      <td>1</td>\n",
       "      <td>0</td>\n",
       "    </tr>\n",
       "    <tr>\n",
       "      <th>3</th>\n",
       "      <td>19.200</td>\n",
       "      <td>0.000000</td>\n",
       "      <td>182.0950</td>\n",
       "      <td>10</td>\n",
       "      <td>1998</td>\n",
       "      <td>1</td>\n",
       "      <td>2</td>\n",
       "      <td>0</td>\n",
       "      <td>1</td>\n",
       "    </tr>\n",
       "    <tr>\n",
       "      <th>4</th>\n",
       "      <td>8.930</td>\n",
       "      <td>0.000000</td>\n",
       "      <td>53.8614</td>\n",
       "      <td>13</td>\n",
       "      <td>1987</td>\n",
       "      <td>0</td>\n",
       "      <td>2</td>\n",
       "      <td>1</td>\n",
       "      <td>0</td>\n",
       "    </tr>\n",
       "    <tr>\n",
       "      <th>...</th>\n",
       "      <td>...</td>\n",
       "      <td>...</td>\n",
       "      <td>...</td>\n",
       "      <td>...</td>\n",
       "      <td>...</td>\n",
       "      <td>...</td>\n",
       "      <td>...</td>\n",
       "      <td>...</td>\n",
       "      <td>...</td>\n",
       "    </tr>\n",
       "    <tr>\n",
       "      <th>8518</th>\n",
       "      <td>6.865</td>\n",
       "      <td>0.056783</td>\n",
       "      <td>214.5218</td>\n",
       "      <td>13</td>\n",
       "      <td>1987</td>\n",
       "      <td>0</td>\n",
       "      <td>2</td>\n",
       "      <td>1</td>\n",
       "      <td>0</td>\n",
       "    </tr>\n",
       "    <tr>\n",
       "      <th>8519</th>\n",
       "      <td>8.380</td>\n",
       "      <td>0.046982</td>\n",
       "      <td>108.1570</td>\n",
       "      <td>45</td>\n",
       "      <td>2002</td>\n",
       "      <td>1</td>\n",
       "      <td>1</td>\n",
       "      <td>1</td>\n",
       "      <td>1</td>\n",
       "    </tr>\n",
       "    <tr>\n",
       "      <th>8520</th>\n",
       "      <td>10.600</td>\n",
       "      <td>0.035186</td>\n",
       "      <td>85.1224</td>\n",
       "      <td>35</td>\n",
       "      <td>2004</td>\n",
       "      <td>2</td>\n",
       "      <td>1</td>\n",
       "      <td>1</td>\n",
       "      <td>0</td>\n",
       "    </tr>\n",
       "    <tr>\n",
       "      <th>8521</th>\n",
       "      <td>7.210</td>\n",
       "      <td>0.145221</td>\n",
       "      <td>103.1332</td>\n",
       "      <td>18</td>\n",
       "      <td>2009</td>\n",
       "      <td>1</td>\n",
       "      <td>2</td>\n",
       "      <td>2</td>\n",
       "      <td>1</td>\n",
       "    </tr>\n",
       "    <tr>\n",
       "      <th>8522</th>\n",
       "      <td>14.800</td>\n",
       "      <td>0.044878</td>\n",
       "      <td>75.4670</td>\n",
       "      <td>46</td>\n",
       "      <td>1997</td>\n",
       "      <td>2</td>\n",
       "      <td>0</td>\n",
       "      <td>1</td>\n",
       "      <td>0</td>\n",
       "    </tr>\n",
       "  </tbody>\n",
       "</table>\n",
       "<p>8523 rows × 9 columns</p>\n",
       "</div>"
      ],
      "text/plain": [
       "      Item_Weight  Item_Visibility  Item_MRP  Outlet_Identifier  \\\n",
       "0           9.300         0.016047  249.8092                 49   \n",
       "1           5.920         0.019278   48.2692                 18   \n",
       "2          17.500         0.016760  141.6180                 49   \n",
       "3          19.200         0.000000  182.0950                 10   \n",
       "4           8.930         0.000000   53.8614                 13   \n",
       "...           ...              ...       ...                ...   \n",
       "8518        6.865         0.056783  214.5218                 13   \n",
       "8519        8.380         0.046982  108.1570                 45   \n",
       "8520       10.600         0.035186   85.1224                 35   \n",
       "8521        7.210         0.145221  103.1332                 18   \n",
       "8522       14.800         0.044878   75.4670                 46   \n",
       "\n",
       "      Outlet_Establishment_Year  Outlet_Size  Outlet_Location_Type  \\\n",
       "0                          1999            1                     0   \n",
       "1                          2009            1                     2   \n",
       "2                          1999            1                     0   \n",
       "3                          1998            1                     2   \n",
       "4                          1987            0                     2   \n",
       "...                         ...          ...                   ...   \n",
       "8518                       1987            0                     2   \n",
       "8519                       2002            1                     1   \n",
       "8520                       2004            2                     1   \n",
       "8521                       2009            1                     2   \n",
       "8522                       1997            2                     0   \n",
       "\n",
       "      Outlet_Type  Item_Fat_Content  \n",
       "0               1                 0  \n",
       "1               2                 1  \n",
       "2               1                 0  \n",
       "3               0                 1  \n",
       "4               1                 0  \n",
       "...           ...               ...  \n",
       "8518            1                 0  \n",
       "8519            1                 1  \n",
       "8520            1                 0  \n",
       "8521            2                 1  \n",
       "8522            1                 0  \n",
       "\n",
       "[8523 rows x 9 columns]"
      ]
     },
     "execution_count": 82,
     "metadata": {},
     "output_type": "execute_result"
    }
   ],
   "source": [
    "X_vif=train_data.drop(columns=['Item_Type','Item_Outlet_Sales'])\n",
    "X_vif"
   ]
  },
  {
   "cell_type": "code",
   "execution_count": 83,
   "id": "b8bfdd0f",
   "metadata": {},
   "outputs": [
    {
     "data": {
      "text/html": [
       "<div>\n",
       "<style scoped>\n",
       "    .dataframe tbody tr th:only-of-type {\n",
       "        vertical-align: middle;\n",
       "    }\n",
       "\n",
       "    .dataframe tbody tr th {\n",
       "        vertical-align: top;\n",
       "    }\n",
       "\n",
       "    .dataframe thead th {\n",
       "        text-align: right;\n",
       "    }\n",
       "</style>\n",
       "<table border=\"1\" class=\"dataframe\">\n",
       "  <thead>\n",
       "    <tr style=\"text-align: right;\">\n",
       "      <th></th>\n",
       "      <th>vif</th>\n",
       "      <th>features</th>\n",
       "    </tr>\n",
       "  </thead>\n",
       "  <tbody>\n",
       "    <tr>\n",
       "      <th>0</th>\n",
       "      <td>1.001405</td>\n",
       "      <td>Item_Weight</td>\n",
       "    </tr>\n",
       "    <tr>\n",
       "      <th>1</th>\n",
       "      <td>1.066474</td>\n",
       "      <td>Item_Visibility</td>\n",
       "    </tr>\n",
       "    <tr>\n",
       "      <th>2</th>\n",
       "      <td>1.000822</td>\n",
       "      <td>Item_MRP</td>\n",
       "    </tr>\n",
       "    <tr>\n",
       "      <th>3</th>\n",
       "      <td>2.834628</td>\n",
       "      <td>Outlet_Identifier</td>\n",
       "    </tr>\n",
       "    <tr>\n",
       "      <th>4</th>\n",
       "      <td>1.112108</td>\n",
       "      <td>Outlet_Establishment_Year</td>\n",
       "    </tr>\n",
       "    <tr>\n",
       "      <th>5</th>\n",
       "      <td>1.727814</td>\n",
       "      <td>Outlet_Size</td>\n",
       "    </tr>\n",
       "    <tr>\n",
       "      <th>6</th>\n",
       "      <td>4.526361</td>\n",
       "      <td>Outlet_Location_Type</td>\n",
       "    </tr>\n",
       "    <tr>\n",
       "      <th>7</th>\n",
       "      <td>1.942170</td>\n",
       "      <td>Outlet_Type</td>\n",
       "    </tr>\n",
       "    <tr>\n",
       "      <th>8</th>\n",
       "      <td>1.002999</td>\n",
       "      <td>Item_Fat_Content</td>\n",
       "    </tr>\n",
       "  </tbody>\n",
       "</table>\n",
       "</div>"
      ],
      "text/plain": [
       "        vif                   features\n",
       "0  1.001405                Item_Weight\n",
       "1  1.066474            Item_Visibility\n",
       "2  1.000822                   Item_MRP\n",
       "3  2.834628          Outlet_Identifier\n",
       "4  1.112108  Outlet_Establishment_Year\n",
       "5  1.727814                Outlet_Size\n",
       "6  4.526361       Outlet_Location_Type\n",
       "7  1.942170                Outlet_Type\n",
       "8  1.002999           Item_Fat_Content"
      ]
     },
     "execution_count": 83,
     "metadata": {},
     "output_type": "execute_result"
    }
   ],
   "source": [
    "from statsmodels.stats.outliers_influence import variance_inflation_factor\n",
    "vif=pd.DataFrame()\n",
    "vif['vif']=[variance_inflation_factor(x,i) for i in range(x.shape[1])]\n",
    "vif['features']=X_vif.columns\n",
    "\n",
    "# Let's check the values now\n",
    "vif"
   ]
  },
  {
   "cell_type": "markdown",
   "id": "d70cc030",
   "metadata": {},
   "source": [
    "We dont see any multi collinearity problem here"
   ]
  },
  {
   "cell_type": "code",
   "execution_count": 84,
   "id": "20f862d3",
   "metadata": {},
   "outputs": [
    {
     "data": {
      "text/html": [
       "<div>\n",
       "<style scoped>\n",
       "    .dataframe tbody tr th:only-of-type {\n",
       "        vertical-align: middle;\n",
       "    }\n",
       "\n",
       "    .dataframe tbody tr th {\n",
       "        vertical-align: top;\n",
       "    }\n",
       "\n",
       "    .dataframe thead th {\n",
       "        text-align: right;\n",
       "    }\n",
       "</style>\n",
       "<table border=\"1\" class=\"dataframe\">\n",
       "  <thead>\n",
       "    <tr style=\"text-align: right;\">\n",
       "      <th></th>\n",
       "      <th>Item_Weight</th>\n",
       "      <th>Item_Visibility</th>\n",
       "      <th>Item_Type</th>\n",
       "      <th>Item_MRP</th>\n",
       "      <th>Outlet_Identifier</th>\n",
       "      <th>Outlet_Establishment_Year</th>\n",
       "      <th>Outlet_Size</th>\n",
       "      <th>Outlet_Location_Type</th>\n",
       "      <th>Outlet_Type</th>\n",
       "      <th>Item_Outlet_Sales</th>\n",
       "      <th>Item_Fat_Content</th>\n",
       "    </tr>\n",
       "  </thead>\n",
       "  <tbody>\n",
       "    <tr>\n",
       "      <th>0</th>\n",
       "      <td>9.30</td>\n",
       "      <td>0.016047</td>\n",
       "      <td>Dairy</td>\n",
       "      <td>249.8092</td>\n",
       "      <td>49</td>\n",
       "      <td>1999</td>\n",
       "      <td>1</td>\n",
       "      <td>0</td>\n",
       "      <td>1</td>\n",
       "      <td>3735.1380</td>\n",
       "      <td>0</td>\n",
       "    </tr>\n",
       "    <tr>\n",
       "      <th>1</th>\n",
       "      <td>5.92</td>\n",
       "      <td>0.019278</td>\n",
       "      <td>Soft Drinks</td>\n",
       "      <td>48.2692</td>\n",
       "      <td>18</td>\n",
       "      <td>2009</td>\n",
       "      <td>1</td>\n",
       "      <td>2</td>\n",
       "      <td>2</td>\n",
       "      <td>443.4228</td>\n",
       "      <td>1</td>\n",
       "    </tr>\n",
       "  </tbody>\n",
       "</table>\n",
       "</div>"
      ],
      "text/plain": [
       "   Item_Weight  Item_Visibility    Item_Type  Item_MRP  Outlet_Identifier  \\\n",
       "0         9.30         0.016047        Dairy  249.8092                 49   \n",
       "1         5.92         0.019278  Soft Drinks   48.2692                 18   \n",
       "\n",
       "   Outlet_Establishment_Year  Outlet_Size  Outlet_Location_Type  Outlet_Type  \\\n",
       "0                       1999            1                     0            1   \n",
       "1                       2009            1                     2            2   \n",
       "\n",
       "   Item_Outlet_Sales  Item_Fat_Content  \n",
       "0          3735.1380                 0  \n",
       "1           443.4228                 1  "
      ]
     },
     "execution_count": 84,
     "metadata": {},
     "output_type": "execute_result"
    }
   ],
   "source": [
    "train_data.head(2)"
   ]
  },
  {
   "cell_type": "markdown",
   "id": "50243631",
   "metadata": {},
   "source": [
    "# One Hot Encoder"
   ]
  },
  {
   "cell_type": "code",
   "execution_count": 85,
   "id": "9550267f",
   "metadata": {},
   "outputs": [
    {
     "name": "stdout",
     "output_type": "stream",
     "text": [
      "(8523, 26)\n"
     ]
    }
   ],
   "source": [
    "#One hot encoding\n",
    "train_data=pd.get_dummies(train_data, columns=['Item_Type'],drop_first=False)\n",
    "\n",
    "print(train_data.shape)"
   ]
  },
  {
   "cell_type": "code",
   "execution_count": 86,
   "id": "fcc1cbe8",
   "metadata": {
    "scrolled": true
   },
   "outputs": [
    {
     "data": {
      "text/html": [
       "<div>\n",
       "<style scoped>\n",
       "    .dataframe tbody tr th:only-of-type {\n",
       "        vertical-align: middle;\n",
       "    }\n",
       "\n",
       "    .dataframe tbody tr th {\n",
       "        vertical-align: top;\n",
       "    }\n",
       "\n",
       "    .dataframe thead th {\n",
       "        text-align: right;\n",
       "    }\n",
       "</style>\n",
       "<table border=\"1\" class=\"dataframe\">\n",
       "  <thead>\n",
       "    <tr style=\"text-align: right;\">\n",
       "      <th></th>\n",
       "      <th>Item_Weight</th>\n",
       "      <th>Item_Visibility</th>\n",
       "      <th>Item_MRP</th>\n",
       "      <th>Outlet_Identifier</th>\n",
       "      <th>Outlet_Establishment_Year</th>\n",
       "      <th>Outlet_Size</th>\n",
       "      <th>Outlet_Location_Type</th>\n",
       "      <th>Outlet_Type</th>\n",
       "      <th>Item_Outlet_Sales</th>\n",
       "      <th>Item_Fat_Content</th>\n",
       "      <th>...</th>\n",
       "      <th>Item_Type_Fruits and Vegetables</th>\n",
       "      <th>Item_Type_Hard Drinks</th>\n",
       "      <th>Item_Type_Health and Hygiene</th>\n",
       "      <th>Item_Type_Household</th>\n",
       "      <th>Item_Type_Meat</th>\n",
       "      <th>Item_Type_Others</th>\n",
       "      <th>Item_Type_Seafood</th>\n",
       "      <th>Item_Type_Snack Foods</th>\n",
       "      <th>Item_Type_Soft Drinks</th>\n",
       "      <th>Item_Type_Starchy Foods</th>\n",
       "    </tr>\n",
       "  </thead>\n",
       "  <tbody>\n",
       "    <tr>\n",
       "      <th>0</th>\n",
       "      <td>9.30</td>\n",
       "      <td>0.016047</td>\n",
       "      <td>249.8092</td>\n",
       "      <td>49</td>\n",
       "      <td>1999</td>\n",
       "      <td>1</td>\n",
       "      <td>0</td>\n",
       "      <td>1</td>\n",
       "      <td>3735.1380</td>\n",
       "      <td>0</td>\n",
       "      <td>...</td>\n",
       "      <td>0</td>\n",
       "      <td>0</td>\n",
       "      <td>0</td>\n",
       "      <td>0</td>\n",
       "      <td>0</td>\n",
       "      <td>0</td>\n",
       "      <td>0</td>\n",
       "      <td>0</td>\n",
       "      <td>0</td>\n",
       "      <td>0</td>\n",
       "    </tr>\n",
       "    <tr>\n",
       "      <th>1</th>\n",
       "      <td>5.92</td>\n",
       "      <td>0.019278</td>\n",
       "      <td>48.2692</td>\n",
       "      <td>18</td>\n",
       "      <td>2009</td>\n",
       "      <td>1</td>\n",
       "      <td>2</td>\n",
       "      <td>2</td>\n",
       "      <td>443.4228</td>\n",
       "      <td>1</td>\n",
       "      <td>...</td>\n",
       "      <td>0</td>\n",
       "      <td>0</td>\n",
       "      <td>0</td>\n",
       "      <td>0</td>\n",
       "      <td>0</td>\n",
       "      <td>0</td>\n",
       "      <td>0</td>\n",
       "      <td>0</td>\n",
       "      <td>1</td>\n",
       "      <td>0</td>\n",
       "    </tr>\n",
       "    <tr>\n",
       "      <th>2</th>\n",
       "      <td>17.50</td>\n",
       "      <td>0.016760</td>\n",
       "      <td>141.6180</td>\n",
       "      <td>49</td>\n",
       "      <td>1999</td>\n",
       "      <td>1</td>\n",
       "      <td>0</td>\n",
       "      <td>1</td>\n",
       "      <td>2097.2700</td>\n",
       "      <td>0</td>\n",
       "      <td>...</td>\n",
       "      <td>0</td>\n",
       "      <td>0</td>\n",
       "      <td>0</td>\n",
       "      <td>0</td>\n",
       "      <td>1</td>\n",
       "      <td>0</td>\n",
       "      <td>0</td>\n",
       "      <td>0</td>\n",
       "      <td>0</td>\n",
       "      <td>0</td>\n",
       "    </tr>\n",
       "    <tr>\n",
       "      <th>3</th>\n",
       "      <td>19.20</td>\n",
       "      <td>0.000000</td>\n",
       "      <td>182.0950</td>\n",
       "      <td>10</td>\n",
       "      <td>1998</td>\n",
       "      <td>1</td>\n",
       "      <td>2</td>\n",
       "      <td>0</td>\n",
       "      <td>732.3800</td>\n",
       "      <td>1</td>\n",
       "      <td>...</td>\n",
       "      <td>1</td>\n",
       "      <td>0</td>\n",
       "      <td>0</td>\n",
       "      <td>0</td>\n",
       "      <td>0</td>\n",
       "      <td>0</td>\n",
       "      <td>0</td>\n",
       "      <td>0</td>\n",
       "      <td>0</td>\n",
       "      <td>0</td>\n",
       "    </tr>\n",
       "    <tr>\n",
       "      <th>4</th>\n",
       "      <td>8.93</td>\n",
       "      <td>0.000000</td>\n",
       "      <td>53.8614</td>\n",
       "      <td>13</td>\n",
       "      <td>1987</td>\n",
       "      <td>0</td>\n",
       "      <td>2</td>\n",
       "      <td>1</td>\n",
       "      <td>994.7052</td>\n",
       "      <td>0</td>\n",
       "      <td>...</td>\n",
       "      <td>0</td>\n",
       "      <td>0</td>\n",
       "      <td>0</td>\n",
       "      <td>1</td>\n",
       "      <td>0</td>\n",
       "      <td>0</td>\n",
       "      <td>0</td>\n",
       "      <td>0</td>\n",
       "      <td>0</td>\n",
       "      <td>0</td>\n",
       "    </tr>\n",
       "  </tbody>\n",
       "</table>\n",
       "<p>5 rows × 26 columns</p>\n",
       "</div>"
      ],
      "text/plain": [
       "   Item_Weight  Item_Visibility  Item_MRP  Outlet_Identifier  \\\n",
       "0         9.30         0.016047  249.8092                 49   \n",
       "1         5.92         0.019278   48.2692                 18   \n",
       "2        17.50         0.016760  141.6180                 49   \n",
       "3        19.20         0.000000  182.0950                 10   \n",
       "4         8.93         0.000000   53.8614                 13   \n",
       "\n",
       "   Outlet_Establishment_Year  Outlet_Size  Outlet_Location_Type  Outlet_Type  \\\n",
       "0                       1999            1                     0            1   \n",
       "1                       2009            1                     2            2   \n",
       "2                       1999            1                     0            1   \n",
       "3                       1998            1                     2            0   \n",
       "4                       1987            0                     2            1   \n",
       "\n",
       "   Item_Outlet_Sales  Item_Fat_Content  ...  Item_Type_Fruits and Vegetables  \\\n",
       "0          3735.1380                 0  ...                                0   \n",
       "1           443.4228                 1  ...                                0   \n",
       "2          2097.2700                 0  ...                                0   \n",
       "3           732.3800                 1  ...                                1   \n",
       "4           994.7052                 0  ...                                0   \n",
       "\n",
       "   Item_Type_Hard Drinks  Item_Type_Health and Hygiene  Item_Type_Household  \\\n",
       "0                      0                             0                    0   \n",
       "1                      0                             0                    0   \n",
       "2                      0                             0                    0   \n",
       "3                      0                             0                    0   \n",
       "4                      0                             0                    1   \n",
       "\n",
       "   Item_Type_Meat  Item_Type_Others  Item_Type_Seafood  Item_Type_Snack Foods  \\\n",
       "0               0                 0                  0                      0   \n",
       "1               0                 0                  0                      0   \n",
       "2               1                 0                  0                      0   \n",
       "3               0                 0                  0                      0   \n",
       "4               0                 0                  0                      0   \n",
       "\n",
       "   Item_Type_Soft Drinks  Item_Type_Starchy Foods  \n",
       "0                      0                        0  \n",
       "1                      1                        0  \n",
       "2                      0                        0  \n",
       "3                      0                        0  \n",
       "4                      0                        0  \n",
       "\n",
       "[5 rows x 26 columns]"
      ]
     },
     "execution_count": 86,
     "metadata": {},
     "output_type": "execute_result"
    }
   ],
   "source": [
    "train_data.head()"
   ]
  },
  {
   "cell_type": "markdown",
   "id": "0c6059eb",
   "metadata": {},
   "source": [
    "# Rearrangement of Columns"
   ]
  },
  {
   "cell_type": "code",
   "execution_count": 87,
   "id": "a71850b6",
   "metadata": {},
   "outputs": [
    {
     "data": {
      "text/plain": [
       "Index(['Item_Weight', 'Item_Visibility', 'Item_MRP', 'Outlet_Identifier',\n",
       "       'Outlet_Establishment_Year', 'Outlet_Size', 'Outlet_Location_Type',\n",
       "       'Outlet_Type', 'Item_Outlet_Sales', 'Item_Fat_Content',\n",
       "       'Item_Type_Baking Goods', 'Item_Type_Breads', 'Item_Type_Breakfast',\n",
       "       'Item_Type_Canned', 'Item_Type_Dairy', 'Item_Type_Frozen Foods',\n",
       "       'Item_Type_Fruits and Vegetables', 'Item_Type_Hard Drinks',\n",
       "       'Item_Type_Health and Hygiene', 'Item_Type_Household', 'Item_Type_Meat',\n",
       "       'Item_Type_Others', 'Item_Type_Seafood', 'Item_Type_Snack Foods',\n",
       "       'Item_Type_Soft Drinks', 'Item_Type_Starchy Foods'],\n",
       "      dtype='object')"
      ]
     },
     "execution_count": 87,
     "metadata": {},
     "output_type": "execute_result"
    }
   ],
   "source": [
    "train_data.columns"
   ]
  },
  {
   "cell_type": "code",
   "execution_count": 88,
   "id": "9f1d4581",
   "metadata": {},
   "outputs": [
    {
     "data": {
      "text/html": [
       "<div>\n",
       "<style scoped>\n",
       "    .dataframe tbody tr th:only-of-type {\n",
       "        vertical-align: middle;\n",
       "    }\n",
       "\n",
       "    .dataframe tbody tr th {\n",
       "        vertical-align: top;\n",
       "    }\n",
       "\n",
       "    .dataframe thead th {\n",
       "        text-align: right;\n",
       "    }\n",
       "</style>\n",
       "<table border=\"1\" class=\"dataframe\">\n",
       "  <thead>\n",
       "    <tr style=\"text-align: right;\">\n",
       "      <th></th>\n",
       "      <th>Item_Weight</th>\n",
       "      <th>Item_Visibility</th>\n",
       "      <th>Item_MRP</th>\n",
       "      <th>Outlet_Identifier</th>\n",
       "      <th>Outlet_Establishment_Year</th>\n",
       "      <th>Outlet_Size</th>\n",
       "      <th>Outlet_Location_Type</th>\n",
       "      <th>Outlet_Type</th>\n",
       "      <th>Item_Outlet_Sales</th>\n",
       "      <th>Item_Fat_Content</th>\n",
       "      <th>...</th>\n",
       "      <th>Item_Type_Fruits and Vegetables</th>\n",
       "      <th>Item_Type_Hard Drinks</th>\n",
       "      <th>Item_Type_Health and Hygiene</th>\n",
       "      <th>Item_Type_Household</th>\n",
       "      <th>Item_Type_Meat</th>\n",
       "      <th>Item_Type_Others</th>\n",
       "      <th>Item_Type_Seafood</th>\n",
       "      <th>Item_Type_Snack Foods</th>\n",
       "      <th>Item_Type_Soft Drinks</th>\n",
       "      <th>Item_Type_Starchy Foods</th>\n",
       "    </tr>\n",
       "  </thead>\n",
       "  <tbody>\n",
       "    <tr>\n",
       "      <th>0</th>\n",
       "      <td>9.30</td>\n",
       "      <td>0.016047</td>\n",
       "      <td>249.8092</td>\n",
       "      <td>49</td>\n",
       "      <td>1999</td>\n",
       "      <td>1</td>\n",
       "      <td>0</td>\n",
       "      <td>1</td>\n",
       "      <td>3735.1380</td>\n",
       "      <td>0</td>\n",
       "      <td>...</td>\n",
       "      <td>0</td>\n",
       "      <td>0</td>\n",
       "      <td>0</td>\n",
       "      <td>0</td>\n",
       "      <td>0</td>\n",
       "      <td>0</td>\n",
       "      <td>0</td>\n",
       "      <td>0</td>\n",
       "      <td>0</td>\n",
       "      <td>0</td>\n",
       "    </tr>\n",
       "    <tr>\n",
       "      <th>1</th>\n",
       "      <td>5.92</td>\n",
       "      <td>0.019278</td>\n",
       "      <td>48.2692</td>\n",
       "      <td>18</td>\n",
       "      <td>2009</td>\n",
       "      <td>1</td>\n",
       "      <td>2</td>\n",
       "      <td>2</td>\n",
       "      <td>443.4228</td>\n",
       "      <td>1</td>\n",
       "      <td>...</td>\n",
       "      <td>0</td>\n",
       "      <td>0</td>\n",
       "      <td>0</td>\n",
       "      <td>0</td>\n",
       "      <td>0</td>\n",
       "      <td>0</td>\n",
       "      <td>0</td>\n",
       "      <td>0</td>\n",
       "      <td>1</td>\n",
       "      <td>0</td>\n",
       "    </tr>\n",
       "  </tbody>\n",
       "</table>\n",
       "<p>2 rows × 26 columns</p>\n",
       "</div>"
      ],
      "text/plain": [
       "   Item_Weight  Item_Visibility  Item_MRP  Outlet_Identifier  \\\n",
       "0         9.30         0.016047  249.8092                 49   \n",
       "1         5.92         0.019278   48.2692                 18   \n",
       "\n",
       "   Outlet_Establishment_Year  Outlet_Size  Outlet_Location_Type  Outlet_Type  \\\n",
       "0                       1999            1                     0            1   \n",
       "1                       2009            1                     2            2   \n",
       "\n",
       "   Item_Outlet_Sales  Item_Fat_Content  ...  Item_Type_Fruits and Vegetables  \\\n",
       "0          3735.1380                 0  ...                                0   \n",
       "1           443.4228                 1  ...                                0   \n",
       "\n",
       "   Item_Type_Hard Drinks  Item_Type_Health and Hygiene  Item_Type_Household  \\\n",
       "0                      0                             0                    0   \n",
       "1                      0                             0                    0   \n",
       "\n",
       "   Item_Type_Meat  Item_Type_Others  Item_Type_Seafood  Item_Type_Snack Foods  \\\n",
       "0               0                 0                  0                      0   \n",
       "1               0                 0                  0                      0   \n",
       "\n",
       "   Item_Type_Soft Drinks  Item_Type_Starchy Foods  \n",
       "0                      0                        0  \n",
       "1                      1                        0  \n",
       "\n",
       "[2 rows x 26 columns]"
      ]
     },
     "execution_count": 88,
     "metadata": {},
     "output_type": "execute_result"
    }
   ],
   "source": [
    "train_data.head(2)"
   ]
  },
  {
   "cell_type": "code",
   "execution_count": 89,
   "id": "694d4eff",
   "metadata": {},
   "outputs": [
    {
     "data": {
      "text/html": [
       "<div>\n",
       "<style scoped>\n",
       "    .dataframe tbody tr th:only-of-type {\n",
       "        vertical-align: middle;\n",
       "    }\n",
       "\n",
       "    .dataframe tbody tr th {\n",
       "        vertical-align: top;\n",
       "    }\n",
       "\n",
       "    .dataframe thead th {\n",
       "        text-align: right;\n",
       "    }\n",
       "</style>\n",
       "<table border=\"1\" class=\"dataframe\">\n",
       "  <thead>\n",
       "    <tr style=\"text-align: right;\">\n",
       "      <th></th>\n",
       "      <th>Item_Weight</th>\n",
       "      <th>Item_Fat_Content</th>\n",
       "      <th>Item_Visibility</th>\n",
       "      <th>Item_MRP</th>\n",
       "      <th>Outlet_Identifier</th>\n",
       "      <th>Outlet_Establishment_Year</th>\n",
       "      <th>Outlet_Size</th>\n",
       "      <th>Outlet_Location_Type</th>\n",
       "      <th>Outlet_Type</th>\n",
       "      <th>Item_Type_Baking Goods</th>\n",
       "      <th>...</th>\n",
       "      <th>Item_Type_Hard Drinks</th>\n",
       "      <th>Item_Type_Health and Hygiene</th>\n",
       "      <th>Item_Type_Household</th>\n",
       "      <th>Item_Type_Meat</th>\n",
       "      <th>Item_Type_Others</th>\n",
       "      <th>Item_Type_Seafood</th>\n",
       "      <th>Item_Type_Snack Foods</th>\n",
       "      <th>Item_Type_Soft Drinks</th>\n",
       "      <th>Item_Type_Starchy Foods</th>\n",
       "      <th>Item_Outlet_Sales</th>\n",
       "    </tr>\n",
       "  </thead>\n",
       "  <tbody>\n",
       "    <tr>\n",
       "      <th>0</th>\n",
       "      <td>9.30</td>\n",
       "      <td>0</td>\n",
       "      <td>0.016047</td>\n",
       "      <td>249.8092</td>\n",
       "      <td>49</td>\n",
       "      <td>1999</td>\n",
       "      <td>1</td>\n",
       "      <td>0</td>\n",
       "      <td>1</td>\n",
       "      <td>0</td>\n",
       "      <td>...</td>\n",
       "      <td>0</td>\n",
       "      <td>0</td>\n",
       "      <td>0</td>\n",
       "      <td>0</td>\n",
       "      <td>0</td>\n",
       "      <td>0</td>\n",
       "      <td>0</td>\n",
       "      <td>0</td>\n",
       "      <td>0</td>\n",
       "      <td>3735.1380</td>\n",
       "    </tr>\n",
       "    <tr>\n",
       "      <th>1</th>\n",
       "      <td>5.92</td>\n",
       "      <td>1</td>\n",
       "      <td>0.019278</td>\n",
       "      <td>48.2692</td>\n",
       "      <td>18</td>\n",
       "      <td>2009</td>\n",
       "      <td>1</td>\n",
       "      <td>2</td>\n",
       "      <td>2</td>\n",
       "      <td>0</td>\n",
       "      <td>...</td>\n",
       "      <td>0</td>\n",
       "      <td>0</td>\n",
       "      <td>0</td>\n",
       "      <td>0</td>\n",
       "      <td>0</td>\n",
       "      <td>0</td>\n",
       "      <td>0</td>\n",
       "      <td>1</td>\n",
       "      <td>0</td>\n",
       "      <td>443.4228</td>\n",
       "    </tr>\n",
       "    <tr>\n",
       "      <th>2</th>\n",
       "      <td>17.50</td>\n",
       "      <td>0</td>\n",
       "      <td>0.016760</td>\n",
       "      <td>141.6180</td>\n",
       "      <td>49</td>\n",
       "      <td>1999</td>\n",
       "      <td>1</td>\n",
       "      <td>0</td>\n",
       "      <td>1</td>\n",
       "      <td>0</td>\n",
       "      <td>...</td>\n",
       "      <td>0</td>\n",
       "      <td>0</td>\n",
       "      <td>0</td>\n",
       "      <td>1</td>\n",
       "      <td>0</td>\n",
       "      <td>0</td>\n",
       "      <td>0</td>\n",
       "      <td>0</td>\n",
       "      <td>0</td>\n",
       "      <td>2097.2700</td>\n",
       "    </tr>\n",
       "    <tr>\n",
       "      <th>3</th>\n",
       "      <td>19.20</td>\n",
       "      <td>1</td>\n",
       "      <td>0.000000</td>\n",
       "      <td>182.0950</td>\n",
       "      <td>10</td>\n",
       "      <td>1998</td>\n",
       "      <td>1</td>\n",
       "      <td>2</td>\n",
       "      <td>0</td>\n",
       "      <td>0</td>\n",
       "      <td>...</td>\n",
       "      <td>0</td>\n",
       "      <td>0</td>\n",
       "      <td>0</td>\n",
       "      <td>0</td>\n",
       "      <td>0</td>\n",
       "      <td>0</td>\n",
       "      <td>0</td>\n",
       "      <td>0</td>\n",
       "      <td>0</td>\n",
       "      <td>732.3800</td>\n",
       "    </tr>\n",
       "    <tr>\n",
       "      <th>4</th>\n",
       "      <td>8.93</td>\n",
       "      <td>0</td>\n",
       "      <td>0.000000</td>\n",
       "      <td>53.8614</td>\n",
       "      <td>13</td>\n",
       "      <td>1987</td>\n",
       "      <td>0</td>\n",
       "      <td>2</td>\n",
       "      <td>1</td>\n",
       "      <td>0</td>\n",
       "      <td>...</td>\n",
       "      <td>0</td>\n",
       "      <td>0</td>\n",
       "      <td>1</td>\n",
       "      <td>0</td>\n",
       "      <td>0</td>\n",
       "      <td>0</td>\n",
       "      <td>0</td>\n",
       "      <td>0</td>\n",
       "      <td>0</td>\n",
       "      <td>994.7052</td>\n",
       "    </tr>\n",
       "  </tbody>\n",
       "</table>\n",
       "<p>5 rows × 26 columns</p>\n",
       "</div>"
      ],
      "text/plain": [
       "   Item_Weight  Item_Fat_Content  Item_Visibility  Item_MRP  \\\n",
       "0         9.30                 0         0.016047  249.8092   \n",
       "1         5.92                 1         0.019278   48.2692   \n",
       "2        17.50                 0         0.016760  141.6180   \n",
       "3        19.20                 1         0.000000  182.0950   \n",
       "4         8.93                 0         0.000000   53.8614   \n",
       "\n",
       "   Outlet_Identifier  Outlet_Establishment_Year  Outlet_Size  \\\n",
       "0                 49                       1999            1   \n",
       "1                 18                       2009            1   \n",
       "2                 49                       1999            1   \n",
       "3                 10                       1998            1   \n",
       "4                 13                       1987            0   \n",
       "\n",
       "   Outlet_Location_Type  Outlet_Type  Item_Type_Baking Goods  ...  \\\n",
       "0                     0            1                       0  ...   \n",
       "1                     2            2                       0  ...   \n",
       "2                     0            1                       0  ...   \n",
       "3                     2            0                       0  ...   \n",
       "4                     2            1                       0  ...   \n",
       "\n",
       "   Item_Type_Hard Drinks  Item_Type_Health and Hygiene  Item_Type_Household  \\\n",
       "0                      0                             0                    0   \n",
       "1                      0                             0                    0   \n",
       "2                      0                             0                    0   \n",
       "3                      0                             0                    0   \n",
       "4                      0                             0                    1   \n",
       "\n",
       "   Item_Type_Meat  Item_Type_Others  Item_Type_Seafood  Item_Type_Snack Foods  \\\n",
       "0               0                 0                  0                      0   \n",
       "1               0                 0                  0                      0   \n",
       "2               1                 0                  0                      0   \n",
       "3               0                 0                  0                      0   \n",
       "4               0                 0                  0                      0   \n",
       "\n",
       "   Item_Type_Soft Drinks  Item_Type_Starchy Foods  Item_Outlet_Sales  \n",
       "0                      0                        0          3735.1380  \n",
       "1                      1                        0           443.4228  \n",
       "2                      0                        0          2097.2700  \n",
       "3                      0                        0           732.3800  \n",
       "4                      0                        0           994.7052  \n",
       "\n",
       "[5 rows x 26 columns]"
      ]
     },
     "execution_count": 89,
     "metadata": {},
     "output_type": "execute_result"
    }
   ],
   "source": [
    "df = train_data[['Item_Weight', 'Item_Fat_Content','Item_Visibility', 'Item_MRP',             \n",
    "                 'Outlet_Identifier','Outlet_Establishment_Year','Outlet_Size', 'Outlet_Location_Type','Outlet_Type',\n",
    "                 'Item_Type_Baking Goods', 'Item_Type_Breads', 'Item_Type_Breakfast',\n",
    "                 'Item_Type_Canned', 'Item_Type_Dairy', 'Item_Type_Frozen Foods',\n",
    "                 'Item_Type_Fruits and Vegetables', 'Item_Type_Hard Drinks',\n",
    "                 'Item_Type_Health and Hygiene', 'Item_Type_Household', 'Item_Type_Meat',\n",
    "                 'Item_Type_Others', 'Item_Type_Seafood', 'Item_Type_Snack Foods',\n",
    "                 'Item_Type_Soft Drinks', 'Item_Type_Starchy Foods','Item_Outlet_Sales']]\n",
    "df.head()"
   ]
  },
  {
   "cell_type": "code",
   "execution_count": 90,
   "id": "35a6fd9b",
   "metadata": {},
   "outputs": [
    {
     "data": {
      "text/plain": [
       "(8523, 26)"
      ]
     },
     "execution_count": 90,
     "metadata": {},
     "output_type": "execute_result"
    }
   ],
   "source": [
    "df.shape"
   ]
  },
  {
   "cell_type": "code",
   "execution_count": 91,
   "id": "6cb00250",
   "metadata": {},
   "outputs": [
    {
     "name": "stdout",
     "output_type": "stream",
     "text": [
      "Item_Weight\n",
      "Item_Fat_Content\n",
      "Item_Visibility\n",
      "Item_MRP\n",
      "Outlet_Identifier\n",
      "Outlet_Establishment_Year\n",
      "Outlet_Size\n",
      "Outlet_Location_Type\n",
      "Outlet_Type\n",
      "Item_Type_Baking Goods\n",
      "Item_Type_Breads\n",
      "Item_Type_Breakfast\n",
      "Item_Type_Canned\n",
      "Item_Type_Dairy\n",
      "Item_Type_Frozen Foods\n",
      "Item_Type_Fruits and Vegetables\n",
      "Item_Type_Hard Drinks\n",
      "Item_Type_Health and Hygiene\n",
      "Item_Type_Household\n",
      "Item_Type_Meat\n",
      "Item_Type_Others\n",
      "Item_Type_Seafood\n",
      "Item_Type_Snack Foods\n",
      "Item_Type_Soft Drinks\n",
      "Item_Type_Starchy Foods\n",
      "Item_Outlet_Sales\n"
     ]
    }
   ],
   "source": [
    "# iterating the columns \n",
    "for col in df.columns: \n",
    "    print(col)"
   ]
  },
  {
   "cell_type": "markdown",
   "id": "12963692",
   "metadata": {},
   "source": [
    "# Separating Target and Columns"
   ]
  },
  {
   "cell_type": "code",
   "execution_count": 92,
   "id": "86aea03f",
   "metadata": {},
   "outputs": [
    {
     "data": {
      "text/plain": [
       "(8523, 26)"
      ]
     },
     "execution_count": 92,
     "metadata": {},
     "output_type": "execute_result"
    }
   ],
   "source": [
    "df.shape"
   ]
  },
  {
   "cell_type": "code",
   "execution_count": 93,
   "id": "2362590c",
   "metadata": {},
   "outputs": [],
   "source": [
    "#Separating features and label\n",
    "features = df.iloc[:,0:25].values\n",
    "target = df.iloc[:,-1].values"
   ]
  },
  {
   "cell_type": "code",
   "execution_count": 94,
   "id": "4c02bfab",
   "metadata": {},
   "outputs": [
    {
     "name": "stdout",
     "output_type": "stream",
     "text": [
      "features: (8523, 25)\n",
      "target: (8523,)\n"
     ]
    }
   ],
   "source": [
    "print(\"features:\",features.shape)\n",
    "print(\"target:\",target.shape)"
   ]
  },
  {
   "cell_type": "markdown",
   "id": "eb8c7c02",
   "metadata": {},
   "source": [
    "# Train Test Split"
   ]
  },
  {
   "cell_type": "code",
   "execution_count": 95,
   "id": "8a2a35e8",
   "metadata": {},
   "outputs": [],
   "source": [
    "from sklearn.model_selection import train_test_split\n",
    "from sklearn.linear_model import LogisticRegression\n",
    "from sklearn.linear_model import LinearRegression\n",
    "\n",
    "lr=LinearRegression()\n",
    "from sklearn.metrics import accuracy_score"
   ]
  },
  {
   "cell_type": "code",
   "execution_count": 96,
   "id": "4ff9156e",
   "metadata": {},
   "outputs": [],
   "source": [
    "X_train, X_test, y_train, y_test=train_test_split(features,target,test_size=0.2,random_state=5)\n",
    "lr.fit(X_train,y_train)\n",
    "pred_train=lr.predict(X_train)\n",
    "pred_test=lr.predict(X_test)"
   ]
  },
  {
   "cell_type": "code",
   "execution_count": 97,
   "id": "24a74592",
   "metadata": {},
   "outputs": [
    {
     "data": {
      "text/plain": [
       "((6818, 25), (1705, 25), (6818,), (1705,))"
      ]
     },
     "execution_count": 97,
     "metadata": {},
     "output_type": "execute_result"
    }
   ],
   "source": [
    "X_train.shape , X_test.shape,y_train.shape ,y_test.shape"
   ]
  },
  {
   "cell_type": "code",
   "execution_count": 98,
   "id": "b251300f",
   "metadata": {},
   "outputs": [],
   "source": [
    "from sklearn import metrics\n",
    "from sklearn.metrics import r2_score\n",
    "from sklearn.model_selection import GridSearchCV, cross_val_score"
   ]
  },
  {
   "cell_type": "code",
   "execution_count": 99,
   "id": "6b56ee0f",
   "metadata": {},
   "outputs": [
    {
     "name": "stdout",
     "output_type": "stream",
     "text": [
      "mean_absolute_error : 905.161598627845\n",
      "mean_squared_error :  1453524.7250208012\n",
      "root_mean_squared_error :  1205.6221319388596\n",
      "r2_score 0.5054660785519876\n",
      "Cross Validation Score :  0.5094973933985409\n"
     ]
    }
   ],
   "source": [
    "# calculate MAE, MSE, RMSE,R2 Score and Cross Validation Score on Test Data\n",
    "print (\"mean_absolute_error :\",metrics.mean_absolute_error(y_test, pred_test))\n",
    "print (\"mean_squared_error : \",metrics.mean_squared_error(y_test, pred_test))\n",
    "print (\"root_mean_squared_error : \",np.sqrt(metrics.mean_squared_error(y_test, pred_test)))\n",
    "print(\"r2_score\",r2_score(y_test,pred_test))\n",
    "print (\"Cross Validation Score : \", (cross_val_score(lr,features,target,cv=5).mean())  )"
   ]
  },
  {
   "cell_type": "code",
   "execution_count": 100,
   "id": "8eb0a915",
   "metadata": {},
   "outputs": [
    {
     "name": "stdout",
     "output_type": "stream",
     "text": [
      "mean_absolute_error : 889.8556090739588\n",
      "mean_squared_error :  1404086.597168889\n",
      "root_mean_squared_error :  1184.9416007419475\n",
      "r2_score 0.5166315149109313\n",
      "Cross Validation Score :  0.5094973933985409\n"
     ]
    }
   ],
   "source": [
    "# Calculate MAE, MSE, RMSE,R2 Score and Cross Validation Score on Train Data\n",
    "print (\"mean_absolute_error :\",metrics.mean_absolute_error(y_train, pred_train))\n",
    "print (\"mean_squared_error : \",metrics.mean_squared_error(y_train, pred_train))\n",
    "print (\"root_mean_squared_error : \",np.sqrt(metrics.mean_squared_error(y_train, pred_train)))\n",
    "print(\"r2_score\",r2_score(y_train,pred_train))\n",
    "print (\"Cross Validation Score : \", (cross_val_score(lr,features,target,cv=5).mean())  )"
   ]
  },
  {
   "cell_type": "code",
   "execution_count": 101,
   "id": "2b4c7557",
   "metadata": {},
   "outputs": [
    {
     "data": {
      "text/html": [
       "<div>\n",
       "<style scoped>\n",
       "    .dataframe tbody tr th:only-of-type {\n",
       "        vertical-align: middle;\n",
       "    }\n",
       "\n",
       "    .dataframe tbody tr th {\n",
       "        vertical-align: top;\n",
       "    }\n",
       "\n",
       "    .dataframe thead th {\n",
       "        text-align: right;\n",
       "    }\n",
       "</style>\n",
       "<table border=\"1\" class=\"dataframe\">\n",
       "  <thead>\n",
       "    <tr style=\"text-align: right;\">\n",
       "      <th></th>\n",
       "      <th>Model</th>\n",
       "      <th>MAE</th>\n",
       "      <th>MSE</th>\n",
       "      <th>RMSE</th>\n",
       "      <th>R2 Score</th>\n",
       "      <th>CV Score</th>\n",
       "      <th>RMSE(train-test)</th>\n",
       "    </tr>\n",
       "  </thead>\n",
       "  <tbody>\n",
       "    <tr>\n",
       "      <th>0</th>\n",
       "      <td>Linear Regression</td>\n",
       "      <td>905.161599</td>\n",
       "      <td>1.453525e+06</td>\n",
       "      <td>1205.622132</td>\n",
       "      <td>0.505466</td>\n",
       "      <td>0.509497</td>\n",
       "      <td>-20.680531</td>\n",
       "    </tr>\n",
       "  </tbody>\n",
       "</table>\n",
       "</div>"
      ],
      "text/plain": [
       "               Model         MAE           MSE         RMSE  R2 Score  \\\n",
       "0  Linear Regression  905.161599  1.453525e+06  1205.622132  0.505466   \n",
       "\n",
       "   CV Score  RMSE(train-test)  \n",
       "0  0.509497        -20.680531  "
      ]
     },
     "execution_count": 101,
     "metadata": {},
     "output_type": "execute_result"
    }
   ],
   "source": [
    "lr_data = {'Model': ['Linear Regression'], \n",
    "           'MAE': metrics.mean_absolute_error(y_test, pred_test),'MSE':metrics.mean_squared_error(y_test, pred_test),\n",
    "           'RMSE':np.sqrt(metrics.mean_squared_error(y_test, pred_test)),\n",
    "           'R2 Score': r2_score(y_test,pred_test),\n",
    "           'CV Score': (cross_val_score(lr,features,target,cv=5).mean()),\n",
    "           'RMSE(train-test)': (np.sqrt(metrics.mean_squared_error(y_train, pred_train)))-(np.sqrt(metrics.mean_squared_error(y_test, pred_test)))          \n",
    "          }  \n",
    "\n",
    "df_LR = pd.DataFrame(lr_data)  \n",
    "df_LR"
   ]
  },
  {
   "cell_type": "markdown",
   "id": "1bf66516",
   "metadata": {},
   "source": [
    "# Ridge"
   ]
  },
  {
   "cell_type": "code",
   "execution_count": 102,
   "id": "cbc32f66",
   "metadata": {},
   "outputs": [
    {
     "name": "stdout",
     "output_type": "stream",
     "text": [
      "r2_score 0.3920936570808269\n",
      "mean_absolute_error : 1030.891886805604\n",
      "mean_squared_error :  1786746.7965448366\n",
      "root_mean_squared_error :  1336.6924839112535\n",
      "Cross Validation Score :  0.39877413389954613\n"
     ]
    }
   ],
   "source": [
    "from sklearn.linear_model import Ridge\n",
    "\n",
    "ridgeReg = Ridge(alpha=0.9,max_iter=50, normalize=True)\n",
    "\n",
    "ridgeReg.fit(X_train,y_train)\n",
    "ridge_pred = ridgeReg.predict(X_test)\n",
    "\n",
    "# # Calculate MAE, MSE, RMSE,R2 Score and Cross Validation Score on Test Data\n",
    "print(\"r2_score\",r2_score(y_test,ridge_pred))\n",
    "print (\"mean_absolute_error :\",metrics.mean_absolute_error(y_test, ridge_pred))\n",
    "print (\"mean_squared_error : \",metrics.mean_squared_error(y_test, ridge_pred))\n",
    "print (\"root_mean_squared_error : \",np.sqrt(metrics.mean_squared_error(y_test, ridge_pred)))\n",
    "print (\"Cross Validation Score : \", (cross_val_score(ridgeReg,features,target,cv=5).mean()))"
   ]
  },
  {
   "cell_type": "code",
   "execution_count": 103,
   "id": "44026bfc",
   "metadata": {},
   "outputs": [
    {
     "name": "stdout",
     "output_type": "stream",
     "text": [
      "r2_score 0.5116936490565154\n",
      "mean_absolute_error : 889.0259841600218\n",
      "mean_squared_error :  1418430.0876501224\n",
      "root_mean_squared_error :  1190.9786260257245\n",
      "Cross Validation Score :  0.5054438557972041\n"
     ]
    }
   ],
   "source": [
    "from sklearn.linear_model import Ridge\n",
    "\n",
    "ridgeReg = Ridge(alpha=0.1, max_iter=50,normalize=True)\n",
    "\n",
    "ridgeReg.fit(X_train,y_train)\n",
    "ridge_pred = ridgeReg.predict(X_test)\n",
    "ridge_pred_train = ridgeReg.predict(X_train)\n",
    "\n",
    "# Calculate MAE, MSE, RMSE,R2 Score and Cross Validation Score on Train Data\n",
    "print(\"r2_score\",r2_score(y_train,ridge_pred_train))\n",
    "print (\"mean_absolute_error :\",metrics.mean_absolute_error(y_train, ridge_pred_train))\n",
    "print (\"mean_squared_error : \",metrics.mean_squared_error(y_train, ridge_pred_train))\n",
    "print (\"root_mean_squared_error : \",np.sqrt(metrics.mean_squared_error(y_train, ridge_pred_train)))\n",
    "print (\"Cross Validation Score : \", (cross_val_score(ridgeReg,features,target,cv=5).mean())  )"
   ]
  },
  {
   "cell_type": "code",
   "execution_count": 104,
   "id": "161af1e1",
   "metadata": {},
   "outputs": [
    {
     "data": {
      "text/html": [
       "<div>\n",
       "<style scoped>\n",
       "    .dataframe tbody tr th:only-of-type {\n",
       "        vertical-align: middle;\n",
       "    }\n",
       "\n",
       "    .dataframe tbody tr th {\n",
       "        vertical-align: top;\n",
       "    }\n",
       "\n",
       "    .dataframe thead th {\n",
       "        text-align: right;\n",
       "    }\n",
       "</style>\n",
       "<table border=\"1\" class=\"dataframe\">\n",
       "  <thead>\n",
       "    <tr style=\"text-align: right;\">\n",
       "      <th></th>\n",
       "      <th>Model</th>\n",
       "      <th>MAE</th>\n",
       "      <th>MSE</th>\n",
       "      <th>RMSE</th>\n",
       "      <th>R2 Score</th>\n",
       "      <th>CV Score</th>\n",
       "      <th>RMSE(train-test)</th>\n",
       "    </tr>\n",
       "  </thead>\n",
       "  <tbody>\n",
       "    <tr>\n",
       "      <th>0</th>\n",
       "      <td>Ridge</td>\n",
       "      <td>908.79696</td>\n",
       "      <td>1.466755e+06</td>\n",
       "      <td>1211.096689</td>\n",
       "      <td>0.500965</td>\n",
       "      <td>0.505444</td>\n",
       "      <td>-20.118063</td>\n",
       "    </tr>\n",
       "  </tbody>\n",
       "</table>\n",
       "</div>"
      ],
      "text/plain": [
       "   Model        MAE           MSE         RMSE  R2 Score  CV Score  \\\n",
       "0  Ridge  908.79696  1.466755e+06  1211.096689  0.500965  0.505444   \n",
       "\n",
       "   RMSE(train-test)  \n",
       "0        -20.118063  "
      ]
     },
     "execution_count": 104,
     "metadata": {},
     "output_type": "execute_result"
    }
   ],
   "source": [
    "ridge_data = {'Model': ['Ridge'], \n",
    "           'MAE': metrics.mean_absolute_error(y_test, ridge_pred),'MSE':metrics.mean_squared_error(y_test, ridge_pred),\n",
    "           'RMSE':np.sqrt(metrics.mean_squared_error(y_test, ridge_pred)),\n",
    "           'R2 Score': r2_score(y_test,ridge_pred),\n",
    "           'CV Score': (cross_val_score(ridgeReg,features,target,cv=5).mean()),\n",
    "           'RMSE(train-test)': (np.sqrt(metrics.mean_squared_error(y_train, ridge_pred_train)))-(np.sqrt(metrics.mean_squared_error(y_test, ridge_pred)))          \n",
    "          }  \n",
    "\n",
    "df_Ridge = pd.DataFrame(ridge_data)  \n",
    "df_Ridge"
   ]
  },
  {
   "cell_type": "markdown",
   "id": "b28fca62",
   "metadata": {},
   "source": [
    "As we can see, as we increase the value of alpha, the magnitude of the coefficients decreases, where the values reaches to zero but not absolute zero.\n",
    "\n",
    "We have to choose the value of alpha wisely by iterating it through a range of values and using the one which gives us the lowest error.\n",
    "\n",
    "The difference between RMSE value of train and test data is more, This can be a biased model for our dataset"
   ]
  },
  {
   "cell_type": "markdown",
   "id": "b7d98ea9",
   "metadata": {},
   "source": [
    "# Lasso"
   ]
  },
  {
   "cell_type": "code",
   "execution_count": 105,
   "id": "0da1fe3f",
   "metadata": {},
   "outputs": [
    {
     "name": "stdout",
     "output_type": "stream",
     "text": [
      "r2_score 0.49486808289626527\n",
      "mean_absolute_error : 914.5856651901084\n",
      "mean_squared_error :  1484674.1529026148\n",
      "root_mean_squared_error :  1218.472056676974\n",
      "Cross Validation Score :  0.5010786358176988\n"
     ]
    }
   ],
   "source": [
    "from sklearn.linear_model import Lasso\n",
    "\n",
    "lassoReg = Lasso(alpha=0.9,max_iter=50, normalize=True)\n",
    "\n",
    "lassoReg.fit(X_train,y_train)\n",
    "lassoReg_pred = lassoReg.predict(X_test)\n",
    "\n",
    "# Calculate MAE, MSE, RMSE,R2 Score and Cross Validation Score on Test Data\n",
    "print(\"r2_score\",r2_score(y_test,lassoReg_pred))\n",
    "print (\"mean_absolute_error :\",metrics.mean_absolute_error(y_test, lassoReg_pred))\n",
    "print (\"mean_squared_error : \",metrics.mean_squared_error(y_test, lassoReg_pred))\n",
    "print (\"root_mean_squared_error : \",np.sqrt(metrics.mean_squared_error(y_test, lassoReg_pred)))\n",
    "print (\"Cross Validation Score : \", (cross_val_score(lassoReg,features,target,cv=5).mean())  )"
   ]
  },
  {
   "cell_type": "code",
   "execution_count": 106,
   "id": "d14a1006",
   "metadata": {},
   "outputs": [
    {
     "name": "stdout",
     "output_type": "stream",
     "text": [
      "r2_score 0.5066327469464083\n",
      "mean_absolute_error : 904.475660255775\n",
      "mean_squared_error :  1450095.675397217\n",
      "root_mean_squared_error :  1204.199184270284\n",
      "Cross Validation Score :  0.5109139155597158\n"
     ]
    }
   ],
   "source": [
    "from sklearn.linear_model import Lasso\n",
    "\n",
    "lassoReg = Lasso(alpha=0.1,max_iter=50, normalize=True)\n",
    "\n",
    "lassoReg.fit(X_train,y_train)\n",
    "lassoReg_pred = lassoReg.predict(X_test)\n",
    "lasso_train=lassoReg.predict(X_train)\n",
    "\n",
    "# Calculate MAE, MSE, RMSE,R2 Score and Cross Validation Score on Test Data\n",
    "print(\"r2_score\",r2_score(y_test,lassoReg_pred))\n",
    "print (\"mean_absolute_error :\",metrics.mean_absolute_error(y_test, lassoReg_pred))\n",
    "print (\"mean_squared_error : \",metrics.mean_squared_error(y_test, lassoReg_pred))\n",
    "print (\"root_mean_squared_error : \",np.sqrt(metrics.mean_squared_error(y_test, lassoReg_pred)))\n",
    "print (\"Cross Validation Score : \", (cross_val_score(lassoReg,features,target,cv=5).mean()))"
   ]
  },
  {
   "cell_type": "code",
   "execution_count": 107,
   "id": "690d9002",
   "metadata": {},
   "outputs": [
    {
     "name": "stdout",
     "output_type": "stream",
     "text": [
      "r2_score 0.516132296080446\n",
      "mean_absolute_error : 889.215717376409\n",
      "mean_squared_error :  1405536.7257779345\n",
      "root_mean_squared_error :  1185.5533415995817\n",
      "Cross Validation Score :  0.5109139155597158\n"
     ]
    }
   ],
   "source": [
    "# Calculate MAE, MSE, RMSE,R2 Score and Cross Validation Score on Train Data\n",
    "print(\"r2_score\",r2_score(y_train,lasso_train))\n",
    "print (\"mean_absolute_error :\",metrics.mean_absolute_error(y_train, lasso_train))\n",
    "print (\"mean_squared_error : \",metrics.mean_squared_error(y_train, lasso_train))\n",
    "print (\"root_mean_squared_error : \",np.sqrt(metrics.mean_squared_error(y_train, lasso_train)))\n",
    "print (\"Cross Validation Score : \", (cross_val_score(lassoReg,features,target,cv=5).mean()))"
   ]
  },
  {
   "cell_type": "markdown",
   "id": "d74c19ed",
   "metadata": {},
   "source": [
    "Difference between RMSE of train and test data is not that much, its in acceptable range but R2 Score and CV score are very low, so we will try to look into other model techniques"
   ]
  },
  {
   "cell_type": "code",
   "execution_count": 108,
   "id": "a7865921",
   "metadata": {},
   "outputs": [
    {
     "data": {
      "text/html": [
       "<div>\n",
       "<style scoped>\n",
       "    .dataframe tbody tr th:only-of-type {\n",
       "        vertical-align: middle;\n",
       "    }\n",
       "\n",
       "    .dataframe tbody tr th {\n",
       "        vertical-align: top;\n",
       "    }\n",
       "\n",
       "    .dataframe thead th {\n",
       "        text-align: right;\n",
       "    }\n",
       "</style>\n",
       "<table border=\"1\" class=\"dataframe\">\n",
       "  <thead>\n",
       "    <tr style=\"text-align: right;\">\n",
       "      <th></th>\n",
       "      <th>Model</th>\n",
       "      <th>MAE</th>\n",
       "      <th>MSE</th>\n",
       "      <th>RMSE</th>\n",
       "      <th>R2 Score</th>\n",
       "      <th>CV Score</th>\n",
       "      <th>RMSE(train-test)</th>\n",
       "    </tr>\n",
       "  </thead>\n",
       "  <tbody>\n",
       "    <tr>\n",
       "      <th>0</th>\n",
       "      <td>Lasso</td>\n",
       "      <td>904.47566</td>\n",
       "      <td>1.450096e+06</td>\n",
       "      <td>1204.199184</td>\n",
       "      <td>0.506633</td>\n",
       "      <td>0.510914</td>\n",
       "      <td>-18.645843</td>\n",
       "    </tr>\n",
       "  </tbody>\n",
       "</table>\n",
       "</div>"
      ],
      "text/plain": [
       "   Model        MAE           MSE         RMSE  R2 Score  CV Score  \\\n",
       "0  Lasso  904.47566  1.450096e+06  1204.199184  0.506633  0.510914   \n",
       "\n",
       "   RMSE(train-test)  \n",
       "0        -18.645843  "
      ]
     },
     "execution_count": 108,
     "metadata": {},
     "output_type": "execute_result"
    }
   ],
   "source": [
    "lasso_data = {'Model': ['Lasso'], \n",
    "           'MAE': metrics.mean_absolute_error(y_test, lassoReg_pred),'MSE':metrics.mean_squared_error(y_test, lassoReg_pred),\n",
    "           'RMSE':np.sqrt(metrics.mean_squared_error(y_test, lassoReg_pred)),\n",
    "           'R2 Score': r2_score(y_test,lassoReg_pred),\n",
    "           'CV Score': (cross_val_score(lassoReg,features,target,cv=5).mean()),\n",
    "           'RMSE(train-test)': (np.sqrt(metrics.mean_squared_error(y_train, lasso_train)))-(np.sqrt(metrics.mean_squared_error(y_test, lassoReg_pred)))\n",
    "          }  \n",
    "\n",
    "df_Lasso = pd.DataFrame(lasso_data)  \n",
    "df_Lasso"
   ]
  },
  {
   "cell_type": "markdown",
   "id": "a5e8e000",
   "metadata": {},
   "source": [
    "# Decision Tree Regression"
   ]
  },
  {
   "cell_type": "code",
   "execution_count": 109,
   "id": "189e888c",
   "metadata": {},
   "outputs": [],
   "source": [
    "from sklearn.tree import DecisionTreeRegressor"
   ]
  },
  {
   "cell_type": "code",
   "execution_count": 110,
   "id": "e8c6616d",
   "metadata": {},
   "outputs": [],
   "source": [
    "dt=DecisionTreeRegressor(criterion=\"mse\",max_features=\"auto\",min_samples_split= 7, splitter= \"best\")"
   ]
  },
  {
   "cell_type": "code",
   "execution_count": 111,
   "id": "32172c96",
   "metadata": {},
   "outputs": [],
   "source": [
    "dt.fit(X_train,y_train)\n",
    "dt.score(X_train,y_train)\n",
    "pred_dt=dt.predict(X_test)\n",
    "pred_dt_train=dt.predict(X_train)"
   ]
  },
  {
   "cell_type": "code",
   "execution_count": 112,
   "id": "1e06d1f9",
   "metadata": {},
   "outputs": [
    {
     "name": "stdout",
     "output_type": "stream",
     "text": [
      "r2_score 0.27997129858398606\n",
      "mean_absolute_error : 1002.2333869325513\n",
      "mean_squared_error :  2116294.7066773\n",
      "root_mean_squared_error :  1454.7490184486462\n",
      "Cross Validation Score :  0.26819348566412893\n"
     ]
    }
   ],
   "source": [
    "# Calculate MAE, MSE, RMSE,R2 Score and Cross Validation Score on Test Data\n",
    "print(\"r2_score\",r2_score(y_test,pred_dt))\n",
    "print (\"mean_absolute_error :\",metrics.mean_absolute_error(y_test, pred_dt))\n",
    "print (\"mean_squared_error : \",metrics.mean_squared_error(y_test, pred_dt))\n",
    "print (\"root_mean_squared_error : \",np.sqrt(metrics.mean_squared_error(y_test, pred_dt)))\n",
    "print (\"Cross Validation Score : \", (cross_val_score(dt,features,target,cv=5).mean()))"
   ]
  },
  {
   "cell_type": "code",
   "execution_count": 113,
   "id": "77e7fa5c",
   "metadata": {},
   "outputs": [
    {
     "name": "stdout",
     "output_type": "stream",
     "text": [
      "r2_score 0.9112738634159251\n",
      "mean_absolute_error : 321.8348265131515\n",
      "mean_squared_error :  257731.2817018263\n",
      "root_mean_squared_error :  507.67241573856097\n",
      "Cross Validation Score :  0.2703005850398327\n"
     ]
    }
   ],
   "source": [
    "# Calculate MAE, MSE, RMSE,R2 Score and Cross Validation Score on Train Data\n",
    "print(\"r2_score\",r2_score(y_train,pred_dt_train))\n",
    "print (\"mean_absolute_error :\",metrics.mean_absolute_error(y_train, pred_dt_train))\n",
    "print (\"mean_squared_error : \",metrics.mean_squared_error(y_train, pred_dt_train))\n",
    "print (\"root_mean_squared_error : \",np.sqrt(metrics.mean_squared_error(y_train, pred_dt_train)))\n",
    "print (\"Cross Validation Score : \", (cross_val_score(dt,features,target,cv=5).mean()))"
   ]
  },
  {
   "cell_type": "code",
   "execution_count": 114,
   "id": "118b4453",
   "metadata": {},
   "outputs": [
    {
     "name": "stdout",
     "output_type": "stream",
     "text": [
      "Difference between RMSE between Train data and Test data in Decision Tree is : -947.0766027100852\n"
     ]
    }
   ],
   "source": [
    "print (\"Difference between RMSE between Train data and Test data in Decision Tree is :\",\n",
    "      (np.sqrt(metrics.mean_squared_error(y_train, pred_dt_train)))-(np.sqrt(metrics.mean_squared_error(y_test, pred_dt)))\n",
    "      )"
   ]
  },
  {
   "cell_type": "code",
   "execution_count": 115,
   "id": "fbd10e3a",
   "metadata": {},
   "outputs": [
    {
     "data": {
      "text/html": [
       "<div>\n",
       "<style scoped>\n",
       "    .dataframe tbody tr th:only-of-type {\n",
       "        vertical-align: middle;\n",
       "    }\n",
       "\n",
       "    .dataframe tbody tr th {\n",
       "        vertical-align: top;\n",
       "    }\n",
       "\n",
       "    .dataframe thead th {\n",
       "        text-align: right;\n",
       "    }\n",
       "</style>\n",
       "<table border=\"1\" class=\"dataframe\">\n",
       "  <thead>\n",
       "    <tr style=\"text-align: right;\">\n",
       "      <th></th>\n",
       "      <th>Model</th>\n",
       "      <th>MAE</th>\n",
       "      <th>MSE</th>\n",
       "      <th>RMSE</th>\n",
       "      <th>R2 Score</th>\n",
       "      <th>CV Score</th>\n",
       "      <th>RMSE(train-test)</th>\n",
       "    </tr>\n",
       "  </thead>\n",
       "  <tbody>\n",
       "    <tr>\n",
       "      <th>0</th>\n",
       "      <td>Decision Tree</td>\n",
       "      <td>1002.233387</td>\n",
       "      <td>2.116295e+06</td>\n",
       "      <td>1454.749018</td>\n",
       "      <td>0.279971</td>\n",
       "      <td>0.263796</td>\n",
       "      <td>-947.076603</td>\n",
       "    </tr>\n",
       "  </tbody>\n",
       "</table>\n",
       "</div>"
      ],
      "text/plain": [
       "           Model          MAE           MSE         RMSE  R2 Score  CV Score  \\\n",
       "0  Decision Tree  1002.233387  2.116295e+06  1454.749018  0.279971  0.263796   \n",
       "\n",
       "   RMSE(train-test)  \n",
       "0       -947.076603  "
      ]
     },
     "execution_count": 115,
     "metadata": {},
     "output_type": "execute_result"
    }
   ],
   "source": [
    "decTree_data = {'Model': ['Decision Tree'], \n",
    "           'MAE': metrics.mean_absolute_error(y_test, pred_dt),'MSE':metrics.mean_squared_error(y_test, pred_dt),\n",
    "           'RMSE':np.sqrt(metrics.mean_squared_error(y_test, pred_dt)),\n",
    "           'R2 Score': r2_score(y_test,pred_dt),\n",
    "           'CV Score': (cross_val_score(dt,features,target,cv=5).mean()),\n",
    "           'RMSE(train-test)': (np.sqrt(metrics.mean_squared_error(y_train, pred_dt_train)))-(np.sqrt(metrics.mean_squared_error(y_test, pred_dt)))\n",
    "          }  \n",
    "\n",
    "df_DT = pd.DataFrame(decTree_data)  \n",
    "df_DT"
   ]
  },
  {
   "cell_type": "markdown",
   "id": "d272507b",
   "metadata": {},
   "source": [
    "# Random Forest Regressor"
   ]
  },
  {
   "cell_type": "code",
   "execution_count": 116,
   "id": "ba1fbaaf",
   "metadata": {},
   "outputs": [],
   "source": [
    "from sklearn.ensemble import RandomForestRegressor\n",
    "from sklearn.model_selection import GridSearchCV"
   ]
  },
  {
   "cell_type": "code",
   "execution_count": 117,
   "id": "cc1252c1",
   "metadata": {},
   "outputs": [],
   "source": [
    "rf=RandomForestRegressor(criterion=\"mse\",max_features=\"auto\",n_estimators=100,bootstrap=True)\n",
    "\n",
    "rf.fit(X_train,y_train)\n",
    "rf.score(X_train,y_train)\n",
    "pred_RF=rf.predict(X_test)\n",
    "pred_RF_train=rf.predict(X_train)"
   ]
  },
  {
   "cell_type": "code",
   "execution_count": 118,
   "id": "67cc8ff4",
   "metadata": {},
   "outputs": [
    {
     "name": "stdout",
     "output_type": "stream",
     "text": [
      "r2_score 0.5497965046392321\n",
      "mean_absolute_error : 807.7744344328446\n",
      "mean_squared_error :  1323229.577218102\n",
      "root_mean_squared_error :  1150.317163750112\n",
      "Cross Validation Score :  0.5515542899606661\n"
     ]
    }
   ],
   "source": [
    "# Calculate MAE, MSE, RMSE,R2 Score and Cross Validation Score on Test Data\n",
    "print(\"r2_score\",r2_score(y_test,pred_RF))\n",
    "print (\"mean_absolute_error :\",metrics.mean_absolute_error(y_test, pred_RF))\n",
    "print (\"mean_squared_error : \",metrics.mean_squared_error(y_test, pred_RF))\n",
    "print (\"root_mean_squared_error : \",np.sqrt(metrics.mean_squared_error(y_test, pred_RF)))\n",
    "print (\"Cross Validation Score : \", (cross_val_score(rf,features,target,cv=5).mean())  )"
   ]
  },
  {
   "cell_type": "code",
   "execution_count": 119,
   "id": "6feb2f42",
   "metadata": {},
   "outputs": [
    {
     "name": "stdout",
     "output_type": "stream",
     "text": [
      "r2_score 0.9381355264840358\n",
      "mean_absolute_error : 293.056918674098\n",
      "mean_squared_error :  179703.64387464992\n",
      "root_mean_squared_error :  423.9146657933055\n",
      "Cross Validation Score :  0.5508492757058302\n"
     ]
    }
   ],
   "source": [
    "# Calculate MAE, MSE, RMSE,R2 Score and Cross Validation Score on Train Data\n",
    "print(\"r2_score\",r2_score(y_train,pred_RF_train))\n",
    "print (\"mean_absolute_error :\",metrics.mean_absolute_error(y_train, pred_RF_train))\n",
    "print (\"mean_squared_error : \",metrics.mean_squared_error(y_train, pred_RF_train))\n",
    "print (\"root_mean_squared_error : \",np.sqrt(metrics.mean_squared_error(y_train, pred_RF_train)))\n",
    "print (\"Cross Validation Score : \", (cross_val_score(rf,features,target,cv=5).mean()))"
   ]
  },
  {
   "cell_type": "code",
   "execution_count": 120,
   "id": "cf03ed77",
   "metadata": {},
   "outputs": [
    {
     "name": "stdout",
     "output_type": "stream",
     "text": [
      "Difference between RMSE between Train data and Test data in Random Forest is : -726.4024979568065\n"
     ]
    }
   ],
   "source": [
    "print (\"Difference between RMSE between Train data and Test data in Random Forest is :\",\n",
    "      (np.sqrt(metrics.mean_squared_error(y_train, pred_RF_train)))-(np.sqrt(metrics.mean_squared_error(y_test, pred_RF)))\n",
    "      )"
   ]
  },
  {
   "cell_type": "code",
   "execution_count": 121,
   "id": "ab8e4bd2",
   "metadata": {},
   "outputs": [
    {
     "data": {
      "text/html": [
       "<div>\n",
       "<style scoped>\n",
       "    .dataframe tbody tr th:only-of-type {\n",
       "        vertical-align: middle;\n",
       "    }\n",
       "\n",
       "    .dataframe tbody tr th {\n",
       "        vertical-align: top;\n",
       "    }\n",
       "\n",
       "    .dataframe thead th {\n",
       "        text-align: right;\n",
       "    }\n",
       "</style>\n",
       "<table border=\"1\" class=\"dataframe\">\n",
       "  <thead>\n",
       "    <tr style=\"text-align: right;\">\n",
       "      <th></th>\n",
       "      <th>Model</th>\n",
       "      <th>MAE</th>\n",
       "      <th>MSE</th>\n",
       "      <th>RMSE</th>\n",
       "      <th>R2 Score</th>\n",
       "      <th>CV Score</th>\n",
       "      <th>RMSE(train-test)</th>\n",
       "    </tr>\n",
       "  </thead>\n",
       "  <tbody>\n",
       "    <tr>\n",
       "      <th>0</th>\n",
       "      <td>Random Forest</td>\n",
       "      <td>807.774434</td>\n",
       "      <td>1.323230e+06</td>\n",
       "      <td>1150.317164</td>\n",
       "      <td>0.549797</td>\n",
       "      <td>0.552383</td>\n",
       "      <td>-726.402498</td>\n",
       "    </tr>\n",
       "  </tbody>\n",
       "</table>\n",
       "</div>"
      ],
      "text/plain": [
       "           Model         MAE           MSE         RMSE  R2 Score  CV Score  \\\n",
       "0  Random Forest  807.774434  1.323230e+06  1150.317164  0.549797  0.552383   \n",
       "\n",
       "   RMSE(train-test)  \n",
       "0       -726.402498  "
      ]
     },
     "execution_count": 121,
     "metadata": {},
     "output_type": "execute_result"
    }
   ],
   "source": [
    "randomForest_data = {'Model': ['Random Forest'], \n",
    "           'MAE': metrics.mean_absolute_error(y_test, pred_RF),'MSE':metrics.mean_squared_error(y_test, pred_RF),\n",
    "           'RMSE':np.sqrt(metrics.mean_squared_error(y_test, pred_RF)),\n",
    "           'R2 Score': r2_score(y_test,pred_RF),\n",
    "           'CV Score': (cross_val_score(rf,features,target,cv=5).mean()),\n",
    "           'RMSE(train-test)': (np.sqrt(metrics.mean_squared_error(y_train, pred_RF_train)))-(np.sqrt(metrics.mean_squared_error(y_test, pred_RF)))\n",
    "          }  \n",
    "\n",
    "df_RF = pd.DataFrame(randomForest_data)  \n",
    "df_RF"
   ]
  },
  {
   "cell_type": "markdown",
   "id": "417bb76f",
   "metadata": {},
   "source": [
    "# Bagging Regression"
   ]
  },
  {
   "cell_type": "code",
   "execution_count": 122,
   "id": "8f704154",
   "metadata": {},
   "outputs": [],
   "source": [
    "from sklearn.ensemble import BaggingRegressor"
   ]
  },
  {
   "cell_type": "code",
   "execution_count": 123,
   "id": "5371555d",
   "metadata": {},
   "outputs": [],
   "source": [
    "br=BaggingRegressor(n_estimators=100,max_samples=100,max_features=1.0,bootstrap=True,bootstrap_features=False)"
   ]
  },
  {
   "cell_type": "code",
   "execution_count": 124,
   "id": "e8fdba8c",
   "metadata": {},
   "outputs": [],
   "source": [
    "br.fit(X_train,y_train)\n",
    "br.score(X_train,y_train)\n",
    "pred_Bagging=rf.predict(X_test)\n",
    "pred_Bagging_Train=rf.predict(X_train)"
   ]
  },
  {
   "cell_type": "code",
   "execution_count": 125,
   "id": "e83a7da6",
   "metadata": {},
   "outputs": [
    {
     "name": "stdout",
     "output_type": "stream",
     "text": [
      "r2_score 0.5497965046392321\n",
      "mean_absolute_error : 807.7744344328446\n",
      "mean_squared_error :  1323229.577218102\n",
      "root_mean_squared_error :  1150.317163750112\n",
      "Cross Validation Score :  0.5819685913076598\n"
     ]
    }
   ],
   "source": [
    "# Calculate MAE, MSE, RMSE,R2 Score and Cross Validation Score on Test Data\n",
    "print(\"r2_score\",r2_score(y_test,pred_Bagging))\n",
    "print (\"mean_absolute_error :\",metrics.mean_absolute_error(y_test, pred_Bagging))\n",
    "print (\"mean_squared_error : \",metrics.mean_squared_error(y_test, pred_Bagging))\n",
    "print (\"root_mean_squared_error : \",np.sqrt(metrics.mean_squared_error(y_test, pred_Bagging)))\n",
    "print (\"Cross Validation Score : \", (cross_val_score(br,features,target,cv=5).mean())  )"
   ]
  },
  {
   "cell_type": "code",
   "execution_count": 126,
   "id": "6965a355",
   "metadata": {},
   "outputs": [
    {
     "name": "stdout",
     "output_type": "stream",
     "text": [
      "r2_score 0.9381355264840358\n",
      "mean_absolute_error : 293.056918674098\n",
      "mean_squared_error :  179703.64387464992\n",
      "root_mean_squared_error :  423.9146657933055\n",
      "Cross Validation Score :  0.579902100962793\n"
     ]
    }
   ],
   "source": [
    "# Calculate MAE, MSE, RMSE,R2 Score and Cross Validation Score on Train Data\n",
    "print(\"r2_score\",r2_score(y_train,pred_Bagging_Train))\n",
    "print (\"mean_absolute_error :\",metrics.mean_absolute_error(y_train, pred_Bagging_Train))\n",
    "print (\"mean_squared_error : \",metrics.mean_squared_error(y_train, pred_Bagging_Train))\n",
    "print (\"root_mean_squared_error : \",np.sqrt(metrics.mean_squared_error(y_train, pred_Bagging_Train)))\n",
    "print (\"Cross Validation Score : \", (cross_val_score(br,features,target,cv=5).mean())  )"
   ]
  },
  {
   "cell_type": "code",
   "execution_count": 127,
   "id": "27cb7400",
   "metadata": {},
   "outputs": [
    {
     "name": "stdout",
     "output_type": "stream",
     "text": [
      "Difference between RMSE between Train data and Test data in Bagging Regressor is : -726.4024979568065\n"
     ]
    }
   ],
   "source": [
    "print (\"Difference between RMSE between Train data and Test data in Bagging Regressor is :\",\n",
    "      (np.sqrt(metrics.mean_squared_error(y_train, pred_Bagging_Train)))-(np.sqrt(metrics.mean_squared_error(y_test, pred_Bagging)))\n",
    "      )"
   ]
  },
  {
   "cell_type": "code",
   "execution_count": 128,
   "id": "5ba922a7",
   "metadata": {},
   "outputs": [
    {
     "data": {
      "text/html": [
       "<div>\n",
       "<style scoped>\n",
       "    .dataframe tbody tr th:only-of-type {\n",
       "        vertical-align: middle;\n",
       "    }\n",
       "\n",
       "    .dataframe tbody tr th {\n",
       "        vertical-align: top;\n",
       "    }\n",
       "\n",
       "    .dataframe thead th {\n",
       "        text-align: right;\n",
       "    }\n",
       "</style>\n",
       "<table border=\"1\" class=\"dataframe\">\n",
       "  <thead>\n",
       "    <tr style=\"text-align: right;\">\n",
       "      <th></th>\n",
       "      <th>Model</th>\n",
       "      <th>MAE</th>\n",
       "      <th>MSE</th>\n",
       "      <th>RMSE</th>\n",
       "      <th>R2 Score</th>\n",
       "      <th>CV Score</th>\n",
       "      <th>RMSE(train-test)</th>\n",
       "    </tr>\n",
       "  </thead>\n",
       "  <tbody>\n",
       "    <tr>\n",
       "      <th>0</th>\n",
       "      <td>Bagging Regressor</td>\n",
       "      <td>807.774434</td>\n",
       "      <td>1.323230e+06</td>\n",
       "      <td>1150.317164</td>\n",
       "      <td>0.549797</td>\n",
       "      <td>0.578307</td>\n",
       "      <td>-726.402498</td>\n",
       "    </tr>\n",
       "  </tbody>\n",
       "</table>\n",
       "</div>"
      ],
      "text/plain": [
       "               Model         MAE           MSE         RMSE  R2 Score  \\\n",
       "0  Bagging Regressor  807.774434  1.323230e+06  1150.317164  0.549797   \n",
       "\n",
       "   CV Score  RMSE(train-test)  \n",
       "0  0.578307       -726.402498  "
      ]
     },
     "execution_count": 128,
     "metadata": {},
     "output_type": "execute_result"
    }
   ],
   "source": [
    "bagging_data = {'Model': ['Bagging Regressor'], \n",
    "           'MAE': metrics.mean_absolute_error(y_test, pred_Bagging),'MSE':metrics.mean_squared_error(y_test, pred_Bagging),\n",
    "           'RMSE':np.sqrt(metrics.mean_squared_error(y_test, pred_Bagging)),\n",
    "           'R2 Score': r2_score(y_test,pred_Bagging),\n",
    "           'CV Score': (cross_val_score(br,features,target,cv=5).mean()),\n",
    "            'RMSE(train-test)': (np.sqrt(metrics.mean_squared_error(y_train, pred_Bagging_Train)))-(np.sqrt(metrics.mean_squared_error(y_test, pred_Bagging)))\n",
    "          }  \n",
    "\n",
    "df_Bagging = pd.DataFrame(bagging_data)  \n",
    "df_Bagging"
   ]
  },
  {
   "cell_type": "markdown",
   "id": "8b21c5a6",
   "metadata": {},
   "source": [
    "# AdaBoost"
   ]
  },
  {
   "cell_type": "code",
   "execution_count": 129,
   "id": "73870955",
   "metadata": {},
   "outputs": [],
   "source": [
    "from sklearn.ensemble import AdaBoostRegressor\n",
    "ada=AdaBoostRegressor()\n",
    "ada.fit(X_train,y_train)\n",
    "ada.score(X_train,y_train)\n",
    "pred_Ada=ada.predict(X_test)\n",
    "pred_Ada_Train=ada.predict(X_train)"
   ]
  },
  {
   "cell_type": "code",
   "execution_count": 130,
   "id": "f0fd9a6c",
   "metadata": {},
   "outputs": [
    {
     "name": "stdout",
     "output_type": "stream",
     "text": [
      "r2_score 0.532154757024641\n",
      "mean_absolute_error : 881.060731041137\n",
      "mean_squared_error :  1375081.8673002508\n",
      "root_mean_squared_error :  1172.6388477703827\n",
      "Cross Validation Score :  0.48250618097075737\n"
     ]
    }
   ],
   "source": [
    "# Calculate MAE, MSE, RMSE,R2 Score and Cross Validation Score on Test Data\n",
    "print(\"r2_score\",r2_score(y_test,pred_Ada))\n",
    "print (\"mean_absolute_error :\",metrics.mean_absolute_error(y_test, pred_Ada))\n",
    "print (\"mean_squared_error : \",metrics.mean_squared_error(y_test, pred_Ada))\n",
    "print (\"root_mean_squared_error : \",np.sqrt(metrics.mean_squared_error(y_test, pred_Ada)))\n",
    "print (\"Cross Validation Score : \", (cross_val_score(ada,features,target,cv=5).mean()))"
   ]
  },
  {
   "cell_type": "code",
   "execution_count": 131,
   "id": "c155447e",
   "metadata": {},
   "outputs": [
    {
     "name": "stdout",
     "output_type": "stream",
     "text": [
      "r2_score 0.5559498539121468\n",
      "mean_absolute_error : 859.7750558196819\n",
      "mean_squared_error :  1289874.8632276973\n",
      "root_mean_squared_error :  1135.7265794317298\n",
      "Cross Validation Score :  0.509033663526225\n"
     ]
    }
   ],
   "source": [
    "# Calculate MAE, MSE, RMSE,R2 Score and Cross Validation Score on Train Data\n",
    "print(\"r2_score\",r2_score(y_train,pred_Ada_Train))\n",
    "print (\"mean_absolute_error :\",metrics.mean_absolute_error(y_train, pred_Ada_Train))\n",
    "print (\"mean_squared_error : \",metrics.mean_squared_error(y_train, pred_Ada_Train))\n",
    "print (\"root_mean_squared_error : \",np.sqrt(metrics.mean_squared_error(y_train, pred_Ada_Train)))\n",
    "print (\"Cross Validation Score : \", (cross_val_score(ada,features,target,cv=5).mean()))"
   ]
  },
  {
   "cell_type": "code",
   "execution_count": 132,
   "id": "aa0cdcf0",
   "metadata": {},
   "outputs": [
    {
     "data": {
      "text/html": [
       "<div>\n",
       "<style scoped>\n",
       "    .dataframe tbody tr th:only-of-type {\n",
       "        vertical-align: middle;\n",
       "    }\n",
       "\n",
       "    .dataframe tbody tr th {\n",
       "        vertical-align: top;\n",
       "    }\n",
       "\n",
       "    .dataframe thead th {\n",
       "        text-align: right;\n",
       "    }\n",
       "</style>\n",
       "<table border=\"1\" class=\"dataframe\">\n",
       "  <thead>\n",
       "    <tr style=\"text-align: right;\">\n",
       "      <th></th>\n",
       "      <th>Model</th>\n",
       "      <th>MAE</th>\n",
       "      <th>MSE</th>\n",
       "      <th>RMSE</th>\n",
       "      <th>R2 Score</th>\n",
       "      <th>CV Score</th>\n",
       "      <th>RMSE(train-test)</th>\n",
       "    </tr>\n",
       "  </thead>\n",
       "  <tbody>\n",
       "    <tr>\n",
       "      <th>0</th>\n",
       "      <td>AdaBoost Regressor</td>\n",
       "      <td>881.060731</td>\n",
       "      <td>1.375082e+06</td>\n",
       "      <td>1172.638848</td>\n",
       "      <td>0.532155</td>\n",
       "      <td>0.457611</td>\n",
       "      <td>-36.912268</td>\n",
       "    </tr>\n",
       "  </tbody>\n",
       "</table>\n",
       "</div>"
      ],
      "text/plain": [
       "                Model         MAE           MSE         RMSE  R2 Score  \\\n",
       "0  AdaBoost Regressor  881.060731  1.375082e+06  1172.638848  0.532155   \n",
       "\n",
       "   CV Score  RMSE(train-test)  \n",
       "0  0.457611        -36.912268  "
      ]
     },
     "execution_count": 132,
     "metadata": {},
     "output_type": "execute_result"
    }
   ],
   "source": [
    "ada_data = {'Model': ['AdaBoost Regressor'], \n",
    "           'MAE': metrics.mean_absolute_error(y_test, pred_Ada),'MSE':metrics.mean_squared_error(y_test, pred_Ada),\n",
    "           'RMSE':np.sqrt(metrics.mean_squared_error(y_test, pred_Ada)),\n",
    "           'R2 Score': r2_score(y_test,pred_Ada),\n",
    "           'CV Score': (cross_val_score(ada,features,target,cv=5).mean()),\n",
    "            'RMSE(train-test)': (np.sqrt(metrics.mean_squared_error(y_train, pred_Ada_Train)))-(np.sqrt(metrics.mean_squared_error(y_test, pred_Ada)))\n",
    "          }\n",
    "\n",
    "df_Ada = pd.DataFrame(ada_data)  \n",
    "df_Ada"
   ]
  },
  {
   "cell_type": "markdown",
   "id": "2208eaa2",
   "metadata": {},
   "source": [
    "# Gradient BOOSTING"
   ]
  },
  {
   "cell_type": "code",
   "execution_count": 133,
   "id": "29fe2d6b",
   "metadata": {},
   "outputs": [],
   "source": [
    "from sklearn.ensemble import GradientBoostingRegressor\n",
    "gbr=GradientBoostingRegressor()\n",
    "gbr.fit(X_train,y_train)\n",
    "ada.score(X_train,y_train)\n",
    "pred_Gradient=gbr.predict(X_test)\n",
    "pred_Gradient_Train=gbr.predict(X_train)"
   ]
  },
  {
   "cell_type": "code",
   "execution_count": 134,
   "id": "047c1320",
   "metadata": {},
   "outputs": [
    {
     "name": "stdout",
     "output_type": "stream",
     "text": [
      "r2_score 0.5821358973504627\n",
      "mean_absolute_error : 770.3885530253503\n",
      "mean_squared_error :  1228178.2473511933\n",
      "root_mean_squared_error :  1108.2320367825473\n",
      "Cross Validation Score :  0.5944826891003627\n"
     ]
    }
   ],
   "source": [
    "# Calculate MAE, MSE, RMSE,R2 Score and Cross Validation Score on Test Data\n",
    "print(\"r2_score\",r2_score(y_test,pred_Gradient))\n",
    "print (\"mean_absolute_error :\",metrics.mean_absolute_error(y_test, pred_Gradient))\n",
    "print (\"mean_squared_error : \",metrics.mean_squared_error(y_test, pred_Gradient))\n",
    "print (\"root_mean_squared_error : \",np.sqrt(metrics.mean_squared_error(y_test, pred_Gradient)))\n",
    "print (\"Cross Validation Score : \", (cross_val_score(gbr,features,target,cv=5).mean()))"
   ]
  },
  {
   "cell_type": "code",
   "execution_count": 135,
   "id": "7124cc3b",
   "metadata": {},
   "outputs": [
    {
     "name": "stdout",
     "output_type": "stream",
     "text": [
      "r2_score 0.6380513580642906\n",
      "mean_absolute_error : 722.9701837087524\n",
      "mean_squared_error :  1051386.7839599953\n",
      "root_mean_squared_error :  1025.3715345961166\n",
      "Cross Validation Score :  0.5945303183824409\n"
     ]
    }
   ],
   "source": [
    "# Calculate MAE, MSE, RMSE,R2 Score and Cross Validation Score on Train Data\n",
    "print(\"r2_score\",r2_score(y_train,pred_Gradient_Train))\n",
    "print (\"mean_absolute_error :\",metrics.mean_absolute_error(y_train, pred_Gradient_Train))\n",
    "print (\"mean_squared_error : \",metrics.mean_squared_error(y_train, pred_Gradient_Train))\n",
    "print (\"root_mean_squared_error : \",np.sqrt(metrics.mean_squared_error(y_train, pred_Gradient_Train)))\n",
    "print (\"Cross Validation Score : \", (cross_val_score(gbr,features,target,cv=5).mean()))"
   ]
  },
  {
   "cell_type": "code",
   "execution_count": 136,
   "id": "41cd9e19",
   "metadata": {},
   "outputs": [
    {
     "data": {
      "text/html": [
       "<div>\n",
       "<style scoped>\n",
       "    .dataframe tbody tr th:only-of-type {\n",
       "        vertical-align: middle;\n",
       "    }\n",
       "\n",
       "    .dataframe tbody tr th {\n",
       "        vertical-align: top;\n",
       "    }\n",
       "\n",
       "    .dataframe thead th {\n",
       "        text-align: right;\n",
       "    }\n",
       "</style>\n",
       "<table border=\"1\" class=\"dataframe\">\n",
       "  <thead>\n",
       "    <tr style=\"text-align: right;\">\n",
       "      <th></th>\n",
       "      <th>Model</th>\n",
       "      <th>MAE</th>\n",
       "      <th>MSE</th>\n",
       "      <th>RMSE</th>\n",
       "      <th>R2 Score</th>\n",
       "      <th>CV Score</th>\n",
       "      <th>RMSE(train-test)</th>\n",
       "    </tr>\n",
       "  </thead>\n",
       "  <tbody>\n",
       "    <tr>\n",
       "      <th>0</th>\n",
       "      <td>Gradient Boosting Regressor</td>\n",
       "      <td>770.388553</td>\n",
       "      <td>1.228178e+06</td>\n",
       "      <td>1108.232037</td>\n",
       "      <td>0.582136</td>\n",
       "      <td>0.594537</td>\n",
       "      <td>-82.860502</td>\n",
       "    </tr>\n",
       "  </tbody>\n",
       "</table>\n",
       "</div>"
      ],
      "text/plain": [
       "                         Model         MAE           MSE         RMSE  \\\n",
       "0  Gradient Boosting Regressor  770.388553  1.228178e+06  1108.232037   \n",
       "\n",
       "   R2 Score  CV Score  RMSE(train-test)  \n",
       "0  0.582136  0.594537        -82.860502  "
      ]
     },
     "execution_count": 136,
     "metadata": {},
     "output_type": "execute_result"
    }
   ],
   "source": [
    "gradient_data = {'Model': ['Gradient Boosting Regressor'], \n",
    "           'MAE': metrics.mean_absolute_error(y_test, pred_Gradient),'MSE':metrics.mean_squared_error(y_test, pred_Gradient),\n",
    "           'RMSE':np.sqrt(metrics.mean_squared_error(y_test, pred_Gradient)),\n",
    "           'R2 Score': r2_score(y_test,pred_Gradient),\n",
    "           'CV Score': (cross_val_score(gbr,features,target,cv=5).mean()),\n",
    "           'RMSE(train-test)': (np.sqrt(metrics.mean_squared_error(y_train, pred_Gradient_Train)))-(np.sqrt(metrics.mean_squared_error(y_test, pred_Gradient)))\n",
    "                 \n",
    "          }  \n",
    "\n",
    "df_Gradient = pd.DataFrame(gradient_data)  \n",
    "df_Gradient"
   ]
  },
  {
   "cell_type": "code",
   "execution_count": 137,
   "id": "e5a61943",
   "metadata": {},
   "outputs": [
    {
     "data": {
      "text/html": [
       "<div>\n",
       "<style scoped>\n",
       "    .dataframe tbody tr th:only-of-type {\n",
       "        vertical-align: middle;\n",
       "    }\n",
       "\n",
       "    .dataframe tbody tr th {\n",
       "        vertical-align: top;\n",
       "    }\n",
       "\n",
       "    .dataframe thead th {\n",
       "        text-align: right;\n",
       "    }\n",
       "</style>\n",
       "<table border=\"1\" class=\"dataframe\">\n",
       "  <thead>\n",
       "    <tr style=\"text-align: right;\">\n",
       "      <th></th>\n",
       "      <th>Model</th>\n",
       "      <th>MAE</th>\n",
       "      <th>MSE</th>\n",
       "      <th>RMSE</th>\n",
       "      <th>R2 Score</th>\n",
       "      <th>CV Score</th>\n",
       "      <th>RMSE(train-test)</th>\n",
       "    </tr>\n",
       "  </thead>\n",
       "  <tbody>\n",
       "    <tr>\n",
       "      <th>7</th>\n",
       "      <td>Gradient Boosting Regressor</td>\n",
       "      <td>770.388553</td>\n",
       "      <td>1.228178e+06</td>\n",
       "      <td>1108.232037</td>\n",
       "      <td>0.582136</td>\n",
       "      <td>0.594537</td>\n",
       "      <td>-82.860502</td>\n",
       "    </tr>\n",
       "    <tr>\n",
       "      <th>4</th>\n",
       "      <td>Random Forest</td>\n",
       "      <td>807.774434</td>\n",
       "      <td>1.323230e+06</td>\n",
       "      <td>1150.317164</td>\n",
       "      <td>0.549797</td>\n",
       "      <td>0.552383</td>\n",
       "      <td>-726.402498</td>\n",
       "    </tr>\n",
       "    <tr>\n",
       "      <th>5</th>\n",
       "      <td>Bagging Regressor</td>\n",
       "      <td>807.774434</td>\n",
       "      <td>1.323230e+06</td>\n",
       "      <td>1150.317164</td>\n",
       "      <td>0.549797</td>\n",
       "      <td>0.578307</td>\n",
       "      <td>-726.402498</td>\n",
       "    </tr>\n",
       "    <tr>\n",
       "      <th>6</th>\n",
       "      <td>AdaBoost Regressor</td>\n",
       "      <td>881.060731</td>\n",
       "      <td>1.375082e+06</td>\n",
       "      <td>1172.638848</td>\n",
       "      <td>0.532155</td>\n",
       "      <td>0.457611</td>\n",
       "      <td>-36.912268</td>\n",
       "    </tr>\n",
       "    <tr>\n",
       "      <th>2</th>\n",
       "      <td>Lasso</td>\n",
       "      <td>904.475660</td>\n",
       "      <td>1.450096e+06</td>\n",
       "      <td>1204.199184</td>\n",
       "      <td>0.506633</td>\n",
       "      <td>0.510914</td>\n",
       "      <td>-18.645843</td>\n",
       "    </tr>\n",
       "    <tr>\n",
       "      <th>0</th>\n",
       "      <td>Linear Regression</td>\n",
       "      <td>905.161599</td>\n",
       "      <td>1.453525e+06</td>\n",
       "      <td>1205.622132</td>\n",
       "      <td>0.505466</td>\n",
       "      <td>0.509497</td>\n",
       "      <td>-20.680531</td>\n",
       "    </tr>\n",
       "    <tr>\n",
       "      <th>1</th>\n",
       "      <td>Ridge</td>\n",
       "      <td>908.796960</td>\n",
       "      <td>1.466755e+06</td>\n",
       "      <td>1211.096689</td>\n",
       "      <td>0.500965</td>\n",
       "      <td>0.505444</td>\n",
       "      <td>-20.118063</td>\n",
       "    </tr>\n",
       "    <tr>\n",
       "      <th>3</th>\n",
       "      <td>Decision Tree</td>\n",
       "      <td>1002.233387</td>\n",
       "      <td>2.116295e+06</td>\n",
       "      <td>1454.749018</td>\n",
       "      <td>0.279971</td>\n",
       "      <td>0.263796</td>\n",
       "      <td>-947.076603</td>\n",
       "    </tr>\n",
       "  </tbody>\n",
       "</table>\n",
       "</div>"
      ],
      "text/plain": [
       "                         Model          MAE           MSE         RMSE  \\\n",
       "7  Gradient Boosting Regressor   770.388553  1.228178e+06  1108.232037   \n",
       "4                Random Forest   807.774434  1.323230e+06  1150.317164   \n",
       "5            Bagging Regressor   807.774434  1.323230e+06  1150.317164   \n",
       "6           AdaBoost Regressor   881.060731  1.375082e+06  1172.638848   \n",
       "2                        Lasso   904.475660  1.450096e+06  1204.199184   \n",
       "0            Linear Regression   905.161599  1.453525e+06  1205.622132   \n",
       "1                        Ridge   908.796960  1.466755e+06  1211.096689   \n",
       "3                Decision Tree  1002.233387  2.116295e+06  1454.749018   \n",
       "\n",
       "   R2 Score  CV Score  RMSE(train-test)  \n",
       "7  0.582136  0.594537        -82.860502  \n",
       "4  0.549797  0.552383       -726.402498  \n",
       "5  0.549797  0.578307       -726.402498  \n",
       "6  0.532155  0.457611        -36.912268  \n",
       "2  0.506633  0.510914        -18.645843  \n",
       "0  0.505466  0.509497        -20.680531  \n",
       "1  0.500965  0.505444        -20.118063  \n",
       "3  0.279971  0.263796       -947.076603  "
      ]
     },
     "execution_count": 137,
     "metadata": {},
     "output_type": "execute_result"
    }
   ],
   "source": [
    "modelDF=pd.concat([df_LR,df_Ridge,df_Lasso,df_DT,df_RF,df_Bagging,df_Ada,df_Gradient]).reset_index()\n",
    "modelDF.drop(columns=['index'],axis=1,inplace=True)\n",
    "modelDF.sort_values(by='R2 Score', ascending=False)"
   ]
  },
  {
   "cell_type": "code",
   "execution_count": 138,
   "id": "a692c35e",
   "metadata": {},
   "outputs": [
    {
     "data": {
      "text/plain": [
       "7    1108.232037\n",
       "4    1150.317164\n",
       "5    1150.317164\n",
       "6    1172.638848\n",
       "2    1204.199184\n",
       "0    1205.622132\n",
       "1    1211.096689\n",
       "3    1454.749018\n",
       "Name: RMSE, dtype: float64"
      ]
     },
     "execution_count": 138,
     "metadata": {},
     "output_type": "execute_result"
    }
   ],
   "source": [
    "modelDF.RMSE.sort_values()"
   ]
  },
  {
   "cell_type": "markdown",
   "id": "85b51cef",
   "metadata": {},
   "source": [
    "# It seems like Gradient Boosting doing better than others\n",
    "# So lets Do grid search on to tune hyper parameter"
   ]
  },
  {
   "cell_type": "code",
   "execution_count": 139,
   "id": "fda20183",
   "metadata": {},
   "outputs": [],
   "source": [
    "from sklearn.model_selection import GridSearchCV"
   ]
  },
  {
   "cell_type": "code",
   "execution_count": 140,
   "id": "05bf966f",
   "metadata": {},
   "outputs": [
    {
     "name": "stdout",
     "output_type": "stream",
     "text": [
      "{'max_leaf_nodes': 9, 'min_impurity_decrease': 1e-05, 'min_samples_split': 5}\n"
     ]
    }
   ],
   "source": [
    "gb=GradientBoostingRegressor(max_depth=7,n_estimators=200,learning_rate=0.01)\n",
    "param=[{'min_samples_split':[5,9,13],'max_leaf_nodes':[3,5,7,9] ,'min_impurity_decrease':[0.00001,0.0]}]\n",
    "gs=GridSearchCV(gb,param,cv=5,scoring='neg_mean_squared_error')\n",
    "gs.fit(X_train,y_train)\n",
    "print(gs.best_params_)"
   ]
  },
  {
   "cell_type": "code",
   "execution_count": 141,
   "id": "8f7e65b2",
   "metadata": {},
   "outputs": [
    {
     "data": {
      "text/plain": [
       "GradientBoostingRegressor(learning_rate=0.01, max_depth=7, max_leaf_nodes=9,\n",
       "                          min_impurity_decrease=1e-05, min_samples_split=5,\n",
       "                          n_estimators=200)"
      ]
     },
     "execution_count": 141,
     "metadata": {},
     "output_type": "execute_result"
    }
   ],
   "source": [
    "gs.best_estimator_"
   ]
  },
  {
   "cell_type": "code",
   "execution_count": 142,
   "id": "6769b6e4",
   "metadata": {},
   "outputs": [],
   "source": [
    "gb=gs.best_estimator_"
   ]
  },
  {
   "cell_type": "code",
   "execution_count": 143,
   "id": "36a85716",
   "metadata": {},
   "outputs": [],
   "source": [
    "gradientboost_pred=gb.predict(X_test)"
   ]
  },
  {
   "cell_type": "code",
   "execution_count": 144,
   "id": "1d732386",
   "metadata": {},
   "outputs": [
    {
     "name": "stdout",
     "output_type": "stream",
     "text": [
      "r2_score 0.5710891855491813\n",
      "mean_absolute_error : 811.6572058544616\n",
      "mean_squared_error :  1260646.5332198895\n",
      "root_mean_squared_error :  1122.7851678838163\n"
     ]
    }
   ],
   "source": [
    "print(\"r2_score\",r2_score(y_test,gradientboost_pred))\n",
    "print (\"mean_absolute_error :\",metrics.mean_absolute_error(y_test, gradientboost_pred))\n",
    "print (\"mean_squared_error : \",metrics.mean_squared_error(y_test, gradientboost_pred))\n",
    "print (\"root_mean_squared_error : \",np.sqrt(metrics.mean_squared_error(y_test, gradientboost_pred)))"
   ]
  },
  {
   "cell_type": "markdown",
   "id": "bcc97931",
   "metadata": {},
   "source": [
    "We see that Gradient Boost Regressor is performing a bit better before HyperTuning, So we will use Gradient Boost Regressor for our problem"
   ]
  },
  {
   "cell_type": "markdown",
   "id": "4bf2369f",
   "metadata": {},
   "source": [
    "# Saving the model"
   ]
  },
  {
   "cell_type": "code",
   "execution_count": 145,
   "id": "a337d9f2",
   "metadata": {},
   "outputs": [],
   "source": [
    "from joblib import dump , load\n",
    "dump(gbr,'BigMartSales.joblib')\n",
    "gbr_load=load('BigMartSales.joblib')"
   ]
  },
  {
   "cell_type": "code",
   "execution_count": 146,
   "id": "63a49d47",
   "metadata": {},
   "outputs": [],
   "source": [
    "from tempfile import mkdtemp\n",
    "savedir = mkdtemp()\n",
    "import os\n",
    "filename = os.path.join(savedir, 'BigMartSales.joblib')"
   ]
  },
  {
   "cell_type": "code",
   "execution_count": 147,
   "id": "de9fe8dc",
   "metadata": {},
   "outputs": [
    {
     "data": {
      "text/plain": [
       "['C:\\\\Users\\\\mum1user\\\\AppData\\\\Local\\\\Temp\\\\tmp5c4bqrz9\\\\BigMartSales.joblib']"
      ]
     },
     "execution_count": 147,
     "metadata": {},
     "output_type": "execute_result"
    }
   ],
   "source": [
    "import joblib\n",
    "joblib.dump(gbr, filename) \n",
    "#['...BigMartSales.joblib']"
   ]
  },
  {
   "cell_type": "code",
   "execution_count": 148,
   "id": "2625700c",
   "metadata": {},
   "outputs": [
    {
     "data": {
      "text/plain": [
       "GradientBoostingRegressor()"
      ]
     },
     "execution_count": 148,
     "metadata": {},
     "output_type": "execute_result"
    }
   ],
   "source": [
    "joblib.load(filename)"
   ]
  },
  {
   "cell_type": "markdown",
   "id": "9cc805a4",
   "metadata": {},
   "source": [
    "# Test Data Importing"
   ]
  },
  {
   "cell_type": "code",
   "execution_count": 149,
   "id": "d20b8c60",
   "metadata": {},
   "outputs": [
    {
     "data": {
      "text/html": [
       "<div>\n",
       "<style scoped>\n",
       "    .dataframe tbody tr th:only-of-type {\n",
       "        vertical-align: middle;\n",
       "    }\n",
       "\n",
       "    .dataframe tbody tr th {\n",
       "        vertical-align: top;\n",
       "    }\n",
       "\n",
       "    .dataframe thead th {\n",
       "        text-align: right;\n",
       "    }\n",
       "</style>\n",
       "<table border=\"1\" class=\"dataframe\">\n",
       "  <thead>\n",
       "    <tr style=\"text-align: right;\">\n",
       "      <th></th>\n",
       "      <th>Item_Identifier</th>\n",
       "      <th>Item_Weight</th>\n",
       "      <th>Item_Fat_Content</th>\n",
       "      <th>Item_Visibility</th>\n",
       "      <th>Item_Type</th>\n",
       "      <th>Item_MRP</th>\n",
       "      <th>Outlet_Identifier</th>\n",
       "      <th>Outlet_Establishment_Year</th>\n",
       "      <th>Outlet_Size</th>\n",
       "      <th>Outlet_Location_Type</th>\n",
       "      <th>Outlet_Type</th>\n",
       "    </tr>\n",
       "  </thead>\n",
       "  <tbody>\n",
       "    <tr>\n",
       "      <th>0</th>\n",
       "      <td>FDW58</td>\n",
       "      <td>20.750</td>\n",
       "      <td>Low Fat</td>\n",
       "      <td>0.007565</td>\n",
       "      <td>Snack Foods</td>\n",
       "      <td>107.8622</td>\n",
       "      <td>OUT049</td>\n",
       "      <td>1999</td>\n",
       "      <td>Medium</td>\n",
       "      <td>Tier 1</td>\n",
       "      <td>Supermarket Type1</td>\n",
       "    </tr>\n",
       "    <tr>\n",
       "      <th>1</th>\n",
       "      <td>FDW14</td>\n",
       "      <td>8.300</td>\n",
       "      <td>reg</td>\n",
       "      <td>0.038428</td>\n",
       "      <td>Dairy</td>\n",
       "      <td>87.3198</td>\n",
       "      <td>OUT017</td>\n",
       "      <td>2007</td>\n",
       "      <td>NaN</td>\n",
       "      <td>Tier 2</td>\n",
       "      <td>Supermarket Type1</td>\n",
       "    </tr>\n",
       "    <tr>\n",
       "      <th>2</th>\n",
       "      <td>NCN55</td>\n",
       "      <td>14.600</td>\n",
       "      <td>Low Fat</td>\n",
       "      <td>0.099575</td>\n",
       "      <td>Others</td>\n",
       "      <td>241.7538</td>\n",
       "      <td>OUT010</td>\n",
       "      <td>1998</td>\n",
       "      <td>NaN</td>\n",
       "      <td>Tier 3</td>\n",
       "      <td>Grocery Store</td>\n",
       "    </tr>\n",
       "    <tr>\n",
       "      <th>3</th>\n",
       "      <td>FDQ58</td>\n",
       "      <td>7.315</td>\n",
       "      <td>Low Fat</td>\n",
       "      <td>0.015388</td>\n",
       "      <td>Snack Foods</td>\n",
       "      <td>155.0340</td>\n",
       "      <td>OUT017</td>\n",
       "      <td>2007</td>\n",
       "      <td>NaN</td>\n",
       "      <td>Tier 2</td>\n",
       "      <td>Supermarket Type1</td>\n",
       "    </tr>\n",
       "    <tr>\n",
       "      <th>4</th>\n",
       "      <td>FDY38</td>\n",
       "      <td>NaN</td>\n",
       "      <td>Regular</td>\n",
       "      <td>0.118599</td>\n",
       "      <td>Dairy</td>\n",
       "      <td>234.2300</td>\n",
       "      <td>OUT027</td>\n",
       "      <td>1985</td>\n",
       "      <td>Medium</td>\n",
       "      <td>Tier 3</td>\n",
       "      <td>Supermarket Type3</td>\n",
       "    </tr>\n",
       "  </tbody>\n",
       "</table>\n",
       "</div>"
      ],
      "text/plain": [
       "  Item_Identifier  Item_Weight Item_Fat_Content  Item_Visibility    Item_Type  \\\n",
       "0           FDW58       20.750          Low Fat         0.007565  Snack Foods   \n",
       "1           FDW14        8.300              reg         0.038428        Dairy   \n",
       "2           NCN55       14.600          Low Fat         0.099575       Others   \n",
       "3           FDQ58        7.315          Low Fat         0.015388  Snack Foods   \n",
       "4           FDY38          NaN          Regular         0.118599        Dairy   \n",
       "\n",
       "   Item_MRP Outlet_Identifier  Outlet_Establishment_Year Outlet_Size  \\\n",
       "0  107.8622            OUT049                       1999      Medium   \n",
       "1   87.3198            OUT017                       2007         NaN   \n",
       "2  241.7538            OUT010                       1998         NaN   \n",
       "3  155.0340            OUT017                       2007         NaN   \n",
       "4  234.2300            OUT027                       1985      Medium   \n",
       "\n",
       "  Outlet_Location_Type        Outlet_Type  \n",
       "0               Tier 1  Supermarket Type1  \n",
       "1               Tier 2  Supermarket Type1  \n",
       "2               Tier 3      Grocery Store  \n",
       "3               Tier 2  Supermarket Type1  \n",
       "4               Tier 3  Supermarket Type3  "
      ]
     },
     "execution_count": 149,
     "metadata": {},
     "output_type": "execute_result"
    }
   ],
   "source": [
    "test = pd.read_csv('https://raw.githubusercontent.com/dsrscientist/bigdatamart_rep/master/bigdatamart_Test.csv')\n",
    "test.head(5)"
   ]
  },
  {
   "cell_type": "code",
   "execution_count": 150,
   "id": "3b2ed6ac",
   "metadata": {},
   "outputs": [],
   "source": [
    "Item_Identifier=test['Item_Identifier']"
   ]
  },
  {
   "cell_type": "code",
   "execution_count": 151,
   "id": "a0b32bdf",
   "metadata": {},
   "outputs": [],
   "source": [
    "Outlet_Identifier=test['Outlet_Identifier']"
   ]
  },
  {
   "cell_type": "code",
   "execution_count": 152,
   "id": "5226dc81",
   "metadata": {},
   "outputs": [
    {
     "data": {
      "text/plain": [
       "(5681, 11)"
      ]
     },
     "execution_count": 152,
     "metadata": {},
     "output_type": "execute_result"
    }
   ],
   "source": [
    "test.shape"
   ]
  },
  {
   "cell_type": "code",
   "execution_count": 153,
   "id": "1be4b44f",
   "metadata": {},
   "outputs": [],
   "source": [
    "test['Item_Outlet_Sales'] = 0"
   ]
  },
  {
   "cell_type": "markdown",
   "id": "425deaa0",
   "metadata": {},
   "source": [
    "# Test Data Preprocessing"
   ]
  },
  {
   "cell_type": "code",
   "execution_count": 154,
   "id": "7301caea",
   "metadata": {},
   "outputs": [
    {
     "data": {
      "text/html": [
       "<div>\n",
       "<style scoped>\n",
       "    .dataframe tbody tr th:only-of-type {\n",
       "        vertical-align: middle;\n",
       "    }\n",
       "\n",
       "    .dataframe tbody tr th {\n",
       "        vertical-align: top;\n",
       "    }\n",
       "\n",
       "    .dataframe thead th {\n",
       "        text-align: right;\n",
       "    }\n",
       "</style>\n",
       "<table border=\"1\" class=\"dataframe\">\n",
       "  <thead>\n",
       "    <tr style=\"text-align: right;\">\n",
       "      <th></th>\n",
       "      <th>Item_Weight</th>\n",
       "      <th>Item_Fat_Content</th>\n",
       "      <th>Item_Visibility</th>\n",
       "      <th>Item_MRP</th>\n",
       "      <th>Outlet_Identifier</th>\n",
       "      <th>Outlet_Establishment_Year</th>\n",
       "      <th>Outlet_Size</th>\n",
       "      <th>Outlet_Location_Type</th>\n",
       "      <th>Outlet_Type</th>\n",
       "      <th>Item_Type_Baking Goods</th>\n",
       "      <th>...</th>\n",
       "      <th>Item_Type_Hard Drinks</th>\n",
       "      <th>Item_Type_Health and Hygiene</th>\n",
       "      <th>Item_Type_Household</th>\n",
       "      <th>Item_Type_Meat</th>\n",
       "      <th>Item_Type_Others</th>\n",
       "      <th>Item_Type_Seafood</th>\n",
       "      <th>Item_Type_Snack Foods</th>\n",
       "      <th>Item_Type_Soft Drinks</th>\n",
       "      <th>Item_Type_Starchy Foods</th>\n",
       "      <th>Item_Outlet_Sales</th>\n",
       "    </tr>\n",
       "  </thead>\n",
       "  <tbody>\n",
       "    <tr>\n",
       "      <th>0</th>\n",
       "      <td>9.30</td>\n",
       "      <td>0</td>\n",
       "      <td>0.016047</td>\n",
       "      <td>249.8092</td>\n",
       "      <td>49</td>\n",
       "      <td>1999</td>\n",
       "      <td>1</td>\n",
       "      <td>0</td>\n",
       "      <td>1</td>\n",
       "      <td>0</td>\n",
       "      <td>...</td>\n",
       "      <td>0</td>\n",
       "      <td>0</td>\n",
       "      <td>0</td>\n",
       "      <td>0</td>\n",
       "      <td>0</td>\n",
       "      <td>0</td>\n",
       "      <td>0</td>\n",
       "      <td>0</td>\n",
       "      <td>0</td>\n",
       "      <td>3735.1380</td>\n",
       "    </tr>\n",
       "    <tr>\n",
       "      <th>1</th>\n",
       "      <td>5.92</td>\n",
       "      <td>1</td>\n",
       "      <td>0.019278</td>\n",
       "      <td>48.2692</td>\n",
       "      <td>18</td>\n",
       "      <td>2009</td>\n",
       "      <td>1</td>\n",
       "      <td>2</td>\n",
       "      <td>2</td>\n",
       "      <td>0</td>\n",
       "      <td>...</td>\n",
       "      <td>0</td>\n",
       "      <td>0</td>\n",
       "      <td>0</td>\n",
       "      <td>0</td>\n",
       "      <td>0</td>\n",
       "      <td>0</td>\n",
       "      <td>0</td>\n",
       "      <td>1</td>\n",
       "      <td>0</td>\n",
       "      <td>443.4228</td>\n",
       "    </tr>\n",
       "  </tbody>\n",
       "</table>\n",
       "<p>2 rows × 26 columns</p>\n",
       "</div>"
      ],
      "text/plain": [
       "   Item_Weight  Item_Fat_Content  Item_Visibility  Item_MRP  \\\n",
       "0         9.30                 0         0.016047  249.8092   \n",
       "1         5.92                 1         0.019278   48.2692   \n",
       "\n",
       "   Outlet_Identifier  Outlet_Establishment_Year  Outlet_Size  \\\n",
       "0                 49                       1999            1   \n",
       "1                 18                       2009            1   \n",
       "\n",
       "   Outlet_Location_Type  Outlet_Type  Item_Type_Baking Goods  ...  \\\n",
       "0                     0            1                       0  ...   \n",
       "1                     2            2                       0  ...   \n",
       "\n",
       "   Item_Type_Hard Drinks  Item_Type_Health and Hygiene  Item_Type_Household  \\\n",
       "0                      0                             0                    0   \n",
       "1                      0                             0                    0   \n",
       "\n",
       "   Item_Type_Meat  Item_Type_Others  Item_Type_Seafood  Item_Type_Snack Foods  \\\n",
       "0               0                 0                  0                      0   \n",
       "1               0                 0                  0                      0   \n",
       "\n",
       "   Item_Type_Soft Drinks  Item_Type_Starchy Foods  Item_Outlet_Sales  \n",
       "0                      0                        0          3735.1380  \n",
       "1                      1                        0           443.4228  \n",
       "\n",
       "[2 rows x 26 columns]"
      ]
     },
     "execution_count": 154,
     "metadata": {},
     "output_type": "execute_result"
    }
   ],
   "source": [
    "df.head(2)"
   ]
  },
  {
   "cell_type": "code",
   "execution_count": 155,
   "id": "664d5c10",
   "metadata": {},
   "outputs": [
    {
     "data": {
      "text/plain": [
       "Index(['Item_Identifier', 'Item_Weight', 'Item_Fat_Content', 'Item_Visibility',\n",
       "       'Item_Type', 'Item_MRP', 'Outlet_Identifier',\n",
       "       'Outlet_Establishment_Year', 'Outlet_Size', 'Outlet_Location_Type',\n",
       "       'Outlet_Type', 'Item_Outlet_Sales'],\n",
       "      dtype='object')"
      ]
     },
     "execution_count": 155,
     "metadata": {},
     "output_type": "execute_result"
    }
   ],
   "source": [
    "test.columns"
   ]
  },
  {
   "cell_type": "code",
   "execution_count": 156,
   "id": "a2ca5d57",
   "metadata": {},
   "outputs": [],
   "source": [
    "test.Item_Weight = test.Item_Weight.fillna(train_data.Item_Weight.mean())\n",
    "test.Outlet_Size = test.Outlet_Size.fillna('Medium')"
   ]
  },
  {
   "cell_type": "code",
   "execution_count": 157,
   "id": "b9881ef8",
   "metadata": {},
   "outputs": [],
   "source": [
    "updated_Outlet_Identifier = {\"OUT010\": 10, \"OUT013\": 13, \"OUT017\": 17, \"OUT018\": 18, \"OUT019\": 19, \n",
    "                 \"OUT027\": 27, \"OUT035\": 35, \"OUT045\": 45, \"OUT046\": 46, \"OUT049\": 49}\n",
    "data = [test]\n",
    "\n",
    "for dataset in data:\n",
    "    dataset['Outlet_Identifier'] = dataset['Outlet_Identifier'].map(updated_Outlet_Identifier)\n",
    "    dataset['Outlet_Identifier'] = dataset['Outlet_Identifier'].astype(int)"
   ]
  },
  {
   "cell_type": "code",
   "execution_count": 158,
   "id": "1eedc6ac",
   "metadata": {},
   "outputs": [],
   "source": [
    "test['Item_Fat_Content'] = le.fit_transform(test['Item_Fat_Content'])\n",
    "test['Outlet_Location_Type'] = le.fit_transform(test['Outlet_Location_Type'])\n",
    "test['Outlet_Size'] = le.fit_transform(test['Outlet_Size'])\n",
    "test['Outlet_Type'] = le.fit_transform(test['Outlet_Type'])"
   ]
  },
  {
   "cell_type": "code",
   "execution_count": 159,
   "id": "500a7f9e",
   "metadata": {},
   "outputs": [
    {
     "data": {
      "text/html": [
       "<div>\n",
       "<style scoped>\n",
       "    .dataframe tbody tr th:only-of-type {\n",
       "        vertical-align: middle;\n",
       "    }\n",
       "\n",
       "    .dataframe tbody tr th {\n",
       "        vertical-align: top;\n",
       "    }\n",
       "\n",
       "    .dataframe thead th {\n",
       "        text-align: right;\n",
       "    }\n",
       "</style>\n",
       "<table border=\"1\" class=\"dataframe\">\n",
       "  <thead>\n",
       "    <tr style=\"text-align: right;\">\n",
       "      <th></th>\n",
       "      <th>Item_Identifier</th>\n",
       "      <th>Item_Weight</th>\n",
       "      <th>Item_Fat_Content</th>\n",
       "      <th>Item_Visibility</th>\n",
       "      <th>Item_Type</th>\n",
       "      <th>Item_MRP</th>\n",
       "      <th>Outlet_Identifier</th>\n",
       "      <th>Outlet_Establishment_Year</th>\n",
       "      <th>Outlet_Size</th>\n",
       "      <th>Outlet_Location_Type</th>\n",
       "      <th>Outlet_Type</th>\n",
       "      <th>Item_Outlet_Sales</th>\n",
       "    </tr>\n",
       "  </thead>\n",
       "  <tbody>\n",
       "    <tr>\n",
       "      <th>0</th>\n",
       "      <td>FDW58</td>\n",
       "      <td>20.75</td>\n",
       "      <td>1</td>\n",
       "      <td>0.007565</td>\n",
       "      <td>Snack Foods</td>\n",
       "      <td>107.8622</td>\n",
       "      <td>49</td>\n",
       "      <td>1999</td>\n",
       "      <td>1</td>\n",
       "      <td>0</td>\n",
       "      <td>1</td>\n",
       "      <td>0</td>\n",
       "    </tr>\n",
       "    <tr>\n",
       "      <th>1</th>\n",
       "      <td>FDW14</td>\n",
       "      <td>8.30</td>\n",
       "      <td>4</td>\n",
       "      <td>0.038428</td>\n",
       "      <td>Dairy</td>\n",
       "      <td>87.3198</td>\n",
       "      <td>17</td>\n",
       "      <td>2007</td>\n",
       "      <td>1</td>\n",
       "      <td>1</td>\n",
       "      <td>1</td>\n",
       "      <td>0</td>\n",
       "    </tr>\n",
       "  </tbody>\n",
       "</table>\n",
       "</div>"
      ],
      "text/plain": [
       "  Item_Identifier  Item_Weight  Item_Fat_Content  Item_Visibility  \\\n",
       "0           FDW58        20.75                 1         0.007565   \n",
       "1           FDW14         8.30                 4         0.038428   \n",
       "\n",
       "     Item_Type  Item_MRP  Outlet_Identifier  Outlet_Establishment_Year  \\\n",
       "0  Snack Foods  107.8622                 49                       1999   \n",
       "1        Dairy   87.3198                 17                       2007   \n",
       "\n",
       "   Outlet_Size  Outlet_Location_Type  Outlet_Type  Item_Outlet_Sales  \n",
       "0            1                     0            1                  0  \n",
       "1            1                     1            1                  0  "
      ]
     },
     "execution_count": 159,
     "metadata": {},
     "output_type": "execute_result"
    }
   ],
   "source": [
    "test.head(2)"
   ]
  },
  {
   "cell_type": "code",
   "execution_count": 160,
   "id": "93fae8a3",
   "metadata": {},
   "outputs": [],
   "source": [
    "test.drop(columns=['Item_Identifier'],axis=1,inplace=True)"
   ]
  },
  {
   "cell_type": "code",
   "execution_count": 161,
   "id": "3b33a749",
   "metadata": {},
   "outputs": [
    {
     "name": "stdout",
     "output_type": "stream",
     "text": [
      "(5681, 26)\n"
     ]
    }
   ],
   "source": [
    "test=pd.get_dummies(test, columns=['Item_Type'],drop_first=False)\n",
    "\n",
    "print(test.shape)"
   ]
  },
  {
   "cell_type": "code",
   "execution_count": 162,
   "id": "b75431f9",
   "metadata": {},
   "outputs": [
    {
     "data": {
      "text/plain": [
       "(8523, 26)"
      ]
     },
     "execution_count": 162,
     "metadata": {},
     "output_type": "execute_result"
    }
   ],
   "source": [
    "df.shape"
   ]
  },
  {
   "cell_type": "code",
   "execution_count": 163,
   "id": "3a6f1273",
   "metadata": {},
   "outputs": [
    {
     "data": {
      "text/plain": [
       "(5681, 26)"
      ]
     },
     "execution_count": 163,
     "metadata": {},
     "output_type": "execute_result"
    }
   ],
   "source": [
    "test.shape"
   ]
  },
  {
   "cell_type": "code",
   "execution_count": 164,
   "id": "3bdd6d03",
   "metadata": {},
   "outputs": [
    {
     "data": {
      "text/html": [
       "<div>\n",
       "<style scoped>\n",
       "    .dataframe tbody tr th:only-of-type {\n",
       "        vertical-align: middle;\n",
       "    }\n",
       "\n",
       "    .dataframe tbody tr th {\n",
       "        vertical-align: top;\n",
       "    }\n",
       "\n",
       "    .dataframe thead th {\n",
       "        text-align: right;\n",
       "    }\n",
       "</style>\n",
       "<table border=\"1\" class=\"dataframe\">\n",
       "  <thead>\n",
       "    <tr style=\"text-align: right;\">\n",
       "      <th></th>\n",
       "      <th>Item_Weight</th>\n",
       "      <th>Item_Fat_Content</th>\n",
       "      <th>Item_Visibility</th>\n",
       "      <th>Item_MRP</th>\n",
       "      <th>Outlet_Identifier</th>\n",
       "      <th>Outlet_Establishment_Year</th>\n",
       "      <th>Outlet_Size</th>\n",
       "      <th>Outlet_Location_Type</th>\n",
       "      <th>Outlet_Type</th>\n",
       "      <th>Item_Type_Baking Goods</th>\n",
       "      <th>...</th>\n",
       "      <th>Item_Type_Hard Drinks</th>\n",
       "      <th>Item_Type_Health and Hygiene</th>\n",
       "      <th>Item_Type_Household</th>\n",
       "      <th>Item_Type_Meat</th>\n",
       "      <th>Item_Type_Others</th>\n",
       "      <th>Item_Type_Seafood</th>\n",
       "      <th>Item_Type_Snack Foods</th>\n",
       "      <th>Item_Type_Soft Drinks</th>\n",
       "      <th>Item_Type_Starchy Foods</th>\n",
       "      <th>Item_Outlet_Sales</th>\n",
       "    </tr>\n",
       "  </thead>\n",
       "  <tbody>\n",
       "    <tr>\n",
       "      <th>0</th>\n",
       "      <td>20.750000</td>\n",
       "      <td>1</td>\n",
       "      <td>0.007565</td>\n",
       "      <td>107.8622</td>\n",
       "      <td>49</td>\n",
       "      <td>1999</td>\n",
       "      <td>1</td>\n",
       "      <td>0</td>\n",
       "      <td>1</td>\n",
       "      <td>0</td>\n",
       "      <td>...</td>\n",
       "      <td>0</td>\n",
       "      <td>0</td>\n",
       "      <td>0</td>\n",
       "      <td>0</td>\n",
       "      <td>0</td>\n",
       "      <td>0</td>\n",
       "      <td>1</td>\n",
       "      <td>0</td>\n",
       "      <td>0</td>\n",
       "      <td>0</td>\n",
       "    </tr>\n",
       "    <tr>\n",
       "      <th>1</th>\n",
       "      <td>8.300000</td>\n",
       "      <td>4</td>\n",
       "      <td>0.038428</td>\n",
       "      <td>87.3198</td>\n",
       "      <td>17</td>\n",
       "      <td>2007</td>\n",
       "      <td>1</td>\n",
       "      <td>1</td>\n",
       "      <td>1</td>\n",
       "      <td>0</td>\n",
       "      <td>...</td>\n",
       "      <td>0</td>\n",
       "      <td>0</td>\n",
       "      <td>0</td>\n",
       "      <td>0</td>\n",
       "      <td>0</td>\n",
       "      <td>0</td>\n",
       "      <td>0</td>\n",
       "      <td>0</td>\n",
       "      <td>0</td>\n",
       "      <td>0</td>\n",
       "    </tr>\n",
       "    <tr>\n",
       "      <th>2</th>\n",
       "      <td>14.600000</td>\n",
       "      <td>1</td>\n",
       "      <td>0.099575</td>\n",
       "      <td>241.7538</td>\n",
       "      <td>10</td>\n",
       "      <td>1998</td>\n",
       "      <td>1</td>\n",
       "      <td>2</td>\n",
       "      <td>0</td>\n",
       "      <td>0</td>\n",
       "      <td>...</td>\n",
       "      <td>0</td>\n",
       "      <td>0</td>\n",
       "      <td>0</td>\n",
       "      <td>0</td>\n",
       "      <td>1</td>\n",
       "      <td>0</td>\n",
       "      <td>0</td>\n",
       "      <td>0</td>\n",
       "      <td>0</td>\n",
       "      <td>0</td>\n",
       "    </tr>\n",
       "    <tr>\n",
       "      <th>3</th>\n",
       "      <td>7.315000</td>\n",
       "      <td>1</td>\n",
       "      <td>0.015388</td>\n",
       "      <td>155.0340</td>\n",
       "      <td>17</td>\n",
       "      <td>2007</td>\n",
       "      <td>1</td>\n",
       "      <td>1</td>\n",
       "      <td>1</td>\n",
       "      <td>0</td>\n",
       "      <td>...</td>\n",
       "      <td>0</td>\n",
       "      <td>0</td>\n",
       "      <td>0</td>\n",
       "      <td>0</td>\n",
       "      <td>0</td>\n",
       "      <td>0</td>\n",
       "      <td>1</td>\n",
       "      <td>0</td>\n",
       "      <td>0</td>\n",
       "      <td>0</td>\n",
       "    </tr>\n",
       "    <tr>\n",
       "      <th>4</th>\n",
       "      <td>12.857645</td>\n",
       "      <td>2</td>\n",
       "      <td>0.118599</td>\n",
       "      <td>234.2300</td>\n",
       "      <td>27</td>\n",
       "      <td>1985</td>\n",
       "      <td>1</td>\n",
       "      <td>2</td>\n",
       "      <td>3</td>\n",
       "      <td>0</td>\n",
       "      <td>...</td>\n",
       "      <td>0</td>\n",
       "      <td>0</td>\n",
       "      <td>0</td>\n",
       "      <td>0</td>\n",
       "      <td>0</td>\n",
       "      <td>0</td>\n",
       "      <td>0</td>\n",
       "      <td>0</td>\n",
       "      <td>0</td>\n",
       "      <td>0</td>\n",
       "    </tr>\n",
       "  </tbody>\n",
       "</table>\n",
       "<p>5 rows × 26 columns</p>\n",
       "</div>"
      ],
      "text/plain": [
       "   Item_Weight  Item_Fat_Content  Item_Visibility  Item_MRP  \\\n",
       "0    20.750000                 1         0.007565  107.8622   \n",
       "1     8.300000                 4         0.038428   87.3198   \n",
       "2    14.600000                 1         0.099575  241.7538   \n",
       "3     7.315000                 1         0.015388  155.0340   \n",
       "4    12.857645                 2         0.118599  234.2300   \n",
       "\n",
       "   Outlet_Identifier  Outlet_Establishment_Year  Outlet_Size  \\\n",
       "0                 49                       1999            1   \n",
       "1                 17                       2007            1   \n",
       "2                 10                       1998            1   \n",
       "3                 17                       2007            1   \n",
       "4                 27                       1985            1   \n",
       "\n",
       "   Outlet_Location_Type  Outlet_Type  Item_Type_Baking Goods  ...  \\\n",
       "0                     0            1                       0  ...   \n",
       "1                     1            1                       0  ...   \n",
       "2                     2            0                       0  ...   \n",
       "3                     1            1                       0  ...   \n",
       "4                     2            3                       0  ...   \n",
       "\n",
       "   Item_Type_Hard Drinks  Item_Type_Health and Hygiene  Item_Type_Household  \\\n",
       "0                      0                             0                    0   \n",
       "1                      0                             0                    0   \n",
       "2                      0                             0                    0   \n",
       "3                      0                             0                    0   \n",
       "4                      0                             0                    0   \n",
       "\n",
       "   Item_Type_Meat  Item_Type_Others  Item_Type_Seafood  Item_Type_Snack Foods  \\\n",
       "0               0                 0                  0                      1   \n",
       "1               0                 0                  0                      0   \n",
       "2               0                 1                  0                      0   \n",
       "3               0                 0                  0                      1   \n",
       "4               0                 0                  0                      0   \n",
       "\n",
       "   Item_Type_Soft Drinks  Item_Type_Starchy Foods  Item_Outlet_Sales  \n",
       "0                      0                        0                  0  \n",
       "1                      0                        0                  0  \n",
       "2                      0                        0                  0  \n",
       "3                      0                        0                  0  \n",
       "4                      0                        0                  0  \n",
       "\n",
       "[5 rows x 26 columns]"
      ]
     },
     "execution_count": 164,
     "metadata": {},
     "output_type": "execute_result"
    }
   ],
   "source": [
    "df_test = test[['Item_Weight', 'Item_Fat_Content','Item_Visibility', 'Item_MRP',             \n",
    "                 'Outlet_Identifier','Outlet_Establishment_Year','Outlet_Size', 'Outlet_Location_Type','Outlet_Type',\n",
    "                 'Item_Type_Baking Goods', 'Item_Type_Breads', 'Item_Type_Breakfast',\n",
    "                 'Item_Type_Canned', 'Item_Type_Dairy', 'Item_Type_Frozen Foods',\n",
    "                 'Item_Type_Fruits and Vegetables', 'Item_Type_Hard Drinks',\n",
    "                 'Item_Type_Health and Hygiene', 'Item_Type_Household', 'Item_Type_Meat',\n",
    "                 'Item_Type_Others', 'Item_Type_Seafood', 'Item_Type_Snack Foods',\n",
    "                 'Item_Type_Soft Drinks', 'Item_Type_Starchy Foods','Item_Outlet_Sales']]\n",
    "df_test.head()"
   ]
  },
  {
   "cell_type": "code",
   "execution_count": 165,
   "id": "dec2b459",
   "metadata": {},
   "outputs": [
    {
     "data": {
      "text/html": [
       "<div>\n",
       "<style scoped>\n",
       "    .dataframe tbody tr th:only-of-type {\n",
       "        vertical-align: middle;\n",
       "    }\n",
       "\n",
       "    .dataframe tbody tr th {\n",
       "        vertical-align: top;\n",
       "    }\n",
       "\n",
       "    .dataframe thead th {\n",
       "        text-align: right;\n",
       "    }\n",
       "</style>\n",
       "<table border=\"1\" class=\"dataframe\">\n",
       "  <thead>\n",
       "    <tr style=\"text-align: right;\">\n",
       "      <th></th>\n",
       "      <th>Item_Weight</th>\n",
       "      <th>Item_Fat_Content</th>\n",
       "      <th>Item_Visibility</th>\n",
       "      <th>Item_MRP</th>\n",
       "      <th>Outlet_Identifier</th>\n",
       "      <th>Outlet_Establishment_Year</th>\n",
       "      <th>Outlet_Size</th>\n",
       "      <th>Outlet_Location_Type</th>\n",
       "      <th>Outlet_Type</th>\n",
       "      <th>Item_Type_Baking Goods</th>\n",
       "      <th>...</th>\n",
       "      <th>Item_Type_Fruits and Vegetables</th>\n",
       "      <th>Item_Type_Hard Drinks</th>\n",
       "      <th>Item_Type_Health and Hygiene</th>\n",
       "      <th>Item_Type_Household</th>\n",
       "      <th>Item_Type_Meat</th>\n",
       "      <th>Item_Type_Others</th>\n",
       "      <th>Item_Type_Seafood</th>\n",
       "      <th>Item_Type_Snack Foods</th>\n",
       "      <th>Item_Type_Soft Drinks</th>\n",
       "      <th>Item_Type_Starchy Foods</th>\n",
       "    </tr>\n",
       "  </thead>\n",
       "  <tbody>\n",
       "    <tr>\n",
       "      <th>0</th>\n",
       "      <td>20.750000</td>\n",
       "      <td>1</td>\n",
       "      <td>0.007565</td>\n",
       "      <td>107.8622</td>\n",
       "      <td>49</td>\n",
       "      <td>1999</td>\n",
       "      <td>1</td>\n",
       "      <td>0</td>\n",
       "      <td>1</td>\n",
       "      <td>0</td>\n",
       "      <td>...</td>\n",
       "      <td>0</td>\n",
       "      <td>0</td>\n",
       "      <td>0</td>\n",
       "      <td>0</td>\n",
       "      <td>0</td>\n",
       "      <td>0</td>\n",
       "      <td>0</td>\n",
       "      <td>1</td>\n",
       "      <td>0</td>\n",
       "      <td>0</td>\n",
       "    </tr>\n",
       "    <tr>\n",
       "      <th>1</th>\n",
       "      <td>8.300000</td>\n",
       "      <td>4</td>\n",
       "      <td>0.038428</td>\n",
       "      <td>87.3198</td>\n",
       "      <td>17</td>\n",
       "      <td>2007</td>\n",
       "      <td>1</td>\n",
       "      <td>1</td>\n",
       "      <td>1</td>\n",
       "      <td>0</td>\n",
       "      <td>...</td>\n",
       "      <td>0</td>\n",
       "      <td>0</td>\n",
       "      <td>0</td>\n",
       "      <td>0</td>\n",
       "      <td>0</td>\n",
       "      <td>0</td>\n",
       "      <td>0</td>\n",
       "      <td>0</td>\n",
       "      <td>0</td>\n",
       "      <td>0</td>\n",
       "    </tr>\n",
       "    <tr>\n",
       "      <th>2</th>\n",
       "      <td>14.600000</td>\n",
       "      <td>1</td>\n",
       "      <td>0.099575</td>\n",
       "      <td>241.7538</td>\n",
       "      <td>10</td>\n",
       "      <td>1998</td>\n",
       "      <td>1</td>\n",
       "      <td>2</td>\n",
       "      <td>0</td>\n",
       "      <td>0</td>\n",
       "      <td>...</td>\n",
       "      <td>0</td>\n",
       "      <td>0</td>\n",
       "      <td>0</td>\n",
       "      <td>0</td>\n",
       "      <td>0</td>\n",
       "      <td>1</td>\n",
       "      <td>0</td>\n",
       "      <td>0</td>\n",
       "      <td>0</td>\n",
       "      <td>0</td>\n",
       "    </tr>\n",
       "    <tr>\n",
       "      <th>3</th>\n",
       "      <td>7.315000</td>\n",
       "      <td>1</td>\n",
       "      <td>0.015388</td>\n",
       "      <td>155.0340</td>\n",
       "      <td>17</td>\n",
       "      <td>2007</td>\n",
       "      <td>1</td>\n",
       "      <td>1</td>\n",
       "      <td>1</td>\n",
       "      <td>0</td>\n",
       "      <td>...</td>\n",
       "      <td>0</td>\n",
       "      <td>0</td>\n",
       "      <td>0</td>\n",
       "      <td>0</td>\n",
       "      <td>0</td>\n",
       "      <td>0</td>\n",
       "      <td>0</td>\n",
       "      <td>1</td>\n",
       "      <td>0</td>\n",
       "      <td>0</td>\n",
       "    </tr>\n",
       "    <tr>\n",
       "      <th>4</th>\n",
       "      <td>12.857645</td>\n",
       "      <td>2</td>\n",
       "      <td>0.118599</td>\n",
       "      <td>234.2300</td>\n",
       "      <td>27</td>\n",
       "      <td>1985</td>\n",
       "      <td>1</td>\n",
       "      <td>2</td>\n",
       "      <td>3</td>\n",
       "      <td>0</td>\n",
       "      <td>...</td>\n",
       "      <td>0</td>\n",
       "      <td>0</td>\n",
       "      <td>0</td>\n",
       "      <td>0</td>\n",
       "      <td>0</td>\n",
       "      <td>0</td>\n",
       "      <td>0</td>\n",
       "      <td>0</td>\n",
       "      <td>0</td>\n",
       "      <td>0</td>\n",
       "    </tr>\n",
       "    <tr>\n",
       "      <th>...</th>\n",
       "      <td>...</td>\n",
       "      <td>...</td>\n",
       "      <td>...</td>\n",
       "      <td>...</td>\n",
       "      <td>...</td>\n",
       "      <td>...</td>\n",
       "      <td>...</td>\n",
       "      <td>...</td>\n",
       "      <td>...</td>\n",
       "      <td>...</td>\n",
       "      <td>...</td>\n",
       "      <td>...</td>\n",
       "      <td>...</td>\n",
       "      <td>...</td>\n",
       "      <td>...</td>\n",
       "      <td>...</td>\n",
       "      <td>...</td>\n",
       "      <td>...</td>\n",
       "      <td>...</td>\n",
       "      <td>...</td>\n",
       "      <td>...</td>\n",
       "    </tr>\n",
       "    <tr>\n",
       "      <th>5676</th>\n",
       "      <td>10.500000</td>\n",
       "      <td>2</td>\n",
       "      <td>0.013496</td>\n",
       "      <td>141.3154</td>\n",
       "      <td>46</td>\n",
       "      <td>1997</td>\n",
       "      <td>2</td>\n",
       "      <td>0</td>\n",
       "      <td>1</td>\n",
       "      <td>0</td>\n",
       "      <td>...</td>\n",
       "      <td>0</td>\n",
       "      <td>0</td>\n",
       "      <td>0</td>\n",
       "      <td>0</td>\n",
       "      <td>0</td>\n",
       "      <td>0</td>\n",
       "      <td>0</td>\n",
       "      <td>1</td>\n",
       "      <td>0</td>\n",
       "      <td>0</td>\n",
       "    </tr>\n",
       "    <tr>\n",
       "      <th>5677</th>\n",
       "      <td>7.600000</td>\n",
       "      <td>2</td>\n",
       "      <td>0.142991</td>\n",
       "      <td>169.1448</td>\n",
       "      <td>18</td>\n",
       "      <td>2009</td>\n",
       "      <td>1</td>\n",
       "      <td>2</td>\n",
       "      <td>2</td>\n",
       "      <td>0</td>\n",
       "      <td>...</td>\n",
       "      <td>0</td>\n",
       "      <td>0</td>\n",
       "      <td>0</td>\n",
       "      <td>0</td>\n",
       "      <td>0</td>\n",
       "      <td>0</td>\n",
       "      <td>0</td>\n",
       "      <td>0</td>\n",
       "      <td>0</td>\n",
       "      <td>1</td>\n",
       "    </tr>\n",
       "    <tr>\n",
       "      <th>5678</th>\n",
       "      <td>10.000000</td>\n",
       "      <td>1</td>\n",
       "      <td>0.073529</td>\n",
       "      <td>118.7440</td>\n",
       "      <td>45</td>\n",
       "      <td>2002</td>\n",
       "      <td>1</td>\n",
       "      <td>1</td>\n",
       "      <td>1</td>\n",
       "      <td>0</td>\n",
       "      <td>...</td>\n",
       "      <td>0</td>\n",
       "      <td>0</td>\n",
       "      <td>1</td>\n",
       "      <td>0</td>\n",
       "      <td>0</td>\n",
       "      <td>0</td>\n",
       "      <td>0</td>\n",
       "      <td>0</td>\n",
       "      <td>0</td>\n",
       "      <td>0</td>\n",
       "    </tr>\n",
       "    <tr>\n",
       "      <th>5679</th>\n",
       "      <td>15.300000</td>\n",
       "      <td>2</td>\n",
       "      <td>0.000000</td>\n",
       "      <td>214.6218</td>\n",
       "      <td>17</td>\n",
       "      <td>2007</td>\n",
       "      <td>1</td>\n",
       "      <td>1</td>\n",
       "      <td>1</td>\n",
       "      <td>0</td>\n",
       "      <td>...</td>\n",
       "      <td>0</td>\n",
       "      <td>0</td>\n",
       "      <td>0</td>\n",
       "      <td>0</td>\n",
       "      <td>0</td>\n",
       "      <td>0</td>\n",
       "      <td>0</td>\n",
       "      <td>0</td>\n",
       "      <td>0</td>\n",
       "      <td>0</td>\n",
       "    </tr>\n",
       "    <tr>\n",
       "      <th>5680</th>\n",
       "      <td>9.500000</td>\n",
       "      <td>2</td>\n",
       "      <td>0.104720</td>\n",
       "      <td>79.7960</td>\n",
       "      <td>45</td>\n",
       "      <td>2002</td>\n",
       "      <td>1</td>\n",
       "      <td>1</td>\n",
       "      <td>1</td>\n",
       "      <td>0</td>\n",
       "      <td>...</td>\n",
       "      <td>0</td>\n",
       "      <td>0</td>\n",
       "      <td>0</td>\n",
       "      <td>0</td>\n",
       "      <td>0</td>\n",
       "      <td>0</td>\n",
       "      <td>0</td>\n",
       "      <td>0</td>\n",
       "      <td>0</td>\n",
       "      <td>0</td>\n",
       "    </tr>\n",
       "  </tbody>\n",
       "</table>\n",
       "<p>5681 rows × 25 columns</p>\n",
       "</div>"
      ],
      "text/plain": [
       "      Item_Weight  Item_Fat_Content  Item_Visibility  Item_MRP  \\\n",
       "0       20.750000                 1         0.007565  107.8622   \n",
       "1        8.300000                 4         0.038428   87.3198   \n",
       "2       14.600000                 1         0.099575  241.7538   \n",
       "3        7.315000                 1         0.015388  155.0340   \n",
       "4       12.857645                 2         0.118599  234.2300   \n",
       "...           ...               ...              ...       ...   \n",
       "5676    10.500000                 2         0.013496  141.3154   \n",
       "5677     7.600000                 2         0.142991  169.1448   \n",
       "5678    10.000000                 1         0.073529  118.7440   \n",
       "5679    15.300000                 2         0.000000  214.6218   \n",
       "5680     9.500000                 2         0.104720   79.7960   \n",
       "\n",
       "      Outlet_Identifier  Outlet_Establishment_Year  Outlet_Size  \\\n",
       "0                    49                       1999            1   \n",
       "1                    17                       2007            1   \n",
       "2                    10                       1998            1   \n",
       "3                    17                       2007            1   \n",
       "4                    27                       1985            1   \n",
       "...                 ...                        ...          ...   \n",
       "5676                 46                       1997            2   \n",
       "5677                 18                       2009            1   \n",
       "5678                 45                       2002            1   \n",
       "5679                 17                       2007            1   \n",
       "5680                 45                       2002            1   \n",
       "\n",
       "      Outlet_Location_Type  Outlet_Type  Item_Type_Baking Goods  ...  \\\n",
       "0                        0            1                       0  ...   \n",
       "1                        1            1                       0  ...   \n",
       "2                        2            0                       0  ...   \n",
       "3                        1            1                       0  ...   \n",
       "4                        2            3                       0  ...   \n",
       "...                    ...          ...                     ...  ...   \n",
       "5676                     0            1                       0  ...   \n",
       "5677                     2            2                       0  ...   \n",
       "5678                     1            1                       0  ...   \n",
       "5679                     1            1                       0  ...   \n",
       "5680                     1            1                       0  ...   \n",
       "\n",
       "      Item_Type_Fruits and Vegetables  Item_Type_Hard Drinks  \\\n",
       "0                                   0                      0   \n",
       "1                                   0                      0   \n",
       "2                                   0                      0   \n",
       "3                                   0                      0   \n",
       "4                                   0                      0   \n",
       "...                               ...                    ...   \n",
       "5676                                0                      0   \n",
       "5677                                0                      0   \n",
       "5678                                0                      0   \n",
       "5679                                0                      0   \n",
       "5680                                0                      0   \n",
       "\n",
       "      Item_Type_Health and Hygiene  Item_Type_Household  Item_Type_Meat  \\\n",
       "0                                0                    0               0   \n",
       "1                                0                    0               0   \n",
       "2                                0                    0               0   \n",
       "3                                0                    0               0   \n",
       "4                                0                    0               0   \n",
       "...                            ...                  ...             ...   \n",
       "5676                             0                    0               0   \n",
       "5677                             0                    0               0   \n",
       "5678                             1                    0               0   \n",
       "5679                             0                    0               0   \n",
       "5680                             0                    0               0   \n",
       "\n",
       "      Item_Type_Others  Item_Type_Seafood  Item_Type_Snack Foods  \\\n",
       "0                    0                  0                      1   \n",
       "1                    0                  0                      0   \n",
       "2                    1                  0                      0   \n",
       "3                    0                  0                      1   \n",
       "4                    0                  0                      0   \n",
       "...                ...                ...                    ...   \n",
       "5676                 0                  0                      1   \n",
       "5677                 0                  0                      0   \n",
       "5678                 0                  0                      0   \n",
       "5679                 0                  0                      0   \n",
       "5680                 0                  0                      0   \n",
       "\n",
       "      Item_Type_Soft Drinks  Item_Type_Starchy Foods  \n",
       "0                         0                        0  \n",
       "1                         0                        0  \n",
       "2                         0                        0  \n",
       "3                         0                        0  \n",
       "4                         0                        0  \n",
       "...                     ...                      ...  \n",
       "5676                      0                        0  \n",
       "5677                      0                        1  \n",
       "5678                      0                        0  \n",
       "5679                      0                        0  \n",
       "5680                      0                        0  \n",
       "\n",
       "[5681 rows x 25 columns]"
      ]
     },
     "execution_count": 165,
     "metadata": {},
     "output_type": "execute_result"
    }
   ],
   "source": [
    "test.drop(['Item_Outlet_Sales'], axis = 1)"
   ]
  },
  {
   "cell_type": "code",
   "execution_count": 166,
   "id": "02dd087f",
   "metadata": {},
   "outputs": [],
   "source": [
    "del test['Item_Outlet_Sales']"
   ]
  },
  {
   "cell_type": "markdown",
   "id": "0744191b",
   "metadata": {},
   "source": [
    "# Lets predict the Item Outlet Sales for Our Test data using the best model(Gradient Boost Regressor) which we saved"
   ]
  },
  {
   "cell_type": "code",
   "execution_count": 167,
   "id": "7013b434",
   "metadata": {},
   "outputs": [],
   "source": [
    "predict=gbr.predict(test)"
   ]
  },
  {
   "cell_type": "code",
   "execution_count": 168,
   "id": "a624c4e2",
   "metadata": {},
   "outputs": [
    {
     "data": {
      "text/plain": [
       "(5681,)"
      ]
     },
     "execution_count": 168,
     "metadata": {},
     "output_type": "execute_result"
    }
   ],
   "source": [
    "predict.shape"
   ]
  },
  {
   "cell_type": "code",
   "execution_count": 169,
   "id": "65c940b1",
   "metadata": {},
   "outputs": [
    {
     "data": {
      "text/plain": [
       "array([1674.66290427, 1398.14225392,  628.96771023, ..., 1899.80505926,\n",
       "       3694.54330752, 1284.73946896])"
      ]
     },
     "execution_count": 169,
     "metadata": {},
     "output_type": "execute_result"
    }
   ],
   "source": [
    "predict"
   ]
  },
  {
   "cell_type": "code",
   "execution_count": 170,
   "id": "56a94c81",
   "metadata": {},
   "outputs": [],
   "source": [
    "df_Submission=pd.DataFrame(predict)"
   ]
  },
  {
   "cell_type": "code",
   "execution_count": 171,
   "id": "e18a6d53",
   "metadata": {},
   "outputs": [],
   "source": [
    "df_Submission.rename(columns={0: \"Item_Outlet_Sales\"}, errors=\"raise\",inplace=True)"
   ]
  },
  {
   "cell_type": "code",
   "execution_count": 172,
   "id": "dc9ff1a7",
   "metadata": {},
   "outputs": [
    {
     "data": {
      "text/html": [
       "<div>\n",
       "<style scoped>\n",
       "    .dataframe tbody tr th:only-of-type {\n",
       "        vertical-align: middle;\n",
       "    }\n",
       "\n",
       "    .dataframe tbody tr th {\n",
       "        vertical-align: top;\n",
       "    }\n",
       "\n",
       "    .dataframe thead th {\n",
       "        text-align: right;\n",
       "    }\n",
       "</style>\n",
       "<table border=\"1\" class=\"dataframe\">\n",
       "  <thead>\n",
       "    <tr style=\"text-align: right;\">\n",
       "      <th></th>\n",
       "      <th>Item_Outlet_Sales</th>\n",
       "    </tr>\n",
       "  </thead>\n",
       "  <tbody>\n",
       "    <tr>\n",
       "      <th>0</th>\n",
       "      <td>1674.662904</td>\n",
       "    </tr>\n",
       "    <tr>\n",
       "      <th>1</th>\n",
       "      <td>1398.142254</td>\n",
       "    </tr>\n",
       "  </tbody>\n",
       "</table>\n",
       "</div>"
      ],
      "text/plain": [
       "   Item_Outlet_Sales\n",
       "0        1674.662904\n",
       "1        1398.142254"
      ]
     },
     "execution_count": 172,
     "metadata": {},
     "output_type": "execute_result"
    }
   ],
   "source": [
    "df_Submission.head(2)"
   ]
  },
  {
   "cell_type": "markdown",
   "id": "8ea2ceb7",
   "metadata": {},
   "source": [
    "Export to csv"
   ]
  },
  {
   "cell_type": "code",
   "execution_count": 173,
   "id": "f4f964fb",
   "metadata": {},
   "outputs": [],
   "source": [
    "df_Submission.to_csv(r'C:\\Users\\mum1user\\DataTrained\\Projects\\Submission.csv')"
   ]
  },
  {
   "cell_type": "markdown",
   "id": "457f84b1",
   "metadata": {},
   "source": [
    "Lets read the data which is export into csv now"
   ]
  },
  {
   "cell_type": "code",
   "execution_count": 174,
   "id": "edd0d4ec",
   "metadata": {},
   "outputs": [
    {
     "data": {
      "text/html": [
       "<div>\n",
       "<style scoped>\n",
       "    .dataframe tbody tr th:only-of-type {\n",
       "        vertical-align: middle;\n",
       "    }\n",
       "\n",
       "    .dataframe tbody tr th {\n",
       "        vertical-align: top;\n",
       "    }\n",
       "\n",
       "    .dataframe thead th {\n",
       "        text-align: right;\n",
       "    }\n",
       "</style>\n",
       "<table border=\"1\" class=\"dataframe\">\n",
       "  <thead>\n",
       "    <tr style=\"text-align: right;\">\n",
       "      <th></th>\n",
       "      <th>Item_Outlet_Sales</th>\n",
       "    </tr>\n",
       "  </thead>\n",
       "  <tbody>\n",
       "    <tr>\n",
       "      <th>0</th>\n",
       "      <td>1674.662904</td>\n",
       "    </tr>\n",
       "    <tr>\n",
       "      <th>1</th>\n",
       "      <td>1398.142254</td>\n",
       "    </tr>\n",
       "    <tr>\n",
       "      <th>2</th>\n",
       "      <td>628.967710</td>\n",
       "    </tr>\n",
       "    <tr>\n",
       "      <th>3</th>\n",
       "      <td>2512.182275</td>\n",
       "    </tr>\n",
       "    <tr>\n",
       "      <th>4</th>\n",
       "      <td>5842.841220</td>\n",
       "    </tr>\n",
       "  </tbody>\n",
       "</table>\n",
       "</div>"
      ],
      "text/plain": [
       "   Item_Outlet_Sales\n",
       "0        1674.662904\n",
       "1        1398.142254\n",
       "2         628.967710\n",
       "3        2512.182275\n",
       "4        5842.841220"
      ]
     },
     "execution_count": 174,
     "metadata": {},
     "output_type": "execute_result"
    }
   ],
   "source": [
    "sample_data = pd.read_csv(r'C:\\Users\\mum1user\\DataTrained\\Projects\\Submission.csv')\n",
    "sample_data.drop(columns=['Unnamed: 0'],axis=1,inplace=True)\n",
    "sample_data.head()"
   ]
  },
  {
   "cell_type": "markdown",
   "id": "948db889",
   "metadata": {},
   "source": [
    "# Combine all to DataFrame"
   ]
  },
  {
   "cell_type": "code",
   "execution_count": 175,
   "id": "c746cc07",
   "metadata": {},
   "outputs": [],
   "source": [
    "df_Outlet_Identifier=pd.DataFrame(Outlet_Identifier)"
   ]
  },
  {
   "cell_type": "code",
   "execution_count": 176,
   "id": "9f373662",
   "metadata": {},
   "outputs": [],
   "source": [
    "df_Item_Identifier=pd.DataFrame(Item_Identifier)"
   ]
  },
  {
   "cell_type": "code",
   "execution_count": 177,
   "id": "c899d10b",
   "metadata": {},
   "outputs": [],
   "source": [
    "model_testDF = pd.concat([df_Item_Identifier,df_Outlet_Identifier,df_Submission], axis=1, join='inner')"
   ]
  },
  {
   "cell_type": "code",
   "execution_count": 178,
   "id": "f111b8c5",
   "metadata": {},
   "outputs": [
    {
     "data": {
      "text/html": [
       "<div>\n",
       "<style scoped>\n",
       "    .dataframe tbody tr th:only-of-type {\n",
       "        vertical-align: middle;\n",
       "    }\n",
       "\n",
       "    .dataframe tbody tr th {\n",
       "        vertical-align: top;\n",
       "    }\n",
       "\n",
       "    .dataframe thead th {\n",
       "        text-align: right;\n",
       "    }\n",
       "</style>\n",
       "<table border=\"1\" class=\"dataframe\">\n",
       "  <thead>\n",
       "    <tr style=\"text-align: right;\">\n",
       "      <th></th>\n",
       "      <th>Item_Identifier</th>\n",
       "      <th>Outlet_Identifier</th>\n",
       "      <th>Item_Outlet_Sales</th>\n",
       "    </tr>\n",
       "  </thead>\n",
       "  <tbody>\n",
       "    <tr>\n",
       "      <th>0</th>\n",
       "      <td>FDW58</td>\n",
       "      <td>OUT049</td>\n",
       "      <td>1674.662904</td>\n",
       "    </tr>\n",
       "    <tr>\n",
       "      <th>1</th>\n",
       "      <td>FDW14</td>\n",
       "      <td>OUT017</td>\n",
       "      <td>1398.142254</td>\n",
       "    </tr>\n",
       "    <tr>\n",
       "      <th>2</th>\n",
       "      <td>NCN55</td>\n",
       "      <td>OUT010</td>\n",
       "      <td>628.967710</td>\n",
       "    </tr>\n",
       "    <tr>\n",
       "      <th>3</th>\n",
       "      <td>FDQ58</td>\n",
       "      <td>OUT017</td>\n",
       "      <td>2512.182275</td>\n",
       "    </tr>\n",
       "    <tr>\n",
       "      <th>4</th>\n",
       "      <td>FDY38</td>\n",
       "      <td>OUT027</td>\n",
       "      <td>5842.841220</td>\n",
       "    </tr>\n",
       "    <tr>\n",
       "      <th>...</th>\n",
       "      <td>...</td>\n",
       "      <td>...</td>\n",
       "      <td>...</td>\n",
       "    </tr>\n",
       "    <tr>\n",
       "      <th>5676</th>\n",
       "      <td>FDB58</td>\n",
       "      <td>OUT046</td>\n",
       "      <td>2278.066107</td>\n",
       "    </tr>\n",
       "    <tr>\n",
       "      <th>5677</th>\n",
       "      <td>FDD47</td>\n",
       "      <td>OUT018</td>\n",
       "      <td>2408.598739</td>\n",
       "    </tr>\n",
       "    <tr>\n",
       "      <th>5678</th>\n",
       "      <td>NCO17</td>\n",
       "      <td>OUT045</td>\n",
       "      <td>1899.805059</td>\n",
       "    </tr>\n",
       "    <tr>\n",
       "      <th>5679</th>\n",
       "      <td>FDJ26</td>\n",
       "      <td>OUT017</td>\n",
       "      <td>3694.543308</td>\n",
       "    </tr>\n",
       "    <tr>\n",
       "      <th>5680</th>\n",
       "      <td>FDU37</td>\n",
       "      <td>OUT045</td>\n",
       "      <td>1284.739469</td>\n",
       "    </tr>\n",
       "  </tbody>\n",
       "</table>\n",
       "<p>5681 rows × 3 columns</p>\n",
       "</div>"
      ],
      "text/plain": [
       "     Item_Identifier Outlet_Identifier  Item_Outlet_Sales\n",
       "0              FDW58            OUT049        1674.662904\n",
       "1              FDW14            OUT017        1398.142254\n",
       "2              NCN55            OUT010         628.967710\n",
       "3              FDQ58            OUT017        2512.182275\n",
       "4              FDY38            OUT027        5842.841220\n",
       "...              ...               ...                ...\n",
       "5676           FDB58            OUT046        2278.066107\n",
       "5677           FDD47            OUT018        2408.598739\n",
       "5678           NCO17            OUT045        1899.805059\n",
       "5679           FDJ26            OUT017        3694.543308\n",
       "5680           FDU37            OUT045        1284.739469\n",
       "\n",
       "[5681 rows x 3 columns]"
      ]
     },
     "execution_count": 178,
     "metadata": {},
     "output_type": "execute_result"
    }
   ],
   "source": [
    "model_testDF"
   ]
  },
  {
   "cell_type": "markdown",
   "id": "6cb07d9d",
   "metadata": {},
   "source": [
    "We have successfully predicted the prices of our Test Data which is above"
   ]
  },
  {
   "cell_type": "code",
   "execution_count": null,
   "id": "b3218776",
   "metadata": {},
   "outputs": [],
   "source": []
  }
 ],
 "metadata": {
  "kernelspec": {
   "display_name": "Python 3",
   "language": "python",
   "name": "python3"
  },
  "language_info": {
   "codemirror_mode": {
    "name": "ipython",
    "version": 3
   },
   "file_extension": ".py",
   "mimetype": "text/x-python",
   "name": "python",
   "nbconvert_exporter": "python",
   "pygments_lexer": "ipython3",
   "version": "3.8.8"
  }
 },
 "nbformat": 4,
 "nbformat_minor": 5
}
