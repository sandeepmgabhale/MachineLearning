{
 "cells": [
  {
   "cell_type": "markdown",
   "id": "3c7dc16b",
   "metadata": {},
   "source": [
    "# Global Power Plant Database\n",
    "\n",
    "<strong>Problem Statement:</strong>\n",
    "\n",
    "<strong>Description</strong>\n",
    "\n",
    "The Global Power Plant Database is a comprehensive, open source database of power plants around the world. It centralizes power plant data to make it easier to navigate, compare and draw insights for one’s own analysis. The database covers approximately 35,000 power plants from 167 countries and includes thermal plants (e.g. coal, gas, oil, nuclear, biomass, waste, geothermal) and renewables (e.g. hydro, wind, solar). Each power plant is geolocated and entries contain information on plant capacity, generation, ownership, and fuel type. It will be continuously updated as data becomes available.\n",
    "\n",
    "Key attributes of the database\n",
    "The database includes the following indicators:\n",
    "\n",
    "- `country` (text): 3 character country code corresponding to the ISO 3166-1 alpha-3 specification [5]\n",
    "- `country_long` (text): longer form of the country designation\n",
    "- `name` (text): name or title of the power plant, generally in Romanized form\n",
    "- `gppd_idnr` (text): 10 or 12 character identifier for the power plant\n",
    "- `capacity_mw` (number): electrical generating capacity in megawatts\n",
    "- `latitude` (number): geolocation in decimal degrees; WGS84 (EPSG:4326)\n",
    "- `longitude` (number): geolocation in decimal degrees; WGS84 (EPSG:4326)\n",
    "- `primary_fuel` (text): energy source used in primary electricity generation or export\n",
    "- `other_fuel1` (text): energy source used in electricity generation or export\n",
    "- `other_fuel2` (text): energy source used in electricity generation or export\n",
    "- `other_fuel3` (text): energy source used in electricity generation or export\n",
    "- `commissioning_year` (number): year of plant operation, weighted by unit-capacity when data is available\n",
    "- `owner` (text): majority shareholder of the power plant, generally in Romanized form\n",
    "- `source` (text): entity reporting the data; could be an organization, report, or document, generally in Romanized form\n",
    "- `url` (text): web document corresponding to the `source` field\n",
    "- `geolocation_source` (text): attribution for geolocation information\n",
    "- `wepp_id` (text): a reference to a unique plant identifier in the widely-used PLATTS-WEPP database.\n",
    "- `year_of_capacity_data` (number): year the capacity information was reported\n",
    "- `generation_gwh_2013` (number): electricity generation in gigawatt-hours reported for the year 2013\n",
    "- `generation_gwh_2014` (number): electricity generation in gigawatt-hours reported for the year 2014\n",
    "- `generation_gwh_2015` (number): electricity generation in gigawatt-hours reported for the year 2015\n",
    "- `generation_gwh_2016` (number): electricity generation in gigawatt-hours reported for the year 2016\n",
    "- `generation_gwh_2017` (number): electricity generation in gigawatt-hours reported for the year 2017\n",
    "- `generation_gwh_2018` (number): electricity generation in gigawatt-hours reported for the year 2018\n",
    "- `generation_gwh_2019` (number): electricity generation in gigawatt-hours reported for the year 2019\n",
    "- `generation_data_source` (text): attribution for the reported generation information\n",
    "- `estimated_generation_gwh_2013` (number): estimated electricity generation in gigawatt-hours for the year 2013\n",
    "- `estimated_generation_gwh_2014` (number): estimated electricity generation in gigawatt-hours for the year 2014 \n",
    "- `estimated_generation_gwh_2015` (number): estimated electricity generation in gigawatt-hours for the year 2015 \n",
    "- `estimated_generation_gwh_2016` (number): estimated electricity generation in gigawatt-hours for the year 2016 \n",
    "- `estimated_generation_gwh_2017` (number): estimated electricity generation in gigawatt-hours for the year 2017 \n",
    "- 'estimated_generation_note_2013` (text): label of the model/method used to estimate generation for the year 2013\n",
    "- `estimated_generation_note_2014` (text): label of the model/method used to estimate generation for the year 2014 \n",
    "- `estimated_generation_note_2015` (text): label of the model/method used to estimate generation for the year 2015\n",
    "- `estimated_generation_note_2016` (text): label of the model/method used to estimate generation for the year 2016\n",
    "- `estimated_generation_note_2017` (text): label of the model/method used to estimate generation for the year 2017 \n",
    "\n",
    "# Fuel Type Aggregation\n",
    "We define the \"Fuel Type\" attribute of our database based on common fuel categories. \n",
    "\n",
    "Prediction :   \n",
    "\n",
    "Make two prediction  \n",
    "- 1) Primary Fuel    \n",
    "- 2) capacity_mw "
   ]
  },
  {
   "cell_type": "code",
   "execution_count": 468,
   "id": "300a27e9",
   "metadata": {},
   "outputs": [],
   "source": [
    "import pandas as pd\n",
    "import numpy as np\n",
    "import re\n",
    "import matplotlib.pyplot as plt\n",
    "import seaborn as sns\n",
    "import sklearn\n",
    "from sklearn.linear_model import LogisticRegression\n",
    "from sklearn.metrics import mean_squared_error\n",
    "from sklearn.model_selection import train_test_split\n",
    "from sklearn.naive_bayes import GaussianNB\n",
    "from sklearn.svm import SVC\n",
    "from sklearn.tree import DecisionTreeClassifier\n",
    "from sklearn.neighbors import KNeighborsClassifier\n",
    "from sklearn.metrics import accuracy_score,confusion_matrix,classification_report\n",
    "import warnings\n",
    "warnings.filterwarnings('ignore')\n",
    "pd.set_option('display.max_columns', None) # Required to display all columns"
   ]
  },
  {
   "cell_type": "code",
   "execution_count": 469,
   "id": "3cd3a4ab",
   "metadata": {},
   "outputs": [
    {
     "data": {
      "text/html": [
       "<div>\n",
       "<style scoped>\n",
       "    .dataframe tbody tr th:only-of-type {\n",
       "        vertical-align: middle;\n",
       "    }\n",
       "\n",
       "    .dataframe tbody tr th {\n",
       "        vertical-align: top;\n",
       "    }\n",
       "\n",
       "    .dataframe thead th {\n",
       "        text-align: right;\n",
       "    }\n",
       "</style>\n",
       "<table border=\"1\" class=\"dataframe\">\n",
       "  <thead>\n",
       "    <tr style=\"text-align: right;\">\n",
       "      <th></th>\n",
       "      <th>country</th>\n",
       "      <th>country_long</th>\n",
       "      <th>name</th>\n",
       "      <th>gppd_idnr</th>\n",
       "      <th>capacity_mw</th>\n",
       "      <th>latitude</th>\n",
       "      <th>longitude</th>\n",
       "      <th>primary_fuel</th>\n",
       "      <th>other_fuel1</th>\n",
       "      <th>other_fuel2</th>\n",
       "      <th>other_fuel3</th>\n",
       "      <th>commissioning_year</th>\n",
       "      <th>owner</th>\n",
       "      <th>source</th>\n",
       "      <th>url</th>\n",
       "      <th>geolocation_source</th>\n",
       "      <th>wepp_id</th>\n",
       "      <th>year_of_capacity_data</th>\n",
       "      <th>generation_gwh_2013</th>\n",
       "      <th>generation_gwh_2014</th>\n",
       "      <th>generation_gwh_2015</th>\n",
       "      <th>generation_gwh_2016</th>\n",
       "      <th>generation_gwh_2017</th>\n",
       "      <th>generation_gwh_2018</th>\n",
       "      <th>generation_gwh_2019</th>\n",
       "      <th>generation_data_source</th>\n",
       "      <th>estimated_generation_gwh</th>\n",
       "    </tr>\n",
       "  </thead>\n",
       "  <tbody>\n",
       "    <tr>\n",
       "      <th>0</th>\n",
       "      <td>IND</td>\n",
       "      <td>India</td>\n",
       "      <td>ACME Solar Tower</td>\n",
       "      <td>WRI1020239</td>\n",
       "      <td>2.5</td>\n",
       "      <td>28.1839</td>\n",
       "      <td>73.2407</td>\n",
       "      <td>Solar</td>\n",
       "      <td>NaN</td>\n",
       "      <td>NaN</td>\n",
       "      <td>NaN</td>\n",
       "      <td>2011.0</td>\n",
       "      <td>Solar Paces</td>\n",
       "      <td>National Renewable Energy Laboratory</td>\n",
       "      <td>http://www.nrel.gov/csp/solarpaces/project_det...</td>\n",
       "      <td>National Renewable Energy Laboratory</td>\n",
       "      <td>NaN</td>\n",
       "      <td>NaN</td>\n",
       "      <td>NaN</td>\n",
       "      <td>NaN</td>\n",
       "      <td>NaN</td>\n",
       "      <td>NaN</td>\n",
       "      <td>NaN</td>\n",
       "      <td>NaN</td>\n",
       "      <td>NaN</td>\n",
       "      <td>NaN</td>\n",
       "      <td>NaN</td>\n",
       "    </tr>\n",
       "    <tr>\n",
       "      <th>1</th>\n",
       "      <td>IND</td>\n",
       "      <td>India</td>\n",
       "      <td>ADITYA CEMENT WORKS</td>\n",
       "      <td>WRI1019881</td>\n",
       "      <td>98.0</td>\n",
       "      <td>24.7663</td>\n",
       "      <td>74.6090</td>\n",
       "      <td>Coal</td>\n",
       "      <td>NaN</td>\n",
       "      <td>NaN</td>\n",
       "      <td>NaN</td>\n",
       "      <td>NaN</td>\n",
       "      <td>Ultratech Cement ltd</td>\n",
       "      <td>Ultratech Cement ltd</td>\n",
       "      <td>http://www.ultratechcement.com/</td>\n",
       "      <td>WRI</td>\n",
       "      <td>NaN</td>\n",
       "      <td>NaN</td>\n",
       "      <td>NaN</td>\n",
       "      <td>NaN</td>\n",
       "      <td>NaN</td>\n",
       "      <td>NaN</td>\n",
       "      <td>NaN</td>\n",
       "      <td>NaN</td>\n",
       "      <td>NaN</td>\n",
       "      <td>NaN</td>\n",
       "      <td>NaN</td>\n",
       "    </tr>\n",
       "    <tr>\n",
       "      <th>2</th>\n",
       "      <td>IND</td>\n",
       "      <td>India</td>\n",
       "      <td>AES Saurashtra Windfarms</td>\n",
       "      <td>WRI1026669</td>\n",
       "      <td>39.2</td>\n",
       "      <td>21.9038</td>\n",
       "      <td>69.3732</td>\n",
       "      <td>Wind</td>\n",
       "      <td>NaN</td>\n",
       "      <td>NaN</td>\n",
       "      <td>NaN</td>\n",
       "      <td>NaN</td>\n",
       "      <td>AES</td>\n",
       "      <td>CDM</td>\n",
       "      <td>https://cdm.unfccc.int/Projects/DB/DNV-CUK1328...</td>\n",
       "      <td>WRI</td>\n",
       "      <td>NaN</td>\n",
       "      <td>NaN</td>\n",
       "      <td>NaN</td>\n",
       "      <td>NaN</td>\n",
       "      <td>NaN</td>\n",
       "      <td>NaN</td>\n",
       "      <td>NaN</td>\n",
       "      <td>NaN</td>\n",
       "      <td>NaN</td>\n",
       "      <td>NaN</td>\n",
       "      <td>NaN</td>\n",
       "    </tr>\n",
       "    <tr>\n",
       "      <th>3</th>\n",
       "      <td>IND</td>\n",
       "      <td>India</td>\n",
       "      <td>AGARTALA GT</td>\n",
       "      <td>IND0000001</td>\n",
       "      <td>135.0</td>\n",
       "      <td>23.8712</td>\n",
       "      <td>91.3602</td>\n",
       "      <td>Gas</td>\n",
       "      <td>NaN</td>\n",
       "      <td>NaN</td>\n",
       "      <td>NaN</td>\n",
       "      <td>2004.0</td>\n",
       "      <td>NaN</td>\n",
       "      <td>Central Electricity Authority</td>\n",
       "      <td>http://www.cea.nic.in/</td>\n",
       "      <td>WRI</td>\n",
       "      <td>NaN</td>\n",
       "      <td>2019.0</td>\n",
       "      <td>NaN</td>\n",
       "      <td>617.789264</td>\n",
       "      <td>843.747</td>\n",
       "      <td>886.004428</td>\n",
       "      <td>663.774500</td>\n",
       "      <td>626.239128</td>\n",
       "      <td>NaN</td>\n",
       "      <td>Central Electricity Authority</td>\n",
       "      <td>NaN</td>\n",
       "    </tr>\n",
       "    <tr>\n",
       "      <th>4</th>\n",
       "      <td>IND</td>\n",
       "      <td>India</td>\n",
       "      <td>AKALTARA TPP</td>\n",
       "      <td>IND0000002</td>\n",
       "      <td>1800.0</td>\n",
       "      <td>21.9603</td>\n",
       "      <td>82.4091</td>\n",
       "      <td>Coal</td>\n",
       "      <td>Oil</td>\n",
       "      <td>NaN</td>\n",
       "      <td>NaN</td>\n",
       "      <td>2015.0</td>\n",
       "      <td>NaN</td>\n",
       "      <td>Central Electricity Authority</td>\n",
       "      <td>http://www.cea.nic.in/</td>\n",
       "      <td>WRI</td>\n",
       "      <td>NaN</td>\n",
       "      <td>2019.0</td>\n",
       "      <td>NaN</td>\n",
       "      <td>3035.550000</td>\n",
       "      <td>5916.370</td>\n",
       "      <td>6243.000000</td>\n",
       "      <td>5385.579736</td>\n",
       "      <td>7279.000000</td>\n",
       "      <td>NaN</td>\n",
       "      <td>Central Electricity Authority</td>\n",
       "      <td>NaN</td>\n",
       "    </tr>\n",
       "  </tbody>\n",
       "</table>\n",
       "</div>"
      ],
      "text/plain": [
       "  country country_long                      name   gppd_idnr  capacity_mw  \\\n",
       "0     IND        India          ACME Solar Tower  WRI1020239          2.5   \n",
       "1     IND        India       ADITYA CEMENT WORKS  WRI1019881         98.0   \n",
       "2     IND        India  AES Saurashtra Windfarms  WRI1026669         39.2   \n",
       "3     IND        India               AGARTALA GT  IND0000001        135.0   \n",
       "4     IND        India              AKALTARA TPP  IND0000002       1800.0   \n",
       "\n",
       "   latitude  longitude primary_fuel other_fuel1 other_fuel2  other_fuel3  \\\n",
       "0   28.1839    73.2407        Solar         NaN         NaN          NaN   \n",
       "1   24.7663    74.6090         Coal         NaN         NaN          NaN   \n",
       "2   21.9038    69.3732         Wind         NaN         NaN          NaN   \n",
       "3   23.8712    91.3602          Gas         NaN         NaN          NaN   \n",
       "4   21.9603    82.4091         Coal         Oil         NaN          NaN   \n",
       "\n",
       "   commissioning_year                 owner  \\\n",
       "0              2011.0           Solar Paces   \n",
       "1                 NaN  Ultratech Cement ltd   \n",
       "2                 NaN                   AES   \n",
       "3              2004.0                   NaN   \n",
       "4              2015.0                   NaN   \n",
       "\n",
       "                                 source  \\\n",
       "0  National Renewable Energy Laboratory   \n",
       "1                  Ultratech Cement ltd   \n",
       "2                                   CDM   \n",
       "3         Central Electricity Authority   \n",
       "4         Central Electricity Authority   \n",
       "\n",
       "                                                 url  \\\n",
       "0  http://www.nrel.gov/csp/solarpaces/project_det...   \n",
       "1                    http://www.ultratechcement.com/   \n",
       "2  https://cdm.unfccc.int/Projects/DB/DNV-CUK1328...   \n",
       "3                             http://www.cea.nic.in/   \n",
       "4                             http://www.cea.nic.in/   \n",
       "\n",
       "                     geolocation_source  wepp_id  year_of_capacity_data  \\\n",
       "0  National Renewable Energy Laboratory      NaN                    NaN   \n",
       "1                                   WRI      NaN                    NaN   \n",
       "2                                   WRI      NaN                    NaN   \n",
       "3                                   WRI      NaN                 2019.0   \n",
       "4                                   WRI      NaN                 2019.0   \n",
       "\n",
       "   generation_gwh_2013  generation_gwh_2014  generation_gwh_2015  \\\n",
       "0                  NaN                  NaN                  NaN   \n",
       "1                  NaN                  NaN                  NaN   \n",
       "2                  NaN                  NaN                  NaN   \n",
       "3                  NaN           617.789264              843.747   \n",
       "4                  NaN          3035.550000             5916.370   \n",
       "\n",
       "   generation_gwh_2016  generation_gwh_2017  generation_gwh_2018  \\\n",
       "0                  NaN                  NaN                  NaN   \n",
       "1                  NaN                  NaN                  NaN   \n",
       "2                  NaN                  NaN                  NaN   \n",
       "3           886.004428           663.774500           626.239128   \n",
       "4          6243.000000          5385.579736          7279.000000   \n",
       "\n",
       "   generation_gwh_2019         generation_data_source  \\\n",
       "0                  NaN                            NaN   \n",
       "1                  NaN                            NaN   \n",
       "2                  NaN                            NaN   \n",
       "3                  NaN  Central Electricity Authority   \n",
       "4                  NaN  Central Electricity Authority   \n",
       "\n",
       "   estimated_generation_gwh  \n",
       "0                       NaN  \n",
       "1                       NaN  \n",
       "2                       NaN  \n",
       "3                       NaN  \n",
       "4                       NaN  "
      ]
     },
     "execution_count": 469,
     "metadata": {},
     "output_type": "execute_result"
    }
   ],
   "source": [
    "df=pd.read_csv(r'https://raw.githubusercontent.com/wri/global-power-plant-database/master/source_databases_csv/database_IND.csv')\n",
    "df.head()"
   ]
  },
  {
   "cell_type": "code",
   "execution_count": 470,
   "id": "f2074b00",
   "metadata": {},
   "outputs": [
    {
     "data": {
      "text/plain": [
       "(907, 27)"
      ]
     },
     "execution_count": 470,
     "metadata": {},
     "output_type": "execute_result"
    }
   ],
   "source": [
    "df.shape"
   ]
  },
  {
   "cell_type": "markdown",
   "id": "a230d8a8",
   "metadata": {},
   "source": [
    "# Check for null values"
   ]
  },
  {
   "cell_type": "code",
   "execution_count": 471,
   "id": "de8f6a10",
   "metadata": {},
   "outputs": [
    {
     "data": {
      "text/plain": [
       "country                       0\n",
       "country_long                  0\n",
       "name                          0\n",
       "gppd_idnr                     0\n",
       "capacity_mw                   0\n",
       "latitude                     46\n",
       "longitude                    46\n",
       "primary_fuel                  0\n",
       "other_fuel1                 709\n",
       "other_fuel2                 906\n",
       "other_fuel3                 907\n",
       "commissioning_year          380\n",
       "owner                       565\n",
       "source                        0\n",
       "url                           0\n",
       "geolocation_source           19\n",
       "wepp_id                     907\n",
       "year_of_capacity_data       388\n",
       "generation_gwh_2013         907\n",
       "generation_gwh_2014         509\n",
       "generation_gwh_2015         485\n",
       "generation_gwh_2016         473\n",
       "generation_gwh_2017         467\n",
       "generation_gwh_2018         459\n",
       "generation_gwh_2019         907\n",
       "generation_data_source      458\n",
       "estimated_generation_gwh    907\n",
       "dtype: int64"
      ]
     },
     "execution_count": 471,
     "metadata": {},
     "output_type": "execute_result"
    }
   ],
   "source": [
    "df.isnull().sum()"
   ]
  },
  {
   "cell_type": "code",
   "execution_count": 472,
   "id": "5b1efb10",
   "metadata": {},
   "outputs": [
    {
     "data": {
      "text/html": [
       "<div>\n",
       "<style scoped>\n",
       "    .dataframe tbody tr th:only-of-type {\n",
       "        vertical-align: middle;\n",
       "    }\n",
       "\n",
       "    .dataframe tbody tr th {\n",
       "        vertical-align: top;\n",
       "    }\n",
       "\n",
       "    .dataframe thead th {\n",
       "        text-align: right;\n",
       "    }\n",
       "</style>\n",
       "<table border=\"1\" class=\"dataframe\">\n",
       "  <thead>\n",
       "    <tr style=\"text-align: right;\">\n",
       "      <th></th>\n",
       "      <th>Total Count</th>\n",
       "      <th>% of Missing Data</th>\n",
       "    </tr>\n",
       "  </thead>\n",
       "  <tbody>\n",
       "    <tr>\n",
       "      <th>estimated_generation_gwh</th>\n",
       "      <td>907</td>\n",
       "      <td>100.0</td>\n",
       "    </tr>\n",
       "    <tr>\n",
       "      <th>other_fuel3</th>\n",
       "      <td>907</td>\n",
       "      <td>100.0</td>\n",
       "    </tr>\n",
       "    <tr>\n",
       "      <th>wepp_id</th>\n",
       "      <td>907</td>\n",
       "      <td>100.0</td>\n",
       "    </tr>\n",
       "    <tr>\n",
       "      <th>generation_gwh_2013</th>\n",
       "      <td>907</td>\n",
       "      <td>100.0</td>\n",
       "    </tr>\n",
       "    <tr>\n",
       "      <th>generation_gwh_2019</th>\n",
       "      <td>907</td>\n",
       "      <td>100.0</td>\n",
       "    </tr>\n",
       "  </tbody>\n",
       "</table>\n",
       "</div>"
      ],
      "text/plain": [
       "                          Total Count  % of Missing Data\n",
       "estimated_generation_gwh          907              100.0\n",
       "other_fuel3                       907              100.0\n",
       "wepp_id                           907              100.0\n",
       "generation_gwh_2013               907              100.0\n",
       "generation_gwh_2019               907              100.0"
      ]
     },
     "execution_count": 472,
     "metadata": {},
     "output_type": "execute_result"
    }
   ],
   "source": [
    "total = df.isnull().sum().sort_values(ascending=False)\n",
    "percent_1 = df.isnull().sum()/df.isnull().count()*100\n",
    "percent_2 = (round(percent_1, 1)).sort_values(ascending=False)\n",
    "missing_data = pd.concat([total, percent_2], axis=1, keys=['Total Count', '% of Missing Data'])\n",
    "missing_data.head(5)"
   ]
  },
  {
   "cell_type": "markdown",
   "id": "c5f1832d",
   "metadata": {},
   "source": [
    "We notice that few columns are fully empty and other_Fuel2 has only one data, Hence we should not have even secod thought to keep these columns, Lets drop them straight away."
   ]
  },
  {
   "cell_type": "code",
   "execution_count": 473,
   "id": "6dda2ffd",
   "metadata": {},
   "outputs": [],
   "source": [
    "df.drop(['estimated_generation_gwh','other_fuel2','other_fuel3','wepp_id','generation_gwh_2013','generation_gwh_2019'],axis=1,inplace=True)"
   ]
  },
  {
   "cell_type": "code",
   "execution_count": 474,
   "id": "af73d057",
   "metadata": {},
   "outputs": [
    {
     "data": {
      "text/html": [
       "<div>\n",
       "<style scoped>\n",
       "    .dataframe tbody tr th:only-of-type {\n",
       "        vertical-align: middle;\n",
       "    }\n",
       "\n",
       "    .dataframe tbody tr th {\n",
       "        vertical-align: top;\n",
       "    }\n",
       "\n",
       "    .dataframe thead th {\n",
       "        text-align: right;\n",
       "    }\n",
       "</style>\n",
       "<table border=\"1\" class=\"dataframe\">\n",
       "  <thead>\n",
       "    <tr style=\"text-align: right;\">\n",
       "      <th></th>\n",
       "      <th>country</th>\n",
       "      <th>country_long</th>\n",
       "      <th>name</th>\n",
       "      <th>gppd_idnr</th>\n",
       "      <th>capacity_mw</th>\n",
       "      <th>latitude</th>\n",
       "      <th>longitude</th>\n",
       "      <th>primary_fuel</th>\n",
       "      <th>other_fuel1</th>\n",
       "      <th>commissioning_year</th>\n",
       "      <th>owner</th>\n",
       "      <th>source</th>\n",
       "      <th>url</th>\n",
       "      <th>geolocation_source</th>\n",
       "      <th>year_of_capacity_data</th>\n",
       "      <th>generation_gwh_2014</th>\n",
       "      <th>generation_gwh_2015</th>\n",
       "      <th>generation_gwh_2016</th>\n",
       "      <th>generation_gwh_2017</th>\n",
       "      <th>generation_gwh_2018</th>\n",
       "      <th>generation_data_source</th>\n",
       "    </tr>\n",
       "  </thead>\n",
       "  <tbody>\n",
       "    <tr>\n",
       "      <th>0</th>\n",
       "      <td>IND</td>\n",
       "      <td>India</td>\n",
       "      <td>ACME Solar Tower</td>\n",
       "      <td>WRI1020239</td>\n",
       "      <td>2.5</td>\n",
       "      <td>28.1839</td>\n",
       "      <td>73.2407</td>\n",
       "      <td>Solar</td>\n",
       "      <td>NaN</td>\n",
       "      <td>2011.0</td>\n",
       "      <td>Solar Paces</td>\n",
       "      <td>National Renewable Energy Laboratory</td>\n",
       "      <td>http://www.nrel.gov/csp/solarpaces/project_det...</td>\n",
       "      <td>National Renewable Energy Laboratory</td>\n",
       "      <td>NaN</td>\n",
       "      <td>NaN</td>\n",
       "      <td>NaN</td>\n",
       "      <td>NaN</td>\n",
       "      <td>NaN</td>\n",
       "      <td>NaN</td>\n",
       "      <td>NaN</td>\n",
       "    </tr>\n",
       "    <tr>\n",
       "      <th>1</th>\n",
       "      <td>IND</td>\n",
       "      <td>India</td>\n",
       "      <td>ADITYA CEMENT WORKS</td>\n",
       "      <td>WRI1019881</td>\n",
       "      <td>98.0</td>\n",
       "      <td>24.7663</td>\n",
       "      <td>74.6090</td>\n",
       "      <td>Coal</td>\n",
       "      <td>NaN</td>\n",
       "      <td>NaN</td>\n",
       "      <td>Ultratech Cement ltd</td>\n",
       "      <td>Ultratech Cement ltd</td>\n",
       "      <td>http://www.ultratechcement.com/</td>\n",
       "      <td>WRI</td>\n",
       "      <td>NaN</td>\n",
       "      <td>NaN</td>\n",
       "      <td>NaN</td>\n",
       "      <td>NaN</td>\n",
       "      <td>NaN</td>\n",
       "      <td>NaN</td>\n",
       "      <td>NaN</td>\n",
       "    </tr>\n",
       "  </tbody>\n",
       "</table>\n",
       "</div>"
      ],
      "text/plain": [
       "  country country_long                 name   gppd_idnr  capacity_mw  \\\n",
       "0     IND        India     ACME Solar Tower  WRI1020239          2.5   \n",
       "1     IND        India  ADITYA CEMENT WORKS  WRI1019881         98.0   \n",
       "\n",
       "   latitude  longitude primary_fuel other_fuel1  commissioning_year  \\\n",
       "0   28.1839    73.2407        Solar         NaN              2011.0   \n",
       "1   24.7663    74.6090         Coal         NaN                 NaN   \n",
       "\n",
       "                  owner                                source  \\\n",
       "0           Solar Paces  National Renewable Energy Laboratory   \n",
       "1  Ultratech Cement ltd                  Ultratech Cement ltd   \n",
       "\n",
       "                                                 url  \\\n",
       "0  http://www.nrel.gov/csp/solarpaces/project_det...   \n",
       "1                    http://www.ultratechcement.com/   \n",
       "\n",
       "                     geolocation_source  year_of_capacity_data  \\\n",
       "0  National Renewable Energy Laboratory                    NaN   \n",
       "1                                   WRI                    NaN   \n",
       "\n",
       "   generation_gwh_2014  generation_gwh_2015  generation_gwh_2016  \\\n",
       "0                  NaN                  NaN                  NaN   \n",
       "1                  NaN                  NaN                  NaN   \n",
       "\n",
       "   generation_gwh_2017  generation_gwh_2018 generation_data_source  \n",
       "0                  NaN                  NaN                    NaN  \n",
       "1                  NaN                  NaN                    NaN  "
      ]
     },
     "execution_count": 474,
     "metadata": {},
     "output_type": "execute_result"
    }
   ],
   "source": [
    "df.head(2)"
   ]
  },
  {
   "cell_type": "code",
   "execution_count": 475,
   "id": "45fdeb45",
   "metadata": {},
   "outputs": [
    {
     "data": {
      "text/plain": [
       "country                     0\n",
       "country_long                0\n",
       "name                        0\n",
       "gppd_idnr                   0\n",
       "capacity_mw                 0\n",
       "latitude                   46\n",
       "longitude                  46\n",
       "primary_fuel                0\n",
       "other_fuel1               709\n",
       "commissioning_year        380\n",
       "owner                     565\n",
       "source                      0\n",
       "url                         0\n",
       "geolocation_source         19\n",
       "year_of_capacity_data     388\n",
       "generation_gwh_2014       509\n",
       "generation_gwh_2015       485\n",
       "generation_gwh_2016       473\n",
       "generation_gwh_2017       467\n",
       "generation_gwh_2018       459\n",
       "generation_data_source    458\n",
       "dtype: int64"
      ]
     },
     "execution_count": 475,
     "metadata": {},
     "output_type": "execute_result"
    }
   ],
   "source": [
    "df.isnull().sum()"
   ]
  },
  {
   "cell_type": "markdown",
   "id": "69f419ac",
   "metadata": {},
   "source": [
    "# Handle Missing Data"
   ]
  },
  {
   "cell_type": "code",
   "execution_count": 476,
   "id": "450f838d",
   "metadata": {},
   "outputs": [
    {
     "data": {
      "text/plain": [
       "Oil             195\n",
       "Gas               2\n",
       "Cogeneration      1\n",
       "Name: other_fuel1, dtype: int64"
      ]
     },
     "execution_count": 476,
     "metadata": {},
     "output_type": "execute_result"
    }
   ],
   "source": [
    "df['other_fuel1'].value_counts()"
   ]
  },
  {
   "cell_type": "markdown",
   "id": "e8933891",
   "metadata": {},
   "source": [
    "Out of 907 records, we have data for 198 records only, even if we fill the Other_fuel as Oil this will not give us anything as data will be highly imbalanced in this column, So we will take a note to delete this column too and meanwhile we will see the other columns which are having missing data"
   ]
  },
  {
   "cell_type": "code",
   "execution_count": 477,
   "id": "1076d9c1",
   "metadata": {},
   "outputs": [
    {
     "data": {
      "text/html": [
       "<div>\n",
       "<style scoped>\n",
       "    .dataframe tbody tr th:only-of-type {\n",
       "        vertical-align: middle;\n",
       "    }\n",
       "\n",
       "    .dataframe tbody tr th {\n",
       "        vertical-align: top;\n",
       "    }\n",
       "\n",
       "    .dataframe thead th {\n",
       "        text-align: right;\n",
       "    }\n",
       "</style>\n",
       "<table border=\"1\" class=\"dataframe\">\n",
       "  <thead>\n",
       "    <tr style=\"text-align: right;\">\n",
       "      <th></th>\n",
       "      <th>country</th>\n",
       "      <th>country_long</th>\n",
       "      <th>name</th>\n",
       "      <th>gppd_idnr</th>\n",
       "      <th>capacity_mw</th>\n",
       "      <th>latitude</th>\n",
       "      <th>longitude</th>\n",
       "      <th>primary_fuel</th>\n",
       "      <th>other_fuel1</th>\n",
       "      <th>commissioning_year</th>\n",
       "      <th>owner</th>\n",
       "      <th>source</th>\n",
       "      <th>url</th>\n",
       "      <th>geolocation_source</th>\n",
       "      <th>year_of_capacity_data</th>\n",
       "      <th>generation_gwh_2014</th>\n",
       "      <th>generation_gwh_2015</th>\n",
       "      <th>generation_gwh_2016</th>\n",
       "      <th>generation_gwh_2017</th>\n",
       "      <th>generation_gwh_2018</th>\n",
       "      <th>generation_data_source</th>\n",
       "    </tr>\n",
       "  </thead>\n",
       "  <tbody>\n",
       "    <tr>\n",
       "      <th>0</th>\n",
       "      <td>IND</td>\n",
       "      <td>India</td>\n",
       "      <td>ACME Solar Tower</td>\n",
       "      <td>WRI1020239</td>\n",
       "      <td>2.5</td>\n",
       "      <td>28.1839</td>\n",
       "      <td>73.2407</td>\n",
       "      <td>Solar</td>\n",
       "      <td>NaN</td>\n",
       "      <td>2011.0</td>\n",
       "      <td>Solar Paces</td>\n",
       "      <td>National Renewable Energy Laboratory</td>\n",
       "      <td>http://www.nrel.gov/csp/solarpaces/project_det...</td>\n",
       "      <td>National Renewable Energy Laboratory</td>\n",
       "      <td>NaN</td>\n",
       "      <td>NaN</td>\n",
       "      <td>NaN</td>\n",
       "      <td>NaN</td>\n",
       "      <td>NaN</td>\n",
       "      <td>NaN</td>\n",
       "      <td>NaN</td>\n",
       "    </tr>\n",
       "    <tr>\n",
       "      <th>1</th>\n",
       "      <td>IND</td>\n",
       "      <td>India</td>\n",
       "      <td>ADITYA CEMENT WORKS</td>\n",
       "      <td>WRI1019881</td>\n",
       "      <td>98.0</td>\n",
       "      <td>24.7663</td>\n",
       "      <td>74.6090</td>\n",
       "      <td>Coal</td>\n",
       "      <td>NaN</td>\n",
       "      <td>NaN</td>\n",
       "      <td>Ultratech Cement ltd</td>\n",
       "      <td>Ultratech Cement ltd</td>\n",
       "      <td>http://www.ultratechcement.com/</td>\n",
       "      <td>WRI</td>\n",
       "      <td>NaN</td>\n",
       "      <td>NaN</td>\n",
       "      <td>NaN</td>\n",
       "      <td>NaN</td>\n",
       "      <td>NaN</td>\n",
       "      <td>NaN</td>\n",
       "      <td>NaN</td>\n",
       "    </tr>\n",
       "  </tbody>\n",
       "</table>\n",
       "</div>"
      ],
      "text/plain": [
       "  country country_long                 name   gppd_idnr  capacity_mw  \\\n",
       "0     IND        India     ACME Solar Tower  WRI1020239          2.5   \n",
       "1     IND        India  ADITYA CEMENT WORKS  WRI1019881         98.0   \n",
       "\n",
       "   latitude  longitude primary_fuel other_fuel1  commissioning_year  \\\n",
       "0   28.1839    73.2407        Solar         NaN              2011.0   \n",
       "1   24.7663    74.6090         Coal         NaN                 NaN   \n",
       "\n",
       "                  owner                                source  \\\n",
       "0           Solar Paces  National Renewable Energy Laboratory   \n",
       "1  Ultratech Cement ltd                  Ultratech Cement ltd   \n",
       "\n",
       "                                                 url  \\\n",
       "0  http://www.nrel.gov/csp/solarpaces/project_det...   \n",
       "1                    http://www.ultratechcement.com/   \n",
       "\n",
       "                     geolocation_source  year_of_capacity_data  \\\n",
       "0  National Renewable Energy Laboratory                    NaN   \n",
       "1                                   WRI                    NaN   \n",
       "\n",
       "   generation_gwh_2014  generation_gwh_2015  generation_gwh_2016  \\\n",
       "0                  NaN                  NaN                  NaN   \n",
       "1                  NaN                  NaN                  NaN   \n",
       "\n",
       "   generation_gwh_2017  generation_gwh_2018 generation_data_source  \n",
       "0                  NaN                  NaN                    NaN  \n",
       "1                  NaN                  NaN                    NaN  "
      ]
     },
     "execution_count": 477,
     "metadata": {},
     "output_type": "execute_result"
    }
   ],
   "source": [
    "df.head(2)"
   ]
  },
  {
   "cell_type": "code",
   "execution_count": 478,
   "id": "95afb483",
   "metadata": {},
   "outputs": [
    {
     "name": "stdout",
     "output_type": "stream",
     "text": [
      "<class 'pandas.core.frame.DataFrame'>\n",
      "RangeIndex: 907 entries, 0 to 906\n",
      "Data columns (total 21 columns):\n",
      " #   Column                  Non-Null Count  Dtype  \n",
      "---  ------                  --------------  -----  \n",
      " 0   country                 907 non-null    object \n",
      " 1   country_long            907 non-null    object \n",
      " 2   name                    907 non-null    object \n",
      " 3   gppd_idnr               907 non-null    object \n",
      " 4   capacity_mw             907 non-null    float64\n",
      " 5   latitude                861 non-null    float64\n",
      " 6   longitude               861 non-null    float64\n",
      " 7   primary_fuel            907 non-null    object \n",
      " 8   other_fuel1             198 non-null    object \n",
      " 9   commissioning_year      527 non-null    float64\n",
      " 10  owner                   342 non-null    object \n",
      " 11  source                  907 non-null    object \n",
      " 12  url                     907 non-null    object \n",
      " 13  geolocation_source      888 non-null    object \n",
      " 14  year_of_capacity_data   519 non-null    float64\n",
      " 15  generation_gwh_2014     398 non-null    float64\n",
      " 16  generation_gwh_2015     422 non-null    float64\n",
      " 17  generation_gwh_2016     434 non-null    float64\n",
      " 18  generation_gwh_2017     440 non-null    float64\n",
      " 19  generation_gwh_2018     448 non-null    float64\n",
      " 20  generation_data_source  449 non-null    object \n",
      "dtypes: float64(10), object(11)\n",
      "memory usage: 148.9+ KB\n"
     ]
    }
   ],
   "source": [
    "df.info()"
   ]
  },
  {
   "cell_type": "code",
   "execution_count": 479,
   "id": "7843a248",
   "metadata": {},
   "outputs": [
    {
     "data": {
      "text/plain": [
       "(46, 21)"
      ]
     },
     "execution_count": 479,
     "metadata": {},
     "output_type": "execute_result"
    }
   ],
   "source": [
    "df_lat=df[df['latitude'].isna()]\n",
    "df_lat.shape"
   ]
  },
  {
   "cell_type": "code",
   "execution_count": 480,
   "id": "17dfce76",
   "metadata": {
    "scrolled": false
   },
   "outputs": [
    {
     "data": {
      "text/html": [
       "<div>\n",
       "<style scoped>\n",
       "    .dataframe tbody tr th:only-of-type {\n",
       "        vertical-align: middle;\n",
       "    }\n",
       "\n",
       "    .dataframe tbody tr th {\n",
       "        vertical-align: top;\n",
       "    }\n",
       "\n",
       "    .dataframe thead th {\n",
       "        text-align: right;\n",
       "    }\n",
       "</style>\n",
       "<table border=\"1\" class=\"dataframe\">\n",
       "  <thead>\n",
       "    <tr style=\"text-align: right;\">\n",
       "      <th></th>\n",
       "      <th>country</th>\n",
       "      <th>country_long</th>\n",
       "      <th>name</th>\n",
       "      <th>gppd_idnr</th>\n",
       "      <th>capacity_mw</th>\n",
       "      <th>latitude</th>\n",
       "      <th>longitude</th>\n",
       "      <th>primary_fuel</th>\n",
       "      <th>other_fuel1</th>\n",
       "      <th>commissioning_year</th>\n",
       "      <th>owner</th>\n",
       "      <th>source</th>\n",
       "      <th>url</th>\n",
       "      <th>geolocation_source</th>\n",
       "      <th>year_of_capacity_data</th>\n",
       "      <th>generation_gwh_2014</th>\n",
       "      <th>generation_gwh_2015</th>\n",
       "      <th>generation_gwh_2016</th>\n",
       "      <th>generation_gwh_2017</th>\n",
       "      <th>generation_gwh_2018</th>\n",
       "      <th>generation_data_source</th>\n",
       "    </tr>\n",
       "  </thead>\n",
       "  <tbody>\n",
       "    <tr>\n",
       "      <th>14</th>\n",
       "      <td>IND</td>\n",
       "      <td>India</td>\n",
       "      <td>ANOOPGARH ST I&amp;II</td>\n",
       "      <td>IND0000012</td>\n",
       "      <td>9.0</td>\n",
       "      <td>NaN</td>\n",
       "      <td>NaN</td>\n",
       "      <td>Hydro</td>\n",
       "      <td>NaN</td>\n",
       "      <td>1987.0</td>\n",
       "      <td>NaN</td>\n",
       "      <td>Central Electricity Authority</td>\n",
       "      <td>http://www.cea.nic.in/</td>\n",
       "      <td>WRI</td>\n",
       "      <td>2019.0</td>\n",
       "      <td>NaN</td>\n",
       "      <td>NaN</td>\n",
       "      <td>NaN</td>\n",
       "      <td>NaN</td>\n",
       "      <td>NaN</td>\n",
       "      <td>NaN</td>\n",
       "    </tr>\n",
       "    <tr>\n",
       "      <th>25</th>\n",
       "      <td>IND</td>\n",
       "      <td>India</td>\n",
       "      <td>Abhijeet</td>\n",
       "      <td>WRI1020238</td>\n",
       "      <td>50.0</td>\n",
       "      <td>NaN</td>\n",
       "      <td>NaN</td>\n",
       "      <td>Solar</td>\n",
       "      <td>NaN</td>\n",
       "      <td>2015.0</td>\n",
       "      <td>Ener-t International Ltd.</td>\n",
       "      <td>National Renewable Energy Laboratory</td>\n",
       "      <td>http://www.nrel.gov/csp/solarpaces/project_det...</td>\n",
       "      <td>NaN</td>\n",
       "      <td>NaN</td>\n",
       "      <td>NaN</td>\n",
       "      <td>NaN</td>\n",
       "      <td>NaN</td>\n",
       "      <td>NaN</td>\n",
       "      <td>NaN</td>\n",
       "      <td>NaN</td>\n",
       "    </tr>\n",
       "  </tbody>\n",
       "</table>\n",
       "</div>"
      ],
      "text/plain": [
       "   country country_long               name   gppd_idnr  capacity_mw  latitude  \\\n",
       "14     IND        India  ANOOPGARH ST I&II  IND0000012          9.0       NaN   \n",
       "25     IND        India           Abhijeet  WRI1020238         50.0       NaN   \n",
       "\n",
       "    longitude primary_fuel other_fuel1  commissioning_year  \\\n",
       "14        NaN        Hydro         NaN              1987.0   \n",
       "25        NaN        Solar         NaN              2015.0   \n",
       "\n",
       "                        owner                                source  \\\n",
       "14                        NaN         Central Electricity Authority   \n",
       "25  Ener-t International Ltd.  National Renewable Energy Laboratory   \n",
       "\n",
       "                                                  url geolocation_source  \\\n",
       "14                             http://www.cea.nic.in/                WRI   \n",
       "25  http://www.nrel.gov/csp/solarpaces/project_det...                NaN   \n",
       "\n",
       "    year_of_capacity_data  generation_gwh_2014  generation_gwh_2015  \\\n",
       "14                 2019.0                  NaN                  NaN   \n",
       "25                    NaN                  NaN                  NaN   \n",
       "\n",
       "    generation_gwh_2016  generation_gwh_2017  generation_gwh_2018  \\\n",
       "14                  NaN                  NaN                  NaN   \n",
       "25                  NaN                  NaN                  NaN   \n",
       "\n",
       "   generation_data_source  \n",
       "14                    NaN  \n",
       "25                    NaN  "
      ]
     },
     "execution_count": 480,
     "metadata": {},
     "output_type": "execute_result"
    }
   ],
   "source": [
    "df_lat.head(2)"
   ]
  },
  {
   "cell_type": "markdown",
   "id": "d085484d",
   "metadata": {},
   "source": [
    "- We know that imputing missing data with <b>mean</b> values can only be done with numerical data.\n",
    "\n",
    "\n",
    "- Another technique is median imputation in which the missing values are replaced with the median value of the entire feature column. When the data is skewed, it is good to consider using the median value for replacing the missing values.We must note that imputing missing data with <b>median</b> value can only be done with numerical data.\n",
    "\n",
    "\n",
    "- Yet another technique is mode imputation in which the missing values are replaced with the mode value or most frequent value of the entire feature column. When the data is skewed, it is good to consider using <b>mode</b> values for replacing the missing values.We must note that imputing missing data with mode values can be done with numerical and categorical data."
   ]
  },
  {
   "cell_type": "code",
   "execution_count": 481,
   "id": "7b61bb41",
   "metadata": {},
   "outputs": [
    {
     "data": {
      "text/plain": [
       "<AxesSubplot:xlabel='latitude', ylabel='Count'>"
      ]
     },
     "execution_count": 481,
     "metadata": {},
     "output_type": "execute_result"
    },
    {
     "data": {
      "image/png": "[encoded data removed]",
      "text/plain": [
       "<Figure size 432x288 with 1 Axes>"
      ]
     },
     "metadata": {
      "needs_background": "light"
     },
     "output_type": "display_data"
    }
   ],
   "source": [
    "sns.histplot(df.latitude,color=\"blue\",kde=True,stat=\"count\")"
   ]
  },
  {
   "cell_type": "code",
   "execution_count": 482,
   "id": "fa3572be",
   "metadata": {},
   "outputs": [
    {
     "data": {
      "text/plain": [
       "<AxesSubplot:xlabel='longitude', ylabel='Count'>"
      ]
     },
     "execution_count": 482,
     "metadata": {},
     "output_type": "execute_result"
    },
    {
     "data": {
      "image/png": "[encoded data removed]",
      "text/plain": [
       "<Figure size 432x288 with 1 Axes>"
      ]
     },
     "metadata": {
      "needs_background": "light"
     },
     "output_type": "display_data"
    }
   ],
   "source": [
    "sns.histplot(df.longitude,color=\"blue\",kde=True,stat=\"count\")"
   ]
  },
  {
   "cell_type": "code",
   "execution_count": 483,
   "id": "5714df06",
   "metadata": {},
   "outputs": [
    {
     "data": {
      "text/plain": [
       "-0.14586567454259747"
      ]
     },
     "execution_count": 483,
     "metadata": {},
     "output_type": "execute_result"
    }
   ],
   "source": [
    "df['latitude'].skew()"
   ]
  },
  {
   "cell_type": "code",
   "execution_count": 484,
   "id": "581875fe",
   "metadata": {},
   "outputs": [
    {
     "data": {
      "text/plain": [
       "1.1126462921331153"
      ]
     },
     "execution_count": 484,
     "metadata": {},
     "output_type": "execute_result"
    }
   ],
   "source": [
    "df['longitude'].skew()"
   ]
  },
  {
   "cell_type": "markdown",
   "id": "c6c3bfc6",
   "metadata": {},
   "source": [
    "We notice that latitude is left skewed and longitude is right skewed, hence lets use median to replace the missing values and lets fill geolocation_source with mode as it is a categorical column"
   ]
  },
  {
   "cell_type": "code",
   "execution_count": 485,
   "id": "69c5b871",
   "metadata": {},
   "outputs": [],
   "source": [
    "df['latitude']=df['latitude'].fillna(df['latitude'].median())\n",
    "df['longitude']=df['longitude'].fillna(df['longitude'].median())\n",
    "df['geolocation_source']=df['geolocation_source'].fillna(df['geolocation_source'].mode()[0])"
   ]
  },
  {
   "cell_type": "code",
   "execution_count": 486,
   "id": "a26c8af9",
   "metadata": {},
   "outputs": [
    {
     "data": {
      "text/plain": [
       "country                     0\n",
       "country_long                0\n",
       "name                        0\n",
       "gppd_idnr                   0\n",
       "capacity_mw                 0\n",
       "latitude                    0\n",
       "longitude                   0\n",
       "primary_fuel                0\n",
       "other_fuel1               709\n",
       "commissioning_year        380\n",
       "owner                     565\n",
       "source                      0\n",
       "url                         0\n",
       "geolocation_source          0\n",
       "year_of_capacity_data     388\n",
       "generation_gwh_2014       509\n",
       "generation_gwh_2015       485\n",
       "generation_gwh_2016       473\n",
       "generation_gwh_2017       467\n",
       "generation_gwh_2018       459\n",
       "generation_data_source    458\n",
       "dtype: int64"
      ]
     },
     "execution_count": 486,
     "metadata": {},
     "output_type": "execute_result"
    }
   ],
   "source": [
    "df.isnull().sum()"
   ]
  },
  {
   "cell_type": "code",
   "execution_count": 487,
   "id": "0a723834",
   "metadata": {},
   "outputs": [
    {
     "data": {
      "text/plain": [
       "(380, 21)"
      ]
     },
     "execution_count": 487,
     "metadata": {},
     "output_type": "execute_result"
    }
   ],
   "source": [
    "df_commissionYear=df[df['commissioning_year'].isna()]\n",
    "df_commissionYear.shape"
   ]
  },
  {
   "cell_type": "markdown",
   "id": "8759bba6",
   "metadata": {},
   "source": [
    "Looking at the record, we see that we have commision year from 1927 to 2018 it is impossible to find the year of commission until we see the actual records. We will keep a note to delete this column too"
   ]
  },
  {
   "cell_type": "code",
   "execution_count": 488,
   "id": "f76a6f66",
   "metadata": {},
   "outputs": [
    {
     "data": {
      "text/plain": [
       "count                               342\n",
       "unique                              280\n",
       "top       Sterling Agro Industries ltd.\n",
       "freq                                  4\n",
       "Name: owner, dtype: object"
      ]
     },
     "execution_count": 488,
     "metadata": {},
     "output_type": "execute_result"
    }
   ],
   "source": [
    "df['owner'].describe()"
   ]
  },
  {
   "cell_type": "markdown",
   "id": "16d286c7",
   "metadata": {},
   "source": [
    "In a total reord of 907, we have data for 342 reocord and out of these 342, there are 280 unique names, so this column will give us nothing in return, we can delete this column too and do feature_enegineering further"
   ]
  },
  {
   "cell_type": "code",
   "execution_count": 489,
   "id": "e1cb3dcd",
   "metadata": {},
   "outputs": [
    {
     "data": {
      "text/plain": [
       "count            907\n",
       "unique           907\n",
       "top       WRI1019990\n",
       "freq               1\n",
       "Name: gppd_idnr, dtype: object"
      ]
     },
     "execution_count": 489,
     "metadata": {},
     "output_type": "execute_result"
    }
   ],
   "source": [
    "df['gppd_idnr'].describe()"
   ]
  },
  {
   "cell_type": "code",
   "execution_count": 490,
   "id": "bd9d9a68",
   "metadata": {},
   "outputs": [
    {
     "data": {
      "text/plain": [
       "{'Central Electricity Authority', nan}"
      ]
     },
     "execution_count": 490,
     "metadata": {},
     "output_type": "execute_result"
    }
   ],
   "source": [
    "set(df['generation_data_source'])"
   ]
  },
  {
   "cell_type": "code",
   "execution_count": 491,
   "id": "00059854",
   "metadata": {},
   "outputs": [
    {
     "data": {
      "text/plain": [
       "{'Industry About', 'National Renewable Energy Laboratory', 'WRI'}"
      ]
     },
     "execution_count": 491,
     "metadata": {},
     "output_type": "execute_result"
    }
   ],
   "source": [
    "set(df['geolocation_source'])"
   ]
  },
  {
   "cell_type": "code",
   "execution_count": 492,
   "id": "7ae8d3ab",
   "metadata": {},
   "outputs": [
    {
     "data": {
      "text/plain": [
       "count                        907\n",
       "unique                       304\n",
       "top       http://www.cea.nic.in/\n",
       "freq                         519\n",
       "Name: url, dtype: object"
      ]
     },
     "execution_count": 492,
     "metadata": {},
     "output_type": "execute_result"
    }
   ],
   "source": [
    "df['url'].describe()"
   ]
  },
  {
   "cell_type": "code",
   "execution_count": 493,
   "id": "bd607a76",
   "metadata": {},
   "outputs": [
    {
     "data": {
      "text/plain": [
       "count                               907\n",
       "unique                              191\n",
       "top       Central Electricity Authority\n",
       "freq                                519\n",
       "Name: source, dtype: object"
      ]
     },
     "execution_count": 493,
     "metadata": {},
     "output_type": "execute_result"
    }
   ],
   "source": [
    "df['source'].describe()"
   ]
  },
  {
   "cell_type": "code",
   "execution_count": 494,
   "id": "c18123b0",
   "metadata": {},
   "outputs": [
    {
     "data": {
      "text/plain": [
       "count     519.0\n",
       "mean     2019.0\n",
       "std         0.0\n",
       "min      2019.0\n",
       "25%      2019.0\n",
       "50%      2019.0\n",
       "75%      2019.0\n",
       "max      2019.0\n",
       "Name: year_of_capacity_data, dtype: float64"
      ]
     },
     "execution_count": 494,
     "metadata": {},
     "output_type": "execute_result"
    }
   ],
   "source": [
    "df['year_of_capacity_data'].describe()"
   ]
  },
  {
   "cell_type": "markdown",
   "id": "24b8c2ab",
   "metadata": {},
   "source": [
    "year_of_Capacity has either no value or has 2019, so its safe to delete this column too."
   ]
  },
  {
   "cell_type": "code",
   "execution_count": 495,
   "id": "715d0ab0",
   "metadata": {},
   "outputs": [
    {
     "data": {
      "text/plain": [
       "count      398.000000\n",
       "mean      2431.823590\n",
       "std       4026.440035\n",
       "min          0.000000\n",
       "25%        223.557672\n",
       "50%        801.123775\n",
       "75%       3035.306250\n",
       "max      28127.000000\n",
       "Name: generation_gwh_2014, dtype: float64"
      ]
     },
     "execution_count": 495,
     "metadata": {},
     "output_type": "execute_result"
    }
   ],
   "source": [
    "df['generation_gwh_2014'].describe()"
   ]
  },
  {
   "cell_type": "code",
   "execution_count": 496,
   "id": "187f1d00",
   "metadata": {},
   "outputs": [
    {
     "data": {
      "text/plain": [
       "count      422.000000\n",
       "mean      2428.226946\n",
       "std       4194.596959\n",
       "min          0.000000\n",
       "25%        176.381063\n",
       "50%        711.181225\n",
       "75%       3084.121250\n",
       "max      30539.000000\n",
       "Name: generation_gwh_2015, dtype: float64"
      ]
     },
     "execution_count": 496,
     "metadata": {},
     "output_type": "execute_result"
    }
   ],
   "source": [
    "df['generation_gwh_2015'].describe()"
   ]
  },
  {
   "cell_type": "code",
   "execution_count": 497,
   "id": "8a54200c",
   "metadata": {},
   "outputs": [
    {
     "data": {
      "text/plain": [
       "count      434.000000\n",
       "mean      2467.936859\n",
       "std       4162.884308\n",
       "min          0.000000\n",
       "25%        188.285252\n",
       "50%        737.205450\n",
       "75%       3282.861313\n",
       "max      30015.000000\n",
       "Name: generation_gwh_2016, dtype: float64"
      ]
     },
     "execution_count": 497,
     "metadata": {},
     "output_type": "execute_result"
    }
   ],
   "source": [
    "df['generation_gwh_2016'].describe()"
   ]
  },
  {
   "cell_type": "code",
   "execution_count": 498,
   "id": "2176b80d",
   "metadata": {},
   "outputs": [
    {
     "data": {
      "text/plain": [
       "count      440.000000\n",
       "mean      2547.759305\n",
       "std       4196.991169\n",
       "min          0.000000\n",
       "25%        177.874930\n",
       "50%        817.977250\n",
       "75%       3275.690475\n",
       "max      35116.000000\n",
       "Name: generation_gwh_2017, dtype: float64"
      ]
     },
     "execution_count": 498,
     "metadata": {},
     "output_type": "execute_result"
    }
   ],
   "source": [
    "df['generation_gwh_2017'].describe()"
   ]
  },
  {
   "cell_type": "code",
   "execution_count": 499,
   "id": "22851917",
   "metadata": {},
   "outputs": [
    {
     "data": {
      "text/plain": [
       "count      448.000000\n",
       "mean      2600.804099\n",
       "std       4314.880456\n",
       "min          0.000000\n",
       "25%        193.378250\n",
       "50%        751.644375\n",
       "75%       3143.535900\n",
       "max      35136.000000\n",
       "Name: generation_gwh_2018, dtype: float64"
      ]
     },
     "execution_count": 499,
     "metadata": {},
     "output_type": "execute_result"
    }
   ],
   "source": [
    "df['generation_gwh_2018'].describe()"
   ]
  },
  {
   "cell_type": "code",
   "execution_count": 500,
   "id": "246c30d4",
   "metadata": {},
   "outputs": [
    {
     "data": {
      "text/plain": [
       "({'IND'}, {'India'})"
      ]
     },
     "execution_count": 500,
     "metadata": {},
     "output_type": "execute_result"
    }
   ],
   "source": [
    "set(df['country']),set(df['country_long'])"
   ]
  },
  {
   "cell_type": "code",
   "execution_count": 501,
   "id": "98135117",
   "metadata": {},
   "outputs": [
    {
     "data": {
      "text/plain": [
       "count                  907\n",
       "unique                 907\n",
       "top       ACME Solar Tower\n",
       "freq                     1\n",
       "Name: name, dtype: object"
      ]
     },
     "execution_count": 501,
     "metadata": {},
     "output_type": "execute_result"
    }
   ],
   "source": [
    "df['name'].describe()"
   ]
  },
  {
   "cell_type": "markdown",
   "id": "9153489f",
   "metadata": {},
   "source": [
    "Looks like the columns with maximum null value or single values will fetch us nothing, so its better to delete and proceed with our analysis further. Moreover, we see that all data are for Country India, where it has been repeated twice as county for code and country_long for name of the country. This column will not give us anything, so lets delete that too.\n",
    "Also generation_gwh_2014,generation_gwh_2015,generation_gwh_2016,generation_gwh_2017 and generation_gwh_2018 have many null values and dealing with mean will give no justice to these columns and the model can't get anything from these columns, so we are deleting them too\n",
    "\n",
    "Also , there are 907 records and 907 names, so it will also be 0% useful for us, Hence we will delete this column too."
   ]
  },
  {
   "cell_type": "code",
   "execution_count": 502,
   "id": "da594f9b",
   "metadata": {},
   "outputs": [],
   "source": [
    "df.drop(['country','country_long','name','gppd_idnr','other_fuel1','owner','url','year_of_capacity_data','commissioning_year','generation_gwh_2014', 'generation_gwh_2015','generation_gwh_2016', 'generation_gwh_2017', 'generation_gwh_2018','generation_data_source'],axis=1,inplace=True)"
   ]
  },
  {
   "cell_type": "code",
   "execution_count": 503,
   "id": "e85343de",
   "metadata": {},
   "outputs": [
    {
     "data": {
      "text/html": [
       "<div>\n",
       "<style scoped>\n",
       "    .dataframe tbody tr th:only-of-type {\n",
       "        vertical-align: middle;\n",
       "    }\n",
       "\n",
       "    .dataframe tbody tr th {\n",
       "        vertical-align: top;\n",
       "    }\n",
       "\n",
       "    .dataframe thead th {\n",
       "        text-align: right;\n",
       "    }\n",
       "</style>\n",
       "<table border=\"1\" class=\"dataframe\">\n",
       "  <thead>\n",
       "    <tr style=\"text-align: right;\">\n",
       "      <th></th>\n",
       "      <th>capacity_mw</th>\n",
       "      <th>latitude</th>\n",
       "      <th>longitude</th>\n",
       "      <th>primary_fuel</th>\n",
       "      <th>source</th>\n",
       "      <th>geolocation_source</th>\n",
       "    </tr>\n",
       "  </thead>\n",
       "  <tbody>\n",
       "    <tr>\n",
       "      <th>0</th>\n",
       "      <td>2.5</td>\n",
       "      <td>28.1839</td>\n",
       "      <td>73.2407</td>\n",
       "      <td>Solar</td>\n",
       "      <td>National Renewable Energy Laboratory</td>\n",
       "      <td>National Renewable Energy Laboratory</td>\n",
       "    </tr>\n",
       "    <tr>\n",
       "      <th>1</th>\n",
       "      <td>98.0</td>\n",
       "      <td>24.7663</td>\n",
       "      <td>74.6090</td>\n",
       "      <td>Coal</td>\n",
       "      <td>Ultratech Cement ltd</td>\n",
       "      <td>WRI</td>\n",
       "    </tr>\n",
       "  </tbody>\n",
       "</table>\n",
       "</div>"
      ],
      "text/plain": [
       "   capacity_mw  latitude  longitude primary_fuel  \\\n",
       "0          2.5   28.1839    73.2407        Solar   \n",
       "1         98.0   24.7663    74.6090         Coal   \n",
       "\n",
       "                                 source                    geolocation_source  \n",
       "0  National Renewable Energy Laboratory  National Renewable Energy Laboratory  \n",
       "1                  Ultratech Cement ltd                                   WRI  "
      ]
     },
     "execution_count": 503,
     "metadata": {},
     "output_type": "execute_result"
    }
   ],
   "source": [
    "#commissioning_Year : year of plant operation, weighted by unit-capacity when data is available\n",
    "df.head(2)\n"
   ]
  },
  {
   "cell_type": "code",
   "execution_count": 504,
   "id": "2a674ac3",
   "metadata": {},
   "outputs": [
    {
     "data": {
      "text/plain": [
       "<AxesSubplot:xlabel='capacity_mw', ylabel='Count'>"
      ]
     },
     "execution_count": 504,
     "metadata": {},
     "output_type": "execute_result"
    },
    {
     "data": {
      "image/png": "[encoded data removed]",
      "text/plain": [
       "<Figure size 432x288 with 1 Axes>"
      ]
     },
     "metadata": {
      "needs_background": "light"
     },
     "output_type": "display_data"
    }
   ],
   "source": [
    "sns.histplot(df.capacity_mw,color=\"blue\",kde=True,stat=\"count\")"
   ]
  },
  {
   "cell_type": "code",
   "execution_count": 505,
   "id": "79673bbc",
   "metadata": {},
   "outputs": [
    {
     "data": {
      "text/plain": [
       "<AxesSubplot:xlabel='latitude', ylabel='Count'>"
      ]
     },
     "execution_count": 505,
     "metadata": {},
     "output_type": "execute_result"
    },
    {
     "data": {
      "image/png": "[encoded data removed]",
      "text/plain": [
       "<Figure size 432x288 with 1 Axes>"
      ]
     },
     "metadata": {
      "needs_background": "light"
     },
     "output_type": "display_data"
    }
   ],
   "source": [
    "sns.histplot(df.latitude,color=\"blue\",kde=True,stat=\"count\")"
   ]
  },
  {
   "cell_type": "code",
   "execution_count": 506,
   "id": "585192c7",
   "metadata": {},
   "outputs": [
    {
     "data": {
      "text/plain": [
       "<AxesSubplot:xlabel='longitude', ylabel='Count'>"
      ]
     },
     "execution_count": 506,
     "metadata": {},
     "output_type": "execute_result"
    },
    {
     "data": {
      "image/png": "[encoded data removed]",
      "text/plain": [
       "<Figure size 432x288 with 1 Axes>"
      ]
     },
     "metadata": {
      "needs_background": "light"
     },
     "output_type": "display_data"
    }
   ],
   "source": [
    "sns.histplot(df.longitude,color=\"blue\",kde=True,stat=\"count\")"
   ]
  },
  {
   "cell_type": "code",
   "execution_count": 507,
   "id": "b7a10e4b",
   "metadata": {},
   "outputs": [
    {
     "data": {
      "text/plain": [
       "{'Biomass', 'Coal', 'Gas', 'Hydro', 'Nuclear', 'Oil', 'Solar', 'Wind'}"
      ]
     },
     "execution_count": 507,
     "metadata": {},
     "output_type": "execute_result"
    }
   ],
   "source": [
    "set(df['primary_fuel'])"
   ]
  },
  {
   "cell_type": "code",
   "execution_count": 508,
   "id": "6b04e0ad",
   "metadata": {},
   "outputs": [
    {
     "data": {
      "text/plain": [
       "<AxesSubplot:xlabel='primary_fuel', ylabel='count'>"
      ]
     },
     "execution_count": 508,
     "metadata": {},
     "output_type": "execute_result"
    },
    {
     "data": {
      "image/png": "[encoded data removed]",
      "text/plain": [
       "<Figure size 432x288 with 1 Axes>"
      ]
     },
     "metadata": {
      "needs_background": "light"
     },
     "output_type": "display_data"
    }
   ],
   "source": [
    "sns.countplot(df['primary_fuel'])"
   ]
  },
  {
   "cell_type": "code",
   "execution_count": 509,
   "id": "44c7c393",
   "metadata": {},
   "outputs": [
    {
     "data": {
      "text/plain": [
       "<AxesSubplot:xlabel='geolocation_source', ylabel='count'>"
      ]
     },
     "execution_count": 509,
     "metadata": {},
     "output_type": "execute_result"
    },
    {
     "data": {
      "image/png": "[encoded data removed]",
      "text/plain": [
       "<Figure size 432x288 with 1 Axes>"
      ]
     },
     "metadata": {
      "needs_background": "light"
     },
     "output_type": "display_data"
    }
   ],
   "source": [
    "sns.countplot(df['geolocation_source'])"
   ]
  },
  {
   "cell_type": "code",
   "execution_count": 510,
   "id": "fe509f43",
   "metadata": {},
   "outputs": [
    {
     "data": {
      "text/plain": [
       "capacity_mw           0\n",
       "latitude              0\n",
       "longitude             0\n",
       "primary_fuel          0\n",
       "source                0\n",
       "geolocation_source    0\n",
       "dtype: int64"
      ]
     },
     "execution_count": 510,
     "metadata": {},
     "output_type": "execute_result"
    }
   ],
   "source": [
    "df.isnull().sum()"
   ]
  },
  {
   "cell_type": "markdown",
   "id": "76275f8b",
   "metadata": {},
   "source": [
    "# Check for Duplicates"
   ]
  },
  {
   "cell_type": "code",
   "execution_count": 511,
   "id": "018d7f69",
   "metadata": {},
   "outputs": [
    {
     "name": "stdout",
     "output_type": "stream",
     "text": [
      "Duplicate Rows :\n"
     ]
    },
    {
     "data": {
      "text/html": [
       "<div>\n",
       "<style scoped>\n",
       "    .dataframe tbody tr th:only-of-type {\n",
       "        vertical-align: middle;\n",
       "    }\n",
       "\n",
       "    .dataframe tbody tr th {\n",
       "        vertical-align: top;\n",
       "    }\n",
       "\n",
       "    .dataframe thead th {\n",
       "        text-align: right;\n",
       "    }\n",
       "</style>\n",
       "<table border=\"1\" class=\"dataframe\">\n",
       "  <thead>\n",
       "    <tr style=\"text-align: right;\">\n",
       "      <th></th>\n",
       "      <th>capacity_mw</th>\n",
       "      <th>latitude</th>\n",
       "      <th>longitude</th>\n",
       "      <th>primary_fuel</th>\n",
       "      <th>source</th>\n",
       "      <th>geolocation_source</th>\n",
       "    </tr>\n",
       "  </thead>\n",
       "  <tbody>\n",
       "    <tr>\n",
       "      <th>14</th>\n",
       "      <td>9.00</td>\n",
       "      <td>21.7800</td>\n",
       "      <td>76.7195</td>\n",
       "      <td>Hydro</td>\n",
       "      <td>Central Electricity Authority</td>\n",
       "      <td>WRI</td>\n",
       "    </tr>\n",
       "    <tr>\n",
       "      <th>25</th>\n",
       "      <td>50.00</td>\n",
       "      <td>21.7800</td>\n",
       "      <td>76.7195</td>\n",
       "      <td>Solar</td>\n",
       "      <td>National Renewable Energy Laboratory</td>\n",
       "      <td>WRI</td>\n",
       "    </tr>\n",
       "    <tr>\n",
       "      <th>178</th>\n",
       "      <td>5.00</td>\n",
       "      <td>21.7800</td>\n",
       "      <td>76.7195</td>\n",
       "      <td>Hydro</td>\n",
       "      <td>Central Electricity Authority</td>\n",
       "      <td>WRI</td>\n",
       "    </tr>\n",
       "    <tr>\n",
       "      <th>222</th>\n",
       "      <td>77.65</td>\n",
       "      <td>31.2680</td>\n",
       "      <td>76.4920</td>\n",
       "      <td>Hydro</td>\n",
       "      <td>Central Electricity Authority</td>\n",
       "      <td>WRI</td>\n",
       "    </tr>\n",
       "    <tr>\n",
       "      <th>254</th>\n",
       "      <td>36.00</td>\n",
       "      <td>15.2615</td>\n",
       "      <td>76.3379</td>\n",
       "      <td>Hydro</td>\n",
       "      <td>Central Electricity Authority</td>\n",
       "      <td>WRI</td>\n",
       "    </tr>\n",
       "    <tr>\n",
       "      <th>483</th>\n",
       "      <td>4.00</td>\n",
       "      <td>21.7800</td>\n",
       "      <td>76.7195</td>\n",
       "      <td>Hydro</td>\n",
       "      <td>Central Electricity Authority</td>\n",
       "      <td>WRI</td>\n",
       "    </tr>\n",
       "    <tr>\n",
       "      <th>655</th>\n",
       "      <td>22.50</td>\n",
       "      <td>21.7800</td>\n",
       "      <td>76.7195</td>\n",
       "      <td>Wind</td>\n",
       "      <td>CDM</td>\n",
       "      <td>WRI</td>\n",
       "    </tr>\n",
       "    <tr>\n",
       "      <th>705</th>\n",
       "      <td>6.60</td>\n",
       "      <td>21.7800</td>\n",
       "      <td>76.7195</td>\n",
       "      <td>Hydro</td>\n",
       "      <td>Central Electricity Authority</td>\n",
       "      <td>WRI</td>\n",
       "    </tr>\n",
       "  </tbody>\n",
       "</table>\n",
       "</div>"
      ],
      "text/plain": [
       "     capacity_mw  latitude  longitude primary_fuel  \\\n",
       "14          9.00   21.7800    76.7195        Hydro   \n",
       "25         50.00   21.7800    76.7195        Solar   \n",
       "178         5.00   21.7800    76.7195        Hydro   \n",
       "222        77.65   31.2680    76.4920        Hydro   \n",
       "254        36.00   15.2615    76.3379        Hydro   \n",
       "483         4.00   21.7800    76.7195        Hydro   \n",
       "655        22.50   21.7800    76.7195         Wind   \n",
       "705         6.60   21.7800    76.7195        Hydro   \n",
       "\n",
       "                                   source geolocation_source  \n",
       "14          Central Electricity Authority                WRI  \n",
       "25   National Renewable Energy Laboratory                WRI  \n",
       "178         Central Electricity Authority                WRI  \n",
       "222         Central Electricity Authority                WRI  \n",
       "254         Central Electricity Authority                WRI  \n",
       "483         Central Electricity Authority                WRI  \n",
       "655                                   CDM                WRI  \n",
       "705         Central Electricity Authority                WRI  "
      ]
     },
     "execution_count": 511,
     "metadata": {},
     "output_type": "execute_result"
    }
   ],
   "source": [
    "duplicate = df[df.duplicated(keep = 'last')]\n",
    "print(\"Duplicate Rows :\")\n",
    "# Print the resultant Dataframe\n",
    "duplicate"
   ]
  },
  {
   "cell_type": "code",
   "execution_count": 512,
   "id": "589b7060",
   "metadata": {},
   "outputs": [],
   "source": [
    "df.drop_duplicates(keep=False,inplace=True)"
   ]
  },
  {
   "cell_type": "code",
   "execution_count": 513,
   "id": "7046acba",
   "metadata": {},
   "outputs": [
    {
     "name": "stdout",
     "output_type": "stream",
     "text": [
      "Duplicate Rows :\n"
     ]
    },
    {
     "data": {
      "text/html": [
       "<div>\n",
       "<style scoped>\n",
       "    .dataframe tbody tr th:only-of-type {\n",
       "        vertical-align: middle;\n",
       "    }\n",
       "\n",
       "    .dataframe tbody tr th {\n",
       "        vertical-align: top;\n",
       "    }\n",
       "\n",
       "    .dataframe thead th {\n",
       "        text-align: right;\n",
       "    }\n",
       "</style>\n",
       "<table border=\"1\" class=\"dataframe\">\n",
       "  <thead>\n",
       "    <tr style=\"text-align: right;\">\n",
       "      <th></th>\n",
       "      <th>capacity_mw</th>\n",
       "      <th>latitude</th>\n",
       "      <th>longitude</th>\n",
       "      <th>primary_fuel</th>\n",
       "      <th>source</th>\n",
       "      <th>geolocation_source</th>\n",
       "    </tr>\n",
       "  </thead>\n",
       "  <tbody>\n",
       "  </tbody>\n",
       "</table>\n",
       "</div>"
      ],
      "text/plain": [
       "Empty DataFrame\n",
       "Columns: [capacity_mw, latitude, longitude, primary_fuel, source, geolocation_source]\n",
       "Index: []"
      ]
     },
     "execution_count": 513,
     "metadata": {},
     "output_type": "execute_result"
    }
   ],
   "source": [
    "duplicate = df[df.duplicated(keep = 'last')]\n",
    "print(\"Duplicate Rows :\")\n",
    "# Print the resultant Dataframe\n",
    "duplicate"
   ]
  },
  {
   "cell_type": "markdown",
   "id": "32fcd29f",
   "metadata": {},
   "source": [
    "Now, have no duplicates in our data, lets proceed further..."
   ]
  },
  {
   "cell_type": "code",
   "execution_count": 514,
   "id": "e592b148",
   "metadata": {},
   "outputs": [
    {
     "data": {
      "text/plain": [
       "(891, 6)"
      ]
     },
     "execution_count": 514,
     "metadata": {},
     "output_type": "execute_result"
    }
   ],
   "source": [
    "df.shape"
   ]
  },
  {
   "cell_type": "markdown",
   "id": "549cd8ea",
   "metadata": {},
   "source": [
    "# Categorical Columns"
   ]
  },
  {
   "cell_type": "markdown",
   "id": "935fa5e4",
   "metadata": {},
   "source": [
    "Now, lets see how many columns are categorical, note that we need to keep region as target variable for next task"
   ]
  },
  {
   "cell_type": "code",
   "execution_count": 515,
   "id": "6690e8a5",
   "metadata": {},
   "outputs": [
    {
     "data": {
      "text/plain": [
       "['primary_fuel', 'source', 'geolocation_source']"
      ]
     },
     "execution_count": 515,
     "metadata": {},
     "output_type": "execute_result"
    }
   ],
   "source": [
    "categorical_columns=[x for x in df.dtypes.index if df.dtypes[x]=='object']\n",
    "categorical_columns"
   ]
  },
  {
   "cell_type": "code",
   "execution_count": 516,
   "id": "1ba943eb",
   "metadata": {},
   "outputs": [
    {
     "data": {
      "text/html": [
       "<div>\n",
       "<style scoped>\n",
       "    .dataframe tbody tr th:only-of-type {\n",
       "        vertical-align: middle;\n",
       "    }\n",
       "\n",
       "    .dataframe tbody tr th {\n",
       "        vertical-align: top;\n",
       "    }\n",
       "\n",
       "    .dataframe thead th {\n",
       "        text-align: right;\n",
       "    }\n",
       "</style>\n",
       "<table border=\"1\" class=\"dataframe\">\n",
       "  <thead>\n",
       "    <tr style=\"text-align: right;\">\n",
       "      <th></th>\n",
       "      <th>capacity_mw</th>\n",
       "      <th>latitude</th>\n",
       "      <th>longitude</th>\n",
       "      <th>primary_fuel</th>\n",
       "      <th>source</th>\n",
       "      <th>geolocation_source</th>\n",
       "    </tr>\n",
       "  </thead>\n",
       "  <tbody>\n",
       "    <tr>\n",
       "      <th>0</th>\n",
       "      <td>2.5</td>\n",
       "      <td>28.1839</td>\n",
       "      <td>73.2407</td>\n",
       "      <td>Solar</td>\n",
       "      <td>National Renewable Energy Laboratory</td>\n",
       "      <td>National Renewable Energy Laboratory</td>\n",
       "    </tr>\n",
       "    <tr>\n",
       "      <th>1</th>\n",
       "      <td>98.0</td>\n",
       "      <td>24.7663</td>\n",
       "      <td>74.6090</td>\n",
       "      <td>Coal</td>\n",
       "      <td>Ultratech Cement ltd</td>\n",
       "      <td>WRI</td>\n",
       "    </tr>\n",
       "    <tr>\n",
       "      <th>2</th>\n",
       "      <td>39.2</td>\n",
       "      <td>21.9038</td>\n",
       "      <td>69.3732</td>\n",
       "      <td>Wind</td>\n",
       "      <td>CDM</td>\n",
       "      <td>WRI</td>\n",
       "    </tr>\n",
       "    <tr>\n",
       "      <th>3</th>\n",
       "      <td>135.0</td>\n",
       "      <td>23.8712</td>\n",
       "      <td>91.3602</td>\n",
       "      <td>Gas</td>\n",
       "      <td>Central Electricity Authority</td>\n",
       "      <td>WRI</td>\n",
       "    </tr>\n",
       "  </tbody>\n",
       "</table>\n",
       "</div>"
      ],
      "text/plain": [
       "   capacity_mw  latitude  longitude primary_fuel  \\\n",
       "0          2.5   28.1839    73.2407        Solar   \n",
       "1         98.0   24.7663    74.6090         Coal   \n",
       "2         39.2   21.9038    69.3732         Wind   \n",
       "3        135.0   23.8712    91.3602          Gas   \n",
       "\n",
       "                                 source                    geolocation_source  \n",
       "0  National Renewable Energy Laboratory  National Renewable Energy Laboratory  \n",
       "1                  Ultratech Cement ltd                                   WRI  \n",
       "2                                   CDM                                   WRI  \n",
       "3         Central Electricity Authority                                   WRI  "
      ]
     },
     "execution_count": 516,
     "metadata": {},
     "output_type": "execute_result"
    }
   ],
   "source": [
    "df.head(4)"
   ]
  },
  {
   "cell_type": "markdown",
   "id": "48fb053f",
   "metadata": {},
   "source": [
    "With heavy heart, lets delete the column source also, as it is also not contributing anything to our dataset, it is just an organisation name reporting the data"
   ]
  },
  {
   "cell_type": "code",
   "execution_count": 517,
   "id": "6872098d",
   "metadata": {},
   "outputs": [],
   "source": [
    "df.drop(columns=['source'],axis=1,inplace=True)"
   ]
  },
  {
   "cell_type": "code",
   "execution_count": 518,
   "id": "b7de3be6",
   "metadata": {},
   "outputs": [
    {
     "data": {
      "text/html": [
       "<div>\n",
       "<style scoped>\n",
       "    .dataframe tbody tr th:only-of-type {\n",
       "        vertical-align: middle;\n",
       "    }\n",
       "\n",
       "    .dataframe tbody tr th {\n",
       "        vertical-align: top;\n",
       "    }\n",
       "\n",
       "    .dataframe thead th {\n",
       "        text-align: right;\n",
       "    }\n",
       "</style>\n",
       "<table border=\"1\" class=\"dataframe\">\n",
       "  <thead>\n",
       "    <tr style=\"text-align: right;\">\n",
       "      <th></th>\n",
       "      <th>capacity_mw</th>\n",
       "      <th>latitude</th>\n",
       "      <th>longitude</th>\n",
       "      <th>primary_fuel</th>\n",
       "      <th>geolocation_source</th>\n",
       "    </tr>\n",
       "  </thead>\n",
       "  <tbody>\n",
       "    <tr>\n",
       "      <th>0</th>\n",
       "      <td>2.5</td>\n",
       "      <td>28.1839</td>\n",
       "      <td>73.2407</td>\n",
       "      <td>Solar</td>\n",
       "      <td>National Renewable Energy Laboratory</td>\n",
       "    </tr>\n",
       "    <tr>\n",
       "      <th>1</th>\n",
       "      <td>98.0</td>\n",
       "      <td>24.7663</td>\n",
       "      <td>74.6090</td>\n",
       "      <td>Coal</td>\n",
       "      <td>WRI</td>\n",
       "    </tr>\n",
       "    <tr>\n",
       "      <th>2</th>\n",
       "      <td>39.2</td>\n",
       "      <td>21.9038</td>\n",
       "      <td>69.3732</td>\n",
       "      <td>Wind</td>\n",
       "      <td>WRI</td>\n",
       "    </tr>\n",
       "    <tr>\n",
       "      <th>3</th>\n",
       "      <td>135.0</td>\n",
       "      <td>23.8712</td>\n",
       "      <td>91.3602</td>\n",
       "      <td>Gas</td>\n",
       "      <td>WRI</td>\n",
       "    </tr>\n",
       "  </tbody>\n",
       "</table>\n",
       "</div>"
      ],
      "text/plain": [
       "   capacity_mw  latitude  longitude primary_fuel  \\\n",
       "0          2.5   28.1839    73.2407        Solar   \n",
       "1         98.0   24.7663    74.6090         Coal   \n",
       "2         39.2   21.9038    69.3732         Wind   \n",
       "3        135.0   23.8712    91.3602          Gas   \n",
       "\n",
       "                     geolocation_source  \n",
       "0  National Renewable Energy Laboratory  \n",
       "1                                   WRI  \n",
       "2                                   WRI  \n",
       "3                                   WRI  "
      ]
     },
     "execution_count": 518,
     "metadata": {},
     "output_type": "execute_result"
    }
   ],
   "source": [
    "df.head(4)"
   ]
  },
  {
   "cell_type": "code",
   "execution_count": 519,
   "id": "1477ce9f",
   "metadata": {},
   "outputs": [
    {
     "data": {
      "text/plain": [
       "{'Industry About', 'National Renewable Energy Laboratory', 'WRI'}"
      ]
     },
     "execution_count": 519,
     "metadata": {},
     "output_type": "execute_result"
    }
   ],
   "source": [
    "set(df['geolocation_source'])"
   ]
  },
  {
   "cell_type": "markdown",
   "id": "46e041d8",
   "metadata": {},
   "source": [
    "We have two three type of geolocation_source, \n",
    "\n",
    "- a) Industry About \n",
    "- b) National Renewable Energy Laboratory\n",
    "- c) WRI\n",
    "\n",
    "Lets check the count of these three  geolocation_source."
   ]
  },
  {
   "cell_type": "code",
   "execution_count": 520,
   "id": "be84cb3e",
   "metadata": {},
   "outputs": [
    {
     "data": {
      "text/plain": [
       "<AxesSubplot:xlabel='geolocation_source', ylabel='count'>"
      ]
     },
     "execution_count": 520,
     "metadata": {},
     "output_type": "execute_result"
    },
    {
     "data": {
      "image/png": "[encoded data removed]",
      "text/plain": [
       "<Figure size 432x288 with 1 Axes>"
      ]
     },
     "metadata": {
      "needs_background": "light"
     },
     "output_type": "display_data"
    }
   ],
   "source": [
    "sns.countplot(df['geolocation_source'])"
   ]
  },
  {
   "cell_type": "code",
   "execution_count": 521,
   "id": "ae7644a5",
   "metadata": {},
   "outputs": [
    {
     "name": "stdout",
     "output_type": "stream",
     "text": [
      "Count of geolocation_source\n",
      "Total number of geolocation_source :  3\n"
     ]
    },
    {
     "data": {
      "text/plain": [
       "WRI                                     768\n",
       "Industry About                          119\n",
       "National Renewable Energy Laboratory      4\n",
       "Name: geolocation_source, dtype: int64"
      ]
     },
     "execution_count": 521,
     "metadata": {},
     "output_type": "execute_result"
    }
   ],
   "source": [
    "print('Count of geolocation_source')\n",
    "print(\"Total number of geolocation_source : \",df['geolocation_source'].nunique())\n",
    "geolocation_source_counts = df['geolocation_source'].value_counts()\n",
    "geolocation_source_counts"
   ]
  },
  {
   "cell_type": "code",
   "execution_count": 522,
   "id": "7f36f24b",
   "metadata": {},
   "outputs": [
    {
     "name": "stdout",
     "output_type": "stream",
     "text": [
      "Count of primary_fuel\n",
      "Total number of primary_fuel :  8\n"
     ]
    },
    {
     "data": {
      "text/plain": [
       "Coal       258\n",
       "Hydro      239\n",
       "Solar      125\n",
       "Wind       121\n",
       "Gas         69\n",
       "Biomass     50\n",
       "Oil         20\n",
       "Nuclear      9\n",
       "Name: primary_fuel, dtype: int64"
      ]
     },
     "execution_count": 522,
     "metadata": {},
     "output_type": "execute_result"
    }
   ],
   "source": [
    "print('Count of primary_fuel')\n",
    "print(\"Total number of primary_fuel : \",df['primary_fuel'].nunique())\n",
    "primary_fuel_counts = df['primary_fuel'].value_counts()\n",
    "primary_fuel_counts"
   ]
  },
  {
   "cell_type": "code",
   "execution_count": 523,
   "id": "aa189943",
   "metadata": {},
   "outputs": [
    {
     "data": {
      "application/vnd.plotly.v1+json": {
       "config": {
        "linkText": "Export to plot.ly",
        "plotlyServerURL": "https://plot.ly",
        "showLink": false
       },
       "data": [
        {
         "labels": [
          "Industry About",
          "National Renewable Energy Laboratory",
          "WRI"
         ],
         "type": "pie",
         "values": [
          119,
          4,
          768
         ]
        }
       ],
       "layout": {
        "template": {
         "data": {
          "bar": [
           {
            "error_x": {
             "color": "#2a3f5f"
            },
            "error_y": {
             "color": "#2a3f5f"
            },
            "marker": {
             "line": {
              "color": "#E5ECF6",
              "width": 0.5
             },
             "pattern": {
              "fillmode": "overlay",
              "size": 10,
              "solidity": 0.2
             }
            },
            "type": "bar"
           }
          ],
          "barpolar": [
           {
            "marker": {
             "line": {
              "color": "#E5ECF6",
              "width": 0.5
             },
             "pattern": {
              "fillmode": "overlay",
              "size": 10,
              "solidity": 0.2
             }
            },
            "type": "barpolar"
           }
          ],
          "carpet": [
           {
            "aaxis": {
             "endlinecolor": "#2a3f5f",
             "gridcolor": "white",
             "linecolor": "white",
             "minorgridcolor": "white",
             "startlinecolor": "#2a3f5f"
            },
            "baxis": {
             "endlinecolor": "#2a3f5f",
             "gridcolor": "white",
             "linecolor": "white",
             "minorgridcolor": "white",
             "startlinecolor": "#2a3f5f"
            },
            "type": "carpet"
           }
          ],
          "choropleth": [
           {
            "colorbar": {
             "outlinewidth": 0,
             "ticks": ""
            },
            "type": "choropleth"
           }
          ],
          "contour": [
           {
            "colorbar": {
             "outlinewidth": 0,
             "ticks": ""
            },
            "colorscale": [
             [
              0,
              "#0d0887"
             ],
             [
              0.1111111111111111,
              "#46039f"
             ],
             [
              0.2222222222222222,
              "#7201a8"
             ],
             [
              0.3333333333333333,
              "#9c179e"
             ],
             [
              0.4444444444444444,
              "#bd3786"
             ],
             [
              0.5555555555555556,
              "#d8576b"
             ],
             [
              0.6666666666666666,
              "#ed7953"
             ],
             [
              0.7777777777777778,
              "#fb9f3a"
             ],
             [
              0.8888888888888888,
              "#fdca26"
             ],
             [
              1,
              "#f0f921"
             ]
            ],
            "type": "contour"
           }
          ],
          "contourcarpet": [
           {
            "colorbar": {
             "outlinewidth": 0,
             "ticks": ""
            },
            "type": "contourcarpet"
           }
          ],
          "heatmap": [
           {
            "colorbar": {
             "outlinewidth": 0,
             "ticks": ""
            },
            "colorscale": [
             [
              0,
              "#0d0887"
             ],
             [
              0.1111111111111111,
              "#46039f"
             ],
             [
              0.2222222222222222,
              "#7201a8"
             ],
             [
              0.3333333333333333,
              "#9c179e"
             ],
             [
              0.4444444444444444,
              "#bd3786"
             ],
             [
              0.5555555555555556,
              "#d8576b"
             ],
             [
              0.6666666666666666,
              "#ed7953"
             ],
             [
              0.7777777777777778,
              "#fb9f3a"
             ],
             [
              0.8888888888888888,
              "#fdca26"
             ],
             [
              1,
              "#f0f921"
             ]
            ],
            "type": "heatmap"
           }
          ],
          "heatmapgl": [
           {
            "colorbar": {
             "outlinewidth": 0,
             "ticks": ""
            },
            "colorscale": [
             [
              0,
              "#0d0887"
             ],
             [
              0.1111111111111111,
              "#46039f"
             ],
             [
              0.2222222222222222,
              "#7201a8"
             ],
             [
              0.3333333333333333,
              "#9c179e"
             ],
             [
              0.4444444444444444,
              "#bd3786"
             ],
             [
              0.5555555555555556,
              "#d8576b"
             ],
             [
              0.6666666666666666,
              "#ed7953"
             ],
             [
              0.7777777777777778,
              "#fb9f3a"
             ],
             [
              0.8888888888888888,
              "#fdca26"
             ],
             [
              1,
              "#f0f921"
             ]
            ],
            "type": "heatmapgl"
           }
          ],
          "histogram": [
           {
            "marker": {
             "pattern": {
              "fillmode": "overlay",
              "size": 10,
              "solidity": 0.2
             }
            },
            "type": "histogram"
           }
          ],
          "histogram2d": [
           {
            "colorbar": {
             "outlinewidth": 0,
             "ticks": ""
            },
            "colorscale": [
             [
              0,
              "#0d0887"
             ],
             [
              0.1111111111111111,
              "#46039f"
             ],
             [
              0.2222222222222222,
              "#7201a8"
             ],
             [
              0.3333333333333333,
              "#9c179e"
             ],
             [
              0.4444444444444444,
              "#bd3786"
             ],
             [
              0.5555555555555556,
              "#d8576b"
             ],
             [
              0.6666666666666666,
              "#ed7953"
             ],
             [
              0.7777777777777778,
              "#fb9f3a"
             ],
             [
              0.8888888888888888,
              "#fdca26"
             ],
             [
              1,
              "#f0f921"
             ]
            ],
            "type": "histogram2d"
           }
          ],
          "histogram2dcontour": [
           {
            "colorbar": {
             "outlinewidth": 0,
             "ticks": ""
            },
            "colorscale": [
             [
              0,
              "#0d0887"
             ],
             [
              0.1111111111111111,
              "#46039f"
             ],
             [
              0.2222222222222222,
              "#7201a8"
             ],
             [
              0.3333333333333333,
              "#9c179e"
             ],
             [
              0.4444444444444444,
              "#bd3786"
             ],
             [
              0.5555555555555556,
              "#d8576b"
             ],
             [
              0.6666666666666666,
              "#ed7953"
             ],
             [
              0.7777777777777778,
              "#fb9f3a"
             ],
             [
              0.8888888888888888,
              "#fdca26"
             ],
             [
              1,
              "#f0f921"
             ]
            ],
            "type": "histogram2dcontour"
           }
          ],
          "mesh3d": [
           {
            "colorbar": {
             "outlinewidth": 0,
             "ticks": ""
            },
            "type": "mesh3d"
           }
          ],
          "parcoords": [
           {
            "line": {
             "colorbar": {
              "outlinewidth": 0,
              "ticks": ""
             }
            },
            "type": "parcoords"
           }
          ],
          "pie": [
           {
            "automargin": true,
            "type": "pie"
           }
          ],
          "scatter": [
           {
            "marker": {
             "colorbar": {
              "outlinewidth": 0,
              "ticks": ""
             }
            },
            "type": "scatter"
           }
          ],
          "scatter3d": [
           {
            "line": {
             "colorbar": {
              "outlinewidth": 0,
              "ticks": ""
             }
            },
            "marker": {
             "colorbar": {
              "outlinewidth": 0,
              "ticks": ""
             }
            },
            "type": "scatter3d"
           }
          ],
          "scattercarpet": [
           {
            "marker": {
             "colorbar": {
              "outlinewidth": 0,
              "ticks": ""
             }
            },
            "type": "scattercarpet"
           }
          ],
          "scattergeo": [
           {
            "marker": {
             "colorbar": {
              "outlinewidth": 0,
              "ticks": ""
             }
            },
            "type": "scattergeo"
           }
          ],
          "scattergl": [
           {
            "marker": {
             "colorbar": {
              "outlinewidth": 0,
              "ticks": ""
             }
            },
            "type": "scattergl"
           }
          ],
          "scattermapbox": [
           {
            "marker": {
             "colorbar": {
              "outlinewidth": 0,
              "ticks": ""
             }
            },
            "type": "scattermapbox"
           }
          ],
          "scatterpolar": [
           {
            "marker": {
             "colorbar": {
              "outlinewidth": 0,
              "ticks": ""
             }
            },
            "type": "scatterpolar"
           }
          ],
          "scatterpolargl": [
           {
            "marker": {
             "colorbar": {
              "outlinewidth": 0,
              "ticks": ""
             }
            },
            "type": "scatterpolargl"
           }
          ],
          "scatterternary": [
           {
            "marker": {
             "colorbar": {
              "outlinewidth": 0,
              "ticks": ""
             }
            },
            "type": "scatterternary"
           }
          ],
          "surface": [
           {
            "colorbar": {
             "outlinewidth": 0,
             "ticks": ""
            },
            "colorscale": [
             [
              0,
              "#0d0887"
             ],
             [
              0.1111111111111111,
              "#46039f"
             ],
             [
              0.2222222222222222,
              "#7201a8"
             ],
             [
              0.3333333333333333,
              "#9c179e"
             ],
             [
              0.4444444444444444,
              "#bd3786"
             ],
             [
              0.5555555555555556,
              "#d8576b"
             ],
             [
              0.6666666666666666,
              "#ed7953"
             ],
             [
              0.7777777777777778,
              "#fb9f3a"
             ],
             [
              0.8888888888888888,
              "#fdca26"
             ],
             [
              1,
              "#f0f921"
             ]
            ],
            "type": "surface"
           }
          ],
          "table": [
           {
            "cells": {
             "fill": {
              "color": "#EBF0F8"
             },
             "line": {
              "color": "white"
             }
            },
            "header": {
             "fill": {
              "color": "#C8D4E3"
             },
             "line": {
              "color": "white"
             }
            },
            "type": "table"
           }
          ]
         },
         "layout": {
          "annotationdefaults": {
           "arrowcolor": "#2a3f5f",
           "arrowhead": 0,
           "arrowwidth": 1
          },
          "autotypenumbers": "strict",
          "coloraxis": {
           "colorbar": {
            "outlinewidth": 0,
            "ticks": ""
           }
          },
          "colorscale": {
           "diverging": [
            [
             0,
             "#8e0152"
            ],
            [
             0.1,
             "#c51b7d"
            ],
            [
             0.2,
             "#de77ae"
            ],
            [
             0.3,
             "#f1b6da"
            ],
            [
             0.4,
             "#fde0ef"
            ],
            [
             0.5,
             "#f7f7f7"
            ],
            [
             0.6,
             "#e6f5d0"
            ],
            [
             0.7,
             "#b8e186"
            ],
            [
             0.8,
             "#7fbc41"
            ],
            [
             0.9,
             "#4d9221"
            ],
            [
             1,
             "#276419"
            ]
           ],
           "sequential": [
            [
             0,
             "#0d0887"
            ],
            [
             0.1111111111111111,
             "#46039f"
            ],
            [
             0.2222222222222222,
             "#7201a8"
            ],
            [
             0.3333333333333333,
             "#9c179e"
            ],
            [
             0.4444444444444444,
             "#bd3786"
            ],
            [
             0.5555555555555556,
             "#d8576b"
            ],
            [
             0.6666666666666666,
             "#ed7953"
            ],
            [
             0.7777777777777778,
             "#fb9f3a"
            ],
            [
             0.8888888888888888,
             "#fdca26"
            ],
            [
             1,
             "#f0f921"
            ]
           ],
           "sequentialminus": [
            [
             0,
             "#0d0887"
            ],
            [
             0.1111111111111111,
             "#46039f"
            ],
            [
             0.2222222222222222,
             "#7201a8"
            ],
            [
             0.3333333333333333,
             "#9c179e"
            ],
            [
             0.4444444444444444,
             "#bd3786"
            ],
            [
             0.5555555555555556,
             "#d8576b"
            ],
            [
             0.6666666666666666,
             "#ed7953"
            ],
            [
             0.7777777777777778,
             "#fb9f3a"
            ],
            [
             0.8888888888888888,
             "#fdca26"
            ],
            [
             1,
             "#f0f921"
            ]
           ]
          },
          "colorway": [
           "#636efa",
           "#EF553B",
           "#00cc96",
           "#ab63fa",
           "#FFA15A",
           "#19d3f3",
           "#FF6692",
           "#B6E880",
           "#FF97FF",
           "#FECB52"
          ],
          "font": {
           "color": "#2a3f5f"
          },
          "geo": {
           "bgcolor": "white",
           "lakecolor": "white",
           "landcolor": "#E5ECF6",
           "showlakes": true,
           "showland": true,
           "subunitcolor": "white"
          },
          "hoverlabel": {
           "align": "left"
          },
          "hovermode": "closest",
          "mapbox": {
           "style": "light"
          },
          "paper_bgcolor": "white",
          "plot_bgcolor": "#E5ECF6",
          "polar": {
           "angularaxis": {
            "gridcolor": "white",
            "linecolor": "white",
            "ticks": ""
           },
           "bgcolor": "#E5ECF6",
           "radialaxis": {
            "gridcolor": "white",
            "linecolor": "white",
            "ticks": ""
           }
          },
          "scene": {
           "xaxis": {
            "backgroundcolor": "#E5ECF6",
            "gridcolor": "white",
            "gridwidth": 2,
            "linecolor": "white",
            "showbackground": true,
            "ticks": "",
            "zerolinecolor": "white"
           },
           "yaxis": {
            "backgroundcolor": "#E5ECF6",
            "gridcolor": "white",
            "gridwidth": 2,
            "linecolor": "white",
            "showbackground": true,
            "ticks": "",
            "zerolinecolor": "white"
           },
           "zaxis": {
            "backgroundcolor": "#E5ECF6",
            "gridcolor": "white",
            "gridwidth": 2,
            "linecolor": "white",
            "showbackground": true,
            "ticks": "",
            "zerolinecolor": "white"
           }
          },
          "shapedefaults": {
           "line": {
            "color": "#2a3f5f"
           }
          },
          "ternary": {
           "aaxis": {
            "gridcolor": "white",
            "linecolor": "white",
            "ticks": ""
           },
           "baxis": {
            "gridcolor": "white",
            "linecolor": "white",
            "ticks": ""
           },
           "bgcolor": "#E5ECF6",
           "caxis": {
            "gridcolor": "white",
            "linecolor": "white",
            "ticks": ""
           }
          },
          "title": {
           "x": 0.05
          },
          "xaxis": {
           "automargin": true,
           "gridcolor": "white",
           "linecolor": "white",
           "ticks": "",
           "title": {
            "standoff": 15
           },
           "zerolinecolor": "white",
           "zerolinewidth": 2
          },
          "yaxis": {
           "automargin": true,
           "gridcolor": "white",
           "linecolor": "white",
           "ticks": "",
           "title": {
            "standoff": 15
           },
           "zerolinecolor": "white",
           "zerolinewidth": 2
          }
         }
        }
       }
      },
      "text/html": [
       "<div>                            <div id=\"1a9fdf7a-75d0-4b36-b023-c41e92cb6092\" class=\"plotly-graph-div\" style=\"height:525px; width:100%;\"></div>            <script type=\"text/javascript\">                require([\"plotly\"], function(Plotly) {                    window.PLOTLYENV=window.PLOTLYENV || {};                                    if (document.getElementById(\"1a9fdf7a-75d0-4b36-b023-c41e92cb6092\")) {                    Plotly.newPlot(                        \"1a9fdf7a-75d0-4b36-b023-c41e92cb6092\",                        [{\"labels\":[\"Industry About\",\"National Renewable Energy Laboratory\",\"WRI\"],\"values\":[119,4,768],\"type\":\"pie\"}],                        {\"template\":{\"data\":{\"barpolar\":[{\"marker\":{\"line\":{\"color\":\"#E5ECF6\",\"width\":0.5},\"pattern\":{\"fillmode\":\"overlay\",\"size\":10,\"solidity\":0.2}},\"type\":\"barpolar\"}],\"bar\":[{\"error_x\":{\"color\":\"#2a3f5f\"},\"error_y\":{\"color\":\"#2a3f5f\"},\"marker\":{\"line\":{\"color\":\"#E5ECF6\",\"width\":0.5},\"pattern\":{\"fillmode\":\"overlay\",\"size\":10,\"solidity\":0.2}},\"type\":\"bar\"}],\"carpet\":[{\"aaxis\":{\"endlinecolor\":\"#2a3f5f\",\"gridcolor\":\"white\",\"linecolor\":\"white\",\"minorgridcolor\":\"white\",\"startlinecolor\":\"#2a3f5f\"},\"baxis\":{\"endlinecolor\":\"#2a3f5f\",\"gridcolor\":\"white\",\"linecolor\":\"white\",\"minorgridcolor\":\"white\",\"startlinecolor\":\"#2a3f5f\"},\"type\":\"carpet\"}],\"choropleth\":[{\"colorbar\":{\"outlinewidth\":0,\"ticks\":\"\"},\"type\":\"choropleth\"}],\"contourcarpet\":[{\"colorbar\":{\"outlinewidth\":0,\"ticks\":\"\"},\"type\":\"contourcarpet\"}],\"contour\":[{\"colorbar\":{\"outlinewidth\":0,\"ticks\":\"\"},\"colorscale\":[[0.0,\"#0d0887\"],[0.1111111111111111,\"#46039f\"],[0.2222222222222222,\"#7201a8\"],[0.3333333333333333,\"#9c179e\"],[0.4444444444444444,\"#bd3786\"],[0.5555555555555556,\"#d8576b\"],[0.6666666666666666,\"#ed7953\"],[0.7777777777777778,\"#fb9f3a\"],[0.8888888888888888,\"#fdca26\"],[1.0,\"#f0f921\"]],\"type\":\"contour\"}],\"heatmapgl\":[{\"colorbar\":{\"outlinewidth\":0,\"ticks\":\"\"},\"colorscale\":[[0.0,\"#0d0887\"],[0.1111111111111111,\"#46039f\"],[0.2222222222222222,\"#7201a8\"],[0.3333333333333333,\"#9c179e\"],[0.4444444444444444,\"#bd3786\"],[0.5555555555555556,\"#d8576b\"],[0.6666666666666666,\"#ed7953\"],[0.7777777777777778,\"#fb9f3a\"],[0.8888888888888888,\"#fdca26\"],[1.0,\"#f0f921\"]],\"type\":\"heatmapgl\"}],\"heatmap\":[{\"colorbar\":{\"outlinewidth\":0,\"ticks\":\"\"},\"colorscale\":[[0.0,\"#0d0887\"],[0.1111111111111111,\"#46039f\"],[0.2222222222222222,\"#7201a8\"],[0.3333333333333333,\"#9c179e\"],[0.4444444444444444,\"#bd3786\"],[0.5555555555555556,\"#d8576b\"],[0.6666666666666666,\"#ed7953\"],[0.7777777777777778,\"#fb9f3a\"],[0.8888888888888888,\"#fdca26\"],[1.0,\"#f0f921\"]],\"type\":\"heatmap\"}],\"histogram2dcontour\":[{\"colorbar\":{\"outlinewidth\":0,\"ticks\":\"\"},\"colorscale\":[[0.0,\"#0d0887\"],[0.1111111111111111,\"#46039f\"],[0.2222222222222222,\"#7201a8\"],[0.3333333333333333,\"#9c179e\"],[0.4444444444444444,\"#bd3786\"],[0.5555555555555556,\"#d8576b\"],[0.6666666666666666,\"#ed7953\"],[0.7777777777777778,\"#fb9f3a\"],[0.8888888888888888,\"#fdca26\"],[1.0,\"#f0f921\"]],\"type\":\"histogram2dcontour\"}],\"histogram2d\":[{\"colorbar\":{\"outlinewidth\":0,\"ticks\":\"\"},\"colorscale\":[[0.0,\"#0d0887\"],[0.1111111111111111,\"#46039f\"],[0.2222222222222222,\"#7201a8\"],[0.3333333333333333,\"#9c179e\"],[0.4444444444444444,\"#bd3786\"],[0.5555555555555556,\"#d8576b\"],[0.6666666666666666,\"#ed7953\"],[0.7777777777777778,\"#fb9f3a\"],[0.8888888888888888,\"#fdca26\"],[1.0,\"#f0f921\"]],\"type\":\"histogram2d\"}],\"histogram\":[{\"marker\":{\"pattern\":{\"fillmode\":\"overlay\",\"size\":10,\"solidity\":0.2}},\"type\":\"histogram\"}],\"mesh3d\":[{\"colorbar\":{\"outlinewidth\":0,\"ticks\":\"\"},\"type\":\"mesh3d\"}],\"parcoords\":[{\"line\":{\"colorbar\":{\"outlinewidth\":0,\"ticks\":\"\"}},\"type\":\"parcoords\"}],\"pie\":[{\"automargin\":true,\"type\":\"pie\"}],\"scatter3d\":[{\"line\":{\"colorbar\":{\"outlinewidth\":0,\"ticks\":\"\"}},\"marker\":{\"colorbar\":{\"outlinewidth\":0,\"ticks\":\"\"}},\"type\":\"scatter3d\"}],\"scattercarpet\":[{\"marker\":{\"colorbar\":{\"outlinewidth\":0,\"ticks\":\"\"}},\"type\":\"scattercarpet\"}],\"scattergeo\":[{\"marker\":{\"colorbar\":{\"outlinewidth\":0,\"ticks\":\"\"}},\"type\":\"scattergeo\"}],\"scattergl\":[{\"marker\":{\"colorbar\":{\"outlinewidth\":0,\"ticks\":\"\"}},\"type\":\"scattergl\"}],\"scattermapbox\":[{\"marker\":{\"colorbar\":{\"outlinewidth\":0,\"ticks\":\"\"}},\"type\":\"scattermapbox\"}],\"scatterpolargl\":[{\"marker\":{\"colorbar\":{\"outlinewidth\":0,\"ticks\":\"\"}},\"type\":\"scatterpolargl\"}],\"scatterpolar\":[{\"marker\":{\"colorbar\":{\"outlinewidth\":0,\"ticks\":\"\"}},\"type\":\"scatterpolar\"}],\"scatter\":[{\"marker\":{\"colorbar\":{\"outlinewidth\":0,\"ticks\":\"\"}},\"type\":\"scatter\"}],\"scatterternary\":[{\"marker\":{\"colorbar\":{\"outlinewidth\":0,\"ticks\":\"\"}},\"type\":\"scatterternary\"}],\"surface\":[{\"colorbar\":{\"outlinewidth\":0,\"ticks\":\"\"},\"colorscale\":[[0.0,\"#0d0887\"],[0.1111111111111111,\"#46039f\"],[0.2222222222222222,\"#7201a8\"],[0.3333333333333333,\"#9c179e\"],[0.4444444444444444,\"#bd3786\"],[0.5555555555555556,\"#d8576b\"],[0.6666666666666666,\"#ed7953\"],[0.7777777777777778,\"#fb9f3a\"],[0.8888888888888888,\"#fdca26\"],[1.0,\"#f0f921\"]],\"type\":\"surface\"}],\"table\":[{\"cells\":{\"fill\":{\"color\":\"#EBF0F8\"},\"line\":{\"color\":\"white\"}},\"header\":{\"fill\":{\"color\":\"#C8D4E3\"},\"line\":{\"color\":\"white\"}},\"type\":\"table\"}]},\"layout\":{\"annotationdefaults\":{\"arrowcolor\":\"#2a3f5f\",\"arrowhead\":0,\"arrowwidth\":1},\"autotypenumbers\":\"strict\",\"coloraxis\":{\"colorbar\":{\"outlinewidth\":0,\"ticks\":\"\"}},\"colorscale\":{\"diverging\":[[0,\"#8e0152\"],[0.1,\"#c51b7d\"],[0.2,\"#de77ae\"],[0.3,\"#f1b6da\"],[0.4,\"#fde0ef\"],[0.5,\"#f7f7f7\"],[0.6,\"#e6f5d0\"],[0.7,\"#b8e186\"],[0.8,\"#7fbc41\"],[0.9,\"#4d9221\"],[1,\"#276419\"]],\"sequential\":[[0.0,\"#0d0887\"],[0.1111111111111111,\"#46039f\"],[0.2222222222222222,\"#7201a8\"],[0.3333333333333333,\"#9c179e\"],[0.4444444444444444,\"#bd3786\"],[0.5555555555555556,\"#d8576b\"],[0.6666666666666666,\"#ed7953\"],[0.7777777777777778,\"#fb9f3a\"],[0.8888888888888888,\"#fdca26\"],[1.0,\"#f0f921\"]],\"sequentialminus\":[[0.0,\"#0d0887\"],[0.1111111111111111,\"#46039f\"],[0.2222222222222222,\"#7201a8\"],[0.3333333333333333,\"#9c179e\"],[0.4444444444444444,\"#bd3786\"],[0.5555555555555556,\"#d8576b\"],[0.6666666666666666,\"#ed7953\"],[0.7777777777777778,\"#fb9f3a\"],[0.8888888888888888,\"#fdca26\"],[1.0,\"#f0f921\"]]},\"colorway\":[\"#636efa\",\"#EF553B\",\"#00cc96\",\"#ab63fa\",\"#FFA15A\",\"#19d3f3\",\"#FF6692\",\"#B6E880\",\"#FF97FF\",\"#FECB52\"],\"font\":{\"color\":\"#2a3f5f\"},\"geo\":{\"bgcolor\":\"white\",\"lakecolor\":\"white\",\"landcolor\":\"#E5ECF6\",\"showlakes\":true,\"showland\":true,\"subunitcolor\":\"white\"},\"hoverlabel\":{\"align\":\"left\"},\"hovermode\":\"closest\",\"mapbox\":{\"style\":\"light\"},\"paper_bgcolor\":\"white\",\"plot_bgcolor\":\"#E5ECF6\",\"polar\":{\"angularaxis\":{\"gridcolor\":\"white\",\"linecolor\":\"white\",\"ticks\":\"\"},\"bgcolor\":\"#E5ECF6\",\"radialaxis\":{\"gridcolor\":\"white\",\"linecolor\":\"white\",\"ticks\":\"\"}},\"scene\":{\"xaxis\":{\"backgroundcolor\":\"#E5ECF6\",\"gridcolor\":\"white\",\"gridwidth\":2,\"linecolor\":\"white\",\"showbackground\":true,\"ticks\":\"\",\"zerolinecolor\":\"white\"},\"yaxis\":{\"backgroundcolor\":\"#E5ECF6\",\"gridcolor\":\"white\",\"gridwidth\":2,\"linecolor\":\"white\",\"showbackground\":true,\"ticks\":\"\",\"zerolinecolor\":\"white\"},\"zaxis\":{\"backgroundcolor\":\"#E5ECF6\",\"gridcolor\":\"white\",\"gridwidth\":2,\"linecolor\":\"white\",\"showbackground\":true,\"ticks\":\"\",\"zerolinecolor\":\"white\"}},\"shapedefaults\":{\"line\":{\"color\":\"#2a3f5f\"}},\"ternary\":{\"aaxis\":{\"gridcolor\":\"white\",\"linecolor\":\"white\",\"ticks\":\"\"},\"baxis\":{\"gridcolor\":\"white\",\"linecolor\":\"white\",\"ticks\":\"\"},\"bgcolor\":\"#E5ECF6\",\"caxis\":{\"gridcolor\":\"white\",\"linecolor\":\"white\",\"ticks\":\"\"}},\"title\":{\"x\":0.05},\"xaxis\":{\"automargin\":true,\"gridcolor\":\"white\",\"linecolor\":\"white\",\"ticks\":\"\",\"title\":{\"standoff\":15},\"zerolinecolor\":\"white\",\"zerolinewidth\":2},\"yaxis\":{\"automargin\":true,\"gridcolor\":\"white\",\"linecolor\":\"white\",\"ticks\":\"\",\"title\":{\"standoff\":15},\"zerolinecolor\":\"white\",\"zerolinewidth\":2}}}},                        {\"responsive\": true}                    ).then(function(){\n",
       "                            \n",
       "var gd = document.getElementById('1a9fdf7a-75d0-4b36-b023-c41e92cb6092');\n",
       "var x = new MutationObserver(function (mutations, observer) {{\n",
       "        var display = window.getComputedStyle(gd).display;\n",
       "        if (!display || display === 'none') {{\n",
       "            console.log([gd, 'removed!']);\n",
       "            Plotly.purge(gd);\n",
       "            observer.disconnect();\n",
       "        }}\n",
       "}});\n",
       "\n",
       "// Listen for the removal of the full notebook cells\n",
       "var notebookContainer = gd.closest('#notebook-container');\n",
       "if (notebookContainer) {{\n",
       "    x.observe(notebookContainer, {childList: true});\n",
       "}}\n",
       "\n",
       "// Listen for the clearing of the current output cell\n",
       "var outputEl = gd.closest('.output');\n",
       "if (outputEl) {{\n",
       "    x.observe(outputEl, {childList: true});\n",
       "}}\n",
       "\n",
       "                        })                };                });            </script>        </div>"
      ]
     },
     "metadata": {},
     "output_type": "display_data"
    }
   ],
   "source": [
    "import plotly.offline as py\n",
    "import plotly.graph_objs as go\n",
    "geolocationSource=[geolocation_source_counts['Industry About'],\n",
    "       geolocation_source_counts['National Renewable Energy Laboratory'],\n",
    "       geolocation_source_counts['WRI']\n",
    "      ]\n",
    "data_label=['Industry About', 'National Renewable Energy Laboratory', 'WRI']\n",
    "\n",
    "geolocationSource_pieChart=go.Pie(labels=data_label,values=geolocationSource)\n",
    "py.iplot([geolocationSource_pieChart])"
   ]
  },
  {
   "cell_type": "markdown",
   "id": "684dfe70",
   "metadata": {},
   "source": [
    "Only 2.81% data are Organic and remaining 97.2% data is conventional. So this column will not have any major impact on our data, if we drop this also, it will not impact to our data.\n",
    "\n",
    "Also, we have divided Date into Month, year and date. So there is no point in keeping the date column.\n",
    "\n",
    "For now, we can delete the region column also, as we will use this for data analysis further for the classification problem"
   ]
  },
  {
   "cell_type": "code",
   "execution_count": 65,
   "id": "ec7d018f",
   "metadata": {},
   "outputs": [
    {
     "data": {
      "text/plain": [
       "Coal       258\n",
       "Hydro      239\n",
       "Solar      125\n",
       "Wind       121\n",
       "Gas         69\n",
       "Biomass     50\n",
       "Oil         20\n",
       "Nuclear      9\n",
       "Name: primary_fuel, dtype: int64"
      ]
     },
     "execution_count": 65,
     "metadata": {},
     "output_type": "execute_result"
    }
   ],
   "source": [
    "primary_fuel_counts"
   ]
  },
  {
   "cell_type": "code",
   "execution_count": 66,
   "id": "25efbbf6",
   "metadata": {},
   "outputs": [
    {
     "data": {
      "application/vnd.plotly.v1+json": {
       "config": {
        "linkText": "Export to plot.ly",
        "plotlyServerURL": "https://plot.ly",
        "showLink": false
       },
       "data": [
        {
         "labels": [
          "Coal",
          "Hydro",
          "Solar",
          "Wind",
          "Gas",
          "Biomass",
          "Oil",
          "Nuclear"
         ],
         "type": "pie",
         "values": [
          258,
          239,
          125,
          121,
          69,
          50,
          20,
          9
         ]
        }
       ],
       "layout": {
        "template": {
         "data": {
          "bar": [
           {
            "error_x": {
             "color": "#2a3f5f"
            },
            "error_y": {
             "color": "#2a3f5f"
            },
            "marker": {
             "line": {
              "color": "#E5ECF6",
              "width": 0.5
             },
             "pattern": {
              "fillmode": "overlay",
              "size": 10,
              "solidity": 0.2
             }
            },
            "type": "bar"
           }
          ],
          "barpolar": [
           {
            "marker": {
             "line": {
              "color": "#E5ECF6",
              "width": 0.5
             },
             "pattern": {
              "fillmode": "overlay",
              "size": 10,
              "solidity": 0.2
             }
            },
            "type": "barpolar"
           }
          ],
          "carpet": [
           {
            "aaxis": {
             "endlinecolor": "#2a3f5f",
             "gridcolor": "white",
             "linecolor": "white",
             "minorgridcolor": "white",
             "startlinecolor": "#2a3f5f"
            },
            "baxis": {
             "endlinecolor": "#2a3f5f",
             "gridcolor": "white",
             "linecolor": "white",
             "minorgridcolor": "white",
             "startlinecolor": "#2a3f5f"
            },
            "type": "carpet"
           }
          ],
          "choropleth": [
           {
            "colorbar": {
             "outlinewidth": 0,
             "ticks": ""
            },
            "type": "choropleth"
           }
          ],
          "contour": [
           {
            "colorbar": {
             "outlinewidth": 0,
             "ticks": ""
            },
            "colorscale": [
             [
              0,
              "#0d0887"
             ],
             [
              0.1111111111111111,
              "#46039f"
             ],
             [
              0.2222222222222222,
              "#7201a8"
             ],
             [
              0.3333333333333333,
              "#9c179e"
             ],
             [
              0.4444444444444444,
              "#bd3786"
             ],
             [
              0.5555555555555556,
              "#d8576b"
             ],
             [
              0.6666666666666666,
              "#ed7953"
             ],
             [
              0.7777777777777778,
              "#fb9f3a"
             ],
             [
              0.8888888888888888,
              "#fdca26"
             ],
             [
              1,
              "#f0f921"
             ]
            ],
            "type": "contour"
           }
          ],
          "contourcarpet": [
           {
            "colorbar": {
             "outlinewidth": 0,
             "ticks": ""
            },
            "type": "contourcarpet"
           }
          ],
          "heatmap": [
           {
            "colorbar": {
             "outlinewidth": 0,
             "ticks": ""
            },
            "colorscale": [
             [
              0,
              "#0d0887"
             ],
             [
              0.1111111111111111,
              "#46039f"
             ],
             [
              0.2222222222222222,
              "#7201a8"
             ],
             [
              0.3333333333333333,
              "#9c179e"
             ],
             [
              0.4444444444444444,
              "#bd3786"
             ],
             [
              0.5555555555555556,
              "#d8576b"
             ],
             [
              0.6666666666666666,
              "#ed7953"
             ],
             [
              0.7777777777777778,
              "#fb9f3a"
             ],
             [
              0.8888888888888888,
              "#fdca26"
             ],
             [
              1,
              "#f0f921"
             ]
            ],
            "type": "heatmap"
           }
          ],
          "heatmapgl": [
           {
            "colorbar": {
             "outlinewidth": 0,
             "ticks": ""
            },
            "colorscale": [
             [
              0,
              "#0d0887"
             ],
             [
              0.1111111111111111,
              "#46039f"
             ],
             [
              0.2222222222222222,
              "#7201a8"
             ],
             [
              0.3333333333333333,
              "#9c179e"
             ],
             [
              0.4444444444444444,
              "#bd3786"
             ],
             [
              0.5555555555555556,
              "#d8576b"
             ],
             [
              0.6666666666666666,
              "#ed7953"
             ],
             [
              0.7777777777777778,
              "#fb9f3a"
             ],
             [
              0.8888888888888888,
              "#fdca26"
             ],
             [
              1,
              "#f0f921"
             ]
            ],
            "type": "heatmapgl"
           }
          ],
          "histogram": [
           {
            "marker": {
             "pattern": {
              "fillmode": "overlay",
              "size": 10,
              "solidity": 0.2
             }
            },
            "type": "histogram"
           }
          ],
          "histogram2d": [
           {
            "colorbar": {
             "outlinewidth": 0,
             "ticks": ""
            },
            "colorscale": [
             [
              0,
              "#0d0887"
             ],
             [
              0.1111111111111111,
              "#46039f"
             ],
             [
              0.2222222222222222,
              "#7201a8"
             ],
             [
              0.3333333333333333,
              "#9c179e"
             ],
             [
              0.4444444444444444,
              "#bd3786"
             ],
             [
              0.5555555555555556,
              "#d8576b"
             ],
             [
              0.6666666666666666,
              "#ed7953"
             ],
             [
              0.7777777777777778,
              "#fb9f3a"
             ],
             [
              0.8888888888888888,
              "#fdca26"
             ],
             [
              1,
              "#f0f921"
             ]
            ],
            "type": "histogram2d"
           }
          ],
          "histogram2dcontour": [
           {
            "colorbar": {
             "outlinewidth": 0,
             "ticks": ""
            },
            "colorscale": [
             [
              0,
              "#0d0887"
             ],
             [
              0.1111111111111111,
              "#46039f"
             ],
             [
              0.2222222222222222,
              "#7201a8"
             ],
             [
              0.3333333333333333,
              "#9c179e"
             ],
             [
              0.4444444444444444,
              "#bd3786"
             ],
             [
              0.5555555555555556,
              "#d8576b"
             ],
             [
              0.6666666666666666,
              "#ed7953"
             ],
             [
              0.7777777777777778,
              "#fb9f3a"
             ],
             [
              0.8888888888888888,
              "#fdca26"
             ],
             [
              1,
              "#f0f921"
             ]
            ],
            "type": "histogram2dcontour"
           }
          ],
          "mesh3d": [
           {
            "colorbar": {
             "outlinewidth": 0,
             "ticks": ""
            },
            "type": "mesh3d"
           }
          ],
          "parcoords": [
           {
            "line": {
             "colorbar": {
              "outlinewidth": 0,
              "ticks": ""
             }
            },
            "type": "parcoords"
           }
          ],
          "pie": [
           {
            "automargin": true,
            "type": "pie"
           }
          ],
          "scatter": [
           {
            "marker": {
             "colorbar": {
              "outlinewidth": 0,
              "ticks": ""
             }
            },
            "type": "scatter"
           }
          ],
          "scatter3d": [
           {
            "line": {
             "colorbar": {
              "outlinewidth": 0,
              "ticks": ""
             }
            },
            "marker": {
             "colorbar": {
              "outlinewidth": 0,
              "ticks": ""
             }
            },
            "type": "scatter3d"
           }
          ],
          "scattercarpet": [
           {
            "marker": {
             "colorbar": {
              "outlinewidth": 0,
              "ticks": ""
             }
            },
            "type": "scattercarpet"
           }
          ],
          "scattergeo": [
           {
            "marker": {
             "colorbar": {
              "outlinewidth": 0,
              "ticks": ""
             }
            },
            "type": "scattergeo"
           }
          ],
          "scattergl": [
           {
            "marker": {
             "colorbar": {
              "outlinewidth": 0,
              "ticks": ""
             }
            },
            "type": "scattergl"
           }
          ],
          "scattermapbox": [
           {
            "marker": {
             "colorbar": {
              "outlinewidth": 0,
              "ticks": ""
             }
            },
            "type": "scattermapbox"
           }
          ],
          "scatterpolar": [
           {
            "marker": {
             "colorbar": {
              "outlinewidth": 0,
              "ticks": ""
             }
            },
            "type": "scatterpolar"
           }
          ],
          "scatterpolargl": [
           {
            "marker": {
             "colorbar": {
              "outlinewidth": 0,
              "ticks": ""
             }
            },
            "type": "scatterpolargl"
           }
          ],
          "scatterternary": [
           {
            "marker": {
             "colorbar": {
              "outlinewidth": 0,
              "ticks": ""
             }
            },
            "type": "scatterternary"
           }
          ],
          "surface": [
           {
            "colorbar": {
             "outlinewidth": 0,
             "ticks": ""
            },
            "colorscale": [
             [
              0,
              "#0d0887"
             ],
             [
              0.1111111111111111,
              "#46039f"
             ],
             [
              0.2222222222222222,
              "#7201a8"
             ],
             [
              0.3333333333333333,
              "#9c179e"
             ],
             [
              0.4444444444444444,
              "#bd3786"
             ],
             [
              0.5555555555555556,
              "#d8576b"
             ],
             [
              0.6666666666666666,
              "#ed7953"
             ],
             [
              0.7777777777777778,
              "#fb9f3a"
             ],
             [
              0.8888888888888888,
              "#fdca26"
             ],
             [
              1,
              "#f0f921"
             ]
            ],
            "type": "surface"
           }
          ],
          "table": [
           {
            "cells": {
             "fill": {
              "color": "#EBF0F8"
             },
             "line": {
              "color": "white"
             }
            },
            "header": {
             "fill": {
              "color": "#C8D4E3"
             },
             "line": {
              "color": "white"
             }
            },
            "type": "table"
           }
          ]
         },
         "layout": {
          "annotationdefaults": {
           "arrowcolor": "#2a3f5f",
           "arrowhead": 0,
           "arrowwidth": 1
          },
          "autotypenumbers": "strict",
          "coloraxis": {
           "colorbar": {
            "outlinewidth": 0,
            "ticks": ""
           }
          },
          "colorscale": {
           "diverging": [
            [
             0,
             "#8e0152"
            ],
            [
             0.1,
             "#c51b7d"
            ],
            [
             0.2,
             "#de77ae"
            ],
            [
             0.3,
             "#f1b6da"
            ],
            [
             0.4,
             "#fde0ef"
            ],
            [
             0.5,
             "#f7f7f7"
            ],
            [
             0.6,
             "#e6f5d0"
            ],
            [
             0.7,
             "#b8e186"
            ],
            [
             0.8,
             "#7fbc41"
            ],
            [
             0.9,
             "#4d9221"
            ],
            [
             1,
             "#276419"
            ]
           ],
           "sequential": [
            [
             0,
             "#0d0887"
            ],
            [
             0.1111111111111111,
             "#46039f"
            ],
            [
             0.2222222222222222,
             "#7201a8"
            ],
            [
             0.3333333333333333,
             "#9c179e"
            ],
            [
             0.4444444444444444,
             "#bd3786"
            ],
            [
             0.5555555555555556,
             "#d8576b"
            ],
            [
             0.6666666666666666,
             "#ed7953"
            ],
            [
             0.7777777777777778,
             "#fb9f3a"
            ],
            [
             0.8888888888888888,
             "#fdca26"
            ],
            [
             1,
             "#f0f921"
            ]
           ],
           "sequentialminus": [
            [
             0,
             "#0d0887"
            ],
            [
             0.1111111111111111,
             "#46039f"
            ],
            [
             0.2222222222222222,
             "#7201a8"
            ],
            [
             0.3333333333333333,
             "#9c179e"
            ],
            [
             0.4444444444444444,
             "#bd3786"
            ],
            [
             0.5555555555555556,
             "#d8576b"
            ],
            [
             0.6666666666666666,
             "#ed7953"
            ],
            [
             0.7777777777777778,
             "#fb9f3a"
            ],
            [
             0.8888888888888888,
             "#fdca26"
            ],
            [
             1,
             "#f0f921"
            ]
           ]
          },
          "colorway": [
           "#636efa",
           "#EF553B",
           "#00cc96",
           "#ab63fa",
           "#FFA15A",
           "#19d3f3",
           "#FF6692",
           "#B6E880",
           "#FF97FF",
           "#FECB52"
          ],
          "font": {
           "color": "#2a3f5f"
          },
          "geo": {
           "bgcolor": "white",
           "lakecolor": "white",
           "landcolor": "#E5ECF6",
           "showlakes": true,
           "showland": true,
           "subunitcolor": "white"
          },
          "hoverlabel": {
           "align": "left"
          },
          "hovermode": "closest",
          "mapbox": {
           "style": "light"
          },
          "paper_bgcolor": "white",
          "plot_bgcolor": "#E5ECF6",
          "polar": {
           "angularaxis": {
            "gridcolor": "white",
            "linecolor": "white",
            "ticks": ""
           },
           "bgcolor": "#E5ECF6",
           "radialaxis": {
            "gridcolor": "white",
            "linecolor": "white",
            "ticks": ""
           }
          },
          "scene": {
           "xaxis": {
            "backgroundcolor": "#E5ECF6",
            "gridcolor": "white",
            "gridwidth": 2,
            "linecolor": "white",
            "showbackground": true,
            "ticks": "",
            "zerolinecolor": "white"
           },
           "yaxis": {
            "backgroundcolor": "#E5ECF6",
            "gridcolor": "white",
            "gridwidth": 2,
            "linecolor": "white",
            "showbackground": true,
            "ticks": "",
            "zerolinecolor": "white"
           },
           "zaxis": {
            "backgroundcolor": "#E5ECF6",
            "gridcolor": "white",
            "gridwidth": 2,
            "linecolor": "white",
            "showbackground": true,
            "ticks": "",
            "zerolinecolor": "white"
           }
          },
          "shapedefaults": {
           "line": {
            "color": "#2a3f5f"
           }
          },
          "ternary": {
           "aaxis": {
            "gridcolor": "white",
            "linecolor": "white",
            "ticks": ""
           },
           "baxis": {
            "gridcolor": "white",
            "linecolor": "white",
            "ticks": ""
           },
           "bgcolor": "#E5ECF6",
           "caxis": {
            "gridcolor": "white",
            "linecolor": "white",
            "ticks": ""
           }
          },
          "title": {
           "x": 0.05
          },
          "xaxis": {
           "automargin": true,
           "gridcolor": "white",
           "linecolor": "white",
           "ticks": "",
           "title": {
            "standoff": 15
           },
           "zerolinecolor": "white",
           "zerolinewidth": 2
          },
          "yaxis": {
           "automargin": true,
           "gridcolor": "white",
           "linecolor": "white",
           "ticks": "",
           "title": {
            "standoff": 15
           },
           "zerolinecolor": "white",
           "zerolinewidth": 2
          }
         }
        }
       }
      },
      "text/html": [
       "<div>                            <div id=\"bac809f5-6629-49df-ba20-56dddcfe77a7\" class=\"plotly-graph-div\" style=\"height:525px; width:100%;\"></div>            <script type=\"text/javascript\">                require([\"plotly\"], function(Plotly) {                    window.PLOTLYENV=window.PLOTLYENV || {};                                    if (document.getElementById(\"bac809f5-6629-49df-ba20-56dddcfe77a7\")) {                    Plotly.newPlot(                        \"bac809f5-6629-49df-ba20-56dddcfe77a7\",                        [{\"labels\":[\"Coal\",\"Hydro\",\"Solar\",\"Wind\",\"Gas\",\"Biomass\",\"Oil\",\"Nuclear\"],\"values\":[258,239,125,121,69,50,20,9],\"type\":\"pie\"}],                        {\"template\":{\"data\":{\"barpolar\":[{\"marker\":{\"line\":{\"color\":\"#E5ECF6\",\"width\":0.5},\"pattern\":{\"fillmode\":\"overlay\",\"size\":10,\"solidity\":0.2}},\"type\":\"barpolar\"}],\"bar\":[{\"error_x\":{\"color\":\"#2a3f5f\"},\"error_y\":{\"color\":\"#2a3f5f\"},\"marker\":{\"line\":{\"color\":\"#E5ECF6\",\"width\":0.5},\"pattern\":{\"fillmode\":\"overlay\",\"size\":10,\"solidity\":0.2}},\"type\":\"bar\"}],\"carpet\":[{\"aaxis\":{\"endlinecolor\":\"#2a3f5f\",\"gridcolor\":\"white\",\"linecolor\":\"white\",\"minorgridcolor\":\"white\",\"startlinecolor\":\"#2a3f5f\"},\"baxis\":{\"endlinecolor\":\"#2a3f5f\",\"gridcolor\":\"white\",\"linecolor\":\"white\",\"minorgridcolor\":\"white\",\"startlinecolor\":\"#2a3f5f\"},\"type\":\"carpet\"}],\"choropleth\":[{\"colorbar\":{\"outlinewidth\":0,\"ticks\":\"\"},\"type\":\"choropleth\"}],\"contourcarpet\":[{\"colorbar\":{\"outlinewidth\":0,\"ticks\":\"\"},\"type\":\"contourcarpet\"}],\"contour\":[{\"colorbar\":{\"outlinewidth\":0,\"ticks\":\"\"},\"colorscale\":[[0.0,\"#0d0887\"],[0.1111111111111111,\"#46039f\"],[0.2222222222222222,\"#7201a8\"],[0.3333333333333333,\"#9c179e\"],[0.4444444444444444,\"#bd3786\"],[0.5555555555555556,\"#d8576b\"],[0.6666666666666666,\"#ed7953\"],[0.7777777777777778,\"#fb9f3a\"],[0.8888888888888888,\"#fdca26\"],[1.0,\"#f0f921\"]],\"type\":\"contour\"}],\"heatmapgl\":[{\"colorbar\":{\"outlinewidth\":0,\"ticks\":\"\"},\"colorscale\":[[0.0,\"#0d0887\"],[0.1111111111111111,\"#46039f\"],[0.2222222222222222,\"#7201a8\"],[0.3333333333333333,\"#9c179e\"],[0.4444444444444444,\"#bd3786\"],[0.5555555555555556,\"#d8576b\"],[0.6666666666666666,\"#ed7953\"],[0.7777777777777778,\"#fb9f3a\"],[0.8888888888888888,\"#fdca26\"],[1.0,\"#f0f921\"]],\"type\":\"heatmapgl\"}],\"heatmap\":[{\"colorbar\":{\"outlinewidth\":0,\"ticks\":\"\"},\"colorscale\":[[0.0,\"#0d0887\"],[0.1111111111111111,\"#46039f\"],[0.2222222222222222,\"#7201a8\"],[0.3333333333333333,\"#9c179e\"],[0.4444444444444444,\"#bd3786\"],[0.5555555555555556,\"#d8576b\"],[0.6666666666666666,\"#ed7953\"],[0.7777777777777778,\"#fb9f3a\"],[0.8888888888888888,\"#fdca26\"],[1.0,\"#f0f921\"]],\"type\":\"heatmap\"}],\"histogram2dcontour\":[{\"colorbar\":{\"outlinewidth\":0,\"ticks\":\"\"},\"colorscale\":[[0.0,\"#0d0887\"],[0.1111111111111111,\"#46039f\"],[0.2222222222222222,\"#7201a8\"],[0.3333333333333333,\"#9c179e\"],[0.4444444444444444,\"#bd3786\"],[0.5555555555555556,\"#d8576b\"],[0.6666666666666666,\"#ed7953\"],[0.7777777777777778,\"#fb9f3a\"],[0.8888888888888888,\"#fdca26\"],[1.0,\"#f0f921\"]],\"type\":\"histogram2dcontour\"}],\"histogram2d\":[{\"colorbar\":{\"outlinewidth\":0,\"ticks\":\"\"},\"colorscale\":[[0.0,\"#0d0887\"],[0.1111111111111111,\"#46039f\"],[0.2222222222222222,\"#7201a8\"],[0.3333333333333333,\"#9c179e\"],[0.4444444444444444,\"#bd3786\"],[0.5555555555555556,\"#d8576b\"],[0.6666666666666666,\"#ed7953\"],[0.7777777777777778,\"#fb9f3a\"],[0.8888888888888888,\"#fdca26\"],[1.0,\"#f0f921\"]],\"type\":\"histogram2d\"}],\"histogram\":[{\"marker\":{\"pattern\":{\"fillmode\":\"overlay\",\"size\":10,\"solidity\":0.2}},\"type\":\"histogram\"}],\"mesh3d\":[{\"colorbar\":{\"outlinewidth\":0,\"ticks\":\"\"},\"type\":\"mesh3d\"}],\"parcoords\":[{\"line\":{\"colorbar\":{\"outlinewidth\":0,\"ticks\":\"\"}},\"type\":\"parcoords\"}],\"pie\":[{\"automargin\":true,\"type\":\"pie\"}],\"scatter3d\":[{\"line\":{\"colorbar\":{\"outlinewidth\":0,\"ticks\":\"\"}},\"marker\":{\"colorbar\":{\"outlinewidth\":0,\"ticks\":\"\"}},\"type\":\"scatter3d\"}],\"scattercarpet\":[{\"marker\":{\"colorbar\":{\"outlinewidth\":0,\"ticks\":\"\"}},\"type\":\"scattercarpet\"}],\"scattergeo\":[{\"marker\":{\"colorbar\":{\"outlinewidth\":0,\"ticks\":\"\"}},\"type\":\"scattergeo\"}],\"scattergl\":[{\"marker\":{\"colorbar\":{\"outlinewidth\":0,\"ticks\":\"\"}},\"type\":\"scattergl\"}],\"scattermapbox\":[{\"marker\":{\"colorbar\":{\"outlinewidth\":0,\"ticks\":\"\"}},\"type\":\"scattermapbox\"}],\"scatterpolargl\":[{\"marker\":{\"colorbar\":{\"outlinewidth\":0,\"ticks\":\"\"}},\"type\":\"scatterpolargl\"}],\"scatterpolar\":[{\"marker\":{\"colorbar\":{\"outlinewidth\":0,\"ticks\":\"\"}},\"type\":\"scatterpolar\"}],\"scatter\":[{\"marker\":{\"colorbar\":{\"outlinewidth\":0,\"ticks\":\"\"}},\"type\":\"scatter\"}],\"scatterternary\":[{\"marker\":{\"colorbar\":{\"outlinewidth\":0,\"ticks\":\"\"}},\"type\":\"scatterternary\"}],\"surface\":[{\"colorbar\":{\"outlinewidth\":0,\"ticks\":\"\"},\"colorscale\":[[0.0,\"#0d0887\"],[0.1111111111111111,\"#46039f\"],[0.2222222222222222,\"#7201a8\"],[0.3333333333333333,\"#9c179e\"],[0.4444444444444444,\"#bd3786\"],[0.5555555555555556,\"#d8576b\"],[0.6666666666666666,\"#ed7953\"],[0.7777777777777778,\"#fb9f3a\"],[0.8888888888888888,\"#fdca26\"],[1.0,\"#f0f921\"]],\"type\":\"surface\"}],\"table\":[{\"cells\":{\"fill\":{\"color\":\"#EBF0F8\"},\"line\":{\"color\":\"white\"}},\"header\":{\"fill\":{\"color\":\"#C8D4E3\"},\"line\":{\"color\":\"white\"}},\"type\":\"table\"}]},\"layout\":{\"annotationdefaults\":{\"arrowcolor\":\"#2a3f5f\",\"arrowhead\":0,\"arrowwidth\":1},\"autotypenumbers\":\"strict\",\"coloraxis\":{\"colorbar\":{\"outlinewidth\":0,\"ticks\":\"\"}},\"colorscale\":{\"diverging\":[[0,\"#8e0152\"],[0.1,\"#c51b7d\"],[0.2,\"#de77ae\"],[0.3,\"#f1b6da\"],[0.4,\"#fde0ef\"],[0.5,\"#f7f7f7\"],[0.6,\"#e6f5d0\"],[0.7,\"#b8e186\"],[0.8,\"#7fbc41\"],[0.9,\"#4d9221\"],[1,\"#276419\"]],\"sequential\":[[0.0,\"#0d0887\"],[0.1111111111111111,\"#46039f\"],[0.2222222222222222,\"#7201a8\"],[0.3333333333333333,\"#9c179e\"],[0.4444444444444444,\"#bd3786\"],[0.5555555555555556,\"#d8576b\"],[0.6666666666666666,\"#ed7953\"],[0.7777777777777778,\"#fb9f3a\"],[0.8888888888888888,\"#fdca26\"],[1.0,\"#f0f921\"]],\"sequentialminus\":[[0.0,\"#0d0887\"],[0.1111111111111111,\"#46039f\"],[0.2222222222222222,\"#7201a8\"],[0.3333333333333333,\"#9c179e\"],[0.4444444444444444,\"#bd3786\"],[0.5555555555555556,\"#d8576b\"],[0.6666666666666666,\"#ed7953\"],[0.7777777777777778,\"#fb9f3a\"],[0.8888888888888888,\"#fdca26\"],[1.0,\"#f0f921\"]]},\"colorway\":[\"#636efa\",\"#EF553B\",\"#00cc96\",\"#ab63fa\",\"#FFA15A\",\"#19d3f3\",\"#FF6692\",\"#B6E880\",\"#FF97FF\",\"#FECB52\"],\"font\":{\"color\":\"#2a3f5f\"},\"geo\":{\"bgcolor\":\"white\",\"lakecolor\":\"white\",\"landcolor\":\"#E5ECF6\",\"showlakes\":true,\"showland\":true,\"subunitcolor\":\"white\"},\"hoverlabel\":{\"align\":\"left\"},\"hovermode\":\"closest\",\"mapbox\":{\"style\":\"light\"},\"paper_bgcolor\":\"white\",\"plot_bgcolor\":\"#E5ECF6\",\"polar\":{\"angularaxis\":{\"gridcolor\":\"white\",\"linecolor\":\"white\",\"ticks\":\"\"},\"bgcolor\":\"#E5ECF6\",\"radialaxis\":{\"gridcolor\":\"white\",\"linecolor\":\"white\",\"ticks\":\"\"}},\"scene\":{\"xaxis\":{\"backgroundcolor\":\"#E5ECF6\",\"gridcolor\":\"white\",\"gridwidth\":2,\"linecolor\":\"white\",\"showbackground\":true,\"ticks\":\"\",\"zerolinecolor\":\"white\"},\"yaxis\":{\"backgroundcolor\":\"#E5ECF6\",\"gridcolor\":\"white\",\"gridwidth\":2,\"linecolor\":\"white\",\"showbackground\":true,\"ticks\":\"\",\"zerolinecolor\":\"white\"},\"zaxis\":{\"backgroundcolor\":\"#E5ECF6\",\"gridcolor\":\"white\",\"gridwidth\":2,\"linecolor\":\"white\",\"showbackground\":true,\"ticks\":\"\",\"zerolinecolor\":\"white\"}},\"shapedefaults\":{\"line\":{\"color\":\"#2a3f5f\"}},\"ternary\":{\"aaxis\":{\"gridcolor\":\"white\",\"linecolor\":\"white\",\"ticks\":\"\"},\"baxis\":{\"gridcolor\":\"white\",\"linecolor\":\"white\",\"ticks\":\"\"},\"bgcolor\":\"#E5ECF6\",\"caxis\":{\"gridcolor\":\"white\",\"linecolor\":\"white\",\"ticks\":\"\"}},\"title\":{\"x\":0.05},\"xaxis\":{\"automargin\":true,\"gridcolor\":\"white\",\"linecolor\":\"white\",\"ticks\":\"\",\"title\":{\"standoff\":15},\"zerolinecolor\":\"white\",\"zerolinewidth\":2},\"yaxis\":{\"automargin\":true,\"gridcolor\":\"white\",\"linecolor\":\"white\",\"ticks\":\"\",\"title\":{\"standoff\":15},\"zerolinecolor\":\"white\",\"zerolinewidth\":2}}}},                        {\"responsive\": true}                    ).then(function(){\n",
       "                            \n",
       "var gd = document.getElementById('bac809f5-6629-49df-ba20-56dddcfe77a7');\n",
       "var x = new MutationObserver(function (mutations, observer) {{\n",
       "        var display = window.getComputedStyle(gd).display;\n",
       "        if (!display || display === 'none') {{\n",
       "            console.log([gd, 'removed!']);\n",
       "            Plotly.purge(gd);\n",
       "            observer.disconnect();\n",
       "        }}\n",
       "}});\n",
       "\n",
       "// Listen for the removal of the full notebook cells\n",
       "var notebookContainer = gd.closest('#notebook-container');\n",
       "if (notebookContainer) {{\n",
       "    x.observe(notebookContainer, {childList: true});\n",
       "}}\n",
       "\n",
       "// Listen for the clearing of the current output cell\n",
       "var outputEl = gd.closest('.output');\n",
       "if (outputEl) {{\n",
       "    x.observe(outputEl, {childList: true});\n",
       "}}\n",
       "\n",
       "                        })                };                });            </script>        </div>"
      ]
     },
     "metadata": {},
     "output_type": "display_data"
    }
   ],
   "source": [
    "primaryFuel=[primary_fuel_counts['Coal'],primary_fuel_counts['Hydro'],primary_fuel_counts['Solar'],\n",
    "             primary_fuel_counts['Wind'],primary_fuel_counts['Gas'],primary_fuel_counts['Biomass'],\n",
    "             primary_fuel_counts['Oil'],primary_fuel_counts['Nuclear']\n",
    "      ]\n",
    "data_label=['Coal','Hydro','Solar','Wind','Gas','Biomass','Oil','Nuclear']\n",
    "\n",
    "primaryFuel_pieChart=go.Pie(labels=data_label,values=primaryFuel)\n",
    "py.iplot([primaryFuel_pieChart])"
   ]
  },
  {
   "cell_type": "markdown",
   "id": "12e090e8",
   "metadata": {},
   "source": [
    "Coal has the most percentage available in  our dataset, followed by Hydro as the primary fuel"
   ]
  },
  {
   "cell_type": "code",
   "execution_count": 68,
   "id": "47bc5e1a",
   "metadata": {},
   "outputs": [],
   "source": [
    "data = [df]\n",
    "geolocationSources = {\"Industry About\":0,\"National Renewable Energy Laboratory\":1, \"WRI\":2}\n",
    "\n",
    "for dataset in data:\n",
    "    dataset['geolocation_source'] = dataset['geolocation_source'].map(geolocationSources)"
   ]
  },
  {
   "cell_type": "code",
   "execution_count": 69,
   "id": "4a2337c2",
   "metadata": {},
   "outputs": [
    {
     "data": {
      "text/plain": [
       "0      1\n",
       "1      2\n",
       "2      2\n",
       "3      2\n",
       "4      2\n",
       "      ..\n",
       "902    2\n",
       "903    0\n",
       "904    2\n",
       "905    2\n",
       "906    2\n",
       "Name: geolocation_source, Length: 891, dtype: int32"
      ]
     },
     "execution_count": 69,
     "metadata": {},
     "output_type": "execute_result"
    }
   ],
   "source": [
    "df['geolocation_source'].astype(int)"
   ]
  },
  {
   "cell_type": "code",
   "execution_count": 70,
   "id": "d9425c42",
   "metadata": {},
   "outputs": [
    {
     "data": {
      "text/html": [
       "<div>\n",
       "<style scoped>\n",
       "    .dataframe tbody tr th:only-of-type {\n",
       "        vertical-align: middle;\n",
       "    }\n",
       "\n",
       "    .dataframe tbody tr th {\n",
       "        vertical-align: top;\n",
       "    }\n",
       "\n",
       "    .dataframe thead th {\n",
       "        text-align: right;\n",
       "    }\n",
       "</style>\n",
       "<table border=\"1\" class=\"dataframe\">\n",
       "  <thead>\n",
       "    <tr style=\"text-align: right;\">\n",
       "      <th></th>\n",
       "      <th>capacity_mw</th>\n",
       "      <th>latitude</th>\n",
       "      <th>longitude</th>\n",
       "      <th>primary_fuel</th>\n",
       "      <th>geolocation_source</th>\n",
       "    </tr>\n",
       "  </thead>\n",
       "  <tbody>\n",
       "    <tr>\n",
       "      <th>0</th>\n",
       "      <td>2.5</td>\n",
       "      <td>28.1839</td>\n",
       "      <td>73.2407</td>\n",
       "      <td>Solar</td>\n",
       "      <td>1</td>\n",
       "    </tr>\n",
       "    <tr>\n",
       "      <th>1</th>\n",
       "      <td>98.0</td>\n",
       "      <td>24.7663</td>\n",
       "      <td>74.6090</td>\n",
       "      <td>Coal</td>\n",
       "      <td>2</td>\n",
       "    </tr>\n",
       "  </tbody>\n",
       "</table>\n",
       "</div>"
      ],
      "text/plain": [
       "   capacity_mw  latitude  longitude primary_fuel  geolocation_source\n",
       "0          2.5   28.1839    73.2407        Solar                   1\n",
       "1         98.0   24.7663    74.6090         Coal                   2"
      ]
     },
     "execution_count": 70,
     "metadata": {},
     "output_type": "execute_result"
    }
   ],
   "source": [
    "df.head(2)"
   ]
  },
  {
   "cell_type": "code",
   "execution_count": 71,
   "id": "d2a18bfa",
   "metadata": {},
   "outputs": [
    {
     "data": {
      "text/html": [
       "<div>\n",
       "<style scoped>\n",
       "    .dataframe tbody tr th:only-of-type {\n",
       "        vertical-align: middle;\n",
       "    }\n",
       "\n",
       "    .dataframe tbody tr th {\n",
       "        vertical-align: top;\n",
       "    }\n",
       "\n",
       "    .dataframe thead th {\n",
       "        text-align: right;\n",
       "    }\n",
       "</style>\n",
       "<table border=\"1\" class=\"dataframe\">\n",
       "  <thead>\n",
       "    <tr style=\"text-align: right;\">\n",
       "      <th></th>\n",
       "      <th>capacity_mw</th>\n",
       "      <th>latitude</th>\n",
       "      <th>longitude</th>\n",
       "      <th>geolocation_source</th>\n",
       "    </tr>\n",
       "  </thead>\n",
       "  <tbody>\n",
       "    <tr>\n",
       "      <th>0</th>\n",
       "      <td>2.5</td>\n",
       "      <td>28.1839</td>\n",
       "      <td>73.2407</td>\n",
       "      <td>1</td>\n",
       "    </tr>\n",
       "    <tr>\n",
       "      <th>1</th>\n",
       "      <td>98.0</td>\n",
       "      <td>24.7663</td>\n",
       "      <td>74.6090</td>\n",
       "      <td>2</td>\n",
       "    </tr>\n",
       "    <tr>\n",
       "      <th>2</th>\n",
       "      <td>39.2</td>\n",
       "      <td>21.9038</td>\n",
       "      <td>69.3732</td>\n",
       "      <td>2</td>\n",
       "    </tr>\n",
       "    <tr>\n",
       "      <th>3</th>\n",
       "      <td>135.0</td>\n",
       "      <td>23.8712</td>\n",
       "      <td>91.3602</td>\n",
       "      <td>2</td>\n",
       "    </tr>\n",
       "    <tr>\n",
       "      <th>4</th>\n",
       "      <td>1800.0</td>\n",
       "      <td>21.9603</td>\n",
       "      <td>82.4091</td>\n",
       "      <td>2</td>\n",
       "    </tr>\n",
       "    <tr>\n",
       "      <th>...</th>\n",
       "      <td>...</td>\n",
       "      <td>...</td>\n",
       "      <td>...</td>\n",
       "      <td>...</td>\n",
       "    </tr>\n",
       "    <tr>\n",
       "      <th>902</th>\n",
       "      <td>1600.0</td>\n",
       "      <td>16.2949</td>\n",
       "      <td>77.3568</td>\n",
       "      <td>2</td>\n",
       "    </tr>\n",
       "    <tr>\n",
       "      <th>903</th>\n",
       "      <td>3.0</td>\n",
       "      <td>12.8932</td>\n",
       "      <td>78.1654</td>\n",
       "      <td>0</td>\n",
       "    </tr>\n",
       "    <tr>\n",
       "      <th>904</th>\n",
       "      <td>25.5</td>\n",
       "      <td>15.2758</td>\n",
       "      <td>75.5811</td>\n",
       "      <td>2</td>\n",
       "    </tr>\n",
       "    <tr>\n",
       "      <th>905</th>\n",
       "      <td>80.0</td>\n",
       "      <td>24.3500</td>\n",
       "      <td>73.7477</td>\n",
       "      <td>2</td>\n",
       "    </tr>\n",
       "    <tr>\n",
       "      <th>906</th>\n",
       "      <td>16.5</td>\n",
       "      <td>9.9344</td>\n",
       "      <td>77.4768</td>\n",
       "      <td>2</td>\n",
       "    </tr>\n",
       "  </tbody>\n",
       "</table>\n",
       "<p>891 rows × 4 columns</p>\n",
       "</div>"
      ],
      "text/plain": [
       "     capacity_mw  latitude  longitude  geolocation_source\n",
       "0            2.5   28.1839    73.2407                   1\n",
       "1           98.0   24.7663    74.6090                   2\n",
       "2           39.2   21.9038    69.3732                   2\n",
       "3          135.0   23.8712    91.3602                   2\n",
       "4         1800.0   21.9603    82.4091                   2\n",
       "..           ...       ...        ...                 ...\n",
       "902       1600.0   16.2949    77.3568                   2\n",
       "903          3.0   12.8932    78.1654                   0\n",
       "904         25.5   15.2758    75.5811                   2\n",
       "905         80.0   24.3500    73.7477                   2\n",
       "906         16.5    9.9344    77.4768                   2\n",
       "\n",
       "[891 rows x 4 columns]"
      ]
     },
     "execution_count": 71,
     "metadata": {},
     "output_type": "execute_result"
    }
   ],
   "source": [
    "dataToPlot=df.drop(columns=['primary_fuel'],axis=1)\n",
    "dataToPlot"
   ]
  },
  {
   "cell_type": "code",
   "execution_count": 72,
   "id": "fbfa614c",
   "metadata": {},
   "outputs": [
    {
     "data": {
      "text/plain": [
       "(891, 4)"
      ]
     },
     "execution_count": 72,
     "metadata": {},
     "output_type": "execute_result"
    }
   ],
   "source": [
    "dataToPlot.shape"
   ]
  },
  {
   "cell_type": "code",
   "execution_count": 73,
   "id": "e70ff33b",
   "metadata": {},
   "outputs": [
    {
     "data": {
      "text/html": [
       "<div>\n",
       "<style scoped>\n",
       "    .dataframe tbody tr th:only-of-type {\n",
       "        vertical-align: middle;\n",
       "    }\n",
       "\n",
       "    .dataframe tbody tr th {\n",
       "        vertical-align: top;\n",
       "    }\n",
       "\n",
       "    .dataframe thead th {\n",
       "        text-align: right;\n",
       "    }\n",
       "</style>\n",
       "<table border=\"1\" class=\"dataframe\">\n",
       "  <thead>\n",
       "    <tr style=\"text-align: right;\">\n",
       "      <th></th>\n",
       "      <th>primary_fuel</th>\n",
       "    </tr>\n",
       "  </thead>\n",
       "  <tbody>\n",
       "    <tr>\n",
       "      <th>0</th>\n",
       "      <td>Solar</td>\n",
       "    </tr>\n",
       "    <tr>\n",
       "      <th>1</th>\n",
       "      <td>Coal</td>\n",
       "    </tr>\n",
       "  </tbody>\n",
       "</table>\n",
       "</div>"
      ],
      "text/plain": [
       "  primary_fuel\n",
       "0        Solar\n",
       "1         Coal"
      ]
     },
     "execution_count": 73,
     "metadata": {},
     "output_type": "execute_result"
    }
   ],
   "source": [
    "targetToPlot=df.loc[:, df.columns == 'primary_fuel']\n",
    "targetToPlot.head(2)"
   ]
  },
  {
   "cell_type": "markdown",
   "id": "2a421683",
   "metadata": {},
   "source": [
    "# Skewness"
   ]
  },
  {
   "cell_type": "code",
   "execution_count": 74,
   "id": "efc85480",
   "metadata": {},
   "outputs": [
    {
     "data": {
      "text/html": [
       "<div>\n",
       "<style scoped>\n",
       "    .dataframe tbody tr th:only-of-type {\n",
       "        vertical-align: middle;\n",
       "    }\n",
       "\n",
       "    .dataframe tbody tr th {\n",
       "        vertical-align: top;\n",
       "    }\n",
       "\n",
       "    .dataframe thead th {\n",
       "        text-align: right;\n",
       "    }\n",
       "</style>\n",
       "<table border=\"1\" class=\"dataframe\">\n",
       "  <thead>\n",
       "    <tr style=\"text-align: right;\">\n",
       "      <th></th>\n",
       "      <th>Skewness</th>\n",
       "    </tr>\n",
       "  </thead>\n",
       "  <tbody>\n",
       "    <tr>\n",
       "      <th>capacity_mw</th>\n",
       "      <td>3.092934</td>\n",
       "    </tr>\n",
       "    <tr>\n",
       "      <th>latitude</th>\n",
       "      <td>-0.164486</td>\n",
       "    </tr>\n",
       "    <tr>\n",
       "      <th>longitude</th>\n",
       "      <td>1.145268</td>\n",
       "    </tr>\n",
       "    <tr>\n",
       "      <th>geolocation_source</th>\n",
       "      <td>-2.129725</td>\n",
       "    </tr>\n",
       "  </tbody>\n",
       "</table>\n",
       "</div>"
      ],
      "text/plain": [
       "                    Skewness\n",
       "capacity_mw         3.092934\n",
       "latitude           -0.164486\n",
       "longitude           1.145268\n",
       "geolocation_source -2.129725"
      ]
     },
     "execution_count": 74,
     "metadata": {},
     "output_type": "execute_result"
    }
   ],
   "source": [
    "#Check Data Skewness\n",
    "skew_df=pd.DataFrame({'Skewness':df.skew()}) \n",
    "skew_df"
   ]
  },
  {
   "cell_type": "code",
   "execution_count": 75,
   "id": "733582d2",
   "metadata": {},
   "outputs": [
    {
     "name": "stdout",
     "output_type": "stream",
     "text": [
      "Out of 4 features 3 are skewed\n"
     ]
    }
   ],
   "source": [
    "print(\"Out of\",len(df.skew()),\"features\",len(df.skew().loc[abs(df.skew())>0.5]) ,\"are skewed\")"
   ]
  },
  {
   "cell_type": "code",
   "execution_count": 76,
   "id": "e68b9f5c",
   "metadata": {},
   "outputs": [
    {
     "data": {
      "text/html": [
       "<div>\n",
       "<style scoped>\n",
       "    .dataframe tbody tr th:only-of-type {\n",
       "        vertical-align: middle;\n",
       "    }\n",
       "\n",
       "    .dataframe tbody tr th {\n",
       "        vertical-align: top;\n",
       "    }\n",
       "\n",
       "    .dataframe thead th {\n",
       "        text-align: right;\n",
       "    }\n",
       "</style>\n",
       "<table border=\"1\" class=\"dataframe\">\n",
       "  <thead>\n",
       "    <tr style=\"text-align: right;\">\n",
       "      <th></th>\n",
       "      <th>Skewness</th>\n",
       "    </tr>\n",
       "  </thead>\n",
       "  <tbody>\n",
       "    <tr>\n",
       "      <th>capacity_mw</th>\n",
       "      <td>3.092934</td>\n",
       "    </tr>\n",
       "    <tr>\n",
       "      <th>longitude</th>\n",
       "      <td>1.145268</td>\n",
       "    </tr>\n",
       "    <tr>\n",
       "      <th>geolocation_source</th>\n",
       "      <td>-2.129725</td>\n",
       "    </tr>\n",
       "  </tbody>\n",
       "</table>\n",
       "</div>"
      ],
      "text/plain": [
       "                    Skewness\n",
       "capacity_mw         3.092934\n",
       "longitude           1.145268\n",
       "geolocation_source -2.129725"
      ]
     },
     "execution_count": 76,
     "metadata": {},
     "output_type": "execute_result"
    }
   ],
   "source": [
    "skewed_feature=skew_df.iloc[(np.where(abs(skew_df['Skewness'])>0.5))]\n",
    "skewed_feature"
   ]
  },
  {
   "cell_type": "code",
   "execution_count": 77,
   "id": "34d248f2",
   "metadata": {},
   "outputs": [
    {
     "data": {
      "text/plain": [
       "(891, 4)"
      ]
     },
     "execution_count": 77,
     "metadata": {},
     "output_type": "execute_result"
    }
   ],
   "source": [
    "dataToPlot.shape"
   ]
  },
  {
   "cell_type": "code",
   "execution_count": 78,
   "id": "c2c27bf1",
   "metadata": {
    "scrolled": true
   },
   "outputs": [
    {
     "data": {
      "image/png": "[encoded data removed]",
      "text/plain": [
       "<Figure size 360x360 with 4 Axes>"
      ]
     },
     "metadata": {},
     "output_type": "display_data"
    }
   ],
   "source": [
    "#Lets see data distribution using distplot\n",
    "plt.figure(figsize=(5,5),facecolor='orange')\n",
    "graph=1\n",
    "\n",
    "for column in dataToPlot:\n",
    "    \n",
    "    if graph<=4:\n",
    "        ax=plt.subplot(2,2,graph)        \n",
    "        sns.distplot(dataToPlot[column])\n",
    "        plt.xlabel(column,fontsize=11)\n",
    "        \n",
    "    graph+=1   \n",
    "    \n",
    "plt.tight_layout()"
   ]
  },
  {
   "cell_type": "markdown",
   "id": "e54c1955",
   "metadata": {},
   "source": [
    "We see that all columns are skewed right and is not normally distributed, So lets handle this using Log1P transformation to deal with the skewness"
   ]
  },
  {
   "cell_type": "markdown",
   "id": "b830080a",
   "metadata": {},
   "source": [
    "# Log1P Transformation to deal with Skewness"
   ]
  },
  {
   "cell_type": "code",
   "execution_count": 79,
   "id": "6c599480",
   "metadata": {},
   "outputs": [
    {
     "name": "stdout",
     "output_type": "stream",
     "text": [
      "capacity_mw           0.115150\n",
      "latitude             -0.164486\n",
      "longitude             0.943632\n",
      "geolocation_source   -2.110606\n",
      "dtype: float64\n",
      "Out of 4 features 2 is skewed but improved skewness value than previous skewness values\n"
     ]
    }
   ],
   "source": [
    "import numpy as np\n",
    "for index in df.skew().index:\n",
    "    if df.skew().loc[index]>0.5:\n",
    "        df[index]=np.log1p(df[index])\n",
    "    if df.skew().loc[index]<-0.5:\n",
    "        df[index]=np.square(df[index])\n",
    "print(df.skew())\n",
    "print(\"Out of\",len(df.skew()),\"features\",len(df.skew().loc[abs(df.skew())>0.5]) ,\"is skewed but improved skewness value than previous skewness values\")"
   ]
  },
  {
   "cell_type": "markdown",
   "id": "9885f7ee",
   "metadata": {},
   "source": [
    "So we have solved the skewness issue to most extent"
   ]
  },
  {
   "cell_type": "markdown",
   "id": "3d5d9c9b",
   "metadata": {},
   "source": [
    "# Outliers\n",
    "Lets Plot the Boxplot to deal with the Outliers"
   ]
  },
  {
   "cell_type": "code",
   "execution_count": 80,
   "id": "67607f83",
   "metadata": {},
   "outputs": [
    {
     "data": {
      "text/plain": [
       "Index(['capacity_mw', 'latitude', 'longitude', 'primary_fuel',\n",
       "       'geolocation_source'],\n",
       "      dtype='object')"
      ]
     },
     "execution_count": 80,
     "metadata": {},
     "output_type": "execute_result"
    }
   ],
   "source": [
    "df.columns"
   ]
  },
  {
   "cell_type": "code",
   "execution_count": 81,
   "id": "df5e9c51",
   "metadata": {},
   "outputs": [
    {
     "data": {
      "text/plain": [
       "Text(0.5, 0, 'capacity_mw')"
      ]
     },
     "execution_count": 81,
     "metadata": {},
     "output_type": "execute_result"
    },
    {
     "data": {
      "image/png": "[encoded data removed]",
      "text/plain": [
       "<Figure size 432x288 with 1 Axes>"
      ]
     },
     "metadata": {
      "needs_background": "light"
     },
     "output_type": "display_data"
    }
   ],
   "source": [
    "sns.boxplot(df['capacity_mw'])\n",
    "plt.xlabel('capacity_mw',fontsize=11)"
   ]
  },
  {
   "cell_type": "markdown",
   "id": "af98ffc9",
   "metadata": {},
   "source": [
    "The minimum Average Price is 0.440000 and maximum is 3.25, The range between q1 and q3 is 1.1 to 1.66. So here we see there are few outliers. In pther words few Avacado fruits have high prices"
   ]
  },
  {
   "cell_type": "code",
   "execution_count": 82,
   "id": "737d8897",
   "metadata": {},
   "outputs": [
    {
     "data": {
      "text/plain": [
       "Text(0.5, 0, 'latitude')"
      ]
     },
     "execution_count": 82,
     "metadata": {},
     "output_type": "execute_result"
    },
    {
     "data": {
      "image/png": "[encoded data removed]",
      "text/plain": [
       "<Figure size 432x288 with 1 Axes>"
      ]
     },
     "metadata": {
      "needs_background": "light"
     },
     "output_type": "display_data"
    }
   ],
   "source": [
    "sns.boxplot(df['latitude'])\n",
    "plt.xlabel('latitude',fontsize=11)"
   ]
  },
  {
   "cell_type": "markdown",
   "id": "9a77c7d1",
   "metadata": {},
   "source": [
    "Total Volumne is present within acceptable limits"
   ]
  },
  {
   "cell_type": "code",
   "execution_count": 83,
   "id": "f8db99da",
   "metadata": {},
   "outputs": [
    {
     "data": {
      "text/plain": [
       "Text(0.5, 0, 'longitude')"
      ]
     },
     "execution_count": 83,
     "metadata": {},
     "output_type": "execute_result"
    },
    {
     "data": {
      "image/png": "[encoded data removed]",
      "text/plain": [
       "<Figure size 432x288 with 1 Axes>"
      ]
     },
     "metadata": {
      "needs_background": "light"
     },
     "output_type": "display_data"
    }
   ],
   "source": [
    "sns.boxplot(df['longitude'])\n",
    "plt.xlabel('longitude',fontsize=11)"
   ]
  },
  {
   "cell_type": "markdown",
   "id": "9df15555",
   "metadata": {},
   "source": [
    "Total number of avocados with PLU 4046 sold is present within acceptable limits"
   ]
  },
  {
   "cell_type": "code",
   "execution_count": 84,
   "id": "93eac255",
   "metadata": {},
   "outputs": [
    {
     "data": {
      "text/plain": [
       "Text(0.5, 0, 'geolocation_source')"
      ]
     },
     "execution_count": 84,
     "metadata": {},
     "output_type": "execute_result"
    },
    {
     "data": {
      "image/png": "[encoded data removed]",
      "text/plain": [
       "<Figure size 432x288 with 1 Axes>"
      ]
     },
     "metadata": {
      "needs_background": "light"
     },
     "output_type": "display_data"
    }
   ],
   "source": [
    "sns.boxplot(df['geolocation_source'])\n",
    "plt.xlabel('geolocation_source',fontsize=11)"
   ]
  },
  {
   "cell_type": "markdown",
   "id": "ec68cd48",
   "metadata": {},
   "source": [
    "We see that longitude has few outliers"
   ]
  },
  {
   "cell_type": "code",
   "execution_count": 85,
   "id": "1071e98e",
   "metadata": {},
   "outputs": [
    {
     "data": {
      "text/plain": [
       "<bound method IndexOpsMixin.value_counts of 0      6\n",
       "1      1\n",
       "2      7\n",
       "3      2\n",
       "4      1\n",
       "      ..\n",
       "902    1\n",
       "903    6\n",
       "904    7\n",
       "905    1\n",
       "906    7\n",
       "Name: primary_fuel, Length: 891, dtype: int32>"
      ]
     },
     "execution_count": 85,
     "metadata": {},
     "output_type": "execute_result"
    }
   ],
   "source": [
    "from sklearn.preprocessing import LabelEncoder\n",
    "\n",
    "le = LabelEncoder()\n",
    "df['primary_fuel'] = le.fit_transform(df['primary_fuel'])\n",
    "\n",
    "df['primary_fuel'].value_counts"
   ]
  },
  {
   "cell_type": "code",
   "execution_count": 86,
   "id": "6f1ee0c3",
   "metadata": {},
   "outputs": [
    {
     "data": {
      "text/plain": [
       "(891, 5)"
      ]
     },
     "execution_count": 86,
     "metadata": {},
     "output_type": "execute_result"
    }
   ],
   "source": [
    "#Import zscore\n",
    "from scipy.stats import zscore\n",
    "z=np.abs(zscore(df))\n",
    "z.shape"
   ]
  },
  {
   "cell_type": "code",
   "execution_count": 87,
   "id": "07e5e906",
   "metadata": {},
   "outputs": [
    {
     "name": "stdout",
     "output_type": "stream",
     "text": [
      "(array([176, 180, 328, 410, 421, 510, 567, 628, 802], dtype=int64), array([2, 2, 2, 2, 2, 2, 2, 2, 2], dtype=int64))\n"
     ]
    }
   ],
   "source": [
    "threshold=3\n",
    "print(np.where(z>3))"
   ]
  },
  {
   "cell_type": "code",
   "execution_count": 88,
   "id": "538ec047",
   "metadata": {},
   "outputs": [
    {
     "name": "stdout",
     "output_type": "stream",
     "text": [
      "(891, 5)\n",
      "(882, 5)\n"
     ]
    }
   ],
   "source": [
    "df_new=df[(z<3).all(axis=1)]\n",
    "print(df.shape)\n",
    "print(df_new.shape)"
   ]
  },
  {
   "cell_type": "code",
   "execution_count": 89,
   "id": "c0a50125",
   "metadata": {},
   "outputs": [
    {
     "data": {
      "text/plain": [
       "0.8978675645342313"
      ]
     },
     "execution_count": 89,
     "metadata": {},
     "output_type": "execute_result"
    }
   ],
   "source": [
    "loss_percentage=((891-883)/891)*100\n",
    "loss_percentage"
   ]
  },
  {
   "cell_type": "markdown",
   "id": "3b18820c",
   "metadata": {},
   "source": [
    "We can delete this 0.89% data easily and it is within the acceptable limit"
   ]
  },
  {
   "cell_type": "code",
   "execution_count": 90,
   "id": "2d10808e",
   "metadata": {},
   "outputs": [
    {
     "data": {
      "text/plain": [
       "(882, 5)"
      ]
     },
     "execution_count": 90,
     "metadata": {},
     "output_type": "execute_result"
    }
   ],
   "source": [
    "df=df_new\n",
    "df.shape"
   ]
  },
  {
   "cell_type": "markdown",
   "id": "8686d5c3",
   "metadata": {},
   "source": [
    "# Standard Scaler"
   ]
  },
  {
   "cell_type": "code",
   "execution_count": 92,
   "id": "a689dadc",
   "metadata": {},
   "outputs": [],
   "source": [
    "from sklearn.preprocessing import StandardScaler\n",
    "sc=StandardScaler()\n",
    "x=sc.fit_transform(df)"
   ]
  },
  {
   "cell_type": "code",
   "execution_count": 93,
   "id": "abf3b89e",
   "metadata": {},
   "outputs": [
    {
     "data": {
      "text/plain": [
       "(882, 5)"
      ]
     },
     "execution_count": 93,
     "metadata": {},
     "output_type": "execute_result"
    }
   ],
   "source": [
    "X_vif=df\n",
    "X_vif.shape"
   ]
  },
  {
   "cell_type": "code",
   "execution_count": 94,
   "id": "c1855c9a",
   "metadata": {},
   "outputs": [
    {
     "data": {
      "text/plain": [
       "5"
      ]
     },
     "execution_count": 94,
     "metadata": {},
     "output_type": "execute_result"
    }
   ],
   "source": [
    "x.shape[1]"
   ]
  },
  {
   "cell_type": "code",
   "execution_count": 95,
   "id": "14a94eda",
   "metadata": {},
   "outputs": [
    {
     "data": {
      "text/html": [
       "<div>\n",
       "<style scoped>\n",
       "    .dataframe tbody tr th:only-of-type {\n",
       "        vertical-align: middle;\n",
       "    }\n",
       "\n",
       "    .dataframe tbody tr th {\n",
       "        vertical-align: top;\n",
       "    }\n",
       "\n",
       "    .dataframe thead th {\n",
       "        text-align: right;\n",
       "    }\n",
       "</style>\n",
       "<table border=\"1\" class=\"dataframe\">\n",
       "  <thead>\n",
       "    <tr style=\"text-align: right;\">\n",
       "      <th></th>\n",
       "      <th>vif</th>\n",
       "      <th>features</th>\n",
       "    </tr>\n",
       "  </thead>\n",
       "  <tbody>\n",
       "    <tr>\n",
       "      <th>0</th>\n",
       "      <td>1.588004</td>\n",
       "      <td>capacity_mw</td>\n",
       "    </tr>\n",
       "    <tr>\n",
       "      <th>1</th>\n",
       "      <td>1.072394</td>\n",
       "      <td>latitude</td>\n",
       "    </tr>\n",
       "    <tr>\n",
       "      <th>2</th>\n",
       "      <td>1.198090</td>\n",
       "      <td>longitude</td>\n",
       "    </tr>\n",
       "    <tr>\n",
       "      <th>3</th>\n",
       "      <td>1.655995</td>\n",
       "      <td>primary_fuel</td>\n",
       "    </tr>\n",
       "    <tr>\n",
       "      <th>4</th>\n",
       "      <td>1.524715</td>\n",
       "      <td>geolocation_source</td>\n",
       "    </tr>\n",
       "  </tbody>\n",
       "</table>\n",
       "</div>"
      ],
      "text/plain": [
       "        vif            features\n",
       "0  1.588004         capacity_mw\n",
       "1  1.072394            latitude\n",
       "2  1.198090           longitude\n",
       "3  1.655995        primary_fuel\n",
       "4  1.524715  geolocation_source"
      ]
     },
     "execution_count": 95,
     "metadata": {},
     "output_type": "execute_result"
    }
   ],
   "source": [
    "from statsmodels.stats.outliers_influence import variance_inflation_factor\n",
    "vif=pd.DataFrame()\n",
    "vif['vif']=[variance_inflation_factor(x,i) for i in range(x.shape[1])]\n",
    "vif['features']=X_vif.columns\n",
    "\n",
    "# Let's check the values now\n",
    "vif"
   ]
  },
  {
   "cell_type": "markdown",
   "id": "6a55b706",
   "metadata": {},
   "source": [
    "We see that there is no multicollinearity problem, and we will proceed with model building now"
   ]
  },
  {
   "cell_type": "markdown",
   "id": "1a78225f",
   "metadata": {},
   "source": [
    "# Select Features and Target"
   ]
  },
  {
   "cell_type": "code",
   "execution_count": 96,
   "id": "9481342c",
   "metadata": {},
   "outputs": [
    {
     "data": {
      "text/html": [
       "<div>\n",
       "<style scoped>\n",
       "    .dataframe tbody tr th:only-of-type {\n",
       "        vertical-align: middle;\n",
       "    }\n",
       "\n",
       "    .dataframe tbody tr th {\n",
       "        vertical-align: top;\n",
       "    }\n",
       "\n",
       "    .dataframe thead th {\n",
       "        text-align: right;\n",
       "    }\n",
       "</style>\n",
       "<table border=\"1\" class=\"dataframe\">\n",
       "  <thead>\n",
       "    <tr style=\"text-align: right;\">\n",
       "      <th></th>\n",
       "      <th>capacity_mw</th>\n",
       "      <th>latitude</th>\n",
       "      <th>longitude</th>\n",
       "      <th>primary_fuel</th>\n",
       "      <th>geolocation_source</th>\n",
       "    </tr>\n",
       "  </thead>\n",
       "  <tbody>\n",
       "    <tr>\n",
       "      <th>0</th>\n",
       "      <td>1.252763</td>\n",
       "      <td>28.1839</td>\n",
       "      <td>4.307313</td>\n",
       "      <td>6</td>\n",
       "      <td>1</td>\n",
       "    </tr>\n",
       "    <tr>\n",
       "      <th>1</th>\n",
       "      <td>4.595120</td>\n",
       "      <td>24.7663</td>\n",
       "      <td>4.325575</td>\n",
       "      <td>1</td>\n",
       "      <td>4</td>\n",
       "    </tr>\n",
       "  </tbody>\n",
       "</table>\n",
       "</div>"
      ],
      "text/plain": [
       "   capacity_mw  latitude  longitude  primary_fuel  geolocation_source\n",
       "0     1.252763   28.1839   4.307313             6                   1\n",
       "1     4.595120   24.7663   4.325575             1                   4"
      ]
     },
     "execution_count": 96,
     "metadata": {},
     "output_type": "execute_result"
    }
   ],
   "source": [
    "df.head(2)"
   ]
  },
  {
   "cell_type": "code",
   "execution_count": 97,
   "id": "df432ce9",
   "metadata": {},
   "outputs": [],
   "source": [
    "features=df.drop(['primary_fuel'], axis=1)\n",
    "target=df[['primary_fuel']]"
   ]
  },
  {
   "cell_type": "code",
   "execution_count": 98,
   "id": "3eb158b7",
   "metadata": {},
   "outputs": [
    {
     "name": "stdout",
     "output_type": "stream",
     "text": [
      "(882, 4) (882, 1)\n"
     ]
    }
   ],
   "source": [
    "print((features.shape),(target.shape))"
   ]
  },
  {
   "cell_type": "code",
   "execution_count": 99,
   "id": "5d9aa391",
   "metadata": {},
   "outputs": [
    {
     "data": {
      "text/plain": [
       "array([6, 1, 7, 2, 1, 1, 3, 3, 3, 1, 1, 3, 1, 3, 1, 2, 1, 1, 0, 0, 0, 2,\n",
       "       1, 1, 6, 7, 6, 7, 7, 7, 6, 6, 6, 6, 6, 6, 6, 1, 0, 3, 3, 3, 1, 1,\n",
       "       3, 1, 1, 1, 1, 3, 3, 3, 3, 3, 1, 1, 2, 1, 3, 1, 1, 1, 2, 3, 3, 7,\n",
       "       7, 1, 0, 0, 5, 1, 1, 1, 3, 1, 3, 1, 0, 3, 3, 3, 1, 3, 3, 3, 1, 1,\n",
       "       3, 3, 3, 1, 0, 1, 1, 1, 1, 3, 3, 1, 1, 1, 7, 5, 2, 1, 3, 5, 1, 6,\n",
       "       6, 7, 6, 6, 6, 6, 6, 6, 6, 6, 7, 7, 7, 7, 7, 6, 7, 6, 6, 6, 6, 1,\n",
       "       3, 3, 3, 1, 1, 1, 1, 1, 1, 1, 3, 3, 3, 1, 3, 3, 3, 3, 0, 6, 6, 7,\n",
       "       6, 1, 1, 2, 4, 1, 1, 1, 0, 0, 3, 1, 2, 3, 3, 1, 1, 3, 2, 2, 5, 3,\n",
       "       0, 5, 3, 3, 0, 3, 1, 1, 1, 6, 2, 7, 6, 7, 6, 6, 6, 6, 6, 6, 3, 3,\n",
       "       7, 2, 7, 7, 7, 7, 1, 2, 7, 2, 7, 1, 2, 3, 2, 2, 3, 1, 3, 2, 1, 7,\n",
       "       3, 3, 3, 1, 1, 3, 7, 1, 2, 1, 1, 2, 1, 3, 7, 6, 6, 6, 6, 6, 6, 6,\n",
       "       7, 6, 6, 6, 6, 1, 0, 3, 0, 2, 2, 0, 3, 0, 7, 7, 7, 7, 7, 1, 7, 6,\n",
       "       1, 2, 3, 3, 1, 7, 1, 1, 3, 1, 1, 7, 6, 6, 3, 0, 3, 1, 1, 1, 1, 1,\n",
       "       2, 3, 1, 3, 1, 6, 6, 7, 7, 7, 7, 7, 3, 3, 3, 1, 4, 1, 3, 4, 3, 3,\n",
       "       1, 3, 1, 1, 1, 3, 0, 2, 3, 3, 3, 2, 1, 5, 3, 2, 1, 1, 1, 2, 2, 0,\n",
       "       3, 1, 3, 3, 3, 3, 3, 1, 3, 0, 3, 3, 1, 5, 1, 3, 0, 0, 0, 0, 2, 2,\n",
       "       3, 0, 1, 1, 1, 1, 1, 3, 1, 1, 3, 2, 3, 7, 1, 3, 3, 4, 0, 1, 1, 3,\n",
       "       2, 3, 3, 6, 1, 3, 1, 1, 1, 7, 6, 6, 7, 6, 6, 6, 6, 6, 6, 6, 6, 6,\n",
       "       6, 6, 6, 7, 7, 6, 7, 7, 7, 4, 1, 1, 1, 3, 5, 3, 3, 7, 7, 5, 0, 3,\n",
       "       3, 3, 3, 3, 3, 7, 5, 6, 6, 6, 7, 7, 6, 7, 4, 3, 3, 3, 1, 1, 1, 0,\n",
       "       3, 5, 1, 3, 1, 3, 3, 3, 2, 2, 1, 3, 3, 1, 3, 1, 1, 1, 3, 1, 1, 1,\n",
       "       1, 1, 3, 1, 1, 3, 2, 1, 1, 3, 7, 7, 1, 3, 1, 2, 5, 2, 1, 1, 3, 0,\n",
       "       1, 1, 3, 7, 6, 6, 6, 6, 7, 7, 6, 6, 4, 1, 3, 3, 1, 5, 0, 0, 1, 0,\n",
       "       3, 3, 1, 1, 1, 3, 1, 1, 3, 1, 1, 1, 1, 1, 1, 1, 3, 1, 1, 3, 7, 1,\n",
       "       1, 7, 3, 3, 3, 7, 7, 6, 7, 7, 6, 6, 6, 7, 3, 1, 3, 7, 7, 2, 2, 1,\n",
       "       3, 2, 3, 5, 3, 1, 3, 3, 1, 3, 0, 1, 1, 3, 2, 1, 3, 3, 2, 3, 3, 3,\n",
       "       2, 3, 3, 3, 3, 2, 2, 3, 1, 3, 1, 3, 3, 3, 6, 7, 7, 7, 6, 6, 6, 6,\n",
       "       7, 7, 7, 7, 6, 6, 6, 4, 3, 1, 3, 1, 1, 1, 1, 1, 1, 1, 3, 1, 1, 1,\n",
       "       0, 3, 2, 3, 3, 3, 0, 3, 1, 1, 2, 1, 2, 3, 1, 3, 2, 3, 2, 1, 1, 1,\n",
       "       1, 6, 6, 6, 6, 6, 6, 6, 7, 6, 6, 6, 6, 7, 7, 6, 7, 3, 3, 3, 1, 0,\n",
       "       3, 3, 1, 1, 5, 5, 0, 0, 0, 0, 3, 1, 0, 1, 3, 1, 1, 1, 0, 1, 1, 3,\n",
       "       3, 3, 3, 3, 3, 3, 3, 0, 1, 3, 3, 3, 1, 0, 0, 1, 7, 1, 1, 1, 1, 1,\n",
       "       3, 1, 1, 3, 1, 0, 3, 1, 3, 3, 3, 3, 1, 3, 2, 1, 1, 3, 3, 1, 1, 7,\n",
       "       7, 7, 6, 6, 7, 6, 6, 6, 7, 6, 6, 6, 6, 6, 6, 7, 7, 7, 1, 6, 6, 7,\n",
       "       6, 7, 7, 7, 7, 7, 7, 7, 6, 7, 1, 1, 3, 1, 1, 1, 1, 3, 1, 2, 4, 3,\n",
       "       3, 3, 3, 3, 3, 3, 3, 1, 2, 1, 5, 3, 3, 3, 1, 1, 1, 1, 1, 5, 2, 2,\n",
       "       1, 5, 0, 1, 1, 1, 7, 7, 7, 7, 6, 7, 6, 7, 7, 6, 7, 7, 6, 7, 7, 7,\n",
       "       3, 3, 1, 1, 3, 3, 1, 3, 3, 3, 1, 2, 7, 3, 3, 3, 3, 2, 2, 3, 3, 3,\n",
       "       2, 1, 7, 3, 3, 2, 1, 2, 3, 1, 1, 1, 2, 0, 2, 1, 1, 2, 1, 1, 3, 3,\n",
       "       1, 7, 7, 7, 6, 1, 1, 1, 1, 3, 3, 6, 6, 7, 7, 7, 1, 0, 5, 1, 6, 7,\n",
       "       1, 7], dtype=int64)"
      ]
     },
     "execution_count": 99,
     "metadata": {},
     "output_type": "execute_result"
    }
   ],
   "source": [
    "le=LabelEncoder()\n",
    "le.fit(target)\n",
    "target=le.transform(target)\n",
    "target"
   ]
  },
  {
   "cell_type": "markdown",
   "id": "b7bb4121",
   "metadata": {},
   "source": [
    "# Feature Importance"
   ]
  },
  {
   "cell_type": "code",
   "execution_count": 100,
   "id": "29efed81",
   "metadata": {},
   "outputs": [
    {
     "data": {
      "text/plain": [
       "RandomForestRegressor()"
      ]
     },
     "execution_count": 100,
     "metadata": {},
     "output_type": "execute_result"
    }
   ],
   "source": [
    "from sklearn.ensemble import RandomForestRegressor\n",
    "import matplotlib.pyplot as plt\n",
    "feature_rf = RandomForestRegressor()\n",
    "feature_rf.fit(features,target)"
   ]
  },
  {
   "cell_type": "code",
   "execution_count": 101,
   "id": "e0fb7c0f",
   "metadata": {},
   "outputs": [
    {
     "name": "stdout",
     "output_type": "stream",
     "text": [
      "[0.3037858  0.21292014 0.2710226  0.21227146]\n"
     ]
    }
   ],
   "source": [
    "print(feature_rf.feature_importances_)"
   ]
  },
  {
   "cell_type": "code",
   "execution_count": 102,
   "id": "eb5915f8",
   "metadata": {},
   "outputs": [
    {
     "data": {
      "image/png": "[encoded data removed]",
      "text/plain": [
       "<Figure size 432x288 with 1 Axes>"
      ]
     },
     "metadata": {
      "needs_background": "light"
     },
     "output_type": "display_data"
    }
   ],
   "source": [
    "#plot graph of feature importances for better visualization\n",
    "featureImportance = pd.Series(feature_rf.feature_importances_, index=features.columns)\n",
    "featureImportance.nlargest(5).plot(kind='barh',color=\"green\")\n",
    "plt.show()"
   ]
  },
  {
   "cell_type": "markdown",
   "id": "f1d4e16a",
   "metadata": {},
   "source": [
    "So we see that capacity_mw is the most important feature, followed by longitude, latitude and geolocation_source"
   ]
  },
  {
   "cell_type": "markdown",
   "id": "2bb99cc7",
   "metadata": {},
   "source": [
    "# Train Test Split"
   ]
  },
  {
   "cell_type": "code",
   "execution_count": 103,
   "id": "069fa217",
   "metadata": {},
   "outputs": [],
   "source": [
    "from sklearn.model_selection import train_test_split\n",
    "from sklearn.linear_model import LinearRegression\n",
    "from sklearn.metrics import mean_absolute_error\n",
    "from sklearn.metrics import mean_squared_error\n",
    "from sklearn.metrics import r2_score\n",
    "from sklearn.metrics import accuracy_score\n",
    "from sklearn.linear_model import LinearRegression"
   ]
  },
  {
   "cell_type": "markdown",
   "id": "af321f38",
   "metadata": {},
   "source": [
    "# Primary_Fuel Prediction"
   ]
  },
  {
   "cell_type": "markdown",
   "id": "e15e9fb7",
   "metadata": {},
   "source": [
    "# Logistic Regression"
   ]
  },
  {
   "cell_type": "code",
   "execution_count": 104,
   "id": "1530ef9a",
   "metadata": {},
   "outputs": [],
   "source": [
    "from sklearn.linear_model import LogisticRegression\n",
    "from sklearn.metrics import accuracy_score,confusion_matrix,classification_report,roc_auc_score\n",
    "from sklearn.model_selection import train_test_split\n",
    "from sklearn.model_selection import cross_val_score\n",
    "lgr=LogisticRegression()"
   ]
  },
  {
   "cell_type": "code",
   "execution_count": 105,
   "id": "86d26203",
   "metadata": {},
   "outputs": [
    {
     "data": {
      "text/plain": [
       "((882,), (882, 4))"
      ]
     },
     "execution_count": 105,
     "metadata": {},
     "output_type": "execute_result"
    }
   ],
   "source": [
    "target.shape, features.shape"
   ]
  },
  {
   "cell_type": "code",
   "execution_count": 106,
   "id": "b772c818",
   "metadata": {},
   "outputs": [],
   "source": [
    "def get_accuracy_score(model,x,y):\n",
    "    max_accuracy_score=0\n",
    "    for i in range(40,100):\n",
    "        x_train, x_test, y_train, y_test = train_test_split(features,target,test_size=0.20,random_state=i,stratify=target)\n",
    "        model.fit(x_train,y_train)\n",
    "        pred_test = model.predict(x_test)\n",
    "        y_predLR_proba= lgr.predict_proba(x_test)\n",
    "        roc_auc_score_LR=roc_auc_score(y_test, y_predLR_proba,multi_class='ovr')\n",
    "        print(\"At\",i,\"roc_auc_score is :\",roc_auc_score_LR)\n",
    "        if roc_auc_score_LR>max_accuracy_score:\n",
    "            max_accuracy_score=roc_auc_score_LR\n",
    "            final_i=i\n",
    "    print(\"At\",final_i,\"max_accuracy_score is :\",max_accuracy_score)\n",
    "    return final_i"
   ]
  },
  {
   "cell_type": "code",
   "execution_count": 107,
   "id": "dce9f8dd",
   "metadata": {},
   "outputs": [
    {
     "name": "stdout",
     "output_type": "stream",
     "text": [
      "At 40 roc_auc_score is : 0.8254445213194964\n",
      "At 41 roc_auc_score is : 0.7739526024132408\n",
      "At 42 roc_auc_score is : 0.8136116144639546\n",
      "At 43 roc_auc_score is : 0.8429072256654451\n",
      "At 44 roc_auc_score is : 0.8267099782813511\n",
      "At 45 roc_auc_score is : 0.8290057554480109\n",
      "At 46 roc_auc_score is : 0.8444414323844744\n",
      "At 47 roc_auc_score is : 0.8222818620413614\n",
      "At 48 roc_auc_score is : 0.8377545468389248\n",
      "At 49 roc_auc_score is : 0.8333110050685876\n",
      "At 50 roc_auc_score is : 0.8260325082505624\n",
      "At 51 roc_auc_score is : 0.8157097094812502\n",
      "At 52 roc_auc_score is : 0.8200715514074175\n",
      "At 53 roc_auc_score is : 0.826578548045239\n",
      "At 54 roc_auc_score is : 0.8207835754848098\n",
      "At 55 roc_auc_score is : 0.8202995068637504\n",
      "At 56 roc_auc_score is : 0.8572379696496355\n",
      "At 57 roc_auc_score is : 0.8135911253884921\n",
      "At 58 roc_auc_score is : 0.8030937882281028\n",
      "At 59 roc_auc_score is : 0.8022188338308557\n",
      "At 60 roc_auc_score is : 0.8132234376793958\n",
      "At 61 roc_auc_score is : 0.8169207466070846\n",
      "At 62 roc_auc_score is : 0.8494099798987096\n",
      "At 63 roc_auc_score is : 0.8373350245769214\n",
      "At 64 roc_auc_score is : 0.8529291188773723\n",
      "At 65 roc_auc_score is : 0.8148125163669786\n",
      "At 66 roc_auc_score is : 0.8443740761256335\n",
      "At 67 roc_auc_score is : 0.8018222905852846\n",
      "At 68 roc_auc_score is : 0.8084772936004813\n",
      "At 69 roc_auc_score is : 0.8258410192367122\n",
      "At 70 roc_auc_score is : 0.820037390338659\n",
      "At 71 roc_auc_score is : 0.8231311140528985\n",
      "At 72 roc_auc_score is : 0.8192933932209774\n",
      "At 73 roc_auc_score is : 0.8462790694988516\n",
      "At 74 roc_auc_score is : 0.7655388145214876\n",
      "At 75 roc_auc_score is : 0.865059343585701\n",
      "At 76 roc_auc_score is : 0.8293206698576647\n",
      "At 77 roc_auc_score is : 0.7983076004664902\n",
      "At 78 roc_auc_score is : 0.8760334246507728\n",
      "At 79 roc_auc_score is : 0.8351130295641411\n",
      "At 80 roc_auc_score is : 0.8509821063282066\n",
      "At 81 roc_auc_score is : 0.8117196275609553\n",
      "At 82 roc_auc_score is : 0.8663972111154739\n",
      "At 83 roc_auc_score is : 0.8363164200481753\n",
      "At 84 roc_auc_score is : 0.8202380772843784\n",
      "At 85 roc_auc_score is : 0.8550326073742589\n",
      "At 86 roc_auc_score is : 0.8290120090012795\n",
      "At 87 roc_auc_score is : 0.8368174934685357\n",
      "At 88 roc_auc_score is : 0.8618392911153874\n",
      "At 89 roc_auc_score is : 0.8612517164939092\n",
      "At 90 roc_auc_score is : 0.861518320582594\n",
      "At 91 roc_auc_score is : 0.8615705864227701\n",
      "At 92 roc_auc_score is : 0.8063689188262899\n",
      "At 93 roc_auc_score is : 0.8230388008947811\n",
      "At 94 roc_auc_score is : 0.8445322748465839\n",
      "At 95 roc_auc_score is : 0.8176157428922326\n",
      "At 96 roc_auc_score is : 0.7993003992268252\n",
      "At 97 roc_auc_score is : 0.8006634536349689\n",
      "At 98 roc_auc_score is : 0.8434838688851584\n",
      "At 99 roc_auc_score is : 0.8225883160219787\n",
      "At 78 max_accuracy_score is : 0.8760334246507728\n"
     ]
    },
    {
     "data": {
      "text/plain": [
       "78"
      ]
     },
     "execution_count": 107,
     "metadata": {},
     "output_type": "execute_result"
    }
   ],
   "source": [
    "get_accuracy_score(lgr,features,target)"
   ]
  },
  {
   "cell_type": "code",
   "execution_count": 108,
   "id": "89a62317",
   "metadata": {},
   "outputs": [
    {
     "data": {
      "text/plain": [
       "LogisticRegression()"
      ]
     },
     "execution_count": 108,
     "metadata": {},
     "output_type": "execute_result"
    }
   ],
   "source": [
    "x_train, x_test, y_train, y_test = train_test_split(features,target,random_state=78,test_size=0.20,stratify=target)\n",
    "lgr.fit(x_train,y_train)"
   ]
  },
  {
   "cell_type": "code",
   "execution_count": 109,
   "id": "040f79ad",
   "metadata": {},
   "outputs": [],
   "source": [
    "pred_test = lgr.predict(x_test)"
   ]
  },
  {
   "cell_type": "code",
   "execution_count": 110,
   "id": "2f112a8a",
   "metadata": {},
   "outputs": [
    {
     "data": {
      "text/plain": [
       "array([[5.01286364e-04, 4.67268839e-02, 1.12003999e-02, ...,\n",
       "        2.36268276e-03, 9.08962594e-01, 8.68953467e-04],\n",
       "       [8.61142820e-04, 2.66801404e-04, 1.57122316e-04, ...,\n",
       "        2.02305588e-04, 9.95653244e-01, 5.62763024e-04],\n",
       "       [9.80088606e-02, 1.28155540e-01, 5.38944482e-02, ...,\n",
       "        2.88668100e-02, 5.80752899e-03, 2.55957752e-01],\n",
       "       ...,\n",
       "       [7.52657727e-02, 2.08014871e-01, 9.55433567e-02, ...,\n",
       "        4.20732818e-02, 3.39230924e-03, 2.09274939e-01],\n",
       "       [3.23214963e-02, 3.65582465e-01, 1.54458567e-01, ...,\n",
       "        4.55285268e-02, 2.09453399e-03, 1.03985256e-01],\n",
       "       [2.85637625e-01, 2.30674903e-02, 2.45828874e-02, ...,\n",
       "        3.22108700e-02, 6.75653571e-04, 5.04215569e-01]])"
      ]
     },
     "execution_count": 110,
     "metadata": {},
     "output_type": "execute_result"
    }
   ],
   "source": [
    "y_predLR_proba= lgr.predict_proba(x_test)\n",
    "y_predLR_proba"
   ]
  },
  {
   "cell_type": "code",
   "execution_count": 111,
   "id": "ae861f36",
   "metadata": {},
   "outputs": [
    {
     "data": {
      "text/plain": [
       "0.8760334246507728"
      ]
     },
     "execution_count": 111,
     "metadata": {},
     "output_type": "execute_result"
    }
   ],
   "source": [
    "roc_auc_score_LR=roc_auc_score(y_test, y_predLR_proba,multi_class='ovr')\n",
    "roc_auc_score_LR"
   ]
  },
  {
   "cell_type": "code",
   "execution_count": 112,
   "id": "9b2d7a4e",
   "metadata": {},
   "outputs": [
    {
     "name": "stdout",
     "output_type": "stream",
     "text": [
      "Classification Report\n",
      "               precision    recall  f1-score   support\n",
      "\n",
      "           0       0.00      0.00      0.00        10\n",
      "           1       0.52      0.65      0.58        52\n",
      "           2       0.00      0.00      0.00        13\n",
      "           3       0.38      0.43      0.40        47\n",
      "           4       0.00      0.00      0.00         2\n",
      "           5       0.00      0.00      0.00         4\n",
      "           6       1.00      1.00      1.00        25\n",
      "           7       0.39      0.54      0.46        24\n",
      "\n",
      "    accuracy                           0.52       177\n",
      "   macro avg       0.29      0.33      0.30       177\n",
      "weighted avg       0.45      0.52      0.48       177\n",
      "\n",
      "Confusion Matrix\n",
      " [[ 0  0  0  3  0  0  0  7]\n",
      " [ 0 34  0 17  0  0  0  1]\n",
      " [ 0 13  0  0  0  0  0  0]\n",
      " [ 0 15  0 20  0  0  0 12]\n",
      " [ 0  2  0  0  0  0  0  0]\n",
      " [ 0  2  0  2  0  0  0  0]\n",
      " [ 0  0  0  0  0  0 25  0]\n",
      " [ 0  0  0 11  0  0  0 13]]\n"
     ]
    }
   ],
   "source": [
    "from sklearn.metrics import classification_report, confusion_matrix\n",
    "from sklearn.model_selection import GridSearchCV, cross_val_score\n",
    "\n",
    "# classification report\n",
    "print(\"Classification Report\\n\",classification_report(y_test, pred_test))\n",
    "\n",
    "# confusion matrix\n",
    "print(\"Confusion Matrix\\n\",confusion_matrix(y_test, pred_test))"
   ]
  },
  {
   "cell_type": "code",
   "execution_count": 118,
   "id": "f23b28f8",
   "metadata": {},
   "outputs": [
    {
     "data": {
      "text/plain": [
       "0.8262749604235724"
      ]
     },
     "execution_count": 118,
     "metadata": {},
     "output_type": "execute_result"
    }
   ],
   "source": [
    "clfLR_cvScore=cross_val_score(lgr,features,target,cv=5,scoring='roc_auc_ovr').mean()\n",
    "clfLR_cvScore"
   ]
  },
  {
   "cell_type": "code",
   "execution_count": 119,
   "id": "12fc4893",
   "metadata": {},
   "outputs": [
    {
     "data": {
      "text/plain": [
       "<matplotlib.legend.Legend at 0x1c80a4db3d0>"
      ]
     },
     "execution_count": 119,
     "metadata": {},
     "output_type": "execute_result"
    },
    {
     "data": {
      "image/png": "[encoded data removed]",
      "text/plain": [
       "<Figure size 432x288 with 1 Axes>"
      ]
     },
     "metadata": {
      "needs_background": "light"
     },
     "output_type": "display_data"
    }
   ],
   "source": [
    "from sklearn.metrics import roc_curve, precision_recall_curve,roc_auc_score, f1_score, confusion_matrix\n",
    "fpr, tpr, thresholds = roc_curve(y_test,lgr.predict_proba(x_test)[:,1],pos_label=1)\n",
    "precision, recall, thresholds = precision_recall_curve(y_test,lgr.predict_proba(x_test)[:,1],pos_label=1)\n",
    "plt.plot(fpr, tpr, label='lgr',lw=5,color=\"orange\")\n",
    "plt.xlabel(\"False Positive Rate\")\n",
    "plt.ylabel(\"True Positive Rate\")\n",
    "plt.title(\"ROC AUC Curve For Logistic Regression\")\n",
    "plt.plot([0,1], [0,1], label='Linear Line', color='navy',lw=5,linestyle='--')\n",
    "plt.legend()"
   ]
  },
  {
   "cell_type": "code",
   "execution_count": 120,
   "id": "526356b7",
   "metadata": {},
   "outputs": [
    {
     "data": {
      "text/html": [
       "<div>\n",
       "<style scoped>\n",
       "    .dataframe tbody tr th:only-of-type {\n",
       "        vertical-align: middle;\n",
       "    }\n",
       "\n",
       "    .dataframe tbody tr th {\n",
       "        vertical-align: top;\n",
       "    }\n",
       "\n",
       "    .dataframe thead th {\n",
       "        text-align: right;\n",
       "    }\n",
       "</style>\n",
       "<table border=\"1\" class=\"dataframe\">\n",
       "  <thead>\n",
       "    <tr style=\"text-align: right;\">\n",
       "      <th></th>\n",
       "      <th>Model</th>\n",
       "      <th>ROC_AUC Score</th>\n",
       "      <th>CV Score</th>\n",
       "    </tr>\n",
       "  </thead>\n",
       "  <tbody>\n",
       "    <tr>\n",
       "      <th>0</th>\n",
       "      <td>Logistic Regression</td>\n",
       "      <td>0.876033</td>\n",
       "      <td>0.826275</td>\n",
       "    </tr>\n",
       "  </tbody>\n",
       "</table>\n",
       "</div>"
      ],
      "text/plain": [
       "                 Model  ROC_AUC Score  CV Score\n",
       "0  Logistic Regression       0.876033  0.826275"
      ]
     },
     "execution_count": 120,
     "metadata": {},
     "output_type": "execute_result"
    }
   ],
   "source": [
    "clfLR_data = {'Model': ['Logistic Regression'],            \n",
    "             'ROC_AUC Score': roc_auc_score_LR,\n",
    "             'CV Score': clfLR_cvScore\n",
    "            }\n",
    "\n",
    "clf_LR_df = pd.DataFrame(clfLR_data)  \n",
    "clf_LR_df"
   ]
  },
  {
   "cell_type": "markdown",
   "id": "3d9e09b7",
   "metadata": {},
   "source": [
    "# KNN Classifier"
   ]
  },
  {
   "cell_type": "code",
   "execution_count": 121,
   "id": "562bd776",
   "metadata": {},
   "outputs": [],
   "source": [
    "from sklearn.neighbors import KNeighborsClassifier"
   ]
  },
  {
   "cell_type": "code",
   "execution_count": 205,
   "id": "3a6758b5",
   "metadata": {},
   "outputs": [
    {
     "name": "stdout",
     "output_type": "stream",
     "text": [
      "At 40 aucroc score is  0.8376639412729153\n",
      "At 41 aucroc score is  0.8092004668354554\n",
      "At 42 aucroc score is  0.8305468784615572\n",
      "At 43 aucroc score is  0.8233755556769158\n",
      "At 44 aucroc score is  0.8368415053829829\n",
      "At 45 aucroc score is  0.7778879973462136\n",
      "At 46 aucroc score is  0.858783801470747\n",
      "At 47 aucroc score is  0.7891240495696659\n",
      "At 48 aucroc score is  0.82036030187375\n",
      "At 49 aucroc score is  0.8340935885249899\n",
      "At 50 aucroc score is  0.8141299154192595\n",
      "At 51 aucroc score is  0.8277782154002278\n",
      "At 52 aucroc score is  0.7993096287336438\n",
      "At 53 aucroc score is  0.8410064800762171\n",
      "At 54 aucroc score is  0.8357354970637242\n",
      "At 55 aucroc score is  0.8410559333779541\n",
      "At 56 aucroc score is  0.863355170297037\n",
      "At 57 aucroc score is  0.7959452104912477\n",
      "At 58 aucroc score is  0.8169226332921753\n",
      "At 59 aucroc score is  0.789489142308117\n",
      "At 60 aucroc score is  0.7757662567648911\n",
      "At 61 aucroc score is  0.7887402394467632\n",
      "At 62 aucroc score is  0.8425408701775285\n",
      "At 63 aucroc score is  0.8381654962709895\n",
      "At 64 aucroc score is  0.8283381079082978\n",
      "At 65 aucroc score is  0.8471759490278186\n",
      "At 66 aucroc score is  0.8391116455502796\n",
      "At 67 aucroc score is  0.7743944412983754\n",
      "At 68 aucroc score is  0.8156261008474341\n",
      "At 69 aucroc score is  0.8126252288315943\n",
      "At 70 aucroc score is  0.7866920997776611\n",
      "At 71 aucroc score is  0.8329489919383779\n",
      "At 72 aucroc score is  0.8018868013592626\n",
      "At 73 aucroc score is  0.8287878889542446\n",
      "At 74 aucroc score is  0.732688633020693\n",
      "At 75 aucroc score is  0.7616636365982947\n",
      "At 76 aucroc score is  0.7546308538211816\n",
      "At 77 aucroc score is  0.7907598641649243\n",
      "At 78 aucroc score is  0.8518644743244412\n",
      "At 79 aucroc score is  0.7566465618368409\n",
      "At 80 aucroc score is  0.7690749267148704\n",
      "At 81 aucroc score is  0.8078133263521395\n",
      "At 82 aucroc score is  0.7716473812602267\n",
      "At 83 aucroc score is  0.8220583471028293\n",
      "At 84 aucroc score is  0.8203024790614564\n",
      "At 85 aucroc score is  0.8027067286361635\n",
      "At 86 aucroc score is  0.8370775484424745\n",
      "At 87 aucroc score is  0.8253291168992147\n",
      "At 88 aucroc score is  0.8120493819706107\n",
      "At 89 aucroc score is  0.8386459025762196\n",
      "At 90 aucroc score is  0.8020922677071614\n",
      "At 91 aucroc score is  0.8319267346987684\n",
      "At 92 aucroc score is  0.803870494557489\n",
      "At 93 aucroc score is  0.8264230999962042\n",
      "At 94 aucroc score is  0.8237155446318989\n",
      "At 95 aucroc score is  0.8183802692077145\n",
      "At 96 aucroc score is  0.7963314543455657\n",
      "At 97 aucroc score is  0.817046361111794\n",
      "At 98 aucroc score is  0.8008698984917673\n",
      "At 99 aucroc score is  0.7803119067945337\n",
      "Select the max aucroc score at  56 which is 0.863355170297037\n"
     ]
    }
   ],
   "source": [
    "max_aucroc_score_knn=0\n",
    "for i in range(40,100):\n",
    "    x_train, x_test, y_train, y_test = train_test_split(features,target,test_size=0.20,random_state=i,stratify=target)\n",
    "    knn=KNeighborsClassifier(n_neighbors=i)\n",
    "    knn.fit(x_train,y_train)\n",
    "    y_pred=knn.predict(x_test)\n",
    "    y_predKnn_proba= knn.predict_proba(x_test)\n",
    "    roc_auc_score_knn=roc_auc_score(y_test, y_predKnn_proba,multi_class='ovr')\n",
    "    print(\"At\",i,\"aucroc score is \",roc_auc_score_knn)\n",
    "    if roc_auc_score_knn>max_aucroc_score_knn:\n",
    "        max_aucroc_score_knn=roc_auc_score_knn\n",
    "        final_i=i\n",
    "print(\"Select the max aucroc score at \",final_i,\"which is\",max_aucroc_score_knn)"
   ]
  },
  {
   "cell_type": "code",
   "execution_count": 224,
   "id": "1a5a81bb",
   "metadata": {},
   "outputs": [],
   "source": [
    "x_train, x_test, y_train, y_test = train_test_split(features,target,test_size=0.20,random_state=56,stratify=target)\n",
    "knn=KNeighborsClassifier()"
   ]
  },
  {
   "cell_type": "code",
   "execution_count": 225,
   "id": "aec4e593",
   "metadata": {},
   "outputs": [],
   "source": [
    "knn.fit(x_train,y_train)\n",
    "y_pred=knn.predict(x_test)"
   ]
  },
  {
   "cell_type": "code",
   "execution_count": 226,
   "id": "1169c126",
   "metadata": {},
   "outputs": [
    {
     "data": {
      "text/plain": [
       "array([2, 2, 1, 1, 7, 1, 6, 1, 1, 3, 7, 6, 7, 7, 3, 1, 1, 3, 3, 7, 1, 3,\n",
       "       6, 6, 7, 1, 0, 7, 1, 0, 5, 3, 1, 7, 3, 6, 6, 3, 1, 1, 0, 3, 3, 7,\n",
       "       7, 1, 1, 3, 6, 0, 0, 1, 1, 3, 1, 1, 0, 7, 3, 3, 1, 1, 1, 1, 3, 3,\n",
       "       1, 1, 1, 3, 6, 6, 3, 3, 0, 3, 1, 3, 7, 3, 1, 7, 7, 1, 1, 1, 1, 3,\n",
       "       1, 1, 7, 1, 6, 1, 3, 2, 7, 0, 2, 0, 0, 6, 6, 6, 1, 1, 1, 1, 6, 5,\n",
       "       1, 6, 3, 1, 3, 6, 3, 6, 2, 7, 3, 3, 3, 0, 1, 3, 6, 3, 1, 1, 3, 6,\n",
       "       7, 1, 2, 6, 3, 1, 0, 1, 1, 1, 1, 6, 1, 1, 7, 3, 7, 3, 2, 3, 3, 1,\n",
       "       6, 6, 1, 2, 3, 3, 3, 1, 3, 3, 6, 3, 3, 3, 1, 1, 0, 1, 0, 0, 1, 1,\n",
       "       3], dtype=int64)"
      ]
     },
     "execution_count": 226,
     "metadata": {},
     "output_type": "execute_result"
    }
   ],
   "source": [
    "y_pred"
   ]
  },
  {
   "cell_type": "code",
   "execution_count": 227,
   "id": "b7667717",
   "metadata": {},
   "outputs": [],
   "source": [
    "y_predKnn_proba= knn.predict_proba(x_test)"
   ]
  },
  {
   "cell_type": "code",
   "execution_count": 228,
   "id": "d87298cb",
   "metadata": {},
   "outputs": [
    {
     "data": {
      "text/plain": [
       "array([[0. , 0.2, 0.8, ..., 0. , 0. , 0. ],\n",
       "       [0. , 0.2, 0.4, ..., 0. , 0. , 0. ],\n",
       "       [0. , 0.8, 0.2, ..., 0. , 0. , 0. ],\n",
       "       ...,\n",
       "       [0.2, 0.4, 0.2, ..., 0. , 0. , 0.2],\n",
       "       [0. , 0.6, 0.2, ..., 0. , 0. , 0. ],\n",
       "       [0. , 0. , 0.2, ..., 0. , 0. , 0.4]])"
      ]
     },
     "execution_count": 228,
     "metadata": {},
     "output_type": "execute_result"
    }
   ],
   "source": [
    "y_predKnn_proba"
   ]
  },
  {
   "cell_type": "code",
   "execution_count": 229,
   "id": "7afdf600",
   "metadata": {},
   "outputs": [],
   "source": [
    "roc_auc_score_knn=roc_auc_score(y_test, y_predKnn_proba,multi_class='ovr')"
   ]
  },
  {
   "cell_type": "code",
   "execution_count": 230,
   "id": "22616a79",
   "metadata": {},
   "outputs": [
    {
     "data": {
      "text/plain": [
       "0.8305340117828346"
      ]
     },
     "execution_count": 230,
     "metadata": {},
     "output_type": "execute_result"
    }
   ],
   "source": [
    "roc_auc_score_knn"
   ]
  },
  {
   "cell_type": "markdown",
   "id": "f08ca958",
   "metadata": {},
   "source": [
    "# Cross Validation Score"
   ]
  },
  {
   "cell_type": "code",
   "execution_count": 235,
   "id": "fd6606a2",
   "metadata": {},
   "outputs": [
    {
     "data": {
      "text/plain": [
       "0.8092880074241968"
      ]
     },
     "execution_count": 235,
     "metadata": {},
     "output_type": "execute_result"
    }
   ],
   "source": [
    "knn_cv_score=cross_val_score(knn,features,target,cv=5,scoring='roc_auc_ovr').mean()\n",
    "knn_cv_score"
   ]
  },
  {
   "cell_type": "code",
   "execution_count": 236,
   "id": "158089d9",
   "metadata": {},
   "outputs": [
    {
     "data": {
      "text/html": [
       "<div>\n",
       "<style scoped>\n",
       "    .dataframe tbody tr th:only-of-type {\n",
       "        vertical-align: middle;\n",
       "    }\n",
       "\n",
       "    .dataframe tbody tr th {\n",
       "        vertical-align: top;\n",
       "    }\n",
       "\n",
       "    .dataframe thead th {\n",
       "        text-align: right;\n",
       "    }\n",
       "</style>\n",
       "<table border=\"1\" class=\"dataframe\">\n",
       "  <thead>\n",
       "    <tr style=\"text-align: right;\">\n",
       "      <th></th>\n",
       "      <th>Model</th>\n",
       "      <th>ROC_AUC Score</th>\n",
       "      <th>CV Score</th>\n",
       "    </tr>\n",
       "  </thead>\n",
       "  <tbody>\n",
       "    <tr>\n",
       "      <th>0</th>\n",
       "      <td>KNeighborsClassifier</td>\n",
       "      <td>0.830534</td>\n",
       "      <td>0.809288</td>\n",
       "    </tr>\n",
       "  </tbody>\n",
       "</table>\n",
       "</div>"
      ],
      "text/plain": [
       "                  Model  ROC_AUC Score  CV Score\n",
       "0  KNeighborsClassifier       0.830534  0.809288"
      ]
     },
     "execution_count": 236,
     "metadata": {},
     "output_type": "execute_result"
    }
   ],
   "source": [
    "clfKNN_data = {'Model': ['KNeighborsClassifier'],            \n",
    "             'ROC_AUC Score': roc_auc_score_knn,\n",
    "             'CV Score': knn_cv_score\n",
    "            }  \n",
    "\n",
    "clf_KNN_df = pd.DataFrame(clfKNN_data)  \n",
    "clf_KNN_df"
   ]
  },
  {
   "cell_type": "code",
   "execution_count": 237,
   "id": "5f237516",
   "metadata": {},
   "outputs": [
    {
     "name": "stdout",
     "output_type": "stream",
     "text": [
      "Confusion Matrix\n",
      " ----------------------------------- \n",
      " [[ 8  0  0  1  0  1  0  0]\n",
      " [ 2 42  1  5  0  0  0  2]\n",
      " [ 0  5  3  5  0  0  0  0]\n",
      " [ 3 11  3 24  0  1  0  5]\n",
      " [ 0  2  0  0  0  0  0  0]\n",
      " [ 1  0  1  2  0  0  0  0]\n",
      " [ 0  1  0  0  0  0 24  0]\n",
      " [ 1  0  0 10  0  0  0 13]]\n"
     ]
    }
   ],
   "source": [
    "print(\"Confusion Matrix\\n\",'-'*35,\"\\n\",confusion_matrix(y_test,y_pred))"
   ]
  },
  {
   "cell_type": "code",
   "execution_count": 238,
   "id": "ca75133e",
   "metadata": {},
   "outputs": [
    {
     "name": "stdout",
     "output_type": "stream",
     "text": [
      "Classification Report \n",
      "               precision    recall  f1-score   support\n",
      "\n",
      "           0       0.53      0.80      0.64        10\n",
      "           1       0.69      0.81      0.74        52\n",
      "           2       0.38      0.23      0.29        13\n",
      "           3       0.51      0.51      0.51        47\n",
      "           4       0.00      0.00      0.00         2\n",
      "           5       0.00      0.00      0.00         4\n",
      "           6       1.00      0.96      0.98        25\n",
      "           7       0.65      0.54      0.59        24\n",
      "\n",
      "    accuracy                           0.64       177\n",
      "   macro avg       0.47      0.48      0.47       177\n",
      "weighted avg       0.62      0.64      0.63       177\n",
      "\n"
     ]
    }
   ],
   "source": [
    "print(\"Classification Report\",\"\\n\",classification_report(y_test,y_pred))"
   ]
  },
  {
   "cell_type": "markdown",
   "id": "5580ef67",
   "metadata": {},
   "source": [
    "# Decision Tree Classifier"
   ]
  },
  {
   "cell_type": "code",
   "execution_count": 139,
   "id": "979e3d8d",
   "metadata": {},
   "outputs": [],
   "source": [
    "from sklearn.tree import DecisionTreeClassifier\n",
    "tree=DecisionTreeClassifier(max_depth=3,random_state=i,criterion='gini')"
   ]
  },
  {
   "cell_type": "code",
   "execution_count": 140,
   "id": "1e4476c0",
   "metadata": {},
   "outputs": [
    {
     "name": "stdout",
     "output_type": "stream",
     "text": [
      "At 40 aucroc score is  0.7826217290384561\n",
      "At 41 aucroc score is  0.7583667841260773\n",
      "At 42 aucroc score is  0.7541705461588082\n",
      "At 43 aucroc score is  0.7899086446721404\n",
      "At 44 aucroc score is  0.790299476819847\n",
      "At 45 aucroc score is  0.7545003385142985\n",
      "At 46 aucroc score is  0.724194008628378\n",
      "At 47 aucroc score is  0.7479346077956367\n",
      "At 48 aucroc score is  0.800424402257644\n",
      "At 49 aucroc score is  0.737923301788243\n",
      "At 50 aucroc score is  0.7476973459049359\n",
      "At 51 aucroc score is  0.7737722948740777\n",
      "At 52 aucroc score is  0.7653101425611207\n",
      "At 53 aucroc score is  0.775968864150572\n",
      "At 54 aucroc score is  0.7796708277176012\n",
      "At 55 aucroc score is  0.7616541454970014\n",
      "At 56 aucroc score is  0.7512617522732383\n",
      "At 57 aucroc score is  0.760536262758842\n",
      "At 58 aucroc score is  0.7234430668705798\n",
      "At 59 aucroc score is  0.7356177286695107\n",
      "At 60 aucroc score is  0.7318229352026956\n",
      "At 61 aucroc score is  0.7561235198055165\n",
      "At 62 aucroc score is  0.7833426640511798\n",
      "At 63 aucroc score is  0.7856872205702422\n",
      "At 64 aucroc score is  0.7186043780612467\n",
      "At 65 aucroc score is  0.7132903709495753\n",
      "At 66 aucroc score is  0.7579170878422872\n",
      "At 67 aucroc score is  0.7634880319660444\n",
      "At 68 aucroc score is  0.7482609278723821\n",
      "At 69 aucroc score is  0.7609990005640932\n",
      "At 70 aucroc score is  0.7245221299022595\n",
      "At 71 aucroc score is  0.7532734484330598\n",
      "At 72 aucroc score is  0.7430415301109086\n",
      "At 73 aucroc score is  0.7676410333969474\n",
      "At 74 aucroc score is  0.7174538537985893\n",
      "At 75 aucroc score is  0.753230751669882\n",
      "At 76 aucroc score is  0.7503159721692372\n",
      "At 77 aucroc score is  0.7268603417188158\n",
      "At 78 aucroc score is  0.7258105526323937\n",
      "At 79 aucroc score is  0.7482360628475622\n",
      "At 80 aucroc score is  0.7448511091364407\n",
      "At 81 aucroc score is  0.7560715968208023\n",
      "At 82 aucroc score is  0.77419766119625\n",
      "At 83 aucroc score is  0.7452013655075662\n",
      "At 84 aucroc score is  0.7770054387661582\n",
      "At 85 aucroc score is  0.7728229436950675\n",
      "At 86 aucroc score is  0.7422987085871178\n",
      "At 87 aucroc score is  0.7422482693331723\n",
      "At 88 aucroc score is  0.77915534911011\n",
      "At 89 aucroc score is  0.771537696557874\n",
      "At 90 aucroc score is  0.7787431017851947\n",
      "At 91 aucroc score is  0.779776219515873\n",
      "At 92 aucroc score is  0.7606087090361782\n",
      "At 93 aucroc score is  0.7920515500349004\n",
      "At 94 aucroc score is  0.7922143214773842\n",
      "At 95 aucroc score is  0.750498889538256\n",
      "At 96 aucroc score is  0.7046231433944699\n",
      "At 97 aucroc score is  0.7372364526837851\n",
      "At 98 aucroc score is  0.7855535509371948\n",
      "At 99 aucroc score is  0.7515608894869321\n",
      "Select the max aucroc score at  48 which is 0.800424402257644\n"
     ]
    }
   ],
   "source": [
    "max_aucroc_score=0\n",
    "for i in range(40,100):\n",
    "    x_train, x_test, y_train, y_test = train_test_split(features,target,test_size=0.20,random_state=i,stratify=target)\n",
    "    tree=DecisionTreeClassifier(max_depth=3,random_state=i,criterion='gini')\n",
    "    tree.fit(x_train,y_train)\n",
    "    y_pred=tree.predict(x_test)\n",
    "    y_pred_proba= tree.predict_proba(x_test)\n",
    "    roc_auc_score_tree=roc_auc_score(y_test, y_pred_proba,multi_class='ovr')\n",
    "    print(\"At\",i,\"aucroc score is \",roc_auc_score_tree)\n",
    "    if roc_auc_score_tree>max_aucroc_score:\n",
    "        max_aucroc_score=roc_auc_score_tree\n",
    "        final_i=i\n",
    "print(\"Select the max aucroc score at \",final_i,\"which is\",max_aucroc_score)"
   ]
  },
  {
   "cell_type": "code",
   "execution_count": 141,
   "id": "f31ec7a9",
   "metadata": {},
   "outputs": [],
   "source": [
    "x_train, x_test, y_train, y_test = train_test_split(features,target,test_size=0.20,random_state=48,stratify=target)\n",
    "tree=DecisionTreeClassifier(max_depth=3,random_state=67,criterion='gini')"
   ]
  },
  {
   "cell_type": "code",
   "execution_count": 142,
   "id": "a68f894b",
   "metadata": {},
   "outputs": [],
   "source": [
    "tree.fit(x_train,y_train)\n",
    "y_pred=tree.predict(x_test)"
   ]
  },
  {
   "cell_type": "code",
   "execution_count": 143,
   "id": "41d0afe0",
   "metadata": {},
   "outputs": [
    {
     "data": {
      "text/plain": [
       "array([[0.        , 0.75625   , 0.09375   , ..., 0.00625   , 0.        ,\n",
       "        0.        ],\n",
       "       [0.10204082, 0.21173469, 0.09183673, ..., 0.03571429, 0.00510204,\n",
       "        0.24744898],\n",
       "       [0.        , 0.75625   , 0.09375   , ..., 0.00625   , 0.        ,\n",
       "        0.        ],\n",
       "       ...,\n",
       "       [0.10204082, 0.21173469, 0.09183673, ..., 0.03571429, 0.00510204,\n",
       "        0.24744898],\n",
       "       [0.10204082, 0.21173469, 0.09183673, ..., 0.03571429, 0.00510204,\n",
       "        0.24744898],\n",
       "       [0.10204082, 0.21173469, 0.09183673, ..., 0.03571429, 0.00510204,\n",
       "        0.24744898]])"
      ]
     },
     "execution_count": 143,
     "metadata": {},
     "output_type": "execute_result"
    }
   ],
   "source": [
    "y_pred_proba= tree.predict_proba(x_test) # this computes the probablity estimates\n",
    "y_pred_proba"
   ]
  },
  {
   "cell_type": "code",
   "execution_count": 144,
   "id": "ec3e3c37",
   "metadata": {},
   "outputs": [],
   "source": [
    "roc_auc_score_tree=roc_auc_score(y_test, y_pred_proba,multi_class='ovr')"
   ]
  },
  {
   "cell_type": "code",
   "execution_count": 145,
   "id": "9de13131",
   "metadata": {},
   "outputs": [
    {
     "data": {
      "text/plain": [
       "0.800424402257644"
      ]
     },
     "execution_count": 145,
     "metadata": {},
     "output_type": "execute_result"
    }
   ],
   "source": [
    "roc_auc_score_tree"
   ]
  },
  {
   "cell_type": "code",
   "execution_count": 146,
   "id": "c787f1f6",
   "metadata": {},
   "outputs": [],
   "source": [
    "tree_cv_score=cross_val_score(tree,features,target,cv=5,scoring='roc_auc_ovr').mean()"
   ]
  },
  {
   "cell_type": "code",
   "execution_count": 147,
   "id": "4fb87ba1",
   "metadata": {},
   "outputs": [
    {
     "data": {
      "text/plain": [
       "0.7415512878143222"
      ]
     },
     "execution_count": 147,
     "metadata": {},
     "output_type": "execute_result"
    }
   ],
   "source": [
    "tree_cv_score"
   ]
  },
  {
   "cell_type": "code",
   "execution_count": 148,
   "id": "9c756293",
   "metadata": {},
   "outputs": [
    {
     "data": {
      "text/plain": [
       "<matplotlib.legend.Legend at 0x1c80a4bcbb0>"
      ]
     },
     "execution_count": 148,
     "metadata": {},
     "output_type": "execute_result"
    },
    {
     "data": {
      "image/png": "[encoded data removed]",
      "text/plain": [
       "<Figure size 432x288 with 1 Axes>"
      ]
     },
     "metadata": {
      "needs_background": "light"
     },
     "output_type": "display_data"
    }
   ],
   "source": [
    "fpr, tpr, thresholds = roc_curve(y_test,lgr.predict_proba(x_test)[:,1],pos_label=1)\n",
    "precision, recall, thresholds = precision_recall_curve(y_test,lgr.predict_proba(x_test)[:,1],pos_label=1)\n",
    "plt.plot(fpr, tpr, label='tree',lw=5,color=\"orange\")\n",
    "plt.xlabel(\"False Positive Rate\")\n",
    "plt.ylabel(\"True Positive Rate\")\n",
    "plt.title(\"ROC AUC Curve For Decision Tree Classifier\")\n",
    "plt.plot([0,1], [0,1], label='Linear Line', color='navy',lw=5,linestyle='--')\n",
    "plt.legend()"
   ]
  },
  {
   "cell_type": "code",
   "execution_count": 149,
   "id": "baaaa7b4",
   "metadata": {},
   "outputs": [
    {
     "data": {
      "text/html": [
       "<div>\n",
       "<style scoped>\n",
       "    .dataframe tbody tr th:only-of-type {\n",
       "        vertical-align: middle;\n",
       "    }\n",
       "\n",
       "    .dataframe tbody tr th {\n",
       "        vertical-align: top;\n",
       "    }\n",
       "\n",
       "    .dataframe thead th {\n",
       "        text-align: right;\n",
       "    }\n",
       "</style>\n",
       "<table border=\"1\" class=\"dataframe\">\n",
       "  <thead>\n",
       "    <tr style=\"text-align: right;\">\n",
       "      <th></th>\n",
       "      <th>Model</th>\n",
       "      <th>ROC_AUC Score</th>\n",
       "      <th>CV Score</th>\n",
       "    </tr>\n",
       "  </thead>\n",
       "  <tbody>\n",
       "    <tr>\n",
       "      <th>0</th>\n",
       "      <td>DecisionTreeClassifier</td>\n",
       "      <td>0.800424</td>\n",
       "      <td>0.741551</td>\n",
       "    </tr>\n",
       "  </tbody>\n",
       "</table>\n",
       "</div>"
      ],
      "text/plain": [
       "                    Model  ROC_AUC Score  CV Score\n",
       "0  DecisionTreeClassifier       0.800424  0.741551"
      ]
     },
     "execution_count": 149,
     "metadata": {},
     "output_type": "execute_result"
    }
   ],
   "source": [
    "clfDT_data = {'Model': ['DecisionTreeClassifier'],            \n",
    "             'ROC_AUC Score': roc_auc_score_tree,\n",
    "             'CV Score': tree_cv_score\n",
    "            }  \n",
    "\n",
    "clf_DT_df = pd.DataFrame(clfDT_data)  \n",
    "clf_DT_df"
   ]
  },
  {
   "cell_type": "code",
   "execution_count": 150,
   "id": "3aa48835",
   "metadata": {},
   "outputs": [
    {
     "name": "stdout",
     "output_type": "stream",
     "text": [
      "Confusion Matrix\n",
      " ----------------------------------- \n",
      " [[ 0  0  0 10  0  0  0  0]\n",
      " [ 0 32  0 20  0  0  0  0]\n",
      " [ 0  5  0  8  0  0  0  0]\n",
      " [ 0  3  0 44  0  0  0  0]\n",
      " [ 0  2  0  0  0  0  0  0]\n",
      " [ 0  0  0  4  0  0  0  0]\n",
      " [ 0  0  0  0  0  0 25  0]\n",
      " [ 0  0  0 24  0  0  0  0]]\n"
     ]
    }
   ],
   "source": [
    "print(\"Confusion Matrix\\n\",'-'*35,\"\\n\",confusion_matrix(y_test,y_pred))"
   ]
  },
  {
   "cell_type": "code",
   "execution_count": 151,
   "id": "04049c8f",
   "metadata": {},
   "outputs": [
    {
     "name": "stdout",
     "output_type": "stream",
     "text": [
      "Classification Report \n",
      "               precision    recall  f1-score   support\n",
      "\n",
      "           0       0.00      0.00      0.00        10\n",
      "           1       0.76      0.62      0.68        52\n",
      "           2       0.00      0.00      0.00        13\n",
      "           3       0.40      0.94      0.56        47\n",
      "           4       0.00      0.00      0.00         2\n",
      "           5       0.00      0.00      0.00         4\n",
      "           6       1.00      1.00      1.00        25\n",
      "           7       0.00      0.00      0.00        24\n",
      "\n",
      "    accuracy                           0.57       177\n",
      "   macro avg       0.27      0.32      0.28       177\n",
      "weighted avg       0.47      0.57      0.49       177\n",
      "\n"
     ]
    }
   ],
   "source": [
    "print(\"Classification Report\",\"\\n\",classification_report(y_test,y_pred))"
   ]
  },
  {
   "cell_type": "markdown",
   "id": "a9471a97",
   "metadata": {},
   "source": [
    "# Random Forest Classifier"
   ]
  },
  {
   "cell_type": "code",
   "execution_count": 239,
   "id": "d70b3f88",
   "metadata": {},
   "outputs": [
    {
     "data": {
      "text/plain": [
       "{'n_estimators': [100, 150],\n",
       " 'criterion': ['entropy', 'ginni'],\n",
       " 'max_depth': [10, 15],\n",
       " 'min_samples_split': [10, 11],\n",
       " 'min_samples_leaf': [5, 6]}"
      ]
     },
     "execution_count": 239,
     "metadata": {},
     "output_type": "execute_result"
    }
   ],
   "source": [
    "from sklearn.ensemble import RandomForestClassifier\n",
    "# creating the model\n",
    "clf_rf = RandomForestClassifier()\n",
    "params={'n_estimators':[100,150],\n",
    "        'criterion':['entropy','ginni'],\n",
    "        'max_depth':[10,15],\n",
    "        'min_samples_split':[10,11],\n",
    "        'min_samples_leaf':[5,6]\n",
    "        }\n",
    "params"
   ]
  },
  {
   "cell_type": "code",
   "execution_count": 240,
   "id": "5049f873",
   "metadata": {},
   "outputs": [
    {
     "name": "stdout",
     "output_type": "stream",
     "text": [
      "Best_Params_ {'criterion': 'entropy', 'max_depth': 15, 'min_samples_leaf': 5, 'min_samples_split': 11, 'n_estimators': 150}\n"
     ]
    }
   ],
   "source": [
    "grd=GridSearchCV(clf_rf,param_grid=params)\n",
    "grd.fit(x_train,y_train)\n",
    "print(\"Best_Params_\",grd.best_params_)"
   ]
  },
  {
   "cell_type": "code",
   "execution_count": 241,
   "id": "9e74f36c",
   "metadata": {},
   "outputs": [
    {
     "name": "stdout",
     "output_type": "stream",
     "text": [
      "At 42 aucroc score is  0.8968324233876634\n",
      "At 43 aucroc score is  0.913224302787391\n",
      "At 44 aucroc score is  0.9281172765183742\n",
      "At 45 aucroc score is  0.9186410257511257\n",
      "At 46 aucroc score is  0.9264151222343118\n",
      "At 47 aucroc score is  0.9211888422336163\n",
      "At 48 aucroc score is  0.9423072354762174\n",
      "At 49 aucroc score is  0.9508687024365947\n",
      "At 50 aucroc score is  0.9090528977951815\n",
      "At 51 aucroc score is  0.922824799247683\n",
      "At 52 aucroc score is  0.9028264264276269\n",
      "At 53 aucroc score is  0.9484800860361812\n",
      "At 54 aucroc score is  0.9140625046701928\n",
      "At 55 aucroc score is  0.9112726059897991\n",
      "At 56 aucroc score is  0.9487280120860513\n",
      "At 57 aucroc score is  0.8976531266090718\n",
      "At 58 aucroc score is  0.9075467167989195\n",
      "At 59 aucroc score is  0.8986560002550764\n",
      "At 60 aucroc score is  0.9310100667777845\n",
      "At 61 aucroc score is  0.8808654267246405\n",
      "At 62 aucroc score is  0.9166948840290283\n",
      "At 63 aucroc score is  0.8963977800398583\n",
      "At 64 aucroc score is  0.914748405575631\n",
      "At 65 aucroc score is  0.9217582154818292\n",
      "At 66 aucroc score is  0.8935717141034989\n",
      "At 67 aucroc score is  0.9038431496291442\n",
      "At 68 aucroc score is  0.9401380334053132\n",
      "At 69 aucroc score is  0.932506807595023\n",
      "At 70 aucroc score is  0.908255108543806\n",
      "At 71 aucroc score is  0.9391778083954998\n",
      "At 72 aucroc score is  0.9158523187924688\n",
      "At 73 aucroc score is  0.9246003948586601\n",
      "At 74 aucroc score is  0.8868132120765164\n",
      "At 75 aucroc score is  0.9238429570188476\n",
      "At 76 aucroc score is  0.8940995026258649\n",
      "At 77 aucroc score is  0.9164847036281267\n",
      "At 78 aucroc score is  0.959164173380072\n",
      "At 79 aucroc score is  0.91996922176721\n",
      "At 80 aucroc score is  0.9325295372249982\n",
      "At 81 aucroc score is  0.9410903821064529\n",
      "At 82 aucroc score is  0.9397739302011816\n",
      "At 83 aucroc score is  0.919650842489822\n",
      "At 84 aucroc score is  0.9095713231386422\n",
      "At 85 aucroc score is  0.9147156470738493\n",
      "At 86 aucroc score is  0.9600182389774425\n",
      "At 87 aucroc score is  0.8988551181141136\n",
      "At 88 aucroc score is  0.9128793918530749\n",
      "At 89 aucroc score is  0.9524708419647043\n",
      "At 90 aucroc score is  0.91617987715976\n",
      "At 91 aucroc score is  0.9542946681235001\n",
      "At 92 aucroc score is  0.938689779868564\n",
      "At 93 aucroc score is  0.9202183716796621\n",
      "At 94 aucroc score is  0.91908674631512\n",
      "At 95 aucroc score is  0.9454678677244206\n",
      "At 96 aucroc score is  0.9009876833805155\n",
      "At 97 aucroc score is  0.9112125083038602\n",
      "At 98 aucroc score is  0.9096354009647263\n",
      "At 99 aucroc score is  0.9296737754733877\n",
      "Select the max aucroc score at  86 which is 0.9600182389774425\n"
     ]
    }
   ],
   "source": [
    "max_aucroc_score_forest=0\n",
    "for i in range(42,100):\n",
    "    x_train, x_test, y_train, y_test = train_test_split(features,target,test_size=0.20,random_state=i,stratify=target)\n",
    "    forest=RandomForestClassifier(criterion='entropy', max_depth=15, min_samples_leaf=5, min_samples_split=11,n_estimators=150)\n",
    "    forest.fit(x_train,y_train)\n",
    "    y_pred=forest.predict(x_test)\n",
    "    y_pred_proba= forest.predict_proba(x_test)\n",
    "    roc_auc_score_forest=roc_auc_score(y_test, y_pred_proba,multi_class='ovr')\n",
    "    print(\"At\",i,\"aucroc score is \",roc_auc_score_forest)\n",
    "    if roc_auc_score_forest>max_aucroc_score_forest:\n",
    "        max_aucroc_score_forest=roc_auc_score_forest\n",
    "        final_i=i\n",
    "print(\"Select the max aucroc score at \",final_i,\"which is\",max_aucroc_score_forest)"
   ]
  },
  {
   "cell_type": "code",
   "execution_count": 242,
   "id": "bb6ae20a",
   "metadata": {},
   "outputs": [],
   "source": [
    "x_train, x_test, y_train, y_test = train_test_split(features,target,test_size=0.20,random_state=86,stratify=target)\n",
    "forest=RandomForestClassifier(criterion='entropy', max_depth=15, min_samples_leaf=5, min_samples_split=11,n_estimators=150)"
   ]
  },
  {
   "cell_type": "code",
   "execution_count": 243,
   "id": "240d0062",
   "metadata": {},
   "outputs": [
    {
     "data": {
      "text/plain": [
       "RandomForestClassifier(criterion='entropy', max_depth=15, min_samples_leaf=5,\n",
       "                       min_samples_split=11, n_estimators=150)"
      ]
     },
     "execution_count": 243,
     "metadata": {},
     "output_type": "execute_result"
    }
   ],
   "source": [
    "forest.fit(x_train,y_train)"
   ]
  },
  {
   "cell_type": "code",
   "execution_count": 244,
   "id": "03874f93",
   "metadata": {},
   "outputs": [],
   "source": [
    "y_pred=forest.predict(x_test)"
   ]
  },
  {
   "cell_type": "code",
   "execution_count": 245,
   "id": "2b5af5ad",
   "metadata": {},
   "outputs": [],
   "source": [
    "y_pred_proba= forest.predict_proba(x_test)"
   ]
  },
  {
   "cell_type": "code",
   "execution_count": 246,
   "id": "5bc7d1ff",
   "metadata": {},
   "outputs": [
    {
     "data": {
      "text/plain": [
       "array([[1.67034583e-02, 3.17441188e-01, 9.42751581e-02, ...,\n",
       "        1.62509620e-02, 1.68028974e-02, 2.11316378e-01],\n",
       "       [0.00000000e+00, 4.44444444e-04, 0.00000000e+00, ...,\n",
       "        0.00000000e+00, 9.88627558e-01, 1.04151774e-02],\n",
       "       [4.18722944e-03, 2.91915305e-01, 1.10274133e-01, ...,\n",
       "        1.07203619e-02, 3.12812678e-02, 1.19616330e-01],\n",
       "       ...,\n",
       "       [0.00000000e+00, 8.56650820e-01, 1.00073574e-01, ...,\n",
       "        0.00000000e+00, 0.00000000e+00, 0.00000000e+00],\n",
       "       [4.01621955e-01, 1.24209023e-01, 2.17077764e-02, ...,\n",
       "        1.48308571e-02, 4.27559913e-03, 2.58738493e-01],\n",
       "       [0.00000000e+00, 9.10956747e-01, 1.64906945e-02, ...,\n",
       "        0.00000000e+00, 0.00000000e+00, 0.00000000e+00]])"
      ]
     },
     "execution_count": 246,
     "metadata": {},
     "output_type": "execute_result"
    }
   ],
   "source": [
    "y_pred_proba"
   ]
  },
  {
   "cell_type": "code",
   "execution_count": 247,
   "id": "2027c5cd",
   "metadata": {},
   "outputs": [],
   "source": [
    "roc_auc_score_forest=roc_auc_score(y_test, y_pred_proba,multi_class='ovr')"
   ]
  },
  {
   "cell_type": "code",
   "execution_count": 248,
   "id": "5b42ab0d",
   "metadata": {},
   "outputs": [
    {
     "data": {
      "text/plain": [
       "0.9544856759532212"
      ]
     },
     "execution_count": 248,
     "metadata": {},
     "output_type": "execute_result"
    }
   ],
   "source": [
    "roc_auc_score_forest"
   ]
  },
  {
   "cell_type": "code",
   "execution_count": 256,
   "id": "e0dc6edf",
   "metadata": {},
   "outputs": [
    {
     "data": {
      "text/plain": [
       "0.9200078703882981"
      ]
     },
     "execution_count": 256,
     "metadata": {},
     "output_type": "execute_result"
    }
   ],
   "source": [
    "forest_cv_score=cross_val_score(forest,features,target,cv=9,scoring='roc_auc_ovr').mean()\n",
    "forest_cv_score"
   ]
  },
  {
   "cell_type": "code",
   "execution_count": 257,
   "id": "b323dba3",
   "metadata": {},
   "outputs": [
    {
     "data": {
      "text/plain": [
       "<matplotlib.legend.Legend at 0x1c8119a6250>"
      ]
     },
     "execution_count": 257,
     "metadata": {},
     "output_type": "execute_result"
    },
    {
     "data": {
      "image/png": "[encoded data removed]",
      "text/plain": [
       "<Figure size 432x288 with 1 Axes>"
      ]
     },
     "metadata": {
      "needs_background": "light"
     },
     "output_type": "display_data"
    }
   ],
   "source": [
    "fpr, tpr, thresholds = roc_curve(y_test,forest.predict_proba(x_test)[:,1],pos_label=1)\n",
    "precision, recall, thresholds = precision_recall_curve(y_test,lgr.predict_proba(x_test)[:,1],pos_label=1)\n",
    "plt.plot(fpr, tpr, label='forest',lw=5,color=\"orange\")\n",
    "plt.xlabel(\"False Positive Rate\")\n",
    "plt.ylabel(\"True Positive Rate\")\n",
    "plt.title(\"ROC AUC Curve For Random Forest Classifier\")\n",
    "plt.plot([0,1], [0,1], label='Linear Line', color='navy',lw=5,linestyle='--')\n",
    "plt.legend()"
   ]
  },
  {
   "cell_type": "code",
   "execution_count": 258,
   "id": "241770de",
   "metadata": {},
   "outputs": [
    {
     "data": {
      "text/html": [
       "<div>\n",
       "<style scoped>\n",
       "    .dataframe tbody tr th:only-of-type {\n",
       "        vertical-align: middle;\n",
       "    }\n",
       "\n",
       "    .dataframe tbody tr th {\n",
       "        vertical-align: top;\n",
       "    }\n",
       "\n",
       "    .dataframe thead th {\n",
       "        text-align: right;\n",
       "    }\n",
       "</style>\n",
       "<table border=\"1\" class=\"dataframe\">\n",
       "  <thead>\n",
       "    <tr style=\"text-align: right;\">\n",
       "      <th></th>\n",
       "      <th>Model</th>\n",
       "      <th>ROC_AUC Score</th>\n",
       "      <th>CV Score</th>\n",
       "    </tr>\n",
       "  </thead>\n",
       "  <tbody>\n",
       "    <tr>\n",
       "      <th>0</th>\n",
       "      <td>RandomForestClassifier</td>\n",
       "      <td>0.954486</td>\n",
       "      <td>0.920008</td>\n",
       "    </tr>\n",
       "  </tbody>\n",
       "</table>\n",
       "</div>"
      ],
      "text/plain": [
       "                    Model  ROC_AUC Score  CV Score\n",
       "0  RandomForestClassifier       0.954486  0.920008"
      ]
     },
     "execution_count": 258,
     "metadata": {},
     "output_type": "execute_result"
    }
   ],
   "source": [
    "clfRF_data = {'Model': ['RandomForestClassifier'],            \n",
    "             'ROC_AUC Score': roc_auc_score_forest,\n",
    "             'CV Score': forest_cv_score\n",
    "            }  \n",
    "\n",
    "clf_RF_df = pd.DataFrame(clfRF_data)\n",
    "clf_RF_df"
   ]
  },
  {
   "cell_type": "code",
   "execution_count": 259,
   "id": "ef076513",
   "metadata": {},
   "outputs": [
    {
     "name": "stdout",
     "output_type": "stream",
     "text": [
      "Confusion Matrix\n",
      " ----------------------------------- \n",
      " [[ 6  2  0  2  0  0  0  0]\n",
      " [ 2 44  2  2  0  0  0  2]\n",
      " [ 0  4  6  2  0  1  0  0]\n",
      " [ 2  9  0 31  0  0  0  5]\n",
      " [ 0  2  0  0  0  0  0  0]\n",
      " [ 0  1  2  0  0  1  0  0]\n",
      " [ 0  0  0  0  0  0 25  0]\n",
      " [ 2  0  0  3  0  0  0 19]]\n"
     ]
    }
   ],
   "source": [
    "print(\"Confusion Matrix\\n\",'-'*35,\"\\n\",confusion_matrix(y_test,y_pred))"
   ]
  },
  {
   "cell_type": "code",
   "execution_count": 260,
   "id": "cde1b258",
   "metadata": {},
   "outputs": [
    {
     "name": "stdout",
     "output_type": "stream",
     "text": [
      "Classification Report \n",
      "               precision    recall  f1-score   support\n",
      "\n",
      "           0       0.50      0.60      0.55        10\n",
      "           1       0.71      0.85      0.77        52\n",
      "           2       0.60      0.46      0.52        13\n",
      "           3       0.78      0.66      0.71        47\n",
      "           4       0.00      0.00      0.00         2\n",
      "           5       0.50      0.25      0.33         4\n",
      "           6       1.00      1.00      1.00        25\n",
      "           7       0.73      0.79      0.76        24\n",
      "\n",
      "    accuracy                           0.75       177\n",
      "   macro avg       0.60      0.58      0.58       177\n",
      "weighted avg       0.74      0.75      0.74       177\n",
      "\n"
     ]
    }
   ],
   "source": [
    "print(\"Classification Report\",\"\\n\",classification_report(y_test,y_pred))"
   ]
  },
  {
   "cell_type": "code",
   "execution_count": 261,
   "id": "f7a27345",
   "metadata": {},
   "outputs": [
    {
     "data": {
      "text/html": [
       "<div>\n",
       "<style scoped>\n",
       "    .dataframe tbody tr th:only-of-type {\n",
       "        vertical-align: middle;\n",
       "    }\n",
       "\n",
       "    .dataframe tbody tr th {\n",
       "        vertical-align: top;\n",
       "    }\n",
       "\n",
       "    .dataframe thead th {\n",
       "        text-align: right;\n",
       "    }\n",
       "</style>\n",
       "<table border=\"1\" class=\"dataframe\">\n",
       "  <thead>\n",
       "    <tr style=\"text-align: right;\">\n",
       "      <th></th>\n",
       "      <th>Model</th>\n",
       "      <th>ROC_AUC Score</th>\n",
       "      <th>CV Score</th>\n",
       "    </tr>\n",
       "  </thead>\n",
       "  <tbody>\n",
       "    <tr>\n",
       "      <th>0</th>\n",
       "      <td>Logistic Regression</td>\n",
       "      <td>0.876033</td>\n",
       "      <td>0.826275</td>\n",
       "    </tr>\n",
       "    <tr>\n",
       "      <th>1</th>\n",
       "      <td>KNeighborsClassifier</td>\n",
       "      <td>0.830534</td>\n",
       "      <td>0.809288</td>\n",
       "    </tr>\n",
       "    <tr>\n",
       "      <th>2</th>\n",
       "      <td>DecisionTreeClassifier</td>\n",
       "      <td>0.800424</td>\n",
       "      <td>0.741551</td>\n",
       "    </tr>\n",
       "    <tr>\n",
       "      <th>3</th>\n",
       "      <td>RandomForestClassifier</td>\n",
       "      <td>0.954486</td>\n",
       "      <td>0.920008</td>\n",
       "    </tr>\n",
       "  </tbody>\n",
       "</table>\n",
       "</div>"
      ],
      "text/plain": [
       "                    Model  ROC_AUC Score  CV Score\n",
       "0     Logistic Regression       0.876033  0.826275\n",
       "1    KNeighborsClassifier       0.830534  0.809288\n",
       "2  DecisionTreeClassifier       0.800424  0.741551\n",
       "3  RandomForestClassifier       0.954486  0.920008"
      ]
     },
     "execution_count": 261,
     "metadata": {},
     "output_type": "execute_result"
    }
   ],
   "source": [
    "clf_modelDF=pd.concat([clf_LR_df,clf_KNN_df,clf_DT_df,clf_RF_df]).reset_index()\n",
    "clf_modelDF.drop(columns=['index'],axis=1,inplace=True)\n",
    "clf_modelDF"
   ]
  },
  {
   "cell_type": "code",
   "execution_count": 262,
   "id": "33476ec2",
   "metadata": {},
   "outputs": [
    {
     "data": {
      "text/plain": [
       "(0.03440599999999994, 0.021245999999999987)"
      ]
     },
     "execution_count": 262,
     "metadata": {},
     "output_type": "execute_result"
    }
   ],
   "source": [
    "0.954486-0.92008, 0.830534-0.809288"
   ]
  },
  {
   "cell_type": "code",
   "execution_count": 265,
   "id": "d80c70df",
   "metadata": {},
   "outputs": [],
   "source": [
    "roc_auc_dict = {} #ROC AUC dict for TPR and FPR values\n",
    "precision_recall_dict = {} #precision recall dictionary\n",
    "\n",
    "def modify_roc_auc_dict(clf, y_test, x_test, name ,modify_dictionary):\n",
    "    # Modifies a dictionary in place and adds keys for ROC AUC metrics\n",
    "    fpr, tpr, thresholds = roc_curve(y_test,clf.predict_proba(x_test)[:,1],pos_label=1)\n",
    "    clf_roc_auc_dict = {'fpr':fpr, 'tpr': tpr, 'thresholds': thresholds}\n",
    "    modify_dictionary[name] = clf_roc_auc_dict\n",
    "    \n",
    "def modify_precision_recall_dict(clf, y_test, x_test, name ,modify_dictionary):\n",
    "    # Modifies a dictionary in place and adds keys for precision recall metrics\n",
    "    precision, recall, thresholds = precision_recall_curve(y_test,clf.predict_proba(x_test)[:,1],pos_label=1)\n",
    "    precision_recall_dict = {'precision':precision, 'recall': recall, 'thresholds': thresholds}\n",
    "    modify_dictionary[name] = precision_recall_dict"
   ]
  },
  {
   "cell_type": "code",
   "execution_count": 266,
   "id": "820aec49",
   "metadata": {},
   "outputs": [],
   "source": [
    "def fit_clf(clf, x_train, y_train, x_test, y_test, name='clf'): \n",
    "    clf.fit(x_train, y_train) \n",
    "    y_pred = clf.predict(x_test)\n",
    "    class_report = pd.DataFrame(classification_report(y_test, y_pred, output_dict=True))\n",
    "    class_report['clf'] = name \n",
    "    return class_report"
   ]
  },
  {
   "cell_type": "code",
   "execution_count": 267,
   "id": "23963cf6",
   "metadata": {},
   "outputs": [
    {
     "data": {
      "text/html": [
       "<div>\n",
       "<style scoped>\n",
       "    .dataframe tbody tr th:only-of-type {\n",
       "        vertical-align: middle;\n",
       "    }\n",
       "\n",
       "    .dataframe tbody tr th {\n",
       "        vertical-align: top;\n",
       "    }\n",
       "\n",
       "    .dataframe thead th {\n",
       "        text-align: right;\n",
       "    }\n",
       "</style>\n",
       "<table border=\"1\" class=\"dataframe\">\n",
       "  <thead>\n",
       "    <tr style=\"text-align: right;\">\n",
       "      <th></th>\n",
       "      <th>0</th>\n",
       "      <th>1</th>\n",
       "      <th>2</th>\n",
       "      <th>3</th>\n",
       "      <th>4</th>\n",
       "      <th>5</th>\n",
       "      <th>6</th>\n",
       "      <th>7</th>\n",
       "      <th>accuracy</th>\n",
       "      <th>macro avg</th>\n",
       "      <th>weighted avg</th>\n",
       "      <th>clf</th>\n",
       "    </tr>\n",
       "  </thead>\n",
       "  <tbody>\n",
       "    <tr>\n",
       "      <th>precision</th>\n",
       "      <td>0.0</td>\n",
       "      <td>0.583333</td>\n",
       "      <td>0.0</td>\n",
       "      <td>0.406250</td>\n",
       "      <td>0.0</td>\n",
       "      <td>0.0</td>\n",
       "      <td>1.0</td>\n",
       "      <td>0.357143</td>\n",
       "      <td>0.542373</td>\n",
       "      <td>0.293341</td>\n",
       "      <td>0.468918</td>\n",
       "      <td>Logistic Regression</td>\n",
       "    </tr>\n",
       "    <tr>\n",
       "      <th>recall</th>\n",
       "      <td>0.0</td>\n",
       "      <td>0.673077</td>\n",
       "      <td>0.0</td>\n",
       "      <td>0.553191</td>\n",
       "      <td>0.0</td>\n",
       "      <td>0.0</td>\n",
       "      <td>1.0</td>\n",
       "      <td>0.416667</td>\n",
       "      <td>0.542373</td>\n",
       "      <td>0.330367</td>\n",
       "      <td>0.542373</td>\n",
       "      <td>Logistic Regression</td>\n",
       "    </tr>\n",
       "    <tr>\n",
       "      <th>f1-score</th>\n",
       "      <td>0.0</td>\n",
       "      <td>0.625000</td>\n",
       "      <td>0.0</td>\n",
       "      <td>0.468468</td>\n",
       "      <td>0.0</td>\n",
       "      <td>0.0</td>\n",
       "      <td>1.0</td>\n",
       "      <td>0.384615</td>\n",
       "      <td>0.542373</td>\n",
       "      <td>0.309760</td>\n",
       "      <td>0.501406</td>\n",
       "      <td>Logistic Regression</td>\n",
       "    </tr>\n",
       "    <tr>\n",
       "      <th>support</th>\n",
       "      <td>10.0</td>\n",
       "      <td>52.000000</td>\n",
       "      <td>13.0</td>\n",
       "      <td>47.000000</td>\n",
       "      <td>2.0</td>\n",
       "      <td>4.0</td>\n",
       "      <td>25.0</td>\n",
       "      <td>24.000000</td>\n",
       "      <td>0.542373</td>\n",
       "      <td>177.000000</td>\n",
       "      <td>177.000000</td>\n",
       "      <td>Logistic Regression</td>\n",
       "    </tr>\n",
       "  </tbody>\n",
       "</table>\n",
       "</div>"
      ],
      "text/plain": [
       "              0          1     2          3    4    5     6          7  \\\n",
       "precision   0.0   0.583333   0.0   0.406250  0.0  0.0   1.0   0.357143   \n",
       "recall      0.0   0.673077   0.0   0.553191  0.0  0.0   1.0   0.416667   \n",
       "f1-score    0.0   0.625000   0.0   0.468468  0.0  0.0   1.0   0.384615   \n",
       "support    10.0  52.000000  13.0  47.000000  2.0  4.0  25.0  24.000000   \n",
       "\n",
       "           accuracy   macro avg  weighted avg                  clf  \n",
       "precision  0.542373    0.293341      0.468918  Logistic Regression  \n",
       "recall     0.542373    0.330367      0.542373  Logistic Regression  \n",
       "f1-score   0.542373    0.309760      0.501406  Logistic Regression  \n",
       "support    0.542373  177.000000    177.000000  Logistic Regression  "
      ]
     },
     "execution_count": 267,
     "metadata": {},
     "output_type": "execute_result"
    }
   ],
   "source": [
    "lgr_report = fit_clf(lgr, x_train, y_train, x_test, y_test, name='Logistic Regression')\n",
    "lgr_report.head()"
   ]
  },
  {
   "cell_type": "code",
   "execution_count": 268,
   "id": "9b2a07d2",
   "metadata": {},
   "outputs": [
    {
     "data": {
      "text/html": [
       "<div>\n",
       "<style scoped>\n",
       "    .dataframe tbody tr th:only-of-type {\n",
       "        vertical-align: middle;\n",
       "    }\n",
       "\n",
       "    .dataframe tbody tr th {\n",
       "        vertical-align: top;\n",
       "    }\n",
       "\n",
       "    .dataframe thead th {\n",
       "        text-align: right;\n",
       "    }\n",
       "</style>\n",
       "<table border=\"1\" class=\"dataframe\">\n",
       "  <thead>\n",
       "    <tr style=\"text-align: right;\">\n",
       "      <th></th>\n",
       "      <th>0</th>\n",
       "      <th>1</th>\n",
       "      <th>2</th>\n",
       "      <th>3</th>\n",
       "      <th>4</th>\n",
       "      <th>5</th>\n",
       "      <th>6</th>\n",
       "      <th>7</th>\n",
       "      <th>accuracy</th>\n",
       "      <th>macro avg</th>\n",
       "      <th>weighted avg</th>\n",
       "      <th>clf</th>\n",
       "    </tr>\n",
       "  </thead>\n",
       "  <tbody>\n",
       "    <tr>\n",
       "      <th>precision</th>\n",
       "      <td>0.333333</td>\n",
       "      <td>0.606061</td>\n",
       "      <td>0.384615</td>\n",
       "      <td>0.702703</td>\n",
       "      <td>0.0</td>\n",
       "      <td>0.0</td>\n",
       "      <td>1.000000</td>\n",
       "      <td>0.500000</td>\n",
       "      <td>0.621469</td>\n",
       "      <td>0.440839</td>\n",
       "      <td>0.620766</td>\n",
       "      <td>KNeighborsClassifier</td>\n",
       "    </tr>\n",
       "    <tr>\n",
       "      <th>recall</th>\n",
       "      <td>0.500000</td>\n",
       "      <td>0.769231</td>\n",
       "      <td>0.384615</td>\n",
       "      <td>0.553191</td>\n",
       "      <td>0.0</td>\n",
       "      <td>0.0</td>\n",
       "      <td>0.960000</td>\n",
       "      <td>0.416667</td>\n",
       "      <td>0.621469</td>\n",
       "      <td>0.447963</td>\n",
       "      <td>0.621469</td>\n",
       "      <td>KNeighborsClassifier</td>\n",
       "    </tr>\n",
       "    <tr>\n",
       "      <th>f1-score</th>\n",
       "      <td>0.400000</td>\n",
       "      <td>0.677966</td>\n",
       "      <td>0.384615</td>\n",
       "      <td>0.619048</td>\n",
       "      <td>0.0</td>\n",
       "      <td>0.0</td>\n",
       "      <td>0.979592</td>\n",
       "      <td>0.454545</td>\n",
       "      <td>0.621469</td>\n",
       "      <td>0.439471</td>\n",
       "      <td>0.614398</td>\n",
       "      <td>KNeighborsClassifier</td>\n",
       "    </tr>\n",
       "    <tr>\n",
       "      <th>support</th>\n",
       "      <td>10.000000</td>\n",
       "      <td>52.000000</td>\n",
       "      <td>13.000000</td>\n",
       "      <td>47.000000</td>\n",
       "      <td>2.0</td>\n",
       "      <td>4.0</td>\n",
       "      <td>25.000000</td>\n",
       "      <td>24.000000</td>\n",
       "      <td>0.621469</td>\n",
       "      <td>177.000000</td>\n",
       "      <td>177.000000</td>\n",
       "      <td>KNeighborsClassifier</td>\n",
       "    </tr>\n",
       "  </tbody>\n",
       "</table>\n",
       "</div>"
      ],
      "text/plain": [
       "                   0          1          2          3    4    5          6  \\\n",
       "precision   0.333333   0.606061   0.384615   0.702703  0.0  0.0   1.000000   \n",
       "recall      0.500000   0.769231   0.384615   0.553191  0.0  0.0   0.960000   \n",
       "f1-score    0.400000   0.677966   0.384615   0.619048  0.0  0.0   0.979592   \n",
       "support    10.000000  52.000000  13.000000  47.000000  2.0  4.0  25.000000   \n",
       "\n",
       "                   7  accuracy   macro avg  weighted avg                   clf  \n",
       "precision   0.500000  0.621469    0.440839      0.620766  KNeighborsClassifier  \n",
       "recall      0.416667  0.621469    0.447963      0.621469  KNeighborsClassifier  \n",
       "f1-score    0.454545  0.621469    0.439471      0.614398  KNeighborsClassifier  \n",
       "support    24.000000  0.621469  177.000000    177.000000  KNeighborsClassifier  "
      ]
     },
     "execution_count": 268,
     "metadata": {},
     "output_type": "execute_result"
    }
   ],
   "source": [
    "knn_report = fit_clf(knn, x_train, y_train, x_test, y_test, name='KNeighborsClassifier')\n",
    "knn_report.head()"
   ]
  },
  {
   "cell_type": "code",
   "execution_count": 269,
   "id": "d1e8b778",
   "metadata": {},
   "outputs": [
    {
     "data": {
      "text/html": [
       "<div>\n",
       "<style scoped>\n",
       "    .dataframe tbody tr th:only-of-type {\n",
       "        vertical-align: middle;\n",
       "    }\n",
       "\n",
       "    .dataframe tbody tr th {\n",
       "        vertical-align: top;\n",
       "    }\n",
       "\n",
       "    .dataframe thead th {\n",
       "        text-align: right;\n",
       "    }\n",
       "</style>\n",
       "<table border=\"1\" class=\"dataframe\">\n",
       "  <thead>\n",
       "    <tr style=\"text-align: right;\">\n",
       "      <th></th>\n",
       "      <th>0</th>\n",
       "      <th>1</th>\n",
       "      <th>2</th>\n",
       "      <th>3</th>\n",
       "      <th>4</th>\n",
       "      <th>5</th>\n",
       "      <th>6</th>\n",
       "      <th>7</th>\n",
       "      <th>accuracy</th>\n",
       "      <th>macro avg</th>\n",
       "      <th>weighted avg</th>\n",
       "      <th>clf</th>\n",
       "    </tr>\n",
       "  </thead>\n",
       "  <tbody>\n",
       "    <tr>\n",
       "      <th>precision</th>\n",
       "      <td>0.0</td>\n",
       "      <td>0.794872</td>\n",
       "      <td>0.0</td>\n",
       "      <td>0.380531</td>\n",
       "      <td>0.0</td>\n",
       "      <td>0.0</td>\n",
       "      <td>1.0</td>\n",
       "      <td>0.0</td>\n",
       "      <td>0.559322</td>\n",
       "      <td>0.271925</td>\n",
       "      <td>0.475810</td>\n",
       "      <td>DecisionTreeClassifier</td>\n",
       "    </tr>\n",
       "    <tr>\n",
       "      <th>recall</th>\n",
       "      <td>0.0</td>\n",
       "      <td>0.596154</td>\n",
       "      <td>0.0</td>\n",
       "      <td>0.914894</td>\n",
       "      <td>0.0</td>\n",
       "      <td>0.0</td>\n",
       "      <td>1.0</td>\n",
       "      <td>0.0</td>\n",
       "      <td>0.559322</td>\n",
       "      <td>0.313881</td>\n",
       "      <td>0.559322</td>\n",
       "      <td>DecisionTreeClassifier</td>\n",
       "    </tr>\n",
       "    <tr>\n",
       "      <th>f1-score</th>\n",
       "      <td>0.0</td>\n",
       "      <td>0.681319</td>\n",
       "      <td>0.0</td>\n",
       "      <td>0.537500</td>\n",
       "      <td>0.0</td>\n",
       "      <td>0.0</td>\n",
       "      <td>1.0</td>\n",
       "      <td>0.0</td>\n",
       "      <td>0.559322</td>\n",
       "      <td>0.277352</td>\n",
       "      <td>0.484130</td>\n",
       "      <td>DecisionTreeClassifier</td>\n",
       "    </tr>\n",
       "    <tr>\n",
       "      <th>support</th>\n",
       "      <td>10.0</td>\n",
       "      <td>52.000000</td>\n",
       "      <td>13.0</td>\n",
       "      <td>47.000000</td>\n",
       "      <td>2.0</td>\n",
       "      <td>4.0</td>\n",
       "      <td>25.0</td>\n",
       "      <td>24.0</td>\n",
       "      <td>0.559322</td>\n",
       "      <td>177.000000</td>\n",
       "      <td>177.000000</td>\n",
       "      <td>DecisionTreeClassifier</td>\n",
       "    </tr>\n",
       "  </tbody>\n",
       "</table>\n",
       "</div>"
      ],
      "text/plain": [
       "              0          1     2          3    4    5     6     7  accuracy  \\\n",
       "precision   0.0   0.794872   0.0   0.380531  0.0  0.0   1.0   0.0  0.559322   \n",
       "recall      0.0   0.596154   0.0   0.914894  0.0  0.0   1.0   0.0  0.559322   \n",
       "f1-score    0.0   0.681319   0.0   0.537500  0.0  0.0   1.0   0.0  0.559322   \n",
       "support    10.0  52.000000  13.0  47.000000  2.0  4.0  25.0  24.0  0.559322   \n",
       "\n",
       "            macro avg  weighted avg                     clf  \n",
       "precision    0.271925      0.475810  DecisionTreeClassifier  \n",
       "recall       0.313881      0.559322  DecisionTreeClassifier  \n",
       "f1-score     0.277352      0.484130  DecisionTreeClassifier  \n",
       "support    177.000000    177.000000  DecisionTreeClassifier  "
      ]
     },
     "execution_count": 269,
     "metadata": {},
     "output_type": "execute_result"
    }
   ],
   "source": [
    "tree_report = fit_clf(tree, x_train, y_train, x_test, y_test, name='DecisionTreeClassifier')\n",
    "tree_report.head()"
   ]
  },
  {
   "cell_type": "code",
   "execution_count": 270,
   "id": "3f755fbb",
   "metadata": {},
   "outputs": [
    {
     "data": {
      "text/html": [
       "<div>\n",
       "<style scoped>\n",
       "    .dataframe tbody tr th:only-of-type {\n",
       "        vertical-align: middle;\n",
       "    }\n",
       "\n",
       "    .dataframe tbody tr th {\n",
       "        vertical-align: top;\n",
       "    }\n",
       "\n",
       "    .dataframe thead th {\n",
       "        text-align: right;\n",
       "    }\n",
       "</style>\n",
       "<table border=\"1\" class=\"dataframe\">\n",
       "  <thead>\n",
       "    <tr style=\"text-align: right;\">\n",
       "      <th></th>\n",
       "      <th>0</th>\n",
       "      <th>1</th>\n",
       "      <th>2</th>\n",
       "      <th>3</th>\n",
       "      <th>4</th>\n",
       "      <th>5</th>\n",
       "      <th>6</th>\n",
       "      <th>7</th>\n",
       "      <th>accuracy</th>\n",
       "      <th>macro avg</th>\n",
       "      <th>weighted avg</th>\n",
       "      <th>clf</th>\n",
       "    </tr>\n",
       "  </thead>\n",
       "  <tbody>\n",
       "    <tr>\n",
       "      <th>precision</th>\n",
       "      <td>0.5</td>\n",
       "      <td>0.721311</td>\n",
       "      <td>0.583333</td>\n",
       "      <td>0.738095</td>\n",
       "      <td>0.0</td>\n",
       "      <td>0.500000</td>\n",
       "      <td>1.0</td>\n",
       "      <td>0.800000</td>\n",
       "      <td>0.751412</td>\n",
       "      <td>0.605343</td>\n",
       "      <td>0.740011</td>\n",
       "      <td>RandomForestClassifier</td>\n",
       "    </tr>\n",
       "    <tr>\n",
       "      <th>recall</th>\n",
       "      <td>0.5</td>\n",
       "      <td>0.846154</td>\n",
       "      <td>0.538462</td>\n",
       "      <td>0.659574</td>\n",
       "      <td>0.0</td>\n",
       "      <td>0.250000</td>\n",
       "      <td>1.0</td>\n",
       "      <td>0.833333</td>\n",
       "      <td>0.751412</td>\n",
       "      <td>0.578440</td>\n",
       "      <td>0.751412</td>\n",
       "      <td>RandomForestClassifier</td>\n",
       "    </tr>\n",
       "    <tr>\n",
       "      <th>f1-score</th>\n",
       "      <td>0.5</td>\n",
       "      <td>0.778761</td>\n",
       "      <td>0.560000</td>\n",
       "      <td>0.696629</td>\n",
       "      <td>0.0</td>\n",
       "      <td>0.333333</td>\n",
       "      <td>1.0</td>\n",
       "      <td>0.816327</td>\n",
       "      <td>0.751412</td>\n",
       "      <td>0.585631</td>\n",
       "      <td>0.742612</td>\n",
       "      <td>RandomForestClassifier</td>\n",
       "    </tr>\n",
       "    <tr>\n",
       "      <th>support</th>\n",
       "      <td>10.0</td>\n",
       "      <td>52.000000</td>\n",
       "      <td>13.000000</td>\n",
       "      <td>47.000000</td>\n",
       "      <td>2.0</td>\n",
       "      <td>4.000000</td>\n",
       "      <td>25.0</td>\n",
       "      <td>24.000000</td>\n",
       "      <td>0.751412</td>\n",
       "      <td>177.000000</td>\n",
       "      <td>177.000000</td>\n",
       "      <td>RandomForestClassifier</td>\n",
       "    </tr>\n",
       "  </tbody>\n",
       "</table>\n",
       "</div>"
      ],
      "text/plain": [
       "              0          1          2          3    4         5     6  \\\n",
       "precision   0.5   0.721311   0.583333   0.738095  0.0  0.500000   1.0   \n",
       "recall      0.5   0.846154   0.538462   0.659574  0.0  0.250000   1.0   \n",
       "f1-score    0.5   0.778761   0.560000   0.696629  0.0  0.333333   1.0   \n",
       "support    10.0  52.000000  13.000000  47.000000  2.0  4.000000  25.0   \n",
       "\n",
       "                   7  accuracy   macro avg  weighted avg  \\\n",
       "precision   0.800000  0.751412    0.605343      0.740011   \n",
       "recall      0.833333  0.751412    0.578440      0.751412   \n",
       "f1-score    0.816327  0.751412    0.585631      0.742612   \n",
       "support    24.000000  0.751412  177.000000    177.000000   \n",
       "\n",
       "                              clf  \n",
       "precision  RandomForestClassifier  \n",
       "recall     RandomForestClassifier  \n",
       "f1-score   RandomForestClassifier  \n",
       "support    RandomForestClassifier  "
      ]
     },
     "execution_count": 270,
     "metadata": {},
     "output_type": "execute_result"
    }
   ],
   "source": [
    "forest_report = fit_clf(forest, x_train, y_train, x_test, y_test, name='RandomForestClassifier')\n",
    "forest_report.head()"
   ]
  },
  {
   "cell_type": "code",
   "execution_count": 271,
   "id": "d5f23600",
   "metadata": {},
   "outputs": [
    {
     "data": {
      "text/plain": [
       "dict_keys([])"
      ]
     },
     "execution_count": 271,
     "metadata": {},
     "output_type": "execute_result"
    }
   ],
   "source": [
    "#Lets Check the Keys which we have\n",
    "roc_auc_dict.keys()"
   ]
  },
  {
   "cell_type": "code",
   "execution_count": 272,
   "id": "1883bb3c",
   "metadata": {},
   "outputs": [],
   "source": [
    "modify_roc_auc_dict(clf=lgr,y_test=y_test,x_test=x_test,name='LogisticRegresssion',modify_dictionary=roc_auc_dict)\n",
    "modify_roc_auc_dict(clf=knn,y_test=y_test,x_test=x_test,name='KNeighborsClassifier',modify_dictionary=roc_auc_dict)\n",
    "modify_roc_auc_dict(clf=tree,y_test=y_test,x_test=x_test,name='DecisionTreeClassifier',modify_dictionary=roc_auc_dict)\n",
    "modify_roc_auc_dict(clf=forest,y_test=y_test,x_test=x_test,name='RandomForestClassifier',modify_dictionary=roc_auc_dict)"
   ]
  },
  {
   "cell_type": "code",
   "execution_count": 273,
   "id": "5a812495",
   "metadata": {},
   "outputs": [
    {
     "data": {
      "image/png": "[encoded data removed]",
      "text/plain": [
       "<Figure size 432x288 with 1 Axes>"
      ]
     },
     "metadata": {
      "needs_background": "light"
     },
     "output_type": "display_data"
    }
   ],
   "source": [
    "for key in roc_auc_dict:\n",
    "    clf = roc_auc_dict[key]\n",
    "    plt.plot(clf['fpr'], clf['tpr'], label=key,lw=4)\n",
    "plt.xlabel(\"False Positive Rate\")\n",
    "plt.ylabel(\"True Positive Rate\")\n",
    "plt.title(\"ROC AUC Curve\")\n",
    "plt.plot([0,1], [0,1], label='Linear Line', color='navy',lw=5,linestyle='--')\n",
    "plt.legend()\n",
    "plt.show()"
   ]
  },
  {
   "cell_type": "code",
   "execution_count": 275,
   "id": "d89d101d",
   "metadata": {},
   "outputs": [
    {
     "data": {
      "text/html": [
       "<div>\n",
       "<style scoped>\n",
       "    .dataframe tbody tr th:only-of-type {\n",
       "        vertical-align: middle;\n",
       "    }\n",
       "\n",
       "    .dataframe tbody tr th {\n",
       "        vertical-align: top;\n",
       "    }\n",
       "\n",
       "    .dataframe thead th {\n",
       "        text-align: right;\n",
       "    }\n",
       "</style>\n",
       "<table border=\"1\" class=\"dataframe\">\n",
       "  <thead>\n",
       "    <tr style=\"text-align: right;\">\n",
       "      <th></th>\n",
       "      <th>actual</th>\n",
       "      <th>predicted</th>\n",
       "      <th>Correctly_Predicted</th>\n",
       "    </tr>\n",
       "  </thead>\n",
       "  <tbody>\n",
       "    <tr>\n",
       "      <th>0</th>\n",
       "      <td>1</td>\n",
       "      <td>1</td>\n",
       "      <td>0</td>\n",
       "    </tr>\n",
       "    <tr>\n",
       "      <th>1</th>\n",
       "      <td>6</td>\n",
       "      <td>6</td>\n",
       "      <td>0</td>\n",
       "    </tr>\n",
       "    <tr>\n",
       "      <th>2</th>\n",
       "      <td>1</td>\n",
       "      <td>3</td>\n",
       "      <td>-2</td>\n",
       "    </tr>\n",
       "    <tr>\n",
       "      <th>3</th>\n",
       "      <td>3</td>\n",
       "      <td>7</td>\n",
       "      <td>-4</td>\n",
       "    </tr>\n",
       "    <tr>\n",
       "      <th>4</th>\n",
       "      <td>6</td>\n",
       "      <td>6</td>\n",
       "      <td>0</td>\n",
       "    </tr>\n",
       "    <tr>\n",
       "      <th>...</th>\n",
       "      <td>...</td>\n",
       "      <td>...</td>\n",
       "      <td>...</td>\n",
       "    </tr>\n",
       "    <tr>\n",
       "      <th>172</th>\n",
       "      <td>3</td>\n",
       "      <td>0</td>\n",
       "      <td>3</td>\n",
       "    </tr>\n",
       "    <tr>\n",
       "      <th>173</th>\n",
       "      <td>0</td>\n",
       "      <td>7</td>\n",
       "      <td>-7</td>\n",
       "    </tr>\n",
       "    <tr>\n",
       "      <th>174</th>\n",
       "      <td>1</td>\n",
       "      <td>1</td>\n",
       "      <td>0</td>\n",
       "    </tr>\n",
       "    <tr>\n",
       "      <th>175</th>\n",
       "      <td>7</td>\n",
       "      <td>0</td>\n",
       "      <td>7</td>\n",
       "    </tr>\n",
       "    <tr>\n",
       "      <th>176</th>\n",
       "      <td>1</td>\n",
       "      <td>1</td>\n",
       "      <td>0</td>\n",
       "    </tr>\n",
       "  </tbody>\n",
       "</table>\n",
       "<p>177 rows × 3 columns</p>\n",
       "</div>"
      ],
      "text/plain": [
       "     actual  predicted  Correctly_Predicted\n",
       "0         1          1                    0\n",
       "1         6          6                    0\n",
       "2         1          3                   -2\n",
       "3         3          7                   -4\n",
       "4         6          6                    0\n",
       "..      ...        ...                  ...\n",
       "172       3          0                    3\n",
       "173       0          7                   -7\n",
       "174       1          1                    0\n",
       "175       7          0                    7\n",
       "176       1          1                    0\n",
       "\n",
       "[177 rows x 3 columns]"
      ]
     },
     "execution_count": 275,
     "metadata": {},
     "output_type": "execute_result"
    }
   ],
   "source": [
    "#Predicting the test cases\n",
    "predict_GlobalPowerPlant =   pd.DataFrame({ 'actual':  y_test,\n",
    "                                      'predicted': knn.predict( x_test),\n",
    "                                      'Correctly_Predicted':(y_test)-(knn.predict(x_test))\n",
    "                                    })\n",
    "predict_GlobalPowerPlant"
   ]
  },
  {
   "cell_type": "code",
   "execution_count": 276,
   "id": "3a384c09",
   "metadata": {},
   "outputs": [],
   "source": [
    "predict_GlobalPowerPlant = predict_GlobalPowerPlant.reset_index()"
   ]
  },
  {
   "cell_type": "code",
   "execution_count": 277,
   "id": "3bd1aacf",
   "metadata": {},
   "outputs": [
    {
     "data": {
      "text/plain": [
       " 0    110\n",
       " 2     11\n",
       " 1      9\n",
       " 4      6\n",
       " 6      6\n",
       " 3      6\n",
       "-2      5\n",
       "-4      5\n",
       "-1      5\n",
       " 5      4\n",
       "-6      4\n",
       "-3      3\n",
       " 7      2\n",
       "-7      1\n",
       "Name: Correctly_Predicted, dtype: int64"
      ]
     },
     "execution_count": 277,
     "metadata": {},
     "output_type": "execute_result"
    }
   ],
   "source": [
    "predict_GlobalPowerPlant['Correctly_Predicted'].value_counts()"
   ]
  },
  {
   "cell_type": "code",
   "execution_count": 278,
   "id": "1005bfb5",
   "metadata": {},
   "outputs": [
    {
     "data": {
      "text/plain": [
       "<AxesSubplot:xlabel='Correctly_Predicted', ylabel='count'>"
      ]
     },
     "execution_count": 278,
     "metadata": {},
     "output_type": "execute_result"
    },
    {
     "data": {
      "image/png": "[encoded data removed]",
      "text/plain": [
       "<Figure size 432x288 with 1 Axes>"
      ]
     },
     "metadata": {
      "needs_background": "light"
     },
     "output_type": "display_data"
    }
   ],
   "source": [
    "sns.countplot(predict_GlobalPowerPlant.Correctly_Predicted)"
   ]
  },
  {
   "cell_type": "code",
   "execution_count": 279,
   "id": "2a1546ec",
   "metadata": {},
   "outputs": [
    {
     "data": {
      "text/plain": [
       "<AxesSubplot:xlabel='Correctly_Predicted', ylabel='Count'>"
      ]
     },
     "execution_count": 279,
     "metadata": {},
     "output_type": "execute_result"
    },
    {
     "data": {
      "image/png": "[encoded data removed]",
      "text/plain": [
       "<Figure size 432x288 with 1 Axes>"
      ]
     },
     "metadata": {
      "needs_background": "light"
     },
     "output_type": "display_data"
    }
   ],
   "source": [
    "sns.histplot(predict_GlobalPowerPlant.Correctly_Predicted,color=\"blue\",kde=True,stat=\"count\")"
   ]
  },
  {
   "cell_type": "markdown",
   "id": "9b796979",
   "metadata": {},
   "source": [
    "# Model Selection"
   ]
  },
  {
   "cell_type": "markdown",
   "id": "d9c860eb",
   "metadata": {},
   "source": [
    "Out of the above models evaluated, we see that the difference between roc_auc score and CV score is least for KNN Classifier.Also when we plot the graph, we see that it is normally distributed and out of 177 records, 150 got predicted well.So our model's accuracy is 84.74% Hence KNN Classsfier is performing well."
   ]
  },
  {
   "cell_type": "markdown",
   "id": "1751fb92",
   "metadata": {},
   "source": [
    "# Save KNeighbors as our model for Predicting power_fuel"
   ]
  },
  {
   "cell_type": "code",
   "execution_count": 280,
   "id": "b10a2b79",
   "metadata": {},
   "outputs": [],
   "source": [
    "from joblib import dump , load\n",
    "dump(forest,'GlobalPowerPlant.joblib')\n",
    "forest_load=load('GlobalPowerPlant.joblib')"
   ]
  },
  {
   "cell_type": "code",
   "execution_count": 281,
   "id": "71687656",
   "metadata": {},
   "outputs": [],
   "source": [
    "from tempfile import mkdtemp\n",
    "savedir = mkdtemp()\n",
    "import os\n",
    "filename = os.path.join(savedir, 'GlobalPowerPlant.joblib')"
   ]
  },
  {
   "cell_type": "code",
   "execution_count": 282,
   "id": "fcf0e6bb",
   "metadata": {},
   "outputs": [
    {
     "data": {
      "text/plain": [
       "['C:\\\\Users\\\\mum1user\\\\AppData\\\\Local\\\\Temp\\\\tmpt75kil5n\\\\GlobalPowerPlant.joblib']"
      ]
     },
     "execution_count": 282,
     "metadata": {},
     "output_type": "execute_result"
    }
   ],
   "source": [
    "import joblib\n",
    "joblib.dump(forest, filename) "
   ]
  },
  {
   "cell_type": "code",
   "execution_count": 283,
   "id": "2921c7e9",
   "metadata": {},
   "outputs": [
    {
     "data": {
      "text/plain": [
       "RandomForestClassifier(criterion='entropy', max_depth=15, min_samples_leaf=5,\n",
       "                       min_samples_split=11, n_estimators=150)"
      ]
     },
     "execution_count": 283,
     "metadata": {},
     "output_type": "execute_result"
    }
   ],
   "source": [
    "joblib.load(filename)"
   ]
  },
  {
   "cell_type": "markdown",
   "id": "68f347f6",
   "metadata": {},
   "source": [
    "# Second Problem\n",
    " \n",
    "- Predict capacity_mw"
   ]
  },
  {
   "cell_type": "code",
   "execution_count": 366,
   "id": "911818f8",
   "metadata": {},
   "outputs": [],
   "source": [
    "features=df.drop(['capacity_mw'], axis=1)\n",
    "target=df[['capacity_mw']]"
   ]
  },
  {
   "cell_type": "code",
   "execution_count": 367,
   "id": "9ed2fe30",
   "metadata": {},
   "outputs": [
    {
     "data": {
      "text/plain": [
       "((882, 4), (882, 1))"
      ]
     },
     "execution_count": 367,
     "metadata": {},
     "output_type": "execute_result"
    }
   ],
   "source": [
    "features.shape , target.shape"
   ]
  },
  {
   "cell_type": "markdown",
   "id": "d7639c96",
   "metadata": {},
   "source": [
    "# Feature Importance"
   ]
  },
  {
   "cell_type": "code",
   "execution_count": 368,
   "id": "fba4ea08",
   "metadata": {},
   "outputs": [
    {
     "name": "stdout",
     "output_type": "stream",
     "text": [
      "[0.24966565 0.25062515 0.47868929 0.02101991]\n"
     ]
    }
   ],
   "source": [
    "from sklearn.ensemble import RandomForestRegressor\n",
    "import matplotlib.pyplot as plt\n",
    "feature_rf = RandomForestRegressor()\n",
    "feature_rf.fit(features,target)\n",
    "print(feature_rf.feature_importances_)"
   ]
  },
  {
   "cell_type": "code",
   "execution_count": 369,
   "id": "5bbfaa02",
   "metadata": {},
   "outputs": [
    {
     "data": {
      "image/png": "[encoded data removed]",
      "text/plain": [
       "<Figure size 432x288 with 1 Axes>"
      ]
     },
     "metadata": {
      "needs_background": "light"
     },
     "output_type": "display_data"
    }
   ],
   "source": [
    "#plot graph of feature importances for better visualization\n",
    "featureImportance = pd.Series(feature_rf.feature_importances_, index=features.columns)\n",
    "featureImportance.nlargest(8).plot(kind='barh',color=\"green\")\n",
    "plt.show()"
   ]
  },
  {
   "cell_type": "markdown",
   "id": "a8b29e8f",
   "metadata": {},
   "source": [
    "So the most important feature to predict the capacity_vw is the primary fuel"
   ]
  },
  {
   "cell_type": "code",
   "execution_count": 370,
   "id": "6850931b",
   "metadata": {},
   "outputs": [],
   "source": [
    "from sklearn.linear_model import LinearRegression\n",
    "from sklearn.metrics import mean_absolute_error\n",
    "from sklearn.metrics import mean_squared_error\n",
    "from sklearn.metrics import r2_score\n",
    "from sklearn.metrics import accuracy_score"
   ]
  },
  {
   "cell_type": "code",
   "execution_count": 371,
   "id": "ed002724",
   "metadata": {},
   "outputs": [
    {
     "name": "stdout",
     "output_type": "stream",
     "text": [
      "******************************\n",
      "At 40 r2_score is:  0.3674722895112261\n",
      "******************************\n",
      "At 41 r2_score is:  0.33944403023229497\n",
      "******************************\n",
      "At 42 r2_score is:  0.331157428386576\n",
      "******************************\n",
      "At 43 r2_score is:  0.4527432429563184\n",
      "******************************\n",
      "At 44 r2_score is:  0.3467890201652425\n",
      "******************************\n",
      "At 45 r2_score is:  0.38872666538316913\n",
      "******************************\n",
      "At 46 r2_score is:  0.3269528168896406\n",
      "******************************\n",
      "At 47 r2_score is:  0.350402437565175\n",
      "******************************\n",
      "At 48 r2_score is:  0.44630482534212657\n",
      "******************************\n",
      "At 49 r2_score is:  0.3296512043068961\n",
      "******************************\n",
      "At 50 r2_score is:  0.39190924040028674\n",
      "******************************\n",
      "At 51 r2_score is:  0.2634774865760311\n",
      "******************************\n",
      "At 52 r2_score is:  0.3469844430726017\n",
      "******************************\n",
      "At 53 r2_score is:  0.3569791391570508\n",
      "******************************\n",
      "At 54 r2_score is:  0.375241836446484\n",
      "******************************\n",
      "At 55 r2_score is:  0.42468706375049114\n",
      "******************************\n",
      "At 56 r2_score is:  0.3752489874585714\n",
      "******************************\n",
      "At 57 r2_score is:  0.3771784965186801\n",
      "******************************\n",
      "At 58 r2_score is:  0.40664682308904143\n",
      "******************************\n",
      "At 59 r2_score is:  0.4366884915704137\n",
      "******************************\n",
      "At 60 r2_score is:  0.39331718005817295\n",
      "******************************\n",
      "At 61 r2_score is:  0.42399505824019845\n",
      "******************************\n",
      "At 62 r2_score is:  0.34423604251193707\n",
      "******************************\n",
      "At 63 r2_score is:  0.3730586611360269\n",
      "******************************\n",
      "At 64 r2_score is:  0.3213921454245745\n",
      "******************************\n",
      "At 65 r2_score is:  0.41015185426668477\n",
      "******************************\n",
      "At 66 r2_score is:  0.39440173770644293\n",
      "******************************\n",
      "At 67 r2_score is:  0.384612825282854\n",
      "******************************\n",
      "At 68 r2_score is:  0.37035659632600126\n",
      "******************************\n",
      "At 69 r2_score is:  0.3784998836397936\n",
      "******************************\n",
      "At 70 r2_score is:  0.3820616503982234\n",
      "******************************\n",
      "At 71 r2_score is:  0.43185323670918474\n",
      "******************************\n",
      "At 72 r2_score is:  0.19837149814868604\n",
      "******************************\n",
      "At 73 r2_score is:  0.3896233432786471\n",
      "******************************\n",
      "At 74 r2_score is:  0.32658220562095286\n",
      "******************************\n",
      "At 75 r2_score is:  0.34868001049106956\n",
      "******************************\n",
      "At 76 r2_score is:  0.3259341449513621\n",
      "******************************\n",
      "At 77 r2_score is:  0.3600450198911853\n",
      "******************************\n",
      "At 78 r2_score is:  0.4643004615303671\n",
      "******************************\n",
      "At 79 r2_score is:  0.3699560711202845\n",
      "******************************\n",
      "At 80 r2_score is:  0.4126000393769572\n",
      "******************************\n",
      "At 81 r2_score is:  0.3506294579094147\n",
      "******************************\n",
      "At 82 r2_score is:  0.24612084032374226\n",
      "******************************\n",
      "At 83 r2_score is:  0.4182262589055701\n",
      "******************************\n",
      "At 84 r2_score is:  0.3614347397247861\n",
      "******************************\n",
      "At 85 r2_score is:  0.353845040821819\n",
      "******************************\n",
      "At 86 r2_score is:  0.3246107376410735\n",
      "******************************\n",
      "At 87 r2_score is:  0.4101816471555144\n",
      "******************************\n",
      "At 88 r2_score is:  0.3434703894691765\n",
      "******************************\n",
      "At 89 r2_score is:  0.38779450611456223\n",
      "******************************\n",
      "At 90 r2_score is:  0.3807920627586764\n",
      "******************************\n",
      "At 91 r2_score is:  0.2975621149745491\n",
      "******************************\n",
      "At 92 r2_score is:  0.42621230930263243\n",
      "******************************\n",
      "At 93 r2_score is:  0.26960231908156707\n",
      "******************************\n",
      "At 94 r2_score is:  0.35649571957908077\n",
      "******************************\n",
      "At 95 r2_score is:  0.403237223774508\n",
      "******************************\n",
      "At 96 r2_score is:  0.26580286477117465\n",
      "******************************\n",
      "At 97 r2_score is:  0.43064883869756565\n",
      "******************************\n",
      "At 98 r2_score is:  0.3236266501003072\n",
      "******************************\n",
      "At 99 r2_score is:  0.27163972066090936\n",
      "******************************\n",
      "At 100 r2_score is:  0.4272795904702982\n",
      "******************************\n",
      "Best r2_score at  78  is :  0.4643004615303671\n"
     ]
    }
   ],
   "source": [
    "lr=LinearRegression()\n",
    "max_r2_score=0\n",
    "for i in range(40,101):\n",
    "    x_train, x_test, y_train, y_test = train_test_split(features,target,test_size=0.20,random_state = i)\n",
    "    lr.fit(x_train,y_train)\n",
    "    pred_train=lr.predict(x_train)\n",
    "    pred_test=lr.predict(x_test)\n",
    "    r2=r2_score(y_test,pred_test)\n",
    "    print(\"*\"*30)\n",
    "    print(\"At\",i,\"r2_score is: \",r2)\n",
    "    if r2>max_r2_score:\n",
    "        max_r2_score=r2\n",
    "        final_i=i\n",
    "print(\"*\"*30)\n",
    "print(\"Best r2_score at \",final_i,\" is : \",max_r2_score)"
   ]
  },
  {
   "cell_type": "code",
   "execution_count": 373,
   "id": "dd8e5203",
   "metadata": {},
   "outputs": [
    {
     "data": {
      "text/plain": [
       "0.4643004615303671"
      ]
     },
     "execution_count": 373,
     "metadata": {},
     "output_type": "execute_result"
    }
   ],
   "source": [
    "x_train, x_test, y_train, y_test = train_test_split(features,target,test_size=0.20,random_state = 78)\n",
    "lr.fit(x_train,y_train)\n",
    "pred_train=lr.predict(x_train)\n",
    "pred_test=lr.predict(x_test)\n",
    "r2_final_score=r2_score(y_test,pred_test)\n",
    "r2_final_score"
   ]
  },
  {
   "cell_type": "code",
   "execution_count": 374,
   "id": "2bf2bbb7",
   "metadata": {},
   "outputs": [
    {
     "name": "stdout",
     "output_type": "stream",
     "text": [
      "mean_absolute_error : 1.2836254381483616\n",
      "mean_squared_error :  2.3125516969527298\n",
      "root_mean_squared_error :  1.5207076303329086\n"
     ]
    }
   ],
   "source": [
    "from sklearn import metrics\n",
    "# calculate MAE, MSE, RMSE on Train Data\n",
    "print (\"mean_absolute_error :\",metrics.mean_absolute_error(y_train, pred_train))\n",
    "print (\"mean_squared_error : \",metrics.mean_squared_error(y_train, pred_train))\n",
    "print (\"root_mean_squared_error : \",np.sqrt(metrics.mean_squared_error(y_train, pred_train)))"
   ]
  },
  {
   "cell_type": "code",
   "execution_count": 375,
   "id": "d4a0a3c4",
   "metadata": {},
   "outputs": [
    {
     "name": "stdout",
     "output_type": "stream",
     "text": [
      "mean_absolute_error : 1.1235352932988132\n",
      "mean_squared_error :  1.8712689573115138\n",
      "root_mean_squared_error :  1.3679433311769584\n"
     ]
    }
   ],
   "source": [
    "# calculate MAE, MSE, RMSE on Test Data\n",
    "print (\"mean_absolute_error :\",metrics.mean_absolute_error(y_test, pred_test))\n",
    "print (\"mean_squared_error : \",metrics.mean_squared_error(y_test, pred_test))\n",
    "print (\"root_mean_squared_error : \",np.sqrt(metrics.mean_squared_error(y_test, pred_test)))"
   ]
  },
  {
   "cell_type": "code",
   "execution_count": 376,
   "id": "2b4c7ac1",
   "metadata": {},
   "outputs": [],
   "source": [
    "from sklearn.model_selection import LeaveOneOut\n",
    "from sklearn.model_selection import cross_val_score\n",
    "from numpy import mean\n",
    "from numpy import absolute"
   ]
  },
  {
   "cell_type": "code",
   "execution_count": 392,
   "id": "908491b8",
   "metadata": {},
   "outputs": [
    {
     "name": "stdout",
     "output_type": "stream",
     "text": [
      "The CV score is : 0.36196281142553166\n"
     ]
    }
   ],
   "source": [
    "lsScore_selected=cross_val_score(lr,features,target,cv=4).mean()\n",
    "print(\"The CV score is :\",lsScore_selected)"
   ]
  },
  {
   "cell_type": "code",
   "execution_count": 393,
   "id": "9124def5",
   "metadata": {},
   "outputs": [
    {
     "data": {
      "text/html": [
       "<div>\n",
       "<style scoped>\n",
       "    .dataframe tbody tr th:only-of-type {\n",
       "        vertical-align: middle;\n",
       "    }\n",
       "\n",
       "    .dataframe tbody tr th {\n",
       "        vertical-align: top;\n",
       "    }\n",
       "\n",
       "    .dataframe thead th {\n",
       "        text-align: right;\n",
       "    }\n",
       "</style>\n",
       "<table border=\"1\" class=\"dataframe\">\n",
       "  <thead>\n",
       "    <tr style=\"text-align: right;\">\n",
       "      <th></th>\n",
       "      <th>Model</th>\n",
       "      <th>MAE</th>\n",
       "      <th>MSE</th>\n",
       "      <th>RMSE</th>\n",
       "      <th>R2 Score</th>\n",
       "      <th>CV Score</th>\n",
       "    </tr>\n",
       "  </thead>\n",
       "  <tbody>\n",
       "    <tr>\n",
       "      <th>0</th>\n",
       "      <td>Linear Regression</td>\n",
       "      <td>1.123535</td>\n",
       "      <td>1.871269</td>\n",
       "      <td>1.367943</td>\n",
       "      <td>0.4643</td>\n",
       "      <td>0.361963</td>\n",
       "    </tr>\n",
       "  </tbody>\n",
       "</table>\n",
       "</div>"
      ],
      "text/plain": [
       "               Model       MAE       MSE      RMSE  R2 Score  CV Score\n",
       "0  Linear Regression  1.123535  1.871269  1.367943    0.4643  0.361963"
      ]
     },
     "execution_count": 393,
     "metadata": {},
     "output_type": "execute_result"
    }
   ],
   "source": [
    "lr_data = {'Model': ['Linear Regression'], \n",
    "           'MAE': metrics.mean_absolute_error(y_test, pred_test),'MSE':metrics.mean_squared_error(y_test, pred_test),\n",
    "           'RMSE':np.sqrt(metrics.mean_squared_error(y_test, pred_test)),\n",
    "           'R2 Score': r2_final_score,\n",
    "           'CV Score': lsScore_selected\n",
    "          }\n",
    "\n",
    "df_LR = pd.DataFrame(lr_data)\n",
    "df_LR"
   ]
  },
  {
   "cell_type": "markdown",
   "id": "2944bc0f",
   "metadata": {},
   "source": [
    "# Regularization Techniques\n",
    "Once we use linear regression on a data-set divided in to training and test set, calculating the scores on training and test set can give us a rough idea about whether the model is suffering from over-fitting or under-fitting.\n",
    "\n",
    "If we have very few features on a data-set and the score is poor for both training and test set then it’s a problem of under-fitting. On the other hand if we have large number of features and test score is relatively poor than the training score then it’s the problem of over-fitting.\n",
    "\n",
    "Regularization is a simple technique to reduce model complexity and prevent over-fitting which may result from simple linear regression."
   ]
  },
  {
   "cell_type": "markdown",
   "id": "95d4ec18",
   "metadata": {},
   "source": [
    "# Ridge"
   ]
  },
  {
   "cell_type": "code",
   "execution_count": 394,
   "id": "ff8e321a",
   "metadata": {},
   "outputs": [
    {
     "name": "stdout",
     "output_type": "stream",
     "text": [
      "******************************\n",
      "At 40 r2_score is:  0.3688095789710597\n",
      "******************************\n",
      "At 41 r2_score is:  0.34551761851217877\n",
      "******************************\n",
      "At 42 r2_score is:  0.3251876377238643\n",
      "******************************\n",
      "At 43 r2_score is:  0.4434572110142263\n",
      "******************************\n",
      "At 44 r2_score is:  0.3444546411525249\n",
      "******************************\n",
      "At 45 r2_score is:  0.38714953279427966\n",
      "******************************\n",
      "At 46 r2_score is:  0.3251710382783015\n",
      "******************************\n",
      "At 47 r2_score is:  0.3484188362477578\n",
      "******************************\n",
      "At 48 r2_score is:  0.44433843440520737\n",
      "******************************\n",
      "At 49 r2_score is:  0.33036721541930125\n",
      "******************************\n",
      "At 50 r2_score is:  0.3913963932918555\n",
      "******************************\n",
      "At 51 r2_score is:  0.27387055087050993\n",
      "******************************\n",
      "At 52 r2_score is:  0.34622353720641763\n",
      "******************************\n",
      "At 53 r2_score is:  0.35897449308123064\n",
      "******************************\n",
      "At 54 r2_score is:  0.37467282179613637\n",
      "******************************\n",
      "At 55 r2_score is:  0.418242423515121\n",
      "******************************\n",
      "At 56 r2_score is:  0.3729918767605078\n",
      "******************************\n",
      "At 57 r2_score is:  0.37830949194573116\n",
      "******************************\n",
      "At 58 r2_score is:  0.4035491394838058\n",
      "******************************\n",
      "At 59 r2_score is:  0.43527654878319566\n",
      "******************************\n",
      "At 60 r2_score is:  0.3906535428748029\n",
      "******************************\n",
      "At 61 r2_score is:  0.4193229821436413\n",
      "******************************\n",
      "At 62 r2_score is:  0.3415322050475669\n",
      "******************************\n",
      "At 63 r2_score is:  0.3730441491383265\n",
      "******************************\n",
      "At 64 r2_score is:  0.3243716283105178\n",
      "******************************\n",
      "At 65 r2_score is:  0.40796428079712244\n",
      "******************************\n",
      "At 66 r2_score is:  0.389127057588588\n",
      "******************************\n",
      "At 67 r2_score is:  0.3810294460057453\n",
      "******************************\n",
      "At 68 r2_score is:  0.3678667676832711\n",
      "******************************\n",
      "At 69 r2_score is:  0.37470779820134326\n",
      "******************************\n",
      "At 70 r2_score is:  0.3777647704154018\n",
      "******************************\n",
      "At 71 r2_score is:  0.42856019852339433\n",
      "******************************\n",
      "At 72 r2_score is:  0.207519703512422\n",
      "******************************\n",
      "At 73 r2_score is:  0.3884527267284391\n",
      "******************************\n",
      "At 74 r2_score is:  0.3259240547457103\n",
      "******************************\n",
      "At 75 r2_score is:  0.34738251372795925\n",
      "******************************\n",
      "At 76 r2_score is:  0.3189740977263775\n",
      "******************************\n",
      "At 77 r2_score is:  0.35686208309721257\n",
      "******************************\n",
      "At 78 r2_score is:  0.4562306022400143\n",
      "******************************\n",
      "At 79 r2_score is:  0.3698080148824884\n",
      "******************************\n",
      "At 80 r2_score is:  0.4097955465952037\n",
      "******************************\n",
      "At 81 r2_score is:  0.3514235456138055\n",
      "******************************\n",
      "At 82 r2_score is:  0.2538904271224791\n",
      "******************************\n",
      "At 83 r2_score is:  0.4109512769321998\n",
      "******************************\n",
      "At 84 r2_score is:  0.36041336968038273\n",
      "******************************\n",
      "At 85 r2_score is:  0.35607519311425884\n",
      "******************************\n",
      "At 86 r2_score is:  0.32359289985903716\n",
      "******************************\n",
      "At 87 r2_score is:  0.4091300305289508\n",
      "******************************\n",
      "At 88 r2_score is:  0.3451617879159873\n",
      "******************************\n",
      "At 89 r2_score is:  0.38267794580536707\n",
      "******************************\n",
      "At 90 r2_score is:  0.38209791710744156\n",
      "******************************\n",
      "At 91 r2_score is:  0.3026920604504304\n",
      "******************************\n",
      "At 92 r2_score is:  0.42159575969540075\n",
      "******************************\n",
      "At 93 r2_score is:  0.27992083039799653\n",
      "******************************\n",
      "At 94 r2_score is:  0.35913756684298415\n",
      "******************************\n",
      "At 95 r2_score is:  0.39724625597836805\n",
      "******************************\n",
      "At 96 r2_score is:  0.27749373421954193\n",
      "******************************\n",
      "At 97 r2_score is:  0.42608047730252907\n",
      "******************************\n",
      "At 98 r2_score is:  0.32785670304107706\n",
      "******************************\n",
      "At 99 r2_score is:  0.27875545438724136\n",
      "******************************\n",
      "At 100 r2_score is:  0.4235722515727858\n",
      "******************************\n",
      "Best r2_score at  78  is :  0.4562306022400143\n"
     ]
    }
   ],
   "source": [
    "from sklearn.linear_model import Ridge\n",
    "ridgeReg = Ridge(alpha=0.1,max_iter=20, normalize=True)\n",
    "\n",
    "max_r2_score=0\n",
    "for i in range(40,101):\n",
    "    x_train, x_test, y_train, y_test = train_test_split(features,target,test_size=0.20,random_state = i)\n",
    "    ridgeReg.fit(x_train,y_train)\n",
    "    ridge_pred_train=ridgeReg.predict(x_train)\n",
    "    ridge_pred=ridgeReg.predict(x_test)\n",
    "    r2=r2_score(y_test,ridge_pred)\n",
    "    print(\"*\"*30)\n",
    "    print(\"At\",i,\"r2_score is: \",r2)\n",
    "    if r2>max_r2_score:\n",
    "        max_r2_score=r2\n",
    "        final_i=i\n",
    "print(\"*\"*30)\n",
    "print(\"Best r2_score at \",final_i,\" is : \",max_r2_score)"
   ]
  },
  {
   "cell_type": "code",
   "execution_count": 395,
   "id": "2317d858",
   "metadata": {},
   "outputs": [],
   "source": [
    "x_train, x_test, y_train, y_test = train_test_split(features,target,test_size=0.20,random_state = 78)\n",
    "ridgeReg.fit(x_train,y_train)\n",
    "ridge_pred = ridgeReg.predict(x_test)\n",
    "ridge_pred_train = ridgeReg.predict(x_train)\n",
    "r2_final_score=r2_score(y_test,ridge_pred)"
   ]
  },
  {
   "cell_type": "code",
   "execution_count": 401,
   "id": "c1c14ffe",
   "metadata": {},
   "outputs": [
    {
     "name": "stdout",
     "output_type": "stream",
     "text": [
      "The CV score is : 0.36160099798030554\n"
     ]
    }
   ],
   "source": [
    "ridge_cvScore=cross_val_score(ridgeReg,features,target,cv=4).mean()\n",
    "print(\"The CV score is :\",ridge_cvScore)"
   ]
  },
  {
   "cell_type": "code",
   "execution_count": 402,
   "id": "7a81e91f",
   "metadata": {},
   "outputs": [
    {
     "name": "stdout",
     "output_type": "stream",
     "text": [
      "r2_score 0.4562306022400143\n",
      "mean_absolute_error : 1.1413586348111353\n",
      "mean_squared_error :  1.8994580373750296\n",
      "root_mean_squared_error :  1.3782082706815504\n",
      "Cross Validation Score :  0.36160099798030554\n"
     ]
    }
   ],
   "source": [
    "#Test Data\n",
    "print(\"r2_score\",r2_final_score)\n",
    "print (\"mean_absolute_error :\",metrics.mean_absolute_error(y_test, ridge_pred))\n",
    "print (\"mean_squared_error : \",metrics.mean_squared_error(y_test, ridge_pred))\n",
    "print (\"root_mean_squared_error : \",np.sqrt(metrics.mean_squared_error(y_test, ridge_pred)))\n",
    "print(\"Cross Validation Score : \",ridge_cvScore)"
   ]
  },
  {
   "cell_type": "code",
   "execution_count": 403,
   "id": "7c6fb2ff",
   "metadata": {},
   "outputs": [
    {
     "name": "stdout",
     "output_type": "stream",
     "text": [
      "r2_score 0.4562306022400143\n",
      "mean_absolute_error : 1.2889107315039174\n",
      "mean_squared_error :  2.3172340875845285\n",
      "root_mean_squared_error :  1.522246395162271\n",
      "Cross Validation Score :  0.36160099798030554\n"
     ]
    }
   ],
   "source": [
    "# Train Data\n",
    "print(\"r2_score\",r2_final_score)\n",
    "print (\"mean_absolute_error :\",metrics.mean_absolute_error(y_train, ridge_pred_train))\n",
    "print (\"mean_squared_error : \",metrics.mean_squared_error(y_train, ridge_pred_train))\n",
    "print (\"root_mean_squared_error : \",np.sqrt(metrics.mean_squared_error(y_train, ridge_pred_train)))\n",
    "print (\"Cross Validation Score : \", ridge_cvScore)"
   ]
  },
  {
   "cell_type": "code",
   "execution_count": 404,
   "id": "444040c3",
   "metadata": {},
   "outputs": [
    {
     "data": {
      "text/html": [
       "<div>\n",
       "<style scoped>\n",
       "    .dataframe tbody tr th:only-of-type {\n",
       "        vertical-align: middle;\n",
       "    }\n",
       "\n",
       "    .dataframe tbody tr th {\n",
       "        vertical-align: top;\n",
       "    }\n",
       "\n",
       "    .dataframe thead th {\n",
       "        text-align: right;\n",
       "    }\n",
       "</style>\n",
       "<table border=\"1\" class=\"dataframe\">\n",
       "  <thead>\n",
       "    <tr style=\"text-align: right;\">\n",
       "      <th></th>\n",
       "      <th>Model</th>\n",
       "      <th>MAE</th>\n",
       "      <th>MSE</th>\n",
       "      <th>RMSE</th>\n",
       "      <th>R2 Score</th>\n",
       "      <th>CV Score</th>\n",
       "    </tr>\n",
       "  </thead>\n",
       "  <tbody>\n",
       "    <tr>\n",
       "      <th>0</th>\n",
       "      <td>Ridge</td>\n",
       "      <td>1.141359</td>\n",
       "      <td>1.899458</td>\n",
       "      <td>1.378208</td>\n",
       "      <td>0.456231</td>\n",
       "      <td>0.361601</td>\n",
       "    </tr>\n",
       "  </tbody>\n",
       "</table>\n",
       "</div>"
      ],
      "text/plain": [
       "   Model       MAE       MSE      RMSE  R2 Score  CV Score\n",
       "0  Ridge  1.141359  1.899458  1.378208  0.456231  0.361601"
      ]
     },
     "execution_count": 404,
     "metadata": {},
     "output_type": "execute_result"
    }
   ],
   "source": [
    "ridge_data = {'Model': ['Ridge'], \n",
    "           'MAE': metrics.mean_absolute_error(y_test, ridge_pred),'MSE':metrics.mean_squared_error(y_test, ridge_pred),\n",
    "           'RMSE':np.sqrt(metrics.mean_squared_error(y_test, ridge_pred)),\n",
    "           'R2 Score': r2_final_score,\n",
    "           'CV Score': ridge_cvScore\n",
    "             }  \n",
    "\n",
    "df_Ridge = pd.DataFrame(ridge_data)  \n",
    "df_Ridge"
   ]
  },
  {
   "cell_type": "markdown",
   "id": "974678bb",
   "metadata": {},
   "source": [
    "# KNeighborsRegressor"
   ]
  },
  {
   "cell_type": "code",
   "execution_count": 420,
   "id": "2823b2b1",
   "metadata": {},
   "outputs": [
    {
     "name": "stdout",
     "output_type": "stream",
     "text": [
      "******************************\n",
      "At 40 r2_score is:  0.42456303383369953\n",
      "******************************\n",
      "At 41 r2_score is:  0.46564965652118406\n",
      "******************************\n",
      "At 42 r2_score is:  0.4545445736392377\n",
      "******************************\n",
      "At 43 r2_score is:  0.5322331912720499\n",
      "******************************\n",
      "At 44 r2_score is:  0.4970799798525134\n",
      "******************************\n",
      "At 45 r2_score is:  0.432105199170442\n",
      "******************************\n",
      "At 46 r2_score is:  0.4759217475473324\n",
      "******************************\n",
      "At 47 r2_score is:  0.42099847415844616\n",
      "******************************\n",
      "At 48 r2_score is:  0.42666045836539324\n",
      "******************************\n",
      "At 49 r2_score is:  0.3840526792024638\n",
      "******************************\n",
      "At 50 r2_score is:  0.4784026290579667\n",
      "******************************\n",
      "At 51 r2_score is:  0.28355698726736467\n",
      "******************************\n",
      "At 52 r2_score is:  0.4508433086733463\n",
      "******************************\n",
      "At 53 r2_score is:  0.4079015376194821\n",
      "******************************\n",
      "At 54 r2_score is:  0.42918567320720935\n",
      "******************************\n",
      "At 55 r2_score is:  0.46323208227012636\n",
      "******************************\n",
      "At 56 r2_score is:  0.4550433370492267\n",
      "******************************\n",
      "At 57 r2_score is:  0.38032671253986916\n",
      "******************************\n",
      "At 58 r2_score is:  0.46962649586829963\n",
      "******************************\n",
      "At 59 r2_score is:  0.452972599743512\n",
      "******************************\n",
      "At 60 r2_score is:  0.397009933814945\n",
      "******************************\n",
      "At 61 r2_score is:  0.42679172832112944\n",
      "******************************\n",
      "At 62 r2_score is:  0.4253111091370202\n",
      "******************************\n",
      "At 63 r2_score is:  0.4412556371436389\n",
      "******************************\n",
      "At 64 r2_score is:  0.29935734413893555\n",
      "******************************\n",
      "At 65 r2_score is:  0.4715021938536279\n",
      "******************************\n",
      "At 66 r2_score is:  0.42850061711151777\n",
      "******************************\n",
      "At 67 r2_score is:  0.44794714227600074\n",
      "******************************\n",
      "At 68 r2_score is:  0.44517229181525375\n",
      "******************************\n",
      "At 69 r2_score is:  0.5040348926822502\n",
      "******************************\n",
      "At 70 r2_score is:  0.41930891946002047\n",
      "******************************\n",
      "At 71 r2_score is:  0.5042861148699751\n",
      "******************************\n",
      "At 72 r2_score is:  0.28745727040220426\n",
      "******************************\n",
      "At 73 r2_score is:  0.45877765097556256\n",
      "******************************\n",
      "At 74 r2_score is:  0.38954437288559907\n",
      "******************************\n",
      "At 75 r2_score is:  0.3488523280580973\n",
      "******************************\n",
      "At 76 r2_score is:  0.3801826888506997\n",
      "******************************\n",
      "At 77 r2_score is:  0.33752845441876145\n",
      "******************************\n",
      "At 78 r2_score is:  0.5194544776322859\n",
      "******************************\n",
      "At 79 r2_score is:  0.45611002843290227\n",
      "******************************\n",
      "At 80 r2_score is:  0.5065158177286844\n",
      "******************************\n",
      "At 81 r2_score is:  0.38682051738231626\n",
      "******************************\n",
      "At 82 r2_score is:  0.4091041432785153\n",
      "******************************\n",
      "At 83 r2_score is:  0.5045411581582377\n",
      "******************************\n",
      "At 84 r2_score is:  0.2937570273079475\n",
      "******************************\n",
      "At 85 r2_score is:  0.4155594270075007\n",
      "******************************\n",
      "At 86 r2_score is:  0.2840877654891787\n",
      "******************************\n",
      "At 87 r2_score is:  0.5164759954778554\n",
      "******************************\n",
      "At 88 r2_score is:  0.4176200300176358\n",
      "******************************\n",
      "At 89 r2_score is:  0.526592099825544\n",
      "******************************\n",
      "At 90 r2_score is:  0.3883038679399703\n",
      "******************************\n",
      "At 91 r2_score is:  0.40436664771834074\n",
      "******************************\n",
      "At 92 r2_score is:  0.4871852504924682\n",
      "******************************\n",
      "At 93 r2_score is:  0.3126418513078144\n",
      "******************************\n",
      "At 94 r2_score is:  0.445750113668833\n",
      "******************************\n",
      "At 95 r2_score is:  0.5033388019567063\n",
      "******************************\n",
      "At 96 r2_score is:  0.40152166930633904\n",
      "******************************\n",
      "At 97 r2_score is:  0.5083559965565649\n",
      "******************************\n",
      "At 98 r2_score is:  0.2907609774309333\n",
      "******************************\n",
      "At 99 r2_score is:  0.3542224015852842\n",
      "******************************\n",
      "At 100 r2_score is:  0.48400529897607736\n",
      "******************************\n",
      "Best r2_score at  43  is :  0.5322331912720499\n"
     ]
    }
   ],
   "source": [
    "from sklearn.neighbors import KNeighborsRegressor\n",
    "knn = KNeighborsRegressor(n_neighbors=5,weights='uniform',algorithm='kd_tree',leaf_size=3)\n",
    "\n",
    "max_r2_score=0\n",
    "for i in range(40,101):\n",
    "    x_train, x_test, y_train, y_test = train_test_split(features,target,test_size=0.20,random_state = i)\n",
    "    knn.fit(x_train,y_train)\n",
    "    \n",
    "    knn_pred_train=knn.predict(x_train)\n",
    "    knn_pred=knn.predict(x_test)\n",
    "    \n",
    "    r2=r2_score(y_test,knn_pred)\n",
    "    \n",
    "    print(\"*\"*30)\n",
    "    print(\"At\",i,\"r2_score is: \",r2)\n",
    "    if r2>max_r2_score:\n",
    "        max_r2_score=r2\n",
    "        final_i=i\n",
    "print(\"*\"*30)\n",
    "print(\"Best r2_score at \",final_i,\" is : \",max_r2_score)"
   ]
  },
  {
   "cell_type": "code",
   "execution_count": 421,
   "id": "7e879f82",
   "metadata": {},
   "outputs": [
    {
     "data": {
      "text/plain": [
       "0.5322331912720499"
      ]
     },
     "execution_count": 421,
     "metadata": {},
     "output_type": "execute_result"
    }
   ],
   "source": [
    "x_train, x_test, y_train, y_test = train_test_split(features,target,test_size=0.20,random_state =43)\n",
    "knn.fit(x_train,y_train)\n",
    "knn_pred = knn.predict(x_test)\n",
    "knn_pred_train = knn.predict(x_train)\n",
    "r2_final_score=r2_score(y_test,knn_pred)\n",
    "r2_final_score"
   ]
  },
  {
   "cell_type": "code",
   "execution_count": 422,
   "id": "157b19ff",
   "metadata": {},
   "outputs": [
    {
     "name": "stdout",
     "output_type": "stream",
     "text": [
      "Cross Validation accuracy: 0.490 +/- 0.040\n"
     ]
    },
    {
     "data": {
      "text/plain": [
       "0.4904750545306033"
      ]
     },
     "execution_count": 422,
     "metadata": {},
     "output_type": "execute_result"
    }
   ],
   "source": [
    "pipeline = make_pipeline(StandardScaler(), KNeighborsRegressor(n_neighbors=5,weights='uniform',algorithm='kd_tree',leaf_size=3))\n",
    "#\n",
    "# Pass instance of pipeline and training and test data set\n",
    "# cv=5 represents the StratifiedKFold with 5 folds\n",
    "#\n",
    "scores = cross_val_score(pipeline, X=x_train, y=y_train, cv=5, n_jobs=1) \n",
    "\n",
    "print('Cross Validation accuracy: %.3f +/- %.3f' % (np.mean(scores),np.std(scores)))\n",
    "knn_cvScore=(np.mean(scores))\n",
    "knn_cvScore"
   ]
  },
  {
   "cell_type": "code",
   "execution_count": 423,
   "id": "1206e9ab",
   "metadata": {},
   "outputs": [
    {
     "name": "stdout",
     "output_type": "stream",
     "text": [
      "r2_score 0.5322331912720499\n",
      "mean_absolute_error : 1.054838528296915\n",
      "mean_squared_error :  1.8415753235239867\n",
      "root_mean_squared_error :  1.3570465443469457\n",
      "Cross Validation Score :  0.4904750545306033\n"
     ]
    }
   ],
   "source": [
    "#Test Data\n",
    "print(\"r2_score\",r2_final_score)\n",
    "print (\"mean_absolute_error :\",metrics.mean_absolute_error(y_test, knn_pred))\n",
    "print (\"mean_squared_error : \",metrics.mean_squared_error(y_test, knn_pred))\n",
    "print (\"root_mean_squared_error : \",np.sqrt(metrics.mean_squared_error(y_test, knn_pred)))\n",
    "print(\"Cross Validation Score : \",knn_cvScore)"
   ]
  },
  {
   "cell_type": "code",
   "execution_count": 424,
   "id": "5a9638d2",
   "metadata": {},
   "outputs": [
    {
     "name": "stdout",
     "output_type": "stream",
     "text": [
      "r2_score 0.5322331912720499\n",
      "mean_absolute_error : 0.8859060880553223\n",
      "mean_squared_error :  1.3161105372007655\n",
      "root_mean_squared_error :  1.147218609159024\n",
      "Cross Validation Score :  0.4904750545306033\n"
     ]
    }
   ],
   "source": [
    "#Train Data\n",
    "print(\"r2_score\",r2_final_score)\n",
    "print (\"mean_absolute_error :\",metrics.mean_absolute_error(y_train, knn_pred_train))\n",
    "print (\"mean_squared_error : \",metrics.mean_squared_error(y_train, knn_pred_train))\n",
    "print (\"root_mean_squared_error : \",np.sqrt(metrics.mean_squared_error(y_train, knn_pred_train)))\n",
    "print(\"Cross Validation Score : \",knn_cvScore)"
   ]
  },
  {
   "cell_type": "code",
   "execution_count": 425,
   "id": "448c6c1a",
   "metadata": {},
   "outputs": [
    {
     "data": {
      "text/html": [
       "<div>\n",
       "<style scoped>\n",
       "    .dataframe tbody tr th:only-of-type {\n",
       "        vertical-align: middle;\n",
       "    }\n",
       "\n",
       "    .dataframe tbody tr th {\n",
       "        vertical-align: top;\n",
       "    }\n",
       "\n",
       "    .dataframe thead th {\n",
       "        text-align: right;\n",
       "    }\n",
       "</style>\n",
       "<table border=\"1\" class=\"dataframe\">\n",
       "  <thead>\n",
       "    <tr style=\"text-align: right;\">\n",
       "      <th></th>\n",
       "      <th>Model</th>\n",
       "      <th>MAE</th>\n",
       "      <th>MSE</th>\n",
       "      <th>RMSE</th>\n",
       "      <th>R2 Score</th>\n",
       "      <th>CV Score</th>\n",
       "    </tr>\n",
       "  </thead>\n",
       "  <tbody>\n",
       "    <tr>\n",
       "      <th>0</th>\n",
       "      <td>KNN</td>\n",
       "      <td>1.054839</td>\n",
       "      <td>1.841575</td>\n",
       "      <td>1.357047</td>\n",
       "      <td>0.532233</td>\n",
       "      <td>0.490475</td>\n",
       "    </tr>\n",
       "  </tbody>\n",
       "</table>\n",
       "</div>"
      ],
      "text/plain": [
       "  Model       MAE       MSE      RMSE  R2 Score  CV Score\n",
       "0   KNN  1.054839  1.841575  1.357047  0.532233  0.490475"
      ]
     },
     "execution_count": 425,
     "metadata": {},
     "output_type": "execute_result"
    }
   ],
   "source": [
    "knn_data = {'Model': ['KNN'], \n",
    "           'MAE': metrics.mean_absolute_error(y_test, knn_pred),'MSE':metrics.mean_squared_error(y_test, knn_pred),\n",
    "           'RMSE':np.sqrt(metrics.mean_squared_error(y_test, knn_pred)),\n",
    "           'R2 Score': r2_final_score,\n",
    "           'CV Score': knn_cvScore\n",
    "           }  \n",
    "\n",
    "df_knn = pd.DataFrame(knn_data)  \n",
    "df_knn"
   ]
  },
  {
   "cell_type": "markdown",
   "id": "e13d7d29",
   "metadata": {},
   "source": [
    "# Decisoin Tree Regressor"
   ]
  },
  {
   "cell_type": "code",
   "execution_count": 426,
   "id": "a1e3c0ee",
   "metadata": {},
   "outputs": [],
   "source": [
    "from sklearn.tree import DecisionTreeRegressor\n",
    "dr=DecisionTreeRegressor(criterion=\"mae\",max_features=\"auto\",splitter=\"best\",min_samples_split= 10)"
   ]
  },
  {
   "cell_type": "code",
   "execution_count": 427,
   "id": "af742818",
   "metadata": {},
   "outputs": [
    {
     "name": "stdout",
     "output_type": "stream",
     "text": [
      "******************************\n",
      "At 40 r2_score is:  0.26283148796382516\n",
      "******************************\n",
      "At 41 r2_score is:  0.37961577572008265\n",
      "******************************\n",
      "At 42 r2_score is:  0.3875936692927717\n",
      "******************************\n",
      "At 43 r2_score is:  0.35916861822707624\n",
      "******************************\n",
      "At 44 r2_score is:  0.3832641168190537\n",
      "******************************\n",
      "At 45 r2_score is:  0.44536051878635696\n",
      "******************************\n",
      "At 46 r2_score is:  0.40041822250371195\n",
      "******************************\n",
      "At 47 r2_score is:  0.3864502799741437\n",
      "******************************\n",
      "At 48 r2_score is:  0.34553450778336925\n",
      "******************************\n",
      "At 49 r2_score is:  0.32728982519319694\n",
      "******************************\n",
      "At 50 r2_score is:  0.36433165248695254\n",
      "******************************\n",
      "At 51 r2_score is:  0.20267706686979736\n",
      "******************************\n",
      "At 52 r2_score is:  0.4575529318710525\n",
      "******************************\n",
      "At 53 r2_score is:  0.37222594927763686\n",
      "******************************\n",
      "At 54 r2_score is:  0.37296487326530503\n",
      "******************************\n",
      "At 55 r2_score is:  0.4914787030135349\n",
      "******************************\n",
      "At 56 r2_score is:  0.33848045402826155\n",
      "******************************\n",
      "At 57 r2_score is:  0.3327043249678888\n",
      "******************************\n",
      "At 58 r2_score is:  0.4418533197560325\n",
      "******************************\n",
      "At 59 r2_score is:  0.45257265279381875\n",
      "******************************\n",
      "At 60 r2_score is:  0.3231036708773636\n",
      "******************************\n",
      "At 61 r2_score is:  0.33482994513835307\n",
      "******************************\n",
      "At 62 r2_score is:  0.29505839985507487\n",
      "******************************\n",
      "At 63 r2_score is:  0.34213749310927666\n",
      "******************************\n",
      "At 64 r2_score is:  0.32608155473904543\n",
      "******************************\n",
      "At 65 r2_score is:  0.39371450556128884\n",
      "******************************\n",
      "At 66 r2_score is:  0.3584187060475891\n",
      "******************************\n",
      "At 67 r2_score is:  0.4709446132167113\n",
      "******************************\n",
      "At 68 r2_score is:  0.44261379565528014\n",
      "******************************\n",
      "At 69 r2_score is:  0.3017757085076723\n",
      "******************************\n",
      "At 70 r2_score is:  0.3785631001976276\n",
      "******************************\n",
      "At 71 r2_score is:  0.4200926175652461\n",
      "******************************\n",
      "At 72 r2_score is:  0.3346671403001258\n",
      "******************************\n",
      "At 73 r2_score is:  0.4171259478136101\n",
      "******************************\n",
      "At 74 r2_score is:  0.41131306735952333\n",
      "******************************\n",
      "At 75 r2_score is:  0.2049078977666443\n",
      "******************************\n",
      "At 76 r2_score is:  0.2569545184024724\n",
      "******************************\n",
      "At 77 r2_score is:  0.2769661704753864\n",
      "******************************\n",
      "At 78 r2_score is:  0.44832680852926154\n",
      "******************************\n",
      "At 79 r2_score is:  0.3326111507517244\n",
      "******************************\n",
      "At 80 r2_score is:  0.4707003356485425\n",
      "******************************\n",
      "At 81 r2_score is:  0.3696637822128065\n",
      "******************************\n",
      "At 82 r2_score is:  0.35175241885133723\n",
      "******************************\n",
      "At 83 r2_score is:  0.3507357304653559\n",
      "******************************\n",
      "At 84 r2_score is:  0.30374573773937763\n",
      "******************************\n",
      "At 85 r2_score is:  0.42817922298766353\n",
      "******************************\n",
      "At 86 r2_score is:  0.3200627196651221\n",
      "******************************\n",
      "At 87 r2_score is:  0.49262451351567327\n",
      "******************************\n",
      "At 88 r2_score is:  0.3509098582876138\n",
      "******************************\n",
      "At 89 r2_score is:  0.4249335005580781\n",
      "******************************\n",
      "At 90 r2_score is:  0.3665240774861249\n",
      "******************************\n",
      "At 91 r2_score is:  0.3201760001809576\n",
      "******************************\n",
      "At 92 r2_score is:  0.4107962208916912\n",
      "******************************\n",
      "At 93 r2_score is:  0.11506623485269074\n",
      "******************************\n",
      "At 94 r2_score is:  0.34162941152962345\n",
      "******************************\n",
      "At 95 r2_score is:  0.37802466767992404\n",
      "******************************\n",
      "At 96 r2_score is:  0.3254449066910793\n",
      "******************************\n",
      "At 97 r2_score is:  0.45500980534888125\n",
      "******************************\n",
      "At 98 r2_score is:  0.32130673991246994\n",
      "******************************\n",
      "At 99 r2_score is:  0.26407207760569706\n",
      "******************************\n",
      "At 100 r2_score is:  0.3265936536635341\n",
      "******************************\n",
      "Best r2_score at  87  is :  0.49262451351567327\n"
     ]
    }
   ],
   "source": [
    "max_r2_score=0\n",
    "for i in range(40,101):\n",
    "    x_train, x_test, y_train, y_test = train_test_split(features,target,test_size=0.20,random_state = i)\n",
    "    dr.fit(x_train,y_train)\n",
    "    dr_pred_train=dr.predict(x_train)\n",
    "    dr_pred=dr.predict(x_test)\n",
    "    r2=r2_score(y_test,dr_pred)\n",
    "    print(\"*\"*30)\n",
    "    print(\"At\",i,\"r2_score is: \",r2)\n",
    "    if r2>max_r2_score:\n",
    "        max_r2_score=r2\n",
    "        final_i=i\n",
    "print(\"*\"*30)\n",
    "print(\"Best r2_score at \",final_i,\" is : \",max_r2_score)"
   ]
  },
  {
   "cell_type": "code",
   "execution_count": 428,
   "id": "16d8e5db",
   "metadata": {},
   "outputs": [
    {
     "data": {
      "text/plain": [
       "0.5162016617423636"
      ]
     },
     "execution_count": 428,
     "metadata": {},
     "output_type": "execute_result"
    }
   ],
   "source": [
    "x_train, x_test, y_train, y_test = train_test_split(features,target,test_size=0.20,random_state =87)\n",
    "dr.fit(x_train,y_train)\n",
    "dr_pred = dr.predict(x_test)\n",
    "dr_pred_train = dr.predict(x_train)\n",
    "r2_final_score=r2_score(y_test,dr_pred)\n",
    "r2_final_score"
   ]
  },
  {
   "cell_type": "code",
   "execution_count": 433,
   "id": "1240218b",
   "metadata": {},
   "outputs": [
    {
     "name": "stdout",
     "output_type": "stream",
     "text": [
      "Cross Validation accuracy: 0.271 +/- 0.052\n"
     ]
    },
    {
     "data": {
      "text/plain": [
       "0.4904750545306033"
      ]
     },
     "execution_count": 433,
     "metadata": {},
     "output_type": "execute_result"
    }
   ],
   "source": [
    "pipeline = make_pipeline(StandardScaler(),DecisionTreeRegressor(criterion=\"mae\",max_features=\"auto\",splitter=\"best\",min_samples_split= 10))\n",
    "#\n",
    "# Pass instance of pipeline and training and test data set\n",
    "# cv=5 represents the StratifiedKFold with 5 folds\n",
    "#\n",
    "tree_scores = cross_val_score(pipeline, X=x_train, y=y_train, cv=5, n_jobs=1) \n",
    "\n",
    "print('Cross Validation accuracy: %.3f +/- %.3f' % (np.mean(tree_scores),np.std(tree_scores)))\n",
    "tree_cvScore=(np.mean(scores))\n",
    "tree_cvScore"
   ]
  },
  {
   "cell_type": "code",
   "execution_count": 434,
   "id": "a5ab8543",
   "metadata": {},
   "outputs": [
    {
     "name": "stdout",
     "output_type": "stream",
     "text": [
      "r2_score 0.5162016617423636\n",
      "mean_absolute_error : 1.0210702754973067\n",
      "mean_squared_error :  1.79580750307346\n",
      "root_mean_squared_error :  1.3400774242831868\n",
      "Cross Validation Score :  0.4904750545306033\n"
     ]
    }
   ],
   "source": [
    "#Test Data\n",
    "print(\"r2_score\",r2_final_score)\n",
    "print (\"mean_absolute_error :\",metrics.mean_absolute_error(y_test, dr_pred))\n",
    "print (\"mean_squared_error : \",metrics.mean_squared_error(y_test, dr_pred))\n",
    "print (\"root_mean_squared_error : \",np.sqrt(metrics.mean_squared_error(y_test, dr_pred)))\n",
    "print(\"Cross Validation Score : \",tree_cvScore)"
   ]
  },
  {
   "cell_type": "code",
   "execution_count": 435,
   "id": "3ce04723",
   "metadata": {},
   "outputs": [
    {
     "name": "stdout",
     "output_type": "stream",
     "text": [
      "r2_score 0.5162016617423636\n",
      "mean_absolute_error : 0.5101559836989635\n",
      "mean_squared_error :  0.7320190561310492\n",
      "root_mean_squared_error :  0.8555811218879535\n",
      "Cross Validation Score :  0.4904750545306033\n"
     ]
    }
   ],
   "source": [
    "# Train Data\n",
    "print(\"r2_score\",r2_final_score)\n",
    "print (\"mean_absolute_error :\",metrics.mean_absolute_error(y_train, dr_pred_train))\n",
    "print (\"mean_squared_error : \",metrics.mean_squared_error(y_train, dr_pred_train))\n",
    "print (\"root_mean_squared_error : \",np.sqrt(metrics.mean_squared_error(y_train, dr_pred_train)))\n",
    "print (\"Cross Validation Score : \", tree_cvScore)"
   ]
  },
  {
   "cell_type": "code",
   "execution_count": 436,
   "id": "ff98f299",
   "metadata": {},
   "outputs": [
    {
     "data": {
      "text/html": [
       "<div>\n",
       "<style scoped>\n",
       "    .dataframe tbody tr th:only-of-type {\n",
       "        vertical-align: middle;\n",
       "    }\n",
       "\n",
       "    .dataframe tbody tr th {\n",
       "        vertical-align: top;\n",
       "    }\n",
       "\n",
       "    .dataframe thead th {\n",
       "        text-align: right;\n",
       "    }\n",
       "</style>\n",
       "<table border=\"1\" class=\"dataframe\">\n",
       "  <thead>\n",
       "    <tr style=\"text-align: right;\">\n",
       "      <th></th>\n",
       "      <th>Model</th>\n",
       "      <th>MAE</th>\n",
       "      <th>MSE</th>\n",
       "      <th>RMSE</th>\n",
       "      <th>R2 Score</th>\n",
       "      <th>CV Score</th>\n",
       "    </tr>\n",
       "  </thead>\n",
       "  <tbody>\n",
       "    <tr>\n",
       "      <th>0</th>\n",
       "      <td>Decision Tree Regressor</td>\n",
       "      <td>1.02107</td>\n",
       "      <td>1.795808</td>\n",
       "      <td>1.340077</td>\n",
       "      <td>0.516202</td>\n",
       "      <td>0.490475</td>\n",
       "    </tr>\n",
       "  </tbody>\n",
       "</table>\n",
       "</div>"
      ],
      "text/plain": [
       "                     Model      MAE       MSE      RMSE  R2 Score  CV Score\n",
       "0  Decision Tree Regressor  1.02107  1.795808  1.340077  0.516202  0.490475"
      ]
     },
     "execution_count": 436,
     "metadata": {},
     "output_type": "execute_result"
    }
   ],
   "source": [
    "decisionTree_data = {'Model': ['Decision Tree Regressor'], \n",
    "           'MAE': metrics.mean_absolute_error(y_test, dr_pred),'MSE':metrics.mean_squared_error(y_test, dr_pred),\n",
    "           'RMSE':np.sqrt(metrics.mean_squared_error(y_test, dr_pred)),\n",
    "           'R2 Score': r2_score(y_test,dr_pred),\n",
    "           'CV Score': tree_cvScore\n",
    "            }  \n",
    "\n",
    "df_DT = pd.DataFrame(decisionTree_data)  \n",
    "df_DT"
   ]
  },
  {
   "cell_type": "markdown",
   "id": "fdd550f8",
   "metadata": {},
   "source": [
    "# Support Vector Regressor"
   ]
  },
  {
   "cell_type": "code",
   "execution_count": 437,
   "id": "1b64d5d4",
   "metadata": {},
   "outputs": [],
   "source": [
    "from sklearn.svm import SVR\n",
    "svr = SVR(gamma='scale',kernel='rbf',shrinking=True,C=1.0)"
   ]
  },
  {
   "cell_type": "code",
   "execution_count": 438,
   "id": "1d5a302c",
   "metadata": {},
   "outputs": [
    {
     "name": "stdout",
     "output_type": "stream",
     "text": [
      "******************************\n",
      "At 40 r2_score is:  0.33904034285114504\n",
      "******************************\n",
      "At 41 r2_score is:  0.34302671206428603\n",
      "******************************\n",
      "At 42 r2_score is:  0.3055785953739477\n",
      "******************************\n",
      "At 43 r2_score is:  0.4615848929819788\n",
      "******************************\n",
      "At 44 r2_score is:  0.3446847273205029\n",
      "******************************\n",
      "At 45 r2_score is:  0.4104091292078743\n",
      "******************************\n",
      "At 46 r2_score is:  0.3127695889055332\n",
      "******************************\n",
      "At 47 r2_score is:  0.325504290038263\n",
      "******************************\n",
      "At 48 r2_score is:  0.4257409925195118\n",
      "******************************\n",
      "At 49 r2_score is:  0.3237488578788369\n",
      "******************************\n",
      "At 50 r2_score is:  0.3540948900148826\n",
      "******************************\n",
      "At 51 r2_score is:  0.2214113360329908\n",
      "******************************\n",
      "At 52 r2_score is:  0.34984078457444256\n",
      "******************************\n",
      "At 53 r2_score is:  0.36001646150565625\n",
      "******************************\n",
      "At 54 r2_score is:  0.35993856426925996\n",
      "******************************\n",
      "At 55 r2_score is:  0.4292261284817519\n",
      "******************************\n",
      "At 56 r2_score is:  0.36717834867607135\n",
      "******************************\n",
      "At 57 r2_score is:  0.34631678638811925\n",
      "******************************\n",
      "At 58 r2_score is:  0.3802204519222516\n",
      "******************************\n",
      "At 59 r2_score is:  0.41679791603096417\n",
      "******************************\n",
      "At 60 r2_score is:  0.3715319870061531\n",
      "******************************\n",
      "At 61 r2_score is:  0.41781975911886815\n",
      "******************************\n",
      "At 62 r2_score is:  0.33356207000251414\n",
      "******************************\n",
      "At 63 r2_score is:  0.342884822332332\n",
      "******************************\n",
      "At 64 r2_score is:  0.29592577079952\n",
      "******************************\n",
      "At 65 r2_score is:  0.39253279061169777\n",
      "******************************\n",
      "At 66 r2_score is:  0.3998365222897813\n",
      "******************************\n",
      "At 67 r2_score is:  0.3915281800948356\n",
      "******************************\n",
      "At 68 r2_score is:  0.3531886772364061\n",
      "******************************\n",
      "At 69 r2_score is:  0.41479896749514644\n",
      "******************************\n",
      "At 70 r2_score is:  0.37605164366171107\n",
      "******************************\n",
      "At 71 r2_score is:  0.41166016427460905\n",
      "******************************\n",
      "At 72 r2_score is:  0.1548409938997679\n",
      "******************************\n",
      "At 73 r2_score is:  0.38606300957739026\n",
      "******************************\n",
      "At 74 r2_score is:  0.34189814941177243\n",
      "******************************\n",
      "At 75 r2_score is:  0.3376149105490015\n",
      "******************************\n",
      "At 76 r2_score is:  0.33978804439922883\n",
      "******************************\n",
      "At 77 r2_score is:  0.3628778992987324\n",
      "******************************\n",
      "At 78 r2_score is:  0.4394290460062361\n",
      "******************************\n",
      "At 79 r2_score is:  0.3581131752087723\n",
      "******************************\n",
      "At 80 r2_score is:  0.38917681660271797\n",
      "******************************\n",
      "At 81 r2_score is:  0.35073799660938487\n",
      "******************************\n",
      "At 82 r2_score is:  0.232829378513432\n",
      "******************************\n",
      "At 83 r2_score is:  0.38964964063473406\n",
      "******************************\n",
      "At 84 r2_score is:  0.3236372155646896\n",
      "******************************\n",
      "At 85 r2_score is:  0.3135693899666504\n",
      "******************************\n",
      "At 86 r2_score is:  0.34897114070386137\n",
      "******************************\n",
      "At 87 r2_score is:  0.38239688562275853\n",
      "******************************\n",
      "At 88 r2_score is:  0.27938323663177\n",
      "******************************\n",
      "At 89 r2_score is:  0.3833046153397116\n",
      "******************************\n",
      "At 90 r2_score is:  0.3066768838942979\n",
      "******************************\n",
      "At 91 r2_score is:  0.2925752060481841\n",
      "******************************\n",
      "At 92 r2_score is:  0.4284896633110964\n",
      "******************************\n",
      "At 93 r2_score is:  0.23397236928011156\n",
      "******************************\n",
      "At 94 r2_score is:  0.34157333439047255\n",
      "******************************\n",
      "At 95 r2_score is:  0.38377844566407804\n",
      "******************************\n",
      "At 96 r2_score is:  0.23430097532322536\n",
      "******************************\n",
      "At 97 r2_score is:  0.40378025340950696\n",
      "******************************\n",
      "At 98 r2_score is:  0.2712299343870337\n",
      "******************************\n",
      "At 99 r2_score is:  0.2753009038573334\n",
      "******************************\n",
      "At 100 r2_score is:  0.4065929303469068\n",
      "******************************\n",
      "Best r2_score at  43  is :  0.4615848929819788\n"
     ]
    }
   ],
   "source": [
    "max_r2_score=0\n",
    "for i in range(40,101):\n",
    "    x_train, x_test, y_train, y_test = train_test_split(features,target,test_size=0.20,random_state = i)\n",
    "    svr.fit(x_train,y_train)\n",
    "    svr_pred_train=svr.predict(x_train)\n",
    "    svr_pred=svr.predict(x_test)\n",
    "    r2=r2_score(y_test,svr_pred)\n",
    "    print(\"*\"*30)\n",
    "    print(\"At\",i,\"r2_score is: \",r2)\n",
    "    if r2>max_r2_score:\n",
    "        max_r2_score=r2\n",
    "        final_i=i\n",
    "print(\"*\"*30)\n",
    "print(\"Best r2_score at \",final_i,\" is : \",max_r2_score)"
   ]
  },
  {
   "cell_type": "code",
   "execution_count": 439,
   "id": "149486f4",
   "metadata": {},
   "outputs": [],
   "source": [
    "x_train, x_test, y_train, y_test = train_test_split(features,target,test_size=0.20,random_state = 43)\n",
    "svr.fit(x_train,y_train)\n",
    "svr_pred = svr.predict(x_test)\n",
    "svr_pred_train = svr.predict(x_train)\n",
    "r2_final_score=r2_score(y_test,svr_pred)"
   ]
  },
  {
   "cell_type": "code",
   "execution_count": 440,
   "id": "dae09473",
   "metadata": {},
   "outputs": [
    {
     "name": "stdout",
     "output_type": "stream",
     "text": [
      "Cross Validation accuracy: 0.434 +/- 0.038\n"
     ]
    },
    {
     "data": {
      "text/plain": [
       "0.43351250864257534"
      ]
     },
     "execution_count": 440,
     "metadata": {},
     "output_type": "execute_result"
    }
   ],
   "source": [
    "pipeline = make_pipeline(StandardScaler(), SVR(gamma='scale',kernel='rbf',shrinking=True,C=1.0))\n",
    "#\n",
    "# Pass instance of pipeline and training and test data set\n",
    "# cv=5 represents the StratifiedKFold with 5 folds\n",
    "#\n",
    "scores = cross_val_score(pipeline, X=x_train, y=y_train, cv=5, n_jobs=1) \n",
    "\n",
    "print('Cross Validation accuracy: %.3f +/- %.3f' % (np.mean(scores),np.std(scores)))\n",
    "svr_cvScore=(np.mean(scores))\n",
    "svr_cvScore"
   ]
  },
  {
   "cell_type": "code",
   "execution_count": 441,
   "id": "8f65eb2b",
   "metadata": {},
   "outputs": [
    {
     "name": "stdout",
     "output_type": "stream",
     "text": [
      "r2_score 0.4615848929819788\n",
      "mean_absolute_error : 1.2356079472694041\n",
      "mean_squared_error :  2.1197142601744163\n",
      "root_mean_squared_error :  1.455923851090577\n",
      "Cross Validation Score :  0.43351250864257534\n"
     ]
    }
   ],
   "source": [
    "#Test Data\n",
    "print(\"r2_score\",r2_final_score)\n",
    "print (\"mean_absolute_error :\",metrics.mean_absolute_error(y_test, svr_pred))\n",
    "print (\"mean_squared_error : \",metrics.mean_squared_error(y_test, svr_pred))\n",
    "print (\"root_mean_squared_error : \",np.sqrt(metrics.mean_squared_error(y_test, svr_pred)))\n",
    "print(\"Cross Validation Score : \",svr_cvScore)"
   ]
  },
  {
   "cell_type": "code",
   "execution_count": 442,
   "id": "8dfbe4d5",
   "metadata": {},
   "outputs": [
    {
     "name": "stdout",
     "output_type": "stream",
     "text": [
      "r2_score 0.4615848929819788\n",
      "mean_absolute_error : 1.2521819290074132\n",
      "mean_squared_error :  2.2487184112342296\n",
      "root_mean_squared_error :  1.4995727428951986\n",
      "Cross Validation Score :  0.43351250864257534\n"
     ]
    }
   ],
   "source": [
    "# Train Data\n",
    "print(\"r2_score\",r2_final_score)\n",
    "print (\"mean_absolute_error :\",metrics.mean_absolute_error(y_train, svr_pred_train))\n",
    "print (\"mean_squared_error : \",metrics.mean_squared_error(y_train, svr_pred_train))\n",
    "print (\"root_mean_squared_error : \",np.sqrt(metrics.mean_squared_error(y_train, svr_pred_train)))\n",
    "print (\"Cross Validation Score : \", svr_cvScore)"
   ]
  },
  {
   "cell_type": "code",
   "execution_count": 443,
   "id": "3a9937a2",
   "metadata": {},
   "outputs": [
    {
     "data": {
      "text/html": [
       "<div>\n",
       "<style scoped>\n",
       "    .dataframe tbody tr th:only-of-type {\n",
       "        vertical-align: middle;\n",
       "    }\n",
       "\n",
       "    .dataframe tbody tr th {\n",
       "        vertical-align: top;\n",
       "    }\n",
       "\n",
       "    .dataframe thead th {\n",
       "        text-align: right;\n",
       "    }\n",
       "</style>\n",
       "<table border=\"1\" class=\"dataframe\">\n",
       "  <thead>\n",
       "    <tr style=\"text-align: right;\">\n",
       "      <th></th>\n",
       "      <th>Model</th>\n",
       "      <th>MAE</th>\n",
       "      <th>MSE</th>\n",
       "      <th>RMSE</th>\n",
       "      <th>R2 Score</th>\n",
       "      <th>CV Score</th>\n",
       "    </tr>\n",
       "  </thead>\n",
       "  <tbody>\n",
       "    <tr>\n",
       "      <th>0</th>\n",
       "      <td>SVR</td>\n",
       "      <td>1.235608</td>\n",
       "      <td>2.119714</td>\n",
       "      <td>1.455924</td>\n",
       "      <td>0.461585</td>\n",
       "      <td>0.433513</td>\n",
       "    </tr>\n",
       "  </tbody>\n",
       "</table>\n",
       "</div>"
      ],
      "text/plain": [
       "  Model       MAE       MSE      RMSE  R2 Score  CV Score\n",
       "0   SVR  1.235608  2.119714  1.455924  0.461585  0.433513"
      ]
     },
     "execution_count": 443,
     "metadata": {},
     "output_type": "execute_result"
    }
   ],
   "source": [
    "svr_data = {'Model': ['SVR'], \n",
    "           'MAE': metrics.mean_absolute_error(y_test, svr_pred),'MSE':metrics.mean_squared_error(y_test, svr_pred),\n",
    "           'RMSE':np.sqrt(metrics.mean_squared_error(y_test, svr_pred)),\n",
    "           'R2 Score': r2_final_score,\n",
    "           'CV Score': svr_cvScore}  \n",
    "\n",
    "df_SVR = pd.DataFrame(svr_data)  \n",
    "df_SVR"
   ]
  },
  {
   "cell_type": "markdown",
   "id": "866ac4fd",
   "metadata": {},
   "source": [
    "# Random Forest Regressor"
   ]
  },
  {
   "cell_type": "code",
   "execution_count": 444,
   "id": "c9d1ec6c",
   "metadata": {},
   "outputs": [],
   "source": [
    "from sklearn.model_selection import GridSearchCV\n",
    "from sklearn.ensemble import RandomForestRegressor\n",
    "rfr=RandomForestRegressor(criterion=\"mae\",max_features=\"auto\",n_estimators=10,min_samples_split=5,min_samples_leaf=2)"
   ]
  },
  {
   "cell_type": "code",
   "execution_count": 445,
   "id": "3382d9da",
   "metadata": {},
   "outputs": [
    {
     "name": "stdout",
     "output_type": "stream",
     "text": [
      "******************************\n",
      "At 45 r2_score is:  0.5499111866641002\n",
      "******************************\n",
      "At 46 r2_score is:  0.6023648376916753\n",
      "******************************\n",
      "At 47 r2_score is:  0.5775501516710168\n",
      "******************************\n",
      "At 48 r2_score is:  0.49402689267667\n",
      "******************************\n",
      "At 49 r2_score is:  0.5015287285829733\n",
      "******************************\n",
      "At 50 r2_score is:  0.48274036601140036\n",
      "******************************\n",
      "At 51 r2_score is:  0.3900334940249677\n",
      "******************************\n",
      "At 52 r2_score is:  0.5598690967649051\n",
      "******************************\n",
      "At 53 r2_score is:  0.5549050133810033\n",
      "******************************\n",
      "At 54 r2_score is:  0.5187759993630598\n",
      "******************************\n",
      "At 55 r2_score is:  0.585752927779606\n",
      "******************************\n",
      "At 56 r2_score is:  0.5477087359613191\n",
      "******************************\n",
      "At 57 r2_score is:  0.4753046917971159\n",
      "******************************\n",
      "At 58 r2_score is:  0.5434825838809305\n",
      "******************************\n",
      "At 59 r2_score is:  0.5793716459949977\n",
      "******************************\n",
      "At 60 r2_score is:  0.44113825352666136\n",
      "******************************\n",
      "At 61 r2_score is:  0.5426687946003022\n",
      "******************************\n",
      "At 62 r2_score is:  0.4644495057079817\n",
      "******************************\n",
      "At 63 r2_score is:  0.5187175455034065\n",
      "******************************\n",
      "At 64 r2_score is:  0.5143471356584406\n",
      "******************************\n",
      "At 65 r2_score is:  0.5794453301628675\n",
      "******************************\n",
      "At 66 r2_score is:  0.5670041295476735\n",
      "******************************\n",
      "At 67 r2_score is:  0.6142079519113157\n",
      "******************************\n",
      "At 68 r2_score is:  0.6088363144086694\n",
      "******************************\n",
      "At 69 r2_score is:  0.5644097577017622\n",
      "******************************\n",
      "At 70 r2_score is:  0.5395280506379938\n",
      "******************************\n",
      "At 71 r2_score is:  0.6275712034782659\n",
      "******************************\n",
      "At 72 r2_score is:  0.43923993758989754\n",
      "******************************\n",
      "At 73 r2_score is:  0.5754750359130647\n",
      "******************************\n",
      "At 74 r2_score is:  0.5234213063652413\n",
      "******************************\n",
      "At 75 r2_score is:  0.47253033260203803\n",
      "******************************\n",
      "At 76 r2_score is:  0.5261262981468464\n",
      "******************************\n",
      "At 77 r2_score is:  0.5322835764211101\n",
      "******************************\n",
      "At 78 r2_score is:  0.5997323354832214\n",
      "******************************\n",
      "At 79 r2_score is:  0.5239695517039096\n",
      "******************************\n",
      "At 80 r2_score is:  0.5984072357345787\n",
      "******************************\n",
      "At 81 r2_score is:  0.4794438786522316\n",
      "******************************\n",
      "At 82 r2_score is:  0.5263543045264434\n",
      "******************************\n",
      "At 83 r2_score is:  0.5601740920271848\n",
      "******************************\n",
      "At 84 r2_score is:  0.428409537871133\n",
      "******************************\n",
      "At 85 r2_score is:  0.5399069604621517\n",
      "******************************\n",
      "At 86 r2_score is:  0.4236693242723484\n",
      "******************************\n",
      "At 87 r2_score is:  0.6462371665043476\n",
      "******************************\n",
      "At 88 r2_score is:  0.49368111007368776\n",
      "******************************\n",
      "At 89 r2_score is:  0.5809911617222459\n",
      "******************************\n",
      "At 90 r2_score is:  0.5263807949166062\n",
      "******************************\n",
      "At 91 r2_score is:  0.49895542183407593\n",
      "******************************\n",
      "At 92 r2_score is:  0.5849443052672394\n",
      "******************************\n",
      "At 93 r2_score is:  0.3585764423407579\n",
      "******************************\n",
      "At 94 r2_score is:  0.5213595466703285\n",
      "******************************\n",
      "Best r2_score at  87  is :  0.6462371665043476\n"
     ]
    }
   ],
   "source": [
    "max_r2_score=0\n",
    "for i in range(45,95):\n",
    "    x_train, x_test, y_train, y_test = train_test_split(features,target,test_size=0.20,random_state = i)\n",
    "    rfr.fit(x_train,y_train)\n",
    "    rfr_pred_train=rfr.predict(x_train)\n",
    "    rfr_pred=rfr.predict(x_test)\n",
    "    r2=r2_score(y_test,rfr_pred)\n",
    "    print(\"*\"*30)\n",
    "    print(\"At\",i,\"r2_score is: \",r2)\n",
    "    if r2>max_r2_score:\n",
    "        max_r2_score=r2\n",
    "        final_i=i\n",
    "print(\"*\"*30)\n",
    "print(\"Best r2_score at \",final_i,\" is : \",max_r2_score)"
   ]
  },
  {
   "cell_type": "code",
   "execution_count": 446,
   "id": "6a44bacf",
   "metadata": {},
   "outputs": [
    {
     "data": {
      "text/plain": [
       "0.6333955458670996"
      ]
     },
     "execution_count": 446,
     "metadata": {},
     "output_type": "execute_result"
    }
   ],
   "source": [
    "x_train, x_test, y_train, y_test = train_test_split(features,target,test_size=0.20,random_state = 87)\n",
    "rfr=RandomForestRegressor(criterion=\"mae\",max_features=\"auto\",n_estimators=10,min_samples_split=5,min_samples_leaf=2)\n",
    "rfr.fit(x_train,y_train)\n",
    "rfr_pred = rfr.predict(x_test)\n",
    "rfr_pred_train = rfr.predict(x_train)\n",
    "r2_final_score=r2_score(y_test,rfr_pred)\n",
    "r2_final_score"
   ]
  },
  {
   "cell_type": "code",
   "execution_count": 458,
   "id": "a8379cb5",
   "metadata": {},
   "outputs": [
    {
     "data": {
      "text/plain": [
       "0.5174628668515532"
      ]
     },
     "execution_count": 458,
     "metadata": {},
     "output_type": "execute_result"
    }
   ],
   "source": [
    "rfr_cvScore=cross_val_score(rfr,features,target,cv=8).mean()\n",
    "rfr_cvScore"
   ]
  },
  {
   "cell_type": "code",
   "execution_count": 459,
   "id": "4525ff35",
   "metadata": {},
   "outputs": [
    {
     "name": "stdout",
     "output_type": "stream",
     "text": [
      "r2_score 0.6333955458670996\n",
      "mean_absolute_error : 0.939943550824677\n",
      "mean_squared_error :  1.3607963842187114\n",
      "root_mean_squared_error :  1.1665317759147031\n",
      "Cross Validation Score :  0.5174628668515532\n"
     ]
    }
   ],
   "source": [
    "#Test Data\n",
    "print(\"r2_score\",r2_final_score)\n",
    "print (\"mean_absolute_error :\",metrics.mean_absolute_error(y_test, rfr_pred))\n",
    "print (\"mean_squared_error : \",metrics.mean_squared_error(y_test, rfr_pred))\n",
    "print (\"root_mean_squared_error : \",np.sqrt(metrics.mean_squared_error(y_test, rfr_pred)))\n",
    "print(\"Cross Validation Score : \",rfr_cvScore)"
   ]
  },
  {
   "cell_type": "code",
   "execution_count": 460,
   "id": "e4bd442b",
   "metadata": {},
   "outputs": [
    {
     "name": "stdout",
     "output_type": "stream",
     "text": [
      "r2_score 0.6333955458670996\n",
      "mean_absolute_error : 0.6623017302652395\n",
      "mean_squared_error :  0.7951660796463578\n",
      "root_mean_squared_error :  0.8917208529839132\n",
      "Cross Validation Score :  0.5174628668515532\n"
     ]
    }
   ],
   "source": [
    "# Train Data\n",
    "print(\"r2_score\",r2_final_score)\n",
    "print (\"mean_absolute_error :\",metrics.mean_absolute_error(y_train, rfr_pred_train))\n",
    "print (\"mean_squared_error : \",metrics.mean_squared_error(y_train, rfr_pred_train))\n",
    "print (\"root_mean_squared_error : \",np.sqrt(metrics.mean_squared_error(y_train, rfr_pred_train)))\n",
    "print (\"Cross Validation Score : \", rfr_cvScore)"
   ]
  },
  {
   "cell_type": "code",
   "execution_count": 461,
   "id": "4f8a6f88",
   "metadata": {},
   "outputs": [
    {
     "data": {
      "text/html": [
       "<div>\n",
       "<style scoped>\n",
       "    .dataframe tbody tr th:only-of-type {\n",
       "        vertical-align: middle;\n",
       "    }\n",
       "\n",
       "    .dataframe tbody tr th {\n",
       "        vertical-align: top;\n",
       "    }\n",
       "\n",
       "    .dataframe thead th {\n",
       "        text-align: right;\n",
       "    }\n",
       "</style>\n",
       "<table border=\"1\" class=\"dataframe\">\n",
       "  <thead>\n",
       "    <tr style=\"text-align: right;\">\n",
       "      <th></th>\n",
       "      <th>Model</th>\n",
       "      <th>MAE</th>\n",
       "      <th>MSE</th>\n",
       "      <th>RMSE</th>\n",
       "      <th>R2 Score</th>\n",
       "      <th>CV Score</th>\n",
       "    </tr>\n",
       "  </thead>\n",
       "  <tbody>\n",
       "    <tr>\n",
       "      <th>0</th>\n",
       "      <td>Random Forest</td>\n",
       "      <td>0.939944</td>\n",
       "      <td>1.360796</td>\n",
       "      <td>1.166532</td>\n",
       "      <td>0.633396</td>\n",
       "      <td>0.517463</td>\n",
       "    </tr>\n",
       "  </tbody>\n",
       "</table>\n",
       "</div>"
      ],
      "text/plain": [
       "           Model       MAE       MSE      RMSE  R2 Score  CV Score\n",
       "0  Random Forest  0.939944  1.360796  1.166532  0.633396  0.517463"
      ]
     },
     "execution_count": 461,
     "metadata": {},
     "output_type": "execute_result"
    }
   ],
   "source": [
    "randomForest_data = {'Model': ['Random Forest'], \n",
    "           'MAE': metrics.mean_absolute_error(y_test, rfr_pred),'MSE':metrics.mean_squared_error(y_test, rfr_pred),\n",
    "           'RMSE':np.sqrt(metrics.mean_squared_error(y_test, rfr_pred)),\n",
    "           'R2 Score': r2_score(y_test,rfr_pred),\n",
    "           'CV Score': rfr_cvScore\n",
    "            }  \n",
    "\n",
    "df_RF = pd.DataFrame(randomForest_data)  \n",
    "df_RF"
   ]
  },
  {
   "cell_type": "code",
   "execution_count": 462,
   "id": "210d72c5",
   "metadata": {},
   "outputs": [
    {
     "data": {
      "text/html": [
       "<div>\n",
       "<style scoped>\n",
       "    .dataframe tbody tr th:only-of-type {\n",
       "        vertical-align: middle;\n",
       "    }\n",
       "\n",
       "    .dataframe tbody tr th {\n",
       "        vertical-align: top;\n",
       "    }\n",
       "\n",
       "    .dataframe thead th {\n",
       "        text-align: right;\n",
       "    }\n",
       "</style>\n",
       "<table border=\"1\" class=\"dataframe\">\n",
       "  <thead>\n",
       "    <tr style=\"text-align: right;\">\n",
       "      <th></th>\n",
       "      <th>Model</th>\n",
       "      <th>MAE</th>\n",
       "      <th>MSE</th>\n",
       "      <th>RMSE</th>\n",
       "      <th>R2 Score</th>\n",
       "      <th>CV Score</th>\n",
       "    </tr>\n",
       "  </thead>\n",
       "  <tbody>\n",
       "    <tr>\n",
       "      <th>0</th>\n",
       "      <td>Linear Regression</td>\n",
       "      <td>1.123535</td>\n",
       "      <td>1.871269</td>\n",
       "      <td>1.367943</td>\n",
       "      <td>0.464300</td>\n",
       "      <td>0.361963</td>\n",
       "    </tr>\n",
       "    <tr>\n",
       "      <th>1</th>\n",
       "      <td>Ridge</td>\n",
       "      <td>1.141359</td>\n",
       "      <td>1.899458</td>\n",
       "      <td>1.378208</td>\n",
       "      <td>0.456231</td>\n",
       "      <td>0.361601</td>\n",
       "    </tr>\n",
       "    <tr>\n",
       "      <th>2</th>\n",
       "      <td>KNN</td>\n",
       "      <td>1.054839</td>\n",
       "      <td>1.841575</td>\n",
       "      <td>1.357047</td>\n",
       "      <td>0.532233</td>\n",
       "      <td>0.490475</td>\n",
       "    </tr>\n",
       "    <tr>\n",
       "      <th>3</th>\n",
       "      <td>Decision Tree Regressor</td>\n",
       "      <td>1.021070</td>\n",
       "      <td>1.795808</td>\n",
       "      <td>1.340077</td>\n",
       "      <td>0.516202</td>\n",
       "      <td>0.490475</td>\n",
       "    </tr>\n",
       "    <tr>\n",
       "      <th>4</th>\n",
       "      <td>SVR</td>\n",
       "      <td>1.235608</td>\n",
       "      <td>2.119714</td>\n",
       "      <td>1.455924</td>\n",
       "      <td>0.461585</td>\n",
       "      <td>0.433513</td>\n",
       "    </tr>\n",
       "    <tr>\n",
       "      <th>5</th>\n",
       "      <td>Random Forest</td>\n",
       "      <td>0.939944</td>\n",
       "      <td>1.360796</td>\n",
       "      <td>1.166532</td>\n",
       "      <td>0.633396</td>\n",
       "      <td>0.517463</td>\n",
       "    </tr>\n",
       "  </tbody>\n",
       "</table>\n",
       "</div>"
      ],
      "text/plain": [
       "                     Model       MAE       MSE      RMSE  R2 Score  CV Score\n",
       "0        Linear Regression  1.123535  1.871269  1.367943  0.464300  0.361963\n",
       "1                    Ridge  1.141359  1.899458  1.378208  0.456231  0.361601\n",
       "2                      KNN  1.054839  1.841575  1.357047  0.532233  0.490475\n",
       "3  Decision Tree Regressor  1.021070  1.795808  1.340077  0.516202  0.490475\n",
       "4                      SVR  1.235608  2.119714  1.455924  0.461585  0.433513\n",
       "5            Random Forest  0.939944  1.360796  1.166532  0.633396  0.517463"
      ]
     },
     "execution_count": 462,
     "metadata": {},
     "output_type": "execute_result"
    }
   ],
   "source": [
    "modelDF=pd.concat([df_LR,df_Ridge,df_knn,df_DT,df_SVR,df_RF]).reset_index()\n",
    "modelDF.drop(columns=['index'],axis=1,inplace=True)\n",
    "modelDF"
   ]
  },
  {
   "cell_type": "markdown",
   "id": "20a18dae",
   "metadata": {},
   "source": [
    "The difference between R2 Score and CV Score is least for Decision Tree Regressor , Hence we will select this model to predict the capacity_mw (electrical generating capacity in megawatts). Also we see there are many missing data in most of the columns."
   ]
  },
  {
   "cell_type": "markdown",
   "id": "5aeaf1f5",
   "metadata": {},
   "source": [
    "# Save the Model"
   ]
  },
  {
   "cell_type": "code",
   "execution_count": 463,
   "id": "eb36b252",
   "metadata": {},
   "outputs": [],
   "source": [
    "from joblib import dump , load\n",
    "dump(dr,'PredictCapacity_mw.joblib')\n",
    "tree_load=load('PredictCapacity_mw.joblib')"
   ]
  },
  {
   "cell_type": "code",
   "execution_count": 464,
   "id": "48186e2e",
   "metadata": {},
   "outputs": [],
   "source": [
    "from tempfile import mkdtemp\n",
    "savedir = mkdtemp()\n",
    "import os\n",
    "filename = os.path.join(savedir, 'PredictCapacity_mw.joblib')"
   ]
  },
  {
   "cell_type": "code",
   "execution_count": 465,
   "id": "751074fc",
   "metadata": {},
   "outputs": [
    {
     "data": {
      "text/plain": [
       "['C:\\\\Users\\\\mum1user\\\\AppData\\\\Local\\\\Temp\\\\tmp3x7ia90w\\\\PredictCapacity_mw.joblib']"
      ]
     },
     "execution_count": 465,
     "metadata": {},
     "output_type": "execute_result"
    }
   ],
   "source": [
    "import joblib\n",
    "joblib.dump(dr, filename) \n",
    "#['...PredictCapacity_mw.joblib']"
   ]
  },
  {
   "cell_type": "code",
   "execution_count": 466,
   "id": "877b4162",
   "metadata": {},
   "outputs": [
    {
     "data": {
      "text/plain": [
       "DecisionTreeRegressor(criterion='mae', max_features='auto',\n",
       "                      min_samples_split=10)"
      ]
     },
     "execution_count": 466,
     "metadata": {},
     "output_type": "execute_result"
    }
   ],
   "source": [
    "joblib.load(filename)"
   ]
  }
 ],
 "metadata": {
  "kernelspec": {
   "display_name": "Python 3",
   "language": "python",
   "name": "python3"
  },
  "language_info": {
   "codemirror_mode": {
    "name": "ipython",
    "version": 3
   },
   "file_extension": ".py",
   "mimetype": "text/x-python",
   "name": "python",
   "nbconvert_exporter": "python",
   "pygments_lexer": "ipython3",
   "version": "3.8.8"
  }
 },
 "nbformat": 4,
 "nbformat_minor": 5
}
