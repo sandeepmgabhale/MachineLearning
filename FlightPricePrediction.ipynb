{
 "cells": [
  {
   "cell_type": "markdown",
   "id": "06254804",
   "metadata": {},
   "source": [
    "# Flight Price Prediction\n",
    "\n",
    "<strong>Problem Statement:</strong>\n",
    "    \n",
    "Flight ticket prices can be something hard to guess, today we might see a price, check out the price of the same flight tomorrow, it will be a different story. We might have often heard travellers saying that flight ticket prices are so unpredictable. Here you will be provided with prices of flight tickets for various airlines between the months of March and June of 2019 and between various cities.\n",
    "\n",
    "Size of training set: 10683 records\n",
    "\n",
    "Size of test set: 2671 records\n",
    "\n",
    "You have to use your skills as a data scientist and build a machine learning model to predict the price of the flight ticket"
   ]
  },
  {
   "cell_type": "code",
   "execution_count": 1130,
   "id": "2b3c36f6",
   "metadata": {},
   "outputs": [],
   "source": [
    "import pandas as pd\n",
    "import numpy as np\n",
    "import re\n",
    "import matplotlib.pyplot as plt\n",
    "import seaborn as sns\n",
    "import sklearn\n",
    "from sklearn.linear_model import LogisticRegression\n",
    "from sklearn.metrics import mean_squared_error\n",
    "from sklearn.model_selection import train_test_split\n",
    "from sklearn.naive_bayes import GaussianNB\n",
    "from sklearn.svm import SVC\n",
    "from sklearn.tree import DecisionTreeClassifier\n",
    "from sklearn.neighbors import KNeighborsClassifier\n",
    "from sklearn.metrics import accuracy_score,confusion_matrix,classification_report\n",
    "import warnings\n",
    "warnings.filterwarnings('ignore')\n",
    "pd.set_option('display.max_columns', None) # Required to display all columns"
   ]
  },
  {
   "cell_type": "code",
   "execution_count": 1131,
   "id": "f6bad392",
   "metadata": {},
   "outputs": [
    {
     "data": {
      "text/html": [
       "<div>\n",
       "<style scoped>\n",
       "    .dataframe tbody tr th:only-of-type {\n",
       "        vertical-align: middle;\n",
       "    }\n",
       "\n",
       "    .dataframe tbody tr th {\n",
       "        vertical-align: top;\n",
       "    }\n",
       "\n",
       "    .dataframe thead th {\n",
       "        text-align: right;\n",
       "    }\n",
       "</style>\n",
       "<table border=\"1\" class=\"dataframe\">\n",
       "  <thead>\n",
       "    <tr style=\"text-align: right;\">\n",
       "      <th></th>\n",
       "      <th>Airline</th>\n",
       "      <th>Date_of_Journey</th>\n",
       "      <th>Source</th>\n",
       "      <th>Destination</th>\n",
       "      <th>Route</th>\n",
       "      <th>Dep_Time</th>\n",
       "      <th>Arrival_Time</th>\n",
       "      <th>Duration</th>\n",
       "      <th>Total_Stops</th>\n",
       "      <th>Additional_Info</th>\n",
       "      <th>Price</th>\n",
       "    </tr>\n",
       "  </thead>\n",
       "  <tbody>\n",
       "    <tr>\n",
       "      <th>0</th>\n",
       "      <td>IndiGo</td>\n",
       "      <td>24/03/2019</td>\n",
       "      <td>Banglore</td>\n",
       "      <td>New Delhi</td>\n",
       "      <td>BLR → DEL</td>\n",
       "      <td>22:20</td>\n",
       "      <td>01:10 22 Mar</td>\n",
       "      <td>2h 50m</td>\n",
       "      <td>non-stop</td>\n",
       "      <td>No info</td>\n",
       "      <td>3897</td>\n",
       "    </tr>\n",
       "    <tr>\n",
       "      <th>1</th>\n",
       "      <td>Air India</td>\n",
       "      <td>1/05/2019</td>\n",
       "      <td>Kolkata</td>\n",
       "      <td>Banglore</td>\n",
       "      <td>CCU → IXR → BBI → BLR</td>\n",
       "      <td>05:50</td>\n",
       "      <td>13:15</td>\n",
       "      <td>7h 25m</td>\n",
       "      <td>2 stops</td>\n",
       "      <td>No info</td>\n",
       "      <td>7662</td>\n",
       "    </tr>\n",
       "    <tr>\n",
       "      <th>2</th>\n",
       "      <td>Jet Airways</td>\n",
       "      <td>9/06/2019</td>\n",
       "      <td>Delhi</td>\n",
       "      <td>Cochin</td>\n",
       "      <td>DEL → LKO → BOM → COK</td>\n",
       "      <td>09:25</td>\n",
       "      <td>04:25 10 Jun</td>\n",
       "      <td>19h</td>\n",
       "      <td>2 stops</td>\n",
       "      <td>No info</td>\n",
       "      <td>13882</td>\n",
       "    </tr>\n",
       "    <tr>\n",
       "      <th>3</th>\n",
       "      <td>IndiGo</td>\n",
       "      <td>12/05/2019</td>\n",
       "      <td>Kolkata</td>\n",
       "      <td>Banglore</td>\n",
       "      <td>CCU → NAG → BLR</td>\n",
       "      <td>18:05</td>\n",
       "      <td>23:30</td>\n",
       "      <td>5h 25m</td>\n",
       "      <td>1 stop</td>\n",
       "      <td>No info</td>\n",
       "      <td>6218</td>\n",
       "    </tr>\n",
       "    <tr>\n",
       "      <th>4</th>\n",
       "      <td>IndiGo</td>\n",
       "      <td>01/03/2019</td>\n",
       "      <td>Banglore</td>\n",
       "      <td>New Delhi</td>\n",
       "      <td>BLR → NAG → DEL</td>\n",
       "      <td>16:50</td>\n",
       "      <td>21:35</td>\n",
       "      <td>4h 45m</td>\n",
       "      <td>1 stop</td>\n",
       "      <td>No info</td>\n",
       "      <td>13302</td>\n",
       "    </tr>\n",
       "  </tbody>\n",
       "</table>\n",
       "</div>"
      ],
      "text/plain": [
       "       Airline Date_of_Journey    Source Destination                  Route  \\\n",
       "0       IndiGo      24/03/2019  Banglore   New Delhi              BLR → DEL   \n",
       "1    Air India       1/05/2019   Kolkata    Banglore  CCU → IXR → BBI → BLR   \n",
       "2  Jet Airways       9/06/2019     Delhi      Cochin  DEL → LKO → BOM → COK   \n",
       "3       IndiGo      12/05/2019   Kolkata    Banglore        CCU → NAG → BLR   \n",
       "4       IndiGo      01/03/2019  Banglore   New Delhi        BLR → NAG → DEL   \n",
       "\n",
       "  Dep_Time  Arrival_Time Duration Total_Stops Additional_Info  Price  \n",
       "0    22:20  01:10 22 Mar   2h 50m    non-stop         No info   3897  \n",
       "1    05:50         13:15   7h 25m     2 stops         No info   7662  \n",
       "2    09:25  04:25 10 Jun      19h     2 stops         No info  13882  \n",
       "3    18:05         23:30   5h 25m      1 stop         No info   6218  \n",
       "4    16:50         21:35   4h 45m      1 stop         No info  13302  "
      ]
     },
     "execution_count": 1131,
     "metadata": {},
     "output_type": "execute_result"
    }
   ],
   "source": [
    "#Import the Train DataSet\n",
    "\n",
    "df=pd.read_excel(r\"C:\\Users\\mum1user\\Downloads\\FlightDataset\\Data_Train.xlsx\")\n",
    "df.head()"
   ]
  },
  {
   "cell_type": "code",
   "execution_count": 1132,
   "id": "f2f2df5a",
   "metadata": {},
   "outputs": [
    {
     "data": {
      "text/plain": [
       "(10683, 11)"
      ]
     },
     "execution_count": 1132,
     "metadata": {},
     "output_type": "execute_result"
    }
   ],
   "source": [
    "df.shape"
   ]
  },
  {
   "cell_type": "markdown",
   "id": "d5604639",
   "metadata": {},
   "source": [
    "# Data Description\n",
    "   \n",
    "- Airline: The name of the airline.\n",
    "\n",
    "- Date_of_Journey: The date of the journey\n",
    "\n",
    "- Source: The source from which the service begins.\n",
    "\n",
    "- Destination: The destination where the service ends.\n",
    "\n",
    "- Route: The route taken by the flight to reach the destination.\n",
    "\n",
    "- Dep_Time: The time when the journey starts from the source.\n",
    "\n",
    "- Arrival_Time: Time of arrival at the destination.\n",
    "\n",
    "- Duration: Total duration of the flight.\n",
    "\n",
    "- Total_Stops: Total stops between the source and destination.\n",
    "\n",
    "- Additional_Info: Additional information about the flight\n",
    "\n",
    "- Price: The price of the ticket"
   ]
  },
  {
   "cell_type": "code",
   "execution_count": 1133,
   "id": "e7218bd7",
   "metadata": {},
   "outputs": [
    {
     "data": {
      "text/plain": [
       "Airline            0\n",
       "Date_of_Journey    0\n",
       "Source             0\n",
       "Destination        0\n",
       "Route              1\n",
       "Dep_Time           0\n",
       "Arrival_Time       0\n",
       "Duration           0\n",
       "Total_Stops        1\n",
       "Additional_Info    0\n",
       "Price              0\n",
       "dtype: int64"
      ]
     },
     "execution_count": 1133,
     "metadata": {},
     "output_type": "execute_result"
    }
   ],
   "source": [
    "df.isnull().sum()"
   ]
  },
  {
   "cell_type": "markdown",
   "id": "4e03e66e",
   "metadata": {},
   "source": [
    "We see that one record in Route and Total_Stops is missing.Lets find out one dataset where route and Total Stope is null"
   ]
  },
  {
   "cell_type": "code",
   "execution_count": 1134,
   "id": "3d1bafee",
   "metadata": {},
   "outputs": [
    {
     "data": {
      "text/html": [
       "<div>\n",
       "<style scoped>\n",
       "    .dataframe tbody tr th:only-of-type {\n",
       "        vertical-align: middle;\n",
       "    }\n",
       "\n",
       "    .dataframe tbody tr th {\n",
       "        vertical-align: top;\n",
       "    }\n",
       "\n",
       "    .dataframe thead th {\n",
       "        text-align: right;\n",
       "    }\n",
       "</style>\n",
       "<table border=\"1\" class=\"dataframe\">\n",
       "  <thead>\n",
       "    <tr style=\"text-align: right;\">\n",
       "      <th></th>\n",
       "      <th>Airline</th>\n",
       "      <th>Date_of_Journey</th>\n",
       "      <th>Source</th>\n",
       "      <th>Destination</th>\n",
       "      <th>Route</th>\n",
       "      <th>Dep_Time</th>\n",
       "      <th>Arrival_Time</th>\n",
       "      <th>Duration</th>\n",
       "      <th>Total_Stops</th>\n",
       "      <th>Additional_Info</th>\n",
       "      <th>Price</th>\n",
       "    </tr>\n",
       "  </thead>\n",
       "  <tbody>\n",
       "    <tr>\n",
       "      <th>9039</th>\n",
       "      <td>Air India</td>\n",
       "      <td>6/05/2019</td>\n",
       "      <td>Delhi</td>\n",
       "      <td>Cochin</td>\n",
       "      <td>NaN</td>\n",
       "      <td>09:45</td>\n",
       "      <td>09:25 07 May</td>\n",
       "      <td>23h 40m</td>\n",
       "      <td>NaN</td>\n",
       "      <td>No info</td>\n",
       "      <td>7480</td>\n",
       "    </tr>\n",
       "  </tbody>\n",
       "</table>\n",
       "</div>"
      ],
      "text/plain": [
       "        Airline Date_of_Journey Source Destination Route Dep_Time  \\\n",
       "9039  Air India       6/05/2019  Delhi      Cochin   NaN    09:45   \n",
       "\n",
       "      Arrival_Time Duration Total_Stops Additional_Info  Price  \n",
       "9039  09:25 07 May  23h 40m         NaN         No info   7480  "
      ]
     },
     "execution_count": 1134,
     "metadata": {},
     "output_type": "execute_result"
    }
   ],
   "source": [
    "missing_Route=df[df['Route'].isnull()]\n",
    "missing_Route"
   ]
  },
  {
   "cell_type": "code",
   "execution_count": 1135,
   "id": "faee6473",
   "metadata": {},
   "outputs": [
    {
     "data": {
      "text/plain": [
       "(10683, 11)"
      ]
     },
     "execution_count": 1135,
     "metadata": {},
     "output_type": "execute_result"
    }
   ],
   "source": [
    "df.shape"
   ]
  },
  {
   "cell_type": "code",
   "execution_count": 1136,
   "id": "63d321ad",
   "metadata": {},
   "outputs": [
    {
     "data": {
      "text/plain": [
       "(10682, 11)"
      ]
     },
     "execution_count": 1136,
     "metadata": {},
     "output_type": "execute_result"
    }
   ],
   "source": [
    "#We will drop this one record as we dont have information about Route and Total Stops\n",
    "df.dropna(inplace = True)\n",
    "df.shape"
   ]
  },
  {
   "cell_type": "code",
   "execution_count": 1137,
   "id": "8f462128",
   "metadata": {},
   "outputs": [
    {
     "data": {
      "text/plain": [
       "Airline            0\n",
       "Date_of_Journey    0\n",
       "Source             0\n",
       "Destination        0\n",
       "Route              0\n",
       "Dep_Time           0\n",
       "Arrival_Time       0\n",
       "Duration           0\n",
       "Total_Stops        0\n",
       "Additional_Info    0\n",
       "Price              0\n",
       "dtype: int64"
      ]
     },
     "execution_count": 1137,
     "metadata": {},
     "output_type": "execute_result"
    }
   ],
   "source": [
    "df.isnull().sum()"
   ]
  },
  {
   "cell_type": "markdown",
   "id": "43183f8a",
   "metadata": {},
   "source": [
    "Now we have no missing data, now lets check for Duplicates in our dataset\n",
    "\n",
    "# Check Duplicates"
   ]
  },
  {
   "cell_type": "code",
   "execution_count": 1138,
   "id": "dc146af1",
   "metadata": {},
   "outputs": [
    {
     "name": "stdout",
     "output_type": "stream",
     "text": [
      "Duplicate Rows :\n"
     ]
    },
    {
     "data": {
      "text/html": [
       "<div>\n",
       "<style scoped>\n",
       "    .dataframe tbody tr th:only-of-type {\n",
       "        vertical-align: middle;\n",
       "    }\n",
       "\n",
       "    .dataframe tbody tr th {\n",
       "        vertical-align: top;\n",
       "    }\n",
       "\n",
       "    .dataframe thead th {\n",
       "        text-align: right;\n",
       "    }\n",
       "</style>\n",
       "<table border=\"1\" class=\"dataframe\">\n",
       "  <thead>\n",
       "    <tr style=\"text-align: right;\">\n",
       "      <th></th>\n",
       "      <th>Airline</th>\n",
       "      <th>Date_of_Journey</th>\n",
       "      <th>Source</th>\n",
       "      <th>Destination</th>\n",
       "      <th>Route</th>\n",
       "      <th>Dep_Time</th>\n",
       "      <th>Arrival_Time</th>\n",
       "      <th>Duration</th>\n",
       "      <th>Total_Stops</th>\n",
       "      <th>Additional_Info</th>\n",
       "      <th>Price</th>\n",
       "    </tr>\n",
       "  </thead>\n",
       "  <tbody>\n",
       "    <tr>\n",
       "      <th>33</th>\n",
       "      <td>Jet Airways</td>\n",
       "      <td>15/06/2019</td>\n",
       "      <td>Delhi</td>\n",
       "      <td>Cochin</td>\n",
       "      <td>DEL → NAG → BOM → COK</td>\n",
       "      <td>14:35</td>\n",
       "      <td>12:35 16 Jun</td>\n",
       "      <td>22h</td>\n",
       "      <td>2 stops</td>\n",
       "      <td>In-flight meal not included</td>\n",
       "      <td>10919</td>\n",
       "    </tr>\n",
       "    <tr>\n",
       "      <th>49</th>\n",
       "      <td>Jet Airways</td>\n",
       "      <td>27/06/2019</td>\n",
       "      <td>Delhi</td>\n",
       "      <td>Cochin</td>\n",
       "      <td>DEL → AMD → BOM → COK</td>\n",
       "      <td>23:05</td>\n",
       "      <td>19:00 28 Jun</td>\n",
       "      <td>19h 55m</td>\n",
       "      <td>2 stops</td>\n",
       "      <td>In-flight meal not included</td>\n",
       "      <td>11150</td>\n",
       "    </tr>\n",
       "    <tr>\n",
       "      <th>73</th>\n",
       "      <td>Jet Airways</td>\n",
       "      <td>24/06/2019</td>\n",
       "      <td>Delhi</td>\n",
       "      <td>Cochin</td>\n",
       "      <td>DEL → AMD → BOM → COK</td>\n",
       "      <td>23:05</td>\n",
       "      <td>12:35 25 Jun</td>\n",
       "      <td>13h 30m</td>\n",
       "      <td>2 stops</td>\n",
       "      <td>No info</td>\n",
       "      <td>12819</td>\n",
       "    </tr>\n",
       "    <tr>\n",
       "      <th>81</th>\n",
       "      <td>Jet Airways</td>\n",
       "      <td>24/03/2019</td>\n",
       "      <td>Banglore</td>\n",
       "      <td>New Delhi</td>\n",
       "      <td>BLR → DEL</td>\n",
       "      <td>19:55</td>\n",
       "      <td>22:35</td>\n",
       "      <td>2h 40m</td>\n",
       "      <td>non-stop</td>\n",
       "      <td>No info</td>\n",
       "      <td>7229</td>\n",
       "    </tr>\n",
       "    <tr>\n",
       "      <th>87</th>\n",
       "      <td>Jet Airways</td>\n",
       "      <td>6/06/2019</td>\n",
       "      <td>Delhi</td>\n",
       "      <td>Cochin</td>\n",
       "      <td>DEL → JAI → BOM → COK</td>\n",
       "      <td>09:40</td>\n",
       "      <td>04:25 07 Jun</td>\n",
       "      <td>18h 45m</td>\n",
       "      <td>2 stops</td>\n",
       "      <td>No info</td>\n",
       "      <td>13014</td>\n",
       "    </tr>\n",
       "    <tr>\n",
       "      <th>...</th>\n",
       "      <td>...</td>\n",
       "      <td>...</td>\n",
       "      <td>...</td>\n",
       "      <td>...</td>\n",
       "      <td>...</td>\n",
       "      <td>...</td>\n",
       "      <td>...</td>\n",
       "      <td>...</td>\n",
       "      <td>...</td>\n",
       "      <td>...</td>\n",
       "      <td>...</td>\n",
       "    </tr>\n",
       "    <tr>\n",
       "      <th>9408</th>\n",
       "      <td>Jet Airways</td>\n",
       "      <td>24/06/2019</td>\n",
       "      <td>Delhi</td>\n",
       "      <td>Cochin</td>\n",
       "      <td>DEL → NAG → BOM → COK</td>\n",
       "      <td>14:35</td>\n",
       "      <td>04:25 25 Jun</td>\n",
       "      <td>13h 50m</td>\n",
       "      <td>2 stops</td>\n",
       "      <td>No info</td>\n",
       "      <td>13376</td>\n",
       "    </tr>\n",
       "    <tr>\n",
       "      <th>9678</th>\n",
       "      <td>Jet Airways</td>\n",
       "      <td>15/06/2019</td>\n",
       "      <td>Delhi</td>\n",
       "      <td>Cochin</td>\n",
       "      <td>DEL → NAG → BOM → COK</td>\n",
       "      <td>14:35</td>\n",
       "      <td>12:35 16 Jun</td>\n",
       "      <td>22h</td>\n",
       "      <td>2 stops</td>\n",
       "      <td>No info</td>\n",
       "      <td>13376</td>\n",
       "    </tr>\n",
       "    <tr>\n",
       "      <th>9759</th>\n",
       "      <td>Jet Airways</td>\n",
       "      <td>27/06/2019</td>\n",
       "      <td>Delhi</td>\n",
       "      <td>Cochin</td>\n",
       "      <td>DEL → AMD → BOM → COK</td>\n",
       "      <td>23:05</td>\n",
       "      <td>12:35 28 Jun</td>\n",
       "      <td>13h 30m</td>\n",
       "      <td>2 stops</td>\n",
       "      <td>No info</td>\n",
       "      <td>12819</td>\n",
       "    </tr>\n",
       "    <tr>\n",
       "      <th>9891</th>\n",
       "      <td>Air India</td>\n",
       "      <td>6/03/2019</td>\n",
       "      <td>Delhi</td>\n",
       "      <td>Cochin</td>\n",
       "      <td>DEL → AMD → BOM → COK</td>\n",
       "      <td>16:40</td>\n",
       "      <td>19:15 07 Mar</td>\n",
       "      <td>26h 35m</td>\n",
       "      <td>2 stops</td>\n",
       "      <td>No info</td>\n",
       "      <td>12646</td>\n",
       "    </tr>\n",
       "    <tr>\n",
       "      <th>10061</th>\n",
       "      <td>Jet Airways</td>\n",
       "      <td>18/05/2019</td>\n",
       "      <td>Delhi</td>\n",
       "      <td>Cochin</td>\n",
       "      <td>DEL → JAI → BOM → COK</td>\n",
       "      <td>05:30</td>\n",
       "      <td>04:25 19 May</td>\n",
       "      <td>22h 55m</td>\n",
       "      <td>2 stops</td>\n",
       "      <td>No info</td>\n",
       "      <td>15129</td>\n",
       "    </tr>\n",
       "  </tbody>\n",
       "</table>\n",
       "<p>220 rows × 11 columns</p>\n",
       "</div>"
      ],
      "text/plain": [
       "           Airline Date_of_Journey    Source Destination  \\\n",
       "33     Jet Airways      15/06/2019     Delhi      Cochin   \n",
       "49     Jet Airways      27/06/2019     Delhi      Cochin   \n",
       "73     Jet Airways      24/06/2019     Delhi      Cochin   \n",
       "81     Jet Airways      24/03/2019  Banglore   New Delhi   \n",
       "87     Jet Airways       6/06/2019     Delhi      Cochin   \n",
       "...            ...             ...       ...         ...   \n",
       "9408   Jet Airways      24/06/2019     Delhi      Cochin   \n",
       "9678   Jet Airways      15/06/2019     Delhi      Cochin   \n",
       "9759   Jet Airways      27/06/2019     Delhi      Cochin   \n",
       "9891     Air India       6/03/2019     Delhi      Cochin   \n",
       "10061  Jet Airways      18/05/2019     Delhi      Cochin   \n",
       "\n",
       "                       Route Dep_Time  Arrival_Time Duration Total_Stops  \\\n",
       "33     DEL → NAG → BOM → COK    14:35  12:35 16 Jun      22h     2 stops   \n",
       "49     DEL → AMD → BOM → COK    23:05  19:00 28 Jun  19h 55m     2 stops   \n",
       "73     DEL → AMD → BOM → COK    23:05  12:35 25 Jun  13h 30m     2 stops   \n",
       "81                 BLR → DEL    19:55         22:35   2h 40m    non-stop   \n",
       "87     DEL → JAI → BOM → COK    09:40  04:25 07 Jun  18h 45m     2 stops   \n",
       "...                      ...      ...           ...      ...         ...   \n",
       "9408   DEL → NAG → BOM → COK    14:35  04:25 25 Jun  13h 50m     2 stops   \n",
       "9678   DEL → NAG → BOM → COK    14:35  12:35 16 Jun      22h     2 stops   \n",
       "9759   DEL → AMD → BOM → COK    23:05  12:35 28 Jun  13h 30m     2 stops   \n",
       "9891   DEL → AMD → BOM → COK    16:40  19:15 07 Mar  26h 35m     2 stops   \n",
       "10061  DEL → JAI → BOM → COK    05:30  04:25 19 May  22h 55m     2 stops   \n",
       "\n",
       "                   Additional_Info  Price  \n",
       "33     In-flight meal not included  10919  \n",
       "49     In-flight meal not included  11150  \n",
       "73                         No info  12819  \n",
       "81                         No info   7229  \n",
       "87                         No info  13014  \n",
       "...                            ...    ...  \n",
       "9408                       No info  13376  \n",
       "9678                       No info  13376  \n",
       "9759                       No info  12819  \n",
       "9891                       No info  12646  \n",
       "10061                      No info  15129  \n",
       "\n",
       "[220 rows x 11 columns]"
      ]
     },
     "execution_count": 1138,
     "metadata": {},
     "output_type": "execute_result"
    }
   ],
   "source": [
    "duplicate = df[df.duplicated(keep = 'last')]\n",
    "print(\"Duplicate Rows :\")\n",
    "  \n",
    "# Print the resultant Dataframe\n",
    "duplicate"
   ]
  },
  {
   "cell_type": "markdown",
   "id": "13de1868",
   "metadata": {},
   "source": [
    "We see that 220 rows are duplicates, hence we should drop it right away"
   ]
  },
  {
   "cell_type": "code",
   "execution_count": 1139,
   "id": "fa0e076f",
   "metadata": {},
   "outputs": [],
   "source": [
    "df.drop_duplicates(keep=False,inplace=True)"
   ]
  },
  {
   "cell_type": "code",
   "execution_count": 1140,
   "id": "66c1e007",
   "metadata": {},
   "outputs": [
    {
     "name": "stdout",
     "output_type": "stream",
     "text": [
      "Duplicate Rows :\n"
     ]
    },
    {
     "data": {
      "text/html": [
       "<div>\n",
       "<style scoped>\n",
       "    .dataframe tbody tr th:only-of-type {\n",
       "        vertical-align: middle;\n",
       "    }\n",
       "\n",
       "    .dataframe tbody tr th {\n",
       "        vertical-align: top;\n",
       "    }\n",
       "\n",
       "    .dataframe thead th {\n",
       "        text-align: right;\n",
       "    }\n",
       "</style>\n",
       "<table border=\"1\" class=\"dataframe\">\n",
       "  <thead>\n",
       "    <tr style=\"text-align: right;\">\n",
       "      <th></th>\n",
       "      <th>Airline</th>\n",
       "      <th>Date_of_Journey</th>\n",
       "      <th>Source</th>\n",
       "      <th>Destination</th>\n",
       "      <th>Route</th>\n",
       "      <th>Dep_Time</th>\n",
       "      <th>Arrival_Time</th>\n",
       "      <th>Duration</th>\n",
       "      <th>Total_Stops</th>\n",
       "      <th>Additional_Info</th>\n",
       "      <th>Price</th>\n",
       "    </tr>\n",
       "  </thead>\n",
       "  <tbody>\n",
       "  </tbody>\n",
       "</table>\n",
       "</div>"
      ],
      "text/plain": [
       "Empty DataFrame\n",
       "Columns: [Airline, Date_of_Journey, Source, Destination, Route, Dep_Time, Arrival_Time, Duration, Total_Stops, Additional_Info, Price]\n",
       "Index: []"
      ]
     },
     "execution_count": 1140,
     "metadata": {},
     "output_type": "execute_result"
    }
   ],
   "source": [
    "duplicate = df[df.duplicated(keep = 'last')]\n",
    "print(\"Duplicate Rows :\")\n",
    "# Print the resultant Dataframe\n",
    "duplicate"
   ]
  },
  {
   "cell_type": "markdown",
   "id": "06b3f4e2",
   "metadata": {},
   "source": [
    "Now we have no duplicates in our dataset, so lets proceed with our data analysis further"
   ]
  },
  {
   "cell_type": "code",
   "execution_count": 1141,
   "id": "452c2148",
   "metadata": {},
   "outputs": [
    {
     "data": {
      "text/plain": [
       "(10267, 11)"
      ]
     },
     "execution_count": 1141,
     "metadata": {},
     "output_type": "execute_result"
    }
   ],
   "source": [
    "df.shape"
   ]
  },
  {
   "cell_type": "markdown",
   "id": "fe45cd72",
   "metadata": {},
   "source": [
    "# Data Cleaning"
   ]
  },
  {
   "cell_type": "code",
   "execution_count": 1142,
   "id": "e06f39e3",
   "metadata": {},
   "outputs": [
    {
     "data": {
      "text/html": [
       "<div>\n",
       "<style scoped>\n",
       "    .dataframe tbody tr th:only-of-type {\n",
       "        vertical-align: middle;\n",
       "    }\n",
       "\n",
       "    .dataframe tbody tr th {\n",
       "        vertical-align: top;\n",
       "    }\n",
       "\n",
       "    .dataframe thead th {\n",
       "        text-align: right;\n",
       "    }\n",
       "</style>\n",
       "<table border=\"1\" class=\"dataframe\">\n",
       "  <thead>\n",
       "    <tr style=\"text-align: right;\">\n",
       "      <th></th>\n",
       "      <th>Airline</th>\n",
       "      <th>Date_of_Journey</th>\n",
       "      <th>Source</th>\n",
       "      <th>Destination</th>\n",
       "      <th>Route</th>\n",
       "      <th>Dep_Time</th>\n",
       "      <th>Arrival_Time</th>\n",
       "      <th>Duration</th>\n",
       "      <th>Total_Stops</th>\n",
       "      <th>Additional_Info</th>\n",
       "      <th>Price</th>\n",
       "    </tr>\n",
       "  </thead>\n",
       "  <tbody>\n",
       "    <tr>\n",
       "      <th>0</th>\n",
       "      <td>IndiGo</td>\n",
       "      <td>24/03/2019</td>\n",
       "      <td>Banglore</td>\n",
       "      <td>New Delhi</td>\n",
       "      <td>BLR → DEL</td>\n",
       "      <td>22:20</td>\n",
       "      <td>01:10 22 Mar</td>\n",
       "      <td>2h 50m</td>\n",
       "      <td>non-stop</td>\n",
       "      <td>No info</td>\n",
       "      <td>3897</td>\n",
       "    </tr>\n",
       "    <tr>\n",
       "      <th>1</th>\n",
       "      <td>Air India</td>\n",
       "      <td>1/05/2019</td>\n",
       "      <td>Kolkata</td>\n",
       "      <td>Banglore</td>\n",
       "      <td>CCU → IXR → BBI → BLR</td>\n",
       "      <td>05:50</td>\n",
       "      <td>13:15</td>\n",
       "      <td>7h 25m</td>\n",
       "      <td>2 stops</td>\n",
       "      <td>No info</td>\n",
       "      <td>7662</td>\n",
       "    </tr>\n",
       "    <tr>\n",
       "      <th>2</th>\n",
       "      <td>Jet Airways</td>\n",
       "      <td>9/06/2019</td>\n",
       "      <td>Delhi</td>\n",
       "      <td>Cochin</td>\n",
       "      <td>DEL → LKO → BOM → COK</td>\n",
       "      <td>09:25</td>\n",
       "      <td>04:25 10 Jun</td>\n",
       "      <td>19h</td>\n",
       "      <td>2 stops</td>\n",
       "      <td>No info</td>\n",
       "      <td>13882</td>\n",
       "    </tr>\n",
       "    <tr>\n",
       "      <th>3</th>\n",
       "      <td>IndiGo</td>\n",
       "      <td>12/05/2019</td>\n",
       "      <td>Kolkata</td>\n",
       "      <td>Banglore</td>\n",
       "      <td>CCU → NAG → BLR</td>\n",
       "      <td>18:05</td>\n",
       "      <td>23:30</td>\n",
       "      <td>5h 25m</td>\n",
       "      <td>1 stop</td>\n",
       "      <td>No info</td>\n",
       "      <td>6218</td>\n",
       "    </tr>\n",
       "    <tr>\n",
       "      <th>4</th>\n",
       "      <td>IndiGo</td>\n",
       "      <td>01/03/2019</td>\n",
       "      <td>Banglore</td>\n",
       "      <td>New Delhi</td>\n",
       "      <td>BLR → NAG → DEL</td>\n",
       "      <td>16:50</td>\n",
       "      <td>21:35</td>\n",
       "      <td>4h 45m</td>\n",
       "      <td>1 stop</td>\n",
       "      <td>No info</td>\n",
       "      <td>13302</td>\n",
       "    </tr>\n",
       "  </tbody>\n",
       "</table>\n",
       "</div>"
      ],
      "text/plain": [
       "       Airline Date_of_Journey    Source Destination                  Route  \\\n",
       "0       IndiGo      24/03/2019  Banglore   New Delhi              BLR → DEL   \n",
       "1    Air India       1/05/2019   Kolkata    Banglore  CCU → IXR → BBI → BLR   \n",
       "2  Jet Airways       9/06/2019     Delhi      Cochin  DEL → LKO → BOM → COK   \n",
       "3       IndiGo      12/05/2019   Kolkata    Banglore        CCU → NAG → BLR   \n",
       "4       IndiGo      01/03/2019  Banglore   New Delhi        BLR → NAG → DEL   \n",
       "\n",
       "  Dep_Time  Arrival_Time Duration Total_Stops Additional_Info  Price  \n",
       "0    22:20  01:10 22 Mar   2h 50m    non-stop         No info   3897  \n",
       "1    05:50         13:15   7h 25m     2 stops         No info   7662  \n",
       "2    09:25  04:25 10 Jun      19h     2 stops         No info  13882  \n",
       "3    18:05         23:30   5h 25m      1 stop         No info   6218  \n",
       "4    16:50         21:35   4h 45m      1 stop         No info  13302  "
      ]
     },
     "execution_count": 1142,
     "metadata": {},
     "output_type": "execute_result"
    }
   ],
   "source": [
    "df.head()"
   ]
  },
  {
   "cell_type": "markdown",
   "id": "43c878d5",
   "metadata": {},
   "source": [
    "<strong>Date_of_Journey</strong>"
   ]
  },
  {
   "cell_type": "code",
   "execution_count": 1143,
   "id": "d0ac04b2",
   "metadata": {
    "scrolled": true
   },
   "outputs": [
    {
     "data": {
      "text/html": [
       "<div>\n",
       "<style scoped>\n",
       "    .dataframe tbody tr th:only-of-type {\n",
       "        vertical-align: middle;\n",
       "    }\n",
       "\n",
       "    .dataframe tbody tr th {\n",
       "        vertical-align: top;\n",
       "    }\n",
       "\n",
       "    .dataframe thead th {\n",
       "        text-align: right;\n",
       "    }\n",
       "</style>\n",
       "<table border=\"1\" class=\"dataframe\">\n",
       "  <thead>\n",
       "    <tr style=\"text-align: right;\">\n",
       "      <th></th>\n",
       "      <th>Airline</th>\n",
       "      <th>Date_of_Journey</th>\n",
       "      <th>Source</th>\n",
       "      <th>Destination</th>\n",
       "      <th>Route</th>\n",
       "      <th>Dep_Time</th>\n",
       "      <th>Arrival_Time</th>\n",
       "      <th>Duration</th>\n",
       "      <th>Total_Stops</th>\n",
       "      <th>Additional_Info</th>\n",
       "      <th>Price</th>\n",
       "      <th>DayOfJourney</th>\n",
       "      <th>MonthOfJourney</th>\n",
       "      <th>YearOfJourney</th>\n",
       "    </tr>\n",
       "  </thead>\n",
       "  <tbody>\n",
       "    <tr>\n",
       "      <th>0</th>\n",
       "      <td>IndiGo</td>\n",
       "      <td>2019-03-24</td>\n",
       "      <td>Banglore</td>\n",
       "      <td>New Delhi</td>\n",
       "      <td>BLR → DEL</td>\n",
       "      <td>22:20</td>\n",
       "      <td>01:10 22 Mar</td>\n",
       "      <td>2h 50m</td>\n",
       "      <td>non-stop</td>\n",
       "      <td>No info</td>\n",
       "      <td>3897</td>\n",
       "      <td>24</td>\n",
       "      <td>3</td>\n",
       "      <td>2019</td>\n",
       "    </tr>\n",
       "    <tr>\n",
       "      <th>1</th>\n",
       "      <td>Air India</td>\n",
       "      <td>2019-01-05</td>\n",
       "      <td>Kolkata</td>\n",
       "      <td>Banglore</td>\n",
       "      <td>CCU → IXR → BBI → BLR</td>\n",
       "      <td>05:50</td>\n",
       "      <td>13:15</td>\n",
       "      <td>7h 25m</td>\n",
       "      <td>2 stops</td>\n",
       "      <td>No info</td>\n",
       "      <td>7662</td>\n",
       "      <td>5</td>\n",
       "      <td>1</td>\n",
       "      <td>2019</td>\n",
       "    </tr>\n",
       "  </tbody>\n",
       "</table>\n",
       "</div>"
      ],
      "text/plain": [
       "     Airline Date_of_Journey    Source Destination                  Route  \\\n",
       "0     IndiGo      2019-03-24  Banglore   New Delhi              BLR → DEL   \n",
       "1  Air India      2019-01-05   Kolkata    Banglore  CCU → IXR → BBI → BLR   \n",
       "\n",
       "  Dep_Time  Arrival_Time Duration Total_Stops Additional_Info  Price  \\\n",
       "0    22:20  01:10 22 Mar   2h 50m    non-stop         No info   3897   \n",
       "1    05:50         13:15   7h 25m     2 stops         No info   7662   \n",
       "\n",
       "   DayOfJourney  MonthOfJourney  YearOfJourney  \n",
       "0            24               3           2019  \n",
       "1             5               1           2019  "
      ]
     },
     "execution_count": 1143,
     "metadata": {},
     "output_type": "execute_result"
    }
   ],
   "source": [
    "df['Date_of_Journey']=pd.to_datetime(df['Date_of_Journey'])\n",
    "df['DayOfJourney']=df['Date_of_Journey'].apply(lambda x:x.day)\n",
    "df['MonthOfJourney']=df['Date_of_Journey'].apply(lambda x:x.month)\n",
    "df['YearOfJourney']=df['Date_of_Journey'].apply(lambda x:x.year)\n",
    "df.head(2)"
   ]
  },
  {
   "cell_type": "code",
   "execution_count": 1144,
   "id": "8c9e6ec7",
   "metadata": {},
   "outputs": [
    {
     "data": {
      "text/plain": [
       "{'Banglore', 'Chennai', 'Delhi', 'Kolkata', 'Mumbai'}"
      ]
     },
     "execution_count": 1144,
     "metadata": {},
     "output_type": "execute_result"
    }
   ],
   "source": [
    "set(df['Source'])"
   ]
  },
  {
   "cell_type": "code",
   "execution_count": 1145,
   "id": "40d3bb35",
   "metadata": {},
   "outputs": [
    {
     "data": {
      "text/plain": [
       "{'Banglore', 'Cochin', 'Delhi', 'Hyderabad', 'Kolkata', 'New Delhi'}"
      ]
     },
     "execution_count": 1145,
     "metadata": {},
     "output_type": "execute_result"
    }
   ],
   "source": [
    "set(df['Destination'])"
   ]
  },
  {
   "cell_type": "markdown",
   "id": "d31ab2b8",
   "metadata": {},
   "source": [
    "We see that two different destinations have same name,Delhi and New Delhi, Hence we will replace New Delhi with Delhi"
   ]
  },
  {
   "cell_type": "code",
   "execution_count": 1146,
   "id": "8e980e8d",
   "metadata": {},
   "outputs": [],
   "source": [
    "df['Destination'] = df['Destination'].str.replace('New Delhi','Delhi')"
   ]
  },
  {
   "cell_type": "code",
   "execution_count": 1147,
   "id": "6ff1b981",
   "metadata": {},
   "outputs": [
    {
     "data": {
      "text/plain": [
       "{'Banglore', 'Cochin', 'Delhi', 'Hyderabad', 'Kolkata'}"
      ]
     },
     "execution_count": 1147,
     "metadata": {},
     "output_type": "execute_result"
    }
   ],
   "source": [
    "set(df['Destination'])"
   ]
  },
  {
   "cell_type": "markdown",
   "id": "ac7a54c2",
   "metadata": {},
   "source": [
    "<strong>Dep_Time</strong>\n",
    "- First split into Departure Hour\n",
    "- Second split into Departure Minute"
   ]
  },
  {
   "cell_type": "code",
   "execution_count": 1148,
   "id": "5634d999",
   "metadata": {},
   "outputs": [
    {
     "data": {
      "text/html": [
       "<div>\n",
       "<style scoped>\n",
       "    .dataframe tbody tr th:only-of-type {\n",
       "        vertical-align: middle;\n",
       "    }\n",
       "\n",
       "    .dataframe tbody tr th {\n",
       "        vertical-align: top;\n",
       "    }\n",
       "\n",
       "    .dataframe thead th {\n",
       "        text-align: right;\n",
       "    }\n",
       "</style>\n",
       "<table border=\"1\" class=\"dataframe\">\n",
       "  <thead>\n",
       "    <tr style=\"text-align: right;\">\n",
       "      <th></th>\n",
       "      <th>Airline</th>\n",
       "      <th>Date_of_Journey</th>\n",
       "      <th>Source</th>\n",
       "      <th>Destination</th>\n",
       "      <th>Route</th>\n",
       "      <th>Dep_Time</th>\n",
       "      <th>Arrival_Time</th>\n",
       "      <th>Duration</th>\n",
       "      <th>Total_Stops</th>\n",
       "      <th>Additional_Info</th>\n",
       "      <th>Price</th>\n",
       "      <th>DayOfJourney</th>\n",
       "      <th>MonthOfJourney</th>\n",
       "      <th>YearOfJourney</th>\n",
       "      <th>Dep_Hr</th>\n",
       "      <th>Dep_Min</th>\n",
       "    </tr>\n",
       "  </thead>\n",
       "  <tbody>\n",
       "    <tr>\n",
       "      <th>0</th>\n",
       "      <td>IndiGo</td>\n",
       "      <td>2019-03-24</td>\n",
       "      <td>Banglore</td>\n",
       "      <td>Delhi</td>\n",
       "      <td>BLR → DEL</td>\n",
       "      <td>22:20</td>\n",
       "      <td>01:10 22 Mar</td>\n",
       "      <td>2h 50m</td>\n",
       "      <td>non-stop</td>\n",
       "      <td>No info</td>\n",
       "      <td>3897</td>\n",
       "      <td>24</td>\n",
       "      <td>3</td>\n",
       "      <td>2019</td>\n",
       "      <td>22</td>\n",
       "      <td>20</td>\n",
       "    </tr>\n",
       "    <tr>\n",
       "      <th>1</th>\n",
       "      <td>Air India</td>\n",
       "      <td>2019-01-05</td>\n",
       "      <td>Kolkata</td>\n",
       "      <td>Banglore</td>\n",
       "      <td>CCU → IXR → BBI → BLR</td>\n",
       "      <td>05:50</td>\n",
       "      <td>13:15</td>\n",
       "      <td>7h 25m</td>\n",
       "      <td>2 stops</td>\n",
       "      <td>No info</td>\n",
       "      <td>7662</td>\n",
       "      <td>5</td>\n",
       "      <td>1</td>\n",
       "      <td>2019</td>\n",
       "      <td>05</td>\n",
       "      <td>50</td>\n",
       "    </tr>\n",
       "  </tbody>\n",
       "</table>\n",
       "</div>"
      ],
      "text/plain": [
       "     Airline Date_of_Journey    Source Destination                  Route  \\\n",
       "0     IndiGo      2019-03-24  Banglore       Delhi              BLR → DEL   \n",
       "1  Air India      2019-01-05   Kolkata    Banglore  CCU → IXR → BBI → BLR   \n",
       "\n",
       "  Dep_Time  Arrival_Time Duration Total_Stops Additional_Info  Price  \\\n",
       "0    22:20  01:10 22 Mar   2h 50m    non-stop         No info   3897   \n",
       "1    05:50         13:15   7h 25m     2 stops         No info   7662   \n",
       "\n",
       "   DayOfJourney  MonthOfJourney  YearOfJourney Dep_Hr Dep_Min  \n",
       "0            24               3           2019     22      20  \n",
       "1             5               1           2019     05      50  "
      ]
     },
     "execution_count": 1148,
     "metadata": {},
     "output_type": "execute_result"
    }
   ],
   "source": [
    "df['Dep_Hr'],df['Dep_Min'] = df['Dep_Time'].str.split(':',2).str\n",
    "df.head(2)"
   ]
  },
  {
   "cell_type": "markdown",
   "id": "c415801a",
   "metadata": {},
   "source": [
    "<strong>Arrival_Time</strong>\n",
    "- If we see few data in Arrival time has the next day as the flight arrives after 12 o clock midnight next day\n",
    "- Split into Arrival Hour and Arrival minutes"
   ]
  },
  {
   "cell_type": "code",
   "execution_count": 1149,
   "id": "f8609c46",
   "metadata": {},
   "outputs": [
    {
     "data": {
      "text/plain": [
       "array(['01:10 22 Mar', '13:15', '04:25 10 Jun', ..., '06:50 10 Mar',\n",
       "       '00:05 19 Mar', '21:20 13 Mar'], dtype=object)"
      ]
     },
     "execution_count": 1149,
     "metadata": {},
     "output_type": "execute_result"
    }
   ],
   "source": [
    "df['Arrival_Time'].unique()"
   ]
  },
  {
   "cell_type": "code",
   "execution_count": 1150,
   "id": "8071febd",
   "metadata": {},
   "outputs": [],
   "source": [
    "df['Arrival_Time'],_= df['Arrival_Time'].str.split(' ',1).str"
   ]
  },
  {
   "cell_type": "code",
   "execution_count": 1151,
   "id": "c0f84aeb",
   "metadata": {},
   "outputs": [
    {
     "data": {
      "text/plain": [
       "0        01:10\n",
       "1        13:15\n",
       "2        04:25\n",
       "3        23:30\n",
       "4        21:35\n",
       "         ...  \n",
       "10678    22:25\n",
       "10679    23:20\n",
       "10680    11:20\n",
       "10681    14:10\n",
       "10682    19:15\n",
       "Name: Arrival_Time, Length: 10267, dtype: object"
      ]
     },
     "execution_count": 1151,
     "metadata": {},
     "output_type": "execute_result"
    }
   ],
   "source": [
    "df['Arrival_Time']"
   ]
  },
  {
   "cell_type": "code",
   "execution_count": 1152,
   "id": "a1c82136",
   "metadata": {},
   "outputs": [],
   "source": [
    "df['Arr_Hr'],df['Arr_Min'] = df['Arrival_Time'].str.split(':',2).str"
   ]
  },
  {
   "cell_type": "code",
   "execution_count": 1153,
   "id": "3f60cb17",
   "metadata": {},
   "outputs": [
    {
     "data": {
      "text/html": [
       "<div>\n",
       "<style scoped>\n",
       "    .dataframe tbody tr th:only-of-type {\n",
       "        vertical-align: middle;\n",
       "    }\n",
       "\n",
       "    .dataframe tbody tr th {\n",
       "        vertical-align: top;\n",
       "    }\n",
       "\n",
       "    .dataframe thead th {\n",
       "        text-align: right;\n",
       "    }\n",
       "</style>\n",
       "<table border=\"1\" class=\"dataframe\">\n",
       "  <thead>\n",
       "    <tr style=\"text-align: right;\">\n",
       "      <th></th>\n",
       "      <th>Airline</th>\n",
       "      <th>Date_of_Journey</th>\n",
       "      <th>Source</th>\n",
       "      <th>Destination</th>\n",
       "      <th>Route</th>\n",
       "      <th>Dep_Time</th>\n",
       "      <th>Arrival_Time</th>\n",
       "      <th>Duration</th>\n",
       "      <th>Total_Stops</th>\n",
       "      <th>Additional_Info</th>\n",
       "      <th>Price</th>\n",
       "      <th>DayOfJourney</th>\n",
       "      <th>MonthOfJourney</th>\n",
       "      <th>YearOfJourney</th>\n",
       "      <th>Dep_Hr</th>\n",
       "      <th>Dep_Min</th>\n",
       "      <th>Arr_Hr</th>\n",
       "      <th>Arr_Min</th>\n",
       "    </tr>\n",
       "  </thead>\n",
       "  <tbody>\n",
       "    <tr>\n",
       "      <th>0</th>\n",
       "      <td>IndiGo</td>\n",
       "      <td>2019-03-24</td>\n",
       "      <td>Banglore</td>\n",
       "      <td>Delhi</td>\n",
       "      <td>BLR → DEL</td>\n",
       "      <td>22:20</td>\n",
       "      <td>01:10</td>\n",
       "      <td>2h 50m</td>\n",
       "      <td>non-stop</td>\n",
       "      <td>No info</td>\n",
       "      <td>3897</td>\n",
       "      <td>24</td>\n",
       "      <td>3</td>\n",
       "      <td>2019</td>\n",
       "      <td>22</td>\n",
       "      <td>20</td>\n",
       "      <td>01</td>\n",
       "      <td>10</td>\n",
       "    </tr>\n",
       "    <tr>\n",
       "      <th>1</th>\n",
       "      <td>Air India</td>\n",
       "      <td>2019-01-05</td>\n",
       "      <td>Kolkata</td>\n",
       "      <td>Banglore</td>\n",
       "      <td>CCU → IXR → BBI → BLR</td>\n",
       "      <td>05:50</td>\n",
       "      <td>13:15</td>\n",
       "      <td>7h 25m</td>\n",
       "      <td>2 stops</td>\n",
       "      <td>No info</td>\n",
       "      <td>7662</td>\n",
       "      <td>5</td>\n",
       "      <td>1</td>\n",
       "      <td>2019</td>\n",
       "      <td>05</td>\n",
       "      <td>50</td>\n",
       "      <td>13</td>\n",
       "      <td>15</td>\n",
       "    </tr>\n",
       "  </tbody>\n",
       "</table>\n",
       "</div>"
      ],
      "text/plain": [
       "     Airline Date_of_Journey    Source Destination                  Route  \\\n",
       "0     IndiGo      2019-03-24  Banglore       Delhi              BLR → DEL   \n",
       "1  Air India      2019-01-05   Kolkata    Banglore  CCU → IXR → BBI → BLR   \n",
       "\n",
       "  Dep_Time Arrival_Time Duration Total_Stops Additional_Info  Price  \\\n",
       "0    22:20        01:10   2h 50m    non-stop         No info   3897   \n",
       "1    05:50        13:15   7h 25m     2 stops         No info   7662   \n",
       "\n",
       "   DayOfJourney  MonthOfJourney  YearOfJourney Dep_Hr Dep_Min Arr_Hr Arr_Min  \n",
       "0            24               3           2019     22      20     01      10  \n",
       "1             5               1           2019     05      50     13      15  "
      ]
     },
     "execution_count": 1153,
     "metadata": {},
     "output_type": "execute_result"
    }
   ],
   "source": [
    "df.head(2)"
   ]
  },
  {
   "cell_type": "markdown",
   "id": "61c66371",
   "metadata": {},
   "source": [
    "<strong>Duration</strong>\n",
    "- Split the Duration in Duration Hour and Duration minutes"
   ]
  },
  {
   "cell_type": "code",
   "execution_count": 1154,
   "id": "07e862e0",
   "metadata": {},
   "outputs": [],
   "source": [
    "df['Duration'] = df['Duration'].str.replace('h ',':').str.replace('m','')"
   ]
  },
  {
   "cell_type": "code",
   "execution_count": 1155,
   "id": "3333a886",
   "metadata": {},
   "outputs": [],
   "source": [
    "df['Duration_Hr'],df['Duration_Min'] = df['Duration'].str.split(':',2).str"
   ]
  },
  {
   "cell_type": "code",
   "execution_count": 1156,
   "id": "42ce9ec4",
   "metadata": {},
   "outputs": [
    {
     "data": {
      "text/plain": [
       "Airline              0\n",
       "Date_of_Journey      0\n",
       "Source               0\n",
       "Destination          0\n",
       "Route                0\n",
       "Dep_Time             0\n",
       "Arrival_Time         0\n",
       "Duration             0\n",
       "Total_Stops          0\n",
       "Additional_Info      0\n",
       "Price                0\n",
       "DayOfJourney         0\n",
       "MonthOfJourney       0\n",
       "YearOfJourney        0\n",
       "Dep_Hr               0\n",
       "Dep_Min              0\n",
       "Arr_Hr               0\n",
       "Arr_Min              0\n",
       "Duration_Hr          0\n",
       "Duration_Min       981\n",
       "dtype: int64"
      ]
     },
     "execution_count": 1156,
     "metadata": {},
     "output_type": "execute_result"
    }
   ],
   "source": [
    "df.isnull().sum()"
   ]
  },
  {
   "cell_type": "markdown",
   "id": "40c8b41d",
   "metadata": {},
   "source": [
    "We see that we have nan values in Duration Min, so we will fill it with 0 because the above result return nan only when Duration minute is equal to 0"
   ]
  },
  {
   "cell_type": "code",
   "execution_count": 1157,
   "id": "45620e6d",
   "metadata": {},
   "outputs": [
    {
     "data": {
      "text/html": [
       "<div>\n",
       "<style scoped>\n",
       "    .dataframe tbody tr th:only-of-type {\n",
       "        vertical-align: middle;\n",
       "    }\n",
       "\n",
       "    .dataframe tbody tr th {\n",
       "        vertical-align: top;\n",
       "    }\n",
       "\n",
       "    .dataframe thead th {\n",
       "        text-align: right;\n",
       "    }\n",
       "</style>\n",
       "<table border=\"1\" class=\"dataframe\">\n",
       "  <thead>\n",
       "    <tr style=\"text-align: right;\">\n",
       "      <th></th>\n",
       "      <th>Airline</th>\n",
       "      <th>Date_of_Journey</th>\n",
       "      <th>Source</th>\n",
       "      <th>Destination</th>\n",
       "      <th>Route</th>\n",
       "      <th>Dep_Time</th>\n",
       "      <th>Arrival_Time</th>\n",
       "      <th>Duration</th>\n",
       "      <th>Total_Stops</th>\n",
       "      <th>Additional_Info</th>\n",
       "      <th>Price</th>\n",
       "      <th>DayOfJourney</th>\n",
       "      <th>MonthOfJourney</th>\n",
       "      <th>YearOfJourney</th>\n",
       "      <th>Dep_Hr</th>\n",
       "      <th>Dep_Min</th>\n",
       "      <th>Arr_Hr</th>\n",
       "      <th>Arr_Min</th>\n",
       "      <th>Duration_Hr</th>\n",
       "      <th>Duration_Min</th>\n",
       "    </tr>\n",
       "  </thead>\n",
       "  <tbody>\n",
       "    <tr>\n",
       "      <th>0</th>\n",
       "      <td>IndiGo</td>\n",
       "      <td>2019-03-24</td>\n",
       "      <td>Banglore</td>\n",
       "      <td>Delhi</td>\n",
       "      <td>BLR → DEL</td>\n",
       "      <td>22:20</td>\n",
       "      <td>01:10</td>\n",
       "      <td>2:50</td>\n",
       "      <td>non-stop</td>\n",
       "      <td>No info</td>\n",
       "      <td>3897</td>\n",
       "      <td>24</td>\n",
       "      <td>3</td>\n",
       "      <td>2019</td>\n",
       "      <td>22</td>\n",
       "      <td>20</td>\n",
       "      <td>01</td>\n",
       "      <td>10</td>\n",
       "      <td>2</td>\n",
       "      <td>50</td>\n",
       "    </tr>\n",
       "    <tr>\n",
       "      <th>1</th>\n",
       "      <td>Air India</td>\n",
       "      <td>2019-01-05</td>\n",
       "      <td>Kolkata</td>\n",
       "      <td>Banglore</td>\n",
       "      <td>CCU → IXR → BBI → BLR</td>\n",
       "      <td>05:50</td>\n",
       "      <td>13:15</td>\n",
       "      <td>7:25</td>\n",
       "      <td>2 stops</td>\n",
       "      <td>No info</td>\n",
       "      <td>7662</td>\n",
       "      <td>5</td>\n",
       "      <td>1</td>\n",
       "      <td>2019</td>\n",
       "      <td>05</td>\n",
       "      <td>50</td>\n",
       "      <td>13</td>\n",
       "      <td>15</td>\n",
       "      <td>7</td>\n",
       "      <td>25</td>\n",
       "    </tr>\n",
       "    <tr>\n",
       "      <th>2</th>\n",
       "      <td>Jet Airways</td>\n",
       "      <td>2019-09-06</td>\n",
       "      <td>Delhi</td>\n",
       "      <td>Cochin</td>\n",
       "      <td>DEL → LKO → BOM → COK</td>\n",
       "      <td>09:25</td>\n",
       "      <td>04:25</td>\n",
       "      <td>19h</td>\n",
       "      <td>2 stops</td>\n",
       "      <td>No info</td>\n",
       "      <td>13882</td>\n",
       "      <td>6</td>\n",
       "      <td>9</td>\n",
       "      <td>2019</td>\n",
       "      <td>09</td>\n",
       "      <td>25</td>\n",
       "      <td>04</td>\n",
       "      <td>25</td>\n",
       "      <td>19h</td>\n",
       "      <td>0</td>\n",
       "    </tr>\n",
       "  </tbody>\n",
       "</table>\n",
       "</div>"
      ],
      "text/plain": [
       "       Airline Date_of_Journey    Source Destination                  Route  \\\n",
       "0       IndiGo      2019-03-24  Banglore       Delhi              BLR → DEL   \n",
       "1    Air India      2019-01-05   Kolkata    Banglore  CCU → IXR → BBI → BLR   \n",
       "2  Jet Airways      2019-09-06     Delhi      Cochin  DEL → LKO → BOM → COK   \n",
       "\n",
       "  Dep_Time Arrival_Time Duration Total_Stops Additional_Info  Price  \\\n",
       "0    22:20        01:10     2:50    non-stop         No info   3897   \n",
       "1    05:50        13:15     7:25     2 stops         No info   7662   \n",
       "2    09:25        04:25      19h     2 stops         No info  13882   \n",
       "\n",
       "   DayOfJourney  MonthOfJourney  YearOfJourney Dep_Hr Dep_Min Arr_Hr Arr_Min  \\\n",
       "0            24               3           2019     22      20     01      10   \n",
       "1             5               1           2019     05      50     13      15   \n",
       "2             6               9           2019     09      25     04      25   \n",
       "\n",
       "  Duration_Hr Duration_Min  \n",
       "0           2           50  \n",
       "1           7           25  \n",
       "2         19h            0  "
      ]
     },
     "execution_count": 1157,
     "metadata": {},
     "output_type": "execute_result"
    }
   ],
   "source": [
    "df = df.fillna(0)   \n",
    "df.head(3)"
   ]
  },
  {
   "cell_type": "code",
   "execution_count": 1158,
   "id": "34a9dea9",
   "metadata": {},
   "outputs": [
    {
     "data": {
      "text/plain": [
       "Airline            0\n",
       "Date_of_Journey    0\n",
       "Source             0\n",
       "Destination        0\n",
       "Route              0\n",
       "Dep_Time           0\n",
       "Arrival_Time       0\n",
       "Duration           0\n",
       "Total_Stops        0\n",
       "Additional_Info    0\n",
       "Price              0\n",
       "DayOfJourney       0\n",
       "MonthOfJourney     0\n",
       "YearOfJourney      0\n",
       "Dep_Hr             0\n",
       "Dep_Min            0\n",
       "Arr_Hr             0\n",
       "Arr_Min            0\n",
       "Duration_Hr        0\n",
       "Duration_Min       0\n",
       "dtype: int64"
      ]
     },
     "execution_count": 1158,
     "metadata": {},
     "output_type": "execute_result"
    }
   ],
   "source": [
    "df.isnull().sum()"
   ]
  },
  {
   "cell_type": "markdown",
   "id": "c133ab24",
   "metadata": {},
   "source": [
    "So we have no NaN values now"
   ]
  },
  {
   "cell_type": "markdown",
   "id": "5de3fbc8",
   "metadata": {},
   "source": [
    "<strong>Total_Stops</strong>\n",
    "- We see that we have no stop,1 stop,2 stop,3 stop and 4 stops, lets deal with them now"
   ]
  },
  {
   "cell_type": "code",
   "execution_count": 1159,
   "id": "81ab9658",
   "metadata": {},
   "outputs": [
    {
     "data": {
      "text/plain": [
       "{'1 stop', '2 stops', '3 stops', '4 stops', 'non-stop'}"
      ]
     },
     "execution_count": 1159,
     "metadata": {},
     "output_type": "execute_result"
    }
   ],
   "source": [
    "set(df['Total_Stops'])"
   ]
  },
  {
   "cell_type": "code",
   "execution_count": 1160,
   "id": "3f4d5247",
   "metadata": {},
   "outputs": [],
   "source": [
    "df['Total_Stops'],_ = df['Total_Stops'].str.split(' stops').str\n",
    "df['Total_Stops'],_ = df['Total_Stops'].str.split(' stop').str"
   ]
  },
  {
   "cell_type": "code",
   "execution_count": 1161,
   "id": "c69d58a9",
   "metadata": {},
   "outputs": [
    {
     "data": {
      "text/html": [
       "<div>\n",
       "<style scoped>\n",
       "    .dataframe tbody tr th:only-of-type {\n",
       "        vertical-align: middle;\n",
       "    }\n",
       "\n",
       "    .dataframe tbody tr th {\n",
       "        vertical-align: top;\n",
       "    }\n",
       "\n",
       "    .dataframe thead th {\n",
       "        text-align: right;\n",
       "    }\n",
       "</style>\n",
       "<table border=\"1\" class=\"dataframe\">\n",
       "  <thead>\n",
       "    <tr style=\"text-align: right;\">\n",
       "      <th></th>\n",
       "      <th>Airline</th>\n",
       "      <th>Date_of_Journey</th>\n",
       "      <th>Source</th>\n",
       "      <th>Destination</th>\n",
       "      <th>Route</th>\n",
       "      <th>Dep_Time</th>\n",
       "      <th>Arrival_Time</th>\n",
       "      <th>Duration</th>\n",
       "      <th>Total_Stops</th>\n",
       "      <th>Additional_Info</th>\n",
       "      <th>Price</th>\n",
       "      <th>DayOfJourney</th>\n",
       "      <th>MonthOfJourney</th>\n",
       "      <th>YearOfJourney</th>\n",
       "      <th>Dep_Hr</th>\n",
       "      <th>Dep_Min</th>\n",
       "      <th>Arr_Hr</th>\n",
       "      <th>Arr_Min</th>\n",
       "      <th>Duration_Hr</th>\n",
       "      <th>Duration_Min</th>\n",
       "    </tr>\n",
       "  </thead>\n",
       "  <tbody>\n",
       "    <tr>\n",
       "      <th>0</th>\n",
       "      <td>IndiGo</td>\n",
       "      <td>2019-03-24</td>\n",
       "      <td>Banglore</td>\n",
       "      <td>Delhi</td>\n",
       "      <td>BLR → DEL</td>\n",
       "      <td>22:20</td>\n",
       "      <td>01:10</td>\n",
       "      <td>2:50</td>\n",
       "      <td>non-stop</td>\n",
       "      <td>No info</td>\n",
       "      <td>3897</td>\n",
       "      <td>24</td>\n",
       "      <td>3</td>\n",
       "      <td>2019</td>\n",
       "      <td>22</td>\n",
       "      <td>20</td>\n",
       "      <td>01</td>\n",
       "      <td>10</td>\n",
       "      <td>2</td>\n",
       "      <td>50</td>\n",
       "    </tr>\n",
       "    <tr>\n",
       "      <th>1</th>\n",
       "      <td>Air India</td>\n",
       "      <td>2019-01-05</td>\n",
       "      <td>Kolkata</td>\n",
       "      <td>Banglore</td>\n",
       "      <td>CCU → IXR → BBI → BLR</td>\n",
       "      <td>05:50</td>\n",
       "      <td>13:15</td>\n",
       "      <td>7:25</td>\n",
       "      <td>2</td>\n",
       "      <td>No info</td>\n",
       "      <td>7662</td>\n",
       "      <td>5</td>\n",
       "      <td>1</td>\n",
       "      <td>2019</td>\n",
       "      <td>05</td>\n",
       "      <td>50</td>\n",
       "      <td>13</td>\n",
       "      <td>15</td>\n",
       "      <td>7</td>\n",
       "      <td>25</td>\n",
       "    </tr>\n",
       "  </tbody>\n",
       "</table>\n",
       "</div>"
      ],
      "text/plain": [
       "     Airline Date_of_Journey    Source Destination                  Route  \\\n",
       "0     IndiGo      2019-03-24  Banglore       Delhi              BLR → DEL   \n",
       "1  Air India      2019-01-05   Kolkata    Banglore  CCU → IXR → BBI → BLR   \n",
       "\n",
       "  Dep_Time Arrival_Time Duration Total_Stops Additional_Info  Price  \\\n",
       "0    22:20        01:10     2:50    non-stop         No info   3897   \n",
       "1    05:50        13:15     7:25           2         No info   7662   \n",
       "\n",
       "   DayOfJourney  MonthOfJourney  YearOfJourney Dep_Hr Dep_Min Arr_Hr Arr_Min  \\\n",
       "0            24               3           2019     22      20     01      10   \n",
       "1             5               1           2019     05      50     13      15   \n",
       "\n",
       "  Duration_Hr Duration_Min  \n",
       "0           2           50  \n",
       "1           7           25  "
      ]
     },
     "execution_count": 1161,
     "metadata": {},
     "output_type": "execute_result"
    }
   ],
   "source": [
    "df.head(2)"
   ]
  },
  {
   "cell_type": "code",
   "execution_count": 1162,
   "id": "ee3b685e",
   "metadata": {},
   "outputs": [
    {
     "data": {
      "text/plain": [
       "{'1', '2', '3', '4', 'non-stop'}"
      ]
     },
     "execution_count": 1162,
     "metadata": {},
     "output_type": "execute_result"
    }
   ],
   "source": [
    "set(df['Total_Stops'])"
   ]
  },
  {
   "cell_type": "code",
   "execution_count": 1163,
   "id": "6c70fc3c",
   "metadata": {},
   "outputs": [],
   "source": [
    "df['Total_Stops'] = df['Total_Stops'].apply(lambda x: 0 if 'non-stop' in x else x)"
   ]
  },
  {
   "cell_type": "code",
   "execution_count": 1164,
   "id": "3cab8fca",
   "metadata": {},
   "outputs": [
    {
     "data": {
      "text/plain": [
       "{0, '1', '2', '3', '4'}"
      ]
     },
     "execution_count": 1164,
     "metadata": {},
     "output_type": "execute_result"
    }
   ],
   "source": [
    "set(df['Total_Stops'])"
   ]
  },
  {
   "cell_type": "code",
   "execution_count": 1165,
   "id": "ca3ea996",
   "metadata": {},
   "outputs": [
    {
     "data": {
      "text/html": [
       "<div>\n",
       "<style scoped>\n",
       "    .dataframe tbody tr th:only-of-type {\n",
       "        vertical-align: middle;\n",
       "    }\n",
       "\n",
       "    .dataframe tbody tr th {\n",
       "        vertical-align: top;\n",
       "    }\n",
       "\n",
       "    .dataframe thead th {\n",
       "        text-align: right;\n",
       "    }\n",
       "</style>\n",
       "<table border=\"1\" class=\"dataframe\">\n",
       "  <thead>\n",
       "    <tr style=\"text-align: right;\">\n",
       "      <th></th>\n",
       "      <th>Airline</th>\n",
       "      <th>Date_of_Journey</th>\n",
       "      <th>Source</th>\n",
       "      <th>Destination</th>\n",
       "      <th>Route</th>\n",
       "      <th>Dep_Time</th>\n",
       "      <th>Arrival_Time</th>\n",
       "      <th>Duration</th>\n",
       "      <th>Total_Stops</th>\n",
       "      <th>Additional_Info</th>\n",
       "      <th>Price</th>\n",
       "      <th>DayOfJourney</th>\n",
       "      <th>MonthOfJourney</th>\n",
       "      <th>YearOfJourney</th>\n",
       "      <th>Dep_Hr</th>\n",
       "      <th>Dep_Min</th>\n",
       "      <th>Arr_Hr</th>\n",
       "      <th>Arr_Min</th>\n",
       "      <th>Duration_Hr</th>\n",
       "      <th>Duration_Min</th>\n",
       "    </tr>\n",
       "  </thead>\n",
       "  <tbody>\n",
       "    <tr>\n",
       "      <th>0</th>\n",
       "      <td>IndiGo</td>\n",
       "      <td>2019-03-24</td>\n",
       "      <td>Banglore</td>\n",
       "      <td>Delhi</td>\n",
       "      <td>BLR → DEL</td>\n",
       "      <td>22:20</td>\n",
       "      <td>01:10</td>\n",
       "      <td>2:50</td>\n",
       "      <td>0</td>\n",
       "      <td>No info</td>\n",
       "      <td>3897</td>\n",
       "      <td>24</td>\n",
       "      <td>3</td>\n",
       "      <td>2019</td>\n",
       "      <td>22</td>\n",
       "      <td>20</td>\n",
       "      <td>01</td>\n",
       "      <td>10</td>\n",
       "      <td>2</td>\n",
       "      <td>50</td>\n",
       "    </tr>\n",
       "    <tr>\n",
       "      <th>1</th>\n",
       "      <td>Air India</td>\n",
       "      <td>2019-01-05</td>\n",
       "      <td>Kolkata</td>\n",
       "      <td>Banglore</td>\n",
       "      <td>CCU → IXR → BBI → BLR</td>\n",
       "      <td>05:50</td>\n",
       "      <td>13:15</td>\n",
       "      <td>7:25</td>\n",
       "      <td>2</td>\n",
       "      <td>No info</td>\n",
       "      <td>7662</td>\n",
       "      <td>5</td>\n",
       "      <td>1</td>\n",
       "      <td>2019</td>\n",
       "      <td>05</td>\n",
       "      <td>50</td>\n",
       "      <td>13</td>\n",
       "      <td>15</td>\n",
       "      <td>7</td>\n",
       "      <td>25</td>\n",
       "    </tr>\n",
       "  </tbody>\n",
       "</table>\n",
       "</div>"
      ],
      "text/plain": [
       "     Airline Date_of_Journey    Source Destination                  Route  \\\n",
       "0     IndiGo      2019-03-24  Banglore       Delhi              BLR → DEL   \n",
       "1  Air India      2019-01-05   Kolkata    Banglore  CCU → IXR → BBI → BLR   \n",
       "\n",
       "  Dep_Time Arrival_Time Duration Total_Stops Additional_Info  Price  \\\n",
       "0    22:20        01:10     2:50           0         No info   3897   \n",
       "1    05:50        13:15     7:25           2         No info   7662   \n",
       "\n",
       "   DayOfJourney  MonthOfJourney  YearOfJourney Dep_Hr Dep_Min Arr_Hr Arr_Min  \\\n",
       "0            24               3           2019     22      20     01      10   \n",
       "1             5               1           2019     05      50     13      15   \n",
       "\n",
       "  Duration_Hr Duration_Min  \n",
       "0           2           50  \n",
       "1           7           25  "
      ]
     },
     "execution_count": 1165,
     "metadata": {},
     "output_type": "execute_result"
    }
   ],
   "source": [
    "df.head(2)"
   ]
  },
  {
   "cell_type": "markdown",
   "id": "58fa2c80",
   "metadata": {},
   "source": [
    "<strong>Additional_Info</strong>"
   ]
  },
  {
   "cell_type": "code",
   "execution_count": 1166,
   "id": "23e58100",
   "metadata": {},
   "outputs": [
    {
     "data": {
      "text/plain": [
       "{'1 Long layover',\n",
       " '1 Short layover',\n",
       " '2 Long layover',\n",
       " 'Business class',\n",
       " 'Change airports',\n",
       " 'In-flight meal not included',\n",
       " 'No Info',\n",
       " 'No check-in baggage included',\n",
       " 'No info',\n",
       " 'Red-eye flight'}"
      ]
     },
     "execution_count": 1166,
     "metadata": {},
     "output_type": "execute_result"
    }
   ],
   "source": [
    "set(df['Additional_Info'])"
   ]
  },
  {
   "cell_type": "markdown",
   "id": "93bd7c76",
   "metadata": {},
   "source": [
    "If we see the above set, No Info and No info is similar data , so lets replace No info with No Info"
   ]
  },
  {
   "cell_type": "code",
   "execution_count": 1167,
   "id": "a997dc42",
   "metadata": {},
   "outputs": [],
   "source": [
    "df['Additional_Info'] = df['Additional_Info'].str.replace('No info','No Info')"
   ]
  },
  {
   "cell_type": "code",
   "execution_count": 1168,
   "id": "6da8bb2d",
   "metadata": {},
   "outputs": [
    {
     "data": {
      "text/plain": [
       "{'1 Long layover',\n",
       " '1 Short layover',\n",
       " '2 Long layover',\n",
       " 'Business class',\n",
       " 'Change airports',\n",
       " 'In-flight meal not included',\n",
       " 'No Info',\n",
       " 'No check-in baggage included',\n",
       " 'Red-eye flight'}"
      ]
     },
     "execution_count": 1168,
     "metadata": {},
     "output_type": "execute_result"
    }
   ],
   "source": [
    "set(df['Additional_Info'])"
   ]
  },
  {
   "cell_type": "code",
   "execution_count": 1169,
   "id": "caf1eaf5",
   "metadata": {},
   "outputs": [
    {
     "data": {
      "text/html": [
       "<div>\n",
       "<style scoped>\n",
       "    .dataframe tbody tr th:only-of-type {\n",
       "        vertical-align: middle;\n",
       "    }\n",
       "\n",
       "    .dataframe tbody tr th {\n",
       "        vertical-align: top;\n",
       "    }\n",
       "\n",
       "    .dataframe thead th {\n",
       "        text-align: right;\n",
       "    }\n",
       "</style>\n",
       "<table border=\"1\" class=\"dataframe\">\n",
       "  <thead>\n",
       "    <tr style=\"text-align: right;\">\n",
       "      <th></th>\n",
       "      <th>Airline</th>\n",
       "      <th>Date_of_Journey</th>\n",
       "      <th>Source</th>\n",
       "      <th>Destination</th>\n",
       "      <th>Route</th>\n",
       "      <th>Dep_Time</th>\n",
       "      <th>Arrival_Time</th>\n",
       "      <th>Duration</th>\n",
       "      <th>Total_Stops</th>\n",
       "      <th>Additional_Info</th>\n",
       "      <th>Price</th>\n",
       "      <th>DayOfJourney</th>\n",
       "      <th>MonthOfJourney</th>\n",
       "      <th>YearOfJourney</th>\n",
       "      <th>Dep_Hr</th>\n",
       "      <th>Dep_Min</th>\n",
       "      <th>Arr_Hr</th>\n",
       "      <th>Arr_Min</th>\n",
       "      <th>Duration_Hr</th>\n",
       "      <th>Duration_Min</th>\n",
       "    </tr>\n",
       "  </thead>\n",
       "  <tbody>\n",
       "    <tr>\n",
       "      <th>0</th>\n",
       "      <td>IndiGo</td>\n",
       "      <td>2019-03-24</td>\n",
       "      <td>Banglore</td>\n",
       "      <td>Delhi</td>\n",
       "      <td>BLR → DEL</td>\n",
       "      <td>22:20</td>\n",
       "      <td>01:10</td>\n",
       "      <td>2:50</td>\n",
       "      <td>0</td>\n",
       "      <td>No Info</td>\n",
       "      <td>3897</td>\n",
       "      <td>24</td>\n",
       "      <td>3</td>\n",
       "      <td>2019</td>\n",
       "      <td>22</td>\n",
       "      <td>20</td>\n",
       "      <td>01</td>\n",
       "      <td>10</td>\n",
       "      <td>2</td>\n",
       "      <td>50</td>\n",
       "    </tr>\n",
       "    <tr>\n",
       "      <th>1</th>\n",
       "      <td>Air India</td>\n",
       "      <td>2019-01-05</td>\n",
       "      <td>Kolkata</td>\n",
       "      <td>Banglore</td>\n",
       "      <td>CCU → IXR → BBI → BLR</td>\n",
       "      <td>05:50</td>\n",
       "      <td>13:15</td>\n",
       "      <td>7:25</td>\n",
       "      <td>2</td>\n",
       "      <td>No Info</td>\n",
       "      <td>7662</td>\n",
       "      <td>5</td>\n",
       "      <td>1</td>\n",
       "      <td>2019</td>\n",
       "      <td>05</td>\n",
       "      <td>50</td>\n",
       "      <td>13</td>\n",
       "      <td>15</td>\n",
       "      <td>7</td>\n",
       "      <td>25</td>\n",
       "    </tr>\n",
       "  </tbody>\n",
       "</table>\n",
       "</div>"
      ],
      "text/plain": [
       "     Airline Date_of_Journey    Source Destination                  Route  \\\n",
       "0     IndiGo      2019-03-24  Banglore       Delhi              BLR → DEL   \n",
       "1  Air India      2019-01-05   Kolkata    Banglore  CCU → IXR → BBI → BLR   \n",
       "\n",
       "  Dep_Time Arrival_Time Duration Total_Stops Additional_Info  Price  \\\n",
       "0    22:20        01:10     2:50           0         No Info   3897   \n",
       "1    05:50        13:15     7:25           2         No Info   7662   \n",
       "\n",
       "   DayOfJourney  MonthOfJourney  YearOfJourney Dep_Hr Dep_Min Arr_Hr Arr_Min  \\\n",
       "0            24               3           2019     22      20     01      10   \n",
       "1             5               1           2019     05      50     13      15   \n",
       "\n",
       "  Duration_Hr Duration_Min  \n",
       "0           2           50  \n",
       "1           7           25  "
      ]
     },
     "execution_count": 1169,
     "metadata": {},
     "output_type": "execute_result"
    }
   ],
   "source": [
    "df.head(2)"
   ]
  },
  {
   "cell_type": "code",
   "execution_count": 1170,
   "id": "685a98c7",
   "metadata": {},
   "outputs": [
    {
     "data": {
      "text/html": [
       "<div>\n",
       "<style scoped>\n",
       "    .dataframe tbody tr th:only-of-type {\n",
       "        vertical-align: middle;\n",
       "    }\n",
       "\n",
       "    .dataframe tbody tr th {\n",
       "        vertical-align: top;\n",
       "    }\n",
       "\n",
       "    .dataframe thead th {\n",
       "        text-align: right;\n",
       "    }\n",
       "</style>\n",
       "<table border=\"1\" class=\"dataframe\">\n",
       "  <thead>\n",
       "    <tr style=\"text-align: right;\">\n",
       "      <th></th>\n",
       "      <th>Airline</th>\n",
       "      <th>Date_of_Journey</th>\n",
       "      <th>Source</th>\n",
       "      <th>Destination</th>\n",
       "      <th>Route</th>\n",
       "      <th>Dep_Time</th>\n",
       "      <th>Arrival_Time</th>\n",
       "      <th>Duration</th>\n",
       "      <th>Total_Stops</th>\n",
       "      <th>Additional_Info</th>\n",
       "      <th>Price</th>\n",
       "      <th>DayOfJourney</th>\n",
       "      <th>MonthOfJourney</th>\n",
       "      <th>YearOfJourney</th>\n",
       "      <th>Dep_Hr</th>\n",
       "      <th>Dep_Min</th>\n",
       "      <th>Arr_Hr</th>\n",
       "      <th>Arr_Min</th>\n",
       "      <th>Duration_Hr</th>\n",
       "      <th>Duration_Min</th>\n",
       "    </tr>\n",
       "  </thead>\n",
       "  <tbody>\n",
       "    <tr>\n",
       "      <th>0</th>\n",
       "      <td>IndiGo</td>\n",
       "      <td>2019-03-24</td>\n",
       "      <td>Banglore</td>\n",
       "      <td>Delhi</td>\n",
       "      <td>BLR → DEL</td>\n",
       "      <td>22:20</td>\n",
       "      <td>01:10</td>\n",
       "      <td>2:50</td>\n",
       "      <td>0</td>\n",
       "      <td>No Info</td>\n",
       "      <td>3897</td>\n",
       "      <td>24</td>\n",
       "      <td>3</td>\n",
       "      <td>2019</td>\n",
       "      <td>22</td>\n",
       "      <td>20</td>\n",
       "      <td>01</td>\n",
       "      <td>10</td>\n",
       "      <td>2</td>\n",
       "      <td>50</td>\n",
       "    </tr>\n",
       "    <tr>\n",
       "      <th>1</th>\n",
       "      <td>Air India</td>\n",
       "      <td>2019-01-05</td>\n",
       "      <td>Kolkata</td>\n",
       "      <td>Banglore</td>\n",
       "      <td>CCU → IXR → BBI → BLR</td>\n",
       "      <td>05:50</td>\n",
       "      <td>13:15</td>\n",
       "      <td>7:25</td>\n",
       "      <td>2</td>\n",
       "      <td>No Info</td>\n",
       "      <td>7662</td>\n",
       "      <td>5</td>\n",
       "      <td>1</td>\n",
       "      <td>2019</td>\n",
       "      <td>05</td>\n",
       "      <td>50</td>\n",
       "      <td>13</td>\n",
       "      <td>15</td>\n",
       "      <td>7</td>\n",
       "      <td>25</td>\n",
       "    </tr>\n",
       "  </tbody>\n",
       "</table>\n",
       "</div>"
      ],
      "text/plain": [
       "     Airline Date_of_Journey    Source Destination                  Route  \\\n",
       "0     IndiGo      2019-03-24  Banglore       Delhi              BLR → DEL   \n",
       "1  Air India      2019-01-05   Kolkata    Banglore  CCU → IXR → BBI → BLR   \n",
       "\n",
       "  Dep_Time Arrival_Time Duration Total_Stops Additional_Info  Price  \\\n",
       "0    22:20        01:10     2:50           0         No Info   3897   \n",
       "1    05:50        13:15     7:25           2         No Info   7662   \n",
       "\n",
       "   DayOfJourney  MonthOfJourney  YearOfJourney Dep_Hr Dep_Min Arr_Hr Arr_Min  \\\n",
       "0            24               3           2019     22      20     01      10   \n",
       "1             5               1           2019     05      50     13      15   \n",
       "\n",
       "  Duration_Hr Duration_Min  \n",
       "0           2           50  \n",
       "1           7           25  "
      ]
     },
     "execution_count": 1170,
     "metadata": {},
     "output_type": "execute_result"
    }
   ],
   "source": [
    "df.head(2)"
   ]
  },
  {
   "cell_type": "markdown",
   "id": "539510f1",
   "metadata": {},
   "source": [
    "Since we have converted the below columns into different columns, hence we should delete them. Also if we see Route and Total_Stops are related to each other, we should delete Route too and we have data only for the year 2019, hence we will delete YearOfJourney column too\n",
    "- Date_of_Journey\n",
    "- Dep_Time\n",
    "- Duration\n",
    "- Arrival_Time\n",
    "- Route\n",
    "- YearOfJourney\n",
    "\n",
    "Lets drop the above 4 columns"
   ]
  },
  {
   "cell_type": "code",
   "execution_count": 1171,
   "id": "f59dbd2e",
   "metadata": {},
   "outputs": [],
   "source": [
    "df.drop([\"Date_of_Journey\", \"Dep_Time\",\"Duration\",\"Arrival_Time\",\"Route\",\"YearOfJourney\"], axis = 1, inplace = True)"
   ]
  },
  {
   "cell_type": "code",
   "execution_count": 1172,
   "id": "b2831ecd",
   "metadata": {},
   "outputs": [
    {
     "data": {
      "text/plain": [
       "(10267, 14)"
      ]
     },
     "execution_count": 1172,
     "metadata": {},
     "output_type": "execute_result"
    }
   ],
   "source": [
    "df.shape"
   ]
  },
  {
   "cell_type": "code",
   "execution_count": 1173,
   "id": "485939aa",
   "metadata": {},
   "outputs": [
    {
     "data": {
      "text/html": [
       "<div>\n",
       "<style scoped>\n",
       "    .dataframe tbody tr th:only-of-type {\n",
       "        vertical-align: middle;\n",
       "    }\n",
       "\n",
       "    .dataframe tbody tr th {\n",
       "        vertical-align: top;\n",
       "    }\n",
       "\n",
       "    .dataframe thead th {\n",
       "        text-align: right;\n",
       "    }\n",
       "</style>\n",
       "<table border=\"1\" class=\"dataframe\">\n",
       "  <thead>\n",
       "    <tr style=\"text-align: right;\">\n",
       "      <th></th>\n",
       "      <th>Airline</th>\n",
       "      <th>Source</th>\n",
       "      <th>Destination</th>\n",
       "      <th>Total_Stops</th>\n",
       "      <th>Additional_Info</th>\n",
       "      <th>Price</th>\n",
       "      <th>DayOfJourney</th>\n",
       "      <th>MonthOfJourney</th>\n",
       "      <th>Dep_Hr</th>\n",
       "      <th>Dep_Min</th>\n",
       "      <th>Arr_Hr</th>\n",
       "      <th>Arr_Min</th>\n",
       "      <th>Duration_Hr</th>\n",
       "      <th>Duration_Min</th>\n",
       "    </tr>\n",
       "  </thead>\n",
       "  <tbody>\n",
       "    <tr>\n",
       "      <th>0</th>\n",
       "      <td>IndiGo</td>\n",
       "      <td>Banglore</td>\n",
       "      <td>Delhi</td>\n",
       "      <td>0</td>\n",
       "      <td>No Info</td>\n",
       "      <td>3897</td>\n",
       "      <td>24</td>\n",
       "      <td>3</td>\n",
       "      <td>22</td>\n",
       "      <td>20</td>\n",
       "      <td>01</td>\n",
       "      <td>10</td>\n",
       "      <td>2</td>\n",
       "      <td>50</td>\n",
       "    </tr>\n",
       "    <tr>\n",
       "      <th>1</th>\n",
       "      <td>Air India</td>\n",
       "      <td>Kolkata</td>\n",
       "      <td>Banglore</td>\n",
       "      <td>2</td>\n",
       "      <td>No Info</td>\n",
       "      <td>7662</td>\n",
       "      <td>5</td>\n",
       "      <td>1</td>\n",
       "      <td>05</td>\n",
       "      <td>50</td>\n",
       "      <td>13</td>\n",
       "      <td>15</td>\n",
       "      <td>7</td>\n",
       "      <td>25</td>\n",
       "    </tr>\n",
       "  </tbody>\n",
       "</table>\n",
       "</div>"
      ],
      "text/plain": [
       "     Airline    Source Destination Total_Stops Additional_Info  Price  \\\n",
       "0     IndiGo  Banglore       Delhi           0         No Info   3897   \n",
       "1  Air India   Kolkata    Banglore           2         No Info   7662   \n",
       "\n",
       "   DayOfJourney  MonthOfJourney Dep_Hr Dep_Min Arr_Hr Arr_Min Duration_Hr  \\\n",
       "0            24               3     22      20     01      10           2   \n",
       "1             5               1     05      50     13      15           7   \n",
       "\n",
       "  Duration_Min  \n",
       "0           50  \n",
       "1           25  "
      ]
     },
     "execution_count": 1173,
     "metadata": {},
     "output_type": "execute_result"
    }
   ],
   "source": [
    "df.head(2)"
   ]
  },
  {
   "cell_type": "code",
   "execution_count": 1174,
   "id": "0d233276",
   "metadata": {},
   "outputs": [
    {
     "data": {
      "text/plain": [
       "{'Air Asia',\n",
       " 'Air India',\n",
       " 'GoAir',\n",
       " 'IndiGo',\n",
       " 'Jet Airways',\n",
       " 'Jet Airways Business',\n",
       " 'Multiple carriers',\n",
       " 'Multiple carriers Premium economy',\n",
       " 'SpiceJet',\n",
       " 'Trujet',\n",
       " 'Vistara',\n",
       " 'Vistara Premium economy'}"
      ]
     },
     "execution_count": 1174,
     "metadata": {},
     "output_type": "execute_result"
    }
   ],
   "source": [
    "set(df['Airline'])"
   ]
  },
  {
   "cell_type": "markdown",
   "id": "94575b26",
   "metadata": {},
   "source": [
    "# Data Analysis"
   ]
  },
  {
   "cell_type": "code",
   "execution_count": 1175,
   "id": "4920d548",
   "metadata": {},
   "outputs": [
    {
     "data": {
      "image/png": "[encoded data removed]",
      "text/plain": [
       "<Figure size 720x360 with 1 Axes>"
      ]
     },
     "metadata": {
      "needs_background": "light"
     },
     "output_type": "display_data"
    }
   ],
   "source": [
    "plt.figure(figsize=(10,5))\n",
    "sns.countplot(df['Airline'])\n",
    "plt.title('Count of Airlines')\n",
    "plt.xticks(rotation=90) #For names of Airlines\n",
    "plt.show()"
   ]
  },
  {
   "cell_type": "code",
   "execution_count": 1176,
   "id": "ba50bfc3",
   "metadata": {},
   "outputs": [
    {
     "data": {
      "text/plain": [
       "Jet Airways                          3569\n",
       "IndiGo                               2033\n",
       "Air India                            1644\n",
       "Multiple carriers                    1196\n",
       "SpiceJet                              812\n",
       "Vistara                               477\n",
       "Air Asia                              319\n",
       "GoAir                                 194\n",
       "Multiple carriers Premium economy      13\n",
       "Jet Airways Business                    6\n",
       "Vistara Premium economy                 3\n",
       "Trujet                                  1\n",
       "Name: Airline, dtype: int64"
      ]
     },
     "execution_count": 1176,
     "metadata": {},
     "output_type": "execute_result"
    }
   ],
   "source": [
    "df['Airline'].value_counts()"
   ]
  },
  {
   "cell_type": "markdown",
   "id": "f2ac9113",
   "metadata": {},
   "source": [
    "We see that maximum Airlines belongs to JetAirways, so lets analyse which Airline has more prices"
   ]
  },
  {
   "cell_type": "code",
   "execution_count": 1177,
   "id": "88c04c4a",
   "metadata": {},
   "outputs": [
    {
     "data": {
      "text/plain": [
       "<AxesSubplot:xlabel='Price', ylabel='Airline'>"
      ]
     },
     "execution_count": 1177,
     "metadata": {},
     "output_type": "execute_result"
    },
    {
     "data": {
      "image/png": "[encoded data removed]",
      "text/plain": [
       "<Figure size 576x360 with 1 Axes>"
      ]
     },
     "metadata": {
      "needs_background": "light"
     },
     "output_type": "display_data"
    }
   ],
   "source": [
    "plt.figure(figsize=(8,5))\n",
    "sns.barplot(y=\"Airline\",x=\"Price\",data=df)"
   ]
  },
  {
   "cell_type": "markdown",
   "id": "d84a6c6d",
   "metadata": {},
   "source": [
    "So we see that Jet Airways is chargins us more than other flights and this is the most available flight"
   ]
  },
  {
   "cell_type": "code",
   "execution_count": 1178,
   "id": "71558771",
   "metadata": {},
   "outputs": [
    {
     "name": "stdout",
     "output_type": "stream",
     "text": [
      "Count of Source\n",
      "Total number of Source :  5\n",
      "Source Counts :\n",
      " Delhi       4178\n",
      "Kolkata     2850\n",
      "Banglore    2161\n",
      "Mumbai       697\n",
      "Chennai      381\n",
      "Name: Source, dtype: int64\n"
     ]
    },
    {
     "data": {
      "text/plain": [
       "<AxesSubplot:xlabel='Source', ylabel='count'>"
      ]
     },
     "execution_count": 1178,
     "metadata": {},
     "output_type": "execute_result"
    },
    {
     "data": {
      "image/png": "[encoded data removed]",
      "text/plain": [
       "<Figure size 432x288 with 1 Axes>"
      ]
     },
     "metadata": {
      "needs_background": "light"
     },
     "output_type": "display_data"
    }
   ],
   "source": [
    "print('Count of Source')\n",
    "print(\"Total number of Source : \",df['Source'].nunique())\n",
    "source_counts = df['Source'].value_counts()\n",
    "source_counts\n",
    "print('Source Counts :'\"\\n\",source_counts)\n",
    "sns.countplot(df['Source'])"
   ]
  },
  {
   "cell_type": "code",
   "execution_count": 1179,
   "id": "11372516",
   "metadata": {},
   "outputs": [
    {
     "data": {
      "application/vnd.plotly.v1+json": {
       "config": {
        "linkText": "Export to plot.ly",
        "plotlyServerURL": "https://plot.ly",
        "showLink": false
       },
       "data": [
        {
         "labels": [
          "Banglore",
          "Kolkata",
          "Delhi",
          "Chennai",
          "Mumbai"
         ],
         "type": "pie",
         "values": [
          2161,
          2850,
          4178,
          381,
          697
         ]
        }
       ],
       "layout": {
        "template": {
         "data": {
          "bar": [
           {
            "error_x": {
             "color": "#2a3f5f"
            },
            "error_y": {
             "color": "#2a3f5f"
            },
            "marker": {
             "line": {
              "color": "#E5ECF6",
              "width": 0.5
             },
             "pattern": {
              "fillmode": "overlay",
              "size": 10,
              "solidity": 0.2
             }
            },
            "type": "bar"
           }
          ],
          "barpolar": [
           {
            "marker": {
             "line": {
              "color": "#E5ECF6",
              "width": 0.5
             },
             "pattern": {
              "fillmode": "overlay",
              "size": 10,
              "solidity": 0.2
             }
            },
            "type": "barpolar"
           }
          ],
          "carpet": [
           {
            "aaxis": {
             "endlinecolor": "#2a3f5f",
             "gridcolor": "white",
             "linecolor": "white",
             "minorgridcolor": "white",
             "startlinecolor": "#2a3f5f"
            },
            "baxis": {
             "endlinecolor": "#2a3f5f",
             "gridcolor": "white",
             "linecolor": "white",
             "minorgridcolor": "white",
             "startlinecolor": "#2a3f5f"
            },
            "type": "carpet"
           }
          ],
          "choropleth": [
           {
            "colorbar": {
             "outlinewidth": 0,
             "ticks": ""
            },
            "type": "choropleth"
           }
          ],
          "contour": [
           {
            "colorbar": {
             "outlinewidth": 0,
             "ticks": ""
            },
            "colorscale": [
             [
              0,
              "#0d0887"
             ],
             [
              0.1111111111111111,
              "#46039f"
             ],
             [
              0.2222222222222222,
              "#7201a8"
             ],
             [
              0.3333333333333333,
              "#9c179e"
             ],
             [
              0.4444444444444444,
              "#bd3786"
             ],
             [
              0.5555555555555556,
              "#d8576b"
             ],
             [
              0.6666666666666666,
              "#ed7953"
             ],
             [
              0.7777777777777778,
              "#fb9f3a"
             ],
             [
              0.8888888888888888,
              "#fdca26"
             ],
             [
              1,
              "#f0f921"
             ]
            ],
            "type": "contour"
           }
          ],
          "contourcarpet": [
           {
            "colorbar": {
             "outlinewidth": 0,
             "ticks": ""
            },
            "type": "contourcarpet"
           }
          ],
          "heatmap": [
           {
            "colorbar": {
             "outlinewidth": 0,
             "ticks": ""
            },
            "colorscale": [
             [
              0,
              "#0d0887"
             ],
             [
              0.1111111111111111,
              "#46039f"
             ],
             [
              0.2222222222222222,
              "#7201a8"
             ],
             [
              0.3333333333333333,
              "#9c179e"
             ],
             [
              0.4444444444444444,
              "#bd3786"
             ],
             [
              0.5555555555555556,
              "#d8576b"
             ],
             [
              0.6666666666666666,
              "#ed7953"
             ],
             [
              0.7777777777777778,
              "#fb9f3a"
             ],
             [
              0.8888888888888888,
              "#fdca26"
             ],
             [
              1,
              "#f0f921"
             ]
            ],
            "type": "heatmap"
           }
          ],
          "heatmapgl": [
           {
            "colorbar": {
             "outlinewidth": 0,
             "ticks": ""
            },
            "colorscale": [
             [
              0,
              "#0d0887"
             ],
             [
              0.1111111111111111,
              "#46039f"
             ],
             [
              0.2222222222222222,
              "#7201a8"
             ],
             [
              0.3333333333333333,
              "#9c179e"
             ],
             [
              0.4444444444444444,
              "#bd3786"
             ],
             [
              0.5555555555555556,
              "#d8576b"
             ],
             [
              0.6666666666666666,
              "#ed7953"
             ],
             [
              0.7777777777777778,
              "#fb9f3a"
             ],
             [
              0.8888888888888888,
              "#fdca26"
             ],
             [
              1,
              "#f0f921"
             ]
            ],
            "type": "heatmapgl"
           }
          ],
          "histogram": [
           {
            "marker": {
             "pattern": {
              "fillmode": "overlay",
              "size": 10,
              "solidity": 0.2
             }
            },
            "type": "histogram"
           }
          ],
          "histogram2d": [
           {
            "colorbar": {
             "outlinewidth": 0,
             "ticks": ""
            },
            "colorscale": [
             [
              0,
              "#0d0887"
             ],
             [
              0.1111111111111111,
              "#46039f"
             ],
             [
              0.2222222222222222,
              "#7201a8"
             ],
             [
              0.3333333333333333,
              "#9c179e"
             ],
             [
              0.4444444444444444,
              "#bd3786"
             ],
             [
              0.5555555555555556,
              "#d8576b"
             ],
             [
              0.6666666666666666,
              "#ed7953"
             ],
             [
              0.7777777777777778,
              "#fb9f3a"
             ],
             [
              0.8888888888888888,
              "#fdca26"
             ],
             [
              1,
              "#f0f921"
             ]
            ],
            "type": "histogram2d"
           }
          ],
          "histogram2dcontour": [
           {
            "colorbar": {
             "outlinewidth": 0,
             "ticks": ""
            },
            "colorscale": [
             [
              0,
              "#0d0887"
             ],
             [
              0.1111111111111111,
              "#46039f"
             ],
             [
              0.2222222222222222,
              "#7201a8"
             ],
             [
              0.3333333333333333,
              "#9c179e"
             ],
             [
              0.4444444444444444,
              "#bd3786"
             ],
             [
              0.5555555555555556,
              "#d8576b"
             ],
             [
              0.6666666666666666,
              "#ed7953"
             ],
             [
              0.7777777777777778,
              "#fb9f3a"
             ],
             [
              0.8888888888888888,
              "#fdca26"
             ],
             [
              1,
              "#f0f921"
             ]
            ],
            "type": "histogram2dcontour"
           }
          ],
          "mesh3d": [
           {
            "colorbar": {
             "outlinewidth": 0,
             "ticks": ""
            },
            "type": "mesh3d"
           }
          ],
          "parcoords": [
           {
            "line": {
             "colorbar": {
              "outlinewidth": 0,
              "ticks": ""
             }
            },
            "type": "parcoords"
           }
          ],
          "pie": [
           {
            "automargin": true,
            "type": "pie"
           }
          ],
          "scatter": [
           {
            "marker": {
             "colorbar": {
              "outlinewidth": 0,
              "ticks": ""
             }
            },
            "type": "scatter"
           }
          ],
          "scatter3d": [
           {
            "line": {
             "colorbar": {
              "outlinewidth": 0,
              "ticks": ""
             }
            },
            "marker": {
             "colorbar": {
              "outlinewidth": 0,
              "ticks": ""
             }
            },
            "type": "scatter3d"
           }
          ],
          "scattercarpet": [
           {
            "marker": {
             "colorbar": {
              "outlinewidth": 0,
              "ticks": ""
             }
            },
            "type": "scattercarpet"
           }
          ],
          "scattergeo": [
           {
            "marker": {
             "colorbar": {
              "outlinewidth": 0,
              "ticks": ""
             }
            },
            "type": "scattergeo"
           }
          ],
          "scattergl": [
           {
            "marker": {
             "colorbar": {
              "outlinewidth": 0,
              "ticks": ""
             }
            },
            "type": "scattergl"
           }
          ],
          "scattermapbox": [
           {
            "marker": {
             "colorbar": {
              "outlinewidth": 0,
              "ticks": ""
             }
            },
            "type": "scattermapbox"
           }
          ],
          "scatterpolar": [
           {
            "marker": {
             "colorbar": {
              "outlinewidth": 0,
              "ticks": ""
             }
            },
            "type": "scatterpolar"
           }
          ],
          "scatterpolargl": [
           {
            "marker": {
             "colorbar": {
              "outlinewidth": 0,
              "ticks": ""
             }
            },
            "type": "scatterpolargl"
           }
          ],
          "scatterternary": [
           {
            "marker": {
             "colorbar": {
              "outlinewidth": 0,
              "ticks": ""
             }
            },
            "type": "scatterternary"
           }
          ],
          "surface": [
           {
            "colorbar": {
             "outlinewidth": 0,
             "ticks": ""
            },
            "colorscale": [
             [
              0,
              "#0d0887"
             ],
             [
              0.1111111111111111,
              "#46039f"
             ],
             [
              0.2222222222222222,
              "#7201a8"
             ],
             [
              0.3333333333333333,
              "#9c179e"
             ],
             [
              0.4444444444444444,
              "#bd3786"
             ],
             [
              0.5555555555555556,
              "#d8576b"
             ],
             [
              0.6666666666666666,
              "#ed7953"
             ],
             [
              0.7777777777777778,
              "#fb9f3a"
             ],
             [
              0.8888888888888888,
              "#fdca26"
             ],
             [
              1,
              "#f0f921"
             ]
            ],
            "type": "surface"
           }
          ],
          "table": [
           {
            "cells": {
             "fill": {
              "color": "#EBF0F8"
             },
             "line": {
              "color": "white"
             }
            },
            "header": {
             "fill": {
              "color": "#C8D4E3"
             },
             "line": {
              "color": "white"
             }
            },
            "type": "table"
           }
          ]
         },
         "layout": {
          "annotationdefaults": {
           "arrowcolor": "#2a3f5f",
           "arrowhead": 0,
           "arrowwidth": 1
          },
          "autotypenumbers": "strict",
          "coloraxis": {
           "colorbar": {
            "outlinewidth": 0,
            "ticks": ""
           }
          },
          "colorscale": {
           "diverging": [
            [
             0,
             "#8e0152"
            ],
            [
             0.1,
             "#c51b7d"
            ],
            [
             0.2,
             "#de77ae"
            ],
            [
             0.3,
             "#f1b6da"
            ],
            [
             0.4,
             "#fde0ef"
            ],
            [
             0.5,
             "#f7f7f7"
            ],
            [
             0.6,
             "#e6f5d0"
            ],
            [
             0.7,
             "#b8e186"
            ],
            [
             0.8,
             "#7fbc41"
            ],
            [
             0.9,
             "#4d9221"
            ],
            [
             1,
             "#276419"
            ]
           ],
           "sequential": [
            [
             0,
             "#0d0887"
            ],
            [
             0.1111111111111111,
             "#46039f"
            ],
            [
             0.2222222222222222,
             "#7201a8"
            ],
            [
             0.3333333333333333,
             "#9c179e"
            ],
            [
             0.4444444444444444,
             "#bd3786"
            ],
            [
             0.5555555555555556,
             "#d8576b"
            ],
            [
             0.6666666666666666,
             "#ed7953"
            ],
            [
             0.7777777777777778,
             "#fb9f3a"
            ],
            [
             0.8888888888888888,
             "#fdca26"
            ],
            [
             1,
             "#f0f921"
            ]
           ],
           "sequentialminus": [
            [
             0,
             "#0d0887"
            ],
            [
             0.1111111111111111,
             "#46039f"
            ],
            [
             0.2222222222222222,
             "#7201a8"
            ],
            [
             0.3333333333333333,
             "#9c179e"
            ],
            [
             0.4444444444444444,
             "#bd3786"
            ],
            [
             0.5555555555555556,
             "#d8576b"
            ],
            [
             0.6666666666666666,
             "#ed7953"
            ],
            [
             0.7777777777777778,
             "#fb9f3a"
            ],
            [
             0.8888888888888888,
             "#fdca26"
            ],
            [
             1,
             "#f0f921"
            ]
           ]
          },
          "colorway": [
           "#636efa",
           "#EF553B",
           "#00cc96",
           "#ab63fa",
           "#FFA15A",
           "#19d3f3",
           "#FF6692",
           "#B6E880",
           "#FF97FF",
           "#FECB52"
          ],
          "font": {
           "color": "#2a3f5f"
          },
          "geo": {
           "bgcolor": "white",
           "lakecolor": "white",
           "landcolor": "#E5ECF6",
           "showlakes": true,
           "showland": true,
           "subunitcolor": "white"
          },
          "hoverlabel": {
           "align": "left"
          },
          "hovermode": "closest",
          "mapbox": {
           "style": "light"
          },
          "paper_bgcolor": "white",
          "plot_bgcolor": "#E5ECF6",
          "polar": {
           "angularaxis": {
            "gridcolor": "white",
            "linecolor": "white",
            "ticks": ""
           },
           "bgcolor": "#E5ECF6",
           "radialaxis": {
            "gridcolor": "white",
            "linecolor": "white",
            "ticks": ""
           }
          },
          "scene": {
           "xaxis": {
            "backgroundcolor": "#E5ECF6",
            "gridcolor": "white",
            "gridwidth": 2,
            "linecolor": "white",
            "showbackground": true,
            "ticks": "",
            "zerolinecolor": "white"
           },
           "yaxis": {
            "backgroundcolor": "#E5ECF6",
            "gridcolor": "white",
            "gridwidth": 2,
            "linecolor": "white",
            "showbackground": true,
            "ticks": "",
            "zerolinecolor": "white"
           },
           "zaxis": {
            "backgroundcolor": "#E5ECF6",
            "gridcolor": "white",
            "gridwidth": 2,
            "linecolor": "white",
            "showbackground": true,
            "ticks": "",
            "zerolinecolor": "white"
           }
          },
          "shapedefaults": {
           "line": {
            "color": "#2a3f5f"
           }
          },
          "ternary": {
           "aaxis": {
            "gridcolor": "white",
            "linecolor": "white",
            "ticks": ""
           },
           "baxis": {
            "gridcolor": "white",
            "linecolor": "white",
            "ticks": ""
           },
           "bgcolor": "#E5ECF6",
           "caxis": {
            "gridcolor": "white",
            "linecolor": "white",
            "ticks": ""
           }
          },
          "title": {
           "x": 0.05
          },
          "xaxis": {
           "automargin": true,
           "gridcolor": "white",
           "linecolor": "white",
           "ticks": "",
           "title": {
            "standoff": 15
           },
           "zerolinecolor": "white",
           "zerolinewidth": 2
          },
          "yaxis": {
           "automargin": true,
           "gridcolor": "white",
           "linecolor": "white",
           "ticks": "",
           "title": {
            "standoff": 15
           },
           "zerolinecolor": "white",
           "zerolinewidth": 2
          }
         }
        }
       }
      },
      "text/html": [
       "<div>                            <div id=\"941bdfa2-cf65-48f5-b125-9f09f35ddd01\" class=\"plotly-graph-div\" style=\"height:525px; width:100%;\"></div>            <script type=\"text/javascript\">                require([\"plotly\"], function(Plotly) {                    window.PLOTLYENV=window.PLOTLYENV || {};                                    if (document.getElementById(\"941bdfa2-cf65-48f5-b125-9f09f35ddd01\")) {                    Plotly.newPlot(                        \"941bdfa2-cf65-48f5-b125-9f09f35ddd01\",                        [{\"labels\":[\"Banglore\",\"Kolkata\",\"Delhi\",\"Chennai\",\"Mumbai\"],\"values\":[2161,2850,4178,381,697],\"type\":\"pie\"}],                        {\"template\":{\"data\":{\"barpolar\":[{\"marker\":{\"line\":{\"color\":\"#E5ECF6\",\"width\":0.5},\"pattern\":{\"fillmode\":\"overlay\",\"size\":10,\"solidity\":0.2}},\"type\":\"barpolar\"}],\"bar\":[{\"error_x\":{\"color\":\"#2a3f5f\"},\"error_y\":{\"color\":\"#2a3f5f\"},\"marker\":{\"line\":{\"color\":\"#E5ECF6\",\"width\":0.5},\"pattern\":{\"fillmode\":\"overlay\",\"size\":10,\"solidity\":0.2}},\"type\":\"bar\"}],\"carpet\":[{\"aaxis\":{\"endlinecolor\":\"#2a3f5f\",\"gridcolor\":\"white\",\"linecolor\":\"white\",\"minorgridcolor\":\"white\",\"startlinecolor\":\"#2a3f5f\"},\"baxis\":{\"endlinecolor\":\"#2a3f5f\",\"gridcolor\":\"white\",\"linecolor\":\"white\",\"minorgridcolor\":\"white\",\"startlinecolor\":\"#2a3f5f\"},\"type\":\"carpet\"}],\"choropleth\":[{\"colorbar\":{\"outlinewidth\":0,\"ticks\":\"\"},\"type\":\"choropleth\"}],\"contourcarpet\":[{\"colorbar\":{\"outlinewidth\":0,\"ticks\":\"\"},\"type\":\"contourcarpet\"}],\"contour\":[{\"colorbar\":{\"outlinewidth\":0,\"ticks\":\"\"},\"colorscale\":[[0.0,\"#0d0887\"],[0.1111111111111111,\"#46039f\"],[0.2222222222222222,\"#7201a8\"],[0.3333333333333333,\"#9c179e\"],[0.4444444444444444,\"#bd3786\"],[0.5555555555555556,\"#d8576b\"],[0.6666666666666666,\"#ed7953\"],[0.7777777777777778,\"#fb9f3a\"],[0.8888888888888888,\"#fdca26\"],[1.0,\"#f0f921\"]],\"type\":\"contour\"}],\"heatmapgl\":[{\"colorbar\":{\"outlinewidth\":0,\"ticks\":\"\"},\"colorscale\":[[0.0,\"#0d0887\"],[0.1111111111111111,\"#46039f\"],[0.2222222222222222,\"#7201a8\"],[0.3333333333333333,\"#9c179e\"],[0.4444444444444444,\"#bd3786\"],[0.5555555555555556,\"#d8576b\"],[0.6666666666666666,\"#ed7953\"],[0.7777777777777778,\"#fb9f3a\"],[0.8888888888888888,\"#fdca26\"],[1.0,\"#f0f921\"]],\"type\":\"heatmapgl\"}],\"heatmap\":[{\"colorbar\":{\"outlinewidth\":0,\"ticks\":\"\"},\"colorscale\":[[0.0,\"#0d0887\"],[0.1111111111111111,\"#46039f\"],[0.2222222222222222,\"#7201a8\"],[0.3333333333333333,\"#9c179e\"],[0.4444444444444444,\"#bd3786\"],[0.5555555555555556,\"#d8576b\"],[0.6666666666666666,\"#ed7953\"],[0.7777777777777778,\"#fb9f3a\"],[0.8888888888888888,\"#fdca26\"],[1.0,\"#f0f921\"]],\"type\":\"heatmap\"}],\"histogram2dcontour\":[{\"colorbar\":{\"outlinewidth\":0,\"ticks\":\"\"},\"colorscale\":[[0.0,\"#0d0887\"],[0.1111111111111111,\"#46039f\"],[0.2222222222222222,\"#7201a8\"],[0.3333333333333333,\"#9c179e\"],[0.4444444444444444,\"#bd3786\"],[0.5555555555555556,\"#d8576b\"],[0.6666666666666666,\"#ed7953\"],[0.7777777777777778,\"#fb9f3a\"],[0.8888888888888888,\"#fdca26\"],[1.0,\"#f0f921\"]],\"type\":\"histogram2dcontour\"}],\"histogram2d\":[{\"colorbar\":{\"outlinewidth\":0,\"ticks\":\"\"},\"colorscale\":[[0.0,\"#0d0887\"],[0.1111111111111111,\"#46039f\"],[0.2222222222222222,\"#7201a8\"],[0.3333333333333333,\"#9c179e\"],[0.4444444444444444,\"#bd3786\"],[0.5555555555555556,\"#d8576b\"],[0.6666666666666666,\"#ed7953\"],[0.7777777777777778,\"#fb9f3a\"],[0.8888888888888888,\"#fdca26\"],[1.0,\"#f0f921\"]],\"type\":\"histogram2d\"}],\"histogram\":[{\"marker\":{\"pattern\":{\"fillmode\":\"overlay\",\"size\":10,\"solidity\":0.2}},\"type\":\"histogram\"}],\"mesh3d\":[{\"colorbar\":{\"outlinewidth\":0,\"ticks\":\"\"},\"type\":\"mesh3d\"}],\"parcoords\":[{\"line\":{\"colorbar\":{\"outlinewidth\":0,\"ticks\":\"\"}},\"type\":\"parcoords\"}],\"pie\":[{\"automargin\":true,\"type\":\"pie\"}],\"scatter3d\":[{\"line\":{\"colorbar\":{\"outlinewidth\":0,\"ticks\":\"\"}},\"marker\":{\"colorbar\":{\"outlinewidth\":0,\"ticks\":\"\"}},\"type\":\"scatter3d\"}],\"scattercarpet\":[{\"marker\":{\"colorbar\":{\"outlinewidth\":0,\"ticks\":\"\"}},\"type\":\"scattercarpet\"}],\"scattergeo\":[{\"marker\":{\"colorbar\":{\"outlinewidth\":0,\"ticks\":\"\"}},\"type\":\"scattergeo\"}],\"scattergl\":[{\"marker\":{\"colorbar\":{\"outlinewidth\":0,\"ticks\":\"\"}},\"type\":\"scattergl\"}],\"scattermapbox\":[{\"marker\":{\"colorbar\":{\"outlinewidth\":0,\"ticks\":\"\"}},\"type\":\"scattermapbox\"}],\"scatterpolargl\":[{\"marker\":{\"colorbar\":{\"outlinewidth\":0,\"ticks\":\"\"}},\"type\":\"scatterpolargl\"}],\"scatterpolar\":[{\"marker\":{\"colorbar\":{\"outlinewidth\":0,\"ticks\":\"\"}},\"type\":\"scatterpolar\"}],\"scatter\":[{\"marker\":{\"colorbar\":{\"outlinewidth\":0,\"ticks\":\"\"}},\"type\":\"scatter\"}],\"scatterternary\":[{\"marker\":{\"colorbar\":{\"outlinewidth\":0,\"ticks\":\"\"}},\"type\":\"scatterternary\"}],\"surface\":[{\"colorbar\":{\"outlinewidth\":0,\"ticks\":\"\"},\"colorscale\":[[0.0,\"#0d0887\"],[0.1111111111111111,\"#46039f\"],[0.2222222222222222,\"#7201a8\"],[0.3333333333333333,\"#9c179e\"],[0.4444444444444444,\"#bd3786\"],[0.5555555555555556,\"#d8576b\"],[0.6666666666666666,\"#ed7953\"],[0.7777777777777778,\"#fb9f3a\"],[0.8888888888888888,\"#fdca26\"],[1.0,\"#f0f921\"]],\"type\":\"surface\"}],\"table\":[{\"cells\":{\"fill\":{\"color\":\"#EBF0F8\"},\"line\":{\"color\":\"white\"}},\"header\":{\"fill\":{\"color\":\"#C8D4E3\"},\"line\":{\"color\":\"white\"}},\"type\":\"table\"}]},\"layout\":{\"annotationdefaults\":{\"arrowcolor\":\"#2a3f5f\",\"arrowhead\":0,\"arrowwidth\":1},\"autotypenumbers\":\"strict\",\"coloraxis\":{\"colorbar\":{\"outlinewidth\":0,\"ticks\":\"\"}},\"colorscale\":{\"diverging\":[[0,\"#8e0152\"],[0.1,\"#c51b7d\"],[0.2,\"#de77ae\"],[0.3,\"#f1b6da\"],[0.4,\"#fde0ef\"],[0.5,\"#f7f7f7\"],[0.6,\"#e6f5d0\"],[0.7,\"#b8e186\"],[0.8,\"#7fbc41\"],[0.9,\"#4d9221\"],[1,\"#276419\"]],\"sequential\":[[0.0,\"#0d0887\"],[0.1111111111111111,\"#46039f\"],[0.2222222222222222,\"#7201a8\"],[0.3333333333333333,\"#9c179e\"],[0.4444444444444444,\"#bd3786\"],[0.5555555555555556,\"#d8576b\"],[0.6666666666666666,\"#ed7953\"],[0.7777777777777778,\"#fb9f3a\"],[0.8888888888888888,\"#fdca26\"],[1.0,\"#f0f921\"]],\"sequentialminus\":[[0.0,\"#0d0887\"],[0.1111111111111111,\"#46039f\"],[0.2222222222222222,\"#7201a8\"],[0.3333333333333333,\"#9c179e\"],[0.4444444444444444,\"#bd3786\"],[0.5555555555555556,\"#d8576b\"],[0.6666666666666666,\"#ed7953\"],[0.7777777777777778,\"#fb9f3a\"],[0.8888888888888888,\"#fdca26\"],[1.0,\"#f0f921\"]]},\"colorway\":[\"#636efa\",\"#EF553B\",\"#00cc96\",\"#ab63fa\",\"#FFA15A\",\"#19d3f3\",\"#FF6692\",\"#B6E880\",\"#FF97FF\",\"#FECB52\"],\"font\":{\"color\":\"#2a3f5f\"},\"geo\":{\"bgcolor\":\"white\",\"lakecolor\":\"white\",\"landcolor\":\"#E5ECF6\",\"showlakes\":true,\"showland\":true,\"subunitcolor\":\"white\"},\"hoverlabel\":{\"align\":\"left\"},\"hovermode\":\"closest\",\"mapbox\":{\"style\":\"light\"},\"paper_bgcolor\":\"white\",\"plot_bgcolor\":\"#E5ECF6\",\"polar\":{\"angularaxis\":{\"gridcolor\":\"white\",\"linecolor\":\"white\",\"ticks\":\"\"},\"bgcolor\":\"#E5ECF6\",\"radialaxis\":{\"gridcolor\":\"white\",\"linecolor\":\"white\",\"ticks\":\"\"}},\"scene\":{\"xaxis\":{\"backgroundcolor\":\"#E5ECF6\",\"gridcolor\":\"white\",\"gridwidth\":2,\"linecolor\":\"white\",\"showbackground\":true,\"ticks\":\"\",\"zerolinecolor\":\"white\"},\"yaxis\":{\"backgroundcolor\":\"#E5ECF6\",\"gridcolor\":\"white\",\"gridwidth\":2,\"linecolor\":\"white\",\"showbackground\":true,\"ticks\":\"\",\"zerolinecolor\":\"white\"},\"zaxis\":{\"backgroundcolor\":\"#E5ECF6\",\"gridcolor\":\"white\",\"gridwidth\":2,\"linecolor\":\"white\",\"showbackground\":true,\"ticks\":\"\",\"zerolinecolor\":\"white\"}},\"shapedefaults\":{\"line\":{\"color\":\"#2a3f5f\"}},\"ternary\":{\"aaxis\":{\"gridcolor\":\"white\",\"linecolor\":\"white\",\"ticks\":\"\"},\"baxis\":{\"gridcolor\":\"white\",\"linecolor\":\"white\",\"ticks\":\"\"},\"bgcolor\":\"#E5ECF6\",\"caxis\":{\"gridcolor\":\"white\",\"linecolor\":\"white\",\"ticks\":\"\"}},\"title\":{\"x\":0.05},\"xaxis\":{\"automargin\":true,\"gridcolor\":\"white\",\"linecolor\":\"white\",\"ticks\":\"\",\"title\":{\"standoff\":15},\"zerolinecolor\":\"white\",\"zerolinewidth\":2},\"yaxis\":{\"automargin\":true,\"gridcolor\":\"white\",\"linecolor\":\"white\",\"ticks\":\"\",\"title\":{\"standoff\":15},\"zerolinecolor\":\"white\",\"zerolinewidth\":2}}}},                        {\"responsive\": true}                    ).then(function(){\n",
       "                            \n",
       "var gd = document.getElementById('941bdfa2-cf65-48f5-b125-9f09f35ddd01');\n",
       "var x = new MutationObserver(function (mutations, observer) {{\n",
       "        var display = window.getComputedStyle(gd).display;\n",
       "        if (!display || display === 'none') {{\n",
       "            console.log([gd, 'removed!']);\n",
       "            Plotly.purge(gd);\n",
       "            observer.disconnect();\n",
       "        }}\n",
       "}});\n",
       "\n",
       "// Listen for the removal of the full notebook cells\n",
       "var notebookContainer = gd.closest('#notebook-container');\n",
       "if (notebookContainer) {{\n",
       "    x.observe(notebookContainer, {childList: true});\n",
       "}}\n",
       "\n",
       "// Listen for the clearing of the current output cell\n",
       "var outputEl = gd.closest('.output');\n",
       "if (outputEl) {{\n",
       "    x.observe(outputEl, {childList: true});\n",
       "}}\n",
       "\n",
       "                        })                };                });            </script>        </div>"
      ]
     },
     "metadata": {},
     "output_type": "display_data"
    }
   ],
   "source": [
    "import plotly.offline as py\n",
    "import plotly.graph_objs as go\n",
    "source=[source_counts['Banglore'],\n",
    "       source_counts['Kolkata'],\n",
    "       source_counts['Delhi'],\n",
    "       source_counts['Chennai'],\n",
    "       source_counts['Mumbai'],\n",
    "        \n",
    "      ]\n",
    "data_label=['Banglore', 'Kolkata','Delhi', 'Chennai', 'Mumbai']\n",
    "\n",
    "source_pieChart=go.Pie(labels=data_label,values=source)\n",
    "py.iplot([source_pieChart])"
   ]
  },
  {
   "cell_type": "markdown",
   "id": "8e3a36e1",
   "metadata": {},
   "source": [
    "Maximum flight departs from Delhi (40.7%),followed by Kolkata,Banglore,Mumbai and Chennai"
   ]
  },
  {
   "cell_type": "code",
   "execution_count": 1180,
   "id": "66f662ff",
   "metadata": {},
   "outputs": [
    {
     "data": {
      "image/png": "[encoded data removed]",
      "text/plain": [
       "<Figure size 864x432 with 1 Axes>"
      ]
     },
     "metadata": {
      "needs_background": "light"
     },
     "output_type": "display_data"
    }
   ],
   "source": [
    "plt.figure(figsize=(12,6))\n",
    "sns.stripplot(df['Source'], df['Price'])\n",
    "plt.title('Source vs Price', size=18)\n",
    "plt.xticks(rotation=90)\n",
    "plt.show()"
   ]
  },
  {
   "cell_type": "markdown",
   "id": "122f577f",
   "metadata": {},
   "source": [
    "In the range till 20000, we see that maximumn prices are from the Source Delhi "
   ]
  },
  {
   "cell_type": "code",
   "execution_count": 1181,
   "id": "3330b275",
   "metadata": {},
   "outputs": [
    {
     "name": "stdout",
     "output_type": "stream",
     "text": [
      "Count of Destination\n",
      "Total number of Destination :  5\n",
      "Destination Counts :\n",
      " Cochin       4178\n",
      "Banglore     2850\n",
      "Delhi        2161\n",
      "Hyderabad     697\n",
      "Kolkata       381\n",
      "Name: Destination, dtype: int64\n"
     ]
    },
    {
     "data": {
      "text/plain": [
       "<AxesSubplot:xlabel='Destination', ylabel='count'>"
      ]
     },
     "execution_count": 1181,
     "metadata": {},
     "output_type": "execute_result"
    },
    {
     "data": {
      "image/png": "[encoded data removed]",
      "text/plain": [
       "<Figure size 432x288 with 1 Axes>"
      ]
     },
     "metadata": {
      "needs_background": "light"
     },
     "output_type": "display_data"
    }
   ],
   "source": [
    "print('Count of Destination')\n",
    "print(\"Total number of Destination : \",df['Destination'].nunique())\n",
    "dest_counts = df['Destination'].value_counts()\n",
    "dest_counts\n",
    "print('Destination Counts :'\"\\n\",dest_counts)\n",
    "sns.countplot(df['Destination'])"
   ]
  },
  {
   "cell_type": "code",
   "execution_count": 1182,
   "id": "a65aa2de",
   "metadata": {},
   "outputs": [
    {
     "data": {
      "application/vnd.plotly.v1+json": {
       "config": {
        "linkText": "Export to plot.ly",
        "plotlyServerURL": "https://plot.ly",
        "showLink": false
       },
       "data": [
        {
         "labels": [
          "Delhi",
          "Banglore",
          "Cochin",
          "Kolkata",
          "Hyderabad"
         ],
         "type": "pie",
         "values": [
          2161,
          2850,
          4178,
          381,
          697
         ]
        }
       ],
       "layout": {
        "template": {
         "data": {
          "bar": [
           {
            "error_x": {
             "color": "#2a3f5f"
            },
            "error_y": {
             "color": "#2a3f5f"
            },
            "marker": {
             "line": {
              "color": "#E5ECF6",
              "width": 0.5
             },
             "pattern": {
              "fillmode": "overlay",
              "size": 10,
              "solidity": 0.2
             }
            },
            "type": "bar"
           }
          ],
          "barpolar": [
           {
            "marker": {
             "line": {
              "color": "#E5ECF6",
              "width": 0.5
             },
             "pattern": {
              "fillmode": "overlay",
              "size": 10,
              "solidity": 0.2
             }
            },
            "type": "barpolar"
           }
          ],
          "carpet": [
           {
            "aaxis": {
             "endlinecolor": "#2a3f5f",
             "gridcolor": "white",
             "linecolor": "white",
             "minorgridcolor": "white",
             "startlinecolor": "#2a3f5f"
            },
            "baxis": {
             "endlinecolor": "#2a3f5f",
             "gridcolor": "white",
             "linecolor": "white",
             "minorgridcolor": "white",
             "startlinecolor": "#2a3f5f"
            },
            "type": "carpet"
           }
          ],
          "choropleth": [
           {
            "colorbar": {
             "outlinewidth": 0,
             "ticks": ""
            },
            "type": "choropleth"
           }
          ],
          "contour": [
           {
            "colorbar": {
             "outlinewidth": 0,
             "ticks": ""
            },
            "colorscale": [
             [
              0,
              "#0d0887"
             ],
             [
              0.1111111111111111,
              "#46039f"
             ],
             [
              0.2222222222222222,
              "#7201a8"
             ],
             [
              0.3333333333333333,
              "#9c179e"
             ],
             [
              0.4444444444444444,
              "#bd3786"
             ],
             [
              0.5555555555555556,
              "#d8576b"
             ],
             [
              0.6666666666666666,
              "#ed7953"
             ],
             [
              0.7777777777777778,
              "#fb9f3a"
             ],
             [
              0.8888888888888888,
              "#fdca26"
             ],
             [
              1,
              "#f0f921"
             ]
            ],
            "type": "contour"
           }
          ],
          "contourcarpet": [
           {
            "colorbar": {
             "outlinewidth": 0,
             "ticks": ""
            },
            "type": "contourcarpet"
           }
          ],
          "heatmap": [
           {
            "colorbar": {
             "outlinewidth": 0,
             "ticks": ""
            },
            "colorscale": [
             [
              0,
              "#0d0887"
             ],
             [
              0.1111111111111111,
              "#46039f"
             ],
             [
              0.2222222222222222,
              "#7201a8"
             ],
             [
              0.3333333333333333,
              "#9c179e"
             ],
             [
              0.4444444444444444,
              "#bd3786"
             ],
             [
              0.5555555555555556,
              "#d8576b"
             ],
             [
              0.6666666666666666,
              "#ed7953"
             ],
             [
              0.7777777777777778,
              "#fb9f3a"
             ],
             [
              0.8888888888888888,
              "#fdca26"
             ],
             [
              1,
              "#f0f921"
             ]
            ],
            "type": "heatmap"
           }
          ],
          "heatmapgl": [
           {
            "colorbar": {
             "outlinewidth": 0,
             "ticks": ""
            },
            "colorscale": [
             [
              0,
              "#0d0887"
             ],
             [
              0.1111111111111111,
              "#46039f"
             ],
             [
              0.2222222222222222,
              "#7201a8"
             ],
             [
              0.3333333333333333,
              "#9c179e"
             ],
             [
              0.4444444444444444,
              "#bd3786"
             ],
             [
              0.5555555555555556,
              "#d8576b"
             ],
             [
              0.6666666666666666,
              "#ed7953"
             ],
             [
              0.7777777777777778,
              "#fb9f3a"
             ],
             [
              0.8888888888888888,
              "#fdca26"
             ],
             [
              1,
              "#f0f921"
             ]
            ],
            "type": "heatmapgl"
           }
          ],
          "histogram": [
           {
            "marker": {
             "pattern": {
              "fillmode": "overlay",
              "size": 10,
              "solidity": 0.2
             }
            },
            "type": "histogram"
           }
          ],
          "histogram2d": [
           {
            "colorbar": {
             "outlinewidth": 0,
             "ticks": ""
            },
            "colorscale": [
             [
              0,
              "#0d0887"
             ],
             [
              0.1111111111111111,
              "#46039f"
             ],
             [
              0.2222222222222222,
              "#7201a8"
             ],
             [
              0.3333333333333333,
              "#9c179e"
             ],
             [
              0.4444444444444444,
              "#bd3786"
             ],
             [
              0.5555555555555556,
              "#d8576b"
             ],
             [
              0.6666666666666666,
              "#ed7953"
             ],
             [
              0.7777777777777778,
              "#fb9f3a"
             ],
             [
              0.8888888888888888,
              "#fdca26"
             ],
             [
              1,
              "#f0f921"
             ]
            ],
            "type": "histogram2d"
           }
          ],
          "histogram2dcontour": [
           {
            "colorbar": {
             "outlinewidth": 0,
             "ticks": ""
            },
            "colorscale": [
             [
              0,
              "#0d0887"
             ],
             [
              0.1111111111111111,
              "#46039f"
             ],
             [
              0.2222222222222222,
              "#7201a8"
             ],
             [
              0.3333333333333333,
              "#9c179e"
             ],
             [
              0.4444444444444444,
              "#bd3786"
             ],
             [
              0.5555555555555556,
              "#d8576b"
             ],
             [
              0.6666666666666666,
              "#ed7953"
             ],
             [
              0.7777777777777778,
              "#fb9f3a"
             ],
             [
              0.8888888888888888,
              "#fdca26"
             ],
             [
              1,
              "#f0f921"
             ]
            ],
            "type": "histogram2dcontour"
           }
          ],
          "mesh3d": [
           {
            "colorbar": {
             "outlinewidth": 0,
             "ticks": ""
            },
            "type": "mesh3d"
           }
          ],
          "parcoords": [
           {
            "line": {
             "colorbar": {
              "outlinewidth": 0,
              "ticks": ""
             }
            },
            "type": "parcoords"
           }
          ],
          "pie": [
           {
            "automargin": true,
            "type": "pie"
           }
          ],
          "scatter": [
           {
            "marker": {
             "colorbar": {
              "outlinewidth": 0,
              "ticks": ""
             }
            },
            "type": "scatter"
           }
          ],
          "scatter3d": [
           {
            "line": {
             "colorbar": {
              "outlinewidth": 0,
              "ticks": ""
             }
            },
            "marker": {
             "colorbar": {
              "outlinewidth": 0,
              "ticks": ""
             }
            },
            "type": "scatter3d"
           }
          ],
          "scattercarpet": [
           {
            "marker": {
             "colorbar": {
              "outlinewidth": 0,
              "ticks": ""
             }
            },
            "type": "scattercarpet"
           }
          ],
          "scattergeo": [
           {
            "marker": {
             "colorbar": {
              "outlinewidth": 0,
              "ticks": ""
             }
            },
            "type": "scattergeo"
           }
          ],
          "scattergl": [
           {
            "marker": {
             "colorbar": {
              "outlinewidth": 0,
              "ticks": ""
             }
            },
            "type": "scattergl"
           }
          ],
          "scattermapbox": [
           {
            "marker": {
             "colorbar": {
              "outlinewidth": 0,
              "ticks": ""
             }
            },
            "type": "scattermapbox"
           }
          ],
          "scatterpolar": [
           {
            "marker": {
             "colorbar": {
              "outlinewidth": 0,
              "ticks": ""
             }
            },
            "type": "scatterpolar"
           }
          ],
          "scatterpolargl": [
           {
            "marker": {
             "colorbar": {
              "outlinewidth": 0,
              "ticks": ""
             }
            },
            "type": "scatterpolargl"
           }
          ],
          "scatterternary": [
           {
            "marker": {
             "colorbar": {
              "outlinewidth": 0,
              "ticks": ""
             }
            },
            "type": "scatterternary"
           }
          ],
          "surface": [
           {
            "colorbar": {
             "outlinewidth": 0,
             "ticks": ""
            },
            "colorscale": [
             [
              0,
              "#0d0887"
             ],
             [
              0.1111111111111111,
              "#46039f"
             ],
             [
              0.2222222222222222,
              "#7201a8"
             ],
             [
              0.3333333333333333,
              "#9c179e"
             ],
             [
              0.4444444444444444,
              "#bd3786"
             ],
             [
              0.5555555555555556,
              "#d8576b"
             ],
             [
              0.6666666666666666,
              "#ed7953"
             ],
             [
              0.7777777777777778,
              "#fb9f3a"
             ],
             [
              0.8888888888888888,
              "#fdca26"
             ],
             [
              1,
              "#f0f921"
             ]
            ],
            "type": "surface"
           }
          ],
          "table": [
           {
            "cells": {
             "fill": {
              "color": "#EBF0F8"
             },
             "line": {
              "color": "white"
             }
            },
            "header": {
             "fill": {
              "color": "#C8D4E3"
             },
             "line": {
              "color": "white"
             }
            },
            "type": "table"
           }
          ]
         },
         "layout": {
          "annotationdefaults": {
           "arrowcolor": "#2a3f5f",
           "arrowhead": 0,
           "arrowwidth": 1
          },
          "autotypenumbers": "strict",
          "coloraxis": {
           "colorbar": {
            "outlinewidth": 0,
            "ticks": ""
           }
          },
          "colorscale": {
           "diverging": [
            [
             0,
             "#8e0152"
            ],
            [
             0.1,
             "#c51b7d"
            ],
            [
             0.2,
             "#de77ae"
            ],
            [
             0.3,
             "#f1b6da"
            ],
            [
             0.4,
             "#fde0ef"
            ],
            [
             0.5,
             "#f7f7f7"
            ],
            [
             0.6,
             "#e6f5d0"
            ],
            [
             0.7,
             "#b8e186"
            ],
            [
             0.8,
             "#7fbc41"
            ],
            [
             0.9,
             "#4d9221"
            ],
            [
             1,
             "#276419"
            ]
           ],
           "sequential": [
            [
             0,
             "#0d0887"
            ],
            [
             0.1111111111111111,
             "#46039f"
            ],
            [
             0.2222222222222222,
             "#7201a8"
            ],
            [
             0.3333333333333333,
             "#9c179e"
            ],
            [
             0.4444444444444444,
             "#bd3786"
            ],
            [
             0.5555555555555556,
             "#d8576b"
            ],
            [
             0.6666666666666666,
             "#ed7953"
            ],
            [
             0.7777777777777778,
             "#fb9f3a"
            ],
            [
             0.8888888888888888,
             "#fdca26"
            ],
            [
             1,
             "#f0f921"
            ]
           ],
           "sequentialminus": [
            [
             0,
             "#0d0887"
            ],
            [
             0.1111111111111111,
             "#46039f"
            ],
            [
             0.2222222222222222,
             "#7201a8"
            ],
            [
             0.3333333333333333,
             "#9c179e"
            ],
            [
             0.4444444444444444,
             "#bd3786"
            ],
            [
             0.5555555555555556,
             "#d8576b"
            ],
            [
             0.6666666666666666,
             "#ed7953"
            ],
            [
             0.7777777777777778,
             "#fb9f3a"
            ],
            [
             0.8888888888888888,
             "#fdca26"
            ],
            [
             1,
             "#f0f921"
            ]
           ]
          },
          "colorway": [
           "#636efa",
           "#EF553B",
           "#00cc96",
           "#ab63fa",
           "#FFA15A",
           "#19d3f3",
           "#FF6692",
           "#B6E880",
           "#FF97FF",
           "#FECB52"
          ],
          "font": {
           "color": "#2a3f5f"
          },
          "geo": {
           "bgcolor": "white",
           "lakecolor": "white",
           "landcolor": "#E5ECF6",
           "showlakes": true,
           "showland": true,
           "subunitcolor": "white"
          },
          "hoverlabel": {
           "align": "left"
          },
          "hovermode": "closest",
          "mapbox": {
           "style": "light"
          },
          "paper_bgcolor": "white",
          "plot_bgcolor": "#E5ECF6",
          "polar": {
           "angularaxis": {
            "gridcolor": "white",
            "linecolor": "white",
            "ticks": ""
           },
           "bgcolor": "#E5ECF6",
           "radialaxis": {
            "gridcolor": "white",
            "linecolor": "white",
            "ticks": ""
           }
          },
          "scene": {
           "xaxis": {
            "backgroundcolor": "#E5ECF6",
            "gridcolor": "white",
            "gridwidth": 2,
            "linecolor": "white",
            "showbackground": true,
            "ticks": "",
            "zerolinecolor": "white"
           },
           "yaxis": {
            "backgroundcolor": "#E5ECF6",
            "gridcolor": "white",
            "gridwidth": 2,
            "linecolor": "white",
            "showbackground": true,
            "ticks": "",
            "zerolinecolor": "white"
           },
           "zaxis": {
            "backgroundcolor": "#E5ECF6",
            "gridcolor": "white",
            "gridwidth": 2,
            "linecolor": "white",
            "showbackground": true,
            "ticks": "",
            "zerolinecolor": "white"
           }
          },
          "shapedefaults": {
           "line": {
            "color": "#2a3f5f"
           }
          },
          "ternary": {
           "aaxis": {
            "gridcolor": "white",
            "linecolor": "white",
            "ticks": ""
           },
           "baxis": {
            "gridcolor": "white",
            "linecolor": "white",
            "ticks": ""
           },
           "bgcolor": "#E5ECF6",
           "caxis": {
            "gridcolor": "white",
            "linecolor": "white",
            "ticks": ""
           }
          },
          "title": {
           "x": 0.05
          },
          "xaxis": {
           "automargin": true,
           "gridcolor": "white",
           "linecolor": "white",
           "ticks": "",
           "title": {
            "standoff": 15
           },
           "zerolinecolor": "white",
           "zerolinewidth": 2
          },
          "yaxis": {
           "automargin": true,
           "gridcolor": "white",
           "linecolor": "white",
           "ticks": "",
           "title": {
            "standoff": 15
           },
           "zerolinecolor": "white",
           "zerolinewidth": 2
          }
         }
        }
       }
      },
      "text/html": [
       "<div>                            <div id=\"84caa5cd-48b7-409f-b842-3cff367357a2\" class=\"plotly-graph-div\" style=\"height:525px; width:100%;\"></div>            <script type=\"text/javascript\">                require([\"plotly\"], function(Plotly) {                    window.PLOTLYENV=window.PLOTLYENV || {};                                    if (document.getElementById(\"84caa5cd-48b7-409f-b842-3cff367357a2\")) {                    Plotly.newPlot(                        \"84caa5cd-48b7-409f-b842-3cff367357a2\",                        [{\"labels\":[\"Delhi\",\"Banglore\",\"Cochin\",\"Kolkata\",\"Hyderabad\"],\"values\":[2161,2850,4178,381,697],\"type\":\"pie\"}],                        {\"template\":{\"data\":{\"barpolar\":[{\"marker\":{\"line\":{\"color\":\"#E5ECF6\",\"width\":0.5},\"pattern\":{\"fillmode\":\"overlay\",\"size\":10,\"solidity\":0.2}},\"type\":\"barpolar\"}],\"bar\":[{\"error_x\":{\"color\":\"#2a3f5f\"},\"error_y\":{\"color\":\"#2a3f5f\"},\"marker\":{\"line\":{\"color\":\"#E5ECF6\",\"width\":0.5},\"pattern\":{\"fillmode\":\"overlay\",\"size\":10,\"solidity\":0.2}},\"type\":\"bar\"}],\"carpet\":[{\"aaxis\":{\"endlinecolor\":\"#2a3f5f\",\"gridcolor\":\"white\",\"linecolor\":\"white\",\"minorgridcolor\":\"white\",\"startlinecolor\":\"#2a3f5f\"},\"baxis\":{\"endlinecolor\":\"#2a3f5f\",\"gridcolor\":\"white\",\"linecolor\":\"white\",\"minorgridcolor\":\"white\",\"startlinecolor\":\"#2a3f5f\"},\"type\":\"carpet\"}],\"choropleth\":[{\"colorbar\":{\"outlinewidth\":0,\"ticks\":\"\"},\"type\":\"choropleth\"}],\"contourcarpet\":[{\"colorbar\":{\"outlinewidth\":0,\"ticks\":\"\"},\"type\":\"contourcarpet\"}],\"contour\":[{\"colorbar\":{\"outlinewidth\":0,\"ticks\":\"\"},\"colorscale\":[[0.0,\"#0d0887\"],[0.1111111111111111,\"#46039f\"],[0.2222222222222222,\"#7201a8\"],[0.3333333333333333,\"#9c179e\"],[0.4444444444444444,\"#bd3786\"],[0.5555555555555556,\"#d8576b\"],[0.6666666666666666,\"#ed7953\"],[0.7777777777777778,\"#fb9f3a\"],[0.8888888888888888,\"#fdca26\"],[1.0,\"#f0f921\"]],\"type\":\"contour\"}],\"heatmapgl\":[{\"colorbar\":{\"outlinewidth\":0,\"ticks\":\"\"},\"colorscale\":[[0.0,\"#0d0887\"],[0.1111111111111111,\"#46039f\"],[0.2222222222222222,\"#7201a8\"],[0.3333333333333333,\"#9c179e\"],[0.4444444444444444,\"#bd3786\"],[0.5555555555555556,\"#d8576b\"],[0.6666666666666666,\"#ed7953\"],[0.7777777777777778,\"#fb9f3a\"],[0.8888888888888888,\"#fdca26\"],[1.0,\"#f0f921\"]],\"type\":\"heatmapgl\"}],\"heatmap\":[{\"colorbar\":{\"outlinewidth\":0,\"ticks\":\"\"},\"colorscale\":[[0.0,\"#0d0887\"],[0.1111111111111111,\"#46039f\"],[0.2222222222222222,\"#7201a8\"],[0.3333333333333333,\"#9c179e\"],[0.4444444444444444,\"#bd3786\"],[0.5555555555555556,\"#d8576b\"],[0.6666666666666666,\"#ed7953\"],[0.7777777777777778,\"#fb9f3a\"],[0.8888888888888888,\"#fdca26\"],[1.0,\"#f0f921\"]],\"type\":\"heatmap\"}],\"histogram2dcontour\":[{\"colorbar\":{\"outlinewidth\":0,\"ticks\":\"\"},\"colorscale\":[[0.0,\"#0d0887\"],[0.1111111111111111,\"#46039f\"],[0.2222222222222222,\"#7201a8\"],[0.3333333333333333,\"#9c179e\"],[0.4444444444444444,\"#bd3786\"],[0.5555555555555556,\"#d8576b\"],[0.6666666666666666,\"#ed7953\"],[0.7777777777777778,\"#fb9f3a\"],[0.8888888888888888,\"#fdca26\"],[1.0,\"#f0f921\"]],\"type\":\"histogram2dcontour\"}],\"histogram2d\":[{\"colorbar\":{\"outlinewidth\":0,\"ticks\":\"\"},\"colorscale\":[[0.0,\"#0d0887\"],[0.1111111111111111,\"#46039f\"],[0.2222222222222222,\"#7201a8\"],[0.3333333333333333,\"#9c179e\"],[0.4444444444444444,\"#bd3786\"],[0.5555555555555556,\"#d8576b\"],[0.6666666666666666,\"#ed7953\"],[0.7777777777777778,\"#fb9f3a\"],[0.8888888888888888,\"#fdca26\"],[1.0,\"#f0f921\"]],\"type\":\"histogram2d\"}],\"histogram\":[{\"marker\":{\"pattern\":{\"fillmode\":\"overlay\",\"size\":10,\"solidity\":0.2}},\"type\":\"histogram\"}],\"mesh3d\":[{\"colorbar\":{\"outlinewidth\":0,\"ticks\":\"\"},\"type\":\"mesh3d\"}],\"parcoords\":[{\"line\":{\"colorbar\":{\"outlinewidth\":0,\"ticks\":\"\"}},\"type\":\"parcoords\"}],\"pie\":[{\"automargin\":true,\"type\":\"pie\"}],\"scatter3d\":[{\"line\":{\"colorbar\":{\"outlinewidth\":0,\"ticks\":\"\"}},\"marker\":{\"colorbar\":{\"outlinewidth\":0,\"ticks\":\"\"}},\"type\":\"scatter3d\"}],\"scattercarpet\":[{\"marker\":{\"colorbar\":{\"outlinewidth\":0,\"ticks\":\"\"}},\"type\":\"scattercarpet\"}],\"scattergeo\":[{\"marker\":{\"colorbar\":{\"outlinewidth\":0,\"ticks\":\"\"}},\"type\":\"scattergeo\"}],\"scattergl\":[{\"marker\":{\"colorbar\":{\"outlinewidth\":0,\"ticks\":\"\"}},\"type\":\"scattergl\"}],\"scattermapbox\":[{\"marker\":{\"colorbar\":{\"outlinewidth\":0,\"ticks\":\"\"}},\"type\":\"scattermapbox\"}],\"scatterpolargl\":[{\"marker\":{\"colorbar\":{\"outlinewidth\":0,\"ticks\":\"\"}},\"type\":\"scatterpolargl\"}],\"scatterpolar\":[{\"marker\":{\"colorbar\":{\"outlinewidth\":0,\"ticks\":\"\"}},\"type\":\"scatterpolar\"}],\"scatter\":[{\"marker\":{\"colorbar\":{\"outlinewidth\":0,\"ticks\":\"\"}},\"type\":\"scatter\"}],\"scatterternary\":[{\"marker\":{\"colorbar\":{\"outlinewidth\":0,\"ticks\":\"\"}},\"type\":\"scatterternary\"}],\"surface\":[{\"colorbar\":{\"outlinewidth\":0,\"ticks\":\"\"},\"colorscale\":[[0.0,\"#0d0887\"],[0.1111111111111111,\"#46039f\"],[0.2222222222222222,\"#7201a8\"],[0.3333333333333333,\"#9c179e\"],[0.4444444444444444,\"#bd3786\"],[0.5555555555555556,\"#d8576b\"],[0.6666666666666666,\"#ed7953\"],[0.7777777777777778,\"#fb9f3a\"],[0.8888888888888888,\"#fdca26\"],[1.0,\"#f0f921\"]],\"type\":\"surface\"}],\"table\":[{\"cells\":{\"fill\":{\"color\":\"#EBF0F8\"},\"line\":{\"color\":\"white\"}},\"header\":{\"fill\":{\"color\":\"#C8D4E3\"},\"line\":{\"color\":\"white\"}},\"type\":\"table\"}]},\"layout\":{\"annotationdefaults\":{\"arrowcolor\":\"#2a3f5f\",\"arrowhead\":0,\"arrowwidth\":1},\"autotypenumbers\":\"strict\",\"coloraxis\":{\"colorbar\":{\"outlinewidth\":0,\"ticks\":\"\"}},\"colorscale\":{\"diverging\":[[0,\"#8e0152\"],[0.1,\"#c51b7d\"],[0.2,\"#de77ae\"],[0.3,\"#f1b6da\"],[0.4,\"#fde0ef\"],[0.5,\"#f7f7f7\"],[0.6,\"#e6f5d0\"],[0.7,\"#b8e186\"],[0.8,\"#7fbc41\"],[0.9,\"#4d9221\"],[1,\"#276419\"]],\"sequential\":[[0.0,\"#0d0887\"],[0.1111111111111111,\"#46039f\"],[0.2222222222222222,\"#7201a8\"],[0.3333333333333333,\"#9c179e\"],[0.4444444444444444,\"#bd3786\"],[0.5555555555555556,\"#d8576b\"],[0.6666666666666666,\"#ed7953\"],[0.7777777777777778,\"#fb9f3a\"],[0.8888888888888888,\"#fdca26\"],[1.0,\"#f0f921\"]],\"sequentialminus\":[[0.0,\"#0d0887\"],[0.1111111111111111,\"#46039f\"],[0.2222222222222222,\"#7201a8\"],[0.3333333333333333,\"#9c179e\"],[0.4444444444444444,\"#bd3786\"],[0.5555555555555556,\"#d8576b\"],[0.6666666666666666,\"#ed7953\"],[0.7777777777777778,\"#fb9f3a\"],[0.8888888888888888,\"#fdca26\"],[1.0,\"#f0f921\"]]},\"colorway\":[\"#636efa\",\"#EF553B\",\"#00cc96\",\"#ab63fa\",\"#FFA15A\",\"#19d3f3\",\"#FF6692\",\"#B6E880\",\"#FF97FF\",\"#FECB52\"],\"font\":{\"color\":\"#2a3f5f\"},\"geo\":{\"bgcolor\":\"white\",\"lakecolor\":\"white\",\"landcolor\":\"#E5ECF6\",\"showlakes\":true,\"showland\":true,\"subunitcolor\":\"white\"},\"hoverlabel\":{\"align\":\"left\"},\"hovermode\":\"closest\",\"mapbox\":{\"style\":\"light\"},\"paper_bgcolor\":\"white\",\"plot_bgcolor\":\"#E5ECF6\",\"polar\":{\"angularaxis\":{\"gridcolor\":\"white\",\"linecolor\":\"white\",\"ticks\":\"\"},\"bgcolor\":\"#E5ECF6\",\"radialaxis\":{\"gridcolor\":\"white\",\"linecolor\":\"white\",\"ticks\":\"\"}},\"scene\":{\"xaxis\":{\"backgroundcolor\":\"#E5ECF6\",\"gridcolor\":\"white\",\"gridwidth\":2,\"linecolor\":\"white\",\"showbackground\":true,\"ticks\":\"\",\"zerolinecolor\":\"white\"},\"yaxis\":{\"backgroundcolor\":\"#E5ECF6\",\"gridcolor\":\"white\",\"gridwidth\":2,\"linecolor\":\"white\",\"showbackground\":true,\"ticks\":\"\",\"zerolinecolor\":\"white\"},\"zaxis\":{\"backgroundcolor\":\"#E5ECF6\",\"gridcolor\":\"white\",\"gridwidth\":2,\"linecolor\":\"white\",\"showbackground\":true,\"ticks\":\"\",\"zerolinecolor\":\"white\"}},\"shapedefaults\":{\"line\":{\"color\":\"#2a3f5f\"}},\"ternary\":{\"aaxis\":{\"gridcolor\":\"white\",\"linecolor\":\"white\",\"ticks\":\"\"},\"baxis\":{\"gridcolor\":\"white\",\"linecolor\":\"white\",\"ticks\":\"\"},\"bgcolor\":\"#E5ECF6\",\"caxis\":{\"gridcolor\":\"white\",\"linecolor\":\"white\",\"ticks\":\"\"}},\"title\":{\"x\":0.05},\"xaxis\":{\"automargin\":true,\"gridcolor\":\"white\",\"linecolor\":\"white\",\"ticks\":\"\",\"title\":{\"standoff\":15},\"zerolinecolor\":\"white\",\"zerolinewidth\":2},\"yaxis\":{\"automargin\":true,\"gridcolor\":\"white\",\"linecolor\":\"white\",\"ticks\":\"\",\"title\":{\"standoff\":15},\"zerolinecolor\":\"white\",\"zerolinewidth\":2}}}},                        {\"responsive\": true}                    ).then(function(){\n",
       "                            \n",
       "var gd = document.getElementById('84caa5cd-48b7-409f-b842-3cff367357a2');\n",
       "var x = new MutationObserver(function (mutations, observer) {{\n",
       "        var display = window.getComputedStyle(gd).display;\n",
       "        if (!display || display === 'none') {{\n",
       "            console.log([gd, 'removed!']);\n",
       "            Plotly.purge(gd);\n",
       "            observer.disconnect();\n",
       "        }}\n",
       "}});\n",
       "\n",
       "// Listen for the removal of the full notebook cells\n",
       "var notebookContainer = gd.closest('#notebook-container');\n",
       "if (notebookContainer) {{\n",
       "    x.observe(notebookContainer, {childList: true});\n",
       "}}\n",
       "\n",
       "// Listen for the clearing of the current output cell\n",
       "var outputEl = gd.closest('.output');\n",
       "if (outputEl) {{\n",
       "    x.observe(outputEl, {childList: true});\n",
       "}}\n",
       "\n",
       "                        })                };                });            </script>        </div>"
      ]
     },
     "metadata": {},
     "output_type": "display_data"
    }
   ],
   "source": [
    "import plotly.offline as py\n",
    "import plotly.graph_objs as go\n",
    "dest=[dest_counts['Delhi'],\n",
    "       dest_counts['Banglore'],\n",
    "       dest_counts['Cochin'],\n",
    "       dest_counts['Kolkata'],\n",
    "       dest_counts['Hyderabad'],\n",
    "        \n",
    "      ]\n",
    "data_label=['Delhi', 'Banglore','Cochin', 'Kolkata', 'Hyderabad']\n",
    "\n",
    "dest_pieChart=go.Pie(labels=data_label,values=dest)\n",
    "py.iplot([dest_pieChart])"
   ]
  },
  {
   "cell_type": "markdown",
   "id": "b3a6b4d0",
   "metadata": {},
   "source": [
    "The destination of maximum Airlines is Cochin(40.7%), Now lets compare Price with destination"
   ]
  },
  {
   "cell_type": "code",
   "execution_count": 1183,
   "id": "b2db285e",
   "metadata": {},
   "outputs": [
    {
     "data": {
      "image/png": "[encoded data removed]",
      "text/plain": [
       "<Figure size 864x432 with 1 Axes>"
      ]
     },
     "metadata": {
      "needs_background": "light"
     },
     "output_type": "display_data"
    }
   ],
   "source": [
    "plt.figure(figsize=(12,6))\n",
    "sns.stripplot(df['Destination'], df['Price'])\n",
    "plt.title('Destination vs Price', size=18)\n",
    "plt.xticks(rotation=90)\n",
    "plt.show()"
   ]
  },
  {
   "cell_type": "markdown",
   "id": "c2c155c2",
   "metadata": {},
   "source": [
    "The price where destination Cochin is more when compared to prices of other states"
   ]
  },
  {
   "cell_type": "code",
   "execution_count": 1184,
   "id": "6958660a",
   "metadata": {},
   "outputs": [
    {
     "name": "stdout",
     "output_type": "stream",
     "text": [
      "Count of Total Stops\n",
      "==============================\n",
      "Total number of stops :  5\n",
      "==============================\n",
      "Stop Counts :\n",
      " 1    5625\n",
      "0    3459\n",
      "2    1141\n",
      "3      41\n",
      "4       1\n",
      "Name: Total_Stops, dtype: int64\n",
      "==============================\n"
     ]
    },
    {
     "data": {
      "text/plain": [
       "<AxesSubplot:xlabel='Total_Stops', ylabel='count'>"
      ]
     },
     "execution_count": 1184,
     "metadata": {},
     "output_type": "execute_result"
    },
    {
     "data": {
      "image/png": "[encoded data removed]",
      "text/plain": [
       "<Figure size 432x288 with 1 Axes>"
      ]
     },
     "metadata": {
      "needs_background": "light"
     },
     "output_type": "display_data"
    }
   ],
   "source": [
    "print('Count of Total Stops')\n",
    "print(\"=\"*30)\n",
    "print(\"Total number of stops : \",df['Total_Stops'].nunique())\n",
    "print(\"=\"*30)\n",
    "stop_counts = df['Total_Stops'].value_counts()\n",
    "print('Stop Counts :'\"\\n\",stop_counts)\n",
    "print(\"=\"*30)\n",
    "sns.countplot(df['Total_Stops'])"
   ]
  },
  {
   "cell_type": "code",
   "execution_count": 1185,
   "id": "3a953990",
   "metadata": {},
   "outputs": [
    {
     "data": {
      "text/plain": [
       "<AxesSubplot:xlabel='Price', ylabel='Total_Stops'>"
      ]
     },
     "execution_count": 1185,
     "metadata": {},
     "output_type": "execute_result"
    },
    {
     "data": {
      "image/png": "[encoded data removed]",
      "text/plain": [
       "<Figure size 576x360 with 1 Axes>"
      ]
     },
     "metadata": {
      "needs_background": "light"
     },
     "output_type": "display_data"
    }
   ],
   "source": [
    "plt.figure(figsize=(8,5))\n",
    "sns.barplot(y=\"Total_Stops\",x=\"Price\",data=df)"
   ]
  },
  {
   "cell_type": "markdown",
   "id": "a07f5a9f",
   "metadata": {},
   "source": [
    "We see that if number of stops increase the price of the Airline increases,We have only one records of 4 stops and we see that it has the maximum price."
   ]
  },
  {
   "cell_type": "code",
   "execution_count": 1186,
   "id": "bd9f3245",
   "metadata": {},
   "outputs": [
    {
     "name": "stdout",
     "output_type": "stream",
     "text": [
      "Count of Additional Info\n",
      "==============================\n",
      "Total number of Additional_Info :  9\n",
      "==============================\n",
      "Additional_Info Counts :\n",
      " No Info                         8042\n",
      "In-flight meal not included     1876\n",
      "No check-in baggage included     316\n",
      "1 Long layover                    19\n",
      "Change airports                    7\n",
      "Business class                     4\n",
      "Red-eye flight                     1\n",
      "1 Short layover                    1\n",
      "2 Long layover                     1\n",
      "Name: Additional_Info, dtype: int64\n",
      "==============================\n"
     ]
    },
    {
     "data": {
      "image/png": "[encoded data removed]",
      "text/plain": [
       "<Figure size 432x288 with 1 Axes>"
      ]
     },
     "metadata": {
      "needs_background": "light"
     },
     "output_type": "display_data"
    }
   ],
   "source": [
    "print('Count of Additional Info')\n",
    "print(\"=\"*30)\n",
    "print(\"Total number of Additional_Info : \",df['Additional_Info'].nunique())\n",
    "print(\"=\"*30)\n",
    "stop_counts = df['Additional_Info'].value_counts()\n",
    "print('Additional_Info Counts :'\"\\n\",stop_counts)\n",
    "print(\"=\"*30)\n",
    "ax = sns.countplot(x=\"Additional_Info\", data=df)\n",
    "ax.set_xticklabels(ax.get_xticklabels(), rotation=40, ha=\"right\")\n",
    "plt.tight_layout()\n",
    "plt.show()"
   ]
  },
  {
   "cell_type": "code",
   "execution_count": 1187,
   "id": "3cd3f57c",
   "metadata": {},
   "outputs": [
    {
     "data": {
      "text/plain": [
       "<AxesSubplot:xlabel='Price', ylabel='Additional_Info'>"
      ]
     },
     "execution_count": 1187,
     "metadata": {},
     "output_type": "execute_result"
    },
    {
     "data": {
      "image/png": "[encoded data removed]",
      "text/plain": [
       "<Figure size 576x360 with 1 Axes>"
      ]
     },
     "metadata": {
      "needs_background": "light"
     },
     "output_type": "display_data"
    }
   ],
   "source": [
    "plt.figure(figsize=(8,5))\n",
    "sns.barplot(y=\"Additional_Info\",x=\"Price\",data=df)"
   ]
  },
  {
   "cell_type": "markdown",
   "id": "872df207",
   "metadata": {},
   "source": [
    "Person travelling in Business class has to pay more than other classes"
   ]
  },
  {
   "cell_type": "markdown",
   "id": "2f024228",
   "metadata": {},
   "source": [
    "<strong>DayOfJourney</strong>"
   ]
  },
  {
   "cell_type": "code",
   "execution_count": 1188,
   "id": "aee8d7cf",
   "metadata": {},
   "outputs": [
    {
     "name": "stdout",
     "output_type": "stream",
     "text": [
      "Count of DayOfJourney\n",
      "==============================\n",
      "Total number of DayOfJourney :  9\n",
      "==============================\n",
      "DayOfJourney Counts :\n",
      " 6     2064\n",
      "5     1355\n",
      "3     1328\n",
      "21    1063\n",
      "27    1057\n",
      "24     996\n",
      "15     952\n",
      "18     799\n",
      "4      653\n",
      "Name: DayOfJourney, dtype: int64\n",
      "==============================\n"
     ]
    },
    {
     "data": {
      "text/plain": [
       "<AxesSubplot:xlabel='DayOfJourney', ylabel='count'>"
      ]
     },
     "execution_count": 1188,
     "metadata": {},
     "output_type": "execute_result"
    },
    {
     "data": {
      "image/png": "[encoded data removed]",
      "text/plain": [
       "<Figure size 432x288 with 1 Axes>"
      ]
     },
     "metadata": {
      "needs_background": "light"
     },
     "output_type": "display_data"
    }
   ],
   "source": [
    "print('Count of DayOfJourney')\n",
    "print(\"=\"*30)\n",
    "print(\"Total number of DayOfJourney : \",df['DayOfJourney'].nunique())\n",
    "print(\"=\"*30)\n",
    "stop_counts = df['DayOfJourney'].value_counts()\n",
    "print('DayOfJourney Counts :'\"\\n\",stop_counts)\n",
    "print(\"=\"*30)\n",
    "sns.countplot(x=\"DayOfJourney\", data=df)"
   ]
  },
  {
   "cell_type": "code",
   "execution_count": 1189,
   "id": "2bf56c95",
   "metadata": {},
   "outputs": [
    {
     "name": "stdout",
     "output_type": "stream",
     "text": [
      "Count of MonthOfJourney\n",
      "==============================\n",
      "Total number of MonthOfJourney :  7\n",
      "==============================\n",
      "MonthOfJourney Counts :\n",
      " 6     2403\n",
      "3     2129\n",
      "5     1984\n",
      "9     1349\n",
      "1     1043\n",
      "12     935\n",
      "4      424\n",
      "Name: MonthOfJourney, dtype: int64\n",
      "==============================\n"
     ]
    },
    {
     "data": {
      "text/plain": [
       "<AxesSubplot:xlabel='MonthOfJourney', ylabel='count'>"
      ]
     },
     "execution_count": 1189,
     "metadata": {},
     "output_type": "execute_result"
    },
    {
     "data": {
      "image/png": "[encoded data removed]",
      "text/plain": [
       "<Figure size 432x288 with 1 Axes>"
      ]
     },
     "metadata": {
      "needs_background": "light"
     },
     "output_type": "display_data"
    }
   ],
   "source": [
    "print('Count of MonthOfJourney')\n",
    "print(\"=\"*30)\n",
    "print(\"Total number of MonthOfJourney : \",df['MonthOfJourney'].nunique())\n",
    "print(\"=\"*30)\n",
    "stop_counts = df['MonthOfJourney'].value_counts()\n",
    "print('MonthOfJourney Counts :'\"\\n\",stop_counts)\n",
    "print(\"=\"*30)\n",
    "sns.countplot(x=\"MonthOfJourney\", data=df)"
   ]
  },
  {
   "cell_type": "code",
   "execution_count": 1190,
   "id": "7b6b6cd5",
   "metadata": {},
   "outputs": [
    {
     "data": {
      "text/html": [
       "<div>\n",
       "<style scoped>\n",
       "    .dataframe tbody tr th:only-of-type {\n",
       "        vertical-align: middle;\n",
       "    }\n",
       "\n",
       "    .dataframe tbody tr th {\n",
       "        vertical-align: top;\n",
       "    }\n",
       "\n",
       "    .dataframe thead th {\n",
       "        text-align: right;\n",
       "    }\n",
       "</style>\n",
       "<table border=\"1\" class=\"dataframe\">\n",
       "  <thead>\n",
       "    <tr style=\"text-align: right;\">\n",
       "      <th></th>\n",
       "      <th>Airline</th>\n",
       "      <th>Source</th>\n",
       "      <th>Destination</th>\n",
       "      <th>Total_Stops</th>\n",
       "      <th>Additional_Info</th>\n",
       "      <th>Price</th>\n",
       "      <th>DayOfJourney</th>\n",
       "      <th>MonthOfJourney</th>\n",
       "      <th>Dep_Hr</th>\n",
       "      <th>Dep_Min</th>\n",
       "      <th>Arr_Hr</th>\n",
       "      <th>Arr_Min</th>\n",
       "      <th>Duration_Hr</th>\n",
       "      <th>Duration_Min</th>\n",
       "    </tr>\n",
       "  </thead>\n",
       "  <tbody>\n",
       "    <tr>\n",
       "      <th>0</th>\n",
       "      <td>IndiGo</td>\n",
       "      <td>Banglore</td>\n",
       "      <td>Delhi</td>\n",
       "      <td>0</td>\n",
       "      <td>No Info</td>\n",
       "      <td>3897</td>\n",
       "      <td>24</td>\n",
       "      <td>3</td>\n",
       "      <td>22</td>\n",
       "      <td>20</td>\n",
       "      <td>01</td>\n",
       "      <td>10</td>\n",
       "      <td>2</td>\n",
       "      <td>50</td>\n",
       "    </tr>\n",
       "  </tbody>\n",
       "</table>\n",
       "</div>"
      ],
      "text/plain": [
       "  Airline    Source Destination Total_Stops Additional_Info  Price  \\\n",
       "0  IndiGo  Banglore       Delhi           0         No Info   3897   \n",
       "\n",
       "   DayOfJourney  MonthOfJourney Dep_Hr Dep_Min Arr_Hr Arr_Min Duration_Hr  \\\n",
       "0            24               3     22      20     01      10           2   \n",
       "\n",
       "  Duration_Min  \n",
       "0           50  "
      ]
     },
     "execution_count": 1190,
     "metadata": {},
     "output_type": "execute_result"
    }
   ],
   "source": [
    "df.head(1)"
   ]
  },
  {
   "cell_type": "code",
   "execution_count": 1192,
   "id": "a154ff9e",
   "metadata": {},
   "outputs": [
    {
     "data": {
      "image/png": "[encoded data removed]",
      "text/plain": [
       "<Figure size 720x360 with 1 Axes>"
      ]
     },
     "metadata": {
      "needs_background": "light"
     },
     "output_type": "display_data"
    }
   ],
   "source": [
    "plt.figure(figsize=(10,5))\n",
    "sns.barplot(df['DayOfJourney'], df['Price'])\n",
    "plt.title('Days vs Price', size=18)\n",
    "plt.xticks(rotation=90)\n",
    "plt.show()"
   ]
  },
  {
   "cell_type": "code",
   "execution_count": 1193,
   "id": "b4ae3ed7",
   "metadata": {},
   "outputs": [],
   "source": [
    "df['MonthOfJourney'] = df['MonthOfJourney'].map({\n",
    "    1:'January',\n",
    "    2:'February',\n",
    "    3:'March',\n",
    "    4:'April',\n",
    "    5:'May',\n",
    "    6:'June',\n",
    "    7:'July',\n",
    "    8:'August',\n",
    "    9:'September',\n",
    "    10:'October',\n",
    "    11:'November',\n",
    "    12:'December'\n",
    "})"
   ]
  },
  {
   "cell_type": "code",
   "execution_count": 1194,
   "id": "2ba41883",
   "metadata": {},
   "outputs": [
    {
     "data": {
      "text/html": [
       "<div>\n",
       "<style scoped>\n",
       "    .dataframe tbody tr th:only-of-type {\n",
       "        vertical-align: middle;\n",
       "    }\n",
       "\n",
       "    .dataframe tbody tr th {\n",
       "        vertical-align: top;\n",
       "    }\n",
       "\n",
       "    .dataframe thead th {\n",
       "        text-align: right;\n",
       "    }\n",
       "</style>\n",
       "<table border=\"1\" class=\"dataframe\">\n",
       "  <thead>\n",
       "    <tr style=\"text-align: right;\">\n",
       "      <th></th>\n",
       "      <th>Airline</th>\n",
       "      <th>Source</th>\n",
       "      <th>Destination</th>\n",
       "      <th>Total_Stops</th>\n",
       "      <th>Additional_Info</th>\n",
       "      <th>Price</th>\n",
       "      <th>DayOfJourney</th>\n",
       "      <th>MonthOfJourney</th>\n",
       "      <th>Dep_Hr</th>\n",
       "      <th>Dep_Min</th>\n",
       "      <th>Arr_Hr</th>\n",
       "      <th>Arr_Min</th>\n",
       "      <th>Duration_Hr</th>\n",
       "      <th>Duration_Min</th>\n",
       "    </tr>\n",
       "  </thead>\n",
       "  <tbody>\n",
       "    <tr>\n",
       "      <th>0</th>\n",
       "      <td>IndiGo</td>\n",
       "      <td>Banglore</td>\n",
       "      <td>Delhi</td>\n",
       "      <td>0</td>\n",
       "      <td>No Info</td>\n",
       "      <td>3897</td>\n",
       "      <td>24</td>\n",
       "      <td>March</td>\n",
       "      <td>22</td>\n",
       "      <td>20</td>\n",
       "      <td>01</td>\n",
       "      <td>10</td>\n",
       "      <td>2</td>\n",
       "      <td>50</td>\n",
       "    </tr>\n",
       "  </tbody>\n",
       "</table>\n",
       "</div>"
      ],
      "text/plain": [
       "  Airline    Source Destination Total_Stops Additional_Info  Price  \\\n",
       "0  IndiGo  Banglore       Delhi           0         No Info   3897   \n",
       "\n",
       "   DayOfJourney MonthOfJourney Dep_Hr Dep_Min Arr_Hr Arr_Min Duration_Hr  \\\n",
       "0            24          March     22      20     01      10           2   \n",
       "\n",
       "  Duration_Min  \n",
       "0           50  "
      ]
     },
     "execution_count": 1194,
     "metadata": {},
     "output_type": "execute_result"
    }
   ],
   "source": [
    "df.head(1)"
   ]
  },
  {
   "cell_type": "code",
   "execution_count": 1195,
   "id": "dc22c840",
   "metadata": {},
   "outputs": [
    {
     "data": {
      "image/png": "[encoded data removed]",
      "text/plain": [
       "<Figure size 720x360 with 1 Axes>"
      ]
     },
     "metadata": {
      "needs_background": "light"
     },
     "output_type": "display_data"
    }
   ],
   "source": [
    "plt.figure(figsize=(10,5))\n",
    "sns.barplot(df['MonthOfJourney'], df['Price'])\n",
    "plt.title('Month Of Journey vs Price', size=18)\n",
    "plt.xticks(rotation=90)\n",
    "plt.show()"
   ]
  },
  {
   "cell_type": "code",
   "execution_count": 1196,
   "id": "9fdd707a",
   "metadata": {},
   "outputs": [
    {
     "data": {
      "text/plain": [
       "{'00',\n",
       " '01',\n",
       " '02',\n",
       " '03',\n",
       " '04',\n",
       " '05',\n",
       " '06',\n",
       " '07',\n",
       " '08',\n",
       " '09',\n",
       " '10',\n",
       " '11',\n",
       " '12',\n",
       " '13',\n",
       " '14',\n",
       " '15',\n",
       " '16',\n",
       " '17',\n",
       " '18',\n",
       " '19',\n",
       " '20',\n",
       " '21',\n",
       " '22',\n",
       " '23'}"
      ]
     },
     "execution_count": 1196,
     "metadata": {},
     "output_type": "execute_result"
    }
   ],
   "source": [
    "set(df['Dep_Hr'])"
   ]
  },
  {
   "cell_type": "markdown",
   "id": "178a9b79",
   "metadata": {},
   "source": [
    "We see that flight departs almost every hour, so lets convert them into below but before that convert them into int type as it is Object Data type.\n",
    "\n",
    "- Morning\n",
    "- Afternoon\n",
    "- Evening\n",
    "- Night\n",
    "- Late Night\n"
   ]
  },
  {
   "cell_type": "code",
   "execution_count": 1198,
   "id": "ab5e5b31",
   "metadata": {},
   "outputs": [],
   "source": [
    "df[\"Dep_Hr\"] = df[\"Dep_Hr\"].astype(str).astype(int)"
   ]
  },
  {
   "cell_type": "code",
   "execution_count": 1199,
   "id": "9c526190",
   "metadata": {},
   "outputs": [
    {
     "data": {
      "text/plain": [
       "{0,\n",
       " 1,\n",
       " 2,\n",
       " 3,\n",
       " 4,\n",
       " 5,\n",
       " 6,\n",
       " 7,\n",
       " 8,\n",
       " 9,\n",
       " 10,\n",
       " 11,\n",
       " 12,\n",
       " 13,\n",
       " 14,\n",
       " 15,\n",
       " 16,\n",
       " 17,\n",
       " 18,\n",
       " 19,\n",
       " 20,\n",
       " 21,\n",
       " 22,\n",
       " 23}"
      ]
     },
     "execution_count": 1199,
     "metadata": {},
     "output_type": "execute_result"
    }
   ],
   "source": [
    "set(df[\"Dep_Hr\"])"
   ]
  },
  {
   "cell_type": "code",
   "execution_count": 1200,
   "id": "d9849bf7",
   "metadata": {},
   "outputs": [],
   "source": [
    "df[\"TimeOfDay\"]=np.where((df[\"Dep_Hr\"]>=0)&(df[\"Dep_Hr\"]<=3),\"Late Night\",\n",
    "                         np.where((df[\"Dep_Hr\"]>3)&(df[\"Dep_Hr\"]<=8),\"Early Morning\",\n",
    "                         np.where((df[\"Dep_Hr\"]>8)&(df[\"Dep_Hr\"]<=11),\"Morning\",\n",
    "                         np.where((df[\"Dep_Hr\"]>11)&(df[\"Dep_Hr\"]<=15),\"Afternoon\",\n",
    "                         np.where((df[\"Dep_Hr\"]>15)&(df[\"Dep_Hr\"]<=20),\"Evening\",\"Night\")))))"
   ]
  },
  {
   "cell_type": "code",
   "execution_count": 1201,
   "id": "16661c7f",
   "metadata": {},
   "outputs": [
    {
     "data": {
      "text/html": [
       "<div>\n",
       "<style scoped>\n",
       "    .dataframe tbody tr th:only-of-type {\n",
       "        vertical-align: middle;\n",
       "    }\n",
       "\n",
       "    .dataframe tbody tr th {\n",
       "        vertical-align: top;\n",
       "    }\n",
       "\n",
       "    .dataframe thead th {\n",
       "        text-align: right;\n",
       "    }\n",
       "</style>\n",
       "<table border=\"1\" class=\"dataframe\">\n",
       "  <thead>\n",
       "    <tr style=\"text-align: right;\">\n",
       "      <th></th>\n",
       "      <th>Airline</th>\n",
       "      <th>Source</th>\n",
       "      <th>Destination</th>\n",
       "      <th>Total_Stops</th>\n",
       "      <th>Additional_Info</th>\n",
       "      <th>Price</th>\n",
       "      <th>DayOfJourney</th>\n",
       "      <th>MonthOfJourney</th>\n",
       "      <th>Dep_Hr</th>\n",
       "      <th>Dep_Min</th>\n",
       "      <th>Arr_Hr</th>\n",
       "      <th>Arr_Min</th>\n",
       "      <th>Duration_Hr</th>\n",
       "      <th>Duration_Min</th>\n",
       "      <th>TimeOfDay</th>\n",
       "    </tr>\n",
       "  </thead>\n",
       "  <tbody>\n",
       "    <tr>\n",
       "      <th>0</th>\n",
       "      <td>IndiGo</td>\n",
       "      <td>Banglore</td>\n",
       "      <td>Delhi</td>\n",
       "      <td>0</td>\n",
       "      <td>No Info</td>\n",
       "      <td>3897</td>\n",
       "      <td>24</td>\n",
       "      <td>March</td>\n",
       "      <td>22</td>\n",
       "      <td>20</td>\n",
       "      <td>01</td>\n",
       "      <td>10</td>\n",
       "      <td>2</td>\n",
       "      <td>50</td>\n",
       "      <td>Night</td>\n",
       "    </tr>\n",
       "    <tr>\n",
       "      <th>1</th>\n",
       "      <td>Air India</td>\n",
       "      <td>Kolkata</td>\n",
       "      <td>Banglore</td>\n",
       "      <td>2</td>\n",
       "      <td>No Info</td>\n",
       "      <td>7662</td>\n",
       "      <td>5</td>\n",
       "      <td>January</td>\n",
       "      <td>5</td>\n",
       "      <td>50</td>\n",
       "      <td>13</td>\n",
       "      <td>15</td>\n",
       "      <td>7</td>\n",
       "      <td>25</td>\n",
       "      <td>Early Morning</td>\n",
       "    </tr>\n",
       "  </tbody>\n",
       "</table>\n",
       "</div>"
      ],
      "text/plain": [
       "     Airline    Source Destination Total_Stops Additional_Info  Price  \\\n",
       "0     IndiGo  Banglore       Delhi           0         No Info   3897   \n",
       "1  Air India   Kolkata    Banglore           2         No Info   7662   \n",
       "\n",
       "   DayOfJourney MonthOfJourney  Dep_Hr Dep_Min Arr_Hr Arr_Min Duration_Hr  \\\n",
       "0            24          March      22      20     01      10           2   \n",
       "1             5        January       5      50     13      15           7   \n",
       "\n",
       "  Duration_Min      TimeOfDay  \n",
       "0           50          Night  \n",
       "1           25  Early Morning  "
      ]
     },
     "execution_count": 1201,
     "metadata": {},
     "output_type": "execute_result"
    }
   ],
   "source": [
    "df.head(2)"
   ]
  },
  {
   "cell_type": "code",
   "execution_count": 1202,
   "id": "2fb71a5c",
   "metadata": {},
   "outputs": [
    {
     "name": "stdout",
     "output_type": "stream",
     "text": [
      "Count of TimeOfDay\n",
      "==============================\n",
      "Total number of TimeOfDay :  6\n",
      "==============================\n",
      "TimeOfDay Counts :\n",
      " Early Morning    2925\n",
      "Evening          2744\n",
      "Morning          1954\n",
      "Afternoon        1389\n",
      "Night             960\n",
      "Late Night        295\n",
      "Name: TimeOfDay, dtype: int64\n",
      "==============================\n"
     ]
    },
    {
     "data": {
      "text/plain": [
       "<AxesSubplot:xlabel='TimeOfDay', ylabel='count'>"
      ]
     },
     "execution_count": 1202,
     "metadata": {},
     "output_type": "execute_result"
    },
    {
     "data": {
      "image/png": "[encoded data removed]",
      "text/plain": [
       "<Figure size 432x288 with 1 Axes>"
      ]
     },
     "metadata": {
      "needs_background": "light"
     },
     "output_type": "display_data"
    }
   ],
   "source": [
    "print('Count of TimeOfDay')\n",
    "print(\"=\"*30)\n",
    "print(\"Total number of TimeOfDay : \",df['TimeOfDay'].nunique())\n",
    "print(\"=\"*30)\n",
    "dep_counts = df['TimeOfDay'].value_counts()\n",
    "print('TimeOfDay Counts :'\"\\n\",dep_counts)\n",
    "print(\"=\"*30)\n",
    "sns.countplot(x=\"TimeOfDay\", data=df)"
   ]
  },
  {
   "cell_type": "markdown",
   "id": "6350eab7",
   "metadata": {},
   "source": [
    "We see that we have maximum flights in the early morning and least flights are available in the late night"
   ]
  },
  {
   "cell_type": "code",
   "execution_count": 1203,
   "id": "8ecf0e79",
   "metadata": {},
   "outputs": [
    {
     "data": {
      "text/plain": [
       "<AxesSubplot:xlabel='Price', ylabel='TimeOfDay'>"
      ]
     },
     "execution_count": 1203,
     "metadata": {},
     "output_type": "execute_result"
    },
    {
     "data": {
      "image/png": "[encoded data removed]",
      "text/plain": [
       "<Figure size 576x360 with 1 Axes>"
      ]
     },
     "metadata": {
      "needs_background": "light"
     },
     "output_type": "display_data"
    }
   ],
   "source": [
    "plt.figure(figsize=(8,5))\n",
    "sns.barplot(y=\"TimeOfDay\",x=\"Price\",data=df)"
   ]
  },
  {
   "cell_type": "markdown",
   "id": "ad94cc89",
   "metadata": {},
   "source": [
    "- From the graph we notice that we have a very close difference in the prices of flights operating in the Evening and Morning.However Evening flight have a bit higher prices than Morning,early morning,afternoon flight,night flights.\n",
    "\n",
    "- Flight at Late night are cheaper\n",
    "\n",
    "- Nw since we are done with our analysis, we will drop TimeOfDay column as it is no longer required."
   ]
  },
  {
   "cell_type": "code",
   "execution_count": 1204,
   "id": "5637a741",
   "metadata": {},
   "outputs": [],
   "source": [
    "df.drop('TimeOfDay',axis=1,inplace=True)"
   ]
  },
  {
   "cell_type": "markdown",
   "id": "89be05f0",
   "metadata": {},
   "source": [
    "<strong>Arr_Hr</strong>"
   ]
  },
  {
   "cell_type": "markdown",
   "id": "dcd58cd3",
   "metadata": {},
   "source": [
    "We see that flight arrives almost every hour, so lets convert them into below but before that convert them into int type as it is Object Data type.\n",
    "\n",
    "- Morning\n",
    "- Afternoon\n",
    "- Evening\n",
    "- Night\n",
    "- Late Night"
   ]
  },
  {
   "cell_type": "code",
   "execution_count": 1205,
   "id": "f3ff33df",
   "metadata": {},
   "outputs": [],
   "source": [
    "df[\"Arr_Hr\"] = df[\"Arr_Hr\"].astype(str).astype(int)"
   ]
  },
  {
   "cell_type": "code",
   "execution_count": 1206,
   "id": "9a67e0a9",
   "metadata": {},
   "outputs": [
    {
     "data": {
      "text/plain": [
       "{0,\n",
       " 1,\n",
       " 2,\n",
       " 3,\n",
       " 4,\n",
       " 5,\n",
       " 6,\n",
       " 7,\n",
       " 8,\n",
       " 9,\n",
       " 10,\n",
       " 11,\n",
       " 12,\n",
       " 13,\n",
       " 14,\n",
       " 15,\n",
       " 16,\n",
       " 17,\n",
       " 18,\n",
       " 19,\n",
       " 20,\n",
       " 21,\n",
       " 22,\n",
       " 23}"
      ]
     },
     "execution_count": 1206,
     "metadata": {},
     "output_type": "execute_result"
    }
   ],
   "source": [
    "set(df[\"Arr_Hr\"])"
   ]
  },
  {
   "cell_type": "code",
   "execution_count": 1207,
   "id": "ba4d43e0",
   "metadata": {},
   "outputs": [],
   "source": [
    "df[\"ArrivalTimeOfDay\"]=np.where((df[\"Arr_Hr\"]>=0)&(df[\"Arr_Hr\"]<=3),\"Late Night\",\n",
    "                         np.where((df[\"Arr_Hr\"]>3)&(df[\"Arr_Hr\"]<=8),\"Early Morning\",\n",
    "                         np.where((df[\"Arr_Hr\"]>8)&(df[\"Arr_Hr\"]<=11),\"Morning\",\n",
    "                         np.where((df[\"Arr_Hr\"]>11)&(df[\"Arr_Hr\"]<=15),\"Afternoon\",\n",
    "                         np.where((df[\"Arr_Hr\"]>15)&(df[\"Arr_Hr\"]<=20),\"Evening\",\"Night\")))))"
   ]
  },
  {
   "cell_type": "code",
   "execution_count": 1208,
   "id": "74862c8d",
   "metadata": {},
   "outputs": [
    {
     "name": "stdout",
     "output_type": "stream",
     "text": [
      "Count of ArrivalTimeOfDay\n",
      "==============================\n",
      "Total number of ArrivalTimeOfDay :  6\n",
      "==============================\n",
      "ArrivalTimeOfDay Counts :\n",
      " Evening          2936\n",
      "Night            1821\n",
      "Early Morning    1685\n",
      "Afternoon        1599\n",
      "Morning          1257\n",
      "Late Night        969\n",
      "Name: ArrivalTimeOfDay, dtype: int64\n",
      "==============================\n"
     ]
    },
    {
     "data": {
      "text/plain": [
       "<AxesSubplot:xlabel='ArrivalTimeOfDay', ylabel='count'>"
      ]
     },
     "execution_count": 1208,
     "metadata": {},
     "output_type": "execute_result"
    },
    {
     "data": {
      "image/png": "[encoded data removed]",
      "text/plain": [
       "<Figure size 432x288 with 1 Axes>"
      ]
     },
     "metadata": {
      "needs_background": "light"
     },
     "output_type": "display_data"
    }
   ],
   "source": [
    "print('Count of ArrivalTimeOfDay')\n",
    "print(\"=\"*30)\n",
    "print(\"Total number of ArrivalTimeOfDay : \",df['ArrivalTimeOfDay'].nunique())\n",
    "print(\"=\"*30)\n",
    "arr_counts = df['ArrivalTimeOfDay'].value_counts()\n",
    "print('ArrivalTimeOfDay Counts :'\"\\n\",arr_counts)\n",
    "print(\"=\"*30)\n",
    "sns.countplot(x=\"ArrivalTimeOfDay\", data=df)"
   ]
  },
  {
   "cell_type": "markdown",
   "id": "60de01d8",
   "metadata": {},
   "source": [
    "Here we see that most of the flights arrive in the Evening time"
   ]
  },
  {
   "cell_type": "code",
   "execution_count": 1209,
   "id": "6106a11d",
   "metadata": {},
   "outputs": [
    {
     "data": {
      "text/plain": [
       "<AxesSubplot:xlabel='Price', ylabel='ArrivalTimeOfDay'>"
      ]
     },
     "execution_count": 1209,
     "metadata": {},
     "output_type": "execute_result"
    },
    {
     "data": {
      "image/png": "[encoded data removed]",
      "text/plain": [
       "<Figure size 576x360 with 1 Axes>"
      ]
     },
     "metadata": {
      "needs_background": "light"
     },
     "output_type": "display_data"
    }
   ],
   "source": [
    "plt.figure(figsize=(8,5))\n",
    "sns.barplot(y=\"ArrivalTimeOfDay\",x=\"Price\",data=df)"
   ]
  },
  {
   "cell_type": "markdown",
   "id": "7a846aef",
   "metadata": {},
   "source": [
    "- The flight which arrives at the evening has more prices than others.\n",
    "- Flight which arrives at Late night are cheaper\n",
    "- Nw since we are done with our analysis, we will drop ArrivalTimeOfDay column as it is no longer required."
   ]
  },
  {
   "cell_type": "code",
   "execution_count": 1210,
   "id": "c5f2f459",
   "metadata": {},
   "outputs": [],
   "source": [
    "df.drop('ArrivalTimeOfDay',axis=1,inplace=True)"
   ]
  },
  {
   "cell_type": "markdown",
   "id": "d1fc6141",
   "metadata": {},
   "source": [
    "<strong>Duration</strong>"
   ]
  },
  {
   "cell_type": "code",
   "execution_count": 1211,
   "id": "9913f3ce",
   "metadata": {},
   "outputs": [
    {
     "data": {
      "text/plain": [
       "Index(['Airline', 'Source', 'Destination', 'Total_Stops', 'Additional_Info',\n",
       "       'Price', 'DayOfJourney', 'MonthOfJourney', 'Dep_Hr', 'Dep_Min',\n",
       "       'Arr_Hr', 'Arr_Min', 'Duration_Hr', 'Duration_Min'],\n",
       "      dtype='object')"
      ]
     },
     "execution_count": 1211,
     "metadata": {},
     "output_type": "execute_result"
    }
   ],
   "source": [
    "df.columns"
   ]
  },
  {
   "cell_type": "code",
   "execution_count": 1212,
   "id": "5f7f80a5",
   "metadata": {},
   "outputs": [
    {
     "data": {
      "text/plain": [
       "{'1',\n",
       " '10',\n",
       " '10h',\n",
       " '11',\n",
       " '11h',\n",
       " '12',\n",
       " '12h',\n",
       " '13',\n",
       " '13h',\n",
       " '14',\n",
       " '14h',\n",
       " '15',\n",
       " '15h',\n",
       " '16',\n",
       " '16h',\n",
       " '17',\n",
       " '18',\n",
       " '18h',\n",
       " '19',\n",
       " '19h',\n",
       " '2',\n",
       " '20',\n",
       " '20h',\n",
       " '21',\n",
       " '21h',\n",
       " '22',\n",
       " '22h',\n",
       " '23',\n",
       " '23h',\n",
       " '24',\n",
       " '24h',\n",
       " '25',\n",
       " '25h',\n",
       " '26',\n",
       " '26h',\n",
       " '27',\n",
       " '27h',\n",
       " '28',\n",
       " '28h',\n",
       " '29',\n",
       " '3',\n",
       " '30',\n",
       " '30h',\n",
       " '31',\n",
       " '32',\n",
       " '33',\n",
       " '34',\n",
       " '35',\n",
       " '36',\n",
       " '37',\n",
       " '38',\n",
       " '38h',\n",
       " '3h',\n",
       " '4',\n",
       " '40',\n",
       " '41',\n",
       " '42',\n",
       " '47',\n",
       " '47h',\n",
       " '4h',\n",
       " '5',\n",
       " '5h',\n",
       " '6',\n",
       " '6h',\n",
       " '7',\n",
       " '7h',\n",
       " '8',\n",
       " '8h',\n",
       " '9',\n",
       " '9h'}"
      ]
     },
     "execution_count": 1212,
     "metadata": {},
     "output_type": "execute_result"
    }
   ],
   "source": [
    "set(df['Duration_Hr'])"
   ]
  },
  {
   "cell_type": "markdown",
   "id": "db75b600",
   "metadata": {},
   "source": [
    "We see that Duration_Hr still has h, so we will handle them now itself"
   ]
  },
  {
   "cell_type": "code",
   "execution_count": 1213,
   "id": "7f6e30a0",
   "metadata": {},
   "outputs": [],
   "source": [
    "df['Duration_Hr'],_ = df['Duration_Hr'].str.split('h',1).str"
   ]
  },
  {
   "cell_type": "code",
   "execution_count": 1214,
   "id": "88d1653e",
   "metadata": {},
   "outputs": [],
   "source": [
    "df['Duration_Hr'] = df['Duration_Hr'].astype(int)"
   ]
  },
  {
   "cell_type": "code",
   "execution_count": 1215,
   "id": "a77eb2ae",
   "metadata": {},
   "outputs": [
    {
     "data": {
      "text/plain": [
       "{1,\n",
       " 2,\n",
       " 3,\n",
       " 4,\n",
       " 5,\n",
       " 6,\n",
       " 7,\n",
       " 8,\n",
       " 9,\n",
       " 10,\n",
       " 11,\n",
       " 12,\n",
       " 13,\n",
       " 14,\n",
       " 15,\n",
       " 16,\n",
       " 17,\n",
       " 18,\n",
       " 19,\n",
       " 20,\n",
       " 21,\n",
       " 22,\n",
       " 23,\n",
       " 24,\n",
       " 25,\n",
       " 26,\n",
       " 27,\n",
       " 28,\n",
       " 29,\n",
       " 30,\n",
       " 31,\n",
       " 32,\n",
       " 33,\n",
       " 34,\n",
       " 35,\n",
       " 36,\n",
       " 37,\n",
       " 38,\n",
       " 40,\n",
       " 41,\n",
       " 42,\n",
       " 47}"
      ]
     },
     "execution_count": 1215,
     "metadata": {},
     "output_type": "execute_result"
    }
   ],
   "source": [
    "set(df['Duration_Hr'])"
   ]
  },
  {
   "cell_type": "markdown",
   "id": "94eb4255",
   "metadata": {},
   "source": [
    "So we have handled the Duration Hour but total duration is Duration Hour + Duration Minutes. So we will check the data for Duration minutes first and then we will add them"
   ]
  },
  {
   "cell_type": "code",
   "execution_count": 1216,
   "id": "5451dc3a",
   "metadata": {},
   "outputs": [
    {
     "data": {
      "text/plain": [
       "{0, '10', '15', '20', '25', '30', '35', '40', '45', '5', '50', '55'}"
      ]
     },
     "execution_count": 1216,
     "metadata": {},
     "output_type": "execute_result"
    }
   ],
   "source": [
    "set(df['Duration_Min'])"
   ]
  },
  {
   "cell_type": "code",
   "execution_count": 1217,
   "id": "3e778ef2",
   "metadata": {},
   "outputs": [],
   "source": [
    "#Convert into int\n",
    "df['Duration_Min'] = df['Duration_Min'].astype(int)"
   ]
  },
  {
   "cell_type": "code",
   "execution_count": 1218,
   "id": "89e26146",
   "metadata": {},
   "outputs": [
    {
     "data": {
      "text/plain": [
       "{0, 5, 10, 15, 20, 25, 30, 35, 40, 45, 50, 55}"
      ]
     },
     "execution_count": 1218,
     "metadata": {},
     "output_type": "execute_result"
    }
   ],
   "source": [
    "set(df['Duration_Min'])"
   ]
  },
  {
   "cell_type": "code",
   "execution_count": 1219,
   "id": "5b7494d0",
   "metadata": {},
   "outputs": [],
   "source": [
    "df['Actual_Duration_In_Hours'] = df['Duration_Hr']+(df['Duration_Min']/60)"
   ]
  },
  {
   "cell_type": "code",
   "execution_count": 1220,
   "id": "62254954",
   "metadata": {},
   "outputs": [
    {
     "data": {
      "text/html": [
       "<div>\n",
       "<style scoped>\n",
       "    .dataframe tbody tr th:only-of-type {\n",
       "        vertical-align: middle;\n",
       "    }\n",
       "\n",
       "    .dataframe tbody tr th {\n",
       "        vertical-align: top;\n",
       "    }\n",
       "\n",
       "    .dataframe thead th {\n",
       "        text-align: right;\n",
       "    }\n",
       "</style>\n",
       "<table border=\"1\" class=\"dataframe\">\n",
       "  <thead>\n",
       "    <tr style=\"text-align: right;\">\n",
       "      <th></th>\n",
       "      <th>Airline</th>\n",
       "      <th>Source</th>\n",
       "      <th>Destination</th>\n",
       "      <th>Total_Stops</th>\n",
       "      <th>Additional_Info</th>\n",
       "      <th>Price</th>\n",
       "      <th>DayOfJourney</th>\n",
       "      <th>MonthOfJourney</th>\n",
       "      <th>Dep_Hr</th>\n",
       "      <th>Dep_Min</th>\n",
       "      <th>Arr_Hr</th>\n",
       "      <th>Arr_Min</th>\n",
       "      <th>Duration_Hr</th>\n",
       "      <th>Duration_Min</th>\n",
       "      <th>Actual_Duration_In_Hours</th>\n",
       "    </tr>\n",
       "  </thead>\n",
       "  <tbody>\n",
       "    <tr>\n",
       "      <th>0</th>\n",
       "      <td>IndiGo</td>\n",
       "      <td>Banglore</td>\n",
       "      <td>Delhi</td>\n",
       "      <td>0</td>\n",
       "      <td>No Info</td>\n",
       "      <td>3897</td>\n",
       "      <td>24</td>\n",
       "      <td>March</td>\n",
       "      <td>22</td>\n",
       "      <td>20</td>\n",
       "      <td>1</td>\n",
       "      <td>10</td>\n",
       "      <td>2</td>\n",
       "      <td>50</td>\n",
       "      <td>2.833333</td>\n",
       "    </tr>\n",
       "    <tr>\n",
       "      <th>1</th>\n",
       "      <td>Air India</td>\n",
       "      <td>Kolkata</td>\n",
       "      <td>Banglore</td>\n",
       "      <td>2</td>\n",
       "      <td>No Info</td>\n",
       "      <td>7662</td>\n",
       "      <td>5</td>\n",
       "      <td>January</td>\n",
       "      <td>5</td>\n",
       "      <td>50</td>\n",
       "      <td>13</td>\n",
       "      <td>15</td>\n",
       "      <td>7</td>\n",
       "      <td>25</td>\n",
       "      <td>7.416667</td>\n",
       "    </tr>\n",
       "  </tbody>\n",
       "</table>\n",
       "</div>"
      ],
      "text/plain": [
       "     Airline    Source Destination Total_Stops Additional_Info  Price  \\\n",
       "0     IndiGo  Banglore       Delhi           0         No Info   3897   \n",
       "1  Air India   Kolkata    Banglore           2         No Info   7662   \n",
       "\n",
       "   DayOfJourney MonthOfJourney  Dep_Hr Dep_Min  Arr_Hr Arr_Min  Duration_Hr  \\\n",
       "0            24          March      22      20       1      10            2   \n",
       "1             5        January       5      50      13      15            7   \n",
       "\n",
       "   Duration_Min  Actual_Duration_In_Hours  \n",
       "0            50                  2.833333  \n",
       "1            25                  7.416667  "
      ]
     },
     "execution_count": 1220,
     "metadata": {},
     "output_type": "execute_result"
    }
   ],
   "source": [
    "df.head(2)"
   ]
  },
  {
   "cell_type": "code",
   "execution_count": 1221,
   "id": "d1cf3a89",
   "metadata": {},
   "outputs": [
    {
     "data": {
      "text/plain": [
       "<AxesSubplot:xlabel='Actual_Duration_In_Hours', ylabel='Count'>"
      ]
     },
     "execution_count": 1221,
     "metadata": {},
     "output_type": "execute_result"
    },
    {
     "data": {
      "image/png": "[encoded data removed]",
      "text/plain": [
       "<Figure size 432x288 with 1 Axes>"
      ]
     },
     "metadata": {
      "needs_background": "light"
     },
     "output_type": "display_data"
    }
   ],
   "source": [
    "sns.histplot(df['Actual_Duration_In_Hours'],color=\"blue\",kde=True,stat=\"count\")"
   ]
  },
  {
   "cell_type": "markdown",
   "id": "e82c1de6",
   "metadata": {},
   "source": [
    "We see that maximum duration is betwwen 3 to 4 hours, so lets plot Actual Duration vs Price now"
   ]
  },
  {
   "cell_type": "code",
   "execution_count": 1222,
   "id": "68169765",
   "metadata": {},
   "outputs": [
    {
     "data": {
      "image/png": "[encoded data removed]",
      "text/plain": [
       "<Figure size 720x360 with 1 Axes>"
      ]
     },
     "metadata": {
      "needs_background": "light"
     },
     "output_type": "display_data"
    }
   ],
   "source": [
    "plt.figure(figsize=(10,5))\n",
    "sns.scatterplot(df['Actual_Duration_In_Hours'], df['Price'])\n",
    "plt.title('Actual Duration vs Price', size=18)\n",
    "plt.xticks(rotation=90)\n",
    "plt.show()"
   ]
  },
  {
   "cell_type": "markdown",
   "id": "602f0554",
   "metadata": {},
   "source": [
    "We dont see any clear picture for correlation between Actual Duration and Price from the graph. Now since we are done with the plotting of the graph, we will keep Actual_Duration_In_Hours and will drop Duration_Hr, Duration_Min"
   ]
  },
  {
   "cell_type": "code",
   "execution_count": 1224,
   "id": "64fd8eef",
   "metadata": {},
   "outputs": [],
   "source": [
    "df.drop([\"Duration_Hr\", \"Duration_Min\"], axis = 1, inplace = True)"
   ]
  },
  {
   "cell_type": "code",
   "execution_count": 1225,
   "id": "8022d0d6",
   "metadata": {},
   "outputs": [
    {
     "data": {
      "text/html": [
       "<div>\n",
       "<style scoped>\n",
       "    .dataframe tbody tr th:only-of-type {\n",
       "        vertical-align: middle;\n",
       "    }\n",
       "\n",
       "    .dataframe tbody tr th {\n",
       "        vertical-align: top;\n",
       "    }\n",
       "\n",
       "    .dataframe thead th {\n",
       "        text-align: right;\n",
       "    }\n",
       "</style>\n",
       "<table border=\"1\" class=\"dataframe\">\n",
       "  <thead>\n",
       "    <tr style=\"text-align: right;\">\n",
       "      <th></th>\n",
       "      <th>Airline</th>\n",
       "      <th>Source</th>\n",
       "      <th>Destination</th>\n",
       "      <th>Total_Stops</th>\n",
       "      <th>Additional_Info</th>\n",
       "      <th>Price</th>\n",
       "      <th>DayOfJourney</th>\n",
       "      <th>MonthOfJourney</th>\n",
       "      <th>Dep_Hr</th>\n",
       "      <th>Dep_Min</th>\n",
       "      <th>Arr_Hr</th>\n",
       "      <th>Arr_Min</th>\n",
       "      <th>Actual_Duration_In_Hours</th>\n",
       "    </tr>\n",
       "  </thead>\n",
       "  <tbody>\n",
       "    <tr>\n",
       "      <th>0</th>\n",
       "      <td>IndiGo</td>\n",
       "      <td>Banglore</td>\n",
       "      <td>Delhi</td>\n",
       "      <td>0</td>\n",
       "      <td>No Info</td>\n",
       "      <td>3897</td>\n",
       "      <td>24</td>\n",
       "      <td>March</td>\n",
       "      <td>22</td>\n",
       "      <td>20</td>\n",
       "      <td>1</td>\n",
       "      <td>10</td>\n",
       "      <td>2.833333</td>\n",
       "    </tr>\n",
       "    <tr>\n",
       "      <th>1</th>\n",
       "      <td>Air India</td>\n",
       "      <td>Kolkata</td>\n",
       "      <td>Banglore</td>\n",
       "      <td>2</td>\n",
       "      <td>No Info</td>\n",
       "      <td>7662</td>\n",
       "      <td>5</td>\n",
       "      <td>January</td>\n",
       "      <td>5</td>\n",
       "      <td>50</td>\n",
       "      <td>13</td>\n",
       "      <td>15</td>\n",
       "      <td>7.416667</td>\n",
       "    </tr>\n",
       "  </tbody>\n",
       "</table>\n",
       "</div>"
      ],
      "text/plain": [
       "     Airline    Source Destination Total_Stops Additional_Info  Price  \\\n",
       "0     IndiGo  Banglore       Delhi           0         No Info   3897   \n",
       "1  Air India   Kolkata    Banglore           2         No Info   7662   \n",
       "\n",
       "   DayOfJourney MonthOfJourney  Dep_Hr Dep_Min  Arr_Hr Arr_Min  \\\n",
       "0            24          March      22      20       1      10   \n",
       "1             5        January       5      50      13      15   \n",
       "\n",
       "   Actual_Duration_In_Hours  \n",
       "0                  2.833333  \n",
       "1                  7.416667  "
      ]
     },
     "execution_count": 1225,
     "metadata": {},
     "output_type": "execute_result"
    }
   ],
   "source": [
    "df.head(2)"
   ]
  },
  {
   "cell_type": "code",
   "execution_count": 1226,
   "id": "d1a05611",
   "metadata": {},
   "outputs": [
    {
     "data": {
      "text/plain": [
       "(10267, 13)"
      ]
     },
     "execution_count": 1226,
     "metadata": {},
     "output_type": "execute_result"
    }
   ],
   "source": [
    "df.shape"
   ]
  },
  {
   "cell_type": "code",
   "execution_count": 1227,
   "id": "9dbad7bb",
   "metadata": {},
   "outputs": [],
   "source": [
    "df[\"Total_Stops\"] = df[\"Total_Stops\"].astype(str).astype(int)\n",
    "df[\"Dep_Min\"] = df[\"Dep_Min\"].astype(str).astype(int)\n",
    "df[\"Arr_Min\"] = df[\"Arr_Min\"].astype(str).astype(int)"
   ]
  },
  {
   "cell_type": "code",
   "execution_count": 1228,
   "id": "fdc08162",
   "metadata": {},
   "outputs": [],
   "source": [
    "from sklearn.preprocessing import LabelEncoder\n",
    "le= LabelEncoder()\n",
    "df['Airline']=le.fit_transform(df['Airline'])\n",
    "df['Source']=le.fit_transform(df['Source'])\n",
    "df['Destination']=le.fit_transform(df['Destination'])\n",
    "df['Additional_Info']=le.fit_transform(df['Additional_Info'])\n",
    "df['MonthOfJourney']=le.fit_transform(df['MonthOfJourney'])\n"
   ]
  },
  {
   "cell_type": "code",
   "execution_count": 1229,
   "id": "68f091a2",
   "metadata": {},
   "outputs": [
    {
     "name": "stdout",
     "output_type": "stream",
     "text": [
      "<class 'pandas.core.frame.DataFrame'>\n",
      "Int64Index: 10267 entries, 0 to 10682\n",
      "Data columns (total 13 columns):\n",
      " #   Column                    Non-Null Count  Dtype  \n",
      "---  ------                    --------------  -----  \n",
      " 0   Airline                   10267 non-null  int32  \n",
      " 1   Source                    10267 non-null  int32  \n",
      " 2   Destination               10267 non-null  int32  \n",
      " 3   Total_Stops               10267 non-null  int32  \n",
      " 4   Additional_Info           10267 non-null  int32  \n",
      " 5   Price                     10267 non-null  int64  \n",
      " 6   DayOfJourney              10267 non-null  int64  \n",
      " 7   MonthOfJourney            10267 non-null  int32  \n",
      " 8   Dep_Hr                    10267 non-null  int32  \n",
      " 9   Dep_Min                   10267 non-null  int32  \n",
      " 10  Arr_Hr                    10267 non-null  int32  \n",
      " 11  Arr_Min                   10267 non-null  int32  \n",
      " 12  Actual_Duration_In_Hours  10267 non-null  float64\n",
      "dtypes: float64(1), int32(10), int64(2)\n",
      "memory usage: 979.9 KB\n"
     ]
    }
   ],
   "source": [
    "df.info()"
   ]
  },
  {
   "cell_type": "code",
   "execution_count": 1230,
   "id": "7422580d",
   "metadata": {},
   "outputs": [
    {
     "data": {
      "text/plain": [
       "Index(['Airline', 'Source', 'Destination', 'Total_Stops', 'Additional_Info',\n",
       "       'Price', 'DayOfJourney', 'MonthOfJourney', 'Dep_Hr', 'Dep_Min',\n",
       "       'Arr_Hr', 'Arr_Min', 'Actual_Duration_In_Hours'],\n",
       "      dtype='object')"
      ]
     },
     "execution_count": 1230,
     "metadata": {},
     "output_type": "execute_result"
    }
   ],
   "source": [
    "df.columns"
   ]
  },
  {
   "cell_type": "markdown",
   "id": "451e1b43",
   "metadata": {},
   "source": [
    "# Rearranging the columns"
   ]
  },
  {
   "cell_type": "code",
   "execution_count": 1231,
   "id": "736bf630",
   "metadata": {},
   "outputs": [
    {
     "data": {
      "text/html": [
       "<div>\n",
       "<style scoped>\n",
       "    .dataframe tbody tr th:only-of-type {\n",
       "        vertical-align: middle;\n",
       "    }\n",
       "\n",
       "    .dataframe tbody tr th {\n",
       "        vertical-align: top;\n",
       "    }\n",
       "\n",
       "    .dataframe thead th {\n",
       "        text-align: right;\n",
       "    }\n",
       "</style>\n",
       "<table border=\"1\" class=\"dataframe\">\n",
       "  <thead>\n",
       "    <tr style=\"text-align: right;\">\n",
       "      <th></th>\n",
       "      <th>Airline</th>\n",
       "      <th>Source</th>\n",
       "      <th>Destination</th>\n",
       "      <th>Total_Stops</th>\n",
       "      <th>Additional_Info</th>\n",
       "      <th>DayOfJourney</th>\n",
       "      <th>MonthOfJourney</th>\n",
       "      <th>Dep_Hr</th>\n",
       "      <th>Dep_Min</th>\n",
       "      <th>Arr_Hr</th>\n",
       "      <th>Arr_Min</th>\n",
       "      <th>Actual_Duration_In_Hours</th>\n",
       "      <th>Price</th>\n",
       "    </tr>\n",
       "  </thead>\n",
       "  <tbody>\n",
       "    <tr>\n",
       "      <th>0</th>\n",
       "      <td>3</td>\n",
       "      <td>0</td>\n",
       "      <td>2</td>\n",
       "      <td>0</td>\n",
       "      <td>6</td>\n",
       "      <td>24</td>\n",
       "      <td>4</td>\n",
       "      <td>22</td>\n",
       "      <td>20</td>\n",
       "      <td>1</td>\n",
       "      <td>10</td>\n",
       "      <td>2.833333</td>\n",
       "      <td>3897</td>\n",
       "    </tr>\n",
       "    <tr>\n",
       "      <th>1</th>\n",
       "      <td>1</td>\n",
       "      <td>3</td>\n",
       "      <td>0</td>\n",
       "      <td>2</td>\n",
       "      <td>6</td>\n",
       "      <td>5</td>\n",
       "      <td>2</td>\n",
       "      <td>5</td>\n",
       "      <td>50</td>\n",
       "      <td>13</td>\n",
       "      <td>15</td>\n",
       "      <td>7.416667</td>\n",
       "      <td>7662</td>\n",
       "    </tr>\n",
       "  </tbody>\n",
       "</table>\n",
       "</div>"
      ],
      "text/plain": [
       "   Airline  Source  Destination  Total_Stops  Additional_Info  DayOfJourney  \\\n",
       "0        3       0            2            0                6            24   \n",
       "1        1       3            0            2                6             5   \n",
       "\n",
       "   MonthOfJourney  Dep_Hr  Dep_Min  Arr_Hr  Arr_Min  Actual_Duration_In_Hours  \\\n",
       "0               4      22       20       1       10                  2.833333   \n",
       "1               2       5       50      13       15                  7.416667   \n",
       "\n",
       "   Price  \n",
       "0   3897  \n",
       "1   7662  "
      ]
     },
     "execution_count": 1231,
     "metadata": {},
     "output_type": "execute_result"
    }
   ],
   "source": [
    "df = df[['Airline', 'Source', 'Destination', 'Total_Stops', 'Additional_Info',\n",
    "        'DayOfJourney', 'MonthOfJourney', 'Dep_Hr', 'Dep_Min',\n",
    "        'Arr_Hr', 'Arr_Min', 'Actual_Duration_In_Hours','Price']]\n",
    "df.head(2)"
   ]
  },
  {
   "cell_type": "markdown",
   "id": "59ae84ef",
   "metadata": {},
   "source": [
    "# HeatMap"
   ]
  },
  {
   "cell_type": "code",
   "execution_count": 1232,
   "id": "8784bb45",
   "metadata": {},
   "outputs": [
    {
     "data": {
      "text/plain": [
       "<AxesSubplot:>"
      ]
     },
     "execution_count": 1232,
     "metadata": {},
     "output_type": "execute_result"
    },
    {
     "data": {
      "image/png": "[encoded data removed]",
      "text/plain": [
       "<Figure size 864x864 with 2 Axes>"
      ]
     },
     "metadata": {
      "needs_background": "light"
     },
     "output_type": "display_data"
    }
   ],
   "source": [
    "plt.figure(figsize=(12,12))\n",
    "sns.heatmap(df.corr(),annot=True)"
   ]
  },
  {
   "cell_type": "markdown",
   "id": "b8637dc1",
   "metadata": {},
   "source": [
    "- Total Stops and Actual Duration in Hours are correlated\n",
    "- Total Stops and Price are correlated"
   ]
  },
  {
   "cell_type": "markdown",
   "id": "5826315f",
   "metadata": {},
   "source": [
    "# Outlier Checking"
   ]
  },
  {
   "cell_type": "code",
   "execution_count": 1233,
   "id": "74abe564",
   "metadata": {},
   "outputs": [
    {
     "data": {
      "text/html": [
       "<div>\n",
       "<style scoped>\n",
       "    .dataframe tbody tr th:only-of-type {\n",
       "        vertical-align: middle;\n",
       "    }\n",
       "\n",
       "    .dataframe tbody tr th {\n",
       "        vertical-align: top;\n",
       "    }\n",
       "\n",
       "    .dataframe thead th {\n",
       "        text-align: right;\n",
       "    }\n",
       "</style>\n",
       "<table border=\"1\" class=\"dataframe\">\n",
       "  <thead>\n",
       "    <tr style=\"text-align: right;\">\n",
       "      <th></th>\n",
       "      <th>Airline</th>\n",
       "      <th>Source</th>\n",
       "      <th>Destination</th>\n",
       "      <th>Total_Stops</th>\n",
       "      <th>Additional_Info</th>\n",
       "      <th>DayOfJourney</th>\n",
       "      <th>MonthOfJourney</th>\n",
       "      <th>Dep_Hr</th>\n",
       "      <th>Dep_Min</th>\n",
       "      <th>Arr_Hr</th>\n",
       "      <th>Arr_Min</th>\n",
       "      <th>Actual_Duration_In_Hours</th>\n",
       "    </tr>\n",
       "  </thead>\n",
       "  <tbody>\n",
       "    <tr>\n",
       "      <th>0</th>\n",
       "      <td>3</td>\n",
       "      <td>0</td>\n",
       "      <td>2</td>\n",
       "      <td>0</td>\n",
       "      <td>6</td>\n",
       "      <td>24</td>\n",
       "      <td>4</td>\n",
       "      <td>22</td>\n",
       "      <td>20</td>\n",
       "      <td>1</td>\n",
       "      <td>10</td>\n",
       "      <td>2.833333</td>\n",
       "    </tr>\n",
       "    <tr>\n",
       "      <th>1</th>\n",
       "      <td>1</td>\n",
       "      <td>3</td>\n",
       "      <td>0</td>\n",
       "      <td>2</td>\n",
       "      <td>6</td>\n",
       "      <td>5</td>\n",
       "      <td>2</td>\n",
       "      <td>5</td>\n",
       "      <td>50</td>\n",
       "      <td>13</td>\n",
       "      <td>15</td>\n",
       "      <td>7.416667</td>\n",
       "    </tr>\n",
       "  </tbody>\n",
       "</table>\n",
       "</div>"
      ],
      "text/plain": [
       "   Airline  Source  Destination  Total_Stops  Additional_Info  DayOfJourney  \\\n",
       "0        3       0            2            0                6            24   \n",
       "1        1       3            0            2                6             5   \n",
       "\n",
       "   MonthOfJourney  Dep_Hr  Dep_Min  Arr_Hr  Arr_Min  Actual_Duration_In_Hours  \n",
       "0               4      22       20       1       10                  2.833333  \n",
       "1               2       5       50      13       15                  7.416667  "
      ]
     },
     "execution_count": 1233,
     "metadata": {},
     "output_type": "execute_result"
    }
   ],
   "source": [
    "dataToPlot=df.drop(columns= ['Price'])\n",
    "dataToPlot.head(2)"
   ]
  },
  {
   "cell_type": "code",
   "execution_count": 1234,
   "id": "bd50cdc4",
   "metadata": {},
   "outputs": [
    {
     "data": {
      "text/html": [
       "<div>\n",
       "<style scoped>\n",
       "    .dataframe tbody tr th:only-of-type {\n",
       "        vertical-align: middle;\n",
       "    }\n",
       "\n",
       "    .dataframe tbody tr th {\n",
       "        vertical-align: top;\n",
       "    }\n",
       "\n",
       "    .dataframe thead th {\n",
       "        text-align: right;\n",
       "    }\n",
       "</style>\n",
       "<table border=\"1\" class=\"dataframe\">\n",
       "  <thead>\n",
       "    <tr style=\"text-align: right;\">\n",
       "      <th></th>\n",
       "      <th>Price</th>\n",
       "    </tr>\n",
       "  </thead>\n",
       "  <tbody>\n",
       "    <tr>\n",
       "      <th>0</th>\n",
       "      <td>3897</td>\n",
       "    </tr>\n",
       "    <tr>\n",
       "      <th>1</th>\n",
       "      <td>7662</td>\n",
       "    </tr>\n",
       "  </tbody>\n",
       "</table>\n",
       "</div>"
      ],
      "text/plain": [
       "   Price\n",
       "0   3897\n",
       "1   7662"
      ]
     },
     "execution_count": 1234,
     "metadata": {},
     "output_type": "execute_result"
    }
   ],
   "source": [
    "targetToPlot=df.loc[:, df.columns == 'Price']\n",
    "targetToPlot.head(2)"
   ]
  },
  {
   "cell_type": "code",
   "execution_count": 1235,
   "id": "3dab7ff9",
   "metadata": {},
   "outputs": [
    {
     "data": {
      "image/png": "[encoded data removed]",
      "text/plain": [
       "<Figure size 864x576 with 12 Axes>"
      ]
     },
     "metadata": {},
     "output_type": "display_data"
    }
   ],
   "source": [
    "#Lets see data distribution now using Boxplot\n",
    "plt.figure(figsize=(12,8),facecolor='orange')\n",
    "graph=1\n",
    "\n",
    "for column in dataToPlot:\n",
    "    \n",
    "    if graph<=12:\n",
    "        ax=plt.subplot(3,4,graph)        \n",
    "        sns.boxplot(dataToPlot[column])\n",
    "        plt.xlabel(column,fontsize=11)\n",
    "        \n",
    "    graph+=1   \n",
    "    \n",
    "plt.tight_layout()"
   ]
  },
  {
   "cell_type": "markdown",
   "id": "4b98835b",
   "metadata": {},
   "source": [
    "We see few Outliers in Actual_DUration_In_Hours column and very minimum outliers in Total Stops. So lets use zscore method to deal with the outliers"
   ]
  },
  {
   "cell_type": "code",
   "execution_count": 1236,
   "id": "dbea8a1b",
   "metadata": {},
   "outputs": [
    {
     "name": "stdout",
     "output_type": "stream",
     "text": [
      "(10267, 13)\n",
      "(10065, 13)\n"
     ]
    }
   ],
   "source": [
    "from scipy.stats import zscore\n",
    "z_score=abs(zscore(df))\n",
    "print(df.shape)\n",
    "df_new=df.loc[(z_score<3).all(axis=1)]\n",
    "print(df_new.shape)"
   ]
  },
  {
   "cell_type": "code",
   "execution_count": 1237,
   "id": "3e370813",
   "metadata": {},
   "outputs": [
    {
     "data": {
      "text/plain": [
       "1.9674685886821857"
      ]
     },
     "execution_count": 1237,
     "metadata": {},
     "output_type": "execute_result"
    }
   ],
   "source": [
    "loss_Percentage=((10267-10065)/10267)*100\n",
    "loss_Percentage"
   ]
  },
  {
   "cell_type": "markdown",
   "id": "2cca6c50",
   "metadata": {},
   "source": [
    "This loss is within the acceptable limits. We can easily delete the 1.968% of data and proceed further"
   ]
  },
  {
   "cell_type": "code",
   "execution_count": 1238,
   "id": "3f264fc6",
   "metadata": {},
   "outputs": [
    {
     "data": {
      "text/plain": [
       "((10065, 13), (10267, 13))"
      ]
     },
     "execution_count": 1238,
     "metadata": {},
     "output_type": "execute_result"
    }
   ],
   "source": [
    "df_new.shape , df.shape"
   ]
  },
  {
   "cell_type": "code",
   "execution_count": 1239,
   "id": "3ec0724e",
   "metadata": {},
   "outputs": [
    {
     "data": {
      "text/plain": [
       "(10065, 13)"
      ]
     },
     "execution_count": 1239,
     "metadata": {},
     "output_type": "execute_result"
    }
   ],
   "source": [
    "df=df_new\n",
    "df.shape"
   ]
  },
  {
   "cell_type": "markdown",
   "id": "b9d6ff89",
   "metadata": {},
   "source": [
    "# Skewness "
   ]
  },
  {
   "cell_type": "code",
   "execution_count": 1240,
   "id": "db289c56",
   "metadata": {},
   "outputs": [],
   "source": [
    "features=df.drop(columns=['Price'])"
   ]
  },
  {
   "cell_type": "code",
   "execution_count": 1241,
   "id": "c20c5bcc",
   "metadata": {},
   "outputs": [
    {
     "data": {
      "text/html": [
       "<div>\n",
       "<style scoped>\n",
       "    .dataframe tbody tr th:only-of-type {\n",
       "        vertical-align: middle;\n",
       "    }\n",
       "\n",
       "    .dataframe tbody tr th {\n",
       "        vertical-align: top;\n",
       "    }\n",
       "\n",
       "    .dataframe thead th {\n",
       "        text-align: right;\n",
       "    }\n",
       "</style>\n",
       "<table border=\"1\" class=\"dataframe\">\n",
       "  <thead>\n",
       "    <tr style=\"text-align: right;\">\n",
       "      <th></th>\n",
       "      <th>Skewness</th>\n",
       "    </tr>\n",
       "  </thead>\n",
       "  <tbody>\n",
       "    <tr>\n",
       "      <th>Airline</th>\n",
       "      <td>0.715334</td>\n",
       "    </tr>\n",
       "    <tr>\n",
       "      <th>Source</th>\n",
       "      <td>-0.432651</td>\n",
       "    </tr>\n",
       "    <tr>\n",
       "      <th>Destination</th>\n",
       "      <td>0.840208</td>\n",
       "    </tr>\n",
       "    <tr>\n",
       "      <th>Total_Stops</th>\n",
       "      <td>0.227065</td>\n",
       "    </tr>\n",
       "    <tr>\n",
       "      <th>Additional_Info</th>\n",
       "      <td>-0.719805</td>\n",
       "    </tr>\n",
       "    <tr>\n",
       "      <th>DayOfJourney</th>\n",
       "      <td>0.366820</td>\n",
       "    </tr>\n",
       "    <tr>\n",
       "      <th>MonthOfJourney</th>\n",
       "      <td>-0.360231</td>\n",
       "    </tr>\n",
       "    <tr>\n",
       "      <th>Dep_Hr</th>\n",
       "      <td>0.092443</td>\n",
       "    </tr>\n",
       "    <tr>\n",
       "      <th>Dep_Min</th>\n",
       "      <td>0.184533</td>\n",
       "    </tr>\n",
       "    <tr>\n",
       "      <th>Arr_Hr</th>\n",
       "      <td>-0.381338</td>\n",
       "    </tr>\n",
       "    <tr>\n",
       "      <th>Arr_Min</th>\n",
       "      <td>0.107701</td>\n",
       "    </tr>\n",
       "    <tr>\n",
       "      <th>Actual_Duration_In_Hours</th>\n",
       "      <td>0.857957</td>\n",
       "    </tr>\n",
       "  </tbody>\n",
       "</table>\n",
       "</div>"
      ],
      "text/plain": [
       "                          Skewness\n",
       "Airline                   0.715334\n",
       "Source                   -0.432651\n",
       "Destination               0.840208\n",
       "Total_Stops               0.227065\n",
       "Additional_Info          -0.719805\n",
       "DayOfJourney              0.366820\n",
       "MonthOfJourney           -0.360231\n",
       "Dep_Hr                    0.092443\n",
       "Dep_Min                   0.184533\n",
       "Arr_Hr                   -0.381338\n",
       "Arr_Min                   0.107701\n",
       "Actual_Duration_In_Hours  0.857957"
      ]
     },
     "execution_count": 1241,
     "metadata": {},
     "output_type": "execute_result"
    }
   ],
   "source": [
    "#Check Data Skewness\n",
    "skew_df=pd.DataFrame({'Skewness':features.skew()}) \n",
    "skew_df"
   ]
  },
  {
   "cell_type": "code",
   "execution_count": 1242,
   "id": "7699b93b",
   "metadata": {},
   "outputs": [
    {
     "name": "stdout",
     "output_type": "stream",
     "text": [
      "Out of 12 features 4 are skewed\n"
     ]
    }
   ],
   "source": [
    "print(\"Out of\",len(features.skew()),\"features\",len(features.skew().loc[abs(features.skew())>0.5]) ,\"are skewed\")"
   ]
  },
  {
   "cell_type": "markdown",
   "id": "ebfa9635",
   "metadata": {},
   "source": [
    "# Log1P Transformation"
   ]
  },
  {
   "cell_type": "code",
   "execution_count": 1243,
   "id": "084e3ce4",
   "metadata": {},
   "outputs": [
    {
     "name": "stdout",
     "output_type": "stream",
     "text": [
      "Airline                     0.371213\n",
      "Source                     -0.432651\n",
      "Destination                -0.063840\n",
      "Total_Stops                 0.227065\n",
      "Additional_Info            -0.403335\n",
      "DayOfJourney                0.366820\n",
      "MonthOfJourney             -0.360231\n",
      "Dep_Hr                      0.092443\n",
      "Dep_Min                     0.184533\n",
      "Arr_Hr                     -0.381338\n",
      "Arr_Min                     0.107701\n",
      "Actual_Duration_In_Hours    0.012418\n",
      "dtype: float64\n",
      "Out of 12 features 0 and hence we dont have any skewness problem now\n"
     ]
    }
   ],
   "source": [
    "for index in features.skew().index:\n",
    "    if features.skew().loc[index]>0.5:\n",
    "        features[index]=np.log1p(features[index])\n",
    "    if features.skew().loc[index]<-0.5:\n",
    "        features[index]=np.square(features[index])\n",
    "print(features.skew())\n",
    "print(\"Out of\",len(features.skew()),\"features\",len(features.skew().loc[abs(features.skew())>0.5]) \n",
    "      ,\"and hence we dont have any skewness problem now\")"
   ]
  },
  {
   "cell_type": "markdown",
   "id": "9f56de38",
   "metadata": {},
   "source": [
    "# Standard Scaler"
   ]
  },
  {
   "cell_type": "code",
   "execution_count": 1244,
   "id": "6ecae161",
   "metadata": {},
   "outputs": [],
   "source": [
    "from sklearn.preprocessing import StandardScaler\n",
    "sc=StandardScaler()\n",
    "\n",
    "x=sc.fit_transform(df)"
   ]
  },
  {
   "cell_type": "code",
   "execution_count": 1245,
   "id": "b30b0510",
   "metadata": {},
   "outputs": [
    {
     "data": {
      "text/html": [
       "<div>\n",
       "<style scoped>\n",
       "    .dataframe tbody tr th:only-of-type {\n",
       "        vertical-align: middle;\n",
       "    }\n",
       "\n",
       "    .dataframe tbody tr th {\n",
       "        vertical-align: top;\n",
       "    }\n",
       "\n",
       "    .dataframe thead th {\n",
       "        text-align: right;\n",
       "    }\n",
       "</style>\n",
       "<table border=\"1\" class=\"dataframe\">\n",
       "  <thead>\n",
       "    <tr style=\"text-align: right;\">\n",
       "      <th></th>\n",
       "      <th>Airline</th>\n",
       "      <th>Source</th>\n",
       "      <th>Destination</th>\n",
       "      <th>Total_Stops</th>\n",
       "      <th>Additional_Info</th>\n",
       "      <th>DayOfJourney</th>\n",
       "      <th>MonthOfJourney</th>\n",
       "      <th>Dep_Hr</th>\n",
       "      <th>Dep_Min</th>\n",
       "      <th>Arr_Hr</th>\n",
       "      <th>Arr_Min</th>\n",
       "      <th>Actual_Duration_In_Hours</th>\n",
       "      <th>Price</th>\n",
       "    </tr>\n",
       "  </thead>\n",
       "  <tbody>\n",
       "    <tr>\n",
       "      <th>0</th>\n",
       "      <td>3</td>\n",
       "      <td>0</td>\n",
       "      <td>2</td>\n",
       "      <td>0</td>\n",
       "      <td>6</td>\n",
       "      <td>24</td>\n",
       "      <td>4</td>\n",
       "      <td>22</td>\n",
       "      <td>20</td>\n",
       "      <td>1</td>\n",
       "      <td>10</td>\n",
       "      <td>2.833333</td>\n",
       "      <td>3897</td>\n",
       "    </tr>\n",
       "  </tbody>\n",
       "</table>\n",
       "</div>"
      ],
      "text/plain": [
       "   Airline  Source  Destination  Total_Stops  Additional_Info  DayOfJourney  \\\n",
       "0        3       0            2            0                6            24   \n",
       "\n",
       "   MonthOfJourney  Dep_Hr  Dep_Min  Arr_Hr  Arr_Min  Actual_Duration_In_Hours  \\\n",
       "0               4      22       20       1       10                  2.833333   \n",
       "\n",
       "   Price  \n",
       "0   3897  "
      ]
     },
     "execution_count": 1245,
     "metadata": {},
     "output_type": "execute_result"
    }
   ],
   "source": [
    "X_vif=df\n",
    "X_vif.head(1)"
   ]
  },
  {
   "cell_type": "code",
   "execution_count": 1246,
   "id": "e756f35c",
   "metadata": {},
   "outputs": [
    {
     "data": {
      "text/html": [
       "<div>\n",
       "<style scoped>\n",
       "    .dataframe tbody tr th:only-of-type {\n",
       "        vertical-align: middle;\n",
       "    }\n",
       "\n",
       "    .dataframe tbody tr th {\n",
       "        vertical-align: top;\n",
       "    }\n",
       "\n",
       "    .dataframe thead th {\n",
       "        text-align: right;\n",
       "    }\n",
       "</style>\n",
       "<table border=\"1\" class=\"dataframe\">\n",
       "  <thead>\n",
       "    <tr style=\"text-align: right;\">\n",
       "      <th></th>\n",
       "      <th>vif</th>\n",
       "      <th>features</th>\n",
       "    </tr>\n",
       "  </thead>\n",
       "  <tbody>\n",
       "    <tr>\n",
       "      <th>0</th>\n",
       "      <td>1.075148</td>\n",
       "      <td>Airline</td>\n",
       "    </tr>\n",
       "    <tr>\n",
       "      <th>1</th>\n",
       "      <td>1.253905</td>\n",
       "      <td>Source</td>\n",
       "    </tr>\n",
       "    <tr>\n",
       "      <th>2</th>\n",
       "      <td>1.537681</td>\n",
       "      <td>Destination</td>\n",
       "    </tr>\n",
       "    <tr>\n",
       "      <th>3</th>\n",
       "      <td>2.889356</td>\n",
       "      <td>Total_Stops</td>\n",
       "    </tr>\n",
       "    <tr>\n",
       "      <th>4</th>\n",
       "      <td>1.086383</td>\n",
       "      <td>Additional_Info</td>\n",
       "    </tr>\n",
       "    <tr>\n",
       "      <th>5</th>\n",
       "      <td>1.050702</td>\n",
       "      <td>DayOfJourney</td>\n",
       "    </tr>\n",
       "    <tr>\n",
       "      <th>6</th>\n",
       "      <td>1.036960</td>\n",
       "      <td>MonthOfJourney</td>\n",
       "    </tr>\n",
       "    <tr>\n",
       "      <th>7</th>\n",
       "      <td>1.040302</td>\n",
       "      <td>Dep_Hr</td>\n",
       "    </tr>\n",
       "    <tr>\n",
       "      <th>8</th>\n",
       "      <td>1.024507</td>\n",
       "      <td>Dep_Min</td>\n",
       "    </tr>\n",
       "    <tr>\n",
       "      <th>9</th>\n",
       "      <td>1.031345</td>\n",
       "      <td>Arr_Hr</td>\n",
       "    </tr>\n",
       "    <tr>\n",
       "      <th>10</th>\n",
       "      <td>1.056306</td>\n",
       "      <td>Arr_Min</td>\n",
       "    </tr>\n",
       "    <tr>\n",
       "      <th>11</th>\n",
       "      <td>2.223839</td>\n",
       "      <td>Actual_Duration_In_Hours</td>\n",
       "    </tr>\n",
       "    <tr>\n",
       "      <th>12</th>\n",
       "      <td>1.992151</td>\n",
       "      <td>Price</td>\n",
       "    </tr>\n",
       "  </tbody>\n",
       "</table>\n",
       "</div>"
      ],
      "text/plain": [
       "         vif                  features\n",
       "0   1.075148                   Airline\n",
       "1   1.253905                    Source\n",
       "2   1.537681               Destination\n",
       "3   2.889356               Total_Stops\n",
       "4   1.086383           Additional_Info\n",
       "5   1.050702              DayOfJourney\n",
       "6   1.036960            MonthOfJourney\n",
       "7   1.040302                    Dep_Hr\n",
       "8   1.024507                   Dep_Min\n",
       "9   1.031345                    Arr_Hr\n",
       "10  1.056306                   Arr_Min\n",
       "11  2.223839  Actual_Duration_In_Hours\n",
       "12  1.992151                     Price"
      ]
     },
     "execution_count": 1246,
     "metadata": {},
     "output_type": "execute_result"
    }
   ],
   "source": [
    "from statsmodels.stats.outliers_influence import variance_inflation_factor\n",
    "vif=pd.DataFrame()\n",
    "vif['vif']=[variance_inflation_factor(x,i) for i in range(x.shape[1])]\n",
    "vif['features']=X_vif.columns\n",
    "\n",
    "# Let's check the values now\n",
    "vif"
   ]
  },
  {
   "cell_type": "markdown",
   "id": "8e356fc7",
   "metadata": {},
   "source": [
    "We dont see any multicollinearity problem, hence we are good to go now."
   ]
  },
  {
   "cell_type": "markdown",
   "id": "af4770f2",
   "metadata": {},
   "source": [
    "# Feature Importance"
   ]
  },
  {
   "cell_type": "code",
   "execution_count": 1247,
   "id": "8b6aaa8a",
   "metadata": {},
   "outputs": [
    {
     "data": {
      "text/plain": [
       "(10065, 1)"
      ]
     },
     "execution_count": 1247,
     "metadata": {},
     "output_type": "execute_result"
    }
   ],
   "source": [
    "target=df[[\"Price\"]]\n",
    "target.shape"
   ]
  },
  {
   "cell_type": "code",
   "execution_count": 1248,
   "id": "165b0700",
   "metadata": {},
   "outputs": [
    {
     "data": {
      "text/plain": [
       "((10065, 12), (10065, 1))"
      ]
     },
     "execution_count": 1248,
     "metadata": {},
     "output_type": "execute_result"
    }
   ],
   "source": [
    "features.shape, target.shape"
   ]
  },
  {
   "cell_type": "code",
   "execution_count": 1249,
   "id": "940b42ce",
   "metadata": {},
   "outputs": [
    {
     "name": "stdout",
     "output_type": "stream",
     "text": [
      "[0.10083583 0.01124993 0.01341394 0.05097404 0.06233421 0.09673311\n",
      " 0.03467565 0.02576682 0.02321243 0.02411907 0.02268083 0.53400413]\n"
     ]
    }
   ],
   "source": [
    "from sklearn.ensemble import RandomForestRegressor\n",
    "import matplotlib.pyplot as plt\n",
    "feature_rf = RandomForestRegressor()\n",
    "feature_rf.fit(features,target)\n",
    "print(feature_rf.feature_importances_)"
   ]
  },
  {
   "cell_type": "code",
   "execution_count": 1250,
   "id": "8197c34a",
   "metadata": {},
   "outputs": [
    {
     "data": {
      "image/png": "[encoded data removed]",
      "text/plain": [
       "<Figure size 432x288 with 1 Axes>"
      ]
     },
     "metadata": {
      "needs_background": "light"
     },
     "output_type": "display_data"
    }
   ],
   "source": [
    "#plot graph of feature importances for better visualization\n",
    "featureImportance = pd.Series(feature_rf.feature_importances_, index=features.columns)\n",
    "featureImportance.nlargest(6).plot(kind='barh',color=\"navy\") # Lets plot for 8 features \n",
    "plt.show()"
   ]
  },
  {
   "cell_type": "markdown",
   "id": "ab8a63a0",
   "metadata": {},
   "source": [
    "- Above is most Important six features\n",
    "- The most important feature is Actual_Duration_In_Hours"
   ]
  },
  {
   "cell_type": "markdown",
   "id": "cd27463a",
   "metadata": {},
   "source": [
    "# Model Building"
   ]
  },
  {
   "cell_type": "code",
   "execution_count": 1251,
   "id": "3765e617",
   "metadata": {},
   "outputs": [],
   "source": [
    "from sklearn.model_selection import train_test_split\n",
    "from sklearn.linear_model import LinearRegression\n",
    "from sklearn.metrics import mean_absolute_error\n",
    "from sklearn.metrics import mean_squared_error\n",
    "from sklearn.metrics import r2_score"
   ]
  },
  {
   "cell_type": "code",
   "execution_count": 1252,
   "id": "fb25838c",
   "metadata": {},
   "outputs": [],
   "source": [
    "features=df.drop(['Price'], axis=1)\n",
    "target=df[['Price']]"
   ]
  },
  {
   "cell_type": "code",
   "execution_count": 1253,
   "id": "820be6de",
   "metadata": {},
   "outputs": [],
   "source": [
    "# Define function to get the r2 Score for different Regression models\n",
    "def get_r2_score(model,features,target):\n",
    "    max_r2_score=0\n",
    "    for i in range(40,100):\n",
    "        x_train, x_test, y_train, y_test = train_test_split(features, target,random_state = i,test_size=0.20)\n",
    "        model.fit(x_train,y_train)\n",
    "        y_pred = model.predict(x_test)\n",
    "        r2=r2_score(y_test,y_pred)\n",
    "        print(\"r2 score corresponding to \",i,\" is \",r2)\n",
    "        if r2>max_r2_score:\n",
    "            max_r2_score=r2\n",
    "            final_i=i\n",
    "    print(\"At \",final_i,\"r2 score is \",max_r2_score)\n",
    "    return final_i"
   ]
  },
  {
   "cell_type": "markdown",
   "id": "881f0841",
   "metadata": {},
   "source": [
    "# Linear Regression"
   ]
  },
  {
   "cell_type": "code",
   "execution_count": 1254,
   "id": "7fa42e1f",
   "metadata": {},
   "outputs": [
    {
     "name": "stdout",
     "output_type": "stream",
     "text": [
      "r2 score corresponding to  40  is  0.5065519575085085\n",
      "r2 score corresponding to  41  is  0.49784140678539834\n",
      "r2 score corresponding to  42  is  0.48667828031979354\n",
      "r2 score corresponding to  43  is  0.4823405477960222\n",
      "r2 score corresponding to  44  is  0.49979404415693907\n",
      "r2 score corresponding to  45  is  0.4916745451811606\n",
      "r2 score corresponding to  46  is  0.4992249195504218\n",
      "r2 score corresponding to  47  is  0.4864172321636675\n",
      "r2 score corresponding to  48  is  0.4843489476617112\n",
      "r2 score corresponding to  49  is  0.5319020483541822\n",
      "r2 score corresponding to  50  is  0.49874750956467706\n",
      "r2 score corresponding to  51  is  0.510938871474273\n",
      "r2 score corresponding to  52  is  0.5040333711772813\n",
      "r2 score corresponding to  53  is  0.48188231433680395\n",
      "r2 score corresponding to  54  is  0.469405883245298\n",
      "r2 score corresponding to  55  is  0.48759988646684194\n",
      "r2 score corresponding to  56  is  0.49128123635583176\n",
      "r2 score corresponding to  57  is  0.47272021114374296\n",
      "r2 score corresponding to  58  is  0.5080093414948149\n",
      "r2 score corresponding to  59  is  0.4861947232696342\n",
      "r2 score corresponding to  60  is  0.48777238085446484\n",
      "r2 score corresponding to  61  is  0.48994942711648914\n",
      "r2 score corresponding to  62  is  0.5072059526098142\n",
      "r2 score corresponding to  63  is  0.4967635736163206\n",
      "r2 score corresponding to  64  is  0.5056877941559259\n",
      "r2 score corresponding to  65  is  0.5002595748071974\n",
      "r2 score corresponding to  66  is  0.47290463052135345\n",
      "r2 score corresponding to  67  is  0.49191170789858674\n",
      "r2 score corresponding to  68  is  0.49076628178312653\n",
      "r2 score corresponding to  69  is  0.5016836126008786\n",
      "r2 score corresponding to  70  is  0.4830436166312956\n",
      "r2 score corresponding to  71  is  0.5000468225626887\n",
      "r2 score corresponding to  72  is  0.497346240117734\n",
      "r2 score corresponding to  73  is  0.49036234417888536\n",
      "r2 score corresponding to  74  is  0.4670009259875416\n",
      "r2 score corresponding to  75  is  0.49995521454823133\n",
      "r2 score corresponding to  76  is  0.5045972634944405\n",
      "r2 score corresponding to  77  is  0.48495302939776563\n",
      "r2 score corresponding to  78  is  0.4927600804516956\n",
      "r2 score corresponding to  79  is  0.4903407219245821\n",
      "r2 score corresponding to  80  is  0.49744197806072865\n",
      "r2 score corresponding to  81  is  0.49897537009744464\n",
      "r2 score corresponding to  82  is  0.4920609859699835\n",
      "r2 score corresponding to  83  is  0.48084349207524024\n",
      "r2 score corresponding to  84  is  0.5082029185847514\n",
      "r2 score corresponding to  85  is  0.4941147059228749\n",
      "r2 score corresponding to  86  is  0.48579749235347724\n",
      "r2 score corresponding to  87  is  0.5021149461132148\n",
      "r2 score corresponding to  88  is  0.503958942749719\n",
      "r2 score corresponding to  89  is  0.5102184588590405\n",
      "r2 score corresponding to  90  is  0.49220776119564336\n",
      "r2 score corresponding to  91  is  0.5151839477109181\n",
      "r2 score corresponding to  92  is  0.5200607868512411\n",
      "r2 score corresponding to  93  is  0.5054524678545611\n",
      "r2 score corresponding to  94  is  0.514696772754068\n",
      "r2 score corresponding to  95  is  0.5026837812792633\n",
      "r2 score corresponding to  96  is  0.5004550096100683\n",
      "r2 score corresponding to  97  is  0.5007890508935207\n",
      "r2 score corresponding to  98  is  0.5094359624978204\n",
      "r2 score corresponding to  99  is  0.4958470883274724\n",
      "At  49 r2 score is  0.5319020483541822\n"
     ]
    },
    {
     "data": {
      "text/plain": [
       "49"
      ]
     },
     "execution_count": 1254,
     "metadata": {},
     "output_type": "execute_result"
    }
   ],
   "source": [
    "from sklearn.linear_model import LinearRegression\n",
    "lr=LinearRegression()\n",
    "get_r2_score(lr,features,target)"
   ]
  },
  {
   "cell_type": "code",
   "execution_count": 1255,
   "id": "8c928053",
   "metadata": {},
   "outputs": [
    {
     "data": {
      "text/plain": [
       "0.5319020483541822"
      ]
     },
     "execution_count": 1255,
     "metadata": {},
     "output_type": "execute_result"
    }
   ],
   "source": [
    "x_train, x_test, y_train, y_test = train_test_split(features,target,test_size=0.20,random_state = 49)\n",
    "lr.fit(x_train,y_train)\n",
    "pred_train=lr.predict(x_train)\n",
    "pred_test=lr.predict(x_test)\n",
    "r2_final_score=r2_score(y_test,pred_test)\n",
    "r2_final_score"
   ]
  },
  {
   "cell_type": "code",
   "execution_count": 1256,
   "id": "063c99fd",
   "metadata": {},
   "outputs": [
    {
     "name": "stdout",
     "output_type": "stream",
     "text": [
      "mean_absolute_error : 2251.7542307865415\n",
      "mean_squared_error :  8314825.7794185905\n",
      "root_mean_squared_error :  2883.5439617627803\n"
     ]
    }
   ],
   "source": [
    "from sklearn import metrics\n",
    "# calculate MAE, MSE, RMSE on Train Data\n",
    "print (\"mean_absolute_error :\",metrics.mean_absolute_error(y_train, pred_train))\n",
    "print (\"mean_squared_error : \",metrics.mean_squared_error(y_train, pred_train))\n",
    "print (\"root_mean_squared_error : \",np.sqrt(metrics.mean_squared_error(y_train, pred_train)))"
   ]
  },
  {
   "cell_type": "code",
   "execution_count": 1257,
   "id": "917b3615",
   "metadata": {},
   "outputs": [
    {
     "name": "stdout",
     "output_type": "stream",
     "text": [
      "mean_absolute_error : 2229.7304658941684\n",
      "mean_squared_error :  7861992.836806858\n",
      "root_mean_squared_error :  2803.924541924561\n"
     ]
    }
   ],
   "source": [
    "# calculate MAE, MSE, RMSE on Test Data\n",
    "print (\"mean_absolute_error :\",metrics.mean_absolute_error(y_test, pred_test))\n",
    "print (\"mean_squared_error : \",metrics.mean_squared_error(y_test, pred_test))\n",
    "print (\"root_mean_squared_error : \",np.sqrt(metrics.mean_squared_error(y_test, pred_test)))"
   ]
  },
  {
   "cell_type": "code",
   "execution_count": 1258,
   "id": "7660bfcf",
   "metadata": {},
   "outputs": [
    {
     "name": "stdout",
     "output_type": "stream",
     "text": [
      "The CV score is : 0.4963320253599738\n"
     ]
    }
   ],
   "source": [
    "#So with above data,lets select CV as 5, as most of them as same CV\n",
    "from sklearn.model_selection import cross_val_score\n",
    "lsScore_selected=cross_val_score(lr,features,target,cv=5).mean()\n",
    "print(\"The CV score is :\",lsScore_selected)"
   ]
  },
  {
   "cell_type": "code",
   "execution_count": 1259,
   "id": "349346f3",
   "metadata": {},
   "outputs": [
    {
     "data": {
      "text/html": [
       "<div>\n",
       "<style scoped>\n",
       "    .dataframe tbody tr th:only-of-type {\n",
       "        vertical-align: middle;\n",
       "    }\n",
       "\n",
       "    .dataframe tbody tr th {\n",
       "        vertical-align: top;\n",
       "    }\n",
       "\n",
       "    .dataframe thead th {\n",
       "        text-align: right;\n",
       "    }\n",
       "</style>\n",
       "<table border=\"1\" class=\"dataframe\">\n",
       "  <thead>\n",
       "    <tr style=\"text-align: right;\">\n",
       "      <th></th>\n",
       "      <th>Model</th>\n",
       "      <th>MAE</th>\n",
       "      <th>MSE</th>\n",
       "      <th>RMSE</th>\n",
       "      <th>R2 Score</th>\n",
       "      <th>CV Score</th>\n",
       "    </tr>\n",
       "  </thead>\n",
       "  <tbody>\n",
       "    <tr>\n",
       "      <th>0</th>\n",
       "      <td>Linear Regression</td>\n",
       "      <td>2229.730466</td>\n",
       "      <td>7.861993e+06</td>\n",
       "      <td>2803.924542</td>\n",
       "      <td>0.531902</td>\n",
       "      <td>0.496332</td>\n",
       "    </tr>\n",
       "  </tbody>\n",
       "</table>\n",
       "</div>"
      ],
      "text/plain": [
       "               Model          MAE           MSE         RMSE  R2 Score  \\\n",
       "0  Linear Regression  2229.730466  7.861993e+06  2803.924542  0.531902   \n",
       "\n",
       "   CV Score  \n",
       "0  0.496332  "
      ]
     },
     "execution_count": 1259,
     "metadata": {},
     "output_type": "execute_result"
    }
   ],
   "source": [
    "lr_data = {'Model': ['Linear Regression'], \n",
    "           'MAE': metrics.mean_absolute_error(y_test, pred_test),'MSE':metrics.mean_squared_error(y_test, pred_test),\n",
    "           'RMSE':np.sqrt(metrics.mean_squared_error(y_test, pred_test)),\n",
    "           'R2 Score': r2_final_score,\n",
    "           'CV Score': lsScore_selected\n",
    "          }\n",
    "\n",
    "df_LR = pd.DataFrame(lr_data)\n",
    "df_LR"
   ]
  },
  {
   "cell_type": "markdown",
   "id": "bfc26b8b",
   "metadata": {},
   "source": [
    "# Regularization Techniques\n",
    "Once we use linear regression on a data-set divided in to training and test set, calculating the scores on training and test set can give us a rough idea about whether the model is suffering from over-fitting or under-fitting.\n",
    "\n",
    "If we have very few features on a data-set and the score is poor for both training and test set then it’s a problem of under-fitting. On the other hand if we have large number of features and test score is relatively poor than the training score then it’s the problem of over-fitting.\n",
    "\n",
    "Regularization is a simple technique to reduce model complexity and prevent over-fitting which may result from simple linear regression."
   ]
  },
  {
   "cell_type": "markdown",
   "id": "d7664a2a",
   "metadata": {},
   "source": [
    "# Ridge"
   ]
  },
  {
   "cell_type": "code",
   "execution_count": 1260,
   "id": "1d030810",
   "metadata": {},
   "outputs": [],
   "source": [
    "from sklearn.linear_model import Ridge\n",
    "ridgeReg = Ridge(alpha=0.1,max_iter=20, normalize=True)"
   ]
  },
  {
   "cell_type": "code",
   "execution_count": 1261,
   "id": "e8958aab",
   "metadata": {},
   "outputs": [
    {
     "name": "stdout",
     "output_type": "stream",
     "text": [
      "r2 score corresponding to  40  is  0.50221005339696\n",
      "r2 score corresponding to  41  is  0.49201465004258726\n",
      "r2 score corresponding to  42  is  0.48358599259760393\n",
      "r2 score corresponding to  43  is  0.4781203861655613\n",
      "r2 score corresponding to  44  is  0.49592907787377916\n",
      "r2 score corresponding to  45  is  0.48840864918876414\n",
      "r2 score corresponding to  46  is  0.4946153509202458\n",
      "r2 score corresponding to  47  is  0.479001693221197\n",
      "r2 score corresponding to  48  is  0.484301325618959\n",
      "r2 score corresponding to  49  is  0.5238148342061876\n",
      "r2 score corresponding to  50  is  0.4941169935647932\n",
      "r2 score corresponding to  51  is  0.5046418475779959\n",
      "r2 score corresponding to  52  is  0.5011475329743985\n",
      "r2 score corresponding to  53  is  0.47805689096327286\n",
      "r2 score corresponding to  54  is  0.46768309130076313\n",
      "r2 score corresponding to  55  is  0.4899575709546322\n",
      "r2 score corresponding to  56  is  0.48477605729233164\n",
      "r2 score corresponding to  57  is  0.47162073392953396\n",
      "r2 score corresponding to  58  is  0.5043229217112863\n",
      "r2 score corresponding to  59  is  0.4867158519722904\n",
      "r2 score corresponding to  60  is  0.48457587698122007\n",
      "r2 score corresponding to  61  is  0.48839922501898003\n",
      "r2 score corresponding to  62  is  0.5023568783332639\n",
      "r2 score corresponding to  63  is  0.4943592718197992\n",
      "r2 score corresponding to  64  is  0.5039609695857656\n",
      "r2 score corresponding to  65  is  0.4966332436453904\n",
      "r2 score corresponding to  66  is  0.47250871767213387\n",
      "r2 score corresponding to  67  is  0.4894188921412984\n",
      "r2 score corresponding to  68  is  0.4890772950314526\n",
      "r2 score corresponding to  69  is  0.49674000295612164\n",
      "r2 score corresponding to  70  is  0.48023436490868476\n",
      "r2 score corresponding to  71  is  0.49561875981593306\n",
      "r2 score corresponding to  72  is  0.49215999859549076\n",
      "r2 score corresponding to  73  is  0.4892983125105429\n",
      "r2 score corresponding to  74  is  0.4634500200572863\n",
      "r2 score corresponding to  75  is  0.4990941046528222\n",
      "r2 score corresponding to  76  is  0.4988890428254039\n",
      "r2 score corresponding to  77  is  0.483362204222351\n",
      "r2 score corresponding to  78  is  0.4868710611227257\n",
      "r2 score corresponding to  79  is  0.48516734754762436\n",
      "r2 score corresponding to  80  is  0.4906935247612717\n",
      "r2 score corresponding to  81  is  0.494142162875596\n",
      "r2 score corresponding to  82  is  0.48937521476313506\n",
      "r2 score corresponding to  83  is  0.4771129286816699\n",
      "r2 score corresponding to  84  is  0.5051428733987627\n",
      "r2 score corresponding to  85  is  0.4909175049785689\n",
      "r2 score corresponding to  86  is  0.4825151654324059\n",
      "r2 score corresponding to  87  is  0.49807984951044926\n",
      "r2 score corresponding to  88  is  0.497713327109665\n",
      "r2 score corresponding to  89  is  0.5052759121523247\n",
      "r2 score corresponding to  90  is  0.49050942268787656\n",
      "r2 score corresponding to  91  is  0.5114514518948057\n",
      "r2 score corresponding to  92  is  0.5168396380101232\n",
      "r2 score corresponding to  93  is  0.5032168421857497\n",
      "r2 score corresponding to  94  is  0.5088368978012059\n",
      "r2 score corresponding to  95  is  0.4982992530035515\n",
      "r2 score corresponding to  96  is  0.4974539072809564\n",
      "r2 score corresponding to  97  is  0.4953696135903073\n",
      "r2 score corresponding to  98  is  0.5068321376228961\n",
      "r2 score corresponding to  99  is  0.4927732849112869\n",
      "At  49 r2 score is  0.5238148342061876\n"
     ]
    },
    {
     "data": {
      "text/plain": [
       "49"
      ]
     },
     "execution_count": 1261,
     "metadata": {},
     "output_type": "execute_result"
    }
   ],
   "source": [
    "get_r2_score(ridgeReg,features,target)"
   ]
  },
  {
   "cell_type": "code",
   "execution_count": 1262,
   "id": "ef16a6ce",
   "metadata": {},
   "outputs": [
    {
     "data": {
      "text/plain": [
       "0.5238148342061876"
      ]
     },
     "execution_count": 1262,
     "metadata": {},
     "output_type": "execute_result"
    }
   ],
   "source": [
    "x_train, x_test, y_train, y_test = train_test_split(features,target,test_size=0.20,random_state = 49)\n",
    "ridgeReg.fit(x_train,y_train)\n",
    "ridge_pred = ridgeReg.predict(x_test)\n",
    "ridge_pred_train = ridgeReg.predict(x_train)\n",
    "r2_final_score=r2_score(y_test,ridge_pred)\n",
    "r2_final_score"
   ]
  },
  {
   "cell_type": "code",
   "execution_count": 1263,
   "id": "49473671",
   "metadata": {},
   "outputs": [
    {
     "name": "stdout",
     "output_type": "stream",
     "text": [
      "The CV score is : 0.4929087167467923\n"
     ]
    }
   ],
   "source": [
    "ridge_cvScore=cross_val_score(ridgeReg,features,target,cv=5).mean()\n",
    "print(\"The CV score is :\",ridge_cvScore)"
   ]
  },
  {
   "cell_type": "code",
   "execution_count": 1264,
   "id": "31cfcccb",
   "metadata": {},
   "outputs": [
    {
     "name": "stdout",
     "output_type": "stream",
     "text": [
      "r2_score 0.5238148342061876\n",
      "mean_absolute_error : 2252.619661161593\n",
      "mean_squared_error :  7997822.569617492\n",
      "root_mean_squared_error :  2828.0421796036726\n",
      "Cross Validation Score :  0.4929087167467923\n"
     ]
    }
   ],
   "source": [
    "#Test Data\n",
    "print(\"r2_score\",r2_final_score)\n",
    "print (\"mean_absolute_error :\",metrics.mean_absolute_error(y_test, ridge_pred))\n",
    "print (\"mean_squared_error : \",metrics.mean_squared_error(y_test, ridge_pred))\n",
    "print (\"root_mean_squared_error : \",np.sqrt(metrics.mean_squared_error(y_test, ridge_pred)))\n",
    "print(\"Cross Validation Score : \",ridge_cvScore)"
   ]
  },
  {
   "cell_type": "code",
   "execution_count": 1265,
   "id": "68038be6",
   "metadata": {},
   "outputs": [
    {
     "name": "stdout",
     "output_type": "stream",
     "text": [
      "r2_score 0.5238148342061876\n",
      "mean_absolute_error : 2264.859291894407\n",
      "mean_squared_error :  8371281.398331632\n",
      "root_mean_squared_error :  2893.3166778511527\n",
      "Cross Validation Score :  0.4929087167467923\n"
     ]
    }
   ],
   "source": [
    "# Train Data\n",
    "print(\"r2_score\",r2_final_score)\n",
    "print (\"mean_absolute_error :\",metrics.mean_absolute_error(y_train, ridge_pred_train))\n",
    "print (\"mean_squared_error : \",metrics.mean_squared_error(y_train, ridge_pred_train))\n",
    "print (\"root_mean_squared_error : \",np.sqrt(metrics.mean_squared_error(y_train, ridge_pred_train)))\n",
    "print (\"Cross Validation Score : \", ridge_cvScore)"
   ]
  },
  {
   "cell_type": "code",
   "execution_count": 1266,
   "id": "7d5179fd",
   "metadata": {},
   "outputs": [
    {
     "data": {
      "text/html": [
       "<div>\n",
       "<style scoped>\n",
       "    .dataframe tbody tr th:only-of-type {\n",
       "        vertical-align: middle;\n",
       "    }\n",
       "\n",
       "    .dataframe tbody tr th {\n",
       "        vertical-align: top;\n",
       "    }\n",
       "\n",
       "    .dataframe thead th {\n",
       "        text-align: right;\n",
       "    }\n",
       "</style>\n",
       "<table border=\"1\" class=\"dataframe\">\n",
       "  <thead>\n",
       "    <tr style=\"text-align: right;\">\n",
       "      <th></th>\n",
       "      <th>Model</th>\n",
       "      <th>MAE</th>\n",
       "      <th>MSE</th>\n",
       "      <th>RMSE</th>\n",
       "      <th>R2 Score</th>\n",
       "      <th>CV Score</th>\n",
       "    </tr>\n",
       "  </thead>\n",
       "  <tbody>\n",
       "    <tr>\n",
       "      <th>0</th>\n",
       "      <td>Ridge</td>\n",
       "      <td>2252.619661</td>\n",
       "      <td>7.997823e+06</td>\n",
       "      <td>2828.04218</td>\n",
       "      <td>0.523815</td>\n",
       "      <td>0.492909</td>\n",
       "    </tr>\n",
       "  </tbody>\n",
       "</table>\n",
       "</div>"
      ],
      "text/plain": [
       "   Model          MAE           MSE        RMSE  R2 Score  CV Score\n",
       "0  Ridge  2252.619661  7.997823e+06  2828.04218  0.523815  0.492909"
      ]
     },
     "execution_count": 1266,
     "metadata": {},
     "output_type": "execute_result"
    }
   ],
   "source": [
    "ridge_data = {'Model': ['Ridge'], \n",
    "           'MAE': metrics.mean_absolute_error(y_test, ridge_pred),'MSE':metrics.mean_squared_error(y_test, ridge_pred),\n",
    "           'RMSE':np.sqrt(metrics.mean_squared_error(y_test, ridge_pred)),\n",
    "           'R2 Score': r2_final_score,\n",
    "           'CV Score': ridge_cvScore\n",
    "             }  \n",
    "\n",
    "df_Ridge = pd.DataFrame(ridge_data)  \n",
    "df_Ridge"
   ]
  },
  {
   "cell_type": "markdown",
   "id": "fa435533",
   "metadata": {},
   "source": [
    "# KNeighborsRegressor"
   ]
  },
  {
   "cell_type": "code",
   "execution_count": 1267,
   "id": "878c5c68",
   "metadata": {},
   "outputs": [],
   "source": [
    "from sklearn.neighbors import KNeighborsRegressor\n",
    "knn = KNeighborsRegressor()"
   ]
  },
  {
   "cell_type": "code",
   "execution_count": 993,
   "id": "96983a02",
   "metadata": {},
   "outputs": [
    {
     "name": "stdout",
     "output_type": "stream",
     "text": [
      "r2 score corresponding to  40  is  0.6567451550909742\n",
      "r2 score corresponding to  41  is  0.6629857631863476\n",
      "r2 score corresponding to  42  is  0.6679321075133149\n",
      "r2 score corresponding to  43  is  0.6504369665665601\n",
      "r2 score corresponding to  44  is  0.6642111726256386\n",
      "r2 score corresponding to  45  is  0.6596965498774036\n",
      "r2 score corresponding to  46  is  0.6883203097820572\n",
      "r2 score corresponding to  47  is  0.6669573992029483\n",
      "r2 score corresponding to  48  is  0.666663134669813\n",
      "r2 score corresponding to  49  is  0.7093014219195883\n",
      "r2 score corresponding to  50  is  0.6512939283420964\n",
      "r2 score corresponding to  51  is  0.6942390430148835\n",
      "r2 score corresponding to  52  is  0.6763230233178921\n",
      "r2 score corresponding to  53  is  0.6721987974760151\n",
      "r2 score corresponding to  54  is  0.6436287205757387\n",
      "r2 score corresponding to  55  is  0.6696097935575123\n",
      "r2 score corresponding to  56  is  0.6802071777336008\n",
      "r2 score corresponding to  57  is  0.6705149520461614\n",
      "r2 score corresponding to  58  is  0.6674507318930911\n",
      "r2 score corresponding to  59  is  0.6523345624920662\n",
      "r2 score corresponding to  60  is  0.6740784012619645\n",
      "r2 score corresponding to  61  is  0.6702272428413376\n",
      "r2 score corresponding to  62  is  0.6924802905138969\n",
      "r2 score corresponding to  63  is  0.657137235063683\n",
      "r2 score corresponding to  64  is  0.689500928812933\n",
      "r2 score corresponding to  65  is  0.6762423268492976\n",
      "r2 score corresponding to  66  is  0.6629639062071033\n",
      "r2 score corresponding to  67  is  0.6684777667989537\n",
      "r2 score corresponding to  68  is  0.6668752611624553\n",
      "r2 score corresponding to  69  is  0.6499168939471446\n",
      "r2 score corresponding to  70  is  0.6645283079527229\n",
      "r2 score corresponding to  71  is  0.6778048406535704\n",
      "r2 score corresponding to  72  is  0.6678229103455369\n",
      "r2 score corresponding to  73  is  0.652031825885327\n",
      "r2 score corresponding to  74  is  0.6375302922237048\n",
      "r2 score corresponding to  75  is  0.6680480317135328\n",
      "r2 score corresponding to  76  is  0.6573683109598372\n",
      "r2 score corresponding to  77  is  0.6736025012864403\n",
      "r2 score corresponding to  78  is  0.6909652417664434\n",
      "r2 score corresponding to  79  is  0.6452490477935322\n",
      "r2 score corresponding to  80  is  0.6493661248401053\n",
      "r2 score corresponding to  81  is  0.6751485568895683\n",
      "r2 score corresponding to  82  is  0.6466249903621029\n",
      "r2 score corresponding to  83  is  0.6815664986082576\n",
      "r2 score corresponding to  84  is  0.6835091871396476\n",
      "r2 score corresponding to  85  is  0.6855337963972854\n",
      "r2 score corresponding to  86  is  0.6789114802859739\n",
      "r2 score corresponding to  87  is  0.6630043739155234\n",
      "r2 score corresponding to  88  is  0.6663422251450708\n",
      "r2 score corresponding to  89  is  0.6720830423254194\n",
      "r2 score corresponding to  90  is  0.699177674377012\n",
      "r2 score corresponding to  91  is  0.7002329684658668\n",
      "r2 score corresponding to  92  is  0.6679735650844623\n",
      "r2 score corresponding to  93  is  0.6861483419850309\n",
      "r2 score corresponding to  94  is  0.7065144236911605\n",
      "r2 score corresponding to  95  is  0.6711208248702081\n",
      "r2 score corresponding to  96  is  0.6905416749451775\n",
      "r2 score corresponding to  97  is  0.6681749154209748\n",
      "r2 score corresponding to  98  is  0.6849764928656012\n",
      "r2 score corresponding to  99  is  0.6742244109674427\n",
      "At  49 r2 score is  0.7093014219195883\n"
     ]
    },
    {
     "data": {
      "text/plain": [
       "49"
      ]
     },
     "execution_count": 993,
     "metadata": {},
     "output_type": "execute_result"
    }
   ],
   "source": [
    "get_r2_score(knn,features,target)"
   ]
  },
  {
   "cell_type": "code",
   "execution_count": 1268,
   "id": "9922c86f",
   "metadata": {},
   "outputs": [
    {
     "data": {
      "text/plain": [
       "0.7093014219195883"
      ]
     },
     "execution_count": 1268,
     "metadata": {},
     "output_type": "execute_result"
    }
   ],
   "source": [
    "x_train, x_test, y_train, y_test = train_test_split(features,target,test_size=0.20,random_state = 49)\n",
    "knn.fit(x_train,y_train)\n",
    "knn_pred = knn.predict(x_test)\n",
    "knn_pred_train = knn.predict(x_train)\n",
    "r2_final_score=r2_score(y_test,knn_pred)\n",
    "r2_final_score"
   ]
  },
  {
   "cell_type": "code",
   "execution_count": 1269,
   "id": "13df5b8c",
   "metadata": {},
   "outputs": [
    {
     "name": "stdout",
     "output_type": "stream",
     "text": [
      "The CV score is : 0.6780123158504131\n"
     ]
    }
   ],
   "source": [
    "knn_cvScore=cross_val_score(knn,features,target,cv=5).mean()\n",
    "print(\"The CV score is :\",knn_cvScore)"
   ]
  },
  {
   "cell_type": "code",
   "execution_count": 1270,
   "id": "075a47ef",
   "metadata": {},
   "outputs": [
    {
     "name": "stdout",
     "output_type": "stream",
     "text": [
      "r2_score 0.7093014219195883\n",
      "mean_absolute_error : 1571.3778440139097\n",
      "mean_squared_error :  4882461.310720318\n",
      "root_mean_squared_error :  2209.629224716291\n",
      "Cross Validation Score :  0.6780123158504131\n"
     ]
    }
   ],
   "source": [
    "#Test Data\n",
    "print(\"r2_score\",r2_final_score)\n",
    "print (\"mean_absolute_error :\",metrics.mean_absolute_error(y_test, knn_pred))\n",
    "print (\"mean_squared_error : \",metrics.mean_squared_error(y_test, knn_pred))\n",
    "print (\"root_mean_squared_error : \",np.sqrt(metrics.mean_squared_error(y_test, knn_pred)))\n",
    "print(\"Cross Validation Score : \",knn_cvScore)"
   ]
  },
  {
   "cell_type": "code",
   "execution_count": 1271,
   "id": "c5ab6390",
   "metadata": {},
   "outputs": [
    {
     "name": "stdout",
     "output_type": "stream",
     "text": [
      "r2_score 0.7093014219195883\n",
      "mean_absolute_error : 1263.6643318430204\n",
      "mean_squared_error :  3405354.744023845\n",
      "root_mean_squared_error :  1845.3603290479193\n",
      "Cross Validation Score :  0.6780123158504131\n"
     ]
    }
   ],
   "source": [
    "#Train Data\n",
    "print(\"r2_score\",r2_final_score)\n",
    "print (\"mean_absolute_error :\",metrics.mean_absolute_error(y_train, knn_pred_train))\n",
    "print (\"mean_squared_error : \",metrics.mean_squared_error(y_train, knn_pred_train))\n",
    "print (\"root_mean_squared_error : \",np.sqrt(metrics.mean_squared_error(y_train, knn_pred_train)))\n",
    "print(\"Cross Validation Score : \",knn_cvScore)"
   ]
  },
  {
   "cell_type": "code",
   "execution_count": 1272,
   "id": "81ac6ba8",
   "metadata": {},
   "outputs": [
    {
     "data": {
      "text/html": [
       "<div>\n",
       "<style scoped>\n",
       "    .dataframe tbody tr th:only-of-type {\n",
       "        vertical-align: middle;\n",
       "    }\n",
       "\n",
       "    .dataframe tbody tr th {\n",
       "        vertical-align: top;\n",
       "    }\n",
       "\n",
       "    .dataframe thead th {\n",
       "        text-align: right;\n",
       "    }\n",
       "</style>\n",
       "<table border=\"1\" class=\"dataframe\">\n",
       "  <thead>\n",
       "    <tr style=\"text-align: right;\">\n",
       "      <th></th>\n",
       "      <th>Model</th>\n",
       "      <th>MAE</th>\n",
       "      <th>MSE</th>\n",
       "      <th>RMSE</th>\n",
       "      <th>R2 Score</th>\n",
       "      <th>CV Score</th>\n",
       "    </tr>\n",
       "  </thead>\n",
       "  <tbody>\n",
       "    <tr>\n",
       "      <th>0</th>\n",
       "      <td>KNN</td>\n",
       "      <td>1571.377844</td>\n",
       "      <td>4.882461e+06</td>\n",
       "      <td>2209.629225</td>\n",
       "      <td>0.709301</td>\n",
       "      <td>0.678012</td>\n",
       "    </tr>\n",
       "  </tbody>\n",
       "</table>\n",
       "</div>"
      ],
      "text/plain": [
       "  Model          MAE           MSE         RMSE  R2 Score  CV Score\n",
       "0   KNN  1571.377844  4.882461e+06  2209.629225  0.709301  0.678012"
      ]
     },
     "execution_count": 1272,
     "metadata": {},
     "output_type": "execute_result"
    }
   ],
   "source": [
    "knn_data = {'Model': ['KNN'], \n",
    "           'MAE': metrics.mean_absolute_error(y_test, knn_pred),'MSE':metrics.mean_squared_error(y_test, knn_pred),\n",
    "           'RMSE':np.sqrt(metrics.mean_squared_error(y_test, knn_pred)),\n",
    "           'R2 Score': r2_final_score,\n",
    "           'CV Score': knn_cvScore\n",
    "           }  \n",
    "\n",
    "df_knn = pd.DataFrame(knn_data)  \n",
    "df_knn"
   ]
  },
  {
   "cell_type": "markdown",
   "id": "ffe6662b",
   "metadata": {},
   "source": [
    "# Decisoin Tree Regressor"
   ]
  },
  {
   "cell_type": "code",
   "execution_count": 1279,
   "id": "6d378f2b",
   "metadata": {},
   "outputs": [],
   "source": [
    "from sklearn.tree import DecisionTreeRegressor\n",
    "dr=DecisionTreeRegressor(criterion=\"mae\",max_features=\"auto\",splitter=\"best\",min_samples_split= 10)"
   ]
  },
  {
   "cell_type": "code",
   "execution_count": 1280,
   "id": "b1f70ccb",
   "metadata": {},
   "outputs": [
    {
     "name": "stdout",
     "output_type": "stream",
     "text": [
      "r2 score corresponding to  40  is  0.859662971951718\n",
      "r2 score corresponding to  41  is  0.8609655097510134\n",
      "r2 score corresponding to  42  is  0.8532864399319404\n",
      "r2 score corresponding to  43  is  0.8688200598849851\n",
      "r2 score corresponding to  44  is  0.8538629290370507\n",
      "r2 score corresponding to  45  is  0.8621253792704197\n",
      "r2 score corresponding to  46  is  0.878968852834054\n",
      "r2 score corresponding to  47  is  0.8682174644177747\n",
      "r2 score corresponding to  48  is  0.8643332452332044\n",
      "r2 score corresponding to  49  is  0.8810234039955771\n",
      "r2 score corresponding to  50  is  0.8571235702043513\n",
      "r2 score corresponding to  51  is  0.8701860535639852\n",
      "r2 score corresponding to  52  is  0.8682339144746052\n",
      "r2 score corresponding to  53  is  0.851629892688558\n",
      "r2 score corresponding to  54  is  0.8698705129944622\n",
      "r2 score corresponding to  55  is  0.8527826810489624\n",
      "r2 score corresponding to  56  is  0.8579013769312931\n",
      "r2 score corresponding to  57  is  0.8755626725250203\n",
      "r2 score corresponding to  58  is  0.8518813591728274\n",
      "r2 score corresponding to  59  is  0.8561070475019203\n",
      "r2 score corresponding to  60  is  0.8531553868911568\n",
      "r2 score corresponding to  61  is  0.8908713287706078\n",
      "r2 score corresponding to  62  is  0.8572496075268241\n",
      "r2 score corresponding to  63  is  0.8590744068234689\n",
      "r2 score corresponding to  64  is  0.8540749288966871\n",
      "r2 score corresponding to  65  is  0.8619335305753543\n",
      "r2 score corresponding to  66  is  0.8511332770728206\n",
      "r2 score corresponding to  67  is  0.8644027347572758\n",
      "r2 score corresponding to  68  is  0.856771507057905\n",
      "r2 score corresponding to  69  is  0.8557074049176233\n",
      "r2 score corresponding to  70  is  0.8425181562519088\n",
      "r2 score corresponding to  71  is  0.854626854628647\n",
      "r2 score corresponding to  72  is  0.8547665688722532\n",
      "r2 score corresponding to  73  is  0.8682399388378514\n",
      "r2 score corresponding to  74  is  0.8523662215772018\n",
      "r2 score corresponding to  75  is  0.8627838112802506\n",
      "r2 score corresponding to  76  is  0.8746602635392641\n",
      "r2 score corresponding to  77  is  0.8268957840673142\n",
      "r2 score corresponding to  78  is  0.8503347736517146\n",
      "r2 score corresponding to  79  is  0.8521212464774893\n",
      "r2 score corresponding to  80  is  0.8623057733554352\n",
      "r2 score corresponding to  81  is  0.8576950929870486\n",
      "r2 score corresponding to  82  is  0.8683846485573268\n",
      "r2 score corresponding to  83  is  0.8678630801677174\n",
      "r2 score corresponding to  84  is  0.8621241263127695\n",
      "r2 score corresponding to  85  is  0.8628177288073662\n",
      "r2 score corresponding to  86  is  0.8418576166135323\n",
      "r2 score corresponding to  87  is  0.8779212029353992\n",
      "r2 score corresponding to  88  is  0.8612703886552378\n",
      "r2 score corresponding to  89  is  0.8638688964616956\n",
      "r2 score corresponding to  90  is  0.8770506006097526\n",
      "r2 score corresponding to  91  is  0.8619934137881136\n",
      "r2 score corresponding to  92  is  0.8637082691504677\n",
      "r2 score corresponding to  93  is  0.8679347775447148\n",
      "r2 score corresponding to  94  is  0.8741499954628354\n",
      "r2 score corresponding to  95  is  0.8663819278149442\n",
      "r2 score corresponding to  96  is  0.8699577796085977\n",
      "r2 score corresponding to  97  is  0.8671620753226528\n",
      "r2 score corresponding to  98  is  0.8463253628759155\n",
      "r2 score corresponding to  99  is  0.8558400997799144\n",
      "At  61 r2 score is  0.8908713287706078\n"
     ]
    },
    {
     "data": {
      "text/plain": [
       "61"
      ]
     },
     "execution_count": 1280,
     "metadata": {},
     "output_type": "execute_result"
    }
   ],
   "source": [
    "get_r2_score(dr,features,target)"
   ]
  },
  {
   "cell_type": "code",
   "execution_count": 1281,
   "id": "4815692e",
   "metadata": {},
   "outputs": [
    {
     "data": {
      "text/plain": [
       "0.884821627655135"
      ]
     },
     "execution_count": 1281,
     "metadata": {},
     "output_type": "execute_result"
    }
   ],
   "source": [
    "x_train, x_test, y_train, y_test = train_test_split(features,target,test_size=0.20,random_state = 61)\n",
    "dr.fit(x_train,y_train)\n",
    "dr_pred = dr.predict(x_test)\n",
    "dr_pred_train = dr.predict(x_train)\n",
    "r2_final_score=r2_score(y_test,dr_pred)\n",
    "r2_final_score"
   ]
  },
  {
   "cell_type": "code",
   "execution_count": 1282,
   "id": "a86d1f9f",
   "metadata": {},
   "outputs": [
    {
     "name": "stdout",
     "output_type": "stream",
     "text": [
      "The CV score is : 0.8574162602599378\n"
     ]
    }
   ],
   "source": [
    "dtr_cvScore=cross_val_score(dr,features,target,cv=5).mean()\n",
    "print(\"The CV score is :\",dtr_cvScore)"
   ]
  },
  {
   "cell_type": "code",
   "execution_count": 1283,
   "id": "a28e879c",
   "metadata": {},
   "outputs": [
    {
     "name": "stdout",
     "output_type": "stream",
     "text": [
      "r2_score 0.884821627655135\n",
      "mean_absolute_error : 383.40064580228517\n",
      "mean_squared_error :  968950.3165052161\n",
      "root_mean_squared_error :  984.3527398779444\n",
      "Cross Validation Score :  0.8574162602599378\n"
     ]
    }
   ],
   "source": [
    "# Train Data\n",
    "print(\"r2_score\",r2_final_score)\n",
    "print (\"mean_absolute_error :\",metrics.mean_absolute_error(y_train, dr_pred_train))\n",
    "print (\"mean_squared_error : \",metrics.mean_squared_error(y_train, dr_pred_train))\n",
    "print (\"root_mean_squared_error : \",np.sqrt(metrics.mean_squared_error(y_train, dr_pred_train)))\n",
    "print (\"Cross Validation Score : \", dtr_cvScore)"
   ]
  },
  {
   "cell_type": "code",
   "execution_count": 1284,
   "id": "bfb55f30",
   "metadata": {},
   "outputs": [
    {
     "name": "stdout",
     "output_type": "stream",
     "text": [
      "r2_score 0.884821627655135\n",
      "mean_absolute_error : 711.3708395429707\n",
      "mean_squared_error :  1929731.2030551415\n",
      "root_mean_squared_error :  1389.1476534390222\n",
      "Cross Validation Score :  0.8574162602599378\n"
     ]
    }
   ],
   "source": [
    "#Test Data\n",
    "print(\"r2_score\",r2_final_score)\n",
    "print (\"mean_absolute_error :\",metrics.mean_absolute_error(y_test, dr_pred))\n",
    "print (\"mean_squared_error : \",metrics.mean_squared_error(y_test, dr_pred))\n",
    "print (\"root_mean_squared_error : \",np.sqrt(metrics.mean_squared_error(y_test, dr_pred)))\n",
    "print(\"Cross Validation Score : \",dtr_cvScore)"
   ]
  },
  {
   "cell_type": "code",
   "execution_count": 1285,
   "id": "f2afe8bf",
   "metadata": {},
   "outputs": [
    {
     "data": {
      "text/html": [
       "<div>\n",
       "<style scoped>\n",
       "    .dataframe tbody tr th:only-of-type {\n",
       "        vertical-align: middle;\n",
       "    }\n",
       "\n",
       "    .dataframe tbody tr th {\n",
       "        vertical-align: top;\n",
       "    }\n",
       "\n",
       "    .dataframe thead th {\n",
       "        text-align: right;\n",
       "    }\n",
       "</style>\n",
       "<table border=\"1\" class=\"dataframe\">\n",
       "  <thead>\n",
       "    <tr style=\"text-align: right;\">\n",
       "      <th></th>\n",
       "      <th>Model</th>\n",
       "      <th>MAE</th>\n",
       "      <th>MSE</th>\n",
       "      <th>RMSE</th>\n",
       "      <th>R2 Score</th>\n",
       "      <th>CV Score</th>\n",
       "    </tr>\n",
       "  </thead>\n",
       "  <tbody>\n",
       "    <tr>\n",
       "      <th>0</th>\n",
       "      <td>Decision Tree Regressor</td>\n",
       "      <td>711.37084</td>\n",
       "      <td>1.929731e+06</td>\n",
       "      <td>1389.147653</td>\n",
       "      <td>0.884822</td>\n",
       "      <td>0.857416</td>\n",
       "    </tr>\n",
       "  </tbody>\n",
       "</table>\n",
       "</div>"
      ],
      "text/plain": [
       "                     Model        MAE           MSE         RMSE  R2 Score  \\\n",
       "0  Decision Tree Regressor  711.37084  1.929731e+06  1389.147653  0.884822   \n",
       "\n",
       "   CV Score  \n",
       "0  0.857416  "
      ]
     },
     "execution_count": 1285,
     "metadata": {},
     "output_type": "execute_result"
    }
   ],
   "source": [
    "decisionTree_data = {'Model': ['Decision Tree Regressor'], \n",
    "           'MAE': metrics.mean_absolute_error(y_test, dr_pred),'MSE':metrics.mean_squared_error(y_test, dr_pred),\n",
    "           'RMSE':np.sqrt(metrics.mean_squared_error(y_test, dr_pred)),\n",
    "           'R2 Score': r2_score(y_test,dr_pred),\n",
    "           'CV Score': dtr_cvScore\n",
    "            }  \n",
    "\n",
    "df_DT = pd.DataFrame(decisionTree_data)  \n",
    "df_DT"
   ]
  },
  {
   "cell_type": "markdown",
   "id": "d8fd417b",
   "metadata": {},
   "source": [
    "# Random Forest Regressor"
   ]
  },
  {
   "cell_type": "code",
   "execution_count": 1286,
   "id": "e42b023e",
   "metadata": {},
   "outputs": [],
   "source": [
    "from sklearn.ensemble import RandomForestRegressor\n",
    "rfr=RandomForestRegressor(criterion=\"mae\",max_features=\"auto\",n_estimators=10,min_samples_split=5,min_samples_leaf=2)"
   ]
  },
  {
   "cell_type": "code",
   "execution_count": 1022,
   "id": "49f8024e",
   "metadata": {},
   "outputs": [
    {
     "name": "stdout",
     "output_type": "stream",
     "text": [
      "r2 score corresponding to  40  is  0.9069189507576902\n",
      "r2 score corresponding to  41  is  0.9116077095572501\n",
      "r2 score corresponding to  42  is  0.9089669986278182\n",
      "r2 score corresponding to  43  is  0.9054829334269665\n",
      "r2 score corresponding to  44  is  0.909514066654129\n",
      "r2 score corresponding to  45  is  0.9062194078859108\n",
      "r2 score corresponding to  46  is  0.9044453115815483\n",
      "r2 score corresponding to  47  is  0.904754711922734\n",
      "r2 score corresponding to  48  is  0.9012544939084246\n",
      "r2 score corresponding to  49  is  0.9202130195894648\n",
      "r2 score corresponding to  50  is  0.8906136829826957\n",
      "r2 score corresponding to  51  is  0.9063192028215474\n",
      "r2 score corresponding to  52  is  0.8921627477321579\n",
      "r2 score corresponding to  53  is  0.9096062832171418\n",
      "r2 score corresponding to  54  is  0.9039036697774627\n",
      "r2 score corresponding to  55  is  0.892189614492203\n",
      "r2 score corresponding to  56  is  0.9056152178731459\n",
      "r2 score corresponding to  57  is  0.9105305545668908\n",
      "r2 score corresponding to  58  is  0.8899284886648657\n",
      "r2 score corresponding to  59  is  0.9093334974161058\n",
      "r2 score corresponding to  60  is  0.9036754508818656\n",
      "r2 score corresponding to  61  is  0.9108932636781745\n",
      "r2 score corresponding to  62  is  0.9017880879110431\n",
      "r2 score corresponding to  63  is  0.8927462551555699\n",
      "r2 score corresponding to  64  is  0.9068752008857589\n",
      "r2 score corresponding to  65  is  0.9067682864465525\n",
      "r2 score corresponding to  66  is  0.8998128754928297\n",
      "r2 score corresponding to  67  is  0.912236060770869\n",
      "r2 score corresponding to  68  is  0.8981377915816153\n",
      "r2 score corresponding to  69  is  0.8991814265263299\n",
      "r2 score corresponding to  70  is  0.8944078825802106\n",
      "r2 score corresponding to  71  is  0.9148644462829875\n",
      "r2 score corresponding to  72  is  0.9084838907972882\n",
      "r2 score corresponding to  73  is  0.9016770589564883\n",
      "r2 score corresponding to  74  is  0.889417054423422\n",
      "r2 score corresponding to  75  is  0.8952504980675091\n",
      "r2 score corresponding to  76  is  0.907554707110057\n",
      "r2 score corresponding to  77  is  0.8934176700160918\n",
      "r2 score corresponding to  78  is  0.9063134373471161\n",
      "r2 score corresponding to  79  is  0.8862541691957754\n",
      "r2 score corresponding to  80  is  0.895822593139626\n",
      "r2 score corresponding to  81  is  0.9038802372578398\n",
      "r2 score corresponding to  82  is  0.9088019145438819\n",
      "r2 score corresponding to  83  is  0.89980693944295\n",
      "r2 score corresponding to  84  is  0.8898092789416849\n",
      "r2 score corresponding to  85  is  0.9068668658228853\n",
      "r2 score corresponding to  86  is  0.8931608281789641\n",
      "r2 score corresponding to  87  is  0.9090542342715218\n",
      "r2 score corresponding to  88  is  0.8905500172228389\n",
      "r2 score corresponding to  89  is  0.908766807701383\n",
      "r2 score corresponding to  90  is  0.9130637090933444\n",
      "r2 score corresponding to  91  is  0.9103766524719346\n",
      "r2 score corresponding to  92  is  0.8975329767298728\n",
      "r2 score corresponding to  93  is  0.9029726678850205\n",
      "r2 score corresponding to  94  is  0.9151156768957253\n",
      "r2 score corresponding to  95  is  0.8974953181528388\n",
      "r2 score corresponding to  96  is  0.9014199437129293\n",
      "r2 score corresponding to  97  is  0.8941346992825148\n",
      "r2 score corresponding to  98  is  0.8972142549203151\n",
      "r2 score corresponding to  99  is  0.8836833518286769\n",
      "At  49 r2 score is  0.9202130195894648\n"
     ]
    },
    {
     "data": {
      "text/plain": [
       "49"
      ]
     },
     "execution_count": 1022,
     "metadata": {},
     "output_type": "execute_result"
    }
   ],
   "source": [
    "get_r2_score(rfr,features,target)"
   ]
  },
  {
   "cell_type": "code",
   "execution_count": 1287,
   "id": "8f07a370",
   "metadata": {},
   "outputs": [
    {
     "data": {
      "text/plain": [
       "0.9150643877070145"
      ]
     },
     "execution_count": 1287,
     "metadata": {},
     "output_type": "execute_result"
    }
   ],
   "source": [
    "x_train, x_test, y_train, y_test = train_test_split(features,target,test_size=0.20,random_state = 49)\n",
    "rfr=RandomForestRegressor(criterion=\"mae\",max_features=\"auto\",n_estimators=10,min_samples_split=5,min_samples_leaf=2)\n",
    "rfr.fit(x_train,y_train)\n",
    "rfr_pred = rfr.predict(x_test)\n",
    "rfr_pred_train = rfr.predict(x_train)\n",
    "r2_final_score=r2_score(y_test,rfr_pred)\n",
    "r2_final_score"
   ]
  },
  {
   "cell_type": "code",
   "execution_count": 1288,
   "id": "064e1463",
   "metadata": {},
   "outputs": [
    {
     "name": "stdout",
     "output_type": "stream",
     "text": [
      "The CV score is : 0.9024285934670235\n"
     ]
    }
   ],
   "source": [
    "rfr_cvScore=cross_val_score(rfr,features,target,cv=5).mean()\n",
    "print(\"The CV score is :\",rfr_cvScore)"
   ]
  },
  {
   "cell_type": "code",
   "execution_count": 1289,
   "id": "496dc67f",
   "metadata": {},
   "outputs": [
    {
     "name": "stdout",
     "output_type": "stream",
     "text": [
      "r2_score 0.9150643877070145\n",
      "mean_absolute_error : 484.3440449577745\n",
      "mean_squared_error :  788351.6487950198\n",
      "root_mean_squared_error :  887.891687535715\n",
      "Cross Validation Score :  0.9024285934670235\n"
     ]
    }
   ],
   "source": [
    "# Train Data\n",
    "print(\"r2_score\",r2_final_score)\n",
    "print (\"mean_absolute_error :\",metrics.mean_absolute_error(y_train, rfr_pred_train))\n",
    "print (\"mean_squared_error : \",metrics.mean_squared_error(y_train, rfr_pred_train))\n",
    "print (\"root_mean_squared_error : \",np.sqrt(metrics.mean_squared_error(y_train, rfr_pred_train)))\n",
    "print (\"Cross Validation Score : \", rfr_cvScore)"
   ]
  },
  {
   "cell_type": "code",
   "execution_count": 1290,
   "id": "604d4692",
   "metadata": {},
   "outputs": [
    {
     "name": "stdout",
     "output_type": "stream",
     "text": [
      "r2_score 0.9150643877070145\n",
      "mean_absolute_error : 686.1417287630404\n",
      "mean_squared_error :  1426545.818219076\n",
      "root_mean_squared_error :  1194.3809351371428\n",
      "Cross Validation Score :  0.9024285934670235\n"
     ]
    }
   ],
   "source": [
    "#Test Data\n",
    "print(\"r2_score\",r2_final_score)\n",
    "print (\"mean_absolute_error :\",metrics.mean_absolute_error(y_test, rfr_pred))\n",
    "print (\"mean_squared_error : \",metrics.mean_squared_error(y_test, rfr_pred))\n",
    "print (\"root_mean_squared_error : \",np.sqrt(metrics.mean_squared_error(y_test, rfr_pred)))\n",
    "print(\"Cross Validation Score : \",rfr_cvScore)"
   ]
  },
  {
   "cell_type": "code",
   "execution_count": 1291,
   "id": "099e2745",
   "metadata": {},
   "outputs": [
    {
     "data": {
      "text/html": [
       "<div>\n",
       "<style scoped>\n",
       "    .dataframe tbody tr th:only-of-type {\n",
       "        vertical-align: middle;\n",
       "    }\n",
       "\n",
       "    .dataframe tbody tr th {\n",
       "        vertical-align: top;\n",
       "    }\n",
       "\n",
       "    .dataframe thead th {\n",
       "        text-align: right;\n",
       "    }\n",
       "</style>\n",
       "<table border=\"1\" class=\"dataframe\">\n",
       "  <thead>\n",
       "    <tr style=\"text-align: right;\">\n",
       "      <th></th>\n",
       "      <th>Model</th>\n",
       "      <th>MAE</th>\n",
       "      <th>MSE</th>\n",
       "      <th>RMSE</th>\n",
       "      <th>R2 Score</th>\n",
       "      <th>CV Score</th>\n",
       "    </tr>\n",
       "  </thead>\n",
       "  <tbody>\n",
       "    <tr>\n",
       "      <th>0</th>\n",
       "      <td>Random Forest</td>\n",
       "      <td>686.141729</td>\n",
       "      <td>1.426546e+06</td>\n",
       "      <td>1194.380935</td>\n",
       "      <td>0.915064</td>\n",
       "      <td>0.902429</td>\n",
       "    </tr>\n",
       "  </tbody>\n",
       "</table>\n",
       "</div>"
      ],
      "text/plain": [
       "           Model         MAE           MSE         RMSE  R2 Score  CV Score\n",
       "0  Random Forest  686.141729  1.426546e+06  1194.380935  0.915064  0.902429"
      ]
     },
     "execution_count": 1291,
     "metadata": {},
     "output_type": "execute_result"
    }
   ],
   "source": [
    "randomForest_data = {'Model': ['Random Forest'], \n",
    "           'MAE': metrics.mean_absolute_error(y_test, rfr_pred),'MSE':metrics.mean_squared_error(y_test, rfr_pred),\n",
    "           'RMSE':np.sqrt(metrics.mean_squared_error(y_test, rfr_pred)),\n",
    "           'R2 Score': r2_score(y_test,rfr_pred),\n",
    "           'CV Score': rfr_cvScore\n",
    "            }  \n",
    "\n",
    "df_RF = pd.DataFrame(randomForest_data)  \n",
    "df_RF"
   ]
  },
  {
   "cell_type": "code",
   "execution_count": 1292,
   "id": "68702c26",
   "metadata": {},
   "outputs": [
    {
     "data": {
      "text/html": [
       "<div>\n",
       "<style scoped>\n",
       "    .dataframe tbody tr th:only-of-type {\n",
       "        vertical-align: middle;\n",
       "    }\n",
       "\n",
       "    .dataframe tbody tr th {\n",
       "        vertical-align: top;\n",
       "    }\n",
       "\n",
       "    .dataframe thead th {\n",
       "        text-align: right;\n",
       "    }\n",
       "</style>\n",
       "<table border=\"1\" class=\"dataframe\">\n",
       "  <thead>\n",
       "    <tr style=\"text-align: right;\">\n",
       "      <th></th>\n",
       "      <th>Model</th>\n",
       "      <th>MAE</th>\n",
       "      <th>MSE</th>\n",
       "      <th>RMSE</th>\n",
       "      <th>R2 Score</th>\n",
       "      <th>CV Score</th>\n",
       "    </tr>\n",
       "  </thead>\n",
       "  <tbody>\n",
       "    <tr>\n",
       "      <th>0</th>\n",
       "      <td>Linear Regression</td>\n",
       "      <td>2229.730466</td>\n",
       "      <td>7.861993e+06</td>\n",
       "      <td>2803.924542</td>\n",
       "      <td>0.531902</td>\n",
       "      <td>0.496332</td>\n",
       "    </tr>\n",
       "    <tr>\n",
       "      <th>1</th>\n",
       "      <td>Ridge</td>\n",
       "      <td>2252.619661</td>\n",
       "      <td>7.997823e+06</td>\n",
       "      <td>2828.042180</td>\n",
       "      <td>0.523815</td>\n",
       "      <td>0.492909</td>\n",
       "    </tr>\n",
       "    <tr>\n",
       "      <th>2</th>\n",
       "      <td>KNN</td>\n",
       "      <td>1571.377844</td>\n",
       "      <td>4.882461e+06</td>\n",
       "      <td>2209.629225</td>\n",
       "      <td>0.709301</td>\n",
       "      <td>0.678012</td>\n",
       "    </tr>\n",
       "    <tr>\n",
       "      <th>3</th>\n",
       "      <td>Decision Tree Regressor</td>\n",
       "      <td>711.370840</td>\n",
       "      <td>1.929731e+06</td>\n",
       "      <td>1389.147653</td>\n",
       "      <td>0.884822</td>\n",
       "      <td>0.857416</td>\n",
       "    </tr>\n",
       "    <tr>\n",
       "      <th>4</th>\n",
       "      <td>Random Forest</td>\n",
       "      <td>686.141729</td>\n",
       "      <td>1.426546e+06</td>\n",
       "      <td>1194.380935</td>\n",
       "      <td>0.915064</td>\n",
       "      <td>0.902429</td>\n",
       "    </tr>\n",
       "  </tbody>\n",
       "</table>\n",
       "</div>"
      ],
      "text/plain": [
       "                     Model          MAE           MSE         RMSE  R2 Score  \\\n",
       "0        Linear Regression  2229.730466  7.861993e+06  2803.924542  0.531902   \n",
       "1                    Ridge  2252.619661  7.997823e+06  2828.042180  0.523815   \n",
       "2                      KNN  1571.377844  4.882461e+06  2209.629225  0.709301   \n",
       "3  Decision Tree Regressor   711.370840  1.929731e+06  1389.147653  0.884822   \n",
       "4            Random Forest   686.141729  1.426546e+06  1194.380935  0.915064   \n",
       "\n",
       "   CV Score  \n",
       "0  0.496332  \n",
       "1  0.492909  \n",
       "2  0.678012  \n",
       "3  0.857416  \n",
       "4  0.902429  "
      ]
     },
     "execution_count": 1292,
     "metadata": {},
     "output_type": "execute_result"
    }
   ],
   "source": [
    "modelDF=pd.concat([df_LR,df_Ridge,df_knn,df_DT,df_RF]).reset_index()\n",
    "modelDF.drop(columns=['index'],axis=1,inplace=True)\n",
    "modelDF"
   ]
  },
  {
   "cell_type": "markdown",
   "id": "938a5ca0",
   "metadata": {},
   "source": [
    "Random Forest is performing best and it has the least difference between R2 Score and CV Score.So we will save this model for predicting the prices of flight"
   ]
  },
  {
   "cell_type": "code",
   "execution_count": 1293,
   "id": "e5b35cc6",
   "metadata": {},
   "outputs": [
    {
     "data": {
      "text/plain": [
       "<AxesSubplot:ylabel='Density'>"
      ]
     },
     "execution_count": 1293,
     "metadata": {},
     "output_type": "execute_result"
    },
    {
     "data": {
      "image/png": "[encoded data removed]",
      "text/plain": [
       "<Figure size 432x288 with 1 Axes>"
      ]
     },
     "metadata": {
      "needs_background": "light"
     },
     "output_type": "display_data"
    }
   ],
   "source": [
    "predictions=rfr.predict(x_test)\n",
    "sns.distplot(np.array(y_test)-predictions)"
   ]
  },
  {
   "cell_type": "markdown",
   "id": "4f2d9e1a",
   "metadata": {},
   "source": [
    "We dont see any skewness in the graph and it looks like a Normal distribution , It means our selected model is good"
   ]
  },
  {
   "cell_type": "markdown",
   "id": "e506b4db",
   "metadata": {},
   "source": [
    "# Saving the model"
   ]
  },
  {
   "cell_type": "code",
   "execution_count": 1294,
   "id": "b70ae680",
   "metadata": {},
   "outputs": [],
   "source": [
    "from joblib import dump , load\n",
    "dump(rfr,'FlightPrice.joblib')\n",
    "rfr_load=load('FlightPrice.joblib')"
   ]
  },
  {
   "cell_type": "code",
   "execution_count": 1295,
   "id": "7a913683",
   "metadata": {},
   "outputs": [],
   "source": [
    "from tempfile import mkdtemp\n",
    "savedir = mkdtemp()\n",
    "import os\n",
    "filename = os.path.join(savedir, 'FlightPrice.joblib')"
   ]
  },
  {
   "cell_type": "code",
   "execution_count": 1296,
   "id": "b066eb6d",
   "metadata": {},
   "outputs": [
    {
     "data": {
      "text/plain": [
       "['C:\\\\Users\\\\mum1user\\\\AppData\\\\Local\\\\Temp\\\\tmp74o6obni\\\\FlightPrice.joblib']"
      ]
     },
     "execution_count": 1296,
     "metadata": {},
     "output_type": "execute_result"
    }
   ],
   "source": [
    "import joblib\n",
    "joblib.dump(rfr, filename) \n",
    "#['...FlightPrice.joblib']"
   ]
  },
  {
   "cell_type": "code",
   "execution_count": 1297,
   "id": "96dbf9b3",
   "metadata": {},
   "outputs": [
    {
     "data": {
      "text/plain": [
       "RandomForestRegressor(criterion='mae', min_samples_leaf=2, min_samples_split=5,\n",
       "                      n_estimators=10)"
      ]
     },
     "execution_count": 1297,
     "metadata": {},
     "output_type": "execute_result"
    }
   ],
   "source": [
    "joblib.load(filename)"
   ]
  },
  {
   "cell_type": "markdown",
   "id": "d084fece",
   "metadata": {},
   "source": [
    "# Test Data Importing"
   ]
  },
  {
   "cell_type": "code",
   "execution_count": 1298,
   "id": "e7b136fe",
   "metadata": {},
   "outputs": [
    {
     "data": {
      "text/html": [
       "<div>\n",
       "<style scoped>\n",
       "    .dataframe tbody tr th:only-of-type {\n",
       "        vertical-align: middle;\n",
       "    }\n",
       "\n",
       "    .dataframe tbody tr th {\n",
       "        vertical-align: top;\n",
       "    }\n",
       "\n",
       "    .dataframe thead th {\n",
       "        text-align: right;\n",
       "    }\n",
       "</style>\n",
       "<table border=\"1\" class=\"dataframe\">\n",
       "  <thead>\n",
       "    <tr style=\"text-align: right;\">\n",
       "      <th></th>\n",
       "      <th>Airline</th>\n",
       "      <th>Date_of_Journey</th>\n",
       "      <th>Source</th>\n",
       "      <th>Destination</th>\n",
       "      <th>Route</th>\n",
       "      <th>Dep_Time</th>\n",
       "      <th>Arrival_Time</th>\n",
       "      <th>Duration</th>\n",
       "      <th>Total_Stops</th>\n",
       "      <th>Additional_Info</th>\n",
       "    </tr>\n",
       "  </thead>\n",
       "  <tbody>\n",
       "    <tr>\n",
       "      <th>0</th>\n",
       "      <td>Jet Airways</td>\n",
       "      <td>6/06/2019</td>\n",
       "      <td>Delhi</td>\n",
       "      <td>Cochin</td>\n",
       "      <td>DEL → BOM → COK</td>\n",
       "      <td>17:30</td>\n",
       "      <td>04:25 07 Jun</td>\n",
       "      <td>10h 55m</td>\n",
       "      <td>1 stop</td>\n",
       "      <td>No info</td>\n",
       "    </tr>\n",
       "    <tr>\n",
       "      <th>1</th>\n",
       "      <td>IndiGo</td>\n",
       "      <td>12/05/2019</td>\n",
       "      <td>Kolkata</td>\n",
       "      <td>Banglore</td>\n",
       "      <td>CCU → MAA → BLR</td>\n",
       "      <td>06:20</td>\n",
       "      <td>10:20</td>\n",
       "      <td>4h</td>\n",
       "      <td>1 stop</td>\n",
       "      <td>No info</td>\n",
       "    </tr>\n",
       "    <tr>\n",
       "      <th>2</th>\n",
       "      <td>Jet Airways</td>\n",
       "      <td>21/05/2019</td>\n",
       "      <td>Delhi</td>\n",
       "      <td>Cochin</td>\n",
       "      <td>DEL → BOM → COK</td>\n",
       "      <td>19:15</td>\n",
       "      <td>19:00 22 May</td>\n",
       "      <td>23h 45m</td>\n",
       "      <td>1 stop</td>\n",
       "      <td>In-flight meal not included</td>\n",
       "    </tr>\n",
       "    <tr>\n",
       "      <th>3</th>\n",
       "      <td>Multiple carriers</td>\n",
       "      <td>21/05/2019</td>\n",
       "      <td>Delhi</td>\n",
       "      <td>Cochin</td>\n",
       "      <td>DEL → BOM → COK</td>\n",
       "      <td>08:00</td>\n",
       "      <td>21:00</td>\n",
       "      <td>13h</td>\n",
       "      <td>1 stop</td>\n",
       "      <td>No info</td>\n",
       "    </tr>\n",
       "    <tr>\n",
       "      <th>4</th>\n",
       "      <td>Air Asia</td>\n",
       "      <td>24/06/2019</td>\n",
       "      <td>Banglore</td>\n",
       "      <td>Delhi</td>\n",
       "      <td>BLR → DEL</td>\n",
       "      <td>23:55</td>\n",
       "      <td>02:45 25 Jun</td>\n",
       "      <td>2h 50m</td>\n",
       "      <td>non-stop</td>\n",
       "      <td>No info</td>\n",
       "    </tr>\n",
       "  </tbody>\n",
       "</table>\n",
       "</div>"
      ],
      "text/plain": [
       "             Airline Date_of_Journey    Source Destination            Route  \\\n",
       "0        Jet Airways       6/06/2019     Delhi      Cochin  DEL → BOM → COK   \n",
       "1             IndiGo      12/05/2019   Kolkata    Banglore  CCU → MAA → BLR   \n",
       "2        Jet Airways      21/05/2019     Delhi      Cochin  DEL → BOM → COK   \n",
       "3  Multiple carriers      21/05/2019     Delhi      Cochin  DEL → BOM → COK   \n",
       "4           Air Asia      24/06/2019  Banglore       Delhi        BLR → DEL   \n",
       "\n",
       "  Dep_Time  Arrival_Time Duration Total_Stops              Additional_Info  \n",
       "0    17:30  04:25 07 Jun  10h 55m      1 stop                      No info  \n",
       "1    06:20         10:20       4h      1 stop                      No info  \n",
       "2    19:15  19:00 22 May  23h 45m      1 stop  In-flight meal not included  \n",
       "3    08:00         21:00      13h      1 stop                      No info  \n",
       "4    23:55  02:45 25 Jun   2h 50m    non-stop                      No info  "
      ]
     },
     "execution_count": 1298,
     "metadata": {},
     "output_type": "execute_result"
    }
   ],
   "source": [
    "test=pd.read_excel(r\"C:\\Users\\mum1user\\Downloads\\FlightDataset\\Test_set.xlsx\")\n",
    "test.head()"
   ]
  },
  {
   "cell_type": "code",
   "execution_count": 1299,
   "id": "babf61b5",
   "metadata": {},
   "outputs": [
    {
     "data": {
      "text/plain": [
       "(2671, 10)"
      ]
     },
     "execution_count": 1299,
     "metadata": {},
     "output_type": "execute_result"
    }
   ],
   "source": [
    "test.shape"
   ]
  },
  {
   "cell_type": "code",
   "execution_count": 1300,
   "id": "9d4bde48",
   "metadata": {},
   "outputs": [
    {
     "data": {
      "text/html": [
       "<div>\n",
       "<style scoped>\n",
       "    .dataframe tbody tr th:only-of-type {\n",
       "        vertical-align: middle;\n",
       "    }\n",
       "\n",
       "    .dataframe tbody tr th {\n",
       "        vertical-align: top;\n",
       "    }\n",
       "\n",
       "    .dataframe thead th {\n",
       "        text-align: right;\n",
       "    }\n",
       "</style>\n",
       "<table border=\"1\" class=\"dataframe\">\n",
       "  <thead>\n",
       "    <tr style=\"text-align: right;\">\n",
       "      <th></th>\n",
       "      <th>Airline</th>\n",
       "      <th>Date_of_Journey</th>\n",
       "      <th>Source</th>\n",
       "      <th>Destination</th>\n",
       "      <th>Route</th>\n",
       "      <th>Dep_Time</th>\n",
       "      <th>Arrival_Time</th>\n",
       "      <th>Duration</th>\n",
       "      <th>Total_Stops</th>\n",
       "      <th>Additional_Info</th>\n",
       "    </tr>\n",
       "  </thead>\n",
       "  <tbody>\n",
       "    <tr>\n",
       "      <th>0</th>\n",
       "      <td>Jet Airways</td>\n",
       "      <td>6/06/2019</td>\n",
       "      <td>Delhi</td>\n",
       "      <td>Cochin</td>\n",
       "      <td>DEL → BOM → COK</td>\n",
       "      <td>17:30</td>\n",
       "      <td>04:25 07 Jun</td>\n",
       "      <td>10h 55m</td>\n",
       "      <td>1 stop</td>\n",
       "      <td>No info</td>\n",
       "    </tr>\n",
       "    <tr>\n",
       "      <th>1</th>\n",
       "      <td>IndiGo</td>\n",
       "      <td>12/05/2019</td>\n",
       "      <td>Kolkata</td>\n",
       "      <td>Banglore</td>\n",
       "      <td>CCU → MAA → BLR</td>\n",
       "      <td>06:20</td>\n",
       "      <td>10:20</td>\n",
       "      <td>4h</td>\n",
       "      <td>1 stop</td>\n",
       "      <td>No info</td>\n",
       "    </tr>\n",
       "    <tr>\n",
       "      <th>2</th>\n",
       "      <td>Jet Airways</td>\n",
       "      <td>21/05/2019</td>\n",
       "      <td>Delhi</td>\n",
       "      <td>Cochin</td>\n",
       "      <td>DEL → BOM → COK</td>\n",
       "      <td>19:15</td>\n",
       "      <td>19:00 22 May</td>\n",
       "      <td>23h 45m</td>\n",
       "      <td>1 stop</td>\n",
       "      <td>In-flight meal not included</td>\n",
       "    </tr>\n",
       "    <tr>\n",
       "      <th>3</th>\n",
       "      <td>Multiple carriers</td>\n",
       "      <td>21/05/2019</td>\n",
       "      <td>Delhi</td>\n",
       "      <td>Cochin</td>\n",
       "      <td>DEL → BOM → COK</td>\n",
       "      <td>08:00</td>\n",
       "      <td>21:00</td>\n",
       "      <td>13h</td>\n",
       "      <td>1 stop</td>\n",
       "      <td>No info</td>\n",
       "    </tr>\n",
       "    <tr>\n",
       "      <th>4</th>\n",
       "      <td>Air Asia</td>\n",
       "      <td>24/06/2019</td>\n",
       "      <td>Banglore</td>\n",
       "      <td>Delhi</td>\n",
       "      <td>BLR → DEL</td>\n",
       "      <td>23:55</td>\n",
       "      <td>02:45 25 Jun</td>\n",
       "      <td>2h 50m</td>\n",
       "      <td>non-stop</td>\n",
       "      <td>No info</td>\n",
       "    </tr>\n",
       "    <tr>\n",
       "      <th>...</th>\n",
       "      <td>...</td>\n",
       "      <td>...</td>\n",
       "      <td>...</td>\n",
       "      <td>...</td>\n",
       "      <td>...</td>\n",
       "      <td>...</td>\n",
       "      <td>...</td>\n",
       "      <td>...</td>\n",
       "      <td>...</td>\n",
       "      <td>...</td>\n",
       "    </tr>\n",
       "    <tr>\n",
       "      <th>2666</th>\n",
       "      <td>Air India</td>\n",
       "      <td>6/06/2019</td>\n",
       "      <td>Kolkata</td>\n",
       "      <td>Banglore</td>\n",
       "      <td>CCU → DEL → BLR</td>\n",
       "      <td>20:30</td>\n",
       "      <td>20:25 07 Jun</td>\n",
       "      <td>23h 55m</td>\n",
       "      <td>1 stop</td>\n",
       "      <td>No info</td>\n",
       "    </tr>\n",
       "    <tr>\n",
       "      <th>2667</th>\n",
       "      <td>IndiGo</td>\n",
       "      <td>27/03/2019</td>\n",
       "      <td>Kolkata</td>\n",
       "      <td>Banglore</td>\n",
       "      <td>CCU → BLR</td>\n",
       "      <td>14:20</td>\n",
       "      <td>16:55</td>\n",
       "      <td>2h 35m</td>\n",
       "      <td>non-stop</td>\n",
       "      <td>No info</td>\n",
       "    </tr>\n",
       "    <tr>\n",
       "      <th>2668</th>\n",
       "      <td>Jet Airways</td>\n",
       "      <td>6/03/2019</td>\n",
       "      <td>Delhi</td>\n",
       "      <td>Cochin</td>\n",
       "      <td>DEL → BOM → COK</td>\n",
       "      <td>21:50</td>\n",
       "      <td>04:25 07 Mar</td>\n",
       "      <td>6h 35m</td>\n",
       "      <td>1 stop</td>\n",
       "      <td>No info</td>\n",
       "    </tr>\n",
       "    <tr>\n",
       "      <th>2669</th>\n",
       "      <td>Air India</td>\n",
       "      <td>6/03/2019</td>\n",
       "      <td>Delhi</td>\n",
       "      <td>Cochin</td>\n",
       "      <td>DEL → BOM → COK</td>\n",
       "      <td>04:00</td>\n",
       "      <td>19:15</td>\n",
       "      <td>15h 15m</td>\n",
       "      <td>1 stop</td>\n",
       "      <td>No info</td>\n",
       "    </tr>\n",
       "    <tr>\n",
       "      <th>2670</th>\n",
       "      <td>Multiple carriers</td>\n",
       "      <td>15/06/2019</td>\n",
       "      <td>Delhi</td>\n",
       "      <td>Cochin</td>\n",
       "      <td>DEL → BOM → COK</td>\n",
       "      <td>04:55</td>\n",
       "      <td>19:15</td>\n",
       "      <td>14h 20m</td>\n",
       "      <td>1 stop</td>\n",
       "      <td>No info</td>\n",
       "    </tr>\n",
       "  </tbody>\n",
       "</table>\n",
       "<p>2671 rows × 10 columns</p>\n",
       "</div>"
      ],
      "text/plain": [
       "                Airline Date_of_Journey    Source Destination  \\\n",
       "0           Jet Airways       6/06/2019     Delhi      Cochin   \n",
       "1                IndiGo      12/05/2019   Kolkata    Banglore   \n",
       "2           Jet Airways      21/05/2019     Delhi      Cochin   \n",
       "3     Multiple carriers      21/05/2019     Delhi      Cochin   \n",
       "4              Air Asia      24/06/2019  Banglore       Delhi   \n",
       "...                 ...             ...       ...         ...   \n",
       "2666          Air India       6/06/2019   Kolkata    Banglore   \n",
       "2667             IndiGo      27/03/2019   Kolkata    Banglore   \n",
       "2668        Jet Airways       6/03/2019     Delhi      Cochin   \n",
       "2669          Air India       6/03/2019     Delhi      Cochin   \n",
       "2670  Multiple carriers      15/06/2019     Delhi      Cochin   \n",
       "\n",
       "                Route Dep_Time  Arrival_Time Duration Total_Stops  \\\n",
       "0     DEL → BOM → COK    17:30  04:25 07 Jun  10h 55m      1 stop   \n",
       "1     CCU → MAA → BLR    06:20         10:20       4h      1 stop   \n",
       "2     DEL → BOM → COK    19:15  19:00 22 May  23h 45m      1 stop   \n",
       "3     DEL → BOM → COK    08:00         21:00      13h      1 stop   \n",
       "4           BLR → DEL    23:55  02:45 25 Jun   2h 50m    non-stop   \n",
       "...               ...      ...           ...      ...         ...   \n",
       "2666  CCU → DEL → BLR    20:30  20:25 07 Jun  23h 55m      1 stop   \n",
       "2667        CCU → BLR    14:20         16:55   2h 35m    non-stop   \n",
       "2668  DEL → BOM → COK    21:50  04:25 07 Mar   6h 35m      1 stop   \n",
       "2669  DEL → BOM → COK    04:00         19:15  15h 15m      1 stop   \n",
       "2670  DEL → BOM → COK    04:55         19:15  14h 20m      1 stop   \n",
       "\n",
       "                  Additional_Info  \n",
       "0                         No info  \n",
       "1                         No info  \n",
       "2     In-flight meal not included  \n",
       "3                         No info  \n",
       "4                         No info  \n",
       "...                           ...  \n",
       "2666                      No info  \n",
       "2667                      No info  \n",
       "2668                      No info  \n",
       "2669                      No info  \n",
       "2670                      No info  \n",
       "\n",
       "[2671 rows x 10 columns]"
      ]
     },
     "execution_count": 1300,
     "metadata": {},
     "output_type": "execute_result"
    }
   ],
   "source": [
    "testWithoutPrice=test\n",
    "testWithoutPrice"
   ]
  },
  {
   "cell_type": "markdown",
   "id": "b634a8b3",
   "metadata": {},
   "source": [
    "We will try to use the same column as what we used in our Train data to predict the flight prices, so we are proceeding directly as we have detailed explanation above."
   ]
  },
  {
   "cell_type": "code",
   "execution_count": 1301,
   "id": "7248b4ae",
   "metadata": {},
   "outputs": [],
   "source": [
    "test['Date_of_Journey']=pd.to_datetime(test['Date_of_Journey'])\n",
    "test['DayOfJourney']=test['Date_of_Journey'].apply(lambda x:x.day)\n",
    "test['MonthOfJourney']=test['Date_of_Journey'].apply(lambda x:x.month)"
   ]
  },
  {
   "cell_type": "code",
   "execution_count": 1302,
   "id": "52d277bb",
   "metadata": {},
   "outputs": [],
   "source": [
    "test['Arrival_Time'],_= test['Arrival_Time'].str.split(' ',1).str"
   ]
  },
  {
   "cell_type": "code",
   "execution_count": 1303,
   "id": "7e1a9176",
   "metadata": {},
   "outputs": [],
   "source": [
    "test['Arr_Hr'],test['Arr_Min'] = test['Arrival_Time'].str.split(':',2).str"
   ]
  },
  {
   "cell_type": "code",
   "execution_count": 1304,
   "id": "21ff3245",
   "metadata": {},
   "outputs": [],
   "source": [
    "test['Dep_Hr'],test['Dep_Min'] = test['Dep_Time'].str.split(':',2).str"
   ]
  },
  {
   "cell_type": "code",
   "execution_count": 1305,
   "id": "e06b96ba",
   "metadata": {},
   "outputs": [],
   "source": [
    "test['Duration'] = test['Duration'].str.replace('h ',':').str.replace('m','')\n",
    "test['Duration_Hr'],test['Duration_Min'] = test['Duration'].str.split(':',2).str"
   ]
  },
  {
   "cell_type": "code",
   "execution_count": 1306,
   "id": "304f3fa9",
   "metadata": {},
   "outputs": [],
   "source": [
    "test = test.fillna(0)"
   ]
  },
  {
   "cell_type": "code",
   "execution_count": 1307,
   "id": "6da529bb",
   "metadata": {},
   "outputs": [],
   "source": [
    "test['Total_Stops'],_ = test['Total_Stops'].str.split(' stops').str\n",
    "test['Total_Stops'],_ = test['Total_Stops'].str.split(' stop').str\n",
    "test['Total_Stops'] = test['Total_Stops'].apply(lambda x: 0 if 'non-stop' in x else x)"
   ]
  },
  {
   "cell_type": "code",
   "execution_count": 1308,
   "id": "75570a4e",
   "metadata": {},
   "outputs": [],
   "source": [
    "test['Additional_Info'] = test['Additional_Info'].str.replace('No info','No Info')"
   ]
  },
  {
   "cell_type": "code",
   "execution_count": 1309,
   "id": "c2b8a765",
   "metadata": {},
   "outputs": [],
   "source": [
    "test.drop([\"Date_of_Journey\", \"Dep_Time\",\"Duration\",\"Arrival_Time\",\"Route\"], axis = 1, inplace = True)"
   ]
  },
  {
   "cell_type": "code",
   "execution_count": 1310,
   "id": "10a69a48",
   "metadata": {},
   "outputs": [
    {
     "data": {
      "text/html": [
       "<div>\n",
       "<style scoped>\n",
       "    .dataframe tbody tr th:only-of-type {\n",
       "        vertical-align: middle;\n",
       "    }\n",
       "\n",
       "    .dataframe tbody tr th {\n",
       "        vertical-align: top;\n",
       "    }\n",
       "\n",
       "    .dataframe thead th {\n",
       "        text-align: right;\n",
       "    }\n",
       "</style>\n",
       "<table border=\"1\" class=\"dataframe\">\n",
       "  <thead>\n",
       "    <tr style=\"text-align: right;\">\n",
       "      <th></th>\n",
       "      <th>Airline</th>\n",
       "      <th>Source</th>\n",
       "      <th>Destination</th>\n",
       "      <th>Total_Stops</th>\n",
       "      <th>Additional_Info</th>\n",
       "      <th>DayOfJourney</th>\n",
       "      <th>MonthOfJourney</th>\n",
       "      <th>Arr_Hr</th>\n",
       "      <th>Arr_Min</th>\n",
       "      <th>Dep_Hr</th>\n",
       "      <th>Dep_Min</th>\n",
       "      <th>Duration_Hr</th>\n",
       "      <th>Duration_Min</th>\n",
       "    </tr>\n",
       "  </thead>\n",
       "  <tbody>\n",
       "    <tr>\n",
       "      <th>0</th>\n",
       "      <td>Jet Airways</td>\n",
       "      <td>Delhi</td>\n",
       "      <td>Cochin</td>\n",
       "      <td>1</td>\n",
       "      <td>No Info</td>\n",
       "      <td>6</td>\n",
       "      <td>6</td>\n",
       "      <td>04</td>\n",
       "      <td>25</td>\n",
       "      <td>17</td>\n",
       "      <td>30</td>\n",
       "      <td>10</td>\n",
       "      <td>55</td>\n",
       "    </tr>\n",
       "  </tbody>\n",
       "</table>\n",
       "</div>"
      ],
      "text/plain": [
       "       Airline Source Destination Total_Stops Additional_Info  DayOfJourney  \\\n",
       "0  Jet Airways  Delhi      Cochin           1         No Info             6   \n",
       "\n",
       "   MonthOfJourney Arr_Hr Arr_Min Dep_Hr Dep_Min Duration_Hr Duration_Min  \n",
       "0               6     04      25     17      30          10           55  "
      ]
     },
     "execution_count": 1310,
     "metadata": {},
     "output_type": "execute_result"
    }
   ],
   "source": [
    "test.head(1)"
   ]
  },
  {
   "cell_type": "code",
   "execution_count": 1311,
   "id": "91492ead",
   "metadata": {},
   "outputs": [
    {
     "data": {
      "text/html": [
       "<div>\n",
       "<style scoped>\n",
       "    .dataframe tbody tr th:only-of-type {\n",
       "        vertical-align: middle;\n",
       "    }\n",
       "\n",
       "    .dataframe tbody tr th {\n",
       "        vertical-align: top;\n",
       "    }\n",
       "\n",
       "    .dataframe thead th {\n",
       "        text-align: right;\n",
       "    }\n",
       "</style>\n",
       "<table border=\"1\" class=\"dataframe\">\n",
       "  <thead>\n",
       "    <tr style=\"text-align: right;\">\n",
       "      <th></th>\n",
       "      <th>Airline</th>\n",
       "      <th>Source</th>\n",
       "      <th>Destination</th>\n",
       "      <th>Total_Stops</th>\n",
       "      <th>Additional_Info</th>\n",
       "      <th>DayOfJourney</th>\n",
       "      <th>MonthOfJourney</th>\n",
       "      <th>Dep_Hr</th>\n",
       "      <th>Dep_Min</th>\n",
       "      <th>Arr_Hr</th>\n",
       "      <th>Arr_Min</th>\n",
       "      <th>Actual_Duration_In_Hours</th>\n",
       "      <th>Price</th>\n",
       "    </tr>\n",
       "  </thead>\n",
       "  <tbody>\n",
       "    <tr>\n",
       "      <th>0</th>\n",
       "      <td>3</td>\n",
       "      <td>0</td>\n",
       "      <td>2</td>\n",
       "      <td>0</td>\n",
       "      <td>6</td>\n",
       "      <td>24</td>\n",
       "      <td>4</td>\n",
       "      <td>22</td>\n",
       "      <td>20</td>\n",
       "      <td>1</td>\n",
       "      <td>10</td>\n",
       "      <td>2.833333</td>\n",
       "      <td>3897</td>\n",
       "    </tr>\n",
       "  </tbody>\n",
       "</table>\n",
       "</div>"
      ],
      "text/plain": [
       "   Airline  Source  Destination  Total_Stops  Additional_Info  DayOfJourney  \\\n",
       "0        3       0            2            0                6            24   \n",
       "\n",
       "   MonthOfJourney  Dep_Hr  Dep_Min  Arr_Hr  Arr_Min  Actual_Duration_In_Hours  \\\n",
       "0               4      22       20       1       10                  2.833333   \n",
       "\n",
       "   Price  \n",
       "0   3897  "
      ]
     },
     "execution_count": 1311,
     "metadata": {},
     "output_type": "execute_result"
    }
   ],
   "source": [
    "df.head(1)"
   ]
  },
  {
   "cell_type": "code",
   "execution_count": 1312,
   "id": "d5692717",
   "metadata": {},
   "outputs": [],
   "source": [
    "test[\"Dep_Hr\"] = test[\"Dep_Hr\"].astype(str).astype(int)\n",
    "test[\"Arr_Hr\"] = test[\"Arr_Hr\"].astype(str).astype(int)\n",
    "test['Duration_Hr'],_ = test['Duration_Hr'].str.split('h',1).str\n",
    "test['Duration_Hr'] = test['Duration_Hr'].astype(int)\n",
    "test['Duration_Min'] = test['Duration_Min'].astype(int)\n",
    "test[\"Total_Stops\"] = test[\"Total_Stops\"].astype(str).astype(int)\n",
    "test[\"Dep_Min\"] = test[\"Dep_Min\"].astype(str).astype(int)\n",
    "test[\"Arr_Min\"] = test[\"Arr_Min\"].astype(str).astype(int)"
   ]
  },
  {
   "cell_type": "code",
   "execution_count": 1313,
   "id": "2ad890d8",
   "metadata": {},
   "outputs": [],
   "source": [
    "test['Airline']=le.fit_transform(test['Airline'])\n",
    "test['Source']=le.fit_transform(test['Source'])\n",
    "test['Destination']=le.fit_transform(test['Destination'])\n",
    "test['Additional_Info']=le.fit_transform(test['Additional_Info'])\n",
    "test['MonthOfJourney']=le.fit_transform(test['MonthOfJourney'])"
   ]
  },
  {
   "cell_type": "code",
   "execution_count": 1314,
   "id": "23be4764",
   "metadata": {},
   "outputs": [],
   "source": [
    "test['Actual_Duration_In_Hours'] = test['Duration_Hr']+(test['Duration_Min']/60)"
   ]
  },
  {
   "cell_type": "code",
   "execution_count": 1315,
   "id": "2993f899",
   "metadata": {},
   "outputs": [],
   "source": [
    "test.drop([\"Duration_Hr\", \"Duration_Min\"], axis = 1, inplace = True)"
   ]
  },
  {
   "cell_type": "code",
   "execution_count": 1316,
   "id": "228658a4",
   "metadata": {},
   "outputs": [
    {
     "data": {
      "text/html": [
       "<div>\n",
       "<style scoped>\n",
       "    .dataframe tbody tr th:only-of-type {\n",
       "        vertical-align: middle;\n",
       "    }\n",
       "\n",
       "    .dataframe tbody tr th {\n",
       "        vertical-align: top;\n",
       "    }\n",
       "\n",
       "    .dataframe thead th {\n",
       "        text-align: right;\n",
       "    }\n",
       "</style>\n",
       "<table border=\"1\" class=\"dataframe\">\n",
       "  <thead>\n",
       "    <tr style=\"text-align: right;\">\n",
       "      <th></th>\n",
       "      <th>Airline</th>\n",
       "      <th>Source</th>\n",
       "      <th>Destination</th>\n",
       "      <th>Total_Stops</th>\n",
       "      <th>Additional_Info</th>\n",
       "      <th>DayOfJourney</th>\n",
       "      <th>MonthOfJourney</th>\n",
       "      <th>Dep_Hr</th>\n",
       "      <th>Dep_Min</th>\n",
       "      <th>Arr_Hr</th>\n",
       "      <th>Arr_Min</th>\n",
       "      <th>Actual_Duration_In_Hours</th>\n",
       "    </tr>\n",
       "  </thead>\n",
       "  <tbody>\n",
       "    <tr>\n",
       "      <th>0</th>\n",
       "      <td>4</td>\n",
       "      <td>2</td>\n",
       "      <td>1</td>\n",
       "      <td>1</td>\n",
       "      <td>4</td>\n",
       "      <td>6</td>\n",
       "      <td>4</td>\n",
       "      <td>17</td>\n",
       "      <td>30</td>\n",
       "      <td>4</td>\n",
       "      <td>25</td>\n",
       "      <td>10.916667</td>\n",
       "    </tr>\n",
       "    <tr>\n",
       "      <th>1</th>\n",
       "      <td>3</td>\n",
       "      <td>3</td>\n",
       "      <td>0</td>\n",
       "      <td>1</td>\n",
       "      <td>4</td>\n",
       "      <td>5</td>\n",
       "      <td>6</td>\n",
       "      <td>6</td>\n",
       "      <td>20</td>\n",
       "      <td>10</td>\n",
       "      <td>20</td>\n",
       "      <td>4.000000</td>\n",
       "    </tr>\n",
       "  </tbody>\n",
       "</table>\n",
       "</div>"
      ],
      "text/plain": [
       "   Airline  Source  Destination  Total_Stops  Additional_Info  DayOfJourney  \\\n",
       "0        4       2            1            1                4             6   \n",
       "1        3       3            0            1                4             5   \n",
       "\n",
       "   MonthOfJourney  Dep_Hr  Dep_Min  Arr_Hr  Arr_Min  Actual_Duration_In_Hours  \n",
       "0               4      17       30       4       25                 10.916667  \n",
       "1               6       6       20      10       20                  4.000000  "
      ]
     },
     "execution_count": 1316,
     "metadata": {},
     "output_type": "execute_result"
    }
   ],
   "source": [
    "test = test[['Airline', 'Source', 'Destination', 'Total_Stops', 'Additional_Info',\n",
    "        'DayOfJourney', 'MonthOfJourney', 'Dep_Hr', 'Dep_Min',\n",
    "        'Arr_Hr', 'Arr_Min', 'Actual_Duration_In_Hours']]\n",
    "test.head(2)"
   ]
  },
  {
   "cell_type": "code",
   "execution_count": 1317,
   "id": "a7dfbbd9",
   "metadata": {},
   "outputs": [
    {
     "data": {
      "text/html": [
       "<div>\n",
       "<style scoped>\n",
       "    .dataframe tbody tr th:only-of-type {\n",
       "        vertical-align: middle;\n",
       "    }\n",
       "\n",
       "    .dataframe tbody tr th {\n",
       "        vertical-align: top;\n",
       "    }\n",
       "\n",
       "    .dataframe thead th {\n",
       "        text-align: right;\n",
       "    }\n",
       "</style>\n",
       "<table border=\"1\" class=\"dataframe\">\n",
       "  <thead>\n",
       "    <tr style=\"text-align: right;\">\n",
       "      <th></th>\n",
       "      <th>Airline</th>\n",
       "      <th>Source</th>\n",
       "      <th>Destination</th>\n",
       "      <th>Total_Stops</th>\n",
       "      <th>Additional_Info</th>\n",
       "      <th>DayOfJourney</th>\n",
       "      <th>MonthOfJourney</th>\n",
       "      <th>Dep_Hr</th>\n",
       "      <th>Dep_Min</th>\n",
       "      <th>Arr_Hr</th>\n",
       "      <th>Arr_Min</th>\n",
       "      <th>Actual_Duration_In_Hours</th>\n",
       "      <th>Price</th>\n",
       "    </tr>\n",
       "  </thead>\n",
       "  <tbody>\n",
       "    <tr>\n",
       "      <th>0</th>\n",
       "      <td>3</td>\n",
       "      <td>0</td>\n",
       "      <td>2</td>\n",
       "      <td>0</td>\n",
       "      <td>6</td>\n",
       "      <td>24</td>\n",
       "      <td>4</td>\n",
       "      <td>22</td>\n",
       "      <td>20</td>\n",
       "      <td>1</td>\n",
       "      <td>10</td>\n",
       "      <td>2.833333</td>\n",
       "      <td>3897</td>\n",
       "    </tr>\n",
       "  </tbody>\n",
       "</table>\n",
       "</div>"
      ],
      "text/plain": [
       "   Airline  Source  Destination  Total_Stops  Additional_Info  DayOfJourney  \\\n",
       "0        3       0            2            0                6            24   \n",
       "\n",
       "   MonthOfJourney  Dep_Hr  Dep_Min  Arr_Hr  Arr_Min  Actual_Duration_In_Hours  \\\n",
       "0               4      22       20       1       10                  2.833333   \n",
       "\n",
       "   Price  \n",
       "0   3897  "
      ]
     },
     "execution_count": 1317,
     "metadata": {},
     "output_type": "execute_result"
    }
   ],
   "source": [
    "df.head(1)"
   ]
  },
  {
   "cell_type": "markdown",
   "id": "53354df2",
   "metadata": {},
   "source": [
    "So we see that data which has been provided to us are in order of train data."
   ]
  },
  {
   "cell_type": "code",
   "execution_count": 1318,
   "id": "3dc04f22",
   "metadata": {},
   "outputs": [],
   "source": [
    "predict=rfr.predict(test)"
   ]
  },
  {
   "cell_type": "code",
   "execution_count": 1319,
   "id": "44adec7b",
   "metadata": {},
   "outputs": [
    {
     "data": {
      "text/plain": [
       "(2671,)"
      ]
     },
     "execution_count": 1319,
     "metadata": {},
     "output_type": "execute_result"
    }
   ],
   "source": [
    "predict.shape"
   ]
  },
  {
   "cell_type": "code",
   "execution_count": 1320,
   "id": "9bdefa0c",
   "metadata": {},
   "outputs": [
    {
     "data": {
      "text/plain": [
       "array([10398.5 ,  4226.  , 10262.  , ..., 13336.45, 14250.2 ,  6103.  ])"
      ]
     },
     "execution_count": 1320,
     "metadata": {},
     "output_type": "execute_result"
    }
   ],
   "source": [
    "predict"
   ]
  },
  {
   "cell_type": "code",
   "execution_count": 1321,
   "id": "5e1cdf0b",
   "metadata": {},
   "outputs": [],
   "source": [
    "df_Submission=pd.DataFrame(predict)"
   ]
  },
  {
   "cell_type": "code",
   "execution_count": 1322,
   "id": "d85e0229",
   "metadata": {},
   "outputs": [],
   "source": [
    "df_Submission.rename(columns={0: \"Price\"}, errors=\"raise\",inplace=True)"
   ]
  },
  {
   "cell_type": "code",
   "execution_count": 1323,
   "id": "c2e1e062",
   "metadata": {},
   "outputs": [
    {
     "data": {
      "text/html": [
       "<div>\n",
       "<style scoped>\n",
       "    .dataframe tbody tr th:only-of-type {\n",
       "        vertical-align: middle;\n",
       "    }\n",
       "\n",
       "    .dataframe tbody tr th {\n",
       "        vertical-align: top;\n",
       "    }\n",
       "\n",
       "    .dataframe thead th {\n",
       "        text-align: right;\n",
       "    }\n",
       "</style>\n",
       "<table border=\"1\" class=\"dataframe\">\n",
       "  <thead>\n",
       "    <tr style=\"text-align: right;\">\n",
       "      <th></th>\n",
       "      <th>Price</th>\n",
       "    </tr>\n",
       "  </thead>\n",
       "  <tbody>\n",
       "    <tr>\n",
       "      <th>0</th>\n",
       "      <td>10398.50</td>\n",
       "    </tr>\n",
       "    <tr>\n",
       "      <th>1</th>\n",
       "      <td>4226.00</td>\n",
       "    </tr>\n",
       "    <tr>\n",
       "      <th>2</th>\n",
       "      <td>10262.00</td>\n",
       "    </tr>\n",
       "    <tr>\n",
       "      <th>3</th>\n",
       "      <td>10189.90</td>\n",
       "    </tr>\n",
       "    <tr>\n",
       "      <th>4</th>\n",
       "      <td>3967.90</td>\n",
       "    </tr>\n",
       "    <tr>\n",
       "      <th>...</th>\n",
       "      <td>...</td>\n",
       "    </tr>\n",
       "    <tr>\n",
       "      <th>2666</th>\n",
       "      <td>10203.00</td>\n",
       "    </tr>\n",
       "    <tr>\n",
       "      <th>2667</th>\n",
       "      <td>4946.15</td>\n",
       "    </tr>\n",
       "    <tr>\n",
       "      <th>2668</th>\n",
       "      <td>13336.45</td>\n",
       "    </tr>\n",
       "    <tr>\n",
       "      <th>2669</th>\n",
       "      <td>14250.20</td>\n",
       "    </tr>\n",
       "    <tr>\n",
       "      <th>2670</th>\n",
       "      <td>6103.00</td>\n",
       "    </tr>\n",
       "  </tbody>\n",
       "</table>\n",
       "<p>2671 rows × 1 columns</p>\n",
       "</div>"
      ],
      "text/plain": [
       "         Price\n",
       "0     10398.50\n",
       "1      4226.00\n",
       "2     10262.00\n",
       "3     10189.90\n",
       "4      3967.90\n",
       "...        ...\n",
       "2666  10203.00\n",
       "2667   4946.15\n",
       "2668  13336.45\n",
       "2669  14250.20\n",
       "2670   6103.00\n",
       "\n",
       "[2671 rows x 1 columns]"
      ]
     },
     "execution_count": 1323,
     "metadata": {},
     "output_type": "execute_result"
    }
   ],
   "source": [
    "df_Submission"
   ]
  },
  {
   "cell_type": "code",
   "execution_count": 1324,
   "id": "64313d04",
   "metadata": {},
   "outputs": [],
   "source": [
    "df_Submission.to_csv(r'C:\\Users\\mum1user\\DataTrained\\Projects\\Submission.csv')"
   ]
  },
  {
   "cell_type": "code",
   "execution_count": 1325,
   "id": "02253413",
   "metadata": {},
   "outputs": [
    {
     "data": {
      "text/html": [
       "<div>\n",
       "<style scoped>\n",
       "    .dataframe tbody tr th:only-of-type {\n",
       "        vertical-align: middle;\n",
       "    }\n",
       "\n",
       "    .dataframe tbody tr th {\n",
       "        vertical-align: top;\n",
       "    }\n",
       "\n",
       "    .dataframe thead th {\n",
       "        text-align: right;\n",
       "    }\n",
       "</style>\n",
       "<table border=\"1\" class=\"dataframe\">\n",
       "  <thead>\n",
       "    <tr style=\"text-align: right;\">\n",
       "      <th></th>\n",
       "      <th>Price</th>\n",
       "    </tr>\n",
       "  </thead>\n",
       "  <tbody>\n",
       "    <tr>\n",
       "      <th>0</th>\n",
       "      <td>10398.5</td>\n",
       "    </tr>\n",
       "    <tr>\n",
       "      <th>1</th>\n",
       "      <td>4226.0</td>\n",
       "    </tr>\n",
       "    <tr>\n",
       "      <th>2</th>\n",
       "      <td>10262.0</td>\n",
       "    </tr>\n",
       "    <tr>\n",
       "      <th>3</th>\n",
       "      <td>10189.9</td>\n",
       "    </tr>\n",
       "    <tr>\n",
       "      <th>4</th>\n",
       "      <td>3967.9</td>\n",
       "    </tr>\n",
       "  </tbody>\n",
       "</table>\n",
       "</div>"
      ],
      "text/plain": [
       "     Price\n",
       "0  10398.5\n",
       "1   4226.0\n",
       "2  10262.0\n",
       "3  10189.9\n",
       "4   3967.9"
      ]
     },
     "execution_count": 1325,
     "metadata": {},
     "output_type": "execute_result"
    }
   ],
   "source": [
    "sample_data = pd.read_csv(r'C:\\Users\\mum1user\\DataTrained\\Projects\\Submission.csv')\n",
    "sample_data.drop(columns=['Unnamed: 0'],axis=1,inplace=True)\n",
    "sample_data.head()"
   ]
  },
  {
   "cell_type": "code",
   "execution_count": 1326,
   "id": "3f284830",
   "metadata": {},
   "outputs": [
    {
     "data": {
      "text/html": [
       "<div>\n",
       "<style scoped>\n",
       "    .dataframe tbody tr th:only-of-type {\n",
       "        vertical-align: middle;\n",
       "    }\n",
       "\n",
       "    .dataframe tbody tr th {\n",
       "        vertical-align: top;\n",
       "    }\n",
       "\n",
       "    .dataframe thead th {\n",
       "        text-align: right;\n",
       "    }\n",
       "</style>\n",
       "<table border=\"1\" class=\"dataframe\">\n",
       "  <thead>\n",
       "    <tr style=\"text-align: right;\">\n",
       "      <th></th>\n",
       "      <th>Airline</th>\n",
       "      <th>Date_of_Journey</th>\n",
       "      <th>Source</th>\n",
       "      <th>Destination</th>\n",
       "      <th>Route</th>\n",
       "      <th>Dep_Time</th>\n",
       "      <th>Arrival_Time</th>\n",
       "      <th>Duration</th>\n",
       "      <th>Total_Stops</th>\n",
       "      <th>Additional_Info</th>\n",
       "      <th>DayOfJourney</th>\n",
       "      <th>MonthOfJourney</th>\n",
       "      <th>Arr_Hr</th>\n",
       "      <th>Arr_Min</th>\n",
       "      <th>Dep_Hr</th>\n",
       "      <th>Dep_Min</th>\n",
       "      <th>Duration_Hr</th>\n",
       "      <th>Duration_Min</th>\n",
       "      <th>Price</th>\n",
       "    </tr>\n",
       "  </thead>\n",
       "  <tbody>\n",
       "    <tr>\n",
       "      <th>0</th>\n",
       "      <td>Jet Airways</td>\n",
       "      <td>2019-06-06</td>\n",
       "      <td>Delhi</td>\n",
       "      <td>Cochin</td>\n",
       "      <td>DEL → BOM → COK</td>\n",
       "      <td>17:30</td>\n",
       "      <td>04:25</td>\n",
       "      <td>10:55</td>\n",
       "      <td>1 stop</td>\n",
       "      <td>No info</td>\n",
       "      <td>6</td>\n",
       "      <td>6</td>\n",
       "      <td>04</td>\n",
       "      <td>25</td>\n",
       "      <td>17</td>\n",
       "      <td>30</td>\n",
       "      <td>10</td>\n",
       "      <td>55</td>\n",
       "      <td>10398.50</td>\n",
       "    </tr>\n",
       "    <tr>\n",
       "      <th>1</th>\n",
       "      <td>IndiGo</td>\n",
       "      <td>2019-12-05</td>\n",
       "      <td>Kolkata</td>\n",
       "      <td>Banglore</td>\n",
       "      <td>CCU → MAA → BLR</td>\n",
       "      <td>06:20</td>\n",
       "      <td>10:20</td>\n",
       "      <td>4h</td>\n",
       "      <td>1 stop</td>\n",
       "      <td>No info</td>\n",
       "      <td>5</td>\n",
       "      <td>12</td>\n",
       "      <td>10</td>\n",
       "      <td>20</td>\n",
       "      <td>06</td>\n",
       "      <td>20</td>\n",
       "      <td>4h</td>\n",
       "      <td>NaN</td>\n",
       "      <td>4226.00</td>\n",
       "    </tr>\n",
       "    <tr>\n",
       "      <th>2</th>\n",
       "      <td>Jet Airways</td>\n",
       "      <td>2019-05-21</td>\n",
       "      <td>Delhi</td>\n",
       "      <td>Cochin</td>\n",
       "      <td>DEL → BOM → COK</td>\n",
       "      <td>19:15</td>\n",
       "      <td>19:00</td>\n",
       "      <td>23:45</td>\n",
       "      <td>1 stop</td>\n",
       "      <td>In-flight meal not included</td>\n",
       "      <td>21</td>\n",
       "      <td>5</td>\n",
       "      <td>19</td>\n",
       "      <td>00</td>\n",
       "      <td>19</td>\n",
       "      <td>15</td>\n",
       "      <td>23</td>\n",
       "      <td>45</td>\n",
       "      <td>10262.00</td>\n",
       "    </tr>\n",
       "    <tr>\n",
       "      <th>3</th>\n",
       "      <td>Multiple carriers</td>\n",
       "      <td>2019-05-21</td>\n",
       "      <td>Delhi</td>\n",
       "      <td>Cochin</td>\n",
       "      <td>DEL → BOM → COK</td>\n",
       "      <td>08:00</td>\n",
       "      <td>21:00</td>\n",
       "      <td>13h</td>\n",
       "      <td>1 stop</td>\n",
       "      <td>No info</td>\n",
       "      <td>21</td>\n",
       "      <td>5</td>\n",
       "      <td>21</td>\n",
       "      <td>00</td>\n",
       "      <td>08</td>\n",
       "      <td>00</td>\n",
       "      <td>13h</td>\n",
       "      <td>NaN</td>\n",
       "      <td>10189.90</td>\n",
       "    </tr>\n",
       "    <tr>\n",
       "      <th>4</th>\n",
       "      <td>Air Asia</td>\n",
       "      <td>2019-06-24</td>\n",
       "      <td>Banglore</td>\n",
       "      <td>Delhi</td>\n",
       "      <td>BLR → DEL</td>\n",
       "      <td>23:55</td>\n",
       "      <td>02:45</td>\n",
       "      <td>2:50</td>\n",
       "      <td>non-stop</td>\n",
       "      <td>No info</td>\n",
       "      <td>24</td>\n",
       "      <td>6</td>\n",
       "      <td>02</td>\n",
       "      <td>45</td>\n",
       "      <td>23</td>\n",
       "      <td>55</td>\n",
       "      <td>2</td>\n",
       "      <td>50</td>\n",
       "      <td>3967.90</td>\n",
       "    </tr>\n",
       "    <tr>\n",
       "      <th>...</th>\n",
       "      <td>...</td>\n",
       "      <td>...</td>\n",
       "      <td>...</td>\n",
       "      <td>...</td>\n",
       "      <td>...</td>\n",
       "      <td>...</td>\n",
       "      <td>...</td>\n",
       "      <td>...</td>\n",
       "      <td>...</td>\n",
       "      <td>...</td>\n",
       "      <td>...</td>\n",
       "      <td>...</td>\n",
       "      <td>...</td>\n",
       "      <td>...</td>\n",
       "      <td>...</td>\n",
       "      <td>...</td>\n",
       "      <td>...</td>\n",
       "      <td>...</td>\n",
       "      <td>...</td>\n",
       "    </tr>\n",
       "    <tr>\n",
       "      <th>2666</th>\n",
       "      <td>Air India</td>\n",
       "      <td>2019-06-06</td>\n",
       "      <td>Kolkata</td>\n",
       "      <td>Banglore</td>\n",
       "      <td>CCU → DEL → BLR</td>\n",
       "      <td>20:30</td>\n",
       "      <td>20:25</td>\n",
       "      <td>23:55</td>\n",
       "      <td>1 stop</td>\n",
       "      <td>No info</td>\n",
       "      <td>6</td>\n",
       "      <td>6</td>\n",
       "      <td>20</td>\n",
       "      <td>25</td>\n",
       "      <td>20</td>\n",
       "      <td>30</td>\n",
       "      <td>23</td>\n",
       "      <td>55</td>\n",
       "      <td>10203.00</td>\n",
       "    </tr>\n",
       "    <tr>\n",
       "      <th>2667</th>\n",
       "      <td>IndiGo</td>\n",
       "      <td>2019-03-27</td>\n",
       "      <td>Kolkata</td>\n",
       "      <td>Banglore</td>\n",
       "      <td>CCU → BLR</td>\n",
       "      <td>14:20</td>\n",
       "      <td>16:55</td>\n",
       "      <td>2:35</td>\n",
       "      <td>non-stop</td>\n",
       "      <td>No info</td>\n",
       "      <td>27</td>\n",
       "      <td>3</td>\n",
       "      <td>16</td>\n",
       "      <td>55</td>\n",
       "      <td>14</td>\n",
       "      <td>20</td>\n",
       "      <td>2</td>\n",
       "      <td>35</td>\n",
       "      <td>4946.15</td>\n",
       "    </tr>\n",
       "    <tr>\n",
       "      <th>2668</th>\n",
       "      <td>Jet Airways</td>\n",
       "      <td>2019-06-03</td>\n",
       "      <td>Delhi</td>\n",
       "      <td>Cochin</td>\n",
       "      <td>DEL → BOM → COK</td>\n",
       "      <td>21:50</td>\n",
       "      <td>04:25</td>\n",
       "      <td>6:35</td>\n",
       "      <td>1 stop</td>\n",
       "      <td>No info</td>\n",
       "      <td>3</td>\n",
       "      <td>6</td>\n",
       "      <td>04</td>\n",
       "      <td>25</td>\n",
       "      <td>21</td>\n",
       "      <td>50</td>\n",
       "      <td>6</td>\n",
       "      <td>35</td>\n",
       "      <td>13336.45</td>\n",
       "    </tr>\n",
       "    <tr>\n",
       "      <th>2669</th>\n",
       "      <td>Air India</td>\n",
       "      <td>2019-06-03</td>\n",
       "      <td>Delhi</td>\n",
       "      <td>Cochin</td>\n",
       "      <td>DEL → BOM → COK</td>\n",
       "      <td>04:00</td>\n",
       "      <td>19:15</td>\n",
       "      <td>15:15</td>\n",
       "      <td>1 stop</td>\n",
       "      <td>No info</td>\n",
       "      <td>3</td>\n",
       "      <td>6</td>\n",
       "      <td>19</td>\n",
       "      <td>15</td>\n",
       "      <td>04</td>\n",
       "      <td>00</td>\n",
       "      <td>15</td>\n",
       "      <td>15</td>\n",
       "      <td>14250.20</td>\n",
       "    </tr>\n",
       "    <tr>\n",
       "      <th>2670</th>\n",
       "      <td>Multiple carriers</td>\n",
       "      <td>2019-06-15</td>\n",
       "      <td>Delhi</td>\n",
       "      <td>Cochin</td>\n",
       "      <td>DEL → BOM → COK</td>\n",
       "      <td>04:55</td>\n",
       "      <td>19:15</td>\n",
       "      <td>14:20</td>\n",
       "      <td>1 stop</td>\n",
       "      <td>No info</td>\n",
       "      <td>15</td>\n",
       "      <td>6</td>\n",
       "      <td>19</td>\n",
       "      <td>15</td>\n",
       "      <td>04</td>\n",
       "      <td>55</td>\n",
       "      <td>14</td>\n",
       "      <td>20</td>\n",
       "      <td>6103.00</td>\n",
       "    </tr>\n",
       "  </tbody>\n",
       "</table>\n",
       "<p>2671 rows × 19 columns</p>\n",
       "</div>"
      ],
      "text/plain": [
       "                Airline Date_of_Journey    Source Destination  \\\n",
       "0           Jet Airways      2019-06-06     Delhi      Cochin   \n",
       "1                IndiGo      2019-12-05   Kolkata    Banglore   \n",
       "2           Jet Airways      2019-05-21     Delhi      Cochin   \n",
       "3     Multiple carriers      2019-05-21     Delhi      Cochin   \n",
       "4              Air Asia      2019-06-24  Banglore       Delhi   \n",
       "...                 ...             ...       ...         ...   \n",
       "2666          Air India      2019-06-06   Kolkata    Banglore   \n",
       "2667             IndiGo      2019-03-27   Kolkata    Banglore   \n",
       "2668        Jet Airways      2019-06-03     Delhi      Cochin   \n",
       "2669          Air India      2019-06-03     Delhi      Cochin   \n",
       "2670  Multiple carriers      2019-06-15     Delhi      Cochin   \n",
       "\n",
       "                Route Dep_Time Arrival_Time Duration Total_Stops  \\\n",
       "0     DEL → BOM → COK    17:30        04:25    10:55      1 stop   \n",
       "1     CCU → MAA → BLR    06:20        10:20       4h      1 stop   \n",
       "2     DEL → BOM → COK    19:15        19:00    23:45      1 stop   \n",
       "3     DEL → BOM → COK    08:00        21:00      13h      1 stop   \n",
       "4           BLR → DEL    23:55        02:45     2:50    non-stop   \n",
       "...               ...      ...          ...      ...         ...   \n",
       "2666  CCU → DEL → BLR    20:30        20:25    23:55      1 stop   \n",
       "2667        CCU → BLR    14:20        16:55     2:35    non-stop   \n",
       "2668  DEL → BOM → COK    21:50        04:25     6:35      1 stop   \n",
       "2669  DEL → BOM → COK    04:00        19:15    15:15      1 stop   \n",
       "2670  DEL → BOM → COK    04:55        19:15    14:20      1 stop   \n",
       "\n",
       "                  Additional_Info  DayOfJourney  MonthOfJourney Arr_Hr  \\\n",
       "0                         No info             6               6     04   \n",
       "1                         No info             5              12     10   \n",
       "2     In-flight meal not included            21               5     19   \n",
       "3                         No info            21               5     21   \n",
       "4                         No info            24               6     02   \n",
       "...                           ...           ...             ...    ...   \n",
       "2666                      No info             6               6     20   \n",
       "2667                      No info            27               3     16   \n",
       "2668                      No info             3               6     04   \n",
       "2669                      No info             3               6     19   \n",
       "2670                      No info            15               6     19   \n",
       "\n",
       "     Arr_Min Dep_Hr Dep_Min Duration_Hr Duration_Min     Price  \n",
       "0         25     17      30          10           55  10398.50  \n",
       "1         20     06      20          4h          NaN   4226.00  \n",
       "2         00     19      15          23           45  10262.00  \n",
       "3         00     08      00         13h          NaN  10189.90  \n",
       "4         45     23      55           2           50   3967.90  \n",
       "...      ...    ...     ...         ...          ...       ...  \n",
       "2666      25     20      30          23           55  10203.00  \n",
       "2667      55     14      20           2           35   4946.15  \n",
       "2668      25     21      50           6           35  13336.45  \n",
       "2669      15     04      00          15           15  14250.20  \n",
       "2670      15     04      55          14           20   6103.00  \n",
       "\n",
       "[2671 rows x 19 columns]"
      ]
     },
     "execution_count": 1326,
     "metadata": {},
     "output_type": "execute_result"
    }
   ],
   "source": [
    "model_testDF = pd.concat([testWithoutPrice,df_Submission], axis=1, join='inner')\n",
    "model_testDF"
   ]
  },
  {
   "cell_type": "markdown",
   "id": "377ae236",
   "metadata": {},
   "source": [
    "We have successfully predicted the price of flight which is shown above"
   ]
  }
 ],
 "metadata": {
  "kernelspec": {
   "display_name": "Python 3",
   "language": "python",
   "name": "python3"
  },
  "language_info": {
   "codemirror_mode": {
    "name": "ipython",
    "version": 3
   },
   "file_extension": ".py",
   "mimetype": "text/x-python",
   "name": "python",
   "nbconvert_exporter": "python",
   "pygments_lexer": "ipython3",
   "version": "3.8.8"
  }
 },
 "nbformat": 4,
 "nbformat_minor": 5
}
