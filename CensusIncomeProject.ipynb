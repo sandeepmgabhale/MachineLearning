{
 "cells": [
  {
   "cell_type": "markdown",
   "id": "1168831d",
   "metadata": {},
   "source": [
    "# Census Income Project\n",
    "\n",
    "<strong>Problem Statement:</strong>\n",
    "\n",
    "\n",
    "This data was extracted from the 1994 Census bureau database by Ronny Kohavi and Barry Becker (Data Mining and Visualization, Silicon Graphics). A set of reasonably clean records was extracted using the following conditions: ((AAGE>16) && (AGI>100) && (AFNLWGT>1) && (HRSWK>0)). The prediction task is to determine whether a person makes over $50K a year.\n",
    "\n",
    "# Description of fnlwgt (final weight)\n",
    "\n",
    "The weights on the Current Population Survey (CPS) files are controlled to independent estimates of the civilian non-institutional population of the US. These are prepared monthly for us by Population Division here at the Census Bureau. We use 3 sets of controls. These are:\n",
    "\n",
    "A single cell estimate of the population 16+ for each state.\n",
    "\n",
    "Controls for Hispanic Origin by age and sex.\n",
    "\n",
    "Controls by Race, age and sex.\n",
    "\n",
    "We use all three sets of controls in our weighting program and \"rake\" through them 6 times so that by the end we come back to all the controls we used. The term estimate refers to population totals derived from CPS by creating \"weighted tallies\" of any specified socio-economic characteristics of the population. People with similar demographic characteristics should have similar weights. There is one important caveat to remember about this statement. That is that since the CPS sample is actually a collection of 51 state samples, each with its own probability of selection, the statement only applies within state."
   ]
  },
  {
   "cell_type": "code",
   "execution_count": 1,
   "id": "b347d5ca",
   "metadata": {},
   "outputs": [],
   "source": [
    "import pandas as pd\n",
    "import numpy as np\n",
    "import re\n",
    "import matplotlib.pyplot as plt\n",
    "import seaborn as sns\n",
    "import sklearn\n",
    "from sklearn.linear_model import LogisticRegression\n",
    "from sklearn.metrics import mean_squared_error\n",
    "from sklearn.model_selection import train_test_split\n",
    "from sklearn.naive_bayes import GaussianNB\n",
    "from sklearn.svm import SVC\n",
    "from sklearn.tree import DecisionTreeClassifier\n",
    "from sklearn.neighbors import KNeighborsClassifier\n",
    "from sklearn.model_selection import cross_val_score\n",
    "from sklearn.metrics import accuracy_score,confusion_matrix,classification_report\n",
    "import warnings\n",
    "warnings.filterwarnings('ignore')"
   ]
  },
  {
   "cell_type": "code",
   "execution_count": 2,
   "id": "b6fc0a59",
   "metadata": {},
   "outputs": [
    {
     "data": {
      "text/html": [
       "<div>\n",
       "<style scoped>\n",
       "    .dataframe tbody tr th:only-of-type {\n",
       "        vertical-align: middle;\n",
       "    }\n",
       "\n",
       "    .dataframe tbody tr th {\n",
       "        vertical-align: top;\n",
       "    }\n",
       "\n",
       "    .dataframe thead th {\n",
       "        text-align: right;\n",
       "    }\n",
       "</style>\n",
       "<table border=\"1\" class=\"dataframe\">\n",
       "  <thead>\n",
       "    <tr style=\"text-align: right;\">\n",
       "      <th></th>\n",
       "      <th>Age</th>\n",
       "      <th>Workclass</th>\n",
       "      <th>Fnlwgt</th>\n",
       "      <th>Education</th>\n",
       "      <th>Education_num</th>\n",
       "      <th>Marital_status</th>\n",
       "      <th>Occupation</th>\n",
       "      <th>Relationship</th>\n",
       "      <th>Race</th>\n",
       "      <th>Sex</th>\n",
       "      <th>Capital_gain</th>\n",
       "      <th>Capital_loss</th>\n",
       "      <th>Hours_per_week</th>\n",
       "      <th>Native_country</th>\n",
       "      <th>Income</th>\n",
       "    </tr>\n",
       "  </thead>\n",
       "  <tbody>\n",
       "    <tr>\n",
       "      <th>0</th>\n",
       "      <td>50</td>\n",
       "      <td>Self-emp-not-inc</td>\n",
       "      <td>83311</td>\n",
       "      <td>Bachelors</td>\n",
       "      <td>13</td>\n",
       "      <td>Married-civ-spouse</td>\n",
       "      <td>Exec-managerial</td>\n",
       "      <td>Husband</td>\n",
       "      <td>White</td>\n",
       "      <td>Male</td>\n",
       "      <td>0</td>\n",
       "      <td>0</td>\n",
       "      <td>13</td>\n",
       "      <td>United-States</td>\n",
       "      <td>&lt;=50K</td>\n",
       "    </tr>\n",
       "    <tr>\n",
       "      <th>1</th>\n",
       "      <td>38</td>\n",
       "      <td>Private</td>\n",
       "      <td>215646</td>\n",
       "      <td>HS-grad</td>\n",
       "      <td>9</td>\n",
       "      <td>Divorced</td>\n",
       "      <td>Handlers-cleaners</td>\n",
       "      <td>Not-in-family</td>\n",
       "      <td>White</td>\n",
       "      <td>Male</td>\n",
       "      <td>0</td>\n",
       "      <td>0</td>\n",
       "      <td>40</td>\n",
       "      <td>United-States</td>\n",
       "      <td>&lt;=50K</td>\n",
       "    </tr>\n",
       "    <tr>\n",
       "      <th>2</th>\n",
       "      <td>53</td>\n",
       "      <td>Private</td>\n",
       "      <td>234721</td>\n",
       "      <td>11th</td>\n",
       "      <td>7</td>\n",
       "      <td>Married-civ-spouse</td>\n",
       "      <td>Handlers-cleaners</td>\n",
       "      <td>Husband</td>\n",
       "      <td>Black</td>\n",
       "      <td>Male</td>\n",
       "      <td>0</td>\n",
       "      <td>0</td>\n",
       "      <td>40</td>\n",
       "      <td>United-States</td>\n",
       "      <td>&lt;=50K</td>\n",
       "    </tr>\n",
       "    <tr>\n",
       "      <th>3</th>\n",
       "      <td>28</td>\n",
       "      <td>Private</td>\n",
       "      <td>338409</td>\n",
       "      <td>Bachelors</td>\n",
       "      <td>13</td>\n",
       "      <td>Married-civ-spouse</td>\n",
       "      <td>Prof-specialty</td>\n",
       "      <td>Wife</td>\n",
       "      <td>Black</td>\n",
       "      <td>Female</td>\n",
       "      <td>0</td>\n",
       "      <td>0</td>\n",
       "      <td>40</td>\n",
       "      <td>Cuba</td>\n",
       "      <td>&lt;=50K</td>\n",
       "    </tr>\n",
       "    <tr>\n",
       "      <th>4</th>\n",
       "      <td>37</td>\n",
       "      <td>Private</td>\n",
       "      <td>284582</td>\n",
       "      <td>Masters</td>\n",
       "      <td>14</td>\n",
       "      <td>Married-civ-spouse</td>\n",
       "      <td>Exec-managerial</td>\n",
       "      <td>Wife</td>\n",
       "      <td>White</td>\n",
       "      <td>Female</td>\n",
       "      <td>0</td>\n",
       "      <td>0</td>\n",
       "      <td>40</td>\n",
       "      <td>United-States</td>\n",
       "      <td>&lt;=50K</td>\n",
       "    </tr>\n",
       "  </tbody>\n",
       "</table>\n",
       "</div>"
      ],
      "text/plain": [
       "   Age          Workclass  Fnlwgt   Education  Education_num  \\\n",
       "0   50   Self-emp-not-inc   83311   Bachelors             13   \n",
       "1   38            Private  215646     HS-grad              9   \n",
       "2   53            Private  234721        11th              7   \n",
       "3   28            Private  338409   Bachelors             13   \n",
       "4   37            Private  284582     Masters             14   \n",
       "\n",
       "        Marital_status          Occupation    Relationship    Race      Sex  \\\n",
       "0   Married-civ-spouse     Exec-managerial         Husband   White     Male   \n",
       "1             Divorced   Handlers-cleaners   Not-in-family   White     Male   \n",
       "2   Married-civ-spouse   Handlers-cleaners         Husband   Black     Male   \n",
       "3   Married-civ-spouse      Prof-specialty            Wife   Black   Female   \n",
       "4   Married-civ-spouse     Exec-managerial            Wife   White   Female   \n",
       "\n",
       "   Capital_gain  Capital_loss  Hours_per_week  Native_country  Income  \n",
       "0             0             0              13   United-States   <=50K  \n",
       "1             0             0              40   United-States   <=50K  \n",
       "2             0             0              40   United-States   <=50K  \n",
       "3             0             0              40            Cuba   <=50K  \n",
       "4             0             0              40   United-States   <=50K  "
      ]
     },
     "execution_count": 2,
     "metadata": {},
     "output_type": "execute_result"
    }
   ],
   "source": [
    "df=pd.read_csv(r'https://raw.githubusercontent.com/dsrscientist/dataset1/master/census_income.csv')\n",
    "df.head()"
   ]
  },
  {
   "cell_type": "code",
   "execution_count": 3,
   "id": "b51812d2",
   "metadata": {},
   "outputs": [
    {
     "data": {
      "text/plain": [
       "(32560, 15)"
      ]
     },
     "execution_count": 3,
     "metadata": {},
     "output_type": "execute_result"
    }
   ],
   "source": [
    "df.shape"
   ]
  },
  {
   "cell_type": "code",
   "execution_count": 4,
   "id": "7ba001ad",
   "metadata": {},
   "outputs": [
    {
     "name": "stdout",
     "output_type": "stream",
     "text": [
      "<class 'pandas.core.frame.DataFrame'>\n",
      "RangeIndex: 32560 entries, 0 to 32559\n",
      "Data columns (total 15 columns):\n",
      " #   Column          Non-Null Count  Dtype \n",
      "---  ------          --------------  ----- \n",
      " 0   Age             32560 non-null  int64 \n",
      " 1   Workclass       32560 non-null  object\n",
      " 2   Fnlwgt          32560 non-null  int64 \n",
      " 3   Education       32560 non-null  object\n",
      " 4   Education_num   32560 non-null  int64 \n",
      " 5   Marital_status  32560 non-null  object\n",
      " 6   Occupation      32560 non-null  object\n",
      " 7   Relationship    32560 non-null  object\n",
      " 8   Race            32560 non-null  object\n",
      " 9   Sex             32560 non-null  object\n",
      " 10  Capital_gain    32560 non-null  int64 \n",
      " 11  Capital_loss    32560 non-null  int64 \n",
      " 12  Hours_per_week  32560 non-null  int64 \n",
      " 13  Native_country  32560 non-null  object\n",
      " 14  Income          32560 non-null  object\n",
      "dtypes: int64(6), object(9)\n",
      "memory usage: 3.7+ MB\n"
     ]
    }
   ],
   "source": [
    "df.info()"
   ]
  },
  {
   "cell_type": "code",
   "execution_count": 5,
   "id": "570bf3be",
   "metadata": {},
   "outputs": [
    {
     "data": {
      "text/plain": [
       "Age               0\n",
       "Workclass         0\n",
       "Fnlwgt            0\n",
       "Education         0\n",
       "Education_num     0\n",
       "Marital_status    0\n",
       "Occupation        0\n",
       "Relationship      0\n",
       "Race              0\n",
       "Sex               0\n",
       "Capital_gain      0\n",
       "Capital_loss      0\n",
       "Hours_per_week    0\n",
       "Native_country    0\n",
       "Income            0\n",
       "dtype: int64"
      ]
     },
     "execution_count": 5,
     "metadata": {},
     "output_type": "execute_result"
    }
   ],
   "source": [
    "df.isnull().sum()"
   ]
  },
  {
   "cell_type": "code",
   "execution_count": 7,
   "id": "35a63853",
   "metadata": {},
   "outputs": [
    {
     "data": {
      "text/plain": [
       "['Workclass',\n",
       " 'Education',\n",
       " 'Marital_status',\n",
       " 'Occupation',\n",
       " 'Relationship',\n",
       " 'Race',\n",
       " 'Sex',\n",
       " 'Native_country',\n",
       " 'Income']"
      ]
     },
     "execution_count": 7,
     "metadata": {},
     "output_type": "execute_result"
    }
   ],
   "source": [
    "categorical_columns=[x for x in df.dtypes.index if df.dtypes[x]=='object']\n",
    "categorical_columns"
   ]
  },
  {
   "cell_type": "code",
   "execution_count": 8,
   "id": "2496ffd4",
   "metadata": {},
   "outputs": [
    {
     "data": {
      "text/html": [
       "<div>\n",
       "<style scoped>\n",
       "    .dataframe tbody tr th:only-of-type {\n",
       "        vertical-align: middle;\n",
       "    }\n",
       "\n",
       "    .dataframe tbody tr th {\n",
       "        vertical-align: top;\n",
       "    }\n",
       "\n",
       "    .dataframe thead th {\n",
       "        text-align: right;\n",
       "    }\n",
       "</style>\n",
       "<table border=\"1\" class=\"dataframe\">\n",
       "  <thead>\n",
       "    <tr style=\"text-align: right;\">\n",
       "      <th></th>\n",
       "      <th>Age</th>\n",
       "      <th>Fnlwgt</th>\n",
       "      <th>Education_num</th>\n",
       "      <th>Capital_gain</th>\n",
       "      <th>Capital_loss</th>\n",
       "      <th>Hours_per_week</th>\n",
       "    </tr>\n",
       "  </thead>\n",
       "  <tbody>\n",
       "    <tr>\n",
       "      <th>count</th>\n",
       "      <td>32560.000000</td>\n",
       "      <td>3.256000e+04</td>\n",
       "      <td>32560.000000</td>\n",
       "      <td>32560.000000</td>\n",
       "      <td>32560.000000</td>\n",
       "      <td>32560.000000</td>\n",
       "    </tr>\n",
       "    <tr>\n",
       "      <th>mean</th>\n",
       "      <td>38.581634</td>\n",
       "      <td>1.897818e+05</td>\n",
       "      <td>10.080590</td>\n",
       "      <td>1077.615172</td>\n",
       "      <td>87.306511</td>\n",
       "      <td>40.437469</td>\n",
       "    </tr>\n",
       "    <tr>\n",
       "      <th>std</th>\n",
       "      <td>13.640642</td>\n",
       "      <td>1.055498e+05</td>\n",
       "      <td>2.572709</td>\n",
       "      <td>7385.402999</td>\n",
       "      <td>402.966116</td>\n",
       "      <td>12.347618</td>\n",
       "    </tr>\n",
       "    <tr>\n",
       "      <th>min</th>\n",
       "      <td>17.000000</td>\n",
       "      <td>1.228500e+04</td>\n",
       "      <td>1.000000</td>\n",
       "      <td>0.000000</td>\n",
       "      <td>0.000000</td>\n",
       "      <td>1.000000</td>\n",
       "    </tr>\n",
       "    <tr>\n",
       "      <th>25%</th>\n",
       "      <td>28.000000</td>\n",
       "      <td>1.178315e+05</td>\n",
       "      <td>9.000000</td>\n",
       "      <td>0.000000</td>\n",
       "      <td>0.000000</td>\n",
       "      <td>40.000000</td>\n",
       "    </tr>\n",
       "    <tr>\n",
       "      <th>50%</th>\n",
       "      <td>37.000000</td>\n",
       "      <td>1.783630e+05</td>\n",
       "      <td>10.000000</td>\n",
       "      <td>0.000000</td>\n",
       "      <td>0.000000</td>\n",
       "      <td>40.000000</td>\n",
       "    </tr>\n",
       "    <tr>\n",
       "      <th>75%</th>\n",
       "      <td>48.000000</td>\n",
       "      <td>2.370545e+05</td>\n",
       "      <td>12.000000</td>\n",
       "      <td>0.000000</td>\n",
       "      <td>0.000000</td>\n",
       "      <td>45.000000</td>\n",
       "    </tr>\n",
       "    <tr>\n",
       "      <th>max</th>\n",
       "      <td>90.000000</td>\n",
       "      <td>1.484705e+06</td>\n",
       "      <td>16.000000</td>\n",
       "      <td>99999.000000</td>\n",
       "      <td>4356.000000</td>\n",
       "      <td>99.000000</td>\n",
       "    </tr>\n",
       "  </tbody>\n",
       "</table>\n",
       "</div>"
      ],
      "text/plain": [
       "                Age        Fnlwgt  Education_num  Capital_gain  Capital_loss  \\\n",
       "count  32560.000000  3.256000e+04   32560.000000  32560.000000  32560.000000   \n",
       "mean      38.581634  1.897818e+05      10.080590   1077.615172     87.306511   \n",
       "std       13.640642  1.055498e+05       2.572709   7385.402999    402.966116   \n",
       "min       17.000000  1.228500e+04       1.000000      0.000000      0.000000   \n",
       "25%       28.000000  1.178315e+05       9.000000      0.000000      0.000000   \n",
       "50%       37.000000  1.783630e+05      10.000000      0.000000      0.000000   \n",
       "75%       48.000000  2.370545e+05      12.000000      0.000000      0.000000   \n",
       "max       90.000000  1.484705e+06      16.000000  99999.000000   4356.000000   \n",
       "\n",
       "       Hours_per_week  \n",
       "count    32560.000000  \n",
       "mean        40.437469  \n",
       "std         12.347618  \n",
       "min          1.000000  \n",
       "25%         40.000000  \n",
       "50%         40.000000  \n",
       "75%         45.000000  \n",
       "max         99.000000  "
      ]
     },
     "execution_count": 8,
     "metadata": {},
     "output_type": "execute_result"
    }
   ],
   "source": [
    "df.describe()"
   ]
  },
  {
   "cell_type": "code",
   "execution_count": 203,
   "id": "3ce72f76",
   "metadata": {},
   "outputs": [
    {
     "data": {
      "text/plain": [
       "Index(['Age', 'Workclass', 'Fnlwgt', 'Education_num', 'Marital_status',\n",
       "       'Occupation', 'Relationship', 'Race', 'Sex', 'Capital_gain',\n",
       "       'Capital_loss', 'Hours_per_week', 'Native_country', 'Income'],\n",
       "      dtype='object')"
      ]
     },
     "execution_count": 203,
     "metadata": {},
     "output_type": "execute_result"
    }
   ],
   "source": [
    "df.columns"
   ]
  },
  {
   "cell_type": "markdown",
   "id": "ee048a61",
   "metadata": {},
   "source": [
    "# Data Description\n",
    "- Age : Its the age of the person\n",
    "- Workclass : It decribes if the person is working in Private organisation,Public sector or self employed.\n",
    "- Fnlwgt : This is final weight which is the number of people the census believes.\n",
    "- Education : It describes how much educated the person is.\n",
    "- Education : It is same as Education and describes how educated the person is.\n",
    "- Marital Status : It describes the marital status of the person.\n",
    "- Occupation : It is the role which the employee is performing in the organisation.\n",
    "- Relationship : In laymen ter, Relationship is nothing but how a person is related to another person.\n",
    "- Race : It is nothing but the origin of the person.\n",
    "- Sex : It is the gender of the person\n",
    "- Captial_gain :Capital gain is the profit one earns on the sale of an asset like stocks, bonds or real estate\n",
    "- Captial_loss :Capital loss is the loss one earns on the sale of an asset like stocks, bonds or real estate\n",
    "- Hours_per_week : It describes how many hours a person works in a week.\n",
    "- Native_country : It is the origin of the person, In laymen term, the country the person belongs to\n",
    "- Income : It describes how much a person earns and it is the label category of our problem"
   ]
  },
  {
   "cell_type": "code",
   "execution_count": 10,
   "id": "e3f619bd",
   "metadata": {},
   "outputs": [
    {
     "data": {
      "text/plain": [
       " Private             22696\n",
       " Self-emp-not-inc     2541\n",
       " Local-gov            2093\n",
       " ?                    1836\n",
       " State-gov            1297\n",
       " Self-emp-inc         1116\n",
       " Federal-gov           960\n",
       " Without-pay            14\n",
       " Never-worked            7\n",
       "Name: Workclass, dtype: int64"
      ]
     },
     "execution_count": 10,
     "metadata": {},
     "output_type": "execute_result"
    }
   ],
   "source": [
    "#set(df['Workclass'])\n",
    "df['Workclass'].value_counts()"
   ]
  },
  {
   "cell_type": "markdown",
   "id": "44270f5b",
   "metadata": {},
   "source": [
    "Without pay and Never worked can be combined into one unique values as they resemble same thing. Also,We see Workclass <strong>?</strong>, its nothing but Nan value, we need to deal with this too and find out which other columns have such values, so let's find that first"
   ]
  },
  {
   "cell_type": "code",
   "execution_count": 11,
   "id": "816498c6",
   "metadata": {},
   "outputs": [
    {
     "data": {
      "text/plain": [
       "Age                0.0%\n",
       "Workclass         5.64%\n",
       "Fnlwgt             0.0%\n",
       "Education          0.0%\n",
       "Education_num      0.0%\n",
       "Marital_status     0.0%\n",
       "Occupation        5.66%\n",
       "Relationship       0.0%\n",
       "Race               0.0%\n",
       "Sex                0.0%\n",
       "Capital_gain       0.0%\n",
       "Capital_loss       0.0%\n",
       "Hours_per_week     0.0%\n",
       "Native_country    1.79%\n",
       "Income             0.0%\n",
       "dtype: object"
      ]
     },
     "execution_count": 11,
     "metadata": {},
     "output_type": "execute_result"
    }
   ],
   "source": [
    "# Find for '?' in DataFrame\n",
    "round((df.isin([' ?']).sum()/df.shape[0])*100, 2).astype(str)+'%'"
   ]
  },
  {
   "cell_type": "markdown",
   "id": "468b6dec",
   "metadata": {},
   "source": [
    "So, there are three columns which has <strong>?</strong> values. lets replace them with NaN"
   ]
  },
  {
   "cell_type": "code",
   "execution_count": 12,
   "id": "cb461941",
   "metadata": {},
   "outputs": [],
   "source": [
    "df = df.replace(' ?', np.nan)"
   ]
  },
  {
   "cell_type": "code",
   "execution_count": 13,
   "id": "f7307fee",
   "metadata": {},
   "outputs": [
    {
     "data": {
      "text/plain": [
       "Age                  0\n",
       "Workclass         1836\n",
       "Fnlwgt               0\n",
       "Education            0\n",
       "Education_num        0\n",
       "Marital_status       0\n",
       "Occupation        1843\n",
       "Relationship         0\n",
       "Race                 0\n",
       "Sex                  0\n",
       "Capital_gain         0\n",
       "Capital_loss         0\n",
       "Hours_per_week       0\n",
       "Native_country     583\n",
       "Income               0\n",
       "dtype: int64"
      ]
     },
     "execution_count": 13,
     "metadata": {},
     "output_type": "execute_result"
    }
   ],
   "source": [
    "df.isnull().sum()"
   ]
  },
  {
   "cell_type": "markdown",
   "id": "af48e7fc",
   "metadata": {},
   "source": [
    "We have three columns where we have Nan values."
   ]
  },
  {
   "cell_type": "code",
   "execution_count": 14,
   "id": "a04ebc00",
   "metadata": {},
   "outputs": [],
   "source": [
    "naN_columns=['Workclass','Occupation','Native_country']"
   ]
  },
  {
   "cell_type": "code",
   "execution_count": 15,
   "id": "d11111bd",
   "metadata": {},
   "outputs": [],
   "source": [
    "for i in naN_columns:\n",
    "    df[i].fillna(df[i].mode()[0], inplace=True)"
   ]
  },
  {
   "cell_type": "code",
   "execution_count": 16,
   "id": "f0d6cf4a",
   "metadata": {},
   "outputs": [
    {
     "data": {
      "text/plain": [
       "Age               0.0%\n",
       "Workclass         0.0%\n",
       "Fnlwgt            0.0%\n",
       "Education         0.0%\n",
       "Education_num     0.0%\n",
       "Marital_status    0.0%\n",
       "Occupation        0.0%\n",
       "Relationship      0.0%\n",
       "Race              0.0%\n",
       "Sex               0.0%\n",
       "Capital_gain      0.0%\n",
       "Capital_loss      0.0%\n",
       "Hours_per_week    0.0%\n",
       "Native_country    0.0%\n",
       "Income            0.0%\n",
       "dtype: object"
      ]
     },
     "execution_count": 16,
     "metadata": {},
     "output_type": "execute_result"
    }
   ],
   "source": [
    "round((df.isnull().sum()/df.shape[0])*100, 2).astype(str)+'%'"
   ]
  },
  {
   "cell_type": "markdown",
   "id": "cc9b9edb",
   "metadata": {},
   "source": [
    "So we have successfully dealt with all NaN values, now lets proceed further with analysis of each columns"
   ]
  },
  {
   "cell_type": "markdown",
   "id": "28397ca6",
   "metadata": {},
   "source": [
    "# Check Duplicates"
   ]
  },
  {
   "cell_type": "code",
   "execution_count": 17,
   "id": "a679c277",
   "metadata": {
    "scrolled": true
   },
   "outputs": [
    {
     "name": "stdout",
     "output_type": "stream",
     "text": [
      "Duplicate Rows :\n"
     ]
    },
    {
     "data": {
      "text/html": [
       "<div>\n",
       "<style scoped>\n",
       "    .dataframe tbody tr th:only-of-type {\n",
       "        vertical-align: middle;\n",
       "    }\n",
       "\n",
       "    .dataframe tbody tr th {\n",
       "        vertical-align: top;\n",
       "    }\n",
       "\n",
       "    .dataframe thead th {\n",
       "        text-align: right;\n",
       "    }\n",
       "</style>\n",
       "<table border=\"1\" class=\"dataframe\">\n",
       "  <thead>\n",
       "    <tr style=\"text-align: right;\">\n",
       "      <th></th>\n",
       "      <th>Age</th>\n",
       "      <th>Workclass</th>\n",
       "      <th>Fnlwgt</th>\n",
       "      <th>Education</th>\n",
       "      <th>Education_num</th>\n",
       "      <th>Marital_status</th>\n",
       "      <th>Occupation</th>\n",
       "      <th>Relationship</th>\n",
       "      <th>Race</th>\n",
       "      <th>Sex</th>\n",
       "      <th>Capital_gain</th>\n",
       "      <th>Capital_loss</th>\n",
       "      <th>Hours_per_week</th>\n",
       "      <th>Native_country</th>\n",
       "      <th>Income</th>\n",
       "    </tr>\n",
       "  </thead>\n",
       "  <tbody>\n",
       "    <tr>\n",
       "      <th>2302</th>\n",
       "      <td>90</td>\n",
       "      <td>Private</td>\n",
       "      <td>52386</td>\n",
       "      <td>Some-college</td>\n",
       "      <td>10</td>\n",
       "      <td>Never-married</td>\n",
       "      <td>Other-service</td>\n",
       "      <td>Not-in-family</td>\n",
       "      <td>Asian-Pac-Islander</td>\n",
       "      <td>Male</td>\n",
       "      <td>0</td>\n",
       "      <td>0</td>\n",
       "      <td>35</td>\n",
       "      <td>United-States</td>\n",
       "      <td>&lt;=50K</td>\n",
       "    </tr>\n",
       "    <tr>\n",
       "      <th>3916</th>\n",
       "      <td>19</td>\n",
       "      <td>Private</td>\n",
       "      <td>251579</td>\n",
       "      <td>Some-college</td>\n",
       "      <td>10</td>\n",
       "      <td>Never-married</td>\n",
       "      <td>Other-service</td>\n",
       "      <td>Own-child</td>\n",
       "      <td>White</td>\n",
       "      <td>Male</td>\n",
       "      <td>0</td>\n",
       "      <td>0</td>\n",
       "      <td>14</td>\n",
       "      <td>United-States</td>\n",
       "      <td>&lt;=50K</td>\n",
       "    </tr>\n",
       "    <tr>\n",
       "      <th>4324</th>\n",
       "      <td>25</td>\n",
       "      <td>Private</td>\n",
       "      <td>308144</td>\n",
       "      <td>Bachelors</td>\n",
       "      <td>13</td>\n",
       "      <td>Never-married</td>\n",
       "      <td>Craft-repair</td>\n",
       "      <td>Not-in-family</td>\n",
       "      <td>White</td>\n",
       "      <td>Male</td>\n",
       "      <td>0</td>\n",
       "      <td>0</td>\n",
       "      <td>40</td>\n",
       "      <td>Mexico</td>\n",
       "      <td>&lt;=50K</td>\n",
       "    </tr>\n",
       "    <tr>\n",
       "      <th>4766</th>\n",
       "      <td>21</td>\n",
       "      <td>Private</td>\n",
       "      <td>250051</td>\n",
       "      <td>Some-college</td>\n",
       "      <td>10</td>\n",
       "      <td>Never-married</td>\n",
       "      <td>Prof-specialty</td>\n",
       "      <td>Own-child</td>\n",
       "      <td>White</td>\n",
       "      <td>Female</td>\n",
       "      <td>0</td>\n",
       "      <td>0</td>\n",
       "      <td>10</td>\n",
       "      <td>United-States</td>\n",
       "      <td>&lt;=50K</td>\n",
       "    </tr>\n",
       "    <tr>\n",
       "      <th>4939</th>\n",
       "      <td>38</td>\n",
       "      <td>Private</td>\n",
       "      <td>207202</td>\n",
       "      <td>HS-grad</td>\n",
       "      <td>9</td>\n",
       "      <td>Married-civ-spouse</td>\n",
       "      <td>Machine-op-inspct</td>\n",
       "      <td>Husband</td>\n",
       "      <td>White</td>\n",
       "      <td>Male</td>\n",
       "      <td>0</td>\n",
       "      <td>0</td>\n",
       "      <td>48</td>\n",
       "      <td>United-States</td>\n",
       "      <td>&gt;50K</td>\n",
       "    </tr>\n",
       "    <tr>\n",
       "      <th>5578</th>\n",
       "      <td>27</td>\n",
       "      <td>Private</td>\n",
       "      <td>255582</td>\n",
       "      <td>HS-grad</td>\n",
       "      <td>9</td>\n",
       "      <td>Never-married</td>\n",
       "      <td>Machine-op-inspct</td>\n",
       "      <td>Not-in-family</td>\n",
       "      <td>White</td>\n",
       "      <td>Female</td>\n",
       "      <td>0</td>\n",
       "      <td>0</td>\n",
       "      <td>40</td>\n",
       "      <td>United-States</td>\n",
       "      <td>&lt;=50K</td>\n",
       "    </tr>\n",
       "    <tr>\n",
       "      <th>5804</th>\n",
       "      <td>20</td>\n",
       "      <td>Private</td>\n",
       "      <td>107658</td>\n",
       "      <td>Some-college</td>\n",
       "      <td>10</td>\n",
       "      <td>Never-married</td>\n",
       "      <td>Tech-support</td>\n",
       "      <td>Not-in-family</td>\n",
       "      <td>White</td>\n",
       "      <td>Female</td>\n",
       "      <td>0</td>\n",
       "      <td>0</td>\n",
       "      <td>10</td>\n",
       "      <td>United-States</td>\n",
       "      <td>&lt;=50K</td>\n",
       "    </tr>\n",
       "    <tr>\n",
       "      <th>5841</th>\n",
       "      <td>25</td>\n",
       "      <td>Private</td>\n",
       "      <td>195994</td>\n",
       "      <td>1st-4th</td>\n",
       "      <td>2</td>\n",
       "      <td>Never-married</td>\n",
       "      <td>Priv-house-serv</td>\n",
       "      <td>Not-in-family</td>\n",
       "      <td>White</td>\n",
       "      <td>Female</td>\n",
       "      <td>0</td>\n",
       "      <td>0</td>\n",
       "      <td>40</td>\n",
       "      <td>Guatemala</td>\n",
       "      <td>&lt;=50K</td>\n",
       "    </tr>\n",
       "    <tr>\n",
       "      <th>6989</th>\n",
       "      <td>19</td>\n",
       "      <td>Private</td>\n",
       "      <td>138153</td>\n",
       "      <td>Some-college</td>\n",
       "      <td>10</td>\n",
       "      <td>Never-married</td>\n",
       "      <td>Adm-clerical</td>\n",
       "      <td>Own-child</td>\n",
       "      <td>White</td>\n",
       "      <td>Female</td>\n",
       "      <td>0</td>\n",
       "      <td>0</td>\n",
       "      <td>10</td>\n",
       "      <td>United-States</td>\n",
       "      <td>&lt;=50K</td>\n",
       "    </tr>\n",
       "    <tr>\n",
       "      <th>7052</th>\n",
       "      <td>49</td>\n",
       "      <td>Self-emp-not-inc</td>\n",
       "      <td>43479</td>\n",
       "      <td>Some-college</td>\n",
       "      <td>10</td>\n",
       "      <td>Married-civ-spouse</td>\n",
       "      <td>Craft-repair</td>\n",
       "      <td>Husband</td>\n",
       "      <td>White</td>\n",
       "      <td>Male</td>\n",
       "      <td>0</td>\n",
       "      <td>0</td>\n",
       "      <td>40</td>\n",
       "      <td>United-States</td>\n",
       "      <td>&lt;=50K</td>\n",
       "    </tr>\n",
       "    <tr>\n",
       "      <th>7919</th>\n",
       "      <td>49</td>\n",
       "      <td>Private</td>\n",
       "      <td>31267</td>\n",
       "      <td>7th-8th</td>\n",
       "      <td>4</td>\n",
       "      <td>Married-civ-spouse</td>\n",
       "      <td>Craft-repair</td>\n",
       "      <td>Husband</td>\n",
       "      <td>White</td>\n",
       "      <td>Male</td>\n",
       "      <td>0</td>\n",
       "      <td>0</td>\n",
       "      <td>40</td>\n",
       "      <td>United-States</td>\n",
       "      <td>&lt;=50K</td>\n",
       "    </tr>\n",
       "    <tr>\n",
       "      <th>8079</th>\n",
       "      <td>21</td>\n",
       "      <td>Private</td>\n",
       "      <td>243368</td>\n",
       "      <td>Preschool</td>\n",
       "      <td>1</td>\n",
       "      <td>Never-married</td>\n",
       "      <td>Farming-fishing</td>\n",
       "      <td>Not-in-family</td>\n",
       "      <td>White</td>\n",
       "      <td>Male</td>\n",
       "      <td>0</td>\n",
       "      <td>0</td>\n",
       "      <td>50</td>\n",
       "      <td>Mexico</td>\n",
       "      <td>&lt;=50K</td>\n",
       "    </tr>\n",
       "    <tr>\n",
       "      <th>8678</th>\n",
       "      <td>28</td>\n",
       "      <td>Private</td>\n",
       "      <td>274679</td>\n",
       "      <td>Masters</td>\n",
       "      <td>14</td>\n",
       "      <td>Never-married</td>\n",
       "      <td>Prof-specialty</td>\n",
       "      <td>Not-in-family</td>\n",
       "      <td>White</td>\n",
       "      <td>Male</td>\n",
       "      <td>0</td>\n",
       "      <td>0</td>\n",
       "      <td>50</td>\n",
       "      <td>United-States</td>\n",
       "      <td>&lt;=50K</td>\n",
       "    </tr>\n",
       "    <tr>\n",
       "      <th>10366</th>\n",
       "      <td>42</td>\n",
       "      <td>Private</td>\n",
       "      <td>204235</td>\n",
       "      <td>Some-college</td>\n",
       "      <td>10</td>\n",
       "      <td>Married-civ-spouse</td>\n",
       "      <td>Prof-specialty</td>\n",
       "      <td>Husband</td>\n",
       "      <td>White</td>\n",
       "      <td>Male</td>\n",
       "      <td>0</td>\n",
       "      <td>0</td>\n",
       "      <td>40</td>\n",
       "      <td>United-States</td>\n",
       "      <td>&gt;50K</td>\n",
       "    </tr>\n",
       "    <tr>\n",
       "      <th>11964</th>\n",
       "      <td>46</td>\n",
       "      <td>Private</td>\n",
       "      <td>133616</td>\n",
       "      <td>Some-college</td>\n",
       "      <td>10</td>\n",
       "      <td>Divorced</td>\n",
       "      <td>Adm-clerical</td>\n",
       "      <td>Unmarried</td>\n",
       "      <td>White</td>\n",
       "      <td>Female</td>\n",
       "      <td>0</td>\n",
       "      <td>0</td>\n",
       "      <td>40</td>\n",
       "      <td>United-States</td>\n",
       "      <td>&lt;=50K</td>\n",
       "    </tr>\n",
       "    <tr>\n",
       "      <th>13083</th>\n",
       "      <td>25</td>\n",
       "      <td>Private</td>\n",
       "      <td>195994</td>\n",
       "      <td>1st-4th</td>\n",
       "      <td>2</td>\n",
       "      <td>Never-married</td>\n",
       "      <td>Priv-house-serv</td>\n",
       "      <td>Not-in-family</td>\n",
       "      <td>White</td>\n",
       "      <td>Female</td>\n",
       "      <td>0</td>\n",
       "      <td>0</td>\n",
       "      <td>40</td>\n",
       "      <td>Guatemala</td>\n",
       "      <td>&lt;=50K</td>\n",
       "    </tr>\n",
       "    <tr>\n",
       "      <th>15188</th>\n",
       "      <td>19</td>\n",
       "      <td>Private</td>\n",
       "      <td>146679</td>\n",
       "      <td>Some-college</td>\n",
       "      <td>10</td>\n",
       "      <td>Never-married</td>\n",
       "      <td>Exec-managerial</td>\n",
       "      <td>Own-child</td>\n",
       "      <td>Black</td>\n",
       "      <td>Male</td>\n",
       "      <td>0</td>\n",
       "      <td>0</td>\n",
       "      <td>30</td>\n",
       "      <td>United-States</td>\n",
       "      <td>&lt;=50K</td>\n",
       "    </tr>\n",
       "    <tr>\n",
       "      <th>16296</th>\n",
       "      <td>46</td>\n",
       "      <td>Private</td>\n",
       "      <td>173243</td>\n",
       "      <td>HS-grad</td>\n",
       "      <td>9</td>\n",
       "      <td>Married-civ-spouse</td>\n",
       "      <td>Craft-repair</td>\n",
       "      <td>Husband</td>\n",
       "      <td>White</td>\n",
       "      <td>Male</td>\n",
       "      <td>0</td>\n",
       "      <td>0</td>\n",
       "      <td>40</td>\n",
       "      <td>United-States</td>\n",
       "      <td>&lt;=50K</td>\n",
       "    </tr>\n",
       "    <tr>\n",
       "      <th>16845</th>\n",
       "      <td>35</td>\n",
       "      <td>Private</td>\n",
       "      <td>379959</td>\n",
       "      <td>HS-grad</td>\n",
       "      <td>9</td>\n",
       "      <td>Divorced</td>\n",
       "      <td>Other-service</td>\n",
       "      <td>Not-in-family</td>\n",
       "      <td>White</td>\n",
       "      <td>Female</td>\n",
       "      <td>0</td>\n",
       "      <td>0</td>\n",
       "      <td>40</td>\n",
       "      <td>United-States</td>\n",
       "      <td>&lt;=50K</td>\n",
       "    </tr>\n",
       "    <tr>\n",
       "      <th>16974</th>\n",
       "      <td>30</td>\n",
       "      <td>Private</td>\n",
       "      <td>144593</td>\n",
       "      <td>HS-grad</td>\n",
       "      <td>9</td>\n",
       "      <td>Never-married</td>\n",
       "      <td>Other-service</td>\n",
       "      <td>Not-in-family</td>\n",
       "      <td>Black</td>\n",
       "      <td>Male</td>\n",
       "      <td>0</td>\n",
       "      <td>0</td>\n",
       "      <td>40</td>\n",
       "      <td>United-States</td>\n",
       "      <td>&lt;=50K</td>\n",
       "    </tr>\n",
       "    <tr>\n",
       "      <th>17672</th>\n",
       "      <td>19</td>\n",
       "      <td>Private</td>\n",
       "      <td>97261</td>\n",
       "      <td>HS-grad</td>\n",
       "      <td>9</td>\n",
       "      <td>Never-married</td>\n",
       "      <td>Farming-fishing</td>\n",
       "      <td>Not-in-family</td>\n",
       "      <td>White</td>\n",
       "      <td>Male</td>\n",
       "      <td>0</td>\n",
       "      <td>0</td>\n",
       "      <td>40</td>\n",
       "      <td>United-States</td>\n",
       "      <td>&lt;=50K</td>\n",
       "    </tr>\n",
       "    <tr>\n",
       "      <th>17915</th>\n",
       "      <td>44</td>\n",
       "      <td>Private</td>\n",
       "      <td>367749</td>\n",
       "      <td>Bachelors</td>\n",
       "      <td>13</td>\n",
       "      <td>Never-married</td>\n",
       "      <td>Prof-specialty</td>\n",
       "      <td>Not-in-family</td>\n",
       "      <td>White</td>\n",
       "      <td>Female</td>\n",
       "      <td>0</td>\n",
       "      <td>0</td>\n",
       "      <td>45</td>\n",
       "      <td>Mexico</td>\n",
       "      <td>&lt;=50K</td>\n",
       "    </tr>\n",
       "    <tr>\n",
       "      <th>21102</th>\n",
       "      <td>23</td>\n",
       "      <td>Private</td>\n",
       "      <td>240137</td>\n",
       "      <td>5th-6th</td>\n",
       "      <td>3</td>\n",
       "      <td>Never-married</td>\n",
       "      <td>Handlers-cleaners</td>\n",
       "      <td>Not-in-family</td>\n",
       "      <td>White</td>\n",
       "      <td>Male</td>\n",
       "      <td>0</td>\n",
       "      <td>0</td>\n",
       "      <td>55</td>\n",
       "      <td>Mexico</td>\n",
       "      <td>&lt;=50K</td>\n",
       "    </tr>\n",
       "    <tr>\n",
       "      <th>25623</th>\n",
       "      <td>39</td>\n",
       "      <td>Private</td>\n",
       "      <td>30916</td>\n",
       "      <td>HS-grad</td>\n",
       "      <td>9</td>\n",
       "      <td>Married-civ-spouse</td>\n",
       "      <td>Craft-repair</td>\n",
       "      <td>Husband</td>\n",
       "      <td>White</td>\n",
       "      <td>Male</td>\n",
       "      <td>0</td>\n",
       "      <td>0</td>\n",
       "      <td>40</td>\n",
       "      <td>United-States</td>\n",
       "      <td>&lt;=50K</td>\n",
       "    </tr>\n",
       "  </tbody>\n",
       "</table>\n",
       "</div>"
      ],
      "text/plain": [
       "       Age          Workclass  Fnlwgt      Education  Education_num  \\\n",
       "2302    90            Private   52386   Some-college             10   \n",
       "3916    19            Private  251579   Some-college             10   \n",
       "4324    25            Private  308144      Bachelors             13   \n",
       "4766    21            Private  250051   Some-college             10   \n",
       "4939    38            Private  207202        HS-grad              9   \n",
       "5578    27            Private  255582        HS-grad              9   \n",
       "5804    20            Private  107658   Some-college             10   \n",
       "5841    25            Private  195994        1st-4th              2   \n",
       "6989    19            Private  138153   Some-college             10   \n",
       "7052    49   Self-emp-not-inc   43479   Some-college             10   \n",
       "7919    49            Private   31267        7th-8th              4   \n",
       "8079    21            Private  243368      Preschool              1   \n",
       "8678    28            Private  274679        Masters             14   \n",
       "10366   42            Private  204235   Some-college             10   \n",
       "11964   46            Private  133616   Some-college             10   \n",
       "13083   25            Private  195994        1st-4th              2   \n",
       "15188   19            Private  146679   Some-college             10   \n",
       "16296   46            Private  173243        HS-grad              9   \n",
       "16845   35            Private  379959        HS-grad              9   \n",
       "16974   30            Private  144593        HS-grad              9   \n",
       "17672   19            Private   97261        HS-grad              9   \n",
       "17915   44            Private  367749      Bachelors             13   \n",
       "21102   23            Private  240137        5th-6th              3   \n",
       "25623   39            Private   30916        HS-grad              9   \n",
       "\n",
       "            Marital_status          Occupation    Relationship  \\\n",
       "2302         Never-married       Other-service   Not-in-family   \n",
       "3916         Never-married       Other-service       Own-child   \n",
       "4324         Never-married        Craft-repair   Not-in-family   \n",
       "4766         Never-married      Prof-specialty       Own-child   \n",
       "4939    Married-civ-spouse   Machine-op-inspct         Husband   \n",
       "5578         Never-married   Machine-op-inspct   Not-in-family   \n",
       "5804         Never-married        Tech-support   Not-in-family   \n",
       "5841         Never-married     Priv-house-serv   Not-in-family   \n",
       "6989         Never-married        Adm-clerical       Own-child   \n",
       "7052    Married-civ-spouse        Craft-repair         Husband   \n",
       "7919    Married-civ-spouse        Craft-repair         Husband   \n",
       "8079         Never-married     Farming-fishing   Not-in-family   \n",
       "8678         Never-married      Prof-specialty   Not-in-family   \n",
       "10366   Married-civ-spouse      Prof-specialty         Husband   \n",
       "11964             Divorced        Adm-clerical       Unmarried   \n",
       "13083        Never-married     Priv-house-serv   Not-in-family   \n",
       "15188        Never-married     Exec-managerial       Own-child   \n",
       "16296   Married-civ-spouse        Craft-repair         Husband   \n",
       "16845             Divorced       Other-service   Not-in-family   \n",
       "16974        Never-married       Other-service   Not-in-family   \n",
       "17672        Never-married     Farming-fishing   Not-in-family   \n",
       "17915        Never-married      Prof-specialty   Not-in-family   \n",
       "21102        Never-married   Handlers-cleaners   Not-in-family   \n",
       "25623   Married-civ-spouse        Craft-repair         Husband   \n",
       "\n",
       "                      Race      Sex  Capital_gain  Capital_loss  \\\n",
       "2302    Asian-Pac-Islander     Male             0             0   \n",
       "3916                 White     Male             0             0   \n",
       "4324                 White     Male             0             0   \n",
       "4766                 White   Female             0             0   \n",
       "4939                 White     Male             0             0   \n",
       "5578                 White   Female             0             0   \n",
       "5804                 White   Female             0             0   \n",
       "5841                 White   Female             0             0   \n",
       "6989                 White   Female             0             0   \n",
       "7052                 White     Male             0             0   \n",
       "7919                 White     Male             0             0   \n",
       "8079                 White     Male             0             0   \n",
       "8678                 White     Male             0             0   \n",
       "10366                White     Male             0             0   \n",
       "11964                White   Female             0             0   \n",
       "13083                White   Female             0             0   \n",
       "15188                Black     Male             0             0   \n",
       "16296                White     Male             0             0   \n",
       "16845                White   Female             0             0   \n",
       "16974                Black     Male             0             0   \n",
       "17672                White     Male             0             0   \n",
       "17915                White   Female             0             0   \n",
       "21102                White     Male             0             0   \n",
       "25623                White     Male             0             0   \n",
       "\n",
       "       Hours_per_week  Native_country  Income  \n",
       "2302               35   United-States   <=50K  \n",
       "3916               14   United-States   <=50K  \n",
       "4324               40          Mexico   <=50K  \n",
       "4766               10   United-States   <=50K  \n",
       "4939               48   United-States    >50K  \n",
       "5578               40   United-States   <=50K  \n",
       "5804               10   United-States   <=50K  \n",
       "5841               40       Guatemala   <=50K  \n",
       "6989               10   United-States   <=50K  \n",
       "7052               40   United-States   <=50K  \n",
       "7919               40   United-States   <=50K  \n",
       "8079               50          Mexico   <=50K  \n",
       "8678               50   United-States   <=50K  \n",
       "10366              40   United-States    >50K  \n",
       "11964              40   United-States   <=50K  \n",
       "13083              40       Guatemala   <=50K  \n",
       "15188              30   United-States   <=50K  \n",
       "16296              40   United-States   <=50K  \n",
       "16845              40   United-States   <=50K  \n",
       "16974              40   United-States   <=50K  \n",
       "17672              40   United-States   <=50K  \n",
       "17915              45          Mexico   <=50K  \n",
       "21102              55          Mexico   <=50K  \n",
       "25623              40   United-States   <=50K  "
      ]
     },
     "execution_count": 17,
     "metadata": {},
     "output_type": "execute_result"
    }
   ],
   "source": [
    "duplicate = df[df.duplicated(keep = 'last')]\n",
    "print(\"Duplicate Rows :\")\n",
    "  \n",
    "# Print the resultant Dataframe\n",
    "duplicate"
   ]
  },
  {
   "cell_type": "code",
   "execution_count": 18,
   "id": "607e74bf",
   "metadata": {},
   "outputs": [
    {
     "data": {
      "text/plain": [
       "(24, 15)"
      ]
     },
     "execution_count": 18,
     "metadata": {},
     "output_type": "execute_result"
    }
   ],
   "source": [
    "duplicate.shape"
   ]
  },
  {
   "cell_type": "code",
   "execution_count": 19,
   "id": "a009c00d",
   "metadata": {},
   "outputs": [],
   "source": [
    "df.drop_duplicates(keep=False,inplace=True)"
   ]
  },
  {
   "cell_type": "code",
   "execution_count": 20,
   "id": "d14d6379",
   "metadata": {},
   "outputs": [
    {
     "name": "stdout",
     "output_type": "stream",
     "text": [
      "Duplicate Rows :\n"
     ]
    },
    {
     "data": {
      "text/html": [
       "<div>\n",
       "<style scoped>\n",
       "    .dataframe tbody tr th:only-of-type {\n",
       "        vertical-align: middle;\n",
       "    }\n",
       "\n",
       "    .dataframe tbody tr th {\n",
       "        vertical-align: top;\n",
       "    }\n",
       "\n",
       "    .dataframe thead th {\n",
       "        text-align: right;\n",
       "    }\n",
       "</style>\n",
       "<table border=\"1\" class=\"dataframe\">\n",
       "  <thead>\n",
       "    <tr style=\"text-align: right;\">\n",
       "      <th></th>\n",
       "      <th>Age</th>\n",
       "      <th>Workclass</th>\n",
       "      <th>Fnlwgt</th>\n",
       "      <th>Education</th>\n",
       "      <th>Education_num</th>\n",
       "      <th>Marital_status</th>\n",
       "      <th>Occupation</th>\n",
       "      <th>Relationship</th>\n",
       "      <th>Race</th>\n",
       "      <th>Sex</th>\n",
       "      <th>Capital_gain</th>\n",
       "      <th>Capital_loss</th>\n",
       "      <th>Hours_per_week</th>\n",
       "      <th>Native_country</th>\n",
       "      <th>Income</th>\n",
       "    </tr>\n",
       "  </thead>\n",
       "  <tbody>\n",
       "  </tbody>\n",
       "</table>\n",
       "</div>"
      ],
      "text/plain": [
       "Empty DataFrame\n",
       "Columns: [Age, Workclass, Fnlwgt, Education, Education_num, Marital_status, Occupation, Relationship, Race, Sex, Capital_gain, Capital_loss, Hours_per_week, Native_country, Income]\n",
       "Index: []"
      ]
     },
     "execution_count": 20,
     "metadata": {},
     "output_type": "execute_result"
    }
   ],
   "source": [
    "duplicate = df[df.duplicated(keep = 'last')]\n",
    "print(\"Duplicate Rows :\")\n",
    "  \n",
    "# Print the resultant Dataframe\n",
    "duplicate"
   ]
  },
  {
   "cell_type": "markdown",
   "id": "c1cf8a93",
   "metadata": {},
   "source": [
    "# Data Analysis"
   ]
  },
  {
   "cell_type": "markdown",
   "id": "066e8bd8",
   "metadata": {},
   "source": [
    "<strong>Workclass</strong>"
   ]
  },
  {
   "cell_type": "code",
   "execution_count": 21,
   "id": "dc51a3e7",
   "metadata": {},
   "outputs": [
    {
     "data": {
      "image/png": "[encoded data removed]",
      "text/plain": [
       "<Figure size 432x288 with 1 Axes>"
      ]
     },
     "metadata": {
      "needs_background": "light"
     },
     "output_type": "display_data"
    }
   ],
   "source": [
    "ax = sns.countplot(x=\"Workclass\", data=df,hue='Income')\n",
    "\n",
    "ax.set_xticklabels(ax.get_xticklabels(), rotation=40, ha=\"right\")\n",
    "plt.tight_layout()\n",
    "plt.show()"
   ]
  },
  {
   "cell_type": "markdown",
   "id": "fad2a490",
   "metadata": {},
   "source": [
    "We see that majority of the people earning more than 50K are from the Private Sector followed by Self Employed and lets combine Without-pay and Never-worked into one"
   ]
  },
  {
   "cell_type": "code",
   "execution_count": 22,
   "id": "e7d736be",
   "metadata": {},
   "outputs": [],
   "source": [
    "df['Workclass'] = df['Workclass'].str.replace('Never-worked', 'Without-pay')"
   ]
  },
  {
   "cell_type": "code",
   "execution_count": 23,
   "id": "ec3bc282",
   "metadata": {},
   "outputs": [
    {
     "data": {
      "image/png": "[encoded data removed]",
      "text/plain": [
       "<Figure size 432x288 with 1 Axes>"
      ]
     },
     "metadata": {
      "needs_background": "light"
     },
     "output_type": "display_data"
    }
   ],
   "source": [
    "ax = sns.countplot(x=\"Workclass\", data=df,hue='Income')\n",
    "\n",
    "ax.set_xticklabels(ax.get_xticklabels(), rotation=40, ha=\"right\")\n",
    "plt.tight_layout()\n",
    "plt.show()"
   ]
  },
  {
   "cell_type": "markdown",
   "id": "8e05e9af",
   "metadata": {},
   "source": [
    "Nowe we have successfully replaced Never-worked with Without pay and it makes more sense to our data"
   ]
  },
  {
   "cell_type": "markdown",
   "id": "158def91",
   "metadata": {},
   "source": [
    "# Fnlwgt"
   ]
  },
  {
   "cell_type": "code",
   "execution_count": 24,
   "id": "c2956e5c",
   "metadata": {},
   "outputs": [
    {
     "data": {
      "text/plain": [
       "123011    13\n",
       "164190    13\n",
       "203488    13\n",
       "121124    12\n",
       "113364    12\n",
       "          ..\n",
       "209392     1\n",
       "218551     1\n",
       "201204     1\n",
       "362999     1\n",
       "145522     1\n",
       "Name: Fnlwgt, Length: 21637, dtype: int64"
      ]
     },
     "execution_count": 24,
     "metadata": {},
     "output_type": "execute_result"
    }
   ],
   "source": [
    "df['Fnlwgt'].value_counts()"
   ]
  },
  {
   "cell_type": "markdown",
   "id": "ce20f1d6",
   "metadata": {},
   "source": [
    "The continuous variable fnlwgt represents final weight, which is the number of units in the target population that the responding unit represents"
   ]
  },
  {
   "cell_type": "code",
   "execution_count": 25,
   "id": "ef4084c4",
   "metadata": {},
   "outputs": [
    {
     "data": {
      "text/html": [
       "<div>\n",
       "<style scoped>\n",
       "    .dataframe tbody tr th:only-of-type {\n",
       "        vertical-align: middle;\n",
       "    }\n",
       "\n",
       "    .dataframe tbody tr th {\n",
       "        vertical-align: top;\n",
       "    }\n",
       "\n",
       "    .dataframe thead th {\n",
       "        text-align: right;\n",
       "    }\n",
       "</style>\n",
       "<table border=\"1\" class=\"dataframe\">\n",
       "  <thead>\n",
       "    <tr style=\"text-align: right;\">\n",
       "      <th></th>\n",
       "      <th>Income</th>\n",
       "    </tr>\n",
       "    <tr>\n",
       "      <th>Education</th>\n",
       "      <th></th>\n",
       "    </tr>\n",
       "  </thead>\n",
       "  <tbody>\n",
       "    <tr>\n",
       "      <th>10th</th>\n",
       "      <td>933</td>\n",
       "    </tr>\n",
       "    <tr>\n",
       "      <th>11th</th>\n",
       "      <td>1175</td>\n",
       "    </tr>\n",
       "    <tr>\n",
       "      <th>12th</th>\n",
       "      <td>433</td>\n",
       "    </tr>\n",
       "    <tr>\n",
       "      <th>1st-4th</th>\n",
       "      <td>165</td>\n",
       "    </tr>\n",
       "    <tr>\n",
       "      <th>5th-6th</th>\n",
       "      <td>331</td>\n",
       "    </tr>\n",
       "    <tr>\n",
       "      <th>7th-8th</th>\n",
       "      <td>644</td>\n",
       "    </tr>\n",
       "    <tr>\n",
       "      <th>9th</th>\n",
       "      <td>514</td>\n",
       "    </tr>\n",
       "    <tr>\n",
       "      <th>Assoc-acdm</th>\n",
       "      <td>1067</td>\n",
       "    </tr>\n",
       "    <tr>\n",
       "      <th>Assoc-voc</th>\n",
       "      <td>1382</td>\n",
       "    </tr>\n",
       "    <tr>\n",
       "      <th>Bachelors</th>\n",
       "      <td>5350</td>\n",
       "    </tr>\n",
       "    <tr>\n",
       "      <th>Doctorate</th>\n",
       "      <td>413</td>\n",
       "    </tr>\n",
       "    <tr>\n",
       "      <th>HS-grad</th>\n",
       "      <td>10487</td>\n",
       "    </tr>\n",
       "    <tr>\n",
       "      <th>Masters</th>\n",
       "      <td>1721</td>\n",
       "    </tr>\n",
       "    <tr>\n",
       "      <th>Preschool</th>\n",
       "      <td>49</td>\n",
       "    </tr>\n",
       "    <tr>\n",
       "      <th>Prof-school</th>\n",
       "      <td>576</td>\n",
       "    </tr>\n",
       "    <tr>\n",
       "      <th>Some-college</th>\n",
       "      <td>7273</td>\n",
       "    </tr>\n",
       "  </tbody>\n",
       "</table>\n",
       "</div>"
      ],
      "text/plain": [
       "               Income\n",
       "Education            \n",
       " 10th             933\n",
       " 11th            1175\n",
       " 12th             433\n",
       " 1st-4th          165\n",
       " 5th-6th          331\n",
       " 7th-8th          644\n",
       " 9th              514\n",
       " Assoc-acdm      1067\n",
       " Assoc-voc       1382\n",
       " Bachelors       5350\n",
       " Doctorate        413\n",
       " HS-grad        10487\n",
       " Masters         1721\n",
       " Preschool         49\n",
       " Prof-school      576\n",
       " Some-college    7273"
      ]
     },
     "execution_count": 25,
     "metadata": {},
     "output_type": "execute_result"
    }
   ],
   "source": [
    "df.groupby('Education').count()[['Income']]"
   ]
  },
  {
   "cell_type": "code",
   "execution_count": 26,
   "id": "51bdc888",
   "metadata": {},
   "outputs": [
    {
     "data": {
      "image/png": "[encoded data removed]",
      "text/plain": [
       "<Figure size 432x288 with 1 Axes>"
      ]
     },
     "metadata": {
      "needs_background": "light"
     },
     "output_type": "display_data"
    }
   ],
   "source": [
    "ax = sns.countplot(x=\"Education\", data=df,hue='Income')\n",
    "\n",
    "ax.set_xticklabels(ax.get_xticklabels(), rotation=40, ha=\"right\")\n",
    "plt.tight_layout()\n",
    "plt.show()"
   ]
  },
  {
   "cell_type": "markdown",
   "id": "62b813de",
   "metadata": {},
   "source": [
    "From the graph, it is clear that bachelors are the one who are earning more than 50K"
   ]
  },
  {
   "cell_type": "code",
   "execution_count": 26,
   "id": "53c14a84",
   "metadata": {},
   "outputs": [
    {
     "data": {
      "text/plain": [
       " Prof-specialty       5975\n",
       " Craft-repair         4089\n",
       " Exec-managerial      4064\n",
       " Adm-clerical         3765\n",
       " Sales                3650\n",
       " Other-service        3287\n",
       " Machine-op-inspct    1998\n",
       " Transport-moving     1597\n",
       " Handlers-cleaners    1368\n",
       " Farming-fishing       990\n",
       " Tech-support          926\n",
       " Protective-serv       649\n",
       " Priv-house-serv       146\n",
       " Armed-Forces            9\n",
       "Name: Occupation, dtype: int64"
      ]
     },
     "execution_count": 26,
     "metadata": {},
     "output_type": "execute_result"
    }
   ],
   "source": [
    "df['Occupation'].value_counts()"
   ]
  },
  {
   "cell_type": "code",
   "execution_count": 27,
   "id": "f6340a27",
   "metadata": {},
   "outputs": [
    {
     "data": {
      "image/png": "[encoded data removed]",
      "text/plain": [
       "<Figure size 432x288 with 1 Axes>"
      ]
     },
     "metadata": {
      "needs_background": "light"
     },
     "output_type": "display_data"
    }
   ],
   "source": [
    "ax = sns.countplot(x=\"Occupation\", data=df,hue='Income')\n",
    "\n",
    "ax.set_xticklabels(ax.get_xticklabels(), rotation=40, ha=\"right\")\n",
    "plt.tight_layout()\n",
    "plt.show()"
   ]
  },
  {
   "cell_type": "markdown",
   "id": "3cf2aed3",
   "metadata": {},
   "source": [
    "From the occupation, it is clear that more Prof-Specialist and Executive managers earn more than 50K"
   ]
  },
  {
   "cell_type": "markdown",
   "id": "2dba86ed",
   "metadata": {},
   "source": [
    "# Education_num"
   ]
  },
  {
   "cell_type": "code",
   "execution_count": 28,
   "id": "920fcec5",
   "metadata": {},
   "outputs": [
    {
     "data": {
      "text/html": [
       "<div>\n",
       "<style scoped>\n",
       "    .dataframe tbody tr th:only-of-type {\n",
       "        vertical-align: middle;\n",
       "    }\n",
       "\n",
       "    .dataframe tbody tr th {\n",
       "        vertical-align: top;\n",
       "    }\n",
       "\n",
       "    .dataframe thead th {\n",
       "        text-align: right;\n",
       "    }\n",
       "</style>\n",
       "<table border=\"1\" class=\"dataframe\">\n",
       "  <thead>\n",
       "    <tr style=\"text-align: right;\">\n",
       "      <th></th>\n",
       "      <th>Income</th>\n",
       "    </tr>\n",
       "    <tr>\n",
       "      <th>Education_num</th>\n",
       "      <th></th>\n",
       "    </tr>\n",
       "  </thead>\n",
       "  <tbody>\n",
       "    <tr>\n",
       "      <th>1</th>\n",
       "      <td>49</td>\n",
       "    </tr>\n",
       "    <tr>\n",
       "      <th>2</th>\n",
       "      <td>165</td>\n",
       "    </tr>\n",
       "    <tr>\n",
       "      <th>3</th>\n",
       "      <td>331</td>\n",
       "    </tr>\n",
       "    <tr>\n",
       "      <th>4</th>\n",
       "      <td>644</td>\n",
       "    </tr>\n",
       "    <tr>\n",
       "      <th>5</th>\n",
       "      <td>514</td>\n",
       "    </tr>\n",
       "    <tr>\n",
       "      <th>6</th>\n",
       "      <td>933</td>\n",
       "    </tr>\n",
       "    <tr>\n",
       "      <th>7</th>\n",
       "      <td>1175</td>\n",
       "    </tr>\n",
       "    <tr>\n",
       "      <th>8</th>\n",
       "      <td>433</td>\n",
       "    </tr>\n",
       "    <tr>\n",
       "      <th>9</th>\n",
       "      <td>10487</td>\n",
       "    </tr>\n",
       "    <tr>\n",
       "      <th>10</th>\n",
       "      <td>7273</td>\n",
       "    </tr>\n",
       "    <tr>\n",
       "      <th>11</th>\n",
       "      <td>1382</td>\n",
       "    </tr>\n",
       "    <tr>\n",
       "      <th>12</th>\n",
       "      <td>1067</td>\n",
       "    </tr>\n",
       "    <tr>\n",
       "      <th>13</th>\n",
       "      <td>5350</td>\n",
       "    </tr>\n",
       "    <tr>\n",
       "      <th>14</th>\n",
       "      <td>1721</td>\n",
       "    </tr>\n",
       "    <tr>\n",
       "      <th>15</th>\n",
       "      <td>576</td>\n",
       "    </tr>\n",
       "    <tr>\n",
       "      <th>16</th>\n",
       "      <td>413</td>\n",
       "    </tr>\n",
       "  </tbody>\n",
       "</table>\n",
       "</div>"
      ],
      "text/plain": [
       "               Income\n",
       "Education_num        \n",
       "1                  49\n",
       "2                 165\n",
       "3                 331\n",
       "4                 644\n",
       "5                 514\n",
       "6                 933\n",
       "7                1175\n",
       "8                 433\n",
       "9               10487\n",
       "10               7273\n",
       "11               1382\n",
       "12               1067\n",
       "13               5350\n",
       "14               1721\n",
       "15                576\n",
       "16                413"
      ]
     },
     "execution_count": 28,
     "metadata": {},
     "output_type": "execute_result"
    }
   ],
   "source": [
    "df.groupby('Education_num').count()[['Income']]"
   ]
  },
  {
   "cell_type": "code",
   "execution_count": 29,
   "id": "3975b65f",
   "metadata": {},
   "outputs": [
    {
     "data": {
      "image/png": "[encoded data removed]",
      "text/plain": [
       "<Figure size 432x288 with 1 Axes>"
      ]
     },
     "metadata": {
      "needs_background": "light"
     },
     "output_type": "display_data"
    }
   ],
   "source": [
    "ax = sns.countplot(x=\"Education_num\", data=df,hue='Income')\n",
    "\n",
    "ax.set_xticklabels(ax.get_xticklabels(), rotation=40, ha=\"right\")\n",
    "plt.tight_layout()\n",
    "plt.show()"
   ]
  },
  {
   "cell_type": "markdown",
   "id": "f583d967",
   "metadata": {},
   "source": [
    "Education and Education_num are two columns with same data and different names. So lets drop Education now and proceed with further analysis "
   ]
  },
  {
   "cell_type": "code",
   "execution_count": 30,
   "id": "8b6d9120",
   "metadata": {},
   "outputs": [],
   "source": [
    "df.drop(['Education'], axis = 1, inplace = True)"
   ]
  },
  {
   "cell_type": "code",
   "execution_count": 31,
   "id": "a7a0d08e",
   "metadata": {},
   "outputs": [
    {
     "data": {
      "text/plain": [
       "Index(['Age', 'Workclass', 'Fnlwgt', 'Education_num', 'Marital_status',\n",
       "       'Occupation', 'Relationship', 'Race', 'Sex', 'Capital_gain',\n",
       "       'Capital_loss', 'Hours_per_week', 'Native_country', 'Income'],\n",
       "      dtype='object')"
      ]
     },
     "execution_count": 31,
     "metadata": {},
     "output_type": "execute_result"
    }
   ],
   "source": [
    "df.columns"
   ]
  },
  {
   "cell_type": "markdown",
   "id": "03bca46b",
   "metadata": {},
   "source": [
    "We dont see Education column here, it has been dropped successfully"
   ]
  },
  {
   "cell_type": "markdown",
   "id": "56d29290",
   "metadata": {},
   "source": [
    "# Marital Status"
   ]
  },
  {
   "cell_type": "code",
   "execution_count": 32,
   "id": "a0a5d99e",
   "metadata": {},
   "outputs": [
    {
     "data": {
      "text/html": [
       "<div>\n",
       "<style scoped>\n",
       "    .dataframe tbody tr th:only-of-type {\n",
       "        vertical-align: middle;\n",
       "    }\n",
       "\n",
       "    .dataframe tbody tr th {\n",
       "        vertical-align: top;\n",
       "    }\n",
       "\n",
       "    .dataframe thead th {\n",
       "        text-align: right;\n",
       "    }\n",
       "</style>\n",
       "<table border=\"1\" class=\"dataframe\">\n",
       "  <thead>\n",
       "    <tr style=\"text-align: right;\">\n",
       "      <th></th>\n",
       "      <th>Income</th>\n",
       "    </tr>\n",
       "    <tr>\n",
       "      <th>Marital_status</th>\n",
       "      <th></th>\n",
       "    </tr>\n",
       "  </thead>\n",
       "  <tbody>\n",
       "    <tr>\n",
       "      <th>Divorced</th>\n",
       "      <td>4439</td>\n",
       "    </tr>\n",
       "    <tr>\n",
       "      <th>Married-AF-spouse</th>\n",
       "      <td>23</td>\n",
       "    </tr>\n",
       "    <tr>\n",
       "      <th>Married-civ-spouse</th>\n",
       "      <td>14964</td>\n",
       "    </tr>\n",
       "    <tr>\n",
       "      <th>Married-spouse-absent</th>\n",
       "      <td>418</td>\n",
       "    </tr>\n",
       "    <tr>\n",
       "      <th>Never-married</th>\n",
       "      <td>10651</td>\n",
       "    </tr>\n",
       "    <tr>\n",
       "      <th>Separated</th>\n",
       "      <td>1025</td>\n",
       "    </tr>\n",
       "    <tr>\n",
       "      <th>Widowed</th>\n",
       "      <td>993</td>\n",
       "    </tr>\n",
       "  </tbody>\n",
       "</table>\n",
       "</div>"
      ],
      "text/plain": [
       "                        Income\n",
       "Marital_status                \n",
       " Divorced                 4439\n",
       " Married-AF-spouse          23\n",
       " Married-civ-spouse      14964\n",
       " Married-spouse-absent     418\n",
       " Never-married           10651\n",
       " Separated                1025\n",
       " Widowed                   993"
      ]
     },
     "execution_count": 32,
     "metadata": {},
     "output_type": "execute_result"
    }
   ],
   "source": [
    "df.groupby('Marital_status').count()[['Income']]"
   ]
  },
  {
   "cell_type": "code",
   "execution_count": 33,
   "id": "ac48d41c",
   "metadata": {},
   "outputs": [
    {
     "data": {
      "image/png": "[encoded data removed]",
      "text/plain": [
       "<Figure size 432x288 with 1 Axes>"
      ]
     },
     "metadata": {
      "needs_background": "light"
     },
     "output_type": "display_data"
    }
   ],
   "source": [
    "ax = sns.countplot(x=\"Marital_status\", data=df,hue='Income')\n",
    "\n",
    "ax.set_xticklabels(ax.get_xticklabels(), rotation=40, ha=\"right\")\n",
    "plt.tight_layout()\n",
    "plt.show()"
   ]
  },
  {
   "cell_type": "markdown",
   "id": "10034e84",
   "metadata": {},
   "source": [
    "We see that married people have higher income as compared to others"
   ]
  },
  {
   "cell_type": "markdown",
   "id": "c8621da7",
   "metadata": {},
   "source": [
    "# Relationship"
   ]
  },
  {
   "cell_type": "code",
   "execution_count": 34,
   "id": "08c8f541",
   "metadata": {},
   "outputs": [
    {
     "data": {
      "text/html": [
       "<div>\n",
       "<style scoped>\n",
       "    .dataframe tbody tr th:only-of-type {\n",
       "        vertical-align: middle;\n",
       "    }\n",
       "\n",
       "    .dataframe tbody tr th {\n",
       "        vertical-align: top;\n",
       "    }\n",
       "\n",
       "    .dataframe thead th {\n",
       "        text-align: right;\n",
       "    }\n",
       "</style>\n",
       "<table border=\"1\" class=\"dataframe\">\n",
       "  <thead>\n",
       "    <tr style=\"text-align: right;\">\n",
       "      <th></th>\n",
       "      <th>Income</th>\n",
       "    </tr>\n",
       "    <tr>\n",
       "      <th>Relationship</th>\n",
       "      <th></th>\n",
       "    </tr>\n",
       "  </thead>\n",
       "  <tbody>\n",
       "    <tr>\n",
       "      <th>Husband</th>\n",
       "      <td>13181</td>\n",
       "    </tr>\n",
       "    <tr>\n",
       "      <th>Not-in-family</th>\n",
       "      <td>8279</td>\n",
       "    </tr>\n",
       "    <tr>\n",
       "      <th>Other-relative</th>\n",
       "      <td>981</td>\n",
       "    </tr>\n",
       "    <tr>\n",
       "      <th>Own-child</th>\n",
       "      <td>5060</td>\n",
       "    </tr>\n",
       "    <tr>\n",
       "      <th>Unmarried</th>\n",
       "      <td>3444</td>\n",
       "    </tr>\n",
       "    <tr>\n",
       "      <th>Wife</th>\n",
       "      <td>1568</td>\n",
       "    </tr>\n",
       "  </tbody>\n",
       "</table>\n",
       "</div>"
      ],
      "text/plain": [
       "                 Income\n",
       "Relationship           \n",
       " Husband          13181\n",
       " Not-in-family     8279\n",
       " Other-relative     981\n",
       " Own-child         5060\n",
       " Unmarried         3444\n",
       " Wife              1568"
      ]
     },
     "execution_count": 34,
     "metadata": {},
     "output_type": "execute_result"
    }
   ],
   "source": [
    "df.groupby('Relationship').count()[['Income']]"
   ]
  },
  {
   "cell_type": "code",
   "execution_count": 35,
   "id": "23fc371c",
   "metadata": {},
   "outputs": [
    {
     "data": {
      "image/png": "[encoded data removed]",
      "text/plain": [
       "<Figure size 432x288 with 1 Axes>"
      ]
     },
     "metadata": {
      "needs_background": "light"
     },
     "output_type": "display_data"
    }
   ],
   "source": [
    "ax = sns.countplot(x=\"Relationship\", data=df,hue='Income')\n",
    "\n",
    "ax.set_xticklabels(ax.get_xticklabels(), rotation=40, ha=\"right\")\n",
    "plt.tight_layout()\n",
    "plt.show()"
   ]
  },
  {
   "cell_type": "markdown",
   "id": "7e14a0bf",
   "metadata": {},
   "source": [
    "We notice that Husband in the family have a higher salary as compared to other relationship in the family"
   ]
  },
  {
   "cell_type": "code",
   "execution_count": 36,
   "id": "ef255c22",
   "metadata": {},
   "outputs": [
    {
     "data": {
      "text/html": [
       "<div>\n",
       "<style scoped>\n",
       "    .dataframe tbody tr th:only-of-type {\n",
       "        vertical-align: middle;\n",
       "    }\n",
       "\n",
       "    .dataframe tbody tr th {\n",
       "        vertical-align: top;\n",
       "    }\n",
       "\n",
       "    .dataframe thead th {\n",
       "        text-align: right;\n",
       "    }\n",
       "</style>\n",
       "<table border=\"1\" class=\"dataframe\">\n",
       "  <thead>\n",
       "    <tr style=\"text-align: right;\">\n",
       "      <th></th>\n",
       "      <th>Income</th>\n",
       "    </tr>\n",
       "    <tr>\n",
       "      <th>Race</th>\n",
       "      <th></th>\n",
       "    </tr>\n",
       "  </thead>\n",
       "  <tbody>\n",
       "    <tr>\n",
       "      <th>Amer-Indian-Eskimo</th>\n",
       "      <td>311</td>\n",
       "    </tr>\n",
       "    <tr>\n",
       "      <th>Asian-Pac-Islander</th>\n",
       "      <td>1037</td>\n",
       "    </tr>\n",
       "    <tr>\n",
       "      <th>Black</th>\n",
       "      <td>3120</td>\n",
       "    </tr>\n",
       "    <tr>\n",
       "      <th>Other</th>\n",
       "      <td>271</td>\n",
       "    </tr>\n",
       "    <tr>\n",
       "      <th>White</th>\n",
       "      <td>27774</td>\n",
       "    </tr>\n",
       "  </tbody>\n",
       "</table>\n",
       "</div>"
      ],
      "text/plain": [
       "                     Income\n",
       "Race                       \n",
       " Amer-Indian-Eskimo     311\n",
       " Asian-Pac-Islander    1037\n",
       " Black                 3120\n",
       " Other                  271\n",
       " White                27774"
      ]
     },
     "execution_count": 36,
     "metadata": {},
     "output_type": "execute_result"
    }
   ],
   "source": [
    "df.groupby('Race').count()[['Income']]"
   ]
  },
  {
   "cell_type": "code",
   "execution_count": 37,
   "id": "e8d13246",
   "metadata": {},
   "outputs": [
    {
     "data": {
      "image/png": "[encoded data removed]",
      "text/plain": [
       "<Figure size 432x288 with 1 Axes>"
      ]
     },
     "metadata": {
      "needs_background": "light"
     },
     "output_type": "display_data"
    }
   ],
   "source": [
    "ax = sns.countplot(x=\"Race\", data=df,hue='Income')\n",
    "\n",
    "ax.set_xticklabels(ax.get_xticklabels(), rotation=40, ha=\"right\")\n",
    "plt.tight_layout()\n",
    "plt.show()"
   ]
  },
  {
   "cell_type": "markdown",
   "id": "6e30dfa4",
   "metadata": {},
   "source": [
    "People with White Race earn more than all other races"
   ]
  },
  {
   "cell_type": "code",
   "execution_count": 38,
   "id": "6aa2dc98",
   "metadata": {},
   "outputs": [
    {
     "data": {
      "text/html": [
       "<div>\n",
       "<style scoped>\n",
       "    .dataframe tbody tr th:only-of-type {\n",
       "        vertical-align: middle;\n",
       "    }\n",
       "\n",
       "    .dataframe tbody tr th {\n",
       "        vertical-align: top;\n",
       "    }\n",
       "\n",
       "    .dataframe thead th {\n",
       "        text-align: right;\n",
       "    }\n",
       "</style>\n",
       "<table border=\"1\" class=\"dataframe\">\n",
       "  <thead>\n",
       "    <tr style=\"text-align: right;\">\n",
       "      <th></th>\n",
       "      <th>Income</th>\n",
       "    </tr>\n",
       "    <tr>\n",
       "      <th>Sex</th>\n",
       "      <th></th>\n",
       "    </tr>\n",
       "  </thead>\n",
       "  <tbody>\n",
       "    <tr>\n",
       "      <th>Female</th>\n",
       "      <td>10754</td>\n",
       "    </tr>\n",
       "    <tr>\n",
       "      <th>Male</th>\n",
       "      <td>21759</td>\n",
       "    </tr>\n",
       "  </tbody>\n",
       "</table>\n",
       "</div>"
      ],
      "text/plain": [
       "         Income\n",
       "Sex            \n",
       " Female   10754\n",
       " Male     21759"
      ]
     },
     "execution_count": 38,
     "metadata": {},
     "output_type": "execute_result"
    }
   ],
   "source": [
    "df.groupby('Sex').count()[['Income']]"
   ]
  },
  {
   "cell_type": "code",
   "execution_count": 39,
   "id": "52f32b76",
   "metadata": {},
   "outputs": [
    {
     "data": {
      "image/png": "[encoded data removed]",
      "text/plain": [
       "<Figure size 432x288 with 1 Axes>"
      ]
     },
     "metadata": {
      "needs_background": "light"
     },
     "output_type": "display_data"
    }
   ],
   "source": [
    "ax = sns.countplot(x=\"Sex\", data=df,hue='Income')\n",
    "\n",
    "ax.set_xticklabels(ax.get_xticklabels(), rotation=40, ha=\"right\")\n",
    "plt.tight_layout()\n",
    "plt.show()"
   ]
  },
  {
   "cell_type": "markdown",
   "id": "03e85439",
   "metadata": {},
   "source": [
    "We notice that male have more salary than female. Also we see that, the number of men are more than women in our total data"
   ]
  },
  {
   "cell_type": "code",
   "execution_count": 40,
   "id": "ea4b2c03",
   "metadata": {},
   "outputs": [
    {
     "data": {
      "text/html": [
       "<div>\n",
       "<style scoped>\n",
       "    .dataframe tbody tr th:only-of-type {\n",
       "        vertical-align: middle;\n",
       "    }\n",
       "\n",
       "    .dataframe tbody tr th {\n",
       "        vertical-align: top;\n",
       "    }\n",
       "\n",
       "    .dataframe thead th {\n",
       "        text-align: right;\n",
       "    }\n",
       "</style>\n",
       "<table border=\"1\" class=\"dataframe\">\n",
       "  <thead>\n",
       "    <tr style=\"text-align: right;\">\n",
       "      <th></th>\n",
       "      <th>Income</th>\n",
       "    </tr>\n",
       "    <tr>\n",
       "      <th>Capital_gain</th>\n",
       "      <th></th>\n",
       "    </tr>\n",
       "  </thead>\n",
       "  <tbody>\n",
       "    <tr>\n",
       "      <th>0</th>\n",
       "      <td>29802</td>\n",
       "    </tr>\n",
       "    <tr>\n",
       "      <th>114</th>\n",
       "      <td>6</td>\n",
       "    </tr>\n",
       "    <tr>\n",
       "      <th>401</th>\n",
       "      <td>2</td>\n",
       "    </tr>\n",
       "    <tr>\n",
       "      <th>594</th>\n",
       "      <td>34</td>\n",
       "    </tr>\n",
       "    <tr>\n",
       "      <th>914</th>\n",
       "      <td>8</td>\n",
       "    </tr>\n",
       "    <tr>\n",
       "      <th>...</th>\n",
       "      <td>...</td>\n",
       "    </tr>\n",
       "    <tr>\n",
       "      <th>25236</th>\n",
       "      <td>11</td>\n",
       "    </tr>\n",
       "    <tr>\n",
       "      <th>27828</th>\n",
       "      <td>34</td>\n",
       "    </tr>\n",
       "    <tr>\n",
       "      <th>34095</th>\n",
       "      <td>5</td>\n",
       "    </tr>\n",
       "    <tr>\n",
       "      <th>41310</th>\n",
       "      <td>2</td>\n",
       "    </tr>\n",
       "    <tr>\n",
       "      <th>99999</th>\n",
       "      <td>159</td>\n",
       "    </tr>\n",
       "  </tbody>\n",
       "</table>\n",
       "<p>119 rows × 1 columns</p>\n",
       "</div>"
      ],
      "text/plain": [
       "              Income\n",
       "Capital_gain        \n",
       "0              29802\n",
       "114                6\n",
       "401                2\n",
       "594               34\n",
       "914                8\n",
       "...              ...\n",
       "25236             11\n",
       "27828             34\n",
       "34095              5\n",
       "41310              2\n",
       "99999            159\n",
       "\n",
       "[119 rows x 1 columns]"
      ]
     },
     "execution_count": 40,
     "metadata": {},
     "output_type": "execute_result"
    }
   ],
   "source": [
    "df.groupby('Capital_gain').count()[['Income']]"
   ]
  },
  {
   "cell_type": "code",
   "execution_count": 41,
   "id": "000fa718",
   "metadata": {},
   "outputs": [
    {
     "data": {
      "text/plain": [
       "<AxesSubplot:xlabel='Capital_gain', ylabel='Count'>"
      ]
     },
     "execution_count": 41,
     "metadata": {},
     "output_type": "execute_result"
    },
    {
     "data": {
      "image/png": "[encoded data removed]",
      "text/plain": [
       "<Figure size 432x288 with 1 Axes>"
      ]
     },
     "metadata": {
      "needs_background": "light"
     },
     "output_type": "display_data"
    }
   ],
   "source": [
    "sns.histplot(df.Capital_gain,color=\"blue\",kde=True,stat=\"count\")"
   ]
  },
  {
   "cell_type": "markdown",
   "id": "fadd0d94",
   "metadata": {},
   "source": [
    "Capital_gain with value as 0 have most of the data and we see that it is a bit right skewed"
   ]
  },
  {
   "cell_type": "code",
   "execution_count": 42,
   "id": "66efef01",
   "metadata": {},
   "outputs": [
    {
     "data": {
      "text/html": [
       "<div>\n",
       "<style scoped>\n",
       "    .dataframe tbody tr th:only-of-type {\n",
       "        vertical-align: middle;\n",
       "    }\n",
       "\n",
       "    .dataframe tbody tr th {\n",
       "        vertical-align: top;\n",
       "    }\n",
       "\n",
       "    .dataframe thead th {\n",
       "        text-align: right;\n",
       "    }\n",
       "</style>\n",
       "<table border=\"1\" class=\"dataframe\">\n",
       "  <thead>\n",
       "    <tr style=\"text-align: right;\">\n",
       "      <th></th>\n",
       "      <th>Income</th>\n",
       "    </tr>\n",
       "    <tr>\n",
       "      <th>Capital_loss</th>\n",
       "      <th></th>\n",
       "    </tr>\n",
       "  </thead>\n",
       "  <tbody>\n",
       "    <tr>\n",
       "      <th>0</th>\n",
       "      <td>30994</td>\n",
       "    </tr>\n",
       "    <tr>\n",
       "      <th>155</th>\n",
       "      <td>1</td>\n",
       "    </tr>\n",
       "    <tr>\n",
       "      <th>213</th>\n",
       "      <td>4</td>\n",
       "    </tr>\n",
       "    <tr>\n",
       "      <th>323</th>\n",
       "      <td>3</td>\n",
       "    </tr>\n",
       "    <tr>\n",
       "      <th>419</th>\n",
       "      <td>3</td>\n",
       "    </tr>\n",
       "    <tr>\n",
       "      <th>...</th>\n",
       "      <td>...</td>\n",
       "    </tr>\n",
       "    <tr>\n",
       "      <th>3004</th>\n",
       "      <td>2</td>\n",
       "    </tr>\n",
       "    <tr>\n",
       "      <th>3683</th>\n",
       "      <td>2</td>\n",
       "    </tr>\n",
       "    <tr>\n",
       "      <th>3770</th>\n",
       "      <td>2</td>\n",
       "    </tr>\n",
       "    <tr>\n",
       "      <th>3900</th>\n",
       "      <td>2</td>\n",
       "    </tr>\n",
       "    <tr>\n",
       "      <th>4356</th>\n",
       "      <td>3</td>\n",
       "    </tr>\n",
       "  </tbody>\n",
       "</table>\n",
       "<p>92 rows × 1 columns</p>\n",
       "</div>"
      ],
      "text/plain": [
       "              Income\n",
       "Capital_loss        \n",
       "0              30994\n",
       "155                1\n",
       "213                4\n",
       "323                3\n",
       "419                3\n",
       "...              ...\n",
       "3004               2\n",
       "3683               2\n",
       "3770               2\n",
       "3900               2\n",
       "4356               3\n",
       "\n",
       "[92 rows x 1 columns]"
      ]
     },
     "execution_count": 42,
     "metadata": {},
     "output_type": "execute_result"
    }
   ],
   "source": [
    "df.groupby('Capital_loss').count()[['Income']]"
   ]
  },
  {
   "cell_type": "code",
   "execution_count": 43,
   "id": "3225bfba",
   "metadata": {},
   "outputs": [
    {
     "data": {
      "text/plain": [
       "<AxesSubplot:xlabel='Capital_loss', ylabel='Count'>"
      ]
     },
     "execution_count": 43,
     "metadata": {},
     "output_type": "execute_result"
    },
    {
     "data": {
      "image/png": "[encoded data removed]",
      "text/plain": [
       "<Figure size 432x288 with 1 Axes>"
      ]
     },
     "metadata": {
      "needs_background": "light"
     },
     "output_type": "display_data"
    }
   ],
   "source": [
    "sns.histplot(df.Capital_loss,color=\"blue\",kde=True,stat=\"count\")"
   ]
  },
  {
   "cell_type": "markdown",
   "id": "14b1f199",
   "metadata": {},
   "source": [
    "Capital_loss with value as 0 have most of the data and we see that it is a bit right skewed"
   ]
  },
  {
   "cell_type": "code",
   "execution_count": 44,
   "id": "2971e10e",
   "metadata": {},
   "outputs": [
    {
     "data": {
      "text/html": [
       "<div>\n",
       "<style scoped>\n",
       "    .dataframe tbody tr th:only-of-type {\n",
       "        vertical-align: middle;\n",
       "    }\n",
       "\n",
       "    .dataframe tbody tr th {\n",
       "        vertical-align: top;\n",
       "    }\n",
       "\n",
       "    .dataframe thead th {\n",
       "        text-align: right;\n",
       "    }\n",
       "</style>\n",
       "<table border=\"1\" class=\"dataframe\">\n",
       "  <thead>\n",
       "    <tr style=\"text-align: right;\">\n",
       "      <th></th>\n",
       "      <th>Income</th>\n",
       "    </tr>\n",
       "    <tr>\n",
       "      <th>Hours_per_week</th>\n",
       "      <th></th>\n",
       "    </tr>\n",
       "  </thead>\n",
       "  <tbody>\n",
       "    <tr>\n",
       "      <th>1</th>\n",
       "      <td>20</td>\n",
       "    </tr>\n",
       "    <tr>\n",
       "      <th>2</th>\n",
       "      <td>32</td>\n",
       "    </tr>\n",
       "    <tr>\n",
       "      <th>3</th>\n",
       "      <td>39</td>\n",
       "    </tr>\n",
       "    <tr>\n",
       "      <th>4</th>\n",
       "      <td>54</td>\n",
       "    </tr>\n",
       "    <tr>\n",
       "      <th>5</th>\n",
       "      <td>60</td>\n",
       "    </tr>\n",
       "    <tr>\n",
       "      <th>...</th>\n",
       "      <td>...</td>\n",
       "    </tr>\n",
       "    <tr>\n",
       "      <th>95</th>\n",
       "      <td>2</td>\n",
       "    </tr>\n",
       "    <tr>\n",
       "      <th>96</th>\n",
       "      <td>5</td>\n",
       "    </tr>\n",
       "    <tr>\n",
       "      <th>97</th>\n",
       "      <td>2</td>\n",
       "    </tr>\n",
       "    <tr>\n",
       "      <th>98</th>\n",
       "      <td>11</td>\n",
       "    </tr>\n",
       "    <tr>\n",
       "      <th>99</th>\n",
       "      <td>85</td>\n",
       "    </tr>\n",
       "  </tbody>\n",
       "</table>\n",
       "<p>94 rows × 1 columns</p>\n",
       "</div>"
      ],
      "text/plain": [
       "                Income\n",
       "Hours_per_week        \n",
       "1                   20\n",
       "2                   32\n",
       "3                   39\n",
       "4                   54\n",
       "5                   60\n",
       "...                ...\n",
       "95                   2\n",
       "96                   5\n",
       "97                   2\n",
       "98                  11\n",
       "99                  85\n",
       "\n",
       "[94 rows x 1 columns]"
      ]
     },
     "execution_count": 44,
     "metadata": {},
     "output_type": "execute_result"
    }
   ],
   "source": [
    "df.groupby('Hours_per_week').count()[['Income']]"
   ]
  },
  {
   "cell_type": "code",
   "execution_count": 45,
   "id": "0794ecda",
   "metadata": {},
   "outputs": [
    {
     "data": {
      "text/plain": [
       "<AxesSubplot:xlabel='Hours_per_week', ylabel='Count'>"
      ]
     },
     "execution_count": 45,
     "metadata": {},
     "output_type": "execute_result"
    },
    {
     "data": {
      "image/png": "[encoded data removed]",
      "text/plain": [
       "<Figure size 432x288 with 1 Axes>"
      ]
     },
     "metadata": {
      "needs_background": "light"
     },
     "output_type": "display_data"
    }
   ],
   "source": [
    "sns.histplot(df.Hours_per_week,color=\"blue\",kde=True,stat=\"count\")"
   ]
  },
  {
   "cell_type": "markdown",
   "id": "f0a882a1",
   "metadata": {},
   "source": [
    "The graph is not skewed and looks like it is normally distributed"
   ]
  },
  {
   "cell_type": "code",
   "execution_count": 46,
   "id": "0295e33e",
   "metadata": {},
   "outputs": [
    {
     "data": {
      "text/html": [
       "<div>\n",
       "<style scoped>\n",
       "    .dataframe tbody tr th:only-of-type {\n",
       "        vertical-align: middle;\n",
       "    }\n",
       "\n",
       "    .dataframe tbody tr th {\n",
       "        vertical-align: top;\n",
       "    }\n",
       "\n",
       "    .dataframe thead th {\n",
       "        text-align: right;\n",
       "    }\n",
       "</style>\n",
       "<table border=\"1\" class=\"dataframe\">\n",
       "  <thead>\n",
       "    <tr style=\"text-align: right;\">\n",
       "      <th></th>\n",
       "      <th>Income</th>\n",
       "    </tr>\n",
       "    <tr>\n",
       "      <th>Native_country</th>\n",
       "      <th></th>\n",
       "    </tr>\n",
       "  </thead>\n",
       "  <tbody>\n",
       "    <tr>\n",
       "      <th>Cambodia</th>\n",
       "      <td>19</td>\n",
       "    </tr>\n",
       "    <tr>\n",
       "      <th>Canada</th>\n",
       "      <td>121</td>\n",
       "    </tr>\n",
       "    <tr>\n",
       "      <th>China</th>\n",
       "      <td>75</td>\n",
       "    </tr>\n",
       "    <tr>\n",
       "      <th>Columbia</th>\n",
       "      <td>59</td>\n",
       "    </tr>\n",
       "    <tr>\n",
       "      <th>Cuba</th>\n",
       "      <td>95</td>\n",
       "    </tr>\n",
       "    <tr>\n",
       "      <th>Dominican-Republic</th>\n",
       "      <td>70</td>\n",
       "    </tr>\n",
       "    <tr>\n",
       "      <th>Ecuador</th>\n",
       "      <td>28</td>\n",
       "    </tr>\n",
       "    <tr>\n",
       "      <th>El-Salvador</th>\n",
       "      <td>106</td>\n",
       "    </tr>\n",
       "    <tr>\n",
       "      <th>England</th>\n",
       "      <td>90</td>\n",
       "    </tr>\n",
       "    <tr>\n",
       "      <th>France</th>\n",
       "      <td>29</td>\n",
       "    </tr>\n",
       "    <tr>\n",
       "      <th>Germany</th>\n",
       "      <td>137</td>\n",
       "    </tr>\n",
       "    <tr>\n",
       "      <th>Greece</th>\n",
       "      <td>29</td>\n",
       "    </tr>\n",
       "    <tr>\n",
       "      <th>Guatemala</th>\n",
       "      <td>61</td>\n",
       "    </tr>\n",
       "    <tr>\n",
       "      <th>Haiti</th>\n",
       "      <td>44</td>\n",
       "    </tr>\n",
       "    <tr>\n",
       "      <th>Holand-Netherlands</th>\n",
       "      <td>1</td>\n",
       "    </tr>\n",
       "    <tr>\n",
       "      <th>Honduras</th>\n",
       "      <td>13</td>\n",
       "    </tr>\n",
       "    <tr>\n",
       "      <th>Hong</th>\n",
       "      <td>20</td>\n",
       "    </tr>\n",
       "    <tr>\n",
       "      <th>Hungary</th>\n",
       "      <td>13</td>\n",
       "    </tr>\n",
       "    <tr>\n",
       "      <th>India</th>\n",
       "      <td>100</td>\n",
       "    </tr>\n",
       "    <tr>\n",
       "      <th>Iran</th>\n",
       "      <td>43</td>\n",
       "    </tr>\n",
       "    <tr>\n",
       "      <th>Ireland</th>\n",
       "      <td>24</td>\n",
       "    </tr>\n",
       "    <tr>\n",
       "      <th>Italy</th>\n",
       "      <td>73</td>\n",
       "    </tr>\n",
       "    <tr>\n",
       "      <th>Jamaica</th>\n",
       "      <td>81</td>\n",
       "    </tr>\n",
       "    <tr>\n",
       "      <th>Japan</th>\n",
       "      <td>62</td>\n",
       "    </tr>\n",
       "    <tr>\n",
       "      <th>Laos</th>\n",
       "      <td>18</td>\n",
       "    </tr>\n",
       "    <tr>\n",
       "      <th>Mexico</th>\n",
       "      <td>635</td>\n",
       "    </tr>\n",
       "    <tr>\n",
       "      <th>Nicaragua</th>\n",
       "      <td>34</td>\n",
       "    </tr>\n",
       "    <tr>\n",
       "      <th>Outlying-US(Guam-USVI-etc)</th>\n",
       "      <td>14</td>\n",
       "    </tr>\n",
       "    <tr>\n",
       "      <th>Peru</th>\n",
       "      <td>31</td>\n",
       "    </tr>\n",
       "    <tr>\n",
       "      <th>Philippines</th>\n",
       "      <td>198</td>\n",
       "    </tr>\n",
       "    <tr>\n",
       "      <th>Poland</th>\n",
       "      <td>60</td>\n",
       "    </tr>\n",
       "    <tr>\n",
       "      <th>Portugal</th>\n",
       "      <td>37</td>\n",
       "    </tr>\n",
       "    <tr>\n",
       "      <th>Puerto-Rico</th>\n",
       "      <td>114</td>\n",
       "    </tr>\n",
       "    <tr>\n",
       "      <th>Scotland</th>\n",
       "      <td>12</td>\n",
       "    </tr>\n",
       "    <tr>\n",
       "      <th>South</th>\n",
       "      <td>80</td>\n",
       "    </tr>\n",
       "    <tr>\n",
       "      <th>Taiwan</th>\n",
       "      <td>51</td>\n",
       "    </tr>\n",
       "    <tr>\n",
       "      <th>Thailand</th>\n",
       "      <td>18</td>\n",
       "    </tr>\n",
       "    <tr>\n",
       "      <th>Trinadad&amp;Tobago</th>\n",
       "      <td>19</td>\n",
       "    </tr>\n",
       "    <tr>\n",
       "      <th>United-States</th>\n",
       "      <td>29716</td>\n",
       "    </tr>\n",
       "    <tr>\n",
       "      <th>Vietnam</th>\n",
       "      <td>67</td>\n",
       "    </tr>\n",
       "    <tr>\n",
       "      <th>Yugoslavia</th>\n",
       "      <td>16</td>\n",
       "    </tr>\n",
       "  </tbody>\n",
       "</table>\n",
       "</div>"
      ],
      "text/plain": [
       "                             Income\n",
       "Native_country                     \n",
       " Cambodia                        19\n",
       " Canada                         121\n",
       " China                           75\n",
       " Columbia                        59\n",
       " Cuba                            95\n",
       " Dominican-Republic              70\n",
       " Ecuador                         28\n",
       " El-Salvador                    106\n",
       " England                         90\n",
       " France                          29\n",
       " Germany                        137\n",
       " Greece                          29\n",
       " Guatemala                       61\n",
       " Haiti                           44\n",
       " Holand-Netherlands               1\n",
       " Honduras                        13\n",
       " Hong                            20\n",
       " Hungary                         13\n",
       " India                          100\n",
       " Iran                            43\n",
       " Ireland                         24\n",
       " Italy                           73\n",
       " Jamaica                         81\n",
       " Japan                           62\n",
       " Laos                            18\n",
       " Mexico                         635\n",
       " Nicaragua                       34\n",
       " Outlying-US(Guam-USVI-etc)      14\n",
       " Peru                            31\n",
       " Philippines                    198\n",
       " Poland                          60\n",
       " Portugal                        37\n",
       " Puerto-Rico                    114\n",
       " Scotland                        12\n",
       " South                           80\n",
       " Taiwan                          51\n",
       " Thailand                        18\n",
       " Trinadad&Tobago                 19\n",
       " United-States                29716\n",
       " Vietnam                         67\n",
       " Yugoslavia                      16"
      ]
     },
     "execution_count": 46,
     "metadata": {},
     "output_type": "execute_result"
    }
   ],
   "source": [
    "df.groupby('Native_country').count()[['Income']]"
   ]
  },
  {
   "cell_type": "markdown",
   "id": "dce81a0e",
   "metadata": {},
   "source": [
    "We see that United States have maximum count and all other country are non-US country."
   ]
  },
  {
   "cell_type": "code",
   "execution_count": 47,
   "id": "f6846116",
   "metadata": {},
   "outputs": [
    {
     "data": {
      "text/plain": [
       "USA        29716\n",
       "Non-USA     2797\n",
       "Name: Native_country, dtype: int64"
      ]
     },
     "execution_count": 47,
     "metadata": {},
     "output_type": "execute_result"
    }
   ],
   "source": [
    "df['Native_country'].loc[df['Native_country'] ==' United-States'] = 'USA'\n",
    "df['Native_country'].loc[df['Native_country'] != 'USA'] = 'Non-USA'\n",
    "df['Native_country'].value_counts()"
   ]
  },
  {
   "cell_type": "code",
   "execution_count": 48,
   "id": "585ec91e",
   "metadata": {},
   "outputs": [
    {
     "data": {
      "image/png": "[encoded data removed]",
      "text/plain": [
       "<Figure size 432x288 with 1 Axes>"
      ]
     },
     "metadata": {
      "needs_background": "light"
     },
     "output_type": "display_data"
    }
   ],
   "source": [
    "ax = sns.countplot(x=\"Native_country\", data=df,hue='Income')\n",
    "\n",
    "ax.set_xticklabels(ax.get_xticklabels(), rotation=40, ha=\"right\")\n",
    "plt.tight_layout()\n",
    "plt.show()"
   ]
  },
  {
   "cell_type": "markdown",
   "id": "d6133b79",
   "metadata": {},
   "source": [
    "People in USA earn more than people in all other countries apart from USA"
   ]
  },
  {
   "cell_type": "code",
   "execution_count": 49,
   "id": "c3c3c47e",
   "metadata": {},
   "outputs": [
    {
     "data": {
      "text/plain": [
       " <=50K    75.9%\n",
       " >50K     24.1%\n",
       "Name: Income, dtype: object"
      ]
     },
     "execution_count": 49,
     "metadata": {},
     "output_type": "execute_result"
    }
   ],
   "source": [
    "# Checking the counts of Income(Label category)\n",
    "income = df['Income'].value_counts(normalize=True)\n",
    "round(income * 100, 2).astype('str')+'%'"
   ]
  },
  {
   "cell_type": "markdown",
   "id": "f05e00f1",
   "metadata": {},
   "source": [
    "75.9% of the people are those who earn less than 50K and 24.1% earn more than 50K"
   ]
  },
  {
   "cell_type": "code",
   "execution_count": 51,
   "id": "0defcf77",
   "metadata": {},
   "outputs": [
    {
     "data": {
      "text/plain": [
       "<AxesSubplot:xlabel='Income', ylabel='count'>"
      ]
     },
     "execution_count": 51,
     "metadata": {},
     "output_type": "execute_result"
    },
    {
     "data": {
      "image/png": "[encoded data removed]",
      "text/plain": [
       "<Figure size 432x288 with 1 Axes>"
      ]
     },
     "metadata": {
      "needs_background": "light"
     },
     "output_type": "display_data"
    }
   ],
   "source": [
    "sns.countplot(df['Income'])"
   ]
  },
  {
   "cell_type": "markdown",
   "id": "06b72b2c",
   "metadata": {},
   "source": [
    "The data is a bit imbalanced and we will use SMOTE to deal with it further"
   ]
  },
  {
   "cell_type": "markdown",
   "id": "c3a00f2b",
   "metadata": {},
   "source": [
    "# Deal with Object DataTypes"
   ]
  },
  {
   "cell_type": "code",
   "execution_count": 52,
   "id": "d5a12521",
   "metadata": {},
   "outputs": [
    {
     "data": {
      "text/plain": [
       "['Workclass',\n",
       " 'Marital_status',\n",
       " 'Occupation',\n",
       " 'Relationship',\n",
       " 'Race',\n",
       " 'Sex',\n",
       " 'Native_country',\n",
       " 'Income']"
      ]
     },
     "execution_count": 52,
     "metadata": {},
     "output_type": "execute_result"
    }
   ],
   "source": [
    "categorical_columns=[x for x in df.dtypes.index if df.dtypes[x]=='object']\n",
    "categorical_columns"
   ]
  },
  {
   "cell_type": "code",
   "execution_count": 53,
   "id": "16476a1c",
   "metadata": {},
   "outputs": [],
   "source": [
    "from sklearn.preprocessing import LabelEncoder\n",
    "le= LabelEncoder()\n",
    "for i in range(0,df.shape[1]):\n",
    "    if df.dtypes[i]=='object':\n",
    "        df[df.columns[i]] = le.fit_transform(df[df.columns[i]])"
   ]
  },
  {
   "cell_type": "code",
   "execution_count": 54,
   "id": "1fa9ad75",
   "metadata": {},
   "outputs": [
    {
     "data": {
      "text/html": [
       "<div>\n",
       "<style scoped>\n",
       "    .dataframe tbody tr th:only-of-type {\n",
       "        vertical-align: middle;\n",
       "    }\n",
       "\n",
       "    .dataframe tbody tr th {\n",
       "        vertical-align: top;\n",
       "    }\n",
       "\n",
       "    .dataframe thead th {\n",
       "        text-align: right;\n",
       "    }\n",
       "</style>\n",
       "<table border=\"1\" class=\"dataframe\">\n",
       "  <thead>\n",
       "    <tr style=\"text-align: right;\">\n",
       "      <th></th>\n",
       "      <th>Age</th>\n",
       "      <th>Workclass</th>\n",
       "      <th>Fnlwgt</th>\n",
       "      <th>Education_num</th>\n",
       "      <th>Marital_status</th>\n",
       "      <th>Occupation</th>\n",
       "      <th>Relationship</th>\n",
       "      <th>Race</th>\n",
       "      <th>Sex</th>\n",
       "      <th>Capital_gain</th>\n",
       "      <th>Capital_loss</th>\n",
       "      <th>Hours_per_week</th>\n",
       "      <th>Native_country</th>\n",
       "      <th>Income</th>\n",
       "    </tr>\n",
       "  </thead>\n",
       "  <tbody>\n",
       "    <tr>\n",
       "      <th>32555</th>\n",
       "      <td>27</td>\n",
       "      <td>2</td>\n",
       "      <td>257302</td>\n",
       "      <td>12</td>\n",
       "      <td>2</td>\n",
       "      <td>12</td>\n",
       "      <td>5</td>\n",
       "      <td>4</td>\n",
       "      <td>0</td>\n",
       "      <td>0</td>\n",
       "      <td>0</td>\n",
       "      <td>38</td>\n",
       "      <td>1</td>\n",
       "      <td>0</td>\n",
       "    </tr>\n",
       "    <tr>\n",
       "      <th>32556</th>\n",
       "      <td>40</td>\n",
       "      <td>2</td>\n",
       "      <td>154374</td>\n",
       "      <td>9</td>\n",
       "      <td>2</td>\n",
       "      <td>6</td>\n",
       "      <td>0</td>\n",
       "      <td>4</td>\n",
       "      <td>1</td>\n",
       "      <td>0</td>\n",
       "      <td>0</td>\n",
       "      <td>40</td>\n",
       "      <td>1</td>\n",
       "      <td>1</td>\n",
       "    </tr>\n",
       "    <tr>\n",
       "      <th>32557</th>\n",
       "      <td>58</td>\n",
       "      <td>2</td>\n",
       "      <td>151910</td>\n",
       "      <td>9</td>\n",
       "      <td>6</td>\n",
       "      <td>0</td>\n",
       "      <td>4</td>\n",
       "      <td>4</td>\n",
       "      <td>0</td>\n",
       "      <td>0</td>\n",
       "      <td>0</td>\n",
       "      <td>40</td>\n",
       "      <td>1</td>\n",
       "      <td>0</td>\n",
       "    </tr>\n",
       "    <tr>\n",
       "      <th>32558</th>\n",
       "      <td>22</td>\n",
       "      <td>2</td>\n",
       "      <td>201490</td>\n",
       "      <td>9</td>\n",
       "      <td>4</td>\n",
       "      <td>0</td>\n",
       "      <td>3</td>\n",
       "      <td>4</td>\n",
       "      <td>1</td>\n",
       "      <td>0</td>\n",
       "      <td>0</td>\n",
       "      <td>20</td>\n",
       "      <td>1</td>\n",
       "      <td>0</td>\n",
       "    </tr>\n",
       "    <tr>\n",
       "      <th>32559</th>\n",
       "      <td>52</td>\n",
       "      <td>3</td>\n",
       "      <td>287927</td>\n",
       "      <td>9</td>\n",
       "      <td>2</td>\n",
       "      <td>3</td>\n",
       "      <td>5</td>\n",
       "      <td>4</td>\n",
       "      <td>0</td>\n",
       "      <td>15024</td>\n",
       "      <td>0</td>\n",
       "      <td>40</td>\n",
       "      <td>1</td>\n",
       "      <td>1</td>\n",
       "    </tr>\n",
       "  </tbody>\n",
       "</table>\n",
       "</div>"
      ],
      "text/plain": [
       "       Age  Workclass  Fnlwgt  Education_num  Marital_status  Occupation  \\\n",
       "32555   27          2  257302             12               2          12   \n",
       "32556   40          2  154374              9               2           6   \n",
       "32557   58          2  151910              9               6           0   \n",
       "32558   22          2  201490              9               4           0   \n",
       "32559   52          3  287927              9               2           3   \n",
       "\n",
       "       Relationship  Race  Sex  Capital_gain  Capital_loss  Hours_per_week  \\\n",
       "32555             5     4    0             0             0              38   \n",
       "32556             0     4    1             0             0              40   \n",
       "32557             4     4    0             0             0              40   \n",
       "32558             3     4    1             0             0              20   \n",
       "32559             5     4    0         15024             0              40   \n",
       "\n",
       "       Native_country  Income  \n",
       "32555               1       0  \n",
       "32556               1       1  \n",
       "32557               1       0  \n",
       "32558               1       0  \n",
       "32559               1       1  "
      ]
     },
     "execution_count": 54,
     "metadata": {},
     "output_type": "execute_result"
    }
   ],
   "source": [
    "df.tail()"
   ]
  },
  {
   "cell_type": "code",
   "execution_count": 55,
   "id": "6f8ed72b",
   "metadata": {},
   "outputs": [
    {
     "data": {
      "text/plain": [
       "(32513, 14)"
      ]
     },
     "execution_count": 55,
     "metadata": {},
     "output_type": "execute_result"
    }
   ],
   "source": [
    "df.shape"
   ]
  },
  {
   "cell_type": "markdown",
   "id": "3ecbdf48",
   "metadata": {},
   "source": [
    "# Heatmap"
   ]
  },
  {
   "cell_type": "code",
   "execution_count": 58,
   "id": "bd494a39",
   "metadata": {},
   "outputs": [
    {
     "data": {
      "text/plain": [
       "<AxesSubplot:>"
      ]
     },
     "execution_count": 58,
     "metadata": {},
     "output_type": "execute_result"
    },
    {
     "data": {
      "image/png": "[encoded data removed]",
      "text/plain": [
       "<Figure size 720x720 with 2 Axes>"
      ]
     },
     "metadata": {
      "needs_background": "light"
     },
     "output_type": "display_data"
    }
   ],
   "source": [
    "plt.figure(figsize=(10,10))\n",
    "sns.heatmap(df.corr(),annot=True)"
   ]
  },
  {
   "cell_type": "markdown",
   "id": "ec8e4678",
   "metadata": {},
   "source": [
    "No two columns are highly correlated with each other. "
   ]
  },
  {
   "cell_type": "markdown",
   "id": "0ada68d1",
   "metadata": {},
   "source": [
    "# Outlier Checking"
   ]
  },
  {
   "cell_type": "code",
   "execution_count": 56,
   "id": "820b9675",
   "metadata": {},
   "outputs": [
    {
     "data": {
      "text/html": [
       "<div>\n",
       "<style scoped>\n",
       "    .dataframe tbody tr th:only-of-type {\n",
       "        vertical-align: middle;\n",
       "    }\n",
       "\n",
       "    .dataframe tbody tr th {\n",
       "        vertical-align: top;\n",
       "    }\n",
       "\n",
       "    .dataframe thead th {\n",
       "        text-align: right;\n",
       "    }\n",
       "</style>\n",
       "<table border=\"1\" class=\"dataframe\">\n",
       "  <thead>\n",
       "    <tr style=\"text-align: right;\">\n",
       "      <th></th>\n",
       "      <th>Age</th>\n",
       "      <th>Workclass</th>\n",
       "      <th>Education_num</th>\n",
       "      <th>Marital_status</th>\n",
       "      <th>Occupation</th>\n",
       "      <th>Relationship</th>\n",
       "      <th>Race</th>\n",
       "      <th>Sex</th>\n",
       "      <th>Capital_gain</th>\n",
       "      <th>Capital_loss</th>\n",
       "      <th>Native_country</th>\n",
       "    </tr>\n",
       "  </thead>\n",
       "  <tbody>\n",
       "    <tr>\n",
       "      <th>0</th>\n",
       "      <td>50</td>\n",
       "      <td>4</td>\n",
       "      <td>13</td>\n",
       "      <td>2</td>\n",
       "      <td>3</td>\n",
       "      <td>0</td>\n",
       "      <td>4</td>\n",
       "      <td>1</td>\n",
       "      <td>0</td>\n",
       "      <td>0</td>\n",
       "      <td>1</td>\n",
       "    </tr>\n",
       "    <tr>\n",
       "      <th>1</th>\n",
       "      <td>38</td>\n",
       "      <td>2</td>\n",
       "      <td>9</td>\n",
       "      <td>0</td>\n",
       "      <td>5</td>\n",
       "      <td>1</td>\n",
       "      <td>4</td>\n",
       "      <td>1</td>\n",
       "      <td>0</td>\n",
       "      <td>0</td>\n",
       "      <td>1</td>\n",
       "    </tr>\n",
       "  </tbody>\n",
       "</table>\n",
       "</div>"
      ],
      "text/plain": [
       "   Age  Workclass  Education_num  Marital_status  Occupation  Relationship  \\\n",
       "0   50          4             13               2           3             0   \n",
       "1   38          2              9               0           5             1   \n",
       "\n",
       "   Race  Sex  Capital_gain  Capital_loss  Native_country  \n",
       "0     4    1             0             0               1  \n",
       "1     4    1             0             0               1  "
      ]
     },
     "execution_count": 56,
     "metadata": {},
     "output_type": "execute_result"
    }
   ],
   "source": [
    "dataToPlot=df.drop(columns= ['Income','Hours_per_week','Fnlwgt'])\n",
    "dataToPlot.head(2)"
   ]
  },
  {
   "cell_type": "code",
   "execution_count": 57,
   "id": "d0d5aad9",
   "metadata": {},
   "outputs": [
    {
     "data": {
      "text/html": [
       "<div>\n",
       "<style scoped>\n",
       "    .dataframe tbody tr th:only-of-type {\n",
       "        vertical-align: middle;\n",
       "    }\n",
       "\n",
       "    .dataframe tbody tr th {\n",
       "        vertical-align: top;\n",
       "    }\n",
       "\n",
       "    .dataframe thead th {\n",
       "        text-align: right;\n",
       "    }\n",
       "</style>\n",
       "<table border=\"1\" class=\"dataframe\">\n",
       "  <thead>\n",
       "    <tr style=\"text-align: right;\">\n",
       "      <th></th>\n",
       "      <th>Income</th>\n",
       "    </tr>\n",
       "  </thead>\n",
       "  <tbody>\n",
       "    <tr>\n",
       "      <th>0</th>\n",
       "      <td>0</td>\n",
       "    </tr>\n",
       "    <tr>\n",
       "      <th>1</th>\n",
       "      <td>0</td>\n",
       "    </tr>\n",
       "  </tbody>\n",
       "</table>\n",
       "</div>"
      ],
      "text/plain": [
       "   Income\n",
       "0       0\n",
       "1       0"
      ]
     },
     "execution_count": 57,
     "metadata": {},
     "output_type": "execute_result"
    }
   ],
   "source": [
    "targetToPlot=df.loc[:, df.columns == 'Income']\n",
    "targetToPlot.head(2)"
   ]
  },
  {
   "cell_type": "code",
   "execution_count": 58,
   "id": "cda62e4a",
   "metadata": {},
   "outputs": [
    {
     "data": {
      "image/png": "[encoded data removed]",
      "text/plain": [
       "<Figure size 864x576 with 11 Axes>"
      ]
     },
     "metadata": {},
     "output_type": "display_data"
    }
   ],
   "source": [
    "#Lets see data distribution now using Boxplot\n",
    "plt.figure(figsize=(12,8),facecolor='orange')\n",
    "graph=1\n",
    "\n",
    "for column in dataToPlot:\n",
    "    \n",
    "    if graph<=12:\n",
    "        ax=plt.subplot(3,4,graph)        \n",
    "        sns.boxplot(dataToPlot[column])\n",
    "        plt.xlabel(column,fontsize=11)\n",
    "        \n",
    "    graph+=1   \n",
    "    \n",
    "plt.tight_layout()"
   ]
  },
  {
   "cell_type": "markdown",
   "id": "a81e1468",
   "metadata": {},
   "source": [
    "Capital_gain and Capital_loss have maximum outliers, so lets deal with it now"
   ]
  },
  {
   "cell_type": "code",
   "execution_count": 59,
   "id": "db5a7c23",
   "metadata": {},
   "outputs": [
    {
     "data": {
      "text/plain": [
       "(32513, 10)"
      ]
     },
     "execution_count": 59,
     "metadata": {},
     "output_type": "execute_result"
    }
   ],
   "source": [
    "from scipy.stats import zscore\n",
    "z=np.abs(zscore(df.loc[:,'Fnlwgt':'Hours_per_week']))\n",
    "z.shape"
   ]
  },
  {
   "cell_type": "code",
   "execution_count": 60,
   "id": "da8baa67",
   "metadata": {},
   "outputs": [
    {
     "name": "stdout",
     "output_type": "stream",
     "text": [
      "(array([    9,    10,    13, ..., 32485, 32503, 32505], dtype=int64), array([9, 5, 5, ..., 5, 5, 5], dtype=int64))\n"
     ]
    }
   ],
   "source": [
    "threshold=3\n",
    "print(np.where(z>3))"
   ]
  },
  {
   "cell_type": "code",
   "execution_count": 61,
   "id": "a01e685a",
   "metadata": {},
   "outputs": [
    {
     "name": "stdout",
     "output_type": "stream",
     "text": [
      "(32513, 14)\n",
      "(28647, 14)\n"
     ]
    }
   ],
   "source": [
    "df_new=df[(z<3).all(axis=1)]\n",
    "print(df.shape)\n",
    "print(df_new.shape)"
   ]
  },
  {
   "cell_type": "code",
   "execution_count": 62,
   "id": "57af90ff",
   "metadata": {},
   "outputs": [
    {
     "data": {
      "text/plain": [
       "8.338203180266355"
      ]
     },
     "execution_count": 62,
     "metadata": {},
     "output_type": "execute_result"
    }
   ],
   "source": [
    "((32513-29802)/32513)*100"
   ]
  },
  {
   "cell_type": "markdown",
   "id": "715954e2",
   "metadata": {},
   "source": [
    "Our deletion range should not be more than 5%, and it is more than 8.3%, so we are not deleting any data."
   ]
  },
  {
   "cell_type": "markdown",
   "id": "abea63f4",
   "metadata": {},
   "source": [
    "# Skewness"
   ]
  },
  {
   "cell_type": "code",
   "execution_count": 63,
   "id": "73899d52",
   "metadata": {},
   "outputs": [],
   "source": [
    "df_features=df.drop(columns=['Income'])"
   ]
  },
  {
   "cell_type": "code",
   "execution_count": 64,
   "id": "f1b0b7ee",
   "metadata": {},
   "outputs": [
    {
     "data": {
      "text/html": [
       "<div>\n",
       "<style scoped>\n",
       "    .dataframe tbody tr th:only-of-type {\n",
       "        vertical-align: middle;\n",
       "    }\n",
       "\n",
       "    .dataframe tbody tr th {\n",
       "        vertical-align: top;\n",
       "    }\n",
       "\n",
       "    .dataframe thead th {\n",
       "        text-align: right;\n",
       "    }\n",
       "</style>\n",
       "<table border=\"1\" class=\"dataframe\">\n",
       "  <thead>\n",
       "    <tr style=\"text-align: right;\">\n",
       "      <th></th>\n",
       "      <th>Skewness</th>\n",
       "    </tr>\n",
       "  </thead>\n",
       "  <tbody>\n",
       "    <tr>\n",
       "      <th>Age</th>\n",
       "      <td>0.556620</td>\n",
       "    </tr>\n",
       "    <tr>\n",
       "      <th>Workclass</th>\n",
       "      <td>1.223217</td>\n",
       "    </tr>\n",
       "    <tr>\n",
       "      <th>Fnlwgt</th>\n",
       "      <td>1.448435</td>\n",
       "    </tr>\n",
       "    <tr>\n",
       "      <th>Education_num</th>\n",
       "      <td>-0.307798</td>\n",
       "    </tr>\n",
       "    <tr>\n",
       "      <th>Marital_status</th>\n",
       "      <td>-0.011997</td>\n",
       "    </tr>\n",
       "    <tr>\n",
       "      <th>Occupation</th>\n",
       "      <td>0.000239</td>\n",
       "    </tr>\n",
       "    <tr>\n",
       "      <th>Relationship</th>\n",
       "      <td>0.786279</td>\n",
       "    </tr>\n",
       "    <tr>\n",
       "      <th>Race</th>\n",
       "      <td>-2.435289</td>\n",
       "    </tr>\n",
       "    <tr>\n",
       "      <th>Sex</th>\n",
       "      <td>-0.719458</td>\n",
       "    </tr>\n",
       "    <tr>\n",
       "      <th>Capital_gain</th>\n",
       "      <td>11.944984</td>\n",
       "    </tr>\n",
       "    <tr>\n",
       "      <th>Capital_loss</th>\n",
       "      <td>4.590775</td>\n",
       "    </tr>\n",
       "    <tr>\n",
       "      <th>Hours_per_week</th>\n",
       "      <td>0.229877</td>\n",
       "    </tr>\n",
       "    <tr>\n",
       "      <th>Native_country</th>\n",
       "      <td>-2.952824</td>\n",
       "    </tr>\n",
       "  </tbody>\n",
       "</table>\n",
       "</div>"
      ],
      "text/plain": [
       "                 Skewness\n",
       "Age              0.556620\n",
       "Workclass        1.223217\n",
       "Fnlwgt           1.448435\n",
       "Education_num   -0.307798\n",
       "Marital_status  -0.011997\n",
       "Occupation       0.000239\n",
       "Relationship     0.786279\n",
       "Race            -2.435289\n",
       "Sex             -0.719458\n",
       "Capital_gain    11.944984\n",
       "Capital_loss     4.590775\n",
       "Hours_per_week   0.229877\n",
       "Native_country  -2.952824"
      ]
     },
     "execution_count": 64,
     "metadata": {},
     "output_type": "execute_result"
    }
   ],
   "source": [
    "#Check Data Skewness\n",
    "skew_df=pd.DataFrame({'Skewness':df_features.skew()}) \n",
    "skew_df"
   ]
  },
  {
   "cell_type": "code",
   "execution_count": 65,
   "id": "aec169b4",
   "metadata": {},
   "outputs": [
    {
     "name": "stdout",
     "output_type": "stream",
     "text": [
      "Out of 13 features 9 are skewed\n"
     ]
    }
   ],
   "source": [
    "print(\"Out of\",len(df_features.skew()),\"features\",len(df_features.skew().loc[abs(df_features.skew())>0.5]) ,\"are skewed\")"
   ]
  },
  {
   "cell_type": "markdown",
   "id": "18f3739e",
   "metadata": {},
   "source": [
    "# Log1P Transformation"
   ]
  },
  {
   "cell_type": "code",
   "execution_count": 66,
   "id": "1ef3860c",
   "metadata": {},
   "outputs": [
    {
     "name": "stdout",
     "output_type": "stream",
     "text": [
      "Age              -0.114332\n",
      "Workclass         1.299376\n",
      "Fnlwgt           -0.670704\n",
      "Education_num    -0.307798\n",
      "Marital_status   -0.011997\n",
      "Occupation        0.000239\n",
      "Relationship      0.284999\n",
      "Race             -2.120253\n",
      "Sex              -0.719458\n",
      "Capital_gain      3.093910\n",
      "Capital_loss      4.303864\n",
      "Hours_per_week    0.229877\n",
      "Native_country   -2.952824\n",
      "dtype: float64\n",
      "Out of 13 features 7 is skewed and has improved skewness value than previous skewness values\n"
     ]
    }
   ],
   "source": [
    "for index in df_features.skew().index:\n",
    "    if df_features.skew().loc[index]>0.5:\n",
    "        df_features[index]=np.log1p(df_features[index])\n",
    "    if df_features.skew().loc[index]<-0.5:\n",
    "        df_features[index]=np.square(df_features[index])\n",
    "print(df_features.skew())\n",
    "print(\"Out of\",len(df_features.skew()),\"features\",len(df_features.skew().loc[abs(df_features.skew())>0.5]) \n",
    "      ,\"is skewed and has improved skewness value than previous skewness values\")"
   ]
  },
  {
   "cell_type": "markdown",
   "id": "8aeb4fa4",
   "metadata": {},
   "source": [
    "# Dividing into Features and Target"
   ]
  },
  {
   "cell_type": "code",
   "execution_count": 67,
   "id": "12ffbfe3",
   "metadata": {},
   "outputs": [
    {
     "data": {
      "text/plain": [
       "(32513, 13)"
      ]
     },
     "execution_count": 67,
     "metadata": {},
     "output_type": "execute_result"
    }
   ],
   "source": [
    "df_features=df.drop(columns=['Income'])\n",
    "df_features.shape"
   ]
  },
  {
   "cell_type": "code",
   "execution_count": 68,
   "id": "2cce3006",
   "metadata": {},
   "outputs": [
    {
     "data": {
      "text/plain": [
       "(32513, 1)"
      ]
     },
     "execution_count": 68,
     "metadata": {},
     "output_type": "execute_result"
    }
   ],
   "source": [
    "target=df[[\"Income\"]]\n",
    "target.shape"
   ]
  },
  {
   "cell_type": "code",
   "execution_count": 69,
   "id": "ca70691d",
   "metadata": {},
   "outputs": [],
   "source": [
    "from sklearn.preprocessing import StandardScaler\n",
    "sc=StandardScaler()\n",
    "\n",
    "x=sc.fit_transform(df)"
   ]
  },
  {
   "cell_type": "code",
   "execution_count": 70,
   "id": "7aa3f59f",
   "metadata": {},
   "outputs": [
    {
     "data": {
      "text/html": [
       "<div>\n",
       "<style scoped>\n",
       "    .dataframe tbody tr th:only-of-type {\n",
       "        vertical-align: middle;\n",
       "    }\n",
       "\n",
       "    .dataframe tbody tr th {\n",
       "        vertical-align: top;\n",
       "    }\n",
       "\n",
       "    .dataframe thead th {\n",
       "        text-align: right;\n",
       "    }\n",
       "</style>\n",
       "<table border=\"1\" class=\"dataframe\">\n",
       "  <thead>\n",
       "    <tr style=\"text-align: right;\">\n",
       "      <th></th>\n",
       "      <th>Age</th>\n",
       "      <th>Workclass</th>\n",
       "      <th>Fnlwgt</th>\n",
       "      <th>Education_num</th>\n",
       "      <th>Marital_status</th>\n",
       "      <th>Occupation</th>\n",
       "      <th>Relationship</th>\n",
       "      <th>Race</th>\n",
       "      <th>Sex</th>\n",
       "      <th>Capital_gain</th>\n",
       "      <th>Capital_loss</th>\n",
       "      <th>Hours_per_week</th>\n",
       "      <th>Native_country</th>\n",
       "      <th>Income</th>\n",
       "    </tr>\n",
       "  </thead>\n",
       "  <tbody>\n",
       "    <tr>\n",
       "      <th>0</th>\n",
       "      <td>50</td>\n",
       "      <td>4</td>\n",
       "      <td>83311</td>\n",
       "      <td>13</td>\n",
       "      <td>2</td>\n",
       "      <td>3</td>\n",
       "      <td>0</td>\n",
       "      <td>4</td>\n",
       "      <td>1</td>\n",
       "      <td>0</td>\n",
       "      <td>0</td>\n",
       "      <td>13</td>\n",
       "      <td>1</td>\n",
       "      <td>0</td>\n",
       "    </tr>\n",
       "  </tbody>\n",
       "</table>\n",
       "</div>"
      ],
      "text/plain": [
       "   Age  Workclass  Fnlwgt  Education_num  Marital_status  Occupation  \\\n",
       "0   50          4   83311             13               2           3   \n",
       "\n",
       "   Relationship  Race  Sex  Capital_gain  Capital_loss  Hours_per_week  \\\n",
       "0             0     4    1             0             0              13   \n",
       "\n",
       "   Native_country  Income  \n",
       "0               1       0  "
      ]
     },
     "execution_count": 70,
     "metadata": {},
     "output_type": "execute_result"
    }
   ],
   "source": [
    "X_vif=df\n",
    "X_vif.head(1)"
   ]
  },
  {
   "cell_type": "code",
   "execution_count": 71,
   "id": "73d84450",
   "metadata": {},
   "outputs": [
    {
     "data": {
      "text/html": [
       "<div>\n",
       "<style scoped>\n",
       "    .dataframe tbody tr th:only-of-type {\n",
       "        vertical-align: middle;\n",
       "    }\n",
       "\n",
       "    .dataframe tbody tr th {\n",
       "        vertical-align: top;\n",
       "    }\n",
       "\n",
       "    .dataframe thead th {\n",
       "        text-align: right;\n",
       "    }\n",
       "</style>\n",
       "<table border=\"1\" class=\"dataframe\">\n",
       "  <thead>\n",
       "    <tr style=\"text-align: right;\">\n",
       "      <th></th>\n",
       "      <th>vif</th>\n",
       "      <th>features</th>\n",
       "    </tr>\n",
       "  </thead>\n",
       "  <tbody>\n",
       "    <tr>\n",
       "      <th>0</th>\n",
       "      <td>1.192402</td>\n",
       "      <td>Age</td>\n",
       "    </tr>\n",
       "    <tr>\n",
       "      <th>1</th>\n",
       "      <td>1.015729</td>\n",
       "      <td>Workclass</td>\n",
       "    </tr>\n",
       "    <tr>\n",
       "      <th>2</th>\n",
       "      <td>1.015717</td>\n",
       "      <td>Fnlwgt</td>\n",
       "    </tr>\n",
       "    <tr>\n",
       "      <th>3</th>\n",
       "      <td>1.176061</td>\n",
       "      <td>Education_num</td>\n",
       "    </tr>\n",
       "    <tr>\n",
       "      <th>4</th>\n",
       "      <td>1.136309</td>\n",
       "      <td>Marital_status</td>\n",
       "    </tr>\n",
       "    <tr>\n",
       "      <th>5</th>\n",
       "      <td>1.010776</td>\n",
       "      <td>Occupation</td>\n",
       "    </tr>\n",
       "    <tr>\n",
       "      <th>6</th>\n",
       "      <td>1.686789</td>\n",
       "      <td>Relationship</td>\n",
       "    </tr>\n",
       "    <tr>\n",
       "      <th>7</th>\n",
       "      <td>1.066082</td>\n",
       "      <td>Race</td>\n",
       "    </tr>\n",
       "    <tr>\n",
       "      <th>8</th>\n",
       "      <td>1.579781</td>\n",
       "      <td>Sex</td>\n",
       "    </tr>\n",
       "    <tr>\n",
       "      <th>9</th>\n",
       "      <td>1.063334</td>\n",
       "      <td>Capital_gain</td>\n",
       "    </tr>\n",
       "    <tr>\n",
       "      <th>10</th>\n",
       "      <td>1.030673</td>\n",
       "      <td>Capital_loss</td>\n",
       "    </tr>\n",
       "    <tr>\n",
       "      <th>11</th>\n",
       "      <td>1.142991</td>\n",
       "      <td>Hours_per_week</td>\n",
       "    </tr>\n",
       "    <tr>\n",
       "      <th>12</th>\n",
       "      <td>1.067847</td>\n",
       "      <td>Native_country</td>\n",
       "    </tr>\n",
       "    <tr>\n",
       "      <th>13</th>\n",
       "      <td>1.354312</td>\n",
       "      <td>Income</td>\n",
       "    </tr>\n",
       "  </tbody>\n",
       "</table>\n",
       "</div>"
      ],
      "text/plain": [
       "         vif        features\n",
       "0   1.192402             Age\n",
       "1   1.015729       Workclass\n",
       "2   1.015717          Fnlwgt\n",
       "3   1.176061   Education_num\n",
       "4   1.136309  Marital_status\n",
       "5   1.010776      Occupation\n",
       "6   1.686789    Relationship\n",
       "7   1.066082            Race\n",
       "8   1.579781             Sex\n",
       "9   1.063334    Capital_gain\n",
       "10  1.030673    Capital_loss\n",
       "11  1.142991  Hours_per_week\n",
       "12  1.067847  Native_country\n",
       "13  1.354312          Income"
      ]
     },
     "execution_count": 71,
     "metadata": {},
     "output_type": "execute_result"
    }
   ],
   "source": [
    "from statsmodels.stats.outliers_influence import variance_inflation_factor\n",
    "vif=pd.DataFrame()\n",
    "vif['vif']=[variance_inflation_factor(x,i) for i in range(x.shape[1])]\n",
    "vif['features']=X_vif.columns\n",
    "\n",
    "# Let's check the values now\n",
    "vif"
   ]
  },
  {
   "cell_type": "markdown",
   "id": "723b2a96",
   "metadata": {},
   "source": [
    "We dont see any multicollinearity problem here, Hence we are good to go"
   ]
  },
  {
   "cell_type": "code",
   "execution_count": 72,
   "id": "bb27f6e7",
   "metadata": {},
   "outputs": [],
   "source": [
    "features=df.drop(columns=['Income'])"
   ]
  },
  {
   "cell_type": "markdown",
   "id": "e2485738",
   "metadata": {},
   "source": [
    "# Feature Importance"
   ]
  },
  {
   "cell_type": "code",
   "execution_count": 73,
   "id": "9ab7dd2d",
   "metadata": {},
   "outputs": [
    {
     "data": {
      "text/plain": [
       "((32513, 13), (32513, 1))"
      ]
     },
     "execution_count": 73,
     "metadata": {},
     "output_type": "execute_result"
    }
   ],
   "source": [
    "features.shape, target.shape"
   ]
  },
  {
   "cell_type": "code",
   "execution_count": 74,
   "id": "a22717c6",
   "metadata": {},
   "outputs": [
    {
     "name": "stdout",
     "output_type": "stream",
     "text": [
      "[0.12354906 0.03509735 0.19945723 0.12629113 0.00701974 0.06219235\n",
      " 0.19818657 0.01369332 0.00367172 0.11327374 0.03686267 0.07305142\n",
      " 0.0076537 ]\n"
     ]
    }
   ],
   "source": [
    "from sklearn.ensemble import RandomForestRegressor\n",
    "import matplotlib.pyplot as plt\n",
    "feature_rf = RandomForestRegressor()\n",
    "feature_rf.fit(features,target)\n",
    "print(feature_rf.feature_importances_)"
   ]
  },
  {
   "cell_type": "code",
   "execution_count": 75,
   "id": "97efb85b",
   "metadata": {},
   "outputs": [
    {
     "data": {
      "image/png": "[encoded data removed]",
      "text/plain": [
       "<Figure size 432x288 with 1 Axes>"
      ]
     },
     "metadata": {
      "needs_background": "light"
     },
     "output_type": "display_data"
    }
   ],
   "source": [
    "#plot graph of feature importances for better visualization\n",
    "featureImportance = pd.Series(feature_rf.feature_importances_, index=features.columns)\n",
    "featureImportance.nlargest(6).plot(kind='barh',color=\"navy\") # Lets plot for 8 features \n",
    "plt.show()"
   ]
  },
  {
   "cell_type": "code",
   "execution_count": 76,
   "id": "80512ac9",
   "metadata": {},
   "outputs": [
    {
     "data": {
      "text/plain": [
       "array([0, 0, 0, ..., 0, 0, 1], dtype=int64)"
      ]
     },
     "execution_count": 76,
     "metadata": {},
     "output_type": "execute_result"
    }
   ],
   "source": [
    "from sklearn.preprocessing import LabelEncoder\n",
    "le=LabelEncoder()\n",
    "le.fit(target)\n",
    "target=le.transform(target)\n",
    "target"
   ]
  },
  {
   "cell_type": "markdown",
   "id": "99f5c57d",
   "metadata": {},
   "source": [
    "# Model Building"
   ]
  },
  {
   "cell_type": "code",
   "execution_count": 77,
   "id": "52d57fb6",
   "metadata": {},
   "outputs": [],
   "source": [
    "from sklearn.model_selection import train_test_split\n",
    "from sklearn.linear_model import LinearRegression\n",
    "from sklearn.metrics import accuracy_score\n",
    "from imblearn.over_sampling import SMOTE\n",
    "from sklearn.metrics import roc_auc_score\n",
    "from sklearn.metrics import r2_score\n",
    "from sklearn.metrics import classification_report, roc_curve, precision_recall_curve,roc_auc_score, f1_score, confusion_matrix"
   ]
  },
  {
   "cell_type": "code",
   "execution_count": 78,
   "id": "9f6ab89f",
   "metadata": {},
   "outputs": [],
   "source": [
    "def get_accuracy_score(model,x,y):\n",
    "    max_accuracy_score=0\n",
    "    for i in range(40,100):\n",
    "        x_train, x_test, y_train, y_test = train_test_split(features,target,test_size=0.20,random_state=i)\n",
    "        x_train, y_train = SMOTE().fit_sample(x_train, y_train)\n",
    "        model.fit(x_train,y_train)\n",
    "        pred_test = model.predict(x_test)\n",
    "        accuracy=accuracy_score(y_test,pred_test)\n",
    "        print(\"At\",i,\" accuracy score is \",accuracy)\n",
    "        if accuracy>max_accuracy_score:\n",
    "            max_accuracy_score=accuracy\n",
    "            final_i=i\n",
    "    print(\"At\",final_i,\"max_accuracy_score is :\",max_accuracy_score)\n",
    "    return final_i"
   ]
  },
  {
   "cell_type": "markdown",
   "id": "de762e00",
   "metadata": {},
   "source": [
    "# Logistic Regression"
   ]
  },
  {
   "cell_type": "code",
   "execution_count": 79,
   "id": "ac366d39",
   "metadata": {},
   "outputs": [],
   "source": [
    "from sklearn.linear_model import LogisticRegression\n",
    "lgr=LogisticRegression()"
   ]
  },
  {
   "cell_type": "code",
   "execution_count": 80,
   "id": "310e6c0f",
   "metadata": {},
   "outputs": [
    {
     "name": "stdout",
     "output_type": "stream",
     "text": [
      "At 40  accuracy score is  0.6643087805628172\n",
      "At 41  accuracy score is  0.6540058434568661\n",
      "At 42  accuracy score is  0.6443180070736583\n",
      "At 43  accuracy score is  0.6712286636936798\n",
      "At 44  accuracy score is  0.6458557588805167\n",
      "At 45  accuracy score is  0.6581577733353837\n",
      "At 46  accuracy score is  0.6812240504382593\n",
      "At 47  accuracy score is  0.6584653236967554\n",
      "At 48  accuracy score is  0.657850222974012\n",
      "At 49  accuracy score is  0.67676457019837\n",
      "At 50  accuracy score is  0.7891742272797171\n",
      "At 51  accuracy score is  0.6910656620021528\n",
      "At 52  accuracy score is  0.6935260648931263\n",
      "At 53  accuracy score is  0.673842841765339\n",
      "At 54  accuracy score is  0.6533907427341227\n",
      "At 55  accuracy score is  0.7790250653544518\n",
      "At 56  accuracy score is  0.6412425034599416\n",
      "At 57  accuracy score is  0.6498539135783484\n",
      "At 58  accuracy score is  0.6526218668306936\n",
      "At 59  accuracy score is  0.6393972012917115\n",
      "At 60  accuracy score is  0.6687682608027065\n",
      "At 61  accuracy score is  0.6756881439335691\n",
      "At 62  accuracy score is  0.655851145625096\n",
      "At 63  accuracy score is  0.6693833615254497\n",
      "At 64  accuracy score is  0.6520067661079502\n",
      "At 65  accuracy score is  0.6500076887590343\n",
      "At 66  accuracy score is  0.6516992157465785\n",
      "At 67  accuracy score is  0.6902967860987237\n",
      "At 68  accuracy score is  0.679532523450715\n",
      "At 69  accuracy score is  0.6678456097185914\n",
      "At 70  accuracy score is  0.6478548362294325\n",
      "At 71  accuracy score is  0.7874827002921728\n",
      "At 72  accuracy score is  0.6573888974319545\n",
      "At 73  accuracy score is  0.6926034138090112\n",
      "At 74  accuracy score is  0.7874827002921728\n",
      "At 75  accuracy score is  0.6996770721205597\n",
      "At 76  accuracy score is  0.6535445179148085\n",
      "At 77  accuracy score is  0.775949561740735\n",
      "At 78  accuracy score is  0.6550822697216669\n",
      "At 79  accuracy score is  0.6526218668306936\n",
      "At 80  accuracy score is  0.6430878056281716\n",
      "At 81  accuracy score is  0.6739966169460249\n",
      "At 82  accuracy score is  0.6495463632169768\n",
      "At 83  accuracy score is  0.6526218668306936\n",
      "At 84  accuracy score is  0.6759956942949408\n",
      "At 85  accuracy score is  0.6564662463478395\n",
      "At 86  accuracy score is  0.6498539135783484\n",
      "At 87  accuracy score is  0.6598493003229279\n",
      "At 88  accuracy score is  0.6572351222512687\n",
      "At 89  accuracy score is  0.6595417499615562\n",
      "At 90  accuracy score is  0.6844533292326619\n",
      "At 91  accuracy score is  0.7787175149930801\n",
      "At 92  accuracy score is  0.7811779178840536\n",
      "At 93  accuracy score is  0.6593879747808704\n",
      "At 94  accuracy score is  0.6573888974319545\n",
      "At 95  accuracy score is  0.6818391511610026\n",
      "At 96  accuracy score is  0.6718437644164232\n",
      "At 97  accuracy score is  0.6664616330924189\n",
      "At 98  accuracy score is  0.6612332769491004\n",
      "At 99  accuracy score is  0.6667691834537905\n",
      "At 50 max_accuracy_score is : 0.7891742272797171\n"
     ]
    },
    {
     "data": {
      "text/plain": [
       "50"
      ]
     },
     "execution_count": 80,
     "metadata": {},
     "output_type": "execute_result"
    }
   ],
   "source": [
    "get_accuracy_score(lgr,features,target)"
   ]
  },
  {
   "cell_type": "code",
   "execution_count": 84,
   "id": "b3f93231",
   "metadata": {},
   "outputs": [
    {
     "data": {
      "text/plain": [
       "0.7891742272797171"
      ]
     },
     "execution_count": 84,
     "metadata": {},
     "output_type": "execute_result"
    }
   ],
   "source": [
    "x_train, x_test, y_train, y_test = train_test_split(features,target,random_state=50,test_size=0.20)\n",
    "x_train, y_train = SMOTE().fit_sample(x_train, y_train)\n",
    "lgr.fit(x_train,y_train)\n",
    "pred_train=lgr.predict(x_train)\n",
    "pred_test=lgr.predict(x_test)\n",
    "rocauc_scoreLR=roc_auc_score(y_test,pred_test)\n",
    "accuracy_scoreLR=accuracy_score(y_test,pred_test)\n",
    "accuracy_scoreLR"
   ]
  },
  {
   "cell_type": "code",
   "execution_count": 85,
   "id": "4d1c8dd5",
   "metadata": {},
   "outputs": [
    {
     "name": "stdout",
     "output_type": "stream",
     "text": [
      "Classification Report\n",
      "               precision    recall  f1-score   support\n",
      "\n",
      "           0       0.82      0.93      0.87      4975\n",
      "           1       0.60      0.32      0.42      1528\n",
      "\n",
      "    accuracy                           0.79      6503\n",
      "   macro avg       0.71      0.63      0.64      6503\n",
      "weighted avg       0.77      0.79      0.76      6503\n",
      "\n",
      "Confusion Matrix\n",
      " [[4641  334]\n",
      " [1037  491]]\n"
     ]
    }
   ],
   "source": [
    "from sklearn.metrics import classification_report, confusion_matrix\n",
    "from sklearn.model_selection import GridSearchCV, cross_val_score\n",
    "\n",
    "# classification report\n",
    "print(\"Classification Report\\n\",classification_report(y_test, pred_test))\n",
    "\n",
    "# confusion matrix\n",
    "print(\"Confusion Matrix\\n\",confusion_matrix(y_test, pred_test))"
   ]
  },
  {
   "cell_type": "markdown",
   "id": "dc9fe908",
   "metadata": {},
   "source": [
    "# Cross Validation"
   ]
  },
  {
   "cell_type": "code",
   "execution_count": 86,
   "id": "900ae6b3",
   "metadata": {},
   "outputs": [
    {
     "name": "stdout",
     "output_type": "stream",
     "text": [
      "Cross Validation accuracy: 0.772 +/- 0.013\n"
     ]
    },
    {
     "data": {
      "text/plain": [
       "0.7720172624902016"
      ]
     },
     "execution_count": 86,
     "metadata": {},
     "output_type": "execute_result"
    }
   ],
   "source": [
    "from sklearn.pipeline import make_pipeline\n",
    "pipeline = make_pipeline(StandardScaler(), LogisticRegression())\n",
    "#\n",
    "# Pass instance of pipeline and training and test data set\n",
    "# cv=5 represents the StratifiedKFold with 5 folds\n",
    "#\n",
    "scores = cross_val_score(pipeline, X=x_train, y=y_train, cv=5, n_jobs=1) \n",
    "\n",
    "print('Cross Validation accuracy: %.3f +/- %.3f' % (np.mean(scores),np.std(scores)))\n",
    "lgr_cvScore=(np.mean(scores))\n",
    "lgr_cvScore"
   ]
  },
  {
   "cell_type": "code",
   "execution_count": 87,
   "id": "eb2484ad",
   "metadata": {},
   "outputs": [
    {
     "data": {
      "image/png": "[encoded data removed]",
      "text/plain": [
       "<Figure size 432x288 with 1 Axes>"
      ]
     },
     "metadata": {
      "needs_background": "light"
     },
     "output_type": "display_data"
    }
   ],
   "source": [
    "from sklearn.metrics import roc_curve,auc\n",
    "fpr,tpr,thresholds = roc_curve(pred_test,y_test)\n",
    "roc_auc=auc(fpr,tpr)\n",
    "\n",
    "plt.figure()\n",
    "plt.plot(fpr,tpr,color='darkorange',lw=10,label='ROC curve(area =%0.2f)' % roc_auc)\n",
    "plt.plot([0,1],[0,1],color='navy',lw=10,linestyle='--')\n",
    "plt.xlim([0.0,1.0])\n",
    "plt.ylim([0.0,1.05])\n",
    "plt.xlabel('False Positive Rate')\n",
    "plt.ylabel('True Positve Rate')\n",
    "plt.title('Logistic Regression Prediction')\n",
    "plt.legend(loc=\"lower right\")\n",
    "plt.show()"
   ]
  },
  {
   "cell_type": "code",
   "execution_count": 88,
   "id": "ba617675",
   "metadata": {},
   "outputs": [
    {
     "data": {
      "text/html": [
       "<div>\n",
       "<style scoped>\n",
       "    .dataframe tbody tr th:only-of-type {\n",
       "        vertical-align: middle;\n",
       "    }\n",
       "\n",
       "    .dataframe tbody tr th {\n",
       "        vertical-align: top;\n",
       "    }\n",
       "\n",
       "    .dataframe thead th {\n",
       "        text-align: right;\n",
       "    }\n",
       "</style>\n",
       "<table border=\"1\" class=\"dataframe\">\n",
       "  <thead>\n",
       "    <tr style=\"text-align: right;\">\n",
       "      <th></th>\n",
       "      <th>Model</th>\n",
       "      <th>Accuracy</th>\n",
       "      <th>Cross Validation Score</th>\n",
       "      <th>Difference(Accuracy-CV)</th>\n",
       "    </tr>\n",
       "  </thead>\n",
       "  <tbody>\n",
       "    <tr>\n",
       "      <th>0</th>\n",
       "      <td>Logistic Regression</td>\n",
       "      <td>78.917423</td>\n",
       "      <td>77.201726</td>\n",
       "      <td>1.715696</td>\n",
       "    </tr>\n",
       "  </tbody>\n",
       "</table>\n",
       "</div>"
      ],
      "text/plain": [
       "                 Model   Accuracy  Cross Validation Score  \\\n",
       "0  Logistic Regression  78.917423               77.201726   \n",
       "\n",
       "   Difference(Accuracy-CV)  \n",
       "0                 1.715696  "
      ]
     },
     "execution_count": 88,
     "metadata": {},
     "output_type": "execute_result"
    }
   ],
   "source": [
    "score_data = {'Model': ['Logistic Regression'], \n",
    "              'Accuracy': accuracy_scoreLR*100,\n",
    "              'Cross Validation Score':lgr_cvScore*100,\n",
    "             'Difference(Accuracy-CV)':(accuracy_scoreLR-lgr_cvScore)*100\n",
    "            }\n",
    "\n",
    "df_LR = pd.DataFrame(score_data)  \n",
    "df_LR"
   ]
  },
  {
   "cell_type": "code",
   "execution_count": 89,
   "id": "7c89d0d3",
   "metadata": {},
   "outputs": [
    {
     "data": {
      "text/plain": [
       "<matplotlib.legend.Legend at 0x2565d0d9a60>"
      ]
     },
     "execution_count": 89,
     "metadata": {},
     "output_type": "execute_result"
    },
    {
     "data": {
      "image/png": "[encoded data removed]",
      "text/plain": [
       "<Figure size 432x288 with 1 Axes>"
      ]
     },
     "metadata": {
      "needs_background": "light"
     },
     "output_type": "display_data"
    }
   ],
   "source": [
    "from sklearn.metrics import roc_curve, precision_recall_curve,roc_auc_score, f1_score, confusion_matrix\n",
    "fpr, tpr, thresholds = roc_curve(y_test,lgr.predict_proba(x_test)[:,1],pos_label=1)\n",
    "precision, recall, thresholds = precision_recall_curve(y_test,lgr.predict_proba(x_test)[:,1],pos_label=1)\n",
    "plt.plot(fpr, tpr, label='lgr',lw=5,color=\"orange\")\n",
    "plt.xlabel(\"False Positive Rate\")\n",
    "plt.ylabel(\"True Positive Rate\")\n",
    "plt.title(\"ROC AUC Curve For Logistic Regression\")\n",
    "plt.plot([0,1], [0,1], label='Linear Line', color='navy',lw=5,linestyle='--')\n",
    "plt.legend()"
   ]
  },
  {
   "cell_type": "markdown",
   "id": "321cc594",
   "metadata": {},
   "source": [
    "# Naive Byes"
   ]
  },
  {
   "cell_type": "code",
   "execution_count": 183,
   "id": "ddfc3ee0",
   "metadata": {},
   "outputs": [],
   "source": [
    "from sklearn.naive_bayes import GaussianNB\n",
    "nb = GaussianNB()"
   ]
  },
  {
   "cell_type": "code",
   "execution_count": 91,
   "id": "8b39df04",
   "metadata": {},
   "outputs": [
    {
     "name": "stdout",
     "output_type": "stream",
     "text": [
      "At 40  accuracy score is  0.7893280024604029\n",
      "At 41  accuracy score is  0.7871751499308012\n",
      "At 42  accuracy score is  0.7874827002921728\n",
      "At 43  accuracy score is  0.7905582039058896\n",
      "At 44  accuracy score is  0.7928648316161772\n",
      "At 45  accuracy score is  0.7925572812548055\n",
      "At 46  accuracy score is  0.7937874827002922\n",
      "At 47  accuracy score is  0.7922497308934338\n",
      "At 48  accuracy score is  0.7879440258342304\n",
      "At 49  accuracy score is  0.7920959557127479\n",
      "At 50  accuracy score is  0.7993233892049824\n",
      "At 51  accuracy score is  0.8011686913732123\n",
      "At 52  accuracy score is  0.8027064431800708\n",
      "At 53  accuracy score is  0.7885591265569737\n",
      "At 54  accuracy score is  0.7874827002921728\n",
      "At 55  accuracy score is  0.7904044287252038\n",
      "At 56  accuracy score is  0.7933261571582346\n",
      "At 57  accuracy score is  0.799630939566354\n",
      "At 58  accuracy score is  0.7888666769183453\n",
      "At 59  accuracy score is  0.7865600492080578\n",
      "At 60  accuracy score is  0.793941257880978\n",
      "At 61  accuracy score is  0.7954790096878364\n",
      "At 62  accuracy score is  0.7848685222205136\n",
      "At 63  accuracy score is  0.7954790096878364\n",
      "At 64  accuracy score is  0.7934799323389204\n",
      "At 65  accuracy score is  0.7887129017376595\n",
      "At 66  accuracy score is  0.7867138243887437\n",
      "At 67  accuracy score is  0.7940950330616638\n",
      "At 68  accuracy score is  0.7916346301706905\n",
      "At 69  accuracy score is  0.7899431031831462\n",
      "At 70  accuracy score is  0.788251576195602\n",
      "At 71  accuracy score is  0.7980931877594957\n",
      "At 72  accuracy score is  0.7937874827002922\n",
      "At 73  accuracy score is  0.7854836229432569\n",
      "At 74  accuracy score is  0.7985545133015531\n",
      "At 75  accuracy score is  0.7977856373981239\n",
      "At 76  accuracy score is  0.7971705366753806\n",
      "At 77  accuracy score is  0.790250653544518\n",
      "At 78  accuracy score is  0.7962478855912656\n",
      "At 79  accuracy score is  0.8027064431800708\n",
      "At 80  accuracy score is  0.7925572812548055\n",
      "At 81  accuracy score is  0.7950176841457789\n",
      "At 82  accuracy score is  0.7880978010149162\n",
      "At 83  accuracy score is  0.7925572812548055\n",
      "At 84  accuracy score is  0.7862524988466861\n",
      "At 85  accuracy score is  0.7947101337844072\n",
      "At 86  accuracy score is  0.7950176841457789\n",
      "At 87  accuracy score is  0.798708288482239\n",
      "At 88  accuracy score is  0.7879440258342304\n",
      "At 89  accuracy score is  0.7827156696909119\n",
      "At 90  accuracy score is  0.7962478855912656\n",
      "At 91  accuracy score is  0.7897893280024604\n",
      "At 92  accuracy score is  0.7944025834230355\n",
      "At 93  accuracy score is  0.7868675995694295\n",
      "At 94  accuracy score is  0.790250653544518\n",
      "At 95  accuracy score is  0.7910195294479471\n",
      "At 96  accuracy score is  0.8019375672766416\n",
      "At 97  accuracy score is  0.7933261571582346\n",
      "At 98  accuracy score is  0.8003998154697832\n",
      "At 99  accuracy score is  0.7865600492080578\n",
      "At 52 max_accuracy_score is : 0.8027064431800708\n"
     ]
    },
    {
     "data": {
      "text/plain": [
       "52"
      ]
     },
     "execution_count": 91,
     "metadata": {},
     "output_type": "execute_result"
    }
   ],
   "source": [
    "get_accuracy_score(nb,features,target)"
   ]
  },
  {
   "cell_type": "code",
   "execution_count": 92,
   "id": "79360d91",
   "metadata": {},
   "outputs": [
    {
     "data": {
      "text/plain": [
       "0.8028602183607566"
      ]
     },
     "execution_count": 92,
     "metadata": {},
     "output_type": "execute_result"
    }
   ],
   "source": [
    "x_train, x_test, y_train, y_test = train_test_split(features,target,random_state=52,test_size=0.20)\n",
    "x_train, y_train = SMOTE().fit_sample(x_train, y_train)\n",
    "nb.fit(x_train,y_train)\n",
    "pred_train=nb.predict(x_train)\n",
    "pred_test=nb.predict(x_test)\n",
    "rocauc_scoreNB=roc_auc_score(y_test,pred_test)\n",
    "accuracy_scoreNB=accuracy_score(y_test,pred_test)\n",
    "accuracy_scoreNB"
   ]
  },
  {
   "cell_type": "code",
   "execution_count": 93,
   "id": "a9c0a60d",
   "metadata": {},
   "outputs": [
    {
     "name": "stdout",
     "output_type": "stream",
     "text": [
      "Classification Report\n",
      "               precision    recall  f1-score   support\n",
      "\n",
      "           0       0.82      0.95      0.88      4995\n",
      "           1       0.65      0.33      0.43      1508\n",
      "\n",
      "    accuracy                           0.80      6503\n",
      "   macro avg       0.74      0.64      0.66      6503\n",
      "weighted avg       0.78      0.80      0.78      6503\n",
      "\n",
      "Confusion Matrix\n",
      " [[4728  267]\n",
      " [1015  493]]\n"
     ]
    }
   ],
   "source": [
    "# classification report\n",
    "print(\"Classification Report\\n\",classification_report(y_test, pred_test))\n",
    "\n",
    "# confusion matrix\n",
    "print(\"Confusion Matrix\\n\",confusion_matrix(y_test, pred_test))"
   ]
  },
  {
   "cell_type": "code",
   "execution_count": 94,
   "id": "6b9cada1",
   "metadata": {},
   "outputs": [
    {
     "name": "stdout",
     "output_type": "stream",
     "text": [
      "Cross Validation score of Naive Byes model is : 0.7949743470739412\n"
     ]
    }
   ],
   "source": [
    "cv_nb=cross_val_score(nb,features,target,cv=5)\n",
    "print('Cross Validation score of Naive Byes model is :',cv_nb.mean())"
   ]
  },
  {
   "cell_type": "code",
   "execution_count": 99,
   "id": "46f08f37",
   "metadata": {},
   "outputs": [
    {
     "data": {
      "image/png": "[encoded data removed]",
      "text/plain": [
       "<Figure size 432x288 with 1 Axes>"
      ]
     },
     "metadata": {
      "needs_background": "light"
     },
     "output_type": "display_data"
    }
   ],
   "source": [
    "from sklearn.metrics import roc_curve,auc\n",
    "fpr,tpr,thresholds = roc_curve(pred_test,y_test)\n",
    "roc_auc=auc(fpr,tpr)\n",
    "\n",
    "plt.figure()\n",
    "plt.plot(fpr,tpr,color='darkorange',lw=10,label='ROC curve(area =%0.2f)' % roc_auc)\n",
    "plt.plot([0,1],[0,1],color='navy',lw=10,linestyle='--')\n",
    "plt.xlim([0.0,1.0])\n",
    "plt.ylim([0.0,1.05])\n",
    "plt.xlabel('False Positive Rate')\n",
    "plt.ylabel('True Positve Rate')\n",
    "plt.title('Naive Byes')\n",
    "plt.legend(loc=\"lower right\")\n",
    "plt.show()"
   ]
  },
  {
   "cell_type": "code",
   "execution_count": 100,
   "id": "4fdb4203",
   "metadata": {},
   "outputs": [
    {
     "data": {
      "text/plain": [
       "<matplotlib.legend.Legend at 0x2565cf21580>"
      ]
     },
     "execution_count": 100,
     "metadata": {},
     "output_type": "execute_result"
    },
    {
     "data": {
      "image/png": "[encoded data removed]",
      "text/plain": [
       "<Figure size 432x288 with 1 Axes>"
      ]
     },
     "metadata": {
      "needs_background": "light"
     },
     "output_type": "display_data"
    }
   ],
   "source": [
    "from sklearn.metrics import roc_curve, precision_recall_curve,roc_auc_score, f1_score, confusion_matrix\n",
    "fpr, tpr, thresholds = roc_curve(y_test,nb.predict_proba(x_test)[:,1],pos_label=1)\n",
    "precision, recall, thresholds = precision_recall_curve(y_test,nb.predict_proba(x_test)[:,1],pos_label=1)\n",
    "plt.plot(fpr, tpr, label='nb',lw=5,color=\"orange\")\n",
    "plt.xlabel(\"False Positive Rate\")\n",
    "plt.ylabel(\"True Positive Rate\")\n",
    "plt.title(\"ROC AUC Curve For Naive Byes\")\n",
    "plt.plot([0,1], [0,1], label='Linear Line', color='navy',lw=5,linestyle='--')\n",
    "plt.legend()"
   ]
  },
  {
   "cell_type": "code",
   "execution_count": 184,
   "id": "45575c0a",
   "metadata": {},
   "outputs": [
    {
     "data": {
      "text/html": [
       "<div>\n",
       "<style scoped>\n",
       "    .dataframe tbody tr th:only-of-type {\n",
       "        vertical-align: middle;\n",
       "    }\n",
       "\n",
       "    .dataframe tbody tr th {\n",
       "        vertical-align: top;\n",
       "    }\n",
       "\n",
       "    .dataframe thead th {\n",
       "        text-align: right;\n",
       "    }\n",
       "</style>\n",
       "<table border=\"1\" class=\"dataframe\">\n",
       "  <thead>\n",
       "    <tr style=\"text-align: right;\">\n",
       "      <th></th>\n",
       "      <th>Model</th>\n",
       "      <th>Accuracy</th>\n",
       "      <th>Cross Validation Score</th>\n",
       "      <th>Difference(Accuracy-CV)</th>\n",
       "    </tr>\n",
       "  </thead>\n",
       "  <tbody>\n",
       "    <tr>\n",
       "      <th>0</th>\n",
       "      <td>Naive Byes</td>\n",
       "      <td>80.286022</td>\n",
       "      <td>79.497435</td>\n",
       "      <td>0.788587</td>\n",
       "    </tr>\n",
       "  </tbody>\n",
       "</table>\n",
       "</div>"
      ],
      "text/plain": [
       "        Model   Accuracy  Cross Validation Score  Difference(Accuracy-CV)\n",
       "0  Naive Byes  80.286022               79.497435                 0.788587"
      ]
     },
     "execution_count": 184,
     "metadata": {},
     "output_type": "execute_result"
    }
   ],
   "source": [
    "score_data = {'Model': ['Naive Byes'], \n",
    "              'Accuracy': accuracy_scoreNB*100,\n",
    "              'Cross Validation Score':cv_nb.mean()*100,\n",
    "              'Difference(Accuracy-CV)':(accuracy_scoreNB-cv_nb.mean())*100\n",
    "            }\n",
    "\n",
    "df_NB = pd.DataFrame(score_data)  \n",
    "df_NB"
   ]
  },
  {
   "cell_type": "markdown",
   "id": "6b449090",
   "metadata": {},
   "source": [
    "# Decision Tree Classifier"
   ]
  },
  {
   "cell_type": "code",
   "execution_count": 146,
   "id": "de7e5321",
   "metadata": {},
   "outputs": [
    {
     "data": {
      "text/plain": [
       "{'criterion': ['entropy', 'ginni'],\n",
       " 'max_depth': [10, 15],\n",
       " 'min_samples_split': [10, 11],\n",
       " 'min_samples_leaf': [5, 6]}"
      ]
     },
     "execution_count": 146,
     "metadata": {},
     "output_type": "execute_result"
    }
   ],
   "source": [
    "from sklearn.tree import DecisionTreeClassifier\n",
    "\n",
    "# creating model\n",
    "decTree = DecisionTreeClassifier()\n",
    "params={'criterion':['entropy','ginni'],\n",
    "        'max_depth':[10,15],\n",
    "        'min_samples_split':[10,11],\n",
    "        'min_samples_leaf':[5,6]\n",
    "        }\n",
    "params"
   ]
  },
  {
   "cell_type": "code",
   "execution_count": 147,
   "id": "c786397b",
   "metadata": {},
   "outputs": [
    {
     "name": "stdout",
     "output_type": "stream",
     "text": [
      "Best_Params_ {'criterion': 'entropy', 'max_depth': 15, 'min_samples_leaf': 5, 'min_samples_split': 11}\n"
     ]
    }
   ],
   "source": [
    "grid_Search=GridSearchCV(estimator=decTree,param_grid=params,cv=5,n_jobs=-1)\n",
    "\n",
    "grid_Search.fit(x_train,y_train)\n",
    "print(\"Best_Params_\",grid_Search.best_params_)"
   ]
  },
  {
   "cell_type": "code",
   "execution_count": 148,
   "id": "0f9dc0fe",
   "metadata": {},
   "outputs": [
    {
     "name": "stdout",
     "output_type": "stream",
     "text": [
      "At 40  accuracy score is  0.7933261571582346\n",
      "At 41  accuracy score is  0.7899431031831462\n",
      "At 42  accuracy score is  0.7973243118560664\n",
      "At 43  accuracy score is  0.799630939566354\n",
      "At 44  accuracy score is  0.795786560049208\n",
      "At 45  accuracy score is  0.7848685222205136\n",
      "At 46  accuracy score is  0.8019375672766416\n",
      "At 47  accuracy score is  0.8042441949869291\n",
      "At 48  accuracy score is  0.7997847147470398\n",
      "At 49  accuracy score is  0.7905582039058896\n",
      "At 50  accuracy score is  0.7904044287252038\n",
      "At 51  accuracy score is  0.7976318622174381\n",
      "At 52  accuracy score is  0.7960941104105798\n",
      "At 53  accuracy score is  0.793018606796863\n",
      "At 54  accuracy score is  0.7879440258342304\n",
      "At 55  accuracy score is  0.7916346301706905\n",
      "At 56  accuracy score is  0.7827156696909119\n",
      "At 57  accuracy score is  0.796709211133323\n",
      "At 58  accuracy score is  0.796709211133323\n",
      "At 59  accuracy score is  0.7897893280024604\n",
      "At 60  accuracy score is  0.7851760725818853\n",
      "At 61  accuracy score is  0.7974780870367523\n",
      "At 62  accuracy score is  0.786406274027372\n",
      "At 63  accuracy score is  0.7919421805320621\n",
      "At 64  accuracy score is  0.7977856373981239\n",
      "At 65  accuracy score is  0.7922497308934338\n",
      "At 66  accuracy score is  0.7993233892049824\n",
      "At 67  accuracy score is  0.7965554359526372\n",
      "At 68  accuracy score is  0.793018606796863\n",
      "At 69  accuracy score is  0.7905582039058896\n",
      "At 70  accuracy score is  0.7944025834230355\n",
      "At 71  accuracy score is  0.7944025834230355\n",
      "At 72  accuracy score is  0.7896355528217746\n",
      "At 73  accuracy score is  0.7922497308934338\n",
      "At 74  accuracy score is  0.7893280024604029\n",
      "At 75  accuracy score is  0.7899431031831462\n",
      "At 76  accuracy score is  0.7933261571582346\n",
      "At 77  accuracy score is  0.7914808549900046\n",
      "At 78  accuracy score is  0.7908657542672612\n",
      "At 79  accuracy score is  0.799630939566354\n",
      "At 80  accuracy score is  0.7894817776410887\n",
      "At 81  accuracy score is  0.7940950330616638\n",
      "At 82  accuracy score is  0.7853298477625711\n",
      "At 83  accuracy score is  0.7940950330616638\n",
      "At 84  accuracy score is  0.796709211133323\n",
      "At 85  accuracy score is  0.7821005689681685\n",
      "At 86  accuracy score is  0.7942488082423497\n",
      "At 87  accuracy score is  0.788251576195602\n",
      "At 88  accuracy score is  0.7847147470398278\n",
      "At 89  accuracy score is  0.7982469629401815\n",
      "At 90  accuracy score is  0.7920959557127479\n",
      "At 91  accuracy score is  0.7973243118560664\n",
      "At 92  accuracy score is  0.7880978010149162\n",
      "At 93  accuracy score is  0.7821005689681685\n",
      "At 94  accuracy score is  0.7916346301706905\n",
      "At 95  accuracy score is  0.7947101337844072\n",
      "At 96  accuracy score is  0.7993233892049824\n",
      "At 97  accuracy score is  0.7850222974011994\n",
      "At 98  accuracy score is  0.7956327848685222\n",
      "At 99  accuracy score is  0.7953252345071505\n",
      "At 47 max_accuracy_score is : 0.8042441949869291\n"
     ]
    },
    {
     "data": {
      "text/plain": [
       "47"
      ]
     },
     "execution_count": 148,
     "metadata": {},
     "output_type": "execute_result"
    }
   ],
   "source": [
    "get_accuracy_score(decTree,features,target)"
   ]
  },
  {
   "cell_type": "code",
   "execution_count": 149,
   "id": "74df0a38",
   "metadata": {},
   "outputs": [
    {
     "data": {
      "text/plain": [
       "0.8151622328156236"
      ]
     },
     "execution_count": 149,
     "metadata": {},
     "output_type": "execute_result"
    }
   ],
   "source": [
    "x_train, x_test, y_train, y_test = train_test_split(features,target,test_size=0.20,random_state=47,stratify=target)\n",
    "decTrees=DecisionTreeClassifier(criterion='entropy',min_samples_leaf=5,max_depth=15,min_samples_split=11)\n",
    "x_train, y_train = SMOTE().fit_sample(x_train, y_train)\n",
    "decTrees.fit(x_train,y_train)\n",
    "pred_train=decTrees.predict(x_train)\n",
    "pred_test=decTrees.predict(x_test)\n",
    "rocauc_scoreTree=roc_auc_score(y_test,pred_test)\n",
    "accuracy_scoreTree=accuracy_score(y_test,pred_test)\n",
    "accuracy_scoreTree"
   ]
  },
  {
   "cell_type": "code",
   "execution_count": 150,
   "id": "e8643a7c",
   "metadata": {},
   "outputs": [
    {
     "name": "stdout",
     "output_type": "stream",
     "text": [
      "Classification Report\n",
      "               precision    recall  f1-score   support\n",
      "\n",
      "           0       0.92      0.83      0.87      4936\n",
      "           1       0.59      0.78      0.67      1567\n",
      "\n",
      "    accuracy                           0.82      6503\n",
      "   macro avg       0.75      0.80      0.77      6503\n",
      "weighted avg       0.84      0.82      0.82      6503\n",
      "\n",
      "Confusion Matrix\n",
      " [[4086  850]\n",
      " [ 352 1215]]\n"
     ]
    }
   ],
   "source": [
    "# classification report\n",
    "print(\"Classification Report\\n\",classification_report(y_test, pred_test))\n",
    "\n",
    "# confusion matrix\n",
    "print(\"Confusion Matrix\\n\",confusion_matrix(y_test, pred_test))"
   ]
  },
  {
   "cell_type": "code",
   "execution_count": 151,
   "id": "d8557fff",
   "metadata": {},
   "outputs": [
    {
     "name": "stdout",
     "output_type": "stream",
     "text": [
      "At cv 2\n",
      "Cross Validation score is : 83.88338163324194\n",
      "accuracy score is :  81.51622328156236\n",
      "\n",
      "\n",
      "At cv 3\n",
      "Cross Validation score is : 84.37241043613675\n",
      "accuracy score is :  81.51622328156236\n",
      "\n",
      "\n",
      "At cv 4\n",
      "Cross Validation score is : 84.48005314222047\n",
      "accuracy score is :  81.51622328156236\n",
      "\n",
      "\n",
      "At cv 5\n",
      "Cross Validation score is : 84.49852097224321\n",
      "accuracy score is :  81.51622328156236\n",
      "\n",
      "\n",
      "At cv 6\n",
      "Cross Validation score is : 84.88296593842541\n",
      "accuracy score is :  81.51622328156236\n",
      "\n",
      "\n",
      "At cv 7\n",
      "Cross Validation score is : 84.92912500597683\n",
      "accuracy score is :  81.51622328156236\n",
      "\n",
      "\n",
      "At cv 8\n",
      "Cross Validation score is : 84.91375386194807\n",
      "accuracy score is :  81.51622328156236\n",
      "\n",
      "\n",
      "At cv 9\n",
      "Cross Validation score is : 84.82149178906367\n",
      "accuracy score is :  81.51622328156236\n",
      "\n",
      "\n"
     ]
    }
   ],
   "source": [
    "# Cross Validation\n",
    "for j in range(2,10):\n",
    "    lsScore=cross_val_score(decTrees,features,target,cv=j)\n",
    "    lsc=lsScore.mean()\n",
    "    print(\"At cv\",j)\n",
    "    print(\"Cross Validation score is :\",lsc*100)\n",
    "    print(\"accuracy score is : \",accuracy_score(y_test,pred_test)*100)\n",
    "    print('\\n')"
   ]
  },
  {
   "cell_type": "markdown",
   "id": "9f08b4c6",
   "metadata": {},
   "source": [
    "The cross validation score is slighlty more than accuracy score, so the model is a bit overfit but in case of logistic regression and Naive Byes, it is not the same."
   ]
  },
  {
   "cell_type": "code",
   "execution_count": 152,
   "id": "e2ab0f3b",
   "metadata": {},
   "outputs": [
    {
     "name": "stdout",
     "output_type": "stream",
     "text": [
      "Cross Validation score of Naive Byes model is : 0.8390183465487187\n"
     ]
    }
   ],
   "source": [
    "cv_DecTree=cross_val_score(decTrees,features,target,cv=2)\n",
    "print('Cross Validation score of Naive Byes model is :',cv_DecTree.mean())"
   ]
  },
  {
   "cell_type": "code",
   "execution_count": 153,
   "id": "73ebbd0a",
   "metadata": {},
   "outputs": [
    {
     "data": {
      "image/png": "[encoded data removed]",
      "text/plain": [
       "<Figure size 432x288 with 1 Axes>"
      ]
     },
     "metadata": {
      "needs_background": "light"
     },
     "output_type": "display_data"
    }
   ],
   "source": [
    "from sklearn.metrics import roc_curve,auc\n",
    "fpr,tpr,thresholds = roc_curve(pred_test,y_test)\n",
    "roc_auc=auc(fpr,tpr)\n",
    "\n",
    "plt.figure()\n",
    "plt.plot(fpr,tpr,color='darkorange',lw=10,label='ROC curve(area =%0.2f)' % roc_auc)\n",
    "plt.plot([0,1],[0,1],color='navy',lw=10,linestyle='--')\n",
    "plt.xlim([0.0,1.0])\n",
    "plt.ylim([0.0,1.05])\n",
    "plt.xlabel('False Positive Rate')\n",
    "plt.ylabel('True Positve Rate')\n",
    "plt.title('Decision Tree Prediction')\n",
    "plt.legend(loc=\"lower right\")\n",
    "plt.show()"
   ]
  },
  {
   "cell_type": "code",
   "execution_count": 154,
   "id": "6db21422",
   "metadata": {},
   "outputs": [
    {
     "data": {
      "text/plain": [
       "<matplotlib.legend.Legend at 0x25666cb34c0>"
      ]
     },
     "execution_count": 154,
     "metadata": {},
     "output_type": "execute_result"
    },
    {
     "data": {
      "image/png": "[encoded data removed]",
      "text/plain": [
       "<Figure size 432x288 with 1 Axes>"
      ]
     },
     "metadata": {
      "needs_background": "light"
     },
     "output_type": "display_data"
    }
   ],
   "source": [
    "from sklearn.metrics import roc_curve, precision_recall_curve,roc_auc_score, f1_score, confusion_matrix\n",
    "fpr, tpr, thresholds = roc_curve(y_test,decTrees.predict_proba(x_test)[:,1],pos_label=1)\n",
    "precision, recall, thresholds = precision_recall_curve(y_test,decTrees.predict_proba(x_test)[:,1],pos_label=1)\n",
    "plt.plot(fpr, tpr, label='decTrees',lw=5,color=\"orange\")\n",
    "plt.xlabel(\"False Positive Rate\")\n",
    "plt.ylabel(\"True Positive Rate\")\n",
    "plt.title(\"ROC AUC Curve For Decison Tree Classifier\")\n",
    "plt.plot([0,1], [0,1], label='Linear Line', color='navy',lw=5,linestyle='--')\n",
    "plt.legend()"
   ]
  },
  {
   "cell_type": "code",
   "execution_count": 155,
   "id": "76a623c7",
   "metadata": {},
   "outputs": [
    {
     "data": {
      "text/html": [
       "<div>\n",
       "<style scoped>\n",
       "    .dataframe tbody tr th:only-of-type {\n",
       "        vertical-align: middle;\n",
       "    }\n",
       "\n",
       "    .dataframe tbody tr th {\n",
       "        vertical-align: top;\n",
       "    }\n",
       "\n",
       "    .dataframe thead th {\n",
       "        text-align: right;\n",
       "    }\n",
       "</style>\n",
       "<table border=\"1\" class=\"dataframe\">\n",
       "  <thead>\n",
       "    <tr style=\"text-align: right;\">\n",
       "      <th></th>\n",
       "      <th>Model</th>\n",
       "      <th>Accuracy</th>\n",
       "      <th>Cross Validation Score</th>\n",
       "      <th>Difference(Accuracy-CV)</th>\n",
       "    </tr>\n",
       "  </thead>\n",
       "  <tbody>\n",
       "    <tr>\n",
       "      <th>0</th>\n",
       "      <td>Decision Tree</td>\n",
       "      <td>81.516223</td>\n",
       "      <td>83.901835</td>\n",
       "      <td>-2.385611</td>\n",
       "    </tr>\n",
       "  </tbody>\n",
       "</table>\n",
       "</div>"
      ],
      "text/plain": [
       "           Model   Accuracy  Cross Validation Score  Difference(Accuracy-CV)\n",
       "0  Decision Tree  81.516223               83.901835                -2.385611"
      ]
     },
     "execution_count": 155,
     "metadata": {},
     "output_type": "execute_result"
    }
   ],
   "source": [
    "score_data = {'Model': ['Decision Tree'], \n",
    "              'Accuracy': (accuracy_scoreTree)*100,\n",
    "              'Cross Validation Score':(cv_DecTree.mean())*100,\n",
    "              'Difference(Accuracy-CV)':(accuracy_scoreTree-cv_DecTree.mean())*100\n",
    "             }  \n",
    "\n",
    "df_dt = pd.DataFrame(score_data)  \n",
    "df_dt"
   ]
  },
  {
   "cell_type": "markdown",
   "id": "65287301",
   "metadata": {},
   "source": [
    "# Random Forest Claaifier"
   ]
  },
  {
   "cell_type": "code",
   "execution_count": 156,
   "id": "10ac6eeb",
   "metadata": {},
   "outputs": [
    {
     "data": {
      "text/plain": [
       "{'n_estimators': [100, 150],\n",
       " 'criterion': ['entropy', 'ginni'],\n",
       " 'max_depth': [10, 15],\n",
       " 'min_samples_split': [10, 11],\n",
       " 'min_samples_leaf': [5, 6]}"
      ]
     },
     "execution_count": 156,
     "metadata": {},
     "output_type": "execute_result"
    }
   ],
   "source": [
    "from sklearn.ensemble import RandomForestClassifier\n",
    "\n",
    "# creating the model\n",
    "clf_rf = RandomForestClassifier()\n",
    "params={'n_estimators':[100,150],\n",
    "        'criterion':['entropy','ginni'],\n",
    "        'max_depth':[10,15],\n",
    "        'min_samples_split':[10,11],\n",
    "        'min_samples_leaf':[5,6]\n",
    "        }\n",
    "params"
   ]
  },
  {
   "cell_type": "code",
   "execution_count": 265,
   "id": "c5e9fd06",
   "metadata": {},
   "outputs": [
    {
     "name": "stdout",
     "output_type": "stream",
     "text": [
      "Best_Params_ {'criterion': 'entropy', 'max_depth': 15, 'min_samples_leaf': 5, 'min_samples_split': 10, 'n_estimators': 150}\n"
     ]
    }
   ],
   "source": [
    "grd=GridSearchCV(clf_rf,param_grid=params)\n",
    "grd.fit(x_train,y_train)\n",
    "print(\"Best_Params_\",grd.best_params_)"
   ]
  },
  {
   "cell_type": "code",
   "execution_count": 157,
   "id": "43d739e5",
   "metadata": {},
   "outputs": [
    {
     "name": "stdout",
     "output_type": "stream",
     "text": [
      "At 40  accuracy score is  0.832692603413809\n",
      "At 41  accuracy score is  0.8365369829309549\n",
      "At 42  accuracy score is  0.8400738120867292\n",
      "At 43  accuracy score is  0.844071966784561\n",
      "At 44  accuracy score is  0.8425342149777026\n",
      "At 45  accuracy score is  0.8359218822082116\n",
      "At 46  accuracy score is  0.8429955405197601\n",
      "At 47  accuracy score is  0.8382285099184992\n",
      "At 48  accuracy score is  0.8377671843764416\n",
      "At 49  accuracy score is  0.8346916807627249\n",
      "At 50  accuracy score is  0.8453021682300477\n",
      "At 51  accuracy score is  0.8373058588343841\n",
      "At 52  accuracy score is  0.8419191142549592\n",
      "At 53  accuracy score is  0.8371520836536983\n",
      "At 54  accuracy score is  0.8323850530524374\n",
      "At 55  accuracy score is  0.8346916807627249\n",
      "At 56  accuracy score is  0.8379209595571275\n",
      "At 57  accuracy score is  0.8380747347378134\n",
      "At 58  accuracy score is  0.8357681070275258\n",
      "At 59  accuracy score is  0.8343841304013532\n",
      "At 60  accuracy score is  0.8436106412425035\n",
      "At 61  accuracy score is  0.8456097185914193\n",
      "At 62  accuracy score is  0.8388436106412425\n",
      "At 63  accuracy score is  0.8394587113639859\n",
      "At 64  accuracy score is  0.8460710441334769\n",
      "At 65  accuracy score is  0.8391511610026142\n",
      "At 66  accuracy score is  0.8353067814854682\n",
      "At 67  accuracy score is  0.8330001537751807\n",
      "At 68  accuracy score is  0.8365369829309549\n",
      "At 69  accuracy score is  0.835460556666154\n",
      "At 70  accuracy score is  0.8342303552206674\n",
      "At 71  accuracy score is  0.838382285099185\n",
      "At 72  accuracy score is  0.8380747347378134\n",
      "At 73  accuracy score is  0.8437644164231893\n",
      "At 74  accuracy score is  0.8345379055820391\n",
      "At 75  accuracy score is  0.8311548516069507\n",
      "At 76  accuracy score is  0.8386898354605566\n",
      "At 77  accuracy score is  0.8359218822082116\n",
      "At 78  accuracy score is  0.8396124865446717\n",
      "At 79  accuracy score is  0.8363832077502691\n",
      "At 80  accuracy score is  0.8423804397970167\n",
      "At 81  accuracy score is  0.8349992311240966\n",
      "At 82  accuracy score is  0.8368445332923267\n",
      "At 83  accuracy score is  0.8380747347378134\n",
      "At 84  accuracy score is  0.8362294325695833\n",
      "At 85  accuracy score is  0.8363832077502691\n",
      "At 86  accuracy score is  0.84115023835153\n",
      "At 87  accuracy score is  0.8305397508842073\n",
      "At 88  accuracy score is  0.835460556666154\n",
      "At 89  accuracy score is  0.8268491465477472\n",
      "At 90  accuracy score is  0.83561433184684\n",
      "At 91  accuracy score is  0.8408426879901584\n",
      "At 92  accuracy score is  0.8343841304013532\n",
      "At 93  accuracy score is  0.8353067814854682\n",
      "At 94  accuracy score is  0.8373058588343841\n",
      "At 95  accuracy score is  0.8366907581116407\n",
      "At 96  accuracy score is  0.8460710441334769\n",
      "At 97  accuracy score is  0.8379209595571275\n",
      "At 98  accuracy score is  0.841304013532216\n",
      "At 99  accuracy score is  0.8389973858219283\n",
      "At 64 max_accuracy_score is : 0.8460710441334769\n"
     ]
    },
    {
     "data": {
      "text/plain": [
       "64"
      ]
     },
     "execution_count": 157,
     "metadata": {},
     "output_type": "execute_result"
    }
   ],
   "source": [
    "get_accuracy_score(clf_rf,features,target)"
   ]
  },
  {
   "cell_type": "code",
   "execution_count": 174,
   "id": "28ed6a1b",
   "metadata": {},
   "outputs": [
    {
     "data": {
      "text/plain": [
       "0.841304013532216"
      ]
     },
     "execution_count": 174,
     "metadata": {},
     "output_type": "execute_result"
    }
   ],
   "source": [
    "x_train, x_test, y_train, y_test = train_test_split(features,target,test_size=0.20,random_state=64)\n",
    "clf_rfc=RandomForestClassifier(criterion='entropy',min_samples_leaf=5,max_depth=15,min_samples_split=10,n_estimators=150)\n",
    "x_train, y_train = SMOTE().fit_sample(x_train, y_train)\n",
    "clf_rfc.fit(x_train,y_train)\n",
    "pred_train=clf_rfc.predict(x_train)\n",
    "pred_test=clf_rfc.predict(x_test)\n",
    "rocauc_scoreRF=roc_auc_score(y_test,pred_test)\n",
    "accuracy_scoreRF=accuracy_score(y_test,pred_test)\n",
    "accuracy_scoreRF"
   ]
  },
  {
   "cell_type": "code",
   "execution_count": 175,
   "id": "d935538f",
   "metadata": {},
   "outputs": [
    {
     "name": "stdout",
     "output_type": "stream",
     "text": [
      "Classification Report\n",
      "               precision    recall  f1-score   support\n",
      "\n",
      "           0       0.92      0.87      0.89      4983\n",
      "           1       0.63      0.76      0.69      1520\n",
      "\n",
      "    accuracy                           0.84      6503\n",
      "   macro avg       0.78      0.81      0.79      6503\n",
      "weighted avg       0.86      0.84      0.85      6503\n",
      "\n",
      "Confusion Matrix\n",
      " [[4312  671]\n",
      " [ 361 1159]]\n"
     ]
    }
   ],
   "source": [
    "# classification report\n",
    "print(\"Classification Report\\n\",classification_report(y_test, pred_test))\n",
    "\n",
    "# confusion matrix\n",
    "print(\"Confusion Matrix\\n\",confusion_matrix(y_test, pred_test))"
   ]
  },
  {
   "cell_type": "code",
   "execution_count": 176,
   "id": "1560db14",
   "metadata": {},
   "outputs": [
    {
     "name": "stdout",
     "output_type": "stream",
     "text": [
      "The CV score is : 0.8628856959456908 \n",
      " The accuracy score is:  0.841304013532216\n"
     ]
    }
   ],
   "source": [
    "#So with above data,lets select CV as 4, as most of them as same CV\n",
    "lsScore_selected=cross_val_score(clf_rfc,features,target,cv=4).mean()\n",
    "print(\"The CV score is :\",lsScore_selected,\"\\n The accuracy score is: \",accuracy_scoreRF)"
   ]
  },
  {
   "cell_type": "code",
   "execution_count": 179,
   "id": "4b170392",
   "metadata": {},
   "outputs": [
    {
     "data": {
      "image/png": "[encoded data removed]",
      "text/plain": [
       "<Figure size 432x288 with 1 Axes>"
      ]
     },
     "metadata": {
      "needs_background": "light"
     },
     "output_type": "display_data"
    }
   ],
   "source": [
    "from sklearn.metrics import roc_curve,auc\n",
    "fpr,tpr,thresholds = roc_curve(pred_test,y_test)\n",
    "roc_auc=auc(fpr,tpr)\n",
    "\n",
    "plt.figure()\n",
    "plt.plot(fpr,tpr,color='darkorange',lw=10,label='ROC curve(area =%0.2f)' % roc_auc)\n",
    "plt.plot([0,1],[0,1],color='navy',lw=10,linestyle='--')\n",
    "plt.xlim([0.0,1.0])\n",
    "plt.ylim([0.0,1.05])\n",
    "plt.xlabel('False Positive Rate')\n",
    "plt.ylabel('True Positve Rate')\n",
    "plt.title('Random Forest Prediction')\n",
    "plt.legend(loc=\"lower right\")\n",
    "plt.show()"
   ]
  },
  {
   "cell_type": "code",
   "execution_count": 180,
   "id": "da668592",
   "metadata": {},
   "outputs": [
    {
     "data": {
      "text/plain": [
       "<matplotlib.legend.Legend at 0x2565e3d2370>"
      ]
     },
     "execution_count": 180,
     "metadata": {},
     "output_type": "execute_result"
    },
    {
     "data": {
      "image/png": "[encoded data removed]",
      "text/plain": [
       "<Figure size 432x288 with 1 Axes>"
      ]
     },
     "metadata": {
      "needs_background": "light"
     },
     "output_type": "display_data"
    }
   ],
   "source": [
    "from sklearn.metrics import roc_curve, precision_recall_curve,roc_auc_score, f1_score, confusion_matrix\n",
    "fpr, tpr, thresholds = roc_curve(y_test,clf_rfc.predict_proba(x_test)[:,1],pos_label=1)\n",
    "precision, recall, thresholds = precision_recall_curve(y_test,clf_rfc.predict_proba(x_test)[:,1],pos_label=1)\n",
    "plt.plot(fpr, tpr, label='clf_rfc',lw=5,color=\"orange\")\n",
    "plt.xlabel(\"False Positive Rate\")\n",
    "plt.ylabel(\"True Positive Rate\")\n",
    "plt.title(\"ROC AUC Curve For Random Forest Classifier\")\n",
    "plt.plot([0,1], [0,1], label='Linear Line', color='navy',lw=5,linestyle='--')\n",
    "plt.legend()"
   ]
  },
  {
   "cell_type": "code",
   "execution_count": 181,
   "id": "349470c7",
   "metadata": {},
   "outputs": [
    {
     "data": {
      "text/html": [
       "<div>\n",
       "<style scoped>\n",
       "    .dataframe tbody tr th:only-of-type {\n",
       "        vertical-align: middle;\n",
       "    }\n",
       "\n",
       "    .dataframe tbody tr th {\n",
       "        vertical-align: top;\n",
       "    }\n",
       "\n",
       "    .dataframe thead th {\n",
       "        text-align: right;\n",
       "    }\n",
       "</style>\n",
       "<table border=\"1\" class=\"dataframe\">\n",
       "  <thead>\n",
       "    <tr style=\"text-align: right;\">\n",
       "      <th></th>\n",
       "      <th>Model</th>\n",
       "      <th>Accuracy</th>\n",
       "      <th>Cross Validation Score</th>\n",
       "      <th>Difference(Accuracy-CV)</th>\n",
       "    </tr>\n",
       "  </thead>\n",
       "  <tbody>\n",
       "    <tr>\n",
       "      <th>0</th>\n",
       "      <td>Random Forest</td>\n",
       "      <td>84.130401</td>\n",
       "      <td>86.28857</td>\n",
       "      <td>-2.158168</td>\n",
       "    </tr>\n",
       "  </tbody>\n",
       "</table>\n",
       "</div>"
      ],
      "text/plain": [
       "           Model   Accuracy  Cross Validation Score  Difference(Accuracy-CV)\n",
       "0  Random Forest  84.130401                86.28857                -2.158168"
      ]
     },
     "execution_count": 181,
     "metadata": {},
     "output_type": "execute_result"
    }
   ],
   "source": [
    "score_data = {'Model': ['Random Forest'], \n",
    "              'Accuracy': accuracy_scoreRF*100,\n",
    "              'Cross Validation Score':lsScore_selected*100,\n",
    "              'Difference(Accuracy-CV)':(accuracy_scoreRF-lsScore_selected.mean())*100             \n",
    "             }  \n",
    "\n",
    "df_RF = pd.DataFrame(score_data)  \n",
    "df_RF"
   ]
  },
  {
   "cell_type": "code",
   "execution_count": 185,
   "id": "4d0f4453",
   "metadata": {},
   "outputs": [
    {
     "data": {
      "text/html": [
       "<div>\n",
       "<style scoped>\n",
       "    .dataframe tbody tr th:only-of-type {\n",
       "        vertical-align: middle;\n",
       "    }\n",
       "\n",
       "    .dataframe tbody tr th {\n",
       "        vertical-align: top;\n",
       "    }\n",
       "\n",
       "    .dataframe thead th {\n",
       "        text-align: right;\n",
       "    }\n",
       "</style>\n",
       "<table border=\"1\" class=\"dataframe\">\n",
       "  <thead>\n",
       "    <tr style=\"text-align: right;\">\n",
       "      <th></th>\n",
       "      <th>Model</th>\n",
       "      <th>Accuracy</th>\n",
       "      <th>Cross Validation Score</th>\n",
       "      <th>Difference(Accuracy-CV)</th>\n",
       "    </tr>\n",
       "  </thead>\n",
       "  <tbody>\n",
       "    <tr>\n",
       "      <th>0</th>\n",
       "      <td>Logistic Regression</td>\n",
       "      <td>78.917423</td>\n",
       "      <td>77.201726</td>\n",
       "      <td>1.715696</td>\n",
       "    </tr>\n",
       "    <tr>\n",
       "      <th>1</th>\n",
       "      <td>Decision Tree</td>\n",
       "      <td>81.516223</td>\n",
       "      <td>83.901835</td>\n",
       "      <td>-2.385611</td>\n",
       "    </tr>\n",
       "    <tr>\n",
       "      <th>2</th>\n",
       "      <td>Random Forest</td>\n",
       "      <td>84.130401</td>\n",
       "      <td>86.288570</td>\n",
       "      <td>-2.158168</td>\n",
       "    </tr>\n",
       "    <tr>\n",
       "      <th>3</th>\n",
       "      <td>Naive Byes</td>\n",
       "      <td>80.286022</td>\n",
       "      <td>79.497435</td>\n",
       "      <td>0.788587</td>\n",
       "    </tr>\n",
       "  </tbody>\n",
       "</table>\n",
       "</div>"
      ],
      "text/plain": [
       "                 Model   Accuracy  Cross Validation Score  \\\n",
       "0  Logistic Regression  78.917423               77.201726   \n",
       "1        Decision Tree  81.516223               83.901835   \n",
       "2        Random Forest  84.130401               86.288570   \n",
       "3           Naive Byes  80.286022               79.497435   \n",
       "\n",
       "   Difference(Accuracy-CV)  \n",
       "0                 1.715696  \n",
       "1                -2.385611  \n",
       "2                -2.158168  \n",
       "3                 0.788587  "
      ]
     },
     "execution_count": 185,
     "metadata": {},
     "output_type": "execute_result"
    }
   ],
   "source": [
    "modelDF=pd.concat([df_LR,df_dt,df_RF,df_NB]).reset_index()\n",
    "modelDF.drop(columns=['index'],axis=1,inplace=True)\n",
    "modelDF"
   ]
  },
  {
   "cell_type": "code",
   "execution_count": 186,
   "id": "f7a9dc7d",
   "metadata": {},
   "outputs": [],
   "source": [
    "roc_auc_dict = {} #ROC AUC dict for TPR and FPR values\n",
    "precision_recall_dict = {} #precision recall dictionary\n",
    "\n",
    "def modify_roc_auc_dict(clf, y_test, x_test, name ,modify_dictionary):\n",
    "    # Modifies a dictionary in place and adds keys for ROC AUC metrics\n",
    "    fpr, tpr, thresholds = roc_curve(y_test,clf.predict_proba(x_test)[:,1],pos_label=1)\n",
    "    clf_roc_auc_dict = {'fpr':fpr, 'tpr': tpr, 'thresholds': thresholds}\n",
    "    modify_dictionary[name] = clf_roc_auc_dict\n",
    "    \n",
    "def modify_precision_recall_dict(clf, y_test, x_test, name ,modify_dictionary):\n",
    "    # Modifies a dictionary in place and adds keys for precision recall metrics\n",
    "    precision, recall, thresholds = precision_recall_curve(y_test,clf.predict_proba(x_test)[:,1],pos_label=1)\n",
    "    precision_recall_dict = {'precision':precision, 'recall': recall, 'thresholds': thresholds}\n",
    "    modify_dictionary[name] = precision_recall_dict"
   ]
  },
  {
   "cell_type": "code",
   "execution_count": 187,
   "id": "eaf839ec",
   "metadata": {},
   "outputs": [],
   "source": [
    "def fit_clf(clf, x_train, y_train, x_test, y_test, name='clf'): \n",
    "    clf.fit(x_train, y_train) \n",
    "    y_pred = clf.predict(x_test)\n",
    "    class_report = pd.DataFrame(classification_report(y_test, y_pred, output_dict=True))\n",
    "    class_report['clf'] = name \n",
    "    return class_report"
   ]
  },
  {
   "cell_type": "code",
   "execution_count": 188,
   "id": "64561009",
   "metadata": {},
   "outputs": [
    {
     "data": {
      "text/html": [
       "<div>\n",
       "<style scoped>\n",
       "    .dataframe tbody tr th:only-of-type {\n",
       "        vertical-align: middle;\n",
       "    }\n",
       "\n",
       "    .dataframe tbody tr th {\n",
       "        vertical-align: top;\n",
       "    }\n",
       "\n",
       "    .dataframe thead th {\n",
       "        text-align: right;\n",
       "    }\n",
       "</style>\n",
       "<table border=\"1\" class=\"dataframe\">\n",
       "  <thead>\n",
       "    <tr style=\"text-align: right;\">\n",
       "      <th></th>\n",
       "      <th>0</th>\n",
       "      <th>1</th>\n",
       "      <th>accuracy</th>\n",
       "      <th>macro avg</th>\n",
       "      <th>weighted avg</th>\n",
       "      <th>clf</th>\n",
       "    </tr>\n",
       "  </thead>\n",
       "  <tbody>\n",
       "    <tr>\n",
       "      <th>precision</th>\n",
       "      <td>0.815189</td>\n",
       "      <td>0.557377</td>\n",
       "      <td>0.781332</td>\n",
       "      <td>0.686283</td>\n",
       "      <td>0.754928</td>\n",
       "      <td>Logistic Regression</td>\n",
       "    </tr>\n",
       "    <tr>\n",
       "      <th>recall</th>\n",
       "      <td>0.924142</td>\n",
       "      <td>0.313158</td>\n",
       "      <td>0.781332</td>\n",
       "      <td>0.618650</td>\n",
       "      <td>0.781332</td>\n",
       "      <td>Logistic Regression</td>\n",
       "    </tr>\n",
       "    <tr>\n",
       "      <th>f1-score</th>\n",
       "      <td>0.866253</td>\n",
       "      <td>0.401011</td>\n",
       "      <td>0.781332</td>\n",
       "      <td>0.633632</td>\n",
       "      <td>0.757508</td>\n",
       "      <td>Logistic Regression</td>\n",
       "    </tr>\n",
       "    <tr>\n",
       "      <th>support</th>\n",
       "      <td>4983.000000</td>\n",
       "      <td>1520.000000</td>\n",
       "      <td>0.781332</td>\n",
       "      <td>6503.000000</td>\n",
       "      <td>6503.000000</td>\n",
       "      <td>Logistic Regression</td>\n",
       "    </tr>\n",
       "  </tbody>\n",
       "</table>\n",
       "</div>"
      ],
      "text/plain": [
       "                     0            1  accuracy    macro avg  weighted avg  \\\n",
       "precision     0.815189     0.557377  0.781332     0.686283      0.754928   \n",
       "recall        0.924142     0.313158  0.781332     0.618650      0.781332   \n",
       "f1-score      0.866253     0.401011  0.781332     0.633632      0.757508   \n",
       "support    4983.000000  1520.000000  0.781332  6503.000000   6503.000000   \n",
       "\n",
       "                           clf  \n",
       "precision  Logistic Regression  \n",
       "recall     Logistic Regression  \n",
       "f1-score   Logistic Regression  \n",
       "support    Logistic Regression  "
      ]
     },
     "execution_count": 188,
     "metadata": {},
     "output_type": "execute_result"
    }
   ],
   "source": [
    "lgr_report = fit_clf(lgr, x_train, y_train, x_test, y_test, name='Logistic Regression')\n",
    "lgr_report.head()"
   ]
  },
  {
   "cell_type": "code",
   "execution_count": 189,
   "id": "9272b884",
   "metadata": {},
   "outputs": [
    {
     "data": {
      "text/html": [
       "<div>\n",
       "<style scoped>\n",
       "    .dataframe tbody tr th:only-of-type {\n",
       "        vertical-align: middle;\n",
       "    }\n",
       "\n",
       "    .dataframe tbody tr th {\n",
       "        vertical-align: top;\n",
       "    }\n",
       "\n",
       "    .dataframe thead th {\n",
       "        text-align: right;\n",
       "    }\n",
       "</style>\n",
       "<table border=\"1\" class=\"dataframe\">\n",
       "  <thead>\n",
       "    <tr style=\"text-align: right;\">\n",
       "      <th></th>\n",
       "      <th>0</th>\n",
       "      <th>1</th>\n",
       "      <th>accuracy</th>\n",
       "      <th>macro avg</th>\n",
       "      <th>weighted avg</th>\n",
       "      <th>clf</th>\n",
       "    </tr>\n",
       "  </thead>\n",
       "  <tbody>\n",
       "    <tr>\n",
       "      <th>precision</th>\n",
       "      <td>0.817516</td>\n",
       "      <td>0.614786</td>\n",
       "      <td>0.79348</td>\n",
       "      <td>0.716151</td>\n",
       "      <td>0.770130</td>\n",
       "      <td>NaiveByesClassifier</td>\n",
       "    </tr>\n",
       "    <tr>\n",
       "      <th>recall</th>\n",
       "      <td>0.940397</td>\n",
       "      <td>0.311842</td>\n",
       "      <td>0.79348</td>\n",
       "      <td>0.626120</td>\n",
       "      <td>0.793480</td>\n",
       "      <td>NaiveByesClassifier</td>\n",
       "    </tr>\n",
       "    <tr>\n",
       "      <th>f1-score</th>\n",
       "      <td>0.874662</td>\n",
       "      <td>0.413793</td>\n",
       "      <td>0.79348</td>\n",
       "      <td>0.644227</td>\n",
       "      <td>0.766939</td>\n",
       "      <td>NaiveByesClassifier</td>\n",
       "    </tr>\n",
       "    <tr>\n",
       "      <th>support</th>\n",
       "      <td>4983.000000</td>\n",
       "      <td>1520.000000</td>\n",
       "      <td>0.79348</td>\n",
       "      <td>6503.000000</td>\n",
       "      <td>6503.000000</td>\n",
       "      <td>NaiveByesClassifier</td>\n",
       "    </tr>\n",
       "  </tbody>\n",
       "</table>\n",
       "</div>"
      ],
      "text/plain": [
       "                     0            1  accuracy    macro avg  weighted avg  \\\n",
       "precision     0.817516     0.614786   0.79348     0.716151      0.770130   \n",
       "recall        0.940397     0.311842   0.79348     0.626120      0.793480   \n",
       "f1-score      0.874662     0.413793   0.79348     0.644227      0.766939   \n",
       "support    4983.000000  1520.000000   0.79348  6503.000000   6503.000000   \n",
       "\n",
       "                           clf  \n",
       "precision  NaiveByesClassifier  \n",
       "recall     NaiveByesClassifier  \n",
       "f1-score   NaiveByesClassifier  \n",
       "support    NaiveByesClassifier  "
      ]
     },
     "execution_count": 189,
     "metadata": {},
     "output_type": "execute_result"
    }
   ],
   "source": [
    "naiveByes_report = fit_clf(nb, x_train, y_train, x_test, y_test, name='NaiveByesClassifier')\n",
    "naiveByes_report.head()"
   ]
  },
  {
   "cell_type": "code",
   "execution_count": 190,
   "id": "faa2cb08",
   "metadata": {},
   "outputs": [
    {
     "data": {
      "text/html": [
       "<div>\n",
       "<style scoped>\n",
       "    .dataframe tbody tr th:only-of-type {\n",
       "        vertical-align: middle;\n",
       "    }\n",
       "\n",
       "    .dataframe tbody tr th {\n",
       "        vertical-align: top;\n",
       "    }\n",
       "\n",
       "    .dataframe thead th {\n",
       "        text-align: right;\n",
       "    }\n",
       "</style>\n",
       "<table border=\"1\" class=\"dataframe\">\n",
       "  <thead>\n",
       "    <tr style=\"text-align: right;\">\n",
       "      <th></th>\n",
       "      <th>0</th>\n",
       "      <th>1</th>\n",
       "      <th>accuracy</th>\n",
       "      <th>macro avg</th>\n",
       "      <th>weighted avg</th>\n",
       "      <th>clf</th>\n",
       "    </tr>\n",
       "  </thead>\n",
       "  <tbody>\n",
       "    <tr>\n",
       "      <th>precision</th>\n",
       "      <td>0.926736</td>\n",
       "      <td>0.578133</td>\n",
       "      <td>0.815931</td>\n",
       "      <td>0.752434</td>\n",
       "      <td>0.845254</td>\n",
       "      <td>DecisionTreeClassifier</td>\n",
       "    </tr>\n",
       "    <tr>\n",
       "      <th>recall</th>\n",
       "      <td>0.825005</td>\n",
       "      <td>0.786184</td>\n",
       "      <td>0.815931</td>\n",
       "      <td>0.805595</td>\n",
       "      <td>0.815931</td>\n",
       "      <td>DecisionTreeClassifier</td>\n",
       "    </tr>\n",
       "    <tr>\n",
       "      <th>f1-score</th>\n",
       "      <td>0.872916</td>\n",
       "      <td>0.666295</td>\n",
       "      <td>0.815931</td>\n",
       "      <td>0.769606</td>\n",
       "      <td>0.824621</td>\n",
       "      <td>DecisionTreeClassifier</td>\n",
       "    </tr>\n",
       "    <tr>\n",
       "      <th>support</th>\n",
       "      <td>4983.000000</td>\n",
       "      <td>1520.000000</td>\n",
       "      <td>0.815931</td>\n",
       "      <td>6503.000000</td>\n",
       "      <td>6503.000000</td>\n",
       "      <td>DecisionTreeClassifier</td>\n",
       "    </tr>\n",
       "  </tbody>\n",
       "</table>\n",
       "</div>"
      ],
      "text/plain": [
       "                     0            1  accuracy    macro avg  weighted avg  \\\n",
       "precision     0.926736     0.578133  0.815931     0.752434      0.845254   \n",
       "recall        0.825005     0.786184  0.815931     0.805595      0.815931   \n",
       "f1-score      0.872916     0.666295  0.815931     0.769606      0.824621   \n",
       "support    4983.000000  1520.000000  0.815931  6503.000000   6503.000000   \n",
       "\n",
       "                              clf  \n",
       "precision  DecisionTreeClassifier  \n",
       "recall     DecisionTreeClassifier  \n",
       "f1-score   DecisionTreeClassifier  \n",
       "support    DecisionTreeClassifier  "
      ]
     },
     "execution_count": 190,
     "metadata": {},
     "output_type": "execute_result"
    }
   ],
   "source": [
    "tree_report = fit_clf(decTrees, x_train, y_train, x_test, y_test, name='DecisionTreeClassifier')\n",
    "tree_report.head()"
   ]
  },
  {
   "cell_type": "code",
   "execution_count": 191,
   "id": "842ee4b4",
   "metadata": {},
   "outputs": [
    {
     "data": {
      "text/html": [
       "<div>\n",
       "<style scoped>\n",
       "    .dataframe tbody tr th:only-of-type {\n",
       "        vertical-align: middle;\n",
       "    }\n",
       "\n",
       "    .dataframe tbody tr th {\n",
       "        vertical-align: top;\n",
       "    }\n",
       "\n",
       "    .dataframe thead th {\n",
       "        text-align: right;\n",
       "    }\n",
       "</style>\n",
       "<table border=\"1\" class=\"dataframe\">\n",
       "  <thead>\n",
       "    <tr style=\"text-align: right;\">\n",
       "      <th></th>\n",
       "      <th>0</th>\n",
       "      <th>1</th>\n",
       "      <th>accuracy</th>\n",
       "      <th>macro avg</th>\n",
       "      <th>weighted avg</th>\n",
       "      <th>clf</th>\n",
       "    </tr>\n",
       "  </thead>\n",
       "  <tbody>\n",
       "    <tr>\n",
       "      <th>precision</th>\n",
       "      <td>0.925151</td>\n",
       "      <td>0.628281</td>\n",
       "      <td>0.83992</td>\n",
       "      <td>0.776716</td>\n",
       "      <td>0.855761</td>\n",
       "      <td>RandomForestClassifier</td>\n",
       "    </tr>\n",
       "    <tr>\n",
       "      <th>recall</th>\n",
       "      <td>0.860726</td>\n",
       "      <td>0.771711</td>\n",
       "      <td>0.83992</td>\n",
       "      <td>0.816218</td>\n",
       "      <td>0.839920</td>\n",
       "      <td>RandomForestClassifier</td>\n",
       "    </tr>\n",
       "    <tr>\n",
       "      <th>f1-score</th>\n",
       "      <td>0.891777</td>\n",
       "      <td>0.692648</td>\n",
       "      <td>0.83992</td>\n",
       "      <td>0.792213</td>\n",
       "      <td>0.845233</td>\n",
       "      <td>RandomForestClassifier</td>\n",
       "    </tr>\n",
       "    <tr>\n",
       "      <th>support</th>\n",
       "      <td>4983.000000</td>\n",
       "      <td>1520.000000</td>\n",
       "      <td>0.83992</td>\n",
       "      <td>6503.000000</td>\n",
       "      <td>6503.000000</td>\n",
       "      <td>RandomForestClassifier</td>\n",
       "    </tr>\n",
       "  </tbody>\n",
       "</table>\n",
       "</div>"
      ],
      "text/plain": [
       "                     0            1  accuracy    macro avg  weighted avg  \\\n",
       "precision     0.925151     0.628281   0.83992     0.776716      0.855761   \n",
       "recall        0.860726     0.771711   0.83992     0.816218      0.839920   \n",
       "f1-score      0.891777     0.692648   0.83992     0.792213      0.845233   \n",
       "support    4983.000000  1520.000000   0.83992  6503.000000   6503.000000   \n",
       "\n",
       "                              clf  \n",
       "precision  RandomForestClassifier  \n",
       "recall     RandomForestClassifier  \n",
       "f1-score   RandomForestClassifier  \n",
       "support    RandomForestClassifier  "
      ]
     },
     "execution_count": 191,
     "metadata": {},
     "output_type": "execute_result"
    }
   ],
   "source": [
    "forest_report = fit_clf(clf_rfc, x_train, y_train, x_test, y_test, name='RandomForestClassifier')\n",
    "forest_report.head()"
   ]
  },
  {
   "cell_type": "code",
   "execution_count": 192,
   "id": "2382aaad",
   "metadata": {},
   "outputs": [
    {
     "data": {
      "text/plain": [
       "dict_keys([])"
      ]
     },
     "execution_count": 192,
     "metadata": {},
     "output_type": "execute_result"
    }
   ],
   "source": [
    "#Lets Check the Keys which we have\n",
    "roc_auc_dict.keys()"
   ]
  },
  {
   "cell_type": "code",
   "execution_count": 193,
   "id": "ea9d08e5",
   "metadata": {},
   "outputs": [],
   "source": [
    "modify_roc_auc_dict(clf=lgr,y_test=y_test,x_test=x_test,name='LogisticRegresssion',modify_dictionary=roc_auc_dict)\n",
    "modify_roc_auc_dict(clf=nb,y_test=y_test,x_test=x_test,name='NaiveByesClassifier',modify_dictionary=roc_auc_dict)\n",
    "modify_roc_auc_dict(clf=decTrees,y_test=y_test,x_test=x_test,name='DecisionTreeClassifier',modify_dictionary=roc_auc_dict)\n",
    "modify_roc_auc_dict(clf=clf_rfc,y_test=y_test,x_test=x_test,name='RandomForestClassifier',modify_dictionary=roc_auc_dict)"
   ]
  },
  {
   "cell_type": "code",
   "execution_count": 194,
   "id": "a7d56b20",
   "metadata": {},
   "outputs": [
    {
     "data": {
      "image/png": "[encoded data removed]",
      "text/plain": [
       "<Figure size 432x288 with 1 Axes>"
      ]
     },
     "metadata": {
      "needs_background": "light"
     },
     "output_type": "display_data"
    }
   ],
   "source": [
    "for key in roc_auc_dict:\n",
    "    clf = roc_auc_dict[key]\n",
    "    plt.plot(clf['fpr'], clf['tpr'], label=key,lw=2)\n",
    "plt.xlabel(\"False Positive Rate\")\n",
    "plt.ylabel(\"True Positive Rate\")\n",
    "plt.title(\"ROC AUC Curve for Census Income\")\n",
    "plt.plot([0,1], [0,1], label='Linear Line', color='navy',lw=5,linestyle='--')\n",
    "plt.legend()\n",
    "plt.show()"
   ]
  },
  {
   "cell_type": "markdown",
   "id": "6c60fbdb",
   "metadata": {},
   "source": [
    "We see that Naive Byes Classifier has the least difference between the Accuracy score and the Cross Validation Score and Decision Treee and Random Forest Classifier is slightly overfit. Hence we will select Naive Byes Classifier for our problem."
   ]
  },
  {
   "cell_type": "code",
   "execution_count": 195,
   "id": "9aaab276",
   "metadata": {},
   "outputs": [
    {
     "data": {
      "text/html": [
       "<div>\n",
       "<style scoped>\n",
       "    .dataframe tbody tr th:only-of-type {\n",
       "        vertical-align: middle;\n",
       "    }\n",
       "\n",
       "    .dataframe tbody tr th {\n",
       "        vertical-align: top;\n",
       "    }\n",
       "\n",
       "    .dataframe thead th {\n",
       "        text-align: right;\n",
       "    }\n",
       "</style>\n",
       "<table border=\"1\" class=\"dataframe\">\n",
       "  <thead>\n",
       "    <tr style=\"text-align: right;\">\n",
       "      <th></th>\n",
       "      <th>actual</th>\n",
       "      <th>predicted</th>\n",
       "      <th>Correctly_Predicted</th>\n",
       "    </tr>\n",
       "  </thead>\n",
       "  <tbody>\n",
       "    <tr>\n",
       "      <th>0</th>\n",
       "      <td>1</td>\n",
       "      <td>1</td>\n",
       "      <td>0</td>\n",
       "    </tr>\n",
       "    <tr>\n",
       "      <th>1</th>\n",
       "      <td>1</td>\n",
       "      <td>0</td>\n",
       "      <td>1</td>\n",
       "    </tr>\n",
       "    <tr>\n",
       "      <th>2</th>\n",
       "      <td>1</td>\n",
       "      <td>0</td>\n",
       "      <td>1</td>\n",
       "    </tr>\n",
       "    <tr>\n",
       "      <th>3</th>\n",
       "      <td>0</td>\n",
       "      <td>0</td>\n",
       "      <td>0</td>\n",
       "    </tr>\n",
       "    <tr>\n",
       "      <th>4</th>\n",
       "      <td>1</td>\n",
       "      <td>0</td>\n",
       "      <td>1</td>\n",
       "    </tr>\n",
       "    <tr>\n",
       "      <th>...</th>\n",
       "      <td>...</td>\n",
       "      <td>...</td>\n",
       "      <td>...</td>\n",
       "    </tr>\n",
       "    <tr>\n",
       "      <th>6498</th>\n",
       "      <td>0</td>\n",
       "      <td>0</td>\n",
       "      <td>0</td>\n",
       "    </tr>\n",
       "    <tr>\n",
       "      <th>6499</th>\n",
       "      <td>0</td>\n",
       "      <td>0</td>\n",
       "      <td>0</td>\n",
       "    </tr>\n",
       "    <tr>\n",
       "      <th>6500</th>\n",
       "      <td>0</td>\n",
       "      <td>1</td>\n",
       "      <td>-1</td>\n",
       "    </tr>\n",
       "    <tr>\n",
       "      <th>6501</th>\n",
       "      <td>1</td>\n",
       "      <td>1</td>\n",
       "      <td>0</td>\n",
       "    </tr>\n",
       "    <tr>\n",
       "      <th>6502</th>\n",
       "      <td>0</td>\n",
       "      <td>0</td>\n",
       "      <td>0</td>\n",
       "    </tr>\n",
       "  </tbody>\n",
       "</table>\n",
       "<p>6503 rows × 3 columns</p>\n",
       "</div>"
      ],
      "text/plain": [
       "      actual  predicted  Correctly_Predicted\n",
       "0          1          1                    0\n",
       "1          1          0                    1\n",
       "2          1          0                    1\n",
       "3          0          0                    0\n",
       "4          1          0                    1\n",
       "...      ...        ...                  ...\n",
       "6498       0          0                    0\n",
       "6499       0          0                    0\n",
       "6500       0          1                   -1\n",
       "6501       1          1                    0\n",
       "6502       0          0                    0\n",
       "\n",
       "[6503 rows x 3 columns]"
      ]
     },
     "execution_count": 195,
     "metadata": {},
     "output_type": "execute_result"
    }
   ],
   "source": [
    "#Predicting the test cases\n",
    "predict_Income = pd.DataFrame({ 'actual':  y_test,\n",
    "                                'predicted': nb.predict(x_test),\n",
    "                                'Correctly_Predicted':(y_test)-(nb.predict(x_test))\n",
    "                            })\n",
    "predict_Income"
   ]
  },
  {
   "cell_type": "code",
   "execution_count": 196,
   "id": "66db5a65",
   "metadata": {},
   "outputs": [
    {
     "data": {
      "text/plain": [
       " 0    5160\n",
       " 1    1046\n",
       "-1     297\n",
       "Name: Correctly_Predicted, dtype: int64"
      ]
     },
     "execution_count": 196,
     "metadata": {},
     "output_type": "execute_result"
    }
   ],
   "source": [
    "predict_Income = predict_Income.reset_index()\n",
    "predict_Income['Correctly_Predicted'].value_counts()\n"
   ]
  },
  {
   "cell_type": "code",
   "execution_count": 198,
   "id": "b6c2f900",
   "metadata": {},
   "outputs": [
    {
     "data": {
      "text/plain": [
       "<AxesSubplot:xlabel='Correctly_Predicted', ylabel='count'>"
      ]
     },
     "execution_count": 198,
     "metadata": {},
     "output_type": "execute_result"
    },
    {
     "data": {
      "image/png": "[encoded data removed]",
      "text/plain": [
       "<Figure size 432x288 with 1 Axes>"
      ]
     },
     "metadata": {
      "needs_background": "light"
     },
     "output_type": "display_data"
    }
   ],
   "source": [
    "sns.countplot(predict_Income.Correctly_Predicted)"
   ]
  },
  {
   "cell_type": "markdown",
   "id": "b38468cd",
   "metadata": {},
   "source": [
    "Out of 6503,6206 records were predicted well with our model, Hence the Naive Byes Classification model is performing well."
   ]
  },
  {
   "cell_type": "markdown",
   "id": "3f49f0ee",
   "metadata": {},
   "source": [
    "# Saving the Model"
   ]
  },
  {
   "cell_type": "code",
   "execution_count": 199,
   "id": "d2015554",
   "metadata": {},
   "outputs": [],
   "source": [
    "from joblib import dump , load\n",
    "dump(nb,'Census.joblib')\n",
    "naiveByes_load=load('Census.joblib')"
   ]
  },
  {
   "cell_type": "code",
   "execution_count": 200,
   "id": "78f98326",
   "metadata": {},
   "outputs": [],
   "source": [
    "from tempfile import mkdtemp\n",
    "savedir = mkdtemp()\n",
    "import os\n",
    "filename = os.path.join(savedir, 'Census.joblib')"
   ]
  },
  {
   "cell_type": "code",
   "execution_count": 201,
   "id": "005ea6f2",
   "metadata": {},
   "outputs": [
    {
     "data": {
      "text/plain": [
       "['C:\\\\Users\\\\mum1user\\\\AppData\\\\Local\\\\Temp\\\\tmpp7rpeiwm\\\\Census.joblib']"
      ]
     },
     "execution_count": 201,
     "metadata": {},
     "output_type": "execute_result"
    }
   ],
   "source": [
    "import joblib\n",
    "joblib.dump(nb, filename) \n",
    "#['...Census.joblib']"
   ]
  },
  {
   "cell_type": "code",
   "execution_count": 202,
   "id": "1674d69d",
   "metadata": {},
   "outputs": [
    {
     "data": {
      "text/plain": [
       "GaussianNB()"
      ]
     },
     "execution_count": 202,
     "metadata": {},
     "output_type": "execute_result"
    }
   ],
   "source": [
    "joblib.load(filename)"
   ]
  }
 ],
 "metadata": {
  "kernelspec": {
   "display_name": "Python 3",
   "language": "python",
   "name": "python3"
  },
  "language_info": {
   "codemirror_mode": {
    "name": "ipython",
    "version": 3
   },
   "file_extension": ".py",
   "mimetype": "text/x-python",
   "name": "python",
   "nbconvert_exporter": "python",
   "pygments_lexer": "ipython3",
   "version": "3.8.8"
  }
 },
 "nbformat": 4,
 "nbformat_minor": 5
}
